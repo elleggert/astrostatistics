{
 "cells": [
  {
   "cell_type": "markdown",
   "metadata": {
    "collapsed": true,
    "pycharm": {
     "name": "#%% md\n"
    }
   },
   "source": [
    "### File to prepare number count maps of different galaxy types at various resolutions\n",
    "\n",
    "Todo:\n",
    "\n",
    "1. Remove LMC\n",
    "2. Generate Maps of LRG, ELG, QSO in North and South\n",
    "3. Generate Maps of Targets and of Predicted number of galaxies\n",
    "4. Generate Maps at 256 and at 2048\n",
    "5. Export Maps\n",
    "\n",
    "write_map(filename, m[, nest, dtype, …])"
   ]
  },
  {
   "cell_type": "code",
   "execution_count": null,
   "outputs": [],
   "source": [
    "\n"
   ],
   "metadata": {
    "collapsed": false,
    "pycharm": {
     "name": "#%%\n"
    }
   }
  }
 ],
 "metadata": {
  "kernelspec": {
   "display_name": "Python 3",
   "language": "python",
   "name": "python3"
  },
  "language_info": {
   "codemirror_mode": {
    "name": "ipython",
    "version": 2
   },
   "file_extension": ".py",
   "mimetype": "text/x-python",
   "name": "python",
   "nbconvert_exporter": "python",
   "pygments_lexer": "ipython2",
   "version": "2.7.6"
  }
 },
 "nbformat": 4,
 "nbformat_minor": 0
}