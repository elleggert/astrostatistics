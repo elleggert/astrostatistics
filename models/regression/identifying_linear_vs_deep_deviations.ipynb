{
 "cells": [
  {
   "cell_type": "markdown",
   "metadata": {
    "collapsed": true,
    "pycharm": {
     "name": "#%% md\n"
    }
   },
   "source": [
    "#### Notebook to analyse the distribution of systematics in pixels where Linear and DeepSet deviate"
   ]
  },
  {
   "cell_type": "code",
   "execution_count": 1,
   "outputs": [],
   "source": [
    "import pandas as pd\n",
    "import time\n",
    "import pickle\n",
    "from models.deep_set.set_dataloader import CCD\n",
    "import matplotlib.pyplot as plt\n",
    "import healpy as hp\n",
    "from astropy.io import fits\n",
    "import numpy as np\n"
   ],
   "metadata": {
    "collapsed": false,
    "pycharm": {
     "name": "#%%\n"
    }
   }
  },
  {
   "cell_type": "markdown",
   "source": [
    "Begin with all steps that are only required once\n"
   ],
   "metadata": {
    "collapsed": false,
    "pycharm": {
     "name": "#%% md\n"
    }
   }
  },
  {
   "cell_type": "code",
   "execution_count": 2,
   "outputs": [
    {
     "name": "stdout",
     "output_type": "stream",
     "text": [
      "\n",
      "0.063365 minutes (3.8 seconds) taken to import the dict\n",
      "\n"
     ]
    }
   ],
   "source": [
    "time_start = time.time()\n",
    "\n",
    "# For DECAM, BASS, MzLS\n",
    "with open('../../bricks_data/pixel2ccd_256.pickle', 'rb') as f:\n",
    "    pixel2ccd_dict = pickle.load(f)\n",
    "    f.close()\n",
    "\n",
    "time_end = time.time()\n",
    "time_passed = time_end - time_start\n",
    "print()\n",
    "print(f\"{time_passed / 60:.5} minutes ({time_passed:.3} seconds) taken to import the dict\")\n",
    "print()\n",
    "\n",
    "ccd = CCD()\n"
   ],
   "metadata": {
    "collapsed": false,
    "pycharm": {
     "name": "#%%\n"
    }
   }
  },
  {
   "cell_type": "markdown",
   "source": [
    "Steps:\n",
    "\n",
    "1. Separate corpus by extreme difference in linear and deep"
   ],
   "metadata": {
    "collapsed": false,
    "pycharm": {
     "name": "#%% md\n"
    }
   }
  },
  {
   "cell_type": "code",
   "execution_count": 731,
   "outputs": [],
   "source": [
    "\n",
    "zscore = lambda x: abs((x - x.median()) / x.std())\n"
   ],
   "metadata": {
    "collapsed": false,
    "pycharm": {
     "name": "#%%\n"
    }
   }
  },
  {
   "cell_type": "code",
   "execution_count": 732,
   "outputs": [
    {
     "name": "stdout",
     "output_type": "stream",
     "text": [
      "0        0.634410\n",
      "1        1.099126\n",
      "2        0.598832\n",
      "3        1.274086\n",
      "4        1.264187\n",
      "           ...   \n",
      "86584    0.611190\n",
      "86585    0.872962\n",
      "86586    0.749753\n",
      "86587    1.295438\n",
      "86588    0.843383\n",
      "Name: lrg_Z, Length: 86589, dtype: float64\n",
      "Index(['pixel_id', 'lrg', 'elg', 'qso', 'exposures', 'stellar', 'EBV',\n",
      "       'airmass', 'ccdskysb_g', 'ccdskysb_r', 'ccdskysb_z', 'exptime_g',\n",
      "       'exptime_r', 'exptime_z', 'meansky_g', 'meansky_r', 'meansky_z',\n",
      "       'seeing_g', 'seeing_r', 'seeing_z', 'lrg_lin', 'elg_lin', 'qso_lin',\n",
      "       'lrg_nn', 'elg_nn', 'qso_nn', 'lrg_deep', 'y_gold_x', 'elg_deep',\n",
      "       'y_gold_y', 'qso_deep', 'y_gold', 'lrg_LINEAR_VS_DEEP', 'lrg_Z'],\n",
      "      dtype='object')\n"
     ]
    }
   ],
   "source": [
    "# Calculating the Z-value difference between Deep and Linear Models\n",
    "area = 'des'\n",
    "gal = 'lrg'\n",
    "\n",
    "\n",
    "df_test = pd.read_csv(f'results/{area}_complete.csv')\n",
    "df_test[f'{gal}_LINEAR_VS_DEEP'] = df_test[f'{gal}_lin'] - df_test[f'{gal}_deep']\n",
    "\n",
    "\n",
    "df_test[f'{gal}_Z'] = df_test[f'{gal}_LINEAR_VS_DEEP'].transform(zscore)\n",
    "\n",
    "print(df_test[f'{gal}_Z'])\n",
    "\n",
    "print(df_test.columns)"
   ],
   "metadata": {
    "collapsed": false,
    "pycharm": {
     "name": "#%%\n"
    }
   }
  },
  {
   "cell_type": "code",
   "execution_count": 733,
   "outputs": [],
   "source": [
    "# Separating into two corpus"
   ],
   "metadata": {
    "collapsed": false,
    "pycharm": {
     "name": "#%%\n"
    }
   }
  },
  {
   "cell_type": "code",
   "execution_count": 734,
   "outputs": [
    {
     "name": "stdout",
     "output_type": "stream",
     "text": [
      "3922\n",
      "82667\n",
      "0.04744335708323757\n",
      "     pixel_id  lrg  elg  qso  exposures   stellar       EBV   airmass  \\\n",
      "22     453226   59  138  227   0.293860  0.116279  0.205334  0.392278   \n",
      "24     685850   44  114  176   0.184211  0.302326  0.502214  0.489615   \n",
      "114    487004   43  155  184   0.179825  0.100775  0.174979  0.404565   \n",
      "122    616032   23  112  217   0.236842  0.131783  0.097037  0.616996   \n",
      "138    622091   35  121  138   0.434211  0.093023  0.098474  0.179945   \n",
      "\n",
      "     ccdskysb_g  ccdskysb_r  ...      elg_nn      qso_nn   lrg_deep  y_gold_x  \\\n",
      "22     0.523463    0.548335  ...  131.427368  168.429199  32.966816      59.0   \n",
      "24     0.692145    0.799214  ...  118.098671  179.883362  34.858360      44.0   \n",
      "114    0.670148    0.743473  ...  131.421738  171.682373  32.803375      43.0   \n",
      "122    0.684927    0.686109  ...  120.610825  172.882477  32.452549      23.0   \n",
      "138    0.690534    0.610617  ...  121.208809  152.051834  32.286076      35.0   \n",
      "\n",
      "       elg_deep  y_gold_y    qso_deep  y_gold  lrg_LINEAR_VS_DEEP     lrg_Z  \n",
      "22   126.691391     138.0  166.016998   227.0            1.719152  2.208087  \n",
      "24   119.965103     114.0  168.494400   176.0           -2.953947  2.687875  \n",
      "114  127.004822     155.0  167.093994   184.0            2.546424  3.074812  \n",
      "122  121.860107     112.0  170.590637   217.0            1.596146  2.079214  \n",
      "138  124.053024     121.0  163.595642   138.0           -2.613719  2.331421  \n",
      "\n",
      "[5 rows x 34 columns]\n"
     ]
    }
   ],
   "source": [
    "df_diff = df_test[df_test[f'{gal}_Z'] > 2]\n",
    "df_no_diff = df_test[df_test[f'{gal}_Z'] <= 2]\n",
    "\n",
    "print(len(df_diff))\n",
    "print(len(df_no_diff))\n",
    "print(len(df_diff)/len(df_no_diff))\n",
    "print(df_diff.head())"
   ],
   "metadata": {
    "collapsed": false,
    "pycharm": {
     "name": "#%%\n"
    }
   }
  },
  {
   "cell_type": "markdown",
   "source": [
    "2. Identify all CCDs that cover a given pixel in deepset --> use set for that\n",
    "\n",
    "A. Get all Subpixels for the pixels in the DF\n",
    "B. Get all CCDs for all these subpixels and create a set\n",
    "\n"
   ],
   "metadata": {
    "collapsed": false,
    "pycharm": {
     "name": "#%% md\n"
    }
   }
  },
  {
   "cell_type": "code",
   "execution_count": 735,
   "outputs": [
    {
     "name": "stdout",
     "output_type": "stream",
     "text": [
      "424175\n",
      "Average CCDs per pixel in diff 189.21545130035696\n"
     ]
    },
    {
     "name": "stderr",
     "output_type": "stream",
     "text": [
      "/Users/edgareggert/miniconda3/envs/astro/lib/python3.8/site-packages/pandas/core/generic.py:5494: SettingWithCopyWarning: \n",
      "A value is trying to be set on a copy of a slice from a DataFrame.\n",
      "Try using .loc[row_indexer,col_indexer] = value instead\n",
      "\n",
      "See the caveats in the documentation: https://pandas.pydata.org/pandas-docs/stable/user_guide/indexing.html#returning-a-view-versus-a-copy\n",
      "  self[name] = value\n"
     ]
    }
   ],
   "source": [
    "pix_ids_diff = list(df_diff.pixel_id)\n",
    "ccd_ids_diff = set()\n",
    "\n",
    "ccds_per_pix = []\n",
    "for id in pix_ids_diff:\n",
    "    ccds_per_pix.append(len(pixel2ccd_dict[id]))\n",
    "    # Iterate through all Pixels with large deviations in prediction\n",
    "    for elem in pixel2ccd_dict[id]:\n",
    "        # Add all CCDs to the set --> only unique one's will be retained\n",
    "        ccd_ids_diff.add(elem)\n",
    "\n",
    "print(len(ccd_ids_diff))\n",
    "\n",
    "print(\"Average CCDs per pixel in diff\", sum(ccds_per_pix)/len(ccds_per_pix))\n",
    "\n",
    "df_diff.exposures = np.array(ccds_per_pix)"
   ],
   "metadata": {
    "collapsed": false,
    "pycharm": {
     "name": "#%%\n"
    }
   }
  },
  {
   "cell_type": "code",
   "execution_count": 736,
   "outputs": [
    {
     "name": "stdout",
     "output_type": "stream",
     "text": [
      "[['90.0' '1.03' '1.2327176' '22.71432' '0.23975721' 'r']\n",
      " ['90.0' '1.11' '1.0752146' '23.70075' '0.09727469' 'g']\n",
      " ['90.0' '1.11' '0.99821055' '23.692215' '0.09772081' 'g']\n",
      " ...\n",
      " ['90.0' '1.03' '1.2294203' '22.713154' '0.239' 'r']\n",
      " ['90.0' '1.11' '1.1935278' '22.90093' '0.20443414' 'r']\n",
      " ['90.0' '1.03' '1.2465063' '22.71481' '0.23867364' 'r']]\n"
     ]
    }
   ],
   "source": [
    "\n",
    "\n",
    "# Get the available data for the list CCD ids in the deviating set\n",
    "\n",
    "data_diff = ccd.get_ccds(list(ccd_ids_diff))\n",
    "\n",
    "print(data_diff)"
   ],
   "metadata": {
    "collapsed": false,
    "pycharm": {
     "name": "#%%\n"
    }
   }
  },
  {
   "cell_type": "code",
   "execution_count": 737,
   "outputs": [
    {
     "data": {
      "text/plain": "  exptime airmass      seeing   ccdskysb      meansky filter\n0    90.0    1.03   1.2327176   22.71432   0.23975721      r\n1    90.0    1.11   1.0752146   23.70075   0.09727469      g\n2    90.0    1.11  0.99821055  23.692215   0.09772081      g\n3    90.0    1.11   1.0563654   23.69219  0.097679555      g\n4    90.0    1.11   1.0124565  23.690617   0.09783566      g",
      "text/html": "<div>\n<style scoped>\n    .dataframe tbody tr th:only-of-type {\n        vertical-align: middle;\n    }\n\n    .dataframe tbody tr th {\n        vertical-align: top;\n    }\n\n    .dataframe thead th {\n        text-align: right;\n    }\n</style>\n<table border=\"1\" class=\"dataframe\">\n  <thead>\n    <tr style=\"text-align: right;\">\n      <th></th>\n      <th>exptime</th>\n      <th>airmass</th>\n      <th>seeing</th>\n      <th>ccdskysb</th>\n      <th>meansky</th>\n      <th>filter</th>\n    </tr>\n  </thead>\n  <tbody>\n    <tr>\n      <th>0</th>\n      <td>90.0</td>\n      <td>1.03</td>\n      <td>1.2327176</td>\n      <td>22.71432</td>\n      <td>0.23975721</td>\n      <td>r</td>\n    </tr>\n    <tr>\n      <th>1</th>\n      <td>90.0</td>\n      <td>1.11</td>\n      <td>1.0752146</td>\n      <td>23.70075</td>\n      <td>0.09727469</td>\n      <td>g</td>\n    </tr>\n    <tr>\n      <th>2</th>\n      <td>90.0</td>\n      <td>1.11</td>\n      <td>0.99821055</td>\n      <td>23.692215</td>\n      <td>0.09772081</td>\n      <td>g</td>\n    </tr>\n    <tr>\n      <th>3</th>\n      <td>90.0</td>\n      <td>1.11</td>\n      <td>1.0563654</td>\n      <td>23.69219</td>\n      <td>0.097679555</td>\n      <td>g</td>\n    </tr>\n    <tr>\n      <th>4</th>\n      <td>90.0</td>\n      <td>1.11</td>\n      <td>1.0124565</td>\n      <td>23.690617</td>\n      <td>0.09783566</td>\n      <td>g</td>\n    </tr>\n  </tbody>\n</table>\n</div>"
     },
     "execution_count": 737,
     "metadata": {},
     "output_type": "execute_result"
    }
   ],
   "source": [
    "ccd_df_diff = pd.DataFrame(data_diff, columns=['exptime',\n",
    "                          'airmass',\n",
    "                          'seeing',\n",
    "                          'ccdskysb',\n",
    "                          'meansky',\n",
    "                           'filter'])\n",
    "\n",
    "\n",
    "ccd_df_diff.head()"
   ],
   "metadata": {
    "collapsed": false,
    "pycharm": {
     "name": "#%%\n"
    }
   }
  },
  {
   "cell_type": "markdown",
   "source": [
    "Repeat the same for the pixels that do not have a large difference"
   ],
   "metadata": {
    "collapsed": false
   }
  },
  {
   "cell_type": "code",
   "execution_count": 738,
   "outputs": [
    {
     "name": "stdout",
     "output_type": "stream",
     "text": [
      "2957132\n",
      "Average CCDs per pixel in no_diff 189.67635211148342\n",
      "   pixel_id  lrg  elg  qso  exposures   stellar       EBV   airmass  \\\n",
      "0    400965   26  127  138   0.210526  0.069767  0.223601  0.516562   \n",
      "1    689172   33  121  178   0.368421  0.178295  0.065022  0.181972   \n",
      "2    692796   36  133  199   0.043860  0.147287  0.154664  0.577994   \n",
      "3    602720   36  134  193   0.302632  0.186047  0.142231  0.594274   \n",
      "4    558688   41  150  172   0.267544  0.085271  0.091023  0.558270   \n",
      "\n",
      "   ccdskysb_g  ccdskysb_r  ...      elg_nn      qso_nn   lrg_deep  y_gold_x  \\\n",
      "0    0.550597    0.533751  ...  129.361450  166.119644  32.926765      26.0   \n",
      "1    0.797624    0.778980  ...  121.209236  151.599442  32.421955      33.0   \n",
      "2    0.774864    0.771753  ...  124.348053  173.179855  32.834995      36.0   \n",
      "3    0.736537    0.697164  ...  122.027573  178.936295  32.879860      36.0   \n",
      "4    0.724642    0.711729  ...  124.595261  175.441879  32.193932      41.0   \n",
      "\n",
      "     elg_deep  y_gold_y    qso_deep  y_gold  lrg_LINEAR_VS_DEEP     lrg_Z  \n",
      "0  127.721031     127.0  166.425934   138.0            0.217109  0.634410  \n",
      "1  119.552330     121.0  165.950653   178.0           -1.437517  1.099126  \n",
      "2  125.236351     133.0  169.384399   199.0            0.183150  0.598832  \n",
      "3  123.918152     134.0  169.570892   193.0            0.827667  1.274086  \n",
      "4  123.175621     150.0  169.202820   172.0            0.818218  1.264187  \n",
      "\n",
      "[5 rows x 34 columns]\n",
      "   pixel_id  lrg  elg  qso  exposures   stellar       EBV   airmass  \\\n",
      "0    400965   26  127  138        169  0.069767  0.223601  0.516562   \n",
      "1    689172   33  121  178        205  0.178295  0.065022  0.181972   \n",
      "2    692796   36  133  199        131  0.147287  0.154664  0.577994   \n",
      "3    602720   36  134  193        190  0.186047  0.142231  0.594274   \n",
      "4    558688   41  150  172        182  0.085271  0.091023  0.558270   \n",
      "\n",
      "   ccdskysb_g  ccdskysb_r  ...      elg_nn      qso_nn   lrg_deep  y_gold_x  \\\n",
      "0    0.550597    0.533751  ...  129.361450  166.119644  32.926765      26.0   \n",
      "1    0.797624    0.778980  ...  121.209236  151.599442  32.421955      33.0   \n",
      "2    0.774864    0.771753  ...  124.348053  173.179855  32.834995      36.0   \n",
      "3    0.736537    0.697164  ...  122.027573  178.936295  32.879860      36.0   \n",
      "4    0.724642    0.711729  ...  124.595261  175.441879  32.193932      41.0   \n",
      "\n",
      "     elg_deep  y_gold_y    qso_deep  y_gold  lrg_LINEAR_VS_DEEP     lrg_Z  \n",
      "0  127.721031     127.0  166.425934   138.0            0.217109  0.634410  \n",
      "1  119.552330     121.0  165.950653   178.0           -1.437517  1.099126  \n",
      "2  125.236351     133.0  169.384399   199.0            0.183150  0.598832  \n",
      "3  123.918152     134.0  169.570892   193.0            0.827667  1.274086  \n",
      "4  123.175621     150.0  169.202820   172.0            0.818218  1.264187  \n",
      "\n",
      "[5 rows x 34 columns]\n"
     ]
    },
    {
     "name": "stderr",
     "output_type": "stream",
     "text": [
      "/Users/edgareggert/miniconda3/envs/astro/lib/python3.8/site-packages/pandas/core/generic.py:5494: SettingWithCopyWarning: \n",
      "A value is trying to be set on a copy of a slice from a DataFrame.\n",
      "Try using .loc[row_indexer,col_indexer] = value instead\n",
      "\n",
      "See the caveats in the documentation: https://pandas.pydata.org/pandas-docs/stable/user_guide/indexing.html#returning-a-view-versus-a-copy\n",
      "  self[name] = value\n"
     ]
    }
   ],
   "source": [
    "pix_ids_no_diff = list(df_no_diff.pixel_id)\n",
    "ccd_ids_no_diff = set()\n",
    "\n",
    "ccds_per_pix = []\n",
    "\n",
    "for id in pix_ids_no_diff:\n",
    "    ccds_per_pix.append(len(pixel2ccd_dict[id]))\n",
    "    # Iterate through all Pixels with large deviations in prediction\n",
    "    for elem in pixel2ccd_dict[id]:\n",
    "        # Add all CCDs to the set --> only unique one's will be retained\n",
    "        ccd_ids_no_diff.add(elem)\n",
    "\n",
    "print(len(ccd_ids_no_diff))\n",
    "\n",
    "print(\"Average CCDs per pixel in no_diff\", sum(ccds_per_pix)/len(df_no_diff))\n",
    "print(df_no_diff.head())\n",
    "df_no_diff.exposures = np.array(ccds_per_pix)\n",
    "print(df_no_diff.head())\n"
   ],
   "metadata": {
    "collapsed": false,
    "pycharm": {
     "name": "#%%\n"
    }
   }
  },
  {
   "cell_type": "code",
   "execution_count": 739,
   "outputs": [
    {
     "name": "stdout",
     "output_type": "stream",
     "text": [
      "[['90.0' '1.15' '0.92180294' '22.552658' '3487029200.0' 'r']\n",
      " ['90.0' '1.15' '0.8932992' '22.548573' '3487950300.0' 'r']\n",
      " ['90.0' '1.15' '0.8952435' '22.549988' '3491783400.0' 'r']\n",
      " ...\n",
      " ['141.2' '1.22' '0.73098' '21.707937' '1.541253' 'r']\n",
      " ['141.2' '1.22' '0.83054' '21.708126' '1.5430878' 'r']\n",
      " ['141.2' '1.22' '0.8253' '21.707872' '1.5432674' 'r']]\n"
     ]
    }
   ],
   "source": [
    "# Get the available data for the list CCD ids in the deviating set\n",
    "\n",
    "data_no_diff = ccd.get_ccds(list(ccd_ids_no_diff))\n",
    "\n",
    "print(data_no_diff)"
   ],
   "metadata": {
    "collapsed": false,
    "pycharm": {
     "name": "#%%\n"
    }
   }
  },
  {
   "cell_type": "code",
   "execution_count": 740,
   "outputs": [
    {
     "data": {
      "text/plain": "  exptime airmass      seeing   ccdskysb       meansky filter\n0    90.0    1.15  0.92180294  22.552658  3487029200.0      r\n1    90.0    1.15   0.8932992  22.548573  3487950300.0      r\n2    90.0    1.15   0.8952435  22.549988  3491783400.0      r\n3    90.0    1.15  0.89921355  22.551722  3488412200.0      r\n4    90.0    1.15   0.9768101   22.54857  3489747000.0      r",
      "text/html": "<div>\n<style scoped>\n    .dataframe tbody tr th:only-of-type {\n        vertical-align: middle;\n    }\n\n    .dataframe tbody tr th {\n        vertical-align: top;\n    }\n\n    .dataframe thead th {\n        text-align: right;\n    }\n</style>\n<table border=\"1\" class=\"dataframe\">\n  <thead>\n    <tr style=\"text-align: right;\">\n      <th></th>\n      <th>exptime</th>\n      <th>airmass</th>\n      <th>seeing</th>\n      <th>ccdskysb</th>\n      <th>meansky</th>\n      <th>filter</th>\n    </tr>\n  </thead>\n  <tbody>\n    <tr>\n      <th>0</th>\n      <td>90.0</td>\n      <td>1.15</td>\n      <td>0.92180294</td>\n      <td>22.552658</td>\n      <td>3487029200.0</td>\n      <td>r</td>\n    </tr>\n    <tr>\n      <th>1</th>\n      <td>90.0</td>\n      <td>1.15</td>\n      <td>0.8932992</td>\n      <td>22.548573</td>\n      <td>3487950300.0</td>\n      <td>r</td>\n    </tr>\n    <tr>\n      <th>2</th>\n      <td>90.0</td>\n      <td>1.15</td>\n      <td>0.8952435</td>\n      <td>22.549988</td>\n      <td>3491783400.0</td>\n      <td>r</td>\n    </tr>\n    <tr>\n      <th>3</th>\n      <td>90.0</td>\n      <td>1.15</td>\n      <td>0.89921355</td>\n      <td>22.551722</td>\n      <td>3488412200.0</td>\n      <td>r</td>\n    </tr>\n    <tr>\n      <th>4</th>\n      <td>90.0</td>\n      <td>1.15</td>\n      <td>0.9768101</td>\n      <td>22.54857</td>\n      <td>3489747000.0</td>\n      <td>r</td>\n    </tr>\n  </tbody>\n</table>\n</div>"
     },
     "execution_count": 740,
     "metadata": {},
     "output_type": "execute_result"
    }
   ],
   "source": [
    "ccd_df_no_diff = pd.DataFrame(data_no_diff, columns=['exptime',\n",
    "                          'airmass',\n",
    "                          'seeing',\n",
    "                          'ccdskysb',\n",
    "                          'meansky',\n",
    "                           'filter'])\n",
    "\n",
    "\n",
    "ccd_df_no_diff.head()\n"
   ],
   "metadata": {
    "collapsed": false,
    "pycharm": {
     "name": "#%%\n"
    }
   }
  },
  {
   "cell_type": "markdown",
   "source": [
    "\n",
    "3. Plot difference in inputs for all pixels in each catalogue\n"
   ],
   "metadata": {
    "collapsed": false
   }
  },
  {
   "cell_type": "code",
   "execution_count": 741,
   "outputs": [],
   "source": [
    "pix_metrics = {\"EBV\", \"stellar\",  \"exposures\"}\n",
    "uni_metrics = {\"airmass\", \"filter\"}\n",
    "band_metrics = {'exptime','seeing','ccdskysb','meansky'}"
   ],
   "metadata": {
    "collapsed": false,
    "pycharm": {
     "name": "#%%\n"
    }
   }
  },
  {
   "cell_type": "code",
   "execution_count": 742,
   "outputs": [
    {
     "name": "stdout",
     "output_type": "stream",
     "text": [
      "\n",
      "\n",
      "\n",
      "\n",
      "\n",
      "\n",
      "\n",
      "\n",
      "\n",
      "\n",
      "\n",
      "\n"
     ]
    }
   ],
   "source": [
    "print()\n",
    "print()\n",
    "print()\n",
    "print()\n",
    "print()\n",
    "print()\n",
    "print()\n",
    "print()\n",
    "print()\n",
    "print()\n",
    "print()\n",
    "print()\n",
    "\n",
    "\n",
    "\n"
   ],
   "metadata": {
    "collapsed": false,
    "pycharm": {
     "name": "#%%\n"
    }
   }
  },
  {
   "cell_type": "markdown",
   "source": [
    "# Difference in CCD Metrics for DES - LRG\n",
    "##### Note: Difference is defined as Predictions between Linear and Deep differ by two standard deviations from the median\n",
    "\n",
    "#### &emsp;&emsp;&emsp;&emsp;&emsp;&emsp;&emsp;Linear and Deep Differ &emsp;&emsp;&emsp;&emsp;&emsp;&emsp;&emsp;&emsp;&emsp;&emsp;&emsp;&emsp;&emsp;&emsp;&emsp;&emsp;&emsp;&emsp;  Linear and Deep Agree"
   ],
   "metadata": {
    "collapsed": false,
    "pycharm": {
     "name": "#%% md\n"
    }
   }
  },
  {
   "cell_type": "code",
   "execution_count": 743,
   "outputs": [],
   "source": [
    "figsize = (9, 5)"
   ],
   "metadata": {
    "collapsed": false,
    "pycharm": {
     "name": "#%%\n"
    }
   }
  },
  {
   "cell_type": "code",
   "execution_count": 744,
   "outputs": [
    {
     "data": {
      "text/plain": "<Figure size 648x360 with 2 Axes>",
      "image/png": "[encoded data removed]"
     },
     "metadata": {
      "needs_background": "light"
     },
     "output_type": "display_data"
    }
   ],
   "source": [
    "nrows = 1\n",
    "ncols = 2\n",
    "fig, axes = plt.subplots(nrows=nrows, ncols=ncols, figsize=figsize)\n",
    "\n",
    "df_diff.hist('EBV', ax=axes[0])\n",
    "df_no_diff.hist('EBV', ax=axes[1])\n",
    "plt.show()"
   ],
   "metadata": {
    "collapsed": false,
    "pycharm": {
     "name": "#%%\n"
    }
   }
  },
  {
   "cell_type": "code",
   "execution_count": 745,
   "outputs": [
    {
     "data": {
      "text/plain": "<Figure size 648x360 with 2 Axes>",
      "image/png": "[encoded data removed]"
     },
     "metadata": {
      "needs_background": "light"
     },
     "output_type": "display_data"
    }
   ],
   "source": [
    "nrows = 1\n",
    "ncols = 2\n",
    "fig, axes = plt.subplots(nrows=nrows, ncols=ncols, figsize=figsize)\n",
    "\n",
    "\n",
    "df_diff.hist('stellar', ax=axes[0])\n",
    "df_no_diff.hist('stellar', ax=axes[1])\n",
    "plt.show()\n"
   ],
   "metadata": {
    "collapsed": false,
    "pycharm": {
     "name": "#%%\n"
    }
   }
  },
  {
   "cell_type": "code",
   "execution_count": 746,
   "outputs": [
    {
     "data": {
      "text/plain": "<Figure size 648x360 with 2 Axes>",
      "image/png": "[encoded data removed]"
     },
     "metadata": {
      "needs_background": "light"
     },
     "output_type": "display_data"
    }
   ],
   "source": [
    "nrows = 1\n",
    "ncols = 2\n",
    "fig, axes = plt.subplots(nrows=nrows, ncols=ncols, figsize=figsize)\n",
    "\n",
    "\n",
    "df_diff.hist('exposures', ax=axes[0])\n",
    "df_no_diff.hist('exposures', ax=axes[1])\n",
    "plt.show()\n"
   ],
   "metadata": {
    "collapsed": false,
    "pycharm": {
     "name": "#%%\n"
    }
   }
  },
  {
   "cell_type": "code",
   "execution_count": 747,
   "outputs": [],
   "source": [
    "ccd_df_diff.exptime = ccd_df_diff.exptime.astype(float)\n",
    "ccd_df_diff.airmass = ccd_df_diff.airmass.astype(float)\n",
    "ccd_df_diff.seeing = ccd_df_diff.seeing.astype(float)\n",
    "ccd_df_diff.ccdskysb = ccd_df_diff.ccdskysb.astype(float)\n",
    "ccd_df_diff.meansky = ccd_df_diff.meansky.astype(float)\n",
    "\n",
    "ccd_df_no_diff.exptime = ccd_df_no_diff.exptime.astype(float)\n",
    "ccd_df_no_diff.airmass = ccd_df_no_diff.airmass.astype(float)\n",
    "ccd_df_no_diff.seeing = ccd_df_no_diff.seeing.astype(float)\n",
    "ccd_df_no_diff.ccdskysb = ccd_df_no_diff.ccdskysb.astype(float)\n",
    "ccd_df_no_diff.meansky = ccd_df_no_diff.meansky.astype(float)\n"
   ],
   "metadata": {
    "collapsed": false,
    "pycharm": {
     "name": "#%%\n"
    }
   }
  },
  {
   "cell_type": "code",
   "execution_count": 748,
   "outputs": [
    {
     "data": {
      "text/plain": "<Figure size 648x360 with 2 Axes>",
      "image/png": "[encoded data removed]"
     },
     "metadata": {
      "needs_background": "light"
     },
     "output_type": "display_data"
    }
   ],
   "source": [
    "nrows = 1\n",
    "ncols = 2\n",
    "fig, axes = plt.subplots(nrows=nrows, ncols=ncols, figsize=figsize)\n",
    "\n",
    "ccd_df_diff.hist('airmass', ax=axes[0])\n",
    "ccd_df_no_diff.hist('airmass', ax=axes[1])\n",
    "plt.show()"
   ],
   "metadata": {
    "collapsed": false,
    "pycharm": {
     "name": "#%%\n"
    }
   }
  },
  {
   "cell_type": "code",
   "execution_count": 749,
   "outputs": [
    {
     "name": "stdout",
     "output_type": "stream",
     "text": [
      "\n",
      "\n",
      "\n",
      "\n",
      "\n",
      "\n",
      "\n",
      "\n",
      "\n",
      "\n",
      "\n",
      "\n",
      "\n",
      "\n",
      "\n",
      "\n",
      "\n",
      "\n",
      "\n",
      "\n",
      "\n",
      "\n",
      "\n",
      "\n"
     ]
    }
   ],
   "source": [
    "print()\n",
    "print()\n",
    "print()\n",
    "print()\n",
    "print()\n",
    "print()\n",
    "print()\n",
    "print()\n",
    "print()\n",
    "print()\n",
    "print()\n",
    "print()\n",
    "print()\n",
    "print()\n",
    "print()\n",
    "print()\n",
    "print()\n",
    "print()\n",
    "print()\n",
    "print()\n",
    "print()\n",
    "print()\n",
    "print()\n",
    "print()"
   ],
   "metadata": {
    "collapsed": false,
    "pycharm": {
     "name": "#%%\n"
    }
   }
  },
  {
   "cell_type": "markdown",
   "source": [
    "### Attributes in the G-Band"
   ],
   "metadata": {
    "collapsed": false,
    "pycharm": {
     "name": "#%% md\n"
    }
   }
  },
  {
   "cell_type": "code",
   "execution_count": 750,
   "outputs": [],
   "source": [
    "g_df_col_diff = ccd_df_diff[ccd_df_diff['filter'] == 'g']\n",
    "g_df_col_no_diff = ccd_df_no_diff[ccd_df_no_diff['filter'] == 'g']"
   ],
   "metadata": {
    "collapsed": false,
    "pycharm": {
     "name": "#%%\n"
    }
   }
  },
  {
   "cell_type": "code",
   "execution_count": 751,
   "outputs": [
    {
     "data": {
      "text/plain": "<Figure size 648x360 with 2 Axes>",
      "image/png": "[encoded data removed]"
     },
     "metadata": {
      "needs_background": "light"
     },
     "output_type": "display_data"
    }
   ],
   "source": [
    "cap_min_diff = g_df_col_diff[(g_df_col_diff['exptime'] <= 300) ]\n",
    "cap_min_no_diff = g_df_col_no_diff[(g_df_col_no_diff['exptime'] <= 300)]\n",
    "\n",
    "nrows = 1\n",
    "ncols = 2\n",
    "fig, axes = plt.subplots(nrows=nrows, ncols=ncols, figsize=figsize)\n",
    "\n",
    "cap_min_diff.hist('exptime', ax=axes[0] )#, bins=[0,1000])\n",
    "cap_min_no_diff.hist('exptime', ax=axes[1] )#, bins=[0,1000])\n",
    "plt.show()"
   ],
   "metadata": {
    "collapsed": false,
    "pycharm": {
     "name": "#%%\n"
    }
   }
  },
  {
   "cell_type": "code",
   "execution_count": 752,
   "outputs": [
    {
     "data": {
      "text/plain": "<Figure size 648x360 with 2 Axes>",
      "image/png": "[encoded data removed]"
     },
     "metadata": {
      "needs_background": "light"
     },
     "output_type": "display_data"
    }
   ],
   "source": [
    "cap_min_diff = g_df_col_diff[(g_df_col_diff['seeing'] < 5) ]\n",
    "cap_min_no_diff = g_df_col_no_diff[(g_df_col_no_diff['seeing'] < 5)]\n",
    "\n",
    "nrows = 1\n",
    "ncols = 2\n",
    "fig, axes = plt.subplots(nrows=nrows, ncols=ncols, figsize=figsize)\n",
    "\n",
    "cap_min_diff.hist('seeing', ax=axes[0] )#, bins=[0,1000])\n",
    "cap_min_no_diff.hist('seeing', ax=axes[1] )#, bins=[0,1000])\n",
    "plt.show()"
   ],
   "metadata": {
    "collapsed": false,
    "pycharm": {
     "name": "#%%\n"
    }
   }
  },
  {
   "cell_type": "code",
   "execution_count": 753,
   "outputs": [
    {
     "data": {
      "text/plain": "<Figure size 648x360 with 2 Axes>",
      "image/png": "[encoded data removed]"
     },
     "metadata": {
      "needs_background": "light"
     },
     "output_type": "display_data"
    }
   ],
   "source": [
    "cap_min_diff = g_df_col_diff[(g_df_col_diff['ccdskysb'] > 22) & (g_df_col_diff['ccdskysb'] < 24)]\n",
    "cap_min_no_diff = g_df_col_no_diff[(g_df_col_no_diff['ccdskysb'] >22) & (g_df_col_no_diff['ccdskysb'] < 24)]\n",
    "\n",
    "nrows = 1\n",
    "ncols = 2\n",
    "fig, axes = plt.subplots(nrows=nrows, ncols=ncols, figsize=figsize)\n",
    "\n",
    "cap_min_diff.hist('ccdskysb', ax=axes[0] )#, bins=[0,1000])\n",
    "cap_min_no_diff.hist('ccdskysb', ax=axes[1] )#, bins=[0,1000])\n",
    "plt.show()\n"
   ],
   "metadata": {
    "collapsed": false,
    "pycharm": {
     "name": "#%%\n"
    }
   }
  },
  {
   "cell_type": "code",
   "execution_count": 754,
   "outputs": [
    {
     "data": {
      "text/plain": "<Figure size 648x360 with 2 Axes>",
      "image/png": "[encoded data removed]"
     },
     "metadata": {
      "needs_background": "light"
     },
     "output_type": "display_data"
    }
   ],
   "source": [
    "cap_min_diff = g_df_col_diff[(g_df_col_diff['meansky'] < 0.5) & (g_df_col_diff['meansky'] > -3)]\n",
    "cap_min_no_diff = g_df_col_no_diff[(g_df_col_no_diff['meansky'] < 0.5) & (g_df_col_no_diff['meansky'] > -3)]\n",
    "\n",
    "nrows = 1\n",
    "ncols = 2\n",
    "fig, axes = plt.subplots(nrows=nrows, ncols=ncols, figsize=figsize)\n",
    "\n",
    "cap_min_diff.hist('meansky', ax=axes[0] )#, bins=[0,1000])\n",
    "cap_min_no_diff.hist('meansky', ax=axes[1] )#, bins=[0,1000])\n",
    "plt.show()"
   ],
   "metadata": {
    "collapsed": false,
    "pycharm": {
     "name": "#%%\n"
    }
   }
  },
  {
   "cell_type": "code",
   "execution_count": 755,
   "outputs": [
    {
     "name": "stdout",
     "output_type": "stream",
     "text": [
      "\n",
      "\n",
      "\n",
      "\n",
      "\n",
      "\n",
      "\n",
      "\n",
      "\n",
      "\n",
      "\n",
      "\n",
      "\n",
      "\n",
      "\n",
      "\n",
      "\n",
      "\n",
      "\n",
      "\n",
      "\n",
      "\n",
      "\n",
      "\n",
      "\n",
      "\n",
      "\n",
      "\n",
      "\n",
      "\n",
      "\n",
      "\n"
     ]
    }
   ],
   "source": [
    "print()\n",
    "print()\n",
    "print()\n",
    "print()\n",
    "print()\n",
    "print()\n",
    "print()\n",
    "print()\n",
    "print()\n",
    "print()\n",
    "print()\n",
    "print()\n",
    "print()\n",
    "print()\n",
    "print()\n",
    "print()\n",
    "print()\n",
    "print()\n",
    "print()\n",
    "print()\n",
    "print()\n",
    "print()\n",
    "print()\n",
    "print()\n",
    "print()\n",
    "print()\n",
    "print()\n",
    "print()\n",
    "print()\n",
    "print()\n",
    "print()\n",
    "print()"
   ],
   "metadata": {
    "collapsed": false,
    "pycharm": {
     "name": "#%%\n"
    }
   }
  },
  {
   "cell_type": "markdown",
   "source": [
    "### Attributes in the R-Band"
   ],
   "metadata": {
    "collapsed": false
   }
  },
  {
   "cell_type": "code",
   "execution_count": 756,
   "outputs": [],
   "source": [
    "r_df_col_diff = ccd_df_diff[ccd_df_diff['filter'] == 'r']\n",
    "r_df_col_no_diff = ccd_df_no_diff[ccd_df_no_diff['filter'] == 'r']\n"
   ],
   "metadata": {
    "collapsed": false,
    "pycharm": {
     "name": "#%%\n"
    }
   }
  },
  {
   "cell_type": "code",
   "execution_count": 757,
   "outputs": [
    {
     "data": {
      "text/plain": "<Figure size 648x360 with 2 Axes>",
      "image/png": "[encoded data removed]"
     },
     "metadata": {
      "needs_background": "light"
     },
     "output_type": "display_data"
    }
   ],
   "source": [
    "cap_min_diff = r_df_col_diff[(r_df_col_diff['exptime'] <= 300) ]\n",
    "cap_min_no_diff = r_df_col_no_diff[(r_df_col_no_diff['exptime'] <= 300)]\n",
    "\n",
    "nrows = 1\n",
    "ncols = 2\n",
    "fig, axes = plt.subplots(nrows=nrows, ncols=ncols, figsize=figsize)\n",
    "\n",
    "cap_min_diff.hist('exptime', ax=axes[0] )#, bins=[0,1000])\n",
    "cap_min_no_diff.hist('exptime', ax=axes[1] )#, bins=[0,1000])\n",
    "plt.show()"
   ],
   "metadata": {
    "collapsed": false,
    "pycharm": {
     "name": "#%%\n"
    }
   }
  },
  {
   "cell_type": "code",
   "execution_count": 758,
   "outputs": [
    {
     "data": {
      "text/plain": "<Figure size 648x360 with 2 Axes>",
      "image/png": "[encoded data removed]"
     },
     "metadata": {
      "needs_background": "light"
     },
     "output_type": "display_data"
    }
   ],
   "source": [
    "cap_min_diff = r_df_col_diff[(r_df_col_diff['seeing'] < 2.5) ]\n",
    "cap_min_no_diff = r_df_col_no_diff[(r_df_col_no_diff['seeing'] < 2.5)]\n",
    "\n",
    "nrows = 1\n",
    "ncols = 2\n",
    "fig, axes = plt.subplots(nrows=nrows, ncols=ncols, figsize=figsize)\n",
    "\n",
    "cap_min_diff.hist('seeing', ax=axes[0] )#, bins=[0,1000])\n",
    "cap_min_no_diff.hist('seeing', ax=axes[1] )#, bins=[0,1000])\n",
    "plt.show()"
   ],
   "metadata": {
    "collapsed": false,
    "pycharm": {
     "name": "#%%\n"
    }
   }
  },
  {
   "cell_type": "code",
   "execution_count": 759,
   "outputs": [
    {
     "data": {
      "text/plain": "<Figure size 648x360 with 2 Axes>",
      "image/png": "[encoded data removed]"
     },
     "metadata": {
      "needs_background": "light"
     },
     "output_type": "display_data"
    }
   ],
   "source": [
    "cap_min_diff = r_df_col_diff[(r_df_col_diff['ccdskysb'] > 21) & (r_df_col_diff['ccdskysb'] < 24)]\n",
    "cap_min_no_diff = r_df_col_no_diff[(r_df_col_no_diff['ccdskysb'] >21) & (r_df_col_no_diff['ccdskysb'] < 24)]\n",
    "\n",
    "nrows = 1\n",
    "ncols = 2\n",
    "fig, axes = plt.subplots(nrows=nrows, ncols=ncols, figsize=figsize)\n",
    "\n",
    "cap_min_diff.hist('ccdskysb', ax=axes[0] )#, bins=[0,1000])\n",
    "cap_min_no_diff.hist('ccdskysb', ax=axes[1] )#, bins=[0,1000])\n",
    "plt.show()\n"
   ],
   "metadata": {
    "collapsed": false,
    "pycharm": {
     "name": "#%%\n"
    }
   }
  },
  {
   "cell_type": "code",
   "execution_count": 760,
   "outputs": [
    {
     "data": {
      "text/plain": "<Figure size 648x360 with 2 Axes>",
      "image/png": "[encoded data removed]"
     },
     "metadata": {
      "needs_background": "light"
     },
     "output_type": "display_data"
    }
   ],
   "source": [
    "cap_min_diff = r_df_col_diff[(r_df_col_diff['meansky'] < 1.5) & (r_df_col_diff['meansky'] > -3)]\n",
    "cap_min_no_diff = r_df_col_no_diff[(r_df_col_no_diff['meansky'] < 1.5) & (r_df_col_no_diff['meansky'] > -3)]\n",
    "\n",
    "nrows = 1\n",
    "ncols = 2\n",
    "fig, axes = plt.subplots(nrows=nrows, ncols=ncols, figsize=figsize)\n",
    "\n",
    "cap_min_diff.hist('meansky', ax=axes[0] )#, bins=[0,1000])\n",
    "cap_min_no_diff.hist('meansky', ax=axes[1] )#, bins=[0,1000])\n",
    "plt.show()"
   ],
   "metadata": {
    "collapsed": false,
    "pycharm": {
     "name": "#%%\n"
    }
   }
  },
  {
   "cell_type": "code",
   "execution_count": 761,
   "outputs": [
    {
     "name": "stdout",
     "output_type": "stream",
     "text": [
      "\n",
      "\n",
      "\n",
      "\n",
      "\n",
      "\n",
      "\n",
      "\n",
      "\n",
      "\n",
      "\n",
      "\n",
      "\n",
      "\n",
      "\n",
      "\n",
      "\n",
      "\n",
      "\n",
      "\n",
      "\n",
      "\n",
      "\n",
      "\n",
      "\n",
      "\n",
      "\n",
      "\n",
      "\n",
      "\n",
      "\n",
      "\n"
     ]
    }
   ],
   "source": [
    "print()\n",
    "print()\n",
    "print()\n",
    "print()\n",
    "print()\n",
    "print()\n",
    "print()\n",
    "print()\n",
    "print()\n",
    "print()\n",
    "print()\n",
    "print()\n",
    "print()\n",
    "print()\n",
    "print()\n",
    "print()\n",
    "print()\n",
    "print()\n",
    "print()\n",
    "print()\n",
    "print()\n",
    "print()\n",
    "print()\n",
    "print()\n",
    "print()\n",
    "print()\n",
    "print()\n",
    "print()\n",
    "print()\n",
    "print()\n",
    "print()\n",
    "print()\n"
   ],
   "metadata": {
    "collapsed": false,
    "pycharm": {
     "name": "#%%\n"
    }
   }
  },
  {
   "cell_type": "markdown",
   "source": [
    "### Attributes in the Z-Band"
   ],
   "metadata": {
    "collapsed": false
   }
  },
  {
   "cell_type": "code",
   "execution_count": 762,
   "outputs": [],
   "source": [
    "z_df_col_diff = ccd_df_diff[ccd_df_diff['filter'] == 'z']\n",
    "z_df_col_no_diff = ccd_df_no_diff[ccd_df_no_diff['filter'] == 'z']"
   ],
   "metadata": {
    "collapsed": false,
    "pycharm": {
     "name": "#%%\n"
    }
   }
  },
  {
   "cell_type": "code",
   "execution_count": 763,
   "outputs": [
    {
     "data": {
      "text/plain": "<Figure size 648x360 with 2 Axes>",
      "image/png": "[encoded data removed]"
     },
     "metadata": {
      "needs_background": "light"
     },
     "output_type": "display_data"
    }
   ],
   "source": [
    "cap_min_diff = z_df_col_diff[(z_df_col_diff['exptime'] <= 300) ]\n",
    "cap_min_no_diff = z_df_col_no_diff[(z_df_col_no_diff['exptime'] <= 300)]\n",
    "\n",
    "nrows = 1\n",
    "ncols = 2\n",
    "fig, axes = plt.subplots(nrows=nrows, ncols=ncols, figsize=figsize)\n",
    "\n",
    "cap_min_diff.hist('exptime', ax=axes[0] )#, bins=[0,1000])\n",
    "cap_min_no_diff.hist('exptime', ax=axes[1] )#, bins=[0,1000])\n",
    "plt.show()"
   ],
   "metadata": {
    "collapsed": false,
    "pycharm": {
     "name": "#%%\n"
    }
   }
  },
  {
   "cell_type": "code",
   "execution_count": 764,
   "outputs": [
    {
     "data": {
      "text/plain": "<Figure size 648x360 with 2 Axes>",
      "image/png": "[encoded data removed]"
     },
     "metadata": {
      "needs_background": "light"
     },
     "output_type": "display_data"
    }
   ],
   "source": [
    "cap_min_diff = z_df_col_diff[(z_df_col_diff['seeing'] < 3) ]\n",
    "cap_min_no_diff = z_df_col_no_diff[(z_df_col_no_diff['seeing'] < 3)]\n",
    "\n",
    "nrows = 1\n",
    "ncols = 2\n",
    "fig, axes = plt.subplots(nrows=nrows, ncols=ncols, figsize=figsize)\n",
    "\n",
    "cap_min_diff.hist('seeing', ax=axes[0] )#, bins=[0,1000])\n",
    "cap_min_no_diff.hist('seeing', ax=axes[1] )#, bins=[0,1000])\n",
    "plt.show()"
   ],
   "metadata": {
    "collapsed": false,
    "pycharm": {
     "name": "#%%\n"
    }
   }
  },
  {
   "cell_type": "code",
   "execution_count": 765,
   "outputs": [
    {
     "data": {
      "text/plain": "<Figure size 648x360 with 2 Axes>",
      "image/png": "[encoded data removed]"
     },
     "metadata": {
      "needs_background": "light"
     },
     "output_type": "display_data"
    }
   ],
   "source": [
    "cap_min_diff = z_df_col_diff[(z_df_col_diff['ccdskysb'] > 17) & (z_df_col_diff['ccdskysb'] < 21)]\n",
    "cap_min_no_diff = z_df_col_no_diff[(z_df_col_no_diff['ccdskysb'] >17) & (z_df_col_no_diff['ccdskysb'] < 21)]\n",
    "\n",
    "nrows = 1\n",
    "ncols = 2\n",
    "fig, axes = plt.subplots(nrows=nrows, ncols=ncols, figsize=figsize)\n",
    "\n",
    "cap_min_diff.hist('ccdskysb', ax=axes[0] )#, bins=[0,1000])\n",
    "cap_min_no_diff.hist('ccdskysb', ax=axes[1] )#, bins=[0,1000])\n",
    "plt.show()"
   ],
   "metadata": {
    "collapsed": false,
    "pycharm": {
     "name": "#%%\n"
    }
   }
  },
  {
   "cell_type": "code",
   "execution_count": 766,
   "outputs": [
    {
     "data": {
      "text/plain": "<Figure size 648x360 with 2 Axes>",
      "image/png": "[encoded data removed]"
     },
     "metadata": {
      "needs_background": "light"
     },
     "output_type": "display_data"
    }
   ],
   "source": [
    "cap_min_diff = z_df_col_diff[(z_df_col_diff['meansky'] < 3) & (z_df_col_diff['meansky'] > -3)]\n",
    "cap_min_no_diff = z_df_col_no_diff[(z_df_col_no_diff['meansky'] < 3) & (z_df_col_no_diff['meansky'] > -3)]\n",
    "\n",
    "nrows = 1\n",
    "ncols = 2\n",
    "fig, axes = plt.subplots(nrows=nrows, ncols=ncols, figsize=figsize)\n",
    "\n",
    "cap_min_diff.hist('meansky', ax=axes[0] )#, bins=[0,1000])\n",
    "cap_min_no_diff.hist('meansky', ax=axes[1] )#, bins=[0,1000])\n",
    "plt.show()\n"
   ],
   "metadata": {
    "collapsed": false,
    "pycharm": {
     "name": "#%%\n"
    }
   }
  },
  {
   "cell_type": "code",
   "execution_count": 767,
   "outputs": [
    {
     "name": "stdout",
     "output_type": "stream",
     "text": [
      "Percent g-band exposures of all exposures where Linear and Deep Differ: 0.346%\n",
      "Percent g-band exposures of all exposures where Linear and Deep Agree: 0.351%\n",
      "\n",
      "Percent r-band exposures of all exposures where Linear and Deep Differ:: 0.321%\n",
      "Percent r-band exposures of all exposures where Linear and Deep Agree: 0.321%\n",
      "\n",
      "Percent z-band exposures of all exposures where Linear and Deep Differ:: 0.334%\n",
      "Percent z-band exposures of all exposures where Linear and Deep Agree: 0.328%\n"
     ]
    }
   ],
   "source": [
    "\n",
    "print(f'Percent g-band exposures of all exposures where Linear and Deep Differ: {round(len(g_df_col_diff)/len(ccd_df_diff),3)}%')\n",
    "print(f'Percent g-band exposures of all exposures where Linear and Deep Agree: {round(len(g_df_col_no_diff)/len(ccd_df_no_diff),3)}%')\n",
    "print()\n",
    "print(f'Percent r-band exposures of all exposures where Linear and Deep Differ:: {round(len(r_df_col_diff)/len(ccd_df_diff),3)}%')\n",
    "print(f'Percent r-band exposures of all exposures where Linear and Deep Agree: {round(len(r_df_col_no_diff)/len(ccd_df_no_diff),3)}%')\n",
    "print()\n",
    "print(f'Percent z-band exposures of all exposures where Linear and Deep Differ:: {round(len(z_df_col_diff)/len(ccd_df_diff),3)}%')\n",
    "print(f'Percent z-band exposures of all exposures where Linear and Deep Agree: {round(len(z_df_col_no_diff)/len(ccd_df_no_diff),3)}%')\n",
    "\n",
    "\n",
    "\n",
    "\n"
   ],
   "metadata": {
    "collapsed": false,
    "pycharm": {
     "name": "#%%\n"
    }
   }
  }
 ],
 "metadata": {
  "kernelspec": {
   "display_name": "Python 3",
   "language": "python",
   "name": "python3"
  },
  "language_info": {
   "codemirror_mode": {
    "name": "ipython",
    "version": 2
   },
   "file_extension": ".py",
   "mimetype": "text/x-python",
   "name": "python",
   "nbconvert_exporter": "python",
   "pygments_lexer": "ipython2",
   "version": "2.7.6"
  }
 },
 "nbformat": 4,
 "nbformat_minor": 0
}