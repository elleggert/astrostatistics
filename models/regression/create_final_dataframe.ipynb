{
 "cells": [
  {
   "cell_type": "code",
   "execution_count": null,
   "metadata": {
    "collapsed": true
   },
   "outputs": [],
   "source": [
    "import pandas as pd\n",
    "import matplotlib.pyplot as plt\n",
    "from sklearn import metrics\n",
    "import healpy as hp\n",
    "import numpy as np\n",
    "import matplotlib.cm as cm\n",
    "NSIDE = 512\n",
    "areas = ['north', 'south', 'des']\n",
    "galaxies = ['lrg', 'elg', 'qso', 'glbg', 'rlbg']"
   ]
  },
  {
   "cell_type": "code",
   "execution_count": null,
   "outputs": [],
   "source": [
    "\n",
    "df_north = pd.read_csv(f'../regression/results/north_complete_{NSIDE}.csv')\n",
    "df_south = pd.read_csv(f'../regression/results/south_complete_{NSIDE}.csv')\n",
    "df_des = pd.read_csv(f'../regression/results/des_complete_{NSIDE}.csv')\n",
    "\n",
    "df_deep_north = pd.read_csv(f'../deep_set/results/north_ds_predictions.csv')\n",
    "df_deep_south = pd.read_csv(f'../deep_set/results/south_ds_predictions.csv')\n",
    "df_deep_des = pd.read_csv(f'../deep_set/results/des_ds_predictions.csv')\n",
    "\n",
    "df_north = df_north.merge(df_deep_north, how='inner', on='pixel_id')\n",
    "df_south = df_south.merge(df_deep_south, how='inner', on='pixel_id')\n",
    "df_des = df_des.merge(df_deep_des, how='inner', on='pixel_id')"
   ],
   "metadata": {
    "collapsed": false,
    "pycharm": {
     "name": "#%%\n"
    }
   }
  },
  {
   "cell_type": "code",
   "execution_count": null,
   "outputs": [],
   "source": [
    "# Create final dataframe for Boris, merging everything and dropping relevant columns\n",
    "\n",
    "to_drop = ['exposures', 'hinh',\n",
    "       'gaia', 'gaia12', 'sagitarius', 'stellar', 'EBV', 'airmass',\n",
    "       'ccdskysb_g', 'ccdskysb_r', 'ccdskysb_z', 'ccdskycounts_g',\n",
    "       'ccdskycounts_r', 'ccdskycounts_z', 'seeing_g', 'seeing_r', 'seeing_z']\n",
    "\n",
    "df_north.drop(columns=to_drop, inplace=True)\n",
    "df_south.drop(columns=to_drop, inplace=True)\n",
    "df_des.drop(columns=to_drop, inplace=True)\n",
    "\n",
    "print(df_north.columns)"
   ],
   "metadata": {
    "collapsed": false,
    "pycharm": {
     "name": "#%%\n"
    }
   }
  },
  {
   "cell_type": "code",
   "execution_count": null,
   "outputs": [],
   "source": [
    "df_north.to_csv('../../bricks_data/north_predictions.csv', index=False)\n",
    "df_south.to_csv('../../bricks_data/south_predictions.csv', index=False)\n",
    "df_des.to_csv('../../bricks_data/des_predictions.csv', index=False)\n"
   ],
   "metadata": {
    "collapsed": false,
    "pycharm": {
     "name": "#%%\n"
    }
   }
  }
 ],
 "metadata": {
  "kernelspec": {
   "display_name": "Python 3",
   "language": "python",
   "name": "python3"
  },
  "language_info": {
   "codemirror_mode": {
    "name": "ipython",
    "version": 2
   },
   "file_extension": ".py",
   "mimetype": "text/x-python",
   "name": "python",
   "nbconvert_exporter": "python",
   "pygments_lexer": "ipython2",
   "version": "2.7.6"
  }
 },
 "nbformat": 4,
 "nbformat_minor": 0
}