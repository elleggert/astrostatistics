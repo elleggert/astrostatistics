{
 "cells": [
  {
   "cell_type": "markdown",
   "source": [
    "# Running Regressions on full datasets"
   ],
   "metadata": {
    "collapsed": false
   }
  },
  {
   "cell_type": "code",
   "execution_count": 287,
   "outputs": [
    {
     "name": "stdout",
     "output_type": "stream",
     "text": [
      "1.9.0\n"
     ]
    }
   ],
   "source": [
    "import math\n",
    "\n",
    "import pandas as pd\n",
    "import torch\n",
    "\n",
    "from sklearn.model_selection import train_test_split\n",
    "from sklearn import preprocessing, metrics\n",
    "import statsmodels.api as sm\n",
    "import matplotlib.pyplot as plt\n",
    "\n",
    "print(torch.__version__)\n"
   ],
   "metadata": {
    "collapsed": false,
    "pycharm": {
     "name": "#%%\n"
    }
   }
  },
  {
   "cell_type": "markdown",
   "source": [
    "### Data Preprocessing\n"
   ],
   "metadata": {
    "collapsed": false
   }
  },
  {
   "cell_type": "code",
   "execution_count": 288,
   "outputs": [],
   "source": [
    "area = ['north', 'south', 'des']\n",
    "\n",
    "df_train = pd.read_csv('../../bricks_data/des.csv')\n",
    "#df_train, df_val = train_test_split(df, test_size=0.3, random_state=666, shuffle=True)\n",
    "#df_train, df_test = train_test_split(df_train, test_size=0.5, random_state=666, shuffle=True)\n",
    "df_test = pd.read_csv('../../bricks_data/des_test.csv')\n"
   ],
   "metadata": {
    "collapsed": false,
    "pycharm": {
     "name": "#%%\n"
    }
   }
  },
  {
   "cell_type": "code",
   "execution_count": 289,
   "outputs": [],
   "source": [
    "\n",
    "from sklearn.linear_model import LinearRegression, Ridge, Lasso\n",
    "\n",
    "galaxy_types = ['lrg', 'elg', 'qso']\n",
    "areas = ['north', 'south', 'des']\n",
    "from sklearn.preprocessing import PolynomialFeatures\n",
    "\n",
    "poly = PolynomialFeatures(1)\n"
   ],
   "metadata": {
    "collapsed": false,
    "pycharm": {
     "name": "#%%\n"
    }
   }
  },
  {
   "cell_type": "code",
   "execution_count": 290,
   "outputs": [
    {
     "name": "stdout",
     "output_type": "stream",
     "text": [
      "\n",
      "======== north =========\n",
      "\n",
      "Linear Regression R^2 for lrg, Geometric :  0.015394936169803364.\n",
      "Linear Regression RMSE for lrg, Geometric :  11.87714334087167.\n",
      "Linear Regression MAE for lrg, Geometric :  8.730957429419574.\n",
      "\n",
      "Linear Regression R^2 for elg, Geometric :  0.16444013306651617.\n",
      "Linear Regression RMSE for elg, Geometric :  20.473451956877735.\n",
      "Linear Regression MAE for elg, Geometric :  15.770991680628956.\n",
      "\n",
      "Linear Regression R^2 for qso, Geometric :  0.09568910201664349.\n",
      "Linear Regression RMSE for qso, Geometric :  27.627310169967128.\n",
      "Linear Regression MAE for qso, Geometric :  21.519117586645468.\n",
      "\n",
      "\n",
      "======== south =========\n",
      "\n",
      "Linear Regression R^2 for lrg, Geometric :  0.018278016529419294.\n",
      "Linear Regression RMSE for lrg, Geometric :  11.708979805188887.\n",
      "Linear Regression MAE for lrg, Geometric :  8.52728164208111.\n",
      "\n",
      "Linear Regression R^2 for elg, Geometric :  0.07514136207341826.\n",
      "Linear Regression RMSE for elg, Geometric :  22.36856027973132.\n",
      "Linear Regression MAE for elg, Geometric :  16.771340739323197.\n",
      "\n",
      "Linear Regression R^2 for qso, Geometric :  0.04707553183059021.\n",
      "Linear Regression RMSE for qso, Geometric :  27.472386057681728.\n",
      "Linear Regression MAE for qso, Geometric :  20.35751330831687.\n",
      "\n",
      "\n",
      "======== des =========\n",
      "\n",
      "Linear Regression R^2 for lrg, Geometric :  0.014027155493125387.\n",
      "Linear Regression RMSE for lrg, Geometric :  10.12463169685159.\n",
      "Linear Regression MAE for lrg, Geometric :  7.702954731551655.\n",
      "\n",
      "Linear Regression R^2 for elg, Geometric :  0.058789943416608925.\n",
      "Linear Regression RMSE for elg, Geometric :  18.01669675293079.\n",
      "Linear Regression MAE for elg, Geometric :  14.228298872002975.\n",
      "\n",
      "Linear Regression R^2 for qso, Geometric :  0.04852242916620142.\n",
      "Linear Regression RMSE for qso, Geometric :  24.01815516216244.\n",
      "Linear Regression MAE for qso, Geometric :  18.672568112563276.\n",
      "\n"
     ]
    }
   ],
   "source": [
    "df_test_des = None\n",
    "df_test_north = None\n",
    "df_test_south = None\n",
    "for area in areas:\n",
    "    df_train = pd.read_csv(f'../../bricks_data/{area}.csv')\n",
    "    df_train = df_train.drop(columns=['pixel_id', 'exposures'], axis=1, inplace=False)\n",
    "    df_test = pd.read_csv(f'../../bricks_data/{area}_test.csv')\n",
    "    df_tested = df_test.drop(columns=['pixel_id', 'exposures'], axis=1, inplace=False)\n",
    "\n",
    "    print()\n",
    "    print(f\"======== {area} =========\")\n",
    "    print()\n",
    "    for gal in galaxy_types:\n",
    "        y_train = df_train[gal]  #.to_numpy(copy=True)\n",
    "        X_train = df_train.drop(columns=['lrg', 'elg', 'qso'])  #.to_numpy(copy=True)\n",
    "        X_train = poly.fit_transform(X_train)\n",
    "        y_gold = df_tested[gal]\n",
    "        X_test = df_tested.drop(columns=['lrg', 'elg', 'qso'])\n",
    "        X_test = poly.fit_transform(X_test)\n",
    "        reg = LinearRegression()\n",
    "        reg.fit(X_train, y_train)\n",
    "        y_pred = reg.predict(X_test)\n",
    "        name = f\"{gal}_lin\"\n",
    "        df_test[name] = y_pred\n",
    "        if area == \"north\":\n",
    "            df_test_north = df_test\n",
    "        elif area == \"south\":\n",
    "            df_test_south = df_test\n",
    "        else:\n",
    "            df_test_des = df_test\n",
    "\n",
    "        print(f\"Linear Regression R^2 for {gal}, Geometric :  {metrics.r2_score(y_gold, y_pred)}.\")\n",
    "        print(\n",
    "            f\"Linear Regression RMSE for {gal}, Geometric :  {math.sqrt(metrics.mean_squared_error(y_gold, y_pred))}.\")\n",
    "        print(f\"Linear Regression MAE for {gal}, Geometric :  {metrics.mean_absolute_error(y_gold, y_pred)}.\")\n",
    "\n",
    "        print()\n"
   ],
   "metadata": {
    "collapsed": false,
    "pycharm": {
     "name": "#%%\n"
    }
   }
  },
  {
   "cell_type": "code",
   "execution_count": 291,
   "outputs": [],
   "source": [
    "\n",
    "df_test_north.to_csv('results/north.csv', index=False)\n",
    "df_test_south.to_csv('results/south.csv', index=False)\n",
    "df_test_des.to_csv('results/des.csv', index=False)\n",
    "\n",
    "\n",
    "\n"
   ],
   "metadata": {
    "collapsed": false,
    "pycharm": {
     "name": "#%%\n"
    }
   }
  },
  {
   "cell_type": "code",
   "execution_count": 59,
   "outputs": [
    {
     "data": {
      "text/plain": "            lrg       elg       qso   stellar       EBV   airmass  ccdskysb_g  \\\n18672 -0.080577  0.255223 -0.132988  0.186047  0.422986  0.533872    0.633251   \n41573 -0.325757 -0.267787 -0.295553  0.232558  0.166904  0.528785    0.655700   \n22857  0.409781  0.062112 -0.072779  0.155039  0.220927  0.546604    0.641149   \n43951 -0.172520 -0.074675  0.035598  0.054264  0.119716  0.304057    0.702741   \n78423 -0.233815 -0.179277 -0.102884  0.217054  0.071129  0.459201    0.706938   \n\n       ccdskysb_r  ccdskysb_z  exptime_g  exptime_r  exptime_z     meansky_g  \\\n18672    0.667807    0.468989    0.49574    0.49819    0.49953  1.303977e-09   \n41573    0.785395    0.564151    0.49574    0.49819    0.49953  4.900065e-11   \n22857    0.738988    0.481012    0.49574    0.49819    0.49953  1.300409e-09   \n43951    0.712409    0.410202    0.49574    0.49819    0.49953  1.605942e-01   \n78423    0.716490    0.378699    0.49574    0.49819    0.49953  4.125571e-01   \n\n          meansky_r     meansky_z  seeing_g  seeing_r  seeing_z  \n18672  1.935919e-09  3.466607e-11  0.320309  0.317041  0.477861  \n41573  1.833622e-11  1.997833e-11  0.312848  0.258569  0.359843  \n22857  2.188329e-10  3.274156e-11  0.359590  0.373541  0.433810  \n43951  1.271689e-01  3.706812e-11  0.325845  0.396537  0.211284  \n78423  2.076416e-11  1.263105e-01  0.376258  0.245389  0.384479  ",
      "text/html": "<div>\n<style scoped>\n    .dataframe tbody tr th:only-of-type {\n        vertical-align: middle;\n    }\n\n    .dataframe tbody tr th {\n        vertical-align: top;\n    }\n\n    .dataframe thead th {\n        text-align: right;\n    }\n</style>\n<table border=\"1\" class=\"dataframe\">\n  <thead>\n    <tr style=\"text-align: right;\">\n      <th></th>\n      <th>lrg</th>\n      <th>elg</th>\n      <th>qso</th>\n      <th>stellar</th>\n      <th>EBV</th>\n      <th>airmass</th>\n      <th>ccdskysb_g</th>\n      <th>ccdskysb_r</th>\n      <th>ccdskysb_z</th>\n      <th>exptime_g</th>\n      <th>exptime_r</th>\n      <th>exptime_z</th>\n      <th>meansky_g</th>\n      <th>meansky_r</th>\n      <th>meansky_z</th>\n      <th>seeing_g</th>\n      <th>seeing_r</th>\n      <th>seeing_z</th>\n    </tr>\n  </thead>\n  <tbody>\n    <tr>\n      <th>18672</th>\n      <td>-0.080577</td>\n      <td>0.255223</td>\n      <td>-0.132988</td>\n      <td>0.186047</td>\n      <td>0.422986</td>\n      <td>0.533872</td>\n      <td>0.633251</td>\n      <td>0.667807</td>\n      <td>0.468989</td>\n      <td>0.49574</td>\n      <td>0.49819</td>\n      <td>0.49953</td>\n      <td>1.303977e-09</td>\n      <td>1.935919e-09</td>\n      <td>3.466607e-11</td>\n      <td>0.320309</td>\n      <td>0.317041</td>\n      <td>0.477861</td>\n    </tr>\n    <tr>\n      <th>41573</th>\n      <td>-0.325757</td>\n      <td>-0.267787</td>\n      <td>-0.295553</td>\n      <td>0.232558</td>\n      <td>0.166904</td>\n      <td>0.528785</td>\n      <td>0.655700</td>\n      <td>0.785395</td>\n      <td>0.564151</td>\n      <td>0.49574</td>\n      <td>0.49819</td>\n      <td>0.49953</td>\n      <td>4.900065e-11</td>\n      <td>1.833622e-11</td>\n      <td>1.997833e-11</td>\n      <td>0.312848</td>\n      <td>0.258569</td>\n      <td>0.359843</td>\n    </tr>\n    <tr>\n      <th>22857</th>\n      <td>0.409781</td>\n      <td>0.062112</td>\n      <td>-0.072779</td>\n      <td>0.155039</td>\n      <td>0.220927</td>\n      <td>0.546604</td>\n      <td>0.641149</td>\n      <td>0.738988</td>\n      <td>0.481012</td>\n      <td>0.49574</td>\n      <td>0.49819</td>\n      <td>0.49953</td>\n      <td>1.300409e-09</td>\n      <td>2.188329e-10</td>\n      <td>3.274156e-11</td>\n      <td>0.359590</td>\n      <td>0.373541</td>\n      <td>0.433810</td>\n    </tr>\n    <tr>\n      <th>43951</th>\n      <td>-0.172520</td>\n      <td>-0.074675</td>\n      <td>0.035598</td>\n      <td>0.054264</td>\n      <td>0.119716</td>\n      <td>0.304057</td>\n      <td>0.702741</td>\n      <td>0.712409</td>\n      <td>0.410202</td>\n      <td>0.49574</td>\n      <td>0.49819</td>\n      <td>0.49953</td>\n      <td>1.605942e-01</td>\n      <td>1.271689e-01</td>\n      <td>3.706812e-11</td>\n      <td>0.325845</td>\n      <td>0.396537</td>\n      <td>0.211284</td>\n    </tr>\n    <tr>\n      <th>78423</th>\n      <td>-0.233815</td>\n      <td>-0.179277</td>\n      <td>-0.102884</td>\n      <td>0.217054</td>\n      <td>0.071129</td>\n      <td>0.459201</td>\n      <td>0.706938</td>\n      <td>0.716490</td>\n      <td>0.378699</td>\n      <td>0.49574</td>\n      <td>0.49819</td>\n      <td>0.49953</td>\n      <td>4.125571e-01</td>\n      <td>2.076416e-11</td>\n      <td>1.263105e-01</td>\n      <td>0.376258</td>\n      <td>0.245389</td>\n      <td>0.384479</td>\n    </tr>\n  </tbody>\n</table>\n</div>"
     },
     "execution_count": 59,
     "metadata": {},
     "output_type": "execute_result"
    }
   ],
   "source": [
    "\"\"\"df_train = df_train.drop(columns=['pixel_id', 'exposures'], axis=1, inplace=False)\n",
    "df_val = df_val.drop(columns=['pixel_id', 'exposures'], axis=1, inplace=False)\n",
    "df_test = df_test.drop(columns=['pixel_id', 'exposures'], axis=1, inplace=False)\n",
    "\n",
    "df_train.head()\"\"\""
   ],
   "metadata": {
    "collapsed": false,
    "pycharm": {
     "name": "#%%\n"
    }
   }
  },
  {
   "cell_type": "markdown",
   "source": [
    "# Regression"
   ],
   "metadata": {
    "collapsed": false
   }
  },
  {
   "cell_type": "code",
   "execution_count": 51,
   "outputs": [],
   "source": [
    "from sklearn.linear_model import LinearRegression, Ridge, Lasso\n",
    "\n",
    "galaxy_types = ['lrg', 'elg', 'qso']\n"
   ],
   "metadata": {
    "collapsed": false,
    "pycharm": {
     "name": "#%%\n"
    }
   }
  },
  {
   "cell_type": "code",
   "execution_count": 44,
   "outputs": [
    {
     "data": {
      "text/plain": "Index(['stellar', 'EBV', 'airmass', 'ccdskysb_g', 'ccdskysb_r', 'ccdskysb_z',\n       'exptime_g', 'exptime_r', 'exptime_z', 'meansky_g', 'meansky_r',\n       'meansky_z', 'seeing_g', 'seeing_r', 'seeing_z'],\n      dtype='object')"
     },
     "execution_count": 44,
     "metadata": {},
     "output_type": "execute_result"
    }
   ],
   "source": [
    "X_train = df_train.drop(columns=['lrg', 'elg', 'qso'])\n",
    "X_train.columns"
   ],
   "metadata": {
    "collapsed": false,
    "pycharm": {
     "name": "#%%\n"
    }
   }
  },
  {
   "cell_type": "code",
   "execution_count": 45,
   "outputs": [
    {
     "data": {
      "text/plain": "(130002, 16)"
     },
     "execution_count": 45,
     "metadata": {},
     "output_type": "execute_result"
    }
   ],
   "source": [
    "from sklearn.preprocessing import PolynomialFeatures\n",
    "\n",
    "poly = PolynomialFeatures(1)\n",
    "\n",
    "X_train = df_train.drop(columns=['lrg', 'elg', 'qso'])  #.to_numpy(copy=True)\n",
    "X_train = poly.fit_transform(X_train)\n",
    "\n",
    "X_train.shape"
   ],
   "metadata": {
    "collapsed": false,
    "pycharm": {
     "name": "#%%\n"
    }
   }
  },
  {
   "cell_type": "markdown",
   "source": [
    "### Geometrics"
   ],
   "metadata": {
    "collapsed": false
   }
  },
  {
   "cell_type": "markdown",
   "source": [
    "### Geometric - Linear Regression"
   ],
   "metadata": {
    "collapsed": false
   }
  },
  {
   "cell_type": "code",
   "execution_count": 46,
   "outputs": [
    {
     "name": "stdout",
     "output_type": "stream",
     "text": [
      "Linear Regression R^2 for lrg, Geometric :  0.018980937942204568.\n",
      "Linear Regression MSE for lrg, Geometric :  0.12089498715391635.\n",
      "\n",
      "Linear Regression R^2 for elg, Geometric :  0.07516276265128541.\n",
      "Linear Regression MSE for elg, Geometric :  0.029528829094955834.\n",
      "\n",
      "Linear Regression R^2 for qso, Geometric :  0.04619522895097805.\n",
      "Linear Regression MSE for qso, Geometric :  0.029619841797991615.\n",
      "\n"
     ]
    }
   ],
   "source": [
    "for gal in galaxy_types:\n",
    "    y_train = df_train[gal]  #.to_numpy(copy=True)\n",
    "    X_train = df_train.drop(columns=['lrg', 'elg', 'qso'])  #.to_numpy(copy=True)\n",
    "    #X_train = poly.fit_transform(X_train)\n",
    "    y_gold = df_val[gal]\n",
    "    X_test = df_val.drop(columns=['lrg', 'elg', 'qso'])\n",
    "    #X_test = poly.fit_transform(X_test)\n",
    "    reg = LinearRegression()\n",
    "    reg.fit(X_train, y_train)\n",
    "    y_pred = reg.predict(X_test)\n",
    "\n",
    "    print(f\"Linear Regression R^2 for {gal}, Geometric :  {metrics.r2_score(y_gold, y_pred)}.\")\n",
    "    print(f\"Linear Regression MSE for {gal}, Geometric :  {metrics.mean_squared_error(y_gold, y_pred)}.\")\n",
    "    print()"
   ],
   "metadata": {
    "collapsed": false,
    "pycharm": {
     "name": "#%%\n"
    }
   }
  },
  {
   "cell_type": "markdown",
   "source": [
    "### Geometric - Ridge Regression"
   ],
   "metadata": {
    "collapsed": false
   }
  },
  {
   "cell_type": "code",
   "execution_count": 47,
   "outputs": [
    {
     "name": "stdout",
     "output_type": "stream",
     "text": [
      "Ridge Regression R^2 for lrg, Geometric :  0.018988631375289278.\n",
      "Ridge Regression MSE for lrg, Geometric :  0.12089403906072436.\n",
      "\n",
      "Ridge Regression R^2 for elg, Geometric :  0.07516839202665182.\n",
      "Ridge Regression MSE for elg, Geometric :  0.029528649356450082.\n",
      "\n",
      "Ridge Regression R^2 for qso, Geometric :  0.046201993111527506.\n",
      "Ridge Regression MSE for qso, Geometric :  0.0296196317409952.\n",
      "\n"
     ]
    }
   ],
   "source": [
    "for gal in galaxy_types:\n",
    "    y_train = df_train[gal]  #.to_numpy(copy=True)\n",
    "    X_train = df_train.drop(columns=['lrg', 'elg', 'qso'])  #.to_numpy(copy=True)\n",
    "    X_train = poly.fit_transform(X_train)\n",
    "    y_gold = df_val[gal]\n",
    "    X_test = df_val.drop(columns=['lrg', 'elg', 'qso'])\n",
    "    X_test = poly.fit_transform(X_test)\n",
    "    reg = Ridge()\n",
    "    reg.fit(X_train, y_train)\n",
    "    y_pred = reg.predict(X_test)\n",
    "\n",
    "    print(f\"Ridge Regression R^2 for {gal}, Geometric :  {metrics.r2_score(y_gold, y_pred)}.\")\n",
    "    print(f\"Ridge Regression MSE for {gal}, Geometric :  {metrics.mean_squared_error(y_gold, y_pred)}.\")\n",
    "    print()"
   ],
   "metadata": {
    "collapsed": false,
    "pycharm": {
     "name": "#%%\n"
    }
   }
  },
  {
   "cell_type": "markdown",
   "source": [
    "### Geometric - Lasso Regression"
   ],
   "metadata": {
    "collapsed": false
   }
  },
  {
   "cell_type": "code",
   "execution_count": 10,
   "outputs": [
    {
     "name": "stdout",
     "output_type": "stream",
     "text": [
      "Lasso Regression R^2 for lrg, Geometric :  -2.418299939410673e-06.\n",
      "Lasso Regression MSE for lrg, Geometric :  0.0054751607500748145.\n",
      "\n",
      "Lasso Regression R^2 for elg, Geometric :  -3.152215577451045e-08.\n",
      "Lasso Regression MSE for elg, Geometric :  0.0037760458659981213.\n",
      "\n",
      "Lasso Regression R^2 for qso, Geometric :  -1.135833249299445e-05.\n",
      "Lasso Regression MSE for qso, Geometric :  0.00437451324008519.\n",
      "\n"
     ]
    }
   ],
   "source": [
    "for gal in galaxy_types:\n",
    "    y_train = df_train[gal]  #.to_numpy(copy=True)\n",
    "    X_train = df_train.drop(columns=['lrg', 'elg', 'qso'])  #.to_numpy(copy=True)\n",
    "    X_train = poly.fit_transform(X_train)\n",
    "    y_gold = df_val[gal]\n",
    "    X_test = df_val.drop(columns=['lrg', 'elg', 'qso'])\n",
    "    X_test = poly.fit_transform(X_test)\n",
    "    reg = Lasso()\n",
    "    reg.fit(X_train, y_train)\n",
    "    y_pred = reg.predict(X_test)\n",
    "\n",
    "    print(f\"Lasso Regression R^2 for {gal}, Geometric :  {metrics.r2_score(y_gold, y_pred)}.\")\n",
    "    print(f\"Lasso Regression MSE for {gal}, Geometric :  {metrics.mean_squared_error(y_gold, y_pred)}.\")\n",
    "    print()\n"
   ],
   "metadata": {
    "collapsed": false,
    "pycharm": {
     "name": "#%%\n"
    }
   }
  },
  {
   "cell_type": "code",
   "execution_count": 11,
   "outputs": [],
   "source": [
    "# Using the Best classifier to test on the testset"
   ],
   "metadata": {
    "collapsed": false,
    "pycharm": {
     "name": "#%%\n"
    }
   }
  },
  {
   "cell_type": "code",
   "execution_count": 60,
   "outputs": [
    {
     "name": "stdout",
     "output_type": "stream",
     "text": [
      "Results for full dataset on unseen test-set\n",
      "Linear Regression R^2 for lrg, Geometric :  0.013128428697120276.\n",
      "Linear Regression MSE for lrg, Geometric :  0.09540153389842199.\n",
      "\n",
      "Linear Regression R^2 for elg, Geometric :  0.05983083094766639.\n",
      "Linear Regression MSE for elg, Geometric :  0.020893342318513523.\n",
      "\n",
      "Linear Regression R^2 for qso, Geometric :  0.048467717066127736.\n",
      "Linear Regression MSE for qso, Geometric :  0.020696656891841053.\n",
      "\n"
     ]
    }
   ],
   "source": [
    "poly = PolynomialFeatures(1)\n",
    "\n",
    "# Stacking Train and Val Set\n",
    "print(\"Results for full dataset on unseen test-set\")\n",
    "for gal in galaxy_types:\n",
    "    y_train = df_train[gal]  #.to_numpy(copy=True)\n",
    "    X_train = df_train.drop(columns=['lrg', 'elg', 'qso'])  #.to_numpy(copy=True)\n",
    "    #X_train = poly.fit_transform(X_train)\n",
    "    y_gold = df_test[gal]\n",
    "    X_test = df_test.drop(columns=['lrg', 'elg', 'qso'])\n",
    "    #X_test = poly.fit_transform(X_test)\n",
    "    reg = LinearRegression()\n",
    "    reg.fit(X_train, y_train)\n",
    "    y_pred = reg.predict(X_test)\n",
    "\n",
    "    print(f\"Linear Regression R^2 for {gal}, Geometric :  {metrics.r2_score(y_gold, y_pred)}.\")\n",
    "    print(f\"Linear Regression MSE for {gal}, Geometric :  {metrics.mean_squared_error(y_gold, y_pred)}.\")\n",
    "    print()"
   ],
   "metadata": {
    "collapsed": false,
    "pycharm": {
     "name": "#%%\n"
    }
   }
  },
  {
   "cell_type": "code",
   "execution_count": 25,
   "outputs": [
    {
     "name": "stdout",
     "output_type": "stream",
     "text": [
      "Results for full dataset on unseen test-set\n",
      "Linear Regression R^2 for lrg, Geometric :  0.0216397547590933.\n",
      "Linear Regression MSE for lrg, Geometric :  0.0945787383235633.\n",
      "\n",
      "Linear Regression R^2 for elg, Geometric :  0.08222583506575165.\n",
      "Linear Regression MSE for elg, Geometric :  0.020395659026329723.\n",
      "\n",
      "Linear Regression R^2 for qso, Geometric :  0.07628248357228729.\n",
      "Linear Regression MSE for qso, Geometric :  0.020091661465800777.\n",
      "\n"
     ]
    }
   ],
   "source": [
    "poly = PolynomialFeatures(3)\n",
    "\n",
    "# Stacking Train and Val Set\n",
    "print(\"Results for full dataset on unseen test-set\")\n",
    "for gal in galaxy_types:\n",
    "    y_train = df_train[gal]  #.to_numpy(copy=True)\n",
    "    X_train = df_train.drop(columns=['lrg', 'elg', 'qso'])  #.to_numpy(copy=True)\n",
    "    X_train = poly.fit_transform(X_train)\n",
    "    y_gold = df_test[gal]\n",
    "    X_test = df_test.drop(columns=['lrg', 'elg', 'qso'])\n",
    "    X_test = poly.fit_transform(X_test)\n",
    "    reg = Ridge()\n",
    "    reg.fit(X_train, y_train)\n",
    "    y_pred = reg.predict(X_test)\n",
    "\n",
    "    print(f\"Linear Regression R^2 for {gal}, Geometric :  {metrics.r2_score(y_gold, y_pred)}.\")\n",
    "    print(f\"Linear Regression MSE for {gal}, Geometric :  {metrics.mean_squared_error(y_gold, y_pred)}.\")\n",
    "    print()"
   ],
   "metadata": {
    "collapsed": false,
    "pycharm": {
     "name": "#%%\n"
    }
   }
  },
  {
   "cell_type": "markdown",
   "source": [
    "### Running Regression on the TrainSet to compare to previous results"
   ],
   "metadata": {
    "collapsed": false
   }
  },
  {
   "cell_type": "code",
   "source": [
    "df_geometric = pd.read_csv('../../bricks_data/train.csv')\n",
    "\n",
    "df_geometric_reg = df_geometric.drop(columns=['pixel_id', 'exposures', 'Z'])\n",
    "df_geometric_reg.head()"
   ],
   "metadata": {
    "collapsed": false,
    "pycharm": {
     "name": "#%%\n"
    }
   },
   "execution_count": 13,
   "outputs": [
    {
     "data": {
      "text/plain": "        lrg       elg       qso   stellar       EBV   airmass  ccdskysb_g  \\\n0  0.255556  0.402256  0.409396  0.205357  0.171079  0.140918    0.578889   \n1  0.288889  0.421053  0.406040  0.049107  0.016430  0.013747    0.630872   \n2  0.688889  0.503759  0.704698  0.058036  0.062640  0.152529    0.626110   \n3  0.255556  0.255639  0.228188  0.062500  0.618593  0.411554    0.617269   \n4  0.411111  0.488722  0.503356  0.120536  0.200576  0.304894    0.651783   \n\n   ccdskysb_r  ccdskysb_z  exptime_g  ...     meansky_z  galdepth_g  \\\n0    0.518889    0.592086   0.175793  ...  5.513443e-01    0.480686   \n1    0.672316    0.438492   0.168644  ...  2.840472e-11    0.511487   \n2    0.577056    0.605068   0.175793  ...  3.579294e-01    0.596021   \n3    0.568405    0.628472   0.548694  ...  5.566131e-11    0.832612   \n4    0.620234    0.540708   0.405109  ...  8.777782e-11    0.748213   \n\n   galdepth_r  galdepth_z  seeing_g  seeing_r  seeing_z  mjd_obs_g  mjd_obs_r  \\\n0    0.674590    0.283245  0.301927  0.311998  0.129479   0.388261   0.465611   \n1    0.582933    0.750504  0.211973  0.091550  0.120701   0.518587   0.498003   \n2    0.695755    0.299528  0.269886  0.283358  0.172838   0.510175   0.522231   \n3    0.766486    0.719828  0.299032  0.254469  0.209068   0.861329   0.798231   \n4    0.680751    0.705337  0.411908  0.393542  0.130524   0.764569   0.798398   \n\n   mjd_obs_z  \n0   0.436698  \n1   0.443110  \n2   0.454674  \n3   0.806972  \n4   0.271826  \n\n[5 rows x 24 columns]",
      "text/html": "<div>\n<style scoped>\n    .dataframe tbody tr th:only-of-type {\n        vertical-align: middle;\n    }\n\n    .dataframe tbody tr th {\n        vertical-align: top;\n    }\n\n    .dataframe thead th {\n        text-align: right;\n    }\n</style>\n<table border=\"1\" class=\"dataframe\">\n  <thead>\n    <tr style=\"text-align: right;\">\n      <th></th>\n      <th>lrg</th>\n      <th>elg</th>\n      <th>qso</th>\n      <th>stellar</th>\n      <th>EBV</th>\n      <th>airmass</th>\n      <th>ccdskysb_g</th>\n      <th>ccdskysb_r</th>\n      <th>ccdskysb_z</th>\n      <th>exptime_g</th>\n      <th>...</th>\n      <th>meansky_z</th>\n      <th>galdepth_g</th>\n      <th>galdepth_r</th>\n      <th>galdepth_z</th>\n      <th>seeing_g</th>\n      <th>seeing_r</th>\n      <th>seeing_z</th>\n      <th>mjd_obs_g</th>\n      <th>mjd_obs_r</th>\n      <th>mjd_obs_z</th>\n    </tr>\n  </thead>\n  <tbody>\n    <tr>\n      <th>0</th>\n      <td>0.255556</td>\n      <td>0.402256</td>\n      <td>0.409396</td>\n      <td>0.205357</td>\n      <td>0.171079</td>\n      <td>0.140918</td>\n      <td>0.578889</td>\n      <td>0.518889</td>\n      <td>0.592086</td>\n      <td>0.175793</td>\n      <td>...</td>\n      <td>5.513443e-01</td>\n      <td>0.480686</td>\n      <td>0.674590</td>\n      <td>0.283245</td>\n      <td>0.301927</td>\n      <td>0.311998</td>\n      <td>0.129479</td>\n      <td>0.388261</td>\n      <td>0.465611</td>\n      <td>0.436698</td>\n    </tr>\n    <tr>\n      <th>1</th>\n      <td>0.288889</td>\n      <td>0.421053</td>\n      <td>0.406040</td>\n      <td>0.049107</td>\n      <td>0.016430</td>\n      <td>0.013747</td>\n      <td>0.630872</td>\n      <td>0.672316</td>\n      <td>0.438492</td>\n      <td>0.168644</td>\n      <td>...</td>\n      <td>2.840472e-11</td>\n      <td>0.511487</td>\n      <td>0.582933</td>\n      <td>0.750504</td>\n      <td>0.211973</td>\n      <td>0.091550</td>\n      <td>0.120701</td>\n      <td>0.518587</td>\n      <td>0.498003</td>\n      <td>0.443110</td>\n    </tr>\n    <tr>\n      <th>2</th>\n      <td>0.688889</td>\n      <td>0.503759</td>\n      <td>0.704698</td>\n      <td>0.058036</td>\n      <td>0.062640</td>\n      <td>0.152529</td>\n      <td>0.626110</td>\n      <td>0.577056</td>\n      <td>0.605068</td>\n      <td>0.175793</td>\n      <td>...</td>\n      <td>3.579294e-01</td>\n      <td>0.596021</td>\n      <td>0.695755</td>\n      <td>0.299528</td>\n      <td>0.269886</td>\n      <td>0.283358</td>\n      <td>0.172838</td>\n      <td>0.510175</td>\n      <td>0.522231</td>\n      <td>0.454674</td>\n    </tr>\n    <tr>\n      <th>3</th>\n      <td>0.255556</td>\n      <td>0.255639</td>\n      <td>0.228188</td>\n      <td>0.062500</td>\n      <td>0.618593</td>\n      <td>0.411554</td>\n      <td>0.617269</td>\n      <td>0.568405</td>\n      <td>0.628472</td>\n      <td>0.548694</td>\n      <td>...</td>\n      <td>5.566131e-11</td>\n      <td>0.832612</td>\n      <td>0.766486</td>\n      <td>0.719828</td>\n      <td>0.299032</td>\n      <td>0.254469</td>\n      <td>0.209068</td>\n      <td>0.861329</td>\n      <td>0.798231</td>\n      <td>0.806972</td>\n    </tr>\n    <tr>\n      <th>4</th>\n      <td>0.411111</td>\n      <td>0.488722</td>\n      <td>0.503356</td>\n      <td>0.120536</td>\n      <td>0.200576</td>\n      <td>0.304894</td>\n      <td>0.651783</td>\n      <td>0.620234</td>\n      <td>0.540708</td>\n      <td>0.405109</td>\n      <td>...</td>\n      <td>8.777782e-11</td>\n      <td>0.748213</td>\n      <td>0.680751</td>\n      <td>0.705337</td>\n      <td>0.411908</td>\n      <td>0.393542</td>\n      <td>0.130524</td>\n      <td>0.764569</td>\n      <td>0.798398</td>\n      <td>0.271826</td>\n    </tr>\n  </tbody>\n</table>\n<p>5 rows × 24 columns</p>\n</div>"
     },
     "execution_count": 13,
     "metadata": {},
     "output_type": "execute_result"
    }
   ]
  },
  {
   "cell_type": "code",
   "execution_count": 14,
   "outputs": [
    {
     "data": {
      "text/plain": "Index(['lrg', 'elg', 'qso', 'stellar', 'EBV', 'airmass', 'ccdskysb_g',\n       'ccdskysb_r', 'ccdskysb_z', 'exptime_g', 'exptime_r', 'exptime_z',\n       'meansky_g', 'meansky_r', 'meansky_z', 'galdepth_g', 'galdepth_r',\n       'galdepth_z', 'seeing_g', 'seeing_r', 'seeing_z', 'mjd_obs_g',\n       'mjd_obs_r', 'mjd_obs_z'],\n      dtype='object')"
     },
     "execution_count": 14,
     "metadata": {},
     "output_type": "execute_result"
    }
   ],
   "source": [
    "y_lrg = df_geometric_reg['lrg']  #.to_numpy(copy=True)\n",
    "y_elg = df_geometric_reg['elg']  #.to_numpy(copy=True)\n",
    "y_qso = df_geometric_reg['qso']  #.to_numpy(copy=True)\n",
    "\n",
    "df_geometric_reg.columns"
   ],
   "metadata": {
    "collapsed": false,
    "pycharm": {
     "name": "#%%\n"
    }
   }
  },
  {
   "cell_type": "code",
   "execution_count": 20,
   "outputs": [
    {
     "name": "stdout",
     "output_type": "stream",
     "text": [
      "    stellar       EBV   airmass  ccdskysb_g  ccdskysb_r  ccdskysb_z  \\\n",
      "0  0.205357  0.171079  0.140918    0.578889    0.518889    0.592086   \n",
      "1  0.049107  0.016430  0.013747    0.630872    0.672316    0.438492   \n",
      "2  0.058036  0.062640  0.152529    0.626110    0.577056    0.605068   \n",
      "3  0.062500  0.618593  0.411554    0.617269    0.568405    0.628472   \n",
      "4  0.120536  0.200576  0.304894    0.651783    0.620234    0.540708   \n",
      "\n",
      "   exptime_g  exptime_r  exptime_z     meansky_g  ...     meansky_z  \\\n",
      "0   0.175793   0.214407   0.277244  4.425635e-01  ...  5.513443e-01   \n",
      "1   0.168644   0.112169   0.236833  2.562594e-10  ...  2.840472e-11   \n",
      "2   0.175793   0.214407   0.277244  2.103379e-01  ...  3.579294e-01   \n",
      "3   0.548694   0.164378   0.473245  7.195705e-11  ...  5.566131e-11   \n",
      "4   0.405109   0.131026   0.439217  6.489902e-11  ...  8.777782e-11   \n",
      "\n",
      "   galdepth_g  galdepth_r  galdepth_z  seeing_g  seeing_r  seeing_z  \\\n",
      "0    0.480686    0.674590    0.283245  0.301927  0.311998  0.129479   \n",
      "1    0.511487    0.582933    0.750504  0.211973  0.091550  0.120701   \n",
      "2    0.596021    0.695755    0.299528  0.269886  0.283358  0.172838   \n",
      "3    0.832612    0.766486    0.719828  0.299032  0.254469  0.209068   \n",
      "4    0.748213    0.680751    0.705337  0.411908  0.393542  0.130524   \n",
      "\n",
      "   mjd_obs_g  mjd_obs_r  mjd_obs_z  \n",
      "0   0.388261   0.465611   0.436698  \n",
      "1   0.518587   0.498003   0.443110  \n",
      "2   0.510175   0.522231   0.454674  \n",
      "3   0.861329   0.798231   0.806972  \n",
      "4   0.764569   0.798398   0.271826  \n",
      "\n",
      "[5 rows x 21 columns]\n"
     ]
    }
   ],
   "source": [
    "X = df_geometric_reg.drop(columns=['lrg', 'elg', 'qso'])  #.to_numpy(copy=True)\n",
    "print(X.head())"
   ],
   "metadata": {
    "collapsed": false,
    "pycharm": {
     "name": "#%%\n"
    }
   }
  },
  {
   "cell_type": "code",
   "source": [
    "print(len(y_lrg))\n",
    "print(len(X))"
   ],
   "metadata": {
    "collapsed": false,
    "pycharm": {
     "name": "#%%\n"
    }
   },
   "execution_count": 21,
   "outputs": [
    {
     "name": "stdout",
     "output_type": "stream",
     "text": [
      "217027\n",
      "217027\n"
     ]
    }
   ]
  },
  {
   "cell_type": "code",
   "execution_count": 25,
   "outputs": [
    {
     "name": "stdout",
     "output_type": "stream",
     "text": [
      "                                 OLS Regression Results                                \n",
      "=======================================================================================\n",
      "Dep. Variable:                    lrg   R-squared (uncentered):                   0.884\n",
      "Model:                            OLS   Adj. R-squared (uncentered):              0.884\n",
      "Method:                 Least Squares   F-statistic:                          7.840e+04\n",
      "Date:                Thu, 05 Aug 2021   Prob (F-statistic):                        0.00\n",
      "Time:                        19:21:44   Log-Likelihood:                      1.3521e+05\n",
      "No. Observations:              217027   AIC:                                 -2.704e+05\n",
      "Df Residuals:                  217006   BIC:                                 -2.702e+05\n",
      "Df Model:                          21                                                  \n",
      "Covariance Type:            nonrobust                                                  \n",
      "==============================================================================\n",
      "                 coef    std err          t      P>|t|      [0.025      0.975]\n",
      "------------------------------------------------------------------------------\n",
      "stellar        0.1797      0.003     71.077      0.000       0.175       0.185\n",
      "EBV           -0.1197      0.003    -37.864      0.000      -0.126      -0.114\n",
      "airmass        0.0190      0.003      7.578      0.000       0.014       0.024\n",
      "ccdskysb_g    -0.0039      0.005     -0.729      0.466      -0.014       0.007\n",
      "ccdskysb_r     0.1346      0.005     26.690      0.000       0.125       0.145\n",
      "ccdskysb_z     0.0312      0.006      5.444      0.000       0.020       0.042\n",
      "exptime_g      0.0458      0.004     10.652      0.000       0.037       0.054\n",
      "exptime_r      0.1388      0.004     38.590      0.000       0.132       0.146\n",
      "exptime_z     -0.0199      0.004     -5.670      0.000      -0.027      -0.013\n",
      "meansky_g      0.0077      0.004      1.917      0.055      -0.000       0.016\n",
      "meansky_r      0.0137      0.004      3.398      0.001       0.006       0.022\n",
      "meansky_z      0.0400      0.004     11.343      0.000       0.033       0.047\n",
      "galdepth_g     0.0996      0.006     16.584      0.000       0.088       0.111\n",
      "galdepth_r     0.0316      0.005      5.781      0.000       0.021       0.042\n",
      "galdepth_z     0.1878      0.004     46.108      0.000       0.180       0.196\n",
      "seeing_g      -0.0444      0.007     -6.792      0.000      -0.057      -0.032\n",
      "seeing_r      -0.0702      0.006    -12.212      0.000      -0.081      -0.059\n",
      "seeing_z       0.1539      0.006     23.917      0.000       0.141       0.167\n",
      "mjd_obs_g      0.0366      0.004      9.043      0.000       0.029       0.044\n",
      "mjd_obs_r     -0.0390      0.004     -9.560      0.000      -0.047      -0.031\n",
      "mjd_obs_z      0.0295      0.003     10.041      0.000       0.024       0.035\n",
      "==============================================================================\n",
      "Omnibus:                    19768.985   Durbin-Watson:                   2.000\n",
      "Prob(Omnibus):                  0.000   Jarque-Bera (JB):            35786.230\n",
      "Skew:                           0.640   Prob(JB):                         0.00\n",
      "Kurtosis:                       4.524   Cond. No.                         70.2\n",
      "==============================================================================\n",
      "\n",
      "Notes:\n",
      "[1] R² is computed without centering (uncentered) since the model does not contain a constant.\n",
      "[2] Standard Errors assume that the covariance matrix of the errors is correctly specified.\n",
      "\n",
      "Regression R^2 for lrg, Geometric :  0.005458063970417593.\n",
      "\n",
      "                                 OLS Regression Results                                \n",
      "=======================================================================================\n",
      "Dep. Variable:                    elg   R-squared (uncentered):                   0.948\n",
      "Model:                            OLS   Adj. R-squared (uncentered):              0.948\n",
      "Method:                 Least Squares   F-statistic:                          1.898e+05\n",
      "Date:                Thu, 05 Aug 2021   Prob (F-statistic):                        0.00\n",
      "Time:                        19:21:45   Log-Likelihood:                      1.7326e+05\n",
      "No. Observations:              217027   AIC:                                 -3.465e+05\n",
      "Df Residuals:                  217006   BIC:                                 -3.463e+05\n",
      "Df Model:                          21                                                  \n",
      "Covariance Type:            nonrobust                                                  \n",
      "==============================================================================\n",
      "                 coef    std err          t      P>|t|      [0.025      0.975]\n",
      "------------------------------------------------------------------------------\n",
      "stellar        0.1627      0.002     76.715      0.000       0.159       0.167\n",
      "EBV           -0.3286      0.003   -123.837      0.000      -0.334      -0.323\n",
      "airmass       -0.0657      0.002    -31.139      0.000      -0.070      -0.062\n",
      "ccdskysb_g    -0.0509      0.004    -11.324      0.000      -0.060      -0.042\n",
      "ccdskysb_r     0.1893      0.004     44.722      0.000       0.181       0.198\n",
      "ccdskysb_z     0.1671      0.005     34.692      0.000       0.158       0.177\n",
      "exptime_g      0.0656      0.004     18.207      0.000       0.059       0.073\n",
      "exptime_r      0.1073      0.003     35.569      0.000       0.101       0.113\n",
      "exptime_z      0.0371      0.003     12.594      0.000       0.031       0.043\n",
      "meansky_g     -0.0098      0.003     -2.886      0.004      -0.016      -0.003\n",
      "meansky_r     -0.0309      0.003     -9.109      0.000      -0.038      -0.024\n",
      "meansky_z      0.0123      0.003      4.151      0.000       0.006       0.018\n",
      "galdepth_g     0.1634      0.005     32.417      0.000       0.154       0.173\n",
      "galdepth_r     0.0057      0.005      1.231      0.218      -0.003       0.015\n",
      "galdepth_z     0.2074      0.003     60.671      0.000       0.201       0.214\n",
      "seeing_g       0.1020      0.005     18.583      0.000       0.091       0.113\n",
      "seeing_r      -0.0734      0.005    -15.214      0.000      -0.083      -0.064\n",
      "seeing_z       0.1188      0.005     22.005      0.000       0.108       0.129\n",
      "mjd_obs_g      0.0695      0.003     20.498      0.000       0.063       0.076\n",
      "mjd_obs_r     -0.0416      0.003    -12.155      0.000      -0.048      -0.035\n",
      "mjd_obs_z      0.0110      0.002      4.462      0.000       0.006       0.016\n",
      "==============================================================================\n",
      "Omnibus:                    18351.029   Durbin-Watson:                   2.001\n",
      "Prob(Omnibus):                  0.000   Jarque-Bera (JB):            95504.356\n",
      "Skew:                          -0.241   Prob(JB):                         0.00\n",
      "Kurtosis:                       6.214   Cond. No.                         70.2\n",
      "==============================================================================\n",
      "\n",
      "Notes:\n",
      "[1] R² is computed without centering (uncentered) since the model does not contain a constant.\n",
      "[2] Standard Errors assume that the covariance matrix of the errors is correctly specified.\n",
      "\n",
      "Regression R^2 for elg, Geometric :  -0.003013178041819886.\n",
      "\n",
      "                                 OLS Regression Results                                \n",
      "=======================================================================================\n",
      "Dep. Variable:                    qso   R-squared (uncentered):                   0.948\n",
      "Model:                            OLS   Adj. R-squared (uncentered):              0.948\n",
      "Method:                 Least Squares   F-statistic:                          1.869e+05\n",
      "Date:                Thu, 05 Aug 2021   Prob (F-statistic):                        0.00\n",
      "Time:                        19:21:45   Log-Likelihood:                      1.5846e+05\n",
      "No. Observations:              217027   AIC:                                 -3.169e+05\n",
      "Df Residuals:                  217006   BIC:                                 -3.167e+05\n",
      "Df Model:                          21                                                  \n",
      "Covariance Type:            nonrobust                                                  \n",
      "==============================================================================\n",
      "                 coef    std err          t      P>|t|      [0.025      0.975]\n",
      "------------------------------------------------------------------------------\n",
      "stellar        0.1791      0.002     78.861      0.000       0.175       0.184\n",
      "EBV           -0.2444      0.003    -86.036      0.000      -0.250      -0.239\n",
      "airmass        0.1012      0.002     44.813      0.000       0.097       0.106\n",
      "ccdskysb_g     0.1666      0.005     34.649      0.000       0.157       0.176\n",
      "ccdskysb_r     0.1968      0.005     43.419      0.000       0.188       0.206\n",
      "ccdskysb_z     0.1346      0.005     26.116      0.000       0.125       0.145\n",
      "exptime_g      0.0467      0.004     12.099      0.000       0.039       0.054\n",
      "exptime_r      0.2013      0.003     62.318      0.000       0.195       0.208\n",
      "exptime_z      0.0007      0.003      0.226      0.821      -0.005       0.007\n",
      "meansky_g      0.0107      0.004      2.960      0.003       0.004       0.018\n",
      "meansky_r      0.0353      0.004      9.717      0.000       0.028       0.042\n",
      "meansky_z      0.0023      0.003      0.736      0.462      -0.004       0.009\n",
      "galdepth_g     0.0966      0.005     17.901      0.000       0.086       0.107\n",
      "galdepth_r     0.0693      0.005     14.104      0.000       0.060       0.079\n",
      "galdepth_z     0.1292      0.004     35.306      0.000       0.122       0.136\n",
      "seeing_g      -0.0844      0.006    -14.366      0.000      -0.096      -0.073\n",
      "seeing_r      -0.0479      0.005     -9.280      0.000      -0.058      -0.038\n",
      "seeing_z       0.0871      0.006     15.067      0.000       0.076       0.098\n",
      "mjd_obs_g     -0.0117      0.004     -3.211      0.001      -0.019      -0.005\n",
      "mjd_obs_r     -0.0571      0.004    -15.586      0.000      -0.064      -0.050\n",
      "mjd_obs_z      0.0273      0.003     10.359      0.000       0.022       0.033\n",
      "==============================================================================\n",
      "Omnibus:                    25384.079   Durbin-Watson:                   2.006\n",
      "Prob(Omnibus):                  0.000   Jarque-Bera (JB):            82773.675\n",
      "Skew:                          -0.601   Prob(JB):                         0.00\n",
      "Kurtosis:                       5.776   Cond. No.                         70.2\n",
      "==============================================================================\n",
      "\n",
      "Notes:\n",
      "[1] R² is computed without centering (uncentered) since the model does not contain a constant.\n",
      "[2] Standard Errors assume that the covariance matrix of the errors is correctly specified.\n",
      "\n",
      "Regression R^2 for qso, Geometric :  0.01464484649272324.\n",
      "\n"
     ]
    }
   ],
   "source": [
    "gal = 'lrg'\n",
    "ols_lrg_geometric = sm.OLS(y_lrg, X).fit()\n",
    "y_pred = ols_lrg_geometric.predict(df_test.drop(columns=['lrg', 'elg', 'qso']))\n",
    "y_gold = df_test[gal]\n",
    "print(ols_lrg_geometric.summary())\n",
    "print()\n",
    "print(f\"Regression R^2 for {gal}, Geometric :  {metrics.r2_score(y_gold, y_pred)}.\")\n",
    "print()\n",
    "gal = 'elg'\n",
    "ols_elg_geometric = sm.OLS(y_elg, X).fit()\n",
    "y_pred = ols_elg_geometric.predict(df_test.drop(columns=['lrg', 'elg', 'qso']))\n",
    "y_gold = df_test[gal]\n",
    "print(ols_elg_geometric.summary())\n",
    "print()\n",
    "print(f\"Regression R^2 for {gal}, Geometric :  {metrics.r2_score(y_gold, y_pred)}.\")\n",
    "print()\n",
    "gal = 'qso'\n",
    "ols_qso_geometric = sm.OLS(y_qso, X).fit()\n",
    "y_pred = ols_qso_geometric.predict(df_test.drop(columns=['lrg', 'elg', 'qso']))\n",
    "y_gold = df_test[gal]\n",
    "print(ols_qso_geometric.summary())\n",
    "print()\n",
    "print(f\"Regression R^2 for {gal}, Geometric :  {metrics.r2_score(y_gold, y_pred)}.\")\n",
    "print()\n"
   ],
   "metadata": {
    "collapsed": false,
    "pycharm": {
     "name": "#%%\n"
    }
   }
  },
  {
   "cell_type": "code",
   "execution_count": null,
   "outputs": [],
   "source": [
    "y_train = df_train['lrg']  #.to_numpy(copy=True)\n",
    "X_train = df_train.drop(columns=['lrg', 'elg', 'qso'])  #.to_numpy(copy=True)\n",
    "y_gold = df_val[gal]\n",
    "X_test = df_val.drop(columns=['lrg', 'elg', 'qso'])\n",
    "reg = Lasso()\n",
    "reg.fit(X_train, y_train)\n",
    "y_pred = reg.predict(X_test)\n",
    "\n",
    "print(f\"Lasso Regression R^2 for {gal}, Geometric :  {metrics.r2_score(y_gold, y_pred)}.\")\n",
    "print(f\"Lasso Regression MSE for {gal}, Geometric :"
   ],
   "metadata": {
    "collapsed": false,
    "pycharm": {
     "name": "#%%\n"
    }
   }
  }
 ],
 "metadata": {
  "kernelspec": {
   "display_name": "Python 3",
   "language": "python",
   "name": "python3"
  },
  "language_info": {
   "codemirror_mode": {
    "name": "ipython",
    "version": 2
   },
   "file_extension": ".py",
   "mimetype": "text/x-python",
   "name": "python",
   "nbconvert_exporter": "python",
   "pygments_lexer": "ipython2",
   "version": "2.7.6"
  }
 },
 "nbformat": 4,
 "nbformat_minor": 0
}