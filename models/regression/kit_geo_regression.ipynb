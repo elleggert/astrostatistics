{
 "cells": [
  {
   "cell_type": "code",
   "execution_count": 1,
   "outputs": [
    {
     "name": "stdout",
     "output_type": "stream",
     "text": [
      "1.9.0\n"
     ]
    }
   ],
   "source": [
    "\n",
    "import torch\n",
    "import numpy as np\n",
    "import pandas as pd\n",
    "import os\n",
    "import torch\n",
    "import torch.nn as nn\n",
    "import torch.nn.functional as F\n",
    "from sklearn.model_selection import train_test_split\n",
    "from sklearn.utils import shuffle\n",
    "from sklearn import preprocessing, metrics\n",
    "from torch.utils.data import DataLoader, Dataset\n",
    "import torch.optim as optim\n",
    "import time\n",
    "import seaborn as sns\n",
    "import matplotlib.pyplot as plt\n",
    "import statsmodels.api as sm\n",
    "\n",
    "\n",
    "print(torch.__version__)\n"
   ],
   "metadata": {
    "collapsed": false,
    "pycharm": {
     "name": "#%%\n"
    }
   }
  },
  {
   "cell_type": "markdown",
   "source": [
    "# Data Preprocessing\n"
   ],
   "metadata": {
    "collapsed": false
   }
  },
  {
   "cell_type": "code",
   "execution_count": 2,
   "outputs": [],
   "source": [
    "df_train = pd.read_csv('../../bricks_data/train.csv')\n",
    "df_val = pd.read_csv('../../bricks_data/val.csv')\n",
    "df_test = pd.read_csv('../../bricks_data/test.csv')\n"
   ],
   "metadata": {
    "collapsed": false,
    "pycharm": {
     "name": "#%%\n"
    }
   }
  },
  {
   "cell_type": "code",
   "execution_count": 3,
   "outputs": [
    {
     "data": {
      "text/plain": "   pixel_id       lrg       elg       qso  exposures   stellar       EBV  \\\n0    639531  0.143713  0.216019  0.338174   0.564626  0.055556  0.034658   \n1    438841  0.311377  0.327670  0.325726   0.554422  0.055556  0.156182   \n2    223392  0.317365  0.337379  0.379668   0.217687  0.095238  0.128167   \n3    212211  0.179641  0.286408  0.371369   0.292517  0.464286  0.110097   \n4    605797  0.251497  0.371359  0.365145   0.496599  0.043651  0.041140   \n\n    airmass  ccdskysb_g  ccdskysb_r  ...  galdepth_g  galdepth_r  galdepth_z  \\\n0  0.115825    0.713032    0.650563  ...    0.661819    0.764081    0.710622   \n1  0.121236    0.673496    0.669451  ...    0.780645    0.838735    0.731335   \n2  0.624725    0.689262    0.570709  ...    0.796140    0.790286    0.752132   \n3  0.648073    0.687629    0.594110  ...    0.746999    0.791229    0.785403   \n4  0.184091    0.686366    0.668034  ...    0.687693    0.857195    0.756373   \n\n   seeing_g  seeing_r  seeing_z  mjd_obs_g  mjd_obs_r  mjd_obs_z         Z  \n0  0.192107  0.180748  0.116854   0.392091   0.389434   0.459966  0.109627  \n1  0.205265  0.183886  0.132229   0.506930   0.573248   0.526755  0.019657  \n2  0.210586  0.187711  0.122527   0.711217   0.623392   0.492222  0.047189  \n3  0.193327  0.224447  0.114192   0.544153   0.710760   0.706703  0.367989  \n4  0.163397  0.193967  0.124396   0.410730   0.441666   0.415508  0.195688  \n\n[5 rows x 27 columns]",
      "text/html": "<div>\n<style scoped>\n    .dataframe tbody tr th:only-of-type {\n        vertical-align: middle;\n    }\n\n    .dataframe tbody tr th {\n        vertical-align: top;\n    }\n\n    .dataframe thead th {\n        text-align: right;\n    }\n</style>\n<table border=\"1\" class=\"dataframe\">\n  <thead>\n    <tr style=\"text-align: right;\">\n      <th></th>\n      <th>pixel_id</th>\n      <th>lrg</th>\n      <th>elg</th>\n      <th>qso</th>\n      <th>exposures</th>\n      <th>stellar</th>\n      <th>EBV</th>\n      <th>airmass</th>\n      <th>ccdskysb_g</th>\n      <th>ccdskysb_r</th>\n      <th>...</th>\n      <th>galdepth_g</th>\n      <th>galdepth_r</th>\n      <th>galdepth_z</th>\n      <th>seeing_g</th>\n      <th>seeing_r</th>\n      <th>seeing_z</th>\n      <th>mjd_obs_g</th>\n      <th>mjd_obs_r</th>\n      <th>mjd_obs_z</th>\n      <th>Z</th>\n    </tr>\n  </thead>\n  <tbody>\n    <tr>\n      <th>0</th>\n      <td>639531</td>\n      <td>0.143713</td>\n      <td>0.216019</td>\n      <td>0.338174</td>\n      <td>0.564626</td>\n      <td>0.055556</td>\n      <td>0.034658</td>\n      <td>0.115825</td>\n      <td>0.713032</td>\n      <td>0.650563</td>\n      <td>...</td>\n      <td>0.661819</td>\n      <td>0.764081</td>\n      <td>0.710622</td>\n      <td>0.192107</td>\n      <td>0.180748</td>\n      <td>0.116854</td>\n      <td>0.392091</td>\n      <td>0.389434</td>\n      <td>0.459966</td>\n      <td>0.109627</td>\n    </tr>\n    <tr>\n      <th>1</th>\n      <td>438841</td>\n      <td>0.311377</td>\n      <td>0.327670</td>\n      <td>0.325726</td>\n      <td>0.554422</td>\n      <td>0.055556</td>\n      <td>0.156182</td>\n      <td>0.121236</td>\n      <td>0.673496</td>\n      <td>0.669451</td>\n      <td>...</td>\n      <td>0.780645</td>\n      <td>0.838735</td>\n      <td>0.731335</td>\n      <td>0.205265</td>\n      <td>0.183886</td>\n      <td>0.132229</td>\n      <td>0.506930</td>\n      <td>0.573248</td>\n      <td>0.526755</td>\n      <td>0.019657</td>\n    </tr>\n    <tr>\n      <th>2</th>\n      <td>223392</td>\n      <td>0.317365</td>\n      <td>0.337379</td>\n      <td>0.379668</td>\n      <td>0.217687</td>\n      <td>0.095238</td>\n      <td>0.128167</td>\n      <td>0.624725</td>\n      <td>0.689262</td>\n      <td>0.570709</td>\n      <td>...</td>\n      <td>0.796140</td>\n      <td>0.790286</td>\n      <td>0.752132</td>\n      <td>0.210586</td>\n      <td>0.187711</td>\n      <td>0.122527</td>\n      <td>0.711217</td>\n      <td>0.623392</td>\n      <td>0.492222</td>\n      <td>0.047189</td>\n    </tr>\n    <tr>\n      <th>3</th>\n      <td>212211</td>\n      <td>0.179641</td>\n      <td>0.286408</td>\n      <td>0.371369</td>\n      <td>0.292517</td>\n      <td>0.464286</td>\n      <td>0.110097</td>\n      <td>0.648073</td>\n      <td>0.687629</td>\n      <td>0.594110</td>\n      <td>...</td>\n      <td>0.746999</td>\n      <td>0.791229</td>\n      <td>0.785403</td>\n      <td>0.193327</td>\n      <td>0.224447</td>\n      <td>0.114192</td>\n      <td>0.544153</td>\n      <td>0.710760</td>\n      <td>0.706703</td>\n      <td>0.367989</td>\n    </tr>\n    <tr>\n      <th>4</th>\n      <td>605797</td>\n      <td>0.251497</td>\n      <td>0.371359</td>\n      <td>0.365145</td>\n      <td>0.496599</td>\n      <td>0.043651</td>\n      <td>0.041140</td>\n      <td>0.184091</td>\n      <td>0.686366</td>\n      <td>0.668034</td>\n      <td>...</td>\n      <td>0.687693</td>\n      <td>0.857195</td>\n      <td>0.756373</td>\n      <td>0.163397</td>\n      <td>0.193967</td>\n      <td>0.124396</td>\n      <td>0.410730</td>\n      <td>0.441666</td>\n      <td>0.415508</td>\n      <td>0.195688</td>\n    </tr>\n  </tbody>\n</table>\n<p>5 rows × 27 columns</p>\n</div>"
     },
     "execution_count": 3,
     "metadata": {},
     "output_type": "execute_result"
    }
   ],
   "source": [
    "df_train.head()"
   ],
   "metadata": {
    "collapsed": false,
    "pycharm": {
     "name": "#%%\n"
    }
   }
  },
  {
   "cell_type": "code",
   "execution_count": 4,
   "outputs": [],
   "source": [
    "df_train.drop(columns=['pixel_id', 'exposures','Z'], axis=1, inplace=True)\n",
    "df_val.drop(columns=['pixel_id', 'exposures','Z'], axis=1, inplace=True)\n",
    "df_test.drop(columns=['pixel_id', 'exposures','Z'], axis=1, inplace=True)\n"
   ],
   "metadata": {
    "collapsed": false,
    "pycharm": {
     "name": "#%%\n"
    }
   }
  },
  {
   "cell_type": "markdown",
   "source": [
    "# Regression"
   ],
   "metadata": {
    "collapsed": false
   }
  },
  {
   "cell_type": "code",
   "execution_count": 5,
   "outputs": [],
   "source": [
    "from sklearn.linear_model import LinearRegression, Ridge, Lasso\n",
    "galaxy_types = ['lrg','elg','qso']\n"
   ],
   "metadata": {
    "collapsed": false,
    "pycharm": {
     "name": "#%%\n"
    }
   }
  },
  {
   "cell_type": "code",
   "execution_count": 6,
   "outputs": [
    {
     "data": {
      "text/plain": "Index(['stellar', 'EBV', 'airmass', 'ccdskysb_g', 'ccdskysb_r', 'ccdskysb_z',\n       'exptime_g', 'exptime_r', 'exptime_z', 'meansky_g', 'meansky_r',\n       'meansky_z', 'galdepth_g', 'galdepth_r', 'galdepth_z', 'seeing_g',\n       'seeing_r', 'seeing_z', 'mjd_obs_g', 'mjd_obs_r', 'mjd_obs_z'],\n      dtype='object')"
     },
     "execution_count": 6,
     "metadata": {},
     "output_type": "execute_result"
    }
   ],
   "source": [
    "X_train = df_train.drop(columns=['lrg','elg','qso'])\n",
    "X_train.columns"
   ],
   "metadata": {
    "collapsed": false,
    "pycharm": {
     "name": "#%%\n"
    }
   }
  },
  {
   "cell_type": "code",
   "execution_count": 7,
   "outputs": [
    {
     "data": {
      "text/plain": "(220300, 253)"
     },
     "execution_count": 7,
     "metadata": {},
     "output_type": "execute_result"
    }
   ],
   "source": [
    "from sklearn.preprocessing import PolynomialFeatures\n",
    "\n",
    "poly = PolynomialFeatures(2)\n",
    "\n",
    "\n",
    "X_train = df_train.drop(columns=['lrg','elg','qso'])#.to_numpy(copy=True)\n",
    "X_train = poly.fit_transform(X_train)\n",
    "\n",
    "X_train.shape"
   ],
   "metadata": {
    "collapsed": false,
    "pycharm": {
     "name": "#%%\n"
    }
   }
  },
  {
   "cell_type": "markdown",
   "source": [
    "### Geometrics"
   ],
   "metadata": {
    "collapsed": false
   }
  },
  {
   "cell_type": "markdown",
   "source": [
    "### Geometric - Linear Regression"
   ],
   "metadata": {
    "collapsed": false
   }
  },
  {
   "cell_type": "code",
   "execution_count": 8,
   "outputs": [
    {
     "name": "stdout",
     "output_type": "stream",
     "text": [
      "Linear Regression R^2 for lrg, Geometric :  0.03949795070079565.\n",
      "Linear Regression MSE for lrg, Geometric :  0.005258890403115084.\n",
      "\n",
      "Linear Regression R^2 for elg, Geometric :  0.15000624428060305.\n",
      "Linear Regression MSE for elg, Geometric :  0.0032096153062344526.\n",
      "\n",
      "Linear Regression R^2 for qso, Geometric :  0.12898609443771436.\n",
      "Linear Regression MSE for qso, Geometric :  0.003810218584450977.\n",
      "\n"
     ]
    }
   ],
   "source": [
    "for gal in galaxy_types:\n",
    "    y_train = df_train[gal]#.to_numpy(copy=True)\n",
    "    X_train = df_train.drop(columns=['lrg','elg','qso'])#.to_numpy(copy=True)\n",
    "    X_train = poly.fit_transform(X_train)\n",
    "    y_gold = df_val[gal]\n",
    "    X_test = df_val.drop(columns=['lrg','elg','qso'])\n",
    "    X_test = poly.fit_transform(X_test)\n",
    "    reg = LinearRegression()\n",
    "    reg.fit(X_train,y_train)\n",
    "    y_pred = reg.predict(X_test)\n",
    "\n",
    "    print(f\"Linear Regression R^2 for {gal}, Geometric :  {metrics.r2_score(y_gold, y_pred)}.\")\n",
    "    print(f\"Linear Regression MSE for {gal}, Geometric :  {metrics.mean_squared_error(y_gold, y_pred)}.\")\n",
    "    print()"
   ],
   "metadata": {
    "collapsed": false,
    "pycharm": {
     "name": "#%%\n"
    }
   }
  },
  {
   "cell_type": "markdown",
   "source": [
    "### Geometric - Ridge Regression"
   ],
   "metadata": {
    "collapsed": false
   }
  },
  {
   "cell_type": "code",
   "execution_count": 9,
   "outputs": [
    {
     "name": "stdout",
     "output_type": "stream",
     "text": [
      "Ridge Regression R^2 for lrg, Geometric :  0.03835915830399017.\n",
      "Ridge Regression MSE for lrg, Geometric :  0.005265125459470322.\n",
      "\n",
      "Ridge Regression R^2 for elg, Geometric :  0.14667374101971764.\n",
      "Ridge Regression MSE for elg, Geometric :  0.0032221989909994794.\n",
      "\n",
      "Ridge Regression R^2 for qso, Geometric :  0.12567472799427004.\n",
      "Ridge Regression MSE for qso, Geometric :  0.00382470403627002.\n",
      "\n"
     ]
    }
   ],
   "source": [
    "for gal in galaxy_types:\n",
    "    y_train = df_train[gal]#.to_numpy(copy=True)\n",
    "    X_train = df_train.drop(columns=['lrg','elg','qso'])#.to_numpy(copy=True)\n",
    "    X_train = poly.fit_transform(X_train)\n",
    "    y_gold = df_val[gal]\n",
    "    X_test = df_val.drop(columns=['lrg','elg','qso'])\n",
    "    X_test = poly.fit_transform(X_test)\n",
    "    reg = Ridge()\n",
    "    reg.fit(X_train,y_train)\n",
    "    y_pred = reg.predict(X_test)\n",
    "\n",
    "    print(f\"Ridge Regression R^2 for {gal}, Geometric :  {metrics.r2_score(y_gold, y_pred)}.\")\n",
    "    print(f\"Ridge Regression MSE for {gal}, Geometric :  {metrics.mean_squared_error(y_gold, y_pred)}.\")\n",
    "    print()"
   ],
   "metadata": {
    "collapsed": false,
    "pycharm": {
     "name": "#%%\n"
    }
   }
  },
  {
   "cell_type": "markdown",
   "source": [
    "### Geometric - Lasso Regression"
   ],
   "metadata": {
    "collapsed": false
   }
  },
  {
   "cell_type": "code",
   "execution_count": 10,
   "outputs": [
    {
     "name": "stdout",
     "output_type": "stream",
     "text": [
      "Lasso Regression R^2 for lrg, Geometric :  -2.418299939410673e-06.\n",
      "Lasso Regression MSE for lrg, Geometric :  0.0054751607500748145.\n",
      "\n",
      "Lasso Regression R^2 for elg, Geometric :  -3.152215577451045e-08.\n",
      "Lasso Regression MSE for elg, Geometric :  0.0037760458659981213.\n",
      "\n",
      "Lasso Regression R^2 for qso, Geometric :  -1.135833249299445e-05.\n",
      "Lasso Regression MSE for qso, Geometric :  0.00437451324008519.\n",
      "\n"
     ]
    }
   ],
   "source": [
    "for gal in galaxy_types:\n",
    "    y_train = df_train[gal]#.to_numpy(copy=True)\n",
    "    X_train = df_train.drop(columns=['lrg','elg','qso'])#.to_numpy(copy=True)\n",
    "    X_train = poly.fit_transform(X_train)\n",
    "    y_gold = df_val[gal]\n",
    "    X_test = df_val.drop(columns=['lrg','elg','qso'])\n",
    "    X_test = poly.fit_transform(X_test)\n",
    "    reg = Lasso()\n",
    "    reg.fit(X_train,y_train)\n",
    "    y_pred = reg.predict(X_test)\n",
    "\n",
    "    print(f\"Lasso Regression R^2 for {gal}, Geometric :  {metrics.r2_score(y_gold, y_pred)}.\")\n",
    "    print(f\"Lasso Regression MSE for {gal}, Geometric :  {metrics.mean_squared_error(y_gold, y_pred)}.\")\n",
    "    print()\n"
   ],
   "metadata": {
    "collapsed": false,
    "pycharm": {
     "name": "#%%\n"
    }
   }
  },
  {
   "cell_type": "code",
   "execution_count": 11,
   "outputs": [],
   "source": [
    "# Using the Best classifier to test on the testset"
   ],
   "metadata": {
    "collapsed": false,
    "pycharm": {
     "name": "#%%\n"
    }
   }
  },
  {
   "cell_type": "code",
   "execution_count": 12,
   "outputs": [
    {
     "name": "stdout",
     "output_type": "stream",
     "text": [
      "Results for full dataset on unseen test-set\n",
      "Linear Regression R^2 for lrg, Geometric :  0.038215184475231534.\n",
      "Linear Regression MSE for lrg, Geometric :  0.005213885938982841.\n",
      "\n",
      "Linear Regression R^2 for elg, Geometric :  0.14893673657901474.\n",
      "Linear Regression MSE for elg, Geometric :  0.0031791694040346386.\n",
      "\n",
      "Linear Regression R^2 for qso, Geometric :  0.1328978735435351.\n",
      "Linear Regression MSE for qso, Geometric :  0.00372192164034895.\n",
      "\n"
     ]
    }
   ],
   "source": [
    "poly = PolynomialFeatures(2)\n",
    "\n",
    "# Stacking Train and Val Set\n",
    "print(\"Results for full dataset on unseen test-set\")\n",
    "for gal in galaxy_types:\n",
    "    y_train = df_train[gal]#.to_numpy(copy=True)\n",
    "    X_train = df_train.drop(columns=['lrg','elg','qso'])#.to_numpy(copy=True)\n",
    "    X_train = poly.fit_transform(X_train)\n",
    "    y_gold = df_test[gal]\n",
    "    X_test = df_test.drop(columns=['lrg','elg','qso'])\n",
    "    X_test = poly.fit_transform(X_test)\n",
    "    reg = LinearRegression()\n",
    "    reg.fit(X_train,y_train)\n",
    "    y_pred = reg.predict(X_test)\n",
    "\n",
    "    print(f\"Linear Regression R^2 for {gal}, Geometric :  {metrics.r2_score(y_gold, y_pred)}.\")\n",
    "    print(f\"Linear Regression MSE for {gal}, Geometric :  {metrics.mean_squared_error(y_gold, y_pred)}.\")\n",
    "    print()"
   ],
   "metadata": {
    "collapsed": false,
    "pycharm": {
     "name": "#%%\n"
    }
   }
  },
  {
   "cell_type": "code",
   "execution_count": 13,
   "outputs": [
    {
     "name": "stdout",
     "output_type": "stream",
     "text": [
      "Results for full dataset on unseen test-set\n",
      "Linear Regression R^2 for lrg, Geometric :  0.04386685498643783.\n",
      "Linear Regression MSE for lrg, Geometric :  0.005183247936662057.\n",
      "\n",
      "Linear Regression R^2 for elg, Geometric :  0.18290334475943082.\n",
      "Linear Regression MSE for elg, Geometric :  0.0030522862378503223.\n",
      "\n",
      "Linear Regression R^2 for qso, Geometric :  0.16021354807630606.\n",
      "Linear Regression MSE for qso, Geometric :  0.0036046727061550916.\n",
      "\n"
     ]
    }
   ],
   "source": [
    "poly = PolynomialFeatures(3)\n",
    "\n",
    "# Stacking Train and Val Set\n",
    "print(\"Results for full dataset on unseen test-set\")\n",
    "for gal in galaxy_types:\n",
    "    y_train = df_train[gal]#.to_numpy(copy=True)\n",
    "    X_train = df_train.drop(columns=['lrg','elg','qso'])#.to_numpy(copy=True)\n",
    "    X_train = poly.fit_transform(X_train)\n",
    "    y_gold = df_test[gal]\n",
    "    X_test = df_test.drop(columns=['lrg','elg','qso'])\n",
    "    X_test = poly.fit_transform(X_test)\n",
    "    reg = Ridge()\n",
    "    reg.fit(X_train,y_train)\n",
    "    y_pred = reg.predict(X_test)\n",
    "\n",
    "    print(f\"Linear Regression R^2 for {gal}, Geometric :  {metrics.r2_score(y_gold, y_pred)}.\")\n",
    "    print(f\"Linear Regression MSE for {gal}, Geometric :  {metrics.mean_squared_error(y_gold, y_pred)}.\")\n",
    "    print()"
   ],
   "metadata": {
    "collapsed": false,
    "pycharm": {
     "name": "#%%\n"
    }
   }
  },
  {
   "cell_type": "markdown",
   "source": [
    "### Running Regression on the TrainSet to compare to previous results"
   ],
   "metadata": {
    "collapsed": false
   }
  },
  {
   "cell_type": "code",
   "source": [
    "df_geometric = pd.read_csv('../../bricks_data/train.csv')\n",
    "\n",
    "df_geometric_reg = df_geometric.drop(columns=['pixel_id', 'exposures','Z'])\n",
    "df_geometric_reg.head()"
   ],
   "metadata": {
    "collapsed": false,
    "pycharm": {
     "name": "#%%\n"
    }
   },
   "execution_count": 13,
   "outputs": [
    {
     "data": {
      "text/plain": "        lrg       elg       qso   stellar       EBV   airmass  ccdskysb_g  \\\n0  0.255556  0.402256  0.409396  0.205357  0.171079  0.140918    0.578889   \n1  0.288889  0.421053  0.406040  0.049107  0.016430  0.013747    0.630872   \n2  0.688889  0.503759  0.704698  0.058036  0.062640  0.152529    0.626110   \n3  0.255556  0.255639  0.228188  0.062500  0.618593  0.411554    0.617269   \n4  0.411111  0.488722  0.503356  0.120536  0.200576  0.304894    0.651783   \n\n   ccdskysb_r  ccdskysb_z  exptime_g  ...     meansky_z  galdepth_g  \\\n0    0.518889    0.592086   0.175793  ...  5.513443e-01    0.480686   \n1    0.672316    0.438492   0.168644  ...  2.840472e-11    0.511487   \n2    0.577056    0.605068   0.175793  ...  3.579294e-01    0.596021   \n3    0.568405    0.628472   0.548694  ...  5.566131e-11    0.832612   \n4    0.620234    0.540708   0.405109  ...  8.777782e-11    0.748213   \n\n   galdepth_r  galdepth_z  seeing_g  seeing_r  seeing_z  mjd_obs_g  mjd_obs_r  \\\n0    0.674590    0.283245  0.301927  0.311998  0.129479   0.388261   0.465611   \n1    0.582933    0.750504  0.211973  0.091550  0.120701   0.518587   0.498003   \n2    0.695755    0.299528  0.269886  0.283358  0.172838   0.510175   0.522231   \n3    0.766486    0.719828  0.299032  0.254469  0.209068   0.861329   0.798231   \n4    0.680751    0.705337  0.411908  0.393542  0.130524   0.764569   0.798398   \n\n   mjd_obs_z  \n0   0.436698  \n1   0.443110  \n2   0.454674  \n3   0.806972  \n4   0.271826  \n\n[5 rows x 24 columns]",
      "text/html": "<div>\n<style scoped>\n    .dataframe tbody tr th:only-of-type {\n        vertical-align: middle;\n    }\n\n    .dataframe tbody tr th {\n        vertical-align: top;\n    }\n\n    .dataframe thead th {\n        text-align: right;\n    }\n</style>\n<table border=\"1\" class=\"dataframe\">\n  <thead>\n    <tr style=\"text-align: right;\">\n      <th></th>\n      <th>lrg</th>\n      <th>elg</th>\n      <th>qso</th>\n      <th>stellar</th>\n      <th>EBV</th>\n      <th>airmass</th>\n      <th>ccdskysb_g</th>\n      <th>ccdskysb_r</th>\n      <th>ccdskysb_z</th>\n      <th>exptime_g</th>\n      <th>...</th>\n      <th>meansky_z</th>\n      <th>galdepth_g</th>\n      <th>galdepth_r</th>\n      <th>galdepth_z</th>\n      <th>seeing_g</th>\n      <th>seeing_r</th>\n      <th>seeing_z</th>\n      <th>mjd_obs_g</th>\n      <th>mjd_obs_r</th>\n      <th>mjd_obs_z</th>\n    </tr>\n  </thead>\n  <tbody>\n    <tr>\n      <th>0</th>\n      <td>0.255556</td>\n      <td>0.402256</td>\n      <td>0.409396</td>\n      <td>0.205357</td>\n      <td>0.171079</td>\n      <td>0.140918</td>\n      <td>0.578889</td>\n      <td>0.518889</td>\n      <td>0.592086</td>\n      <td>0.175793</td>\n      <td>...</td>\n      <td>5.513443e-01</td>\n      <td>0.480686</td>\n      <td>0.674590</td>\n      <td>0.283245</td>\n      <td>0.301927</td>\n      <td>0.311998</td>\n      <td>0.129479</td>\n      <td>0.388261</td>\n      <td>0.465611</td>\n      <td>0.436698</td>\n    </tr>\n    <tr>\n      <th>1</th>\n      <td>0.288889</td>\n      <td>0.421053</td>\n      <td>0.406040</td>\n      <td>0.049107</td>\n      <td>0.016430</td>\n      <td>0.013747</td>\n      <td>0.630872</td>\n      <td>0.672316</td>\n      <td>0.438492</td>\n      <td>0.168644</td>\n      <td>...</td>\n      <td>2.840472e-11</td>\n      <td>0.511487</td>\n      <td>0.582933</td>\n      <td>0.750504</td>\n      <td>0.211973</td>\n      <td>0.091550</td>\n      <td>0.120701</td>\n      <td>0.518587</td>\n      <td>0.498003</td>\n      <td>0.443110</td>\n    </tr>\n    <tr>\n      <th>2</th>\n      <td>0.688889</td>\n      <td>0.503759</td>\n      <td>0.704698</td>\n      <td>0.058036</td>\n      <td>0.062640</td>\n      <td>0.152529</td>\n      <td>0.626110</td>\n      <td>0.577056</td>\n      <td>0.605068</td>\n      <td>0.175793</td>\n      <td>...</td>\n      <td>3.579294e-01</td>\n      <td>0.596021</td>\n      <td>0.695755</td>\n      <td>0.299528</td>\n      <td>0.269886</td>\n      <td>0.283358</td>\n      <td>0.172838</td>\n      <td>0.510175</td>\n      <td>0.522231</td>\n      <td>0.454674</td>\n    </tr>\n    <tr>\n      <th>3</th>\n      <td>0.255556</td>\n      <td>0.255639</td>\n      <td>0.228188</td>\n      <td>0.062500</td>\n      <td>0.618593</td>\n      <td>0.411554</td>\n      <td>0.617269</td>\n      <td>0.568405</td>\n      <td>0.628472</td>\n      <td>0.548694</td>\n      <td>...</td>\n      <td>5.566131e-11</td>\n      <td>0.832612</td>\n      <td>0.766486</td>\n      <td>0.719828</td>\n      <td>0.299032</td>\n      <td>0.254469</td>\n      <td>0.209068</td>\n      <td>0.861329</td>\n      <td>0.798231</td>\n      <td>0.806972</td>\n    </tr>\n    <tr>\n      <th>4</th>\n      <td>0.411111</td>\n      <td>0.488722</td>\n      <td>0.503356</td>\n      <td>0.120536</td>\n      <td>0.200576</td>\n      <td>0.304894</td>\n      <td>0.651783</td>\n      <td>0.620234</td>\n      <td>0.540708</td>\n      <td>0.405109</td>\n      <td>...</td>\n      <td>8.777782e-11</td>\n      <td>0.748213</td>\n      <td>0.680751</td>\n      <td>0.705337</td>\n      <td>0.411908</td>\n      <td>0.393542</td>\n      <td>0.130524</td>\n      <td>0.764569</td>\n      <td>0.798398</td>\n      <td>0.271826</td>\n    </tr>\n  </tbody>\n</table>\n<p>5 rows × 24 columns</p>\n</div>"
     },
     "execution_count": 13,
     "metadata": {},
     "output_type": "execute_result"
    }
   ]
  },
  {
   "cell_type": "code",
   "execution_count": 14,
   "outputs": [
    {
     "data": {
      "text/plain": "Index(['lrg', 'elg', 'qso', 'stellar', 'EBV', 'airmass', 'ccdskysb_g',\n       'ccdskysb_r', 'ccdskysb_z', 'exptime_g', 'exptime_r', 'exptime_z',\n       'meansky_g', 'meansky_r', 'meansky_z', 'galdepth_g', 'galdepth_r',\n       'galdepth_z', 'seeing_g', 'seeing_r', 'seeing_z', 'mjd_obs_g',\n       'mjd_obs_r', 'mjd_obs_z'],\n      dtype='object')"
     },
     "execution_count": 14,
     "metadata": {},
     "output_type": "execute_result"
    }
   ],
   "source": [
    "y_lrg = df_geometric_reg['lrg']#.to_numpy(copy=True)\n",
    "y_elg = df_geometric_reg['elg']#.to_numpy(copy=True)\n",
    "y_qso = df_geometric_reg['qso']#.to_numpy(copy=True)\n",
    "\n",
    "df_geometric_reg.columns"
   ],
   "metadata": {
    "collapsed": false,
    "pycharm": {
     "name": "#%%\n"
    }
   }
  },
  {
   "cell_type": "code",
   "execution_count": 20,
   "outputs": [
    {
     "name": "stdout",
     "output_type": "stream",
     "text": [
      "    stellar       EBV   airmass  ccdskysb_g  ccdskysb_r  ccdskysb_z  \\\n",
      "0  0.205357  0.171079  0.140918    0.578889    0.518889    0.592086   \n",
      "1  0.049107  0.016430  0.013747    0.630872    0.672316    0.438492   \n",
      "2  0.058036  0.062640  0.152529    0.626110    0.577056    0.605068   \n",
      "3  0.062500  0.618593  0.411554    0.617269    0.568405    0.628472   \n",
      "4  0.120536  0.200576  0.304894    0.651783    0.620234    0.540708   \n",
      "\n",
      "   exptime_g  exptime_r  exptime_z     meansky_g  ...     meansky_z  \\\n",
      "0   0.175793   0.214407   0.277244  4.425635e-01  ...  5.513443e-01   \n",
      "1   0.168644   0.112169   0.236833  2.562594e-10  ...  2.840472e-11   \n",
      "2   0.175793   0.214407   0.277244  2.103379e-01  ...  3.579294e-01   \n",
      "3   0.548694   0.164378   0.473245  7.195705e-11  ...  5.566131e-11   \n",
      "4   0.405109   0.131026   0.439217  6.489902e-11  ...  8.777782e-11   \n",
      "\n",
      "   galdepth_g  galdepth_r  galdepth_z  seeing_g  seeing_r  seeing_z  \\\n",
      "0    0.480686    0.674590    0.283245  0.301927  0.311998  0.129479   \n",
      "1    0.511487    0.582933    0.750504  0.211973  0.091550  0.120701   \n",
      "2    0.596021    0.695755    0.299528  0.269886  0.283358  0.172838   \n",
      "3    0.832612    0.766486    0.719828  0.299032  0.254469  0.209068   \n",
      "4    0.748213    0.680751    0.705337  0.411908  0.393542  0.130524   \n",
      "\n",
      "   mjd_obs_g  mjd_obs_r  mjd_obs_z  \n",
      "0   0.388261   0.465611   0.436698  \n",
      "1   0.518587   0.498003   0.443110  \n",
      "2   0.510175   0.522231   0.454674  \n",
      "3   0.861329   0.798231   0.806972  \n",
      "4   0.764569   0.798398   0.271826  \n",
      "\n",
      "[5 rows x 21 columns]\n"
     ]
    }
   ],
   "source": [
    "X = df_geometric_reg.drop(columns=['lrg','elg','qso'])#.to_numpy(copy=True)\n",
    "print(X.head())"
   ],
   "metadata": {
    "collapsed": false,
    "pycharm": {
     "name": "#%%\n"
    }
   }
  },
  {
   "cell_type": "code",
   "source": [
    "print(len(y_lrg))\n",
    "print(len(X))"
   ],
   "metadata": {
    "collapsed": false,
    "pycharm": {
     "name": "#%%\n"
    }
   },
   "execution_count": 21,
   "outputs": [
    {
     "name": "stdout",
     "output_type": "stream",
     "text": [
      "217027\n",
      "217027\n"
     ]
    }
   ]
  },
  {
   "cell_type": "code",
   "execution_count": 25,
   "outputs": [
    {
     "name": "stdout",
     "output_type": "stream",
     "text": [
      "                                 OLS Regression Results                                \n",
      "=======================================================================================\n",
      "Dep. Variable:                    lrg   R-squared (uncentered):                   0.884\n",
      "Model:                            OLS   Adj. R-squared (uncentered):              0.884\n",
      "Method:                 Least Squares   F-statistic:                          7.840e+04\n",
      "Date:                Thu, 05 Aug 2021   Prob (F-statistic):                        0.00\n",
      "Time:                        19:21:44   Log-Likelihood:                      1.3521e+05\n",
      "No. Observations:              217027   AIC:                                 -2.704e+05\n",
      "Df Residuals:                  217006   BIC:                                 -2.702e+05\n",
      "Df Model:                          21                                                  \n",
      "Covariance Type:            nonrobust                                                  \n",
      "==============================================================================\n",
      "                 coef    std err          t      P>|t|      [0.025      0.975]\n",
      "------------------------------------------------------------------------------\n",
      "stellar        0.1797      0.003     71.077      0.000       0.175       0.185\n",
      "EBV           -0.1197      0.003    -37.864      0.000      -0.126      -0.114\n",
      "airmass        0.0190      0.003      7.578      0.000       0.014       0.024\n",
      "ccdskysb_g    -0.0039      0.005     -0.729      0.466      -0.014       0.007\n",
      "ccdskysb_r     0.1346      0.005     26.690      0.000       0.125       0.145\n",
      "ccdskysb_z     0.0312      0.006      5.444      0.000       0.020       0.042\n",
      "exptime_g      0.0458      0.004     10.652      0.000       0.037       0.054\n",
      "exptime_r      0.1388      0.004     38.590      0.000       0.132       0.146\n",
      "exptime_z     -0.0199      0.004     -5.670      0.000      -0.027      -0.013\n",
      "meansky_g      0.0077      0.004      1.917      0.055      -0.000       0.016\n",
      "meansky_r      0.0137      0.004      3.398      0.001       0.006       0.022\n",
      "meansky_z      0.0400      0.004     11.343      0.000       0.033       0.047\n",
      "galdepth_g     0.0996      0.006     16.584      0.000       0.088       0.111\n",
      "galdepth_r     0.0316      0.005      5.781      0.000       0.021       0.042\n",
      "galdepth_z     0.1878      0.004     46.108      0.000       0.180       0.196\n",
      "seeing_g      -0.0444      0.007     -6.792      0.000      -0.057      -0.032\n",
      "seeing_r      -0.0702      0.006    -12.212      0.000      -0.081      -0.059\n",
      "seeing_z       0.1539      0.006     23.917      0.000       0.141       0.167\n",
      "mjd_obs_g      0.0366      0.004      9.043      0.000       0.029       0.044\n",
      "mjd_obs_r     -0.0390      0.004     -9.560      0.000      -0.047      -0.031\n",
      "mjd_obs_z      0.0295      0.003     10.041      0.000       0.024       0.035\n",
      "==============================================================================\n",
      "Omnibus:                    19768.985   Durbin-Watson:                   2.000\n",
      "Prob(Omnibus):                  0.000   Jarque-Bera (JB):            35786.230\n",
      "Skew:                           0.640   Prob(JB):                         0.00\n",
      "Kurtosis:                       4.524   Cond. No.                         70.2\n",
      "==============================================================================\n",
      "\n",
      "Notes:\n",
      "[1] R² is computed without centering (uncentered) since the model does not contain a constant.\n",
      "[2] Standard Errors assume that the covariance matrix of the errors is correctly specified.\n",
      "\n",
      "Regression R^2 for lrg, Geometric :  0.005458063970417593.\n",
      "\n",
      "                                 OLS Regression Results                                \n",
      "=======================================================================================\n",
      "Dep. Variable:                    elg   R-squared (uncentered):                   0.948\n",
      "Model:                            OLS   Adj. R-squared (uncentered):              0.948\n",
      "Method:                 Least Squares   F-statistic:                          1.898e+05\n",
      "Date:                Thu, 05 Aug 2021   Prob (F-statistic):                        0.00\n",
      "Time:                        19:21:45   Log-Likelihood:                      1.7326e+05\n",
      "No. Observations:              217027   AIC:                                 -3.465e+05\n",
      "Df Residuals:                  217006   BIC:                                 -3.463e+05\n",
      "Df Model:                          21                                                  \n",
      "Covariance Type:            nonrobust                                                  \n",
      "==============================================================================\n",
      "                 coef    std err          t      P>|t|      [0.025      0.975]\n",
      "------------------------------------------------------------------------------\n",
      "stellar        0.1627      0.002     76.715      0.000       0.159       0.167\n",
      "EBV           -0.3286      0.003   -123.837      0.000      -0.334      -0.323\n",
      "airmass       -0.0657      0.002    -31.139      0.000      -0.070      -0.062\n",
      "ccdskysb_g    -0.0509      0.004    -11.324      0.000      -0.060      -0.042\n",
      "ccdskysb_r     0.1893      0.004     44.722      0.000       0.181       0.198\n",
      "ccdskysb_z     0.1671      0.005     34.692      0.000       0.158       0.177\n",
      "exptime_g      0.0656      0.004     18.207      0.000       0.059       0.073\n",
      "exptime_r      0.1073      0.003     35.569      0.000       0.101       0.113\n",
      "exptime_z      0.0371      0.003     12.594      0.000       0.031       0.043\n",
      "meansky_g     -0.0098      0.003     -2.886      0.004      -0.016      -0.003\n",
      "meansky_r     -0.0309      0.003     -9.109      0.000      -0.038      -0.024\n",
      "meansky_z      0.0123      0.003      4.151      0.000       0.006       0.018\n",
      "galdepth_g     0.1634      0.005     32.417      0.000       0.154       0.173\n",
      "galdepth_r     0.0057      0.005      1.231      0.218      -0.003       0.015\n",
      "galdepth_z     0.2074      0.003     60.671      0.000       0.201       0.214\n",
      "seeing_g       0.1020      0.005     18.583      0.000       0.091       0.113\n",
      "seeing_r      -0.0734      0.005    -15.214      0.000      -0.083      -0.064\n",
      "seeing_z       0.1188      0.005     22.005      0.000       0.108       0.129\n",
      "mjd_obs_g      0.0695      0.003     20.498      0.000       0.063       0.076\n",
      "mjd_obs_r     -0.0416      0.003    -12.155      0.000      -0.048      -0.035\n",
      "mjd_obs_z      0.0110      0.002      4.462      0.000       0.006       0.016\n",
      "==============================================================================\n",
      "Omnibus:                    18351.029   Durbin-Watson:                   2.001\n",
      "Prob(Omnibus):                  0.000   Jarque-Bera (JB):            95504.356\n",
      "Skew:                          -0.241   Prob(JB):                         0.00\n",
      "Kurtosis:                       6.214   Cond. No.                         70.2\n",
      "==============================================================================\n",
      "\n",
      "Notes:\n",
      "[1] R² is computed without centering (uncentered) since the model does not contain a constant.\n",
      "[2] Standard Errors assume that the covariance matrix of the errors is correctly specified.\n",
      "\n",
      "Regression R^2 for elg, Geometric :  -0.003013178041819886.\n",
      "\n",
      "                                 OLS Regression Results                                \n",
      "=======================================================================================\n",
      "Dep. Variable:                    qso   R-squared (uncentered):                   0.948\n",
      "Model:                            OLS   Adj. R-squared (uncentered):              0.948\n",
      "Method:                 Least Squares   F-statistic:                          1.869e+05\n",
      "Date:                Thu, 05 Aug 2021   Prob (F-statistic):                        0.00\n",
      "Time:                        19:21:45   Log-Likelihood:                      1.5846e+05\n",
      "No. Observations:              217027   AIC:                                 -3.169e+05\n",
      "Df Residuals:                  217006   BIC:                                 -3.167e+05\n",
      "Df Model:                          21                                                  \n",
      "Covariance Type:            nonrobust                                                  \n",
      "==============================================================================\n",
      "                 coef    std err          t      P>|t|      [0.025      0.975]\n",
      "------------------------------------------------------------------------------\n",
      "stellar        0.1791      0.002     78.861      0.000       0.175       0.184\n",
      "EBV           -0.2444      0.003    -86.036      0.000      -0.250      -0.239\n",
      "airmass        0.1012      0.002     44.813      0.000       0.097       0.106\n",
      "ccdskysb_g     0.1666      0.005     34.649      0.000       0.157       0.176\n",
      "ccdskysb_r     0.1968      0.005     43.419      0.000       0.188       0.206\n",
      "ccdskysb_z     0.1346      0.005     26.116      0.000       0.125       0.145\n",
      "exptime_g      0.0467      0.004     12.099      0.000       0.039       0.054\n",
      "exptime_r      0.2013      0.003     62.318      0.000       0.195       0.208\n",
      "exptime_z      0.0007      0.003      0.226      0.821      -0.005       0.007\n",
      "meansky_g      0.0107      0.004      2.960      0.003       0.004       0.018\n",
      "meansky_r      0.0353      0.004      9.717      0.000       0.028       0.042\n",
      "meansky_z      0.0023      0.003      0.736      0.462      -0.004       0.009\n",
      "galdepth_g     0.0966      0.005     17.901      0.000       0.086       0.107\n",
      "galdepth_r     0.0693      0.005     14.104      0.000       0.060       0.079\n",
      "galdepth_z     0.1292      0.004     35.306      0.000       0.122       0.136\n",
      "seeing_g      -0.0844      0.006    -14.366      0.000      -0.096      -0.073\n",
      "seeing_r      -0.0479      0.005     -9.280      0.000      -0.058      -0.038\n",
      "seeing_z       0.0871      0.006     15.067      0.000       0.076       0.098\n",
      "mjd_obs_g     -0.0117      0.004     -3.211      0.001      -0.019      -0.005\n",
      "mjd_obs_r     -0.0571      0.004    -15.586      0.000      -0.064      -0.050\n",
      "mjd_obs_z      0.0273      0.003     10.359      0.000       0.022       0.033\n",
      "==============================================================================\n",
      "Omnibus:                    25384.079   Durbin-Watson:                   2.006\n",
      "Prob(Omnibus):                  0.000   Jarque-Bera (JB):            82773.675\n",
      "Skew:                          -0.601   Prob(JB):                         0.00\n",
      "Kurtosis:                       5.776   Cond. No.                         70.2\n",
      "==============================================================================\n",
      "\n",
      "Notes:\n",
      "[1] R² is computed without centering (uncentered) since the model does not contain a constant.\n",
      "[2] Standard Errors assume that the covariance matrix of the errors is correctly specified.\n",
      "\n",
      "Regression R^2 for qso, Geometric :  0.01464484649272324.\n",
      "\n"
     ]
    }
   ],
   "source": [
    "gal = 'lrg'\n",
    "ols_lrg_geometric = sm.OLS(y_lrg,X).fit()\n",
    "y_pred= ols_lrg_geometric.predict(df_test.drop(columns=['lrg','elg','qso']))\n",
    "y_gold = df_test[gal]\n",
    "print(ols_lrg_geometric.summary())\n",
    "print()\n",
    "print(f\"Regression R^2 for {gal}, Geometric :  {metrics.r2_score(y_gold, y_pred)}.\")\n",
    "print()\n",
    "gal = 'elg'\n",
    "ols_elg_geometric = sm.OLS(y_elg,X).fit()\n",
    "y_pred= ols_elg_geometric.predict(df_test.drop(columns=['lrg','elg','qso']))\n",
    "y_gold = df_test[gal]\n",
    "print(ols_elg_geometric.summary())\n",
    "print()\n",
    "print(f\"Regression R^2 for {gal}, Geometric :  {metrics.r2_score(y_gold, y_pred)}.\")\n",
    "print()\n",
    "gal = 'qso'\n",
    "ols_qso_geometric = sm.OLS(y_qso,X).fit()\n",
    "y_pred= ols_qso_geometric.predict(df_test.drop(columns=['lrg','elg','qso']))\n",
    "y_gold = df_test[gal]\n",
    "print(ols_qso_geometric.summary())\n",
    "print()\n",
    "print(f\"Regression R^2 for {gal}, Geometric :  {metrics.r2_score(y_gold, y_pred)}.\")\n",
    "print()\n"
   ],
   "metadata": {
    "collapsed": false,
    "pycharm": {
     "name": "#%%\n"
    }
   }
  },
  {
   "cell_type": "code",
   "execution_count": null,
   "outputs": [],
   "source": [
    "y_train = df_train['lrg']#.to_numpy(copy=True)\n",
    "X_train = df_train.drop(columns=['lrg','elg','qso'])#.to_numpy(copy=True)\n",
    "y_gold = df_val[gal]\n",
    "X_test = df_val.drop(columns=['lrg','elg','qso'])\n",
    "    reg = Lasso()\n",
    "    reg.fit(X_train,y_train)\n",
    "    y_pred = reg.predict(X_test)\n",
    "\n",
    "    print(f\"Lasso Regression R^2 for {gal}, Geometric :  {metrics.r2_score(y_gold, y_pred)}.\")\n",
    "    print(f\"Lasso Regression MSE for {gal}, Geometric :"
   ],
   "metadata": {
    "collapsed": false,
    "pycharm": {
     "name": "#%%\n"
    }
   }
  }
 ],
 "metadata": {
  "kernelspec": {
   "display_name": "Python 3",
   "language": "python",
   "name": "python3"
  },
  "language_info": {
   "codemirror_mode": {
    "name": "ipython",
    "version": 2
   },
   "file_extension": ".py",
   "mimetype": "text/x-python",
   "name": "python",
   "nbconvert_exporter": "python",
   "pygments_lexer": "ipython2",
   "version": "2.7.6"
  }
 },
 "nbformat": 4,
 "nbformat_minor": 0
}