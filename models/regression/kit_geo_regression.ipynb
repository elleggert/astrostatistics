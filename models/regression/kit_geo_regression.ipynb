{
 "cells": [
  {
   "cell_type": "code",
   "execution_count": 1,
   "outputs": [
    {
     "name": "stdout",
     "output_type": "stream",
     "text": [
      "1.9.0\n"
     ]
    }
   ],
   "source": [
    "\n",
    "import torch\n",
    "import numpy as np\n",
    "import pandas as pd\n",
    "import os\n",
    "import torch\n",
    "import torch.nn as nn\n",
    "import torch.nn.functional as F\n",
    "from sklearn.model_selection import train_test_split\n",
    "from sklearn.utils import shuffle\n",
    "from sklearn import preprocessing, metrics\n",
    "from torch.utils.data import DataLoader, Dataset\n",
    "import torch.optim as optim\n",
    "import time\n",
    "import seaborn as sns\n",
    "import matplotlib.pyplot as plt\n",
    "\n",
    "\n",
    "print(torch.__version__)\n"
   ],
   "metadata": {
    "collapsed": false,
    "pycharm": {
     "name": "#%%\n"
    }
   }
  },
  {
   "cell_type": "markdown",
   "source": [
    "# Data Preprocessing\n"
   ],
   "metadata": {
    "collapsed": false
   }
  },
  {
   "cell_type": "code",
   "execution_count": 37,
   "outputs": [],
   "source": [
    "df_train = pd.read_csv('../../bricks_data/train.csv')\n",
    "df_val = pd.read_csv('../../bricks_data/val.csv')\n",
    "df_test = pd.read_csv('../../bricks_data/test.csv')\n"
   ],
   "metadata": {
    "collapsed": false,
    "pycharm": {
     "name": "#%%\n"
    }
   }
  },
  {
   "cell_type": "code",
   "execution_count": 38,
   "outputs": [
    {
     "data": {
      "text/plain": "   pixel_id       lrg       elg       qso  exposures   stellar       EBV  \\\n0  0.235900  0.133333  0.292135  0.263333   0.089249  0.218978  0.642731   \n1  0.292224  0.444444  0.464419  0.550000   0.123732  0.102190  0.158408   \n2  0.542426  0.355556  0.505618  0.670000   0.417850  0.102190  0.169403   \n3  0.751257  0.322222  0.456929  0.636667   0.279919  0.109489  0.214556   \n4  0.673988  0.422222  0.531835  0.563333   0.492901  0.094891  0.201247   \n\n    airmass  ccdskysb_g  ccdskysb_r  ...  galdepth_g  galdepth_r  galdepth_z  \\\n0  0.983753    0.475857    0.319229  ...    0.648952    0.599763    0.378826   \n1  0.593908    0.603885    0.506017  ...    0.642801    0.584043    0.490447   \n2  0.161007    0.481019    0.516146  ...    0.443395    0.702748    0.439294   \n3  0.184611    0.665120    0.591438  ...    0.358622    0.739656    0.556167   \n4  0.169394    0.614750    0.516285  ...    0.484669    0.693925    0.508370   \n\n   seeing_g  seeing_r  seeing_z  mjd_obs_g  mjd_obs_r  mjd_obs_z         Z  \n0  0.772369  0.586223  0.565264   0.882539   0.886028   0.830570  0.600523  \n1  0.506086  0.414464  0.265659   0.772584   0.698062   0.435535  0.160716  \n2  0.534037  0.437317  0.272643   0.449691   0.482133   0.507679  0.021694  \n3  0.456429  0.415118  0.215858   0.500379   0.457761   0.478062  0.078766  \n4  0.465233  0.363679  0.202216   0.397811   0.411058   0.465827  0.102343  \n\n[5 rows x 27 columns]",
      "text/html": "<div>\n<style scoped>\n    .dataframe tbody tr th:only-of-type {\n        vertical-align: middle;\n    }\n\n    .dataframe tbody tr th {\n        vertical-align: top;\n    }\n\n    .dataframe thead th {\n        text-align: right;\n    }\n</style>\n<table border=\"1\" class=\"dataframe\">\n  <thead>\n    <tr style=\"text-align: right;\">\n      <th></th>\n      <th>pixel_id</th>\n      <th>lrg</th>\n      <th>elg</th>\n      <th>qso</th>\n      <th>exposures</th>\n      <th>stellar</th>\n      <th>EBV</th>\n      <th>airmass</th>\n      <th>ccdskysb_g</th>\n      <th>ccdskysb_r</th>\n      <th>...</th>\n      <th>galdepth_g</th>\n      <th>galdepth_r</th>\n      <th>galdepth_z</th>\n      <th>seeing_g</th>\n      <th>seeing_r</th>\n      <th>seeing_z</th>\n      <th>mjd_obs_g</th>\n      <th>mjd_obs_r</th>\n      <th>mjd_obs_z</th>\n      <th>Z</th>\n    </tr>\n  </thead>\n  <tbody>\n    <tr>\n      <th>0</th>\n      <td>0.235900</td>\n      <td>0.133333</td>\n      <td>0.292135</td>\n      <td>0.263333</td>\n      <td>0.089249</td>\n      <td>0.218978</td>\n      <td>0.642731</td>\n      <td>0.983753</td>\n      <td>0.475857</td>\n      <td>0.319229</td>\n      <td>...</td>\n      <td>0.648952</td>\n      <td>0.599763</td>\n      <td>0.378826</td>\n      <td>0.772369</td>\n      <td>0.586223</td>\n      <td>0.565264</td>\n      <td>0.882539</td>\n      <td>0.886028</td>\n      <td>0.830570</td>\n      <td>0.600523</td>\n    </tr>\n    <tr>\n      <th>1</th>\n      <td>0.292224</td>\n      <td>0.444444</td>\n      <td>0.464419</td>\n      <td>0.550000</td>\n      <td>0.123732</td>\n      <td>0.102190</td>\n      <td>0.158408</td>\n      <td>0.593908</td>\n      <td>0.603885</td>\n      <td>0.506017</td>\n      <td>...</td>\n      <td>0.642801</td>\n      <td>0.584043</td>\n      <td>0.490447</td>\n      <td>0.506086</td>\n      <td>0.414464</td>\n      <td>0.265659</td>\n      <td>0.772584</td>\n      <td>0.698062</td>\n      <td>0.435535</td>\n      <td>0.160716</td>\n    </tr>\n    <tr>\n      <th>2</th>\n      <td>0.542426</td>\n      <td>0.355556</td>\n      <td>0.505618</td>\n      <td>0.670000</td>\n      <td>0.417850</td>\n      <td>0.102190</td>\n      <td>0.169403</td>\n      <td>0.161007</td>\n      <td>0.481019</td>\n      <td>0.516146</td>\n      <td>...</td>\n      <td>0.443395</td>\n      <td>0.702748</td>\n      <td>0.439294</td>\n      <td>0.534037</td>\n      <td>0.437317</td>\n      <td>0.272643</td>\n      <td>0.449691</td>\n      <td>0.482133</td>\n      <td>0.507679</td>\n      <td>0.021694</td>\n    </tr>\n    <tr>\n      <th>3</th>\n      <td>0.751257</td>\n      <td>0.322222</td>\n      <td>0.456929</td>\n      <td>0.636667</td>\n      <td>0.279919</td>\n      <td>0.109489</td>\n      <td>0.214556</td>\n      <td>0.184611</td>\n      <td>0.665120</td>\n      <td>0.591438</td>\n      <td>...</td>\n      <td>0.358622</td>\n      <td>0.739656</td>\n      <td>0.556167</td>\n      <td>0.456429</td>\n      <td>0.415118</td>\n      <td>0.215858</td>\n      <td>0.500379</td>\n      <td>0.457761</td>\n      <td>0.478062</td>\n      <td>0.078766</td>\n    </tr>\n    <tr>\n      <th>4</th>\n      <td>0.673988</td>\n      <td>0.422222</td>\n      <td>0.531835</td>\n      <td>0.563333</td>\n      <td>0.492901</td>\n      <td>0.094891</td>\n      <td>0.201247</td>\n      <td>0.169394</td>\n      <td>0.614750</td>\n      <td>0.516285</td>\n      <td>...</td>\n      <td>0.484669</td>\n      <td>0.693925</td>\n      <td>0.508370</td>\n      <td>0.465233</td>\n      <td>0.363679</td>\n      <td>0.202216</td>\n      <td>0.397811</td>\n      <td>0.411058</td>\n      <td>0.465827</td>\n      <td>0.102343</td>\n    </tr>\n  </tbody>\n</table>\n<p>5 rows × 27 columns</p>\n</div>"
     },
     "execution_count": 38,
     "metadata": {},
     "output_type": "execute_result"
    }
   ],
   "source": [
    "df_train.head()"
   ],
   "metadata": {
    "collapsed": false,
    "pycharm": {
     "name": "#%%\n"
    }
   }
  },
  {
   "cell_type": "code",
   "execution_count": 39,
   "outputs": [],
   "source": [
    "df_train.drop(columns=['pixel_id', 'exposures','Z'], axis=1, inplace=True)\n",
    "df_val.drop(columns=['pixel_id', 'exposures','Z'], axis=1, inplace=True)\n",
    "df_test.drop(columns=['pixel_id', 'exposures','Z'], axis=1, inplace=True)\n"
   ],
   "metadata": {
    "collapsed": false,
    "pycharm": {
     "name": "#%%\n"
    }
   }
  },
  {
   "cell_type": "markdown",
   "source": [
    "# Regression"
   ],
   "metadata": {
    "collapsed": false
   }
  },
  {
   "cell_type": "code",
   "execution_count": 40,
   "outputs": [],
   "source": [
    "from sklearn.linear_model import LinearRegression, Ridge, Lasso\n",
    "galaxy_types = ['lrg','elg','qso']\n"
   ],
   "metadata": {
    "collapsed": false,
    "pycharm": {
     "name": "#%%\n"
    }
   }
  },
  {
   "cell_type": "markdown",
   "source": [
    "### Geometrics"
   ],
   "metadata": {
    "collapsed": false
   }
  },
  {
   "cell_type": "markdown",
   "source": [
    "### Geometric - Linear Regression"
   ],
   "metadata": {
    "collapsed": false
   }
  },
  {
   "cell_type": "code",
   "execution_count": 41,
   "outputs": [
    {
     "name": "stdout",
     "output_type": "stream",
     "text": [
      "Linear Regression R^2 for lrg, Geometric :  0.047569415581821706.\n",
      "Linear Regression MSE for lrg, Geometric :  0.016023777999455358.\n",
      "\n",
      "Linear Regression R^2 for elg, Geometric :  0.11569014023728696.\n",
      "Linear Regression MSE for elg, Geometric :  0.010353972372662978.\n",
      "\n",
      "Linear Regression R^2 for qso, Geometric :  0.08781718005332029.\n",
      "Linear Regression MSE for qso, Geometric :  0.012399955112600352.\n",
      "\n"
     ]
    }
   ],
   "source": [
    "for gal in galaxy_types:\n",
    "    y_train = df_train[gal]#.to_numpy(copy=True)\n",
    "    X_train = df_train.drop(columns=['lrg','elg','qso'])#.to_numpy(copy=True)\n",
    "    y_gold = df_val[gal]\n",
    "    X_test = df_val.drop(columns=['lrg','elg','qso'])\n",
    "    reg = LinearRegression()\n",
    "    reg.fit(X_train,y_train)\n",
    "    y_pred = reg.predict(X_test)\n",
    "\n",
    "    print(f\"Linear Regression R^2 for {gal}, Geometric :  {metrics.r2_score(y_gold, y_pred)}.\")\n",
    "    print(f\"Linear Regression MSE for {gal}, Geometric :  {metrics.mean_squared_error(y_gold, y_pred)}.\")\n",
    "    print()"
   ],
   "metadata": {
    "collapsed": false,
    "pycharm": {
     "name": "#%%\n"
    }
   }
  },
  {
   "cell_type": "markdown",
   "source": [
    "### Geometric - Ridge Regression"
   ],
   "metadata": {
    "collapsed": false
   }
  },
  {
   "cell_type": "code",
   "execution_count": 42,
   "outputs": [
    {
     "name": "stdout",
     "output_type": "stream",
     "text": [
      "Ridge Regression R^2 for lrg, Geometric :  0.0475678736619779.\n",
      "Ridge Regression MSE for lrg, Geometric :  0.01602380394085379.\n",
      "\n",
      "Ridge Regression R^2 for elg, Geometric :  0.11568839873859216.\n",
      "Ridge Regression MSE for elg, Geometric :  0.010353992763060274.\n",
      "\n",
      "Ridge Regression R^2 for qso, Geometric :  0.08781386964766325.\n",
      "Ridge Regression MSE for qso, Geometric :  0.01240000011331803.\n",
      "\n"
     ]
    }
   ],
   "source": [
    "for gal in galaxy_types:\n",
    "    y_train = df_train[gal]#.to_numpy(copy=True)\n",
    "    X_train = df_train.drop(columns=['lrg','elg','qso'])#.to_numpy(copy=True)\n",
    "    y_gold = df_val[gal]\n",
    "    X_test = df_val.drop(columns=['lrg','elg','qso'])\n",
    "    reg = Ridge()\n",
    "    reg.fit(X_train,y_train)\n",
    "    y_pred = reg.predict(X_test)\n",
    "\n",
    "    print(f\"Ridge Regression R^2 for {gal}, Geometric :  {metrics.r2_score(y_gold, y_pred)}.\")\n",
    "    print(f\"Ridge Regression MSE for {gal}, Geometric :  {metrics.mean_squared_error(y_gold, y_pred)}.\")\n",
    "    print()"
   ],
   "metadata": {
    "collapsed": false,
    "pycharm": {
     "name": "#%%\n"
    }
   }
  },
  {
   "cell_type": "markdown",
   "source": [
    "### Geometric - Lasso Regression"
   ],
   "metadata": {
    "collapsed": false
   }
  },
  {
   "cell_type": "code",
   "execution_count": 43,
   "outputs": [
    {
     "name": "stdout",
     "output_type": "stream",
     "text": [
      "Lasso Regression R^2 for lrg, Geometric :  -1.5241256349884935e-05.\n",
      "Lasso Regression MSE for lrg, Geometric :  0.016824346555137464.\n",
      "\n",
      "Lasso Regression R^2 for elg, Geometric :  -8.833241829098171e-07.\n",
      "Lasso Regression MSE for elg, Geometric :  0.011708544696488457.\n",
      "\n",
      "Lasso Regression R^2 for qso, Geometric :  -1.8542019498024587e-05.\n",
      "Lasso Regression MSE for qso, Geometric :  0.013593969061525034.\n",
      "\n"
     ]
    }
   ],
   "source": [
    "for gal in galaxy_types:\n",
    "    y_train = df_train[gal]#.to_numpy(copy=True)\n",
    "    X_train = df_train.drop(columns=['lrg','elg','qso'])#.to_numpy(copy=True)\n",
    "    y_gold = df_val[gal]\n",
    "    X_test = df_val.drop(columns=['lrg','elg','qso'])\n",
    "    reg = Lasso()\n",
    "    reg.fit(X_train,y_train)\n",
    "    y_pred = reg.predict(X_test)\n",
    "\n",
    "    print(f\"Lasso Regression R^2 for {gal}, Geometric :  {metrics.r2_score(y_gold, y_pred)}.\")\n",
    "    print(f\"Lasso Regression MSE for {gal}, Geometric :  {metrics.mean_squared_error(y_gold, y_pred)}.\")\n",
    "    print()\n"
   ],
   "metadata": {
    "collapsed": false,
    "pycharm": {
     "name": "#%%\n"
    }
   }
  },
  {
   "cell_type": "code",
   "execution_count": null,
   "outputs": [],
   "source": [
    "# Using the Best classifier to test on the testset"
   ],
   "metadata": {
    "collapsed": false,
    "pycharm": {
     "name": "#%%\n"
    }
   }
  },
  {
   "cell_type": "code",
   "execution_count": 44,
   "outputs": [
    {
     "name": "stdout",
     "output_type": "stream",
     "text": [
      "Results for full dataset on unseen test-set\n",
      "Linear Regression R^2 for lrg, Geometric :  0.04300889757493065.\n",
      "Linear Regression MSE for lrg, Geometric :  0.015931073930618617.\n",
      "\n",
      "Linear Regression R^2 for elg, Geometric :  0.11224466323756643.\n",
      "Linear Regression MSE for elg, Geometric :  0.010422090163892258.\n",
      "\n",
      "Linear Regression R^2 for qso, Geometric :  0.0852139658161416.\n",
      "Linear Regression MSE for qso, Geometric :  0.012461355098423905.\n",
      "\n"
     ]
    }
   ],
   "source": [
    "# Stacking Train and Val Set\n",
    "df = pd.concat((df_train, df_val), axis=0)\n",
    "print(\"Results for full dataset on unseen test-set\")\n",
    "for gal in galaxy_types:\n",
    "    y_train = df[gal]#.to_numpy(copy=True)\n",
    "    X_train = df.drop(columns=['lrg','elg','qso'])#.to_numpy(copy=True)\n",
    "    y_gold = df_test[gal]\n",
    "    X_test = df_test.drop(columns=['lrg','elg','qso'])\n",
    "    reg = LinearRegression()\n",
    "    reg.fit(X_train,y_train)\n",
    "    y_pred = reg.predict(X_test)\n",
    "\n",
    "    print(f\"Linear Regression R^2 for {gal}, Geometric :  {metrics.r2_score(y_gold, y_pred)}.\")\n",
    "    print(f\"Linear Regression MSE for {gal}, Geometric :  {metrics.mean_squared_error(y_gold, y_pred)}.\")\n",
    "    print()\n"
   ],
   "metadata": {
    "collapsed": false,
    "pycharm": {
     "name": "#%%\n"
    }
   }
  },
  {
   "cell_type": "code",
   "execution_count": null,
   "outputs": [],
   "source": [],
   "metadata": {
    "collapsed": false,
    "pycharm": {
     "name": "#%%\n"
    }
   }
  },
  {
   "cell_type": "code",
   "execution_count": null,
   "outputs": [],
   "source": [],
   "metadata": {
    "collapsed": false,
    "pycharm": {
     "name": "#%%\n"
    }
   }
  },
  {
   "cell_type": "markdown",
   "source": [
    "### Kitanidis\n"
   ],
   "metadata": {
    "collapsed": false
   }
  },
  {
   "cell_type": "markdown",
   "source": [
    "### Kitanidis - Linear Regression"
   ],
   "metadata": {
    "collapsed": false
   }
  },
  {
   "cell_type": "code",
   "execution_count": null,
   "outputs": [],
   "source": [
    "for gal in galaxy_types:\n",
    "    y_train = train_df_kit[gal]#.to_numpy(copy=True)\n",
    "    X_train = train_df_kit.drop(columns=['lrg','elg','qso'])#.to_numpy(copy=True)\n",
    "    y_gold = test_df_kit[gal]\n",
    "    X_test = test_df_kit.drop(columns=['lrg','elg','qso'])\n",
    "    reg = LinearRegression()\n",
    "    reg.fit(X_train,y_train)\n",
    "    y_pred = reg.predict(X_test)\n",
    "\n",
    "    print(f\"Linear Regression R^2 for {gal}, Kitanidis :  {metrics.r2_score(y_gold, y_pred)}.\")\n",
    "    print(f\"Linear Regression MSE for {gal}, Kitanidis :  {metrics.mean_squared_error(y_gold, y_pred)}.\")"
   ],
   "metadata": {
    "collapsed": false,
    "pycharm": {
     "name": "#%%\n"
    }
   }
  },
  {
   "cell_type": "markdown",
   "source": [
    "### Kitanidis - Ridge Regression"
   ],
   "metadata": {
    "collapsed": false
   }
  },
  {
   "cell_type": "code",
   "execution_count": null,
   "outputs": [],
   "source": [
    "for gal in galaxy_types:\n",
    "    y_train = train_df_kit[gal]#.to_numpy(copy=True)\n",
    "    X_train = train_df_kit.drop(columns=['lrg','elg','qso'])#.to_numpy(copy=True)\n",
    "    y_gold = test_df_kit[gal]\n",
    "    X_test = test_df_kit.drop(columns=['lrg','elg','qso'])\n",
    "    reg = Ridge()\n",
    "    reg.fit(X_train,y_train)\n",
    "    y_pred = reg.predict(X_test)\n",
    "\n",
    "    print(f\"Ridge Regression R^2 for {gal}, Kitanidis :  {metrics.r2_score(y_gold, y_pred)}.\")\n",
    "    print(f\"Ridge Regression MSE for {gal}, Kitanidis :  {metrics.mean_squared_error(y_gold, y_pred)}.\")"
   ],
   "metadata": {
    "collapsed": false,
    "pycharm": {
     "name": "#%%\n"
    }
   }
  },
  {
   "cell_type": "markdown",
   "source": [
    "### Kitanidis - Lasso Regression"
   ],
   "metadata": {
    "collapsed": false
   }
  },
  {
   "cell_type": "code",
   "execution_count": null,
   "outputs": [],
   "source": [
    "for gal in galaxy_types:\n",
    "    y_train = train_df_kit[gal]#.to_numpy(copy=True)\n",
    "    X_train = train_df_kit.drop(columns=['lrg','elg','qso'])#.to_numpy(copy=True)\n",
    "    y_gold = test_df_kit[gal]\n",
    "    X_test = test_df_kit.drop(columns=['lrg','elg','qso'])\n",
    "    reg = Lasso()\n",
    "    reg.fit(X_train,y_train)\n",
    "    y_pred = reg.predict(X_test)\n",
    "\n",
    "    print(f\"Lasso Regression R^2 for {gal}, Kitanidis :  {metrics.r2_score(y_gold, y_pred)}.\")\n",
    "    print(f\"Lasso Regression MSE for {gal}, Kitanidis :  {metrics.mean_squared_error(y_gold, y_pred)}.\")\n"
   ],
   "metadata": {
    "collapsed": false,
    "pycharm": {
     "name": "#%%\n"
    }
   }
  },
  {
   "cell_type": "markdown",
   "source": [
    "### Kitanidis - AdaBoost-Regressor"
   ],
   "metadata": {
    "collapsed": false
   }
  },
  {
   "cell_type": "code",
   "execution_count": null,
   "outputs": [],
   "source": [
    "for gal in galaxy_types:\n",
    "    y_train = train_df_kit[gal]#.to_numpy(copy=True)\n",
    "    X_train = train_df_kit.drop(columns=['lrg','elg','qso'])#.to_numpy(copy=True)\n",
    "    y_gold = test_df_kit[gal]\n",
    "    X_test = test_df_kit.drop(columns=['lrg','elg','qso'])\n",
    "    reg = AdaBoostRegressor(n_estimators=100)\n",
    "    reg.fit(X_train,y_train)\n",
    "    y_pred = reg.predict(X_test)\n",
    "\n",
    "    print(f\"AdaBoost Regression R^2 for {gal}, Kitanidis :  {metrics.r2_score(y_gold, y_pred)}.\")\n",
    "    print(f\"AdaBoost Regression MSE for {gal}, Kitanidis :  {metrics.mean_squared_error(y_gold, y_pred)}.\")\n",
    "\n",
    "\n",
    "\n"
   ],
   "metadata": {
    "collapsed": false,
    "pycharm": {
     "name": "#%%\n"
    }
   }
  },
  {
   "cell_type": "code",
   "execution_count": null,
   "outputs": [],
   "source": [
    "\n"
   ],
   "metadata": {
    "collapsed": false,
    "pycharm": {
     "name": "#%%\n"
    }
   }
  }
 ],
 "metadata": {
  "kernelspec": {
   "display_name": "Python 3",
   "language": "python",
   "name": "python3"
  },
  "language_info": {
   "codemirror_mode": {
    "name": "ipython",
    "version": 2
   },
   "file_extension": ".py",
   "mimetype": "text/x-python",
   "name": "python",
   "nbconvert_exporter": "python",
   "pygments_lexer": "ipython2",
   "version": "2.7.6"
  }
 },
 "nbformat": 4,
 "nbformat_minor": 0
}