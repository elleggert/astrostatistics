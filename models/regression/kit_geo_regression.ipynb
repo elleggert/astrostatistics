{
 "cells": [
  {
   "cell_type": "code",
   "execution_count": 1,
   "outputs": [
    {
     "name": "stdout",
     "output_type": "stream",
     "text": [
      "1.9.0\n"
     ]
    }
   ],
   "source": [
    "\n",
    "import torch\n",
    "import numpy as np\n",
    "import pandas as pd\n",
    "import os\n",
    "import torch\n",
    "import torch.nn as nn\n",
    "import torch.nn.functional as F\n",
    "from sklearn.model_selection import train_test_split\n",
    "from sklearn.utils import shuffle\n",
    "from sklearn import preprocessing, metrics\n",
    "from torch.utils.data import DataLoader, Dataset\n",
    "import torch.optim as optim\n",
    "import time\n",
    "import seaborn as sns\n",
    "import matplotlib.pyplot as plt\n",
    "\n",
    "\n",
    "print(torch.__version__)\n"
   ],
   "metadata": {
    "collapsed": false,
    "pycharm": {
     "name": "#%%\n"
    }
   }
  },
  {
   "cell_type": "markdown",
   "source": [
    "# Data Preprocessing\n"
   ],
   "metadata": {
    "collapsed": false
   }
  },
  {
   "cell_type": "code",
   "execution_count": 2,
   "outputs": [],
   "source": [
    "df_train = pd.read_csv('../../bricks_data/train.csv')\n",
    "df_val = pd.read_csv('../../bricks_data/val.csv')\n",
    "df_test = pd.read_csv('../../bricks_data/test.csv')\n"
   ],
   "metadata": {
    "collapsed": false,
    "pycharm": {
     "name": "#%%\n"
    }
   }
  },
  {
   "cell_type": "code",
   "execution_count": 3,
   "outputs": [
    {
     "data": {
      "text/plain": "   pixel_id       lrg       elg       qso  exposures   stellar       EBV  \\\n0  0.103685  0.263736  0.525547  0.487342   0.088435  0.087591  0.128803   \n1  0.327726  0.296703  0.441606  0.496835   0.221088  0.437956  0.303483   \n2  0.705126  0.340659  0.412409  0.620253   0.564626  0.072993  0.151647   \n3  0.364635  0.087912  0.208029  0.224684   0.214286  0.145985  0.304525   \n4  0.262440  0.373626  0.478102  0.560127   0.166667  0.102190  0.090885   \n\n    airmass  ccdskysb_g  ccdskysb_r  ...  galdepth_g  galdepth_r  galdepth_z  \\\n0  0.088490    0.468382    0.404701  ...    0.419208    0.332663    0.647455   \n1  0.597293    0.658991    0.429647  ...    0.605944    0.625834    0.359296   \n2  0.226004    0.499403    0.492537  ...    0.531063    0.687404    0.472339   \n3  0.479891    0.648945    0.482539  ...    0.589280    0.608238    0.414909   \n4  0.773341    0.593581    0.463080  ...    0.570504    0.617609    0.486937   \n\n   seeing_g  seeing_r  seeing_z  mjd_obs_g  mjd_obs_r  mjd_obs_z         Z  \n0  0.194888  0.271313  0.297032   0.506802   0.568064   0.558824  0.076130  \n1  0.511797  0.480754  0.268188   0.501065   0.679044   0.567014  0.091903  \n2  0.352621  0.396116  0.306492   0.446973   0.444891   0.446127  0.140891  \n3  0.625296  0.515039  0.419056   0.558951   0.560496   0.511994  0.014051  \n4  0.607013  0.352987  0.304485   0.776461   0.768442   0.474858  0.085564  \n\n[5 rows x 27 columns]",
      "text/html": "<div>\n<style scoped>\n    .dataframe tbody tr th:only-of-type {\n        vertical-align: middle;\n    }\n\n    .dataframe tbody tr th {\n        vertical-align: top;\n    }\n\n    .dataframe thead th {\n        text-align: right;\n    }\n</style>\n<table border=\"1\" class=\"dataframe\">\n  <thead>\n    <tr style=\"text-align: right;\">\n      <th></th>\n      <th>pixel_id</th>\n      <th>lrg</th>\n      <th>elg</th>\n      <th>qso</th>\n      <th>exposures</th>\n      <th>stellar</th>\n      <th>EBV</th>\n      <th>airmass</th>\n      <th>ccdskysb_g</th>\n      <th>ccdskysb_r</th>\n      <th>...</th>\n      <th>galdepth_g</th>\n      <th>galdepth_r</th>\n      <th>galdepth_z</th>\n      <th>seeing_g</th>\n      <th>seeing_r</th>\n      <th>seeing_z</th>\n      <th>mjd_obs_g</th>\n      <th>mjd_obs_r</th>\n      <th>mjd_obs_z</th>\n      <th>Z</th>\n    </tr>\n  </thead>\n  <tbody>\n    <tr>\n      <th>0</th>\n      <td>0.103685</td>\n      <td>0.263736</td>\n      <td>0.525547</td>\n      <td>0.487342</td>\n      <td>0.088435</td>\n      <td>0.087591</td>\n      <td>0.128803</td>\n      <td>0.088490</td>\n      <td>0.468382</td>\n      <td>0.404701</td>\n      <td>...</td>\n      <td>0.419208</td>\n      <td>0.332663</td>\n      <td>0.647455</td>\n      <td>0.194888</td>\n      <td>0.271313</td>\n      <td>0.297032</td>\n      <td>0.506802</td>\n      <td>0.568064</td>\n      <td>0.558824</td>\n      <td>0.076130</td>\n    </tr>\n    <tr>\n      <th>1</th>\n      <td>0.327726</td>\n      <td>0.296703</td>\n      <td>0.441606</td>\n      <td>0.496835</td>\n      <td>0.221088</td>\n      <td>0.437956</td>\n      <td>0.303483</td>\n      <td>0.597293</td>\n      <td>0.658991</td>\n      <td>0.429647</td>\n      <td>...</td>\n      <td>0.605944</td>\n      <td>0.625834</td>\n      <td>0.359296</td>\n      <td>0.511797</td>\n      <td>0.480754</td>\n      <td>0.268188</td>\n      <td>0.501065</td>\n      <td>0.679044</td>\n      <td>0.567014</td>\n      <td>0.091903</td>\n    </tr>\n    <tr>\n      <th>2</th>\n      <td>0.705126</td>\n      <td>0.340659</td>\n      <td>0.412409</td>\n      <td>0.620253</td>\n      <td>0.564626</td>\n      <td>0.072993</td>\n      <td>0.151647</td>\n      <td>0.226004</td>\n      <td>0.499403</td>\n      <td>0.492537</td>\n      <td>...</td>\n      <td>0.531063</td>\n      <td>0.687404</td>\n      <td>0.472339</td>\n      <td>0.352621</td>\n      <td>0.396116</td>\n      <td>0.306492</td>\n      <td>0.446973</td>\n      <td>0.444891</td>\n      <td>0.446127</td>\n      <td>0.140891</td>\n    </tr>\n    <tr>\n      <th>3</th>\n      <td>0.364635</td>\n      <td>0.087912</td>\n      <td>0.208029</td>\n      <td>0.224684</td>\n      <td>0.214286</td>\n      <td>0.145985</td>\n      <td>0.304525</td>\n      <td>0.479891</td>\n      <td>0.648945</td>\n      <td>0.482539</td>\n      <td>...</td>\n      <td>0.589280</td>\n      <td>0.608238</td>\n      <td>0.414909</td>\n      <td>0.625296</td>\n      <td>0.515039</td>\n      <td>0.419056</td>\n      <td>0.558951</td>\n      <td>0.560496</td>\n      <td>0.511994</td>\n      <td>0.014051</td>\n    </tr>\n    <tr>\n      <th>4</th>\n      <td>0.262440</td>\n      <td>0.373626</td>\n      <td>0.478102</td>\n      <td>0.560127</td>\n      <td>0.166667</td>\n      <td>0.102190</td>\n      <td>0.090885</td>\n      <td>0.773341</td>\n      <td>0.593581</td>\n      <td>0.463080</td>\n      <td>...</td>\n      <td>0.570504</td>\n      <td>0.617609</td>\n      <td>0.486937</td>\n      <td>0.607013</td>\n      <td>0.352987</td>\n      <td>0.304485</td>\n      <td>0.776461</td>\n      <td>0.768442</td>\n      <td>0.474858</td>\n      <td>0.085564</td>\n    </tr>\n  </tbody>\n</table>\n<p>5 rows × 27 columns</p>\n</div>"
     },
     "execution_count": 3,
     "metadata": {},
     "output_type": "execute_result"
    }
   ],
   "source": [
    "df_train.head()"
   ],
   "metadata": {
    "collapsed": false,
    "pycharm": {
     "name": "#%%\n"
    }
   }
  },
  {
   "cell_type": "code",
   "execution_count": 4,
   "outputs": [],
   "source": [
    "df_train.drop(columns=['pixel_id', 'exposures','Z'], axis=1, inplace=True)\n",
    "df_val.drop(columns=['pixel_id', 'exposures','Z'], axis=1, inplace=True)\n",
    "df_test.drop(columns=['pixel_id', 'exposures','Z'], axis=1, inplace=True)\n"
   ],
   "metadata": {
    "collapsed": false,
    "pycharm": {
     "name": "#%%\n"
    }
   }
  },
  {
   "cell_type": "code",
   "execution_count": null,
   "outputs": [],
   "source": [
    "corrMatrix = df_kitanidis.corr()\n",
    "sns.heatmap(corrMatrix, annot=False)\n",
    "plt.show()\n"
   ],
   "metadata": {
    "collapsed": false,
    "pycharm": {
     "name": "#%%\n"
    }
   }
  },
  {
   "cell_type": "markdown",
   "source": [
    "# Regression"
   ],
   "metadata": {
    "collapsed": false
   }
  },
  {
   "cell_type": "code",
   "execution_count": null,
   "outputs": [],
   "source": [
    "from sklearn.linear_model import LinearRegression, Ridge, Lasso\n",
    "from sklearn.ensemble import AdaBoostRegressor\n",
    "galaxy_types = ['lrg','elg','qso']\n"
   ],
   "metadata": {
    "collapsed": false,
    "pycharm": {
     "name": "#%%\n"
    }
   }
  },
  {
   "cell_type": "markdown",
   "source": [
    "### Geometrics"
   ],
   "metadata": {
    "collapsed": false
   }
  },
  {
   "cell_type": "markdown",
   "source": [
    "### Geometric - Linear Regression"
   ],
   "metadata": {
    "collapsed": false
   }
  },
  {
   "cell_type": "code",
   "execution_count": null,
   "outputs": [],
   "source": [
    "for gal in galaxy_types:\n",
    "    y_train = train_df_geo[gal]#.to_numpy(copy=True)\n",
    "    X_train = train_df_geo.drop(columns=['lrg','elg','qso'])#.to_numpy(copy=True)\n",
    "    y_gold = test_df_geo[gal]\n",
    "    X_test = test_df_geo.drop(columns=['lrg','elg','qso'])\n",
    "    reg = LinearRegression()\n",
    "    reg.fit(X_train,y_train)\n",
    "    y_pred = reg.predict(X_test)\n",
    "\n",
    "    print(f\"Linear Regression R^2 for {gal}, Geometric :  {metrics.r2_score(y_gold, y_pred)}.\")\n",
    "    print(f\"Linear Regression MSE for {gal}, Geometric :  {metrics.mean_squared_error(y_gold, y_pred)}.\")"
   ],
   "metadata": {
    "collapsed": false,
    "pycharm": {
     "name": "#%%\n"
    }
   }
  },
  {
   "cell_type": "markdown",
   "source": [
    "### Geometric - Ridge Regression"
   ],
   "metadata": {
    "collapsed": false
   }
  },
  {
   "cell_type": "code",
   "execution_count": null,
   "outputs": [],
   "source": [
    "for gal in galaxy_types:\n",
    "    y_train = train_df_geo[gal]#.to_numpy(copy=True)\n",
    "    X_train = train_df_geo.drop(columns=['lrg','elg','qso'])#.to_numpy(copy=True)\n",
    "    y_gold = test_df_geo[gal]\n",
    "    X_test = test_df_geo.drop(columns=['lrg','elg','qso'])\n",
    "    reg = Ridge()\n",
    "    reg.fit(X_train,y_train)\n",
    "    y_pred = reg.predict(X_test)\n",
    "\n",
    "    print(f\"Ridge Regression R^2 for {gal}, Geometric :  {metrics.r2_score(y_gold, y_pred)}.\")\n",
    "    print(f\"Ridge Regression MSE for {gal}, Geometric :  {metrics.mean_squared_error(y_gold, y_pred)}.\")"
   ],
   "metadata": {
    "collapsed": false,
    "pycharm": {
     "name": "#%%\n"
    }
   }
  },
  {
   "cell_type": "markdown",
   "source": [
    "### Geometric - Lasso Regression"
   ],
   "metadata": {
    "collapsed": false
   }
  },
  {
   "cell_type": "code",
   "execution_count": null,
   "outputs": [],
   "source": [
    "for gal in galaxy_types:\n",
    "    y_train = train_df_geo[gal]#.to_numpy(copy=True)\n",
    "    X_train = train_df_geo.drop(columns=['lrg','elg','qso'])#.to_numpy(copy=True)\n",
    "    y_gold = test_df_geo[gal]\n",
    "    X_test = test_df_geo.drop(columns=['lrg','elg','qso'])\n",
    "    reg = Lasso()\n",
    "    reg.fit(X_train,y_train)\n",
    "    y_pred = reg.predict(X_test)\n",
    "\n",
    "    print(f\"Lasso Regression R^2 for {gal}, Geometric :  {metrics.r2_score(y_gold, y_pred)}.\")\n",
    "    print(f\"Lasso Regression MSE for {gal}, Geometric :  {metrics.mean_squared_error(y_gold, y_pred)}.\")\n"
   ],
   "metadata": {
    "collapsed": false,
    "pycharm": {
     "name": "#%%\n"
    }
   }
  },
  {
   "cell_type": "markdown",
   "source": [
    "### Geometric - Adaboost-Regressor"
   ],
   "metadata": {
    "collapsed": false
   }
  },
  {
   "cell_type": "code",
   "execution_count": null,
   "outputs": [],
   "source": [
    "for gal in galaxy_types:\n",
    "    y_train = train_df_geo[gal]#.to_numpy(copy=True)\n",
    "    X_train = train_df_geo.drop(columns=['lrg','elg','qso'])#.to_numpy(copy=True)\n",
    "    y_gold = test_df_geo[gal]\n",
    "    X_test = test_df_geo.drop(columns=['lrg','elg','qso'])\n",
    "    reg = AdaBoostRegressor(n_estimators=100)\n",
    "    reg.fit(X_train,y_train)\n",
    "    y_pred = reg.predict(X_test)\n",
    "\n",
    "    print(f\"AdaBoost Regression R^2 for {gal}, Geometric :  {metrics.r2_score(y_gold, y_pred)}.\")\n",
    "    print(f\"AdaBoost Regression MSE for {gal}, Geometric :  {metrics.mean_squared_error(y_gold, y_pred)}.\")\n"
   ],
   "metadata": {
    "collapsed": false,
    "pycharm": {
     "name": "#%%\n"
    }
   }
  },
  {
   "cell_type": "markdown",
   "source": [
    "### Kitanidis\n"
   ],
   "metadata": {
    "collapsed": false
   }
  },
  {
   "cell_type": "markdown",
   "source": [
    "### Kitanidis - Linear Regression"
   ],
   "metadata": {
    "collapsed": false
   }
  },
  {
   "cell_type": "code",
   "execution_count": null,
   "outputs": [],
   "source": [
    "for gal in galaxy_types:\n",
    "    y_train = train_df_kit[gal]#.to_numpy(copy=True)\n",
    "    X_train = train_df_kit.drop(columns=['lrg','elg','qso'])#.to_numpy(copy=True)\n",
    "    y_gold = test_df_kit[gal]\n",
    "    X_test = test_df_kit.drop(columns=['lrg','elg','qso'])\n",
    "    reg = LinearRegression()\n",
    "    reg.fit(X_train,y_train)\n",
    "    y_pred = reg.predict(X_test)\n",
    "\n",
    "    print(f\"Linear Regression R^2 for {gal}, Kitanidis :  {metrics.r2_score(y_gold, y_pred)}.\")\n",
    "    print(f\"Linear Regression MSE for {gal}, Kitanidis :  {metrics.mean_squared_error(y_gold, y_pred)}.\")"
   ],
   "metadata": {
    "collapsed": false,
    "pycharm": {
     "name": "#%%\n"
    }
   }
  },
  {
   "cell_type": "markdown",
   "source": [
    "### Kitanidis - Ridge Regression"
   ],
   "metadata": {
    "collapsed": false
   }
  },
  {
   "cell_type": "code",
   "execution_count": null,
   "outputs": [],
   "source": [
    "for gal in galaxy_types:\n",
    "    y_train = train_df_kit[gal]#.to_numpy(copy=True)\n",
    "    X_train = train_df_kit.drop(columns=['lrg','elg','qso'])#.to_numpy(copy=True)\n",
    "    y_gold = test_df_kit[gal]\n",
    "    X_test = test_df_kit.drop(columns=['lrg','elg','qso'])\n",
    "    reg = Ridge()\n",
    "    reg.fit(X_train,y_train)\n",
    "    y_pred = reg.predict(X_test)\n",
    "\n",
    "    print(f\"Ridge Regression R^2 for {gal}, Kitanidis :  {metrics.r2_score(y_gold, y_pred)}.\")\n",
    "    print(f\"Ridge Regression MSE for {gal}, Kitanidis :  {metrics.mean_squared_error(y_gold, y_pred)}.\")"
   ],
   "metadata": {
    "collapsed": false,
    "pycharm": {
     "name": "#%%\n"
    }
   }
  },
  {
   "cell_type": "markdown",
   "source": [
    "### Kitanidis - Lasso Regression"
   ],
   "metadata": {
    "collapsed": false
   }
  },
  {
   "cell_type": "code",
   "execution_count": null,
   "outputs": [],
   "source": [
    "for gal in galaxy_types:\n",
    "    y_train = train_df_kit[gal]#.to_numpy(copy=True)\n",
    "    X_train = train_df_kit.drop(columns=['lrg','elg','qso'])#.to_numpy(copy=True)\n",
    "    y_gold = test_df_kit[gal]\n",
    "    X_test = test_df_kit.drop(columns=['lrg','elg','qso'])\n",
    "    reg = Lasso()\n",
    "    reg.fit(X_train,y_train)\n",
    "    y_pred = reg.predict(X_test)\n",
    "\n",
    "    print(f\"Lasso Regression R^2 for {gal}, Kitanidis :  {metrics.r2_score(y_gold, y_pred)}.\")\n",
    "    print(f\"Lasso Regression MSE for {gal}, Kitanidis :  {metrics.mean_squared_error(y_gold, y_pred)}.\")\n"
   ],
   "metadata": {
    "collapsed": false,
    "pycharm": {
     "name": "#%%\n"
    }
   }
  },
  {
   "cell_type": "markdown",
   "source": [
    "### Kitanidis - AdaBoost-Regressor"
   ],
   "metadata": {
    "collapsed": false
   }
  },
  {
   "cell_type": "code",
   "execution_count": null,
   "outputs": [],
   "source": [
    "for gal in galaxy_types:\n",
    "    y_train = train_df_kit[gal]#.to_numpy(copy=True)\n",
    "    X_train = train_df_kit.drop(columns=['lrg','elg','qso'])#.to_numpy(copy=True)\n",
    "    y_gold = test_df_kit[gal]\n",
    "    X_test = test_df_kit.drop(columns=['lrg','elg','qso'])\n",
    "    reg = AdaBoostRegressor(n_estimators=100)\n",
    "    reg.fit(X_train,y_train)\n",
    "    y_pred = reg.predict(X_test)\n",
    "\n",
    "    print(f\"AdaBoost Regression R^2 for {gal}, Kitanidis :  {metrics.r2_score(y_gold, y_pred)}.\")\n",
    "    print(f\"AdaBoost Regression MSE for {gal}, Kitanidis :  {metrics.mean_squared_error(y_gold, y_pred)}.\")\n",
    "\n",
    "\n",
    "\n"
   ],
   "metadata": {
    "collapsed": false,
    "pycharm": {
     "name": "#%%\n"
    }
   }
  },
  {
   "cell_type": "code",
   "execution_count": null,
   "outputs": [],
   "source": [
    "\n"
   ],
   "metadata": {
    "collapsed": false,
    "pycharm": {
     "name": "#%%\n"
    }
   }
  }
 ],
 "metadata": {
  "kernelspec": {
   "display_name": "Python 3",
   "language": "python",
   "name": "python3"
  },
  "language_info": {
   "codemirror_mode": {
    "name": "ipython",
    "version": 2
   },
   "file_extension": ".py",
   "mimetype": "text/x-python",
   "name": "python",
   "nbconvert_exporter": "python",
   "pygments_lexer": "ipython2",
   "version": "2.7.6"
  }
 },
 "nbformat": 4,
 "nbformat_minor": 0
}