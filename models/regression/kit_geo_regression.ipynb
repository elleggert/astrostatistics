{
 "cells": [
  {
   "cell_type": "code",
   "execution_count": 2,
   "outputs": [
    {
     "name": "stdout",
     "output_type": "stream",
     "text": [
      "1.9.0\n"
     ]
    }
   ],
   "source": [
    "\n",
    "import torch\n",
    "import numpy as np\n",
    "import pandas as pd\n",
    "import os\n",
    "import torch\n",
    "import torch.nn as nn\n",
    "import torch.nn.functional as F\n",
    "from sklearn.model_selection import train_test_split\n",
    "from sklearn.utils import shuffle\n",
    "from sklearn import preprocessing, metrics\n",
    "from torch.utils.data import DataLoader, Dataset\n",
    "import torch.optim as optim\n",
    "import time\n",
    "import seaborn as sns\n",
    "import matplotlib.pyplot as plt\n",
    "\n",
    "\n",
    "print(torch.__version__)\n"
   ],
   "metadata": {
    "collapsed": false,
    "pycharm": {
     "name": "#%%\n"
    }
   }
  },
  {
   "cell_type": "markdown",
   "source": [
    "# Data Preprocessing\n"
   ],
   "metadata": {
    "collapsed": false
   }
  },
  {
   "cell_type": "code",
   "execution_count": 3,
   "outputs": [],
   "source": [
    "df_train = pd.read_csv('../../bricks_data/train.csv')\n",
    "df_val = pd.read_csv('../../bricks_data/val.csv')\n",
    "df_test = pd.read_csv('../../bricks_data/test.csv')\n"
   ],
   "metadata": {
    "collapsed": false,
    "pycharm": {
     "name": "#%%\n"
    }
   }
  },
  {
   "cell_type": "code",
   "execution_count": 4,
   "outputs": [
    {
     "data": {
      "text/plain": "   pixel_id       lrg       elg       qso  exposures   stellar       EBV  \\\n0    738618  0.255556  0.402256  0.409396   0.462475  0.205357  0.171079   \n1    133202  0.288889  0.421053  0.406040   0.054767  0.049107  0.016430   \n2    635461  0.688889  0.503759  0.704698   0.334686  0.058036  0.062640   \n3    291288  0.255556  0.255639  0.228188   0.099391  0.062500  0.618593   \n4    315867  0.411111  0.488722  0.503356   0.109533  0.120536  0.200576   \n\n    airmass  ccdskysb_g  ccdskysb_r  ...  galdepth_g  galdepth_r  galdepth_z  \\\n0  0.140918    0.578889    0.518889  ...    0.480686    0.674590    0.283245   \n1  0.013747    0.630872    0.672316  ...    0.511487    0.582933    0.750504   \n2  0.152529    0.626110    0.577056  ...    0.596021    0.695755    0.299528   \n3  0.411554    0.617269    0.568405  ...    0.832612    0.766486    0.719828   \n4  0.304894    0.651783    0.620234  ...    0.748213    0.680751    0.705337   \n\n   seeing_g  seeing_r  seeing_z  mjd_obs_g  mjd_obs_r  mjd_obs_z         Z  \n0  0.301927  0.311998  0.129479   0.388261   0.465611   0.436698  0.157027  \n1  0.211973  0.091550  0.120701   0.518587   0.498003   0.443110  0.144649  \n2  0.269886  0.283358  0.172838   0.510175   0.522231   0.454674  0.122328  \n3  0.299032  0.254469  0.209068   0.861329   0.798231   0.806972  0.557726  \n4  0.411908  0.393542  0.130524   0.764569   0.798398   0.271826  0.475285  \n\n[5 rows x 27 columns]",
      "text/html": "<div>\n<style scoped>\n    .dataframe tbody tr th:only-of-type {\n        vertical-align: middle;\n    }\n\n    .dataframe tbody tr th {\n        vertical-align: top;\n    }\n\n    .dataframe thead th {\n        text-align: right;\n    }\n</style>\n<table border=\"1\" class=\"dataframe\">\n  <thead>\n    <tr style=\"text-align: right;\">\n      <th></th>\n      <th>pixel_id</th>\n      <th>lrg</th>\n      <th>elg</th>\n      <th>qso</th>\n      <th>exposures</th>\n      <th>stellar</th>\n      <th>EBV</th>\n      <th>airmass</th>\n      <th>ccdskysb_g</th>\n      <th>ccdskysb_r</th>\n      <th>...</th>\n      <th>galdepth_g</th>\n      <th>galdepth_r</th>\n      <th>galdepth_z</th>\n      <th>seeing_g</th>\n      <th>seeing_r</th>\n      <th>seeing_z</th>\n      <th>mjd_obs_g</th>\n      <th>mjd_obs_r</th>\n      <th>mjd_obs_z</th>\n      <th>Z</th>\n    </tr>\n  </thead>\n  <tbody>\n    <tr>\n      <th>0</th>\n      <td>738618</td>\n      <td>0.255556</td>\n      <td>0.402256</td>\n      <td>0.409396</td>\n      <td>0.462475</td>\n      <td>0.205357</td>\n      <td>0.171079</td>\n      <td>0.140918</td>\n      <td>0.578889</td>\n      <td>0.518889</td>\n      <td>...</td>\n      <td>0.480686</td>\n      <td>0.674590</td>\n      <td>0.283245</td>\n      <td>0.301927</td>\n      <td>0.311998</td>\n      <td>0.129479</td>\n      <td>0.388261</td>\n      <td>0.465611</td>\n      <td>0.436698</td>\n      <td>0.157027</td>\n    </tr>\n    <tr>\n      <th>1</th>\n      <td>133202</td>\n      <td>0.288889</td>\n      <td>0.421053</td>\n      <td>0.406040</td>\n      <td>0.054767</td>\n      <td>0.049107</td>\n      <td>0.016430</td>\n      <td>0.013747</td>\n      <td>0.630872</td>\n      <td>0.672316</td>\n      <td>...</td>\n      <td>0.511487</td>\n      <td>0.582933</td>\n      <td>0.750504</td>\n      <td>0.211973</td>\n      <td>0.091550</td>\n      <td>0.120701</td>\n      <td>0.518587</td>\n      <td>0.498003</td>\n      <td>0.443110</td>\n      <td>0.144649</td>\n    </tr>\n    <tr>\n      <th>2</th>\n      <td>635461</td>\n      <td>0.688889</td>\n      <td>0.503759</td>\n      <td>0.704698</td>\n      <td>0.334686</td>\n      <td>0.058036</td>\n      <td>0.062640</td>\n      <td>0.152529</td>\n      <td>0.626110</td>\n      <td>0.577056</td>\n      <td>...</td>\n      <td>0.596021</td>\n      <td>0.695755</td>\n      <td>0.299528</td>\n      <td>0.269886</td>\n      <td>0.283358</td>\n      <td>0.172838</td>\n      <td>0.510175</td>\n      <td>0.522231</td>\n      <td>0.454674</td>\n      <td>0.122328</td>\n    </tr>\n    <tr>\n      <th>3</th>\n      <td>291288</td>\n      <td>0.255556</td>\n      <td>0.255639</td>\n      <td>0.228188</td>\n      <td>0.099391</td>\n      <td>0.062500</td>\n      <td>0.618593</td>\n      <td>0.411554</td>\n      <td>0.617269</td>\n      <td>0.568405</td>\n      <td>...</td>\n      <td>0.832612</td>\n      <td>0.766486</td>\n      <td>0.719828</td>\n      <td>0.299032</td>\n      <td>0.254469</td>\n      <td>0.209068</td>\n      <td>0.861329</td>\n      <td>0.798231</td>\n      <td>0.806972</td>\n      <td>0.557726</td>\n    </tr>\n    <tr>\n      <th>4</th>\n      <td>315867</td>\n      <td>0.411111</td>\n      <td>0.488722</td>\n      <td>0.503356</td>\n      <td>0.109533</td>\n      <td>0.120536</td>\n      <td>0.200576</td>\n      <td>0.304894</td>\n      <td>0.651783</td>\n      <td>0.620234</td>\n      <td>...</td>\n      <td>0.748213</td>\n      <td>0.680751</td>\n      <td>0.705337</td>\n      <td>0.411908</td>\n      <td>0.393542</td>\n      <td>0.130524</td>\n      <td>0.764569</td>\n      <td>0.798398</td>\n      <td>0.271826</td>\n      <td>0.475285</td>\n    </tr>\n  </tbody>\n</table>\n<p>5 rows × 27 columns</p>\n</div>"
     },
     "execution_count": 4,
     "metadata": {},
     "output_type": "execute_result"
    }
   ],
   "source": [
    "df_train.head()"
   ],
   "metadata": {
    "collapsed": false,
    "pycharm": {
     "name": "#%%\n"
    }
   }
  },
  {
   "cell_type": "code",
   "execution_count": 5,
   "outputs": [],
   "source": [
    "df_train.drop(columns=['pixel_id', 'exposures','Z'], axis=1, inplace=True)\n",
    "df_val.drop(columns=['pixel_id', 'exposures','Z'], axis=1, inplace=True)\n",
    "df_test.drop(columns=['pixel_id', 'exposures','Z'], axis=1, inplace=True)\n"
   ],
   "metadata": {
    "collapsed": false,
    "pycharm": {
     "name": "#%%\n"
    }
   }
  },
  {
   "cell_type": "markdown",
   "source": [
    "# Regression"
   ],
   "metadata": {
    "collapsed": false
   }
  },
  {
   "cell_type": "code",
   "execution_count": 6,
   "outputs": [],
   "source": [
    "from sklearn.linear_model import LinearRegression, Ridge, Lasso\n",
    "galaxy_types = ['lrg','elg','qso']\n"
   ],
   "metadata": {
    "collapsed": false,
    "pycharm": {
     "name": "#%%\n"
    }
   }
  },
  {
   "cell_type": "markdown",
   "source": [
    "### Geometrics"
   ],
   "metadata": {
    "collapsed": false
   }
  },
  {
   "cell_type": "markdown",
   "source": [
    "### Geometric - Linear Regression"
   ],
   "metadata": {
    "collapsed": false
   }
  },
  {
   "cell_type": "code",
   "execution_count": 7,
   "outputs": [
    {
     "name": "stdout",
     "output_type": "stream",
     "text": [
      "Linear Regression R^2 for lrg, Geometric :  0.045674483731205195.\n",
      "Linear Regression MSE for lrg, Geometric :  0.01632737441867394.\n",
      "\n",
      "Linear Regression R^2 for elg, Geometric :  0.10881169349197217.\n",
      "Linear Regression MSE for elg, Geometric :  0.0106577879384463.\n",
      "\n",
      "Linear Regression R^2 for qso, Geometric :  0.07608241730362908.\n",
      "Linear Regression MSE for qso, Geometric :  0.012969421194633212.\n",
      "\n"
     ]
    }
   ],
   "source": [
    "for gal in galaxy_types:\n",
    "    y_train = df_train[gal]#.to_numpy(copy=True)\n",
    "    X_train = df_train.drop(columns=['lrg','elg','qso'])#.to_numpy(copy=True)\n",
    "    y_gold = df_val[gal]\n",
    "    X_test = df_val.drop(columns=['lrg','elg','qso'])\n",
    "    reg = LinearRegression()\n",
    "    reg.fit(X_train,y_train)\n",
    "    y_pred = reg.predict(X_test)\n",
    "\n",
    "    print(f\"Linear Regression R^2 for {gal}, Geometric :  {metrics.r2_score(y_gold, y_pred)}.\")\n",
    "    print(f\"Linear Regression MSE for {gal}, Geometric :  {metrics.mean_squared_error(y_gold, y_pred)}.\")\n",
    "    print()"
   ],
   "metadata": {
    "collapsed": false,
    "pycharm": {
     "name": "#%%\n"
    }
   }
  },
  {
   "cell_type": "markdown",
   "source": [
    "### Geometric - Ridge Regression"
   ],
   "metadata": {
    "collapsed": false
   }
  },
  {
   "cell_type": "code",
   "execution_count": 8,
   "outputs": [
    {
     "name": "stdout",
     "output_type": "stream",
     "text": [
      "Ridge Regression R^2 for lrg, Geometric :  0.04567581297642975.\n",
      "Ridge Regression MSE for lrg, Geometric :  0.01632735167686928.\n",
      "\n",
      "Ridge Regression R^2 for elg, Geometric :  0.10881184750573003.\n",
      "Ridge Regression MSE for elg, Geometric :  0.010657786096584194.\n",
      "\n",
      "Ridge Regression R^2 for qso, Geometric :  0.07607979005652432.\n",
      "Ridge Regression MSE for qso, Geometric :  0.012969458074410068.\n",
      "\n"
     ]
    }
   ],
   "source": [
    "for gal in galaxy_types:\n",
    "    y_train = df_train[gal]#.to_numpy(copy=True)\n",
    "    X_train = df_train.drop(columns=['lrg','elg','qso'])#.to_numpy(copy=True)\n",
    "    y_gold = df_val[gal]\n",
    "    X_test = df_val.drop(columns=['lrg','elg','qso'])\n",
    "    reg = Ridge()\n",
    "    reg.fit(X_train,y_train)\n",
    "    y_pred = reg.predict(X_test)\n",
    "\n",
    "    print(f\"Ridge Regression R^2 for {gal}, Geometric :  {metrics.r2_score(y_gold, y_pred)}.\")\n",
    "    print(f\"Ridge Regression MSE for {gal}, Geometric :  {metrics.mean_squared_error(y_gold, y_pred)}.\")\n",
    "    print()"
   ],
   "metadata": {
    "collapsed": false,
    "pycharm": {
     "name": "#%%\n"
    }
   }
  },
  {
   "cell_type": "markdown",
   "source": [
    "### Geometric - Lasso Regression"
   ],
   "metadata": {
    "collapsed": false
   }
  },
  {
   "cell_type": "code",
   "execution_count": 9,
   "outputs": [
    {
     "name": "stdout",
     "output_type": "stream",
     "text": [
      "Lasso Regression R^2 for lrg, Geometric :  -1.6872004765300375e-05.\n",
      "Lasso Regression MSE for lrg, Geometric :  0.017109099165712866.\n",
      "\n",
      "Lasso Regression R^2 for elg, Geometric :  -1.4132761307683595e-05.\n",
      "Lasso Regression MSE for elg, Geometric :  0.011959244173861135.\n",
      "\n",
      "Lasso Regression R^2 for qso, Geometric :  -1.3532442602715022e-05.\n",
      "Lasso Regression MSE for qso, Geometric :  0.014037612169616371.\n",
      "\n"
     ]
    }
   ],
   "source": [
    "for gal in galaxy_types:\n",
    "    y_train = df_train[gal]#.to_numpy(copy=True)\n",
    "    X_train = df_train.drop(columns=['lrg','elg','qso'])#.to_numpy(copy=True)\n",
    "    y_gold = df_val[gal]\n",
    "    X_test = df_val.drop(columns=['lrg','elg','qso'])\n",
    "    reg = Lasso()\n",
    "    reg.fit(X_train,y_train)\n",
    "    y_pred = reg.predict(X_test)\n",
    "\n",
    "    print(f\"Lasso Regression R^2 for {gal}, Geometric :  {metrics.r2_score(y_gold, y_pred)}.\")\n",
    "    print(f\"Lasso Regression MSE for {gal}, Geometric :  {metrics.mean_squared_error(y_gold, y_pred)}.\")\n",
    "    print()\n"
   ],
   "metadata": {
    "collapsed": false,
    "pycharm": {
     "name": "#%%\n"
    }
   }
  },
  {
   "cell_type": "code",
   "execution_count": null,
   "outputs": [],
   "source": [
    "# Using the Best classifier to test on the testset"
   ],
   "metadata": {
    "collapsed": false,
    "pycharm": {
     "name": "#%%\n"
    }
   }
  },
  {
   "cell_type": "code",
   "execution_count": 10,
   "outputs": [
    {
     "name": "stdout",
     "output_type": "stream",
     "text": [
      "Results for full dataset on unseen test-set\n",
      "Linear Regression R^2 for lrg, Geometric :  0.04619606201951554.\n",
      "Linear Regression MSE for lrg, Geometric :  0.01605861376099732.\n",
      "\n",
      "Linear Regression R^2 for elg, Geometric :  0.10681381503967935.\n",
      "Linear Regression MSE for elg, Geometric :  0.01058674458720245.\n",
      "\n",
      "Linear Regression R^2 for qso, Geometric :  0.07376991226263807.\n",
      "Linear Regression MSE for qso, Geometric :  0.012816235046243353.\n",
      "\n"
     ]
    }
   ],
   "source": [
    "# Stacking Train and Val Set\n",
    "print(\"Results for full dataset on unseen test-set\")\n",
    "for gal in galaxy_types:\n",
    "    y_train = df_train[gal]#.to_numpy(copy=True)\n",
    "    X_train = df_train.drop(columns=['lrg','elg','qso'])#.to_numpy(copy=True)\n",
    "    y_gold = df_test[gal]\n",
    "    X_test = df_test.drop(columns=['lrg','elg','qso'])\n",
    "    reg = LinearRegression()\n",
    "    reg.fit(X_train,y_train)\n",
    "    y_pred = reg.predict(X_test)\n",
    "\n",
    "    print(f\"Linear Regression R^2 for {gal}, Geometric :  {metrics.r2_score(y_gold, y_pred)}.\")\n",
    "    print(f\"Linear Regression MSE for {gal}, Geometric :  {metrics.mean_squared_error(y_gold, y_pred)}.\")\n",
    "    print()\n"
   ],
   "metadata": {
    "collapsed": false,
    "pycharm": {
     "name": "#%%\n"
    }
   }
  },
  {
   "cell_type": "code",
   "execution_count": null,
   "outputs": [],
   "source": [],
   "metadata": {
    "collapsed": false,
    "pycharm": {
     "name": "#%%\n"
    }
   }
  },
  {
   "cell_type": "code",
   "execution_count": null,
   "outputs": [],
   "source": [],
   "metadata": {
    "collapsed": false,
    "pycharm": {
     "name": "#%%\n"
    }
   }
  },
  {
   "cell_type": "markdown",
   "source": [
    "### Kitanidis\n"
   ],
   "metadata": {
    "collapsed": false
   }
  },
  {
   "cell_type": "markdown",
   "source": [
    "### Kitanidis - Linear Regression"
   ],
   "metadata": {
    "collapsed": false
   }
  },
  {
   "cell_type": "code",
   "execution_count": null,
   "outputs": [],
   "source": [
    "for gal in galaxy_types:\n",
    "    y_train = train_df_kit[gal]#.to_numpy(copy=True)\n",
    "    X_train = train_df_kit.drop(columns=['lrg','elg','qso'])#.to_numpy(copy=True)\n",
    "    y_gold = test_df_kit[gal]\n",
    "    X_test = test_df_kit.drop(columns=['lrg','elg','qso'])\n",
    "    reg = LinearRegression()\n",
    "    reg.fit(X_train,y_train)\n",
    "    y_pred = reg.predict(X_test)\n",
    "\n",
    "    print(f\"Linear Regression R^2 for {gal}, Kitanidis :  {metrics.r2_score(y_gold, y_pred)}.\")\n",
    "    print(f\"Linear Regression MSE for {gal}, Kitanidis :  {metrics.mean_squared_error(y_gold, y_pred)}.\")"
   ],
   "metadata": {
    "collapsed": false,
    "pycharm": {
     "name": "#%%\n"
    }
   }
  },
  {
   "cell_type": "markdown",
   "source": [
    "### Kitanidis - Ridge Regression"
   ],
   "metadata": {
    "collapsed": false
   }
  },
  {
   "cell_type": "code",
   "execution_count": null,
   "outputs": [],
   "source": [
    "for gal in galaxy_types:\n",
    "    y_train = train_df_kit[gal]#.to_numpy(copy=True)\n",
    "    X_train = train_df_kit.drop(columns=['lrg','elg','qso'])#.to_numpy(copy=True)\n",
    "    y_gold = test_df_kit[gal]\n",
    "    X_test = test_df_kit.drop(columns=['lrg','elg','qso'])\n",
    "    reg = Ridge()\n",
    "    reg.fit(X_train,y_train)\n",
    "    y_pred = reg.predict(X_test)\n",
    "\n",
    "    print(f\"Ridge Regression R^2 for {gal}, Kitanidis :  {metrics.r2_score(y_gold, y_pred)}.\")\n",
    "    print(f\"Ridge Regression MSE for {gal}, Kitanidis :  {metrics.mean_squared_error(y_gold, y_pred)}.\")"
   ],
   "metadata": {
    "collapsed": false,
    "pycharm": {
     "name": "#%%\n"
    }
   }
  },
  {
   "cell_type": "markdown",
   "source": [
    "### Kitanidis - Lasso Regression"
   ],
   "metadata": {
    "collapsed": false
   }
  },
  {
   "cell_type": "code",
   "execution_count": null,
   "outputs": [],
   "source": [
    "for gal in galaxy_types:\n",
    "    y_train = train_df_kit[gal]#.to_numpy(copy=True)\n",
    "    X_train = train_df_kit.drop(columns=['lrg','elg','qso'])#.to_numpy(copy=True)\n",
    "    y_gold = test_df_kit[gal]\n",
    "    X_test = test_df_kit.drop(columns=['lrg','elg','qso'])\n",
    "    reg = Lasso()\n",
    "    reg.fit(X_train,y_train)\n",
    "    y_pred = reg.predict(X_test)\n",
    "\n",
    "    print(f\"Lasso Regression R^2 for {gal}, Kitanidis :  {metrics.r2_score(y_gold, y_pred)}.\")\n",
    "    print(f\"Lasso Regression MSE for {gal}, Kitanidis :  {metrics.mean_squared_error(y_gold, y_pred)}.\")\n"
   ],
   "metadata": {
    "collapsed": false,
    "pycharm": {
     "name": "#%%\n"
    }
   }
  },
  {
   "cell_type": "markdown",
   "source": [
    "### Kitanidis - AdaBoost-Regressor"
   ],
   "metadata": {
    "collapsed": false
   }
  },
  {
   "cell_type": "code",
   "execution_count": null,
   "outputs": [],
   "source": [
    "for gal in galaxy_types:\n",
    "    y_train = train_df_kit[gal]#.to_numpy(copy=True)\n",
    "    X_train = train_df_kit.drop(columns=['lrg','elg','qso'])#.to_numpy(copy=True)\n",
    "    y_gold = test_df_kit[gal]\n",
    "    X_test = test_df_kit.drop(columns=['lrg','elg','qso'])\n",
    "    reg = AdaBoostRegressor(n_estimators=100)\n",
    "    reg.fit(X_train,y_train)\n",
    "    y_pred = reg.predict(X_test)\n",
    "\n",
    "    print(f\"AdaBoost Regression R^2 for {gal}, Kitanidis :  {metrics.r2_score(y_gold, y_pred)}.\")\n",
    "    print(f\"AdaBoost Regression MSE for {gal}, Kitanidis :  {metrics.mean_squared_error(y_gold, y_pred)}.\")\n",
    "\n",
    "\n",
    "\n"
   ],
   "metadata": {
    "collapsed": false,
    "pycharm": {
     "name": "#%%\n"
    }
   }
  },
  {
   "cell_type": "code",
   "execution_count": null,
   "outputs": [],
   "source": [
    "\n"
   ],
   "metadata": {
    "collapsed": false,
    "pycharm": {
     "name": "#%%\n"
    }
   }
  }
 ],
 "metadata": {
  "kernelspec": {
   "display_name": "Python 3",
   "language": "python",
   "name": "python3"
  },
  "language_info": {
   "codemirror_mode": {
    "name": "ipython",
    "version": 2
   },
   "file_extension": ".py",
   "mimetype": "text/x-python",
   "name": "python",
   "nbconvert_exporter": "python",
   "pygments_lexer": "ipython2",
   "version": "2.7.6"
  }
 },
 "nbformat": 4,
 "nbformat_minor": 0
}