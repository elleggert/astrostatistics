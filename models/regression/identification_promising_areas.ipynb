{
 "cells": [
  {
   "cell_type": "code",
   "execution_count": 79,
   "metadata": {
    "collapsed": true
   },
   "outputs": [],
   "source": [
    "import pandas as pd\n",
    "import matplotlib.pyplot as plt\n",
    "from sklearn import metrics"
   ]
  },
  {
   "cell_type": "code",
   "execution_count": 80,
   "outputs": [],
   "source": [
    "df_test_north = pd.read_csv('results/north.csv')\n",
    "df_test_south = pd.read_csv('results/south.csv')\n",
    "df_test_des = pd.read_csv('results/des.csv')\n",
    "\n",
    "\n"
   ],
   "metadata": {
    "collapsed": false,
    "pycharm": {
     "name": "#%%\n"
    }
   }
  },
  {
   "cell_type": "code",
   "execution_count": 81,
   "outputs": [
    {
     "data": {
      "text/plain": "            pixel_id           lrg           elg           qso     exposures  \\\ncount   19505.000000  19505.000000  19505.000000  19505.000000  19505.000000   \nmean    92225.883773     35.255217    125.013074    153.388157      0.241988   \nstd     52431.908880     11.970088     22.396739     29.051528      0.117935   \nmin      1676.000000      1.000000      1.000000      1.000000      0.000000   \n25%     46904.000000     27.000000    111.000000    133.000000      0.181818   \n50%     90608.000000     34.000000    124.000000    152.000000      0.209790   \n75%    137175.000000     41.000000    139.000000    172.000000      0.244755   \nmax    186638.000000    131.000000    285.000000    314.000000      1.000000   \n\n            stellar           EBV       airmass    ccdskysb_g    ccdskysb_r  \\\ncount  19505.000000  19505.000000  19505.000000  19505.000000  19505.000000   \nmean       0.138916      0.135081      0.191441      0.761007      0.621414   \nstd        0.129989      0.129680      0.172791      0.097736      0.090272   \nmin        0.000000      0.000778      0.000739      0.005608      0.102406   \n25%        0.058577      0.049559      0.049132      0.717752      0.572679   \n50%        0.087866      0.083774      0.134943      0.777599      0.635442   \n75%        0.167364      0.177612      0.282249      0.829016      0.682651   \nmax        0.979079      0.982179      0.775222      0.974139      1.000000   \n\n       ...      seeing_z       lrg_lin       elg_lin       qso_lin  \\\ncount  ...  19505.000000  19505.000000  19505.000000  19505.000000   \nmean   ...      0.085140     35.296497    124.911223    153.147307   \nstd    ...      0.035986      1.768797      8.975664      8.905784   \nmin    ...      0.009702     31.002243     67.929866    104.933991   \n25%    ...      0.062168     34.220784    120.715764    147.633220   \n50%    ...      0.080854     34.760544    125.847317    153.274758   \n75%    ...      0.102415     35.928599    130.295280    159.138528   \nmax    ...      1.000000     44.207563    204.662816    194.513427   \n\n           lrg_deep      elg_deep      qso_deep        lrg_nn        elg_nn  \\\ncount  19505.000000  19505.000000  19505.000000  19505.000000  19505.000000   \nmean      35.388543    125.247744    152.095823     35.742702    126.705088   \nstd        1.779177     10.425933     10.782170      1.778805      9.304531   \nmin       24.518848      0.256241     36.049149     24.043634      0.000000   \n25%       34.251625    120.697037    142.851883     34.483624    121.840973   \n50%       34.927025    125.993736    150.651016     35.127621    127.080925   \n75%       36.255074    131.418030    161.891022     36.745148    131.961945   \nmax       43.500221    179.823257    182.639252     42.653908    167.424225   \n\n             qso_nn  \ncount  19505.000000  \nmean     152.847916  \nstd        9.992797  \nmin       55.794102  \n25%      146.860291  \n50%      153.105423  \n75%      160.499496  \nmax      179.188843  \n\n[8 rows x 29 columns]",
      "text/html": "<div>\n<style scoped>\n    .dataframe tbody tr th:only-of-type {\n        vertical-align: middle;\n    }\n\n    .dataframe tbody tr th {\n        vertical-align: top;\n    }\n\n    .dataframe thead th {\n        text-align: right;\n    }\n</style>\n<table border=\"1\" class=\"dataframe\">\n  <thead>\n    <tr style=\"text-align: right;\">\n      <th></th>\n      <th>pixel_id</th>\n      <th>lrg</th>\n      <th>elg</th>\n      <th>qso</th>\n      <th>exposures</th>\n      <th>stellar</th>\n      <th>EBV</th>\n      <th>airmass</th>\n      <th>ccdskysb_g</th>\n      <th>ccdskysb_r</th>\n      <th>...</th>\n      <th>seeing_z</th>\n      <th>lrg_lin</th>\n      <th>elg_lin</th>\n      <th>qso_lin</th>\n      <th>lrg_deep</th>\n      <th>elg_deep</th>\n      <th>qso_deep</th>\n      <th>lrg_nn</th>\n      <th>elg_nn</th>\n      <th>qso_nn</th>\n    </tr>\n  </thead>\n  <tbody>\n    <tr>\n      <th>count</th>\n      <td>19505.000000</td>\n      <td>19505.000000</td>\n      <td>19505.000000</td>\n      <td>19505.000000</td>\n      <td>19505.000000</td>\n      <td>19505.000000</td>\n      <td>19505.000000</td>\n      <td>19505.000000</td>\n      <td>19505.000000</td>\n      <td>19505.000000</td>\n      <td>...</td>\n      <td>19505.000000</td>\n      <td>19505.000000</td>\n      <td>19505.000000</td>\n      <td>19505.000000</td>\n      <td>19505.000000</td>\n      <td>19505.000000</td>\n      <td>19505.000000</td>\n      <td>19505.000000</td>\n      <td>19505.000000</td>\n      <td>19505.000000</td>\n    </tr>\n    <tr>\n      <th>mean</th>\n      <td>92225.883773</td>\n      <td>35.255217</td>\n      <td>125.013074</td>\n      <td>153.388157</td>\n      <td>0.241988</td>\n      <td>0.138916</td>\n      <td>0.135081</td>\n      <td>0.191441</td>\n      <td>0.761007</td>\n      <td>0.621414</td>\n      <td>...</td>\n      <td>0.085140</td>\n      <td>35.296497</td>\n      <td>124.911223</td>\n      <td>153.147307</td>\n      <td>35.388543</td>\n      <td>125.247744</td>\n      <td>152.095823</td>\n      <td>35.742702</td>\n      <td>126.705088</td>\n      <td>152.847916</td>\n    </tr>\n    <tr>\n      <th>std</th>\n      <td>52431.908880</td>\n      <td>11.970088</td>\n      <td>22.396739</td>\n      <td>29.051528</td>\n      <td>0.117935</td>\n      <td>0.129989</td>\n      <td>0.129680</td>\n      <td>0.172791</td>\n      <td>0.097736</td>\n      <td>0.090272</td>\n      <td>...</td>\n      <td>0.035986</td>\n      <td>1.768797</td>\n      <td>8.975664</td>\n      <td>8.905784</td>\n      <td>1.779177</td>\n      <td>10.425933</td>\n      <td>10.782170</td>\n      <td>1.778805</td>\n      <td>9.304531</td>\n      <td>9.992797</td>\n    </tr>\n    <tr>\n      <th>min</th>\n      <td>1676.000000</td>\n      <td>1.000000</td>\n      <td>1.000000</td>\n      <td>1.000000</td>\n      <td>0.000000</td>\n      <td>0.000000</td>\n      <td>0.000778</td>\n      <td>0.000739</td>\n      <td>0.005608</td>\n      <td>0.102406</td>\n      <td>...</td>\n      <td>0.009702</td>\n      <td>31.002243</td>\n      <td>67.929866</td>\n      <td>104.933991</td>\n      <td>24.518848</td>\n      <td>0.256241</td>\n      <td>36.049149</td>\n      <td>24.043634</td>\n      <td>0.000000</td>\n      <td>55.794102</td>\n    </tr>\n    <tr>\n      <th>25%</th>\n      <td>46904.000000</td>\n      <td>27.000000</td>\n      <td>111.000000</td>\n      <td>133.000000</td>\n      <td>0.181818</td>\n      <td>0.058577</td>\n      <td>0.049559</td>\n      <td>0.049132</td>\n      <td>0.717752</td>\n      <td>0.572679</td>\n      <td>...</td>\n      <td>0.062168</td>\n      <td>34.220784</td>\n      <td>120.715764</td>\n      <td>147.633220</td>\n      <td>34.251625</td>\n      <td>120.697037</td>\n      <td>142.851883</td>\n      <td>34.483624</td>\n      <td>121.840973</td>\n      <td>146.860291</td>\n    </tr>\n    <tr>\n      <th>50%</th>\n      <td>90608.000000</td>\n      <td>34.000000</td>\n      <td>124.000000</td>\n      <td>152.000000</td>\n      <td>0.209790</td>\n      <td>0.087866</td>\n      <td>0.083774</td>\n      <td>0.134943</td>\n      <td>0.777599</td>\n      <td>0.635442</td>\n      <td>...</td>\n      <td>0.080854</td>\n      <td>34.760544</td>\n      <td>125.847317</td>\n      <td>153.274758</td>\n      <td>34.927025</td>\n      <td>125.993736</td>\n      <td>150.651016</td>\n      <td>35.127621</td>\n      <td>127.080925</td>\n      <td>153.105423</td>\n    </tr>\n    <tr>\n      <th>75%</th>\n      <td>137175.000000</td>\n      <td>41.000000</td>\n      <td>139.000000</td>\n      <td>172.000000</td>\n      <td>0.244755</td>\n      <td>0.167364</td>\n      <td>0.177612</td>\n      <td>0.282249</td>\n      <td>0.829016</td>\n      <td>0.682651</td>\n      <td>...</td>\n      <td>0.102415</td>\n      <td>35.928599</td>\n      <td>130.295280</td>\n      <td>159.138528</td>\n      <td>36.255074</td>\n      <td>131.418030</td>\n      <td>161.891022</td>\n      <td>36.745148</td>\n      <td>131.961945</td>\n      <td>160.499496</td>\n    </tr>\n    <tr>\n      <th>max</th>\n      <td>186638.000000</td>\n      <td>131.000000</td>\n      <td>285.000000</td>\n      <td>314.000000</td>\n      <td>1.000000</td>\n      <td>0.979079</td>\n      <td>0.982179</td>\n      <td>0.775222</td>\n      <td>0.974139</td>\n      <td>1.000000</td>\n      <td>...</td>\n      <td>1.000000</td>\n      <td>44.207563</td>\n      <td>204.662816</td>\n      <td>194.513427</td>\n      <td>43.500221</td>\n      <td>179.823257</td>\n      <td>182.639252</td>\n      <td>42.653908</td>\n      <td>167.424225</td>\n      <td>179.188843</td>\n    </tr>\n  </tbody>\n</table>\n<p>8 rows × 29 columns</p>\n</div>"
     },
     "execution_count": 81,
     "metadata": {},
     "output_type": "execute_result"
    }
   ],
   "source": [
    "df_test_north.describe()"
   ],
   "metadata": {
    "collapsed": false,
    "pycharm": {
     "name": "#%%\n"
    }
   }
  },
  {
   "cell_type": "code",
   "execution_count": 82,
   "outputs": [
    {
     "name": "stdout",
     "output_type": "stream",
     "text": [
      "0        1.999433\n",
      "1        1.287141\n",
      "2        1.287255\n",
      "3        1.245969\n",
      "4        0.802212\n",
      "           ...   \n",
      "19500    0.303964\n",
      "19501    0.091100\n",
      "19502    0.255578\n",
      "19503    1.319875\n",
      "19504    0.566612\n",
      "Name: ELG_Z_deep, Length: 19505, dtype: float64\n"
     ]
    }
   ],
   "source": [
    "zscore = lambda x: abs((x - x.median()) / x.std())\n",
    "\n",
    "df_test_north['ELG_Z_deep']  = df_test_north['elg'] - df_test_north['elg_deep']\n",
    "df_test_north['ELG_Z_deep'] = df_test_north['ELG_Z_deep'].transform(zscore)\n",
    "df_test_north['ELG_Z_nn']  = df_test_north['elg'] - df_test_north['elg_nn']\n",
    "df_test_north['ELG_Z_nn'] = df_test_north['ELG_Z_deep'].transform(zscore)\n",
    "df_test_north['ELG_Z_lin']  = df_test_north['elg'] - df_test_north['elg_lin']\n",
    "df_test_north['ELG_Z_lin'] = df_test_north['ELG_Z_deep'].transform(zscore)\n",
    "\n",
    "\n",
    "\n",
    "print(df_test_north['ELG_Z_deep'])"
   ],
   "metadata": {
    "collapsed": false,
    "pycharm": {
     "name": "#%%\n"
    }
   }
  },
  {
   "cell_type": "code",
   "execution_count": 85,
   "outputs": [
    {
     "name": "stdout",
     "output_type": "stream",
     "text": [
      "130\n",
      "13644\n"
     ]
    },
    {
     "data": {
      "text/plain": "Index(['pixel_id', 'lrg', 'elg', 'qso', 'exposures', 'stellar', 'EBV',\n       'airmass', 'ccdskysb_g', 'ccdskysb_r', 'ccdskysb_z', 'exptime_g',\n       'exptime_r', 'exptime_z', 'meansky_g', 'meansky_r', 'meansky_z',\n       'seeing_g', 'seeing_r', 'seeing_z', 'lrg_lin', 'elg_lin', 'qso_lin',\n       'lrg_deep', 'elg_deep', 'qso_deep', 'lrg_nn', 'elg_nn', 'qso_nn',\n       'ELG_Z_deep', 'ELG_Z_nn', 'ELG_Z_lin'],\n      dtype='object')"
     },
     "execution_count": 85,
     "metadata": {},
     "output_type": "execute_result"
    }
   ],
   "source": [
    "df = df_test_north[df_test_north['ELG_Z_deep'] < 1]\n",
    "df_diff = df[df['ELG_Z_lin'] > 1]\n",
    "df_no_diff = df[df['ELG_Z_lin'] <= 1]\n",
    "\n",
    "print(len(df_diff))\n",
    "print(len(df_no_diff))\n",
    "\n",
    "\n",
    "\n",
    "df_lala = df_diff.describe() - df_no_diff.describe()\n",
    "\n",
    "df_lala.columns"
   ],
   "metadata": {
    "collapsed": false,
    "pycharm": {
     "name": "#%%\n"
    }
   }
  },
  {
   "cell_type": "code",
   "execution_count": 91,
   "outputs": [
    {
     "name": "stdout",
     "output_type": "stream",
     "text": [
      "pixel_id 0.47439605286094544\n",
      "\n",
      "lrg 0.8519173259927841\n",
      "\n",
      "elg 0.15322685259692737\n",
      "\n",
      "qso 0.7728603220851189\n",
      "\n",
      "exposures 0.5742314960940367\n",
      "\n",
      "stellar 0.775924482044789\n",
      "\n",
      "EBV 0.8095553676297245\n",
      "\n",
      "airmass 0.8465999007546925\n",
      "\n",
      "ccdskysb_g 0.49161620894575186\n",
      "\n",
      "ccdskysb_r 0.9183648964347817\n",
      "\n",
      "ccdskysb_z 0.3470660429292436\n",
      "\n",
      "exptime_g 0.2967371446156517\n",
      "\n",
      "exptime_r 0.9128311722159879\n",
      "\n",
      "exptime_z 0.6566528821874935\n",
      "\n",
      "meansky_g 0.3701680670227332\n",
      "\n",
      "meansky_r 0.6806541947366755\n",
      "\n",
      "meansky_z 0.4568683398623423\n",
      "\n",
      "seeing_g 0.1930330749770217\n",
      "\n",
      "seeing_r 0.20530088228376853\n",
      "\n",
      "seeing_z 0.8706257030833475\n",
      "\n",
      "lrg_lin 0.7644576634787068\n",
      "\n",
      "elg_lin 0.543253676452133\n",
      "\n",
      "qso_lin 0.10243600263404007\n",
      "\n",
      "lrg_deep 0.5688579876209978\n",
      "\n",
      "elg_deep 0.3078418666406655\n",
      "\n",
      "qso_deep 0.6179853798154906\n",
      "\n",
      "lrg_nn 0.6566642324931875\n",
      "\n",
      "elg_nn 0.21703288506690366\n",
      "\n",
      "qso_nn 0.2688212624556763\n",
      "\n",
      "ELG_Z_deep 0.0\n",
      "\n",
      "ELG_Z_nn 0.0\n",
      "\n",
      "ELG_Z_lin 0.0\n",
      "\n"
     ]
    }
   ],
   "source": [
    "import math\n",
    "from scipy.stats import t\n",
    "\n",
    "n1, n2 = len(df_diff), len(df_no_diff)\n",
    "\n",
    "for col in df_diff:\n",
    "    m1 = df_diff[col].mean()\n",
    "    m2 = df_no_diff[col].mean()\n",
    "    std1 = df_diff[col].std()\n",
    "    std2 = df_no_diff[col].std()\n",
    "\n",
    "    se1, se2 = std1/math.sqrt(n1), std2/math.sqrt(n2)\n",
    "    sed = math.sqrt(se1**2.0 + se2**2.0)\n",
    "    t_stat = (m1 - m2) / sed\n",
    "\n",
    "    dof = n1 + n2 - 2\n",
    "\n",
    "    cv = t.ppf(1.0 - 0.05, dof)\n",
    "    p = (1.0 - t.cdf(abs(t_stat), dof)) * 2.0\n",
    "\n",
    "\n",
    "    print(col, p)\n",
    "    print()\n"
   ],
   "metadata": {
    "collapsed": false,
    "pycharm": {
     "name": "#%%\n"
    }
   }
  },
  {
   "cell_type": "code",
   "execution_count": null,
   "outputs": [],
   "source": [
    "df_test_north[\"sig_Z_lin\"] = df_test_north['ELG_Z_deep'] - df_test_north['ELG_Z_lin']\n",
    "df_test_north[\"sig_Z_lin\"] = df_test_north['sig_Z_lin'].transform(zscore)\n",
    "\n",
    "df_no_diff = df_test_north[df_test_north['sig_Z_lin'] <= 1]\n",
    "df_diff = df_test_north[df_test_north['sig_Z_lin'] > 1]\n",
    "print(len(df_test_north), len(df_diff) + len(df_no_diff))"
   ],
   "metadata": {
    "collapsed": false,
    "pycharm": {
     "name": "#%%\n"
    }
   }
  },
  {
   "cell_type": "code",
   "execution_count": null,
   "outputs": [],
   "source": [],
   "metadata": {
    "collapsed": false,
    "pycharm": {
     "name": "#%%\n"
    }
   }
  },
  {
   "cell_type": "code",
   "execution_count": 50,
   "outputs": [
    {
     "name": "stdout",
     "output_type": "stream",
     "text": [
      "            pixel_id          lrg          elg          qso    exposures  \\\n",
      "count    4885.000000  4885.000000  4885.000000  4885.000000  4885.000000   \n",
      "mean    92165.712794    35.375844   126.259365   153.817810     0.240776   \n",
      "std     52167.657230    12.177939    21.545375    30.286564     0.119636   \n",
      "min      1782.000000     1.000000     1.000000     1.000000     0.000000   \n",
      "25%     47383.000000    28.000000   119.000000   134.000000     0.181818   \n",
      "50%     90582.000000    34.000000   125.000000   153.000000     0.209790   \n",
      "75%    137120.000000    41.000000   131.000000   172.000000     0.244755   \n",
      "max    186601.000000   131.000000   285.000000   284.000000     1.000000   \n",
      "\n",
      "           stellar          EBV      airmass   ccdskysb_g   ccdskysb_r  ...  \\\n",
      "count  4885.000000  4885.000000  4885.000000  4885.000000  4885.000000  ...   \n",
      "mean      0.140166     0.135833     0.190316     0.763017     0.622423  ...   \n",
      "std       0.132053     0.132835     0.171993     0.096507     0.091726  ...   \n",
      "min       0.000000     0.000778     0.000739     0.005608     0.102406  ...   \n",
      "25%       0.058577     0.049587     0.049491     0.721267     0.574902  ...   \n",
      "50%       0.092050     0.083164     0.133881     0.779783     0.637086  ...   \n",
      "75%       0.167364     0.176864     0.277896     0.829490     0.684425  ...   \n",
      "max       0.949791     0.982179     0.754608     0.953765     0.838065  ...   \n",
      "\n",
      "          lrg_deep     elg_deep     qso_deep       lrg_nn       elg_nn  \\\n",
      "count  4885.000000  4885.000000  4885.000000  4885.000000  4885.000000   \n",
      "mean     35.351099   125.211668   152.235278    35.733966   126.549907   \n",
      "std       1.875857    10.631261    11.234396     1.810655     9.546436   \n",
      "min      24.518848     0.256241    36.049149    24.043634     0.000000   \n",
      "25%      34.224728   120.789986   142.856613    34.464794   121.913284   \n",
      "50%      34.906757   126.021706   150.831909    35.124268   127.110550   \n",
      "75%      36.236866   131.380569   162.169342    36.694759   131.675690   \n",
      "max      42.957596   167.594635   180.988342    42.317474   163.040039   \n",
      "\n",
      "            qso_nn   ELG_Z_deep     ELG_Z_nn    ELG_Z_lin    sig_Z_lin  \n",
      "count  4885.000000  4885.000000  4885.000000  4885.000000  4885.000000  \n",
      "mean    152.936769     0.404575     1.076434     1.076434     1.738276  \n",
      "std      10.132721     0.879504     0.952424     0.952424     0.506125  \n",
      "min      64.545914     0.000000     0.585376     0.585376     1.000162  \n",
      "25%     146.931427     0.073036     0.704821     0.704821     1.341407  \n",
      "50%     153.302948     0.147249     0.827214     0.827214     1.714325  \n",
      "75%     160.625076     0.223392     0.941579     0.941579     2.086581  \n",
      "max     178.002441     8.099559    11.767309    11.767309     7.926218  \n",
      "\n",
      "[8 rows x 33 columns]\n"
     ]
    }
   ],
   "source": [
    "print(df_diff.describe())"
   ],
   "metadata": {
    "collapsed": false,
    "pycharm": {
     "name": "#%%\n"
    }
   }
  },
  {
   "cell_type": "code",
   "execution_count": 51,
   "outputs": [
    {
     "name": "stdout",
     "output_type": "stream",
     "text": [
      "            pixel_id           lrg           elg           qso     exposures  \\\n",
      "count   14620.000000  14620.000000  14620.000000  14620.000000  14620.000000   \n",
      "mean    92245.988782     35.214911    124.596648    153.244596      0.242393   \n",
      "std     52521.670184     11.899977     22.659527     28.626620      0.117363   \n",
      "min      1676.000000      1.000000      1.000000      2.000000      0.013986   \n",
      "25%     46835.500000     27.000000    108.000000    133.000000      0.181818   \n",
      "50%     90623.500000     34.000000    123.000000    152.000000      0.209790   \n",
      "75%    137194.000000     41.000000    142.000000    171.000000      0.244755   \n",
      "max    186638.000000    131.000000    205.000000    314.000000      0.986014   \n",
      "\n",
      "            stellar           EBV       airmass    ccdskysb_g    ccdskysb_r  \\\n",
      "count  14620.000000  14620.000000  14620.000000  14620.000000  14620.000000   \n",
      "mean       0.138498      0.134830      0.191817      0.760335      0.621077   \n",
      "std        0.129294      0.128613      0.173061      0.098137      0.089781   \n",
      "min        0.000000      0.001768      0.003150      0.008243      0.121857   \n",
      "25%        0.058577      0.049556      0.048947      0.716507      0.572122   \n",
      "50%        0.087866      0.083955      0.135345      0.776664      0.634996   \n",
      "75%        0.167364      0.177843      0.283806      0.828833      0.682371   \n",
      "max        0.979079      0.980445      0.775222      0.974139      1.000000   \n",
      "\n",
      "       ...      lrg_deep      elg_deep      qso_deep        lrg_nn  \\\n",
      "count  ...  14620.000000  14620.000000  14620.000000  14620.000000   \n",
      "mean   ...     35.401055    125.259798    152.049227     35.745621   \n",
      "std    ...      1.745567     10.356760     10.626766      1.768088   \n",
      "min    ...     24.518848     13.475755     37.467369     24.105047   \n",
      "25%    ...     34.262895    120.663311    142.845783     34.488647   \n",
      "50%    ...     34.931860    125.990746    150.602211     35.128786   \n",
      "75%    ...     36.266064    131.425022    161.755501     36.754098   \n",
      "max    ...     43.500221    179.823257    182.639252     42.653908   \n",
      "\n",
      "             elg_nn        qso_nn    ELG_Z_deep      ELG_Z_nn     ELG_Z_lin  \\\n",
      "count  14620.000000  14620.000000  14620.000000  14620.000000  14620.000000   \n",
      "mean     126.756939    152.818227      0.898712      0.625551      0.625551   \n",
      "std        9.222040      9.945778      0.465070      0.558044      0.558044   \n",
      "min        0.000000     55.794102      0.270912      0.000000      0.000000   \n",
      "25%      121.820578    146.828636      0.516571      0.227292      0.227292   \n",
      "50%      127.072121    153.048729      0.805490      0.448461      0.448461   \n",
      "75%      132.055702    160.458813      1.193623      0.870605      0.870605   \n",
      "max      167.424225    179.188843      2.295213      2.608777      2.608777   \n",
      "\n",
      "          sig_Z_lin  \n",
      "count  14620.000000  \n",
      "mean       0.508647  \n",
      "std        0.284974  \n",
      "min        0.000000  \n",
      "25%        0.262687  \n",
      "50%        0.521039  \n",
      "75%        0.756261  \n",
      "max        0.999966  \n",
      "\n",
      "[8 rows x 33 columns]\n"
     ]
    }
   ],
   "source": [
    "print(df_no_diff.describe())"
   ],
   "metadata": {
    "collapsed": false,
    "pycharm": {
     "name": "#%%\n"
    }
   }
  },
  {
   "cell_type": "code",
   "execution_count": 53,
   "outputs": [
    {
     "name": "stdout",
     "output_type": "stream",
     "text": [
      "          pixel_id          lrg          elg          qso    exposures  \\\n",
      "count -9735.000000 -9735.000000 -9735.000000 -9735.000000 -9735.000000   \n",
      "mean    -80.275988     0.160933     1.662717     0.573213    -0.001618   \n",
      "std    -354.012955     0.277962    -1.114152     1.659944     0.002273   \n",
      "min     106.000000     0.000000     0.000000    -1.000000    -0.013986   \n",
      "25%     547.500000     1.000000    11.000000     1.000000     0.000000   \n",
      "50%     -41.500000     0.000000     2.000000     1.000000     0.000000   \n",
      "75%     -74.000000     0.000000   -11.000000     1.000000     0.000000   \n",
      "max     -37.000000     0.000000    80.000000   -30.000000     0.013986   \n",
      "\n",
      "           stellar          EBV      airmass   ccdskysb_g   ccdskysb_r  ...  \\\n",
      "count -9735.000000 -9735.000000 -9735.000000 -9735.000000 -9735.000000  ...   \n",
      "mean      0.001668     0.001004    -0.001501     0.002681     0.001347  ...   \n",
      "std       0.002760     0.004223    -0.001069    -0.001630     0.001945  ...   \n",
      "min       0.000000    -0.000990    -0.002411    -0.002635    -0.019452  ...   \n",
      "25%       0.000000     0.000031     0.000544     0.004760     0.002781  ...   \n",
      "50%       0.004184    -0.000791    -0.001464     0.003120     0.002090  ...   \n",
      "75%       0.000000    -0.000979    -0.005910     0.000657     0.002054  ...   \n",
      "max      -0.029289     0.001733    -0.020614    -0.020374    -0.161935  ...   \n",
      "\n",
      "          lrg_deep     elg_deep     qso_deep       lrg_nn       elg_nn  \\\n",
      "count -9735.000000 -9735.000000 -9735.000000 -9735.000000 -9735.000000   \n",
      "mean     -0.049956    -0.048130     0.186051    -0.011655    -0.207032   \n",
      "std       0.130290     0.274502     0.607630     0.042568     0.324396   \n",
      "min       0.000000   -13.219514    -1.418221    -0.061413     0.000000   \n",
      "25%      -0.038167     0.126675     0.010830    -0.023853     0.092707   \n",
      "50%      -0.025103     0.030960     0.229698    -0.004519     0.038429   \n",
      "75%      -0.029198    -0.044453     0.413841    -0.059339    -0.380013   \n",
      "max      -0.542625   -12.228622    -1.650909    -0.336433    -4.384186   \n",
      "\n",
      "            qso_nn   ELG_Z_deep     ELG_Z_nn    ELG_Z_lin    sig_Z_lin  \n",
      "count -9735.000000 -9735.000000 -9735.000000 -9735.000000 -9735.000000  \n",
      "mean      0.118542    -0.494138     0.450883     0.450883     1.229628  \n",
      "std       0.186943     0.414434     0.394380     0.394380     0.221151  \n",
      "min       8.751812    -0.270912     0.585376     0.585376     1.000162  \n",
      "25%       0.102791    -0.443536     0.477529     0.477529     1.078720  \n",
      "50%       0.254219    -0.658241     0.378754     0.378754     1.193287  \n",
      "75%       0.166264    -0.970231     0.070974     0.070974     1.330320  \n",
      "max      -1.186401     5.804346     9.158532     9.158532     6.926253  \n",
      "\n",
      "[8 rows x 33 columns]\n"
     ]
    }
   ],
   "source": [
    "\n",
    "df_lala = (df_diff.describe() - df_no_diff.describe())\n",
    "\n",
    "print(df_lala.columns)"
   ],
   "metadata": {
    "collapsed": false,
    "pycharm": {
     "name": "#%%\n"
    }
   }
  },
  {
   "cell_type": "code",
   "execution_count": 61,
   "outputs": [
    {
     "name": "stdout",
     "output_type": "stream",
     "text": [
      "Deep Regression R^2:  0.27565992568107933.\n",
      "\n",
      "Linear Regression R^2:  0.158660999385435.\n",
      "\n",
      "NN Regression R^2:  0.24114887869003987.\n"
     ]
    }
   ],
   "source": [
    "y_gold = df_diff.elg\n",
    "y_pred = df_diff.elg_deep\n",
    "print(f\"Deep Regression R^2:  {metrics.r2_score(y_gold, y_pred)}.\")\n",
    "print()\n",
    "y_gold = df_diff.elg\n",
    "y_pred = df_diff.elg_lin\n",
    "print(f\"Linear Regression R^2:  {metrics.r2_score(y_gold, y_pred)}.\")\n",
    "print()\n",
    "y_gold = df_diff.elg\n",
    "y_pred = df_diff.elg_nn\n",
    "print(f\"NN Regression R^2:  {metrics.r2_score(y_gold, y_pred)}.\")"
   ],
   "metadata": {
    "collapsed": false,
    "pycharm": {
     "name": "#%%\n"
    }
   }
  },
  {
   "cell_type": "code",
   "execution_count": 62,
   "outputs": [
    {
     "name": "stdout",
     "output_type": "stream",
     "text": [
      "Deep Regression R^2:  0.2762591695325983.\n",
      "\n",
      "Linear Regression R^2:  0.16509796728029658.\n",
      "\n",
      "NN Regression R^2:  0.19552599990203445.\n"
     ]
    }
   ],
   "source": [
    "y_gold = df_no_diff.elg\n",
    "y_pred = df_no_diff.elg_deep\n",
    "print(f\"Deep Regression R^2:  {metrics.r2_score(y_gold, y_pred)}.\")\n",
    "print()\n",
    "y_gold = df_no_diff.elg\n",
    "y_pred = df_no_diff.elg_lin\n",
    "print(f\"Linear Regression R^2:  {metrics.r2_score(y_gold, y_pred)}.\")\n",
    "print()\n",
    "y_gold = df_no_diff.elg\n",
    "y_pred = df_no_diff.elg_nn\n",
    "print(f\"NN Regression R^2:  {metrics.r2_score(y_gold, y_pred)}.\")\n"
   ],
   "metadata": {
    "collapsed": false,
    "pycharm": {
     "name": "#%%\n"
    }
   }
  },
  {
   "cell_type": "code",
   "execution_count": null,
   "outputs": [],
   "source": [],
   "metadata": {
    "collapsed": false,
    "pycharm": {
     "name": "#%%\n"
    }
   }
  }
 ],
 "metadata": {
  "kernelspec": {
   "display_name": "Python 3",
   "language": "python",
   "name": "python3"
  },
  "language_info": {
   "codemirror_mode": {
    "name": "ipython",
    "version": 2
   },
   "file_extension": ".py",
   "mimetype": "text/x-python",
   "name": "python",
   "nbconvert_exporter": "python",
   "pygments_lexer": "ipython2",
   "version": "2.7.6"
  }
 },
 "nbformat": 4,
 "nbformat_minor": 0
}