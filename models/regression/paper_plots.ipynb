{
 "cells": [
  {
   "cell_type": "code",
   "execution_count": null,
   "metadata": {
    "collapsed": true
   },
   "outputs": [],
   "source": [
    " # Preparing Final Plots for Paper\n",
    "\n",
    "\n"
   ]
  },
  {
   "cell_type": "code",
   "execution_count": 11,
   "outputs": [],
   "source": [
    "import pandas as pd\n",
    "import matplotlib.pyplot as plt\n",
    "from sklearn import metrics\n"
   ],
   "metadata": {
    "collapsed": false,
    "pycharm": {
     "name": "#%%\n"
    }
   }
  },
  {
   "cell_type": "code",
   "execution_count": 10,
   "outputs": [],
   "source": [
    "# Defining important metrics\n",
    "\n",
    "NSIDE = 512\n",
    "areas = ['north', 'south', 'des']\n",
    "galaxies = ['lrg', 'elg', 'qso', 'glbg', 'rlbg']"
   ],
   "metadata": {
    "collapsed": false,
    "pycharm": {
     "name": "#%%\n"
    }
   }
  },
  {
   "cell_type": "markdown",
   "source": [
    "### Begin by creating final dataframe of columns and densities"
   ],
   "metadata": {
    "collapsed": false,
    "pycharm": {
     "name": "#%% md\n"
    }
   }
  },
  {
   "cell_type": "code",
   "execution_count": 17,
   "outputs": [],
   "source": [
    "\n",
    "df_north = pd.read_csv(f'../regression/results/north_complete_{NSIDE}.csv')\n",
    "df_south = pd.read_csv(f'../regression/results/south_complete_{NSIDE}.csv')\n",
    "df_des = pd.read_csv(f'../regression/results/des_complete_{NSIDE}.csv')\n",
    "\n",
    "df_deep_north = pd.read_csv(f'../deep_set/results/north_ds_predictions.csv')\n",
    "df_deep_south = pd.read_csv(f'../deep_set/results/south_ds_predictions.csv')\n",
    "df_deep_des = pd.read_csv(f'../deep_set/results/des_ds_predictions.csv')"
   ],
   "metadata": {
    "collapsed": false,
    "pycharm": {
     "name": "#%%\n"
    }
   }
  },
  {
   "cell_type": "code",
   "execution_count": 18,
   "outputs": [
    {
     "name": "stdout",
     "output_type": "stream",
     "text": [
      "363076 363049\n",
      "662847 662832\n",
      "338526 338479\n",
      "363049 662832 338479\n"
     ]
    }
   ],
   "source": [
    "print(len(df_north), len(df_deep_north))\n",
    "print(len(df_south), len(df_deep_south))\n",
    "print(len(df_des), len(df_deep_des))\n",
    "\n",
    "df_north = df_north.merge(df_deep_north, how='inner', on='pixel_id')\n",
    "df_south = df_south.merge(df_deep_south, how='inner', on='pixel_id')\n",
    "df_des = df_des.merge(df_deep_des, how='inner', on='pixel_id')\n",
    "\n",
    "print(len(df_north), len(df_south), len(df_des))"
   ],
   "metadata": {
    "collapsed": false,
    "pycharm": {
     "name": "#%%\n"
    }
   }
  },
  {
   "cell_type": "code",
   "execution_count": 19,
   "outputs": [
    {
     "data": {
      "text/plain": "Index(['pixel_id', 'lrg', 'elg', 'qso', 'glbg', 'rlbg', 'exposures', 'hinh',\n       'gaia', 'gaia12', 'sagitarius', 'stellar', 'EBV', 'airmass',\n       'ccdskysb_g', 'ccdskysb_r', 'ccdskysb_z', 'ccdskycounts_g',\n       'ccdskycounts_r', 'ccdskycounts_z', 'seeing_g', 'seeing_r', 'seeing_z',\n       'lrg_lin', 'elg_lin', 'qso_lin', 'glbg_lin', 'rlbg_lin', 'lrg_nn',\n       'elg_nn', 'qso_nn', 'glbg_nn', 'rlbg_nn', 'lrg_deep', 'elg_deep',\n       'qso_deep', 'glbg_deep', 'rlbg_deep'],\n      dtype='object')"
     },
     "execution_count": 19,
     "metadata": {},
     "output_type": "execute_result"
    }
   ],
   "source": [
    "df_north.columns"
   ],
   "metadata": {
    "collapsed": false,
    "pycharm": {
     "name": "#%%\n"
    }
   }
  },
  {
   "cell_type": "code",
   "execution_count": 21,
   "outputs": [
    {
     "name": "stdout",
     "output_type": "stream",
     "text": [
      "Area: NORTH.\n",
      "+++++++++++++++++++++++++++++++++++\n",
      "\n",
      "LRG\n",
      " Lin: 0.01\n",
      " NN: 0.008\n",
      " DeepSet: 0.013\n",
      "\n",
      "\n",
      "ELG\n",
      " Lin: 0.08\n",
      " NN: 0.139\n",
      " DeepSet: 0.141\n",
      "\n",
      "\n",
      "QSO\n",
      " Lin: 0.104\n",
      " NN: 0.112\n",
      " DeepSet: 0.127\n",
      "\n",
      "\n",
      "GLBG\n",
      " Lin: 0.109\n",
      " NN: 0.21\n",
      " DeepSet: 0.23\n",
      "\n",
      "\n",
      "RLBG\n",
      " Lin: 0.103\n",
      " NN: 0.175\n",
      " DeepSet: 0.279\n",
      "\n",
      "\n",
      "Area: SOUTH.\n",
      "+++++++++++++++++++++++++++++++++++\n",
      "\n",
      "LRG\n",
      " Lin: 0.006\n",
      " NN: 0.006\n",
      " DeepSet: 0.005\n",
      "\n",
      "\n",
      "ELG\n",
      " Lin: 0.061\n",
      " NN: 0.108\n",
      " DeepSet: 0.105\n",
      "\n",
      "\n",
      "QSO\n",
      " Lin: 0.091\n",
      " NN: 0.095\n",
      " DeepSet: 0.098\n",
      "\n",
      "\n",
      "GLBG\n",
      " Lin: 0.046\n",
      " NN: 0.167\n",
      " DeepSet: 0.138\n",
      "\n",
      "\n",
      "RLBG\n",
      " Lin: 0.03\n",
      " NN: 0.169\n",
      " DeepSet: 0.15\n",
      "\n",
      "\n",
      "Area: DES.\n",
      "+++++++++++++++++++++++++++++++++++\n",
      "\n",
      "LRG\n",
      " Lin: 0.011\n",
      " NN: 0.02\n",
      " DeepSet: 0.026\n",
      "\n",
      "\n",
      "ELG\n",
      " Lin: 0.026\n",
      " NN: 0.048\n",
      " DeepSet: 0.048\n",
      "\n",
      "\n",
      "QSO\n",
      " Lin: 0.035\n",
      " NN: 0.033\n",
      " DeepSet: 0.03\n",
      "\n",
      "\n",
      "GLBG\n",
      " Lin: 0.075\n",
      " NN: 0.105\n",
      " DeepSet: 0.1\n",
      "\n",
      "\n",
      "RLBG\n",
      " Lin: 0.036\n",
      " NN: 0.064\n",
      " DeepSet: 0.101\n",
      "\n",
      "\n"
     ]
    }
   ],
   "source": [
    "### Get Full Data R-Squareds for the table\n",
    "\n",
    "for area in areas:\n",
    "    if area == 'north':\n",
    "        df = df_north\n",
    "    elif area == 'south':\n",
    "        df = df_south\n",
    "    else:\n",
    "        df = df_des\n",
    "\n",
    "    print(f'Area: {area.upper()}.')\n",
    "    print(\"+++++++++++++++++++++++++++++++++++\")\n",
    "    print()\n",
    "\n",
    "    for gal in galaxies:\n",
    "        y_gold = df[gal]\n",
    "        r2_lin = round(metrics.r2_score(y_gold, df[f'{gal}_lin']),3)\n",
    "        r2_nn = round(metrics.r2_score(y_gold, df[f'{gal}_nn']),3)\n",
    "        r2_deep = round(metrics.r2_score(y_gold, df[f'{gal}_deep']),3)\n",
    "        print(f'{gal.upper()}')\n",
    "        print(f' Lin: {r2_lin}')\n",
    "        print(f' NN: {r2_nn}')\n",
    "        print(f' DeepSet: {r2_deep}')\n",
    "        print()\n",
    "        print()\n",
    "\n"
   ],
   "metadata": {
    "collapsed": false,
    "pycharm": {
     "name": "#%%\n"
    }
   }
  },
  {
   "cell_type": "code",
   "execution_count": null,
   "outputs": [],
   "source": [],
   "metadata": {
    "collapsed": false,
    "pycharm": {
     "name": "#%%\n"
    }
   }
  }
 ],
 "metadata": {
  "kernelspec": {
   "display_name": "Python 3",
   "language": "python",
   "name": "python3"
  },
  "language_info": {
   "codemirror_mode": {
    "name": "ipython",
    "version": 2
   },
   "file_extension": ".py",
   "mimetype": "text/x-python",
   "name": "python",
   "nbconvert_exporter": "python",
   "pygments_lexer": "ipython2",
   "version": "2.7.6"
  }
 },
 "nbformat": 4,
 "nbformat_minor": 0
}