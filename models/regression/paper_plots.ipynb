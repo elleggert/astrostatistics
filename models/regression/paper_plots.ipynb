{
 "cells": [
  {
   "cell_type": "code",
   "execution_count": null,
   "metadata": {
    "collapsed": true
   },
   "outputs": [],
   "source": [
    " # Preparing Final Plots for Paper\n",
    "\n",
    "\n"
   ]
  },
  {
   "cell_type": "code",
   "execution_count": 2,
   "outputs": [],
   "source": [
    "import pandas as pd\n",
    "import matplotlib.pyplot as plt\n",
    "\n",
    "NSIDE = 512"
   ],
   "metadata": {
    "collapsed": false,
    "pycharm": {
     "name": "#%%\n"
    }
   }
  },
  {
   "cell_type": "markdown",
   "source": [
    "### Begin by creating final dataframe of columns and densities"
   ],
   "metadata": {
    "collapsed": false,
    "pycharm": {
     "name": "#%% md\n"
    }
   }
  },
  {
   "cell_type": "code",
   "execution_count": 3,
   "outputs": [],
   "source": [
    "\n",
    "df_north = pd.read_csv(f'../regression/results/north_complete_{NSIDE}.csv')\n",
    "df_south = pd.read_csv(f'../regression/results/south_complete_{NSIDE}.csv')\n",
    "df_des = pd.read_csv(f'../regression/results/des_complete_{NSIDE}.csv')\n",
    "\n",
    "df_deep_north = pd.read_csv(f'../deep_set/results/north_ds_predictions.csv')\n",
    "df_deep_south = pd.read_csv(f'../deep_set/results/south_ds_predictions.csv')\n",
    "df_deep_des = pd.read_csv(f'../deep_set/results/des_ds_predictions.csv')\n",
    "\n"
   ],
   "metadata": {
    "collapsed": false,
    "pycharm": {
     "name": "#%%\n"
    }
   }
  },
  {
   "cell_type": "code",
   "execution_count": 7,
   "outputs": [
    {
     "name": "stdout",
     "output_type": "stream",
     "text": [
      "363076 363049\n",
      "662847 662832\n",
      "338526 338479\n",
      "363049 662832 338479\n"
     ]
    }
   ],
   "source": [
    "print(len(df_north), len(df_deep_north))\n",
    "print(len(df_south), len(df_deep_south))\n",
    "print(len(df_des), len(df_deep_des))\n",
    "\n",
    "df_north = df_north.merge(df_deep_north, how='inner', on='pixel_id')\n",
    "df_south = df_south.merge(df_deep_south, how='inner', on='pixel_id')\n",
    "df_des = df_des.merge(df_deep_des, how='inner', on='pixel_id')\n",
    "\n",
    "print(len(df_north), len(df_south), len(df_des))"
   ],
   "metadata": {
    "collapsed": false,
    "pycharm": {
     "name": "#%%\n"
    }
   }
  },
  {
   "cell_type": "code",
   "execution_count": 9,
   "outputs": [
    {
     "data": {
      "text/plain": "Index(['pixel_id', 'lrg', 'elg', 'qso', 'glbg', 'rlbg', 'exposures', 'hinh',\n       'gaia', 'gaia12', 'sagitarius', 'stellar', 'EBV', 'airmass',\n       'ccdskysb_g', 'ccdskysb_r', 'ccdskysb_z', 'ccdskycounts_g',\n       'ccdskycounts_r', 'ccdskycounts_z', 'seeing_g', 'seeing_r', 'seeing_z',\n       'lrg_lin', 'elg_lin', 'qso_lin', 'glbg_lin', 'rlbg_lin', 'lrg_nn',\n       'elg_nn', 'qso_nn', 'glbg_nn', 'rlbg_nn', 'rlbg_deep', 'y_gold'],\n      dtype='object')"
     },
     "execution_count": 9,
     "metadata": {},
     "output_type": "execute_result"
    }
   ],
   "source": [
    "df_north.columns"
   ],
   "metadata": {
    "collapsed": false,
    "pycharm": {
     "name": "#%%\n"
    }
   }
  },
  {
   "cell_type": "code",
   "execution_count": null,
   "outputs": [],
   "source": [],
   "metadata": {
    "collapsed": false,
    "pycharm": {
     "name": "#%%\n"
    }
   }
  }
 ],
 "metadata": {
  "kernelspec": {
   "display_name": "Python 3",
   "language": "python",
   "name": "python3"
  },
  "language_info": {
   "codemirror_mode": {
    "name": "ipython",
    "version": 2
   },
   "file_extension": ".py",
   "mimetype": "text/x-python",
   "name": "python",
   "nbconvert_exporter": "python",
   "pygments_lexer": "ipython2",
   "version": "2.7.6"
  }
 },
 "nbformat": 4,
 "nbformat_minor": 0
}