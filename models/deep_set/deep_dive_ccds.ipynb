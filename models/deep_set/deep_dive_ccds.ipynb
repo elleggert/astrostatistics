{
 "cells": [
  {
   "cell_type": "markdown",
   "metadata": {
    "collapsed": true,
    "pycharm": {
     "name": "#%% md\n"
    }
   },
   "source": [
    "### Notebook to identify different CCDs and exposure metrics\n",
    "\n"
   ]
  },
  {
   "cell_type": "code",
   "execution_count": null,
   "outputs": [],
   "source": [
    "import set_dataloader\n",
    "import time\n",
    "import pickle\n",
    "from matplotlib import pyplot as plt\n",
    "import healpy as hp\n",
    "import numpy as np\n"
   ],
   "metadata": {
    "collapsed": false,
    "pycharm": {
     "name": "#%%\n"
    }
   }
  },
  {
   "cell_type": "code",
   "execution_count": null,
   "outputs": [],
   "source": [
    "# Load Dict mapping Subpixel 2 CCDs (very large file, will take upwards of 10 mins usually)\n",
    "\n",
    "time_start = time.time()\n",
    "# Importing Pixel Mappings\n",
    "# For DECAM, BASS, MzLS\n",
    "with open('../../bricks_data/pixel2ccd_2048_non_inclusive.pickle', 'rb') as f:\n",
    "    subpixel2ccd_dict = pickle.load(f)\n",
    "    f.close()\n",
    "time_end = time.time()\n",
    "time_passed = time_end - time_start\n",
    "print()\n",
    "print(f\"{time_passed / 60:.5} minutes ({time_passed:.3} seconds) taken to import the dict\")\n",
    "print()\n",
    "\n"
   ],
   "metadata": {
    "collapsed": false,
    "pycharm": {
     "name": "#%%\n"
    }
   }
  },
  {
   "cell_type": "code",
   "execution_count": null,
   "outputs": [],
   "source": [
    "# defining a ccd object (initialised upon calling it)\n",
    "ccd = set_dataloader.CCD()"
   ],
   "metadata": {
    "collapsed": false,
    "pycharm": {
     "name": "#%%\n"
    }
   }
  },
  {
   "cell_type": "code",
   "execution_count": null,
   "outputs": [],
   "source": [
    "# prepare for ccd retrieval\n",
    "\n",
    "# If metrics are supposed to be scaled call and filter band encoded\n",
    "ccd.initialise_for_deepset()\n",
    "\n",
    "# if metrics are supposed to be unsccaled and filter colour not encoded\n",
    "ccd.stack_systematics()"
   ],
   "metadata": {
    "collapsed": false,
    "pycharm": {
     "name": "#%%\n"
    }
   }
  },
  {
   "cell_type": "code",
   "execution_count": null,
   "outputs": [],
   "source": [
    "# Process to return a given pixels ccds:\n",
    "\n",
    "# 1. define pixel to extract\n",
    "\n",
    "pixel = 983434\n",
    "\n",
    "# 2. get associated CCDs\n",
    "\n",
    "tangent_ccds = subpixel2ccd_dict[pixel]\n",
    "\n",
    "# 3. Get CCDs values from the catalogue for chosen features:\n",
    "\n",
    "ccds_values = ccd.get_ccds(tangent_ccds)\n",
    "\n",
    "print(ccds_values)"
   ],
   "metadata": {
    "collapsed": false,
    "pycharm": {
     "name": "#%%\n"
    }
   }
  },
  {
   "cell_type": "code",
   "execution_count": null,
   "outputs": [],
   "source": [],
   "metadata": {
    "collapsed": false,
    "pycharm": {
     "name": "#%%\n"
    }
   }
  },
  {
   "cell_type": "code",
   "execution_count": null,
   "outputs": [],
   "source": [],
   "metadata": {
    "collapsed": false,
    "pycharm": {
     "name": "#%%\n"
    }
   }
  },
  {
   "cell_type": "code",
   "execution_count": null,
   "outputs": [],
   "source": [
    "# Example of a given application --> Plot given Pixel\n",
    "\n",
    "pixel_number = 873400\n",
    "NSIDE = 2048\n",
    "\n",
    "tangent_ccds = subpixel2ccd_dict[pixel_number]\n",
    "print(f\"Number of CCDs that are cutting pixel number {pixel_number}: {len(tangent_ccds)}\")\n",
    "for image in tangent_ccds:\n",
    "    xs, ys = ccd.get_ccd_boundaries(image)\n",
    "    plt.plot(xs, ys)\n",
    "\n",
    "pixel_boundary = hp.boundaries(nside=NSIDE, pix=pixel_number, step=1)\n",
    "pixel_boundary_raDec = hp.vec2ang(pixel_boundary.transpose(), lonlat=True)\n",
    "pixel_boundary_raDec = list(pixel_boundary_raDec)\n",
    "pixel_boundary_raDec[0] = np.append(pixel_boundary_raDec[0], pixel_boundary_raDec[0][0])\n",
    "pixel_boundary_raDec[1] = np.append(pixel_boundary_raDec[1], pixel_boundary_raDec[1][0])\n",
    "\n",
    "plt.plot(pixel_boundary_raDec[0], pixel_boundary_raDec[1], c='black', label=\"Pixel Boundary\")\n",
    "\n",
    "plt.show()"
   ],
   "metadata": {
    "collapsed": false,
    "pycharm": {
     "name": "#%%\n"
    }
   }
  }
 ],
 "metadata": {
  "kernelspec": {
   "display_name": "Python 3",
   "language": "python",
   "name": "python3"
  },
  "language_info": {
   "codemirror_mode": {
    "name": "ipython",
    "version": 2
   },
   "file_extension": ".py",
   "mimetype": "text/x-python",
   "name": "python",
   "nbconvert_exporter": "python",
   "pygments_lexer": "ipython2",
   "version": "2.7.6"
  }
 },
 "nbformat": 4,
 "nbformat_minor": 0
}