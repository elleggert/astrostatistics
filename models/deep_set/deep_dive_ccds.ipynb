{
 "cells": [
  {
   "cell_type": "markdown",
   "metadata": {
    "collapsed": true,
    "pycharm": {
     "name": "#%% md\n"
    }
   },
   "source": [
    "### Notebook to identify different CCDs and exposure metrics\n",
    "\n"
   ]
  },
  {
   "cell_type": "code",
   "execution_count": 1,
   "outputs": [],
   "source": [
    "import set_dataloader\n",
    "import time\n",
    "import pickle\n",
    "from matplotlib import pyplot as plt\n",
    "import healpy as hp\n",
    "import numpy as np\n"
   ],
   "metadata": {
    "collapsed": false,
    "pycharm": {
     "name": "#%%\n"
    }
   }
  },
  {
   "cell_type": "code",
   "execution_count": 2,
   "outputs": [
    {
     "name": "stdout",
     "output_type": "stream",
     "text": [
      "\n",
      "16.313 minutes (9.79e+02 seconds) taken to import the dict\n",
      "\n"
     ]
    }
   ],
   "source": [
    "# Load Dict mapping Subpixel 2 CCDs (very large file, will take upwards of 10 mins usually)\n",
    "\n",
    "time_start = time.time()\n",
    "# Importing Pixel Mappings\n",
    "# For DECAM, BASS, MzLS\n",
    "with open('../../bricks_data/pixel2ccd_2048_non_inclusive.pickle', 'rb') as f:\n",
    "    subpixel2ccd_dict = pickle.load(f)\n",
    "    f.close()\n",
    "time_end = time.time()\n",
    "time_passed = time_end - time_start\n",
    "print()\n",
    "print(f\"{time_passed / 60:.5} minutes ({time_passed:.3} seconds) taken to import the dict\")\n",
    "print()\n"
   ],
   "metadata": {
    "collapsed": false,
    "pycharm": {
     "name": "#%%\n"
    }
   }
  },
  {
   "cell_type": "code",
   "execution_count": 7,
   "outputs": [
    {
     "name": "stdout",
     "output_type": "stream",
     "text": [
      "[6423979, 6595510, 6671160, 6690372, 6693442, 6693607, 6698164, 6698410, 6763892, 6776075]\n"
     ]
    }
   ],
   "source": [
    "print(subpixel2ccd_dict[889358])\n",
    "pix = 889358\n",
    "ccd_ids = [6423979, 6595510, 6671160, 6690372, 6693442, 6693607, 6698164, 6698410, 6763892, 6776075]"
   ],
   "metadata": {
    "collapsed": false,
    "pycharm": {
     "name": "#%%\n"
    }
   }
  },
  {
   "cell_type": "code",
   "execution_count": 3,
   "outputs": [],
   "source": [
    "# defining a ccd object (initialised upon calling it)\n",
    "\n",
    "import  importlib\n",
    "importlib.reload(set_dataloader)\n",
    "\n",
    "ccd = set_dataloader.CCD()"
   ],
   "metadata": {
    "collapsed": false,
    "pycharm": {
     "name": "#%%\n"
    }
   }
  },
  {
   "cell_type": "code",
   "execution_count": 4,
   "outputs": [],
   "source": [
    "# prepare for ccd retrieval --> 2 options\n",
    "\n",
    "# If metrics are supposed to be scaled and filter band encoded\n",
    "#ccd.initialise_for_deepset()\n",
    "\n",
    "# if metrics are supposed to be unsccaled and filter colour not encoded\n",
    "ccd.stack_systematics()"
   ],
   "metadata": {
    "collapsed": false,
    "pycharm": {
     "name": "#%%\n"
    }
   }
  },
  {
   "cell_type": "code",
   "execution_count": 5,
   "outputs": [
    {
     "name": "stdout",
     "output_type": "stream",
     "text": [
      "[6423979, 6595510, 6671160, 6690372, 6693442, 6693607, 6698164, 6698410, 6763892, 6776075]\n",
      "[['1.369333' '1.31262' '19.36533' '51.43641' 'z']\n",
      " ['1.7863028' '1.8313799' '19.215212' '59.063282' 'z']\n",
      " ['1.37' '0.92486' '23.59339' '4.473703' 'g']\n",
      " ['1.43' '0.6943' '23.026192' '8.119816' 'r']\n",
      " ['1.65' '0.76242' '22.887026' '9.230223' 'r']\n",
      " ['1.64' '0.83578' '22.88196' '9.2733965' 'r']\n",
      " ['1.39' '0.65762' '23.372616' '5.4824686' 'g']\n",
      " ['1.38' '0.76766' '23.160248' '6.666897' 'g']\n",
      " ['1.38' '1.2654599' '21.61585' '29.7634' 'r']\n",
      " ['1.48' '1.1921' '23.565025' '4.5921135' 'g']]\n"
     ]
    }
   ],
   "source": [
    "# Process to return a given pixels ccds:\n",
    "\n",
    "# 1. define pixel to extract\n",
    "\n",
    "pixel = 889358\n",
    "\n",
    "# 2. get associated CCDs\n",
    "\n",
    "tangent_ccds = subpixel2ccd_dict[pixel]\n",
    "\n",
    "# 3. Get CCDs values from the catalogue for chosen features:\n",
    "\n",
    "ccds_values = ccd.get_ccds(tangent_ccds)\n",
    "\n",
    "print(ccds_values)\n",
    "\n",
    "# Values are in order:\n",
    "# airmass, seeing, ccdskysb, ccdskycounts, filter colour"
   ],
   "metadata": {
    "collapsed": false,
    "pycharm": {
     "name": "#%%\n"
    }
   }
  },
  {
   "cell_type": "code",
   "execution_count": 6,
   "outputs": [
    {
     "name": "stdout",
     "output_type": "stream",
     "text": [
      "Number of CCDs that are cutting pixel number 889358: 10\n"
     ]
    },
    {
     "data": {
      "text/plain": "<Figure size 432x288 with 1 Axes>",
      "image/png": "[encoded data removed]"
     },
     "metadata": {
      "needs_background": "light"
     },
     "output_type": "display_data"
    }
   ],
   "source": [
    "# Example of a given application --> Plot a Pixel\n",
    "\n",
    "# pixel_number = 28536897 --> largest populated pixel\n",
    "pixel_number = 889358\n",
    "NSIDE = 2048\n",
    "\n",
    "tangent_ccds = subpixel2ccd_dict[pixel_number]\n",
    "\n",
    "\n",
    "print(f\"Number of CCDs that are cutting pixel number {pixel_number}: {len(tangent_ccds)}\")\n",
    "for image in tangent_ccds:\n",
    "    xs, ys = ccd.get_ccd_boundaries(image)\n",
    "    plt.plot(xs, ys)\n",
    "\n",
    "pixel_boundary = hp.boundaries(nside=NSIDE, pix=pixel_number, step=1)\n",
    "pixel_boundary_raDec = hp.vec2ang(pixel_boundary.transpose(), lonlat=True)\n",
    "pixel_boundary_raDec = list(pixel_boundary_raDec)\n",
    "pixel_boundary_raDec[0] = np.append(pixel_boundary_raDec[0], pixel_boundary_raDec[0][0])\n",
    "pixel_boundary_raDec[1] = np.append(pixel_boundary_raDec[1], pixel_boundary_raDec[1][0])\n",
    "\n",
    "plt.plot(pixel_boundary_raDec[0], pixel_boundary_raDec[1], c='black', label=\"Pixel Boundary\")\n",
    "\n",
    "plt.show()"
   ],
   "metadata": {
    "collapsed": false,
    "pycharm": {
     "name": "#%%\n"
    }
   }
  },
  {
   "cell_type": "code",
   "execution_count": null,
   "outputs": [],
   "source": [],
   "metadata": {
    "collapsed": false,
    "pycharm": {
     "name": "#%%\n"
    }
   }
  }
 ],
 "metadata": {
  "kernelspec": {
   "display_name": "Python 3",
   "language": "python",
   "name": "python3"
  },
  "language_info": {
   "codemirror_mode": {
    "name": "ipython",
    "version": 2
   },
   "file_extension": ".py",
   "mimetype": "text/x-python",
   "name": "python",
   "nbconvert_exporter": "python",
   "pygments_lexer": "ipython2",
   "version": "2.7.6"
  }
 },
 "nbformat": 4,
 "nbformat_minor": 0
}