{
 "cells": [
  {
   "cell_type": "markdown",
   "metadata": {
    "collapsed": true,
    "pycharm": {
     "name": "#%% md\n"
    }
   },
   "source": [
    "## First Attempt at building a deepsets architecture"
   ],
   "outputs": [],
   "execution_count": 1
  },
  {
   "cell_type": "code",
   "execution_count": 2,
   "outputs": [],
   "source": [
    "import pandas as pd\n",
    "import numpy as np\n",
    "import pickle\n",
    "import matplotlib.pyplot as plt\n",
    "from astropy.io import fits\n",
    "import healpy as hp\n",
    "\n"
   ],
   "metadata": {
    "collapsed": false,
    "pycharm": {
     "name": "#%%\n"
    }
   }
  },
  {
   "cell_type": "markdown",
   "source": [
    "#### Experimenting with input sizes"
   ],
   "metadata": {
    "collapsed": false,
    "pycharm": {
     "name": "#%% md\n"
    }
   }
  },
  {
   "cell_type": "code",
   "execution_count": 4,
   "outputs": [],
   "source": [
    "# For DECAM, BASS, MzLS\n",
    "with open('../bricks_data/pixel2ccd_2048_non_inclusive.pickle', 'rb') as f:\n",
    "    subpixel2ccd_dict = pickle.load(f)\n",
    "    f.close()"
   ],
   "metadata": {
    "collapsed": false,
    "pycharm": {
     "name": "#%%\n"
    }
   }
  },
  {
   "cell_type": "code",
   "execution_count": 16,
   "outputs": [
    {
     "name": "stdout",
     "output_type": "stream",
     "text": [
      "28536897\n"
     ]
    }
   ],
   "source": [
    "print(len(subpixel2ccd_dict))"
   ],
   "metadata": {
    "collapsed": false,
    "pycharm": {
     "name": "#%%\n"
    }
   }
  },
  {
   "cell_type": "code",
   "execution_count": 17,
   "outputs": [
    {
     "name": "stdout",
     "output_type": "stream",
     "text": [
      "Mean CCD's per subpixel: 14.685108966122\n",
      "Max CCD's per subpixel: 2978\n",
      "Min CCD's per subpixel: 1\n"
     ]
    }
   ],
   "source": [
    "min = 1000\n",
    "max = 0\n",
    "aggregate = 0\n",
    "index_max = 0\n",
    "lens = np.zeros(len(subpixel2ccd_dict))\n",
    "\n",
    "for i,pix in enumerate(subpixel2ccd_dict.keys()):\n",
    "    no_ccds = len(subpixel2ccd_dict[pix])\n",
    "    lens[i] = no_ccds\n",
    "    aggregate += no_ccds\n",
    "    if no_ccds > max:\n",
    "        max = no_ccds\n",
    "        index_max = pix\n",
    "    if no_ccds < min:\n",
    "        min = no_ccds\n",
    "\n",
    "print(\"Mean CCD's per subpixel:\", lens.mean())\n",
    "print(\"Max CCD's per subpixel:\", max)\n",
    "print(\"Min CCD's per subpixel:\", min)\n",
    "\n"
   ],
   "metadata": {
    "collapsed": false,
    "pycharm": {
     "name": "#%%\n"
    }
   }
  },
  {
   "cell_type": "code",
   "execution_count": 13,
   "outputs": [
    {
     "data": {
      "text/plain": "(array([26122277.,  2267658.,   107349.]),\n array([  0,  30,  50, 100]),\n <BarContainer object of 3 artists>)"
     },
     "execution_count": 13,
     "metadata": {},
     "output_type": "execute_result"
    },
    {
     "data": {
      "text/plain": "<Figure size 432x288 with 1 Axes>",
      "image/png": "[encoded data removed]"
     },
     "metadata": {
      "needs_background": "light"
     },
     "output_type": "display_data"
    }
   ],
   "source": [
    "plt.hist(lens, bins=[0,30,50,100])\n"
   ],
   "metadata": {
    "collapsed": false,
    "pycharm": {
     "name": "#%%\n"
    }
   }
  },
  {
   "cell_type": "code",
   "execution_count": 18,
   "outputs": [
    {
     "name": "stdout",
     "output_type": "stream",
     "text": [
      "ColDefs(\n",
      "    name = 'image_filename'; format = '120A'\n",
      "    name = 'image_hdu'; format = 'I'\n",
      "    name = 'camera'; format = '5A'\n",
      "    name = 'expnum'; format = 'K'\n",
      "    name = 'plver'; format = '8A'\n",
      "    name = 'procdate'; format = '19A'\n",
      "    name = 'plprocid'; format = '7A'\n",
      "    name = 'ccdname'; format = '3A'\n",
      "    name = 'object'; format = '35A'\n",
      "    name = 'propid'; format = '10A'\n",
      "    name = 'filter'; format = '1A'\n",
      "    name = 'exptime'; format = 'E'\n",
      "    name = 'mjd_obs'; format = 'D'\n",
      "    name = 'airmass'; format = 'E'\n",
      "    name = 'fwhm'; format = 'E'\n",
      "    name = 'width'; format = 'I'\n",
      "    name = 'height'; format = 'I'\n",
      "    name = 'ra_bore'; format = 'D'\n",
      "    name = 'dec_bore'; format = 'D'\n",
      "    name = 'crpix1'; format = 'E'\n",
      "    name = 'crpix2'; format = 'E'\n",
      "    name = 'crval1'; format = 'D'\n",
      "    name = 'crval2'; format = 'D'\n",
      "    name = 'cd1_1'; format = 'E'\n",
      "    name = 'cd1_2'; format = 'E'\n",
      "    name = 'cd2_1'; format = 'E'\n",
      "    name = 'cd2_2'; format = 'E'\n",
      "    name = 'yshift'; format = 'L'\n",
      "    name = 'ra'; format = 'D'\n",
      "    name = 'dec'; format = 'D'\n",
      "    name = 'skyrms'; format = 'E'\n",
      "    name = 'sig1'; format = 'E'\n",
      "    name = 'ccdzpt'; format = 'E'\n",
      "    name = 'zpt'; format = 'E'\n",
      "    name = 'ccdraoff'; format = 'E'\n",
      "    name = 'ccddecoff'; format = 'E'\n",
      "    name = 'ccdskycounts'; format = 'E'\n",
      "    name = 'ccdskysb'; format = 'E'\n",
      "    name = 'ccdrarms'; format = 'E'\n",
      "    name = 'ccddecrms'; format = 'E'\n",
      "    name = 'ccdphrms'; format = 'E'\n",
      "    name = 'ccdnastrom'; format = 'I'\n",
      "    name = 'ccdnphotom'; format = 'I'\n",
      "    name = 'ccd_cuts'; format = 'K'\n",
      "    name = 'annotated'; format = 'L'\n",
      "    name = 'good_region'; format = '4I'\n",
      "    name = 'ra0'; format = 'D'\n",
      "    name = 'dec0'; format = 'D'\n",
      "    name = 'ra1'; format = 'D'\n",
      "    name = 'dec1'; format = 'D'\n",
      "    name = 'ra2'; format = 'D'\n",
      "    name = 'dec2'; format = 'D'\n",
      "    name = 'ra3'; format = 'D'\n",
      "    name = 'dec3'; format = 'D'\n",
      "    name = 'dra'; format = 'E'\n",
      "    name = 'ddec'; format = 'E'\n",
      "    name = 'ra_center'; format = 'D'\n",
      "    name = 'dec_center'; format = 'D'\n",
      "    name = 'meansky'; format = 'E'\n",
      "    name = 'stdsky'; format = 'E'\n",
      "    name = 'maxsky'; format = 'E'\n",
      "    name = 'minsky'; format = 'E'\n",
      "    name = 'pixscale_mean'; format = 'E'\n",
      "    name = 'pixscale_std'; format = 'E'\n",
      "    name = 'pixscale_max'; format = 'E'\n",
      "    name = 'pixscale_min'; format = 'E'\n",
      "    name = 'psfnorm_mean'; format = 'E'\n",
      "    name = 'psfnorm_std'; format = 'E'\n",
      "    name = 'galnorm_mean'; format = 'E'\n",
      "    name = 'galnorm_std'; format = 'E'\n",
      "    name = 'psf_mx2'; format = 'E'\n",
      "    name = 'psf_my2'; format = 'E'\n",
      "    name = 'psf_mxy'; format = 'E'\n",
      "    name = 'psf_a'; format = 'E'\n",
      "    name = 'psf_b'; format = 'E'\n",
      "    name = 'psf_theta'; format = 'E'\n",
      "    name = 'psf_ell'; format = 'E'\n",
      "    name = 'humidity'; format = 'E'\n",
      "    name = 'outtemp'; format = 'E'\n",
      "    name = 'tileid'; format = 'J'\n",
      "    name = 'tilepass'; format = 'B'\n",
      "    name = 'tileebv'; format = 'E'\n",
      "    name = 'ebv'; format = 'E'\n",
      "    name = 'decam_extinction'; format = '6E'\n",
      "    name = 'wise_extinction'; format = '4E'\n",
      "    name = 'psfdepth'; format = 'E'\n",
      "    name = 'galdepth'; format = 'E'\n",
      "    name = 'gausspsfdepth'; format = 'E'\n",
      "    name = 'gaussgaldepth'; format = 'E'\n",
      "    name = 'phrms'; format = 'E'\n",
      ")\n"
     ]
    }
   ],
   "source": [
    "decamCCD = fits.open('../bricks_data/ccds-annotated-decam-dr9.fits')\n",
    "mosaicCCD = fits.open('../bricks_data/ccds-annotated-mosaic-dr9.fits')\n",
    "bassCCD = fits.open('../bricks_data/ccds-annotated-90prime-dr9.fits')\n",
    "print(decamCCD[1].columns)\n"
   ],
   "metadata": {
    "collapsed": false,
    "pycharm": {
     "name": "#%%\n"
    }
   }
  },
  {
   "cell_type": "code",
   "execution_count": 19,
   "outputs": [],
   "source": [
    "dataDecam = decamCCD[1].data\n",
    "dataMosaic = mosaicCCD[1].data\n",
    "dataBass = bassCCD[1].data"
   ],
   "metadata": {
    "collapsed": false,
    "pycharm": {
     "name": "#%%\n"
    }
   }
  },
  {
   "cell_type": "code",
   "execution_count": 20,
   "outputs": [
    {
     "name": "stdout",
     "output_type": "stream",
     "text": [
      "6776431\n"
     ]
    }
   ],
   "source": [
    "#ra0 = np.concatenate((dataDecam.field('ra0'), dataMosaic.field('ra0'), dataBass.field('ra0')), axis=0)\n",
    "#print(len(ra0))\n",
    "ra0_decam  = dataDecam.field('ra0')\n",
    "ra0_mosaic = dataMosaic.field('ra0')\n",
    "ra0_bass =dataBass.field('ra0')\n",
    "print(len(ra0_decam) +  len(ra0_mosaic) + len(ra0_bass))"
   ],
   "metadata": {
    "collapsed": false,
    "pycharm": {
     "name": "#%%\n"
    }
   }
  },
  {
   "cell_type": "code",
   "execution_count": 21,
   "outputs": [],
   "source": [
    "ra0 = np.concatenate((dataDecam.field('ra0'), dataMosaic.field('ra0'), dataBass.field('ra0')), axis=0)\n",
    "dec0 = np.concatenate((dataDecam.field('dec0'), dataMosaic.field('dec0'), dataBass.field('dec0')), axis=0)\n",
    "\n",
    "ra1 = np.concatenate((dataDecam.field('ra1'), dataMosaic.field('ra1'), dataBass.field('ra1')), axis=0)\n",
    "dec1 = np.concatenate((dataDecam.field('dec1'), dataMosaic.field('dec1'), dataBass.field('dec1')), axis=0)\n",
    "\n",
    "ra2 = np.concatenate((dataDecam.field('ra2'), dataMosaic.field('ra2'), dataBass.field('ra2')), axis=0)\n",
    "dec2 = np.concatenate((dataDecam.field('dec2'), dataMosaic.field('dec2'), dataBass.field('dec2')), axis=0)\n",
    "\n",
    "ra3 = np.concatenate((dataDecam.field('ra3'), dataMosaic.field('ra3'), dataBass.field('ra3')), axis=0)\n",
    "dec3 = np.concatenate((dataDecam.field('dec3'), dataMosaic.field('dec3'), dataBass.field('dec3')), axis=0)\n",
    "\n"
   ],
   "metadata": {
    "collapsed": false,
    "pycharm": {
     "name": "#%%\n"
    }
   }
  },
  {
   "cell_type": "markdown",
   "source": [
    "### Plotting the Pixel - CCD Relationship for the most populated pixel"
   ],
   "metadata": {
    "collapsed": false,
    "pycharm": {
     "name": "#%% md\n"
    }
   }
  },
  {
   "cell_type": "code",
   "execution_count": null,
   "outputs": [],
   "source": [
    "#Validating everything went as intended visually\n",
    "\n",
    "NSIDE_SUB = 2048\n",
    "pixel_number = index_max\n",
    "# print(pixel2ccd_dict.keys())\n",
    "print(len(subpixel2ccd_dict.keys()))\n",
    "\n",
    "\n",
    "ccd = subpixel2ccd_dict[pixel_number]\n",
    "print(\"Number of CCDs that are cutting pixel number \", pixel_number, \":\", len(ccd))\n",
    "for cc in ccd:\n",
    "#coord = [[x0,y0], [x1,y1], [x2,y2], [x3,y3], [x0,y0]]\n",
    "    xs = [ra0[cc],ra1[cc], ra2[cc], ra3[cc],ra0[cc] ]\n",
    "    ys = [dec0[cc],dec1[cc], dec2[cc], dec3[cc],dec0[cc]]\n",
    "    plt.plot(xs,ys)\n",
    "#if i > 3:\n",
    "    #break\n",
    "\n",
    "pixel_boundary = hp.boundaries(nside=NSIDE_SUB, pix=pixel_number, step=1)\n",
    "pixel_boundary_raDec = hp.vec2ang(pixel_boundary.transpose(),lonlat=True)\n",
    "pixel_boundary_raDec = list(pixel_boundary_raDec)\n",
    "pixel_boundary_raDec[0] = np.append(pixel_boundary_raDec[0],pixel_boundary_raDec[0][0])\n",
    "pixel_boundary_raDec[1] = np.append(pixel_boundary_raDec[1],pixel_boundary_raDec[1][0])\n",
    "\n",
    "\n",
    "plt.plot(pixel_boundary_raDec[0],pixel_boundary_raDec[1], c='black', label=\"Pixel Boundary\")\n",
    "\n",
    "plt.show()\n"
   ],
   "metadata": {
    "collapsed": false,
    "pycharm": {
     "name": "#%%\n"
    }
   }
  },
  {
   "cell_type": "markdown",
   "source": [
    "## Building a deepsets architecture"
   ],
   "metadata": {
    "collapsed": false,
    "pycharm": {
     "name": "#%% md\n"
    }
   }
  },
  {
   "cell_type": "code",
   "execution_count": 3,
   "outputs": [
    {
     "name": "stdout",
     "output_type": "stream",
     "text": [
      "1.9.0\n"
     ]
    }
   ],
   "source": [
    "# Import NN Packages\n",
    "import torch\n",
    "import os\n",
    "import torch\n",
    "import torch.nn as nn\n",
    "import torch.nn.functional as F\n",
    "from sklearn.model_selection import train_test_split\n",
    "from sklearn.utils import shuffle\n",
    "from sklearn import preprocessing, metrics\n",
    "from torch.utils.data import DataLoader, Dataset\n",
    "import torch.optim as optim\n",
    "import time\n",
    "import seaborn as sns\n",
    "import matplotlib.pyplot as plt\n",
    "\n",
    "\n",
    "print(torch.__version__)\n"
   ],
   "metadata": {
    "collapsed": false,
    "pycharm": {
     "name": "#%%\n"
    }
   }
  },
  {
   "cell_type": "markdown",
   "source": [
    "## Writing Dataset Utility to pass data in the right format\n",
    "\n",
    "#### Steps:\n",
    "\n",
    "1. Build a NN sampling an equal number of CCDs per 256 pixel and pass through deep sets for regression\n",
    "\n",
    "2. Adapt NN for variable sized inputs\n",
    "\n",
    "3. Adapt NN to use 64 layers of size 2048 to then predict density at 256"
   ],
   "metadata": {
    "collapsed": false,
    "pycharm": {
     "name": "#%% md\n"
    }
   }
  },
  {
   "cell_type": "code",
   "execution_count": 6,
   "outputs": [],
   "source": [
    "# Preparing Data to use\n",
    "df = pd.read_csv('../../bricks_data/dataset_geometric.csv')\n",
    "\n"
   ],
   "metadata": {
    "collapsed": false,
    "pycharm": {
     "name": "#%%\n"
    }
   }
  },
  {
   "cell_type": "code",
   "execution_count": null,
   "outputs": [],
   "source": [
    "class DensitySurvey(Dataset):\n",
    "    def __init__(self, df, galaxy_type, scaler_in=None, scaler_out=None):\n",
    "        self.data = df\n",
    "        # Extracting Targets and Input\n",
    "        self.target = self.data[galaxy_type].to_numpy(copy=True)\n",
    "        self.input = self.data.drop(columns=['lrg','elg','qso']).to_numpy(copy=True)\n",
    "\n",
    "        # Scaling, when scaler is passed (test-set) use the existing scaler\n",
    "        self.scaler_in = scaler_in\n",
    "        self.scaler_out = scaler_out\n",
    "        if self.scaler_in is None:\n",
    "            self.scaler_in = preprocessing.MinMaxScaler()\n",
    "            self.scaler_out = preprocessing.MinMaxScaler()\n",
    "            self.input = self.scaler_in.fit_transform(self.input)\n",
    "            self.target = self.scaler_out.fit_transform(self.target.reshape(-1, 1))\n",
    "        else:\n",
    "            self.input = self.scaler_in.transform(self.input)\n",
    "            self.target = self.scaler_out.transform(self.target.reshape(-1, 1))\n",
    "\n",
    "\n",
    "    def __len__(self):\n",
    "        return len(self.target)\n",
    "\n",
    "    def __getitem__(self, idx):\n",
    "        return torch.from_numpy(self.input[idx]).float(), torch.tensor(self.target[idx]).float()\n"
   ],
   "metadata": {
    "collapsed": false,
    "pycharm": {
     "name": "#%%\n"
    }
   }
  }
 ],
 "metadata": {
  "kernelspec": {
   "display_name": "Python 3",
   "language": "python",
   "name": "python3"
  },
  "language_info": {
   "codemirror_mode": {
    "name": "ipython",
    "version": 2
   },
   "file_extension": ".py",
   "mimetype": "text/x-python",
   "name": "python",
   "nbconvert_exporter": "python",
   "pygments_lexer": "ipython2",
   "version": "2.7.6"
  }
 },
 "nbformat": 4,
 "nbformat_minor": 0
}