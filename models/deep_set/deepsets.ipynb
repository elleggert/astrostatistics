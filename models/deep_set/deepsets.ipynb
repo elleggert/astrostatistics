{
 "cells": [
  {
   "cell_type": "markdown",
   "metadata": {
    "collapsed": true,
    "pycharm": {
     "name": "#%% md\n"
    }
   },
   "source": [
    "## First Attempt at building a deepsets architecture"
   ],
   "outputs": [],
   "execution_count": 1
  },
  {
   "cell_type": "code",
   "execution_count": 9,
   "outputs": [],
   "source": [
    "import random\n",
    "\n",
    "import pandas as pd\n",
    "import numpy as np\n",
    "import pickle\n",
    "import matplotlib.pyplot as plt\n",
    "from astropy.io import fits\n",
    "import healpy as hp\n",
    "from set_dataloader import CCD\n",
    "\n",
    "\n"
   ],
   "metadata": {
    "collapsed": false,
    "pycharm": {
     "name": "#%%\n"
    }
   }
  },
  {
   "cell_type": "markdown",
   "source": [
    "#### Experimenting with input sizes"
   ],
   "metadata": {
    "collapsed": false,
    "pycharm": {
     "name": "#%% md\n"
    }
   }
  },
  {
   "cell_type": "code",
   "execution_count": null,
   "outputs": [],
   "source": [
    "# For DECAM, BASS, MzLS\n",
    "with open('../../bricks_data/pixel2ccd_2048_non_inclusive.pickle', 'rb') as f:\n",
    "    subpixel2ccd_dict = pickle.load(f)\n",
    "    f.close()"
   ],
   "metadata": {
    "collapsed": false,
    "pycharm": {
     "name": "#%%\n",
     "is_executing": true
    }
   }
  },
  {
   "cell_type": "code",
   "execution_count": null,
   "outputs": [],
   "source": [
    "print(len(subpixel2ccd_dict))"
   ],
   "metadata": {
    "collapsed": false,
    "pycharm": {
     "name": "#%%\n",
     "is_executing": true
    }
   }
  },
  {
   "cell_type": "code",
   "execution_count": null,
   "outputs": [],
   "source": [
    "min = 1000\n",
    "max = 0\n",
    "aggregate = 0\n",
    "index_max_sub = 0\n",
    "lens = np.zeros(len(subpixel2ccd_dict))\n",
    "\n",
    "for i,pix in enumerate(subpixel2ccd_dict.keys()):\n",
    "    no_ccds = len(subpixel2ccd_dict[pix])\n",
    "    lens[i] = no_ccds\n",
    "    aggregate += no_ccds\n",
    "    if no_ccds > max:\n",
    "        max = no_ccds\n",
    "        index_max_sub = pix\n",
    "    if no_ccds < min:\n",
    "        min = no_ccds\n",
    "\n",
    "print(\"Mean CCD's per subpixel:\", lens.mean())\n",
    "print(\"Max CCD's per subpixel:\", max)\n",
    "print(\"Min CCD's per subpixel:\", min)\n",
    "\n"
   ],
   "metadata": {
    "collapsed": false,
    "pycharm": {
     "name": "#%%\n",
     "is_executing": true
    }
   }
  },
  {
   "cell_type": "code",
   "execution_count": null,
   "outputs": [],
   "source": [
    "plt.hist(lens, bins=[0,30,50,100])"
   ],
   "metadata": {
    "collapsed": false,
    "pycharm": {
     "name": "#%%\n",
     "is_executing": true
    }
   }
  },
  {
   "cell_type": "code",
   "execution_count": null,
   "outputs": [],
   "source": [
    "with open('../../bricks_data/pixel2ccd_256_non_inclusive.pickle', 'rb') as f:\n",
    "    pixel2ccd_dict = pickle.load(f)\n",
    "    f.close()"
   ],
   "metadata": {
    "collapsed": false,
    "pycharm": {
     "name": "#%%\n",
     "is_executing": true
    }
   }
  },
  {
   "cell_type": "code",
   "execution_count": null,
   "outputs": [],
   "source": [
    "min = 1000\n",
    "max = 0\n",
    "aggregate = 0\n",
    "index_max = 0\n",
    "lens = np.zeros(len(pixel2ccd_dict))\n",
    "\n",
    "for i,pix in enumerate(pixel2ccd_dict.keys()):\n",
    "    no_ccds = len(pixel2ccd_dict[pix])\n",
    "    lens[i] = no_ccds\n",
    "    aggregate += no_ccds\n",
    "    if no_ccds > max:\n",
    "        max = no_ccds\n",
    "        index_max = pix\n",
    "    if no_ccds < min:\n",
    "        min = no_ccds\n",
    "\n",
    "print(\"Mean CCD's per pixel:\", lens.mean())\n",
    "print(\"Max CCD's per pixel:\", max)\n",
    "print(\"Min CCD's per pixel:\", min)\n"
   ],
   "metadata": {
    "collapsed": false,
    "pycharm": {
     "name": "#%%\n",
     "is_executing": true
    }
   }
  },
  {
   "cell_type": "code",
   "execution_count": null,
   "outputs": [],
   "source": [
    "plt.hist(lens, bins=[0,30,50,100])"
   ],
   "metadata": {
    "collapsed": false,
    "pycharm": {
     "name": "#%%\n",
     "is_executing": true
    }
   }
  },
  {
   "cell_type": "code",
   "execution_count": null,
   "outputs": [],
   "source": [
    "ccd = CCD()\n",
    "\n",
    "ra0, dec0, ra1, dec1, ra2, dec2, ra3, dec3 = ccd.get_boundaries()\n",
    "\n"
   ],
   "metadata": {
    "collapsed": false,
    "pycharm": {
     "name": "#%%\n",
     "is_executing": true
    }
   }
  },
  {
   "cell_type": "markdown",
   "source": [
    "### Plotting the Pixel - CCD Relationship for the most populated pixel"
   ],
   "metadata": {
    "collapsed": false,
    "pycharm": {
     "name": "#%% md\n"
    }
   }
  },
  {
   "cell_type": "code",
   "execution_count": null,
   "outputs": [],
   "source": [
    "#Validating everything went as intended visually\n",
    "\n",
    "NSIDE = 256\n",
    "pixel_number = index_max\n",
    "# print(pixel2ccd_dict.keys())\n",
    "print(len(pixel2ccd_dict.keys()))\n",
    "\n",
    "\n",
    "ccd = pixel2ccd_dict[pixel_number]\n",
    "print(\"Number of CCDs that are cutting pixel number \", pixel_number, \":\", len(ccd))\n",
    "for cc in ccd:\n",
    "#coord = [[x0,y0], [x1,y1], [x2,y2], [x3,y3], [x0,y0]]\n",
    "    xs = [ra0[cc],ra1[cc], ra2[cc], ra3[cc],ra0[cc] ]\n",
    "    ys = [dec0[cc],dec1[cc], dec2[cc], dec3[cc],dec0[cc]]\n",
    "    plt.plot(xs,ys)\n",
    "#if i > 3:\n",
    "    #break\n",
    "\n",
    "pixel_boundary = hp.boundaries(nside=NSIDE, pix=pixel_number, step=1)\n",
    "pixel_boundary_raDec = hp.vec2ang(pixel_boundary.transpose(),lonlat=True)\n",
    "pixel_boundary_raDec = list(pixel_boundary_raDec)\n",
    "pixel_boundary_raDec[0] = np.append(pixel_boundary_raDec[0],pixel_boundary_raDec[0][0])\n",
    "pixel_boundary_raDec[1] = np.append(pixel_boundary_raDec[1],pixel_boundary_raDec[1][0])\n",
    "\n",
    "\n",
    "plt.plot(pixel_boundary_raDec[0],pixel_boundary_raDec[1], c='black', label=\"Pixel Boundary\")\n",
    "\n",
    "plt.show()"
   ],
   "metadata": {
    "collapsed": false,
    "pycharm": {
     "name": "#%%\n",
     "is_executing": true
    }
   }
  },
  {
   "cell_type": "code",
   "execution_count": null,
   "outputs": [],
   "source": [
    "#Validating everything went as intended visually\n",
    "\n",
    "NSIDE = 2048\n",
    "pixel_number = index_max_sub\n",
    "# print(pixel2ccd_dict.keys())\n",
    "print(len(subpixel2ccd_dict.keys()))\n",
    "\n",
    "\n",
    "ccd_sub = subpixel2ccd_dict[pixel_number]\n",
    "print(\"Number of CCDs that are cutting pixel number \", pixel_number, \":\", len(ccd))\n",
    "for cc in ccd_sub:\n",
    "#coord = [[x0,y0], [x1,y1], [x2,y2], [x3,y3], [x0,y0]]\n",
    "    xs = [ra0[cc],ra1[cc], ra2[cc], ra3[cc],ra0[cc] ]\n",
    "    ys = [dec0[cc],dec1[cc], dec2[cc], dec3[cc],dec0[cc]]\n",
    "    plt.plot(xs,ys)\n",
    "#if i > 3:\n",
    "    #break\n",
    "\n",
    "pixel_boundary = hp.boundaries(nside=NSIDE, pix=pixel_number, step=1)\n",
    "pixel_boundary_raDec = hp.vec2ang(pixel_boundary.transpose(),lonlat=True)\n",
    "pixel_boundary_raDec = list(pixel_boundary_raDec)\n",
    "pixel_boundary_raDec[0] = np.append(pixel_boundary_raDec[0],pixel_boundary_raDec[0][0])\n",
    "pixel_boundary_raDec[1] = np.append(pixel_boundary_raDec[1],pixel_boundary_raDec[1][0])\n",
    "\n",
    "\n",
    "plt.plot(pixel_boundary_raDec[0],pixel_boundary_raDec[1], c='black', label=\"Pixel Boundary\")\n",
    "\n",
    "plt.show()"
   ],
   "metadata": {
    "collapsed": false,
    "pycharm": {
     "name": "#%%\n",
     "is_executing": true
    }
   }
  },
  {
   "cell_type": "code",
   "execution_count": null,
   "outputs": [],
   "source": [
    "x = [x for x in ccd_sub if x not in ccd]\n",
    "\n",
    "print(len(x))"
   ],
   "metadata": {
    "collapsed": false,
    "pycharm": {
     "name": "#%%\n",
     "is_executing": true
    }
   }
  },
  {
   "cell_type": "markdown",
   "source": [
    "## Building a deepsets architecture"
   ],
   "metadata": {
    "collapsed": false,
    "pycharm": {
     "name": "#%% md\n"
    }
   }
  },
  {
   "cell_type": "code",
   "execution_count": 3,
   "outputs": [
    {
     "name": "stdout",
     "output_type": "stream",
     "text": [
      "1.9.0\n"
     ]
    }
   ],
   "source": [
    "# Import NN Packages\n",
    "import torch\n",
    "import os\n",
    "import torch\n",
    "import torch.nn as nn\n",
    "import torch.nn.functional as F\n",
    "from sklearn.model_selection import train_test_split\n",
    "from sklearn.utils import shuffle\n",
    "from sklearn import preprocessing, metrics\n",
    "from torch.utils.data import DataLoader, Dataset\n",
    "import torch.optim as optim\n",
    "import time\n",
    "import seaborn as sns\n",
    "import matplotlib.pyplot as plt\n",
    "\n",
    "\n",
    "print(torch.__version__)\n"
   ],
   "metadata": {
    "collapsed": false,
    "pycharm": {
     "name": "#%%\n"
    }
   }
  },
  {
   "cell_type": "markdown",
   "source": [
    "## Writing Dataset Utility to pass data in the right format\n",
    "\n",
    "#### Steps:\n",
    "\n",
    "1. Build a NN sampling an equal number of CCDs per 256 pixel and pass through deep sets for regression\n",
    "\n",
    "2. Adapt NN for variable sized inputs\n",
    "\n",
    "3. Adapt NN to use 64 inputs of size 2048 to then predict density at 256\n"
   ],
   "metadata": {
    "collapsed": false,
    "pycharm": {
     "name": "#%% md\n"
    }
   }
  },
  {
   "cell_type": "code",
   "execution_count": 33,
   "outputs": [
    {
     "data": {
      "text/plain": "' Todo\\n1. Where to get the data from\\n2. Scaling --> import an already scaled dataset, this will have to be prepared but should be same for Neural Net\\n3. Combine larger and smaller dataset\\n4. Build 64 input channels instead of one, so one more dimension of tensors( NO of Pixels,no_of_subpixels,no_ccds, no_features)\\n'"
     },
     "execution_count": 33,
     "metadata": {},
     "output_type": "execute_result"
    }
   ],
   "source": [
    "# noinspection PyAttributeOutsideInit\n",
    "class SetSequence(Dataset):\n",
    "    \"\"\"Processes and Returns a Dataset of Variable Sized Input Sets of Dimensions\n",
    "    N = Number Pixels of that are returned\n",
    "    M = Max Size of each Individual Set of CCDs\n",
    "\n",
    "\n",
    "    \"\"\"\n",
    "\n",
    "    def __init__(self, num_pixels = 10, max_ccds = 30, var_set_len = False):\n",
    "\n",
    "        with open('../../bricks_data/pixel2ccd_256_non_inclusive.pickle', 'rb') as f:\n",
    "            self.pixel2ccd_dict = pickle.load(f)\n",
    "            f.close()\n",
    "\n",
    "\n",
    "        self.ccd = CCD()\n",
    "        self.num_features = self.ccd.num_features\n",
    "\n",
    "        # Dimensions\n",
    "        self.num_pixels = num_pixels\n",
    "        self.max_ccds = max_ccds\n",
    "        self.var_set_len = var_set_len\n",
    "\n",
    "        df_raw = pd.read_csv('../../bricks_data/dataset_geometric.csv')\n",
    "        # Randomly Sampling Pixel Indices from Dataframe\n",
    "        pixel_indices = random.sample(range(len(df_raw)), num_pixels)\n",
    "\n",
    "\n",
    "\n",
    "        self.df = df_raw.iloc[pixel_indices]\n",
    "        self.pix_ids = self.df.pixel_id.to_numpy()\n",
    "\n",
    "        self.initialise_inputs()\n",
    "\n",
    "        self.initialise_lengths()\n",
    "\n",
    "        # Target\n",
    "        self.label = np.random.rand(self.num_pixels*self.max_ccds)\n",
    "\n",
    "\n",
    "        # Mask Variable Len Sets\n",
    "        #self.set_max_set_len()\n",
    "\n",
    "    def set_targets(self, gal_type):\n",
    "        # Features and inputs:\n",
    "        self.target = None\n",
    "        self.target = self.df[gal_type].to_numpy()\n",
    "\n",
    "    def initialise_lengths(self):\n",
    "        self.lengths = np.zeros(self.num_pixels, dtype=int)\n",
    "        if self.var_set_len:\n",
    "            for i, pix in enumerate(self.pix_ids):\n",
    "                c = len(self.pixel2ccd_dict[pix])\n",
    "                if c < self.max_ccds:\n",
    "                    self.lengths[i] = c\n",
    "                else:\n",
    "                    self.lengths[i] = self.max_ccds\n",
    "\n",
    "        else:\n",
    "            self.lengths.fill(self.max_ccds)\n",
    "\n",
    "    def initialise_inputs(self):\n",
    "        #self.input = -1 * np.ones((self.num_pixels, self.max_ccds, self.num_features))\n",
    "        self.input = np.zeros((self.num_pixels, self.max_ccds, self.num_features))\n",
    "\n",
    "        # Iterate through the pixels\n",
    "        for i, pix in enumerate(self.pix_ids):\n",
    "            ids = self.pixel2ccd_dict[pix]\n",
    "            random.shuffle(ids)\n",
    "            #print(len(ids))\n",
    "            ids = ids[:30]\n",
    "            #print(len(ids))\n",
    "            #print()\n",
    "            x = self.ccd.get_ccds(ids)\n",
    "            # Iterate through the CCDs for every pixel\n",
    "            for j in range(len(ids)):\n",
    "                self.input[i, j] = x[j]\n",
    "\n",
    "    def set_max_set_len(self):\n",
    "        self.index_matrix =  -1*np.ones((self.num_pixels, self.max_ccds), dtype=int)\n",
    "\n",
    "        # Getting random labels for now, in the future this will be the output densities\n",
    "\n",
    "        m = 0\n",
    "        for i in range(self.num_pixels):\n",
    "\n",
    "            for j in range(self.lengths[i]):\n",
    "                ''' This code with label == 0 is not yet needed, but this masking will become necessary when I have\n",
    "                    I have 64 subpixels per pixel and some of those are not covered by CCDs'''\n",
    "                while self.label[m] == 0:\n",
    "                    m += 1\n",
    "                self.index_matrix[i, j] = m\n",
    "                m += 1\n",
    "\n",
    "        print(self.lengths)\n",
    "        print(self.index_matrix)\n",
    "\n",
    "    def __len__(self):\n",
    "        return self.num_pixels\n",
    "\n",
    "    def __getitem__(self, idx):\n",
    "        x = torch.from_numpy(self.input[idx]).float()\n",
    "        #x = x.unsqueeze(0)\n",
    "        y = torch.tensor(self.target[idx]).float()\n",
    "        y = y.unsqueeze(-1)\n",
    "        #l = torch.tensor(self.lengths[idx])\n",
    "        l = self.lengths[idx]\n",
    "\n",
    "        return x,y,l\n",
    "\n",
    "\n",
    "\"\"\" Todo\n",
    "1. Where to get the data from\n",
    "2. Scaling --> import an already scaled dataset, this will have to be prepared but should be same for Neural Net\n",
    "3. Combine larger and smaller dataset\n",
    "4. Build 64 input channels instead of one, so one more dimension of tensors( NO of Pixels,no_of_subpixels,no_ccds, no_features)\n",
    "\"\"\""
   ],
   "metadata": {
    "collapsed": false,
    "pycharm": {
     "name": "#%%\n"
    }
   }
  },
  {
   "cell_type": "code",
   "execution_count": 74,
   "outputs": [
    {
     "name": "stdout",
     "output_type": "stream",
     "text": [
      "[172659, 66312, 200133, 14751, 172602, 110234, 252897, 66256, 212584, 241527]\n",
      "13\n",
      "13\n",
      "\n",
      "14\n",
      "14\n",
      "\n",
      "13\n",
      "13\n",
      "\n",
      "13\n",
      "13\n",
      "\n",
      "6\n",
      "6\n",
      "\n",
      "14\n",
      "14\n",
      "\n",
      "28\n",
      "28\n",
      "\n",
      "10\n",
      "10\n",
      "\n",
      "31\n",
      "30\n",
      "\n",
      "27\n",
      "27\n",
      "\n",
      "[13 14 13 13  6 14 28 10 30 27]\n"
     ]
    }
   ],
   "source": [],
   "metadata": {
    "collapsed": false,
    "pycharm": {
     "name": "#%%\n"
    }
   }
  },
  {
   "cell_type": "code",
   "execution_count": 60,
   "outputs": [],
   "source": [],
   "metadata": {
    "collapsed": false,
    "pycharm": {
     "name": "#%%\n"
    }
   }
  },
  {
   "cell_type": "markdown",
   "source": [
    "## Building the Actual Network Architecture\n",
    "\n"
   ],
   "metadata": {
    "collapsed": false,
    "pycharm": {
     "name": "#%% md\n"
    }
   }
  },
  {
   "cell_type": "code",
   "execution_count": 5,
   "outputs": [],
   "source": [
    "r\"\"\"\n",
    "Permutation Equivariant and Permutation Invariant layers, as described in the\n",
    "paper Deep Sets, by Zaheer et al. (https://arxiv.org/abs/1703.06114)\n",
    "\"\"\"\n",
    "\n",
    "import math\n",
    "\n",
    "import torch\n",
    "from torch import nn\n",
    "from torch.nn import init\n",
    "\n",
    "\n",
    "class InvLinear(nn.Module):\n",
    "    r\"\"\"Permutation invariant linear layer.\n",
    "    Args:\n",
    "        in_features: size of each input sample\n",
    "        out_features: size of each output sample\n",
    "        bias: If set to False, the layer will not learn an additive bias.\n",
    "            Default: ``True``\n",
    "        reduction: Permutation invariant operation that maps the input set into a single\n",
    "            vector. Currently, the following are supported: mean, sum, max and min.\n",
    "    \"\"\"\n",
    "    def __init__(self, in_features, out_features, bias=True, reduction='mean'):\n",
    "        super(InvLinear, self).__init__()\n",
    "\n",
    "        self.in_features = in_features\n",
    "        self.out_features = out_features\n",
    "        assert reduction in ['mean', 'sum', 'max', 'min'],  \\\n",
    "            '\\'reduction\\' should be \\'mean\\'/\\'sum\\'\\'max\\'/\\'min\\', got {}'.format(reduction)\n",
    "        self.reduction = reduction\n",
    "\n",
    "        self.beta = nn.Parameter(torch.Tensor(self.in_features,\n",
    "                                              self.out_features))\n",
    "        if bias:\n",
    "            self.bias = nn.Parameter(torch.Tensor(1, self.out_features))\n",
    "        else:\n",
    "            self.register_parameter('bias', None)\n",
    "\n",
    "        self.reset_parameters()\n",
    "\n",
    "    def reset_parameters(self):\n",
    "        init.xavier_uniform_(self.beta)\n",
    "        if self.bias is not None:\n",
    "            fan_in, _ = init._calculate_fan_in_and_fan_out(self.beta)\n",
    "            bound = 1 / math.sqrt(fan_in)\n",
    "            init.uniform_(self.bias, -bound, bound)\n",
    "\n",
    "    def forward(self, X, mask=None):\n",
    "        r\"\"\"\n",
    "        Maps the input set X = {x_1, ..., x_M} to a vector y of dimension out_features,\n",
    "        through a permutation invariant linear transformation of the form:\n",
    "            $y = \\beta reduction(X) + bias$\n",
    "        Inputs:\n",
    "        X: N sets of size at most M where each element has dimension in_features\n",
    "           (tensor with shape (N, M, in_features))\n",
    "        mask: binary mask to indicate which elements in X are valid (byte tensor\n",
    "            with shape (N, M) or None); if None, all sets have the maximum size M.\n",
    "            Default: ``None``.\n",
    "        Outputs:\n",
    "        Y: N vectors of dimension out_features (tensor with shape (N, out_features))\n",
    "        \"\"\"\n",
    "        #print(\"INVLAYER:\", X.shape)\n",
    "        N, M, _ = X.shape\n",
    "        device = X.device\n",
    "        y = torch.zeros(N, self.out_features).to(device)\n",
    "        if mask is None:\n",
    "            mask = torch.ones(N, M).byte().to(device)\n",
    "\n",
    "        if self.reduction == 'mean':\n",
    "            sizes = mask.float().sum(dim=1).unsqueeze(1)\n",
    "            Z = X * mask.unsqueeze(2).float()\n",
    "            y = (Z.sum(dim=1) @ self.beta)/sizes\n",
    "\n",
    "        elif self.reduction == 'sum':\n",
    "            Z = X * mask.unsqueeze(2).float()\n",
    "            y = Z.sum(dim=1) @ self.beta\n",
    "\n",
    "        elif self.reduction == 'max':\n",
    "            Z = X.clone()\n",
    "            Z[~mask] = float('-Inf')\n",
    "            y = Z.max(dim=1)[0] @ self.beta\n",
    "\n",
    "        else:  # min\n",
    "            Z = X.clone()\n",
    "            Z[~mask] = float('Inf')\n",
    "            y = Z.min(dim=1)[0] @ self.beta\n",
    "\n",
    "        if self.bias is not None:\n",
    "            y += self.bias\n",
    "\n",
    "        return y\n",
    "\n",
    "    def extra_repr(self):\n",
    "        return 'in_features={}, out_features={}, bias={}, reduction={}'.format(\n",
    "            self.in_features, self.out_features,\n",
    "            self.bias is not None, self.reduction)\n",
    "\n",
    "\n",
    "class EquivLinear(InvLinear):\n",
    "    r\"\"\"Permutation equivariant linear layer.\n",
    "    Args:\n",
    "        in_features: size of each input sample\n",
    "        out_features: size of each output sample\n",
    "        bias: If set to False, the layer will not learn an additive bias.\n",
    "            Default: ``True``\n",
    "        reduction: Permutation invariant operation that maps the input set into a single\n",
    "            vector. Currently, the following are supported: mean, sum, max and min.\n",
    "    \"\"\"\n",
    "    def __init__(self, in_features, out_features, bias=True, reduction='mean'):\n",
    "        super(EquivLinear, self).__init__(in_features, out_features,\n",
    "                                          bias=bias, reduction=reduction)\n",
    "\n",
    "        self.alpha = nn.Parameter(torch.Tensor(self.in_features,\n",
    "                                               self.out_features))\n",
    "\n",
    "        self.reset_parameters()\n",
    "\n",
    "    def reset_parameters(self):\n",
    "        super(EquivLinear, self).reset_parameters()\n",
    "        if hasattr(self, 'alpha'):\n",
    "            init.xavier_uniform_(self.alpha)\n",
    "\n",
    "    def forward(self, X, mask=None):\n",
    "        r\"\"\"\n",
    "        Maps the input set X = {x_1, ..., x_M} to the output set\n",
    "        Y = {y_1, ..., y_M} through a permutation equivariant linear transformation\n",
    "        of the form:\n",
    "            $y_i = \\alpha x_i + \\beta reduction(X) + bias$\n",
    "        Inputs:\n",
    "        X: N sets of size at most M where each element has dimension in_features\n",
    "           (tensor with shape (N, M, in_features))\n",
    "        mask: binary mask to indicate which elements in X are valid (byte tensor\n",
    "            with shape (N, M) or None); if None, all sets have the maximum size M.\n",
    "            Default: ``None``.\n",
    "        Outputs:\n",
    "        Y: N sets of same cardinality as in X where each element has dimension\n",
    "           out_features (tensor with shape (N, M, out_features))\n",
    "        \"\"\"\n",
    "        N, M, _ = X.shape\n",
    "        device = X.device\n",
    "        Y = torch.zeros(N, M, self.out_features).to(device)\n",
    "        if mask is None:\n",
    "            mask = torch.ones(N, M).byte().to(device)\n",
    "\n",
    "        Y = torch.zeros(N, M, self.out_features).to(device)\n",
    "        h_inv = super(EquivLinear, self).forward(X, mask=mask)\n",
    "        Y[mask] = (X @ self.alpha + h_inv.unsqueeze(1))[mask]\n",
    "\n",
    "        return Y\n"
   ],
   "metadata": {
    "collapsed": false,
    "pycharm": {
     "name": "#%%\n"
    }
   }
  },
  {
   "cell_type": "code",
   "execution_count": 6,
   "outputs": [],
   "source": [
    "class SetNet(nn.Module):\n",
    "    def __init__(self, n_features = 5, n_output = 3, reduction = 'sum'):\n",
    "        super(SetNet,self).__init__()\n",
    "\n",
    "        # Takes an Input Tensor and applies transformations to last layer --> features\n",
    "        # Output of Feature Layer: Tensor with Max.CCDs elements, which can now be passed to Set Layer\n",
    "        self.feature_extractor = nn.Sequential(\n",
    "            nn.Linear(n_features,4),\n",
    "            nn.ReLU(inplace=True),\n",
    "            nn.Linear(4,3),\n",
    "            nn.ReLU(inplace=True),\n",
    "            nn.Linear(3,n_output),\n",
    "            nn.ReLU(inplace=True)\n",
    "        )\n",
    "\n",
    "        self.adder = InvLinear(3,1, reduction=reduction, bias=True)\n",
    "\n",
    "\n",
    "        # Invariant Layer Influenced by Code from DPernes, but adapted for the current regression task instead of CNN\n",
    "\n",
    "    def forward(self, X, mask = None):\n",
    "        y = self.feature_extractor(X)\n",
    "\n",
    "        y = self.adder(y, mask=mask)\n",
    "        return y\n"
   ],
   "metadata": {
    "collapsed": false,
    "pycharm": {
     "name": "#%%\n"
    }
   }
  },
  {
   "cell_type": "code",
   "execution_count": 20,
   "outputs": [
    {
     "name": "stdout",
     "output_type": "stream",
     "text": [
      "30\n",
      "tensor(47.)\n",
      "torch.Size([])\n"
     ]
    }
   ],
   "source": [
    "traindata = SetSequence(var_set_len=True)\n",
    "traindata.set_targets('lrg')\n",
    "x,y,l = traindata.__getitem__(3)\n",
    "print(l)\n",
    "print(y)\n",
    "print(y.shape)"
   ],
   "metadata": {
    "collapsed": false,
    "pycharm": {
     "name": "#%%\n"
    }
   }
  },
  {
   "cell_type": "code",
   "execution_count": 78,
   "outputs": [
    {
     "name": "stdout",
     "output_type": "stream",
     "text": [
      "INVLAYER: torch.Size([1, 30, 3])\n",
      "tensor([[-8.7350]], grad_fn=<AddBackward0>)\n"
     ]
    }
   ],
   "source": [
    "net = SetNet()\n",
    "y = net.forward(x)\n",
    "print(y)\n"
   ],
   "metadata": {
    "collapsed": false,
    "pycharm": {
     "name": "#%%\n"
    }
   }
  },
  {
   "cell_type": "code",
   "execution_count": 80,
   "outputs": [
    {
     "name": "stdout",
     "output_type": "stream",
     "text": [
      "tensor([[ True,  True,  True,  True,  True,  True,  True,  True,  True,  True,\n",
      "          True,  True,  True, False, False, False, False, False, False, False,\n",
      "         False, False, False, False, False, False, False, False, False, False]])\n"
     ]
    }
   ],
   "source": [
    "#Work out masking logic\n",
    "device = 'cpu'\n",
    "\n",
    "x = x.to(device)\n",
    "y = y.to(device)\n",
    "l = l.to(device)\n",
    "def get_mask(sizes, max_size):\n",
    "\n",
    "    return (torch.arange(max_size).reshape(1, -1).to(sizes.device) < sizes.reshape(-1, 1))\n",
    "\n",
    "mask = get_mask(l, x.shape[1])\n",
    "print(mask)"
   ],
   "metadata": {
    "collapsed": false,
    "pycharm": {
     "name": "#%%\n"
    }
   }
  },
  {
   "cell_type": "code",
   "execution_count": null,
   "outputs": [],
   "source": [],
   "metadata": {
    "collapsed": false,
    "pycharm": {
     "name": "#%%\n",
     "is_executing": true
    }
   }
  },
  {
   "cell_type": "markdown",
   "source": [
    "###  Hyperparameters and Training Loops"
   ],
   "metadata": {
    "collapsed": false,
    "pycharm": {
     "name": "#%% md\n",
     "is_executing": true
    }
   }
  },
  {
   "cell_type": "code",
   "execution_count": 7,
   "outputs": [],
   "source": [
    "# Defining Loss\n",
    "criterion = nn.MSELoss()\n",
    "\n",
    "#Defining Hyperparemeters\n",
    "no_epochs = 100 #very low, but computational power not sufficient for more iterations\n",
    "batch = 4\n",
    "learning_rate = 0.001\n",
    "\n",
    "#Using the Adam Method for Stochastic Optimisation\n",
    "#optimiser = optim.Adam(model.parameters(), lr=learning_rate)\n",
    "\n",
    "galaxy_types = ['lrg', 'elg', 'qso']\n",
    "device = 'cpu'\n",
    "def get_mask(sizes, max_size):\n",
    "    return (torch.arange(max_size).reshape(1, -1).to(sizes.device) < sizes.reshape(-1, 1))\n"
   ],
   "metadata": {
    "collapsed": false,
    "pycharm": {
     "name": "#%%\n"
    }
   }
  },
  {
   "cell_type": "code",
   "execution_count": 34,
   "outputs": [
    {
     "name": "stdout",
     "output_type": "stream",
     "text": [
      "GALAXY TYPE:  lrg\n",
      "\n",
      "Loss for Epoch 0 :  98861.45623016357\n",
      "Loss for Epoch 10 :  52696.973711013794\n",
      "Loss for Epoch 20 :  50914.9296233654\n",
      "Loss for Epoch 30 :  49587.04089486599\n",
      "Loss for Epoch 40 :  48442.36259889603\n",
      "Loss for Epoch 50 :  47446.274691581726\n",
      "Loss for Epoch 60 :  46596.20416927338\n",
      "Loss for Epoch 70 :  45834.78798055649\n",
      "Loss for Epoch 80 :  45298.984749794006\n",
      "Loss for Epoch 90 :  44603.317781448364\n",
      "\n",
      "0.31246 minutes (18.7 seconds) taken to train the model\n",
      "GALAXY TYPE:  elg\n",
      "\n",
      "Loss for Epoch 0 :  2523104.477661133\n",
      "Loss for Epoch 10 :  1067209.6954803467\n",
      "Loss for Epoch 20 :  1008137.7860870361\n",
      "Loss for Epoch 30 :  951869.201921463\n",
      "Loss for Epoch 40 :  898654.8865890503\n",
      "Loss for Epoch 50 :  848450.6083221436\n",
      "Loss for Epoch 60 :  801020.8725280762\n",
      "Loss for Epoch 70 :  756657.4473953247\n",
      "Loss for Epoch 80 :  715235.8232269287\n",
      "Loss for Epoch 90 :  676599.9020805359\n",
      "\n",
      "0.30592 minutes (18.4 seconds) taken to train the model\n",
      "GALAXY TYPE:  qso\n",
      "\n",
      "Loss for Epoch 0 :  1087824.825958252\n",
      "Loss for Epoch 10 :  829660.491481781\n",
      "Loss for Epoch 20 :  818801.7451782227\n",
      "Loss for Epoch 30 :  807199.7789916992\n",
      "Loss for Epoch 40 :  802381.7079620361\n",
      "Loss for Epoch 50 :  799002.3290710449\n",
      "Loss for Epoch 60 :  786443.8721466064\n",
      "Loss for Epoch 70 :  782806.6875610352\n",
      "Loss for Epoch 80 :  770050.951095581\n",
      "Loss for Epoch 90 :  769830.3423500061\n",
      "\n",
      "0.33448 minutes (20.1 seconds) taken to train the model\n"
     ]
    }
   ],
   "source": [
    "traindata = SetSequence( num_pixels=1000, var_set_len=True)\n",
    "for gal in galaxy_types:\n",
    "    model = SetNet(n_features=traindata.num_features, reduction='sum').to(device)\n",
    "    optimiser = optim.Adam(model.parameters(), lr=learning_rate)\n",
    "    print(\"GALAXY TYPE: \", gal)\n",
    "    print()\n",
    "    traindata.set_targets(gal_type=gal)\n",
    "\n",
    "    time_start = time.time()\n",
    "\n",
    "    for epoch in range(no_epochs):\n",
    "        loss_per_epoch = 0\n",
    "        #loading the training data from trainset and shuffling for each epoch\n",
    "        trainloader = torch.utils.data.DataLoader(traindata, batch_size=batch, shuffle = True)\n",
    "\n",
    "        for i, (X, labels, set_sizes) in enumerate(trainloader):\n",
    "            #Put Model into train mode\n",
    "            model.train()\n",
    "\n",
    "            #Extract inputs and associated labels from dataloader batch\n",
    "            X = X.to(device)\n",
    "\n",
    "            labels = labels.to(device)\n",
    "            set_sizes = set_sizes.to(device)\n",
    "\n",
    "            mask = get_mask(set_sizes, X.shape[1])\n",
    "\n",
    "            #Predict outputs (forward pass)\n",
    "            predictions =  model(X, mask=mask)\n",
    "            #Compute Loss\n",
    "            loss = criterion(predictions, labels)\n",
    "\n",
    "            #Zero-out the gradients before backward pass (pytorch stores the gradients)\n",
    "            optimiser.zero_grad()\n",
    "\n",
    "            #Backpropagation\n",
    "            loss.backward()\n",
    "\n",
    "            #Perform one step of gradient descent\n",
    "            optimiser.step()\n",
    "\n",
    "            #Append loss to the general loss for this one epoch\n",
    "            loss_per_epoch += loss.item()\n",
    "        if epoch % 10 == 0:\n",
    "            print(\"Loss for Epoch\", epoch, \": \", loss_per_epoch)\n",
    "    time_end = time.time()\n",
    "    time_passed = time_end - time_start\n",
    "    print()\n",
    "    print(f\"{time_passed/60:.5} minutes ({time_passed:.3} seconds) taken to train the model\")"
   ],
   "metadata": {
    "collapsed": false,
    "pycharm": {
     "name": "#%%\n"
    }
   }
  },
  {
   "cell_type": "code",
   "execution_count": null,
   "outputs": [],
   "source": [],
   "metadata": {
    "collapsed": false,
    "pycharm": {
     "name": "#%%"
    }
   }
  }
 ],
 "metadata": {
  "kernelspec": {
   "display_name": "Python 3",
   "language": "python",
   "name": "python3"
  },
  "language_info": {
   "codemirror_mode": {
    "name": "ipython",
    "version": 2
   },
   "file_extension": ".py",
   "mimetype": "text/x-python",
   "name": "python",
   "nbconvert_exporter": "python",
   "pygments_lexer": "ipython2",
   "version": "2.7.6"
  }
 },
 "nbformat": 4,
 "nbformat_minor": 0
}