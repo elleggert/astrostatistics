{
 "cells": [
  {
   "cell_type": "markdown",
   "metadata": {
    "collapsed": true,
    "pycharm": {
     "name": "#%% md\n"
    }
   },
   "source": [
    "## First Attempt at building a deepsets architecture"
   ],
   "outputs": [],
   "execution_count": 1
  },
  {
   "cell_type": "code",
   "execution_count": 2,
   "outputs": [],
   "source": [
    "import random\n",
    "\n",
    "import pandas as pd\n",
    "import numpy as np\n",
    "import pickle\n",
    "import matplotlib.pyplot as plt\n",
    "from astropy.io import fits\n",
    "import healpy as hp\n",
    "\n"
   ],
   "metadata": {
    "collapsed": false,
    "pycharm": {
     "name": "#%%\n"
    }
   }
  },
  {
   "cell_type": "markdown",
   "source": [
    "#### Experimenting with input sizes"
   ],
   "metadata": {
    "collapsed": false,
    "pycharm": {
     "name": "#%% md\n"
    }
   }
  },
  {
   "cell_type": "code",
   "execution_count": 4,
   "outputs": [],
   "source": [
    "# For DECAM, BASS, MzLS\n",
    "with open('../bricks_data/pixel2ccd_2048_non_inclusive.pickle', 'rb') as f:\n",
    "    subpixel2ccd_dict = pickle.load(f)\n",
    "    f.close()"
   ],
   "metadata": {
    "collapsed": false,
    "pycharm": {
     "name": "#%%\n"
    }
   }
  },
  {
   "cell_type": "code",
   "execution_count": 16,
   "outputs": [
    {
     "name": "stdout",
     "output_type": "stream",
     "text": [
      "28536897\n"
     ]
    }
   ],
   "source": [
    "print(len(subpixel2ccd_dict))"
   ],
   "metadata": {
    "collapsed": false,
    "pycharm": {
     "name": "#%%\n"
    }
   }
  },
  {
   "cell_type": "code",
   "execution_count": 17,
   "outputs": [
    {
     "name": "stdout",
     "output_type": "stream",
     "text": [
      "Mean CCD's per subpixel: 14.685108966122\n",
      "Max CCD's per subpixel: 2978\n",
      "Min CCD's per subpixel: 1\n"
     ]
    }
   ],
   "source": [
    "min = 1000\n",
    "max = 0\n",
    "aggregate = 0\n",
    "index_max = 0\n",
    "lens = np.zeros(len(subpixel2ccd_dict))\n",
    "\n",
    "for i,pix in enumerate(subpixel2ccd_dict.keys()):\n",
    "    no_ccds = len(subpixel2ccd_dict[pix])\n",
    "    lens[i] = no_ccds\n",
    "    aggregate += no_ccds\n",
    "    if no_ccds > max:\n",
    "        max = no_ccds\n",
    "        index_max = pix\n",
    "    if no_ccds < min:\n",
    "        min = no_ccds\n",
    "\n",
    "print(\"Mean CCD's per subpixel:\", lens.mean())\n",
    "print(\"Max CCD's per subpixel:\", max)\n",
    "print(\"Min CCD's per subpixel:\", min)\n",
    "\n"
   ],
   "metadata": {
    "collapsed": false,
    "pycharm": {
     "name": "#%%\n"
    }
   }
  },
  {
   "cell_type": "code",
   "execution_count": 13,
   "outputs": [
    {
     "data": {
      "text/plain": "(array([26122277.,  2267658.,   107349.]),\n array([  0,  30,  50, 100]),\n <BarContainer object of 3 artists>)"
     },
     "execution_count": 13,
     "metadata": {},
     "output_type": "execute_result"
    },
    {
     "data": {
      "text/plain": "<Figure size 432x288 with 1 Axes>",
      "image/png": "[encoded data removed]"
     },
     "metadata": {
      "needs_background": "light"
     },
     "output_type": "display_data"
    }
   ],
   "source": [
    "plt.hist(lens, bins=[0,30,50,100])\n"
   ],
   "metadata": {
    "collapsed": false,
    "pycharm": {
     "name": "#%%\n"
    }
   }
  },
  {
   "cell_type": "code",
   "execution_count": 18,
   "outputs": [
    {
     "name": "stdout",
     "output_type": "stream",
     "text": [
      "ColDefs(\n",
      "    name = 'image_filename'; format = '120A'\n",
      "    name = 'image_hdu'; format = 'I'\n",
      "    name = 'camera'; format = '5A'\n",
      "    name = 'expnum'; format = 'K'\n",
      "    name = 'plver'; format = '8A'\n",
      "    name = 'procdate'; format = '19A'\n",
      "    name = 'plprocid'; format = '7A'\n",
      "    name = 'ccdname'; format = '3A'\n",
      "    name = 'object'; format = '35A'\n",
      "    name = 'propid'; format = '10A'\n",
      "    name = 'filter'; format = '1A'\n",
      "    name = 'exptime'; format = 'E'\n",
      "    name = 'mjd_obs'; format = 'D'\n",
      "    name = 'airmass'; format = 'E'\n",
      "    name = 'fwhm'; format = 'E'\n",
      "    name = 'width'; format = 'I'\n",
      "    name = 'height'; format = 'I'\n",
      "    name = 'ra_bore'; format = 'D'\n",
      "    name = 'dec_bore'; format = 'D'\n",
      "    name = 'crpix1'; format = 'E'\n",
      "    name = 'crpix2'; format = 'E'\n",
      "    name = 'crval1'; format = 'D'\n",
      "    name = 'crval2'; format = 'D'\n",
      "    name = 'cd1_1'; format = 'E'\n",
      "    name = 'cd1_2'; format = 'E'\n",
      "    name = 'cd2_1'; format = 'E'\n",
      "    name = 'cd2_2'; format = 'E'\n",
      "    name = 'yshift'; format = 'L'\n",
      "    name = 'ra'; format = 'D'\n",
      "    name = 'dec'; format = 'D'\n",
      "    name = 'skyrms'; format = 'E'\n",
      "    name = 'sig1'; format = 'E'\n",
      "    name = 'ccdzpt'; format = 'E'\n",
      "    name = 'zpt'; format = 'E'\n",
      "    name = 'ccdraoff'; format = 'E'\n",
      "    name = 'ccddecoff'; format = 'E'\n",
      "    name = 'ccdskycounts'; format = 'E'\n",
      "    name = 'ccdskysb'; format = 'E'\n",
      "    name = 'ccdrarms'; format = 'E'\n",
      "    name = 'ccddecrms'; format = 'E'\n",
      "    name = 'ccdphrms'; format = 'E'\n",
      "    name = 'ccdnastrom'; format = 'I'\n",
      "    name = 'ccdnphotom'; format = 'I'\n",
      "    name = 'ccd_cuts'; format = 'K'\n",
      "    name = 'annotated'; format = 'L'\n",
      "    name = 'good_region'; format = '4I'\n",
      "    name = 'ra0'; format = 'D'\n",
      "    name = 'dec0'; format = 'D'\n",
      "    name = 'ra1'; format = 'D'\n",
      "    name = 'dec1'; format = 'D'\n",
      "    name = 'ra2'; format = 'D'\n",
      "    name = 'dec2'; format = 'D'\n",
      "    name = 'ra3'; format = 'D'\n",
      "    name = 'dec3'; format = 'D'\n",
      "    name = 'dra'; format = 'E'\n",
      "    name = 'ddec'; format = 'E'\n",
      "    name = 'ra_center'; format = 'D'\n",
      "    name = 'dec_center'; format = 'D'\n",
      "    name = 'meansky'; format = 'E'\n",
      "    name = 'stdsky'; format = 'E'\n",
      "    name = 'maxsky'; format = 'E'\n",
      "    name = 'minsky'; format = 'E'\n",
      "    name = 'pixscale_mean'; format = 'E'\n",
      "    name = 'pixscale_std'; format = 'E'\n",
      "    name = 'pixscale_max'; format = 'E'\n",
      "    name = 'pixscale_min'; format = 'E'\n",
      "    name = 'psfnorm_mean'; format = 'E'\n",
      "    name = 'psfnorm_std'; format = 'E'\n",
      "    name = 'galnorm_mean'; format = 'E'\n",
      "    name = 'galnorm_std'; format = 'E'\n",
      "    name = 'psf_mx2'; format = 'E'\n",
      "    name = 'psf_my2'; format = 'E'\n",
      "    name = 'psf_mxy'; format = 'E'\n",
      "    name = 'psf_a'; format = 'E'\n",
      "    name = 'psf_b'; format = 'E'\n",
      "    name = 'psf_theta'; format = 'E'\n",
      "    name = 'psf_ell'; format = 'E'\n",
      "    name = 'humidity'; format = 'E'\n",
      "    name = 'outtemp'; format = 'E'\n",
      "    name = 'tileid'; format = 'J'\n",
      "    name = 'tilepass'; format = 'B'\n",
      "    name = 'tileebv'; format = 'E'\n",
      "    name = 'ebv'; format = 'E'\n",
      "    name = 'decam_extinction'; format = '6E'\n",
      "    name = 'wise_extinction'; format = '4E'\n",
      "    name = 'psfdepth'; format = 'E'\n",
      "    name = 'galdepth'; format = 'E'\n",
      "    name = 'gausspsfdepth'; format = 'E'\n",
      "    name = 'gaussgaldepth'; format = 'E'\n",
      "    name = 'phrms'; format = 'E'\n",
      ")\n"
     ]
    }
   ],
   "source": [
    "decamCCD = fits.open('../bricks_data/ccds-annotated-decam-dr9.fits')\n",
    "mosaicCCD = fits.open('../bricks_data/ccds-annotated-mosaic-dr9.fits')\n",
    "bassCCD = fits.open('../bricks_data/ccds-annotated-90prime-dr9.fits')\n",
    "print(decamCCD[1].columns)\n"
   ],
   "metadata": {
    "collapsed": false,
    "pycharm": {
     "name": "#%%\n"
    }
   }
  },
  {
   "cell_type": "code",
   "execution_count": 19,
   "outputs": [],
   "source": [
    "dataDecam = decamCCD[1].data\n",
    "dataMosaic = mosaicCCD[1].data\n",
    "dataBass = bassCCD[1].data"
   ],
   "metadata": {
    "collapsed": false,
    "pycharm": {
     "name": "#%%\n"
    }
   }
  },
  {
   "cell_type": "code",
   "execution_count": 20,
   "outputs": [
    {
     "name": "stdout",
     "output_type": "stream",
     "text": [
      "6776431\n"
     ]
    }
   ],
   "source": [
    "#ra0 = np.concatenate((dataDecam.field('ra0'), dataMosaic.field('ra0'), dataBass.field('ra0')), axis=0)\n",
    "#print(len(ra0))\n",
    "ra0_decam  = dataDecam.field('ra0')\n",
    "ra0_mosaic = dataMosaic.field('ra0')\n",
    "ra0_bass =dataBass.field('ra0')\n",
    "print(len(ra0_decam) +  len(ra0_mosaic) + len(ra0_bass))"
   ],
   "metadata": {
    "collapsed": false,
    "pycharm": {
     "name": "#%%\n"
    }
   }
  },
  {
   "cell_type": "code",
   "execution_count": 21,
   "outputs": [],
   "source": [
    "ra0 = np.concatenate((dataDecam.field('ra0'), dataMosaic.field('ra0'), dataBass.field('ra0')), axis=0)\n",
    "dec0 = np.concatenate((dataDecam.field('dec0'), dataMosaic.field('dec0'), dataBass.field('dec0')), axis=0)\n",
    "\n",
    "ra1 = np.concatenate((dataDecam.field('ra1'), dataMosaic.field('ra1'), dataBass.field('ra1')), axis=0)\n",
    "dec1 = np.concatenate((dataDecam.field('dec1'), dataMosaic.field('dec1'), dataBass.field('dec1')), axis=0)\n",
    "\n",
    "ra2 = np.concatenate((dataDecam.field('ra2'), dataMosaic.field('ra2'), dataBass.field('ra2')), axis=0)\n",
    "dec2 = np.concatenate((dataDecam.field('dec2'), dataMosaic.field('dec2'), dataBass.field('dec2')), axis=0)\n",
    "\n",
    "ra3 = np.concatenate((dataDecam.field('ra3'), dataMosaic.field('ra3'), dataBass.field('ra3')), axis=0)\n",
    "dec3 = np.concatenate((dataDecam.field('dec3'), dataMosaic.field('dec3'), dataBass.field('dec3')), axis=0)\n",
    "\n"
   ],
   "metadata": {
    "collapsed": false,
    "pycharm": {
     "name": "#%%\n"
    }
   }
  },
  {
   "cell_type": "markdown",
   "source": [
    "### Plotting the Pixel - CCD Relationship for the most populated pixel"
   ],
   "metadata": {
    "collapsed": false,
    "pycharm": {
     "name": "#%% md\n"
    }
   }
  },
  {
   "cell_type": "code",
   "execution_count": null,
   "outputs": [],
   "source": [
    "#Validating everything went as intended visually\n",
    "\n",
    "NSIDE_SUB = 2048\n",
    "pixel_number = index_max\n",
    "# print(pixel2ccd_dict.keys())\n",
    "print(len(subpixel2ccd_dict.keys()))\n",
    "\n",
    "\n",
    "ccd = subpixel2ccd_dict[pixel_number]\n",
    "print(\"Number of CCDs that are cutting pixel number \", pixel_number, \":\", len(ccd))\n",
    "for cc in ccd:\n",
    "#coord = [[x0,y0], [x1,y1], [x2,y2], [x3,y3], [x0,y0]]\n",
    "    xs = [ra0[cc],ra1[cc], ra2[cc], ra3[cc],ra0[cc] ]\n",
    "    ys = [dec0[cc],dec1[cc], dec2[cc], dec3[cc],dec0[cc]]\n",
    "    plt.plot(xs,ys)\n",
    "#if i > 3:\n",
    "    #break\n",
    "\n",
    "pixel_boundary = hp.boundaries(nside=NSIDE_SUB, pix=pixel_number, step=1)\n",
    "pixel_boundary_raDec = hp.vec2ang(pixel_boundary.transpose(),lonlat=True)\n",
    "pixel_boundary_raDec = list(pixel_boundary_raDec)\n",
    "pixel_boundary_raDec[0] = np.append(pixel_boundary_raDec[0],pixel_boundary_raDec[0][0])\n",
    "pixel_boundary_raDec[1] = np.append(pixel_boundary_raDec[1],pixel_boundary_raDec[1][0])\n",
    "\n",
    "\n",
    "plt.plot(pixel_boundary_raDec[0],pixel_boundary_raDec[1], c='black', label=\"Pixel Boundary\")\n",
    "\n",
    "plt.show()\n"
   ],
   "metadata": {
    "collapsed": false,
    "pycharm": {
     "name": "#%%\n"
    }
   }
  },
  {
   "cell_type": "markdown",
   "source": [
    "## Building a deepsets architecture"
   ],
   "metadata": {
    "collapsed": false,
    "pycharm": {
     "name": "#%% md\n"
    }
   }
  },
  {
   "cell_type": "code",
   "execution_count": 45,
   "outputs": [
    {
     "name": "stdout",
     "output_type": "stream",
     "text": [
      "1.9.0\n"
     ]
    }
   ],
   "source": [
    "# Import NN Packages\n",
    "import torch\n",
    "import os\n",
    "import torch\n",
    "import torch.nn as nn\n",
    "import torch.nn.functional as F\n",
    "from sklearn.model_selection import train_test_split\n",
    "from sklearn.utils import shuffle\n",
    "from sklearn import preprocessing, metrics\n",
    "from torch.utils.data import DataLoader, Dataset\n",
    "import torch.optim as optim\n",
    "import time\n",
    "import seaborn as sns\n",
    "import matplotlib.pyplot as plt\n",
    "import random\n",
    "\n",
    "\n",
    "print(torch.__version__)\n"
   ],
   "metadata": {
    "collapsed": false,
    "pycharm": {
     "name": "#%%\n"
    }
   }
  },
  {
   "cell_type": "markdown",
   "source": [
    "## Writing Dataset Utility to pass data in the right format\n",
    "\n",
    "#### Steps:\n",
    "\n",
    "1. Build a NN sampling an equal number of CCDs per 256 pixel and pass through deep sets for regression\n",
    "\n",
    "2. Adapt NN for variable sized inputs\n",
    "\n",
    "3. Adapt NN to use 64 layers of size 2048 to then predict density at 256"
   ],
   "metadata": {
    "collapsed": false,
    "pycharm": {
     "name": "#%% md\n"
    }
   }
  },
  {
   "cell_type": "code",
   "execution_count": 58,
   "outputs": [],
   "source": [
    "# Preparing Data to use\n",
    "df_raw = pd.read_csv('../../bricks_data/dataset_geometric.csv')\n"
   ],
   "metadata": {
    "collapsed": false,
    "pycharm": {
     "name": "#%%\n"
    }
   }
  },
  {
   "cell_type": "code",
   "execution_count": 59,
   "outputs": [
    {
     "data": {
      "text/plain": "   pixel_id  lrg  elg  qso  stellar       EBV   airmass      fwhm  ccdskysb_g  \\\n0      1673    1    8   22        4  0.150272  1.755791  4.054279   23.362753   \n1      1675   21   45   84       13  0.231753  1.752745  4.333361   23.412788   \n2      1676    1   10   14        4  0.233339  1.752675  4.432289   23.463202   \n3      1677   16   44   82        8  0.198980  1.743200  4.533583   23.463299   \n4      1678   22   45   94       14  0.178034  1.725647  4.229492   23.385620   \n\n   ccdskysb_r  ccdskysb_z  exptime_g   exptime_r   exptime_z  meansky_g  \\\n0   21.275543   18.728977      250.0  250.000000  178.104004   0.350981   \n1   21.349841   18.934986      215.0  240.000000  160.604004   0.324769   \n2   21.424571   19.099052      180.0  230.000000  171.106506   0.288073   \n3   21.424380   19.140076      180.0  230.000000  176.439677   0.291843   \n4   21.436897   19.110413      215.0  237.916667  213.606003   0.305991   \n\n   meansky_r  meansky_z  galdepth_g  galdepth_r  galdepth_z  \n0   7.418882   3.168162   23.455763   21.988368   22.284269  \n1   5.615912   2.599613   23.448900   22.083221   22.318394  \n2   3.914232   2.233619   23.412380   22.185323   22.341307  \n3   3.932022   2.134053   23.508274   22.167623   22.373904  \n4   4.657650   2.125587   23.555042   22.131536   22.489397  ",
      "text/html": "<div>\n<style scoped>\n    .dataframe tbody tr th:only-of-type {\n        vertical-align: middle;\n    }\n\n    .dataframe tbody tr th {\n        vertical-align: top;\n    }\n\n    .dataframe thead th {\n        text-align: right;\n    }\n</style>\n<table border=\"1\" class=\"dataframe\">\n  <thead>\n    <tr style=\"text-align: right;\">\n      <th></th>\n      <th>pixel_id</th>\n      <th>lrg</th>\n      <th>elg</th>\n      <th>qso</th>\n      <th>stellar</th>\n      <th>EBV</th>\n      <th>airmass</th>\n      <th>fwhm</th>\n      <th>ccdskysb_g</th>\n      <th>ccdskysb_r</th>\n      <th>ccdskysb_z</th>\n      <th>exptime_g</th>\n      <th>exptime_r</th>\n      <th>exptime_z</th>\n      <th>meansky_g</th>\n      <th>meansky_r</th>\n      <th>meansky_z</th>\n      <th>galdepth_g</th>\n      <th>galdepth_r</th>\n      <th>galdepth_z</th>\n    </tr>\n  </thead>\n  <tbody>\n    <tr>\n      <th>0</th>\n      <td>1673</td>\n      <td>1</td>\n      <td>8</td>\n      <td>22</td>\n      <td>4</td>\n      <td>0.150272</td>\n      <td>1.755791</td>\n      <td>4.054279</td>\n      <td>23.362753</td>\n      <td>21.275543</td>\n      <td>18.728977</td>\n      <td>250.0</td>\n      <td>250.000000</td>\n      <td>178.104004</td>\n      <td>0.350981</td>\n      <td>7.418882</td>\n      <td>3.168162</td>\n      <td>23.455763</td>\n      <td>21.988368</td>\n      <td>22.284269</td>\n    </tr>\n    <tr>\n      <th>1</th>\n      <td>1675</td>\n      <td>21</td>\n      <td>45</td>\n      <td>84</td>\n      <td>13</td>\n      <td>0.231753</td>\n      <td>1.752745</td>\n      <td>4.333361</td>\n      <td>23.412788</td>\n      <td>21.349841</td>\n      <td>18.934986</td>\n      <td>215.0</td>\n      <td>240.000000</td>\n      <td>160.604004</td>\n      <td>0.324769</td>\n      <td>5.615912</td>\n      <td>2.599613</td>\n      <td>23.448900</td>\n      <td>22.083221</td>\n      <td>22.318394</td>\n    </tr>\n    <tr>\n      <th>2</th>\n      <td>1676</td>\n      <td>1</td>\n      <td>10</td>\n      <td>14</td>\n      <td>4</td>\n      <td>0.233339</td>\n      <td>1.752675</td>\n      <td>4.432289</td>\n      <td>23.463202</td>\n      <td>21.424571</td>\n      <td>19.099052</td>\n      <td>180.0</td>\n      <td>230.000000</td>\n      <td>171.106506</td>\n      <td>0.288073</td>\n      <td>3.914232</td>\n      <td>2.233619</td>\n      <td>23.412380</td>\n      <td>22.185323</td>\n      <td>22.341307</td>\n    </tr>\n    <tr>\n      <th>3</th>\n      <td>1677</td>\n      <td>16</td>\n      <td>44</td>\n      <td>82</td>\n      <td>8</td>\n      <td>0.198980</td>\n      <td>1.743200</td>\n      <td>4.533583</td>\n      <td>23.463299</td>\n      <td>21.424380</td>\n      <td>19.140076</td>\n      <td>180.0</td>\n      <td>230.000000</td>\n      <td>176.439677</td>\n      <td>0.291843</td>\n      <td>3.932022</td>\n      <td>2.134053</td>\n      <td>23.508274</td>\n      <td>22.167623</td>\n      <td>22.373904</td>\n    </tr>\n    <tr>\n      <th>4</th>\n      <td>1678</td>\n      <td>22</td>\n      <td>45</td>\n      <td>94</td>\n      <td>14</td>\n      <td>0.178034</td>\n      <td>1.725647</td>\n      <td>4.229492</td>\n      <td>23.385620</td>\n      <td>21.436897</td>\n      <td>19.110413</td>\n      <td>215.0</td>\n      <td>237.916667</td>\n      <td>213.606003</td>\n      <td>0.305991</td>\n      <td>4.657650</td>\n      <td>2.125587</td>\n      <td>23.555042</td>\n      <td>22.131536</td>\n      <td>22.489397</td>\n    </tr>\n  </tbody>\n</table>\n</div>"
     },
     "execution_count": 59,
     "metadata": {},
     "output_type": "execute_result"
    }
   ],
   "source": [
    "df_raw.head()\n"
   ],
   "metadata": {
    "collapsed": false,
    "pycharm": {
     "name": "#%%\n"
    }
   }
  },
  {
   "cell_type": "code",
   "execution_count": 62,
   "outputs": [
    {
     "name": "stdout",
     "output_type": "stream",
     "text": [
      "[71753, 130600, 51906, 43998, 252501]\n",
      "        pixel_id  lrg  elg  qso  stellar       EBV   airmass      fwhm  \\\n",
      "71753     201172   41  112  165       45  0.058632  1.964117  5.410365   \n",
      "130600    321369    2    7    8        3  0.019776  1.488935  4.682151   \n",
      "51906     154862    7   84   75       29  0.034859  1.074779  3.602058   \n",
      "43998     130203   23   93  102       20  0.029121  1.044090  3.318905   \n",
      "252501    706734    7   15   32       10  0.032291  1.113788  4.421265   \n",
      "\n",
      "        ccdskysb_g  ccdskysb_r  ccdskysb_z   exptime_g   exptime_r  \\\n",
      "71753    23.627783   22.751667   19.797377  136.800000   56.500000   \n",
      "130600   23.290599   22.617348   19.956287  141.333333   85.000000   \n",
      "51906    23.545366   22.665709   19.003794   94.349998  162.994604   \n",
      "43998    23.610138   22.725484   19.414363  108.185333   68.276332   \n",
      "252501   23.593163   22.628382   20.018324   90.000000   90.000000   \n",
      "\n",
      "         exptime_z     meansky_g     meansky_r     meansky_z  galdepth_g  \\\n",
      "71753   120.017497  1.021854e-01  2.229339e-01  2.898760e+00   23.922888   \n",
      "130600  128.000000  1.369069e-01  2.587757e-01  2.992189e+00   23.910629   \n",
      "51906   104.604248  2.192577e-01  7.546644e-01  2.584590e+00   23.364679   \n",
      "43998    80.103333  2.221206e-01  6.494950e-01  1.449919e+00   23.538834   \n",
      "252501   90.000000  3.847031e+08  4.161877e+08  1.139467e+10   22.943306   \n",
      "\n",
      "        galdepth_r  galdepth_z  \n",
      "71753    23.293159   22.205274  \n",
      "130600   23.433823   22.236059  \n",
      "51906    22.904092   22.207165  \n",
      "43998    22.919256   22.501038  \n",
      "252501   23.262585   21.509535  \n",
      "[41  2  7 23  7]\n",
      "[201172 321369 154862 130203 706734]\n"
     ]
    }
   ],
   "source": [
    "num_pixels = 5\n",
    "gal_type = 'lrg'\n",
    "\n",
    "\n",
    "ids = random.sample(range(len(df_raw)),num_pixels)\n",
    "print(ids)\n",
    "df = df_raw.iloc[ids]\n",
    "print(df.head())\n",
    "labels = df[gal_type].to_numpy()\n",
    "pix_ids = df.pixel_id.to_numpy()\n",
    "print(labels)\n",
    "print(pix_ids)\n",
    "\n",
    "\n"
   ],
   "metadata": {
    "collapsed": false,
    "pycharm": {
     "name": "#%%\n"
    }
   }
  },
  {
   "cell_type": "code",
   "execution_count": null,
   "outputs": [],
   "source": [],
   "metadata": {
    "collapsed": false,
    "pycharm": {
     "name": "#%%\n"
    }
   }
  },
  {
   "cell_type": "code",
   "execution_count": null,
   "outputs": [],
   "source": [
    "# noinspection PyAttributeOutsideInit\n",
    "class SetSequence(Dataset):\n",
    "    \"\"\"Processes and Returns a Dataset of Variable Sized Input Sets of Dimensions\n",
    "    N = Number Pixels of that are returned\n",
    "    M = Max Size of each Individual Set of CCDs\n",
    "\n",
    "\n",
    "    \"\"\"\n",
    "\n",
    "    def __init__(self, gal_type = 'lrg', num_pixels = 3, min_ccds = 10, max_ccds = 30, var_set_len = False):\n",
    "\n",
    "        self.gal_type = gal_type\n",
    "\n",
    "        # Dimensions\n",
    "        self.num_pixels = num_pixels\n",
    "        self.max_ccds = max_ccds\n",
    "        self.min_ccds = min_ccds\n",
    "        self.var_set_len = var_set_len\n",
    "\n",
    "        # Features:\n",
    "        df_raw = pd.read_csv('../../bricks_data/dataset_geometric.csv')\n",
    "        # Randomly Sampling Pixel Indices from Dataframe\n",
    "        pixel_indices = random.sample(range(len(df_raw)), num_pixels)\n",
    "        print(pixel_indices)\n",
    "        self.df = df_raw.iloc[ids]\n",
    "        self.labels = df[gal_type].to_numpy()\n",
    "        self.pix_ids = df.pixel_id.to_numpy()\n",
    "        print(labels)\n",
    "        print(pix_ids)\n",
    "\n",
    "\n",
    "\n",
    "        # Target\n",
    "        self.label = np.random.rand(self.num_pixels*self.max_ccds)\n",
    "\n",
    "\n",
    "        # Mask Variable Len Sets\n",
    "        self.set_max_set_len()\n",
    "\n",
    "\n",
    "    def set_max_set_len(self):\n",
    "        self.index_matrix =  -1*np.ones((self.num_pixels, self.max_ccds), dtype=int)\n",
    "        self.lengths = np.zeros(self.num_pixels, dtype=int)\n",
    "\n",
    "        # Getting random labels for now, in the future this will be the output densities\n",
    "\n",
    "        m = 0\n",
    "        for i in range(self.num_pixels):\n",
    "            if self.var_set_len:\n",
    "                # Replace this by function indicating how many ccds are in a given pixel\n",
    "                self.lengths[i] = np.random.randint(self.min_ccds, self.max_ccds+1)\n",
    "            else:\n",
    "                self.lengths[i] = self.max_ccds\n",
    "            for j in range(self.lengths[i]):\n",
    "                ''' This code with label == 0 is not yet needed, but this masking will become necessary when I have\n",
    "                    I have 64 subpixels per pixel and some of those are not covered by CCDs'''\n",
    "                while self.label[m] == 0:\n",
    "                    m += 1\n",
    "                self.index_matrix[i, j] = m\n",
    "                m += 1\n",
    "\n",
    "        print(self.lengths)\n",
    "        print(self.index_matrix)\n",
    "\n",
    "    def __len__(self):\n",
    "        return self.num_pixels\n",
    "\n",
    "    def __getitem__(self, index):\n",
    "        seq_len = self.lengths[index]\n",
    "\n",
    "        # Replace by X and Y\n",
    "        X = torch.zeros(self.max_ccds, 1, self.img_size, self.img_size)\n",
    "        Y = torch.zeros(self.max_ccds).long()\n",
    "\n",
    "        for i in range(seq_len):\n",
    "            j = self.index_matrix[index, i]\n",
    "            X[i] = torch.from_numpy(self.img[j])\n",
    "            Y[i] = torch.from_numpy(self.label[j]).long().unsqueeze(1)\n",
    "\n",
    "        return X, Y, seq_len"
   ],
   "metadata": {
    "collapsed": false,
    "pycharm": {
     "name": "#%%\n"
    }
   }
  },
  {
   "cell_type": "code",
   "execution_count": 43,
   "outputs": [
    {
     "name": "stdout",
     "output_type": "stream",
     "text": [
      "[30 30 30]\n",
      "[[ 0  1  2  3  4  5  6  7  8  9 10 11 12 13 14 15 16 17 18 19 20 21 22 23\n",
      "  24 25 26 27 28 29]\n",
      " [30 31 32 33 34 35 36 37 38 39 40 41 42 43 44 45 46 47 48 49 50 51 52 53\n",
      "  54 55 56 57 58 59]\n",
      " [60 61 62 63 64 65 66 67 68 69 70 71 72 73 74 75 76 77 78 79 80 81 82 83\n",
      "  84 85 86 87 88 89]]\n"
     ]
    }
   ],
   "source": [
    "traindata = SetSequence()\n"
   ],
   "metadata": {
    "collapsed": false,
    "pycharm": {
     "name": "#%%\n"
    }
   }
  },
  {
   "cell_type": "code",
   "execution_count": 42,
   "outputs": [],
   "source": [
    "class DensitySurvey(Dataset):\n",
    "    def __init__(self, df, galaxy_type, scaler_in=None, scaler_out=None):\n",
    "        self.data = df\n",
    "        # Extracting Targets and Input\n",
    "        self.target = self.data[galaxy_type].to_numpy(copy=True)\n",
    "        self.input = self.data.drop(columns=['lrg','elg','qso']).to_numpy(copy=True)\n",
    "\n",
    "        # Scaling, when scaler is passed (test-set) use the existing scaler\n",
    "        self.scaler_in = scaler_in\n",
    "        self.scaler_out = scaler_out\n",
    "        if self.scaler_in is None:\n",
    "            self.scaler_in = preprocessing.MinMaxScaler()\n",
    "            self.scaler_out = preprocessing.MinMaxScaler()\n",
    "            self.input = self.scaler_in.fit_transform(self.input)\n",
    "            self.target = self.scaler_out.fit_transform(self.target.reshape(-1, 1))\n",
    "        else:\n",
    "            self.input = self.scaler_in.transform(self.input)\n",
    "            self.target = self.scaler_out.transform(self.target.reshape(-1, 1))\n",
    "\n",
    "\n",
    "    def __len__(self):\n",
    "        return len(self.target)\n",
    "\n",
    "    def __getitem__(self, idx):\n",
    "        return torch.from_numpy(self.input[idx]).float(), torch.tensor(self.target[idx]).float()\n"
   ],
   "metadata": {
    "collapsed": false,
    "pycharm": {
     "name": "#%%\n"
    }
   }
  },
  {
   "cell_type": "code",
   "execution_count": null,
   "outputs": [],
   "source": [
    "dens = DensitySurvey"
   ],
   "metadata": {
    "collapsed": false,
    "pycharm": {
     "name": "#%%\n"
    }
   }
  }
 ],
 "metadata": {
  "kernelspec": {
   "display_name": "Python 3",
   "language": "python",
   "name": "python3"
  },
  "language_info": {
   "codemirror_mode": {
    "name": "ipython",
    "version": 2
   },
   "file_extension": ".py",
   "mimetype": "text/x-python",
   "name": "python",
   "nbconvert_exporter": "python",
   "pygments_lexer": "ipython2",
   "version": "2.7.6"
  }
 },
 "nbformat": 4,
 "nbformat_minor": 0
}