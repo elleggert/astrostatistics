{
 "cells": [
  {
   "cell_type": "code",
   "execution_count": 1,
   "metadata": {
    "collapsed": true
   },
   "outputs": [],
   "source": [
    "import pandas as pd\n",
    "import torch\n",
    "import os\n",
    "import numpy as np\n",
    "import pickle\n",
    "from datasets import MultiSetSequence\n",
    "from torch.utils.data import DataLoader\n",
    "from sklearn import metrics\n",
    "import math\n",
    "\n"
   ]
  },
  {
   "cell_type": "markdown",
   "source": [
    "### DeepSets Final Predictions\n"
   ],
   "metadata": {
    "collapsed": false,
    "pycharm": {
     "name": "#%% md\n"
    }
   }
  },
  {
   "cell_type": "code",
   "execution_count": 23,
   "outputs": [],
   "source": [
    "\n",
    "def get_mask(sizes, max_size):\n",
    "    return (torch.arange(max_size).reshape(1, -1).to(sizes.device) < sizes.unsqueeze(2))\n",
    "\n",
    "\n",
    "areas = ['north', 'south', 'des']\n",
    "galaxies = ['lrg', 'elg', 'qso']\n",
    "device = 'cpu'\n",
    "max_set_len = 0\n",
    "\n",
    "df_north = pd.read_csv(f'../regression/results/north.csv')\n",
    "df_south = pd.read_csv(f'../regression/results/south.csv')\n",
    "df_des = pd.read_csv(f'../regression/results/des.csv')\n"
   ],
   "metadata": {
    "collapsed": false,
    "pycharm": {
     "name": "#%%\n"
    }
   }
  },
  {
   "cell_type": "code",
   "execution_count": 24,
   "outputs": [
    {
     "name": "stdout",
     "output_type": "stream",
     "text": [
      "\n",
      " XXXXXX======== TRIAL north - lrg ended\n",
      "\n",
      "Test Set - R-squared:  0.019696157369817224\n",
      "Test Set - RMSE:  11.851315081785096\n",
      "Test Set - MAE:  8.72075124230638\n",
      "\n",
      " XXXXXX======== TRIAL north - elg ended\n",
      "\n",
      "Test Set - R-squared:  0.2768691500296936\n",
      "Test Set - RMSE:  19.04504909213889\n",
      "Test Set - MAE:  14.787118993408097\n",
      "\n",
      " XXXXXX======== TRIAL north - qso ended\n",
      "\n",
      "Test Set - R-squared:  0.1945514680883067\n",
      "Test Set - RMSE:  26.072144124678687\n",
      "Test Set - MAE:  20.29797913806312\n",
      "\n",
      " XXXXXX======== TRIAL south - lrg ended\n",
      "\n",
      "Test Set - R-squared:  0.04468225648113022\n",
      "Test Set - RMSE:  11.550285110350043\n",
      "Test Set - MAE:  8.420855481319704\n",
      "\n",
      " XXXXXX======== TRIAL south - elg ended\n",
      "\n",
      "Test Set - R-squared:  0.2469150939116309\n",
      "Test Set - RMSE:  20.181628619139744\n",
      "Test Set - MAE:  15.66593639433148\n",
      "\n",
      " XXXXXX======== TRIAL south - qso ended\n",
      "\n",
      "Test Set - R-squared:  0.20945053735450814\n",
      "Test Set - RMSE:  25.0158650292469\n",
      "Test Set - MAE:  19.2415477733478\n",
      "\n",
      " XXXXXX======== TRIAL des - lrg ended\n",
      "\n",
      "Test Set - R-squared:  0.004356522559152087\n",
      "Test Set - RMSE:  10.173388972312711\n",
      "Test Set - MAE:  7.783041953875313\n",
      "\n",
      " XXXXXX======== TRIAL des - elg ended\n",
      "\n",
      "Test Set - R-squared:  0.027948262968123805\n",
      "Test Set - RMSE:  18.288621875466337\n",
      "Test Set - MAE:  14.40807519022653\n",
      "\n",
      " XXXXXX======== TRIAL des - qso ended\n",
      "\n",
      "Test Set - R-squared:  0.0053126464604502655\n",
      "Test Set - RMSE:  24.54395134039423\n",
      "Test Set - MAE:  19.190314304197386\n"
     ]
    }
   ],
   "source": [
    "for area in areas:\n",
    "    with open(f'data/{area}/{area}_test.pickle', 'rb') as f:\n",
    "        testset = pickle.load(f)\n",
    "        f.close()\n",
    "    if area == \"north\":\n",
    "        max_set_len = 30\n",
    "    elif area == \"south\":\n",
    "        max_set_len = 25\n",
    "    else:\n",
    "        max_set_len = 50\n",
    "    df_test = pd.DataFrame.from_dict(testset, orient='index')\n",
    "\n",
    "    testdata = MultiSetSequence(dict=df_test.to_dict(orient='index'), num_pixels=len(df_test),\n",
    "                                max_ccds=max_set_len, num_features=6, test=True)\n",
    "\n",
    "    pixel_id = testdata.pixel_id\n",
    "\n",
    "    for gal in galaxies:\n",
    "        testdata.set_targets(gal_type=gal)\n",
    "\n",
    "        best_val = -100\n",
    "        for model in os.listdir(f\"trained_models/{area}/{gal}\"):\n",
    "            val = float(model[:-3])\n",
    "            if val > best_val:\n",
    "                best_val = val\n",
    "\n",
    "        model = torch.load(f\"trained_models/{area}/{gal}/{best_val}.pt\",\n",
    "                           map_location=torch.device('cpu'))\n",
    "\n",
    "        testloader = torch.utils.data.DataLoader(testdata, batch_size=128, shuffle=False)\n",
    "\n",
    "        model.eval()\n",
    "        y_pred = np.array([])\n",
    "        y_gold = np.array([])\n",
    "\n",
    "        with torch.no_grad():\n",
    "            for i, (X1, X2, labels, set_sizes) in enumerate(testloader):\n",
    "                # Extract inputs and associated labels from dataloader batch\n",
    "                X1 = X1.to(device)\n",
    "\n",
    "                X2 = X2.to(device)\n",
    "\n",
    "                labels = labels.to(device)\n",
    "\n",
    "                set_sizes = set_sizes.to(device)\n",
    "\n",
    "                mask = get_mask(set_sizes, X1.shape[2])\n",
    "                # Predict outputs (forward pass)\n",
    "\n",
    "                outputs = model(X1, X2, mask=mask)\n",
    "                # Predict outputs (forward pass)\n",
    "                # Get predictions and append to label array + count number of correct and total\n",
    "                y_pred = np.append(y_pred, outputs.cpu().detach().numpy())\n",
    "                y_gold = np.append(y_gold, labels.cpu().detach().numpy())\n",
    "\n",
    "            r2 = metrics.r2_score(y_gold, y_pred)\n",
    "            rmse = math.sqrt(metrics.mean_squared_error(y_gold, y_pred))\n",
    "            mae = metrics.mean_absolute_error(y_gold, y_pred)\n",
    "\n",
    "            print()\n",
    "            print(f\" XXXXXX======== TRIAL {area} - {gal} ended\")\n",
    "            print()\n",
    "            print(\"Test Set - R-squared: \", r2)\n",
    "            print(\"Test Set - RMSE: \", rmse)\n",
    "            print(\"Test Set - MAE: \", mae)\n",
    "\n",
    "        ax = np.stack((pixel_id, y_pred, y_gold), axis=1)\n",
    "        df_deep = pd.DataFrame(ax, columns=['pixel_id', f'{gal}_deep', 'y_gold'])\n",
    "\n",
    "        df_deep.pixel_id = df_deep.pixel_id.astype(int)\n",
    "\n",
    "        if area == 'north':\n",
    "            df_north = df_north.merge(df_deep, how='inner', on='pixel_id')\n",
    "        elif area == 'south':\n",
    "            df_south = df_south.merge(df_deep, how='inner', on='pixel_id')\n",
    "        else:\n",
    "            df_des = df_des.merge(df_deep, how='inner', on='pixel_id')"
   ],
   "metadata": {
    "collapsed": false,
    "pycharm": {
     "name": "#%%\n"
    }
   }
  },
  {
   "cell_type": "code",
   "execution_count": null,
   "outputs": [],
   "source": [
    "print((df_north.head()))\n",
    "print((df_south.head()))\n",
    "print((df_des.head()))"
   ],
   "metadata": {
    "collapsed": false,
    "pycharm": {
     "name": "#%%\n"
    }
   }
  },
  {
   "cell_type": "code",
   "execution_count": null,
   "outputs": [],
   "source": [
    "df_north.to_csv(f'../regression/results/north.csv', index=False)\n",
    "df_south.to_csv(f'../regression/results/south.csv', index=False)\n",
    "df_des.to_csv(f'../regression/results/des.csv', index=False)"
   ],
   "metadata": {
    "collapsed": false,
    "pycharm": {
     "name": "#%%\n"
    }
   }
  },
  {
   "cell_type": "markdown",
   "source": [
    "### Final Predictions for the full footprint size\n",
    "\n"
   ],
   "metadata": {
    "collapsed": false,
    "pycharm": {
     "name": "#%% md\n"
    }
   }
  },
  {
   "cell_type": "code",
   "execution_count": 2,
   "outputs": [
    {
     "name": "stdout",
     "output_type": "stream",
     "text": [
      "97537\n"
     ]
    }
   ],
   "source": [
    "\n",
    "def get_mask(sizes, max_size):\n",
    "    return (torch.arange(max_size).reshape(1, -1).to(sizes.device) < sizes.unsqueeze(2))\n",
    "\n",
    "\n",
    "areas = ['north', 'south', 'des']\n",
    "galaxies = ['lrg', 'elg', 'qso']\n",
    "device = 'cpu'\n",
    "max_set_len = 0\n",
    "\n",
    "df_north = pd.read_csv(f'../regression/results/north_complete.csv')\n",
    "df_south = pd.read_csv(f'../regression/results/south_complete.csv')\n",
    "df_des = pd.read_csv(f'../regression/results/des_complete.csv')\n",
    "\n",
    "\n",
    "print(len(df_north))"
   ],
   "metadata": {
    "collapsed": false,
    "pycharm": {
     "name": "#%%\n"
    }
   }
  },
  {
   "cell_type": "code",
   "execution_count": 3,
   "outputs": [
    {
     "name": "stdout",
     "output_type": "stream",
     "text": [
      "19508 78029\n",
      "97537\n",
      "97512\n",
      "\n",
      " XXXXXX======== TRIAL north - lrg ended\n",
      "\n",
      "Test Set - R-squared:  0.028349912408103584\n",
      "Test Set - RMSE:  11.818207285962218\n",
      "Test Set - MAE:  8.678439300536953\n",
      "97512\n",
      "\n",
      " XXXXXX======== TRIAL north - elg ended\n",
      "\n",
      "Test Set - R-squared:  0.31267729737817285\n",
      "Test Set - RMSE:  18.435315326509908\n",
      "Test Set - MAE:  14.375764157722381\n",
      "97512\n",
      "\n",
      " XXXXXX======== TRIAL north - qso ended\n",
      "\n",
      "Test Set - R-squared:  0.19477092399314633\n",
      "Test Set - RMSE:  25.740329743101636\n",
      "Test Set - MAE:  20.10025054920061\n",
      "37144 148574\n",
      "185718\n",
      "185699\n",
      "\n",
      " XXXXXX======== TRIAL south - lrg ended\n",
      "\n",
      "Test Set - R-squared:  0.047384951392127284\n",
      "Test Set - RMSE:  11.504596618036711\n",
      "Test Set - MAE:  8.389760215903388\n",
      "185699\n",
      "\n",
      " XXXXXX======== TRIAL south - elg ended\n",
      "\n",
      "Test Set - R-squared:  0.26190931115516025\n",
      "Test Set - RMSE:  19.90219819705347\n",
      "Test Set - MAE:  15.525099245736552\n",
      "185699\n",
      "\n",
      " XXXXXX======== TRIAL south - qso ended\n",
      "\n",
      "Test Set - R-squared:  0.2160727540062204\n",
      "Test Set - RMSE:  24.754432540713044\n",
      "Test Set - MAE:  19.109500807470027\n",
      "17327 69304\n",
      "86631\n",
      "86589\n",
      "\n",
      " XXXXXX======== TRIAL des - lrg ended\n",
      "\n",
      "Test Set - R-squared:  0.003876626838820285\n",
      "Test Set - RMSE:  10.205859035279067\n",
      "Test Set - MAE:  7.824012444921321\n",
      "86589\n",
      "\n",
      " XXXXXX======== TRIAL des - elg ended\n",
      "\n",
      "Test Set - R-squared:  0.027331530135657478\n",
      "Test Set - RMSE:  18.16614352795714\n",
      "Test Set - MAE:  14.300272061377115\n",
      "86589\n",
      "\n",
      " XXXXXX======== TRIAL des - qso ended\n",
      "\n",
      "Test Set - R-squared:  0.008929838009512414\n",
      "Test Set - RMSE:  24.504636168207067\n",
      "Test Set - MAE:  19.1718236984036\n"
     ]
    }
   ],
   "source": [
    "for area in areas:\n",
    "    with open(f'data/{area}/{area}_test.pickle', 'rb') as f:\n",
    "        testset = pickle.load(f)\n",
    "        f.close()\n",
    "\n",
    "    with open(f'data/{area}/{area}.pickle', 'rb') as f:\n",
    "        trainset = pickle.load(f)\n",
    "        f.close()\n",
    "\n",
    "    if area == \"north\":\n",
    "        max_set_len = 30\n",
    "    elif area == \"south\":\n",
    "        max_set_len = 25\n",
    "    else:\n",
    "        max_set_len = 50\n",
    "    df_test = pd.DataFrame.from_dict(testset, orient='index')\n",
    "    df_train = pd.DataFrame.from_dict(trainset, orient='index')\n",
    "    print(len(df_test), len(df_train))\n",
    "    df_test = df_test.append(df_train)\n",
    "    print(len(df_test))\n",
    "\n",
    "\n",
    "\n",
    "    testdata = MultiSetSequence(dict=df_test.to_dict(orient='index'), num_pixels=len(df_test),\n",
    "                                max_ccds=max_set_len, num_features=6, test=True)\n",
    "\n",
    "\n",
    "\n",
    "\n",
    "    pixel_id = testdata.pixel_id\n",
    "\n",
    "\n",
    "    for gal in galaxies:\n",
    "        testdata.set_targets(gal_type=gal)\n",
    "\n",
    "        best_val = -100\n",
    "        for model in os.listdir(f\"trained_models/{area}/{gal}\"):\n",
    "            val = float(model[:-3])\n",
    "            if val > best_val:\n",
    "                best_val = val\n",
    "\n",
    "        model = torch.load(f\"trained_models/{area}/{gal}/{best_val}.pt\",\n",
    "                           map_location=torch.device('cpu'))\n",
    "\n",
    "        testloader = torch.utils.data.DataLoader(testdata, batch_size=128, shuffle=False)\n",
    "\n",
    "        model.eval()\n",
    "        y_pred = np.array([])\n",
    "        y_gold = np.array([])\n",
    "\n",
    "        with torch.no_grad():\n",
    "            for i, (X1, X2, labels, set_sizes) in enumerate(testloader):\n",
    "                # Extract inputs and associated labels from dataloader batch\n",
    "                X1 = X1.to(device)\n",
    "\n",
    "                X2 = X2.to(device)\n",
    "\n",
    "                labels = labels.to(device)\n",
    "\n",
    "                set_sizes = set_sizes.to(device)\n",
    "\n",
    "                mask = get_mask(set_sizes, X1.shape[2])\n",
    "                # Predict outputs (forward pass)\n",
    "\n",
    "                outputs = model(X1, X2, mask=mask)\n",
    "                # Predict outputs (forward pass)\n",
    "                # Get predictions and append to label array + count number of correct and total\n",
    "                y_pred = np.append(y_pred, outputs.cpu().detach().numpy())\n",
    "                y_gold = np.append(y_gold, labels.cpu().detach().numpy())\n",
    "\n",
    "            print(len(y_pred))\n",
    "            r2 = metrics.r2_score(y_gold, y_pred)\n",
    "            rmse = math.sqrt(metrics.mean_squared_error(y_gold, y_pred))\n",
    "            mae = metrics.mean_absolute_error(y_gold, y_pred)\n",
    "\n",
    "            print()\n",
    "            print(f\" XXXXXX======== TRIAL {area} - {gal} ended\")\n",
    "            print()\n",
    "            print(\"Test Set - R-squared: \", r2)\n",
    "            print(\"Test Set - RMSE: \", rmse)\n",
    "            print(\"Test Set - MAE: \", mae)\n",
    "\n",
    "        ax = np.stack((pixel_id, y_pred, y_gold), axis=1)\n",
    "        df_deep = pd.DataFrame(ax, columns=['pixel_id', f'{gal}_deep', 'y_gold'])\n",
    "\n",
    "\n",
    "        df_deep = df_deep.dropna()\n",
    "        df_deep.pixel_id = df_deep.pixel_id.astype(int)\n",
    "\n",
    "        if area == 'north':\n",
    "            df_north = df_north.merge(df_deep, how='inner', on='pixel_id')\n",
    "        elif area == 'south':\n",
    "            df_south = df_south.merge(df_deep, how='inner', on='pixel_id')\n",
    "        else:\n",
    "            df_des = df_des.merge(df_deep, how='inner', on='pixel_id')"
   ],
   "metadata": {
    "collapsed": false,
    "pycharm": {
     "name": "#%%\n"
    }
   }
  },
  {
   "cell_type": "code",
   "execution_count": 4,
   "outputs": [
    {
     "name": "stdout",
     "output_type": "stream",
     "text": [
      "Index(['pixel_id', 'lrg', 'elg', 'qso', 'exposures', 'stellar', 'EBV',\n",
      "       'airmass', 'ccdskysb_g', 'ccdskysb_r', 'ccdskysb_z', 'exptime_g',\n",
      "       'exptime_r', 'exptime_z', 'meansky_g', 'meansky_r', 'meansky_z',\n",
      "       'seeing_g', 'seeing_r', 'seeing_z', 'lrg_lin', 'elg_lin', 'qso_lin',\n",
      "       'lrg_nn', 'elg_nn', 'qso_nn', 'lrg_deep', 'y_gold_x', 'elg_deep',\n",
      "       'y_gold_y', 'qso_deep', 'y_gold'],\n",
      "      dtype='object')\n",
      "97512\n",
      "185699\n",
      "86589\n"
     ]
    }
   ],
   "source": [
    "print((df_north.columns))\n",
    "\n",
    "print(len(df_north))\n",
    "print(len(df_south))\n",
    "print(len(df_des))"
   ],
   "metadata": {
    "collapsed": false,
    "pycharm": {
     "name": "#%%\n"
    }
   }
  },
  {
   "cell_type": "code",
   "execution_count": 5,
   "outputs": [
    {
     "name": "stdout",
     "output_type": "stream",
     "text": [
      "   pixel_id  lrg  elg  qso  exposures   stellar       EBV   airmass  \\\n",
      "0    301589   51   97  166   0.453901  0.071429  0.241767  0.327689   \n",
      "1    357501   35  150  176   0.347518  0.109244  0.116351  0.256850   \n",
      "2    219584   31  113  138   0.304965  0.260504  0.136105  0.636057   \n",
      "3    172905   26  107  143   0.588652  0.100840  0.142525  0.485916   \n",
      "4    192669   22  165  157   0.368794  0.075630  0.074714  0.729906   \n",
      "\n",
      "   ccdskysb_g  ccdskysb_r  ...     qso_lin     lrg_nn      elg_nn      qso_nn  \\\n",
      "0    0.572745    0.713239  ...  157.051357  33.720192  120.536476  159.514908   \n",
      "1    0.579899    0.518977  ...  163.857720  34.181618  137.651093  162.061188   \n",
      "2    0.648851    0.759491  ...  172.237911  34.980652  131.027618  169.156662   \n",
      "3    0.452184    0.642542  ...  150.417669  33.316101  126.970894  161.554245   \n",
      "4    0.507952    0.751045  ...  159.760059  32.805458  128.063950  161.738083   \n",
      "\n",
      "    lrg_deep  y_gold_x    elg_deep  y_gold_y    qso_deep  y_gold  \n",
      "0  33.693714      51.0  116.425659      97.0  160.239944   166.0  \n",
      "1  33.752350      35.0  146.139771     150.0  158.950073   176.0  \n",
      "2  35.294655      31.0  129.842941     113.0  161.130753   138.0  \n",
      "3  33.853619      26.0  126.625000     107.0  148.245743   143.0  \n",
      "4  33.416565      22.0  131.748108     165.0  162.222443   157.0  \n",
      "\n",
      "[5 rows x 32 columns]\n"
     ]
    }
   ],
   "source": [
    "\n",
    "print(df_south.head())"
   ],
   "metadata": {
    "collapsed": false,
    "pycharm": {
     "name": "#%%\n"
    }
   }
  },
  {
   "cell_type": "code",
   "execution_count": 7,
   "outputs": [],
   "source": [
    "df_north.to_csv(f'../regression/results/north_complete.csv', index=False)\n",
    "df_south.to_csv(f'../regression/results/south_complete.csv', index=False)\n",
    "df_des.to_csv(f'../regression/results/des_complete.csv', index=False)\n",
    "\n",
    "\n"
   ],
   "metadata": {
    "collapsed": false,
    "pycharm": {
     "name": "#%%\n"
    }
   }
  },
  {
   "cell_type": "code",
   "execution_count": null,
   "outputs": [],
   "source": [],
   "metadata": {
    "collapsed": false,
    "pycharm": {
     "name": "#%%\n"
    }
   }
  }
 ],
 "metadata": {
  "kernelspec": {
   "display_name": "Python 3",
   "language": "python",
   "name": "python3"
  },
  "language_info": {
   "codemirror_mode": {
    "name": "ipython",
    "version": 2
   },
   "file_extension": ".py",
   "mimetype": "text/x-python",
   "name": "python",
   "nbconvert_exporter": "python",
   "pygments_lexer": "ipython2",
   "version": "2.7.6"
  }
 },
 "nbformat": 4,
 "nbformat_minor": 0
}