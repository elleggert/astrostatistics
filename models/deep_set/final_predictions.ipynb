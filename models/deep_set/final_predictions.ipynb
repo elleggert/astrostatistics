{
 "cells": [
  {
   "cell_type": "code",
   "execution_count": 29,
   "metadata": {
    "collapsed": true
   },
   "outputs": [
    {
     "ename": "ModuleNotFoundError",
     "evalue": "No module named 'models.neural_network'; 'models' is not a package",
     "output_type": "error",
     "traceback": [
      "\u001B[0;31m---------------------------------------------------------------------------\u001B[0m",
      "\u001B[0;31mModuleNotFoundError\u001B[0m                       Traceback (most recent call last)",
      "\u001B[0;32m<ipython-input-29-219a065bc6aa>\u001B[0m in \u001B[0;36m<module>\u001B[0;34m\u001B[0m\n\u001B[1;32m      9\u001B[0m \u001B[0;32mimport\u001B[0m \u001B[0mmath\u001B[0m\u001B[0;34m\u001B[0m\u001B[0;34m\u001B[0m\u001B[0m\n\u001B[1;32m     10\u001B[0m \u001B[0;34m\u001B[0m\u001B[0m\n\u001B[0;32m---> 11\u001B[0;31m \u001B[0;32mfrom\u001B[0m \u001B[0mmodels\u001B[0m\u001B[0;34m.\u001B[0m\u001B[0mneural_network\u001B[0m\u001B[0;34m.\u001B[0m\u001B[0mdatasets\u001B[0m \u001B[0;32mimport\u001B[0m \u001B[0mDensitySurvey\u001B[0m\u001B[0;34m\u001B[0m\u001B[0;34m\u001B[0m\u001B[0m\n\u001B[0m\u001B[1;32m     12\u001B[0m \u001B[0;34m\u001B[0m\u001B[0m\n\u001B[1;32m     13\u001B[0m \u001B[0;34m\u001B[0m\u001B[0m\n",
      "\u001B[0;31mModuleNotFoundError\u001B[0m: No module named 'models.neural_network'; 'models' is not a package"
     ]
    }
   ],
   "source": [
    "import pandas as pd\n",
    "import torch\n",
    "import os\n",
    "import numpy as np\n",
    "import pickle\n",
    "from datasets import MultiSetSequence\n",
    "from torch.utils.data import DataLoader\n",
    "from sklearn import metrics\n",
    "import math\n",
    "\n",
    "from datasets import DensitySurvey\n"
   ]
  },
  {
   "cell_type": "markdown",
   "source": [
    "### DeepSets Final Predictions\n"
   ],
   "metadata": {
    "collapsed": false,
    "pycharm": {
     "name": "#%% md\n"
    }
   }
  },
  {
   "cell_type": "code",
   "execution_count": 23,
   "outputs": [],
   "source": [
    "\n",
    "def get_mask(sizes, max_size):\n",
    "    return (torch.arange(max_size).reshape(1, -1).to(sizes.device) < sizes.unsqueeze(2))\n",
    "\n",
    "areas = ['north', 'south', 'des']\n",
    "galaxies = ['lrg', 'elg', 'qso']\n",
    "device = 'cpu'\n",
    "max_set_len = 0\n",
    "\n",
    "df_north = pd.read_csv(f'../regression/results/north.csv')\n",
    "df_south = pd.read_csv(f'../regression/results/south.csv')\n",
    "df_des = pd.read_csv(f'../regression/results/des.csv')\n"
   ],
   "metadata": {
    "collapsed": false,
    "pycharm": {
     "name": "#%%\n"
    }
   }
  },
  {
   "cell_type": "code",
   "execution_count": 24,
   "outputs": [
    {
     "name": "stdout",
     "output_type": "stream",
     "text": [
      "\n",
      " XXXXXX======== TRIAL north - lrg ended\n",
      "\n",
      "Test Set - R-squared:  0.019696157369817224\n",
      "Test Set - RMSE:  11.851315081785096\n",
      "Test Set - MAE:  8.72075124230638\n",
      "\n",
      " XXXXXX======== TRIAL north - elg ended\n",
      "\n",
      "Test Set - R-squared:  0.2768691500296936\n",
      "Test Set - RMSE:  19.04504909213889\n",
      "Test Set - MAE:  14.787118993408097\n",
      "\n",
      " XXXXXX======== TRIAL north - qso ended\n",
      "\n",
      "Test Set - R-squared:  0.1945514680883067\n",
      "Test Set - RMSE:  26.072144124678687\n",
      "Test Set - MAE:  20.29797913806312\n",
      "\n",
      " XXXXXX======== TRIAL south - lrg ended\n",
      "\n",
      "Test Set - R-squared:  0.04468225648113022\n",
      "Test Set - RMSE:  11.550285110350043\n",
      "Test Set - MAE:  8.420855481319704\n",
      "\n",
      " XXXXXX======== TRIAL south - elg ended\n",
      "\n",
      "Test Set - R-squared:  0.2469150939116309\n",
      "Test Set - RMSE:  20.181628619139744\n",
      "Test Set - MAE:  15.66593639433148\n",
      "\n",
      " XXXXXX======== TRIAL south - qso ended\n",
      "\n",
      "Test Set - R-squared:  0.20945053735450814\n",
      "Test Set - RMSE:  25.0158650292469\n",
      "Test Set - MAE:  19.2415477733478\n",
      "\n",
      " XXXXXX======== TRIAL des - lrg ended\n",
      "\n",
      "Test Set - R-squared:  0.004356522559152087\n",
      "Test Set - RMSE:  10.173388972312711\n",
      "Test Set - MAE:  7.783041953875313\n",
      "\n",
      " XXXXXX======== TRIAL des - elg ended\n",
      "\n",
      "Test Set - R-squared:  0.027948262968123805\n",
      "Test Set - RMSE:  18.288621875466337\n",
      "Test Set - MAE:  14.40807519022653\n",
      "\n",
      " XXXXXX======== TRIAL des - qso ended\n",
      "\n",
      "Test Set - R-squared:  0.0053126464604502655\n",
      "Test Set - RMSE:  24.54395134039423\n",
      "Test Set - MAE:  19.190314304197386\n"
     ]
    }
   ],
   "source": [
    "for area in areas:\n",
    "    with open(f'data/{area}/{area}_test.pickle', 'rb') as f:\n",
    "        testset = pickle.load(f)\n",
    "        f.close()\n",
    "    if area == \"north\":\n",
    "        max_set_len = 30\n",
    "    elif area == \"south\":\n",
    "        max_set_len = 25\n",
    "    else:\n",
    "        max_set_len = 50\n",
    "    df_test = pd.DataFrame.from_dict(testset, orient='index')\n",
    "\n",
    "    testdata = MultiSetSequence(dict=df_test.to_dict(orient='index'), num_pixels=len(df_test),\n",
    "                            max_ccds=max_set_len, num_features=6, test=True)\n",
    "\n",
    "    pixel_id = testdata.pixel_id\n",
    "\n",
    "\n",
    "\n",
    "\n",
    "    for gal in galaxies:\n",
    "        testdata.set_targets(gal_type=gal)\n",
    "\n",
    "        best_val = -100\n",
    "        for model in os.listdir(f\"trained_models/{area}/{gal}\"):\n",
    "            val = float(model[:-3])\n",
    "            if val > best_val:\n",
    "                best_val = val\n",
    "\n",
    "\n",
    "\n",
    "        model = torch.load(f\"trained_models/{area}/{gal}/{best_val}.pt\",\n",
    "                   map_location=torch.device('cpu'))\n",
    "\n",
    "        testloader = torch.utils.data.DataLoader(testdata, batch_size=128, shuffle=False)\n",
    "\n",
    "        model.eval()\n",
    "        y_pred = np.array([])\n",
    "        y_gold = np.array([])\n",
    "\n",
    "        with torch.no_grad():\n",
    "            for i, (X1, X2, labels, set_sizes) in enumerate(testloader):\n",
    "                # Extract inputs and associated labels from dataloader batch\n",
    "                X1 = X1.to(device)\n",
    "\n",
    "                X2 = X2.to(device)\n",
    "\n",
    "                labels = labels.to(device)\n",
    "\n",
    "                set_sizes = set_sizes.to(device)\n",
    "\n",
    "                mask = get_mask(set_sizes, X1.shape[2])\n",
    "                # Predict outputs (forward pass)\n",
    "\n",
    "                outputs = model(X1, X2, mask=mask)\n",
    "                # Predict outputs (forward pass)\n",
    "                # Get predictions and append to label array + count number of correct and total\n",
    "                y_pred = np.append(y_pred, outputs.cpu().detach().numpy())\n",
    "                y_gold = np.append(y_gold, labels.cpu().detach().numpy())\n",
    "\n",
    "\n",
    "            r2 = metrics.r2_score(y_gold, y_pred)\n",
    "            rmse = math.sqrt(metrics.mean_squared_error(y_gold, y_pred))\n",
    "            mae = metrics.mean_absolute_error(y_gold,y_pred)\n",
    "\n",
    "\n",
    "            print()\n",
    "            print(f\" XXXXXX======== TRIAL {area} - {gal} ended\")\n",
    "            print()\n",
    "            print(\"Test Set - R-squared: \", r2)\n",
    "            print(\"Test Set - RMSE: \", rmse)\n",
    "            print(\"Test Set - MAE: \", mae)\n",
    "\n",
    "\n",
    "        ax = np.stack((pixel_id, y_pred, y_gold), axis=1)\n",
    "        df_deep = pd.DataFrame(ax, columns=['pixel_id', f'{gal}_deep', 'y_gold'])\n",
    "\n",
    "        df_deep.pixel_id = df_deep.pixel_id.astype(int)\n",
    "\n",
    "        if area == 'north':\n",
    "            df_north = df_north.merge(df_deep, how='inner', on='pixel_id')\n",
    "        elif area == 'south':\n",
    "            df_south = df_south.merge(df_deep, how='inner', on='pixel_id')\n",
    "        else:\n",
    "            df_des = df_des.merge(df_deep, how='inner', on='pixel_id')"
   ],
   "metadata": {
    "collapsed": false,
    "pycharm": {
     "name": "#%%\n"
    }
   }
  },
  {
   "cell_type": "code",
   "execution_count": null,
   "outputs": [],
   "source": [
    "print((df_north.head()))\n",
    "print((df_south.head()))\n",
    "print((df_des.head()))"
   ],
   "metadata": {
    "collapsed": false,
    "pycharm": {
     "name": "#%%\n"
    }
   }
  },
  {
   "cell_type": "code",
   "execution_count": null,
   "outputs": [],
   "source": [
    "df_north.to_csv(f'../regression/results/north.csv', index=False)\n",
    "df_south.to_csv(f'../regression/results/south.csv', index=False)\n",
    "df_des.to_csv(f'../regression/results/des.csv', index=False)"
   ],
   "metadata": {
    "collapsed": false,
    "pycharm": {
     "name": "#%%\n"
    }
   }
  },
  {
   "cell_type": "code",
   "execution_count": null,
   "outputs": [],
   "source": [],
   "metadata": {
    "collapsed": false,
    "pycharm": {
     "name": "#%%\n"
    }
   }
  }
 ],
 "metadata": {
  "kernelspec": {
   "display_name": "Python 3",
   "language": "python",
   "name": "python3"
  },
  "language_info": {
   "codemirror_mode": {
    "name": "ipython",
    "version": 2
   },
   "file_extension": ".py",
   "mimetype": "text/x-python",
   "name": "python",
   "nbconvert_exporter": "python",
   "pygments_lexer": "ipython2",
   "version": "2.7.6"
  }
 },
 "nbformat": 4,
 "nbformat_minor": 0
}