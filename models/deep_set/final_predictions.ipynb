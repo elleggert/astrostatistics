{
 "cells": [
  {
   "cell_type": "code",
   "execution_count": 1,
   "metadata": {
    "collapsed": true
   },
   "outputs": [],
   "source": [
    "import pandas as pd\n",
    "import torch\n",
    "import os\n",
    "import numpy as np\n",
    "import pickle\n",
    "from datasets import MultiSetSequence\n",
    "from torch.utils.data import DataLoader\n",
    "from sklearn import metrics\n",
    "import math\n",
    "\n"
   ]
  },
  {
   "cell_type": "markdown",
   "source": [
    "### DeepSets Final Predictions\n"
   ],
   "metadata": {
    "collapsed": false,
    "pycharm": {
     "name": "#%% md\n"
    }
   }
  },
  {
   "cell_type": "code",
   "execution_count": 2,
   "outputs": [],
   "source": [
    "\n",
    "def get_mask(sizes, max_size):\n",
    "    return (torch.arange(max_size).reshape(1, -1).to(sizes.device) < sizes.unsqueeze(2))\n",
    "\n",
    "\n",
    "areas = ['north', 'south', 'des']\n",
    "galaxies = ['lrg', 'elg', 'qso','glbg', 'rlbg']\n",
    "device = 'cpu'\n",
    "max_set_len = 0\n",
    "NSIDE = 512\n",
    "\n",
    "df_north = pd.read_csv(f'../regression/results/north_complete_{NSIDE}.csv')\n",
    "df_south = pd.read_csv(f'../regression/results/south_complete_{NSIDE}.csv')\n",
    "df_des = pd.read_csv(f'../regression/results/des_complete_{NSIDE}.csv')\n"
   ],
   "metadata": {
    "collapsed": false,
    "pycharm": {
     "name": "#%%\n"
    }
   }
  },
  {
   "cell_type": "code",
   "execution_count": null,
   "outputs": [],
   "source": [],
   "metadata": {
    "collapsed": false,
    "pycharm": {
     "name": "#%%\n"
    }
   }
  },
  {
   "cell_type": "code",
   "execution_count": 24,
   "outputs": [
    {
     "name": "stdout",
     "output_type": "stream",
     "text": [
      "\n",
      " XXXXXX======== TRIAL north - lrg ended\n",
      "\n",
      "Test Set - R-squared:  0.019696157369817224\n",
      "Test Set - RMSE:  11.851315081785096\n",
      "Test Set - MAE:  8.72075124230638\n",
      "\n",
      " XXXXXX======== TRIAL north - elg ended\n",
      "\n",
      "Test Set - R-squared:  0.2768691500296936\n",
      "Test Set - RMSE:  19.04504909213889\n",
      "Test Set - MAE:  14.787118993408097\n",
      "\n",
      " XXXXXX======== TRIAL north - qso ended\n",
      "\n",
      "Test Set - R-squared:  0.1945514680883067\n",
      "Test Set - RMSE:  26.072144124678687\n",
      "Test Set - MAE:  20.29797913806312\n",
      "\n",
      " XXXXXX======== TRIAL south - lrg ended\n",
      "\n",
      "Test Set - R-squared:  0.04468225648113022\n",
      "Test Set - RMSE:  11.550285110350043\n",
      "Test Set - MAE:  8.420855481319704\n",
      "\n",
      " XXXXXX======== TRIAL south - elg ended\n",
      "\n",
      "Test Set - R-squared:  0.2469150939116309\n",
      "Test Set - RMSE:  20.181628619139744\n",
      "Test Set - MAE:  15.66593639433148\n",
      "\n",
      " XXXXXX======== TRIAL south - qso ended\n",
      "\n",
      "Test Set - R-squared:  0.20945053735450814\n",
      "Test Set - RMSE:  25.0158650292469\n",
      "Test Set - MAE:  19.2415477733478\n",
      "\n",
      " XXXXXX======== TRIAL des - lrg ended\n",
      "\n",
      "Test Set - R-squared:  0.004356522559152087\n",
      "Test Set - RMSE:  10.173388972312711\n",
      "Test Set - MAE:  7.783041953875313\n",
      "\n",
      " XXXXXX======== TRIAL des - elg ended\n",
      "\n",
      "Test Set - R-squared:  0.027948262968123805\n",
      "Test Set - RMSE:  18.288621875466337\n",
      "Test Set - MAE:  14.40807519022653\n",
      "\n",
      " XXXXXX======== TRIAL des - qso ended\n",
      "\n",
      "Test Set - R-squared:  0.0053126464604502655\n",
      "Test Set - RMSE:  24.54395134039423\n",
      "Test Set - MAE:  19.190314304197386\n"
     ]
    }
   ],
   "source": [
    "for area in areas:\n",
    "    with open(f'data/{area}/{area}_test.pickle', 'rb') as f:\n",
    "        testset = pickle.load(f)\n",
    "        f.close()\n",
    "    if area == \"north\":\n",
    "        max_set_len = 30\n",
    "    elif area == \"south\":\n",
    "        max_set_len = 25\n",
    "    else:\n",
    "        max_set_len = 40\n",
    "    df_test = pd.DataFrame.from_dict(testset, orient='index')\n",
    "\n",
    "    testdata = MultiSetSequence(dict=df_test.to_dict(orient='index'), num_pixels=len(df_test),\n",
    "                                max_ccds=max_set_len, num_features=6, test=True)\n",
    "\n",
    "    pixel_id = testdata.pixel_id\n",
    "\n",
    "    for gal in galaxies:\n",
    "        testdata.set_targets(gal_type=gal)\n",
    "\n",
    "        best_val = -100\n",
    "        for model in os.listdir(f\"trained_models/{area}/{gal}\"):\n",
    "            val = float(model[:-3])\n",
    "            if val > best_val:\n",
    "                best_val = val\n",
    "\n",
    "        model = torch.load(f\"trained_models/{area}/{gal}/{best_val}.pt\",\n",
    "                           map_location=torch.device('cpu'))\n",
    "\n",
    "        testloader = torch.utils.data.DataLoader(testdata, batch_size=128, shuffle=False)\n",
    "\n",
    "        model.eval()\n",
    "        y_pred = np.array([])\n",
    "        y_gold = np.array([])\n",
    "\n",
    "        with torch.no_grad():\n",
    "            for i, (X1, X2, labels, set_sizes) in enumerate(testloader):\n",
    "                # Extract inputs and associated labels from dataloader batch\n",
    "                X1 = X1.to(device)\n",
    "\n",
    "                X2 = X2.to(device)\n",
    "\n",
    "                labels = labels.to(device)\n",
    "\n",
    "                set_sizes = set_sizes.to(device)\n",
    "\n",
    "                mask = get_mask(set_sizes, X1.shape[2])\n",
    "                # Predict outputs (forward pass)\n",
    "\n",
    "                outputs = model(X1, X2, mask=mask)\n",
    "                # Predict outputs (forward pass)\n",
    "                # Get predictions and append to label array + count number of correct and total\n",
    "                y_pred = np.append(y_pred, outputs.cpu().detach().numpy())\n",
    "                y_gold = np.append(y_gold, labels.cpu().detach().numpy())\n",
    "\n",
    "            r2 = metrics.r2_score(y_gold, y_pred)\n",
    "            rmse = math.sqrt(metrics.mean_squared_error(y_gold, y_pred))\n",
    "            mae = metrics.mean_absolute_error(y_gold, y_pred)\n",
    "\n",
    "            print()\n",
    "            print(f\" XXXXXX======== TRIAL {area} - {gal} ended\")\n",
    "            print()\n",
    "            print(\"Test Set - R-squared: \", r2)\n",
    "            print(\"Test Set - RMSE: \", rmse)\n",
    "            print(\"Test Set - MAE: \", mae)\n",
    "\n",
    "        ax = np.stack((pixel_id, y_pred, y_gold), axis=1)\n",
    "        df_deep = pd.DataFrame(ax, columns=['pixel_id', f'{gal}_deep', 'y_gold'])\n",
    "\n",
    "        df_deep.pixel_id = df_deep.pixel_id.astype(int)\n",
    "\n",
    "        if area == 'north':\n",
    "            df_north = df_north.merge(df_deep, how='inner', on='pixel_id')\n",
    "        elif area == 'south':\n",
    "            df_south = df_south.merge(df_deep, how='inner', on='pixel_id')\n",
    "        else:\n",
    "            df_des = df_des.merge(df_deep, how='inner', on='pixel_id')"
   ],
   "metadata": {
    "collapsed": false,
    "pycharm": {
     "name": "#%%\n"
    }
   }
  },
  {
   "cell_type": "code",
   "execution_count": null,
   "outputs": [],
   "source": [
    "print((df_north.head()))\n",
    "print((df_south.head()))\n",
    "print((df_des.head()))"
   ],
   "metadata": {
    "collapsed": false,
    "pycharm": {
     "name": "#%%\n"
    }
   }
  },
  {
   "cell_type": "code",
   "execution_count": null,
   "outputs": [],
   "source": [
    "df_north.to_csv(f'../regression/results/north.csv', index=False)\n",
    "df_south.to_csv(f'../regression/results/south.csv', index=False)\n",
    "df_des.to_csv(f'../regression/results/des.csv', index=False)"
   ],
   "metadata": {
    "collapsed": false,
    "pycharm": {
     "name": "#%%\n"
    }
   }
  },
  {
   "cell_type": "markdown",
   "source": [
    "### Final Predictions for the full footprint size\n",
    "\n"
   ],
   "metadata": {
    "collapsed": false,
    "pycharm": {
     "name": "#%% md\n"
    }
   }
  },
  {
   "cell_type": "code",
   "execution_count": 2,
   "outputs": [],
   "source": [
    "\n",
    "def get_mask(sizes, max_size):\n",
    "    return (torch.arange(max_size).reshape(1, -1).to(sizes.device) < sizes.unsqueeze(2))\n",
    "\n",
    "\n",
    "areas = ['north', 'south', 'des']\n",
    "galaxies = ['lrg', 'elg', 'qso','glbg', 'rlbg']\n",
    "device = 'cpu'\n",
    "max_set_len = 0\n",
    "\n",
    "NSIDE = 512\n",
    "\n",
    "df_north = pd.read_csv(f'../regression/results/north_complete_{NSIDE}.csv')\n",
    "df_south = pd.read_csv(f'../regression/results/south_complete_{NSIDE}.csv')\n",
    "df_des = pd.read_csv(f'../regression/results/des_complete_{NSIDE}.csv')\n",
    "\n"
   ],
   "metadata": {
    "collapsed": false,
    "pycharm": {
     "name": "#%%\n"
    }
   }
  },
  {
   "cell_type": "code",
   "execution_count": 3,
   "outputs": [
    {
     "name": "stdout",
     "output_type": "stream",
     "text": [
      "72616 290460\n",
      "363076\n",
      " Area: north. Gal: lrg. Best val: 0.014333634977770293.\n",
      "\n"
     ]
    },
    {
     "ename": "KeyboardInterrupt",
     "evalue": "",
     "output_type": "error",
     "traceback": [
      "\u001B[0;31m---------------------------------------------------------------------------\u001B[0m",
      "\u001B[0;31mKeyboardInterrupt\u001B[0m                         Traceback (most recent call last)",
      "\u001B[0;32m<ipython-input-3-c1e73a22e62a>\u001B[0m in \u001B[0;36m<module>\u001B[0;34m\u001B[0m\n\u001B[1;32m     69\u001B[0m                 \u001B[0;31m# Predict outputs (forward pass)\u001B[0m\u001B[0;34m\u001B[0m\u001B[0;34m\u001B[0m\u001B[0;34m\u001B[0m\u001B[0m\n\u001B[1;32m     70\u001B[0m \u001B[0;34m\u001B[0m\u001B[0m\n\u001B[0;32m---> 71\u001B[0;31m                 \u001B[0moutputs\u001B[0m \u001B[0;34m=\u001B[0m \u001B[0mmodel\u001B[0m\u001B[0;34m(\u001B[0m\u001B[0mX1\u001B[0m\u001B[0;34m,\u001B[0m \u001B[0mX2\u001B[0m\u001B[0;34m,\u001B[0m \u001B[0mmask\u001B[0m\u001B[0;34m=\u001B[0m\u001B[0mmask\u001B[0m\u001B[0;34m)\u001B[0m\u001B[0;34m\u001B[0m\u001B[0;34m\u001B[0m\u001B[0m\n\u001B[0m\u001B[1;32m     72\u001B[0m                 \u001B[0;31m# Predict outputs (forward pass)\u001B[0m\u001B[0;34m\u001B[0m\u001B[0;34m\u001B[0m\u001B[0;34m\u001B[0m\u001B[0m\n\u001B[1;32m     73\u001B[0m                 \u001B[0;31m# Get predictions and append to label array + count number of correct and total\u001B[0m\u001B[0;34m\u001B[0m\u001B[0;34m\u001B[0m\u001B[0;34m\u001B[0m\u001B[0m\n",
      "\u001B[0;32m~/miniconda3/envs/astro/lib/python3.8/site-packages/torch/nn/modules/module.py\u001B[0m in \u001B[0;36m_call_impl\u001B[0;34m(self, *input, **kwargs)\u001B[0m\n\u001B[1;32m   1049\u001B[0m         if not (self._backward_hooks or self._forward_hooks or self._forward_pre_hooks or _global_backward_hooks\n\u001B[1;32m   1050\u001B[0m                 or _global_forward_hooks or _global_forward_pre_hooks):\n\u001B[0;32m-> 1051\u001B[0;31m             \u001B[0;32mreturn\u001B[0m \u001B[0mforward_call\u001B[0m\u001B[0;34m(\u001B[0m\u001B[0;34m*\u001B[0m\u001B[0minput\u001B[0m\u001B[0;34m,\u001B[0m \u001B[0;34m**\u001B[0m\u001B[0mkwargs\u001B[0m\u001B[0;34m)\u001B[0m\u001B[0;34m\u001B[0m\u001B[0;34m\u001B[0m\u001B[0m\n\u001B[0m\u001B[1;32m   1052\u001B[0m         \u001B[0;31m# Do not call functions when jit is used\u001B[0m\u001B[0;34m\u001B[0m\u001B[0;34m\u001B[0m\u001B[0;34m\u001B[0m\u001B[0m\n\u001B[1;32m   1053\u001B[0m         \u001B[0mfull_backward_hooks\u001B[0m\u001B[0;34m,\u001B[0m \u001B[0mnon_full_backward_hooks\u001B[0m \u001B[0;34m=\u001B[0m \u001B[0;34m[\u001B[0m\u001B[0;34m]\u001B[0m\u001B[0;34m,\u001B[0m \u001B[0;34m[\u001B[0m\u001B[0;34m]\u001B[0m\u001B[0;34m\u001B[0m\u001B[0;34m\u001B[0m\u001B[0m\n",
      "\u001B[0;32m~/astrostatistics/models/deep_set/models.py\u001B[0m in \u001B[0;36mforward\u001B[0;34m(self, X1, X2, mask)\u001B[0m\n\u001B[1;32m     91\u001B[0m \u001B[0;34m\u001B[0m\u001B[0m\n\u001B[1;32m     92\u001B[0m     \u001B[0;32mdef\u001B[0m \u001B[0mforward\u001B[0m\u001B[0;34m(\u001B[0m\u001B[0mself\u001B[0m\u001B[0;34m,\u001B[0m \u001B[0mX1\u001B[0m\u001B[0;34m,\u001B[0m \u001B[0mX2\u001B[0m\u001B[0;34m,\u001B[0m \u001B[0mmask\u001B[0m\u001B[0;34m=\u001B[0m\u001B[0;32mNone\u001B[0m\u001B[0;34m)\u001B[0m\u001B[0;34m:\u001B[0m\u001B[0;34m\u001B[0m\u001B[0;34m\u001B[0m\u001B[0m\n\u001B[0;32m---> 93\u001B[0;31m         \u001B[0my\u001B[0m \u001B[0;34m=\u001B[0m \u001B[0mself\u001B[0m\u001B[0;34m.\u001B[0m\u001B[0mfeature_extractor\u001B[0m\u001B[0;34m(\u001B[0m\u001B[0mX1\u001B[0m\u001B[0;34m)\u001B[0m\u001B[0;34m\u001B[0m\u001B[0;34m\u001B[0m\u001B[0m\n\u001B[0m\u001B[1;32m     94\u001B[0m         \u001B[0my\u001B[0m \u001B[0;34m=\u001B[0m \u001B[0mself\u001B[0m\u001B[0;34m.\u001B[0m\u001B[0madder\u001B[0m\u001B[0;34m(\u001B[0m\u001B[0my\u001B[0m\u001B[0;34m,\u001B[0m \u001B[0mmask\u001B[0m\u001B[0;34m=\u001B[0m\u001B[0mmask\u001B[0m\u001B[0;34m)\u001B[0m\u001B[0;34m\u001B[0m\u001B[0;34m\u001B[0m\u001B[0m\n\u001B[1;32m     95\u001B[0m         \u001B[0my\u001B[0m \u001B[0;34m=\u001B[0m \u001B[0mtorch\u001B[0m\u001B[0;34m.\u001B[0m\u001B[0mcat\u001B[0m\u001B[0;34m(\u001B[0m\u001B[0;34m(\u001B[0m\u001B[0my\u001B[0m\u001B[0;34m,\u001B[0m \u001B[0mX2\u001B[0m\u001B[0;34m.\u001B[0m\u001B[0munsqueeze\u001B[0m\u001B[0;34m(\u001B[0m\u001B[0;36m2\u001B[0m\u001B[0;34m)\u001B[0m\u001B[0;34m)\u001B[0m\u001B[0;34m,\u001B[0m \u001B[0mdim\u001B[0m\u001B[0;34m=\u001B[0m\u001B[0;36m1\u001B[0m\u001B[0;34m)\u001B[0m\u001B[0;34m.\u001B[0m\u001B[0msqueeze\u001B[0m\u001B[0;34m(\u001B[0m\u001B[0;34m)\u001B[0m\u001B[0;34m\u001B[0m\u001B[0;34m\u001B[0m\u001B[0m\n",
      "\u001B[0;32m~/miniconda3/envs/astro/lib/python3.8/site-packages/torch/nn/modules/module.py\u001B[0m in \u001B[0;36m_call_impl\u001B[0;34m(self, *input, **kwargs)\u001B[0m\n\u001B[1;32m   1049\u001B[0m         if not (self._backward_hooks or self._forward_hooks or self._forward_pre_hooks or _global_backward_hooks\n\u001B[1;32m   1050\u001B[0m                 or _global_forward_hooks or _global_forward_pre_hooks):\n\u001B[0;32m-> 1051\u001B[0;31m             \u001B[0;32mreturn\u001B[0m \u001B[0mforward_call\u001B[0m\u001B[0;34m(\u001B[0m\u001B[0;34m*\u001B[0m\u001B[0minput\u001B[0m\u001B[0;34m,\u001B[0m \u001B[0;34m**\u001B[0m\u001B[0mkwargs\u001B[0m\u001B[0;34m)\u001B[0m\u001B[0;34m\u001B[0m\u001B[0;34m\u001B[0m\u001B[0m\n\u001B[0m\u001B[1;32m   1052\u001B[0m         \u001B[0;31m# Do not call functions when jit is used\u001B[0m\u001B[0;34m\u001B[0m\u001B[0;34m\u001B[0m\u001B[0;34m\u001B[0m\u001B[0m\n\u001B[1;32m   1053\u001B[0m         \u001B[0mfull_backward_hooks\u001B[0m\u001B[0;34m,\u001B[0m \u001B[0mnon_full_backward_hooks\u001B[0m \u001B[0;34m=\u001B[0m \u001B[0;34m[\u001B[0m\u001B[0;34m]\u001B[0m\u001B[0;34m,\u001B[0m \u001B[0;34m[\u001B[0m\u001B[0;34m]\u001B[0m\u001B[0;34m\u001B[0m\u001B[0;34m\u001B[0m\u001B[0m\n",
      "\u001B[0;32m~/miniconda3/envs/astro/lib/python3.8/site-packages/torch/nn/modules/container.py\u001B[0m in \u001B[0;36mforward\u001B[0;34m(self, input)\u001B[0m\n\u001B[1;32m    137\u001B[0m     \u001B[0;32mdef\u001B[0m \u001B[0mforward\u001B[0m\u001B[0;34m(\u001B[0m\u001B[0mself\u001B[0m\u001B[0;34m,\u001B[0m \u001B[0minput\u001B[0m\u001B[0;34m)\u001B[0m\u001B[0;34m:\u001B[0m\u001B[0;34m\u001B[0m\u001B[0;34m\u001B[0m\u001B[0m\n\u001B[1;32m    138\u001B[0m         \u001B[0;32mfor\u001B[0m \u001B[0mmodule\u001B[0m \u001B[0;32min\u001B[0m \u001B[0mself\u001B[0m\u001B[0;34m:\u001B[0m\u001B[0;34m\u001B[0m\u001B[0;34m\u001B[0m\u001B[0m\n\u001B[0;32m--> 139\u001B[0;31m             \u001B[0minput\u001B[0m \u001B[0;34m=\u001B[0m \u001B[0mmodule\u001B[0m\u001B[0;34m(\u001B[0m\u001B[0minput\u001B[0m\u001B[0;34m)\u001B[0m\u001B[0;34m\u001B[0m\u001B[0;34m\u001B[0m\u001B[0m\n\u001B[0m\u001B[1;32m    140\u001B[0m         \u001B[0;32mreturn\u001B[0m \u001B[0minput\u001B[0m\u001B[0;34m\u001B[0m\u001B[0;34m\u001B[0m\u001B[0m\n\u001B[1;32m    141\u001B[0m \u001B[0;34m\u001B[0m\u001B[0m\n",
      "\u001B[0;32m~/miniconda3/envs/astro/lib/python3.8/site-packages/torch/nn/modules/module.py\u001B[0m in \u001B[0;36m_call_impl\u001B[0;34m(self, *input, **kwargs)\u001B[0m\n\u001B[1;32m   1049\u001B[0m         if not (self._backward_hooks or self._forward_hooks or self._forward_pre_hooks or _global_backward_hooks\n\u001B[1;32m   1050\u001B[0m                 or _global_forward_hooks or _global_forward_pre_hooks):\n\u001B[0;32m-> 1051\u001B[0;31m             \u001B[0;32mreturn\u001B[0m \u001B[0mforward_call\u001B[0m\u001B[0;34m(\u001B[0m\u001B[0;34m*\u001B[0m\u001B[0minput\u001B[0m\u001B[0;34m,\u001B[0m \u001B[0;34m**\u001B[0m\u001B[0mkwargs\u001B[0m\u001B[0;34m)\u001B[0m\u001B[0;34m\u001B[0m\u001B[0;34m\u001B[0m\u001B[0m\n\u001B[0m\u001B[1;32m   1052\u001B[0m         \u001B[0;31m# Do not call functions when jit is used\u001B[0m\u001B[0;34m\u001B[0m\u001B[0;34m\u001B[0m\u001B[0;34m\u001B[0m\u001B[0m\n\u001B[1;32m   1053\u001B[0m         \u001B[0mfull_backward_hooks\u001B[0m\u001B[0;34m,\u001B[0m \u001B[0mnon_full_backward_hooks\u001B[0m \u001B[0;34m=\u001B[0m \u001B[0;34m[\u001B[0m\u001B[0;34m]\u001B[0m\u001B[0;34m,\u001B[0m \u001B[0;34m[\u001B[0m\u001B[0;34m]\u001B[0m\u001B[0;34m\u001B[0m\u001B[0;34m\u001B[0m\u001B[0m\n",
      "\u001B[0;32m~/miniconda3/envs/astro/lib/python3.8/site-packages/torch/nn/modules/linear.py\u001B[0m in \u001B[0;36mforward\u001B[0;34m(self, input)\u001B[0m\n\u001B[1;32m     94\u001B[0m \u001B[0;34m\u001B[0m\u001B[0m\n\u001B[1;32m     95\u001B[0m     \u001B[0;32mdef\u001B[0m \u001B[0mforward\u001B[0m\u001B[0;34m(\u001B[0m\u001B[0mself\u001B[0m\u001B[0;34m,\u001B[0m \u001B[0minput\u001B[0m\u001B[0;34m:\u001B[0m \u001B[0mTensor\u001B[0m\u001B[0;34m)\u001B[0m \u001B[0;34m->\u001B[0m \u001B[0mTensor\u001B[0m\u001B[0;34m:\u001B[0m\u001B[0;34m\u001B[0m\u001B[0;34m\u001B[0m\u001B[0m\n\u001B[0;32m---> 96\u001B[0;31m         \u001B[0;32mreturn\u001B[0m \u001B[0mF\u001B[0m\u001B[0;34m.\u001B[0m\u001B[0mlinear\u001B[0m\u001B[0;34m(\u001B[0m\u001B[0minput\u001B[0m\u001B[0;34m,\u001B[0m \u001B[0mself\u001B[0m\u001B[0;34m.\u001B[0m\u001B[0mweight\u001B[0m\u001B[0;34m,\u001B[0m \u001B[0mself\u001B[0m\u001B[0;34m.\u001B[0m\u001B[0mbias\u001B[0m\u001B[0;34m)\u001B[0m\u001B[0;34m\u001B[0m\u001B[0;34m\u001B[0m\u001B[0m\n\u001B[0m\u001B[1;32m     97\u001B[0m \u001B[0;34m\u001B[0m\u001B[0m\n\u001B[1;32m     98\u001B[0m     \u001B[0;32mdef\u001B[0m \u001B[0mextra_repr\u001B[0m\u001B[0;34m(\u001B[0m\u001B[0mself\u001B[0m\u001B[0;34m)\u001B[0m \u001B[0;34m->\u001B[0m \u001B[0mstr\u001B[0m\u001B[0;34m:\u001B[0m\u001B[0;34m\u001B[0m\u001B[0;34m\u001B[0m\u001B[0m\n",
      "\u001B[0;32m~/miniconda3/envs/astro/lib/python3.8/site-packages/torch/nn/functional.py\u001B[0m in \u001B[0;36mlinear\u001B[0;34m(input, weight, bias)\u001B[0m\n\u001B[1;32m   1845\u001B[0m     \u001B[0;32mif\u001B[0m \u001B[0mhas_torch_function_variadic\u001B[0m\u001B[0;34m(\u001B[0m\u001B[0minput\u001B[0m\u001B[0;34m,\u001B[0m \u001B[0mweight\u001B[0m\u001B[0;34m)\u001B[0m\u001B[0;34m:\u001B[0m\u001B[0;34m\u001B[0m\u001B[0;34m\u001B[0m\u001B[0m\n\u001B[1;32m   1846\u001B[0m         \u001B[0;32mreturn\u001B[0m \u001B[0mhandle_torch_function\u001B[0m\u001B[0;34m(\u001B[0m\u001B[0mlinear\u001B[0m\u001B[0;34m,\u001B[0m \u001B[0;34m(\u001B[0m\u001B[0minput\u001B[0m\u001B[0;34m,\u001B[0m \u001B[0mweight\u001B[0m\u001B[0;34m)\u001B[0m\u001B[0;34m,\u001B[0m \u001B[0minput\u001B[0m\u001B[0;34m,\u001B[0m \u001B[0mweight\u001B[0m\u001B[0;34m,\u001B[0m \u001B[0mbias\u001B[0m\u001B[0;34m=\u001B[0m\u001B[0mbias\u001B[0m\u001B[0;34m)\u001B[0m\u001B[0;34m\u001B[0m\u001B[0;34m\u001B[0m\u001B[0m\n\u001B[0;32m-> 1847\u001B[0;31m     \u001B[0;32mreturn\u001B[0m \u001B[0mtorch\u001B[0m\u001B[0;34m.\u001B[0m\u001B[0m_C\u001B[0m\u001B[0;34m.\u001B[0m\u001B[0m_nn\u001B[0m\u001B[0;34m.\u001B[0m\u001B[0mlinear\u001B[0m\u001B[0;34m(\u001B[0m\u001B[0minput\u001B[0m\u001B[0;34m,\u001B[0m \u001B[0mweight\u001B[0m\u001B[0;34m,\u001B[0m \u001B[0mbias\u001B[0m\u001B[0;34m)\u001B[0m\u001B[0;34m\u001B[0m\u001B[0;34m\u001B[0m\u001B[0m\n\u001B[0m\u001B[1;32m   1848\u001B[0m \u001B[0;34m\u001B[0m\u001B[0m\n\u001B[1;32m   1849\u001B[0m \u001B[0;34m\u001B[0m\u001B[0m\n",
      "\u001B[0;31mKeyboardInterrupt\u001B[0m: "
     ]
    }
   ],
   "source": [
    "for area in areas:\n",
    "    with open(f'data/{area}/{area}_512_robust.pickle', 'rb') as f:\n",
    "        trainset = pickle.load(f)\n",
    "        f.close()\n",
    "    with open(f'data/{area}/{area}_test_512_robust.pickle', 'rb') as f:\n",
    "        testset = pickle.load(f)\n",
    "        f.close()\n",
    "\n",
    "    if area == \"north\":\n",
    "        max_set_len = 30\n",
    "    elif area == \"south\":\n",
    "        max_set_len = 25\n",
    "    else:\n",
    "        max_set_len = 40\n",
    "    df_test = pd.DataFrame.from_dict(testset, orient='index')\n",
    "    df_train = pd.DataFrame.from_dict(trainset, orient='index')\n",
    "    print(len(df_test), len(df_train))\n",
    "    df_test = df_test.append(df_train)\n",
    "    print(len(df_test))\n",
    "\n",
    "\n",
    "\n",
    "    testdata = MultiSetSequence(dict=df_test.to_dict(orient='index'), num_pixels=len(df_test),\n",
    "                                max_ccds=max_set_len, num_features=5, test=True)\n",
    "\n",
    "\n",
    "\n",
    "\n",
    "    pixel_id = testdata.pixel_id\n",
    "\n",
    "\n",
    "    for gal in galaxies:\n",
    "        testdata.set_targets(gal_type=gal)\n",
    "\n",
    "        best_val = -100\n",
    "        for model in os.listdir(f\"trained_models/{area}/{gal}\"):\n",
    "            try:\n",
    "                int(model[:-3])\n",
    "                continue\n",
    "\n",
    "            except:\n",
    "                val = float(model[:-3])\n",
    "                if val > best_val:\n",
    "                    best_val = val\n",
    "\n",
    "        print(f' Area: {area}. Gal: {gal}. Best val: {best_val}.')\n",
    "        print()\n",
    "        model = torch.load(f\"trained_models/{area}/{gal}/{best_val}.pt\",\n",
    "                           map_location=torch.device('cpu'))\n",
    "\n",
    "        testloader = torch.utils.data.DataLoader(testdata, batch_size=128, shuffle=False)\n",
    "\n",
    "        model.eval()\n",
    "        y_pred = np.array([])\n",
    "        y_gold = np.array([])\n",
    "\n",
    "        with torch.no_grad():\n",
    "            for i, (X1, X2, labels, set_sizes) in enumerate(testloader):\n",
    "                # Extract inputs and associated labels from dataloader batch\n",
    "                X1 = X1.to(device)\n",
    "\n",
    "                X2 = X2.to(device)\n",
    "\n",
    "                labels = labels.to(device)\n",
    "\n",
    "                set_sizes = set_sizes.to(device)\n",
    "\n",
    "                mask = get_mask(set_sizes, X1.shape[2])\n",
    "                # Predict outputs (forward pass)\n",
    "\n",
    "                outputs = model(X1, X2, mask=mask)\n",
    "                # Predict outputs (forward pass)\n",
    "                # Get predictions and append to label array + count number of correct and total\n",
    "                y_pred = np.append(y_pred, outputs.cpu().detach().numpy())\n",
    "                y_gold = np.append(y_gold, labels.cpu().detach().numpy())\n",
    "\n",
    "            print(len(y_pred))\n",
    "            r2 = metrics.r2_score(y_gold, y_pred)\n",
    "            rmse = math.sqrt(metrics.mean_squared_error(y_gold, y_pred))\n",
    "            mae = metrics.mean_absolute_error(y_gold, y_pred)\n",
    "\n",
    "            print()\n",
    "            print(f\" XXXXXX======== TRIAL {area} - {gal} ended\")\n",
    "            print()\n",
    "            print(\"Test Set - R-squared: \", r2)\n",
    "            print(\"Test Set - RMSE: \", rmse)\n",
    "            print(\"Test Set - MAE: \", mae)\n",
    "\n",
    "        ax = np.stack((pixel_id, y_pred, y_gold), axis=1)\n",
    "        df_deep = pd.DataFrame(ax, columns=['pixel_id', f'{gal}_deep', 'y_gold'])\n",
    "\n",
    "\n",
    "        df_deep = df_deep.dropna()\n",
    "        df_deep.pixel_id = df_deep.pixel_id.astype(int)\n",
    "\n",
    "        if area == 'north':\n",
    "            df_north = df_north.merge(df_deep, how='inner', on='pixel_id')\n",
    "        elif area == 'south':\n",
    "            df_south = df_south.merge(df_deep, how='inner', on='pixel_id')\n",
    "        else:\n",
    "            df_des = df_des.merge(df_deep, how='inner', on='pixel_id')"
   ],
   "metadata": {
    "collapsed": false,
    "pycharm": {
     "name": "#%%\n"
    }
   }
  },
  {
   "cell_type": "code",
   "execution_count": 4,
   "outputs": [
    {
     "name": "stdout",
     "output_type": "stream",
     "text": [
      "Index(['pixel_id', 'lrg', 'elg', 'qso', 'exposures', 'stellar', 'EBV',\n",
      "       'airmass', 'ccdskysb_g', 'ccdskysb_r', 'ccdskysb_z', 'exptime_g',\n",
      "       'exptime_r', 'exptime_z', 'meansky_g', 'meansky_r', 'meansky_z',\n",
      "       'seeing_g', 'seeing_r', 'seeing_z', 'lrg_lin', 'elg_lin', 'qso_lin',\n",
      "       'lrg_nn', 'elg_nn', 'qso_nn', 'lrg_deep', 'y_gold_x', 'elg_deep',\n",
      "       'y_gold_y', 'qso_deep', 'y_gold'],\n",
      "      dtype='object')\n",
      "97512\n",
      "185699\n",
      "86589\n"
     ]
    }
   ],
   "source": [
    "print((df_north.columns))\n",
    "\n",
    "print(len(df_north))\n",
    "print(len(df_south))\n",
    "print(len(df_des))"
   ],
   "metadata": {
    "collapsed": false,
    "pycharm": {
     "name": "#%%\n"
    }
   }
  },
  {
   "cell_type": "code",
   "execution_count": 5,
   "outputs": [
    {
     "name": "stdout",
     "output_type": "stream",
     "text": [
      "   pixel_id  lrg  elg  qso  exposures   stellar       EBV   airmass  \\\n",
      "0    301589   51   97  166   0.453901  0.071429  0.241767  0.327689   \n",
      "1    357501   35  150  176   0.347518  0.109244  0.116351  0.256850   \n",
      "2    219584   31  113  138   0.304965  0.260504  0.136105  0.636057   \n",
      "3    172905   26  107  143   0.588652  0.100840  0.142525  0.485916   \n",
      "4    192669   22  165  157   0.368794  0.075630  0.074714  0.729906   \n",
      "\n",
      "   ccdskysb_g  ccdskysb_r  ...     qso_lin     lrg_nn      elg_nn      qso_nn  \\\n",
      "0    0.572745    0.713239  ...  157.051357  33.720192  120.536476  159.514908   \n",
      "1    0.579899    0.518977  ...  163.857720  34.181618  137.651093  162.061188   \n",
      "2    0.648851    0.759491  ...  172.237911  34.980652  131.027618  169.156662   \n",
      "3    0.452184    0.642542  ...  150.417669  33.316101  126.970894  161.554245   \n",
      "4    0.507952    0.751045  ...  159.760059  32.805458  128.063950  161.738083   \n",
      "\n",
      "    lrg_deep  y_gold_x    elg_deep  y_gold_y    qso_deep  y_gold  \n",
      "0  33.693714      51.0  116.425659      97.0  160.239944   166.0  \n",
      "1  33.752350      35.0  146.139771     150.0  158.950073   176.0  \n",
      "2  35.294655      31.0  129.842941     113.0  161.130753   138.0  \n",
      "3  33.853619      26.0  126.625000     107.0  148.245743   143.0  \n",
      "4  33.416565      22.0  131.748108     165.0  162.222443   157.0  \n",
      "\n",
      "[5 rows x 32 columns]\n"
     ]
    }
   ],
   "source": [
    "\n",
    "print(df_south.head())"
   ],
   "metadata": {
    "collapsed": false,
    "pycharm": {
     "name": "#%%\n"
    }
   }
  },
  {
   "cell_type": "code",
   "execution_count": null,
   "outputs": [],
   "source": [
    "to_drop =['pixel_id', 'exposures', 'hinh',\n",
    "       'gaia', 'gaia12', 'sagitarius', 'stellar', 'EBV', 'airmass',\n",
    "       'ccdskysb_g', 'ccdskysb_r', 'ccdskysb_z', 'ccdskycounts_g',\n",
    "       'ccdskycounts_r', 'ccdskycounts_z', 'seeing_g', 'seeing_r', 'seeing_z', 'y_gold_x',\n",
    "       'y_gold_y', 'y_gold']\n",
    "\n",
    "df_north = df_north.drop(columns=to_drop, axis=1, inplace=False)\n",
    "df_south = df_south.drop(columns=to_drop, axis=1, inplace=False)\n",
    "df_des = df_des.drop(columns=to_drop, axis=1, inplace=False)\n"
   ],
   "metadata": {
    "collapsed": false,
    "pycharm": {
     "name": "#%%\n"
    }
   }
  },
  {
   "cell_type": "code",
   "execution_count": 7,
   "outputs": [],
   "source": [
    "df_north.to_csv(f'../regression/results/north_compare.csv', index=False)\n",
    "df_south.to_csv(f'../regression/results/south_compare.csv', index=False)\n",
    "df_des.to_csv(f'../regression/results/des_compare.csv', index=False)\n",
    "\n",
    "\n"
   ],
   "metadata": {
    "collapsed": false,
    "pycharm": {
     "name": "#%%\n"
    }
   }
  },
  {
   "cell_type": "code",
   "execution_count": null,
   "outputs": [],
   "source": [],
   "metadata": {
    "collapsed": false,
    "pycharm": {
     "name": "#%%\n"
    }
   }
  }
 ],
 "metadata": {
  "kernelspec": {
   "display_name": "Python 3",
   "language": "python",
   "name": "python3"
  },
  "language_info": {
   "codemirror_mode": {
    "name": "ipython",
    "version": 2
   },
   "file_extension": ".py",
   "mimetype": "text/x-python",
   "name": "python",
   "nbconvert_exporter": "python",
   "pygments_lexer": "ipython2",
   "version": "2.7.6"
  }
 },
 "nbformat": 4,
 "nbformat_minor": 0
}