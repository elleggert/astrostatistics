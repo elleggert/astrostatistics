{
 "cells": [
  {
   "cell_type": "code",
   "execution_count": 1,
   "metadata": {
    "collapsed": true
   },
   "outputs": [],
   "source": [
    "import numpy as np\n",
    "import pickle\n",
    "import matplotlib.pyplot as plt\n",
    "import healpy as hp\n",
    "from sklearn.model_selection import train_test_split\n",
    "\n",
    "from set_dataloader import CCD\n",
    "import time\n",
    "import pandas as pd\n",
    "import random\n",
    "from datasets import MultiSetSequence"
   ]
  },
  {
   "cell_type": "code",
   "execution_count": 5,
   "outputs": [
    {
     "name": "stdout",
     "output_type": "stream",
     "text": [
      "330\n",
      "(1000, 64, 30, 9)\n",
      "(1000, 64)\n",
      "1000\n",
      "[ 9  8  8  8  9  8  8  9  8 11  9  9  9 11 11 10  9 10  9 12 12  9  8  8\n",
      "  9 11 11 11  9  9  8  9 11 11 11 11  9  9  9  8 11 10 11  7  7  8 10 10\n",
      " 10  8  9 11 11 11  9  8 11  9 10 13 13 13 13  9]\n"
     ]
    }
   ],
   "source": [
    "with open('../../bricks_data/mini_multiset.pickle', 'rb') as f:\n",
    "    mini_multiset = pickle.load(f)\n",
    "    f.close()\n",
    "df = pd.DataFrame.from_dict(mini_multiset, orient='index')\n",
    "train_df, test_df = train_test_split(df, test_size=0.33, random_state=44, shuffle=True)\n",
    "\n",
    "mini_multiset = test_df.to_dict(orient='index')\n",
    "\n",
    "print(len(mini_multiset))\n",
    "set = MultiSetSequence()\n",
    "print(set.input.shape)\n",
    "print(set.lengths.shape)\n",
    "set.set_targets('lrg')\n",
    "print(len(set.target))\n",
    "\n",
    "print(set.lengths[0])\n",
    "\n"
   ],
   "metadata": {
    "collapsed": false,
    "pycharm": {
     "name": "#%%\n"
    }
   }
  },
  {
   "cell_type": "code",
   "execution_count": 80,
   "outputs": [
    {
     "data": {
      "text/plain": "                                                        0  \\\n330597  [[[0.0, 1.0, 130.0, 1.409999966621399, 0.90323...   \n259217  [[[2.0, 1.0, 192.0, 2.0199999809265137, 1.1446...   \n717626  [[[0.0, 1.0, 90.0, 1.3799999952316284, 1.13284...   \n479652  [[[1.0, 1.0, 40.0, 1.2599999904632568, 0.92971...   \n660145  [[[0.0, 1.0, 90.0, 1.0399999618530273, 1.31294...   \n\n                                                        1   2    3    4  \n330597  [14, 14, 14, 10, 10, 7, 14, 14, 14, 10, 14, 14...  30  117  118  \n259217  [13, 13, 10, 13, 13, 13, 13, 13, 10, 10, 6, 6,...  21   66   84  \n717626  [27, 28, 29, 30, 30, 30, 30, 30, 30, 30, 24, 2...   3   30   42  \n479652  [11, 13, 13, 13, 14, 15, 10, 10, 10, 12, 14, 1...  29   67   93  \n660145  [28, 26, 26, 26, 22, 21, 27, 23, 22, 22, 27, 2...   4   11   23  ",
      "text/html": "<div>\n<style scoped>\n    .dataframe tbody tr th:only-of-type {\n        vertical-align: middle;\n    }\n\n    .dataframe tbody tr th {\n        vertical-align: top;\n    }\n\n    .dataframe thead th {\n        text-align: right;\n    }\n</style>\n<table border=\"1\" class=\"dataframe\">\n  <thead>\n    <tr style=\"text-align: right;\">\n      <th></th>\n      <th>0</th>\n      <th>1</th>\n      <th>2</th>\n      <th>3</th>\n      <th>4</th>\n    </tr>\n  </thead>\n  <tbody>\n    <tr>\n      <th>330597</th>\n      <td>[[[0.0, 1.0, 130.0, 1.409999966621399, 0.90323...</td>\n      <td>[14, 14, 14, 10, 10, 7, 14, 14, 14, 10, 14, 14...</td>\n      <td>30</td>\n      <td>117</td>\n      <td>118</td>\n    </tr>\n    <tr>\n      <th>259217</th>\n      <td>[[[2.0, 1.0, 192.0, 2.0199999809265137, 1.1446...</td>\n      <td>[13, 13, 10, 13, 13, 13, 13, 13, 10, 10, 6, 6,...</td>\n      <td>21</td>\n      <td>66</td>\n      <td>84</td>\n    </tr>\n    <tr>\n      <th>717626</th>\n      <td>[[[0.0, 1.0, 90.0, 1.3799999952316284, 1.13284...</td>\n      <td>[27, 28, 29, 30, 30, 30, 30, 30, 30, 30, 24, 2...</td>\n      <td>3</td>\n      <td>30</td>\n      <td>42</td>\n    </tr>\n    <tr>\n      <th>479652</th>\n      <td>[[[1.0, 1.0, 40.0, 1.2599999904632568, 0.92971...</td>\n      <td>[11, 13, 13, 13, 14, 15, 10, 10, 10, 12, 14, 1...</td>\n      <td>29</td>\n      <td>67</td>\n      <td>93</td>\n    </tr>\n    <tr>\n      <th>660145</th>\n      <td>[[[0.0, 1.0, 90.0, 1.0399999618530273, 1.31294...</td>\n      <td>[28, 26, 26, 26, 22, 21, 27, 23, 22, 22, 27, 2...</td>\n      <td>4</td>\n      <td>11</td>\n      <td>23</td>\n    </tr>\n  </tbody>\n</table>\n</div>"
     },
     "execution_count": 80,
     "metadata": {},
     "output_type": "execute_result"
    }
   ],
   "source": [
    "df = pd.DataFrame.from_dict(mini_multiset, orient='index')\n",
    "\n",
    "pix_train, pix_test= train_test_split(df, test_size=0.33, random_state=44, shuffle=True)\n",
    "pix_train.head()\n",
    "pix_test.head()"
   ],
   "metadata": {
    "collapsed": false,
    "pycharm": {
     "name": "#%%\n"
    }
   }
  },
  {
   "cell_type": "code",
   "execution_count": null,
   "outputs": [],
   "source": [
    "mini_multiset_tr = pix_train.to_dict(orient='index')\n",
    "mini_multiset_te = pix_test.to_dict(orient='index')\n",
    "\n"
   ],
   "metadata": {
    "collapsed": false,
    "pycharm": {
     "name": "#%%\n"
    }
   }
  },
  {
   "cell_type": "code",
   "execution_count": 52,
   "outputs": [
    {
     "name": "stdout",
     "output_type": "stream",
     "text": [
      "(670, 64, 30, 9)\n",
      "(670, 64)\n"
     ]
    },
    {
     "data": {
      "text/plain": "'\\n        self.num_features = num_features\\n        self.lengths = np.zeros((num_pixels,num_subpixels), dtype=int)\\n\\n'"
     },
     "execution_count": 52,
     "metadata": {},
     "output_type": "execute_result"
    }
   ],
   "source": [
    "lrg = pix_train.lrg.to_numpy()\n",
    "elg = pix_train.elg.to_numpy()\n",
    "qso = pix_train.qso.to_numpy()\n",
    "inputs_temp = pix_train.input.to_numpy()\n",
    "lengths_temp = pix_train.lengths.to_numpy()\n",
    "num_pixels = len(pix_train)\n",
    "a = inputs_temp[0].shape\n",
    "num_subpixels = a[0]\n",
    "max_ccds = a[1]\n",
    "num_features = a[2]\n",
    "input = np.zeros((num_pixels, num_subpixels, max_ccds, num_features))\n",
    "lengths = np.zeros((num_pixels,num_subpixels), dtype=int)\n",
    "\n",
    "print(input.shape)\n",
    "print(lengths.shape)\n",
    "\n",
    "for i in range(num_pixels):\n",
    "    input[i] = inputs_temp[i]\n",
    "    lengths[i] = self.mini_multiset[pix][1]"
   ],
   "metadata": {
    "collapsed": false,
    "pycharm": {
     "name": "#%%\n"
    }
   }
  },
  {
   "cell_type": "code",
   "execution_count": 19,
   "outputs": [
    {
     "name": "stdout",
     "output_type": "stream",
     "text": [
      "670\n"
     ]
    }
   ],
   "source": [
    "# Initialise DataSet\n",
    "num_pixels = 10\n",
    "num_features = 7\n",
    "num_subpixels = 64\n",
    "max_ccds = 30\n",
    "\n",
    "keys = list(mini_multiset.keys())\n",
    "\n",
    "pix_train, pix_test= train_test_split(keys, test_size=0.33, random_state=44, shuffle=True)\n",
    "\n",
    "print(len(pix_train))"
   ],
   "metadata": {
    "collapsed": false,
    "pycharm": {
     "name": "#%%\n"
    }
   }
  },
  {
   "cell_type": "markdown",
   "source": [
    "#### Experimenting with input sizes"
   ],
   "metadata": {
    "collapsed": false
   }
  },
  {
   "cell_type": "code",
   "execution_count": 2,
   "outputs": [
    {
     "name": "stdout",
     "output_type": "stream",
     "text": [
      "\n",
      "12.409 minutes (7.45e+02 seconds) taken to import the dict\n",
      "\n"
     ]
    }
   ],
   "source": [
    "time_start = time.time()\n",
    "\n",
    "# For DECAM, BASS, MzLS\n",
    "with open('../../bricks_data/pixel2ccd_2048_non_inclusive.pickle', 'rb') as f:\n",
    "    subpixel2ccd_dict = pickle.load(f)\n",
    "    f.close()\n",
    "\n",
    "time_end = time.time()\n",
    "time_passed = time_end - time_start\n",
    "print()\n",
    "print(f\"{time_passed / 60:.5} minutes ({time_passed:.3} seconds) taken to import the dict\")\n",
    "print()"
   ],
   "metadata": {
    "collapsed": false,
    "pycharm": {
     "name": "#%%\n"
    }
   }
  },
  {
   "cell_type": "code",
   "execution_count": 3,
   "outputs": [
    {
     "name": "stdout",
     "output_type": "stream",
     "text": [
      "28536897\n"
     ]
    }
   ],
   "source": [
    "print(len(subpixel2ccd_dict))"
   ],
   "metadata": {
    "collapsed": false,
    "pycharm": {
     "name": "#%%\n"
    }
   }
  },
  {
   "cell_type": "code",
   "execution_count": 4,
   "outputs": [
    {
     "name": "stdout",
     "output_type": "stream",
     "text": [
      "\n",
      "0.085275 minutes (5.12 seconds) taken to import the dict\n",
      "\n"
     ]
    }
   ],
   "source": [
    "time_start = time.time()\n",
    "\n",
    "# For DECAM, BASS, MzLS\n",
    "with open('../../bricks_data/pixel2subpixel_256_2048.pickle', 'rb') as f:\n",
    "    pixel2subpixel_dict = pickle.load(f)\n",
    "    f.close()\n",
    "\n",
    "time_end = time.time()\n",
    "time_passed = time_end - time_start\n",
    "print()\n",
    "print(f\"{time_passed / 60:.5} minutes ({time_passed:.3} seconds) taken to import the dict\")\n",
    "print()"
   ],
   "metadata": {
    "collapsed": false,
    "pycharm": {
     "name": "#%%\n"
    }
   }
  },
  {
   "cell_type": "code",
   "execution_count": 52,
   "outputs": [],
   "source": [
    "df = pd.read_csv('../../bricks_data/north.csv')\n"
   ],
   "metadata": {
    "collapsed": false,
    "pycharm": {
     "name": "#%%\n"
    }
   }
  },
  {
   "cell_type": "code",
   "execution_count": 53,
   "outputs": [
    {
     "data": {
      "text/plain": "   pixel_id       lrg       elg       qso  exposures   stellar       EBV  \\\n0      1672 -0.461533 -0.311995 -0.334279   0.062937  0.092050  0.583346   \n1      1673 -0.546554 -0.295994 -0.308173   0.076923  0.100418  0.616622   \n2      1674 -0.546554 -0.663997 -0.419126   0.069930  0.062762  0.653722   \n3      1675 -0.093108 -0.175993 -0.047106   0.076923  0.075314  0.957369   \n4      1676 -0.206469 -0.471996 -0.406073   0.090909  0.112971  0.964003   \n\n    airmass  ccdskysb_g  ccdskysb_r  ccdskysb_z  exptime_g  exptime_r  \\\n0  0.658047    0.818045    0.266036    0.506253   0.779229   0.797941   \n1  0.667571    0.744820    0.214728    0.425562   0.779229   0.927501   \n2  0.681204    0.744614    0.610921    0.528572   0.779229   0.927501   \n3  0.664880    0.772150    0.237818    0.499584   0.667454   0.885217   \n4  0.664818    0.799687    0.261041    0.558536   0.555680   0.842933   \n\n   exptime_z  meansky_g  meansky_r  meansky_z  seeing_g  seeing_r  seeing_z  \n0   0.777323   0.020559   0.118533   0.014704  0.135904  0.254894  0.090017  \n1   0.708501   0.031362   0.270904   0.019868  0.189797  0.176109  0.072230  \n2   0.707150   0.032851   0.018761   0.012989  0.215572  0.228014  0.107446  \n3   0.637653   0.027640   0.201572   0.014935  0.220258  0.227551  0.085705  \n4   0.680172   0.022430   0.136135   0.011760  0.224945  0.263236  0.135835  ",
      "text/html": "<div>\n<style scoped>\n    .dataframe tbody tr th:only-of-type {\n        vertical-align: middle;\n    }\n\n    .dataframe tbody tr th {\n        vertical-align: top;\n    }\n\n    .dataframe thead th {\n        text-align: right;\n    }\n</style>\n<table border=\"1\" class=\"dataframe\">\n  <thead>\n    <tr style=\"text-align: right;\">\n      <th></th>\n      <th>pixel_id</th>\n      <th>lrg</th>\n      <th>elg</th>\n      <th>qso</th>\n      <th>exposures</th>\n      <th>stellar</th>\n      <th>EBV</th>\n      <th>airmass</th>\n      <th>ccdskysb_g</th>\n      <th>ccdskysb_r</th>\n      <th>ccdskysb_z</th>\n      <th>exptime_g</th>\n      <th>exptime_r</th>\n      <th>exptime_z</th>\n      <th>meansky_g</th>\n      <th>meansky_r</th>\n      <th>meansky_z</th>\n      <th>seeing_g</th>\n      <th>seeing_r</th>\n      <th>seeing_z</th>\n    </tr>\n  </thead>\n  <tbody>\n    <tr>\n      <th>0</th>\n      <td>1672</td>\n      <td>-0.461533</td>\n      <td>-0.311995</td>\n      <td>-0.334279</td>\n      <td>0.062937</td>\n      <td>0.092050</td>\n      <td>0.583346</td>\n      <td>0.658047</td>\n      <td>0.818045</td>\n      <td>0.266036</td>\n      <td>0.506253</td>\n      <td>0.779229</td>\n      <td>0.797941</td>\n      <td>0.777323</td>\n      <td>0.020559</td>\n      <td>0.118533</td>\n      <td>0.014704</td>\n      <td>0.135904</td>\n      <td>0.254894</td>\n      <td>0.090017</td>\n    </tr>\n    <tr>\n      <th>1</th>\n      <td>1673</td>\n      <td>-0.546554</td>\n      <td>-0.295994</td>\n      <td>-0.308173</td>\n      <td>0.076923</td>\n      <td>0.100418</td>\n      <td>0.616622</td>\n      <td>0.667571</td>\n      <td>0.744820</td>\n      <td>0.214728</td>\n      <td>0.425562</td>\n      <td>0.779229</td>\n      <td>0.927501</td>\n      <td>0.708501</td>\n      <td>0.031362</td>\n      <td>0.270904</td>\n      <td>0.019868</td>\n      <td>0.189797</td>\n      <td>0.176109</td>\n      <td>0.072230</td>\n    </tr>\n    <tr>\n      <th>2</th>\n      <td>1674</td>\n      <td>-0.546554</td>\n      <td>-0.663997</td>\n      <td>-0.419126</td>\n      <td>0.069930</td>\n      <td>0.062762</td>\n      <td>0.653722</td>\n      <td>0.681204</td>\n      <td>0.744614</td>\n      <td>0.610921</td>\n      <td>0.528572</td>\n      <td>0.779229</td>\n      <td>0.927501</td>\n      <td>0.707150</td>\n      <td>0.032851</td>\n      <td>0.018761</td>\n      <td>0.012989</td>\n      <td>0.215572</td>\n      <td>0.228014</td>\n      <td>0.107446</td>\n    </tr>\n    <tr>\n      <th>3</th>\n      <td>1675</td>\n      <td>-0.093108</td>\n      <td>-0.175993</td>\n      <td>-0.047106</td>\n      <td>0.076923</td>\n      <td>0.075314</td>\n      <td>0.957369</td>\n      <td>0.664880</td>\n      <td>0.772150</td>\n      <td>0.237818</td>\n      <td>0.499584</td>\n      <td>0.667454</td>\n      <td>0.885217</td>\n      <td>0.637653</td>\n      <td>0.027640</td>\n      <td>0.201572</td>\n      <td>0.014935</td>\n      <td>0.220258</td>\n      <td>0.227551</td>\n      <td>0.085705</td>\n    </tr>\n    <tr>\n      <th>4</th>\n      <td>1676</td>\n      <td>-0.206469</td>\n      <td>-0.471996</td>\n      <td>-0.406073</td>\n      <td>0.090909</td>\n      <td>0.112971</td>\n      <td>0.964003</td>\n      <td>0.664818</td>\n      <td>0.799687</td>\n      <td>0.261041</td>\n      <td>0.558536</td>\n      <td>0.555680</td>\n      <td>0.842933</td>\n      <td>0.680172</td>\n      <td>0.022430</td>\n      <td>0.136135</td>\n      <td>0.011760</td>\n      <td>0.224945</td>\n      <td>0.263236</td>\n      <td>0.135835</td>\n    </tr>\n  </tbody>\n</table>\n</div>"
     },
     "execution_count": 53,
     "metadata": {},
     "output_type": "execute_result"
    }
   ],
   "source": [
    "df.head()"
   ],
   "metadata": {
    "collapsed": false,
    "pycharm": {
     "name": "#%%\n"
    }
   }
  },
  {
   "cell_type": "code",
   "execution_count": 54,
   "outputs": [
    {
     "name": "stdout",
     "output_type": "stream",
     "text": [
      "97537\n"
     ]
    }
   ],
   "source": [
    "print(len(df))\n",
    "lens = np.zeros(len(df)*64)\n",
    "i = 0\n",
    "for pix in df.pixel_id:\n",
    "    subpix = pixel2subpixel_dict[pix]\n",
    "    for sp in subpix:\n",
    "        no_ccds = len(subpixel2ccd_dict[sp])\n",
    "        lens[i] = no_ccds\n",
    "        i += 1"
   ],
   "metadata": {
    "collapsed": false,
    "pycharm": {
     "name": "#%%\n"
    }
   }
  },
  {
   "cell_type": "code",
   "execution_count": 55,
   "outputs": [
    {
     "name": "stdout",
     "output_type": "stream",
     "text": [
      "NORTH\n",
      "Mean CCD's per subpixel: 11.317258130248009\n",
      "Max CCD's per subpixel: 107.0\n",
      "Min CCD's per subpixel: 0.0\n",
      "Pixels in Data: 97537\n",
      "SubPixels in Data: 6242368\n",
      "Pixel with > 15 CCD's: 620565\n",
      "Pixel with > 20 CCD's: 195110\n",
      "Pixel with > 25 CCD's: 41423\n",
      "Pixel with > 30 CCD's: 10592\n",
      "Pixel with > 50 CCD's: 1725\n",
      "Pixel with < 1 CCD's: 79\n"
     ]
    }
   ],
   "source": [
    "print(\"NORTH\")\n",
    "\n",
    "print(\"Mean CCD's per subpixel:\", lens.mean())\n",
    "print(\"Max CCD's per subpixel:\", lens.max())\n",
    "print(\"Min CCD's per subpixel:\", lens.min())\n",
    "print(\"Pixels in Data:\", len(df))\n",
    "print(\"SubPixels in Data:\", len(lens))\n",
    "print(\"Pixel with > 15 CCD's:\", (lens > 15).sum())\n",
    "print(\"Pixel with > 20 CCD's:\", (lens > 20).sum())\n",
    "print(\"Pixel with > 25 CCD's:\", (lens > 25).sum())\n",
    "print(\"Pixel with > 30 CCD's:\", (lens > 30).sum())\n",
    "print(\"Pixel with > 50 CCD's:\", (lens > 50).sum())\n",
    "\n",
    "print(\"Pixel with < 1 CCD's:\", (lens == 0).sum())\n"
   ],
   "metadata": {
    "collapsed": false,
    "pycharm": {
     "name": "#%%\n"
    }
   }
  },
  {
   "cell_type": "code",
   "execution_count": 56,
   "outputs": [],
   "source": [
    "df = pd.read_csv('../../bricks_data/south.csv')\n"
   ],
   "metadata": {
    "collapsed": false,
    "pycharm": {
     "name": "#%%\n"
    }
   }
  },
  {
   "cell_type": "code",
   "execution_count": 57,
   "outputs": [
    {
     "data": {
      "text/plain": "   pixel_id       lrg       elg       qso  exposures   stellar       EBV  \\\n0    163021 -0.911537 -0.892391 -0.886591   0.248227  0.008403  0.042324   \n1    163022 -0.970512 -0.869332 -0.886591   0.276596  0.021008  0.035700   \n2    163023 -0.852561 -0.846273 -0.855089   0.248227  0.008403  0.037531   \n3    163024 -0.911537 -0.823214 -0.855089   0.290780  0.004202  0.026577   \n4    164044 -0.911537 -0.631055 -0.703877   0.304965  0.037815  0.047397   \n\n    airmass  ccdskysb_g  ccdskysb_r  ccdskysb_z  exptime_g  exptime_r  \\\n0  0.050530    0.505040    0.586868    0.495489   0.342857   0.366926   \n1  0.043886    0.486966    0.645731    0.486543   0.275197   0.313718   \n2  0.068436    0.487160    0.631053    0.498875   0.212598   0.311416   \n3  0.099477    0.487161    0.630702    0.535571   0.213255   0.311416   \n4  0.070715    0.513482    0.622137    0.491176   0.364567   0.350094   \n\n   exptime_z     meansky_g     meansky_r     meansky_z  seeing_g  seeing_r  \\\n0   0.290535  8.088033e-10  1.645144e-09  1.358697e-10  0.357084  0.169866   \n1   0.382734  7.831891e-10  1.339398e-09  1.102080e-10  0.340597  0.214987   \n2   0.360186  7.242140e-10  1.227535e-09  1.601562e-10  0.288733  0.254686   \n3   0.360188  7.224710e-10  1.226064e-09  1.405067e-10  0.304782  0.234953   \n4   0.284456  7.877555e-10  1.404464e-09  1.175502e-10  0.381747  0.171378   \n\n   seeing_z  \n0  0.222498  \n1  0.451247  \n2  0.407574  \n3  0.426472  \n4  0.226471  ",
      "text/html": "<div>\n<style scoped>\n    .dataframe tbody tr th:only-of-type {\n        vertical-align: middle;\n    }\n\n    .dataframe tbody tr th {\n        vertical-align: top;\n    }\n\n    .dataframe thead th {\n        text-align: right;\n    }\n</style>\n<table border=\"1\" class=\"dataframe\">\n  <thead>\n    <tr style=\"text-align: right;\">\n      <th></th>\n      <th>pixel_id</th>\n      <th>lrg</th>\n      <th>elg</th>\n      <th>qso</th>\n      <th>exposures</th>\n      <th>stellar</th>\n      <th>EBV</th>\n      <th>airmass</th>\n      <th>ccdskysb_g</th>\n      <th>ccdskysb_r</th>\n      <th>ccdskysb_z</th>\n      <th>exptime_g</th>\n      <th>exptime_r</th>\n      <th>exptime_z</th>\n      <th>meansky_g</th>\n      <th>meansky_r</th>\n      <th>meansky_z</th>\n      <th>seeing_g</th>\n      <th>seeing_r</th>\n      <th>seeing_z</th>\n    </tr>\n  </thead>\n  <tbody>\n    <tr>\n      <th>0</th>\n      <td>163021</td>\n      <td>-0.911537</td>\n      <td>-0.892391</td>\n      <td>-0.886591</td>\n      <td>0.248227</td>\n      <td>0.008403</td>\n      <td>0.042324</td>\n      <td>0.050530</td>\n      <td>0.505040</td>\n      <td>0.586868</td>\n      <td>0.495489</td>\n      <td>0.342857</td>\n      <td>0.366926</td>\n      <td>0.290535</td>\n      <td>8.088033e-10</td>\n      <td>1.645144e-09</td>\n      <td>1.358697e-10</td>\n      <td>0.357084</td>\n      <td>0.169866</td>\n      <td>0.222498</td>\n    </tr>\n    <tr>\n      <th>1</th>\n      <td>163022</td>\n      <td>-0.970512</td>\n      <td>-0.869332</td>\n      <td>-0.886591</td>\n      <td>0.276596</td>\n      <td>0.021008</td>\n      <td>0.035700</td>\n      <td>0.043886</td>\n      <td>0.486966</td>\n      <td>0.645731</td>\n      <td>0.486543</td>\n      <td>0.275197</td>\n      <td>0.313718</td>\n      <td>0.382734</td>\n      <td>7.831891e-10</td>\n      <td>1.339398e-09</td>\n      <td>1.102080e-10</td>\n      <td>0.340597</td>\n      <td>0.214987</td>\n      <td>0.451247</td>\n    </tr>\n    <tr>\n      <th>2</th>\n      <td>163023</td>\n      <td>-0.852561</td>\n      <td>-0.846273</td>\n      <td>-0.855089</td>\n      <td>0.248227</td>\n      <td>0.008403</td>\n      <td>0.037531</td>\n      <td>0.068436</td>\n      <td>0.487160</td>\n      <td>0.631053</td>\n      <td>0.498875</td>\n      <td>0.212598</td>\n      <td>0.311416</td>\n      <td>0.360186</td>\n      <td>7.242140e-10</td>\n      <td>1.227535e-09</td>\n      <td>1.601562e-10</td>\n      <td>0.288733</td>\n      <td>0.254686</td>\n      <td>0.407574</td>\n    </tr>\n    <tr>\n      <th>3</th>\n      <td>163024</td>\n      <td>-0.911537</td>\n      <td>-0.823214</td>\n      <td>-0.855089</td>\n      <td>0.290780</td>\n      <td>0.004202</td>\n      <td>0.026577</td>\n      <td>0.099477</td>\n      <td>0.487161</td>\n      <td>0.630702</td>\n      <td>0.535571</td>\n      <td>0.213255</td>\n      <td>0.311416</td>\n      <td>0.360188</td>\n      <td>7.224710e-10</td>\n      <td>1.226064e-09</td>\n      <td>1.405067e-10</td>\n      <td>0.304782</td>\n      <td>0.234953</td>\n      <td>0.426472</td>\n    </tr>\n    <tr>\n      <th>4</th>\n      <td>164044</td>\n      <td>-0.911537</td>\n      <td>-0.631055</td>\n      <td>-0.703877</td>\n      <td>0.304965</td>\n      <td>0.037815</td>\n      <td>0.047397</td>\n      <td>0.070715</td>\n      <td>0.513482</td>\n      <td>0.622137</td>\n      <td>0.491176</td>\n      <td>0.364567</td>\n      <td>0.350094</td>\n      <td>0.284456</td>\n      <td>7.877555e-10</td>\n      <td>1.404464e-09</td>\n      <td>1.175502e-10</td>\n      <td>0.381747</td>\n      <td>0.171378</td>\n      <td>0.226471</td>\n    </tr>\n  </tbody>\n</table>\n</div>"
     },
     "execution_count": 57,
     "metadata": {},
     "output_type": "execute_result"
    }
   ],
   "source": [
    "df.head()"
   ],
   "metadata": {
    "collapsed": false,
    "pycharm": {
     "name": "#%%\n"
    }
   }
  },
  {
   "cell_type": "code",
   "execution_count": 58,
   "outputs": [
    {
     "name": "stdout",
     "output_type": "stream",
     "text": [
      "185718\n"
     ]
    }
   ],
   "source": [
    "print(len(df))\n",
    "lens = np.zeros(len(df)*64)\n",
    "i = 0\n",
    "for pix in df.pixel_id:\n",
    "    subpix = pixel2subpixel_dict[pix]\n",
    "    for sp in subpix:\n",
    "        no_ccds = len(subpixel2ccd_dict[sp])\n",
    "        lens[i] = no_ccds\n",
    "        i += 1"
   ],
   "metadata": {
    "collapsed": false,
    "pycharm": {
     "name": "#%%\n"
    }
   }
  },
  {
   "cell_type": "code",
   "execution_count": 59,
   "outputs": [
    {
     "name": "stdout",
     "output_type": "stream",
     "text": [
      "SOUTH\n",
      "Mean CCD's per subpixel: 10.687213695629934\n",
      "Max CCD's per subpixel: 88.0\n",
      "Min CCD's per subpixel: 0.0\n",
      "Pixels in Data: 185718\n",
      "SubPixels in Data: 11885952\n",
      "Pixel with > 15 CCD's: 1083517\n",
      "Pixel with > 20 CCD's: 211199\n",
      "Pixel with > 25 CCD's: 32171\n",
      "Pixel with > 30 CCD's: 3518\n",
      "Pixel with > 50 CCD's: 67\n",
      "Pixel with < 1 CCD's: 8976\n"
     ]
    }
   ],
   "source": [
    "print(\"SOUTH\")\n",
    "\n",
    "print(\"Mean CCD's per subpixel:\", lens.mean())\n",
    "print(\"Max CCD's per subpixel:\", lens.max())\n",
    "print(\"Min CCD's per subpixel:\", lens.min())\n",
    "print(\"Pixels in Data:\", len(df))\n",
    "print(\"SubPixels in Data:\", len(lens))\n",
    "print(\"Pixel with > 15 CCD's:\", (lens > 15).sum())\n",
    "print(\"Pixel with > 20 CCD's:\", (lens > 20).sum())\n",
    "print(\"Pixel with > 25 CCD's:\", (lens > 25).sum())\n",
    "print(\"Pixel with > 30 CCD's:\", (lens > 30).sum())\n",
    "print(\"Pixel with > 50 CCD's:\", (lens > 50).sum())\n",
    "\n",
    "print(\"Pixel with < 1 CCD's:\", (lens == 0).sum())"
   ],
   "metadata": {
    "collapsed": false,
    "pycharm": {
     "name": "#%%\n"
    }
   }
  },
  {
   "cell_type": "code",
   "execution_count": 60,
   "outputs": [],
   "source": [
    "df = pd.read_csv('../../bricks_data/des.csv')\n"
   ],
   "metadata": {
    "collapsed": false,
    "pycharm": {
     "name": "#%%\n"
    }
   }
  },
  {
   "cell_type": "code",
   "execution_count": 61,
   "outputs": [
    {
     "data": {
      "text/plain": "   pixel_id       lrg       elg       qso  exposures   stellar       EBV  \\\n0    346500 -0.111225  0.054066  0.041618   0.000000  0.759690  0.501917   \n1    347525  0.103307 -0.098814  0.083765   0.000000  0.821705  0.518172   \n2    349573  0.225897 -0.066629  0.149995   0.008772  0.705426  0.487686   \n3    350596 -0.080577 -0.066629 -0.024612   0.039474  0.620155  0.508737   \n4    354920 -0.448346 -0.002259 -0.211260   0.078947  0.124031  0.405692   \n\n    airmass  ccdskysb_g  ccdskysb_r  ccdskysb_z  exptime_g  exptime_r  \\\n0  0.787068    0.683502    0.717808    0.601552   0.591789   0.045569   \n1  0.803865    0.704756    0.710281    0.609899   0.821069   0.093187   \n2  0.809883    0.682758    0.712073    0.670738   0.591789   0.050894   \n3  0.782988    0.683917    0.718717    0.601217   0.591789   0.045569   \n4  0.773039    0.592356    0.562058    0.535763   0.937258   0.625784   \n\n   exptime_z     meansky_g     meansky_r     meansky_z  seeing_g  seeing_r  \\\n0   0.902970  3.973393e-11  1.926807e-11  1.716318e-11  0.575469  0.397725   \n1   1.000000  3.525216e-11  2.176188e-11  1.624611e-11  0.581897  0.414030   \n2   0.528128  3.870563e-11  1.967882e-11  9.316529e-12  0.594247  0.393132   \n3   0.902970  3.858864e-11  1.921380e-11  1.704449e-11  0.333235  0.448009   \n4   0.995532  7.620004e-11  5.647082e-11  1.195686e-09  0.556086  0.410417   \n\n   seeing_z  \n0  0.859807  \n1  0.901885  \n2  0.814975  \n3  0.863042  \n4  0.754249  ",
      "text/html": "<div>\n<style scoped>\n    .dataframe tbody tr th:only-of-type {\n        vertical-align: middle;\n    }\n\n    .dataframe tbody tr th {\n        vertical-align: top;\n    }\n\n    .dataframe thead th {\n        text-align: right;\n    }\n</style>\n<table border=\"1\" class=\"dataframe\">\n  <thead>\n    <tr style=\"text-align: right;\">\n      <th></th>\n      <th>pixel_id</th>\n      <th>lrg</th>\n      <th>elg</th>\n      <th>qso</th>\n      <th>exposures</th>\n      <th>stellar</th>\n      <th>EBV</th>\n      <th>airmass</th>\n      <th>ccdskysb_g</th>\n      <th>ccdskysb_r</th>\n      <th>ccdskysb_z</th>\n      <th>exptime_g</th>\n      <th>exptime_r</th>\n      <th>exptime_z</th>\n      <th>meansky_g</th>\n      <th>meansky_r</th>\n      <th>meansky_z</th>\n      <th>seeing_g</th>\n      <th>seeing_r</th>\n      <th>seeing_z</th>\n    </tr>\n  </thead>\n  <tbody>\n    <tr>\n      <th>0</th>\n      <td>346500</td>\n      <td>-0.111225</td>\n      <td>0.054066</td>\n      <td>0.041618</td>\n      <td>0.000000</td>\n      <td>0.759690</td>\n      <td>0.501917</td>\n      <td>0.787068</td>\n      <td>0.683502</td>\n      <td>0.717808</td>\n      <td>0.601552</td>\n      <td>0.591789</td>\n      <td>0.045569</td>\n      <td>0.902970</td>\n      <td>3.973393e-11</td>\n      <td>1.926807e-11</td>\n      <td>1.716318e-11</td>\n      <td>0.575469</td>\n      <td>0.397725</td>\n      <td>0.859807</td>\n    </tr>\n    <tr>\n      <th>1</th>\n      <td>347525</td>\n      <td>0.103307</td>\n      <td>-0.098814</td>\n      <td>0.083765</td>\n      <td>0.000000</td>\n      <td>0.821705</td>\n      <td>0.518172</td>\n      <td>0.803865</td>\n      <td>0.704756</td>\n      <td>0.710281</td>\n      <td>0.609899</td>\n      <td>0.821069</td>\n      <td>0.093187</td>\n      <td>1.000000</td>\n      <td>3.525216e-11</td>\n      <td>2.176188e-11</td>\n      <td>1.624611e-11</td>\n      <td>0.581897</td>\n      <td>0.414030</td>\n      <td>0.901885</td>\n    </tr>\n    <tr>\n      <th>2</th>\n      <td>349573</td>\n      <td>0.225897</td>\n      <td>-0.066629</td>\n      <td>0.149995</td>\n      <td>0.008772</td>\n      <td>0.705426</td>\n      <td>0.487686</td>\n      <td>0.809883</td>\n      <td>0.682758</td>\n      <td>0.712073</td>\n      <td>0.670738</td>\n      <td>0.591789</td>\n      <td>0.050894</td>\n      <td>0.528128</td>\n      <td>3.870563e-11</td>\n      <td>1.967882e-11</td>\n      <td>9.316529e-12</td>\n      <td>0.594247</td>\n      <td>0.393132</td>\n      <td>0.814975</td>\n    </tr>\n    <tr>\n      <th>3</th>\n      <td>350596</td>\n      <td>-0.080577</td>\n      <td>-0.066629</td>\n      <td>-0.024612</td>\n      <td>0.039474</td>\n      <td>0.620155</td>\n      <td>0.508737</td>\n      <td>0.782988</td>\n      <td>0.683917</td>\n      <td>0.718717</td>\n      <td>0.601217</td>\n      <td>0.591789</td>\n      <td>0.045569</td>\n      <td>0.902970</td>\n      <td>3.858864e-11</td>\n      <td>1.921380e-11</td>\n      <td>1.704449e-11</td>\n      <td>0.333235</td>\n      <td>0.448009</td>\n      <td>0.863042</td>\n    </tr>\n    <tr>\n      <th>4</th>\n      <td>354920</td>\n      <td>-0.448346</td>\n      <td>-0.002259</td>\n      <td>-0.211260</td>\n      <td>0.078947</td>\n      <td>0.124031</td>\n      <td>0.405692</td>\n      <td>0.773039</td>\n      <td>0.592356</td>\n      <td>0.562058</td>\n      <td>0.535763</td>\n      <td>0.937258</td>\n      <td>0.625784</td>\n      <td>0.995532</td>\n      <td>7.620004e-11</td>\n      <td>5.647082e-11</td>\n      <td>1.195686e-09</td>\n      <td>0.556086</td>\n      <td>0.410417</td>\n      <td>0.754249</td>\n    </tr>\n  </tbody>\n</table>\n</div>"
     },
     "execution_count": 61,
     "metadata": {},
     "output_type": "execute_result"
    }
   ],
   "source": [
    "df.head()"
   ],
   "metadata": {
    "collapsed": false,
    "pycharm": {
     "name": "#%%\n"
    }
   }
  },
  {
   "cell_type": "code",
   "execution_count": 62,
   "outputs": [
    {
     "name": "stdout",
     "output_type": "stream",
     "text": [
      "86631\n"
     ]
    }
   ],
   "source": [
    "print(len(df))\n",
    "lens = np.zeros(len(df)*64)\n",
    "i = 0\n",
    "for pix in df.pixel_id:\n",
    "    subpix = pixel2subpixel_dict[pix]\n",
    "    for sp in subpix:\n",
    "        no_ccds = len(subpixel2ccd_dict[sp])\n",
    "        lens[i] = no_ccds\n",
    "        i += 1"
   ],
   "metadata": {
    "collapsed": false,
    "pycharm": {
     "name": "#%%\n"
    }
   }
  },
  {
   "cell_type": "code",
   "execution_count": 63,
   "outputs": [
    {
     "name": "stdout",
     "output_type": "stream",
     "text": [
      "DES\n",
      "Mean CCD's per subpixel: 28.277259114808786\n",
      "Max CCD's per subpixel: 79.0\n",
      "Min CCD's per subpixel: 0.0\n",
      "Pixels in Data: 86631\n",
      "SubPixels in Data: 5544384\n",
      "Pixel with > 15 CCD's: 5482784\n",
      "Pixel with > 20 CCD's: 5024032\n",
      "Pixel with > 25 CCD's: 3548547\n",
      "Pixel with > 30 CCD's: 1755643\n",
      "Pixel with > 30 CCD's: 279322\n",
      "Pixel with > 30 CCD's: 104980\n",
      "Pixel with > 50 CCD's: 34385\n",
      "Pixel with < 1 CCD's: 93\n"
     ]
    }
   ],
   "source": [
    "print(\"DES\")\n",
    "print(\"Mean CCD's per subpixel:\", lens.mean())\n",
    "print(\"Max CCD's per subpixel:\", lens.max())\n",
    "print(\"Min CCD's per subpixel:\", lens.min())\n",
    "print(\"Pixels in Data:\", len(df))\n",
    "print(\"SubPixels in Data:\", len(lens))\n",
    "print(\"Pixel with > 15 CCD's:\", (lens > 15).sum())\n",
    "print(\"Pixel with > 20 CCD's:\", (lens > 20).sum())\n",
    "print(\"Pixel with > 25 CCD's:\", (lens > 25).sum())\n",
    "print(\"Pixel with > 30 CCD's:\", (lens > 30).sum())\n",
    "print(\"Pixel with > 30 CCD's:\", (lens > 40).sum())\n",
    "print(\"Pixel with > 30 CCD's:\", (lens > 45).sum())\n",
    "print(\"Pixel with > 50 CCD's:\", (lens > 50).sum())\n",
    "\n",
    "print(\"Pixel with < 1 CCD's:\", (lens == 0).sum())\n"
   ],
   "metadata": {
    "collapsed": false,
    "pycharm": {
     "name": "#%%\n"
    }
   }
  },
  {
   "cell_type": "code",
   "execution_count": 6,
   "outputs": [
    {
     "name": "stdout",
     "output_type": "stream",
     "text": [
      "Pixels with more than 50 ccds: 133737\n",
      "Pixels with more than 100 ccds: 39613\n",
      "Pixels with more than 500 ccds: 31431\n",
      "Pixels with more than 1000 ccds: 6968\n"
     ]
    },
    {
     "data": {
      "text/plain": "<Figure size 432x288 with 1 Axes>",
      "image/png": "[encoded data removed]"
     },
     "metadata": {
      "needs_background": "light"
     },
     "output_type": "display_data"
    }
   ],
   "source": [
    "plt.hist(lens, bins=[0, 30, 50, 100])\n",
    "print(\"Pixels with more than 50 ccds:\", (lens > 50).sum())\n",
    "print(\"Pixels with more than 100 ccds:\", (lens > 100).sum())\n",
    "print(\"Pixels with more than 500 ccds:\", (lens > 500).sum())\n",
    "print(\"Pixels with more than 1000 ccds:\", (lens > 1000).sum())"
   ],
   "metadata": {
    "collapsed": false,
    "pycharm": {
     "name": "#%%\n"
    }
   }
  },
  {
   "cell_type": "code",
   "execution_count": 5,
   "outputs": [],
   "source": [
    "with open('../../bricks_data/pixel2ccd_256_non_inclusive.pickle', 'rb') as f:\n",
    "    pixel2ccd_dict = pickle.load(f)\n",
    "    f.close()"
   ],
   "metadata": {
    "collapsed": false,
    "pycharm": {
     "name": "#%%\n"
    }
   }
  },
  {
   "cell_type": "code",
   "execution_count": 8,
   "outputs": [
    {
     "name": "stdout",
     "output_type": "stream",
     "text": [
      "Mean CCD's per pixel: 14.62690079449568\n",
      "Max CCD's per pixel: 2951\n",
      "Min CCD's per pixel: 1\n"
     ]
    }
   ],
   "source": [
    "min = 1000\n",
    "max = 0\n",
    "aggregate = 0\n",
    "index_max = 0\n",
    "lens = np.zeros(len(pixel2ccd_dict))\n",
    "\n",
    "for i, pix in enumerate(pixel2ccd_dict.keys()):\n",
    "    no_ccds = len(pixel2ccd_dict[pix])\n",
    "    lens[i] = no_ccds\n",
    "    aggregate += no_ccds\n",
    "    if no_ccds > max:\n",
    "        max = no_ccds\n",
    "        index_max = pix\n",
    "    if no_ccds < min:\n",
    "        min = no_ccds\n",
    "\n",
    "print(\"Mean CCD's per pixel:\", lens.mean())\n",
    "print(\"Max CCD's per pixel:\", max)\n",
    "print(\"Min CCD's per pixel:\", min)\n"
   ],
   "metadata": {
    "collapsed": false,
    "pycharm": {
     "name": "#%%\n"
    }
   }
  },
  {
   "cell_type": "code",
   "execution_count": 9,
   "outputs": [
    {
     "name": "stdout",
     "output_type": "stream",
     "text": [
      "Pixels with more than 50 ccds: 2020\n",
      "Pixels with more than 100 ccds: 576\n",
      "Pixels with more than 500 ccds: 462\n",
      "Pixels with more than 1000 ccds: 102\n"
     ]
    },
    {
     "data": {
      "text/plain": "<Figure size 432x288 with 1 Axes>",
      "image/png": "[encoded data removed]"
     },
     "metadata": {
      "needs_background": "light"
     },
     "output_type": "display_data"
    }
   ],
   "source": [
    "plt.hist(lens, bins=[0, 30, 50, 100])\n",
    "print(\"Pixels with more than 50 ccds:\", (lens > 50).sum())\n",
    "print(\"Pixels with more than 100 ccds:\", (lens > 100).sum())\n",
    "print(\"Pixels with more than 500 ccds:\", (lens > 500).sum())\n",
    "print(\"Pixels with more than 1000 ccds:\", (lens > 1000).sum())"
   ],
   "metadata": {
    "collapsed": false,
    "pycharm": {
     "name": "#%%\n"
    }
   }
  },
  {
   "cell_type": "code",
   "execution_count": 10,
   "outputs": [],
   "source": [
    "ccd = CCD()"
   ],
   "metadata": {
    "collapsed": false,
    "pycharm": {
     "name": "#%%\n"
    }
   }
  },
  {
   "cell_type": "code",
   "execution_count": 11,
   "outputs": [],
   "source": [
    "ra0, dec0, ra1, dec1, ra2, dec2, ra3, dec3 = ccd.get_boundaries()\n",
    "\n"
   ],
   "metadata": {
    "collapsed": false,
    "pycharm": {
     "name": "#%%\n"
    }
   }
  },
  {
   "cell_type": "markdown",
   "source": [
    "### Plotting the Pixel - CCD Relationship for the most populated pixel"
   ],
   "metadata": {
    "collapsed": false
   }
  },
  {
   "cell_type": "code",
   "execution_count": 12,
   "outputs": [
    {
     "name": "stdout",
     "output_type": "stream",
     "text": [
      "446195\n",
      "Number of CCDs that are cutting pixel number  581271 : 2951\n"
     ]
    },
    {
     "data": {
      "text/plain": "<Figure size 432x288 with 1 Axes>",
      "image/png": "[encoded data removed]"
     },
     "metadata": {
      "needs_background": "light"
     },
     "output_type": "display_data"
    }
   ],
   "source": [
    "#Validating everything went as intended visually\n",
    "\n",
    "NSIDE = 256\n",
    "pixel_number = index_max\n",
    "print(len(pixel2ccd_dict.keys()))\n",
    "\n",
    "ccd = pixel2ccd_dict[pixel_number]\n",
    "print(\"Number of CCDs that are cutting pixel number \", pixel_number, \":\", len(ccd))\n",
    "for cc in ccd:\n",
    "    xs = [ra0[cc], ra1[cc], ra2[cc], ra3[cc], ra0[cc]]\n",
    "    ys = [dec0[cc], dec1[cc], dec2[cc], dec3[cc], dec0[cc]]\n",
    "    plt.plot(xs, ys)\n",
    "\n",
    "pixel_boundary = hp.boundaries(nside=NSIDE, pix=pixel_number, step=1)\n",
    "pixel_boundary_raDec = hp.vec2ang(pixel_boundary.transpose(), lonlat=True)\n",
    "pixel_boundary_raDec = list(pixel_boundary_raDec)\n",
    "pixel_boundary_raDec[0] = np.append(pixel_boundary_raDec[0], pixel_boundary_raDec[0][0])\n",
    "pixel_boundary_raDec[1] = np.append(pixel_boundary_raDec[1], pixel_boundary_raDec[1][0])\n",
    "\n",
    "plt.plot(pixel_boundary_raDec[0], pixel_boundary_raDec[1], c='black', label=\"Pixel Boundary\")\n",
    "\n",
    "plt.show()"
   ],
   "metadata": {
    "collapsed": false,
    "pycharm": {
     "name": "#%%\n"
    }
   }
  },
  {
   "cell_type": "code",
   "execution_count": 13,
   "outputs": [
    {
     "name": "stdout",
     "output_type": "stream",
     "text": [
      "28536897\n",
      "Number of CCDs that are cutting pixel number  36803776 : 2951\n"
     ]
    },
    {
     "data": {
      "text/plain": "<Figure size 432x288 with 1 Axes>",
      "image/png": "[encoded data removed]"
     },
     "metadata": {
      "needs_background": "light"
     },
     "output_type": "display_data"
    }
   ],
   "source": [
    "#Validating everything went as intended visually\n",
    "\n",
    "NSIDE = 2048\n",
    "pixel_number = index_max_sub\n",
    "print(len(subpixel2ccd_dict.keys()))\n",
    "\n",
    "ccd_sub = subpixel2ccd_dict[pixel_number]\n",
    "print(\"Number of CCDs that are cutting pixel number \", pixel_number, \":\", len(ccd))\n",
    "for cc in ccd_sub:\n",
    "    #coord = [[x0,y0], [x1,y1], [x2,y2], [x3,y3], [x0,y0]]\n",
    "    xs = [ra0[cc], ra1[cc], ra2[cc], ra3[cc], ra0[cc]]\n",
    "    ys = [dec0[cc], dec1[cc], dec2[cc], dec3[cc], dec0[cc]]\n",
    "    plt.plot(xs, ys)\n",
    "\n",
    "pixel_boundary = hp.boundaries(nside=NSIDE, pix=pixel_number, step=1)\n",
    "pixel_boundary_raDec = hp.vec2ang(pixel_boundary.transpose(), lonlat=True)\n",
    "pixel_boundary_raDec = list(pixel_boundary_raDec)\n",
    "pixel_boundary_raDec[0] = np.append(pixel_boundary_raDec[0], pixel_boundary_raDec[0][0])\n",
    "pixel_boundary_raDec[1] = np.append(pixel_boundary_raDec[1], pixel_boundary_raDec[1][0])\n",
    "\n",
    "plt.plot(pixel_boundary_raDec[0], pixel_boundary_raDec[1], c='black', label=\"Pixel Boundary\")\n",
    "\n",
    "plt.show()\n"
   ],
   "metadata": {
    "collapsed": false,
    "pycharm": {
     "name": "#%%\n"
    }
   }
  },
  {
   "cell_type": "markdown",
   "source": [
    "## Preparing  Toy MultiSetSequence DataSet to avoid having to load all the massive dicts into the kernel and to avoid swapout"
   ],
   "metadata": {
    "collapsed": false,
    "pycharm": {
     "name": "#%% md\n"
    }
   }
  },
  {
   "cell_type": "code",
   "execution_count": 12,
   "outputs": [],
   "source": [
    "num_pixels = 2\n",
    "num_subpixels = 4\n",
    "max_ccds = 5\n",
    "num_features = 9\n",
    "#df_raw = pd.read_csv('../../bricks_data/dataset_geometric.csv')\n",
    "# Randomly Sampling Pixel Indices from Dataframe\n",
    "#pixel_indices = random.sample(range(len(df_raw)), num_pixels)\n",
    "pix_ids = [1, 2]\n",
    "pixel2subpixel_dict = {1: [11, 12, 13, 14], 2: [21, 22, 23, 24]}\n",
    "subpixel2ccd_dict = {11: [111, 112, 113, 114], 12: [121, 122, 123, 124, 125], 13: [131, 132, 133, 134, 135],\n",
    "                     14: [141, 142, 143, 144, 145],\n",
    "                     21: [211, 212, 213, 214, 215], 22: [221, 222], 23: [231, 232, 233, 234, 235],\n",
    "                     24: [241, 242, 243, 244, 245]}"
   ],
   "metadata": {
    "collapsed": false,
    "pycharm": {
     "name": "#%%\n"
    }
   }
  },
  {
   "cell_type": "code",
   "execution_count": 2,
   "outputs": [
    {
     "name": "stdout",
     "output_type": "stream",
     "text": [
      "15\n"
     ]
    }
   ],
   "source": [
    "import importlib\n",
    "import sys\n",
    "\n",
    "#importlib.reload(sys.modules['set_dataloader'])\n",
    "from set_dataloader import CCD"
   ],
   "metadata": {
    "collapsed": false,
    "pycharm": {
     "name": "#%%\n"
    }
   }
  },
  {
   "cell_type": "code",
   "execution_count": 6,
   "outputs": [
    {
     "name": "stdout",
     "output_type": "stream",
     "text": [
      "6\n"
     ]
    }
   ],
   "source": [
    "ccd = CCD()\n"
   ],
   "metadata": {
    "collapsed": false,
    "pycharm": {
     "name": "#%%\n"
    }
   }
  },
  {
   "cell_type": "code",
   "execution_count": 7,
   "outputs": [
    {
     "data": {
      "text/plain": "6"
     },
     "execution_count": 7,
     "metadata": {},
     "output_type": "execute_result"
    }
   ],
   "source": [
    "ccd.num_features\n"
   ],
   "metadata": {
    "collapsed": false,
    "pycharm": {
     "name": "#%%\n"
    }
   }
  },
  {
   "cell_type": "code",
   "execution_count": 19,
   "outputs": [],
   "source": [
    "\n",
    "\n",
    "num_pixels = 20000\n",
    "num_subpixels = 64\n",
    "max_ccds = 30\n",
    "num_features = ccd.num_features\n",
    "df_raw = pd.read_csv('../../bricks_data/dataset_geometric.csv')\n",
    "# Randomly Sampling Pixel Indices from Dataframe\n",
    "pixel_indices = random.sample(range(len(df_raw)), num_pixels)\n",
    "\n",
    "df = df_raw.iloc[pixel_indices]\n",
    "pix_ids = df.pixel_id.to_numpy()"
   ],
   "metadata": {
    "collapsed": false,
    "pycharm": {
     "name": "#%%\n"
    }
   }
  },
  {
   "cell_type": "code",
   "execution_count": 20,
   "outputs": [
    {
     "name": "stdout",
     "output_type": "stream",
     "text": [
      "Pixids [708319 317826 186957 ... 709180 252521 251717]\n"
     ]
    }
   ],
   "source": [
    "#self.input = -1 * np.ones((self.num_pixels, self.max_ccds, self.num_features))\n",
    "input = np.zeros((num_pixels, num_subpixels, max_ccds, num_features))\n",
    "# Iterate through the pixels\n",
    "print(\"Pixids\", pix_ids)\n",
    "for pix_no, pix in enumerate(pix_ids):\n",
    "\n",
    "    subpix_ids = pixel2subpixel_dict[pix]\n",
    "    subpix_ids = subpix_ids[:num_subpixels]\n",
    "\n",
    "    for subpix_no, subpix in enumerate(subpix_ids):\n",
    "        if subpix not in subpixel2ccd_dict:\n",
    "            continue\n",
    "        subpix_ccds = subpixel2ccd_dict[subpix]\n",
    "        random.shuffle(subpix_ccds)\n",
    "        subpix_ccds = subpix_ccds[:max_ccds]\n",
    "        x = ccd.get_ccds(subpix_ccds)\n",
    "\n",
    "        # Iterate through the CCDs for every pixel\n",
    "        for ccd_no in range(len(subpix_ccds)):\n",
    "            input[pix_no, subpix_no, ccd_no] = x[ccd_no]"
   ],
   "metadata": {
    "collapsed": false,
    "pycharm": {
     "name": "#%%\n"
    }
   }
  },
  {
   "cell_type": "code",
   "execution_count": 21,
   "outputs": [
    {
     "name": "stdout",
     "output_type": "stream",
     "text": [
      "[[0 0 0 ... 0 0 0]\n",
      " [0 0 0 ... 0 0 0]\n",
      " [0 0 0 ... 0 0 0]\n",
      " ...\n",
      " [0 0 0 ... 0 0 0]\n",
      " [0 0 0 ... 0 0 0]\n",
      " [0 0 0 ... 0 0 0]]\n",
      "[[30 30 30 ... 30 30 30]\n",
      " [ 7  6  6 ... 10 10 10]\n",
      " [13 10 10 ... 13 13  9]\n",
      " ...\n",
      " [30 30 30 ... 30 25 30]\n",
      " [10  8  8 ... 10 10 10]\n",
      " [14 14 14 ... 12 12 12]]\n"
     ]
    }
   ],
   "source": [
    "var_set_len = True\n",
    "lengths = np.zeros((num_pixels, num_subpixels), dtype=int)\n",
    "print(lengths)\n",
    "if var_set_len:\n",
    "    for pix_no, pix in enumerate(pix_ids):\n",
    "        subpix_ids = pixel2subpixel_dict[pix]\n",
    "        subpix_ids = subpix_ids[:num_subpixels]\n",
    "\n",
    "        for subpix_no, subpix in enumerate(subpix_ids):\n",
    "            if subpix not in subpixel2ccd_dict:\n",
    "                lengths[pix_no, subpix_no] = 0\n",
    "                continue\n",
    "            c = len(subpixel2ccd_dict[subpix])\n",
    "            if c < max_ccds:\n",
    "                lengths[pix_no, subpix_no] = c\n",
    "            else:\n",
    "                lengths[pix_no, subpix_no] = max_ccds\n",
    "\n",
    "else:\n",
    "    lengths.fill(max_ccds)\n",
    "\n",
    "print(lengths)"
   ],
   "metadata": {
    "collapsed": false,
    "pycharm": {
     "name": "#%%\n"
    }
   }
  },
  {
   "cell_type": "code",
   "execution_count": 22,
   "outputs": [
    {
     "name": "stdout",
     "output_type": "stream",
     "text": [
      "(20000,)\n",
      "(20000, 64, 30, 15)\n",
      "(20000, 64)\n"
     ]
    }
   ],
   "source": [
    "print(pix_ids.shape)\n",
    "print(input.shape)\n",
    "print(lengths.shape)"
   ],
   "metadata": {
    "collapsed": false,
    "pycharm": {
     "name": "#%%\n"
    }
   }
  },
  {
   "cell_type": "code",
   "execution_count": 23,
   "outputs": [],
   "source": [
    "lrg = df.lrg.to_numpy()\n",
    "elg = df.elg.to_numpy()\n",
    "qso = df.qso.to_numpy()\n",
    "\n",
    "stellar = df.stellar.to_numpy()\n",
    "ebv = df.EBV.to_numpy()\n",
    "pixel_id = df.pixel_id.to_numpy()"
   ],
   "metadata": {
    "collapsed": false,
    "pycharm": {
     "name": "#%%\n"
    }
   }
  },
  {
   "cell_type": "code",
   "execution_count": null,
   "outputs": [],
   "source": [
    "from sklearn.preprocessing import MinMaxScaler\n",
    "\n",
    "scaler_in = MinMaxScaler()\n",
    "stellar = scaler_in.fit_transform(stellar.reshape(-1,1))\n",
    "ebv = scaler_in.fit_transform(ebv.reshape(-1,1))\n",
    "stellar = stellar.flatten()\n",
    "ebv = ebv.flatten()"
   ],
   "metadata": {
    "collapsed": false,
    "pycharm": {
     "name": "#%%\n"
    }
   }
  },
  {
   "cell_type": "code",
   "execution_count": 24,
   "outputs": [],
   "source": [
    "from collections import defaultdict\n",
    "\n",
    "mini_multiset = defaultdict(list)\n",
    "for i, pix in enumerate(pix_ids):\n",
    "    mini_multiset[pix].append(input[i])\n",
    "    mini_multiset[pix].append(lengths[i])\n",
    "    mini_multiset[pix].append(lrg[i])\n",
    "    mini_multiset[pix].append(elg[i])\n",
    "    mini_multiset[pix].append(qso[i])\n",
    "    mini_multiset[pix].append(stellar[i])\n",
    "    mini_multiset[pix].append(ebv[i])"
   ],
   "metadata": {
    "collapsed": false,
    "pycharm": {
     "name": "#%%\n"
    }
   }
  },
  {
   "cell_type": "code",
   "execution_count": 24,
   "outputs": [],
   "source": [
    "\n"
   ],
   "metadata": {
    "collapsed": false,
    "pycharm": {
     "name": "#%%\n"
    }
   }
  },
  {
   "cell_type": "code",
   "execution_count": 25,
   "outputs": [],
   "source": [
    "\n",
    "\n",
    "with open(f'../../bricks_data/multiset.pickle', 'wb') as f:\n",
    "    pickle.dump(mini_multiset, f)\n",
    "    f.close()"
   ],
   "metadata": {
    "collapsed": false,
    "pycharm": {
     "name": "#%%\n"
    }
   }
  },
  {
   "cell_type": "markdown",
   "source": [
    "# Building separate Train, Val and Test Multisets"
   ],
   "metadata": {
    "collapsed": false,
    "pycharm": {
     "name": "#%% md\n"
    }
   }
  },
  {
   "cell_type": "code",
   "execution_count": null,
   "outputs": [],
   "source": [
    "# Importing Dicts"
   ],
   "metadata": {
    "collapsed": false,
    "pycharm": {
     "name": "#%%\n"
    }
   }
  },
  {
   "cell_type": "code",
   "execution_count": 3,
   "outputs": [
    {
     "name": "stdout",
     "output_type": "stream",
     "text": [
      "\n",
      "13.286 minutes (7.97e+02 seconds) taken to import the dict\n",
      "\n"
     ]
    }
   ],
   "source": [
    "time_start = time.time()\n",
    "\n",
    "# For DECAM, BASS, MzLS\n",
    "with open('../../bricks_data/pixel2ccd_2048_non_inclusive.pickle', 'rb') as f:\n",
    "    subpixel2ccd_dict = pickle.load(f)\n",
    "    f.close()\n",
    "\n",
    "time_end = time.time()\n",
    "time_passed = time_end - time_start\n",
    "print()\n",
    "print(f\"{time_passed / 60:.5} minutes ({time_passed:.3} seconds) taken to import the dict\")\n",
    "print()\n"
   ],
   "metadata": {
    "collapsed": false,
    "pycharm": {
     "name": "#%%\n"
    }
   }
  },
  {
   "cell_type": "code",
   "execution_count": 4,
   "outputs": [
    {
     "name": "stdout",
     "output_type": "stream",
     "text": [
      "\n",
      "0.11742 minutes (7.05 seconds) taken to import the dict\n",
      "\n"
     ]
    }
   ],
   "source": [
    "time_start = time.time()\n",
    "\n",
    "# For DECAM, BASS, MzLS\n",
    "with open('../../bricks_data/pixel2subpixel_256_2048.pickle', 'rb') as f:\n",
    "    pixel2subpixel_dict = pickle.load(f)\n",
    "    f.close()\n",
    "\n",
    "time_end = time.time()\n",
    "time_passed = time_end - time_start\n",
    "print()\n",
    "print(f\"{time_passed / 60:.5} minutes ({time_passed:.3} seconds) taken to import the dict\")\n",
    "print()"
   ],
   "metadata": {
    "collapsed": false,
    "pycharm": {
     "name": "#%%\n"
    }
   }
  },
  {
   "cell_type": "code",
   "execution_count": 8,
   "outputs": [
    {
     "name": "stdout",
     "output_type": "stream",
     "text": [
      "6\n"
     ]
    }
   ],
   "source": [
    "ccd = CCD()\n"
   ],
   "metadata": {
    "collapsed": false,
    "pycharm": {
     "name": "#%%\n"
    }
   }
  },
  {
   "cell_type": "code",
   "execution_count": 9,
   "outputs": [
    {
     "name": "stdout",
     "output_type": "stream",
     "text": [
      "6\n"
     ]
    }
   ],
   "source": [
    "print(ccd.num_features)"
   ],
   "metadata": {
    "collapsed": false,
    "pycharm": {
     "name": "#%%\n"
    }
   }
  },
  {
   "cell_type": "code",
   "execution_count": 10,
   "outputs": [],
   "source": [
    "\n",
    "df = pd.read_csv('../../bricks_data/north.csv')\n",
    "\n",
    "\n",
    "num_pixels = len(df)\n",
    "num_subpixels = 64\n",
    "max_ccds = 30\n",
    "num_features = ccd.num_features\n",
    "# Randomly Sampling Pixel Indices from Dataframe\n",
    "pix_ids = df.pixel_id.to_numpy()"
   ],
   "metadata": {
    "collapsed": false,
    "pycharm": {
     "name": "#%%\n"
    }
   }
  },
  {
   "cell_type": "code",
   "execution_count": 11,
   "outputs": [
    {
     "name": "stdout",
     "output_type": "stream",
     "text": [
      "Pixids [ 62102  47512 138135 ...   8247  76030 142465]\n"
     ]
    }
   ],
   "source": [
    "#self.input = -1 * np.ones((self.num_pixels, self.max_ccds, self.num_features))\n",
    "input = np.zeros((num_pixels, num_subpixels, max_ccds, num_features))\n",
    "# Iterate through the pixels\n",
    "print(\"Pixids\", pix_ids)\n",
    "for pix_no, pix in enumerate(pix_ids):\n",
    "\n",
    "    subpix_ids = pixel2subpixel_dict[pix]\n",
    "    subpix_ids = subpix_ids[:num_subpixels]\n",
    "\n",
    "    for subpix_no, subpix in enumerate(subpix_ids):\n",
    "        if subpix not in subpixel2ccd_dict:\n",
    "            continue\n",
    "        subpix_ccds = subpixel2ccd_dict[subpix]\n",
    "        random.shuffle(subpix_ccds)\n",
    "        subpix_ccds = subpix_ccds[:max_ccds]\n",
    "        x = ccd.get_ccds(subpix_ccds)\n",
    "\n",
    "        # Iterate through the CCDs for every pixel\n",
    "        for ccd_no in range(len(subpix_ccds)):\n",
    "            input[pix_no, subpix_no, ccd_no] = x[ccd_no]"
   ],
   "metadata": {
    "collapsed": false,
    "pycharm": {
     "name": "#%%\n"
    }
   }
  },
  {
   "cell_type": "code",
   "execution_count": 12,
   "outputs": [
    {
     "name": "stdout",
     "output_type": "stream",
     "text": [
      "[[0 0 0 ... 0 0 0]\n",
      " [0 0 0 ... 0 0 0]\n",
      " [0 0 0 ... 0 0 0]\n",
      " ...\n",
      " [0 0 0 ... 0 0 0]\n",
      " [0 0 0 ... 0 0 0]\n",
      " [0 0 0 ... 0 0 0]]\n",
      "[[ 9  7  8 ... 11 11 13]\n",
      " [12 12 12 ... 12 12 14]\n",
      " [10  7 10 ...  9 12 11]\n",
      " ...\n",
      " [11  9 11 ... 14 14 14]\n",
      " [12 11 11 ... 11  9  9]\n",
      " [12 13 12 ... 14 13 10]]\n"
     ]
    }
   ],
   "source": [
    "var_set_len = True\n",
    "lengths = np.zeros((num_pixels, num_subpixels), dtype=int)\n",
    "print(lengths)\n",
    "if var_set_len:\n",
    "    for pix_no, pix in enumerate(pix_ids):\n",
    "        subpix_ids = pixel2subpixel_dict[pix]\n",
    "        subpix_ids = subpix_ids[:num_subpixels]\n",
    "\n",
    "        for subpix_no, subpix in enumerate(subpix_ids):\n",
    "            if subpix not in subpixel2ccd_dict:\n",
    "                lengths[pix_no, subpix_no] = 0\n",
    "                continue\n",
    "            c = len(subpixel2ccd_dict[subpix])\n",
    "            if c < max_ccds:\n",
    "                lengths[pix_no, subpix_no] = c\n",
    "            else:\n",
    "                lengths[pix_no, subpix_no] = max_ccds\n",
    "\n",
    "else:\n",
    "    lengths.fill(max_ccds)\n",
    "\n",
    "print(lengths)"
   ],
   "metadata": {
    "collapsed": false,
    "pycharm": {
     "name": "#%%\n"
    }
   }
  },
  {
   "cell_type": "code",
   "execution_count": 13,
   "outputs": [
    {
     "name": "stdout",
     "output_type": "stream",
     "text": [
      "(78029,)\n",
      "(78029, 64, 30, 6)\n",
      "(78029, 64)\n"
     ]
    }
   ],
   "source": [
    "print(pix_ids.shape)\n",
    "print(input.shape)\n",
    "print(lengths.shape)"
   ],
   "metadata": {
    "collapsed": false,
    "pycharm": {
     "name": "#%%\n"
    }
   }
  },
  {
   "cell_type": "code",
   "execution_count": 14,
   "outputs": [],
   "source": [
    "lrg = df.lrg.to_numpy()\n",
    "elg = df.elg.to_numpy()\n",
    "qso = df.qso.to_numpy()\n",
    "\n",
    "stellar = df.stellar.to_numpy()\n",
    "ebv = df.EBV.to_numpy()\n",
    "pixel_id = df.pixel_id.to_numpy()\n",
    "stellar = stellar.flatten()\n",
    "ebv = ebv.flatten()"
   ],
   "metadata": {
    "collapsed": false,
    "pycharm": {
     "name": "#%%\n"
    }
   }
  },
  {
   "cell_type": "code",
   "execution_count": 15,
   "outputs": [
    {
     "name": "stdout",
     "output_type": "stream",
     "text": [
      "0\n",
      "2000\n",
      "4000\n",
      "6000\n",
      "8000\n",
      "10000\n",
      "12000\n",
      "14000\n",
      "16000\n",
      "18000\n",
      "20000\n",
      "22000\n",
      "24000\n",
      "26000\n",
      "28000\n",
      "30000\n",
      "32000\n",
      "34000\n",
      "36000\n",
      "38000\n",
      "40000\n",
      "42000\n",
      "44000\n",
      "46000\n",
      "48000\n",
      "50000\n",
      "52000\n",
      "54000\n",
      "56000\n",
      "58000\n",
      "60000\n",
      "62000\n",
      "64000\n",
      "66000\n",
      "68000\n",
      "70000\n",
      "72000\n",
      "74000\n",
      "76000\n",
      "78000\n"
     ]
    }
   ],
   "source": [
    "from collections import defaultdict\n",
    "\n",
    "mini_multiset = defaultdict(list)\n",
    "for i, pix in enumerate(pix_ids):\n",
    "    if i % 2000 == 0:\n",
    "        print(i)\n",
    "    mini_multiset[pix].append(input[i])\n",
    "    mini_multiset[pix].append(lengths[i])\n",
    "    mini_multiset[pix].append(lrg[i])\n",
    "    mini_multiset[pix].append(elg[i])\n",
    "    mini_multiset[pix].append(qso[i])\n",
    "    mini_multiset[pix].append(stellar[i])\n",
    "    mini_multiset[pix].append(ebv[i])\n"
   ],
   "metadata": {
    "collapsed": false,
    "pycharm": {
     "name": "#%%\n"
    }
   }
  },
  {
   "cell_type": "code",
   "execution_count": 16,
   "outputs": [],
   "source": [
    "with open(f'/Volumes/Astrodisk/bricks_data/north.pickle', 'wb') as f:\n",
    "    pickle.dump(mini_multiset, f)\n",
    "    f.close()"
   ],
   "metadata": {
    "collapsed": false,
    "pycharm": {
     "name": "#%%\n"
    }
   }
  },
  {
   "cell_type": "code",
   "execution_count": 17,
   "outputs": [],
   "source": [
    "\n",
    "df = pd.read_csv('../../bricks_data/north_test.csv')\n",
    "\n",
    "\n",
    "num_pixels = len(df)\n",
    "num_subpixels = 64\n",
    "max_ccds = 30\n",
    "num_features = ccd.num_features\n",
    "# Randomly Sampling Pixel Indices from Dataframe\n",
    "pix_ids = df.pixel_id.to_numpy()"
   ],
   "metadata": {
    "collapsed": false,
    "pycharm": {
     "name": "#%%\n"
    }
   }
  },
  {
   "cell_type": "code",
   "execution_count": 18,
   "outputs": [
    {
     "name": "stdout",
     "output_type": "stream",
     "text": [
      "Pixids [ 20930 128915  22899 ... 147555 158690 176047]\n"
     ]
    }
   ],
   "source": [
    "#self.input = -1 * np.ones((self.num_pixels, self.max_ccds, self.num_features))\n",
    "input = np.zeros((num_pixels, num_subpixels, max_ccds, num_features))\n",
    "# Iterate through the pixels\n",
    "print(\"Pixids\", pix_ids)\n",
    "for pix_no, pix in enumerate(pix_ids):\n",
    "\n",
    "    subpix_ids = pixel2subpixel_dict[pix]\n",
    "    subpix_ids = subpix_ids[:num_subpixels]\n",
    "\n",
    "    for subpix_no, subpix in enumerate(subpix_ids):\n",
    "        if subpix not in subpixel2ccd_dict:\n",
    "            continue\n",
    "        subpix_ccds = subpixel2ccd_dict[subpix]\n",
    "        random.shuffle(subpix_ccds)\n",
    "        subpix_ccds = subpix_ccds[:max_ccds]\n",
    "        x = ccd.get_ccds(subpix_ccds)\n",
    "\n",
    "        # Iterate through the CCDs for every pixel\n",
    "        for ccd_no in range(len(subpix_ccds)):\n",
    "            input[pix_no, subpix_no, ccd_no] = x[ccd_no]"
   ],
   "metadata": {
    "collapsed": false,
    "pycharm": {
     "name": "#%%\n"
    }
   }
  },
  {
   "cell_type": "code",
   "execution_count": 19,
   "outputs": [
    {
     "name": "stdout",
     "output_type": "stream",
     "text": [
      "[[0 0 0 ... 0 0 0]\n",
      " [0 0 0 ... 0 0 0]\n",
      " [0 0 0 ... 0 0 0]\n",
      " ...\n",
      " [0 0 0 ... 0 0 0]\n",
      " [0 0 0 ... 0 0 0]\n",
      " [0 0 0 ... 0 0 0]]\n",
      "[[12 12 14 ... 11 10 11]\n",
      " [14 13 14 ...  9 11 12]\n",
      " [13 12 12 ... 10 11 11]\n",
      " ...\n",
      " [23 10 12 ... 21 23 19]\n",
      " [ 9  5  8 ...  7  9 11]\n",
      " [16 18 16 ... 21 21 16]]\n"
     ]
    }
   ],
   "source": [
    "var_set_len = True\n",
    "lengths = np.zeros((num_pixels, num_subpixels), dtype=int)\n",
    "print(lengths)\n",
    "if var_set_len:\n",
    "    for pix_no, pix in enumerate(pix_ids):\n",
    "        subpix_ids = pixel2subpixel_dict[pix]\n",
    "        subpix_ids = subpix_ids[:num_subpixels]\n",
    "\n",
    "        for subpix_no, subpix in enumerate(subpix_ids):\n",
    "            if subpix not in subpixel2ccd_dict:\n",
    "                lengths[pix_no, subpix_no] = 0\n",
    "                continue\n",
    "            c = len(subpixel2ccd_dict[subpix])\n",
    "            if c < max_ccds:\n",
    "                lengths[pix_no, subpix_no] = c\n",
    "            else:\n",
    "                lengths[pix_no, subpix_no] = max_ccds\n",
    "\n",
    "else:\n",
    "    lengths.fill(max_ccds)\n",
    "\n",
    "print(lengths)"
   ],
   "metadata": {
    "collapsed": false,
    "pycharm": {
     "name": "#%%\n"
    }
   }
  },
  {
   "cell_type": "code",
   "execution_count": 20,
   "outputs": [
    {
     "name": "stdout",
     "output_type": "stream",
     "text": [
      "(19508,)\n",
      "(19508, 64, 30, 6)\n",
      "(19508, 64)\n"
     ]
    }
   ],
   "source": [
    "print(pix_ids.shape)\n",
    "print(input.shape)\n",
    "print(lengths.shape)"
   ],
   "metadata": {
    "collapsed": false,
    "pycharm": {
     "name": "#%%\n"
    }
   }
  },
  {
   "cell_type": "code",
   "execution_count": 21,
   "outputs": [],
   "source": [
    "lrg = df.lrg.to_numpy()\n",
    "elg = df.elg.to_numpy()\n",
    "qso = df.qso.to_numpy()\n",
    "\n",
    "stellar = df.stellar.to_numpy()\n",
    "ebv = df.EBV.to_numpy()\n",
    "pixel_id = df.pixel_id.to_numpy()\n",
    "stellar = stellar.flatten()\n",
    "ebv = ebv.flatten()"
   ],
   "metadata": {
    "collapsed": false,
    "pycharm": {
     "name": "#%%\n"
    }
   }
  },
  {
   "cell_type": "code",
   "execution_count": 22,
   "outputs": [
    {
     "name": "stdout",
     "output_type": "stream",
     "text": [
      "0\n",
      "2000\n",
      "4000\n",
      "6000\n",
      "8000\n",
      "10000\n",
      "12000\n",
      "14000\n",
      "16000\n",
      "18000\n"
     ]
    }
   ],
   "source": [
    "from collections import defaultdict\n",
    "\n",
    "mini_multiset = defaultdict(list)\n",
    "for i, pix in enumerate(pix_ids):\n",
    "    if i % 2000 == 0:\n",
    "        print(i)\n",
    "    mini_multiset[pix].append(input[i])\n",
    "    mini_multiset[pix].append(lengths[i])\n",
    "    mini_multiset[pix].append(lrg[i])\n",
    "    mini_multiset[pix].append(elg[i])\n",
    "    mini_multiset[pix].append(qso[i])\n",
    "    mini_multiset[pix].append(stellar[i])\n",
    "    mini_multiset[pix].append(ebv[i])\n",
    "    mini_multiset[pix].append(pix)\n"
   ],
   "metadata": {
    "collapsed": false,
    "pycharm": {
     "name": "#%%\n"
    }
   }
  },
  {
   "cell_type": "code",
   "execution_count": 23,
   "outputs": [],
   "source": [
    "with open(f'/Volumes/Astrodisk/bricks_data/north_test.pickle', 'wb') as f:\n",
    "    pickle.dump(mini_multiset, f)\n",
    "    f.close()"
   ],
   "metadata": {
    "collapsed": false,
    "pycharm": {
     "name": "#%%\n"
    }
   }
  },
  {
   "cell_type": "code",
   "execution_count": 24,
   "outputs": [],
   "source": [
    "df = pd.read_csv('../../bricks_data/south.csv')\n",
    "\n",
    "\n",
    "num_pixels = len(df)\n",
    "num_subpixels = 64\n",
    "max_ccds = 25\n",
    "num_features = ccd.num_features\n",
    "# Randomly Sampling Pixel Indices from Dataframe\n",
    "pix_ids = df.pixel_id.to_numpy()"
   ],
   "metadata": {
    "collapsed": false,
    "pycharm": {
     "name": "#%%\n"
    }
   }
  },
  {
   "cell_type": "code",
   "execution_count": 25,
   "outputs": [
    {
     "name": "stdout",
     "output_type": "stream",
     "text": [
      "Pixids [244761 259578 231471 ... 363513 234915 287695]\n"
     ]
    }
   ],
   "source": [
    "#self.input = -1 * np.ones((self.num_pixels, self.max_ccds, self.num_features))\n",
    "input = np.zeros((num_pixels, num_subpixels, max_ccds, num_features))\n",
    "# Iterate through the pixels\n",
    "print(\"Pixids\", pix_ids)\n",
    "for pix_no, pix in enumerate(pix_ids):\n",
    "\n",
    "    subpix_ids = pixel2subpixel_dict[pix]\n",
    "    subpix_ids = subpix_ids[:num_subpixels]\n",
    "\n",
    "    for subpix_no, subpix in enumerate(subpix_ids):\n",
    "        if subpix not in subpixel2ccd_dict:\n",
    "            continue\n",
    "        subpix_ccds = subpixel2ccd_dict[subpix]\n",
    "        random.shuffle(subpix_ccds)\n",
    "        subpix_ccds = subpix_ccds[:max_ccds]\n",
    "        x = ccd.get_ccds(subpix_ccds)\n",
    "\n",
    "        # Iterate through the CCDs for every pixel\n",
    "        for ccd_no in range(len(subpix_ccds)):\n",
    "            input[pix_no, subpix_no, ccd_no] = x[ccd_no]"
   ],
   "metadata": {
    "collapsed": false,
    "pycharm": {
     "name": "#%%\n"
    }
   }
  },
  {
   "cell_type": "code",
   "execution_count": 26,
   "outputs": [
    {
     "name": "stdout",
     "output_type": "stream",
     "text": [
      "[[0 0 0 ... 0 0 0]\n",
      " [0 0 0 ... 0 0 0]\n",
      " [0 0 0 ... 0 0 0]\n",
      " ...\n",
      " [0 0 0 ... 0 0 0]\n",
      " [0 0 0 ... 0 0 0]\n",
      " [0 0 0 ... 0 0 0]]\n",
      "[[ 9  6  6 ...  8 11  9]\n",
      " [ 9  9  9 ...  9  9  6]\n",
      " [ 9 13 13 ...  9  9  3]\n",
      " ...\n",
      " [10 10 10 ... 10 10 13]\n",
      " [10  8  8 ... 14 14 14]\n",
      " [15 12 12 ... 15 15 10]]\n"
     ]
    }
   ],
   "source": [
    "var_set_len = True\n",
    "lengths = np.zeros((num_pixels, num_subpixels), dtype=int)\n",
    "print(lengths)\n",
    "if var_set_len:\n",
    "    for pix_no, pix in enumerate(pix_ids):\n",
    "        subpix_ids = pixel2subpixel_dict[pix]\n",
    "        subpix_ids = subpix_ids[:num_subpixels]\n",
    "\n",
    "        for subpix_no, subpix in enumerate(subpix_ids):\n",
    "            if subpix not in subpixel2ccd_dict:\n",
    "                lengths[pix_no, subpix_no] = 0\n",
    "                continue\n",
    "            c = len(subpixel2ccd_dict[subpix])\n",
    "            if c < max_ccds:\n",
    "                lengths[pix_no, subpix_no] = c\n",
    "            else:\n",
    "                lengths[pix_no, subpix_no] = max_ccds\n",
    "\n",
    "else:\n",
    "    lengths.fill(max_ccds)\n",
    "\n",
    "print(lengths)"
   ],
   "metadata": {
    "collapsed": false,
    "pycharm": {
     "name": "#%%\n"
    }
   }
  },
  {
   "cell_type": "code",
   "execution_count": 27,
   "outputs": [
    {
     "name": "stdout",
     "output_type": "stream",
     "text": [
      "(148574,)\n",
      "(148574, 64, 25, 6)\n",
      "(148574, 64)\n"
     ]
    }
   ],
   "source": [
    "print(pix_ids.shape)\n",
    "print(input.shape)\n",
    "print(lengths.shape)"
   ],
   "metadata": {
    "collapsed": false,
    "pycharm": {
     "name": "#%%\n"
    }
   }
  },
  {
   "cell_type": "code",
   "execution_count": 28,
   "outputs": [],
   "source": [
    "lrg = df.lrg.to_numpy()\n",
    "elg = df.elg.to_numpy()\n",
    "qso = df.qso.to_numpy()\n",
    "\n",
    "stellar = df.stellar.to_numpy()\n",
    "ebv = df.EBV.to_numpy()\n",
    "pixel_id = df.pixel_id.to_numpy()\n",
    "stellar = stellar.flatten()\n",
    "ebv = ebv.flatten()"
   ],
   "metadata": {
    "collapsed": false,
    "pycharm": {
     "name": "#%%\n"
    }
   }
  },
  {
   "cell_type": "code",
   "execution_count": 29,
   "outputs": [
    {
     "name": "stdout",
     "output_type": "stream",
     "text": [
      "0\n",
      "2000\n",
      "4000\n",
      "6000\n",
      "8000\n",
      "10000\n",
      "12000\n",
      "14000\n",
      "16000\n",
      "18000\n",
      "20000\n",
      "22000\n",
      "24000\n",
      "26000\n",
      "28000\n",
      "30000\n",
      "32000\n",
      "34000\n",
      "36000\n",
      "38000\n",
      "40000\n",
      "42000\n",
      "44000\n",
      "46000\n",
      "48000\n",
      "50000\n",
      "52000\n",
      "54000\n",
      "56000\n",
      "58000\n",
      "60000\n",
      "62000\n",
      "64000\n",
      "66000\n",
      "68000\n",
      "70000\n",
      "72000\n",
      "74000\n",
      "76000\n",
      "78000\n",
      "80000\n",
      "82000\n",
      "84000\n",
      "86000\n",
      "88000\n",
      "90000\n",
      "92000\n",
      "94000\n",
      "96000\n",
      "98000\n",
      "100000\n",
      "102000\n",
      "104000\n",
      "106000\n",
      "108000\n",
      "110000\n",
      "112000\n",
      "114000\n",
      "116000\n",
      "118000\n",
      "120000\n",
      "122000\n",
      "124000\n",
      "126000\n",
      "128000\n",
      "130000\n",
      "132000\n",
      "134000\n",
      "136000\n",
      "138000\n",
      "140000\n",
      "142000\n",
      "144000\n",
      "146000\n",
      "148000\n"
     ]
    }
   ],
   "source": [
    "from collections import defaultdict\n",
    "\n",
    "mini_multiset = defaultdict(list)\n",
    "for i, pix in enumerate(pix_ids):\n",
    "    if i % 2000 == 0:\n",
    "        print(i)\n",
    "    mini_multiset[pix].append(input[i])\n",
    "    mini_multiset[pix].append(lengths[i])\n",
    "    mini_multiset[pix].append(lrg[i])\n",
    "    mini_multiset[pix].append(elg[i])\n",
    "    mini_multiset[pix].append(qso[i])\n",
    "    mini_multiset[pix].append(stellar[i])\n",
    "    mini_multiset[pix].append(ebv[i])\n"
   ],
   "metadata": {
    "collapsed": false,
    "pycharm": {
     "name": "#%%\n"
    }
   }
  },
  {
   "cell_type": "code",
   "execution_count": 30,
   "outputs": [],
   "source": [
    "with open(f'/Volumes/Astrodisk/bricks_data/south.pickle', 'wb') as f:\n",
    "    pickle.dump(mini_multiset, f)\n",
    "    f.close()"
   ],
   "metadata": {
    "collapsed": false,
    "pycharm": {
     "name": "#%%\n"
    }
   }
  },
  {
   "cell_type": "code",
   "execution_count": 31,
   "outputs": [],
   "source": [
    "df = pd.read_csv('../../bricks_data/south_test.csv')\n",
    "\n",
    "\n",
    "num_pixels = len(df)\n",
    "num_subpixels = 64\n",
    "max_ccds = 25\n",
    "num_features = ccd.num_features\n",
    "# Randomly Sampling Pixel Indices from Dataframe\n",
    "pix_ids = df.pixel_id.to_numpy()"
   ],
   "metadata": {
    "collapsed": false,
    "pycharm": {
     "name": "#%%\n"
    }
   }
  },
  {
   "cell_type": "code",
   "execution_count": 32,
   "outputs": [
    {
     "name": "stdout",
     "output_type": "stream",
     "text": [
      "Pixids [301589 357501 219584 ... 200592 237037 379880]\n"
     ]
    }
   ],
   "source": [
    "#self.input = -1 * np.ones((self.num_pixels, self.max_ccds, self.num_features))\n",
    "input = np.zeros((num_pixels, num_subpixels, max_ccds, num_features))\n",
    "# Iterate through the pixels\n",
    "print(\"Pixids\", pix_ids)\n",
    "for pix_no, pix in enumerate(pix_ids):\n",
    "\n",
    "    subpix_ids = pixel2subpixel_dict[pix]\n",
    "    subpix_ids = subpix_ids[:num_subpixels]\n",
    "\n",
    "    for subpix_no, subpix in enumerate(subpix_ids):\n",
    "        if subpix not in subpixel2ccd_dict:\n",
    "            continue\n",
    "        subpix_ccds = subpixel2ccd_dict[subpix]\n",
    "        random.shuffle(subpix_ccds)\n",
    "        subpix_ccds = subpix_ccds[:max_ccds]\n",
    "        x = ccd.get_ccds(subpix_ccds)\n",
    "\n",
    "        # Iterate through the CCDs for every pixel\n",
    "        for ccd_no in range(len(subpix_ccds)):\n",
    "            input[pix_no, subpix_no, ccd_no] = x[ccd_no]"
   ],
   "metadata": {
    "collapsed": false,
    "pycharm": {
     "name": "#%%\n"
    }
   }
  },
  {
   "cell_type": "code",
   "execution_count": 33,
   "outputs": [
    {
     "name": "stdout",
     "output_type": "stream",
     "text": [
      "[[0 0 0 ... 0 0 0]\n",
      " [0 0 0 ... 0 0 0]\n",
      " [0 0 0 ... 0 0 0]\n",
      " ...\n",
      " [0 0 0 ... 0 0 0]\n",
      " [0 0 0 ... 0 0 0]\n",
      " [0 0 0 ... 0 0 0]]\n",
      "[[14 17 20 ... 12 12 12]\n",
      " [ 6  3  6 ...  6  6  9]\n",
      " [ 9  9  9 ...  7  4  9]\n",
      " ...\n",
      " [11 14 14 ... 13 13  9]\n",
      " [11 12 16 ... 14 14  9]\n",
      " [16 12 12 ... 13 13 14]]\n"
     ]
    }
   ],
   "source": [
    "var_set_len = True\n",
    "lengths = np.zeros((num_pixels, num_subpixels), dtype=int)\n",
    "print(lengths)\n",
    "if var_set_len:\n",
    "    for pix_no, pix in enumerate(pix_ids):\n",
    "        subpix_ids = pixel2subpixel_dict[pix]\n",
    "        subpix_ids = subpix_ids[:num_subpixels]\n",
    "\n",
    "        for subpix_no, subpix in enumerate(subpix_ids):\n",
    "            if subpix not in subpixel2ccd_dict:\n",
    "                lengths[pix_no, subpix_no] = 0\n",
    "                continue\n",
    "            c = len(subpixel2ccd_dict[subpix])\n",
    "            if c < max_ccds:\n",
    "                lengths[pix_no, subpix_no] = c\n",
    "            else:\n",
    "                lengths[pix_no, subpix_no] = max_ccds\n",
    "\n",
    "else:\n",
    "    lengths.fill(max_ccds)\n",
    "\n",
    "print(lengths)"
   ],
   "metadata": {
    "collapsed": false,
    "pycharm": {
     "name": "#%%\n"
    }
   }
  },
  {
   "cell_type": "code",
   "execution_count": 34,
   "outputs": [
    {
     "name": "stdout",
     "output_type": "stream",
     "text": [
      "(37144,)\n",
      "(37144, 64, 25, 6)\n",
      "(37144, 64)\n"
     ]
    }
   ],
   "source": [
    "print(pix_ids.shape)\n",
    "print(input.shape)\n",
    "print(lengths.shape)"
   ],
   "metadata": {
    "collapsed": false,
    "pycharm": {
     "name": "#%%\n"
    }
   }
  },
  {
   "cell_type": "code",
   "execution_count": 35,
   "outputs": [],
   "source": [
    "lrg = df.lrg.to_numpy()\n",
    "elg = df.elg.to_numpy()\n",
    "qso = df.qso.to_numpy()\n",
    "\n",
    "stellar = df.stellar.to_numpy()\n",
    "ebv = df.EBV.to_numpy()\n",
    "pixel_id = df.pixel_id.to_numpy()\n",
    "stellar = stellar.flatten()\n",
    "ebv = ebv.flatten()"
   ],
   "metadata": {
    "collapsed": false,
    "pycharm": {
     "name": "#%%\n"
    }
   }
  },
  {
   "cell_type": "code",
   "execution_count": 36,
   "outputs": [
    {
     "name": "stdout",
     "output_type": "stream",
     "text": [
      "0\n",
      "2000\n",
      "4000\n",
      "6000\n",
      "8000\n",
      "10000\n",
      "12000\n",
      "14000\n",
      "16000\n",
      "18000\n",
      "20000\n",
      "22000\n",
      "24000\n",
      "26000\n",
      "28000\n",
      "30000\n",
      "32000\n",
      "34000\n",
      "36000\n"
     ]
    }
   ],
   "source": [
    "from collections import defaultdict\n",
    "\n",
    "mini_multiset = defaultdict(list)\n",
    "for i, pix in enumerate(pix_ids):\n",
    "    if i % 2000 == 0:\n",
    "        print(i)\n",
    "    mini_multiset[pix].append(input[i])\n",
    "    mini_multiset[pix].append(lengths[i])\n",
    "    mini_multiset[pix].append(lrg[i])\n",
    "    mini_multiset[pix].append(elg[i])\n",
    "    mini_multiset[pix].append(qso[i])\n",
    "    mini_multiset[pix].append(stellar[i])\n",
    "    mini_multiset[pix].append(ebv[i])\n",
    "    mini_multiset[pix].append(pix)\n"
   ],
   "metadata": {
    "collapsed": false,
    "pycharm": {
     "name": "#%%\n"
    }
   }
  },
  {
   "cell_type": "code",
   "execution_count": 37,
   "outputs": [],
   "source": [
    "with open(f'/Volumes/Astrodisk/bricks_data/south_test.pickle', 'wb') as f:\n",
    "    pickle.dump(mini_multiset, f)\n",
    "    f.close()"
   ],
   "metadata": {
    "collapsed": false,
    "pycharm": {
     "name": "#%%\n"
    }
   }
  },
  {
   "cell_type": "code",
   "execution_count": 38,
   "outputs": [],
   "source": [
    "df = pd.read_csv('../../bricks_data/des.csv')\n",
    "\n",
    "\n",
    "num_pixels = len(df)\n",
    "num_subpixels = 64\n",
    "max_ccds = 50\n",
    "num_features = ccd.num_features\n",
    "# Randomly Sampling Pixel Indices from Dataframe\n",
    "pix_ids = df.pixel_id.to_numpy()"
   ],
   "metadata": {
    "collapsed": false,
    "pycharm": {
     "name": "#%%\n"
    }
   }
  },
  {
   "cell_type": "code",
   "execution_count": 39,
   "outputs": [
    {
     "name": "stdout",
     "output_type": "stream",
     "text": [
      "Pixids [681935 741640 704406 ... 381430 606767 713029]\n"
     ]
    }
   ],
   "source": [
    "#self.input = -1 * np.ones((self.num_pixels, self.max_ccds, self.num_features))\n",
    "input = np.zeros((num_pixels, num_subpixels, max_ccds, num_features))\n",
    "# Iterate through the pixels\n",
    "print(\"Pixids\", pix_ids)\n",
    "for pix_no, pix in enumerate(pix_ids):\n",
    "\n",
    "    subpix_ids = pixel2subpixel_dict[pix]\n",
    "    subpix_ids = subpix_ids[:num_subpixels]\n",
    "\n",
    "    for subpix_no, subpix in enumerate(subpix_ids):\n",
    "        if subpix not in subpixel2ccd_dict:\n",
    "            continue\n",
    "        subpix_ccds = subpixel2ccd_dict[subpix]\n",
    "        random.shuffle(subpix_ccds)\n",
    "        subpix_ccds = subpix_ccds[:max_ccds]\n",
    "        x = ccd.get_ccds(subpix_ccds)\n",
    "\n",
    "        # Iterate through the CCDs for every pixel\n",
    "        for ccd_no in range(len(subpix_ccds)):\n",
    "            input[pix_no, subpix_no, ccd_no] = x[ccd_no]"
   ],
   "metadata": {
    "collapsed": false,
    "pycharm": {
     "name": "#%%\n"
    }
   }
  },
  {
   "cell_type": "code",
   "execution_count": 40,
   "outputs": [
    {
     "name": "stdout",
     "output_type": "stream",
     "text": [
      "[[0 0 0 ... 0 0 0]\n",
      " [0 0 0 ... 0 0 0]\n",
      " [0 0 0 ... 0 0 0]\n",
      " ...\n",
      " [0 0 0 ... 0 0 0]\n",
      " [0 0 0 ... 0 0 0]\n",
      " [0 0 0 ... 0 0 0]]\n",
      "[[44 43 43 ... 48 48 46]\n",
      " [25 38 39 ... 37 37 27]\n",
      " [28 24 26 ... 26 25 22]\n",
      " ...\n",
      " [15 18 18 ... 24 24 16]\n",
      " [20 27 24 ... 27 27 25]\n",
      " [18 27 27 ... 30 27 21]]\n"
     ]
    }
   ],
   "source": [
    "var_set_len = True\n",
    "lengths = np.zeros((num_pixels, num_subpixels), dtype=int)\n",
    "print(lengths)\n",
    "if var_set_len:\n",
    "    for pix_no, pix in enumerate(pix_ids):\n",
    "        subpix_ids = pixel2subpixel_dict[pix]\n",
    "        subpix_ids = subpix_ids[:num_subpixels]\n",
    "\n",
    "        for subpix_no, subpix in enumerate(subpix_ids):\n",
    "            if subpix not in subpixel2ccd_dict:\n",
    "                lengths[pix_no, subpix_no] = 0\n",
    "                continue\n",
    "            c = len(subpixel2ccd_dict[subpix])\n",
    "            if c < max_ccds:\n",
    "                lengths[pix_no, subpix_no] = c\n",
    "            else:\n",
    "                lengths[pix_no, subpix_no] = max_ccds\n",
    "\n",
    "else:\n",
    "    lengths.fill(max_ccds)\n",
    "\n",
    "print(lengths)"
   ],
   "metadata": {
    "collapsed": false,
    "pycharm": {
     "name": "#%%\n"
    }
   }
  },
  {
   "cell_type": "code",
   "execution_count": 41,
   "outputs": [
    {
     "name": "stdout",
     "output_type": "stream",
     "text": [
      "(69304,)\n",
      "(69304, 64, 50, 6)\n",
      "(69304, 64)\n"
     ]
    }
   ],
   "source": [
    "print(pix_ids.shape)\n",
    "print(input.shape)\n",
    "print(lengths.shape)"
   ],
   "metadata": {
    "collapsed": false,
    "pycharm": {
     "name": "#%%\n"
    }
   }
  },
  {
   "cell_type": "code",
   "execution_count": 42,
   "outputs": [],
   "source": [
    "lrg = df.lrg.to_numpy()\n",
    "elg = df.elg.to_numpy()\n",
    "qso = df.qso.to_numpy()\n",
    "\n",
    "stellar = df.stellar.to_numpy()\n",
    "ebv = df.EBV.to_numpy()\n",
    "pixel_id = df.pixel_id.to_numpy()\n",
    "stellar = stellar.flatten()\n",
    "ebv = ebv.flatten()"
   ],
   "metadata": {
    "collapsed": false,
    "pycharm": {
     "name": "#%%\n"
    }
   }
  },
  {
   "cell_type": "code",
   "execution_count": 43,
   "outputs": [
    {
     "name": "stdout",
     "output_type": "stream",
     "text": [
      "0\n",
      "2000\n",
      "4000\n",
      "6000\n",
      "8000\n",
      "10000\n",
      "12000\n",
      "14000\n",
      "16000\n",
      "18000\n",
      "20000\n",
      "22000\n",
      "24000\n",
      "26000\n",
      "28000\n",
      "30000\n",
      "32000\n",
      "34000\n",
      "36000\n",
      "38000\n",
      "40000\n",
      "42000\n",
      "44000\n",
      "46000\n",
      "48000\n",
      "50000\n",
      "52000\n",
      "54000\n",
      "56000\n",
      "58000\n",
      "60000\n",
      "62000\n",
      "64000\n",
      "66000\n",
      "68000\n"
     ]
    }
   ],
   "source": [
    "from collections import defaultdict\n",
    "\n",
    "mini_multiset = defaultdict(list)\n",
    "for i, pix in enumerate(pix_ids):\n",
    "    if i % 2000 == 0:\n",
    "        print(i)\n",
    "    mini_multiset[pix].append(input[i])\n",
    "    mini_multiset[pix].append(lengths[i])\n",
    "    mini_multiset[pix].append(lrg[i])\n",
    "    mini_multiset[pix].append(elg[i])\n",
    "    mini_multiset[pix].append(qso[i])\n",
    "    mini_multiset[pix].append(stellar[i])\n",
    "    mini_multiset[pix].append(ebv[i])\n"
   ],
   "metadata": {
    "collapsed": false,
    "pycharm": {
     "name": "#%%\n"
    }
   }
  },
  {
   "cell_type": "code",
   "execution_count": 44,
   "outputs": [],
   "source": [
    "with open(f'/Volumes/Astrodisk/bricks_data/des.pickle', 'wb') as f:\n",
    "    pickle.dump(mini_multiset, f)\n",
    "    f.close()"
   ],
   "metadata": {
    "collapsed": false,
    "pycharm": {
     "name": "#%%\n"
    }
   }
  },
  {
   "cell_type": "code",
   "execution_count": 45,
   "outputs": [],
   "source": [
    "df = pd.read_csv('../../bricks_data/des_test.csv')\n",
    "\n",
    "\n",
    "num_pixels = len(df)\n",
    "num_subpixels = 64\n",
    "max_ccds = 50\n",
    "num_features = ccd.num_features\n",
    "# Randomly Sampling Pixel Indices from Dataframe\n",
    "pix_ids = df.pixel_id.to_numpy()"
   ],
   "metadata": {
    "collapsed": false,
    "pycharm": {
     "name": "#%%\n"
    }
   }
  },
  {
   "cell_type": "code",
   "execution_count": 46,
   "outputs": [
    {
     "name": "stdout",
     "output_type": "stream",
     "text": [
      "Pixids [400965 689172 692796 ... 504470 708440 722696]\n"
     ]
    }
   ],
   "source": [
    "#self.input = -1 * np.ones((self.num_pixels, self.max_ccds, self.num_features))\n",
    "input = np.zeros((num_pixels, num_subpixels, max_ccds, num_features))\n",
    "# Iterate through the pixels\n",
    "print(\"Pixids\", pix_ids)\n",
    "for pix_no, pix in enumerate(pix_ids):\n",
    "\n",
    "    subpix_ids = pixel2subpixel_dict[pix]\n",
    "    subpix_ids = subpix_ids[:num_subpixels]\n",
    "\n",
    "    for subpix_no, subpix in enumerate(subpix_ids):\n",
    "        if subpix not in subpixel2ccd_dict:\n",
    "            continue\n",
    "        subpix_ccds = subpixel2ccd_dict[subpix]\n",
    "        random.shuffle(subpix_ccds)\n",
    "        subpix_ccds = subpix_ccds[:max_ccds]\n",
    "        x = ccd.get_ccds(subpix_ccds)\n",
    "\n",
    "        # Iterate through the CCDs for every pixel\n",
    "        for ccd_no in range(len(subpix_ccds)):\n",
    "            input[pix_no, subpix_no, ccd_no] = x[ccd_no]"
   ],
   "metadata": {
    "collapsed": false,
    "pycharm": {
     "name": "#%%\n"
    }
   }
  },
  {
   "cell_type": "code",
   "execution_count": 47,
   "outputs": [
    {
     "name": "stdout",
     "output_type": "stream",
     "text": [
      "[[0 0 0 ... 0 0 0]\n",
      " [0 0 0 ... 0 0 0]\n",
      " [0 0 0 ... 0 0 0]\n",
      " ...\n",
      " [0 0 0 ... 0 0 0]\n",
      " [0 0 0 ... 0 0 0]\n",
      " [0 0 0 ... 0 0 0]]\n",
      "[[20 24 21 ... 29 29 23]\n",
      " [34 38 38 ... 31 32 30]\n",
      " [21 23 23 ... 14  9 23]\n",
      " ...\n",
      " [24 27 28 ... 29 31 33]\n",
      " [35 33 32 ... 28 29 27]\n",
      " [38 38 35 ... 35 37 38]]\n"
     ]
    }
   ],
   "source": [
    "var_set_len = True\n",
    "lengths = np.zeros((num_pixels, num_subpixels), dtype=int)\n",
    "print(lengths)\n",
    "if var_set_len:\n",
    "    for pix_no, pix in enumerate(pix_ids):\n",
    "        subpix_ids = pixel2subpixel_dict[pix]\n",
    "        subpix_ids = subpix_ids[:num_subpixels]\n",
    "\n",
    "        for subpix_no, subpix in enumerate(subpix_ids):\n",
    "            if subpix not in subpixel2ccd_dict:\n",
    "                lengths[pix_no, subpix_no] = 0\n",
    "                continue\n",
    "            c = len(subpixel2ccd_dict[subpix])\n",
    "            if c < max_ccds:\n",
    "                lengths[pix_no, subpix_no] = c\n",
    "            else:\n",
    "                lengths[pix_no, subpix_no] = max_ccds\n",
    "\n",
    "else:\n",
    "    lengths.fill(max_ccds)\n",
    "\n",
    "print(lengths)"
   ],
   "metadata": {
    "collapsed": false,
    "pycharm": {
     "name": "#%%\n"
    }
   }
  },
  {
   "cell_type": "code",
   "execution_count": 48,
   "outputs": [
    {
     "name": "stdout",
     "output_type": "stream",
     "text": [
      "(17327,)\n",
      "(17327, 64, 50, 6)\n",
      "(17327, 64)\n"
     ]
    }
   ],
   "source": [
    "print(pix_ids.shape)\n",
    "print(input.shape)\n",
    "print(lengths.shape)"
   ],
   "metadata": {
    "collapsed": false,
    "pycharm": {
     "name": "#%%\n"
    }
   }
  },
  {
   "cell_type": "code",
   "execution_count": 49,
   "outputs": [],
   "source": [
    "lrg = df.lrg.to_numpy()\n",
    "elg = df.elg.to_numpy()\n",
    "qso = df.qso.to_numpy()\n",
    "\n",
    "stellar = df.stellar.to_numpy()\n",
    "ebv = df.EBV.to_numpy()\n",
    "pixel_id = df.pixel_id.to_numpy()\n",
    "stellar = stellar.flatten()\n",
    "ebv = ebv.flatten()"
   ],
   "metadata": {
    "collapsed": false,
    "pycharm": {
     "name": "#%%\n"
    }
   }
  },
  {
   "cell_type": "code",
   "execution_count": 50,
   "outputs": [
    {
     "name": "stdout",
     "output_type": "stream",
     "text": [
      "0\n",
      "2000\n",
      "4000\n",
      "6000\n",
      "8000\n",
      "10000\n",
      "12000\n",
      "14000\n",
      "16000\n"
     ]
    }
   ],
   "source": [
    "from collections import defaultdict\n",
    "\n",
    "mini_multiset = defaultdict(list)\n",
    "for i, pix in enumerate(pix_ids):\n",
    "    if i % 2000 == 0:\n",
    "        print(i)\n",
    "    mini_multiset[pix].append(input[i])\n",
    "    mini_multiset[pix].append(lengths[i])\n",
    "    mini_multiset[pix].append(lrg[i])\n",
    "    mini_multiset[pix].append(elg[i])\n",
    "    mini_multiset[pix].append(qso[i])\n",
    "    mini_multiset[pix].append(stellar[i])\n",
    "    mini_multiset[pix].append(ebv[i])\n",
    "    mini_multiset[pix].append(pix)\n",
    "\n"
   ],
   "metadata": {
    "collapsed": false,
    "pycharm": {
     "name": "#%%\n"
    }
   }
  },
  {
   "cell_type": "code",
   "execution_count": 51,
   "outputs": [],
   "source": [
    "with open(f'/Volumes/Astrodisk/bricks_data/des_test.pickle', 'wb') as f:\n",
    "    pickle.dump(mini_multiset, f)\n",
    "    f.close()"
   ],
   "metadata": {
    "collapsed": false,
    "pycharm": {
     "name": "#%%\n"
    }
   }
  },
  {
   "cell_type": "code",
   "execution_count": null,
   "outputs": [],
   "source": [],
   "metadata": {
    "collapsed": false,
    "pycharm": {
     "name": "#%%\n"
    }
   }
  }
 ],
 "metadata": {
  "kernelspec": {
   "display_name": "Python 3",
   "language": "python",
   "name": "python3"
  },
  "language_info": {
   "codemirror_mode": {
    "name": "ipython",
    "version": 2
   },
   "file_extension": ".py",
   "mimetype": "text/x-python",
   "name": "python",
   "nbconvert_exporter": "python",
   "pygments_lexer": "ipython2",
   "version": "2.7.6"
  }
 },
 "nbformat": 4,
 "nbformat_minor": 0
}