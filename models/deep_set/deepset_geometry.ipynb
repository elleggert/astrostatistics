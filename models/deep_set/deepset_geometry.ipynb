{
 "cells": [
  {
   "cell_type": "code",
   "execution_count": null,
   "metadata": {
    "collapsed": true
   },
   "outputs": [],
   "source": [
    "import numpy as np\n",
    "import pickle\n",
    "import matplotlib.pyplot as plt\n",
    "import healpy as hp\n",
    "from set_dataloader import CCD\n",
    "import time\n"
   ]
  },
  {
   "cell_type": "markdown",
   "source": [
    "#### Experimenting with input sizes"
   ],
   "metadata": {
    "collapsed": false
   }
  },
  {
   "cell_type": "code",
   "execution_count": null,
   "outputs": [],
   "source": [
    "time_start = time.time()\n",
    "\n",
    "# For DECAM, BASS, MzLS\n",
    "with open('../../bricks_data/pixel2ccd_2048_non_inclusive.pickle', 'rb') as f:\n",
    "    subpixel2ccd_dict = pickle.load(f)\n",
    "    f.close()\n",
    "\n",
    "time_end = time.time()\n",
    "time_passed = time_end - time_start\n",
    "print()\n",
    "print(f\"{time_passed / 60:.5} minutes ({time_passed:.3} seconds) taken to import the dict\")\n",
    "print()"
   ],
   "metadata": {
    "collapsed": false,
    "pycharm": {
     "name": "#%%\n"
    }
   }
  },
  {
   "cell_type": "code",
   "execution_count": null,
   "outputs": [],
   "source": [
    "print(len(subpixel2ccd_dict))"
   ],
   "metadata": {
    "collapsed": false,
    "pycharm": {
     "name": "#%%\n"
    }
   }
  },
  {
   "cell_type": "code",
   "execution_count": null,
   "outputs": [],
   "source": [
    "time_start = time.time()\n",
    "\n",
    "# For DECAM, BASS, MzLS\n",
    "with open('../../bricks_data/pixel2subpixel_256_2048.pickle', 'rb') as f:\n",
    "    pixel2subpixel_dict = pickle.load(f)\n",
    "    f.close()\n",
    "\n",
    "time_end = time.time()\n",
    "time_passed = time_end - time_start\n",
    "print()\n",
    "print(f\"{time_passed / 60:.5} minutes ({time_passed:.3} seconds) taken to import the dict\")\n",
    "print()"
   ],
   "metadata": {
    "collapsed": false,
    "pycharm": {
     "name": "#%%\n"
    }
   }
  },
  {
   "cell_type": "code",
   "execution_count": null,
   "outputs": [],
   "source": [
    "min = 1000\n",
    "max = 0\n",
    "aggregate = 0\n",
    "index_max_sub = 0\n",
    "lens = np.zeros(len(subpixel2ccd_dict))\n",
    "\n",
    "for i, pix in enumerate(subpixel2ccd_dict.keys()):\n",
    "    no_ccds = len(subpixel2ccd_dict[pix])\n",
    "    lens[i] = no_ccds\n",
    "    aggregate += no_ccds\n",
    "    if no_ccds > max:\n",
    "        max = no_ccds\n",
    "        index_max_sub = pix\n",
    "    if no_ccds < min:\n",
    "        min = no_ccds\n",
    "\n",
    "print(\"Mean CCD's per subpixel:\", lens.mean())\n",
    "print(\"Max CCD's per subpixel:\", max)\n",
    "print(\"Min CCD's per subpixel:\", min)\n",
    "\n"
   ],
   "metadata": {
    "collapsed": false,
    "pycharm": {
     "name": "#%%\n"
    }
   }
  },
  {
   "cell_type": "code",
   "execution_count": null,
   "outputs": [],
   "source": [
    "plt.hist(lens, bins=[0, 30, 50, 100])"
   ],
   "metadata": {
    "collapsed": false,
    "pycharm": {
     "name": "#%%\n"
    }
   }
  },
  {
   "cell_type": "code",
   "execution_count": null,
   "outputs": [],
   "source": [
    "with open('../../bricks_data/pixel2ccd_256_non_inclusive.pickle', 'rb') as f:\n",
    "    pixel2ccd_dict = pickle.load(f)\n",
    "    f.close()"
   ],
   "metadata": {
    "collapsed": false,
    "pycharm": {
     "name": "#%%\n"
    }
   }
  },
  {
   "cell_type": "code",
   "execution_count": null,
   "outputs": [],
   "source": [
    "min = 1000\n",
    "max = 0\n",
    "aggregate = 0\n",
    "index_max = 0\n",
    "lens = np.zeros(len(pixel2ccd_dict))\n",
    "\n",
    "for i, pix in enumerate(pixel2ccd_dict.keys()):\n",
    "    no_ccds = len(pixel2ccd_dict[pix])\n",
    "    lens[i] = no_ccds\n",
    "    aggregate += no_ccds\n",
    "    if no_ccds > max:\n",
    "        max = no_ccds\n",
    "        index_max = pix\n",
    "    if no_ccds < min:\n",
    "        min = no_ccds\n",
    "\n",
    "print(\"Mean CCD's per pixel:\", lens.mean())\n",
    "print(\"Max CCD's per pixel:\", max)\n",
    "print(\"Min CCD's per pixel:\", min)\n"
   ],
   "metadata": {
    "collapsed": false,
    "pycharm": {
     "name": "#%%\n"
    }
   }
  },
  {
   "cell_type": "code",
   "execution_count": null,
   "outputs": [],
   "source": [
    "plt.hist(lens, bins=[0, 30, 50, 100])"
   ],
   "metadata": {
    "collapsed": false,
    "pycharm": {
     "name": "#%%\n"
    }
   }
  },
  {
   "cell_type": "code",
   "execution_count": null,
   "outputs": [],
   "source": [
    "ccd = CCD()\n",
    "\n",
    "ra0, dec0, ra1, dec1, ra2, dec2, ra3, dec3 = ccd.get_boundaries()\n",
    "\n"
   ],
   "metadata": {
    "collapsed": false,
    "pycharm": {
     "name": "#%%\n"
    }
   }
  },
  {
   "cell_type": "markdown",
   "source": [
    "### Plotting the Pixel - CCD Relationship for the most populated pixel"
   ],
   "metadata": {
    "collapsed": false
   }
  },
  {
   "cell_type": "code",
   "execution_count": null,
   "outputs": [],
   "source": [
    "#Validating everything went as intended visually\n",
    "\n",
    "NSIDE = 256\n",
    "pixel_number = index_max\n",
    "print(len(pixel2ccd_dict.keys()))\n",
    "\n",
    "ccd = pixel2ccd_dict[pixel_number]\n",
    "print(\"Number of CCDs that are cutting pixel number \", pixel_number, \":\", len(ccd))\n",
    "for cc in ccd:\n",
    "    xs = [ra0[cc], ra1[cc], ra2[cc], ra3[cc], ra0[cc]]\n",
    "    ys = [dec0[cc], dec1[cc], dec2[cc], dec3[cc], dec0[cc]]\n",
    "    plt.plot(xs, ys)\n",
    "\n",
    "pixel_boundary = hp.boundaries(nside=NSIDE, pix=pixel_number, step=1)\n",
    "pixel_boundary_raDec = hp.vec2ang(pixel_boundary.transpose(), lonlat=True)\n",
    "pixel_boundary_raDec = list(pixel_boundary_raDec)\n",
    "pixel_boundary_raDec[0] = np.append(pixel_boundary_raDec[0], pixel_boundary_raDec[0][0])\n",
    "pixel_boundary_raDec[1] = np.append(pixel_boundary_raDec[1], pixel_boundary_raDec[1][0])\n",
    "\n",
    "plt.plot(pixel_boundary_raDec[0], pixel_boundary_raDec[1], c='black', label=\"Pixel Boundary\")\n",
    "\n",
    "plt.show()"
   ],
   "metadata": {
    "collapsed": false,
    "pycharm": {
     "name": "#%%\n"
    }
   }
  },
  {
   "cell_type": "code",
   "execution_count": null,
   "outputs": [],
   "source": [
    "#Validating everything went as intended visually\n",
    "\n",
    "NSIDE = 2048\n",
    "pixel_number = index_max_sub\n",
    "print(len(subpixel2ccd_dict.keys()))\n",
    "\n",
    "ccd_sub = subpixel2ccd_dict[pixel_number]\n",
    "print(\"Number of CCDs that are cutting pixel number \", pixel_number, \":\", len(ccd))\n",
    "for cc in ccd_sub:\n",
    "    #coord = [[x0,y0], [x1,y1], [x2,y2], [x3,y3], [x0,y0]]\n",
    "    xs = [ra0[cc], ra1[cc], ra2[cc], ra3[cc], ra0[cc]]\n",
    "    ys = [dec0[cc], dec1[cc], dec2[cc], dec3[cc], dec0[cc]]\n",
    "    plt.plot(xs, ys)\n",
    "\n",
    "\n",
    "pixel_boundary = hp.boundaries(nside=NSIDE, pix=pixel_number, step=1)\n",
    "pixel_boundary_raDec = hp.vec2ang(pixel_boundary.transpose(), lonlat=True)\n",
    "pixel_boundary_raDec = list(pixel_boundary_raDec)\n",
    "pixel_boundary_raDec[0] = np.append(pixel_boundary_raDec[0], pixel_boundary_raDec[0][0])\n",
    "pixel_boundary_raDec[1] = np.append(pixel_boundary_raDec[1], pixel_boundary_raDec[1][0])\n",
    "\n",
    "plt.plot(pixel_boundary_raDec[0], pixel_boundary_raDec[1], c='black', label=\"Pixel Boundary\")\n",
    "\n",
    "plt.show()\n",
    "\n"
   ],
   "metadata": {
    "collapsed": false,
    "pycharm": {
     "name": "#%%\n"
    }
   }
  }
 ],
 "metadata": {
  "kernelspec": {
   "display_name": "Python 3",
   "language": "python",
   "name": "python3"
  },
  "language_info": {
   "codemirror_mode": {
    "name": "ipython",
    "version": 2
   },
   "file_extension": ".py",
   "mimetype": "text/x-python",
   "name": "python",
   "nbconvert_exporter": "python",
   "pygments_lexer": "ipython2",
   "version": "2.7.6"
  }
 },
 "nbformat": 4,
 "nbformat_minor": 0
}