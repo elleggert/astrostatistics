{
 "cells": [
  {
   "cell_type": "code",
   "execution_count": 11,
   "metadata": {
    "collapsed": true
   },
   "outputs": [],
   "source": [
    "import numpy as np\n",
    "import pickle\n",
    "import matplotlib.pyplot as plt\n",
    "import healpy as hp\n",
    "from set_dataloader import CCD\n",
    "import time\n",
    "import pandas as pd\n",
    "import random\n"
   ]
  },
  {
   "cell_type": "markdown",
   "source": [
    "#### Experimenting with input sizes"
   ],
   "metadata": {
    "collapsed": false
   }
  },
  {
   "cell_type": "code",
   "execution_count": 9,
   "outputs": [
    {
     "name": "stdout",
     "output_type": "stream",
     "text": [
      "\n",
      "11.4 minutes (6.84e+02 seconds) taken to import the dict\n",
      "\n"
     ]
    }
   ],
   "source": [
    "time_start = time.time()\n",
    "\n",
    "# For DECAM, BASS, MzLS\n",
    "with open('../../bricks_data/pixel2ccd_2048_non_inclusive.pickle', 'rb') as f:\n",
    "    subpixel2ccd_dict = pickle.load(f)\n",
    "    f.close()\n",
    "\n",
    "time_end = time.time()\n",
    "time_passed = time_end - time_start\n",
    "print()\n",
    "print(f\"{time_passed / 60:.5} minutes ({time_passed:.3} seconds) taken to import the dict\")\n",
    "print()"
   ],
   "metadata": {
    "collapsed": false,
    "pycharm": {
     "name": "#%%\n"
    }
   }
  },
  {
   "cell_type": "code",
   "execution_count": null,
   "outputs": [],
   "source": [
    "print(len(subpixel2ccd_dict))"
   ],
   "metadata": {
    "collapsed": false,
    "pycharm": {
     "name": "#%%\n"
    }
   }
  },
  {
   "cell_type": "code",
   "execution_count": 3,
   "outputs": [
    {
     "name": "stdout",
     "output_type": "stream",
     "text": [
      "\n",
      "0.10516 minutes (6.31 seconds) taken to import the dict\n",
      "\n"
     ]
    }
   ],
   "source": [
    "time_start = time.time()\n",
    "\n",
    "# For DECAM, BASS, MzLS\n",
    "with open('../../bricks_data/pixel2subpixel_256_2048.pickle', 'rb') as f:\n",
    "    pixel2subpixel_dict = pickle.load(f)\n",
    "    f.close()\n",
    "\n",
    "time_end = time.time()\n",
    "time_passed = time_end - time_start\n",
    "print()\n",
    "print(f\"{time_passed / 60:.5} minutes ({time_passed:.3} seconds) taken to import the dict\")\n",
    "print()"
   ],
   "metadata": {
    "collapsed": false,
    "pycharm": {
     "name": "#%%\n"
    }
   }
  },
  {
   "cell_type": "code",
   "execution_count": null,
   "outputs": [],
   "source": [
    "min = 1000\n",
    "max = 0\n",
    "aggregate = 0\n",
    "index_max_sub = 0\n",
    "lens = np.zeros(len(subpixel2ccd_dict))\n",
    "\n",
    "for i, pix in enumerate(subpixel2ccd_dict.keys()):\n",
    "    no_ccds = len(subpixel2ccd_dict[pix])\n",
    "    lens[i] = no_ccds\n",
    "    aggregate += no_ccds\n",
    "    if no_ccds > max:\n",
    "        max = no_ccds\n",
    "        index_max_sub = pix\n",
    "    if no_ccds < min:\n",
    "        min = no_ccds\n",
    "\n",
    "print(\"Mean CCD's per subpixel:\", lens.mean())\n",
    "print(\"Max CCD's per subpixel:\", max)\n",
    "print(\"Min CCD's per subpixel:\", min)\n",
    "\n"
   ],
   "metadata": {
    "collapsed": false,
    "pycharm": {
     "name": "#%%\n"
    }
   }
  },
  {
   "cell_type": "code",
   "execution_count": null,
   "outputs": [],
   "source": [
    "plt.hist(lens, bins=[0, 30, 50, 100])\n",
    "print(\"Pixels with more than 50 ccds:\", (lens > 50).sum())\n",
    "print(\"Pixels with more than 100 ccds:\", (lens > 100).sum())\n",
    "print(\"Pixels with more than 500 ccds:\", (lens > 500).sum())\n",
    "print(\"Pixels with more than 1000 ccds:\", (lens > 1000).sum())"
   ],
   "metadata": {
    "collapsed": false,
    "pycharm": {
     "name": "#%%\n"
    }
   }
  },
  {
   "cell_type": "code",
   "execution_count": 4,
   "outputs": [],
   "source": [
    "with open('../../bricks_data/pixel2ccd_256_non_inclusive.pickle', 'rb') as f:\n",
    "    pixel2ccd_dict = pickle.load(f)\n",
    "    f.close()"
   ],
   "metadata": {
    "collapsed": false,
    "pycharm": {
     "name": "#%%\n"
    }
   }
  },
  {
   "cell_type": "code",
   "execution_count": 5,
   "outputs": [
    {
     "name": "stdout",
     "output_type": "stream",
     "text": [
      "Mean CCD's per pixel: 14.62690079449568\n",
      "Max CCD's per pixel: 2951\n",
      "Min CCD's per pixel: 1\n"
     ]
    }
   ],
   "source": [
    "min = 1000\n",
    "max = 0\n",
    "aggregate = 0\n",
    "index_max = 0\n",
    "lens = np.zeros(len(pixel2ccd_dict))\n",
    "\n",
    "for i, pix in enumerate(pixel2ccd_dict.keys()):\n",
    "    no_ccds = len(pixel2ccd_dict[pix])\n",
    "    lens[i] = no_ccds\n",
    "    aggregate += no_ccds\n",
    "    if no_ccds > max:\n",
    "        max = no_ccds\n",
    "        index_max = pix\n",
    "    if no_ccds < min:\n",
    "        min = no_ccds\n",
    "\n",
    "print(\"Mean CCD's per pixel:\", lens.mean())\n",
    "print(\"Max CCD's per pixel:\", max)\n",
    "print(\"Min CCD's per pixel:\", min)\n"
   ],
   "metadata": {
    "collapsed": false,
    "pycharm": {
     "name": "#%%\n"
    }
   }
  },
  {
   "cell_type": "code",
   "execution_count": 8,
   "outputs": [
    {
     "name": "stdout",
     "output_type": "stream",
     "text": [
      "Pixels with more than 50 ccds: 2020\n",
      "Pixels with more than 100 ccds: 576\n",
      "Pixels with more than 500 ccds: 462\n",
      "Pixels with more than 1000 ccds: 102\n"
     ]
    },
    {
     "data": {
      "text/plain": "<Figure size 432x288 with 1 Axes>",
      "image/png": "[encoded data removed]"
     },
     "metadata": {
      "needs_background": "light"
     },
     "output_type": "display_data"
    }
   ],
   "source": [
    "plt.hist(lens, bins=[0, 30, 50, 100])\n",
    "print(\"Pixels with more than 50 ccds:\", (lens > 50).sum())\n",
    "print(\"Pixels with more than 100 ccds:\", (lens > 100).sum())\n",
    "print(\"Pixels with more than 500 ccds:\", (lens > 500).sum())\n",
    "print(\"Pixels with more than 1000 ccds:\", (lens > 1000).sum())"
   ],
   "metadata": {
    "collapsed": false,
    "pycharm": {
     "name": "#%%\n"
    }
   }
  },
  {
   "cell_type": "code",
   "execution_count": 14,
   "outputs": [],
   "source": [
    "ccd = CCD()"
   ],
   "metadata": {
    "collapsed": false,
    "pycharm": {
     "name": "#%%\n"
    }
   }
  },
  {
   "cell_type": "code",
   "execution_count": null,
   "outputs": [],
   "source": [
    "ra0, dec0, ra1, dec1, ra2, dec2, ra3, dec3 = ccd.get_boundaries()\n",
    "\n"
   ],
   "metadata": {
    "collapsed": false,
    "pycharm": {
     "name": "#%%\n"
    }
   }
  },
  {
   "cell_type": "markdown",
   "source": [
    "### Plotting the Pixel - CCD Relationship for the most populated pixel"
   ],
   "metadata": {
    "collapsed": false
   }
  },
  {
   "cell_type": "code",
   "execution_count": null,
   "outputs": [],
   "source": [
    "#Validating everything went as intended visually\n",
    "\n",
    "NSIDE = 256\n",
    "pixel_number = index_max\n",
    "print(len(pixel2ccd_dict.keys()))\n",
    "\n",
    "ccd = pixel2ccd_dict[pixel_number]\n",
    "print(\"Number of CCDs that are cutting pixel number \", pixel_number, \":\", len(ccd))\n",
    "for cc in ccd:\n",
    "    xs = [ra0[cc], ra1[cc], ra2[cc], ra3[cc], ra0[cc]]\n",
    "    ys = [dec0[cc], dec1[cc], dec2[cc], dec3[cc], dec0[cc]]\n",
    "    plt.plot(xs, ys)\n",
    "\n",
    "pixel_boundary = hp.boundaries(nside=NSIDE, pix=pixel_number, step=1)\n",
    "pixel_boundary_raDec = hp.vec2ang(pixel_boundary.transpose(), lonlat=True)\n",
    "pixel_boundary_raDec = list(pixel_boundary_raDec)\n",
    "pixel_boundary_raDec[0] = np.append(pixel_boundary_raDec[0], pixel_boundary_raDec[0][0])\n",
    "pixel_boundary_raDec[1] = np.append(pixel_boundary_raDec[1], pixel_boundary_raDec[1][0])\n",
    "\n",
    "plt.plot(pixel_boundary_raDec[0], pixel_boundary_raDec[1], c='black', label=\"Pixel Boundary\")\n",
    "\n",
    "plt.show()"
   ],
   "metadata": {
    "collapsed": false,
    "pycharm": {
     "name": "#%%\n"
    }
   }
  },
  {
   "cell_type": "code",
   "execution_count": null,
   "outputs": [],
   "source": [
    "#Validating everything went as intended visually\n",
    "\n",
    "NSIDE = 2048\n",
    "pixel_number = index_max_sub\n",
    "print(len(subpixel2ccd_dict.keys()))\n",
    "\n",
    "ccd_sub = subpixel2ccd_dict[pixel_number]\n",
    "print(\"Number of CCDs that are cutting pixel number \", pixel_number, \":\", len(ccd))\n",
    "for cc in ccd_sub:\n",
    "    #coord = [[x0,y0], [x1,y1], [x2,y2], [x3,y3], [x0,y0]]\n",
    "    xs = [ra0[cc], ra1[cc], ra2[cc], ra3[cc], ra0[cc]]\n",
    "    ys = [dec0[cc], dec1[cc], dec2[cc], dec3[cc], dec0[cc]]\n",
    "    plt.plot(xs, ys)\n",
    "\n",
    "\n",
    "pixel_boundary = hp.boundaries(nside=NSIDE, pix=pixel_number, step=1)\n",
    "pixel_boundary_raDec = hp.vec2ang(pixel_boundary.transpose(), lonlat=True)\n",
    "pixel_boundary_raDec = list(pixel_boundary_raDec)\n",
    "pixel_boundary_raDec[0] = np.append(pixel_boundary_raDec[0], pixel_boundary_raDec[0][0])\n",
    "pixel_boundary_raDec[1] = np.append(pixel_boundary_raDec[1], pixel_boundary_raDec[1][0])\n",
    "\n",
    "plt.plot(pixel_boundary_raDec[0], pixel_boundary_raDec[1], c='black', label=\"Pixel Boundary\")\n",
    "\n",
    "plt.show()\n"
   ],
   "metadata": {
    "collapsed": false,
    "pycharm": {
     "name": "#%%\n"
    }
   }
  },
  {
   "cell_type": "markdown",
   "source": [
    "## Preparing  Toy MultiSetSequence DataSet to avoid having to load all the massive dicts into the kernel and to avoid swapout"
   ],
   "metadata": {
    "collapsed": false,
    "pycharm": {
     "name": "#%% md\n"
    }
   }
  },
  {
   "cell_type": "code",
   "execution_count": 12,
   "outputs": [],
   "source": [
    "num_pixels = 2\n",
    "num_subpixels = 4\n",
    "max_ccds = 5\n",
    "num_features = 9\n",
    "#df_raw = pd.read_csv('../../bricks_data/dataset_geometric.csv')\n",
    "# Randomly Sampling Pixel Indices from Dataframe\n",
    "#pixel_indices = random.sample(range(len(df_raw)), num_pixels)\n",
    "pix_ids = [1,2]\n",
    "pixel2subpixel_dict = {1:[11,12,13,14], 2:[21,22,23,24]}\n",
    "subpixel2ccd_dict = {11:[111,112,113,114],12:[121,122,123,124,125], 13:[131,132,133,134,135], 14:[141,142,143,144,145],\n",
    "                     21:[211,212,213,214,215],22:[221,222], 23:[231,232,233,234,235], 24:[241,242,243,244,245]}"
   ],
   "metadata": {
    "collapsed": false,
    "pycharm": {
     "name": "#%%\n"
    }
   }
  },
  {
   "cell_type": "code",
   "execution_count": null,
   "outputs": [],
   "source": [
    "num_pixels = 1000\n",
    "num_subpixels = 64\n",
    "max_ccds = 30\n",
    "num_features = 9\n",
    "df_raw = pd.read_csv('../../bricks_data/dataset_geometric.csv')\n",
    "# Randomly Sampling Pixel Indices from Dataframe\n",
    "pixel_indices = random.sample(range(len(df_raw)), num_pixels)\n",
    "\n",
    "df = df_raw.iloc[pixel_indices]\n",
    "pix_ids = df.pixel_id.to_numpy()"
   ],
   "metadata": {
    "collapsed": false,
    "pycharm": {
     "name": "#%%\n"
    }
   }
  },
  {
   "cell_type": "code",
   "execution_count": 15,
   "outputs": [
    {
     "name": "stdout",
     "output_type": "stream",
     "text": [
      "Pixids [ 32169 341149 528957 280814 273264 694339 707785 370864  73820 257147\n",
      " 721234 373321 240093 721951  78638 162768 293734 583417 502424 259217\n",
      "  10623  54349 140162 691718 422984 607965  64748 390644 455119 656903\n",
      " 110288 386137 626358 449543 724966 665073 370725 223104 393908 271923\n",
      " 617217 717626 205244 510540  26423 101953 345996 458802 668096 288869\n",
      " 145651 401565 683130 420478 691727 590342 567243 135094 106663 233370\n",
      " 645883 197779 345088 123271 200933 106986 350064 622307 561085 204348\n",
      " 152787 272232 186553 158774 636409 732350  77773 360436 389582 546558\n",
      " 394931 255055 349046 392780 246970 140344 716785 113094 363394 464307\n",
      " 286108  32732  48624 611997 180815 413295 640679  16138  82614 644876\n",
      "   4038  10968  84809 320927 282221  47979 356212 251708 292991 255227\n",
      " 242503 178668 299456 182238 586368  31363 276897 346143 330597 407139\n",
      " 305569 417370 140455 210007 198626 384385 181416 177054 196818 592457\n",
      " 170016 491636 462534 382966 299901  73788 223363  53306 731552 218627\n",
      " 540401 143640 677466 671816 242155 712431 389739 750169 250082 369025\n",
      " 171101 725424 293366 429052 501666 443873 454089 325585  97719 496233\n",
      " 225492   7899 630500 108465 277408 606869 249806 256000  80647 126949\n",
      " 320416 186828 116430 499385   5414 571080 422526 354439 635416 176732\n",
      " 350573 328668 694443 103022 453516 390743 734266 605830  30173 377243\n",
      " 428168 627257 411255 319518 148288 346089  54969 687625 222670   7503\n",
      " 716272  63455  52027 282810 383009 431102  45797 456750 238491 331223\n",
      " 446082 304098 119115  17387 241767  75352 347343 610006 240787 172854\n",
      "  10652 660145 705313 719883 722792 368739 348226 337480 677348 536492\n",
      " 180318  56367 175914 350035 200873 550509 739449 230506 275375 171216\n",
      " 224060 316637 240775 276700 736917 718496 587485 701354 326100  79247\n",
      " 180011 390250  63501 372862 106813 237615 135012 541348 485946 126233\n",
      " 663180 435185 474683 230323 269270 200897 186227 687437 696163 434845\n",
      "  43934 170990 235336 309636  65721 110465 614955 394379 199214 510649\n",
      " 103149 704336 367714 131089  57785 475011  67132 407548 421500  67747\n",
      " 364920  10431   7703 141309 726297 605734 231912 425937 412092 360589\n",
      " 631391  66835  43143 177735 358812 368485  64698 159967 276972 229975\n",
      " 140536 139053 419714 356762 114453 565992  70126 673631 268544 313193\n",
      "  52504 706876 289273 271198 426583 150761  36390 475705 618145 680089\n",
      " 437292 379246 125113 358837  47943 234647 221304 388569 238799 138241\n",
      " 422572 142233 684776 435332 290983 130191  42623 221689 601708 633459\n",
      "  49900 298590 379019 500310 229812  27290 465546 230907 688424 316850\n",
      "  44891 518891 395462 370133 378967 591517 595691 249874 408085 167039\n",
      "  11323 415350 636348  22910 658797 139159 259493 147495 615127  76183\n",
      " 343030 472492 310485 248954 148422 690980 177019 403640 186464 313418\n",
      " 183350 739853 189318 335970 243116  10916 114131 492045 716299 480875\n",
      "  59001  28877 590536 437757 109331 298911 712304 238137 650896 596617\n",
      " 485854 239022 256514 198502 406363 125963 377916 435617 421395 107914\n",
      " 149467 598744 222818 211471  42175 479652 284125 214016 307825 649709\n",
      " 226458 712372 304598 662989 513608 216936 353828 290676 421784 673837\n",
      " 438977 293464 137132 702104 657939  71408 268731 410595 361883 218303\n",
      " 208489 398936 380964 536287 227154 190623 395350 210416 328618 425859\n",
      " 151504  28221 594490  10347 405507 439709 200608 287160 234084 106966\n",
      " 675466 127020 285173 361889 217623 375876 337333 704335 279064 627195\n",
      " 486053 279484 691025 309373 144248 560733 683122 233046  24239 113335\n",
      " 206431 358234 134968 134410 466608  95916 238444 225833 338898 134939\n",
      " 621300 108854 383856  57227 650897 233021 330258 135111 326582 522922\n",
      " 178286 242123 510530 112210 112174 482783  45730 335046 207030 477819\n",
      " 134442 627378 443474 444358 266450 312250 224097 619191 174910 240736\n",
      " 209783 572143 241502  94116 124799 450957 270908 453016 648689 323037\n",
      " 230445 604694 646805 375877 520891 177041 405384 686440 419869 509580\n",
      " 509609 266125  42558 306150 292885 462211 338069  32332 250119  33364\n",
      " 296529 650916 222462 262201 404964  48056 581242 441866 391803 439935\n",
      "  51139 396954 300664 557712 372621 207733 343929 117933 651667 434622\n",
      " 690063  65508  41977 662930 209075 334016 128196 381049 679481  81426\n",
      " 712364 507519 343593 371674  50767 197700 100186 399400 398783 721354\n",
      " 716188  81475 356955 250763 320926 320435 587455 631380 279151 733518\n",
      " 369660  46864 327830 371711 320897 300593 407961 121244  40867  89155\n",
      " 265350 673567 262632 415114 223491 580543 412734 526021 618122 668930\n",
      "  73781 426541 265278 378303 335284 343262  41987  94973 568914 442996\n",
      " 147348 236458  27860 237095 602718 155457 640540 438632 288995 431793\n",
      " 634417  93386 141457 367585 404177 666145 341401 170185 456057 658957\n",
      " 111192  14541 595683 448144 384715 332165  78417 630450 161799  48864\n",
      " 207316 275611 659026 379826 204969 221665 166925 275890 736149  66196\n",
      " 221296 375930 194727 424543   7410 203216  69864 715432 370894 118857\n",
      " 719995 315832 427660 386714 189548  23310  24612 475018 669078 378243\n",
      " 605819 237778 456120 694465 480653 728217 209759 631304 602637 356764\n",
      " 730421  29402 389987  96040 194419 717800 668097 366645 220085 670008\n",
      " 293028 690017 668718 331994 466634 155635 464280 347240 287318 345997\n",
      " 665110 314486 331200 516714 350623 367822 277682 208843 182070  95186\n",
      " 185926  70878 228517  33371 272859 146613  51381 440279 286534 357408\n",
      " 718310 419510 422281 221202 314936 238500 187507 260689 259530 280595\n",
      "  15189 353200 597762 276366 377939 361090 382996 648737 717031 301902\n",
      " 519721 152564  38785 717606 642683 446833 414380 325085 297517 319312\n",
      " 292362 691962 197166 416378  25673 674639  97616 650845 374240 350259\n",
      " 160934 428472 270752  49242 420357 713149 267440 447463 221348 440793\n",
      " 185374 308435 263585 252871 217701 599605 130105 298062 383191 433726\n",
      " 521932 722162 394690 368063 537299 312851 379910 482683 342073 650986\n",
      "  69331 490941  36472 321068 452728 541356 228961 393855 671640 214039\n",
      " 647744 171180 480916 635457  85540 679369  16555 468540 182806 390689\n",
      " 110304 242189 293041 691974 646768 481902 256153  85019 296798 393763\n",
      " 305357  57706 231890  89039 632325   4988 142184 498135 177343 229838\n",
      "  60676 335833 726180 197048 126881 397937 623122 203004 354497 712499\n",
      " 419461 483941 714017   5624 408647 108359 445511 340951 212998 701117\n",
      " 258902 226515 751313 720575  42740 264739 230585 214906  49177 715545\n",
      " 688305 220615 420288 440981 197206 722747  62516 540229 178123 380329\n",
      "  24693 637569 333683 135202 414750 470618  53977 203193 440814 279066\n",
      " 460354 250468  84060 683034  70093 354160 372668 394735 273578  53346\n",
      " 436300  58595 399977 262680 116432 309431 461492 355747 114464 231986\n",
      " 360553 217519 366455 450212 192350  69268 403977 355450 626438 214881\n",
      " 242901  83147 649976 166110 448123 298934 203890 368502 268478  97878\n",
      " 307245  42531  91838 394667 390665  66152 522860 267292 286558  43925\n",
      " 221698  98380 171502 315531 173013 163977  53683 276363 247766 314581\n",
      "  12424 416895 253533 689969 261567 395967 662082 661142  53244 171079\n",
      " 330264 165061 695208 418659 425027 257988 236654 631410  23741 215482\n",
      " 214069 593659 669751 446564 324436 605949 393288 113269  70921 382391]\n"
     ]
    }
   ],
   "source": [
    "#self.input = -1 * np.ones((self.num_pixels, self.max_ccds, self.num_features))\n",
    "input = np.zeros((num_pixels, num_subpixels, max_ccds, num_features))\n",
    "# Iterate through the pixels\n",
    "print(\"Pixids\", pix_ids)\n",
    "for pix_no, pix in enumerate(pix_ids):\n",
    "\n",
    "    subpix_ids = pixel2subpixel_dict[pix]\n",
    "    subpix_ids = subpix_ids[:num_subpixels]\n",
    "\n",
    "    for subpix_no, subpix in enumerate(subpix_ids):\n",
    "        if subpix not in subpixel2ccd_dict:\n",
    "            continue\n",
    "        subpix_ccds = subpixel2ccd_dict[subpix]\n",
    "        random.shuffle(subpix_ccds)\n",
    "        subpix_ccds = subpix_ccds[:max_ccds]\n",
    "        x = ccd.get_ccds(subpix_ccds)\n",
    "\n",
    "        # Iterate through the CCDs for every pixel\n",
    "        for ccd_no in range(len(subpix_ccds)):\n",
    "            input[pix_no, subpix_no,ccd_no] = x[ccd_no]"
   ],
   "metadata": {
    "collapsed": false,
    "pycharm": {
     "name": "#%%\n"
    }
   }
  },
  {
   "cell_type": "code",
   "execution_count": 16,
   "outputs": [
    {
     "name": "stdout",
     "output_type": "stream",
     "text": [
      "[[0 0 0 ... 0 0 0]\n",
      " [0 0 0 ... 0 0 0]\n",
      " [0 0 0 ... 0 0 0]\n",
      " ...\n",
      " [0 0 0 ... 0 0 0]\n",
      " [0 0 0 ... 0 0 0]\n",
      " [0 0 0 ... 0 0 0]]\n",
      "[[ 9  8  8 ... 13 13  9]\n",
      " [10  6  8 ... 10 10 13]\n",
      " [29 30 30 ... 29 29 30]\n",
      " ...\n",
      " [13 13 12 ... 11 12 11]\n",
      " [12  9 11 ...  9 10 11]\n",
      " [30 25 28 ... 28 29 29]]\n"
     ]
    }
   ],
   "source": [
    "var_set_len = True\n",
    "lengths = np.zeros((num_pixels,num_subpixels), dtype=int)\n",
    "print(lengths)\n",
    "if var_set_len:\n",
    "    for pix_no, pix in enumerate(pix_ids):\n",
    "        subpix_ids = pixel2subpixel_dict[pix]\n",
    "        subpix_ids = subpix_ids[:num_subpixels]\n",
    "\n",
    "        for subpix_no, subpix in enumerate(subpix_ids):\n",
    "            if subpix not in subpixel2ccd_dict:\n",
    "                lengths[pix_no, subpix_no] = 0\n",
    "                continue\n",
    "            c = len(subpixel2ccd_dict[subpix])\n",
    "            if c < max_ccds:\n",
    "                lengths[pix_no, subpix_no] = c\n",
    "            else:\n",
    "                lengths[pix_no, subpix_no] = max_ccds\n",
    "\n",
    "else:\n",
    "    lengths.fill(max_ccds)\n",
    "\n",
    "print(lengths)"
   ],
   "metadata": {
    "collapsed": false,
    "pycharm": {
     "name": "#%%\n"
    }
   }
  },
  {
   "cell_type": "code",
   "execution_count": 19,
   "outputs": [
    {
     "name": "stdout",
     "output_type": "stream",
     "text": [
      "(1000,)\n",
      "(1000, 64, 30, 9)\n",
      "(1000, 64)\n"
     ]
    }
   ],
   "source": [
    "print(pix_ids.shape)\n",
    "print(input.shape)\n",
    "print(lengths.shape)"
   ],
   "metadata": {
    "collapsed": false,
    "pycharm": {
     "name": "#%%\n"
    }
   }
  },
  {
   "cell_type": "code",
   "execution_count": 21,
   "outputs": [],
   "source": [
    "lrg = df.lrg.to_numpy()\n",
    "elg = df.elg.to_numpy()\n",
    "qso = df.qso.to_numpy()"
   ],
   "metadata": {
    "collapsed": false,
    "pycharm": {
     "name": "#%%\n"
    }
   }
  },
  {
   "cell_type": "code",
   "execution_count": 22,
   "outputs": [],
   "source": [
    "from collections import defaultdict\n",
    "mini_multiset = defaultdict(list)\n",
    "for i, pix in enumerate(pix_ids):\n",
    "    mini_multiset[pix].append(input[i])\n",
    "    mini_multiset[pix].append(lengths[i])\n",
    "    mini_multiset[pix].append(lrg[i])\n",
    "    mini_multiset[pix].append(elg[i])\n",
    "    mini_multiset[pix].append(qso[i])"
   ],
   "metadata": {
    "collapsed": false,
    "pycharm": {
     "name": "#%%\n"
    }
   }
  },
  {
   "cell_type": "code",
   "execution_count": 23,
   "outputs": [
    {
     "name": "stdout",
     "output_type": "stream",
     "text": [
      "[array([[[2.00000000e+00, 1.00000000e+00, 9.00000000e+01, ...,\n",
      "         2.25054207e+01, 1.79983899e-02, 1.19000000e+02],\n",
      "        [0.00000000e+00, 1.00000000e+00, 9.00000000e+01, ...,\n",
      "         2.36905594e+01, 1.96362194e-02, 1.14000000e+02],\n",
      "        [1.00000000e+00, 1.00000000e+00, 9.00000000e+01, ...,\n",
      "         2.33807144e+01, 2.05958914e-02, 1.01000000e+02],\n",
      "        ...,\n",
      "        [0.00000000e+00, 0.00000000e+00, 0.00000000e+00, ...,\n",
      "         0.00000000e+00, 0.00000000e+00, 0.00000000e+00],\n",
      "        [0.00000000e+00, 0.00000000e+00, 0.00000000e+00, ...,\n",
      "         0.00000000e+00, 0.00000000e+00, 0.00000000e+00],\n",
      "        [0.00000000e+00, 0.00000000e+00, 0.00000000e+00, ...,\n",
      "         0.00000000e+00, 0.00000000e+00, 0.00000000e+00]],\n",
      "\n",
      "       [[1.00000000e+00, 1.00000000e+00, 9.00000000e+01, ...,\n",
      "         2.33807144e+01, 2.05958914e-02, 1.01000000e+02],\n",
      "        [0.00000000e+00, 1.00000000e+00, 9.00000000e+01, ...,\n",
      "         2.36454239e+01, 1.98624618e-02, 1.07000000e+02],\n",
      "        [1.00000000e+00, 1.00000000e+00, 9.00000000e+01, ...,\n",
      "         2.36663017e+01, 1.79978162e-02, 1.19000000e+02],\n",
      "        ...,\n",
      "        [0.00000000e+00, 0.00000000e+00, 0.00000000e+00, ...,\n",
      "         0.00000000e+00, 0.00000000e+00, 0.00000000e+00],\n",
      "        [0.00000000e+00, 0.00000000e+00, 0.00000000e+00, ...,\n",
      "         0.00000000e+00, 0.00000000e+00, 0.00000000e+00],\n",
      "        [0.00000000e+00, 0.00000000e+00, 0.00000000e+00, ...,\n",
      "         0.00000000e+00, 0.00000000e+00, 0.00000000e+00]],\n",
      "\n",
      "       [[1.00000000e+00, 1.00000000e+00, 9.00000000e+01, ...,\n",
      "         2.34510708e+01, 1.86675005e-02, 1.13000000e+02],\n",
      "        [0.00000000e+00, 1.00000000e+00, 9.00000000e+01, ...,\n",
      "         2.36905594e+01, 1.96362194e-02, 1.14000000e+02],\n",
      "        [0.00000000e+00, 1.00000000e+00, 9.00000000e+01, ...,\n",
      "         2.39583244e+01, 1.93116441e-02, 1.12000000e+02],\n",
      "        ...,\n",
      "        [0.00000000e+00, 1.00000000e+00, 9.00000000e+01, ...,\n",
      "         2.37832527e+01, 1.84783284e-02, 1.07000000e+02],\n",
      "        [0.00000000e+00, 1.00000000e+00, 9.00000000e+01, ...,\n",
      "         2.28097363e+01, 2.07100417e-02, 9.60000000e+01],\n",
      "        [0.00000000e+00, 0.00000000e+00, 0.00000000e+00, ...,\n",
      "         0.00000000e+00, 0.00000000e+00, 0.00000000e+00]],\n",
      "\n",
      "       ...,\n",
      "\n",
      "       [[1.00000000e+00, 1.00000000e+00, 9.00000000e+01, ...,\n",
      "         2.34112587e+01, 1.72292069e-02, 8.90000000e+01],\n",
      "        [1.00000000e+00, 1.00000000e+00, 9.00000000e+01, ...,\n",
      "         2.34502029e+01, 1.72532797e-02, 9.60000000e+01],\n",
      "        [1.00000000e+00, 1.00000000e+00, 9.00000000e+01, ...,\n",
      "         2.36665936e+01, 1.79602578e-02, 1.07000000e+02],\n",
      "        ...,\n",
      "        [0.00000000e+00, 0.00000000e+00, 0.00000000e+00, ...,\n",
      "         0.00000000e+00, 0.00000000e+00, 0.00000000e+00],\n",
      "        [0.00000000e+00, 0.00000000e+00, 0.00000000e+00, ...,\n",
      "         0.00000000e+00, 0.00000000e+00, 0.00000000e+00],\n",
      "        [0.00000000e+00, 0.00000000e+00, 0.00000000e+00, ...,\n",
      "         0.00000000e+00, 0.00000000e+00, 0.00000000e+00]],\n",
      "\n",
      "       [[1.00000000e+00, 1.00000000e+00, 9.00000000e+01, ...,\n",
      "         2.33524857e+01, 1.90995466e-02, 1.17000000e+02],\n",
      "        [1.00000000e+00, 1.00000000e+00, 9.00000000e+01, ...,\n",
      "         2.34213924e+01, 1.75697692e-02, 1.03000000e+02],\n",
      "        [0.00000000e+00, 1.00000000e+00, 9.00000000e+01, ...,\n",
      "         2.36364841e+01, 1.83834489e-02, 1.14000000e+02],\n",
      "        ...,\n",
      "        [0.00000000e+00, 0.00000000e+00, 0.00000000e+00, ...,\n",
      "         0.00000000e+00, 0.00000000e+00, 0.00000000e+00],\n",
      "        [0.00000000e+00, 0.00000000e+00, 0.00000000e+00, ...,\n",
      "         0.00000000e+00, 0.00000000e+00, 0.00000000e+00],\n",
      "        [0.00000000e+00, 0.00000000e+00, 0.00000000e+00, ...,\n",
      "         0.00000000e+00, 0.00000000e+00, 0.00000000e+00]],\n",
      "\n",
      "       [[2.00000000e+00, 1.00000000e+00, 9.00000000e+01, ...,\n",
      "         2.21711617e+01, 1.75736435e-02, 1.03000000e+02],\n",
      "        [1.00000000e+00, 1.00000000e+00, 9.00000000e+01, ...,\n",
      "         2.35343513e+01, 1.78803355e-02, 9.70000000e+01],\n",
      "        [0.00000000e+00, 1.00000000e+00, 9.00000000e+01, ...,\n",
      "         2.40156002e+01, 1.79628693e-02, 1.04000000e+02],\n",
      "        ...,\n",
      "        [0.00000000e+00, 1.00000000e+00, 9.00000000e+01, ...,\n",
      "         2.38216801e+01, 1.80098061e-02, 1.07000000e+02],\n",
      "        [0.00000000e+00, 1.00000000e+00, 9.00000000e+01, ...,\n",
      "         2.36248417e+01, 1.77071020e-02, 9.60000000e+01],\n",
      "        [0.00000000e+00, 0.00000000e+00, 0.00000000e+00, ...,\n",
      "         0.00000000e+00, 0.00000000e+00, 0.00000000e+00]]]), array([25, 27, 29, 24, 26, 27, 21, 21, 23, 20, 21, 21, 23, 27, 30, 23, 20,\n",
      "       22, 25, 21, 20, 29, 26, 26, 28, 30, 30, 30, 22, 19, 19, 21, 27, 27,\n",
      "       27, 30, 25, 22, 22, 29, 30, 29, 30, 18, 18, 20, 27, 24, 26, 22, 22,\n",
      "       29, 30, 30, 25, 27, 30, 28, 23, 28, 30, 22, 27, 29]), 35, 94, 123]\n"
     ]
    }
   ],
   "source": [
    "print(mini_multiset[483941])\n",
    "\n",
    "\n"
   ],
   "metadata": {
    "collapsed": false,
    "pycharm": {
     "name": "#%%\n"
    }
   }
  },
  {
   "cell_type": "code",
   "execution_count": 24,
   "outputs": [],
   "source": [
    "\n",
    "\n",
    "with open(f'../../bricks_data/mini_multiset.pickle', 'wb') as f:\n",
    "    pickle.dump(mini_multiset, f)\n",
    "    f.close()"
   ],
   "metadata": {
    "collapsed": false,
    "pycharm": {
     "name": "#%%\n"
    }
   }
  },
  {
   "cell_type": "code",
   "execution_count": null,
   "outputs": [],
   "source": [],
   "metadata": {
    "collapsed": false,
    "pycharm": {
     "name": "#%%\n"
    }
   }
  }
 ],
 "metadata": {
  "kernelspec": {
   "display_name": "Python 3",
   "language": "python",
   "name": "python3"
  },
  "language_info": {
   "codemirror_mode": {
    "name": "ipython",
    "version": 2
   },
   "file_extension": ".py",
   "mimetype": "text/x-python",
   "name": "python",
   "nbconvert_exporter": "python",
   "pygments_lexer": "ipython2",
   "version": "2.7.6"
  }
 },
 "nbformat": 4,
 "nbformat_minor": 0
}