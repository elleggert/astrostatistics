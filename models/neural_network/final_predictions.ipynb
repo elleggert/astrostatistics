{
 "cells": [
  {
   "cell_type": "code",
   "execution_count": null,
   "outputs": [],
   "source": [
    "import pandas as pd\n",
    "import torch\n",
    "import os\n",
    "import numpy as np\n",
    "from torch.utils.data import DataLoader\n",
    "from sklearn import metrics\n",
    "import math\n",
    "\n",
    "from datasets import DensitySurvey\n",
    "\n"
   ],
   "metadata": {
    "collapsed": false,
    "pycharm": {
     "name": "#%%\n"
    }
   }
  },
  {
   "cell_type": "markdown",
   "source": [
    "### Neural Network Final Predictions\n"
   ],
   "metadata": {
    "collapsed": false
   }
  },
  {
   "cell_type": "code",
   "execution_count": 13,
   "outputs": [
    {
     "data": {
      "text/plain": "Index(['pixel_id', 'lrg', 'elg', 'qso', 'exposures', 'stellar', 'EBV',\n       'airmass', 'ccdskysb_g', 'ccdskysb_r', 'ccdskysb_z', 'exptime_g',\n       'exptime_r', 'exptime_z', 'meansky_g', 'meansky_r', 'meansky_z',\n       'seeing_g', 'seeing_r', 'seeing_z', 'lrg_lin', 'elg_lin', 'qso_lin',\n       'lrg_deep', 'y_gold_x', 'elg_deep', 'y_gold_y', 'qso_deep', 'y_gold'],\n      dtype='object')"
     },
     "execution_count": 13,
     "metadata": {},
     "output_type": "execute_result"
    }
   ],
   "source": [
    "\n",
    "areas = ['north', 'south', 'des']\n",
    "galaxies = ['lrg', 'elg', 'qso']\n",
    "device = 'cpu'\n",
    "max_set_len = 0\n",
    "\n",
    "df_north = pd.read_csv(f'../regression/results/north.csv')\n",
    "df_south = pd.read_csv(f'../regression/results/south.csv')\n",
    "df_des = pd.read_csv(f'../regression/results/des.csv')\n",
    "\n",
    "df_north.columns\n",
    "\n"
   ],
   "metadata": {
    "collapsed": false,
    "pycharm": {
     "name": "#%%\n"
    }
   }
  },
  {
   "cell_type": "code",
   "execution_count": 14,
   "outputs": [
    {
     "name": "stdout",
     "output_type": "stream",
     "text": [
      "0.022140414501169103\n",
      "Target 19508 0 131.0 1.0 35.25584375640763\n",
      "[37. 27. 21. ... 27. 25. 32.]\n",
      "Prediction 19508 0 42.653907775878906 24.04363441467285 35.74281108890226\n",
      "[36.98944092 34.81783676 34.24811935 ... 34.66788483 34.66122437\n",
      " 34.18857193]\n",
      "\n",
      " XXXXXX======== TRIAL north - lrg ended\n",
      "\n",
      "Test Set - R-squared:  0.022140409882163592\n",
      "Test Set - RMSE:  11.836388599511777\n",
      "Test Set - MAE:  8.752876406398395\n",
      "\n",
      "\n",
      "\n",
      "0.20695097948924068\n",
      "Target 19508 0 285.0 1.0 125.01768505228624\n",
      "[ 63. 156.  95. ... 132. 139. 111.]\n",
      "Prediction 19508 0 167.42422485351562 0.0 126.70591145156226\n",
      "[106.44763947 137.95901489 124.56479645 ... 127.24111938 155.86907959\n",
      " 134.17895508]\n",
      "\n",
      " XXXXXX======== TRIAL north - elg ended\n",
      "\n",
      "Test Set - R-squared:  0.20695098179084814\n",
      "Test Set - RMSE:  19.945838743882955\n",
      "Test Set - MAE:  15.552962719673062\n",
      "\n",
      "\n",
      "\n",
      "0.17315364401834488\n",
      "Target 19508 0 314.0 1.0 153.39173672339552\n",
      "[166. 146. 114. ... 168. 134. 150.]\n",
      "Prediction 19508 0 179.1888427734375 55.79410171508789 152.84699135968646\n",
      "[151.08296204 148.48658752 162.21138    ... 151.67658997 147.09042358\n",
      " 140.25558472]\n",
      "\n",
      " XXXXXX======== TRIAL north - qso ended\n",
      "\n",
      "Test Set - R-squared:  0.17315364059675709\n",
      "Test Set - RMSE:  26.417525206145395\n",
      "Test Set - MAE:  20.615506909190326\n",
      "\n",
      "\n",
      "\n",
      "0.03654328052808242\n",
      "Target 37144 0 129.0 1.0 33.86479646780099\n",
      "[51. 35. 31. ... 28. 22. 36.]\n",
      "Prediction 37144 0 42.214324951171875 0.2985900044441223 33.838771897717756\n",
      "[33.72019196 34.18161774 34.98065186 ... 32.90890884 34.21627045\n",
      " 33.43503189]\n",
      "\n",
      " XXXXXX======== TRIAL south - lrg ended\n",
      "\n",
      "Test Set - R-squared:  0.036543283650366964\n",
      "Test Set - RMSE:  11.599543640802684\n",
      "Test Set - MAE:  8.444132873556198\n",
      "\n",
      "\n",
      "\n",
      "0.2316792868337325\n",
      "Target 37144 0 274.0 1.0 130.18977493000216\n",
      "[ 97. 150. 113. ... 133. 123. 139.]\n",
      "Prediction 37144 0 164.80479431152344 10.583047866821289 130.47241364012189\n",
      "[120.53647614 137.65109253 131.02761841 ... 128.9211731  123.86227417\n",
      " 138.56689453]\n",
      "\n",
      " XXXXXX======== TRIAL south - elg ended\n",
      "\n",
      "Test Set - R-squared:  0.2316792873493927\n",
      "Test Set - RMSE:  20.387859136412757\n",
      "Test Set - MAE:  15.758511776095343\n",
      "\n",
      "\n",
      "\n",
      "0.17955425470675235\n",
      "Target 37144 0 344.0 1.0 158.8293667887142\n",
      "[166. 176. 138. ... 178. 189. 186.]\n",
      "Prediction 37144 0 239.71083068847656 20.469873428344727 160.13268835704284\n",
      "[159.51490784 162.06118774 169.15666199 ... 165.77603149 161.74707031\n",
      " 162.22720337]\n",
      "\n",
      " XXXXXX======== TRIAL south - qso ended\n",
      "\n",
      "Test Set - R-squared:  0.17955423765022205\n",
      "Test Set - RMSE:  25.491305611400325\n",
      "Test Set - MAE:  19.451828740163272\n",
      "\n",
      "\n",
      "\n",
      "0.016586620971576482\n",
      "Target 17327 0 105.0 4.0 32.60899174698447\n",
      "[26. 33. 36. ... 29. 25. 29.]\n",
      "Prediction 17327 0 38.51377487182617 29.515296936035156 32.49586743026595\n",
      "[33.53034592 31.47106552 32.71190262 ... 33.24320602 31.70972443\n",
      " 32.13989639]\n",
      "\n",
      " XXXXXX======== TRIAL des - lrg ended\n",
      "\n",
      "Test Set - R-squared:  0.01658661804624406\n",
      "Test Set - RMSE:  10.111482016904285\n",
      "Test Set - MAE:  7.6797576901434805\n",
      "\n",
      "\n",
      "\n",
      "0.07770411006453126\n",
      "Target 17327 0 226.0 8.0 124.33421827206095\n",
      "[127. 121. 133. ... 135. 117. 110.]\n",
      "Prediction 17327 0 175.04318237304688 104.4248046875 123.85515232981129\n",
      "[129.3614502  121.20923615 124.34805298 ... 127.05012512 120.27193451\n",
      " 120.24554443]\n",
      "\n",
      " XXXXXX======== TRIAL des - elg ended\n",
      "\n",
      "Test Set - R-squared:  0.07770411172053338\n",
      "Test Set - RMSE:  17.834749986283626\n",
      "Test Set - MAE:  14.062019405385906\n",
      "\n",
      "\n",
      "\n",
      "0.09592988636129784\n",
      "Target 17327 0 332.0 19.0 165.8452126738616\n",
      "[138. 178. 199. ... 158. 166. 161.]\n",
      "Prediction 17327 0 198.0933837890625 139.75828552246094 165.21120280848515\n",
      "[166.11964417 151.59944153 173.17985535 ... 157.86819458 161.72294617\n",
      " 164.20262146]\n",
      "\n",
      " XXXXXX======== TRIAL des - qso ended\n",
      "\n",
      "Test Set - R-squared:  0.09592987839880085\n",
      "Test Set - RMSE:  23.41215694947748\n",
      "Test Set - MAE:  18.16763928362149\n",
      "\n",
      "\n",
      "\n"
     ]
    }
   ],
   "source": [
    "for area in areas:\n",
    "\n",
    "    df_test = pd.read_csv(f'data/{area}/{area}_test.csv')\n",
    "    pixel_id = df_test.pixel_id\n",
    "\n",
    "    df_test = df_test.drop(columns=['pixel_id', 'exposures'], axis=1, inplace=False)\n",
    "\n",
    "    for gal in galaxies:\n",
    "        testdata = DensitySurvey(df_test, gal)\n",
    "\n",
    "        best_val = -100\n",
    "        for model in os.listdir(f\"trained_models/{area}/{gal}\"):\n",
    "            val = float(model[:-3])\n",
    "            if val > best_val:\n",
    "                best_val = val\n",
    "\n",
    "        print(best_val)\n",
    "        model = torch.load(f\"trained_models/{area}/{gal}/{best_val}.pt\",\n",
    "                           map_location=torch.device('cpu'))\n",
    "\n",
    "        testloader = torch.utils.data.DataLoader(testdata, batch_size=128, shuffle=False)\n",
    "\n",
    "        model.eval()\n",
    "        y_pred = np.array([])\n",
    "        y_gold = np.array([])\n",
    "\n",
    "        with torch.no_grad():\n",
    "\n",
    "            for i, (inputs, labels) in enumerate(testloader):\n",
    "                # Split dataloader\n",
    "                inputs = inputs.to(device)\n",
    "                # Forward pass through the trained network\n",
    "                outputs = model(inputs)\n",
    "\n",
    "                # Get predictions and append to label array + count number of correct and total\n",
    "                y_pred = np.append(y_pred, outputs.cpu().detach().numpy())\n",
    "                y_gold = np.append(y_gold, labels.cpu().detach().numpy())\n",
    "\n",
    "            print(\"Target\", len(y_gold), np.isnan(y_gold).sum(), np.max(y_gold), np.min(y_gold), np.mean(y_gold))\n",
    "            print(y_gold)\n",
    "            print(\"Prediction\", len(y_pred), np.isnan(y_pred).sum(), np.max(y_pred), np.min(y_pred), np.mean(y_pred))\n",
    "            print(y_pred)\n",
    "\n",
    "            r2, rmse, mae = 0, 0, 0\n",
    "\n",
    "            try:\n",
    "                r2 = metrics.r2_score(y_gold, y_pred)\n",
    "                rmse = math.sqrt(metrics.mean_squared_error(y_gold, y_pred))\n",
    "                mae = metrics.mean_absolute_error(y_gold, y_pred)\n",
    "\n",
    "            except:\n",
    "                print(\"++++++++++++++++++++\")\n",
    "                print(\"   NaN Predicted    \")\n",
    "                print(\"++++++++++++++++++++\")\n",
    "\n",
    "            print()\n",
    "            print(f\" XXXXXX======== TRIAL {area} - {gal} ended\")\n",
    "            print()\n",
    "            print(\"Test Set - R-squared: \", r2)\n",
    "            print(\"Test Set - RMSE: \", rmse)\n",
    "            print(\"Test Set - MAE: \", mae)\n",
    "            print()\n",
    "            print()\n",
    "            print()\n",
    "\n",
    "        ax = np.stack((pixel_id, y_pred), axis=1)\n",
    "        df_deep = pd.DataFrame(ax, columns=['pixel_id', f'{gal}_nn'])\n",
    "\n",
    "        df_deep.pixel_id = df_deep.pixel_id.astype(int)\n",
    "\n",
    "        if area == 'north':\n",
    "            df_north = df_north.merge(df_deep, how='inner', on='pixel_id')\n",
    "        elif area == 'south':\n",
    "            df_south = df_south.merge(df_deep, how='inner', on='pixel_id')\n",
    "        else:\n",
    "            df_des = df_des.merge(df_deep, how='inner', on='pixel_id')"
   ],
   "metadata": {
    "collapsed": false,
    "pycharm": {
     "name": "#%%\n"
    }
   }
  },
  {
   "cell_type": "code",
   "execution_count": 15,
   "outputs": [
    {
     "name": "stdout",
     "output_type": "stream",
     "text": [
      "   pixel_id  lrg  elg  qso  exposures   stellar       EBV   airmass  \\\n",
      "0     20930   37   63  166   0.230769  0.271967  0.578446  0.447089   \n",
      "1    128915   27  156  146   0.209790  0.062762  0.060792  0.066278   \n",
      "2     22899   21   95  114   0.188811  0.092050  0.049091  0.371570   \n",
      "3    105934   38  100  150   0.181818  0.104603  0.051809  0.056693   \n",
      "4     14825   26  113  121   0.181818  0.083682  0.077518  0.410721   \n",
      "\n",
      "   ccdskysb_g  ccdskysb_r  ...     qso_lin   lrg_deep  y_gold_x    elg_deep  \\\n",
      "0    0.762753    0.492800  ...  147.112149  38.373226      37.0  102.214256   \n",
      "1    0.720468    0.591275  ...  145.337297  33.768410      27.0  132.624435   \n",
      "2    0.772063    0.579600  ...  162.445987  34.356449      21.0  120.651459   \n",
      "3    0.862060    0.616452  ...  154.163605  34.971714      38.0  124.865211   \n",
      "4    0.817044    0.601693  ...  158.984019  34.321514      26.0  129.414261   \n",
      "\n",
      "   y_gold_y    qso_deep  y_gold     lrg_nn      elg_nn      qso_nn  \n",
      "0      63.0  166.713089   166.0  36.989441  106.447639  151.082962  \n",
      "1     156.0  140.500549   146.0  34.817837  137.959015  148.486588  \n",
      "2      95.0  159.874588   114.0  34.248119  124.564796  162.211380  \n",
      "3     100.0  158.669632   150.0  35.424149  125.339645  160.024933  \n",
      "4     113.0  164.257507   121.0  34.412201  124.900391  157.971161  \n",
      "\n",
      "[5 rows x 32 columns]\n",
      "   pixel_id  lrg  elg  qso  exposures   stellar       EBV   airmass  \\\n",
      "0    301589   51   97  166   0.453901  0.071429  0.241767  0.327689   \n",
      "1    357501   35  150  176   0.347518  0.109244  0.116351  0.256850   \n",
      "2    219584   31  113  138   0.304965  0.260504  0.136105  0.636057   \n",
      "3    172905   26  107  143   0.588652  0.100840  0.142525  0.485916   \n",
      "4    192669   22  165  157   0.368794  0.075630  0.074714  0.729906   \n",
      "\n",
      "   ccdskysb_g  ccdskysb_r  ...     qso_lin   lrg_deep  y_gold_x    elg_deep  \\\n",
      "0    0.572745    0.713239  ...  157.051357  33.693714      51.0  116.425659   \n",
      "1    0.579899    0.518977  ...  163.857720  33.752350      35.0  146.139771   \n",
      "2    0.648851    0.759491  ...  172.237911  35.294655      31.0  129.842941   \n",
      "3    0.452184    0.642542  ...  150.417669  33.853619      26.0  126.625000   \n",
      "4    0.507952    0.751045  ...  159.760059  33.416565      22.0  131.748108   \n",
      "\n",
      "   y_gold_y    qso_deep  y_gold     lrg_nn      elg_nn      qso_nn  \n",
      "0      97.0  160.239944   166.0  33.720192  120.536476  159.514908  \n",
      "1     150.0  158.950073   176.0  34.181618  137.651093  162.061188  \n",
      "2     113.0  161.130753   138.0  34.980652  131.027618  169.156662  \n",
      "3     107.0  148.245743   143.0  33.316101  126.970894  161.554245  \n",
      "4     165.0  162.222443   157.0  32.805458  128.063950  161.738083  \n",
      "\n",
      "[5 rows x 32 columns]\n",
      "   pixel_id  lrg  elg  qso  exposures   stellar       EBV   airmass  \\\n",
      "0    400965   26  127  138   0.210526  0.069767  0.223601  0.516562   \n",
      "1    689172   33  121  178   0.368421  0.178295  0.065022  0.181972   \n",
      "2    692796   36  133  199   0.043860  0.147287  0.154664  0.577994   \n",
      "3    602720   36  134  193   0.302632  0.186047  0.142231  0.594274   \n",
      "4    558688   41  150  172   0.267544  0.085271  0.091023  0.558270   \n",
      "\n",
      "   ccdskysb_g  ccdskysb_r  ...     qso_lin   lrg_deep  y_gold_x    elg_deep  \\\n",
      "0    0.550597    0.533751  ...  162.056962  32.926765      26.0  127.721031   \n",
      "1    0.797624    0.778980  ...  161.333517  32.421955      33.0  119.552330   \n",
      "2    0.774864    0.771753  ...  172.117936  32.834995      36.0  125.236351   \n",
      "3    0.736537    0.697164  ...  173.768567  32.879860      36.0  123.918152   \n",
      "4    0.724642    0.711729  ...  173.360091  32.193932      41.0  123.175621   \n",
      "\n",
      "   y_gold_y    qso_deep  y_gold     lrg_nn      elg_nn      qso_nn  \n",
      "0     127.0  166.425934   138.0  33.530346  129.361450  166.119644  \n",
      "1     121.0  165.950653   178.0  31.471066  121.209236  151.599442  \n",
      "2     133.0  169.384399   199.0  32.711903  124.348053  173.179855  \n",
      "3     134.0  169.570892   193.0  33.378967  122.027573  178.936295  \n",
      "4     150.0  169.202820   172.0  34.350029  124.595261  175.441879  \n",
      "\n",
      "[5 rows x 32 columns]\n"
     ]
    }
   ],
   "source": [
    "print((df_north.head()))\n",
    "print((df_south.head()))\n",
    "print((df_des.head()))\n",
    "\n",
    "df_north = df_north.drop(columns=['y_gold', 'y_gold_x', 'y_gold_y'], axis=1, inplace=False)\n",
    "df_south = df_south.drop(columns=['y_gold', 'y_gold_x', 'y_gold_y'], axis=1, inplace=False)\n",
    "df_des = df_des.drop(columns=['y_gold', 'y_gold_x', 'y_gold_y'], axis=1, inplace=False)"
   ],
   "metadata": {
    "collapsed": false,
    "pycharm": {
     "name": "#%%\n"
    }
   }
  },
  {
   "cell_type": "code",
   "execution_count": 16,
   "outputs": [
    {
     "data": {
      "text/plain": "Index(['pixel_id', 'lrg', 'elg', 'qso', 'exposures', 'stellar', 'EBV',\n       'airmass', 'ccdskysb_g', 'ccdskysb_r', 'ccdskysb_z', 'exptime_g',\n       'exptime_r', 'exptime_z', 'meansky_g', 'meansky_r', 'meansky_z',\n       'seeing_g', 'seeing_r', 'seeing_z', 'lrg_lin', 'elg_lin', 'qso_lin',\n       'lrg_deep', 'elg_deep', 'qso_deep', 'lrg_nn', 'elg_nn', 'qso_nn'],\n      dtype='object')"
     },
     "execution_count": 16,
     "metadata": {},
     "output_type": "execute_result"
    }
   ],
   "source": [
    "df_north.columns"
   ],
   "metadata": {
    "collapsed": false,
    "pycharm": {
     "name": "#%%\n"
    }
   }
  },
  {
   "cell_type": "code",
   "execution_count": 17,
   "outputs": [],
   "source": [
    "df_north.to_csv(f'../regression/results/north.csv', index=False)\n",
    "df_south.to_csv(f'../regression/results/south.csv', index=False)\n",
    "df_des.to_csv(f'../regression/results/des.csv', index=False)"
   ],
   "metadata": {
    "collapsed": false,
    "pycharm": {
     "name": "#%%\n"
    }
   }
  },
  {
   "cell_type": "code",
   "execution_count": null,
   "metadata": {
    "collapsed": true
   },
   "outputs": [],
   "source": []
  }
 ],
 "metadata": {
  "kernelspec": {
   "display_name": "Python 3",
   "language": "python",
   "name": "python3"
  },
  "language_info": {
   "codemirror_mode": {
    "name": "ipython",
    "version": 2
   },
   "file_extension": ".py",
   "mimetype": "text/x-python",
   "name": "python",
   "nbconvert_exporter": "python",
   "pygments_lexer": "ipython2",
   "version": "2.7.6"
  }
 },
 "nbformat": 4,
 "nbformat_minor": 0
}