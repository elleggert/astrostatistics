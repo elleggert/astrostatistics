{
 "cells": [
  {
   "cell_type": "code",
   "execution_count": 1,
   "outputs": [],
   "source": [
    "import pandas as pd\n",
    "import torch\n",
    "import os\n",
    "import numpy as np\n",
    "from torch.utils.data import DataLoader\n",
    "from sklearn import metrics\n",
    "import math\n",
    "\n",
    "from datasets import DensitySurvey\n",
    "\n"
   ],
   "metadata": {
    "collapsed": false,
    "pycharm": {
     "name": "#%%\n"
    }
   }
  },
  {
   "cell_type": "markdown",
   "source": [
    "### Neural Network Final Predictions\n"
   ],
   "metadata": {
    "collapsed": false
   }
  },
  {
   "cell_type": "code",
   "execution_count": 2,
   "outputs": [
    {
     "data": {
      "text/plain": "Index(['pixel_id', 'lrg', 'elg', 'qso', 'exposures', 'stellar', 'EBV',\n       'airmass', 'ccdskysb_g', 'ccdskysb_r', 'ccdskysb_z', 'exptime_g',\n       'exptime_r', 'exptime_z', 'meansky_g', 'meansky_r', 'meansky_z',\n       'seeing_g', 'seeing_r', 'seeing_z', 'lrg_lin', 'elg_lin', 'qso_lin'],\n      dtype='object')"
     },
     "execution_count": 2,
     "metadata": {},
     "output_type": "execute_result"
    }
   ],
   "source": [
    "\n",
    "areas = ['north', 'south', 'des']\n",
    "galaxies = ['lrg', 'elg', 'qso', 'glbg', 'rlbg']\n",
    "device = 'cpu'\n",
    "max_set_len = 0\n",
    "\n",
    "df_north = pd.read_csv(f'../regression/results/north_complete.csv')\n",
    "df_south = pd.read_csv(f'../regression/results/south_complete.csv')\n",
    "df_des = pd.read_csv(f'../regression/results/des_complete.csv')\n",
    "\n",
    "df_north.columns\n",
    "\n"
   ],
   "metadata": {
    "collapsed": false,
    "pycharm": {
     "name": "#%%\n"
    }
   }
  },
  {
   "cell_type": "code",
   "execution_count": 5,
   "outputs": [
    {
     "name": "stdout",
     "output_type": "stream",
     "text": [
      "0.022140414501169103\n",
      "Target 97537 0 131.0 1.0 35.28534812430155\n",
      "[37. 27. 21. ... 38. 33. 32.]\n",
      "Prediction 97537 0 44.132564544677734 24.010534286499023 35.739814353490054\n",
      "[36.98944092 34.81783676 34.24811935 ... 38.37955093 34.14669037\n",
      " 34.37604523]\n",
      "\n",
      " XXXXXX======== TRIAL north - lrg ended\n",
      "\n",
      "Test Set - R-squared:  0.028040983466964375\n",
      "Test Set - RMSE:  11.82057481221346\n",
      "Test Set - MAE:  8.723459963911601\n",
      "\n",
      "\n",
      "\n",
      "0.20695097948924068\n",
      "Target 97537 0 285.0 1.0 124.99900550560301\n",
      "[ 63. 156.  95. ... 115. 152. 107.]\n",
      "Prediction 97537 0 168.24081420898438 0.0 126.76191536012362\n",
      "[106.44763947 137.95901489 124.56479645 ... 120.54670715 129.02919006\n",
      " 133.43963623]\n",
      "\n",
      " XXXXXX======== TRIAL north - elg ended\n",
      "\n",
      "Test Set - R-squared:  0.21045661624063428\n",
      "Test Set - RMSE:  19.7623431743357\n",
      "Test Set - MAE:  15.405403179407\n",
      "\n",
      "\n",
      "\n",
      "0.17315364401834488\n",
      "Target 97537 0 334.0 1.0 153.21741492971898\n",
      "[166. 146. 114. ... 193. 188. 170.]\n",
      "Prediction 97537 0 181.35073852539062 44.17581558227539 152.8061077480042\n",
      "[151.08296204 148.48658752 162.21138    ... 166.54684448 154.95848083\n",
      " 159.01893616]\n",
      "\n",
      " XXXXXX======== TRIAL north - qso ended\n",
      "\n",
      "Test Set - R-squared:  0.17537659213212176\n",
      "Test Set - RMSE:  26.049011845479004\n",
      "Test Set - MAE:  20.338860039200757\n",
      "\n",
      "\n",
      "\n",
      "0.03654328052808242\n",
      "Target 185718 0 129.0 1.0 33.91243175136497\n",
      "[51. 35. 31. ... 25. 17. 40.]\n",
      "Prediction 185718 0 42.85908508300781 -11.046916961669922 33.82089397264867\n",
      "[33.72019196 34.18161774 34.98065186 ... 33.59684372 35.95578003\n",
      " 32.72650146]\n",
      "\n",
      " XXXXXX======== TRIAL south - lrg ended\n",
      "\n",
      "Test Set - R-squared:  0.037663719650120164\n",
      "Test Set - RMSE:  11.564743630904102\n",
      "Test Set - MAE:  8.42007164780181\n",
      "\n",
      "\n",
      "\n",
      "0.2316792868337325\n",
      "Target 185718 0 299.0 1.0 130.10065260233256\n",
      "[ 97. 150. 113. ... 151. 130. 146.]\n",
      "Prediction 185718 0 168.3158416748047 10.583047866821289 130.4141734898656\n",
      "[120.53647614 137.65109253 131.02761841 ... 143.35220337 130.39355469\n",
      " 136.70704651]\n",
      "\n",
      " XXXXXX======== TRIAL south - elg ended\n",
      "\n",
      "Test Set - R-squared:  0.24378183107668405\n",
      "Test Set - RMSE:  20.146513414093313\n",
      "Test Set - MAE:  15.631040575338465\n",
      "\n",
      "\n",
      "\n",
      "0.17955425470675235\n",
      "Target 185718 0 357.0 1.0 158.71789487287177\n",
      "[166. 176. 138. ... 187. 143. 172.]\n",
      "Prediction 185718 0 239.71083068847656 20.469873428344727 160.07729799804287\n",
      "[159.51490784 162.06118774 169.15666199 ... 159.19099426 168.53749084\n",
      " 162.99241638]\n",
      "\n",
      " XXXXXX======== TRIAL south - qso ended\n",
      "\n",
      "Test Set - R-squared:  0.18759962591004642\n",
      "Test Set - RMSE:  25.20308880922567\n",
      "Test Set - MAE:  19.318808627997196\n",
      "\n",
      "\n",
      "\n",
      "0.016586620971576482\n",
      "Target 86631 0 109.0 1.0 32.629174314044626\n",
      "[26. 33. 36. ... 43. 18. 20.]\n",
      "Prediction 86631 0 38.51377487182617 28.981595993041992 32.50099235288783\n",
      "[33.53034592 31.47106552 32.71190262 ... 32.76102829 31.52414131\n",
      " 32.27727127]\n",
      "\n",
      " XXXXXX======== TRIAL des - lrg ended\n",
      "\n",
      "Test Set - R-squared:  0.017253583980423426\n",
      "Test Set - RMSE:  10.137597405292384\n",
      "Test Set - MAE:  7.7136968752544455\n",
      "\n",
      "\n",
      "\n",
      "0.07770411006453126\n",
      "Target 86631 0 251.0 8.0 124.28069628654869\n",
      "[127. 121. 133. ...  93. 117.  99.]\n",
      "Prediction 86631 0 181.70330810546875 104.4248046875 123.83853812396654\n",
      "[129.3614502  121.20923615 124.34805298 ... 129.35394287 123.38124084\n",
      " 121.84693909]\n",
      "\n",
      " XXXXXX======== TRIAL des - elg ended\n",
      "\n",
      "Test Set - R-squared:  0.08083171269921607\n",
      "Test Set - RMSE:  17.67722839550438\n",
      "Test Set - MAE:  13.906140350318195\n",
      "\n",
      "\n",
      "\n",
      "0.09592988636129784\n",
      "Target 86631 0 334.0 17.0 166.08768223845968\n",
      "[138. 178. 199. ... 154. 119. 170.]\n",
      "Prediction 86631 0 207.9844207763672 139.75828552246094 165.28935518126173\n",
      "[166.11964417 151.59944153 173.17985535 ... 159.95222473 157.1754303\n",
      " 163.16682434]\n",
      "\n",
      " XXXXXX======== TRIAL des - qso ended\n",
      "\n",
      "Test Set - R-squared:  0.11777667830513028\n",
      "Test Set - RMSE:  23.13074007262614\n",
      "Test Set - MAE:  17.963871566755376\n",
      "\n",
      "\n",
      "\n"
     ]
    }
   ],
   "source": [
    "for area in areas:\n",
    "\n",
    "    df_test = pd.read_csv(f'data/{area}/{area}_test.csv')\n",
    "    df_train = pd.read_csv(f'data/{area}/{area}.csv')\n",
    "    df_test = df_test.append(df_train)\n",
    "    pixel_id = df_test.pixel_id\n",
    "\n",
    "    df_test = df_test.drop(columns=['pixel_id', 'exposures'], axis=1, inplace=False)\n",
    "\n",
    "    for gal in galaxies:\n",
    "        testdata = DensitySurvey(df_test, gal)\n",
    "\n",
    "        best_val = -100\n",
    "        for model in os.listdir(f\"trained_models/{area}/{gal}\"):\n",
    "            val = float(model[:-3])\n",
    "            best_val = max(val, best_val)\n",
    "        print(best_val)\n",
    "        model = torch.load(f\"trained_models/{area}/{gal}/{best_val}.pt\",\n",
    "                           map_location=torch.device('cpu'))\n",
    "\n",
    "        testloader = torch.utils.data.DataLoader(testdata, batch_size=128, shuffle=False)\n",
    "\n",
    "        model.eval()\n",
    "        y_pred = np.array([])\n",
    "        y_gold = np.array([])\n",
    "\n",
    "        with torch.no_grad():\n",
    "\n",
    "            for i, (inputs, labels) in enumerate(testloader):\n",
    "                # Split dataloader\n",
    "                inputs = inputs.to(device)\n",
    "                # Forward pass through the trained network\n",
    "                outputs = model(inputs)\n",
    "\n",
    "                # Get predictions and append to label array + count number of correct and total\n",
    "                y_pred = np.append(y_pred, outputs.cpu().detach().numpy())\n",
    "                y_gold = np.append(y_gold, labels.cpu().detach().numpy())\n",
    "\n",
    "            print(\"Target\", len(y_gold), np.isnan(y_gold).sum(), np.max(y_gold), np.min(y_gold), np.mean(y_gold))\n",
    "            print(y_gold)\n",
    "            print(\"Prediction\", len(y_pred), np.isnan(y_pred).sum(), np.max(y_pred), np.min(y_pred), np.mean(y_pred))\n",
    "            print(y_pred)\n",
    "\n",
    "            r2, rmse, mae = 0, 0, 0\n",
    "\n",
    "            try:\n",
    "                r2 = metrics.r2_score(y_gold, y_pred)\n",
    "                rmse = math.sqrt(metrics.mean_squared_error(y_gold, y_pred))\n",
    "                mae = metrics.mean_absolute_error(y_gold, y_pred)\n",
    "\n",
    "            except:\n",
    "                print(\"++++++++++++++++++++\")\n",
    "                print(\"   NaN Predicted    \")\n",
    "                print(\"++++++++++++++++++++\")\n",
    "\n",
    "            print()\n",
    "            print(f\" XXXXXX======== TRIAL {area} - {gal} ended\")\n",
    "            print()\n",
    "            print(\"Test Set - R-squared: \", r2)\n",
    "            print(\"Test Set - RMSE: \", rmse)\n",
    "            print(\"Test Set - MAE: \", mae)\n",
    "            print()\n",
    "            print()\n",
    "            print()\n",
    "\n",
    "        ax = np.stack((pixel_id, y_pred), axis=1)\n",
    "        df_deep = pd.DataFrame(ax, columns=['pixel_id', f'{gal}_nn'])\n",
    "\n",
    "        df_deep.pixel_id = df_deep.pixel_id.astype(int)\n",
    "\n",
    "        if area == 'north':\n",
    "            df_north = df_north.merge(df_deep, how='inner', on='pixel_id')\n",
    "        elif area == 'south':\n",
    "            df_south = df_south.merge(df_deep, how='inner', on='pixel_id')\n",
    "        else:\n",
    "            df_des = df_des.merge(df_deep, how='inner', on='pixel_id')"
   ],
   "metadata": {
    "collapsed": false,
    "pycharm": {
     "name": "#%%\n"
    }
   }
  },
  {
   "cell_type": "code",
   "execution_count": 6,
   "outputs": [
    {
     "name": "stdout",
     "output_type": "stream",
     "text": [
      "   pixel_id  lrg  elg  qso  exposures   stellar       EBV   airmass  \\\n",
      "0     20930   37   63  166   0.230769  0.271967  0.578446  0.447089   \n",
      "1    128915   27  156  146   0.209790  0.062762  0.060792  0.066278   \n",
      "2     22899   21   95  114   0.188811  0.092050  0.049091  0.371570   \n",
      "3    105934   38  100  150   0.181818  0.104603  0.051809  0.056693   \n",
      "4     14825   26  113  121   0.181818  0.083682  0.077518  0.410721   \n",
      "\n",
      "   ccdskysb_g  ccdskysb_r  ...  meansky_z  seeing_g  seeing_r  seeing_z  \\\n",
      "0    0.762753    0.492800  ...   0.022182  0.162460  0.173328  0.090772   \n",
      "1    0.720468    0.591275  ...   0.004364  0.223187  0.069517  0.100978   \n",
      "2    0.772063    0.579600  ...   0.055957  0.178862  0.207623  0.080423   \n",
      "3    0.862060    0.616452  ...   0.006092  0.089822  0.177267  0.064683   \n",
      "4    0.817044    0.601693  ...   0.020293  0.234317  0.191866  0.090556   \n",
      "\n",
      "     lrg_lin     elg_lin     qso_lin     lrg_nn      elg_nn      qso_nn  \n",
      "0  37.940550   92.576883  147.112149  36.989441  106.447639  151.082962  \n",
      "1  34.795460  133.752332  145.337297  34.817837  137.959015  148.486588  \n",
      "2  34.362172  123.547211  162.445987  34.248119  124.564796  162.211380  \n",
      "3  34.571405  123.394700  154.163605  35.424149  125.339645  160.024933  \n",
      "4  33.793325  123.180850  158.984019  34.412201  124.900391  157.971161  \n",
      "\n",
      "[5 rows x 26 columns]\n",
      "   pixel_id  lrg  elg  qso  exposures   stellar       EBV   airmass  \\\n",
      "0    301589   51   97  166   0.453901  0.071429  0.241767  0.327689   \n",
      "1    357501   35  150  176   0.347518  0.109244  0.116351  0.256850   \n",
      "2    219584   31  113  138   0.304965  0.260504  0.136105  0.636057   \n",
      "3    172905   26  107  143   0.588652  0.100840  0.142525  0.485916   \n",
      "4    192669   22  165  157   0.368794  0.075630  0.074714  0.729906   \n",
      "\n",
      "   ccdskysb_g  ccdskysb_r  ...     meansky_z  seeing_g  seeing_r  seeing_z  \\\n",
      "0    0.572745    0.713239  ...  1.771313e-10  0.245554  0.283443  0.522910   \n",
      "1    0.579899    0.518977  ...  1.478753e-10  0.345490  0.297204  0.438967   \n",
      "2    0.648851    0.759491  ...  2.335718e-10  0.451101  0.368328  0.370944   \n",
      "3    0.452184    0.642542  ...  2.091709e-10  0.293323  0.171082  0.450036   \n",
      "4    0.507952    0.751045  ...  4.204867e-10  0.507038  0.300427  0.308631   \n",
      "\n",
      "     lrg_lin     elg_lin     qso_lin     lrg_nn      elg_nn      qso_nn  \n",
      "0  33.214037  125.304075  157.051357  33.720192  120.536476  159.514908  \n",
      "1  34.300394  138.741969  163.857720  34.181618  137.651093  162.061188  \n",
      "2  36.021939  128.630449  172.237911  34.980652  131.027618  169.156662  \n",
      "3  32.599238  124.028992  150.417669  33.316101  126.970894  161.554245  \n",
      "4  32.347698  123.928829  159.760059  32.805458  128.063950  161.738083  \n",
      "\n",
      "[5 rows x 26 columns]\n",
      "   pixel_id  lrg  elg  qso  exposures   stellar       EBV   airmass  \\\n",
      "0    400965   26  127  138   0.210526  0.069767  0.223601  0.516562   \n",
      "1    689172   33  121  178   0.368421  0.178295  0.065022  0.181972   \n",
      "2    692796   36  133  199   0.043860  0.147287  0.154664  0.577994   \n",
      "3    602720   36  134  193   0.302632  0.186047  0.142231  0.594274   \n",
      "4    558688   41  150  172   0.267544  0.085271  0.091023  0.558270   \n",
      "\n",
      "   ccdskysb_g  ccdskysb_r  ...     meansky_z  seeing_g  seeing_r  seeing_z  \\\n",
      "0    0.550597    0.533751  ...  2.589688e-11  0.480068  0.440257  0.575608   \n",
      "1    0.797624    0.778980  ...  5.750747e-02  0.447229  0.356049  0.348209   \n",
      "2    0.774864    0.771753  ...  1.706126e-11  0.273307  0.349254  0.442005   \n",
      "3    0.736537    0.697164  ...  3.251224e-11  0.359850  0.353801  0.556893   \n",
      "4    0.724642    0.711729  ...  4.891213e-11  0.264739  0.508395  0.513005   \n",
      "\n",
      "     lrg_lin     elg_lin     qso_lin     lrg_nn      elg_nn      qso_nn  \n",
      "0  33.143874  128.208544  162.056962  33.530346  129.361450  166.119644  \n",
      "1  30.984438  125.201844  161.333517  31.471066  121.209236  151.599442  \n",
      "2  33.018145  122.845466  172.117936  32.711903  124.348053  173.179855  \n",
      "3  33.707526  123.319292  173.768567  33.378967  122.027573  178.936295  \n",
      "4  33.012150  127.294612  173.360091  34.350029  124.595261  175.441879  \n",
      "\n",
      "[5 rows x 26 columns]\n"
     ]
    },
    {
     "ename": "KeyError",
     "evalue": "\"['y_gold' 'y_gold_x' 'y_gold_y'] not found in axis\"",
     "output_type": "error",
     "traceback": [
      "\u001B[0;31m---------------------------------------------------------------------------\u001B[0m",
      "\u001B[0;31mKeyError\u001B[0m                                  Traceback (most recent call last)",
      "\u001B[0;32m<ipython-input-6-42523fc3a6b8>\u001B[0m in \u001B[0;36m<module>\u001B[0;34m\u001B[0m\n\u001B[1;32m      3\u001B[0m \u001B[0mprint\u001B[0m\u001B[0;34m(\u001B[0m\u001B[0;34m(\u001B[0m\u001B[0mdf_des\u001B[0m\u001B[0;34m.\u001B[0m\u001B[0mhead\u001B[0m\u001B[0;34m(\u001B[0m\u001B[0;34m)\u001B[0m\u001B[0;34m)\u001B[0m\u001B[0;34m)\u001B[0m\u001B[0;34m\u001B[0m\u001B[0;34m\u001B[0m\u001B[0m\n\u001B[1;32m      4\u001B[0m \u001B[0;34m\u001B[0m\u001B[0m\n\u001B[0;32m----> 5\u001B[0;31m \u001B[0mdf_north\u001B[0m \u001B[0;34m=\u001B[0m \u001B[0mdf_north\u001B[0m\u001B[0;34m.\u001B[0m\u001B[0mdrop\u001B[0m\u001B[0;34m(\u001B[0m\u001B[0mcolumns\u001B[0m\u001B[0;34m=\u001B[0m\u001B[0;34m[\u001B[0m\u001B[0;34m'y_gold'\u001B[0m\u001B[0;34m,\u001B[0m \u001B[0;34m'y_gold_x'\u001B[0m\u001B[0;34m,\u001B[0m \u001B[0;34m'y_gold_y'\u001B[0m\u001B[0;34m]\u001B[0m\u001B[0;34m,\u001B[0m \u001B[0maxis\u001B[0m\u001B[0;34m=\u001B[0m\u001B[0;36m1\u001B[0m\u001B[0;34m,\u001B[0m \u001B[0minplace\u001B[0m\u001B[0;34m=\u001B[0m\u001B[0;32mFalse\u001B[0m\u001B[0;34m)\u001B[0m\u001B[0;34m\u001B[0m\u001B[0;34m\u001B[0m\u001B[0m\n\u001B[0m\u001B[1;32m      6\u001B[0m \u001B[0mdf_south\u001B[0m \u001B[0;34m=\u001B[0m \u001B[0mdf_south\u001B[0m\u001B[0;34m.\u001B[0m\u001B[0mdrop\u001B[0m\u001B[0;34m(\u001B[0m\u001B[0mcolumns\u001B[0m\u001B[0;34m=\u001B[0m\u001B[0;34m[\u001B[0m\u001B[0;34m'y_gold'\u001B[0m\u001B[0;34m,\u001B[0m \u001B[0;34m'y_gold_x'\u001B[0m\u001B[0;34m,\u001B[0m \u001B[0;34m'y_gold_y'\u001B[0m\u001B[0;34m]\u001B[0m\u001B[0;34m,\u001B[0m \u001B[0maxis\u001B[0m\u001B[0;34m=\u001B[0m\u001B[0;36m1\u001B[0m\u001B[0;34m,\u001B[0m \u001B[0minplace\u001B[0m\u001B[0;34m=\u001B[0m\u001B[0;32mFalse\u001B[0m\u001B[0;34m)\u001B[0m\u001B[0;34m\u001B[0m\u001B[0;34m\u001B[0m\u001B[0m\n\u001B[1;32m      7\u001B[0m \u001B[0mdf_des\u001B[0m \u001B[0;34m=\u001B[0m \u001B[0mdf_des\u001B[0m\u001B[0;34m.\u001B[0m\u001B[0mdrop\u001B[0m\u001B[0;34m(\u001B[0m\u001B[0mcolumns\u001B[0m\u001B[0;34m=\u001B[0m\u001B[0;34m[\u001B[0m\u001B[0;34m'y_gold'\u001B[0m\u001B[0;34m,\u001B[0m \u001B[0;34m'y_gold_x'\u001B[0m\u001B[0;34m,\u001B[0m \u001B[0;34m'y_gold_y'\u001B[0m\u001B[0;34m]\u001B[0m\u001B[0;34m,\u001B[0m \u001B[0maxis\u001B[0m\u001B[0;34m=\u001B[0m\u001B[0;36m1\u001B[0m\u001B[0;34m,\u001B[0m \u001B[0minplace\u001B[0m\u001B[0;34m=\u001B[0m\u001B[0;32mFalse\u001B[0m\u001B[0;34m)\u001B[0m\u001B[0;34m\u001B[0m\u001B[0;34m\u001B[0m\u001B[0m\n",
      "\u001B[0;32m~/miniconda3/envs/astro/lib/python3.8/site-packages/pandas/core/frame.py\u001B[0m in \u001B[0;36mdrop\u001B[0;34m(self, labels, axis, index, columns, level, inplace, errors)\u001B[0m\n\u001B[1;32m   4306\u001B[0m                 \u001B[0mweight\u001B[0m  \u001B[0;36m1.0\u001B[0m     \u001B[0;36m0.8\u001B[0m\u001B[0;34m\u001B[0m\u001B[0;34m\u001B[0m\u001B[0m\n\u001B[1;32m   4307\u001B[0m         \"\"\"\n\u001B[0;32m-> 4308\u001B[0;31m         return super().drop(\n\u001B[0m\u001B[1;32m   4309\u001B[0m             \u001B[0mlabels\u001B[0m\u001B[0;34m=\u001B[0m\u001B[0mlabels\u001B[0m\u001B[0;34m,\u001B[0m\u001B[0;34m\u001B[0m\u001B[0;34m\u001B[0m\u001B[0m\n\u001B[1;32m   4310\u001B[0m             \u001B[0maxis\u001B[0m\u001B[0;34m=\u001B[0m\u001B[0maxis\u001B[0m\u001B[0;34m,\u001B[0m\u001B[0;34m\u001B[0m\u001B[0;34m\u001B[0m\u001B[0m\n",
      "\u001B[0;32m~/miniconda3/envs/astro/lib/python3.8/site-packages/pandas/core/generic.py\u001B[0m in \u001B[0;36mdrop\u001B[0;34m(self, labels, axis, index, columns, level, inplace, errors)\u001B[0m\n\u001B[1;32m   4151\u001B[0m         \u001B[0;32mfor\u001B[0m \u001B[0maxis\u001B[0m\u001B[0;34m,\u001B[0m \u001B[0mlabels\u001B[0m \u001B[0;32min\u001B[0m \u001B[0maxes\u001B[0m\u001B[0;34m.\u001B[0m\u001B[0mitems\u001B[0m\u001B[0;34m(\u001B[0m\u001B[0;34m)\u001B[0m\u001B[0;34m:\u001B[0m\u001B[0;34m\u001B[0m\u001B[0;34m\u001B[0m\u001B[0m\n\u001B[1;32m   4152\u001B[0m             \u001B[0;32mif\u001B[0m \u001B[0mlabels\u001B[0m \u001B[0;32mis\u001B[0m \u001B[0;32mnot\u001B[0m \u001B[0;32mNone\u001B[0m\u001B[0;34m:\u001B[0m\u001B[0;34m\u001B[0m\u001B[0;34m\u001B[0m\u001B[0m\n\u001B[0;32m-> 4153\u001B[0;31m                 \u001B[0mobj\u001B[0m \u001B[0;34m=\u001B[0m \u001B[0mobj\u001B[0m\u001B[0;34m.\u001B[0m\u001B[0m_drop_axis\u001B[0m\u001B[0;34m(\u001B[0m\u001B[0mlabels\u001B[0m\u001B[0;34m,\u001B[0m \u001B[0maxis\u001B[0m\u001B[0;34m,\u001B[0m \u001B[0mlevel\u001B[0m\u001B[0;34m=\u001B[0m\u001B[0mlevel\u001B[0m\u001B[0;34m,\u001B[0m \u001B[0merrors\u001B[0m\u001B[0;34m=\u001B[0m\u001B[0merrors\u001B[0m\u001B[0;34m)\u001B[0m\u001B[0;34m\u001B[0m\u001B[0;34m\u001B[0m\u001B[0m\n\u001B[0m\u001B[1;32m   4154\u001B[0m \u001B[0;34m\u001B[0m\u001B[0m\n\u001B[1;32m   4155\u001B[0m         \u001B[0;32mif\u001B[0m \u001B[0minplace\u001B[0m\u001B[0;34m:\u001B[0m\u001B[0;34m\u001B[0m\u001B[0;34m\u001B[0m\u001B[0m\n",
      "\u001B[0;32m~/miniconda3/envs/astro/lib/python3.8/site-packages/pandas/core/generic.py\u001B[0m in \u001B[0;36m_drop_axis\u001B[0;34m(self, labels, axis, level, errors)\u001B[0m\n\u001B[1;32m   4186\u001B[0m                 \u001B[0mnew_axis\u001B[0m \u001B[0;34m=\u001B[0m \u001B[0maxis\u001B[0m\u001B[0;34m.\u001B[0m\u001B[0mdrop\u001B[0m\u001B[0;34m(\u001B[0m\u001B[0mlabels\u001B[0m\u001B[0;34m,\u001B[0m \u001B[0mlevel\u001B[0m\u001B[0;34m=\u001B[0m\u001B[0mlevel\u001B[0m\u001B[0;34m,\u001B[0m \u001B[0merrors\u001B[0m\u001B[0;34m=\u001B[0m\u001B[0merrors\u001B[0m\u001B[0;34m)\u001B[0m\u001B[0;34m\u001B[0m\u001B[0;34m\u001B[0m\u001B[0m\n\u001B[1;32m   4187\u001B[0m             \u001B[0;32melse\u001B[0m\u001B[0;34m:\u001B[0m\u001B[0;34m\u001B[0m\u001B[0;34m\u001B[0m\u001B[0m\n\u001B[0;32m-> 4188\u001B[0;31m                 \u001B[0mnew_axis\u001B[0m \u001B[0;34m=\u001B[0m \u001B[0maxis\u001B[0m\u001B[0;34m.\u001B[0m\u001B[0mdrop\u001B[0m\u001B[0;34m(\u001B[0m\u001B[0mlabels\u001B[0m\u001B[0;34m,\u001B[0m \u001B[0merrors\u001B[0m\u001B[0;34m=\u001B[0m\u001B[0merrors\u001B[0m\u001B[0;34m)\u001B[0m\u001B[0;34m\u001B[0m\u001B[0;34m\u001B[0m\u001B[0m\n\u001B[0m\u001B[1;32m   4189\u001B[0m             \u001B[0mresult\u001B[0m \u001B[0;34m=\u001B[0m \u001B[0mself\u001B[0m\u001B[0;34m.\u001B[0m\u001B[0mreindex\u001B[0m\u001B[0;34m(\u001B[0m\u001B[0;34m**\u001B[0m\u001B[0;34m{\u001B[0m\u001B[0maxis_name\u001B[0m\u001B[0;34m:\u001B[0m \u001B[0mnew_axis\u001B[0m\u001B[0;34m}\u001B[0m\u001B[0;34m)\u001B[0m\u001B[0;34m\u001B[0m\u001B[0;34m\u001B[0m\u001B[0m\n\u001B[1;32m   4190\u001B[0m \u001B[0;34m\u001B[0m\u001B[0m\n",
      "\u001B[0;32m~/miniconda3/envs/astro/lib/python3.8/site-packages/pandas/core/indexes/base.py\u001B[0m in \u001B[0;36mdrop\u001B[0;34m(self, labels, errors)\u001B[0m\n\u001B[1;32m   5589\u001B[0m         \u001B[0;32mif\u001B[0m \u001B[0mmask\u001B[0m\u001B[0;34m.\u001B[0m\u001B[0many\u001B[0m\u001B[0;34m(\u001B[0m\u001B[0;34m)\u001B[0m\u001B[0;34m:\u001B[0m\u001B[0;34m\u001B[0m\u001B[0;34m\u001B[0m\u001B[0m\n\u001B[1;32m   5590\u001B[0m             \u001B[0;32mif\u001B[0m \u001B[0merrors\u001B[0m \u001B[0;34m!=\u001B[0m \u001B[0;34m\"ignore\"\u001B[0m\u001B[0;34m:\u001B[0m\u001B[0;34m\u001B[0m\u001B[0;34m\u001B[0m\u001B[0m\n\u001B[0;32m-> 5591\u001B[0;31m                 \u001B[0;32mraise\u001B[0m \u001B[0mKeyError\u001B[0m\u001B[0;34m(\u001B[0m\u001B[0;34mf\"{labels[mask]} not found in axis\"\u001B[0m\u001B[0;34m)\u001B[0m\u001B[0;34m\u001B[0m\u001B[0;34m\u001B[0m\u001B[0m\n\u001B[0m\u001B[1;32m   5592\u001B[0m             \u001B[0mindexer\u001B[0m \u001B[0;34m=\u001B[0m \u001B[0mindexer\u001B[0m\u001B[0;34m[\u001B[0m\u001B[0;34m~\u001B[0m\u001B[0mmask\u001B[0m\u001B[0;34m]\u001B[0m\u001B[0;34m\u001B[0m\u001B[0;34m\u001B[0m\u001B[0m\n\u001B[1;32m   5593\u001B[0m         \u001B[0;32mreturn\u001B[0m \u001B[0mself\u001B[0m\u001B[0;34m.\u001B[0m\u001B[0mdelete\u001B[0m\u001B[0;34m(\u001B[0m\u001B[0mindexer\u001B[0m\u001B[0;34m)\u001B[0m\u001B[0;34m\u001B[0m\u001B[0;34m\u001B[0m\u001B[0m\n",
      "\u001B[0;31mKeyError\u001B[0m: \"['y_gold' 'y_gold_x' 'y_gold_y'] not found in axis\""
     ]
    }
   ],
   "source": [
    "print((df_north.head()))\n",
    "print((df_south.head()))\n",
    "print((df_des.head()))\n",
    "\n",
    "df_north = df_north.drop(columns=['y_gold', 'y_gold_x', 'y_gold_y'], axis=1, inplace=False)\n",
    "df_south = df_south.drop(columns=['y_gold', 'y_gold_x', 'y_gold_y'], axis=1, inplace=False)\n",
    "df_des = df_des.drop(columns=['y_gold', 'y_gold_x', 'y_gold_y'], axis=1, inplace=False)"
   ],
   "metadata": {
    "collapsed": false,
    "pycharm": {
     "name": "#%%\n"
    }
   }
  },
  {
   "cell_type": "code",
   "execution_count": 9,
   "outputs": [
    {
     "data": {
      "text/plain": "Index(['pixel_id', 'lrg', 'elg', 'qso', 'exposures', 'stellar', 'EBV',\n       'airmass', 'ccdskysb_g', 'ccdskysb_r', 'ccdskysb_z', 'exptime_g',\n       'exptime_r', 'exptime_z', 'meansky_g', 'meansky_r', 'meansky_z',\n       'seeing_g', 'seeing_r', 'seeing_z', 'lrg_lin', 'elg_lin', 'qso_lin',\n       'lrg_nn', 'elg_nn', 'qso_nn'],\n      dtype='object')"
     },
     "execution_count": 9,
     "metadata": {},
     "output_type": "execute_result"
    }
   ],
   "source": [
    "df_north.columns"
   ],
   "metadata": {
    "collapsed": false,
    "pycharm": {
     "name": "#%%\n"
    }
   }
  },
  {
   "cell_type": "code",
   "execution_count": 7,
   "outputs": [],
   "source": [
    "df_north.to_csv(f'../regression/results/north_complete.csv', index=False)\n",
    "df_south.to_csv(f'../regression/results/south_complete.csv', index=False)\n",
    "df_des.to_csv(f'../regression/results/des_complete.csv', index=False)"
   ],
   "metadata": {
    "collapsed": false,
    "pycharm": {
     "name": "#%%\n"
    }
   }
  },
  {
   "cell_type": "code",
   "execution_count": 8,
   "metadata": {
    "collapsed": true
   },
   "outputs": [
    {
     "name": "stdout",
     "output_type": "stream",
     "text": [
      "97537\n"
     ]
    }
   ],
   "source": [
    "\n",
    "print(len(df_north))"
   ]
  },
  {
   "cell_type": "code",
   "execution_count": null,
   "outputs": [],
   "source": [],
   "metadata": {
    "collapsed": false,
    "pycharm": {
     "name": "#%%\n"
    }
   }
  }
 ],
 "metadata": {
  "kernelspec": {
   "display_name": "Python 3",
   "language": "python",
   "name": "python3"
  },
  "language_info": {
   "codemirror_mode": {
    "name": "ipython",
    "version": 2
   },
   "file_extension": ".py",
   "mimetype": "text/x-python",
   "name": "python",
   "nbconvert_exporter": "python",
   "pygments_lexer": "ipython2",
   "version": "2.7.6"
  }
 },
 "nbformat": 4,
 "nbformat_minor": 0
}