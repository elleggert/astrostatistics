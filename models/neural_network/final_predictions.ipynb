{
 "cells": [
  {
   "cell_type": "code",
   "execution_count": 1,
   "outputs": [],
   "source": [
    "import pandas as pd\n",
    "import torch\n",
    "import os\n",
    "import numpy as np\n",
    "from torch.utils.data import DataLoader\n",
    "from sklearn import metrics\n",
    "import math\n",
    "\n",
    "from datasets import DensitySurvey\n",
    "\n"
   ],
   "metadata": {
    "collapsed": false,
    "pycharm": {
     "name": "#%%\n"
    }
   }
  },
  {
   "cell_type": "markdown",
   "source": [
    "### Neural Network Final Predictions\n"
   ],
   "metadata": {
    "collapsed": false
   }
  },
  {
   "cell_type": "code",
   "execution_count": 11,
   "outputs": [
    {
     "data": {
      "text/plain": "Index(['pixel_id', 'lrg', 'elg', 'qso', 'glbg', 'rlbg', 'exposures', 'hinh',\n       'gaia', 'gaia12', 'sagitarius', 'stellar', 'EBV', 'airmass',\n       'ccdskysb_g', 'ccdskysb_r', 'ccdskysb_z', 'ccdskycounts_g',\n       'ccdskycounts_r', 'ccdskycounts_z', 'seeing_g', 'seeing_r', 'seeing_z',\n       'lrg_lin', 'elg_lin', 'qso_lin', 'glbg_lin', 'rlbg_lin'],\n      dtype='object')"
     },
     "execution_count": 11,
     "metadata": {},
     "output_type": "execute_result"
    }
   ],
   "source": [
    "\n",
    "areas = ['north', 'south', 'des']\n",
    "galaxies = ['lrg', 'elg', 'qso', 'glbg', 'rlbg']\n",
    "device = 'cpu'\n",
    "max_set_len = 0\n",
    "NSIDE = 512\n",
    "\n",
    "df_north = pd.read_csv(f'../regression/results/north_complete_{NSIDE}.csv')\n",
    "df_south = pd.read_csv(f'../regression/results/south_complete_{NSIDE}.csv')\n",
    "df_des = pd.read_csv(f'../regression/results/des_complete_{NSIDE}.csv')\n",
    "\n",
    "df_north.columns\n",
    "\n",
    "\n"
   ],
   "metadata": {
    "collapsed": false,
    "pycharm": {
     "name": "#%%\n"
    }
   }
  },
  {
   "cell_type": "code",
   "execution_count": 12,
   "outputs": [
    {
     "name": "stdout",
     "output_type": "stream",
     "text": [
      "338526\n",
      "662847\n",
      "363076\n",
      "Index(['pixel_id', 'lrg', 'elg', 'qso', 'glbg', 'rlbg', 'exposures', 'hinh',\n",
      "       'gaia', 'gaia12', 'sagitarius', 'stellar', 'EBV', 'airmass',\n",
      "       'ccdskysb_g', 'ccdskysb_r', 'ccdskysb_z', 'ccdskycounts_g',\n",
      "       'ccdskycounts_r', 'ccdskycounts_z', 'seeing_g', 'seeing_r', 'seeing_z'],\n",
      "      dtype='object')\n"
     ]
    }
   ],
   "source": [
    "print(len(df_des))\n",
    "print(len(df_south))\n",
    "print(len(df_north))\n",
    "\n",
    "area =  'south'\n",
    "\n",
    "df_train = pd.read_csv(f'data/{area}/{area}_512.csv')\n",
    "print(df_train.columns)"
   ],
   "metadata": {
    "collapsed": false,
    "pycharm": {
     "name": "#%%\n"
    }
   }
  },
  {
   "cell_type": "code",
   "execution_count": 13,
   "outputs": [
    {
     "name": "stdout",
     "output_type": "stream",
     "text": [
      "Index(['lrg', 'elg', 'qso', 'glbg', 'rlbg', 'hinh', 'gaia', 'gaia12',\n",
      "       'sagitarius', 'stellar', 'EBV', 'airmass', 'ccdskysb_g', 'ccdskysb_r',\n",
      "       'ccdskysb_z', 'ccdskycounts_g', 'ccdskycounts_r', 'ccdskycounts_z',\n",
      "       'seeing_g', 'seeing_r', 'seeing_z'],\n",
      "      dtype='object')\n",
      " Area: north. Gal: lrg. Best Value: 0.009592869264212434.\n",
      "Target 363076 0 234.0 0.0 8.49097709570448\n",
      "[ 8. 15.  6. ...  7.  6.  9.]\n",
      "Prediction 363076 0 10.455790519714355 8.265435218811035 8.536811191710575\n",
      "[8.2656517  8.68347073 8.26563263 ... 8.26563835 8.26563168 8.26559258]\n",
      "\n",
      " XXXXXX======== TRIAL north - lrg ended\n",
      "\n",
      "Test Set - R-squared:  0.008077364551054345\n",
      "Test Set - RMSE:  4.824262797424032\n",
      "Test Set - MAE:  3.2939039275141604\n",
      "\n",
      "\n",
      "\n",
      " Area: north. Gal: elg. Best Value: 0.1261564379060902.\n",
      "Target 363076 0 295.0 1.0 31.380586984543182\n",
      "[46. 27. 32. ... 36. 33. 35.]\n",
      "Prediction 363076 0 214.868408203125 18.566471099853516 31.660478698949763\n",
      "[30.07936287 26.44309616 31.5339489  ... 33.38516617 31.39669037\n",
      " 35.61845398]\n",
      "\n",
      " XXXXXX======== TRIAL north - elg ended\n",
      "\n",
      "Test Set - R-squared:  0.1392785580769602\n",
      "Test Set - RMSE:  7.260648631017546\n",
      "Test Set - MAE:  5.7340121259927725\n",
      "\n",
      "\n",
      "\n",
      " Area: north. Gal: qso. Best Value: 0.1138989034109339.\n",
      "Target 363076 0 64.0 0.0 4.423911247231985\n",
      "[4. 4. 1. ... 3. 1. 0.]\n",
      "Prediction 363076 0 8.10710620880127 3.4194939136505127 4.402352910661752\n",
      "[4.54142189 3.74697661 3.45806146 ... 4.18709707 3.764153   3.4545908 ]\n",
      "\n",
      " XXXXXX======== TRIAL north - qso ended\n",
      "\n",
      "Test Set - R-squared:  0.11244093971493552\n",
      "Test Set - RMSE:  2.3135124227865114\n",
      "Test Set - MAE:  1.8022212206107122\n",
      "\n",
      "\n",
      "\n",
      " Area: north. Gal: glbg. Best Value: 0.20337426699933359.\n",
      "Target 363076 0 139.0 0.0 30.768084368011106\n",
      "[29. 27. 14. ... 34. 16. 30.]\n",
      "Prediction 363076 0 71.68778228759766 4.719391345977783 29.880725135352122\n",
      "[28.51859283 23.69508934 25.90994644 ... 27.126194   25.30967903\n",
      " 26.26628304]\n",
      "\n",
      " XXXXXX======== TRIAL north - glbg ended\n",
      "\n",
      "Test Set - R-squared:  0.21022007564539424\n",
      "Test Set - RMSE:  10.0547729120066\n",
      "Test Set - MAE:  7.721723840794539\n",
      "\n",
      "\n",
      "\n",
      " Area: north. Gal: rlbg. Best Value: 0.1701973575135226.\n",
      "Target 363076 0 142.0 0.0 25.24462371514504\n",
      "[28. 37. 28. ... 37. 25. 32.]\n",
      "Prediction 363076 0 47.47789764404297 17.39487075805664 25.06292777106168\n",
      "[23.62351036 26.62330246 25.76717377 ... 21.25639153 25.16518021\n",
      " 30.99594116]\n",
      "\n",
      " XXXXXX======== TRIAL north - rlbg ended\n",
      "\n",
      "Test Set - R-squared:  0.1745342693504336\n",
      "Test Set - RMSE:  8.884173791227036\n",
      "Test Set - MAE:  6.8982523219084175\n",
      "\n",
      "\n",
      "\n",
      "Index(['lrg', 'elg', 'qso', 'glbg', 'rlbg', 'hinh', 'gaia', 'gaia12',\n",
      "       'sagitarius', 'stellar', 'EBV', 'airmass', 'ccdskysb_g', 'ccdskysb_r',\n",
      "       'ccdskysb_z', 'ccdskycounts_g', 'ccdskycounts_r', 'ccdskycounts_z',\n",
      "       'seeing_g', 'seeing_r', 'seeing_z'],\n",
      "      dtype='object')\n",
      " Area: south. Gal: lrg. Best Value: 0.00675711440726201.\n",
      "Target 662847 0 382.0 0.0 8.585032443384371\n",
      "[ 2. 14.  6. ...  8. 17.  3.]\n",
      "Prediction 662847 0 10.665045738220215 7.8672637939453125 8.504260032979836\n",
      "[8.42741394 8.31034946 8.6039238  ... 8.44058132 8.37647629 8.1617012 ]\n",
      "\n",
      " XXXXXX======== TRIAL south - lrg ended\n",
      "\n",
      "Test Set - R-squared:  0.006226938182008146\n",
      "Test Set - RMSE:  4.9479730927484304\n",
      "Test Set - MAE:  3.309642751364357\n",
      "\n",
      "\n",
      "\n",
      " Area: south. Gal: elg. Best Value: 0.10847379717115846.\n",
      "Target 662847 0 365.0 0.0 32.89612082426261\n",
      "[34. 28. 25. ... 23. 35. 35.]\n",
      "Prediction 662847 0 45.15390396118164 27.329357147216797 33.142530706492735\n",
      "[31.85692787 35.46518707 33.65041733 ... 28.91104507 34.18922043\n",
      " 34.94824982]\n",
      "\n",
      " XXXXXX======== TRIAL south - elg ended\n",
      "\n",
      "Test Set - R-squared:  0.10766482150218137\n",
      "Test Set - RMSE:  7.435698459051601\n",
      "Test Set - MAE:  5.866981739889217\n",
      "\n",
      "\n",
      "\n",
      " Area: south. Gal: qso. Best Value: 0.09781667935488503.\n",
      "Target 662847 0 94.0 0.0 4.114192264579911\n",
      "[3. 4. 4. ... 2. 3. 4.]\n",
      "Prediction 662847 0 8.429259300231934 2.71917724609375 4.092105628337551\n",
      "[3.62571239 4.2513504  4.17184687 ... 5.03081369 3.95652533 3.55476379]\n",
      "\n",
      " XXXXXX======== TRIAL south - qso ended\n",
      "\n",
      "Test Set - R-squared:  0.09486092694788961\n",
      "Test Set - RMSE:  2.252464324321164\n",
      "Test Set - MAE:  1.7264158007138042\n",
      "\n",
      "\n",
      "\n",
      " Area: south. Gal: glbg. Best Value: 0.156318035535299.\n",
      "Target 662847 0 188.0 0.0 21.538569232417135\n",
      "[17. 21. 11. ... 21. 14. 16.]\n",
      "Prediction 662847 0 49.632415771484375 15.806748390197754 20.809528755315853\n",
      "[18.34121895 21.7007885  18.98576927 ... 21.19663811 18.98662376\n",
      " 20.32575035]\n",
      "\n",
      " XXXXXX======== TRIAL south - glbg ended\n",
      "\n",
      "Test Set - R-squared:  0.1668118996137813\n",
      "Test Set - RMSE:  7.6294728868843205\n",
      "Test Set - MAE:  5.819864609647837\n",
      "\n",
      "\n",
      "\n",
      " Area: south. Gal: rlbg. Best Value: 0.15437179965494197.\n",
      "Target 662847 0 83.0 0.0 8.757947158243153\n",
      "[11.  4.  9. ...  7.  3. 18.]\n",
      "Prediction 662847 0 22.826393127441406 -0.052962034940719604 8.503902605884294\n",
      "[8.3428669  7.47115564 8.13203526 ... 4.30618668 7.57258177 7.89683342]\n",
      "\n",
      " XXXXXX======== TRIAL south - rlbg ended\n",
      "\n",
      "Test Set - R-squared:  0.16903494601885038\n",
      "Test Set - RMSE:  4.112838281004092\n",
      "Test Set - MAE:  3.166586993315133\n",
      "\n",
      "\n",
      "\n",
      "Index(['lrg', 'elg', 'qso', 'glbg', 'rlbg', 'hinh', 'gaia', 'gaia12',\n",
      "       'sagitarius', 'stellar', 'EBV', 'airmass', 'ccdskysb_g', 'ccdskysb_r',\n",
      "       'ccdskysb_z', 'ccdskycounts_g', 'ccdskycounts_r', 'ccdskycounts_z',\n",
      "       'seeing_g', 'seeing_r', 'seeing_z'],\n",
      "      dtype='object')\n",
      " Area: des. Gal: lrg. Best Value: 0.015369586650884504.\n",
      "Target 338526 0 238.0 0.0 8.166365360415448\n",
      "[4. 7. 8. ... 6. 6. 0.]\n",
      "Prediction 338526 0 48.06904983520508 6.704061031341553 8.168944301705402\n",
      "[7.6352911  8.17393589 7.94157171 ... 8.14221382 7.92512798 7.78093576]\n",
      "\n",
      " XXXXXX======== TRIAL des - lrg ended\n",
      "\n",
      "Test Set - R-squared:  0.020093629277412872\n",
      "Test Set - RMSE:  4.260901532812704\n",
      "Test Set - MAE:  3.1065132850941803\n",
      "\n",
      "\n",
      "\n",
      " Area: des. Gal: elg. Best Value: 0.04690435919367042.\n",
      "Target 338526 0 200.0 5.0 31.12895612153867\n",
      "[43. 29. 29. ... 33. 34. 30.]\n",
      "Prediction 338526 0 39.83346176147461 26.85348129272461 31.416975283429345\n",
      "[33.52824783 33.11856842 30.88395691 ... 31.68188667 29.38313293\n",
      " 33.19862747]\n",
      "\n",
      " XXXXXX======== TRIAL des - elg ended\n",
      "\n",
      "Test Set - R-squared:  0.04775069770205931\n",
      "Test Set - RMSE:  7.050888311675082\n",
      "Test Set - MAE:  5.596632230129916\n",
      "\n",
      "\n",
      "\n",
      " Area: des. Gal: qso. Best Value: 0.032698715801897316.\n",
      "Target 338526 0 64.0 0.0 3.3965515204149757\n",
      "[3. 5. 2. ... 3. 1. 4.]\n",
      "Prediction 338526 0 5.18428373336792 2.9645445346832275 3.321815100681507\n",
      "[3.03492308 3.14599085 3.24109674 ... 3.48407888 3.13767529 2.99979544]\n",
      "\n",
      " XXXXXX======== TRIAL des - qso ended\n",
      "\n",
      "Test Set - R-squared:  0.033375949831504936\n",
      "Test Set - RMSE:  1.9523818066438454\n",
      "Test Set - MAE:  1.52925359377861\n",
      "\n",
      "\n",
      "\n",
      " Area: des. Gal: glbg. Best Value: 0.10370956551268562.\n",
      "Target 338526 0 151.0 0.0 29.57977230700153\n",
      "[47. 31. 29. ... 40. 30. 19.]\n",
      "Prediction 338526 0 53.85581970214844 25.750892639160156 29.426571696615493\n",
      "[27.28524399 26.91353416 29.63362885 ... 32.2569809  33.19494629\n",
      " 27.37678528]\n",
      "\n",
      " XXXXXX======== TRIAL des - glbg ended\n",
      "\n",
      "Test Set - R-squared:  0.10474993328091631\n",
      "Test Set - RMSE:  9.041049832607326\n",
      "Test Set - MAE:  7.007331237208807\n",
      "\n",
      "\n",
      "\n",
      " Area: des. Gal: rlbg. Best Value: 0.06200821383120225.\n",
      "Target 338526 0 54.0 0.0 3.9999852300857244\n",
      "[ 5. 10.  1. ...  3.  2.  2.]\n",
      "Prediction 338526 0 11.094886779785156 2.8904292583465576 3.908155999601408\n",
      "[3.84903264 4.29436636 3.73764825 ... 3.19002008 4.17639112 4.13236141]\n",
      "\n",
      " XXXXXX======== TRIAL des - rlbg ended\n",
      "\n",
      "Test Set - R-squared:  0.06382900698084759\n",
      "Test Set - RMSE:  2.50150015404545\n",
      "Test Set - MAE:  1.9292075530515136\n",
      "\n",
      "\n",
      "\n"
     ]
    }
   ],
   "source": [
    "for area in areas:\n",
    "\n",
    "    df_test = pd.read_csv(f'data/{area}/{area}_test_{NSIDE}.csv')\n",
    "    df_train = pd.read_csv(f'data/{area}/{area}_{NSIDE}.csv')\n",
    "    df_test = df_test.append(df_train)\n",
    "    pixel_id = df_test.pixel_id\n",
    "\n",
    "    df_test = df_test.drop(columns=['pixel_id', 'exposures'], axis=1, inplace=False)\n",
    "    print(df_test.columns)\n",
    "\n",
    "    for gal in galaxies:\n",
    "        testdata = DensitySurvey(df_test, gal)\n",
    "\n",
    "        best_val = -100\n",
    "        for model in os.listdir(f\"trained_models/{area}/{gal}\"):\n",
    "            val = float(model[:-3])\n",
    "            best_val = max(val, best_val)\n",
    "        print(f' Area: {area}. Gal: {gal}. Best Value: {best_val}.')\n",
    "        model = torch.load(f\"trained_models/{area}/{gal}/{best_val}.pt\",\n",
    "                           map_location=torch.device('cpu'))\n",
    "\n",
    "        testloader = torch.utils.data.DataLoader(testdata, batch_size=128, shuffle=False)\n",
    "\n",
    "        model.eval()\n",
    "        y_pred = np.array([])\n",
    "        y_gold = np.array([])\n",
    "\n",
    "        with torch.no_grad():\n",
    "\n",
    "            for i, (inputs, labels) in enumerate(testloader):\n",
    "                # Split dataloader\n",
    "                inputs = inputs.to(device)\n",
    "                # Forward pass through the trained network\n",
    "                outputs = model(inputs)\n",
    "\n",
    "                # Get predictions and append to label array + count number of correct and total\n",
    "                y_pred = np.append(y_pred, outputs.cpu().detach().numpy())\n",
    "                y_gold = np.append(y_gold, labels.cpu().detach().numpy())\n",
    "\n",
    "            print(\"Target\", len(y_gold), np.isnan(y_gold).sum(), np.max(y_gold), np.min(y_gold), np.mean(y_gold))\n",
    "            print(y_gold)\n",
    "            print(\"Prediction\", len(y_pred), np.isnan(y_pred).sum(), np.max(y_pred), np.min(y_pred), np.mean(y_pred))\n",
    "            print(y_pred)\n",
    "\n",
    "            r2, rmse, mae = 0, 0, 0\n",
    "\n",
    "            try:\n",
    "                r2 = metrics.r2_score(y_gold, y_pred)\n",
    "                rmse = math.sqrt(metrics.mean_squared_error(y_gold, y_pred))\n",
    "                mae = metrics.mean_absolute_error(y_gold, y_pred)\n",
    "\n",
    "            except:\n",
    "                print(\"++++++++++++++++++++\")\n",
    "                print(\"   NaN Predicted    \")\n",
    "                print(\"++++++++++++++++++++\")\n",
    "\n",
    "            print()\n",
    "            print(f\" XXXXXX======== TRIAL {area} - {gal} ended\")\n",
    "            print()\n",
    "            print(\"Test Set - R-squared: \", r2)\n",
    "            print(\"Test Set - RMSE: \", rmse)\n",
    "            print(\"Test Set - MAE: \", mae)\n",
    "            print()\n",
    "            print()\n",
    "            print()\n",
    "\n",
    "        ax = np.stack((pixel_id, y_pred), axis=1)\n",
    "        df_deep = pd.DataFrame(ax, columns=['pixel_id', f'{gal}_nn'])\n",
    "\n",
    "        df_deep.pixel_id = df_deep.pixel_id.astype(int)\n",
    "\n",
    "        if area == 'north':\n",
    "            df_north = df_north.merge(df_deep, how='inner', on='pixel_id')\n",
    "        elif area == 'south':\n",
    "            df_south = df_south.merge(df_deep, how='inner', on='pixel_id')\n",
    "        else:\n",
    "            df_des = df_des.merge(df_deep, how='inner', on='pixel_id')"
   ],
   "metadata": {
    "collapsed": false,
    "pycharm": {
     "name": "#%%\n"
    }
   }
  },
  {
   "cell_type": "code",
   "execution_count": 14,
   "outputs": [
    {
     "data": {
      "text/plain": "Index(['pixel_id', 'lrg', 'elg', 'qso', 'glbg', 'rlbg', 'exposures', 'hinh',\n       'gaia', 'gaia12', 'sagitarius', 'stellar', 'EBV', 'airmass',\n       'ccdskysb_g', 'ccdskysb_r', 'ccdskysb_z', 'ccdskycounts_g',\n       'ccdskycounts_r', 'ccdskycounts_z', 'seeing_g', 'seeing_r', 'seeing_z',\n       'lrg_lin', 'elg_lin', 'qso_lin', 'glbg_lin', 'rlbg_lin', 'lrg_nn',\n       'elg_nn', 'qso_nn', 'glbg_nn', 'rlbg_nn'],\n      dtype='object')"
     },
     "execution_count": 14,
     "metadata": {},
     "output_type": "execute_result"
    }
   ],
   "source": [
    "df_north.columns"
   ],
   "metadata": {
    "collapsed": false,
    "pycharm": {
     "name": "#%%\n"
    }
   }
  },
  {
   "cell_type": "code",
   "execution_count": 16,
   "outputs": [
    {
     "name": "stdout",
     "output_type": "stream",
     "text": [
      "   pixel_id  lrg  elg  qso  glbg  rlbg  exposures      hinh      gaia  \\\n",
      "0    198670    8   46    4    29    28   0.078947  0.073242  0.188406   \n",
      "1    445227   15   27    4    27    37   0.110526  0.294469  0.173913   \n",
      "2    599907    6   32    1    14    28   0.178947  0.043577  0.202899   \n",
      "3    500230    7   22    6    19    15   0.073684  0.056774  0.028986   \n",
      "4     85102    6   28    4    33    20   0.094737  0.287197  0.289855   \n",
      "\n",
      "     gaia12  ...   lrg_lin    elg_lin   qso_lin   glbg_lin   rlbg_lin  \\\n",
      "0  0.102740  ...  8.071155  31.166327  4.551402  27.702373  24.785633   \n",
      "1  0.222603  ...  8.676857  29.292303  3.824231  24.939559  28.788954   \n",
      "2  0.065068  ...  8.212959  31.960310  3.258793  28.324873  25.500994   \n",
      "3  0.133562  ...  8.174141  31.400109  4.287567  28.372862  29.368564   \n",
      "4  0.345890  ...  8.696031  28.307094  6.241617  37.031751  20.782377   \n",
      "\n",
      "     lrg_nn     elg_nn    qso_nn    glbg_nn    rlbg_nn  \n",
      "0  8.265652  30.079363  4.541422  28.518593  23.623510  \n",
      "1  8.683471  26.443096  3.746977  23.695089  26.623302  \n",
      "2  8.265633  31.533949  3.458061  25.909946  25.767174  \n",
      "3  8.265612  32.093201  4.338159  23.647652  29.738544  \n",
      "4  8.895151  28.817076  6.517690  33.335892  20.763193  \n",
      "\n",
      "[5 rows x 33 columns]\n",
      "   pixel_id  lrg  elg  qso  glbg  rlbg  exposures      hinh      gaia  \\\n",
      "0   1379283    2   34    3    17    11   0.113095  0.364966  0.086957   \n",
      "1   1132814   14   28    4    21     4   0.107143  0.089204  0.115942   \n",
      "2   1680243    6   25    4    11     9   0.119048  0.361590  0.115942   \n",
      "3   1061671   13   35    3    27     8   0.113095  0.421537  0.420290   \n",
      "4   1161326   12   38   10    14     8   0.095238  0.101190  0.130435   \n",
      "\n",
      "     gaia12  ...   lrg_lin    elg_lin   qso_lin   glbg_lin  rlbg_lin  \\\n",
      "0  0.109589  ...  8.605674  33.040219  3.883087  21.855500  9.132855   \n",
      "1  0.164384  ...  8.363313  34.337677  4.350186  22.120170  8.386716   \n",
      "2  0.202055  ...  8.670491  33.379320  4.193261  21.630418  9.108077   \n",
      "3  0.606164  ...  9.438732  30.931194  6.180140  25.554430  8.856408   \n",
      "4  0.102740  ...  8.428395  33.841176  3.758187  19.893403  9.456690   \n",
      "\n",
      "     lrg_nn     elg_nn    qso_nn    glbg_nn   rlbg_nn  \n",
      "0  8.427414  31.856928  3.625712  18.341219  8.342867  \n",
      "1  8.310349  35.465187  4.251350  21.700788  7.471156  \n",
      "2  8.603924  33.650417  4.171847  18.985769  8.132035  \n",
      "3  9.176188  31.822510  6.129977  18.595366  9.357773  \n",
      "4  8.354938  35.895428  3.792018  19.577944  8.196313  \n",
      "\n",
      "[5 rows x 33 columns]\n",
      "   pixel_id  lrg  elg  qso  glbg  rlbg  exposures      hinh      gaia  \\\n",
      "0   2190380    4   43    3    47     5   0.001310  0.105189  0.122449   \n",
      "1   2522133    7   29    5    31    10   0.005542  0.087179  0.122449   \n",
      "2   2225473    8   29    2    29     1   0.003023  0.050827  0.163265   \n",
      "3   2808643   13   31    4    28     4   0.004332  0.021253  0.163265   \n",
      "4   1809593    5   24    2    19     5   0.002720  0.123181  0.040816   \n",
      "\n",
      "     gaia12  ...   lrg_lin    elg_lin   qso_lin   glbg_lin  rlbg_lin  \\\n",
      "0  0.097436  ...  7.925748  32.527286  3.042787  27.792669  4.093660   \n",
      "1  0.123077  ...  8.216133  32.146133  3.217447  26.315375  4.036616   \n",
      "2  0.153846  ...  8.512407  31.650752  3.295213  30.290757  3.935560   \n",
      "3  0.256410  ...  7.769990  31.076761  3.566299  28.966226  4.241334   \n",
      "4  0.087179  ...  8.536679  33.920963  3.155376  25.765786  3.499751   \n",
      "\n",
      "     lrg_nn     elg_nn    qso_nn    glbg_nn   rlbg_nn  \n",
      "0  7.635291  33.528248  3.034923  27.285244  3.849033  \n",
      "1  8.173936  33.118568  3.145991  26.913534  4.294366  \n",
      "2  7.941572  30.883957  3.241097  29.633629  3.737648  \n",
      "3  7.720446  30.488770  3.454101  27.427532  3.991542  \n",
      "4  8.622622  34.523930  3.060630  27.183069  3.781363  \n",
      "\n",
      "[5 rows x 33 columns]\n"
     ]
    }
   ],
   "source": [
    "print((df_north.head()))\n",
    "print((df_south.head()))\n",
    "print((df_des.head()))\n"
   ],
   "metadata": {
    "collapsed": false,
    "pycharm": {
     "name": "#%%\n"
    }
   }
  },
  {
   "cell_type": "code",
   "execution_count": 15,
   "outputs": [
    {
     "name": "stdout",
     "output_type": "stream",
     "text": [
      "338526\n",
      "662847\n",
      "363076\n"
     ]
    }
   ],
   "source": [
    "print(len(df_des))\n",
    "print(len(df_south))\n",
    "print(len(df_north))"
   ],
   "metadata": {
    "collapsed": false,
    "pycharm": {
     "name": "#%%\n"
    }
   }
  },
  {
   "cell_type": "code",
   "execution_count": 17,
   "outputs": [],
   "source": [
    "df_north.to_csv(f'../regression/results/north_complete_512.csv', index=False)\n",
    "df_south.to_csv(f'../regression/results/south_complete_512.csv', index=False)\n",
    "df_des.to_csv(f'../regression/results/des_complete_512.csv', index=False)"
   ],
   "metadata": {
    "collapsed": false,
    "pycharm": {
     "name": "#%%\n"
    }
   }
  },
  {
   "cell_type": "code",
   "execution_count": 8,
   "metadata": {
    "collapsed": true
   },
   "outputs": [
    {
     "name": "stdout",
     "output_type": "stream",
     "text": [
      "97537\n"
     ]
    }
   ],
   "source": [
    "\n",
    "print(len(df_north))"
   ]
  },
  {
   "cell_type": "code",
   "execution_count": null,
   "outputs": [],
   "source": [],
   "metadata": {
    "collapsed": false,
    "pycharm": {
     "name": "#%%\n"
    }
   }
  }
 ],
 "metadata": {
  "kernelspec": {
   "display_name": "Python 3",
   "language": "python",
   "name": "python3"
  },
  "language_info": {
   "codemirror_mode": {
    "name": "ipython",
    "version": 2
   },
   "file_extension": ".py",
   "mimetype": "text/x-python",
   "name": "python",
   "nbconvert_exporter": "python",
   "pygments_lexer": "ipython2",
   "version": "2.7.6"
  }
 },
 "nbformat": 4,
 "nbformat_minor": 0
}