{
 "cells": [
  {
   "cell_type": "markdown",
   "metadata": {
    "collapsed": true,
    "pycharm": {
     "name": "#%% md\n"
    }
   },
   "source": [
    "### First attempt at building a Neural Network to learn a non-linear F(s)\n"
   ],
   "outputs": [],
   "execution_count": 1
  },
  {
   "cell_type": "code",
   "execution_count": 1,
   "outputs": [
    {
     "name": "stdout",
     "output_type": "stream",
     "text": [
      "1.9.0\n"
     ]
    }
   ],
   "source": [
    "import torch\n",
    "import numpy as np\n",
    "import pandas as pd\n",
    "import os\n",
    "import torch\n",
    "import torch.nn as nn\n",
    "import torch.nn.functional as F\n",
    "from sklearn.model_selection import train_test_split\n",
    "from sklearn.utils import shuffle\n",
    "from sklearn import preprocessing, metrics\n",
    "from torch.utils.data import DataLoader, Dataset\n",
    "import torch.optim as optim\n",
    "import time\n",
    "import seaborn as sns\n",
    "import matplotlib.pyplot as plt\n",
    "\n",
    "\n",
    "print(torch.__version__)"
   ],
   "metadata": {
    "collapsed": false,
    "pycharm": {
     "name": "#%%\n"
    }
   }
  },
  {
   "cell_type": "markdown",
   "source": [
    "# Data Preprocessing"
   ],
   "metadata": {
    "collapsed": false,
    "pycharm": {
     "name": "#%% md\n"
    }
   }
  },
  {
   "cell_type": "code",
   "execution_count": 2,
   "outputs": [],
   "source": [
    "df_geometric = pd.read_csv('../bricks_data/dataset_geometric.csv')\n",
    "df_kitanidis = pd.read_csv('../bricks_data/dataset_kitanidis.csv')\n",
    "df_kitanidis.drop('pixel_id', axis=1, inplace=True)\n",
    "df_geometric.drop('pixel_id', axis=1, inplace=True)\n",
    "\n",
    "train_df_geo, test_df_geo = train_test_split(df_geometric, test_size=0.33, random_state=44, shuffle=True)\n",
    "train_df_kit, test_df_kit = train_test_split(df_kitanidis, test_size=0.33, random_state=44, shuffle=True)"
   ],
   "metadata": {
    "collapsed": false,
    "pycharm": {
     "name": "#%%\n"
    }
   }
  },
  {
   "cell_type": "code",
   "execution_count": 3,
   "outputs": [
    {
     "data": {
      "text/plain": "        lrg  elg  qso  stellar       EBV   airmass      fwhm  ccdskysb_g  \\\n89136    33  108  135       14  0.018107  1.319964  3.886310   23.432305   \n161006   35  124  147       20  0.027707  1.291452  4.266571   23.534226   \n86817    26   82  116       15  0.147090  1.324597  5.368878   23.549151   \n116131   11   73   71        7  0.022910  1.476976  4.209666   23.492786   \n34538    12   59   68        8  0.010726  1.667206  4.654831   23.515421   \n\n        ccdskysb_r  ccdskysb_z   exptime_g  exptime_r   exptime_z  \\\n89136    22.669881   20.389898  103.560000  45.820000   79.306667   \n161006   22.664447   20.069928   90.000000  90.000000   90.000000   \n86817    22.722929   20.304141  188.973333  81.126667  160.739333   \n116131   22.685325   20.136689  121.533333  53.413333  128.116667   \n34538    22.689333   19.506456  149.774994  96.747853  140.954691   \n\n           meansky_g     meansky_r     meansky_z  galdepth_g  galdepth_r  \\\n89136   1.315610e-01  2.650449e-01  2.247409e+00   23.790844   23.136869   \n161006  2.144951e+08  6.823467e+08  2.257909e+09   23.459292   23.163053   \n86817   1.058678e-01  2.296210e-01  2.123827e+00   24.115970   23.479475   \n116131  1.165547e-01  2.448748e-01  2.796967e+00   23.913834   23.310549   \n34538   1.897221e-01  4.977593e-01  3.323957e+00   23.723508   22.956473   \n\n        galdepth_z  \n89136    22.230731  \n161006   22.008386  \n86817    22.420954  \n116131   22.329167  \n34538    22.234153  ",
      "text/html": "<div>\n<style scoped>\n    .dataframe tbody tr th:only-of-type {\n        vertical-align: middle;\n    }\n\n    .dataframe tbody tr th {\n        vertical-align: top;\n    }\n\n    .dataframe thead th {\n        text-align: right;\n    }\n</style>\n<table border=\"1\" class=\"dataframe\">\n  <thead>\n    <tr style=\"text-align: right;\">\n      <th></th>\n      <th>lrg</th>\n      <th>elg</th>\n      <th>qso</th>\n      <th>stellar</th>\n      <th>EBV</th>\n      <th>airmass</th>\n      <th>fwhm</th>\n      <th>ccdskysb_g</th>\n      <th>ccdskysb_r</th>\n      <th>ccdskysb_z</th>\n      <th>exptime_g</th>\n      <th>exptime_r</th>\n      <th>exptime_z</th>\n      <th>meansky_g</th>\n      <th>meansky_r</th>\n      <th>meansky_z</th>\n      <th>galdepth_g</th>\n      <th>galdepth_r</th>\n      <th>galdepth_z</th>\n    </tr>\n  </thead>\n  <tbody>\n    <tr>\n      <th>89136</th>\n      <td>33</td>\n      <td>108</td>\n      <td>135</td>\n      <td>14</td>\n      <td>0.018107</td>\n      <td>1.319964</td>\n      <td>3.886310</td>\n      <td>23.432305</td>\n      <td>22.669881</td>\n      <td>20.389898</td>\n      <td>103.560000</td>\n      <td>45.820000</td>\n      <td>79.306667</td>\n      <td>1.315610e-01</td>\n      <td>2.650449e-01</td>\n      <td>2.247409e+00</td>\n      <td>23.790844</td>\n      <td>23.136869</td>\n      <td>22.230731</td>\n    </tr>\n    <tr>\n      <th>161006</th>\n      <td>35</td>\n      <td>124</td>\n      <td>147</td>\n      <td>20</td>\n      <td>0.027707</td>\n      <td>1.291452</td>\n      <td>4.266571</td>\n      <td>23.534226</td>\n      <td>22.664447</td>\n      <td>20.069928</td>\n      <td>90.000000</td>\n      <td>90.000000</td>\n      <td>90.000000</td>\n      <td>2.144951e+08</td>\n      <td>6.823467e+08</td>\n      <td>2.257909e+09</td>\n      <td>23.459292</td>\n      <td>23.163053</td>\n      <td>22.008386</td>\n    </tr>\n    <tr>\n      <th>86817</th>\n      <td>26</td>\n      <td>82</td>\n      <td>116</td>\n      <td>15</td>\n      <td>0.147090</td>\n      <td>1.324597</td>\n      <td>5.368878</td>\n      <td>23.549151</td>\n      <td>22.722929</td>\n      <td>20.304141</td>\n      <td>188.973333</td>\n      <td>81.126667</td>\n      <td>160.739333</td>\n      <td>1.058678e-01</td>\n      <td>2.296210e-01</td>\n      <td>2.123827e+00</td>\n      <td>24.115970</td>\n      <td>23.479475</td>\n      <td>22.420954</td>\n    </tr>\n    <tr>\n      <th>116131</th>\n      <td>11</td>\n      <td>73</td>\n      <td>71</td>\n      <td>7</td>\n      <td>0.022910</td>\n      <td>1.476976</td>\n      <td>4.209666</td>\n      <td>23.492786</td>\n      <td>22.685325</td>\n      <td>20.136689</td>\n      <td>121.533333</td>\n      <td>53.413333</td>\n      <td>128.116667</td>\n      <td>1.165547e-01</td>\n      <td>2.448748e-01</td>\n      <td>2.796967e+00</td>\n      <td>23.913834</td>\n      <td>23.310549</td>\n      <td>22.329167</td>\n    </tr>\n    <tr>\n      <th>34538</th>\n      <td>12</td>\n      <td>59</td>\n      <td>68</td>\n      <td>8</td>\n      <td>0.010726</td>\n      <td>1.667206</td>\n      <td>4.654831</td>\n      <td>23.515421</td>\n      <td>22.689333</td>\n      <td>19.506456</td>\n      <td>149.774994</td>\n      <td>96.747853</td>\n      <td>140.954691</td>\n      <td>1.897221e-01</td>\n      <td>4.977593e-01</td>\n      <td>3.323957e+00</td>\n      <td>23.723508</td>\n      <td>22.956473</td>\n      <td>22.234153</td>\n    </tr>\n  </tbody>\n</table>\n</div>"
     },
     "execution_count": 3,
     "metadata": {},
     "output_type": "execute_result"
    }
   ],
   "source": [
    "train_df_kit.head()"
   ],
   "metadata": {
    "collapsed": false,
    "pycharm": {
     "name": "#%%\n"
    }
   }
  },
  {
   "cell_type": "code",
   "execution_count": 4,
   "outputs": [
    {
     "data": {
      "text/plain": "<Figure size 432x288 with 2 Axes>",
      "image/png": "[encoded data removed]"
     },
     "metadata": {
      "needs_background": "light"
     },
     "output_type": "display_data"
    }
   ],
   "source": [
    "corrMatrix = df_kitanidis.corr()\n",
    "sns.heatmap(corrMatrix, annot=False)\n",
    "plt.show()\n"
   ],
   "metadata": {
    "collapsed": false,
    "pycharm": {
     "name": "#%%\n"
    }
   }
  },
  {
   "cell_type": "markdown",
   "source": [
    "# Neural Network"
   ],
   "metadata": {
    "collapsed": false
   }
  },
  {
   "cell_type": "markdown",
   "source": [
    "### Defining The Dataset Class Inheriting from Torch.dataset to be able to use a dataloader for training"
   ],
   "metadata": {
    "collapsed": false,
    "pycharm": {
     "name": "#%% md\n"
    }
   }
  },
  {
   "cell_type": "code",
   "execution_count": 5,
   "outputs": [],
   "source": [
    "class DensitySurvey(Dataset):\n",
    "    def __init__(self, df, galaxy_type, scaler_in=None, scaler_out=None):\n",
    "        self.data = df\n",
    "        # Extracting Targets and Input\n",
    "        self.target = self.data[galaxy_type].to_numpy(copy=True)\n",
    "        self.input = self.data.drop(columns=['lrg','elg','qso']).to_numpy(copy=True)\n",
    "\n",
    "        # Scaling, when scaler is passed (test-set) use the existing scaler\n",
    "        self.scaler_in = scaler_in\n",
    "        self.scaler_out = scaler_out\n",
    "        if self.scaler_in is None:\n",
    "            self.scaler_in = preprocessing.MinMaxScaler()\n",
    "            self.scaler_out = preprocessing.MinMaxScaler()\n",
    "            self.input = self.scaler_in.fit_transform(self.input)\n",
    "            self.target = self.scaler_out.fit_transform(self.target.reshape(-1, 1))\n",
    "        else:\n",
    "            self.input = self.scaler_in.transform(self.input)\n",
    "            self.target = self.scaler_out.transform(self.target.reshape(-1, 1))\n",
    "\n",
    "\n",
    "    def __len__(self):\n",
    "        return len(self.target)\n",
    "\n",
    "    def __getitem__(self, idx):\n",
    "        return torch.from_numpy(self.input[idx]).float(), torch.tensor(self.target[idx]).float()\n",
    "\n",
    "    def __getscaler__(self):\n",
    "        return self.scaler_in, self.scaler_out\n",
    "\n",
    "\n",
    "\n",
    "\n"
   ],
   "metadata": {
    "collapsed": false,
    "pycharm": {
     "name": "#%%\n"
    }
   }
  },
  {
   "cell_type": "markdown",
   "source": [
    "### Define Models and Hyperparameters\n",
    "\n"
   ],
   "metadata": {
    "collapsed": false,
    "pycharm": {
     "name": "#%% md\n"
    }
   },
   "execution_count": 45
  },
  {
   "cell_type": "code",
   "execution_count": null,
   "outputs": [],
   "source": [
    "class LinearRegression(nn.Module):\n",
    "    def __init__(self, n_input_vars = 17, n_output_vars=1):\n",
    "        super().__init__() # call constructor of superclass\n",
    "        self.linear = nn.Linear(n_input_vars, n_output_vars)\n",
    "\n",
    "    def forward(self, x):\n",
    "        return self.linear(x)\n",
    "\n",
    "\n",
    "device = 'cpu'\n",
    "model = LinearRegression().to(device)\n",
    "\n"
   ],
   "metadata": {
    "collapsed": false,
    "pycharm": {
     "name": "#%%\n"
    }
   }
  },
  {
   "cell_type": "code",
   "execution_count": 6,
   "outputs": [],
   "source": [
    "class Net(nn.Module):\n",
    "    def __init__(self, n_feature = 16, n_hidden = 10, n_output = 1):\n",
    "        super(Net, self).__init__()\n",
    "        self.fc1 = nn.Linear(n_feature,n_hidden)\n",
    "        #self.fc2 = nn.Linear(n_hidden,n_hidden)\n",
    "        self.predict = nn.Linear(n_hidden,n_output)\n",
    "\n",
    "    def forward(self,x):\n",
    "        out = F.relu(self.fc1(x))\n",
    "        out = self.predict(out)\n",
    "        return out\n",
    "\n",
    "device = 'cpu'\n",
    "\n",
    "\n"
   ],
   "metadata": {
    "collapsed": false,
    "pycharm": {
     "name": "#%%\n"
    }
   }
  },
  {
   "cell_type": "code",
   "execution_count": 8,
   "outputs": [],
   "source": [
    "# Defining Loss\n",
    "criterion = nn.MSELoss()\n",
    "\n",
    "#Defining Hyperparemeters\n",
    "no_epochs = 100 #very low, but computational power not sufficient for more iterations\n",
    "batch = 1024\n",
    "learning_rate = 0.001\n",
    "\n",
    "#Using the Adam Method for Stochastic Optimisation\n",
    "#optimiser = optim.Adam(model.parameters(), lr=learning_rate)\n",
    "\n",
    "galaxy_types = ['LRG', 'ELG', 'QSO']"
   ],
   "metadata": {
    "collapsed": false,
    "pycharm": {
     "name": "#%%\n"
    }
   }
  },
  {
   "cell_type": "markdown",
   "source": [
    "### Kitanidis"
   ],
   "metadata": {
    "collapsed": false,
    "pycharm": {
     "name": "#%% md\n"
    }
   },
   "outputs": [
    {
     "name": "stdout",
     "output_type": "stream",
     "text": [
      "Loss for Epoch 40 :  0.04640561086125672\n",
      "Loss for Epoch 50 :  0.04622825689148158\n",
      "Loss for Epoch 60 :  0.046297409309772775\n",
      "Loss for Epoch 70 :  0.0462116924172733\n",
      "Loss for Epoch 80 :  0.04617627616971731\n",
      "Loss for Epoch 90 :  0.04685542525839992\n",
      "Loss for Epoch 100 :  0.04615518142236397\n",
      "Loss for Epoch 110 :  0.046161778329405934\n"
     ]
    },
    {
     "ename": "KeyboardInterrupt",
     "evalue": "",
     "output_type": "error",
     "traceback": [
      "\u001B[0;31m---------------------------------------------------------------------------\u001B[0m",
      "\u001B[0;31mKeyboardInterrupt\u001B[0m                         Traceback (most recent call last)",
      "\u001B[0;32m<ipython-input-35-59efc8afe6a3>\u001B[0m in \u001B[0;36m<module>\u001B[0;34m\u001B[0m\n\u001B[1;32m      7\u001B[0m     \u001B[0mtrainloader\u001B[0m \u001B[0;34m=\u001B[0m \u001B[0mtorch\u001B[0m\u001B[0;34m.\u001B[0m\u001B[0mutils\u001B[0m\u001B[0;34m.\u001B[0m\u001B[0mdata\u001B[0m\u001B[0;34m.\u001B[0m\u001B[0mDataLoader\u001B[0m\u001B[0;34m(\u001B[0m\u001B[0mtraindata\u001B[0m\u001B[0;34m,\u001B[0m \u001B[0mbatch_size\u001B[0m\u001B[0;34m=\u001B[0m\u001B[0mbatch\u001B[0m\u001B[0;34m,\u001B[0m \u001B[0mshuffle\u001B[0m \u001B[0;34m=\u001B[0m \u001B[0;32mTrue\u001B[0m\u001B[0;34m)\u001B[0m\u001B[0;34m\u001B[0m\u001B[0;34m\u001B[0m\u001B[0m\n\u001B[1;32m      8\u001B[0m \u001B[0;34m\u001B[0m\u001B[0m\n\u001B[0;32m----> 9\u001B[0;31m     \u001B[0;32mfor\u001B[0m \u001B[0mi\u001B[0m\u001B[0;34m,\u001B[0m \u001B[0mbatch_no\u001B[0m \u001B[0;32min\u001B[0m \u001B[0menumerate\u001B[0m\u001B[0;34m(\u001B[0m\u001B[0mtrainloader\u001B[0m\u001B[0;34m,\u001B[0m \u001B[0;36m0\u001B[0m\u001B[0;34m)\u001B[0m\u001B[0;34m:\u001B[0m\u001B[0;34m\u001B[0m\u001B[0;34m\u001B[0m\u001B[0m\n\u001B[0m\u001B[1;32m     10\u001B[0m \u001B[0;34m\u001B[0m\u001B[0m\n\u001B[1;32m     11\u001B[0m         \u001B[0;31m#Put Model into train mode\u001B[0m\u001B[0;34m\u001B[0m\u001B[0;34m\u001B[0m\u001B[0;34m\u001B[0m\u001B[0m\n",
      "\u001B[0;32m~/miniconda3/envs/astro/lib/python3.8/site-packages/torch/utils/data/dataloader.py\u001B[0m in \u001B[0;36m__next__\u001B[0;34m(self)\u001B[0m\n\u001B[1;32m    519\u001B[0m             \u001B[0;32mif\u001B[0m \u001B[0mself\u001B[0m\u001B[0;34m.\u001B[0m\u001B[0m_sampler_iter\u001B[0m \u001B[0;32mis\u001B[0m \u001B[0;32mNone\u001B[0m\u001B[0;34m:\u001B[0m\u001B[0;34m\u001B[0m\u001B[0;34m\u001B[0m\u001B[0m\n\u001B[1;32m    520\u001B[0m                 \u001B[0mself\u001B[0m\u001B[0;34m.\u001B[0m\u001B[0m_reset\u001B[0m\u001B[0;34m(\u001B[0m\u001B[0;34m)\u001B[0m\u001B[0;34m\u001B[0m\u001B[0;34m\u001B[0m\u001B[0m\n\u001B[0;32m--> 521\u001B[0;31m             \u001B[0mdata\u001B[0m \u001B[0;34m=\u001B[0m \u001B[0mself\u001B[0m\u001B[0;34m.\u001B[0m\u001B[0m_next_data\u001B[0m\u001B[0;34m(\u001B[0m\u001B[0;34m)\u001B[0m\u001B[0;34m\u001B[0m\u001B[0;34m\u001B[0m\u001B[0m\n\u001B[0m\u001B[1;32m    522\u001B[0m             \u001B[0mself\u001B[0m\u001B[0;34m.\u001B[0m\u001B[0m_num_yielded\u001B[0m \u001B[0;34m+=\u001B[0m \u001B[0;36m1\u001B[0m\u001B[0;34m\u001B[0m\u001B[0;34m\u001B[0m\u001B[0m\n\u001B[1;32m    523\u001B[0m             \u001B[0;32mif\u001B[0m \u001B[0mself\u001B[0m\u001B[0;34m.\u001B[0m\u001B[0m_dataset_kind\u001B[0m \u001B[0;34m==\u001B[0m \u001B[0m_DatasetKind\u001B[0m\u001B[0;34m.\u001B[0m\u001B[0mIterable\u001B[0m \u001B[0;32mand\u001B[0m\u001B[0;31m \u001B[0m\u001B[0;31m\\\u001B[0m\u001B[0;34m\u001B[0m\u001B[0;34m\u001B[0m\u001B[0m\n",
      "\u001B[0;32m~/miniconda3/envs/astro/lib/python3.8/site-packages/torch/utils/data/dataloader.py\u001B[0m in \u001B[0;36m_next_data\u001B[0;34m(self)\u001B[0m\n\u001B[1;32m    559\u001B[0m     \u001B[0;32mdef\u001B[0m \u001B[0m_next_data\u001B[0m\u001B[0;34m(\u001B[0m\u001B[0mself\u001B[0m\u001B[0;34m)\u001B[0m\u001B[0;34m:\u001B[0m\u001B[0;34m\u001B[0m\u001B[0;34m\u001B[0m\u001B[0m\n\u001B[1;32m    560\u001B[0m         \u001B[0mindex\u001B[0m \u001B[0;34m=\u001B[0m \u001B[0mself\u001B[0m\u001B[0;34m.\u001B[0m\u001B[0m_next_index\u001B[0m\u001B[0;34m(\u001B[0m\u001B[0;34m)\u001B[0m  \u001B[0;31m# may raise StopIteration\u001B[0m\u001B[0;34m\u001B[0m\u001B[0;34m\u001B[0m\u001B[0m\n\u001B[0;32m--> 561\u001B[0;31m         \u001B[0mdata\u001B[0m \u001B[0;34m=\u001B[0m \u001B[0mself\u001B[0m\u001B[0;34m.\u001B[0m\u001B[0m_dataset_fetcher\u001B[0m\u001B[0;34m.\u001B[0m\u001B[0mfetch\u001B[0m\u001B[0;34m(\u001B[0m\u001B[0mindex\u001B[0m\u001B[0;34m)\u001B[0m  \u001B[0;31m# may raise StopIteration\u001B[0m\u001B[0;34m\u001B[0m\u001B[0;34m\u001B[0m\u001B[0m\n\u001B[0m\u001B[1;32m    562\u001B[0m         \u001B[0;32mif\u001B[0m \u001B[0mself\u001B[0m\u001B[0;34m.\u001B[0m\u001B[0m_pin_memory\u001B[0m\u001B[0;34m:\u001B[0m\u001B[0;34m\u001B[0m\u001B[0;34m\u001B[0m\u001B[0m\n\u001B[1;32m    563\u001B[0m             \u001B[0mdata\u001B[0m \u001B[0;34m=\u001B[0m \u001B[0m_utils\u001B[0m\u001B[0;34m.\u001B[0m\u001B[0mpin_memory\u001B[0m\u001B[0;34m.\u001B[0m\u001B[0mpin_memory\u001B[0m\u001B[0;34m(\u001B[0m\u001B[0mdata\u001B[0m\u001B[0;34m)\u001B[0m\u001B[0;34m\u001B[0m\u001B[0;34m\u001B[0m\u001B[0m\n",
      "\u001B[0;32m~/miniconda3/envs/astro/lib/python3.8/site-packages/torch/utils/data/_utils/fetch.py\u001B[0m in \u001B[0;36mfetch\u001B[0;34m(self, possibly_batched_index)\u001B[0m\n\u001B[1;32m     42\u001B[0m     \u001B[0;32mdef\u001B[0m \u001B[0mfetch\u001B[0m\u001B[0;34m(\u001B[0m\u001B[0mself\u001B[0m\u001B[0;34m,\u001B[0m \u001B[0mpossibly_batched_index\u001B[0m\u001B[0;34m)\u001B[0m\u001B[0;34m:\u001B[0m\u001B[0;34m\u001B[0m\u001B[0;34m\u001B[0m\u001B[0m\n\u001B[1;32m     43\u001B[0m         \u001B[0;32mif\u001B[0m \u001B[0mself\u001B[0m\u001B[0;34m.\u001B[0m\u001B[0mauto_collation\u001B[0m\u001B[0;34m:\u001B[0m\u001B[0;34m\u001B[0m\u001B[0;34m\u001B[0m\u001B[0m\n\u001B[0;32m---> 44\u001B[0;31m             \u001B[0mdata\u001B[0m \u001B[0;34m=\u001B[0m \u001B[0;34m[\u001B[0m\u001B[0mself\u001B[0m\u001B[0;34m.\u001B[0m\u001B[0mdataset\u001B[0m\u001B[0;34m[\u001B[0m\u001B[0midx\u001B[0m\u001B[0;34m]\u001B[0m \u001B[0;32mfor\u001B[0m \u001B[0midx\u001B[0m \u001B[0;32min\u001B[0m \u001B[0mpossibly_batched_index\u001B[0m\u001B[0;34m]\u001B[0m\u001B[0;34m\u001B[0m\u001B[0;34m\u001B[0m\u001B[0m\n\u001B[0m\u001B[1;32m     45\u001B[0m         \u001B[0;32melse\u001B[0m\u001B[0;34m:\u001B[0m\u001B[0;34m\u001B[0m\u001B[0;34m\u001B[0m\u001B[0m\n\u001B[1;32m     46\u001B[0m             \u001B[0mdata\u001B[0m \u001B[0;34m=\u001B[0m \u001B[0mself\u001B[0m\u001B[0;34m.\u001B[0m\u001B[0mdataset\u001B[0m\u001B[0;34m[\u001B[0m\u001B[0mpossibly_batched_index\u001B[0m\u001B[0;34m]\u001B[0m\u001B[0;34m\u001B[0m\u001B[0;34m\u001B[0m\u001B[0m\n",
      "\u001B[0;32m~/miniconda3/envs/astro/lib/python3.8/site-packages/torch/utils/data/_utils/fetch.py\u001B[0m in \u001B[0;36m<listcomp>\u001B[0;34m(.0)\u001B[0m\n\u001B[1;32m     42\u001B[0m     \u001B[0;32mdef\u001B[0m \u001B[0mfetch\u001B[0m\u001B[0;34m(\u001B[0m\u001B[0mself\u001B[0m\u001B[0;34m,\u001B[0m \u001B[0mpossibly_batched_index\u001B[0m\u001B[0;34m)\u001B[0m\u001B[0;34m:\u001B[0m\u001B[0;34m\u001B[0m\u001B[0;34m\u001B[0m\u001B[0m\n\u001B[1;32m     43\u001B[0m         \u001B[0;32mif\u001B[0m \u001B[0mself\u001B[0m\u001B[0;34m.\u001B[0m\u001B[0mauto_collation\u001B[0m\u001B[0;34m:\u001B[0m\u001B[0;34m\u001B[0m\u001B[0;34m\u001B[0m\u001B[0m\n\u001B[0;32m---> 44\u001B[0;31m             \u001B[0mdata\u001B[0m \u001B[0;34m=\u001B[0m \u001B[0;34m[\u001B[0m\u001B[0mself\u001B[0m\u001B[0;34m.\u001B[0m\u001B[0mdataset\u001B[0m\u001B[0;34m[\u001B[0m\u001B[0midx\u001B[0m\u001B[0;34m]\u001B[0m \u001B[0;32mfor\u001B[0m \u001B[0midx\u001B[0m \u001B[0;32min\u001B[0m \u001B[0mpossibly_batched_index\u001B[0m\u001B[0;34m]\u001B[0m\u001B[0;34m\u001B[0m\u001B[0;34m\u001B[0m\u001B[0m\n\u001B[0m\u001B[1;32m     45\u001B[0m         \u001B[0;32melse\u001B[0m\u001B[0;34m:\u001B[0m\u001B[0;34m\u001B[0m\u001B[0;34m\u001B[0m\u001B[0m\n\u001B[1;32m     46\u001B[0m             \u001B[0mdata\u001B[0m \u001B[0;34m=\u001B[0m \u001B[0mself\u001B[0m\u001B[0;34m.\u001B[0m\u001B[0mdataset\u001B[0m\u001B[0;34m[\u001B[0m\u001B[0mpossibly_batched_index\u001B[0m\u001B[0;34m]\u001B[0m\u001B[0;34m\u001B[0m\u001B[0;34m\u001B[0m\u001B[0m\n",
      "\u001B[0;32m<ipython-input-27-d618d4b457ac>\u001B[0m in \u001B[0;36m__getitem__\u001B[0;34m(self, idx)\u001B[0m\n\u001B[1;32m     28\u001B[0m \u001B[0;34m\u001B[0m\u001B[0m\n\u001B[1;32m     29\u001B[0m     \u001B[0;32mdef\u001B[0m \u001B[0m__getitem__\u001B[0m\u001B[0;34m(\u001B[0m\u001B[0mself\u001B[0m\u001B[0;34m,\u001B[0m \u001B[0midx\u001B[0m\u001B[0;34m)\u001B[0m\u001B[0;34m:\u001B[0m\u001B[0;34m\u001B[0m\u001B[0;34m\u001B[0m\u001B[0m\n\u001B[0;32m---> 30\u001B[0;31m         \u001B[0;32mreturn\u001B[0m \u001B[0mtorch\u001B[0m\u001B[0;34m.\u001B[0m\u001B[0mfrom_numpy\u001B[0m\u001B[0;34m(\u001B[0m\u001B[0mself\u001B[0m\u001B[0;34m.\u001B[0m\u001B[0minput\u001B[0m\u001B[0;34m[\u001B[0m\u001B[0midx\u001B[0m\u001B[0;34m]\u001B[0m\u001B[0;34m)\u001B[0m\u001B[0;34m.\u001B[0m\u001B[0mfloat\u001B[0m\u001B[0;34m(\u001B[0m\u001B[0;34m)\u001B[0m\u001B[0;34m,\u001B[0m \u001B[0mtorch\u001B[0m\u001B[0;34m.\u001B[0m\u001B[0mtensor\u001B[0m\u001B[0;34m(\u001B[0m\u001B[0mself\u001B[0m\u001B[0;34m.\u001B[0m\u001B[0mtarget\u001B[0m\u001B[0;34m[\u001B[0m\u001B[0midx\u001B[0m\u001B[0;34m]\u001B[0m\u001B[0;34m)\u001B[0m\u001B[0;34m.\u001B[0m\u001B[0mfloat\u001B[0m\u001B[0;34m(\u001B[0m\u001B[0;34m)\u001B[0m\u001B[0;34m\u001B[0m\u001B[0;34m\u001B[0m\u001B[0m\n\u001B[0m\u001B[1;32m     31\u001B[0m \u001B[0;34m\u001B[0m\u001B[0m\n\u001B[1;32m     32\u001B[0m     \u001B[0;32mdef\u001B[0m \u001B[0m__getscaler__\u001B[0m\u001B[0;34m(\u001B[0m\u001B[0mself\u001B[0m\u001B[0;34m)\u001B[0m\u001B[0;34m:\u001B[0m\u001B[0;34m\u001B[0m\u001B[0;34m\u001B[0m\u001B[0m\n",
      "\u001B[0;31mKeyboardInterrupt\u001B[0m: "
     ]
    }
   ],
   "execution_count": 35
  },
  {
   "cell_type": "code",
   "execution_count": 9,
   "outputs": [
    {
     "name": "stdout",
     "output_type": "stream",
     "text": [
      "GALAXY TYPE:  LRG\n",
      "\n",
      "Loss for Epoch 0 :  0.055659619509242475\n",
      "Loss for Epoch 10 :  0.047092226159293205\n",
      "Loss for Epoch 20 :  0.046443431347142905\n",
      "Loss for Epoch 30 :  0.046371587639441714\n",
      "Loss for Epoch 40 :  0.04637736457516439\n",
      "Loss for Epoch 50 :  0.04607162805041298\n",
      "Loss for Epoch 60 :  0.0463370299548842\n",
      "Loss for Epoch 70 :  0.04623115135473199\n",
      "Loss for Epoch 80 :  0.046324527414981276\n",
      "Loss for Epoch 90 :  0.046368653886020184\n",
      "\n",
      "2.65 minutes (1.59e+02 seconds) taken to train the model\n",
      "Neural Net R^2 for LRG, Kitanidis :  0.09512772957911253.\n",
      "Neural Net MSE for LRG, Kitanidis :  0.0004425338169648956.\n",
      "GALAXY TYPE:  ELG\n",
      "\n",
      "Loss for Epoch 0 :  0.1746001905121375\n",
      "Loss for Epoch 10 :  0.02544980352104176\n",
      "Loss for Epoch 20 :  0.024404774885624647\n",
      "Loss for Epoch 30 :  0.02381907326343935\n",
      "Loss for Epoch 40 :  0.023172870351118036\n",
      "Loss for Epoch 50 :  0.02286576878395863\n",
      "Loss for Epoch 60 :  0.022516714758239686\n",
      "Loss for Epoch 70 :  0.0221528021938866\n",
      "Loss for Epoch 80 :  0.022071532090194523\n",
      "Loss for Epoch 90 :  0.022091512524639256\n",
      "\n",
      "2.5471 minutes (1.53e+02 seconds) taken to train the model\n",
      "Neural Net R^2 for ELG, Kitanidis :  0.1948858337231706.\n",
      "Neural Net MSE for ELG, Kitanidis :  0.00021244693846851542.\n",
      "GALAXY TYPE:  QSO\n",
      "\n",
      "Loss for Epoch 0 :  2.1535041506867856\n",
      "Loss for Epoch 10 :  0.14095048781018704\n",
      "Loss for Epoch 20 :  0.13538011035416275\n",
      "Loss for Epoch 30 :  0.13296975335106254\n",
      "Loss for Epoch 40 :  0.1298959741834551\n",
      "Loss for Epoch 50 :  0.12625251000281423\n",
      "Loss for Epoch 60 :  0.12157459231093526\n",
      "Loss for Epoch 70 :  0.11920661648036912\n",
      "Loss for Epoch 80 :  0.11821262672310695\n",
      "Loss for Epoch 90 :  0.1182261569192633\n",
      "\n",
      "2.6413 minutes (1.58e+02 seconds) taken to train the model\n",
      "Neural Net R^2 for QSO, Kitanidis :  0.2368647529373613.\n",
      "Neural Net MSE for QSO, Kitanidis :  0.0011502293693739193.\n"
     ]
    }
   ],
   "source": [
    "for gal in galaxy_types:\n",
    "\n",
    "    model = Net().to(device)\n",
    "    optimiser = optim.Adam(model.parameters(), lr=learning_rate)\n",
    "\n",
    "\n",
    "    print(\"GALAXY TYPE: \", gal)\n",
    "    print()\n",
    "    traindata = DensitySurvey(train_df_kit, gal)\n",
    "    scaler_in, scaler_out = traindata.__getscaler__()\n",
    "    testdata = DensitySurvey(test_df_kit, gal, scaler_in, scaler_out)\n",
    "\n",
    "    time_start = time.time()\n",
    "\n",
    "    for epoch in range(no_epochs):\n",
    "        loss_per_epoch = 0\n",
    "\n",
    "        #loading the training data from trainset and shuffling for each epoch\n",
    "        trainloader = torch.utils.data.DataLoader(traindata, batch_size=batch, shuffle = True)\n",
    "\n",
    "        for i, batch_no in enumerate(trainloader, 0):\n",
    "\n",
    "            #Put Model into train mode\n",
    "            model.train()\n",
    "\n",
    "            #Extract inputs and associated labels from dataloader batch\n",
    "            inputs = batch_no[0].to(device)\n",
    "            labels = batch_no[1].to(device)\n",
    "\n",
    "            #Zero-out the gradients before backward pass (pytorch stores the gradients)\n",
    "            optimiser.zero_grad()\n",
    "\n",
    "            #Predict outputs (forward pass)\n",
    "            predictions =  model(inputs)\n",
    "\n",
    "            #Compute Loss\n",
    "            loss = criterion(predictions, labels)\n",
    "\n",
    "            #Backpropagation\n",
    "            loss.backward()\n",
    "\n",
    "            #Perform one step of gradient descent\n",
    "            optimiser.step()\n",
    "\n",
    "            #Append loss to the general loss for this one epoch\n",
    "            loss_per_epoch += loss.item()\n",
    "        if epoch % 10 == 0:\n",
    "            print(\"Loss for Epoch\", epoch, \": \", loss_per_epoch)\n",
    "\n",
    "    time_end = time.time()\n",
    "    time_passed = time_end - time_start\n",
    "    print()\n",
    "    print(f\"{time_passed/60:.5} minutes ({time_passed:.3} seconds) taken to train the model\")\n",
    "\n",
    "\n",
    "    model.eval()\n",
    "    y_pred = np.array([])\n",
    "    testloader = torch.utils.data.DataLoader(testdata, batch_size=batch, shuffle=False)\n",
    "\n",
    "\n",
    "    for batch_no in testloader:\n",
    "\n",
    "        #Split dataloader\n",
    "        inputs = batch_no[0].to(device)\n",
    "        labels = batch_no[1].to(device)\n",
    "\n",
    "        #Forward pass through the trained network\n",
    "        outputs = model(inputs)\n",
    "\n",
    "        #Get predictions and append to label array + count number of correct and total\n",
    "        y_pred = np.append(y_pred, outputs.detach().numpy())\n",
    "\n",
    "    y_gold = testdata.target\n",
    "\n",
    "\n",
    "\n",
    "    print(f\"Neural Net R^2 for {gal}, Kitanidis :  {metrics.r2_score(y_gold, y_pred)}.\")\n",
    "    print(f\"Neural Net MSE for {gal}, Kitanidis :  {metrics.mean_squared_error(y_gold, y_pred)}.\")\n"
   ],
   "metadata": {
    "collapsed": false,
    "pycharm": {
     "name": "#%%\n"
    }
   }
  },
  {
   "cell_type": "markdown",
   "source": [
    "### Geometric Neural Net"
   ],
   "metadata": {
    "collapsed": false,
    "pycharm": {
     "name": "#%% md\n"
    }
   }
  },
  {
   "cell_type": "code",
   "execution_count": 10,
   "outputs": [
    {
     "name": "stdout",
     "output_type": "stream",
     "text": [
      "GALAXY TYPE:  LRG\n",
      "\n",
      "Loss for Epoch 0 :  0.1162809282541275\n",
      "Loss for Epoch 10 :  0.0645222504681442\n",
      "Loss for Epoch 20 :  0.0625937175063882\n",
      "Loss for Epoch 30 :  0.06243429446476512\n",
      "Loss for Epoch 40 :  0.06230533667257987\n",
      "Loss for Epoch 50 :  0.06227218222920783\n",
      "Loss for Epoch 60 :  0.061999652738450095\n",
      "Loss for Epoch 70 :  0.06181814146111719\n",
      "Loss for Epoch 80 :  0.06085118683404289\n",
      "Loss for Epoch 90 :  0.06059876336075831\n",
      "\n",
      "4.1149 minutes (2.47e+02 seconds) taken to train the model\n",
      "\n",
      "Neural Net R^2 for LRG, Geometric :  0.38443757500315257.\n",
      "Neural Net MSE for LRG, Geometric :  0.0003322833752020372.\n",
      "GALAXY TYPE:  ELG\n",
      "\n",
      "Loss for Epoch 0 :  2.4312975874054246\n",
      "Loss for Epoch 10 :  0.06502228003228083\n",
      "Loss for Epoch 20 :  0.055561175948241726\n",
      "Loss for Epoch 30 :  0.046266059929621406\n",
      "Loss for Epoch 40 :  0.03645620016322937\n",
      "Loss for Epoch 50 :  0.03533643936680164\n",
      "Loss for Epoch 60 :  0.03508950311515946\n",
      "Loss for Epoch 70 :  0.03495112086238805\n",
      "Loss for Epoch 80 :  0.03485323264612816\n",
      "Loss for Epoch 90 :  0.034759289148496464\n",
      "\n",
      "4.6468 minutes (2.79e+02 seconds) taken to train the model\n",
      "\n",
      "Neural Net R^2 for ELG, Geometric :  0.5217010424355256.\n",
      "Neural Net MSE for ELG, Geometric :  0.00019322576913077577.\n",
      "GALAXY TYPE:  QSO\n",
      "\n",
      "Loss for Epoch 0 :  0.9134626978775486\n",
      "Loss for Epoch 10 :  0.18038211314706132\n",
      "Loss for Epoch 20 :  0.138246692775283\n",
      "Loss for Epoch 30 :  0.1289135585539043\n",
      "Loss for Epoch 40 :  0.12650711054448038\n",
      "Loss for Epoch 50 :  0.1253230280126445\n",
      "Loss for Epoch 60 :  0.12447834311751649\n",
      "Loss for Epoch 70 :  0.12392768578138202\n",
      "Loss for Epoch 80 :  0.12359314283821732\n",
      "Loss for Epoch 90 :  0.12318668473744765\n",
      "\n",
      "3.8798 minutes (2.33e+02 seconds) taken to train the model\n",
      "\n",
      "Neural Net R^2 for QSO, Geometric :  0.5611385693268605.\n",
      "Neural Net MSE for QSO, Geometric :  0.0006951821151324711.\n"
     ]
    }
   ],
   "source": [
    "for gal in galaxy_types:\n",
    "    model = Net().to(device)\n",
    "    optimiser = optim.Adam(model.parameters(), lr=learning_rate)\n",
    "    print(\"GALAXY TYPE: \", gal)\n",
    "    print()\n",
    "    traindata = DensitySurvey(train_df_geo, gal)\n",
    "    scaler_in, scaler_out = traindata.__getscaler__()\n",
    "    testdata = DensitySurvey(test_df_geo, gal, scaler_in, scaler_out)\n",
    "\n",
    "    time_start = time.time()\n",
    "\n",
    "    for epoch in range(no_epochs):\n",
    "        loss_per_epoch = 0\n",
    "\n",
    "        #loading the training data from trainset and shuffling for each epoch\n",
    "        trainloader = torch.utils.data.DataLoader(traindata, batch_size=batch, shuffle = True)\n",
    "\n",
    "        for i, batch_no in enumerate(trainloader, 0):\n",
    "\n",
    "            #Put Model into train mode\n",
    "            model.train()\n",
    "\n",
    "            #Extract inputs and associated labels from dataloader batch\n",
    "            inputs = batch_no[0].to(device)\n",
    "            labels = batch_no[1].to(device)\n",
    "\n",
    "            #Zero-out the gradients before backward pass (pytorch stores the gradients)\n",
    "            optimiser.zero_grad()\n",
    "\n",
    "            #Predict outputs (forward pass)\n",
    "            predictions =  model(inputs)\n",
    "\n",
    "            #Compute Loss\n",
    "            loss = criterion(predictions, labels)\n",
    "\n",
    "            #Backpropagation\n",
    "            loss.backward()\n",
    "\n",
    "            #Perform one step of gradient descent\n",
    "            optimiser.step()\n",
    "\n",
    "            #Append loss to the general loss for this one epoch\n",
    "            loss_per_epoch += loss.item()\n",
    "        if epoch % 10 == 0:\n",
    "            print(\"Loss for Epoch\", epoch, \": \", loss_per_epoch)\n",
    "\n",
    "    time_end = time.time()\n",
    "    time_passed = time_end - time_start\n",
    "    print()\n",
    "    print(f\"{time_passed/60:.5} minutes ({time_passed:.3} seconds) taken to train the model\")\n",
    "\n",
    "\n",
    "    model.eval()\n",
    "    y_pred = np.array([])\n",
    "    testloader = torch.utils.data.DataLoader(testdata, batch_size=batch, shuffle=False)\n",
    "\n",
    "\n",
    "    for batch_no in testloader:\n",
    "\n",
    "        #Split dataloader\n",
    "        inputs = batch_no[0].to(device)\n",
    "        labels = batch_no[1].to(device)\n",
    "\n",
    "        #Forward pass through the trained network\n",
    "        outputs = model(inputs)\n",
    "\n",
    "        #Get predictions and append to label array + count number of correct and total\n",
    "        y_pred = np.append(y_pred, outputs.detach().numpy())\n",
    "\n",
    "    y_gold = testdata.target\n",
    "\n",
    "\n",
    "    print()\n",
    "    print(f\"Neural Net R^2 for {gal}, Geometric :  {metrics.r2_score(y_gold, y_pred)}.\")\n",
    "    print(f\"Neural Net MSE for {gal}, Geometric :  {metrics.mean_squared_error(y_gold, y_pred)}.\")"
   ],
   "metadata": {
    "collapsed": false,
    "pycharm": {
     "name": "#%%\n"
    }
   }
  },
  {
   "cell_type": "markdown",
   "source": [
    "# Regression"
   ],
   "metadata": {
    "collapsed": false,
    "pycharm": {
     "name": "#%% md\n"
    }
   }
  },
  {
   "cell_type": "code",
   "execution_count": 19,
   "outputs": [],
   "source": [
    "from sklearn.linear_model import LinearRegression, Ridge, Lasso\n",
    "from sklearn.ensemble import AdaBoostRegressor\n",
    "galaxy_types = ['lrg','elg','qso']\n"
   ],
   "metadata": {
    "collapsed": false,
    "pycharm": {
     "name": "#%%\n"
    }
   }
  },
  {
   "cell_type": "markdown",
   "source": [
    "### Geometrics"
   ],
   "metadata": {
    "collapsed": false
   }
  },
  {
   "cell_type": "markdown",
   "source": [
    "### Geometric - Linear Regression"
   ],
   "metadata": {
    "collapsed": false
   }
  },
  {
   "cell_type": "code",
   "execution_count": 14,
   "outputs": [
    {
     "name": "stdout",
     "output_type": "stream",
     "text": [
      "Linear Regression R^2 for lrg, Geometric :  0.22429511761770937.\n",
      "Linear Regression MSE for lrg, Geometric :  116.73494454968107.\n",
      "Linear Regression R^2 for elg, Geometric :  0.2707214443169599.\n",
      "Linear Regression MSE for elg, Geometric :  996.3742889230185.\n",
      "Linear Regression R^2 for qso, Geometric :  0.2873594296697155.\n",
      "Linear Regression MSE for qso, Geometric :  1806.4367916145238.\n"
     ]
    }
   ],
   "source": [
    "for gal in galaxy_types:\n",
    "    y_train = train_df_geo[gal]#.to_numpy(copy=True)\n",
    "    X_train = train_df_geo.drop(columns=['lrg','elg','qso'])#.to_numpy(copy=True)\n",
    "    y_gold = test_df_geo[gal]\n",
    "    X_test = test_df_geo.drop(columns=['lrg','elg','qso'])\n",
    "    reg = LinearRegression()\n",
    "    reg.fit(X_train,y_train)\n",
    "    y_pred = reg.predict(X_test)\n",
    "\n",
    "    print(f\"Linear Regression R^2 for {gal}, Geometric :  {metrics.r2_score(y_gold, y_pred)}.\")\n",
    "    print(f\"Linear Regression MSE for {gal}, Geometric :  {metrics.mean_squared_error(y_gold, y_pred)}.\")"
   ],
   "metadata": {
    "collapsed": false,
    "pycharm": {
     "name": "#%%\n"
    }
   }
  },
  {
   "cell_type": "markdown",
   "source": [
    "### Geometric - Ridge Regression"
   ],
   "metadata": {
    "collapsed": false
   }
  },
  {
   "cell_type": "code",
   "execution_count": 15,
   "outputs": [
    {
     "name": "stdout",
     "output_type": "stream",
     "text": [
      "Ridge Regression R^2 for lrg, Geometric :  0.22429220844731323.\n",
      "Ridge Regression MSE for lrg, Geometric :  116.73538234742168.\n",
      "Ridge Regression R^2 for elg, Geometric :  0.2707178215774092.\n",
      "Ridge Regression MSE for elg, Geometric :  996.3792384783231.\n",
      "Ridge Regression R^2 for qso, Geometric :  0.2873569106933308.\n",
      "Ridge Regression MSE for qso, Geometric :  1806.4431768412535.\n"
     ]
    },
    {
     "name": "stderr",
     "output_type": "stream",
     "text": [
      "/Users/edgareggert/miniconda3/envs/astro/lib/python3.8/site-packages/sklearn/linear_model/_ridge.py:147: LinAlgWarning: Ill-conditioned matrix (rcond=4.87398e-23): result may not be accurate.\n",
      "  return linalg.solve(A, Xy, sym_pos=True,\n",
      "/Users/edgareggert/miniconda3/envs/astro/lib/python3.8/site-packages/sklearn/linear_model/_ridge.py:147: LinAlgWarning: Ill-conditioned matrix (rcond=4.87398e-23): result may not be accurate.\n",
      "  return linalg.solve(A, Xy, sym_pos=True,\n",
      "/Users/edgareggert/miniconda3/envs/astro/lib/python3.8/site-packages/sklearn/linear_model/_ridge.py:147: LinAlgWarning: Ill-conditioned matrix (rcond=4.87398e-23): result may not be accurate.\n",
      "  return linalg.solve(A, Xy, sym_pos=True,\n"
     ]
    }
   ],
   "source": [
    "for gal in galaxy_types:\n",
    "    y_train = train_df_geo[gal]#.to_numpy(copy=True)\n",
    "    X_train = train_df_geo.drop(columns=['lrg','elg','qso'])#.to_numpy(copy=True)\n",
    "    y_gold = test_df_geo[gal]\n",
    "    X_test = test_df_geo.drop(columns=['lrg','elg','qso'])\n",
    "    reg = Ridge()\n",
    "    reg.fit(X_train,y_train)\n",
    "    y_pred = reg.predict(X_test)\n",
    "\n",
    "    print(f\"Ridge Regression R^2 for {gal}, Geometric :  {metrics.r2_score(y_gold, y_pred)}.\")\n",
    "    print(f\"Ridge Regression MSE for {gal}, Geometric :  {metrics.mean_squared_error(y_gold, y_pred)}.\")"
   ],
   "metadata": {
    "collapsed": false,
    "pycharm": {
     "name": "#%%\n"
    }
   }
  },
  {
   "cell_type": "markdown",
   "source": [
    "### Geometric - Lasso Regression"
   ],
   "metadata": {
    "collapsed": false
   }
  },
  {
   "cell_type": "code",
   "execution_count": 16,
   "outputs": [
    {
     "name": "stdout",
     "output_type": "stream",
     "text": [
      "Lasso Regression R^2 for lrg, Geometric :  0.21112410308197582.\n",
      "Lasso Regression MSE for lrg, Geometric :  118.71703553094446.\n",
      "Lasso Regression R^2 for elg, Geometric :  0.23620539020780862.\n",
      "Lasso Regression MSE for elg, Geometric :  1043.531727739005.\n",
      "Lasso Regression R^2 for qso, Geometric :  0.2589981942866073.\n",
      "Lasso Regression MSE for qso, Geometric :  1878.3282628339373.\n"
     ]
    }
   ],
   "source": [
    "for gal in galaxy_types:\n",
    "    y_train = train_df_geo[gal]#.to_numpy(copy=True)\n",
    "    X_train = train_df_geo.drop(columns=['lrg','elg','qso'])#.to_numpy(copy=True)\n",
    "    y_gold = test_df_geo[gal]\n",
    "    X_test = test_df_geo.drop(columns=['lrg','elg','qso'])\n",
    "    reg = Lasso()\n",
    "    reg.fit(X_train,y_train)\n",
    "    y_pred = reg.predict(X_test)\n",
    "\n",
    "    print(f\"Lasso Regression R^2 for {gal}, Geometric :  {metrics.r2_score(y_gold, y_pred)}.\")\n",
    "    print(f\"Lasso Regression MSE for {gal}, Geometric :  {metrics.mean_squared_error(y_gold, y_pred)}.\")\n"
   ],
   "metadata": {
    "collapsed": false,
    "pycharm": {
     "name": "#%%\n"
    }
   }
  },
  {
   "cell_type": "markdown",
   "source": [
    "### Geometric - Adaboost-Regressor"
   ],
   "metadata": {
    "collapsed": false
   }
  },
  {
   "cell_type": "code",
   "execution_count": 25,
   "outputs": [
    {
     "name": "stdout",
     "output_type": "stream",
     "text": [
      "AdaBoost Regression R^2 for lrg, Geometric :  -14.197335788294952.\n",
      "AdaBoost Regression MSE for lrg, Geometric :  2287.0297594377976.\n",
      "AdaBoost Regression R^2 for elg, Geometric :  -0.09047134292485381.\n",
      "AdaBoost Regression MSE for elg, Geometric :  1489.8526775959442.\n",
      "AdaBoost Regression R^2 for qso, Geometric :  -1.0977061757706212.\n",
      "AdaBoost Regression MSE for qso, Geometric :  5317.370034311699.\n"
     ]
    }
   ],
   "source": [
    "for gal in galaxy_types:\n",
    "    y_train = train_df_geo[gal]#.to_numpy(copy=True)\n",
    "    X_train = train_df_geo.drop(columns=['lrg','elg','qso'])#.to_numpy(copy=True)\n",
    "    y_gold = test_df_geo[gal]\n",
    "    X_test = test_df_geo.drop(columns=['lrg','elg','qso'])\n",
    "    reg = AdaBoostRegressor(n_estimators=100)\n",
    "    reg.fit(X_train,y_train)\n",
    "    y_pred = reg.predict(X_test)\n",
    "\n",
    "    print(f\"AdaBoost Regression R^2 for {gal}, Geometric :  {metrics.r2_score(y_gold, y_pred)}.\")\n",
    "    print(f\"AdaBoost Regression MSE for {gal}, Geometric :  {metrics.mean_squared_error(y_gold, y_pred)}.\")\n"
   ],
   "metadata": {
    "collapsed": false,
    "pycharm": {
     "name": "#%%\n"
    }
   }
  },
  {
   "cell_type": "markdown",
   "source": [
    "### Kitanidis\n"
   ],
   "metadata": {
    "collapsed": false,
    "pycharm": {
     "name": "#%% md\n"
    }
   }
  },
  {
   "cell_type": "markdown",
   "source": [
    "### Kitanidis - Linear Regression"
   ],
   "metadata": {
    "collapsed": false,
    "pycharm": {
     "name": "#%% md\n"
    }
   }
  },
  {
   "cell_type": "code",
   "execution_count": 21,
   "outputs": [
    {
     "name": "stdout",
     "output_type": "stream",
     "text": [
      "Linear Regression R^2 for lrg, Kitanidis :  0.06959531735312607.\n",
      "Linear Regression MSE for lrg, Kitanidis :  126.85246668554198.\n",
      "Linear Regression R^2 for elg, Kitanidis :  0.10670288843788489.\n",
      "Linear Regression MSE for elg, Kitanidis :  792.8437391446898.\n",
      "Linear Regression R^2 for qso, Kitanidis :  0.12991526946317766.\n",
      "Linear Regression MSE for qso, Kitanidis :  1402.1212270198284.\n"
     ]
    }
   ],
   "source": [
    "for gal in galaxy_types:\n",
    "    y_train = train_df_kit[gal]#.to_numpy(copy=True)\n",
    "    X_train = train_df_kit.drop(columns=['lrg','elg','qso'])#.to_numpy(copy=True)\n",
    "    y_gold = test_df_kit[gal]\n",
    "    X_test = test_df_kit.drop(columns=['lrg','elg','qso'])\n",
    "    reg = LinearRegression()\n",
    "    reg.fit(X_train,y_train)\n",
    "    y_pred = reg.predict(X_test)\n",
    "\n",
    "    print(f\"Linear Regression R^2 for {gal}, Kitanidis :  {metrics.r2_score(y_gold, y_pred)}.\")\n",
    "    print(f\"Linear Regression MSE for {gal}, Kitanidis :  {metrics.mean_squared_error(y_gold, y_pred)}.\")"
   ],
   "metadata": {
    "collapsed": false,
    "pycharm": {
     "name": "#%%\n"
    }
   }
  },
  {
   "cell_type": "markdown",
   "source": [
    "### Kitanidis - Ridge Regression"
   ],
   "metadata": {
    "collapsed": false
   }
  },
  {
   "cell_type": "code",
   "execution_count": 22,
   "outputs": [
    {
     "name": "stdout",
     "output_type": "stream",
     "text": [
      "Ridge Regression R^2 for lrg, Kitanidis :  0.06959235854194745.\n",
      "Ridge Regression MSE for lrg, Kitanidis :  126.85287009333159.\n",
      "Ridge Regression R^2 for elg, Kitanidis :  0.10670253475343427.\n",
      "Ridge Regression MSE for elg, Kitanidis :  792.8440530564876.\n",
      "Ridge Regression R^2 for qso, Kitanidis :  0.12991602422112913.\n",
      "Ridge Regression MSE for qso, Kitanidis :  1402.1200107450131.\n"
     ]
    },
    {
     "name": "stderr",
     "output_type": "stream",
     "text": [
      "/Users/edgareggert/miniconda3/envs/astro/lib/python3.8/site-packages/sklearn/linear_model/_ridge.py:147: LinAlgWarning: Ill-conditioned matrix (rcond=4.88334e-23): result may not be accurate.\n",
      "  return linalg.solve(A, Xy, sym_pos=True,\n",
      "/Users/edgareggert/miniconda3/envs/astro/lib/python3.8/site-packages/sklearn/linear_model/_ridge.py:147: LinAlgWarning: Ill-conditioned matrix (rcond=4.88334e-23): result may not be accurate.\n",
      "  return linalg.solve(A, Xy, sym_pos=True,\n",
      "/Users/edgareggert/miniconda3/envs/astro/lib/python3.8/site-packages/sklearn/linear_model/_ridge.py:147: LinAlgWarning: Ill-conditioned matrix (rcond=4.88334e-23): result may not be accurate.\n",
      "  return linalg.solve(A, Xy, sym_pos=True,\n"
     ]
    }
   ],
   "source": [
    "for gal in galaxy_types:\n",
    "    y_train = train_df_kit[gal]#.to_numpy(copy=True)\n",
    "    X_train = train_df_kit.drop(columns=['lrg','elg','qso'])#.to_numpy(copy=True)\n",
    "    y_gold = test_df_kit[gal]\n",
    "    X_test = test_df_kit.drop(columns=['lrg','elg','qso'])\n",
    "    reg = Ridge()\n",
    "    reg.fit(X_train,y_train)\n",
    "    y_pred = reg.predict(X_test)\n",
    "\n",
    "    print(f\"Ridge Regression R^2 for {gal}, Kitanidis :  {metrics.r2_score(y_gold, y_pred)}.\")\n",
    "    print(f\"Ridge Regression MSE for {gal}, Kitanidis :  {metrics.mean_squared_error(y_gold, y_pred)}.\")"
   ],
   "metadata": {
    "collapsed": false,
    "pycharm": {
     "name": "#%%\n"
    }
   }
  },
  {
   "cell_type": "markdown",
   "source": [
    "### Kitanidis - Lasso Regression"
   ],
   "metadata": {
    "collapsed": false
   }
  },
  {
   "cell_type": "code",
   "execution_count": 23,
   "outputs": [
    {
     "name": "stdout",
     "output_type": "stream",
     "text": [
      "Lasso Regression R^2 for lrg, Kitanidis :  0.06677871229150256.\n",
      "Lasso Regression MSE for lrg, Kitanidis :  127.23648592621204.\n",
      "Lasso Regression R^2 for elg, Kitanidis :  0.08376202975207314.\n",
      "Lasso Regression MSE for elg, Kitanidis :  813.204844027076.\n",
      "Lasso Regression R^2 for qso, Kitanidis :  0.10545207379278931.\n",
      "Lasso Regression MSE for qso, Kitanidis :  1441.5430956337375.\n"
     ]
    }
   ],
   "source": [
    "for gal in galaxy_types:\n",
    "    y_train = train_df_kit[gal]#.to_numpy(copy=True)\n",
    "    X_train = train_df_kit.drop(columns=['lrg','elg','qso'])#.to_numpy(copy=True)\n",
    "    y_gold = test_df_kit[gal]\n",
    "    X_test = test_df_kit.drop(columns=['lrg','elg','qso'])\n",
    "    reg = Lasso()\n",
    "    reg.fit(X_train,y_train)\n",
    "    y_pred = reg.predict(X_test)\n",
    "\n",
    "    print(f\"Lasso Regression R^2 for {gal}, Kitanidis :  {metrics.r2_score(y_gold, y_pred)}.\")\n",
    "    print(f\"Lasso Regression MSE for {gal}, Kitanidis :  {metrics.mean_squared_error(y_gold, y_pred)}.\")\n"
   ],
   "metadata": {
    "collapsed": false,
    "pycharm": {
     "name": "#%%\n"
    }
   }
  },
  {
   "cell_type": "markdown",
   "source": [
    "### Kitanidis - AdaBoost-Regressor"
   ],
   "metadata": {
    "collapsed": false
   }
  },
  {
   "cell_type": "code",
   "execution_count": 26,
   "outputs": [
    {
     "name": "stdout",
     "output_type": "stream",
     "text": [
      "AdaBoost Regression R^2 for lrg, Kitanidis :  -0.18888314257819183.\n",
      "AdaBoost Regression MSE for lrg, Kitanidis :  162.0937233547244.\n",
      "AdaBoost Regression R^2 for elg, Kitanidis :  -0.022779423543789035.\n",
      "AdaBoost Regression MSE for elg, Kitanidis :  907.7654589800183.\n",
      "AdaBoost Regression R^2 for qso, Kitanidis :  -0.9604874739511455.\n",
      "AdaBoost Regression MSE for qso, Kitanidis :  3159.279787426464.\n"
     ]
    }
   ],
   "source": [
    "for gal in galaxy_types:\n",
    "    y_train = train_df_kit[gal]#.to_numpy(copy=True)\n",
    "    X_train = train_df_kit.drop(columns=['lrg','elg','qso'])#.to_numpy(copy=True)\n",
    "    y_gold = test_df_kit[gal]\n",
    "    X_test = test_df_kit.drop(columns=['lrg','elg','qso'])\n",
    "    reg = AdaBoostRegressor(n_estimators=100)\n",
    "    reg.fit(X_train,y_train)\n",
    "    y_pred = reg.predict(X_test)\n",
    "\n",
    "    print(f\"AdaBoost Regression R^2 for {gal}, Kitanidis :  {metrics.r2_score(y_gold, y_pred)}.\")\n",
    "    print(f\"AdaBoost Regression MSE for {gal}, Kitanidis :  {metrics.mean_squared_error(y_gold, y_pred)}.\")\n",
    "\n",
    "\n",
    "\n"
   ],
   "metadata": {
    "collapsed": false,
    "pycharm": {
     "name": "#%%\n"
    }
   }
  },
  {
   "cell_type": "code",
   "execution_count": null,
   "outputs": [],
   "source": [],
   "metadata": {
    "collapsed": false,
    "pycharm": {
     "name": "#%%\n"
    }
   }
  }
 ],
 "metadata": {
  "kernelspec": {
   "display_name": "Python 3",
   "language": "python",
   "name": "python3"
  },
  "language_info": {
   "codemirror_mode": {
    "name": "ipython",
    "version": 2
   },
   "file_extension": ".py",
   "mimetype": "text/x-python",
   "name": "python",
   "nbconvert_exporter": "python",
   "pygments_lexer": "ipython2",
   "version": "2.7.6"
  }
 },
 "nbformat": 4,
 "nbformat_minor": 0
}