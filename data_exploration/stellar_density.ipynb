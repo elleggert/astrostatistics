{
 "cells": [
  {
   "cell_type": "code",
   "execution_count": 16,
   "metadata": {
    "pycharm": {
     "name": "#%%\n"
    }
   },
   "outputs": [],
   "source": [
    "import time\n",
    "\n",
    "\n",
    "import pandas as pd\n",
    "import numpy as np\n",
    "import os\n",
    "from brick import Brick\n",
    "from astropy.io import fits\n",
    "import healpy as hp\n",
    "import matplotlib.pyplot as plt\n"
   ]
  },
  {
   "cell_type": "markdown",
   "metadata": {
    "collapsed": true,
    "pycharm": {
     "name": "#%% md\n"
    }
   },
   "source": [
    "### Working on extracting the first systematic from the dataset -  stellar Density\n",
    "\n",
    "Data use: We create a catalog of stars from DECaLS by selecting objects lying in the stellar locus (using the color cut 17 < r < 18) with PSF morphology.\n",
    "\n",
    "Information on a per brick basis"
   ]
  },
  {
   "cell_type": "code",
   "execution_count": 17,
   "metadata": {
    "pycharm": {
     "name": "#%%\n"
    }
   },
   "outputs": [],
   "source": [
    "hdulistBricksSouthSummary = fits.open('../bricks_data/survey-bricks-dr9-south.fits')\n",
    "data_south = hdulistBricksSouthSummary[1].data\n",
    "brickname_south = data_south.field('brickname')\n",
    "brickid_south = data_south.field('brickid')\n",
    "south_survey_is_south = data_south.field('survey_primary')\n",
    "\n",
    "hdulistBricksNorthSummary = fits.open('../bricks_data/survey-bricks-dr9-north.fits')\n",
    "data_north = hdulistBricksNorthSummary[1].data\n",
    "brickname_north = data_north.field('brickname')\n",
    "brickid_north = data_north.field('brickid')\n",
    "survey_north = data_north.field('survey_primary')\n",
    "north_survey_is_south = np.invert(survey_north)"
   ]
  },
  {
   "cell_type": "code",
   "execution_count": null,
   "metadata": {
    "pycharm": {
     "is_executing": true
    }
   },
   "outputs": [
    {
     "name": "stdout",
     "output_type": "stream",
     "text": [
      "\n",
      "=============================== Classification Stellar Density... ==================================\n",
      "\n",
      "35\n",
      "0\n",
      "25\n",
      "50\n"
     ]
    }
   ],
   "source": [
    "print()\n",
    "print(\"=============================== Classification Stellar Density... ==================================\")\n",
    "print()\n",
    "\n",
    "start = time.time()\n",
    "\n",
    "bricknames_south_sample = []\n",
    "\n",
    "for filename in os.listdir('/Volumes/Astrostick/bricks_data/south/'):\n",
    "    brickn = filename.replace(\"tractor-\", \"\")\n",
    "    brickn = brickn.replace(\".fits\", \"\")\n",
    "    bricknames_south_sample.append(brickn)\n",
    "\n",
    "bricknames_south_sample.pop()\n",
    "\n",
    "def get_stellar_objects(self, mag_r):\n",
    "\n",
    "        is_PSF =  (self.type == 'PSF') & (mag_r > 17) & (mag_r < 18)\n",
    "        return is_PSF\n",
    "\n",
    "df = pd.DataFrame(columns=['RA', 'DEC', 'GMAG', 'RMAG', 'ZMAG', 'GMR', 'RMZ'])\n",
    "\n",
    "for no, brickname in enumerate(bricknames_south_sample):\n",
    "    hdulistSingleBrick = fits.open(f'/Volumes/Astrostick/bricks_data/south/tractor-{brickname}.fits')\n",
    "    data = hdulistSingleBrick[1].data\n",
    "    ra = data.field('ra')\n",
    "    dec = data.field('dec')\n",
    "    brick = Brick(data)\n",
    "    brick.initialise_brick_for_stellar_density()\n",
    "\n",
    "\n",
    "    mag_g = 22.5-2.5*np.log10(brick.flux_g.clip(1e-7))\n",
    "    mag_r = 22.5-2.5*np.log10(brick.flux_r.clip(1e-7))\n",
    "    mag_z = 22.5-2.5*np.log10(brick.flux_z.clip(1e-7))\n",
    "\n",
    "\n",
    "    stars = get_stellar_objects(brick, mag_r)\n",
    "    gmr = mag_g-mag_r\n",
    "    rmz = mag_r-mag_z\n",
    "\n",
    "    stacked_array = np.stack(( ra, dec, mag_g, mag_r, mag_z, gmr, rmz), axis=1)\n",
    "    stacked_array = stacked_array[np.where(stars == True)]\n",
    "\n",
    "    support_df = pd.DataFrame(stacked_array, columns=['RA', 'DEC', 'GMAG', 'RMAG', 'ZMAG', 'GMR', 'RMZ'])\n",
    "    df = df.append(support_df)\n",
    "\n",
    "    if no % 50 == 0:\n",
    "        print(stars.sum())\n",
    "        print(no)\n",
    "print(df.head())\n",
    "df.describe()\n",
    "df = df.drop_duplicates()\n",
    "df.to_csv('../bricks_data/galaxy_catalogue_stellar.csv', index=False)\n"
   ]
  },
  {
   "cell_type": "code",
   "execution_count": 59,
   "outputs": [
    {
     "data": {
      "text/plain": "                RA          DEC         GMAG         RMAG         ZMAG  \\\ncount  4739.000000  4739.000000  4739.000000  4739.000000  4739.000000   \nmean    200.281833    -2.427105    20.637807    19.392948    18.867243   \nstd     110.909800    26.907110     2.049139     0.017703     2.510559   \nmin       0.094336   -67.840435    18.542273    19.361879    16.483784   \n25%      94.477568   -16.398013    20.011427    19.377566    18.128405   \n50%     226.274154     4.724341    20.593214    19.392826    18.747299   \n75%     309.468005    18.494807    20.830150    19.408355    19.120863   \nmax     359.941291    35.373616    40.000000    19.423870    40.000000   \n\n               GMR          RMZ  \ncount  4739.000000  4739.000000  \nmean      1.244860     0.525705  \nstd       2.049718     2.510268  \nmin      -0.831503   -20.638035  \n25%       0.616101     0.273172  \n50%       1.198912     0.649530  \n75%       1.435865     1.266005  \nmax      20.637215     2.899254  ",
      "text/html": "<div>\n<style scoped>\n    .dataframe tbody tr th:only-of-type {\n        vertical-align: middle;\n    }\n\n    .dataframe tbody tr th {\n        vertical-align: top;\n    }\n\n    .dataframe thead th {\n        text-align: right;\n    }\n</style>\n<table border=\"1\" class=\"dataframe\">\n  <thead>\n    <tr style=\"text-align: right;\">\n      <th></th>\n      <th>RA</th>\n      <th>DEC</th>\n      <th>GMAG</th>\n      <th>RMAG</th>\n      <th>ZMAG</th>\n      <th>GMR</th>\n      <th>RMZ</th>\n    </tr>\n  </thead>\n  <tbody>\n    <tr>\n      <th>count</th>\n      <td>4739.000000</td>\n      <td>4739.000000</td>\n      <td>4739.000000</td>\n      <td>4739.000000</td>\n      <td>4739.000000</td>\n      <td>4739.000000</td>\n      <td>4739.000000</td>\n    </tr>\n    <tr>\n      <th>mean</th>\n      <td>200.281833</td>\n      <td>-2.427105</td>\n      <td>20.637807</td>\n      <td>19.392948</td>\n      <td>18.867243</td>\n      <td>1.244860</td>\n      <td>0.525705</td>\n    </tr>\n    <tr>\n      <th>std</th>\n      <td>110.909800</td>\n      <td>26.907110</td>\n      <td>2.049139</td>\n      <td>0.017703</td>\n      <td>2.510559</td>\n      <td>2.049718</td>\n      <td>2.510268</td>\n    </tr>\n    <tr>\n      <th>min</th>\n      <td>0.094336</td>\n      <td>-67.840435</td>\n      <td>18.542273</td>\n      <td>19.361879</td>\n      <td>16.483784</td>\n      <td>-0.831503</td>\n      <td>-20.638035</td>\n    </tr>\n    <tr>\n      <th>25%</th>\n      <td>94.477568</td>\n      <td>-16.398013</td>\n      <td>20.011427</td>\n      <td>19.377566</td>\n      <td>18.128405</td>\n      <td>0.616101</td>\n      <td>0.273172</td>\n    </tr>\n    <tr>\n      <th>50%</th>\n      <td>226.274154</td>\n      <td>4.724341</td>\n      <td>20.593214</td>\n      <td>19.392826</td>\n      <td>18.747299</td>\n      <td>1.198912</td>\n      <td>0.649530</td>\n    </tr>\n    <tr>\n      <th>75%</th>\n      <td>309.468005</td>\n      <td>18.494807</td>\n      <td>20.830150</td>\n      <td>19.408355</td>\n      <td>19.120863</td>\n      <td>1.435865</td>\n      <td>1.266005</td>\n    </tr>\n    <tr>\n      <th>max</th>\n      <td>359.941291</td>\n      <td>35.373616</td>\n      <td>40.000000</td>\n      <td>19.423870</td>\n      <td>40.000000</td>\n      <td>20.637215</td>\n      <td>2.899254</td>\n    </tr>\n  </tbody>\n</table>\n</div>"
     },
     "execution_count": 59,
     "metadata": {},
     "output_type": "execute_result"
    }
   ],
   "source": [
    "df.describe()"
   ],
   "metadata": {
    "collapsed": false,
    "pycharm": {
     "name": "#%%\n"
    }
   }
  },
  {
   "cell_type": "code",
   "execution_count": 15,
   "outputs": [
    {
     "data": {
      "text/plain": "<Figure size 432x288 with 1 Axes>",
      "image/png": "[encoded data removed]"
     },
     "metadata": {
      "needs_background": "light"
     },
     "output_type": "display_data"
    }
   ],
   "source": [
    "df = pd.read_csv('../bricks_data/galaxy_catalogue_stellar.csv')\n",
    "label_1 = 'GMR'\n",
    "label_2 = 'GMAG'\n",
    "\n",
    "plt.scatter(df[label_1], df[label_2])\n",
    "plt.xlabel(label_1)\n",
    "plt.ylabel(label_2)\n",
    "plt.show()"
   ],
   "metadata": {
    "collapsed": false,
    "pycharm": {
     "name": "#%%\n"
    }
   }
  },
  {
   "cell_type": "code",
   "execution_count": null,
   "outputs": [],
   "source": [
    "for no, brickname in enumerate(bricknames_south_sample):\n",
    "    hdulistSingleBrick = fits.open(f'/Volumes/Astrostick/bricks_data/south_test/tractor-{brickname}.fits')\n",
    "    data = hdulistSingleBrick[1].data\n",
    "    ra = data.field('ra')\n",
    "    dec = data.field('dec')\n",
    "    brick = Brick(data)\n",
    "    brick.initialise_brick_for_stellar_density()\n",
    "    fluxr = brick.get_stellar_objects()\n",
    "    print(len(fluxr))\n",
    "    plt.hist(fluxr, range=(0,30))\n",
    "    plt.show()\n",
    "    \n",
    "\n",
    "    if no == 0:\n",
    "        break"
   ],
   "metadata": {
    "collapsed": false,
    "pycharm": {
     "name": "#%%\n"
    }
   }
  },
  {
   "cell_type": "code",
   "execution_count": 24,
   "metadata": {
    "pycharm": {
     "name": "#%%\n"
    }
   },
   "outputs": [
    {
     "name": "stdout",
     "output_type": "stream",
     "text": [
      "\n",
      "=============================== Classification Stellar Density... ==================================\n",
      "\n"
     ]
    },
    {
     "ename": "ValueError",
     "evalue": "all input arrays must have the same shape",
     "output_type": "error",
     "traceback": [
      "\u001B[0;31m---------------------------------------------------------------------------\u001B[0m",
      "\u001B[0;31mValueError\u001B[0m                                Traceback (most recent call last)",
      "\u001B[0;32m<ipython-input-24-04be1926306e>\u001B[0m in \u001B[0;36m<module>\u001B[0;34m\u001B[0m\n\u001B[1;32m     30\u001B[0m \u001B[0;34m\u001B[0m\u001B[0m\n\u001B[1;32m     31\u001B[0m     \u001B[0;31m# Process array\u001B[0m\u001B[0;34m\u001B[0m\u001B[0;34m\u001B[0m\u001B[0;34m\u001B[0m\u001B[0m\n\u001B[0;32m---> 32\u001B[0;31m     \u001B[0mstacked_array\u001B[0m \u001B[0;34m=\u001B[0m \u001B[0mnp\u001B[0m\u001B[0;34m.\u001B[0m\u001B[0mstack\u001B[0m\u001B[0;34m(\u001B[0m\u001B[0;34m(\u001B[0m \u001B[0mra\u001B[0m\u001B[0;34m,\u001B[0m \u001B[0mdec\u001B[0m\u001B[0;34m,\u001B[0m \u001B[0mstellar_density\u001B[0m\u001B[0;34m)\u001B[0m\u001B[0;34m,\u001B[0m \u001B[0maxis\u001B[0m\u001B[0;34m=\u001B[0m\u001B[0;36m1\u001B[0m\u001B[0;34m)\u001B[0m\u001B[0;34m\u001B[0m\u001B[0;34m\u001B[0m\u001B[0m\n\u001B[0m\u001B[1;32m     33\u001B[0m     \u001B[0msupport_df\u001B[0m \u001B[0;34m=\u001B[0m \u001B[0mpd\u001B[0m\u001B[0;34m.\u001B[0m\u001B[0mDataFrame\u001B[0m\u001B[0;34m(\u001B[0m\u001B[0mstacked_array\u001B[0m\u001B[0;34m,\u001B[0m \u001B[0mcolumns\u001B[0m\u001B[0;34m=\u001B[0m\u001B[0;34m[\u001B[0m\u001B[0;34m'RA'\u001B[0m\u001B[0;34m,\u001B[0m \u001B[0;34m'DEC'\u001B[0m\u001B[0;34m,\u001B[0m \u001B[0;34m'Target_type'\u001B[0m\u001B[0;34m]\u001B[0m\u001B[0;34m)\u001B[0m\u001B[0;34m\u001B[0m\u001B[0;34m\u001B[0m\u001B[0m\n\u001B[1;32m     34\u001B[0m     \u001B[0msupport_df\u001B[0m\u001B[0;34m.\u001B[0m\u001B[0mdrop\u001B[0m\u001B[0;34m(\u001B[0m\u001B[0msupport_df\u001B[0m\u001B[0;34m[\u001B[0m\u001B[0msupport_df\u001B[0m\u001B[0;34m.\u001B[0m\u001B[0mTarget_type\u001B[0m \u001B[0;34m==\u001B[0m \u001B[0;36m0\u001B[0m\u001B[0;34m]\u001B[0m\u001B[0;34m.\u001B[0m\u001B[0mindex\u001B[0m\u001B[0;34m,\u001B[0m \u001B[0minplace\u001B[0m\u001B[0;34m=\u001B[0m\u001B[0;32mTrue\u001B[0m\u001B[0;34m)\u001B[0m\u001B[0;34m\u001B[0m\u001B[0;34m\u001B[0m\u001B[0m\n",
      "\u001B[0;32m<__array_function__ internals>\u001B[0m in \u001B[0;36mstack\u001B[0;34m(*args, **kwargs)\u001B[0m\n",
      "\u001B[0;32m~/miniconda3/envs/astro/lib/python3.8/site-packages/numpy/core/shape_base.py\u001B[0m in \u001B[0;36mstack\u001B[0;34m(arrays, axis, out)\u001B[0m\n\u001B[1;32m    425\u001B[0m     \u001B[0mshapes\u001B[0m \u001B[0;34m=\u001B[0m \u001B[0;34m{\u001B[0m\u001B[0marr\u001B[0m\u001B[0;34m.\u001B[0m\u001B[0mshape\u001B[0m \u001B[0;32mfor\u001B[0m \u001B[0marr\u001B[0m \u001B[0;32min\u001B[0m \u001B[0marrays\u001B[0m\u001B[0;34m}\u001B[0m\u001B[0;34m\u001B[0m\u001B[0;34m\u001B[0m\u001B[0m\n\u001B[1;32m    426\u001B[0m     \u001B[0;32mif\u001B[0m \u001B[0mlen\u001B[0m\u001B[0;34m(\u001B[0m\u001B[0mshapes\u001B[0m\u001B[0;34m)\u001B[0m \u001B[0;34m!=\u001B[0m \u001B[0;36m1\u001B[0m\u001B[0;34m:\u001B[0m\u001B[0;34m\u001B[0m\u001B[0;34m\u001B[0m\u001B[0m\n\u001B[0;32m--> 427\u001B[0;31m         \u001B[0;32mraise\u001B[0m \u001B[0mValueError\u001B[0m\u001B[0;34m(\u001B[0m\u001B[0;34m'all input arrays must have the same shape'\u001B[0m\u001B[0;34m)\u001B[0m\u001B[0;34m\u001B[0m\u001B[0;34m\u001B[0m\u001B[0m\n\u001B[0m\u001B[1;32m    428\u001B[0m \u001B[0;34m\u001B[0m\u001B[0m\n\u001B[1;32m    429\u001B[0m     \u001B[0mresult_ndim\u001B[0m \u001B[0;34m=\u001B[0m \u001B[0marrays\u001B[0m\u001B[0;34m[\u001B[0m\u001B[0;36m0\u001B[0m\u001B[0;34m]\u001B[0m\u001B[0;34m.\u001B[0m\u001B[0mndim\u001B[0m \u001B[0;34m+\u001B[0m \u001B[0;36m1\u001B[0m\u001B[0;34m\u001B[0m\u001B[0;34m\u001B[0m\u001B[0m\n",
      "\u001B[0;31mValueError\u001B[0m: all input arrays must have the same shape"
     ]
    }
   ],
   "source": [
    "print(\"Wrong Cell\")\n",
    "exit()\n",
    "\n",
    "print()\n",
    "print(\"=============================== Classification Stellar Density... ==================================\")\n",
    "print()\n",
    "\n",
    "start = time.time()\n",
    "\n",
    "bricknames_south_sample = []\n",
    "\n",
    "for filename in os.listdir('/Volumes/Astrostick/bricks_data/south/'):\n",
    "    brickn = filename.replace(\"tractor-\", \"\")\n",
    "    brickn = brickn.replace(\".fits\", \"\")\n",
    "    bricknames_south_sample.append(brickn)\n",
    "\n",
    "#bricknames_south_sample.pop()\n",
    "df = pd.DataFrame(columns=['RA', 'DEC'])\n",
    "\n",
    "for no, brickname in enumerate(bricknames_south_sample):\n",
    "    hdulistSingleBrick = fits.open(f'/Volumes/Astrostick/bricks_data/south/tractor-{brickname}.fits')\n",
    "    data = hdulistSingleBrick[1].data\n",
    "\n",
    "    brick = Brick(data)\n",
    "    ra = data.field('ra')\n",
    "    dec = data.field('dec')\n",
    "\n",
    "    brick.initialise_brick_for_stellar_density()\n",
    "\n",
    "    # Extracting Positions, and Object IDs\n",
    "\n",
    "    stellar_density = brick.get_stellar_objects()\n",
    "\n",
    "    # Process array\n",
    "    stacked_array = np.stack(( ra, dec, stellar_density), axis=1)\n",
    "    support_df = pd.DataFrame(stacked_array, columns=['RA', 'DEC', 'Target_type'])\n",
    "    support_df.drop(support_df[support_df.Target_type == 0].index, inplace=True)\n",
    "    support_df.drop(columns='Target_type')\n",
    "    df = df.append(support_df)\n",
    "\n",
    "print()\n",
    "print(\"=============================== Classification Stellar Completed ==================================\")\n",
    "print()\n",
    "df = df[df['Target_type'] > 0]\n",
    "df.to_csv('../bricks_data/galaxy_catalogue_stellar.csv', index=False)\n",
    "print(df.shape)\n",
    "print(df.head())\n",
    "\n",
    "print(\"Time taken for \", len(bricknames_south_sample), \" bricks: \", time.time() - start)"
   ]
  },
  {
   "cell_type": "code",
   "execution_count": null,
   "metadata": {
    "pycharm": {
     "name": "#%%\n"
    }
   },
   "outputs": [],
   "source": [
    "df = pd.read_csv('../bricks_data/galaxy_catalogue_stellar.csv')\n",
    "\n",
    "duplicates_removed = df.drop_duplicates()\n",
    "\n",
    "duplicates_removed.to_csv('../bricks_data/galaxy_catalogue_stellar.csv', index=False)\n",
    "\n",
    "\n",
    "# Setting NSIDE values\n",
    "NSIDE = 256\n",
    "NPIX = hp.nside2npix(NSIDE)\n",
    "print(\n",
    "    \"Approximate resolution at NSIDE {} is {:.2} deg\".format(\n",
    "        NSIDE, hp.nside2resol(NSIDE, arcmin=True) / 60\n",
    "    )\n",
    ")"
   ]
  },
  {
   "cell_type": "code",
   "execution_count": null,
   "metadata": {
    "pycharm": {
     "name": "#%%\n"
    }
   },
   "outputs": [],
   "source": [
    "def raDec2thetaPhi(ra, dec):\n",
    "    return (0.5 * np.pi - np.deg2rad(dec)), (np.deg2rad(ra))"
   ]
  },
  {
   "cell_type": "code",
   "execution_count": null,
   "metadata": {
    "pycharm": {
     "name": "#%%\n"
    }
   },
   "outputs": [],
   "source": [
    "ra = df[\"RA\"].to_numpy(copy=True)\n",
    "dec = df[\"DEC\"].to_numpy(copy=True)\n",
    "\n",
    "theta, phi = raDec2thetaPhi(ra, dec)\n",
    "\n",
    "print(\"Number of stellar objects in Sample:\", len(ra))\n",
    "\n",
    "m = np.zeros(NPIX)\n",
    "pixel_indices = hp.ang2pix(NSIDE, theta,phi)\n",
    "\n",
    "# Finding out unique indices and how often they appear --> shows the density of Stars in this pixel\n",
    "(unique, counts) = np.unique(pixel_indices, return_counts=True)\n",
    "\n",
    "mean = counts.mean()\n",
    "print(\"Mean stellar objects per Pixel:\", mean)\n",
    "# Calculating Densities for every block\n",
    "density = (counts / mean) - 1\n",
    "\n",
    "m[unique] = density\n",
    "hp.mollview(m, title=\"Stellar Density\", norm=\"hist\",cmap=\"jet\")\n",
    "hp.graticule()"
   ]
  },
  {
   "cell_type": "code",
   "execution_count": null,
   "metadata": {
    "pycharm": {
     "name": "#%%\n"
    }
   },
   "outputs": [],
   "source": []
  },
  {
   "cell_type": "code",
   "execution_count": null,
   "metadata": {
    "pycharm": {
     "name": "#%%\n"
    }
   },
   "outputs": [],
   "source": []
  }
 ],
 "metadata": {
  "kernelspec": {
   "display_name": "Python 3",
   "language": "python",
   "name": "python3"
  },
  "language_info": {
   "codemirror_mode": {
    "name": "ipython",
    "version": 3
   },
   "file_extension": ".py",
   "mimetype": "text/x-python",
   "name": "python",
   "nbconvert_exporter": "python",
   "pygments_lexer": "ipython3",
   "version": "3.8.8"
  }
 },
 "nbformat": 4,
 "nbformat_minor": 1
}