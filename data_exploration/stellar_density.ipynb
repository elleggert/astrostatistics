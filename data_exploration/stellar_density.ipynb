{
 "cells": [
  {
   "cell_type": "code",
   "execution_count": 16,
   "metadata": {
    "pycharm": {
     "name": "#%%\n"
    }
   },
   "outputs": [],
   "source": [
    "import time\n",
    "\n",
    "\n",
    "import pandas as pd\n",
    "import numpy as np\n",
    "import os\n",
    "from brick import Brick\n",
    "from astropy.io import fits\n",
    "import healpy as hp\n",
    "import matplotlib.pyplot as plt\n"
   ]
  },
  {
   "cell_type": "markdown",
   "metadata": {
    "collapsed": true,
    "pycharm": {
     "name": "#%% md\n"
    }
   },
   "source": [
    "### Working on extracting the first systematic from the dataset -  stellar Density\n",
    "\n",
    "Data use: We create a catalog of stars from DECaLS by selecting objects lying in the stellar locus (using the color cut 17 < r < 18) with PSF morphology.\n",
    "\n",
    "Information on a per brick basis"
   ]
  },
  {
   "cell_type": "code",
   "execution_count": 17,
   "metadata": {
    "pycharm": {
     "name": "#%%\n"
    }
   },
   "outputs": [],
   "source": [
    "hdulistBricksSouthSummary = fits.open('../bricks_data/survey-bricks-dr9-south.fits')\n",
    "data_south = hdulistBricksSouthSummary[1].data\n",
    "brickname_south = data_south.field('brickname')\n",
    "brickid_south = data_south.field('brickid')\n",
    "south_survey_is_south = data_south.field('survey_primary')\n",
    "\n",
    "hdulistBricksNorthSummary = fits.open('../bricks_data/survey-bricks-dr9-north.fits')\n",
    "data_north = hdulistBricksNorthSummary[1].data\n",
    "brickname_north = data_north.field('brickname')\n",
    "brickid_north = data_north.field('brickid')\n",
    "survey_north = data_north.field('survey_primary')\n",
    "north_survey_is_south = np.invert(survey_north)"
   ]
  },
  {
   "cell_type": "code",
   "execution_count": 26,
   "metadata": {},
   "outputs": [
    {
     "name": "stdout",
     "output_type": "stream",
     "text": [
      "\n",
      "=============================== Classification Stellar Density... ==================================\n",
      "\n",
      "35\n",
      "0\n",
      "25\n",
      "50\n",
      "29\n",
      "100\n",
      "41\n",
      "150\n",
      "32\n",
      "200\n",
      "29\n",
      "250\n",
      "68\n",
      "300\n",
      "15\n",
      "350\n",
      "14\n",
      "400\n",
      "17\n",
      "450\n",
      "148\n",
      "500\n",
      "0\n",
      "550\n",
      "31\n",
      "600\n",
      "26\n",
      "650\n",
      "44\n",
      "700\n",
      "105\n",
      "750\n",
      "16\n",
      "800\n",
      "23\n",
      "850\n",
      "12\n",
      "900\n",
      "71\n",
      "950\n",
      "29\n",
      "1000\n",
      "25\n",
      "1050\n",
      "           RA        DEC       GMAG       RMAG       ZMAG       GMR       RMZ\n",
      "0  244.255339  25.636063  17.763409  17.504335  17.407810  0.259073  0.096525\n",
      "1  244.261321  25.823997  18.458643  17.773663  17.464451  0.684980  0.309212\n",
      "2  244.265387  25.652155  18.473047  17.890720  17.608532  0.582327  0.282188\n",
      "3  244.268755  25.820972  18.785490  17.418488  16.571255  1.367002  0.847233\n",
      "4  244.276164  25.681149  19.206987  17.825157  16.862991  1.381830  0.962166\n"
     ]
    }
   ],
   "source": [
    "print()\n",
    "print(\"=============================== Classification Stellar Density... ==================================\")\n",
    "print()\n",
    "\n",
    "start = time.time()\n",
    "\n",
    "bricknames_south_sample = []\n",
    "\n",
    "for filename in os.listdir('/Volumes/Astrostick/bricks_data/south/'):\n",
    "    brickn = filename.replace(\"tractor-\", \"\")\n",
    "    brickn = brickn.replace(\".fits\", \"\")\n",
    "    bricknames_south_sample.append(brickn)\n",
    "\n",
    "bricknames_south_sample.pop()\n",
    "\n",
    "def get_stellar_objects(self, mag_r):\n",
    "\n",
    "        is_PSF =  (self.type == 'PSF') & (mag_r > 17) & (mag_r < 18)\n",
    "        return is_PSF\n",
    "\n",
    "df = pd.DataFrame(columns=['RA', 'DEC', 'GMAG', 'RMAG', 'ZMAG', 'GMR', 'RMZ'])\n",
    "\n",
    "for no, brickname in enumerate(bricknames_south_sample):\n",
    "    hdulistSingleBrick = fits.open(f'/Volumes/Astrostick/bricks_data/south/tractor-{brickname}.fits')\n",
    "    data = hdulistSingleBrick[1].data\n",
    "    ra = data.field('ra')\n",
    "    dec = data.field('dec')\n",
    "    brick = Brick(data)\n",
    "    brick.initialise_brick_for_stellar_density()\n",
    "\n",
    "\n",
    "    mag_g = 22.5-2.5*np.log10(brick.flux_g.clip(1e-7))\n",
    "    mag_r = 22.5-2.5*np.log10(brick.flux_r.clip(1e-7))\n",
    "    mag_z = 22.5-2.5*np.log10(brick.flux_z.clip(1e-7))\n",
    "\n",
    "\n",
    "    stars = get_stellar_objects(brick, mag_r)\n",
    "    gmr = mag_g-mag_r\n",
    "    rmz = mag_r-mag_z\n",
    "\n",
    "    stacked_array = np.stack(( ra, dec, mag_g, mag_r, mag_z, gmr, rmz), axis=1)\n",
    "    stacked_array = stacked_array[np.where(stars == True)]\n",
    "\n",
    "    support_df = pd.DataFrame(stacked_array, columns=['RA', 'DEC', 'GMAG', 'RMAG', 'ZMAG', 'GMR', 'RMZ'])\n",
    "    df = df.append(support_df)\n",
    "\n",
    "    if no % 50 == 0:\n",
    "        print(stars.sum())\n",
    "        print(no)\n",
    "print(df.head())\n",
    "df.describe()\n",
    "df = df.drop_duplicates()\n",
    "df.to_csv('../bricks_data/galaxy_catalogue_stellar.csv', index=False)\n"
   ]
  },
  {
   "cell_type": "code",
   "execution_count": 100,
   "outputs": [
    {
     "data": {
      "text/plain": "                 RA           DEC          GMAG          RMAG          ZMAG  \\\ncount  40062.000000  40062.000000  40062.000000  40062.000000  40062.000000   \nmean     198.130213     -2.551337     18.606974     17.529005     17.245522   \nstd      111.749877     27.129711      2.226397      0.287525      2.370249   \nmin        0.000972    -67.849736     10.821396     17.000078     13.237497   \n25%       92.698351    -16.198971     18.003589     17.285598     16.752713   \n50%      224.227322      4.837216     18.367132     17.544015     17.080685   \n75%      309.484436     18.624135     18.767715     17.780163     17.399005   \nmax      359.993021     35.350494     40.000000     17.999968     40.000000   \n\n                GMR           RMZ  \ncount  40062.000000  40062.000000  \nmean       1.077968      0.283483  \nstd        2.202023      2.357666  \nmin       -6.659172    -22.996998  \n25%        0.526308      0.197934  \n50%        0.759930      0.340376  \n75%        1.264541      0.696470  \nmax       22.992443      4.601538  ",
      "text/html": "<div>\n<style scoped>\n    .dataframe tbody tr th:only-of-type {\n        vertical-align: middle;\n    }\n\n    .dataframe tbody tr th {\n        vertical-align: top;\n    }\n\n    .dataframe thead th {\n        text-align: right;\n    }\n</style>\n<table border=\"1\" class=\"dataframe\">\n  <thead>\n    <tr style=\"text-align: right;\">\n      <th></th>\n      <th>RA</th>\n      <th>DEC</th>\n      <th>GMAG</th>\n      <th>RMAG</th>\n      <th>ZMAG</th>\n      <th>GMR</th>\n      <th>RMZ</th>\n    </tr>\n  </thead>\n  <tbody>\n    <tr>\n      <th>count</th>\n      <td>40062.000000</td>\n      <td>40062.000000</td>\n      <td>40062.000000</td>\n      <td>40062.000000</td>\n      <td>40062.000000</td>\n      <td>40062.000000</td>\n      <td>40062.000000</td>\n    </tr>\n    <tr>\n      <th>mean</th>\n      <td>198.130213</td>\n      <td>-2.551337</td>\n      <td>18.606974</td>\n      <td>17.529005</td>\n      <td>17.245522</td>\n      <td>1.077968</td>\n      <td>0.283483</td>\n    </tr>\n    <tr>\n      <th>std</th>\n      <td>111.749877</td>\n      <td>27.129711</td>\n      <td>2.226397</td>\n      <td>0.287525</td>\n      <td>2.370249</td>\n      <td>2.202023</td>\n      <td>2.357666</td>\n    </tr>\n    <tr>\n      <th>min</th>\n      <td>0.000972</td>\n      <td>-67.849736</td>\n      <td>10.821396</td>\n      <td>17.000078</td>\n      <td>13.237497</td>\n      <td>-6.659172</td>\n      <td>-22.996998</td>\n    </tr>\n    <tr>\n      <th>25%</th>\n      <td>92.698351</td>\n      <td>-16.198971</td>\n      <td>18.003589</td>\n      <td>17.285598</td>\n      <td>16.752713</td>\n      <td>0.526308</td>\n      <td>0.197934</td>\n    </tr>\n    <tr>\n      <th>50%</th>\n      <td>224.227322</td>\n      <td>4.837216</td>\n      <td>18.367132</td>\n      <td>17.544015</td>\n      <td>17.080685</td>\n      <td>0.759930</td>\n      <td>0.340376</td>\n    </tr>\n    <tr>\n      <th>75%</th>\n      <td>309.484436</td>\n      <td>18.624135</td>\n      <td>18.767715</td>\n      <td>17.780163</td>\n      <td>17.399005</td>\n      <td>1.264541</td>\n      <td>0.696470</td>\n    </tr>\n    <tr>\n      <th>max</th>\n      <td>359.993021</td>\n      <td>35.350494</td>\n      <td>40.000000</td>\n      <td>17.999968</td>\n      <td>40.000000</td>\n      <td>22.992443</td>\n      <td>4.601538</td>\n    </tr>\n  </tbody>\n</table>\n</div>"
     },
     "execution_count": 100,
     "metadata": {},
     "output_type": "execute_result"
    }
   ],
   "source": [
    "df = pd.read_csv('../bricks_data/galaxy_catalogue_stellar.csv')\n",
    "df.describe()\n",
    "\n"
   ],
   "metadata": {
    "collapsed": false,
    "pycharm": {
     "name": "#%%\n"
    }
   }
  },
  {
   "cell_type": "code",
   "execution_count": 101,
   "outputs": [
    {
     "data": {
      "text/plain": "<Figure size 432x288 with 1 Axes>",
      "image/png": "[encoded data removed]"
     },
     "metadata": {
      "needs_background": "light"
     },
     "output_type": "display_data"
    },
    {
     "data": {
      "text/plain": "                 RA           DEC          GMAG          RMAG          ZMAG  \\\ncount  39262.000000  39262.000000  39262.000000  39262.000000  39262.000000   \nmean     197.376717     -2.581661     18.388056     17.529305     17.011441   \nstd      112.141076     26.984569      0.506863      0.287399      0.517372   \nmin        0.000972    -67.849736     15.099892     17.000078     15.014045   \n25%       90.031631    -15.476316     17.999770     17.286364     16.748784   \n50%      221.313647      4.796337     18.359766     17.544312     17.074396   \n75%      309.555707     18.471978     18.751563     17.780488     17.387320   \nmax      359.993021     35.350494     21.034042     17.999968     19.885351   \n\n                GMR           RMZ  \ncount  39262.000000  39262.000000  \nmean       0.858750      0.517864  \nstd        0.395520      0.457271  \nmin       -1.930622     -1.981371  \n25%        0.524787      0.201121  \n50%        0.753615      0.344564  \n75%        1.246618      0.702454  \nmax        3.619890      2.696612  ",
      "text/html": "<div>\n<style scoped>\n    .dataframe tbody tr th:only-of-type {\n        vertical-align: middle;\n    }\n\n    .dataframe tbody tr th {\n        vertical-align: top;\n    }\n\n    .dataframe thead th {\n        text-align: right;\n    }\n</style>\n<table border=\"1\" class=\"dataframe\">\n  <thead>\n    <tr style=\"text-align: right;\">\n      <th></th>\n      <th>RA</th>\n      <th>DEC</th>\n      <th>GMAG</th>\n      <th>RMAG</th>\n      <th>ZMAG</th>\n      <th>GMR</th>\n      <th>RMZ</th>\n    </tr>\n  </thead>\n  <tbody>\n    <tr>\n      <th>count</th>\n      <td>39262.000000</td>\n      <td>39262.000000</td>\n      <td>39262.000000</td>\n      <td>39262.000000</td>\n      <td>39262.000000</td>\n      <td>39262.000000</td>\n      <td>39262.000000</td>\n    </tr>\n    <tr>\n      <th>mean</th>\n      <td>197.376717</td>\n      <td>-2.581661</td>\n      <td>18.388056</td>\n      <td>17.529305</td>\n      <td>17.011441</td>\n      <td>0.858750</td>\n      <td>0.517864</td>\n    </tr>\n    <tr>\n      <th>std</th>\n      <td>112.141076</td>\n      <td>26.984569</td>\n      <td>0.506863</td>\n      <td>0.287399</td>\n      <td>0.517372</td>\n      <td>0.395520</td>\n      <td>0.457271</td>\n    </tr>\n    <tr>\n      <th>min</th>\n      <td>0.000972</td>\n      <td>-67.849736</td>\n      <td>15.099892</td>\n      <td>17.000078</td>\n      <td>15.014045</td>\n      <td>-1.930622</td>\n      <td>-1.981371</td>\n    </tr>\n    <tr>\n      <th>25%</th>\n      <td>90.031631</td>\n      <td>-15.476316</td>\n      <td>17.999770</td>\n      <td>17.286364</td>\n      <td>16.748784</td>\n      <td>0.524787</td>\n      <td>0.201121</td>\n    </tr>\n    <tr>\n      <th>50%</th>\n      <td>221.313647</td>\n      <td>4.796337</td>\n      <td>18.359766</td>\n      <td>17.544312</td>\n      <td>17.074396</td>\n      <td>0.753615</td>\n      <td>0.344564</td>\n    </tr>\n    <tr>\n      <th>75%</th>\n      <td>309.555707</td>\n      <td>18.471978</td>\n      <td>18.751563</td>\n      <td>17.780488</td>\n      <td>17.387320</td>\n      <td>1.246618</td>\n      <td>0.702454</td>\n    </tr>\n    <tr>\n      <th>max</th>\n      <td>359.993021</td>\n      <td>35.350494</td>\n      <td>21.034042</td>\n      <td>17.999968</td>\n      <td>19.885351</td>\n      <td>3.619890</td>\n      <td>2.696612</td>\n    </tr>\n  </tbody>\n</table>\n</div>"
     },
     "execution_count": 101,
     "metadata": {},
     "output_type": "execute_result"
    }
   ],
   "source": [
    "label_1 = 'RMAG'\n",
    "label_2 = 'GMAG'\n",
    "\n",
    "plt.scatter(df[label_1], df[label_2])\n",
    "plt.xlabel(label_1)\n",
    "plt.ylabel(label_2)\n",
    "plt.show()"
   ],
   "metadata": {
    "collapsed": false,
    "pycharm": {
     "name": "#%%\n"
    }
   }
  },
  {
   "cell_type": "code",
   "execution_count": null,
   "outputs": [],
   "source": [
    "# REMOVING OUTLIERS\n",
    "\n",
    "df = df[(df['GMAG'] > 15) & (df['GMAG'] < 30) ]\n",
    "df = df[(df['ZMAG'] > 15) & (df['ZMAG'] < 30) ]\n",
    "df = df[(df['GMR'] > -2) & (df['GMR'] < 4) ]\n",
    "df = df[(df['RMZ'] > -2) & (df['RMZ'] < 4) ]\n",
    "\n",
    "\n",
    "df.describe()\n"
   ],
   "metadata": {
    "collapsed": false,
    "pycharm": {
     "name": "#%%\n"
    }
   }
  },
  {
   "cell_type": "code",
   "execution_count": 102,
   "outputs": [
    {
     "data": {
      "text/plain": "<Figure size 432x288 with 1 Axes>",
      "image/png": "[encoded data removed]"
     },
     "metadata": {
      "needs_background": "light"
     },
     "output_type": "display_data"
    }
   ],
   "source": [
    "plt.scatter(df[label_1], df[label_2])\n",
    "plt.xlabel(label_1)\n",
    "plt.ylabel(label_2)\n",
    "plt.show()"
   ],
   "metadata": {
    "collapsed": false,
    "pycharm": {
     "name": "#%%\n"
    }
   }
  },
  {
   "cell_type": "code",
   "execution_count": 103,
   "outputs": [
    {
     "data": {
      "text/plain": "           RA        DEC       GMAG       RMAG       ZMAG       GMR       RMZ  \\\n0  244.255339  25.636063  17.763409  17.504335  17.407810  0.259073  0.096525   \n1  244.261321  25.823997  18.458643  17.773663  17.464451  0.684980  0.309212   \n2  244.265387  25.652155  18.473047  17.890720  17.608532  0.582327  0.282188   \n3  244.268755  25.820972  18.785490  17.418488  16.571255  1.367002  0.847233   \n4  244.276164  25.681149  19.206987  17.825157  16.862991  1.381830  0.962166   \n\n   percent_RMAG  \n0            45  \n1            74  \n2            87  \n3            37  \n4            79  ",
      "text/html": "<div>\n<style scoped>\n    .dataframe tbody tr th:only-of-type {\n        vertical-align: middle;\n    }\n\n    .dataframe tbody tr th {\n        vertical-align: top;\n    }\n\n    .dataframe thead th {\n        text-align: right;\n    }\n</style>\n<table border=\"1\" class=\"dataframe\">\n  <thead>\n    <tr style=\"text-align: right;\">\n      <th></th>\n      <th>RA</th>\n      <th>DEC</th>\n      <th>GMAG</th>\n      <th>RMAG</th>\n      <th>ZMAG</th>\n      <th>GMR</th>\n      <th>RMZ</th>\n      <th>percent_RMAG</th>\n    </tr>\n  </thead>\n  <tbody>\n    <tr>\n      <th>0</th>\n      <td>244.255339</td>\n      <td>25.636063</td>\n      <td>17.763409</td>\n      <td>17.504335</td>\n      <td>17.407810</td>\n      <td>0.259073</td>\n      <td>0.096525</td>\n      <td>45</td>\n    </tr>\n    <tr>\n      <th>1</th>\n      <td>244.261321</td>\n      <td>25.823997</td>\n      <td>18.458643</td>\n      <td>17.773663</td>\n      <td>17.464451</td>\n      <td>0.684980</td>\n      <td>0.309212</td>\n      <td>74</td>\n    </tr>\n    <tr>\n      <th>2</th>\n      <td>244.265387</td>\n      <td>25.652155</td>\n      <td>18.473047</td>\n      <td>17.890720</td>\n      <td>17.608532</td>\n      <td>0.582327</td>\n      <td>0.282188</td>\n      <td>87</td>\n    </tr>\n    <tr>\n      <th>3</th>\n      <td>244.268755</td>\n      <td>25.820972</td>\n      <td>18.785490</td>\n      <td>17.418488</td>\n      <td>16.571255</td>\n      <td>1.367002</td>\n      <td>0.847233</td>\n      <td>37</td>\n    </tr>\n    <tr>\n      <th>4</th>\n      <td>244.276164</td>\n      <td>25.681149</td>\n      <td>19.206987</td>\n      <td>17.825157</td>\n      <td>16.862991</td>\n      <td>1.381830</td>\n      <td>0.962166</td>\n      <td>79</td>\n    </tr>\n  </tbody>\n</table>\n</div>"
     },
     "execution_count": 103,
     "metadata": {},
     "output_type": "execute_result"
    }
   ],
   "source": [
    "#Dividing RMAG Column into 100 equally filled bins (assuming within the RMAG of 17-18 this is somewhat uniform)\n",
    "df['percent_RMAG'] = pd.qcut(df['RMAG'], q=100, labels=False)\n",
    "df['percent_RMAG'].value_counts()\n",
    "df.head()\n"
   ],
   "metadata": {
    "collapsed": false,
    "pycharm": {
     "name": "#%%\n"
    }
   }
  },
  {
   "cell_type": "code",
   "execution_count": 104,
   "outputs": [],
   "source": [
    "#grouped = df.groupby('percent_RMAG', as_index=False).sem()\n",
    "grouped = df.groupby('percent_RMAG')\n",
    "zscore = lambda x: abs((x - x.mean()) / x.std())\n",
    "df['Z_SCORE_GMAG'] = grouped['GMAG'].transform(zscore)"
   ],
   "metadata": {
    "collapsed": false,
    "pycharm": {
     "name": "#%%\n"
    }
   }
  },
  {
   "cell_type": "code",
   "execution_count": 105,
   "outputs": [
    {
     "data": {
      "text/plain": "count    39262.000000\nmean         0.873577\nstd          0.484069\nmin          0.000094\n25%          0.504937\n50%          0.873036\n75%          1.226822\nmax          7.195661\nName: Z_SCORE_GMAG, dtype: float64"
     },
     "execution_count": 105,
     "metadata": {},
     "output_type": "execute_result"
    }
   ],
   "source": [
    "df['Z_SCORE_GMAG'].describe()"
   ],
   "metadata": {
    "collapsed": false,
    "pycharm": {
     "name": "#%%\n"
    }
   }
  },
  {
   "cell_type": "code",
   "execution_count": 106,
   "outputs": [
    {
     "data": {
      "text/plain": "(38979, 9)"
     },
     "execution_count": 106,
     "metadata": {},
     "output_type": "execute_result"
    }
   ],
   "source": [
    "df = df[(df['Z_SCORE_GMAG'] < 1.96)]\n",
    "df.shape"
   ],
   "metadata": {
    "collapsed": false,
    "pycharm": {
     "name": "#%%\n"
    }
   }
  },
  {
   "cell_type": "code",
   "execution_count": 107,
   "outputs": [
    {
     "data": {
      "text/plain": "(array([ 106., 2230., 8467., 7366., 4370., 3121., 2897., 3740., 6304.,\n         378.]),\n array([0.0480175 , 0.21361752, 0.37921753, 0.54481754, 0.71041756,\n        0.87601757, 1.04161758, 1.2072176 , 1.37281761, 1.53841763,\n        1.70401764]),\n <BarContainer object of 10 artists>)"
     },
     "execution_count": 107,
     "metadata": {},
     "output_type": "execute_result"
    },
    {
     "data": {
      "text/plain": "<Figure size 432x288 with 1 Axes>",
      "image/png": "[encoded data removed]"
     },
     "metadata": {
      "needs_background": "light"
     },
     "output_type": "display_data"
    }
   ],
   "source": [
    "plt.hist(df['GMR'])"
   ],
   "metadata": {
    "collapsed": false,
    "pycharm": {
     "name": "#%%\n"
    }
   }
  },
  {
   "cell_type": "code",
   "execution_count": 108,
   "outputs": [
    {
     "data": {
      "text/plain": "<Figure size 432x288 with 1 Axes>",
      "image/png": "[encoded data removed]"
     },
     "metadata": {
      "needs_background": "light"
     },
     "output_type": "display_data"
    }
   ],
   "source": [
    "label_1 = 'RMAG'\n",
    "label_2 = 'GMAG'\n",
    "\n",
    "plt.scatter(df[label_1], df[label_2])\n",
    "plt.xlabel(label_1)\n",
    "plt.ylabel(label_2)\n",
    "plt.show()"
   ],
   "metadata": {
    "collapsed": false,
    "pycharm": {
     "name": "#%%\n"
    }
   }
  },
  {
   "cell_type": "code",
   "execution_count": 109,
   "outputs": [],
   "source": [
    "df.to_csv('../bricks_data/galaxy_catalogue_stellar.csv', index=False)\n"
   ],
   "metadata": {
    "collapsed": false,
    "pycharm": {
     "name": "#%%\n"
    }
   }
  },
  {
   "cell_type": "code",
   "execution_count": null,
   "outputs": [],
   "source": [
    "for no, brickname in enumerate(bricknames_south_sample):\n",
    "    hdulistSingleBrick = fits.open(f'/Volumes/Astrostick/bricks_data/south_test/tractor-{brickname}.fits')\n",
    "    data = hdulistSingleBrick[1].data\n",
    "    ra = data.field('ra')\n",
    "    dec = data.field('dec')\n",
    "    brick = Brick(data)\n",
    "    brick.initialise_brick_for_stellar_density()\n",
    "    fluxr = brick.get_stellar_objects()\n",
    "    print(len(fluxr))\n",
    "    plt.hist(fluxr, range=(0,30))\n",
    "    plt.show()\n",
    "    \n",
    "\n",
    "    if no == 0:\n",
    "        break"
   ],
   "metadata": {
    "collapsed": false,
    "pycharm": {
     "name": "#%%\n"
    }
   }
  },
  {
   "cell_type": "code",
   "execution_count": 24,
   "metadata": {
    "pycharm": {
     "name": "#%%\n"
    }
   },
   "outputs": [
    {
     "name": "stdout",
     "output_type": "stream",
     "text": [
      "\n",
      "=============================== Classification Stellar Density... ==================================\n",
      "\n"
     ]
    },
    {
     "ename": "ValueError",
     "evalue": "all input arrays must have the same shape",
     "output_type": "error",
     "traceback": [
      "\u001B[0;31m---------------------------------------------------------------------------\u001B[0m",
      "\u001B[0;31mValueError\u001B[0m                                Traceback (most recent call last)",
      "\u001B[0;32m<ipython-input-24-04be1926306e>\u001B[0m in \u001B[0;36m<module>\u001B[0;34m\u001B[0m\n\u001B[1;32m     30\u001B[0m \u001B[0;34m\u001B[0m\u001B[0m\n\u001B[1;32m     31\u001B[0m     \u001B[0;31m# Process array\u001B[0m\u001B[0;34m\u001B[0m\u001B[0;34m\u001B[0m\u001B[0;34m\u001B[0m\u001B[0m\n\u001B[0;32m---> 32\u001B[0;31m     \u001B[0mstacked_array\u001B[0m \u001B[0;34m=\u001B[0m \u001B[0mnp\u001B[0m\u001B[0;34m.\u001B[0m\u001B[0mstack\u001B[0m\u001B[0;34m(\u001B[0m\u001B[0;34m(\u001B[0m \u001B[0mra\u001B[0m\u001B[0;34m,\u001B[0m \u001B[0mdec\u001B[0m\u001B[0;34m,\u001B[0m \u001B[0mstellar_density\u001B[0m\u001B[0;34m)\u001B[0m\u001B[0;34m,\u001B[0m \u001B[0maxis\u001B[0m\u001B[0;34m=\u001B[0m\u001B[0;36m1\u001B[0m\u001B[0;34m)\u001B[0m\u001B[0;34m\u001B[0m\u001B[0;34m\u001B[0m\u001B[0m\n\u001B[0m\u001B[1;32m     33\u001B[0m     \u001B[0msupport_df\u001B[0m \u001B[0;34m=\u001B[0m \u001B[0mpd\u001B[0m\u001B[0;34m.\u001B[0m\u001B[0mDataFrame\u001B[0m\u001B[0;34m(\u001B[0m\u001B[0mstacked_array\u001B[0m\u001B[0;34m,\u001B[0m \u001B[0mcolumns\u001B[0m\u001B[0;34m=\u001B[0m\u001B[0;34m[\u001B[0m\u001B[0;34m'RA'\u001B[0m\u001B[0;34m,\u001B[0m \u001B[0;34m'DEC'\u001B[0m\u001B[0;34m,\u001B[0m \u001B[0;34m'Target_type'\u001B[0m\u001B[0;34m]\u001B[0m\u001B[0;34m)\u001B[0m\u001B[0;34m\u001B[0m\u001B[0;34m\u001B[0m\u001B[0m\n\u001B[1;32m     34\u001B[0m     \u001B[0msupport_df\u001B[0m\u001B[0;34m.\u001B[0m\u001B[0mdrop\u001B[0m\u001B[0;34m(\u001B[0m\u001B[0msupport_df\u001B[0m\u001B[0;34m[\u001B[0m\u001B[0msupport_df\u001B[0m\u001B[0;34m.\u001B[0m\u001B[0mTarget_type\u001B[0m \u001B[0;34m==\u001B[0m \u001B[0;36m0\u001B[0m\u001B[0;34m]\u001B[0m\u001B[0;34m.\u001B[0m\u001B[0mindex\u001B[0m\u001B[0;34m,\u001B[0m \u001B[0minplace\u001B[0m\u001B[0;34m=\u001B[0m\u001B[0;32mTrue\u001B[0m\u001B[0;34m)\u001B[0m\u001B[0;34m\u001B[0m\u001B[0;34m\u001B[0m\u001B[0m\n",
      "\u001B[0;32m<__array_function__ internals>\u001B[0m in \u001B[0;36mstack\u001B[0;34m(*args, **kwargs)\u001B[0m\n",
      "\u001B[0;32m~/miniconda3/envs/astro/lib/python3.8/site-packages/numpy/core/shape_base.py\u001B[0m in \u001B[0;36mstack\u001B[0;34m(arrays, axis, out)\u001B[0m\n\u001B[1;32m    425\u001B[0m     \u001B[0mshapes\u001B[0m \u001B[0;34m=\u001B[0m \u001B[0;34m{\u001B[0m\u001B[0marr\u001B[0m\u001B[0;34m.\u001B[0m\u001B[0mshape\u001B[0m \u001B[0;32mfor\u001B[0m \u001B[0marr\u001B[0m \u001B[0;32min\u001B[0m \u001B[0marrays\u001B[0m\u001B[0;34m}\u001B[0m\u001B[0;34m\u001B[0m\u001B[0;34m\u001B[0m\u001B[0m\n\u001B[1;32m    426\u001B[0m     \u001B[0;32mif\u001B[0m \u001B[0mlen\u001B[0m\u001B[0;34m(\u001B[0m\u001B[0mshapes\u001B[0m\u001B[0;34m)\u001B[0m \u001B[0;34m!=\u001B[0m \u001B[0;36m1\u001B[0m\u001B[0;34m:\u001B[0m\u001B[0;34m\u001B[0m\u001B[0;34m\u001B[0m\u001B[0m\n\u001B[0;32m--> 427\u001B[0;31m         \u001B[0;32mraise\u001B[0m \u001B[0mValueError\u001B[0m\u001B[0;34m(\u001B[0m\u001B[0;34m'all input arrays must have the same shape'\u001B[0m\u001B[0;34m)\u001B[0m\u001B[0;34m\u001B[0m\u001B[0;34m\u001B[0m\u001B[0m\n\u001B[0m\u001B[1;32m    428\u001B[0m \u001B[0;34m\u001B[0m\u001B[0m\n\u001B[1;32m    429\u001B[0m     \u001B[0mresult_ndim\u001B[0m \u001B[0;34m=\u001B[0m \u001B[0marrays\u001B[0m\u001B[0;34m[\u001B[0m\u001B[0;36m0\u001B[0m\u001B[0;34m]\u001B[0m\u001B[0;34m.\u001B[0m\u001B[0mndim\u001B[0m \u001B[0;34m+\u001B[0m \u001B[0;36m1\u001B[0m\u001B[0;34m\u001B[0m\u001B[0;34m\u001B[0m\u001B[0m\n",
      "\u001B[0;31mValueError\u001B[0m: all input arrays must have the same shape"
     ]
    }
   ],
   "source": [
    "print(\"Wrong Cell\")\n",
    "exit()\n",
    "\n",
    "print()\n",
    "print(\"=============================== Classification Stellar Density... ==================================\")\n",
    "print()\n",
    "\n",
    "start = time.time()\n",
    "\n",
    "bricknames_south_sample = []\n",
    "\n",
    "for filename in os.listdir('/Volumes/Astrostick/bricks_data/south/'):\n",
    "    brickn = filename.replace(\"tractor-\", \"\")\n",
    "    brickn = brickn.replace(\".fits\", \"\")\n",
    "    bricknames_south_sample.append(brickn)\n",
    "\n",
    "#bricknames_south_sample.pop()\n",
    "df = pd.DataFrame(columns=['RA', 'DEC'])\n",
    "\n",
    "for no, brickname in enumerate(bricknames_south_sample):\n",
    "    hdulistSingleBrick = fits.open(f'/Volumes/Astrostick/bricks_data/south/tractor-{brickname}.fits')\n",
    "    data = hdulistSingleBrick[1].data\n",
    "\n",
    "    brick = Brick(data)\n",
    "    ra = data.field('ra')\n",
    "    dec = data.field('dec')\n",
    "\n",
    "    brick.initialise_brick_for_stellar_density()\n",
    "\n",
    "    # Extracting Positions, and Object IDs\n",
    "\n",
    "    stellar_density = brick.get_stellar_objects()\n",
    "\n",
    "    # Process array\n",
    "    stacked_array = np.stack(( ra, dec, stellar_density), axis=1)\n",
    "    support_df = pd.DataFrame(stacked_array, columns=['RA', 'DEC', 'Target_type'])\n",
    "    support_df.drop(support_df[support_df.Target_type == 0].index, inplace=True)\n",
    "    support_df.drop(columns='Target_type')\n",
    "    df = df.append(support_df)\n",
    "\n",
    "print()\n",
    "print(\"=============================== Classification Stellar Completed ==================================\")\n",
    "print()\n",
    "df = df[df['Target_type'] > 0]\n",
    "df.to_csv('../bricks_data/galaxy_catalogue_stellar.csv', index=False)\n",
    "print(df.shape)\n",
    "print(df.head())\n",
    "\n",
    "print(\"Time taken for \", len(bricknames_south_sample), \" bricks: \", time.time() - start)"
   ]
  },
  {
   "cell_type": "code",
   "execution_count": null,
   "metadata": {
    "pycharm": {
     "name": "#%%\n"
    }
   },
   "outputs": [],
   "source": [
    "df = pd.read_csv('../bricks_data/galaxy_catalogue_stellar.csv')\n",
    "\n",
    "duplicates_removed = df.drop_duplicates()\n",
    "\n",
    "duplicates_removed.to_csv('../bricks_data/galaxy_catalogue_stellar.csv', index=False)\n",
    "\n",
    "\n",
    "# Setting NSIDE values\n",
    "NSIDE = 256\n",
    "NPIX = hp.nside2npix(NSIDE)\n",
    "print(\n",
    "    \"Approximate resolution at NSIDE {} is {:.2} deg\".format(\n",
    "        NSIDE, hp.nside2resol(NSIDE, arcmin=True) / 60\n",
    "    )\n",
    ")"
   ]
  },
  {
   "cell_type": "code",
   "execution_count": null,
   "metadata": {
    "pycharm": {
     "name": "#%%\n"
    }
   },
   "outputs": [],
   "source": [
    "def raDec2thetaPhi(ra, dec):\n",
    "    return (0.5 * np.pi - np.deg2rad(dec)), (np.deg2rad(ra))"
   ]
  },
  {
   "cell_type": "code",
   "execution_count": null,
   "metadata": {
    "pycharm": {
     "name": "#%%\n"
    }
   },
   "outputs": [],
   "source": [
    "ra = df[\"RA\"].to_numpy(copy=True)\n",
    "dec = df[\"DEC\"].to_numpy(copy=True)\n",
    "\n",
    "theta, phi = raDec2thetaPhi(ra, dec)\n",
    "\n",
    "print(\"Number of stellar objects in Sample:\", len(ra))\n",
    "\n",
    "m = np.zeros(NPIX)\n",
    "pixel_indices = hp.ang2pix(NSIDE, theta,phi)\n",
    "\n",
    "# Finding out unique indices and how often they appear --> shows the density of Stars in this pixel\n",
    "(unique, counts) = np.unique(pixel_indices, return_counts=True)\n",
    "\n",
    "mean = counts.mean()\n",
    "print(\"Mean stellar objects per Pixel:\", mean)\n",
    "# Calculating Densities for every block\n",
    "density = (counts / mean) - 1\n",
    "\n",
    "m[unique] = density\n",
    "hp.mollview(m, title=\"Stellar Density\", norm=\"hist\",cmap=\"jet\")\n",
    "hp.graticule()"
   ]
  },
  {
   "cell_type": "code",
   "execution_count": null,
   "metadata": {
    "pycharm": {
     "name": "#%%\n"
    }
   },
   "outputs": [],
   "source": []
  },
  {
   "cell_type": "code",
   "execution_count": null,
   "metadata": {
    "pycharm": {
     "name": "#%%\n"
    }
   },
   "outputs": [],
   "source": []
  }
 ],
 "metadata": {
  "kernelspec": {
   "display_name": "Python 3",
   "language": "python",
   "name": "python3"
  },
  "language_info": {
   "codemirror_mode": {
    "name": "ipython",
    "version": 3
   },
   "file_extension": ".py",
   "mimetype": "text/x-python",
   "name": "python",
   "nbconvert_exporter": "python",
   "pygments_lexer": "ipython3",
   "version": "3.8.8"
  }
 },
 "nbformat": 4,
 "nbformat_minor": 1
}