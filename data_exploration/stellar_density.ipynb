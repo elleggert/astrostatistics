{
 "cells": [
  {
   "cell_type": "code",
   "execution_count": 1,
   "metadata": {
    "pycharm": {
     "name": "#%%\n"
    }
   },
   "outputs": [
    {
     "name": "stdout",
     "output_type": "stream",
     "text": [
      "Time taken for import:  2.2165162563323975\n"
     ]
    }
   ],
   "source": [
    "import time\n",
    "\n",
    "\n",
    "import pandas as pd\n",
    "import numpy as np\n",
    "import os\n",
    "from brick import Brick\n",
    "from astropy.io import fits\n",
    "import healpy as hp\n",
    "import matplotlib.pyplot as plt\n"
   ]
  },
  {
   "cell_type": "markdown",
   "metadata": {
    "collapsed": true,
    "pycharm": {
     "name": "#%% md\n"
    }
   },
   "source": [
    "### Working on extracting the first systematic from the dataset -  stellar Density\n",
    "\n",
    "Data use: We create a catalog of stars from DECaLS by selecting objects lying in the stellar locus (using the color cut 17 < r < 18) with PSF morphology.\n",
    "\n",
    "Information on a per brick basis"
   ]
  },
  {
   "cell_type": "code",
   "execution_count": 2,
   "metadata": {
    "pycharm": {
     "name": "#%%\n"
    }
   },
   "outputs": [],
   "source": [
    "hdulistBricksSouthSummary = fits.open('../bricks_data/survey-bricks-dr9-south.fits')\n",
    "data_south = hdulistBricksSouthSummary[1].data\n",
    "brickname_south = data_south.field('brickname')\n",
    "brickid_south = data_south.field('brickid')\n",
    "south_survey_is_south = data_south.field('survey_primary')\n",
    "\n",
    "hdulistBricksNorthSummary = fits.open('../bricks_data/survey-bricks-dr9-north.fits')\n",
    "data_north = hdulistBricksNorthSummary[1].data\n",
    "brickname_north = data_north.field('brickname')\n",
    "brickid_north = data_north.field('brickid')\n",
    "survey_north = data_north.field('survey_primary')\n",
    "north_survey_is_south = np.invert(survey_north)"
   ]
  },
  {
   "cell_type": "code",
   "execution_count": 7,
   "metadata": {},
   "outputs": [
    {
     "name": "stdout",
     "output_type": "stream",
     "text": [
      "\n",
      "=============================== Classification Stellar Density... ==================================\n",
      "\n",
      "35\n",
      "0\n"
     ]
    },
    {
     "ename": "KeyboardInterrupt",
     "evalue": "",
     "output_type": "error",
     "traceback": [
      "\u001b[0;31m---------------------------------------------------------------------------\u001b[0m",
      "\u001b[0;31mKeyboardInterrupt\u001b[0m                         Traceback (most recent call last)",
      "\u001b[0;32m<ipython-input-7-3355f780c961>\u001b[0m in \u001b[0;36m<module>\u001b[0;34m\u001b[0m\n\u001b[1;32m     18\u001b[0m \u001b[0;32mfor\u001b[0m \u001b[0mno\u001b[0m\u001b[0;34m,\u001b[0m \u001b[0mbrickname\u001b[0m \u001b[0;32min\u001b[0m \u001b[0menumerate\u001b[0m\u001b[0;34m(\u001b[0m\u001b[0mbricknames_south_sample\u001b[0m\u001b[0;34m)\u001b[0m\u001b[0;34m:\u001b[0m\u001b[0;34m\u001b[0m\u001b[0;34m\u001b[0m\u001b[0m\n\u001b[1;32m     19\u001b[0m     \u001b[0mhdulistSingleBrick\u001b[0m \u001b[0;34m=\u001b[0m \u001b[0mfits\u001b[0m\u001b[0;34m.\u001b[0m\u001b[0mopen\u001b[0m\u001b[0;34m(\u001b[0m\u001b[0;34mf'/Volumes/Astrostick/bricks_data/south/tractor-{brickname}.fits'\u001b[0m\u001b[0;34m)\u001b[0m\u001b[0;34m\u001b[0m\u001b[0;34m\u001b[0m\u001b[0m\n\u001b[0;32m---> 20\u001b[0;31m     \u001b[0mdata\u001b[0m \u001b[0;34m=\u001b[0m \u001b[0mhdulistSingleBrick\u001b[0m\u001b[0;34m[\u001b[0m\u001b[0;36m1\u001b[0m\u001b[0;34m]\u001b[0m\u001b[0;34m.\u001b[0m\u001b[0mdata\u001b[0m\u001b[0;34m\u001b[0m\u001b[0;34m\u001b[0m\u001b[0m\n\u001b[0m\u001b[1;32m     21\u001b[0m \u001b[0;34m\u001b[0m\u001b[0m\n\u001b[1;32m     22\u001b[0m     \u001b[0mbrick\u001b[0m \u001b[0;34m=\u001b[0m \u001b[0mBrick\u001b[0m\u001b[0;34m(\u001b[0m\u001b[0mdata\u001b[0m\u001b[0;34m)\u001b[0m\u001b[0;34m\u001b[0m\u001b[0;34m\u001b[0m\u001b[0m\n",
      "\u001b[0;32m~/miniconda3/envs/astro/lib/python3.8/site-packages/astropy/utils/decorators.py\u001b[0m in \u001b[0;36m__get__\u001b[0;34m(self, obj, owner)\u001b[0m\n\u001b[1;32m    756\u001b[0m                 \u001b[0;32mreturn\u001b[0m \u001b[0mval\u001b[0m\u001b[0;34m\u001b[0m\u001b[0;34m\u001b[0m\u001b[0m\n\u001b[1;32m    757\u001b[0m             \u001b[0;32melse\u001b[0m\u001b[0;34m:\u001b[0m\u001b[0;34m\u001b[0m\u001b[0;34m\u001b[0m\u001b[0m\n\u001b[0;32m--> 758\u001b[0;31m                 \u001b[0mval\u001b[0m \u001b[0;34m=\u001b[0m \u001b[0mself\u001b[0m\u001b[0;34m.\u001b[0m\u001b[0mfget\u001b[0m\u001b[0;34m(\u001b[0m\u001b[0mobj\u001b[0m\u001b[0;34m)\u001b[0m\u001b[0;34m\u001b[0m\u001b[0;34m\u001b[0m\u001b[0m\n\u001b[0m\u001b[1;32m    759\u001b[0m                 \u001b[0mobj\u001b[0m\u001b[0;34m.\u001b[0m\u001b[0m__dict__\u001b[0m\u001b[0;34m[\u001b[0m\u001b[0mself\u001b[0m\u001b[0;34m.\u001b[0m\u001b[0m_key\u001b[0m\u001b[0;34m]\u001b[0m \u001b[0;34m=\u001b[0m \u001b[0mval\u001b[0m\u001b[0;34m\u001b[0m\u001b[0;34m\u001b[0m\u001b[0m\n\u001b[1;32m    760\u001b[0m                 \u001b[0;32mreturn\u001b[0m \u001b[0mval\u001b[0m\u001b[0;34m\u001b[0m\u001b[0;34m\u001b[0m\u001b[0m\n",
      "\u001b[0;32m~/miniconda3/envs/astro/lib/python3.8/site-packages/astropy/io/fits/hdu/table.py\u001b[0m in \u001b[0;36mdata\u001b[0;34m(self)\u001b[0m\n\u001b[1;32m    397\u001b[0m     \u001b[0;34m@\u001b[0m\u001b[0mlazyproperty\u001b[0m\u001b[0;34m\u001b[0m\u001b[0;34m\u001b[0m\u001b[0m\n\u001b[1;32m    398\u001b[0m     \u001b[0;32mdef\u001b[0m \u001b[0mdata\u001b[0m\u001b[0;34m(\u001b[0m\u001b[0mself\u001b[0m\u001b[0;34m)\u001b[0m\u001b[0;34m:\u001b[0m\u001b[0;34m\u001b[0m\u001b[0;34m\u001b[0m\u001b[0m\n\u001b[0;32m--> 399\u001b[0;31m         \u001b[0mdata\u001b[0m \u001b[0;34m=\u001b[0m \u001b[0mself\u001b[0m\u001b[0;34m.\u001b[0m\u001b[0m_get_tbdata\u001b[0m\u001b[0;34m(\u001b[0m\u001b[0;34m)\u001b[0m\u001b[0;34m\u001b[0m\u001b[0;34m\u001b[0m\u001b[0m\n\u001b[0m\u001b[1;32m    400\u001b[0m         \u001b[0mdata\u001b[0m\u001b[0;34m.\u001b[0m\u001b[0m_coldefs\u001b[0m \u001b[0;34m=\u001b[0m \u001b[0mself\u001b[0m\u001b[0;34m.\u001b[0m\u001b[0mcolumns\u001b[0m\u001b[0;34m\u001b[0m\u001b[0;34m\u001b[0m\u001b[0m\n\u001b[1;32m    401\u001b[0m         \u001b[0mdata\u001b[0m\u001b[0;34m.\u001b[0m\u001b[0m_character_as_bytes\u001b[0m \u001b[0;34m=\u001b[0m \u001b[0mself\u001b[0m\u001b[0;34m.\u001b[0m\u001b[0m_character_as_bytes\u001b[0m\u001b[0;34m\u001b[0m\u001b[0;34m\u001b[0m\u001b[0m\n",
      "\u001b[0;32m~/miniconda3/envs/astro/lib/python3.8/site-packages/astropy/io/fits/hdu/table.py\u001b[0m in \u001b[0;36m_get_tbdata\u001b[0;34m(self)\u001b[0m\n\u001b[1;32m    180\u001b[0m \u001b[0;34m\u001b[0m\u001b[0m\n\u001b[1;32m    181\u001b[0m         \u001b[0mself\u001b[0m\u001b[0;34m.\u001b[0m\u001b[0m_init_tbdata\u001b[0m\u001b[0;34m(\u001b[0m\u001b[0mdata\u001b[0m\u001b[0;34m)\u001b[0m\u001b[0;34m\u001b[0m\u001b[0;34m\u001b[0m\u001b[0m\n\u001b[0;32m--> 182\u001b[0;31m         \u001b[0mdata\u001b[0m \u001b[0;34m=\u001b[0m \u001b[0mdata\u001b[0m\u001b[0;34m.\u001b[0m\u001b[0mview\u001b[0m\u001b[0;34m(\u001b[0m\u001b[0mself\u001b[0m\u001b[0;34m.\u001b[0m\u001b[0m_data_type\u001b[0m\u001b[0;34m)\u001b[0m\u001b[0;34m\u001b[0m\u001b[0;34m\u001b[0m\u001b[0m\n\u001b[0m\u001b[1;32m    183\u001b[0m         \u001b[0mcolumns\u001b[0m\u001b[0;34m.\u001b[0m\u001b[0m_add_listener\u001b[0m\u001b[0;34m(\u001b[0m\u001b[0mdata\u001b[0m\u001b[0;34m)\u001b[0m\u001b[0;34m\u001b[0m\u001b[0;34m\u001b[0m\u001b[0m\n\u001b[1;32m    184\u001b[0m         \u001b[0;32mreturn\u001b[0m \u001b[0mdata\u001b[0m\u001b[0;34m\u001b[0m\u001b[0;34m\u001b[0m\u001b[0m\n",
      "\u001b[0;32m~/miniconda3/envs/astro/lib/python3.8/site-packages/astropy/io/fits/fitsrec.py\u001b[0m in \u001b[0;36m__array_finalize__\u001b[0;34m(self, obj)\u001b[0m\n\u001b[1;32m    243\u001b[0m             \u001b[0mself\u001b[0m\u001b[0;34m.\u001b[0m\u001b[0m_uint\u001b[0m \u001b[0;34m=\u001b[0m \u001b[0mgetattr\u001b[0m\u001b[0;34m(\u001b[0m\u001b[0mobj\u001b[0m\u001b[0;34m,\u001b[0m \u001b[0;34m'_uint'\u001b[0m\u001b[0;34m,\u001b[0m \u001b[0;32mFalse\u001b[0m\u001b[0;34m)\u001b[0m\u001b[0;34m\u001b[0m\u001b[0;34m\u001b[0m\u001b[0m\n\u001b[1;32m    244\u001b[0m             \u001b[0mself\u001b[0m\u001b[0;34m.\u001b[0m\u001b[0m_col_weakrefs\u001b[0m \u001b[0;34m=\u001b[0m \u001b[0mweakref\u001b[0m\u001b[0;34m.\u001b[0m\u001b[0mWeakSet\u001b[0m\u001b[0;34m(\u001b[0m\u001b[0;34m)\u001b[0m\u001b[0;34m\u001b[0m\u001b[0;34m\u001b[0m\u001b[0m\n\u001b[0;32m--> 245\u001b[0;31m             \u001b[0mself\u001b[0m\u001b[0;34m.\u001b[0m\u001b[0m_coldefs\u001b[0m \u001b[0;34m=\u001b[0m \u001b[0mColDefs\u001b[0m\u001b[0;34m(\u001b[0m\u001b[0mself\u001b[0m\u001b[0;34m)\u001b[0m\u001b[0;34m\u001b[0m\u001b[0;34m\u001b[0m\u001b[0m\n\u001b[0m\u001b[1;32m    246\u001b[0m \u001b[0;34m\u001b[0m\u001b[0m\n\u001b[1;32m    247\u001b[0m             \u001b[0;31m# Work around chicken-egg problem.  Column.array relies on the\u001b[0m\u001b[0;34m\u001b[0m\u001b[0;34m\u001b[0m\u001b[0;34m\u001b[0m\u001b[0m\n",
      "\u001b[0;32m~/miniconda3/envs/astro/lib/python3.8/site-packages/astropy/io/fits/column.py\u001b[0m in \u001b[0;36m__init__\u001b[0;34m(self, input, ascii)\u001b[0m\n\u001b[1;32m   1401\u001b[0m         \u001b[0;32melif\u001b[0m \u001b[0misinstance\u001b[0m\u001b[0;34m(\u001b[0m\u001b[0minput\u001b[0m\u001b[0;34m,\u001b[0m \u001b[0mnp\u001b[0m\u001b[0;34m.\u001b[0m\u001b[0mndarray\u001b[0m\u001b[0;34m)\u001b[0m \u001b[0;32mand\u001b[0m \u001b[0minput\u001b[0m\u001b[0;34m.\u001b[0m\u001b[0mdtype\u001b[0m\u001b[0;34m.\u001b[0m\u001b[0mfields\u001b[0m \u001b[0;32mis\u001b[0m \u001b[0;32mnot\u001b[0m \u001b[0;32mNone\u001b[0m\u001b[0;34m:\u001b[0m\u001b[0;34m\u001b[0m\u001b[0;34m\u001b[0m\u001b[0m\n\u001b[1;32m   1402\u001b[0m             \u001b[0;31m# Construct columns from the fields of a record array\u001b[0m\u001b[0;34m\u001b[0m\u001b[0;34m\u001b[0m\u001b[0;34m\u001b[0m\u001b[0m\n\u001b[0;32m-> 1403\u001b[0;31m             \u001b[0mself\u001b[0m\u001b[0;34m.\u001b[0m\u001b[0m_init_from_array\u001b[0m\u001b[0;34m(\u001b[0m\u001b[0minput\u001b[0m\u001b[0;34m)\u001b[0m\u001b[0;34m\u001b[0m\u001b[0;34m\u001b[0m\u001b[0m\n\u001b[0m\u001b[1;32m   1404\u001b[0m         \u001b[0;32melif\u001b[0m \u001b[0misiterable\u001b[0m\u001b[0;34m(\u001b[0m\u001b[0minput\u001b[0m\u001b[0;34m)\u001b[0m\u001b[0;34m:\u001b[0m\u001b[0;34m\u001b[0m\u001b[0;34m\u001b[0m\u001b[0m\n\u001b[1;32m   1405\u001b[0m             \u001b[0;31m# if the input is a list of Columns\u001b[0m\u001b[0;34m\u001b[0m\u001b[0;34m\u001b[0m\u001b[0;34m\u001b[0m\u001b[0m\n",
      "\u001b[0;32m~/miniconda3/envs/astro/lib/python3.8/site-packages/astropy/io/fits/column.py\u001b[0m in \u001b[0;36m_init_from_array\u001b[0;34m(self, array)\u001b[0m\n\u001b[1;32m   1460\u001b[0m                     \u001b[0mbzero\u001b[0m \u001b[0;34m=\u001b[0m \u001b[0mnp\u001b[0m\u001b[0;34m.\u001b[0m\u001b[0muint64\u001b[0m\u001b[0;34m(\u001b[0m\u001b[0;36m2\u001b[0m\u001b[0;34m**\u001b[0m\u001b[0;36m63\u001b[0m\u001b[0;34m)\u001b[0m\u001b[0;34m\u001b[0m\u001b[0;34m\u001b[0m\u001b[0m\n\u001b[1;32m   1461\u001b[0m \u001b[0;34m\u001b[0m\u001b[0m\n\u001b[0;32m-> 1462\u001b[0;31m             c = Column(name=cname, format=format,\n\u001b[0m\u001b[1;32m   1463\u001b[0m                        \u001b[0marray\u001b[0m\u001b[0;34m=\u001b[0m\u001b[0marray\u001b[0m\u001b[0;34m.\u001b[0m\u001b[0mview\u001b[0m\u001b[0;34m(\u001b[0m\u001b[0mnp\u001b[0m\u001b[0;34m.\u001b[0m\u001b[0mndarray\u001b[0m\u001b[0;34m)\u001b[0m\u001b[0;34m[\u001b[0m\u001b[0mcname\u001b[0m\u001b[0;34m]\u001b[0m\u001b[0;34m,\u001b[0m \u001b[0mbzero\u001b[0m\u001b[0;34m=\u001b[0m\u001b[0mbzero\u001b[0m\u001b[0;34m,\u001b[0m\u001b[0;34m\u001b[0m\u001b[0;34m\u001b[0m\u001b[0m\n\u001b[1;32m   1464\u001b[0m                        dim=dim)\n",
      "\u001b[0;32m~/miniconda3/envs/astro/lib/python3.8/site-packages/astropy/io/fits/column.py\u001b[0m in \u001b[0;36m__init__\u001b[0;34m(self, name, format, unit, null, bscale, bzero, disp, start, dim, array, ascii, coord_type, coord_unit, coord_ref_point, coord_ref_value, coord_inc, time_ref_pos)\u001b[0m\n\u001b[1;32m    661\u001b[0m                                          'format `{}`.'.format(format))\n\u001b[1;32m    662\u001b[0m \u001b[0;34m\u001b[0m\u001b[0m\n\u001b[0;32m--> 663\u001b[0;31m         \u001b[0marray\u001b[0m \u001b[0;34m=\u001b[0m \u001b[0mself\u001b[0m\u001b[0;34m.\u001b[0m\u001b[0m_convert_to_valid_data_type\u001b[0m\u001b[0;34m(\u001b[0m\u001b[0marray\u001b[0m\u001b[0;34m)\u001b[0m\u001b[0;34m\u001b[0m\u001b[0;34m\u001b[0m\u001b[0m\n\u001b[0m\u001b[1;32m    664\u001b[0m \u001b[0;34m\u001b[0m\u001b[0m\n\u001b[1;32m    665\u001b[0m         \u001b[0;31m# We have required (through documentation) that arrays passed in to\u001b[0m\u001b[0;34m\u001b[0m\u001b[0;34m\u001b[0m\u001b[0;34m\u001b[0m\u001b[0m\n",
      "\u001b[0;32m~/miniconda3/envs/astro/lib/python3.8/site-packages/astropy/io/fits/column.py\u001b[0m in \u001b[0;36m_convert_to_valid_data_type\u001b[0;34m(self, array)\u001b[0m\n\u001b[1;32m   1312\u001b[0m                     \u001b[0;32mreturn\u001b[0m \u001b[0mnp\u001b[0m\u001b[0;34m.\u001b[0m\u001b[0mwhere\u001b[0m\u001b[0;34m(\u001b[0m\u001b[0marray\u001b[0m \u001b[0;34m==\u001b[0m \u001b[0mnp\u001b[0m\u001b[0;34m.\u001b[0m\u001b[0mFalse_\u001b[0m\u001b[0;34m,\u001b[0m \u001b[0mord\u001b[0m\u001b[0;34m(\u001b[0m\u001b[0;34m'F'\u001b[0m\u001b[0;34m)\u001b[0m\u001b[0;34m,\u001b[0m \u001b[0mord\u001b[0m\u001b[0;34m(\u001b[0m\u001b[0;34m'T'\u001b[0m\u001b[0;34m)\u001b[0m\u001b[0;34m)\u001b[0m\u001b[0;34m\u001b[0m\u001b[0;34m\u001b[0m\u001b[0m\n\u001b[1;32m   1313\u001b[0m                 \u001b[0;32melse\u001b[0m\u001b[0;34m:\u001b[0m\u001b[0;34m\u001b[0m\u001b[0;34m\u001b[0m\u001b[0m\n\u001b[0;32m-> 1314\u001b[0;31m                     \u001b[0;32mreturn\u001b[0m \u001b[0mnp\u001b[0m\u001b[0;34m.\u001b[0m\u001b[0mwhere\u001b[0m\u001b[0;34m(\u001b[0m\u001b[0marray\u001b[0m \u001b[0;34m==\u001b[0m \u001b[0;36m0\u001b[0m\u001b[0;34m,\u001b[0m \u001b[0mord\u001b[0m\u001b[0;34m(\u001b[0m\u001b[0;34m'F'\u001b[0m\u001b[0;34m)\u001b[0m\u001b[0;34m,\u001b[0m \u001b[0mord\u001b[0m\u001b[0;34m(\u001b[0m\u001b[0;34m'T'\u001b[0m\u001b[0;34m)\u001b[0m\u001b[0;34m)\u001b[0m\u001b[0;34m\u001b[0m\u001b[0;34m\u001b[0m\u001b[0m\n\u001b[0m\u001b[1;32m   1315\u001b[0m             \u001b[0;32melif\u001b[0m \u001b[0;34m'X'\u001b[0m \u001b[0;32min\u001b[0m \u001b[0mformat\u001b[0m\u001b[0;34m:\u001b[0m\u001b[0;34m\u001b[0m\u001b[0;34m\u001b[0m\u001b[0m\n\u001b[1;32m   1316\u001b[0m                 \u001b[0;32mreturn\u001b[0m \u001b[0m_convert_array\u001b[0m\u001b[0;34m(\u001b[0m\u001b[0marray\u001b[0m\u001b[0;34m,\u001b[0m \u001b[0mnp\u001b[0m\u001b[0;34m.\u001b[0m\u001b[0mdtype\u001b[0m\u001b[0;34m(\u001b[0m\u001b[0;34m'uint8'\u001b[0m\u001b[0;34m)\u001b[0m\u001b[0;34m)\u001b[0m\u001b[0;34m\u001b[0m\u001b[0;34m\u001b[0m\u001b[0m\n",
      "\u001b[0;31mKeyboardInterrupt\u001b[0m: "
     ]
    }
   ],
   "source": [
    "print()\n",
    "print(\"=============================== Classification Stellar Density... ==================================\")\n",
    "print()\n",
    "\n",
    "start = time.time()\n",
    "\n",
    "bricknames_south_sample = []\n",
    "\n",
    "for filename in os.listdir('/Volumes/Astrostick/bricks_data/south/'):\n",
    "    brickn = filename.replace(\"tractor-\", \"\")\n",
    "    brickn = brickn.replace(\".fits\", \"\")\n",
    "    bricknames_south_sample.append(brickn)\n",
    "\n",
    "bricknames_south_sample.pop()\n",
    "\n",
    "df = pd.DataFrame(columns=['RA', 'DEC', 'GMAG', 'RMAG', 'ZMAG', 'GMR', 'RMZ'])\n",
    "\n",
    "for no, brickname in enumerate(bricknames_south_sample):\n",
    "    hdulistSingleBrick = fits.open(f'/Volumes/Astrostick/bricks_data/south/tractor-{brickname}.fits')\n",
    "    data = hdulistSingleBrick[1].data\n",
    "\n",
    "    brick = Brick(data)\n",
    "    brick.initialise_brick_for_stellar_density()\n",
    "\n",
    "    stars = brick.get_stellar_objects()\n",
    "\n",
    "\n",
    "    support_df = pd.DataFrame(stars, columns=['RA', 'DEC', 'GMAG', 'RMAG', 'ZMAG', 'GMR', 'RMZ'])\n",
    "    df = df.append(support_df)\n",
    "\n",
    "    if no % 50 == 0:\n",
    "        print(len(stars))\n",
    "        print(no)\n",
    "print(df.head())\n",
    "df.describe()\n",
    "df = df.drop_duplicates()\n",
    "#df.to_csv('../bricks_data/galaxy_catalogue_stellar.csv', index=False)\n"
   ]
  },
  {
   "cell_type": "code",
   "execution_count": 55,
   "metadata": {
    "pycharm": {
     "name": "#%%\n"
    }
   },
   "outputs": [
    {
     "data": {
      "text/html": [
       "<div>\n",
       "<style scoped>\n",
       "    .dataframe tbody tr th:only-of-type {\n",
       "        vertical-align: middle;\n",
       "    }\n",
       "\n",
       "    .dataframe tbody tr th {\n",
       "        vertical-align: top;\n",
       "    }\n",
       "\n",
       "    .dataframe thead th {\n",
       "        text-align: right;\n",
       "    }\n",
       "</style>\n",
       "<table border=\"1\" class=\"dataframe\">\n",
       "  <thead>\n",
       "    <tr style=\"text-align: right;\">\n",
       "      <th></th>\n",
       "      <th>RA</th>\n",
       "      <th>DEC</th>\n",
       "      <th>GMAG</th>\n",
       "      <th>RMAG</th>\n",
       "      <th>ZMAG</th>\n",
       "      <th>GMR</th>\n",
       "      <th>RMZ</th>\n",
       "      <th>percent_RMAG</th>\n",
       "      <th>Z_SCORE_GMAG</th>\n",
       "    </tr>\n",
       "  </thead>\n",
       "  <tbody>\n",
       "    <tr>\n",
       "      <th>count</th>\n",
       "      <td>38979.000000</td>\n",
       "      <td>38979.000000</td>\n",
       "      <td>38979.000000</td>\n",
       "      <td>38979.000000</td>\n",
       "      <td>38979.000000</td>\n",
       "      <td>38979.000000</td>\n",
       "      <td>38979.000000</td>\n",
       "      <td>38979.000000</td>\n",
       "      <td>38979.000000</td>\n",
       "    </tr>\n",
       "    <tr>\n",
       "      <th>mean</th>\n",
       "      <td>197.397767</td>\n",
       "      <td>-2.573402</td>\n",
       "      <td>18.389805</td>\n",
       "      <td>17.529719</td>\n",
       "      <td>17.011467</td>\n",
       "      <td>0.860085</td>\n",
       "      <td>0.518252</td>\n",
       "      <td>49.539188</td>\n",
       "      <td>0.861088</td>\n",
       "    </tr>\n",
       "    <tr>\n",
       "      <th>std</th>\n",
       "      <td>112.116316</td>\n",
       "      <td>26.976226</td>\n",
       "      <td>0.500445</td>\n",
       "      <td>0.287154</td>\n",
       "      <td>0.511685</td>\n",
       "      <td>0.386192</td>\n",
       "      <td>0.452294</td>\n",
       "      <td>28.844617</td>\n",
       "      <td>0.456973</td>\n",
       "    </tr>\n",
       "    <tr>\n",
       "      <th>min</th>\n",
       "      <td>0.000972</td>\n",
       "      <td>-67.849736</td>\n",
       "      <td>17.118793</td>\n",
       "      <td>17.000078</td>\n",
       "      <td>15.016022</td>\n",
       "      <td>0.048018</td>\n",
       "      <td>-1.980566</td>\n",
       "      <td>0.000000</td>\n",
       "      <td>0.000094</td>\n",
       "    </tr>\n",
       "    <tr>\n",
       "      <th>25%</th>\n",
       "      <td>90.088019</td>\n",
       "      <td>-15.475750</td>\n",
       "      <td>18.003216</td>\n",
       "      <td>17.287079</td>\n",
       "      <td>16.750458</td>\n",
       "      <td>0.526363</td>\n",
       "      <td>0.202099</td>\n",
       "      <td>25.000000</td>\n",
       "      <td>0.501858</td>\n",
       "    </tr>\n",
       "    <tr>\n",
       "      <th>50%</th>\n",
       "      <td>221.374552</td>\n",
       "      <td>4.835213</td>\n",
       "      <td>18.360729</td>\n",
       "      <td>17.544832</td>\n",
       "      <td>17.073626</td>\n",
       "      <td>0.754274</td>\n",
       "      <td>0.344851</td>\n",
       "      <td>50.000000</td>\n",
       "      <td>0.868166</td>\n",
       "    </tr>\n",
       "    <tr>\n",
       "      <th>75%</th>\n",
       "      <td>309.551203</td>\n",
       "      <td>18.474837</td>\n",
       "      <td>18.750237</td>\n",
       "      <td>17.780543</td>\n",
       "      <td>17.385365</td>\n",
       "      <td>1.243645</td>\n",
       "      <td>0.699856</td>\n",
       "      <td>75.000000</td>\n",
       "      <td>1.218342</td>\n",
       "    </tr>\n",
       "    <tr>\n",
       "      <th>max</th>\n",
       "      <td>359.993021</td>\n",
       "      <td>35.350494</td>\n",
       "      <td>19.644421</td>\n",
       "      <td>17.999968</td>\n",
       "      <td>19.885351</td>\n",
       "      <td>1.704018</td>\n",
       "      <td>2.696612</td>\n",
       "      <td>99.000000</td>\n",
       "      <td>1.959429</td>\n",
       "    </tr>\n",
       "  </tbody>\n",
       "</table>\n",
       "</div>"
      ],
      "text/plain": [
       "                 RA           DEC          GMAG          RMAG          ZMAG  \\\n",
       "count  38979.000000  38979.000000  38979.000000  38979.000000  38979.000000   \n",
       "mean     197.397767     -2.573402     18.389805     17.529719     17.011467   \n",
       "std      112.116316     26.976226      0.500445      0.287154      0.511685   \n",
       "min        0.000972    -67.849736     17.118793     17.000078     15.016022   \n",
       "25%       90.088019    -15.475750     18.003216     17.287079     16.750458   \n",
       "50%      221.374552      4.835213     18.360729     17.544832     17.073626   \n",
       "75%      309.551203     18.474837     18.750237     17.780543     17.385365   \n",
       "max      359.993021     35.350494     19.644421     17.999968     19.885351   \n",
       "\n",
       "                GMR           RMZ  percent_RMAG  Z_SCORE_GMAG  \n",
       "count  38979.000000  38979.000000  38979.000000  38979.000000  \n",
       "mean       0.860085      0.518252     49.539188      0.861088  \n",
       "std        0.386192      0.452294     28.844617      0.456973  \n",
       "min        0.048018     -1.980566      0.000000      0.000094  \n",
       "25%        0.526363      0.202099     25.000000      0.501858  \n",
       "50%        0.754274      0.344851     50.000000      0.868166  \n",
       "75%        1.243645      0.699856     75.000000      1.218342  \n",
       "max        1.704018      2.696612     99.000000      1.959429  "
      ]
     },
     "execution_count": 55,
     "metadata": {},
     "output_type": "execute_result"
    }
   ],
   "source": [
    "df = pd.read_csv('../bricks_data/galaxy_catalogue_stellar.csv')\n",
    "df.describe()\n",
    "\n"
   ]
  },
  {
   "cell_type": "code",
   "execution_count": 56,
   "metadata": {
    "pycharm": {
     "name": "#%%\n"
    }
   },
   "outputs": [
    {
     "data": {
      "image/png": "[encoded data removed]",
      "text/plain": [
       "<Figure size 432x288 with 1 Axes>"
      ]
     },
     "metadata": {
      "needs_background": "light"
     },
     "output_type": "display_data"
    }
   ],
   "source": [
    "label_1 = 'RMAG'\n",
    "label_2 = 'GMAG'\n",
    "\n",
    "plt.scatter(df[label_1], df[label_2])\n",
    "plt.xlabel(label_1)\n",
    "plt.ylabel(label_2)\n",
    "plt.show()"
   ]
  },
  {
   "cell_type": "code",
   "execution_count": 57,
   "metadata": {
    "pycharm": {
     "name": "#%%\n"
    }
   },
   "outputs": [],
   "source": [
    "# REMOVING OUTLIERS\n",
    "\n",
    "df = df[(df['GMAG'] > 15) & (df['GMAG'] < 30) ]\n",
    "df = df[(df['ZMAG'] > 15) & (df['ZMAG'] < 30) ]\n",
    "df = df[(df['GMR'] > -2) & (df['GMR'] < 4) ]\n",
    "df = df[(df['RMZ'] > -2) & (df['RMZ'] < 4) ]\n"
   ]
  },
  {
   "cell_type": "code",
   "execution_count": 58,
   "metadata": {
    "pycharm": {
     "name": "#%%\n"
    }
   },
   "outputs": [
    {
     "data": {
      "image/png": "[encoded data removed]",
      "text/plain": [
       "<Figure size 432x288 with 1 Axes>"
      ]
     },
     "metadata": {
      "needs_background": "light"
     },
     "output_type": "display_data"
    }
   ],
   "source": [
    "plt.scatter(df[label_1], df[label_2])\n",
    "plt.xlabel(label_1)\n",
    "plt.ylabel(label_2)\n",
    "plt.show()"
   ]
  },
  {
   "cell_type": "code",
   "execution_count": 59,
   "metadata": {
    "pycharm": {
     "name": "#%%\n"
    }
   },
   "outputs": [
    {
     "data": {
      "text/plain": [
       "44    391\n",
       "7     391\n",
       "61    391\n",
       "51    391\n",
       "91    391\n",
       "     ... \n",
       "81    389\n",
       "9     389\n",
       "77    389\n",
       "95    389\n",
       "45    388\n",
       "Name: percent_RMAG, Length: 100, dtype: int64"
      ]
     },
     "execution_count": 59,
     "metadata": {},
     "output_type": "execute_result"
    }
   ],
   "source": [
    "#Dividing RMAG Column into 100 equally filled bins (assuming within the RMAG of 17-18 this is somewhat uniform)\n",
    "df['percent_RMAG'] = pd.qcut(df['RMAG'], q=100, labels=False)\n",
    "df['percent_RMAG'].value_counts()\n"
   ]
  },
  {
   "cell_type": "code",
   "execution_count": 60,
   "metadata": {
    "pycharm": {
     "name": "#%%\n"
    }
   },
   "outputs": [],
   "source": [
    "#grouped = df.groupby('percent_RMAG', as_index=False).sem()\n",
    "grouped = df.groupby('percent_RMAG')\n",
    "zscore = lambda x: abs((x - x.median()) / x.std())\n",
    "df['Z_SCORE_RMZ'] = grouped['RMZ'].transform(zscore)\n",
    "df['Z_SCORE_GMR'] = grouped['GMR'].transform(zscore)"
   ]
  },
  {
   "cell_type": "code",
   "execution_count": 66,
   "metadata": {},
   "outputs": [
    {
     "data": {
      "text/plain": [
       "(37894, 13)"
      ]
     },
     "execution_count": 66,
     "metadata": {},
     "output_type": "execute_result"
    }
   ],
   "source": [
    "#Dividing RMAG Column into 100 equally filled bins (assuming within the RMAG of 17-18 this is somewhat uniform)\n",
    "df['percent_GMR'] = pd.qcut(df['GMR'], q=100, labels=False)\n",
    "df['percent_RMZ'] = pd.qcut(df['RMZ'], q=100, labels=False)\n",
    "df.shape"
   ]
  },
  {
   "cell_type": "code",
   "execution_count": 67,
   "metadata": {},
   "outputs": [],
   "source": [
    "#grouped = df.groupby('percent_RMAG', as_index=False).sem()\n",
    "grouped = df.groupby('percent_GMR')\n",
    "zscore = lambda x: abs((x - x.median()) / x.std())\n",
    "df['Z_SCORE_RMZ'] = grouped['RMZ'].transform(zscore)\n"
   ]
  },
  {
   "cell_type": "code",
   "execution_count": 72,
   "metadata": {},
   "outputs": [],
   "source": [
    "#grouped = df.groupby('percent_RMAG', as_index=False).sem()\n",
    "grouped = df.groupby('percent_RMZ')\n",
    "zscore = lambda x: abs((x - x.median()) / x.std())\n",
    "df['Z_SCORE_GMR'] = grouped['GMR'].transform(zscore)\n"
   ]
  },
  {
   "cell_type": "code",
   "execution_count": 74,
   "metadata": {
    "pycharm": {
     "name": "#%%\n"
    }
   },
   "outputs": [
    {
     "data": {
      "text/plain": [
       "count    37593.000000\n",
       "mean         0.766507\n",
       "std          0.646695\n",
       "min          0.000000\n",
       "25%          0.285685\n",
       "50%          0.621420\n",
       "75%          1.096898\n",
       "max         10.341486\n",
       "Name: Z_SCORE_GMR, dtype: float64"
      ]
     },
     "execution_count": 74,
     "metadata": {},
     "output_type": "execute_result"
    }
   ],
   "source": [
    "df['Z_SCORE_GMR'].describe()"
   ]
  },
  {
   "cell_type": "code",
   "execution_count": 75,
   "metadata": {
    "pycharm": {
     "name": "#%%\n"
    }
   },
   "outputs": [
    {
     "name": "stdout",
     "output_type": "stream",
     "text": [
      "(37593, 13)\n",
      "(37357, 13)\n"
     ]
    },
    {
     "data": {
      "text/plain": [
       "(37357, 13)"
      ]
     },
     "execution_count": 75,
     "metadata": {},
     "output_type": "execute_result"
    }
   ],
   "source": [
    "print(df.shape)\n",
    "df = df[(df['Z_SCORE_GMR'] < 3)]\n",
    "print(df.shape)\n",
    "df = df[(df['Z_SCORE_RMZ'] < 3)]\n",
    "df.shape"
   ]
  },
  {
   "cell_type": "code",
   "execution_count": 52,
   "metadata": {
    "pycharm": {
     "name": "#%%\n"
    }
   },
   "outputs": [
    {
     "data": {
      "text/plain": [
       "(array([ 105., 2222., 8459., 7364., 4367., 3113., 2881., 3547., 2632.,\n",
       "          44.]),\n",
       " array([0.0480175 , 0.21361752, 0.37921753, 0.54481754, 0.71041756,\n",
       "        0.87601757, 1.04161758, 1.2072176 , 1.37281761, 1.53841763,\n",
       "        1.70401764]),\n",
       " <BarContainer object of 10 artists>)"
      ]
     },
     "execution_count": 52,
     "metadata": {},
     "output_type": "execute_result"
    },
    {
     "data": {
      "image/png": "[encoded data removed]",
      "text/plain": [
       "<Figure size 432x288 with 1 Axes>"
      ]
     },
     "metadata": {
      "needs_background": "light"
     },
     "output_type": "display_data"
    }
   ],
   "source": [
    "plt.hist(df['GMR'])"
   ]
  },
  {
   "cell_type": "code",
   "execution_count": 70,
   "metadata": {
    "pycharm": {
     "name": "#%%\n"
    }
   },
   "outputs": [
    {
     "data": {
      "image/png": "[encoded data removed]",
      "text/plain": [
       "<Figure size 432x288 with 1 Axes>"
      ]
     },
     "metadata": {
      "needs_background": "light"
     },
     "output_type": "display_data"
    }
   ],
   "source": [
    "label_1 = 'RMAG'\n",
    "label_2 = 'GMAG'\n",
    "\n",
    "plt.scatter(df[label_1], df[label_2])\n",
    "plt.xlabel(label_1)\n",
    "plt.ylabel(label_2)\n",
    "plt.show()"
   ]
  },
  {
   "cell_type": "code",
   "execution_count": 71,
   "metadata": {
    "pycharm": {
     "name": "#%%\n"
    }
   },
   "outputs": [
    {
     "data": {
      "image/png": "[encoded data removed]",
      "text/plain": [
       "<Figure size 432x288 with 1 Axes>"
      ]
     },
     "metadata": {
      "needs_background": "light"
     },
     "output_type": "display_data"
    }
   ],
   "source": [
    "label_2 = 'GMR'\n",
    "label_1 = 'RMZ'\n",
    "\n",
    "plt.scatter(df[label_1], df[label_2])\n",
    "plt.xlabel(label_1)\n",
    "plt.ylabel(label_2)\n",
    "plt.show()"
   ]
  },
  {
   "cell_type": "code",
   "execution_count": null,
   "metadata": {
    "pycharm": {
     "name": "#%%\n"
    }
   },
   "outputs": [],
   "source": [
    "df.to_csv('../bricks_data/galaxy_catalogue_stellar.csv', index=False)\n"
   ]
  },
  {
   "cell_type": "code",
   "execution_count": null,
   "metadata": {
    "pycharm": {
     "name": "#%%\n"
    }
   },
   "outputs": [],
   "source": [
    "for no, brickname in enumerate(bricknames_south_sample):\n",
    "    hdulistSingleBrick = fits.open(f'/Volumes/Astrostick/bricks_data/south_test/tractor-{brickname}.fits')\n",
    "    data = hdulistSingleBrick[1].data\n",
    "    ra = data.field('ra')\n",
    "    dec = data.field('dec')\n",
    "    brick = Brick(data)\n",
    "    brick.initialise_brick_for_stellar_density()\n",
    "    fluxr = brick.get_stellar_objects()\n",
    "    print(len(fluxr))\n",
    "    plt.hist(fluxr, range=(0,30))\n",
    "    plt.show()\n",
    "    \n",
    "\n",
    "    if no == 0:\n",
    "        break"
   ]
  },
  {
   "cell_type": "code",
   "execution_count": null,
   "metadata": {
    "pycharm": {
     "name": "#%%\n"
    }
   },
   "outputs": [],
   "source": [
    "print(\"Wrong Cell\")\n",
    "exit()\n",
    "\n",
    "print()\n",
    "print(\"=============================== Classification Stellar Density... ==================================\")\n",
    "print()\n",
    "\n",
    "start = time.time()\n",
    "\n",
    "bricknames_south_sample = []\n",
    "\n",
    "for filename in os.listdir('/Volumes/Astrostick/bricks_data/south/'):\n",
    "    brickn = filename.replace(\"tractor-\", \"\")\n",
    "    brickn = brickn.replace(\".fits\", \"\")\n",
    "    bricknames_south_sample.append(brickn)\n",
    "\n",
    "#bricknames_south_sample.pop()\n",
    "df = pd.DataFrame(columns=['RA', 'DEC'])\n",
    "\n",
    "for no, brickname in enumerate(bricknames_south_sample):\n",
    "    hdulistSingleBrick = fits.open(f'/Volumes/Astrostick/bricks_data/south/tractor-{brickname}.fits')\n",
    "    data = hdulistSingleBrick[1].data\n",
    "\n",
    "    brick = Brick(data)\n",
    "    ra = data.field('ra')\n",
    "    dec = data.field('dec')\n",
    "\n",
    "    brick.initialise_brick_for_stellar_density()\n",
    "\n",
    "    # Extracting Positions, and Object IDs\n",
    "\n",
    "    stellar_density = brick.get_stellar_objects()\n",
    "\n",
    "    # Process array\n",
    "    stacked_array = np.stack(( ra, dec, stellar_density), axis=1)\n",
    "    support_df = pd.DataFrame(stacked_array, columns=['RA', 'DEC', 'Target_type'])\n",
    "    support_df.drop(support_df[support_df.Target_type == 0].index, inplace=True)\n",
    "    support_df.drop(columns='Target_type')\n",
    "    df = df.append(support_df)\n",
    "\n",
    "print()\n",
    "print(\"=============================== Classification Stellar Completed ==================================\")\n",
    "print()\n",
    "df = df[df['Target_type'] > 0]\n",
    "df.to_csv('../bricks_data/galaxy_catalogue_stellar.csv', index=False)\n",
    "print(df.shape)\n",
    "print(df.head())\n",
    "\n",
    "print(\"Time taken for \", len(bricknames_south_sample), \" bricks: \", time.time() - start)"
   ]
  },
  {
   "cell_type": "code",
   "execution_count": null,
   "metadata": {
    "pycharm": {
     "name": "#%%\n"
    }
   },
   "outputs": [],
   "source": [
    "df = pd.read_csv('../bricks_data/galaxy_catalogue_stellar.csv')\n",
    "\n",
    "duplicates_removed = df.drop_duplicates()\n",
    "\n",
    "duplicates_removed.to_csv('../bricks_data/galaxy_catalogue_stellar.csv', index=False)\n",
    "\n",
    "\n",
    "# Setting NSIDE values\n",
    "NSIDE = 256\n",
    "NPIX = hp.nside2npix(NSIDE)\n",
    "print(\n",
    "    \"Approximate resolution at NSIDE {} is {:.2} deg\".format(\n",
    "        NSIDE, hp.nside2resol(NSIDE, arcmin=True) / 60\n",
    "    )\n",
    ")"
   ]
  },
  {
   "cell_type": "code",
   "execution_count": null,
   "metadata": {
    "pycharm": {
     "name": "#%%\n"
    }
   },
   "outputs": [],
   "source": [
    "def raDec2thetaPhi(ra, dec):\n",
    "    return (0.5 * np.pi - np.deg2rad(dec)), (np.deg2rad(ra))"
   ]
  },
  {
   "cell_type": "code",
   "execution_count": null,
   "metadata": {
    "pycharm": {
     "name": "#%%\n"
    }
   },
   "outputs": [],
   "source": [
    "ra = df[\"RA\"].to_numpy(copy=True)\n",
    "dec = df[\"DEC\"].to_numpy(copy=True)\n",
    "\n",
    "theta, phi = raDec2thetaPhi(ra, dec)\n",
    "\n",
    "print(\"Number of stellar objects in Sample:\", len(ra))\n",
    "\n",
    "m = np.zeros(NPIX)\n",
    "pixel_indices = hp.ang2pix(NSIDE, theta,phi)\n",
    "\n",
    "# Finding out unique indices and how often they appear --> shows the density of Stars in this pixel\n",
    "(unique, counts) = np.unique(pixel_indices, return_counts=True)\n",
    "\n",
    "mean = counts.mean()\n",
    "print(\"Mean stellar objects per Pixel:\", mean)\n",
    "# Calculating Densities for every block\n",
    "density = (counts / mean) - 1\n",
    "\n",
    "m[unique] = density\n",
    "hp.mollview(m, title=\"Stellar Density\", norm=\"hist\",cmap=\"jet\")\n",
    "hp.graticule()"
   ]
  },
  {
   "cell_type": "code",
   "execution_count": null,
   "metadata": {
    "pycharm": {
     "name": "#%%\n"
    }
   },
   "outputs": [],
   "source": []
  },
  {
   "cell_type": "code",
   "execution_count": null,
   "metadata": {
    "pycharm": {
     "name": "#%%\n"
    }
   },
   "outputs": [],
   "source": []
  }
 ],
 "metadata": {
  "kernelspec": {
   "display_name": "Python 3",
   "language": "python",
   "name": "python3"
  },
  "language_info": {
   "codemirror_mode": {
    "name": "ipython",
    "version": 3
   },
   "file_extension": ".py",
   "mimetype": "text/x-python",
   "name": "python",
   "nbconvert_exporter": "python",
   "pygments_lexer": "ipython3",
   "version": "3.8.8"
  }
 },
 "nbformat": 4,
 "nbformat_minor": 1
}
