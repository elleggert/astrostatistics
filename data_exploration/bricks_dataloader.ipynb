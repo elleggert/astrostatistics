{
 "cells": [
  {
   "cell_type": "markdown",
   "metadata": {
    "collapsed": true,
    "pycharm": {
     "name": "#%% md\n"
    }
   },
   "source": [
    "# Notebook to get datafiles from the server\n",
    "\n"
   ]
  },
  {
   "cell_type": "code",
   "execution_count": 14,
   "outputs": [],
   "source": [
    "from astropy.io import fits\n",
    "import wget\n",
    "import numpy as np\n",
    "import random\n",
    "import os\n",
    "import pickle\n",
    "import time\n"
   ],
   "metadata": {
    "collapsed": false,
    "pycharm": {
     "name": "#%%\n"
    }
   }
  },
  {
   "cell_type": "code",
   "execution_count": 3,
   "outputs": [],
   "source": [
    "hdulistBricksSouthSummary = fits.open('../bricks_data/survey-bricks-dr9-south.fits')\n",
    "data_south = hdulistBricksSouthSummary[1].data\n",
    "brickname_south = data_south.field('brickname')\n",
    "brickid_south = data_south.field('brickid')\n",
    "survey_south = data_south.field('survey_primary')"
   ],
   "metadata": {
    "collapsed": false,
    "pycharm": {
     "name": "#%%\n"
    }
   }
  },
  {
   "cell_type": "code",
   "execution_count": 12,
   "outputs": [
    {
     "name": "stdout",
     "output_type": "stream",
     "text": [
      "10651\n"
     ]
    }
   ],
   "source": [
    "hdulistBricksNorthSummary = fits.open('../bricks_data/survey-bricks-dr9-north.fits')\n",
    "data_north = hdulistBricksNorthSummary[1].data\n",
    "brickname_north = data_north.field('brickname')\n",
    "brickid_north = data_north.field('brickid')\n",
    "survey_north = data_north.field('survey_primary')\n",
    "survey_north = np.invert(survey_north)\n",
    "print(survey_north.sum())"
   ],
   "metadata": {
    "collapsed": false,
    "pycharm": {
     "name": "#%%\n"
    }
   }
  },
  {
   "cell_type": "code",
   "execution_count": 13,
   "outputs": [
    {
     "name": "stdout",
     "output_type": "stream",
     "text": [
      "347206\n",
      "332041\n",
      "347206\n",
      "332041\n",
      "347206\n",
      "2\n"
     ]
    }
   ],
   "source": [
    "brickid_north_south = np.append(brickid_north, brickid_south)\n",
    "brickname_north_south = np.append(brickname_north, brickname_south)\n",
    "full_survey_south = np.append(survey_south, survey_north)\n"
   ],
   "metadata": {
    "collapsed": false,
    "pycharm": {
     "name": "#%%\n"
    }
   }
  },
  {
   "cell_type": "markdown",
   "source": [
    "Begin the actual loop to retrieve a given set of bricks --> split into north  and south for convenience\n",
    "\n"
   ],
   "metadata": {
    "collapsed": false,
    "pycharm": {
     "name": "#%% md\n"
    }
   }
  },
  {
   "cell_type": "code",
   "execution_count": null,
   "outputs": [
    {
     "name": "stdout",
     "output_type": "stream",
     "text": [
      "Bricks finished: 0  of 2000\n"
     ]
    }
   ],
   "source": [
    "### South Bricks\n",
    "start = time.time()\n",
    "\n",
    "bricknames_south_sample = []\n",
    "\n",
    "for brick in range(2000):\n",
    "    randomint = random.randint(0, len(brickname_south))\n",
    "    brickname = brickname_south[randomint]\n",
    "    brickid = brickid_south[randomint]\n",
    "\n",
    "    folder = brickname[:3]\n",
    "    url = f'https://portal.nersc.gov/cfs/cosmo/data/legacysurvey/dr9/south/tractor/{folder}/tractor-{brickname}.fits'\n",
    "    wget.download(url, '/Volumes/Astrostick/bricks_data/south/')\n",
    "\n",
    "    bricknames_south_sample.append(brickname)\n",
    "\n",
    "    if (brick % 100) == 0:\n",
    "        print(\"Bricks finished:\", brick, \" of 2000\")\n",
    "\n",
    "with open('bricknames_south_sample.pickle', 'wb') as f:\n",
    "        pickle.dump(bricknames_south_sample, f)\n",
    "        f.close()\n",
    "print (bricknames_south_sample)\n",
    "\n",
    "print(\"Time taken: \", time.time() - start)"
   ],
   "metadata": {
    "collapsed": false,
    "pycharm": {
     "name": "#%%\n",
     "is_executing": true
    }
   }
  },
  {
   "cell_type": "code",
   "execution_count": null,
   "outputs": [],
   "source": [
    "\n",
    "start = time.time()\n",
    "\n",
    "bricknames_north_sample = []\n",
    "\n",
    "for brick in range(1000):\n",
    "    randomint = random.randint(0, len(brickname_north))\n",
    "    brickname = brickname_north[randomint]\n",
    "    brickid = brickid_north[randomint]\n",
    "\n",
    "    folder = brickname[:3]\n",
    "    url = f'https://portal.nersc.gov/cfs/cosmo/data/legacysurvey/dr9/north/tractor/{folder}/tractor-{brickname}.fits'\n",
    "    wget.download(url, '/Volumes/Astrostick/bricks_data/north/')\n",
    "\n",
    "    bricknames_north_sample.append(brickname)\n",
    "\n",
    "    if (brick % 100) == 0:\n",
    "        print(\"Bricks north finished:\", brick, \" of 2000\")\n",
    "\n",
    "with open('bricknames_north_sample.pickle', 'wb') as f:\n",
    "        pickle.dump(bricknames_north_sample, f)\n",
    "        f.close()\n",
    "print (bricknames_north_sample)\n",
    "\n",
    "print(\"Time taken: \", time.time() - start)"
   ],
   "metadata": {
    "collapsed": false,
    "pycharm": {
     "name": "#%%\n"
    }
   }
  }
 ],
 "metadata": {
  "kernelspec": {
   "display_name": "Python 3",
   "language": "python",
   "name": "python3"
  },
  "language_info": {
   "codemirror_mode": {
    "name": "ipython",
    "version": 2
   },
   "file_extension": ".py",
   "mimetype": "text/x-python",
   "name": "python",
   "nbconvert_exporter": "python",
   "pygments_lexer": "ipython2",
   "version": "2.7.6"
  }
 },
 "nbformat": 4,
 "nbformat_minor": 0
}