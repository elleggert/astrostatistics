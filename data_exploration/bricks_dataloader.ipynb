{
 "cells": [
  {
   "cell_type": "markdown",
   "metadata": {
    "collapsed": true,
    "pycharm": {
     "name": "#%% md\n"
    }
   },
   "source": [
    "# Notebook to get datafiles from the server\n",
    "\n"
   ]
  },
  {
   "cell_type": "code",
   "execution_count": 14,
   "outputs": [],
   "source": [
    "from astropy.io import fits\n",
    "import wget\n",
    "import numpy as np\n",
    "import random\n",
    "import os\n",
    "import pickle\n",
    "import time\n"
   ],
   "metadata": {
    "collapsed": false,
    "pycharm": {
     "name": "#%%\n"
    }
   }
  },
  {
   "cell_type": "code",
   "execution_count": 3,
   "outputs": [],
   "source": [
    "hdulistBricksSouthSummary = fits.open('../bricks_data/survey-bricks-dr9-south.fits')\n",
    "data_south = hdulistBricksSouthSummary[1].data\n",
    "brickname_south = data_south.field('brickname')\n",
    "brickid_south = data_south.field('brickid')\n",
    "survey_south = data_south.field('survey_primary')"
   ],
   "metadata": {
    "collapsed": false,
    "pycharm": {
     "name": "#%%\n"
    }
   }
  },
  {
   "cell_type": "code",
   "execution_count": 12,
   "outputs": [
    {
     "name": "stdout",
     "output_type": "stream",
     "text": [
      "10651\n"
     ]
    }
   ],
   "source": [
    "hdulistBricksNorthSummary = fits.open('../bricks_data/survey-bricks-dr9-north.fits')\n",
    "data_north = hdulistBricksNorthSummary[1].data\n",
    "brickname_north = data_north.field('brickname')\n",
    "brickid_north = data_north.field('brickid')\n",
    "survey_north = data_north.field('survey_primary')\n",
    "survey_north = np.invert(survey_north)\n",
    "print(survey_north.sum())"
   ],
   "metadata": {
    "collapsed": false,
    "pycharm": {
     "name": "#%%\n"
    }
   }
  },
  {
   "cell_type": "code",
   "execution_count": 13,
   "outputs": [
    {
     "name": "stdout",
     "output_type": "stream",
     "text": [
      "347206\n",
      "332041\n",
      "347206\n",
      "332041\n",
      "347206\n",
      "2\n"
     ]
    }
   ],
   "source": [
    "brickid_north_south = np.append(brickid_north, brickid_south)\n",
    "brickname_north_south = np.append(brickname_north, brickname_south)\n",
    "full_survey_south = np.append(survey_south, survey_north)\n"
   ],
   "metadata": {
    "collapsed": false,
    "pycharm": {
     "name": "#%%\n"
    }
   }
  },
  {
   "cell_type": "markdown",
   "source": [
    "Begin the actual loop to retrieve a given set of bricks --> split into north  and south for convenience\n",
    "\n"
   ],
   "metadata": {
    "collapsed": false,
    "pycharm": {
     "name": "#%% md\n"
    }
   }
  },
  {
   "cell_type": "code",
   "execution_count": 19,
   "outputs": [
    {
     "name": "stdout",
     "output_type": "stream",
     "text": [
      "Bricks finished: 0  of 2000\n",
      "Bricks finished: 100  of 2000\n",
      "Bricks finished: 200  of 2000\n",
      "Bricks finished: 300  of 2000\n",
      "Bricks finished: 400  of 2000\n",
      "Bricks finished: 500  of 2000\n",
      "Bricks finished: 600  of 2000\n",
      "Bricks finished: 700  of 2000\n",
      "Bricks finished: 800  of 2000\n",
      "Bricks finished: 900  of 2000\n",
      "Bricks finished: 1000  of 2000\n"
     ]
    },
    {
     "ename": "OSError",
     "evalue": "[Errno 28] No space left on device: '/Users/edgareggert/astrostatistics/data_exploration/tractor-0046m020.fitszlzyi8e6.tmp' -> '/Volumes/Astrostick/bricks_data/south//tractor-0046m020.fits'",
     "output_type": "error",
     "traceback": [
      "\u001B[0;31m---------------------------------------------------------------------------\u001B[0m",
      "\u001B[0;31mOSError\u001B[0m                                   Traceback (most recent call last)",
      "\u001B[0;32m<ipython-input-19-3b56a7f608c2>\u001B[0m in \u001B[0;36m<module>\u001B[0;34m\u001B[0m\n\u001B[1;32m     11\u001B[0m     \u001B[0mfolder\u001B[0m \u001B[0;34m=\u001B[0m \u001B[0mbrickname\u001B[0m\u001B[0;34m[\u001B[0m\u001B[0;34m:\u001B[0m\u001B[0;36m3\u001B[0m\u001B[0;34m]\u001B[0m\u001B[0;34m\u001B[0m\u001B[0;34m\u001B[0m\u001B[0m\n\u001B[1;32m     12\u001B[0m     \u001B[0murl\u001B[0m \u001B[0;34m=\u001B[0m \u001B[0;34mf'https://portal.nersc.gov/cfs/cosmo/data/legacysurvey/dr9/south/tractor/{folder}/tractor-{brickname}.fits'\u001B[0m\u001B[0;34m\u001B[0m\u001B[0;34m\u001B[0m\u001B[0m\n\u001B[0;32m---> 13\u001B[0;31m     \u001B[0mwget\u001B[0m\u001B[0;34m.\u001B[0m\u001B[0mdownload\u001B[0m\u001B[0;34m(\u001B[0m\u001B[0murl\u001B[0m\u001B[0;34m,\u001B[0m \u001B[0;34m'/Volumes/Astrostick/bricks_data/south/'\u001B[0m\u001B[0;34m)\u001B[0m\u001B[0;34m\u001B[0m\u001B[0;34m\u001B[0m\u001B[0m\n\u001B[0m\u001B[1;32m     14\u001B[0m \u001B[0;34m\u001B[0m\u001B[0m\n\u001B[1;32m     15\u001B[0m     \u001B[0mbricknames_south_sample\u001B[0m\u001B[0;34m.\u001B[0m\u001B[0mappend\u001B[0m\u001B[0;34m(\u001B[0m\u001B[0mbrickname\u001B[0m\u001B[0;34m)\u001B[0m\u001B[0;34m\u001B[0m\u001B[0;34m\u001B[0m\u001B[0m\n",
      "\u001B[0;32m~/miniconda3/envs/astro/lib/python3.8/site-packages/wget.py\u001B[0m in \u001B[0;36mdownload\u001B[0;34m(url, out, bar)\u001B[0m\n\u001B[1;32m    532\u001B[0m     \u001B[0;32mif\u001B[0m \u001B[0mos\u001B[0m\u001B[0;34m.\u001B[0m\u001B[0mpath\u001B[0m\u001B[0;34m.\u001B[0m\u001B[0mexists\u001B[0m\u001B[0;34m(\u001B[0m\u001B[0mfilename\u001B[0m\u001B[0;34m)\u001B[0m\u001B[0;34m:\u001B[0m\u001B[0;34m\u001B[0m\u001B[0;34m\u001B[0m\u001B[0m\n\u001B[1;32m    533\u001B[0m         \u001B[0mfilename\u001B[0m \u001B[0;34m=\u001B[0m \u001B[0mfilename_fix_existing\u001B[0m\u001B[0;34m(\u001B[0m\u001B[0mfilename\u001B[0m\u001B[0;34m)\u001B[0m\u001B[0;34m\u001B[0m\u001B[0;34m\u001B[0m\u001B[0m\n\u001B[0;32m--> 534\u001B[0;31m     \u001B[0mshutil\u001B[0m\u001B[0;34m.\u001B[0m\u001B[0mmove\u001B[0m\u001B[0;34m(\u001B[0m\u001B[0mtmpfile\u001B[0m\u001B[0;34m,\u001B[0m \u001B[0mfilename\u001B[0m\u001B[0;34m)\u001B[0m\u001B[0;34m\u001B[0m\u001B[0;34m\u001B[0m\u001B[0m\n\u001B[0m\u001B[1;32m    535\u001B[0m \u001B[0;34m\u001B[0m\u001B[0m\n\u001B[1;32m    536\u001B[0m     \u001B[0;31m#print headers\u001B[0m\u001B[0;34m\u001B[0m\u001B[0;34m\u001B[0m\u001B[0;34m\u001B[0m\u001B[0m\n",
      "\u001B[0;32m~/miniconda3/envs/astro/lib/python3.8/shutil.py\u001B[0m in \u001B[0;36mmove\u001B[0;34m(src, dst, copy_function)\u001B[0m\n\u001B[1;32m    803\u001B[0m             \u001B[0mrmtree\u001B[0m\u001B[0;34m(\u001B[0m\u001B[0msrc\u001B[0m\u001B[0;34m)\u001B[0m\u001B[0;34m\u001B[0m\u001B[0;34m\u001B[0m\u001B[0m\n\u001B[1;32m    804\u001B[0m         \u001B[0;32melse\u001B[0m\u001B[0;34m:\u001B[0m\u001B[0;34m\u001B[0m\u001B[0;34m\u001B[0m\u001B[0m\n\u001B[0;32m--> 805\u001B[0;31m             \u001B[0mcopy_function\u001B[0m\u001B[0;34m(\u001B[0m\u001B[0msrc\u001B[0m\u001B[0;34m,\u001B[0m \u001B[0mreal_dst\u001B[0m\u001B[0;34m)\u001B[0m\u001B[0;34m\u001B[0m\u001B[0;34m\u001B[0m\u001B[0m\n\u001B[0m\u001B[1;32m    806\u001B[0m             \u001B[0mos\u001B[0m\u001B[0;34m.\u001B[0m\u001B[0munlink\u001B[0m\u001B[0;34m(\u001B[0m\u001B[0msrc\u001B[0m\u001B[0;34m)\u001B[0m\u001B[0;34m\u001B[0m\u001B[0;34m\u001B[0m\u001B[0m\n\u001B[1;32m    807\u001B[0m     \u001B[0;32mreturn\u001B[0m \u001B[0mreal_dst\u001B[0m\u001B[0;34m\u001B[0m\u001B[0;34m\u001B[0m\u001B[0m\n",
      "\u001B[0;32m~/miniconda3/envs/astro/lib/python3.8/shutil.py\u001B[0m in \u001B[0;36mcopy2\u001B[0;34m(src, dst, follow_symlinks)\u001B[0m\n\u001B[1;32m    433\u001B[0m     \u001B[0;32mif\u001B[0m \u001B[0mos\u001B[0m\u001B[0;34m.\u001B[0m\u001B[0mpath\u001B[0m\u001B[0;34m.\u001B[0m\u001B[0misdir\u001B[0m\u001B[0;34m(\u001B[0m\u001B[0mdst\u001B[0m\u001B[0;34m)\u001B[0m\u001B[0;34m:\u001B[0m\u001B[0;34m\u001B[0m\u001B[0;34m\u001B[0m\u001B[0m\n\u001B[1;32m    434\u001B[0m         \u001B[0mdst\u001B[0m \u001B[0;34m=\u001B[0m \u001B[0mos\u001B[0m\u001B[0;34m.\u001B[0m\u001B[0mpath\u001B[0m\u001B[0;34m.\u001B[0m\u001B[0mjoin\u001B[0m\u001B[0;34m(\u001B[0m\u001B[0mdst\u001B[0m\u001B[0;34m,\u001B[0m \u001B[0mos\u001B[0m\u001B[0;34m.\u001B[0m\u001B[0mpath\u001B[0m\u001B[0;34m.\u001B[0m\u001B[0mbasename\u001B[0m\u001B[0;34m(\u001B[0m\u001B[0msrc\u001B[0m\u001B[0;34m)\u001B[0m\u001B[0;34m)\u001B[0m\u001B[0;34m\u001B[0m\u001B[0;34m\u001B[0m\u001B[0m\n\u001B[0;32m--> 435\u001B[0;31m     \u001B[0mcopyfile\u001B[0m\u001B[0;34m(\u001B[0m\u001B[0msrc\u001B[0m\u001B[0;34m,\u001B[0m \u001B[0mdst\u001B[0m\u001B[0;34m,\u001B[0m \u001B[0mfollow_symlinks\u001B[0m\u001B[0;34m=\u001B[0m\u001B[0mfollow_symlinks\u001B[0m\u001B[0;34m)\u001B[0m\u001B[0;34m\u001B[0m\u001B[0;34m\u001B[0m\u001B[0m\n\u001B[0m\u001B[1;32m    436\u001B[0m     \u001B[0mcopystat\u001B[0m\u001B[0;34m(\u001B[0m\u001B[0msrc\u001B[0m\u001B[0;34m,\u001B[0m \u001B[0mdst\u001B[0m\u001B[0;34m,\u001B[0m \u001B[0mfollow_symlinks\u001B[0m\u001B[0;34m=\u001B[0m\u001B[0mfollow_symlinks\u001B[0m\u001B[0;34m)\u001B[0m\u001B[0;34m\u001B[0m\u001B[0;34m\u001B[0m\u001B[0m\n\u001B[1;32m    437\u001B[0m     \u001B[0;32mreturn\u001B[0m \u001B[0mdst\u001B[0m\u001B[0;34m\u001B[0m\u001B[0;34m\u001B[0m\u001B[0m\n",
      "\u001B[0;32m~/miniconda3/envs/astro/lib/python3.8/shutil.py\u001B[0m in \u001B[0;36mcopyfile\u001B[0;34m(src, dst, follow_symlinks)\u001B[0m\n\u001B[1;32m    266\u001B[0m             \u001B[0;32mif\u001B[0m \u001B[0m_HAS_FCOPYFILE\u001B[0m\u001B[0;34m:\u001B[0m\u001B[0;34m\u001B[0m\u001B[0;34m\u001B[0m\u001B[0m\n\u001B[1;32m    267\u001B[0m                 \u001B[0;32mtry\u001B[0m\u001B[0;34m:\u001B[0m\u001B[0;34m\u001B[0m\u001B[0;34m\u001B[0m\u001B[0m\n\u001B[0;32m--> 268\u001B[0;31m                     \u001B[0m_fastcopy_fcopyfile\u001B[0m\u001B[0;34m(\u001B[0m\u001B[0mfsrc\u001B[0m\u001B[0;34m,\u001B[0m \u001B[0mfdst\u001B[0m\u001B[0;34m,\u001B[0m \u001B[0mposix\u001B[0m\u001B[0;34m.\u001B[0m\u001B[0m_COPYFILE_DATA\u001B[0m\u001B[0;34m)\u001B[0m\u001B[0;34m\u001B[0m\u001B[0;34m\u001B[0m\u001B[0m\n\u001B[0m\u001B[1;32m    269\u001B[0m                     \u001B[0;32mreturn\u001B[0m \u001B[0mdst\u001B[0m\u001B[0;34m\u001B[0m\u001B[0;34m\u001B[0m\u001B[0m\n\u001B[1;32m    270\u001B[0m                 \u001B[0;32mexcept\u001B[0m \u001B[0m_GiveupOnFastCopy\u001B[0m\u001B[0;34m:\u001B[0m\u001B[0;34m\u001B[0m\u001B[0;34m\u001B[0m\u001B[0m\n",
      "\u001B[0;32m~/miniconda3/envs/astro/lib/python3.8/shutil.py\u001B[0m in \u001B[0;36m_fastcopy_fcopyfile\u001B[0;34m(fsrc, fdst, flags)\u001B[0m\n\u001B[1;32m    110\u001B[0m             \u001B[0;32mraise\u001B[0m \u001B[0m_GiveupOnFastCopy\u001B[0m\u001B[0;34m(\u001B[0m\u001B[0merr\u001B[0m\u001B[0;34m)\u001B[0m\u001B[0;34m\u001B[0m\u001B[0;34m\u001B[0m\u001B[0m\n\u001B[1;32m    111\u001B[0m         \u001B[0;32melse\u001B[0m\u001B[0;34m:\u001B[0m\u001B[0;34m\u001B[0m\u001B[0;34m\u001B[0m\u001B[0m\n\u001B[0;32m--> 112\u001B[0;31m             \u001B[0;32mraise\u001B[0m \u001B[0merr\u001B[0m \u001B[0;32mfrom\u001B[0m \u001B[0;32mNone\u001B[0m\u001B[0;34m\u001B[0m\u001B[0;34m\u001B[0m\u001B[0m\n\u001B[0m\u001B[1;32m    113\u001B[0m \u001B[0;34m\u001B[0m\u001B[0m\n\u001B[1;32m    114\u001B[0m \u001B[0;32mdef\u001B[0m \u001B[0m_fastcopy_sendfile\u001B[0m\u001B[0;34m(\u001B[0m\u001B[0mfsrc\u001B[0m\u001B[0;34m,\u001B[0m \u001B[0mfdst\u001B[0m\u001B[0;34m)\u001B[0m\u001B[0;34m:\u001B[0m\u001B[0;34m\u001B[0m\u001B[0;34m\u001B[0m\u001B[0m\n",
      "\u001B[0;32m~/miniconda3/envs/astro/lib/python3.8/shutil.py\u001B[0m in \u001B[0;36m_fastcopy_fcopyfile\u001B[0;34m(fsrc, fdst, flags)\u001B[0m\n\u001B[1;32m    103\u001B[0m \u001B[0;34m\u001B[0m\u001B[0m\n\u001B[1;32m    104\u001B[0m     \u001B[0;32mtry\u001B[0m\u001B[0;34m:\u001B[0m\u001B[0;34m\u001B[0m\u001B[0;34m\u001B[0m\u001B[0m\n\u001B[0;32m--> 105\u001B[0;31m         \u001B[0mposix\u001B[0m\u001B[0;34m.\u001B[0m\u001B[0m_fcopyfile\u001B[0m\u001B[0;34m(\u001B[0m\u001B[0minfd\u001B[0m\u001B[0;34m,\u001B[0m \u001B[0moutfd\u001B[0m\u001B[0;34m,\u001B[0m \u001B[0mflags\u001B[0m\u001B[0;34m)\u001B[0m\u001B[0;34m\u001B[0m\u001B[0;34m\u001B[0m\u001B[0m\n\u001B[0m\u001B[1;32m    106\u001B[0m     \u001B[0;32mexcept\u001B[0m \u001B[0mOSError\u001B[0m \u001B[0;32mas\u001B[0m \u001B[0merr\u001B[0m\u001B[0;34m:\u001B[0m\u001B[0;34m\u001B[0m\u001B[0;34m\u001B[0m\u001B[0m\n\u001B[1;32m    107\u001B[0m         \u001B[0merr\u001B[0m\u001B[0;34m.\u001B[0m\u001B[0mfilename\u001B[0m \u001B[0;34m=\u001B[0m \u001B[0mfsrc\u001B[0m\u001B[0;34m.\u001B[0m\u001B[0mname\u001B[0m\u001B[0;34m\u001B[0m\u001B[0;34m\u001B[0m\u001B[0m\n",
      "\u001B[0;31mOSError\u001B[0m: [Errno 28] No space left on device: '/Users/edgareggert/astrostatistics/data_exploration/tractor-0046m020.fitszlzyi8e6.tmp' -> '/Volumes/Astrostick/bricks_data/south//tractor-0046m020.fits'"
     ]
    }
   ],
   "source": [
    "### South Bricks\n",
    "start = time.time()\n",
    "\n",
    "for brick in range(1000):\n",
    "    randomint = random.randint(0, len(brickname_south))\n",
    "    brickname = brickname_south[randomint]\n",
    "    brickid = brickid_south[randomint]\n",
    "\n",
    "    folder = brickname[:3]\n",
    "    url = f'https://portal.nersc.gov/cfs/cosmo/data/legacysurvey/dr9/south/tractor/{folder}/tractor-{brickname}.fits'\n",
    "    wget.download(url, '/Volumes/Astrostick/bricks_data/south/')\n",
    "\n",
    "\n",
    "    if (brick % 100) == 0:\n",
    "        print(\"Bricks finished:\", brick)\n",
    "\n",
    "\n",
    "print(\"Time taken: \", time.time() - start)"
   ],
   "metadata": {
    "collapsed": false,
    "pycharm": {
     "name": "#%%\n"
    }
   }
  },
  {
   "cell_type": "code",
   "execution_count": null,
   "outputs": [],
   "source": [
    "\n",
    "start = time.time()\n",
    "\n",
    "for brick in range(1000):\n",
    "    randomint = random.randint(0, len(brickname_north))\n",
    "    brickname = brickname_north[randomint]\n",
    "    brickid = brickid_north[randomint]\n",
    "\n",
    "    folder = brickname[:3]\n",
    "    url = f'https://portal.nersc.gov/cfs/cosmo/data/legacysurvey/dr9/north/tractor/{folder}/tractor-{brickname}.fits'\n",
    "    wget.download(url, '/Volumes/Astrostick/bricks_data/north/')\n",
    "\n",
    "    if (brick % 100) == 0:\n",
    "        print(\"Bricks north finished:\", brick)\n",
    "\n",
    "\n",
    "print(\"Time taken: \", time.time() - start)"
   ],
   "metadata": {
    "collapsed": false,
    "pycharm": {
     "name": "#%%\n"
    }
   }
  },
  {
   "cell_type": "markdown",
   "source": [
    "### Cleaning up the stick overnight, removing all bricks data\n"
   ],
   "metadata": {
    "collapsed": false,
    "pycharm": {
     "name": "#%% md\n"
    }
   }
  },
  {
   "cell_type": "code",
   "execution_count": null,
   "outputs": [],
   "source": [
    "for filename in os.listdir('/Volumes/Astrostick/bricks_data/south/'):\n",
    "    os.remove(f'/Volumes/Astrostick/bricks_data/south/{filename}')\n",
    "\n",
    "for filename in os.listdir('/Volumes/Astrostick/bricks_data/north/'):\n",
    "    os.remove(f'/Volumes/Astrostick/bricks_data/north/{filename}')"
   ],
   "metadata": {
    "collapsed": false,
    "pycharm": {
     "name": "#%%\n"
    }
   }
  }
 ],
 "metadata": {
  "kernelspec": {
   "display_name": "Python 3",
   "language": "python",
   "name": "python3"
  },
  "language_info": {
   "codemirror_mode": {
    "name": "ipython",
    "version": 2
   },
   "file_extension": ".py",
   "mimetype": "text/x-python",
   "name": "python",
   "nbconvert_exporter": "python",
   "pygments_lexer": "ipython2",
   "version": "2.7.6"
  }
 },
 "nbformat": 4,
 "nbformat_minor": 0
}