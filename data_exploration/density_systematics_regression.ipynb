{
 "cells": [
  {
   "cell_type": "markdown",
   "metadata": {
    "collapsed": true,
    "pycharm": {
     "name": "#%% md\n"
    }
   },
   "source": [
    "### Attempting to run regressions from systematics values extracted geometrically or from Kitanidis et al on galaxy density\n"
   ]
  },
  {
   "cell_type": "code",
   "execution_count": 96,
   "metadata": {
    "pycharm": {
     "name": "#%%\n"
    }
   },
   "outputs": [],
   "source": [
    "import pandas as pd\n",
    "import numpy as np\n",
    "import pickle\n",
    "import healpy as hp\n",
    "import statsmodels.api as sm\n",
    "import matplotlib.pyplot as plt\n"
   ]
  },
  {
   "cell_type": "code",
   "execution_count": 97,
   "metadata": {
    "pycharm": {
     "name": "#%%\n"
    }
   },
   "outputs": [
    {
     "name": "stdout",
     "output_type": "stream",
     "text": [
      "Approximate resolution at NSIDE 256 is 0.23 deg\n"
     ]
    }
   ],
   "source": [
    "### Setting Healpy Information\n",
    "NSIDE = 256\n",
    "NPIX = hp.nside2npix(NSIDE)\n",
    "print(\n",
    "    \"Approximate resolution at NSIDE {} is {:.2} deg\".format(\n",
    "        NSIDE, hp.nside2resol(NSIDE, arcmin=True) / 60\n",
    "    )\n",
    ")\n",
    "\n",
    "def raDec2thetaPhi(ra, dec):\n",
    "    return (0.5 * np.pi - np.deg2rad(dec)), (np.deg2rad(ra))\n"
   ]
  },
  {
   "cell_type": "markdown",
   "metadata": {
    "pycharm": {
     "name": "#%% md\n"
    }
   },
   "source": [
    "### Importing Galaxy Density Information"
   ]
  },
  {
   "cell_type": "code",
   "execution_count": 98,
   "metadata": {
    "pycharm": {
     "name": "#%%\n"
    }
   },
   "outputs": [],
   "source": [
    "df_objects = pd.read_csv('../bricks_data/galaxy_catalogue.csv')\n"
   ]
  },
  {
   "cell_type": "code",
   "execution_count": 99,
   "metadata": {
    "pycharm": {
     "name": "#%%\n"
    }
   },
   "outputs": [
    {
     "data": {
      "text/plain": "   BrickID        RA        DEC  Target_type  Fitbits  Maskbits\n0   120312  5.165116 -39.411469            2        1         0\n1   120312  5.165771 -39.443575            3        1         0\n2   120312  5.167412 -39.552630            2        1         0\n3   120312  5.169102 -39.400914            3        1         0\n4   120312  5.169548 -39.533226            3        1         0",
      "text/html": "<div>\n<style scoped>\n    .dataframe tbody tr th:only-of-type {\n        vertical-align: middle;\n    }\n\n    .dataframe tbody tr th {\n        vertical-align: top;\n    }\n\n    .dataframe thead th {\n        text-align: right;\n    }\n</style>\n<table border=\"1\" class=\"dataframe\">\n  <thead>\n    <tr style=\"text-align: right;\">\n      <th></th>\n      <th>BrickID</th>\n      <th>RA</th>\n      <th>DEC</th>\n      <th>Target_type</th>\n      <th>Fitbits</th>\n      <th>Maskbits</th>\n    </tr>\n  </thead>\n  <tbody>\n    <tr>\n      <th>0</th>\n      <td>120312</td>\n      <td>5.165116</td>\n      <td>-39.411469</td>\n      <td>2</td>\n      <td>1</td>\n      <td>0</td>\n    </tr>\n    <tr>\n      <th>1</th>\n      <td>120312</td>\n      <td>5.165771</td>\n      <td>-39.443575</td>\n      <td>3</td>\n      <td>1</td>\n      <td>0</td>\n    </tr>\n    <tr>\n      <th>2</th>\n      <td>120312</td>\n      <td>5.167412</td>\n      <td>-39.552630</td>\n      <td>2</td>\n      <td>1</td>\n      <td>0</td>\n    </tr>\n    <tr>\n      <th>3</th>\n      <td>120312</td>\n      <td>5.169102</td>\n      <td>-39.400914</td>\n      <td>3</td>\n      <td>1</td>\n      <td>0</td>\n    </tr>\n    <tr>\n      <th>4</th>\n      <td>120312</td>\n      <td>5.169548</td>\n      <td>-39.533226</td>\n      <td>3</td>\n      <td>1</td>\n      <td>0</td>\n    </tr>\n  </tbody>\n</table>\n</div>"
     },
     "execution_count": 99,
     "metadata": {},
     "output_type": "execute_result"
    }
   ],
   "source": [
    "df_objects = df_objects.drop_duplicates()\n",
    "\n",
    "df_objects.head()"
   ]
  },
  {
   "cell_type": "code",
   "execution_count": 100,
   "metadata": {
    "pycharm": {
     "name": "#%%\n"
    }
   },
   "outputs": [
    {
     "name": "stdout",
     "output_type": "stream",
     "text": [
      "Number of LRGs in Sample: 4271038\n",
      "[  1564   1574   1577 ... 757955 758427 758428]\n",
      "Mean LRGs per Pixel: 14.987518115751318\n",
      "[[ 1.56400000e+03 -8.66555624e-01]\n",
      " [ 1.57400000e+03 -7.33111248e-01]\n",
      " [ 1.57700000e+03 -9.33277812e-01]\n",
      " ...\n",
      " [ 7.57955000e+05 -7.99833436e-01]\n",
      " [ 7.58427000e+05 -9.33277812e-01]\n",
      " [ 7.58428000e+05 -7.99833436e-01]]\n"
     ]
    },
    {
     "data": {
      "text/plain": "   pixel_id  lrg_density\n0      1564    -0.866556\n1      1574    -0.733111\n2      1577    -0.933278\n3      1668    -0.799833\n4      1669    -0.866556",
      "text/html": "<div>\n<style scoped>\n    .dataframe tbody tr th:only-of-type {\n        vertical-align: middle;\n    }\n\n    .dataframe tbody tr th {\n        vertical-align: top;\n    }\n\n    .dataframe thead th {\n        text-align: right;\n    }\n</style>\n<table border=\"1\" class=\"dataframe\">\n  <thead>\n    <tr style=\"text-align: right;\">\n      <th></th>\n      <th>pixel_id</th>\n      <th>lrg_density</th>\n    </tr>\n  </thead>\n  <tbody>\n    <tr>\n      <th>0</th>\n      <td>1564</td>\n      <td>-0.866556</td>\n    </tr>\n    <tr>\n      <th>1</th>\n      <td>1574</td>\n      <td>-0.733111</td>\n    </tr>\n    <tr>\n      <th>2</th>\n      <td>1577</td>\n      <td>-0.933278</td>\n    </tr>\n    <tr>\n      <th>3</th>\n      <td>1668</td>\n      <td>-0.799833</td>\n    </tr>\n    <tr>\n      <th>4</th>\n      <td>1669</td>\n      <td>-0.866556</td>\n    </tr>\n  </tbody>\n</table>\n</div>"
     },
     "execution_count": 100,
     "metadata": {},
     "output_type": "execute_result"
    }
   ],
   "source": [
    "# LRG\n",
    "\n",
    "df_LRG = df_objects[df_objects[\"Target_type\"] == 1]\n",
    "ra_LRG = df_LRG[\"RA\"].to_numpy(copy=True)\n",
    "dec_LRG = df_LRG[\"DEC\"].to_numpy(copy=True)\n",
    "theta, phi = raDec2thetaPhi(ra_LRG, dec_LRG)\n",
    "\n",
    "print(\"Number of LRGs in Sample:\", len(ra_LRG))\n",
    "\n",
    "LRG_pixel_indices = hp.ang2pix(NSIDE, theta,phi)\n",
    "\n",
    "\n",
    "# Finding out unique indices and how often they appear --> shows the density of LRGs in this pixel\n",
    "(unique, counts) = np.unique(LRG_pixel_indices, return_counts=True)\n",
    "\n",
    "print(unique)\n",
    "\n",
    "mean_LRG = counts.mean()\n",
    "print(\"Mean LRGs per Pixel:\", mean_LRG)\n",
    "# Calculating Densities for every block\n",
    "density_LRG = (counts / mean_LRG) - 1\n",
    "id_density = np.stack((unique, density_LRG), axis=1)\n",
    "print(id_density)\n",
    "df_lrg = pd.DataFrame(id_density, columns=['pixel_id', 'lrg_density'])\n",
    "df_lrg.pixel_id = df_lrg.pixel_id.astype(int)\n",
    "df_lrg.head()"
   ]
  },
  {
   "cell_type": "code",
   "execution_count": 101,
   "metadata": {
    "pycharm": {
     "name": "#%%\n"
    }
   },
   "outputs": [
    {
     "name": "stdout",
     "output_type": "stream",
     "text": [
      "Number of ELGs in Sample: 14963034\n",
      "[  1564   1574   1577 ... 758427 758428 758430]\n",
      "Mean ELGs per Pixel: 49.39322037255271\n",
      "[[ 1.56400000e+03 -9.19017226e-01]\n",
      " [ 1.57400000e+03 -9.59508613e-01]\n",
      " [ 1.57700000e+03 -8.58280146e-01]\n",
      " ...\n",
      " [ 7.58427000e+05 -8.78525839e-01]\n",
      " [ 7.58428000e+05 -7.77297372e-01]\n",
      " [ 7.58430000e+05 -8.78525839e-01]]\n",
      "   pixel_id  elg_density\n",
      "0      1564    -0.919017\n",
      "1      1574    -0.959509\n",
      "2      1577    -0.858280\n",
      "3      1668    -0.736806\n",
      "4      1669    -0.676069\n"
     ]
    }
   ],
   "source": [
    "# elg\n",
    "\n",
    "df_ELG = df_objects[df_objects[\"Target_type\"] == 2]\n",
    "ra_ELG = df_ELG[\"RA\"].to_numpy(copy=True)\n",
    "dec_ELG = df_ELG[\"DEC\"].to_numpy(copy=True)\n",
    "theta, phi = raDec2thetaPhi(ra_ELG, dec_ELG)\n",
    "\n",
    "print(\"Number of ELGs in Sample:\", len(ra_ELG))\n",
    "\n",
    "ELG_pixel_indices = hp.ang2pix(NSIDE, theta,phi)\n",
    "\n",
    "\n",
    "# Finding out unique indices and how often they appear --> shows the density of LRGs in this pixel\n",
    "(unique, counts) = np.unique(ELG_pixel_indices, return_counts=True)\n",
    "\n",
    "print(unique)\n",
    "\n",
    "mean_ELG = counts.mean()\n",
    "print(\"Mean ELGs per Pixel:\", mean_ELG)\n",
    "# Calculating Densities for every block\n",
    "density_ELG = (counts / mean_ELG) - 1\n",
    "id_density = np.stack((unique, density_ELG), axis=1)\n",
    "print(id_density)\n",
    "df_elg = pd.DataFrame(id_density, columns=['pixel_id', 'elg_density'])\n",
    "df_elg.pixel_id = df_elg.pixel_id.astype(int)\n",
    "\n",
    "print(df_elg.head())"
   ]
  },
  {
   "cell_type": "code",
   "execution_count": 102,
   "metadata": {
    "pycharm": {
     "name": "#%%\n"
    }
   },
   "outputs": [
    {
     "name": "stdout",
     "output_type": "stream",
     "text": [
      "Number of QSOs in Sample: 20596063\n",
      "[  1562   1563   1564 ... 758427 758428 758430]\n",
      "Mean QSOs per Pixel: 67.3102550108338\n",
      "[[ 1.56200000e+03 -9.70286846e-01]\n",
      " [ 1.56300000e+03 -9.40573691e-01]\n",
      " [ 1.56400000e+03 -8.81147382e-01]\n",
      " ...\n",
      " [ 7.58427000e+05 -8.81147382e-01]\n",
      " [ 7.58428000e+05 -9.10860537e-01]\n",
      " [ 7.58430000e+05 -9.40573691e-01]]\n",
      "   pixel_id  qso_density\n",
      "0      1562    -0.970287\n",
      "1      1563    -0.940574\n",
      "2      1564    -0.881147\n",
      "3      1574    -0.910861\n",
      "4      1577    -0.896004\n"
     ]
    }
   ],
   "source": [
    "df_QSO = df_objects[df_objects[\"Target_type\"] == 3]\n",
    "ra_QSO = df_QSO[\"RA\"].to_numpy(copy=True)\n",
    "dec_QSO = df_QSO[\"DEC\"].to_numpy(copy=True)\n",
    "theta, phi = raDec2thetaPhi(ra_QSO, dec_QSO)\n",
    "\n",
    "print(\"Number of QSOs in Sample:\", len(ra_QSO))\n",
    "\n",
    "QSO_pixel_indices = hp.ang2pix(NSIDE, theta,phi)\n",
    "\n",
    "\n",
    "# Finding out unique indices and how often they appear --> shows the density of LRGs in this pixel\n",
    "(unique, counts) = np.unique(QSO_pixel_indices, return_counts=True)\n",
    "\n",
    "print(unique)\n",
    "\n",
    "mean_QSO = counts.mean()\n",
    "print(\"Mean QSOs per Pixel:\", mean_QSO)\n",
    "# Calculating Densities for every block\n",
    "density_QSO = (counts / mean_QSO) - 1\n",
    "id_density = np.stack((unique, density_QSO), axis=1)\n",
    "print(id_density)\n",
    "df_qso = pd.DataFrame(id_density, columns=['pixel_id', 'qso_density'])\n",
    "df_qso.pixel_id = df_qso.pixel_id.astype(int)\n",
    "\n",
    "print(df_qso.head())"
   ]
  },
  {
   "cell_type": "code",
   "execution_count": 103,
   "metadata": {
    "pycharm": {
     "name": "#%%\n"
    }
   },
   "outputs": [
    {
     "name": "stdout",
     "output_type": "stream",
     "text": [
      "pixel_id           0\n",
      "lrg_density    24826\n",
      "elg_density     6862\n",
      "qso_density     3812\n",
      "dtype: int64\n",
      "(284973, 2) (302937, 2) (305987, 2) (309799, 4)\n"
     ]
    }
   ],
   "source": [
    "df = pd.merge(df_lrg, df_elg, how='outer', on='pixel_id')\n",
    "df = pd.merge(df, df_qso, how='outer', on='pixel_id')\n",
    "print(df.isna().sum())\n",
    "print(df_lrg.shape, df_elg.shape, df_qso.shape, df.shape)"
   ]
  },
  {
   "cell_type": "code",
   "execution_count": 104,
   "metadata": {
    "pycharm": {
     "name": "#%%\n"
    }
   },
   "outputs": [
    {
     "name": "stdout",
     "output_type": "stream",
     "text": [
      "pixel_id       0\n",
      "lrg_density    0\n",
      "elg_density    0\n",
      "qso_density    0\n",
      "dtype: int64\n"
     ]
    }
   ],
   "source": [
    "# Dropping all pixels where I do not have densities for all 3 types of galaxies\n",
    "df.dropna(axis=0, inplace=True)\n",
    "print(df.isna().sum())"
   ]
  },
  {
   "cell_type": "code",
   "execution_count": 105,
   "outputs": [
    {
     "name": "stdout",
     "output_type": "stream",
     "text": [
      "(282196, 4)\n"
     ]
    }
   ],
   "source": [
    "print( df.shape)\n"
   ],
   "metadata": {
    "collapsed": false,
    "pycharm": {
     "name": "#%%\n"
    }
   }
  },
  {
   "cell_type": "markdown",
   "metadata": {
    "pycharm": {
     "name": "#%% md\n"
    }
   },
   "source": [
    "### Importing the Systematics Values and Appending them to the df.\n"
   ]
  },
  {
   "cell_type": "markdown",
   "metadata": {
    "pycharm": {
     "name": "#%% md\n"
    }
   },
   "source": [
    "#### Stellar Density"
   ]
  },
  {
   "cell_type": "code",
   "execution_count": 106,
   "metadata": {
    "pycharm": {
     "name": "#%%\n"
    }
   },
   "outputs": [
    {
     "data": {
      "text/plain": "(4524152, 5)"
     },
     "execution_count": 106,
     "metadata": {},
     "output_type": "execute_result"
    }
   ],
   "source": [
    "df_stellar = pd.read_csv('../bricks_data/stellar_catalogue.csv')\n",
    "df_stellar.shape\n"
   ]
  },
  {
   "cell_type": "code",
   "execution_count": 107,
   "outputs": [
    {
     "data": {
      "text/plain": "<Figure size 432x288 with 2 Axes>",
      "image/png": "[encoded data removed]"
     },
     "metadata": {
      "needs_background": "light"
     },
     "output_type": "display_data"
    }
   ],
   "source": [
    "label_1 = 'RMAG'\n",
    "label_2 = 'GMAG'\n",
    "\n",
    "plt.hist2d(df_stellar[label_1], df_stellar[label_2], bins=1000, cmap='jet')\n",
    "plt.xlabel(label_1)\n",
    "plt.ylabel(label_2)\n",
    "plt.colorbar()\n",
    "plt.show()"
   ],
   "metadata": {
    "collapsed": false,
    "pycharm": {
     "name": "#%%\n"
    }
   }
  },
  {
   "cell_type": "code",
   "execution_count": 108,
   "outputs": [
    {
     "name": "stdout",
     "output_type": "stream",
     "text": [
      "(4524152, 5)\n"
     ]
    }
   ],
   "source": [
    "# REMOVING OUTLIERS\n",
    "print(df_stellar.shape)"
   ],
   "metadata": {
    "collapsed": false,
    "pycharm": {
     "name": "#%%\n"
    }
   }
  },
  {
   "cell_type": "code",
   "execution_count": 109,
   "outputs": [],
   "source": [
    "df_stellar['GMR'] = df_stellar['GMAG'] - df_stellar['RMAG']\n",
    "df_stellar['RMZ'] = df_stellar['RMAG'] - df_stellar['ZMAG']"
   ],
   "metadata": {
    "collapsed": false,
    "pycharm": {
     "name": "#%%\n"
    }
   }
  },
  {
   "cell_type": "code",
   "execution_count": 110,
   "outputs": [
    {
     "name": "stdout",
     "output_type": "stream",
     "text": [
      "(4357535, 7)\n"
     ]
    }
   ],
   "source": [
    "df_stellar = df_stellar[(df_stellar['GMAG'] > 15) & (df_stellar['GMAG'] < 30) ]\n",
    "df_stellar = df_stellar[(df_stellar['ZMAG'] > 15) & (df_stellar['ZMAG'] < 30) ]\n",
    "df_stellar = df_stellar[(df_stellar['GMR'] > -2) & (df_stellar['GMR'] < 4) ]\n",
    "df_stellar = df_stellar[(df_stellar['RMZ'] > -2) & (df_stellar['RMZ'] < 4) ]\n",
    "print(df_stellar.shape)\n"
   ],
   "metadata": {
    "collapsed": false,
    "pycharm": {
     "name": "#%%\n"
    }
   }
  },
  {
   "cell_type": "code",
   "execution_count": 111,
   "outputs": [
    {
     "data": {
      "text/plain": "<Figure size 432x288 with 2 Axes>",
      "image/png": "[encoded data removed]"
     },
     "metadata": {
      "needs_background": "light"
     },
     "output_type": "display_data"
    }
   ],
   "source": [
    "plt.hist2d(df_stellar[label_1], df_stellar[label_2], bins=1000, cmap='jet')\n",
    "plt.xlabel(label_1)\n",
    "plt.ylabel(label_2)\n",
    "plt.colorbar()\n",
    "plt.show()"
   ],
   "metadata": {
    "collapsed": false,
    "pycharm": {
     "name": "#%%\n"
    }
   }
  },
  {
   "cell_type": "code",
   "execution_count": null,
   "outputs": [],
   "source": [],
   "metadata": {
    "collapsed": false,
    "pycharm": {
     "name": "#%%\n"
    }
   }
  },
  {
   "cell_type": "code",
   "execution_count": 112,
   "outputs": [
    {
     "data": {
      "text/plain": "573    4373\n316    4373\n759    4373\n394    4372\n507    4372\n       ... \n754    4342\n760    4342\n368    4342\n351    4342\n653    4341\nName: percent_RMAG, Length: 1000, dtype: int64"
     },
     "execution_count": 112,
     "metadata": {},
     "output_type": "execute_result"
    }
   ],
   "source": [
    "#Dividing RMAG Column into 100 equally filled bins (assuming within the RMAG of 17-18 this is somewhat uniform)\n",
    "df_stellar['percent_RMAG'] = pd.qcut(df_stellar['RMAG'], q=1000, labels=False)\n",
    "df_stellar['percent_RMAG'].value_counts()\n"
   ],
   "metadata": {
    "collapsed": false,
    "pycharm": {
     "name": "#%%\n"
    }
   }
  },
  {
   "cell_type": "code",
   "execution_count": 113,
   "outputs": [],
   "source": [
    "#grouped = df.groupby('percent_RMAG', as_index=False).sem()\n",
    "grouped = df_stellar.groupby('percent_RMAG')\n",
    "zscore = lambda x: abs((x - x.median()) / x.std())\n",
    "df_stellar['Z_SCORE_RMZ'] = grouped['RMZ'].transform(zscore)\n",
    "df_stellar['Z_SCORE_GMR'] = grouped['GMR'].transform(zscore)"
   ],
   "metadata": {
    "collapsed": false,
    "pycharm": {
     "name": "#%%\n"
    }
   }
  },
  {
   "cell_type": "code",
   "execution_count": 114,
   "outputs": [
    {
     "data": {
      "text/plain": "(4357535, 12)"
     },
     "execution_count": 114,
     "metadata": {},
     "output_type": "execute_result"
    }
   ],
   "source": [
    "#Dividing RMAG Column into 100 equally filled bins (assuming within the RMAG of 17-18 this is somewhat uniform)\n",
    "df_stellar['percent_GMR'] = pd.qcut(df_stellar['GMR'], q=1000, labels=False)\n",
    "df_stellar['percent_RMZ'] = pd.qcut(df_stellar['RMZ'], q=1000, labels=False)\n",
    "df_stellar.shape"
   ],
   "metadata": {
    "collapsed": false,
    "pycharm": {
     "name": "#%%\n"
    }
   }
  },
  {
   "cell_type": "code",
   "execution_count": 115,
   "outputs": [],
   "source": [
    "#grouped = df.groupby('percent_RMAG', as_index=False).sem()\n",
    "grouped = df_stellar.groupby('percent_GMR')\n",
    "df_stellar['Z_SCORE_RMZ'] = grouped['RMZ'].transform(zscore)\n"
   ],
   "metadata": {
    "collapsed": false,
    "pycharm": {
     "name": "#%%\n"
    }
   }
  },
  {
   "cell_type": "code",
   "execution_count": 116,
   "outputs": [],
   "source": [
    "#grouped = df.groupby('percent_RMAG', as_index=False).sem()\n",
    "grouped = df_stellar.groupby('percent_RMZ')\n",
    "df_stellar['Z_SCORE_GMR'] = grouped['GMR'].transform(zscore)"
   ],
   "metadata": {
    "collapsed": false,
    "pycharm": {
     "name": "#%%\n"
    }
   }
  },
  {
   "cell_type": "code",
   "execution_count": 117,
   "outputs": [
    {
     "name": "stdout",
     "output_type": "stream",
     "text": [
      "(4357535, 12)\n",
      "(4325356, 12)\n"
     ]
    },
    {
     "data": {
      "text/plain": "(4306587, 12)"
     },
     "execution_count": 117,
     "metadata": {},
     "output_type": "execute_result"
    }
   ],
   "source": [
    "print(df_stellar.shape)\n",
    "df_stellar = df_stellar[(df_stellar['Z_SCORE_GMR'] < 3)]\n",
    "print(df_stellar.shape)\n",
    "df_stellar = df_stellar[(df_stellar['Z_SCORE_RMZ'] < 3)]\n",
    "df_stellar.shape"
   ],
   "metadata": {
    "collapsed": false,
    "pycharm": {
     "name": "#%%\n"
    }
   }
  },
  {
   "cell_type": "code",
   "execution_count": 118,
   "outputs": [
    {
     "data": {
      "text/plain": "<Figure size 432x288 with 2 Axes>",
      "image/png": "[encoded data removed]"
     },
     "metadata": {
      "needs_background": "light"
     },
     "output_type": "display_data"
    }
   ],
   "source": [
    "label_1 = 'GMR'\n",
    "label_2 = 'RMZ'\n",
    "\n",
    "plt.hist2d(df_stellar[label_1], df_stellar[label_2], bins=1000, cmap='jet')\n",
    "plt.xlabel(label_1)\n",
    "plt.ylabel(label_2)\n",
    "plt.colorbar()\n",
    "plt.show()"
   ],
   "metadata": {
    "collapsed": false,
    "pycharm": {
     "name": "#%%\n"
    }
   }
  },
  {
   "cell_type": "code",
   "execution_count": 119,
   "outputs": [
    {
     "name": "stdout",
     "output_type": "stream",
     "text": [
      "Number of stellars in Sample: 4306587\n",
      "[  1562   1574   1577 ... 757954 757955 758427]\n",
      "Mean stellars per Pixel: 15.356262368735402\n",
      "[[ 1.56200000e+03 -9.34879987e-01]\n",
      " [ 1.57400000e+03 -8.04639962e-01]\n",
      " [ 1.57700000e+03 -9.34879987e-01]\n",
      " ...\n",
      " [ 7.57954000e+05 -5.44159911e-01]\n",
      " [ 7.57955000e+05 -7.39519949e-01]\n",
      " [ 7.58427000e+05 -8.69759975e-01]]\n",
      "   pixel_id  stellar_density\n",
      "0      1562         -0.93488\n",
      "1      1574         -0.80464\n",
      "2      1577         -0.93488\n",
      "3      1673         -0.73952\n",
      "4      1675         -0.15344\n",
      "pixel_id           0\n",
      "stellar_density    0\n",
      "dtype: int64\n"
     ]
    }
   ],
   "source": [
    "ra_stellar = df_stellar[\"RA\"].to_numpy(copy=True)\n",
    "dec_stellar = df_stellar[\"DEC\"].to_numpy(copy=True)\n",
    "theta, phi = raDec2thetaPhi(ra_stellar, dec_stellar)\n",
    "\n",
    "print(\"Number of stellars in Sample:\", len(ra_stellar))\n",
    "\n",
    "stellar_pixel_indices = hp.ang2pix(NSIDE, theta,phi)\n",
    "\n",
    "\n",
    "# Finding out unique indices and how often they appear --> shows the density of LRGs in this pixel\n",
    "(unique, counts) = np.unique(stellar_pixel_indices, return_counts=True)\n",
    "\n",
    "print(unique)\n",
    "\n",
    "mean_stellar = counts.mean()\n",
    "print(\"Mean stellars per Pixel:\", mean_stellar)\n",
    "# Calculating Densities for every block\n",
    "density_stellar = (counts / mean_stellar) - 1\n",
    "id_density = np.stack((unique, density_stellar), axis=1)\n",
    "print(id_density)\n",
    "df_stellar = pd.DataFrame(id_density, columns=['pixel_id', 'stellar_density'])\n",
    "df_stellar.pixel_id = df_stellar.pixel_id.astype(int)\n",
    "\n",
    "print(df_stellar.head())\n",
    "\n",
    "print(df_stellar.isna().sum())"
   ],
   "metadata": {
    "collapsed": false,
    "pycharm": {
     "name": "#%%\n"
    }
   }
  },
  {
   "cell_type": "code",
   "execution_count": 120,
   "metadata": {
    "pycharm": {
     "name": "#%%\n"
    }
   },
   "outputs": [
    {
     "name": "stdout",
     "output_type": "stream",
     "text": [
      "pixel_id           0\n",
      "lrg_density        0\n",
      "elg_density        0\n",
      "qso_density        0\n",
      "stellar_density    0\n",
      "dtype: int64\n"
     ]
    },
    {
     "data": {
      "text/plain": "(268108, 5)"
     },
     "execution_count": 120,
     "metadata": {},
     "output_type": "execute_result"
    }
   ],
   "source": [
    "df = df.merge(df_stellar, how='inner', on='pixel_id')\n",
    "print(df.isna().sum())\n",
    "df.shape"
   ]
  },
  {
   "cell_type": "markdown",
   "metadata": {
    "pycharm": {
     "name": "#%% md\n"
    }
   },
   "source": [
    "#### Kitanidis Systematics Values"
   ]
  },
  {
   "cell_type": "code",
   "execution_count": 12,
   "metadata": {
    "pycharm": {
     "name": "#%%\n"
    }
   },
   "outputs": [
    {
     "name": "stdout",
     "output_type": "stream",
     "text": [
      "1567\n"
     ]
    }
   ],
   "source": [
    "with open('../bricks_data/pixel2systematics_kitanidis.pickle', 'rb') as f:\n",
    "    kitanidis_dict = pickle.load(f)\n",
    "    f.close()\n",
    "\n",
    "print(len(kitanidis_dict.keys()))"
   ]
  },
  {
   "cell_type": "code",
   "execution_count": 13,
   "metadata": {
    "pycharm": {
     "name": "#%%\n"
    }
   },
   "outputs": [],
   "source": [
    "pixel_keys = kitanidis_dict.keys()\n",
    "\n",
    "sys_list = []\n",
    "for key in pixel_keys:\n",
    "    ind_sys_list = kitanidis_dict[key]\n",
    "    ind_sys_list.append(key)\n",
    "    sys_list.append(ind_sys_list)\n",
    "\n",
    "df_sys_kit = pd.DataFrame(sys_list, columns=['airmass_galaxy',\n",
    "'fwhm_galaxy',\n",
    "'ebv_galaxy',\n",
    "'ccdnphotom_galaxy',\n",
    "\n",
    "'ccdskysb_galaxy_g',\n",
    "'ccdskysb_galaxy_r',\n",
    "'ccdskysb_galaxy_z',\n",
    "'exptime_galaxy_g',\n",
    "'exptime_galaxy_r',\n",
    "'exptime_galaxy_z',\n",
    "'meansky_galaxy_g',\n",
    "'meansky_galaxy_r',\n",
    "'meansky_galaxy_z',\n",
    "'galdepth_galaxy_g',\n",
    "'galdepth_galaxy_r',\n",
    "'galdepth_galaxy_z', 'pixel_id'])\n",
    "\n"
   ]
  },
  {
   "cell_type": "code",
   "execution_count": 14,
   "metadata": {
    "pycharm": {
     "name": "#%%\n"
    }
   },
   "outputs": [
    {
     "data": {
      "text/html": [
       "<div>\n",
       "<style scoped>\n",
       "    .dataframe tbody tr th:only-of-type {\n",
       "        vertical-align: middle;\n",
       "    }\n",
       "\n",
       "    .dataframe tbody tr th {\n",
       "        vertical-align: top;\n",
       "    }\n",
       "\n",
       "    .dataframe thead th {\n",
       "        text-align: right;\n",
       "    }\n",
       "</style>\n",
       "<table border=\"1\" class=\"dataframe\">\n",
       "  <thead>\n",
       "    <tr style=\"text-align: right;\">\n",
       "      <th></th>\n",
       "      <th>airmass_galaxy</th>\n",
       "      <th>fwhm_galaxy</th>\n",
       "      <th>ebv_galaxy</th>\n",
       "      <th>ccdnphotom_galaxy</th>\n",
       "      <th>ccdskysb_galaxy_g</th>\n",
       "      <th>ccdskysb_galaxy_r</th>\n",
       "      <th>ccdskysb_galaxy_z</th>\n",
       "      <th>exptime_galaxy_g</th>\n",
       "      <th>exptime_galaxy_r</th>\n",
       "      <th>exptime_galaxy_z</th>\n",
       "      <th>meansky_galaxy_g</th>\n",
       "      <th>meansky_galaxy_r</th>\n",
       "      <th>meansky_galaxy_z</th>\n",
       "      <th>galdepth_galaxy_g</th>\n",
       "      <th>galdepth_galaxy_r</th>\n",
       "      <th>galdepth_galaxy_z</th>\n",
       "      <th>pixel_id</th>\n",
       "    </tr>\n",
       "  </thead>\n",
       "  <tbody>\n",
       "    <tr>\n",
       "      <th>0</th>\n",
       "      <td>1.204206</td>\n",
       "      <td>4.569465</td>\n",
       "      <td>0.021082</td>\n",
       "      <td>273.100211</td>\n",
       "      <td>23.627050</td>\n",
       "      <td>22.730956</td>\n",
       "      <td>20.206251</td>\n",
       "      <td>90.0</td>\n",
       "      <td>90.0</td>\n",
       "      <td>90.0</td>\n",
       "      <td>2.390975e+08</td>\n",
       "      <td>6.489436e+08</td>\n",
       "      <td>2.384546e+09</td>\n",
       "      <td>23.111424</td>\n",
       "      <td>23.139025</td>\n",
       "      <td>22.097923</td>\n",
       "      <td>741107</td>\n",
       "    </tr>\n",
       "    <tr>\n",
       "      <th>1</th>\n",
       "      <td>1.069105</td>\n",
       "      <td>4.824085</td>\n",
       "      <td>0.010359</td>\n",
       "      <td>148.191320</td>\n",
       "      <td>23.601375</td>\n",
       "      <td>22.732608</td>\n",
       "      <td>20.000021</td>\n",
       "      <td>90.0</td>\n",
       "      <td>90.0</td>\n",
       "      <td>90.0</td>\n",
       "      <td>1.803126e+08</td>\n",
       "      <td>2.993781e+08</td>\n",
       "      <td>2.225294e+10</td>\n",
       "      <td>23.353823</td>\n",
       "      <td>23.320494</td>\n",
       "      <td>21.550398</td>\n",
       "      <td>662895</td>\n",
       "    </tr>\n",
       "    <tr>\n",
       "      <th>2</th>\n",
       "      <td>1.108757</td>\n",
       "      <td>4.413348</td>\n",
       "      <td>0.011393</td>\n",
       "      <td>154.348513</td>\n",
       "      <td>23.602864</td>\n",
       "      <td>22.701580</td>\n",
       "      <td>20.073285</td>\n",
       "      <td>90.0</td>\n",
       "      <td>90.0</td>\n",
       "      <td>90.0</td>\n",
       "      <td>2.952632e+08</td>\n",
       "      <td>8.687714e+08</td>\n",
       "      <td>1.152634e+10</td>\n",
       "      <td>23.062541</td>\n",
       "      <td>22.892199</td>\n",
       "      <td>21.675296</td>\n",
       "      <td>662913</td>\n",
       "    </tr>\n",
       "    <tr>\n",
       "      <th>3</th>\n",
       "      <td>1.104669</td>\n",
       "      <td>4.394738</td>\n",
       "      <td>0.011230</td>\n",
       "      <td>153.649709</td>\n",
       "      <td>23.613133</td>\n",
       "      <td>22.710532</td>\n",
       "      <td>20.111641</td>\n",
       "      <td>90.0</td>\n",
       "      <td>90.0</td>\n",
       "      <td>90.0</td>\n",
       "      <td>2.446651e+08</td>\n",
       "      <td>9.609978e+08</td>\n",
       "      <td>8.914973e+09</td>\n",
       "      <td>23.186001</td>\n",
       "      <td>22.788259</td>\n",
       "      <td>21.786543</td>\n",
       "      <td>663905</td>\n",
       "    </tr>\n",
       "    <tr>\n",
       "      <th>4</th>\n",
       "      <td>1.107077</td>\n",
       "      <td>4.439277</td>\n",
       "      <td>0.014093</td>\n",
       "      <td>150.531232</td>\n",
       "      <td>23.583476</td>\n",
       "      <td>22.647124</td>\n",
       "      <td>20.197871</td>\n",
       "      <td>90.0</td>\n",
       "      <td>90.0</td>\n",
       "      <td>90.0</td>\n",
       "      <td>3.645015e+08</td>\n",
       "      <td>6.979010e+08</td>\n",
       "      <td>9.072512e+09</td>\n",
       "      <td>22.836915</td>\n",
       "      <td>23.042679</td>\n",
       "      <td>21.724951</td>\n",
       "      <td>652792</td>\n",
       "    </tr>\n",
       "  </tbody>\n",
       "</table>\n",
       "</div>"
      ],
      "text/plain": [
       "   airmass_galaxy  fwhm_galaxy  ebv_galaxy  ccdnphotom_galaxy  \\\n",
       "0        1.204206     4.569465    0.021082         273.100211   \n",
       "1        1.069105     4.824085    0.010359         148.191320   \n",
       "2        1.108757     4.413348    0.011393         154.348513   \n",
       "3        1.104669     4.394738    0.011230         153.649709   \n",
       "4        1.107077     4.439277    0.014093         150.531232   \n",
       "\n",
       "   ccdskysb_galaxy_g  ccdskysb_galaxy_r  ccdskysb_galaxy_z  exptime_galaxy_g  \\\n",
       "0          23.627050          22.730956          20.206251              90.0   \n",
       "1          23.601375          22.732608          20.000021              90.0   \n",
       "2          23.602864          22.701580          20.073285              90.0   \n",
       "3          23.613133          22.710532          20.111641              90.0   \n",
       "4          23.583476          22.647124          20.197871              90.0   \n",
       "\n",
       "   exptime_galaxy_r  exptime_galaxy_z  meansky_galaxy_g  meansky_galaxy_r  \\\n",
       "0              90.0              90.0      2.390975e+08      6.489436e+08   \n",
       "1              90.0              90.0      1.803126e+08      2.993781e+08   \n",
       "2              90.0              90.0      2.952632e+08      8.687714e+08   \n",
       "3              90.0              90.0      2.446651e+08      9.609978e+08   \n",
       "4              90.0              90.0      3.645015e+08      6.979010e+08   \n",
       "\n",
       "   meansky_galaxy_z  galdepth_galaxy_g  galdepth_galaxy_r  galdepth_galaxy_z  \\\n",
       "0      2.384546e+09          23.111424          23.139025          22.097923   \n",
       "1      2.225294e+10          23.353823          23.320494          21.550398   \n",
       "2      1.152634e+10          23.062541          22.892199          21.675296   \n",
       "3      8.914973e+09          23.186001          22.788259          21.786543   \n",
       "4      9.072512e+09          22.836915          23.042679          21.724951   \n",
       "\n",
       "   pixel_id  \n",
       "0    741107  \n",
       "1    662895  \n",
       "2    662913  \n",
       "3    663905  \n",
       "4    652792  "
      ]
     },
     "execution_count": 14,
     "metadata": {},
     "output_type": "execute_result"
    }
   ],
   "source": [
    "df_sys_kit.head()"
   ]
  },
  {
   "cell_type": "code",
   "execution_count": 15,
   "metadata": {
    "pycharm": {
     "name": "#%%\n"
    }
   },
   "outputs": [
    {
     "name": "stdout",
     "output_type": "stream",
     "text": [
      "pixel_id             0\n",
      "lrg_density          0\n",
      "elg_density          0\n",
      "qso_density          0\n",
      "stellar_density      0\n",
      "airmass_galaxy       0\n",
      "fwhm_galaxy          0\n",
      "ebv_galaxy           0\n",
      "ccdnphotom_galaxy    0\n",
      "ccdskysb_galaxy_g    3\n",
      "ccdskysb_galaxy_r    0\n",
      "ccdskysb_galaxy_z    0\n",
      "exptime_galaxy_g     0\n",
      "exptime_galaxy_r     0\n",
      "exptime_galaxy_z     0\n",
      "meansky_galaxy_g     0\n",
      "meansky_galaxy_r     0\n",
      "meansky_galaxy_z     0\n",
      "galdepth_galaxy_g    0\n",
      "galdepth_galaxy_r    0\n",
      "galdepth_galaxy_z    0\n",
      "dtype: int64\n"
     ]
    },
    {
     "data": {
      "text/html": [
       "<div>\n",
       "<style scoped>\n",
       "    .dataframe tbody tr th:only-of-type {\n",
       "        vertical-align: middle;\n",
       "    }\n",
       "\n",
       "    .dataframe tbody tr th {\n",
       "        vertical-align: top;\n",
       "    }\n",
       "\n",
       "    .dataframe thead th {\n",
       "        text-align: right;\n",
       "    }\n",
       "</style>\n",
       "<table border=\"1\" class=\"dataframe\">\n",
       "  <thead>\n",
       "    <tr style=\"text-align: right;\">\n",
       "      <th></th>\n",
       "      <th>pixel_id</th>\n",
       "      <th>lrg_density</th>\n",
       "      <th>elg_density</th>\n",
       "      <th>qso_density</th>\n",
       "      <th>stellar_density</th>\n",
       "      <th>airmass_galaxy</th>\n",
       "      <th>fwhm_galaxy</th>\n",
       "      <th>ebv_galaxy</th>\n",
       "      <th>ccdnphotom_galaxy</th>\n",
       "      <th>ccdskysb_galaxy_g</th>\n",
       "      <th>...</th>\n",
       "      <th>ccdskysb_galaxy_z</th>\n",
       "      <th>exptime_galaxy_g</th>\n",
       "      <th>exptime_galaxy_r</th>\n",
       "      <th>exptime_galaxy_z</th>\n",
       "      <th>meansky_galaxy_g</th>\n",
       "      <th>meansky_galaxy_r</th>\n",
       "      <th>meansky_galaxy_z</th>\n",
       "      <th>galdepth_galaxy_g</th>\n",
       "      <th>galdepth_galaxy_r</th>\n",
       "      <th>galdepth_galaxy_z</th>\n",
       "    </tr>\n",
       "  </thead>\n",
       "  <tbody>\n",
       "    <tr>\n",
       "      <th>0</th>\n",
       "      <td>172191</td>\n",
       "      <td>0.509522</td>\n",
       "      <td>1.180820</td>\n",
       "      <td>0.787620</td>\n",
       "      <td>-0.279689</td>\n",
       "      <td>1.615369</td>\n",
       "      <td>4.563708</td>\n",
       "      <td>0.027940</td>\n",
       "      <td>617.485215</td>\n",
       "      <td>23.461968</td>\n",
       "      <td>...</td>\n",
       "      <td>19.328887</td>\n",
       "      <td>143.100496</td>\n",
       "      <td>139.892237</td>\n",
       "      <td>122.275265</td>\n",
       "      <td>0.199914</td>\n",
       "      <td>0.920791</td>\n",
       "      <td>2.869334</td>\n",
       "      <td>23.626332</td>\n",
       "      <td>22.942529</td>\n",
       "      <td>22.215109</td>\n",
       "    </tr>\n",
       "    <tr>\n",
       "      <th>1</th>\n",
       "      <td>173250</td>\n",
       "      <td>1.817774</td>\n",
       "      <td>2.133008</td>\n",
       "      <td>1.410579</td>\n",
       "      <td>1.263834</td>\n",
       "      <td>1.551244</td>\n",
       "      <td>4.652137</td>\n",
       "      <td>0.022238</td>\n",
       "      <td>997.009628</td>\n",
       "      <td>23.454327</td>\n",
       "      <td>...</td>\n",
       "      <td>19.084433</td>\n",
       "      <td>158.096504</td>\n",
       "      <td>82.525712</td>\n",
       "      <td>165.945433</td>\n",
       "      <td>0.203127</td>\n",
       "      <td>0.499488</td>\n",
       "      <td>3.490955</td>\n",
       "      <td>23.604491</td>\n",
       "      <td>22.966942</td>\n",
       "      <td>22.331463</td>\n",
       "    </tr>\n",
       "    <tr>\n",
       "      <th>2</th>\n",
       "      <td>174071</td>\n",
       "      <td>0.106983</td>\n",
       "      <td>0.750799</td>\n",
       "      <td>0.191747</td>\n",
       "      <td>-0.794197</td>\n",
       "      <td>1.406610</td>\n",
       "      <td>4.458577</td>\n",
       "      <td>0.018477</td>\n",
       "      <td>367.511248</td>\n",
       "      <td>23.441590</td>\n",
       "      <td>...</td>\n",
       "      <td>19.497361</td>\n",
       "      <td>128.317445</td>\n",
       "      <td>87.744524</td>\n",
       "      <td>106.219834</td>\n",
       "      <td>0.213351</td>\n",
       "      <td>0.564238</td>\n",
       "      <td>1.995409</td>\n",
       "      <td>23.598964</td>\n",
       "      <td>22.922293</td>\n",
       "      <td>22.342016</td>\n",
       "    </tr>\n",
       "    <tr>\n",
       "      <th>3</th>\n",
       "      <td>174554</td>\n",
       "      <td>0.106983</td>\n",
       "      <td>0.658651</td>\n",
       "      <td>0.083406</td>\n",
       "      <td>0.955130</td>\n",
       "      <td>2.301381</td>\n",
       "      <td>6.055535</td>\n",
       "      <td>0.131243</td>\n",
       "      <td>459.871429</td>\n",
       "      <td>23.432264</td>\n",
       "      <td>...</td>\n",
       "      <td>19.849928</td>\n",
       "      <td>200.000000</td>\n",
       "      <td>124.000000</td>\n",
       "      <td>221.028571</td>\n",
       "      <td>0.126744</td>\n",
       "      <td>0.333307</td>\n",
       "      <td>3.754301</td>\n",
       "      <td>24.007800</td>\n",
       "      <td>23.363166</td>\n",
       "      <td>22.229356</td>\n",
       "    </tr>\n",
       "    <tr>\n",
       "      <th>4</th>\n",
       "      <td>175096</td>\n",
       "      <td>1.515870</td>\n",
       "      <td>3.146629</td>\n",
       "      <td>1.329324</td>\n",
       "      <td>-0.485492</td>\n",
       "      <td>1.440663</td>\n",
       "      <td>4.587659</td>\n",
       "      <td>0.018841</td>\n",
       "      <td>373.382383</td>\n",
       "      <td>23.452281</td>\n",
       "      <td>...</td>\n",
       "      <td>19.589021</td>\n",
       "      <td>128.873803</td>\n",
       "      <td>83.743415</td>\n",
       "      <td>107.265548</td>\n",
       "      <td>0.293171</td>\n",
       "      <td>0.540003</td>\n",
       "      <td>6.617020</td>\n",
       "      <td>23.605227</td>\n",
       "      <td>22.900591</td>\n",
       "      <td>22.310904</td>\n",
       "    </tr>\n",
       "  </tbody>\n",
       "</table>\n",
       "<p>5 rows × 21 columns</p>\n",
       "</div>"
      ],
      "text/plain": [
       "   pixel_id  lrg_density  elg_density  qso_density  stellar_density  \\\n",
       "0    172191     0.509522     1.180820     0.787620        -0.279689   \n",
       "1    173250     1.817774     2.133008     1.410579         1.263834   \n",
       "2    174071     0.106983     0.750799     0.191747        -0.794197   \n",
       "3    174554     0.106983     0.658651     0.083406         0.955130   \n",
       "4    175096     1.515870     3.146629     1.329324        -0.485492   \n",
       "\n",
       "   airmass_galaxy  fwhm_galaxy  ebv_galaxy  ccdnphotom_galaxy  \\\n",
       "0        1.615369     4.563708    0.027940         617.485215   \n",
       "1        1.551244     4.652137    0.022238         997.009628   \n",
       "2        1.406610     4.458577    0.018477         367.511248   \n",
       "3        2.301381     6.055535    0.131243         459.871429   \n",
       "4        1.440663     4.587659    0.018841         373.382383   \n",
       "\n",
       "   ccdskysb_galaxy_g  ...  ccdskysb_galaxy_z  exptime_galaxy_g  \\\n",
       "0          23.461968  ...          19.328887        143.100496   \n",
       "1          23.454327  ...          19.084433        158.096504   \n",
       "2          23.441590  ...          19.497361        128.317445   \n",
       "3          23.432264  ...          19.849928        200.000000   \n",
       "4          23.452281  ...          19.589021        128.873803   \n",
       "\n",
       "   exptime_galaxy_r  exptime_galaxy_z  meansky_galaxy_g  meansky_galaxy_r  \\\n",
       "0        139.892237        122.275265          0.199914          0.920791   \n",
       "1         82.525712        165.945433          0.203127          0.499488   \n",
       "2         87.744524        106.219834          0.213351          0.564238   \n",
       "3        124.000000        221.028571          0.126744          0.333307   \n",
       "4         83.743415        107.265548          0.293171          0.540003   \n",
       "\n",
       "   meansky_galaxy_z  galdepth_galaxy_g  galdepth_galaxy_r  galdepth_galaxy_z  \n",
       "0          2.869334          23.626332          22.942529          22.215109  \n",
       "1          3.490955          23.604491          22.966942          22.331463  \n",
       "2          1.995409          23.598964          22.922293          22.342016  \n",
       "3          3.754301          24.007800          23.363166          22.229356  \n",
       "4          6.617020          23.605227          22.900591          22.310904  \n",
       "\n",
       "[5 rows x 21 columns]"
      ]
     },
     "execution_count": 15,
     "metadata": {},
     "output_type": "execute_result"
    }
   ],
   "source": [
    "df_kitanidis = df.merge(df_sys_kit, how='inner', on='pixel_id')\n",
    "print(df_kitanidis.isna().sum())\n",
    "df_kitanidis.dropna(axis=0, inplace=True)\n",
    "\n",
    "df_kitanidis.head()\n"
   ]
  },
  {
   "cell_type": "code",
   "execution_count": 16,
   "metadata": {
    "pycharm": {
     "name": "#%%\n"
    }
   },
   "outputs": [
    {
     "name": "stdout",
     "output_type": "stream",
     "text": [
      "pixel_id             0\n",
      "lrg_density          0\n",
      "elg_density          0\n",
      "qso_density          0\n",
      "stellar_density      0\n",
      "airmass_galaxy       0\n",
      "fwhm_galaxy          0\n",
      "ebv_galaxy           0\n",
      "ccdnphotom_galaxy    0\n",
      "ccdskysb_galaxy_g    0\n",
      "ccdskysb_galaxy_r    0\n",
      "ccdskysb_galaxy_z    0\n",
      "exptime_galaxy_g     0\n",
      "exptime_galaxy_r     0\n",
      "exptime_galaxy_z     0\n",
      "meansky_galaxy_g     0\n",
      "meansky_galaxy_r     0\n",
      "meansky_galaxy_z     0\n",
      "galdepth_galaxy_g    0\n",
      "galdepth_galaxy_r    0\n",
      "galdepth_galaxy_z    0\n",
      "dtype: int64\n"
     ]
    }
   ],
   "source": [
    "print(df_kitanidis.isna().sum())"
   ]
  },
  {
   "cell_type": "markdown",
   "metadata": {
    "pycharm": {
     "name": "#%% md\n"
    }
   },
   "source": [
    "#### Geometric Systematics Values"
   ]
  },
  {
   "cell_type": "code",
   "execution_count": 69,
   "metadata": {
    "pycharm": {
     "name": "#%%\n"
    }
   },
   "outputs": [
    {
     "name": "stdout",
     "output_type": "stream",
     "text": [
      "455672\n"
     ]
    }
   ],
   "source": [
    "with open('../bricks_data/pixel2systematics_geometric.pickle', 'rb') as f:\n",
    "    geometric_dict = pickle.load(f)\n",
    "    f.close()\n",
    "\n",
    "print(len(geometric_dict.keys()))\n"
   ]
  },
  {
   "cell_type": "code",
   "execution_count": 72,
   "metadata": {
    "pycharm": {
     "name": "#%%\n"
    }
   },
   "outputs": [
    {
     "name": "stdout",
     "output_type": "stream",
     "text": [
      "449346\n"
     ]
    }
   ],
   "source": [
    "# Clear the dict of all pixels where we do not have galaxy density values\n",
    "\n",
    "pixels = df.pixel_id.tolist()\n",
    "pixel_keys = list(geometric_dict.keys())\n",
    "for pix in pixels:\n",
    "    if pix in geometric_dict:\n",
    "        continue\n",
    "    geometric_dict.pop(pix)\n",
    "print(len(geometric_dict.keys()))\n"
   ]
  },
  {
   "cell_type": "code",
   "execution_count": 73,
   "metadata": {
    "pycharm": {
     "name": "#%%\n"
    }
   },
   "outputs": [],
   "source": [
    "sys_list = []\n",
    "for key in geometric_dict.keys():\n",
    "    ind_sys_list = geometric_dict[key]\n",
    "    ind_sys_list.append(key)\n",
    "    sys_list.append(ind_sys_list)\n",
    "\n",
    "df_sys_geo = pd.DataFrame(sys_list, columns=['airmass_galaxy',\n",
    "'fwhm_galaxy',\n",
    "'ebv_galaxy',\n",
    "'ccdnphotom_galaxy',\n",
    "\n",
    "'ccdskysb_galaxy_g',\n",
    "'ccdskysb_galaxy_r',\n",
    "'ccdskysb_galaxy_z',\n",
    "'exptime_galaxy_g',\n",
    "'exptime_galaxy_r',\n",
    "'exptime_galaxy_z',\n",
    "'meansky_galaxy_g',\n",
    "'meansky_galaxy_r',\n",
    "'meansky_galaxy_z',\n",
    "'galdepth_galaxy_g',\n",
    "'galdepth_galaxy_r',\n",
    "'galdepth_galaxy_z', 'pixel_id'])\n",
    "\n"
   ]
  },
  {
   "cell_type": "code",
   "execution_count": 74,
   "metadata": {
    "pycharm": {
     "name": "#%%\n"
    }
   },
   "outputs": [
    {
     "data": {
      "text/plain": "   airmass_galaxy  fwhm_galaxy  ebv_galaxy  ccdnphotom_galaxy  \\\n0        1.195260     4.480255    0.008298         123.020284   \n1        1.249056     5.037025    0.007363         122.206338   \n2        1.219710     4.655981    0.010609         127.602380   \n3        1.224886     4.782704    0.015070         132.282066   \n4        1.198163     4.526175    0.013152         132.935945   \n\n   ccdskysb_galaxy_g  ccdskysb_galaxy_r  ccdskysb_galaxy_z  exptime_galaxy_g  \\\n0           0.354085           0.345804           0.316945          2.581439   \n1           0.353643           0.345590           0.316987          2.634139   \n2           0.353842           0.345630           0.316968          2.636238   \n3           0.353030           0.345209           0.316962          2.677951   \n4           0.353712           0.345512           0.316819          2.639509   \n\n   exptime_galaxy_r  exptime_galaxy_z  meansky_galaxy_g  meansky_galaxy_r  \\\n0          2.247159          3.030441      1.037392e+07      2.092525e+07   \n1          2.273438          3.057155      1.084173e+07      2.155979e+07   \n2          2.279095          3.058553      1.047120e+07      2.328702e+07   \n3          2.304308          3.084762      1.122897e+07      2.211558e+07   \n4          2.272059          3.052377      1.013292e+07      2.024901e+07   \n\n   meansky_galaxy_z  galdepth_galaxy_g  galdepth_galaxy_r  galdepth_galaxy_z  \\\n0      4.846495e+07           0.362631           0.359745           0.348780   \n1      4.931969e+07           0.361698           0.359152           0.348086   \n2      4.832188e+07           0.363175           0.360344           0.349086   \n3      5.383919e+07           0.361758           0.359045           0.347981   \n4      5.878297e+07           0.363083           0.359963           0.347816   \n\n   pixel_id  \n0    655892  \n1    656913  \n2    655894  \n3    655895  \n4    655896  ",
      "text/html": "<div>\n<style scoped>\n    .dataframe tbody tr th:only-of-type {\n        vertical-align: middle;\n    }\n\n    .dataframe tbody tr th {\n        vertical-align: top;\n    }\n\n    .dataframe thead th {\n        text-align: right;\n    }\n</style>\n<table border=\"1\" class=\"dataframe\">\n  <thead>\n    <tr style=\"text-align: right;\">\n      <th></th>\n      <th>airmass_galaxy</th>\n      <th>fwhm_galaxy</th>\n      <th>ebv_galaxy</th>\n      <th>ccdnphotom_galaxy</th>\n      <th>ccdskysb_galaxy_g</th>\n      <th>ccdskysb_galaxy_r</th>\n      <th>ccdskysb_galaxy_z</th>\n      <th>exptime_galaxy_g</th>\n      <th>exptime_galaxy_r</th>\n      <th>exptime_galaxy_z</th>\n      <th>meansky_galaxy_g</th>\n      <th>meansky_galaxy_r</th>\n      <th>meansky_galaxy_z</th>\n      <th>galdepth_galaxy_g</th>\n      <th>galdepth_galaxy_r</th>\n      <th>galdepth_galaxy_z</th>\n      <th>pixel_id</th>\n    </tr>\n  </thead>\n  <tbody>\n    <tr>\n      <th>0</th>\n      <td>1.195260</td>\n      <td>4.480255</td>\n      <td>0.008298</td>\n      <td>123.020284</td>\n      <td>0.354085</td>\n      <td>0.345804</td>\n      <td>0.316945</td>\n      <td>2.581439</td>\n      <td>2.247159</td>\n      <td>3.030441</td>\n      <td>1.037392e+07</td>\n      <td>2.092525e+07</td>\n      <td>4.846495e+07</td>\n      <td>0.362631</td>\n      <td>0.359745</td>\n      <td>0.348780</td>\n      <td>655892</td>\n    </tr>\n    <tr>\n      <th>1</th>\n      <td>1.249056</td>\n      <td>5.037025</td>\n      <td>0.007363</td>\n      <td>122.206338</td>\n      <td>0.353643</td>\n      <td>0.345590</td>\n      <td>0.316987</td>\n      <td>2.634139</td>\n      <td>2.273438</td>\n      <td>3.057155</td>\n      <td>1.084173e+07</td>\n      <td>2.155979e+07</td>\n      <td>4.931969e+07</td>\n      <td>0.361698</td>\n      <td>0.359152</td>\n      <td>0.348086</td>\n      <td>656913</td>\n    </tr>\n    <tr>\n      <th>2</th>\n      <td>1.219710</td>\n      <td>4.655981</td>\n      <td>0.010609</td>\n      <td>127.602380</td>\n      <td>0.353842</td>\n      <td>0.345630</td>\n      <td>0.316968</td>\n      <td>2.636238</td>\n      <td>2.279095</td>\n      <td>3.058553</td>\n      <td>1.047120e+07</td>\n      <td>2.328702e+07</td>\n      <td>4.832188e+07</td>\n      <td>0.363175</td>\n      <td>0.360344</td>\n      <td>0.349086</td>\n      <td>655894</td>\n    </tr>\n    <tr>\n      <th>3</th>\n      <td>1.224886</td>\n      <td>4.782704</td>\n      <td>0.015070</td>\n      <td>132.282066</td>\n      <td>0.353030</td>\n      <td>0.345209</td>\n      <td>0.316962</td>\n      <td>2.677951</td>\n      <td>2.304308</td>\n      <td>3.084762</td>\n      <td>1.122897e+07</td>\n      <td>2.211558e+07</td>\n      <td>5.383919e+07</td>\n      <td>0.361758</td>\n      <td>0.359045</td>\n      <td>0.347981</td>\n      <td>655895</td>\n    </tr>\n    <tr>\n      <th>4</th>\n      <td>1.198163</td>\n      <td>4.526175</td>\n      <td>0.013152</td>\n      <td>132.935945</td>\n      <td>0.353712</td>\n      <td>0.345512</td>\n      <td>0.316819</td>\n      <td>2.639509</td>\n      <td>2.272059</td>\n      <td>3.052377</td>\n      <td>1.013292e+07</td>\n      <td>2.024901e+07</td>\n      <td>5.878297e+07</td>\n      <td>0.363083</td>\n      <td>0.359963</td>\n      <td>0.347816</td>\n      <td>655896</td>\n    </tr>\n  </tbody>\n</table>\n</div>"
     },
     "execution_count": 74,
     "metadata": {},
     "output_type": "execute_result"
    }
   ],
   "source": [
    "df_sys_geo.head()"
   ]
  },
  {
   "cell_type": "code",
   "execution_count": 77,
   "metadata": {
    "pycharm": {
     "name": "#%%\n"
    }
   },
   "outputs": [
    {
     "name": "stdout",
     "output_type": "stream",
     "text": [
      "pixel_id              0\n",
      "lrg_density           0\n",
      "elg_density           0\n",
      "qso_density           0\n",
      "stellar_density       0\n",
      "airmass_galaxy        0\n",
      "fwhm_galaxy           0\n",
      "ebv_galaxy            0\n",
      "ccdnphotom_galaxy     0\n",
      "ccdskysb_galaxy_g    29\n",
      "ccdskysb_galaxy_r    31\n",
      "ccdskysb_galaxy_z     4\n",
      "exptime_galaxy_g      0\n",
      "exptime_galaxy_r      0\n",
      "exptime_galaxy_z      0\n",
      "meansky_galaxy_g      0\n",
      "meansky_galaxy_r      0\n",
      "meansky_galaxy_z      0\n",
      "galdepth_galaxy_g     0\n",
      "galdepth_galaxy_r     0\n",
      "galdepth_galaxy_z     0\n",
      "dtype: int64\n",
      "pixel_id             0\n",
      "lrg_density          0\n",
      "elg_density          0\n",
      "qso_density          0\n",
      "stellar_density      0\n",
      "airmass_galaxy       0\n",
      "fwhm_galaxy          0\n",
      "ebv_galaxy           0\n",
      "ccdnphotom_galaxy    0\n",
      "ccdskysb_galaxy_g    0\n",
      "ccdskysb_galaxy_r    0\n",
      "ccdskysb_galaxy_z    0\n",
      "exptime_galaxy_g     0\n",
      "exptime_galaxy_r     0\n",
      "exptime_galaxy_z     0\n",
      "meansky_galaxy_g     0\n",
      "meansky_galaxy_r     0\n",
      "meansky_galaxy_z     0\n",
      "galdepth_galaxy_g    0\n",
      "galdepth_galaxy_r    0\n",
      "galdepth_galaxy_z    0\n",
      "dtype: int64\n"
     ]
    }
   ],
   "source": [
    "df_geometric = df.merge(df_sys_geo, how='inner', on='pixel_id')\n",
    "print(df_geometric.isna().sum())\n",
    "df_geometric.dropna(axis=0, inplace=True)\n",
    "print(df_geometric.isna().sum())"
   ]
  },
  {
   "cell_type": "markdown",
   "metadata": {},
   "source": [
    "#### Geometric Systematics Values, not involving edge pixels"
   ]
  },
  {
   "cell_type": "code",
   "execution_count": 121,
   "metadata": {},
   "outputs": [
    {
     "name": "stdout",
     "output_type": "stream",
     "text": [
      "455672\n"
     ]
    }
   ],
   "source": [
    "with open('../bricks_data/pixel2systematics_geometric_non_inclusive.pickle', 'rb') as f:\n",
    "    geometric_dict_no = pickle.load(f)\n",
    "    f.close()\n",
    "\n",
    "print(len(geometric_dict_no.keys()))"
   ]
  },
  {
   "cell_type": "code",
   "execution_count": 122,
   "metadata": {},
   "outputs": [
    {
     "name": "stdout",
     "output_type": "stream",
     "text": [
      "455672\n"
     ]
    }
   ],
   "source": [
    "pixels = df.pixel_id.tolist()\n",
    "pixel_keys = list(geometric_dict_no.keys())\n",
    "for pix in pixels:\n",
    "    if pix in geometric_dict_no:\n",
    "        continue\n",
    "    geometric_dict_no.pop(pix)\n",
    "print(len(geometric_dict_no.keys()))\n"
   ]
  },
  {
   "cell_type": "code",
   "execution_count": 123,
   "metadata": {},
   "outputs": [],
   "source": [
    "sys_list = []\n",
    "for key in geometric_dict_no.keys():\n",
    "    ind_sys_list = geometric_dict_no[key]\n",
    "    ind_sys_list.append(key)\n",
    "    sys_list.append(ind_sys_list)\n",
    "\n",
    "df_sys_geo_no = pd.DataFrame(sys_list, columns=['airmass_galaxy',\n",
    "'fwhm_galaxy',\n",
    "'ebv_galaxy',\n",
    "'ccdnphotom_galaxy',\n",
    "\n",
    "'ccdskysb_galaxy_g',\n",
    "'ccdskysb_galaxy_r',\n",
    "'ccdskysb_galaxy_z',\n",
    "'exptime_galaxy_g',\n",
    "'exptime_galaxy_r',\n",
    "'exptime_galaxy_z',\n",
    "'meansky_galaxy_g',\n",
    "'meansky_galaxy_r',\n",
    "'meansky_galaxy_z',\n",
    "'galdepth_galaxy_g',\n",
    "'galdepth_galaxy_r',\n",
    "'galdepth_galaxy_z', 'pixel_id'])\n",
    "\n"
   ]
  },
  {
   "cell_type": "code",
   "execution_count": 124,
   "metadata": {},
   "outputs": [
    {
     "name": "stdout",
     "output_type": "stream",
     "text": [
      "pixel_id              0\n",
      "lrg_density           0\n",
      "elg_density           0\n",
      "qso_density           0\n",
      "stellar_density       0\n",
      "airmass_galaxy        0\n",
      "fwhm_galaxy           0\n",
      "ebv_galaxy            0\n",
      "ccdnphotom_galaxy     0\n",
      "ccdskysb_galaxy_g    38\n",
      "ccdskysb_galaxy_r    29\n",
      "ccdskysb_galaxy_z     2\n",
      "exptime_galaxy_g      0\n",
      "exptime_galaxy_r      0\n",
      "exptime_galaxy_z      0\n",
      "meansky_galaxy_g      0\n",
      "meansky_galaxy_r      0\n",
      "meansky_galaxy_z      0\n",
      "galdepth_galaxy_g     0\n",
      "galdepth_galaxy_r     0\n",
      "galdepth_galaxy_z     0\n",
      "dtype: int64\n",
      "pixel_id             0\n",
      "lrg_density          0\n",
      "elg_density          0\n",
      "qso_density          0\n",
      "stellar_density      0\n",
      "airmass_galaxy       0\n",
      "fwhm_galaxy          0\n",
      "ebv_galaxy           0\n",
      "ccdnphotom_galaxy    0\n",
      "ccdskysb_galaxy_g    0\n",
      "ccdskysb_galaxy_r    0\n",
      "ccdskysb_galaxy_z    0\n",
      "exptime_galaxy_g     0\n",
      "exptime_galaxy_r     0\n",
      "exptime_galaxy_z     0\n",
      "meansky_galaxy_g     0\n",
      "meansky_galaxy_r     0\n",
      "meansky_galaxy_z     0\n",
      "galdepth_galaxy_g    0\n",
      "galdepth_galaxy_r    0\n",
      "galdepth_galaxy_z    0\n",
      "dtype: int64\n"
     ]
    }
   ],
   "source": [
    "df_geometric_no = df.merge(df_sys_geo_no, how='inner', on='pixel_id')\n",
    "print(df_geometric_no.isna().sum())\n",
    "df_geometric_no.dropna(axis=0, inplace=True)\n",
    "print(df_geometric_no.isna().sum())"
   ]
  },
  {
   "cell_type": "code",
   "execution_count": 126,
   "metadata": {},
   "outputs": [],
   "source": [
    "df_geometric_no.to_csv('../bricks_data/dataset_geometric.csv')"
   ]
  },
  {
   "cell_type": "code",
   "execution_count": 83,
   "metadata": {},
   "outputs": [
    {
     "name": "stdout",
     "output_type": "stream",
     "text": [
      "            pixel_id    lrg_density    elg_density    qso_density  \\\n",
      "count  209251.000000  209251.000000  209251.000000  209251.000000   \n",
      "mean   418790.556322       0.051484       0.111896       0.123380   \n",
      "std    167398.328564       0.815933       0.741487       0.733189   \n",
      "min    163024.000000      -0.933864      -0.980077      -0.985781   \n",
      "25%    280429.500000      -0.603185      -0.521843      -0.516557   \n",
      "50%    387938.000000      -0.074099       0.036006       0.052200   \n",
      "75%    550847.500000       0.521123       0.673548       0.692051   \n",
      "max    758427.000000      33.985821      35.658665      17.001146   \n",
      "\n",
      "       stellar_density  airmass_galaxy    fwhm_galaxy     ebv_galaxy  \\\n",
      "count    209251.000000   209251.000000  209251.000000  209251.000000   \n",
      "mean          0.036881        1.408712       4.569643       0.044514   \n",
      "std           1.208060        0.259969       0.747281       0.032532   \n",
      "min          -0.934850        0.048958       0.123203       0.001088   \n",
      "25%          -0.674252        1.223775       4.309708       0.022540   \n",
      "50%          -0.348505        1.313035       4.531735       0.035638   \n",
      "75%           0.237841        1.558520       4.785031       0.056260   \n",
      "max          17.828215        2.352980      69.150009       0.843154   \n",
      "\n",
      "       ccdnphotom_galaxy  ccdskysb_galaxy_g  ...  ccdskysb_galaxy_z  \\\n",
      "count      209251.000000      209251.000000  ...      209251.000000   \n",
      "mean          278.573989           0.367066  ...           0.314757   \n",
      "std           246.985749           0.002502  ...           0.003951   \n",
      "min            16.054688           0.304640  ...           0.283741   \n",
      "25%           139.455404           0.365823  ...           0.312643   \n",
      "50%           193.121049           0.367331  ...           0.315248   \n",
      "75%           319.403424           0.368627  ...           0.317433   \n",
      "max          6327.572428           0.377265  ...           0.351195   \n",
      "\n",
      "       exptime_galaxy_g  exptime_galaxy_r  exptime_galaxy_z  meansky_galaxy_g  \\\n",
      "count     209251.000000     209251.000000     209251.000000      2.092510e+05   \n",
      "mean           1.811404          1.269290          1.771548      5.577082e+05   \n",
      "std            0.481550          0.311509          0.473383      1.632091e+06   \n",
      "min            0.608902          0.254199          0.288538      1.078442e-03   \n",
      "25%            1.406250          1.058188          1.406250      1.722559e-03   \n",
      "50%            1.664062          1.368750          1.578125      1.983132e-03   \n",
      "75%            2.145089          1.406250          2.062500      2.514000e-03   \n",
      "max            4.687500          6.061650          5.136079      3.859782e+07   \n",
      "\n",
      "       meansky_galaxy_r  meansky_galaxy_z  galdepth_galaxy_g  \\\n",
      "count      2.092510e+05      2.092510e+05      209251.000000   \n",
      "mean       1.970442e+06      1.718850e+07           0.370919   \n",
      "std        7.638039e+06      5.792721e+07           0.004525   \n",
      "min        2.351148e-03      1.329544e-02           0.286904   \n",
      "25%        3.956272e-03      3.456328e-02           0.369753   \n",
      "50%        4.618500e-03      4.210308e-02           0.371941   \n",
      "75%        6.626605e-03      5.690639e-02           0.373534   \n",
      "max        2.374790e+09      1.156279e+09           0.385797   \n",
      "\n",
      "       galdepth_galaxy_r  galdepth_galaxy_z  \n",
      "count      209251.000000      209251.000000  \n",
      "mean            0.363619           0.347087  \n",
      "std             0.004195           0.004082  \n",
      "min             0.264946           0.307796  \n",
      "25%             0.362372           0.346218  \n",
      "50%             0.363844           0.347995  \n",
      "75%             0.365715           0.349409  \n",
      "max             0.377833           0.445490  \n",
      "\n",
      "[8 rows x 21 columns]\n",
      "            pixel_id    lrg_density    elg_density    qso_density  \\\n",
      "count  209307.000000  209307.000000  209307.000000  209307.000000   \n",
      "mean   418811.593282       0.051447       0.111983       0.123384   \n",
      "std    167424.300293       0.815889       0.741653       0.733209   \n",
      "min    163024.000000      -0.933864      -0.980077      -0.985781   \n",
      "25%    280423.500000      -0.603185      -0.521843      -0.516557   \n",
      "50%    387946.000000      -0.074099       0.036006       0.052200   \n",
      "75%    551451.500000       0.521123       0.673548       0.692051   \n",
      "max    758427.000000      33.985821      35.658665      17.001146   \n",
      "\n",
      "       stellar_density  airmass_galaxy    fwhm_galaxy     ebv_galaxy  \\\n",
      "count    209307.000000   209307.000000  209307.000000  209307.000000   \n",
      "mean          0.036822        1.404104       4.559623       0.044377   \n",
      "std           1.207990        0.260203       0.882927       0.032378   \n",
      "min          -0.934850        0.000000       0.000000       0.000000   \n",
      "25%          -0.674252        1.222926       4.299389       0.022494   \n",
      "50%          -0.348505        1.311573       4.523255       0.035549   \n",
      "75%           0.237841        1.553791       4.778805       0.056043   \n",
      "max          17.828215        2.353750      89.791424       0.800986   \n",
      "\n",
      "       ccdnphotom_galaxy  ccdskysb_galaxy_g  ...  ccdskysb_galaxy_z  \\\n",
      "count      209307.000000      209289.000000  ...      209306.000000   \n",
      "mean          279.892027           0.367070  ...           0.314744   \n",
      "std           252.768865           0.002667  ...           0.004167   \n",
      "min             0.000000           0.000000  ...           0.000000   \n",
      "25%           139.307952           0.365816  ...           0.312536   \n",
      "50%           193.275980           0.367332  ...           0.315257   \n",
      "75%           320.798746           0.368651  ...           0.317503   \n",
      "max          6768.039921           0.380900  ...           0.345455   \n",
      "\n",
      "       exptime_galaxy_g  exptime_galaxy_r  exptime_galaxy_z  meansky_galaxy_g  \\\n",
      "count     209307.000000     209307.000000     209307.000000      2.093070e+05   \n",
      "mean           1.810300          1.270505          1.773705      5.547099e+05   \n",
      "std            0.491905          0.322436          0.490520      1.694414e+06   \n",
      "min            0.000000          0.000000          0.000000     -7.265604e+07   \n",
      "25%            1.406250          1.054688          1.406250      1.706882e-03   \n",
      "50%            1.651786          1.380208          1.562500      1.967419e-03   \n",
      "75%            2.148438          1.406250          2.075000      2.419836e-03   \n",
      "max            4.917411          6.046289          5.131579      8.129316e+07   \n",
      "\n",
      "       meansky_galaxy_r  meansky_galaxy_z  galdepth_galaxy_g  \\\n",
      "count      2.093070e+05      2.093070e+05      209307.000000   \n",
      "mean       1.952811e+06      1.708502e+07           0.370924   \n",
      "std        5.746580e+06      5.908864e+07           0.004726   \n",
      "min       -1.522832e+08      0.000000e+00           0.000000   \n",
      "25%        3.908061e-03      3.413187e-02           0.369667   \n",
      "50%        4.567315e-03      4.156484e-02           0.371999   \n",
      "75%        6.184625e-03      5.555374e-02           0.373618   \n",
      "max        1.445304e+08      1.473911e+09           0.386030   \n",
      "\n",
      "       galdepth_galaxy_r  galdepth_galaxy_z  \n",
      "count      209307.000000      209307.000000  \n",
      "mean            0.363614           0.347106  \n",
      "std             0.004456           0.004266  \n",
      "min             0.000000           0.000000  \n",
      "25%             0.362339           0.346207  \n",
      "50%             0.363857           0.348065  \n",
      "75%             0.365747           0.349496  \n",
      "max             0.377833           0.424863  \n",
      "\n",
      "[8 rows x 21 columns]\n"
     ]
    }
   ],
   "source": [
    "print(df_geometric.describe())\n",
    "print(df_geometric_no.describe())"
   ]
  },
  {
   "cell_type": "code",
   "execution_count": 85,
   "metadata": {
    "pycharm": {
     "name": "#%%\n"
    }
   },
   "outputs": [
    {
     "name": "stdout",
     "output_type": "stream",
     "text": [
      "(209251, 21)\n",
      "(209307, 21)\n"
     ]
    }
   ],
   "source": [
    "#print(df_kitanidis.shape)\n",
    "print(df_geometric.shape)\n",
    "print(df_geometric_no.shape)\n"
   ]
  },
  {
   "cell_type": "markdown",
   "metadata": {
    "pycharm": {
     "name": "#%% md\n"
    }
   },
   "source": [
    "### Running the Regressions\n",
    "\n",
    "#### 1. Kitanidis"
   ]
  },
  {
   "cell_type": "code",
   "execution_count": 23,
   "metadata": {
    "pycharm": {
     "name": "#%%\n"
    }
   },
   "outputs": [
    {
     "data": {
      "text/html": [
       "<div>\n",
       "<style scoped>\n",
       "    .dataframe tbody tr th:only-of-type {\n",
       "        vertical-align: middle;\n",
       "    }\n",
       "\n",
       "    .dataframe tbody tr th {\n",
       "        vertical-align: top;\n",
       "    }\n",
       "\n",
       "    .dataframe thead th {\n",
       "        text-align: right;\n",
       "    }\n",
       "</style>\n",
       "<table border=\"1\" class=\"dataframe\">\n",
       "  <thead>\n",
       "    <tr style=\"text-align: right;\">\n",
       "      <th></th>\n",
       "      <th>lrg_density</th>\n",
       "      <th>elg_density</th>\n",
       "      <th>qso_density</th>\n",
       "      <th>stellar_density</th>\n",
       "      <th>airmass_galaxy</th>\n",
       "      <th>fwhm_galaxy</th>\n",
       "      <th>ebv_galaxy</th>\n",
       "      <th>ccdnphotom_galaxy</th>\n",
       "      <th>ccdskysb_galaxy_g</th>\n",
       "      <th>ccdskysb_galaxy_r</th>\n",
       "      <th>ccdskysb_galaxy_z</th>\n",
       "      <th>exptime_galaxy_g</th>\n",
       "      <th>exptime_galaxy_r</th>\n",
       "      <th>exptime_galaxy_z</th>\n",
       "      <th>meansky_galaxy_g</th>\n",
       "      <th>meansky_galaxy_r</th>\n",
       "      <th>meansky_galaxy_z</th>\n",
       "      <th>galdepth_galaxy_g</th>\n",
       "      <th>galdepth_galaxy_r</th>\n",
       "      <th>galdepth_galaxy_z</th>\n",
       "    </tr>\n",
       "  </thead>\n",
       "  <tbody>\n",
       "    <tr>\n",
       "      <th>0</th>\n",
       "      <td>0.509522</td>\n",
       "      <td>1.180820</td>\n",
       "      <td>0.787620</td>\n",
       "      <td>-0.279689</td>\n",
       "      <td>1.615369</td>\n",
       "      <td>4.563708</td>\n",
       "      <td>0.027940</td>\n",
       "      <td>617.485215</td>\n",
       "      <td>23.461968</td>\n",
       "      <td>22.460363</td>\n",
       "      <td>19.328887</td>\n",
       "      <td>143.100496</td>\n",
       "      <td>139.892237</td>\n",
       "      <td>122.275265</td>\n",
       "      <td>0.199914</td>\n",
       "      <td>0.920791</td>\n",
       "      <td>2.869334</td>\n",
       "      <td>23.626332</td>\n",
       "      <td>22.942529</td>\n",
       "      <td>22.215109</td>\n",
       "    </tr>\n",
       "    <tr>\n",
       "      <th>1</th>\n",
       "      <td>1.817774</td>\n",
       "      <td>2.133008</td>\n",
       "      <td>1.410579</td>\n",
       "      <td>1.263834</td>\n",
       "      <td>1.551244</td>\n",
       "      <td>4.652137</td>\n",
       "      <td>0.022238</td>\n",
       "      <td>997.009628</td>\n",
       "      <td>23.454327</td>\n",
       "      <td>22.586219</td>\n",
       "      <td>19.084433</td>\n",
       "      <td>158.096504</td>\n",
       "      <td>82.525712</td>\n",
       "      <td>165.945433</td>\n",
       "      <td>0.203127</td>\n",
       "      <td>0.499488</td>\n",
       "      <td>3.490955</td>\n",
       "      <td>23.604491</td>\n",
       "      <td>22.966942</td>\n",
       "      <td>22.331463</td>\n",
       "    </tr>\n",
       "    <tr>\n",
       "      <th>2</th>\n",
       "      <td>0.106983</td>\n",
       "      <td>0.750799</td>\n",
       "      <td>0.191747</td>\n",
       "      <td>-0.794197</td>\n",
       "      <td>1.406610</td>\n",
       "      <td>4.458577</td>\n",
       "      <td>0.018477</td>\n",
       "      <td>367.511248</td>\n",
       "      <td>23.441590</td>\n",
       "      <td>22.625744</td>\n",
       "      <td>19.497361</td>\n",
       "      <td>128.317445</td>\n",
       "      <td>87.744524</td>\n",
       "      <td>106.219834</td>\n",
       "      <td>0.213351</td>\n",
       "      <td>0.564238</td>\n",
       "      <td>1.995409</td>\n",
       "      <td>23.598964</td>\n",
       "      <td>22.922293</td>\n",
       "      <td>22.342016</td>\n",
       "    </tr>\n",
       "    <tr>\n",
       "      <th>3</th>\n",
       "      <td>0.106983</td>\n",
       "      <td>0.658651</td>\n",
       "      <td>0.083406</td>\n",
       "      <td>0.955130</td>\n",
       "      <td>2.301381</td>\n",
       "      <td>6.055535</td>\n",
       "      <td>0.131243</td>\n",
       "      <td>459.871429</td>\n",
       "      <td>23.432264</td>\n",
       "      <td>22.486569</td>\n",
       "      <td>19.849928</td>\n",
       "      <td>200.000000</td>\n",
       "      <td>124.000000</td>\n",
       "      <td>221.028571</td>\n",
       "      <td>0.126744</td>\n",
       "      <td>0.333307</td>\n",
       "      <td>3.754301</td>\n",
       "      <td>24.007800</td>\n",
       "      <td>23.363166</td>\n",
       "      <td>22.229356</td>\n",
       "    </tr>\n",
       "    <tr>\n",
       "      <th>4</th>\n",
       "      <td>1.515870</td>\n",
       "      <td>3.146629</td>\n",
       "      <td>1.329324</td>\n",
       "      <td>-0.485492</td>\n",
       "      <td>1.440663</td>\n",
       "      <td>4.587659</td>\n",
       "      <td>0.018841</td>\n",
       "      <td>373.382383</td>\n",
       "      <td>23.452281</td>\n",
       "      <td>22.653194</td>\n",
       "      <td>19.589021</td>\n",
       "      <td>128.873803</td>\n",
       "      <td>83.743415</td>\n",
       "      <td>107.265548</td>\n",
       "      <td>0.293171</td>\n",
       "      <td>0.540003</td>\n",
       "      <td>6.617020</td>\n",
       "      <td>23.605227</td>\n",
       "      <td>22.900591</td>\n",
       "      <td>22.310904</td>\n",
       "    </tr>\n",
       "  </tbody>\n",
       "</table>\n",
       "</div>"
      ],
      "text/plain": [
       "   lrg_density  elg_density  qso_density  stellar_density  airmass_galaxy  \\\n",
       "0     0.509522     1.180820     0.787620        -0.279689        1.615369   \n",
       "1     1.817774     2.133008     1.410579         1.263834        1.551244   \n",
       "2     0.106983     0.750799     0.191747        -0.794197        1.406610   \n",
       "3     0.106983     0.658651     0.083406         0.955130        2.301381   \n",
       "4     1.515870     3.146629     1.329324        -0.485492        1.440663   \n",
       "\n",
       "   fwhm_galaxy  ebv_galaxy  ccdnphotom_galaxy  ccdskysb_galaxy_g  \\\n",
       "0     4.563708    0.027940         617.485215          23.461968   \n",
       "1     4.652137    0.022238         997.009628          23.454327   \n",
       "2     4.458577    0.018477         367.511248          23.441590   \n",
       "3     6.055535    0.131243         459.871429          23.432264   \n",
       "4     4.587659    0.018841         373.382383          23.452281   \n",
       "\n",
       "   ccdskysb_galaxy_r  ccdskysb_galaxy_z  exptime_galaxy_g  exptime_galaxy_r  \\\n",
       "0          22.460363          19.328887        143.100496        139.892237   \n",
       "1          22.586219          19.084433        158.096504         82.525712   \n",
       "2          22.625744          19.497361        128.317445         87.744524   \n",
       "3          22.486569          19.849928        200.000000        124.000000   \n",
       "4          22.653194          19.589021        128.873803         83.743415   \n",
       "\n",
       "   exptime_galaxy_z  meansky_galaxy_g  meansky_galaxy_r  meansky_galaxy_z  \\\n",
       "0        122.275265          0.199914          0.920791          2.869334   \n",
       "1        165.945433          0.203127          0.499488          3.490955   \n",
       "2        106.219834          0.213351          0.564238          1.995409   \n",
       "3        221.028571          0.126744          0.333307          3.754301   \n",
       "4        107.265548          0.293171          0.540003          6.617020   \n",
       "\n",
       "   galdepth_galaxy_g  galdepth_galaxy_r  galdepth_galaxy_z  \n",
       "0          23.626332          22.942529          22.215109  \n",
       "1          23.604491          22.966942          22.331463  \n",
       "2          23.598964          22.922293          22.342016  \n",
       "3          24.007800          23.363166          22.229356  \n",
       "4          23.605227          22.900591          22.310904  "
      ]
     },
     "execution_count": 23,
     "metadata": {},
     "output_type": "execute_result"
    }
   ],
   "source": [
    "df_kitanidis.head()\n",
    "df_kitanidis_reg = df_kitanidis.drop(columns=['pixel_id'])\n",
    "df_kitanidis_reg.head()"
   ]
  },
  {
   "cell_type": "code",
   "execution_count": 24,
   "metadata": {
    "pycharm": {
     "name": "#%%\n"
    }
   },
   "outputs": [],
   "source": [
    "y_lrg = df_kitanidis_reg['lrg_density']#.to_numpy(copy=True)\n",
    "y_elg = df_kitanidis_reg['elg_density']#.to_numpy(copy=True)\n",
    "y_qso = df_kitanidis_reg['qso_density']#.to_numpy(copy=True)\n",
    "\n",
    "X = df_kitanidis_reg.drop(columns=['lrg_density','elg_density','qso_density'])#.to_numpy(copy=True)"
   ]
  },
  {
   "cell_type": "code",
   "execution_count": 25,
   "metadata": {
    "pycharm": {
     "name": "#%%\n"
    }
   },
   "outputs": [
    {
     "name": "stdout",
     "output_type": "stream",
     "text": [
      "1535\n",
      "1535\n"
     ]
    }
   ],
   "source": [
    "print(len(y_lrg))\n",
    "print(len(X))"
   ]
  },
  {
   "cell_type": "code",
   "execution_count": 26,
   "metadata": {
    "pycharm": {
     "name": "#%%\n"
    }
   },
   "outputs": [
    {
     "name": "stdout",
     "output_type": "stream",
     "text": [
      "                                 OLS Regression Results                                \n",
      "=======================================================================================\n",
      "Dep. Variable:            lrg_density   R-squared (uncentered):                   0.477\n",
      "Model:                            OLS   Adj. R-squared (uncentered):              0.471\n",
      "Method:                 Least Squares   F-statistic:                              81.43\n",
      "Date:                Wed, 16 Jun 2021   Prob (F-statistic):                   2.67e-199\n",
      "Time:                        18:08:54   Log-Likelihood:                         -2213.4\n",
      "No. Observations:                1535   AIC:                                      4461.\n",
      "Df Residuals:                    1518   BIC:                                      4551.\n",
      "Df Model:                          17                                                  \n",
      "Covariance Type:            nonrobust                                                  \n",
      "=====================================================================================\n",
      "                        coef    std err          t      P>|t|      [0.025      0.975]\n",
      "-------------------------------------------------------------------------------------\n",
      "stellar_density       0.2780      0.025     10.967      0.000       0.228       0.328\n",
      "airmass_galaxy        0.0744      0.175      0.426      0.670      -0.268       0.417\n",
      "fwhm_galaxy           0.0751      0.093      0.811      0.418      -0.107       0.257\n",
      "ebv_galaxy            0.8953      1.050      0.853      0.394      -1.164       2.954\n",
      "ccdnphotom_galaxy    -0.0013      0.000     -6.726      0.000      -0.002      -0.001\n",
      "ccdskysb_galaxy_g     0.1821      0.221      0.825      0.410      -0.251       0.615\n",
      "ccdskysb_galaxy_r     0.0506      0.219      0.231      0.817      -0.380       0.481\n",
      "ccdskysb_galaxy_z    -0.3753      0.162     -2.317      0.021      -0.693      -0.058\n",
      "exptime_galaxy_g     -0.0015      0.002     -0.829      0.407      -0.005       0.002\n",
      "exptime_galaxy_r      0.0006      0.002      0.323      0.747      -0.003       0.004\n",
      "exptime_galaxy_z     -0.0017      0.002     -1.078      0.281      -0.005       0.001\n",
      "meansky_galaxy_g   6.046e-10   5.18e-10      1.167      0.243   -4.12e-10    1.62e-09\n",
      "meansky_galaxy_r  -3.428e-10   1.54e-10     -2.219      0.027   -6.46e-10   -3.98e-11\n",
      "meansky_galaxy_z   2.946e-11   1.43e-11      2.059      0.040    1.39e-12    5.75e-11\n",
      "galdepth_galaxy_g    -0.1061      0.202     -0.526      0.599      -0.502       0.289\n",
      "galdepth_galaxy_r    -0.2875      0.183     -1.575      0.115      -0.646       0.070\n",
      "galdepth_galaxy_z     0.5494      0.190      2.888      0.004       0.176       0.922\n",
      "==============================================================================\n",
      "Omnibus:                     1506.989   Durbin-Watson:                   1.875\n",
      "Prob(Omnibus):                  0.000   Jarque-Bera (JB):           122675.642\n",
      "Skew:                           4.446   Prob(JB):                         0.00\n",
      "Kurtosis:                      45.883   Cond. No.                     1.26e+11\n",
      "==============================================================================\n",
      "\n",
      "Notes:\n",
      "[1] R² is computed without centering (uncentered) since the model does not contain a constant.\n",
      "[2] Standard Errors assume that the covariance matrix of the errors is correctly specified.\n",
      "[3] The condition number is large, 1.26e+11. This might indicate that there are\n",
      "strong multicollinearity or other numerical problems.\n"
     ]
    }
   ],
   "source": [
    "\n",
    "\n",
    "ols_lrg_kitanidis = sm.OLS(y_lrg,X).fit()\n",
    "print(ols_lrg_kitanidis.summary())\n",
    "\n"
   ]
  },
  {
   "cell_type": "code",
   "execution_count": 27,
   "metadata": {
    "pycharm": {
     "name": "#%%\n"
    }
   },
   "outputs": [
    {
     "name": "stdout",
     "output_type": "stream",
     "text": [
      "                                 OLS Regression Results                                \n",
      "=======================================================================================\n",
      "Dep. Variable:            elg_density   R-squared (uncentered):                   0.761\n",
      "Model:                            OLS   Adj. R-squared (uncentered):              0.758\n",
      "Method:                 Least Squares   F-statistic:                              284.5\n",
      "Date:                Wed, 16 Jun 2021   Prob (F-statistic):                        0.00\n",
      "Time:                        18:09:26   Log-Likelihood:                         -1594.0\n",
      "No. Observations:                1535   AIC:                                      3222.\n",
      "Df Residuals:                    1518   BIC:                                      3313.\n",
      "Df Model:                          17                                                  \n",
      "Covariance Type:            nonrobust                                                  \n",
      "=====================================================================================\n",
      "                        coef    std err          t      P>|t|      [0.025      0.975]\n",
      "-------------------------------------------------------------------------------------\n",
      "stellar_density       0.2852      0.017     16.842      0.000       0.252       0.318\n",
      "airmass_galaxy       -0.4930      0.117     -4.228      0.000      -0.722      -0.264\n",
      "fwhm_galaxy          -0.0990      0.062     -1.600      0.110      -0.220       0.022\n",
      "ebv_galaxy           -3.4273      0.701     -4.888      0.000      -4.803      -2.052\n",
      "ccdnphotom_galaxy    -0.0017      0.000    -12.825      0.000      -0.002      -0.001\n",
      "ccdskysb_galaxy_g    -0.0272      0.148     -0.184      0.854      -0.317       0.262\n",
      "ccdskysb_galaxy_r     0.2453      0.147      1.675      0.094      -0.042       0.533\n",
      "ccdskysb_galaxy_z    -0.3685      0.108     -3.406      0.001      -0.581      -0.156\n",
      "exptime_galaxy_g      0.0038      0.001      3.251      0.001       0.002       0.006\n",
      "exptime_galaxy_r     -0.0006      0.001     -0.438      0.662      -0.003       0.002\n",
      "exptime_galaxy_z      0.0003      0.001      0.280      0.780      -0.002       0.002\n",
      "meansky_galaxy_g  -1.116e-10   3.46e-10     -0.322      0.747   -7.91e-10    5.67e-10\n",
      "meansky_galaxy_r  -2.543e-10   1.03e-10     -2.464      0.014   -4.57e-10   -5.18e-11\n",
      "meansky_galaxy_z   1.434e-11   9.56e-12      1.501      0.134    -4.4e-12    3.31e-11\n",
      "galdepth_galaxy_g     0.0004      0.135      0.003      0.997      -0.264       0.265\n",
      "galdepth_galaxy_r    -0.3597      0.122     -2.950      0.003      -0.599      -0.121\n",
      "galdepth_galaxy_z     0.5926      0.127      4.664      0.000       0.343       0.842\n",
      "==============================================================================\n",
      "Omnibus:                      241.616   Durbin-Watson:                   1.696\n",
      "Prob(Omnibus):                  0.000   Jarque-Bera (JB):              461.119\n",
      "Skew:                           0.957   Prob(JB):                    7.40e-101\n",
      "Kurtosis:                       4.884   Cond. No.                     1.26e+11\n",
      "==============================================================================\n",
      "\n",
      "Notes:\n",
      "[1] R² is computed without centering (uncentered) since the model does not contain a constant.\n",
      "[2] Standard Errors assume that the covariance matrix of the errors is correctly specified.\n",
      "[3] The condition number is large, 1.26e+11. This might indicate that there are\n",
      "strong multicollinearity or other numerical problems.\n"
     ]
    }
   ],
   "source": [
    "ols_elg_kitanidis = sm.OLS(y_elg,X).fit()\n",
    "print(ols_elg_kitanidis.summary())"
   ]
  },
  {
   "cell_type": "code",
   "execution_count": 28,
   "metadata": {
    "pycharm": {
     "name": "#%%\n"
    }
   },
   "outputs": [
    {
     "name": "stdout",
     "output_type": "stream",
     "text": [
      "                                 OLS Regression Results                                \n",
      "=======================================================================================\n",
      "Dep. Variable:            qso_density   R-squared (uncentered):                   0.781\n",
      "Model:                            OLS   Adj. R-squared (uncentered):              0.779\n",
      "Method:                 Least Squares   F-statistic:                              318.6\n",
      "Date:                Wed, 16 Jun 2021   Prob (F-statistic):                        0.00\n",
      "Time:                        18:09:37   Log-Likelihood:                         -1534.7\n",
      "No. Observations:                1535   AIC:                                      3103.\n",
      "Df Residuals:                    1518   BIC:                                      3194.\n",
      "Df Model:                          17                                                  \n",
      "Covariance Type:            nonrobust                                                  \n",
      "=====================================================================================\n",
      "                        coef    std err          t      P>|t|      [0.025      0.975]\n",
      "-------------------------------------------------------------------------------------\n",
      "stellar_density       0.2891      0.016     17.742      0.000       0.257       0.321\n",
      "airmass_galaxy       -0.0262      0.112     -0.233      0.815      -0.246       0.194\n",
      "fwhm_galaxy          -0.1206      0.059     -2.027      0.043      -0.237      -0.004\n",
      "ebv_galaxy           -1.5506      0.675     -2.298      0.022      -2.874      -0.227\n",
      "ccdnphotom_galaxy    -0.0017      0.000    -13.871      0.000      -0.002      -0.001\n",
      "ccdskysb_galaxy_g     0.1633      0.142      1.151      0.250      -0.115       0.442\n",
      "ccdskysb_galaxy_r     0.3877      0.141      2.750      0.006       0.111       0.664\n",
      "ccdskysb_galaxy_z    -0.3108      0.104     -2.985      0.003      -0.515      -0.107\n",
      "exptime_galaxy_g      0.0018      0.001      1.576      0.115      -0.000       0.004\n",
      "exptime_galaxy_r      0.0045      0.001      3.564      0.000       0.002       0.007\n",
      "exptime_galaxy_z      0.0009      0.001      0.902      0.367      -0.001       0.003\n",
      "meansky_galaxy_g   7.996e-11   3.33e-10      0.240      0.810   -5.73e-10    7.33e-10\n",
      "meansky_galaxy_r  -8.841e-11   9.93e-11     -0.890      0.373   -2.83e-10    1.06e-10\n",
      "meansky_galaxy_z   1.089e-12    9.2e-12      0.118      0.906    -1.7e-11    1.91e-11\n",
      "galdepth_galaxy_g    -0.0830      0.130     -0.641      0.522      -0.337       0.171\n",
      "galdepth_galaxy_r    -0.2869      0.117     -2.446      0.015      -0.517      -0.057\n",
      "galdepth_galaxy_z     0.1686      0.122      1.379      0.168      -0.071       0.408\n",
      "==============================================================================\n",
      "Omnibus:                      362.626   Durbin-Watson:                   1.884\n",
      "Prob(Omnibus):                  0.000   Jarque-Bera (JB):             1086.412\n",
      "Skew:                           1.187   Prob(JB):                    1.23e-236\n",
      "Kurtosis:                       6.368   Cond. No.                     1.26e+11\n",
      "==============================================================================\n",
      "\n",
      "Notes:\n",
      "[1] R² is computed without centering (uncentered) since the model does not contain a constant.\n",
      "[2] Standard Errors assume that the covariance matrix of the errors is correctly specified.\n",
      "[3] The condition number is large, 1.26e+11. This might indicate that there are\n",
      "strong multicollinearity or other numerical problems.\n"
     ]
    }
   ],
   "source": [
    "ols_qso_kitanidis = sm.OLS(y_qso,X).fit()\n",
    "print(ols_qso_kitanidis.summary())"
   ]
  },
  {
   "cell_type": "markdown",
   "metadata": {
    "pycharm": {
     "name": "#%% md\n"
    }
   },
   "source": [
    "#### 2. Geometric"
   ]
  },
  {
   "cell_type": "code",
   "execution_count": 86,
   "metadata": {
    "pycharm": {
     "name": "#%%\n"
    }
   },
   "outputs": [
    {
     "data": {
      "text/plain": "   lrg_density  elg_density  qso_density  stellar_density  airmass_galaxy  \\\n0    -0.933864    -0.701152    -0.800935        -0.934850        1.157527   \n1    -0.537050    -0.402304    -0.715622        -0.087907        1.395075   \n2     0.124308     0.334854    -0.118427         1.019635        1.382828   \n3    -0.603185    -0.661306    -0.701403        -0.804551        1.174756   \n4    -0.669321    -0.840614    -0.914687        -0.739402        1.156410   \n\n   fwhm_galaxy  ebv_galaxy  ccdnphotom_galaxy  ccdskysb_galaxy_g  \\\n0     3.952116    0.015481        1531.291708           0.364868   \n1     4.260359    0.015946        1297.446720           0.364789   \n2     4.219695    0.017363        1423.569447           0.364740   \n3     3.827847    0.016397        1652.704145           0.364805   \n4     4.113628    0.018817        1470.870035           0.365766   \n\n   ccdskysb_galaxy_r  ccdskysb_galaxy_z  exptime_galaxy_g  exptime_galaxy_r  \\\n0           0.350619           0.308676          1.565104          1.294643   \n1           0.352108           0.306131          1.745117          1.327699   \n2           0.350370           0.308560          1.585069          1.335547   \n3           0.352598           0.307511          1.531250          1.230937   \n4           0.350320           0.303798          2.165625          1.440625   \n\n   exptime_galaxy_z  meansky_galaxy_g  meansky_galaxy_r  meansky_galaxy_z  \\\n0          1.583741          0.003405          0.010923          0.027437   \n1          1.339617          0.003545          0.010409          0.032368   \n2          1.744228          0.003428          0.011522          0.033258   \n3          1.304422          0.003692          0.010843          0.025915   \n4          1.333238          0.003620          0.012163          0.032397   \n\n   galdepth_galaxy_g  galdepth_galaxy_r  galdepth_galaxy_z  \n0           0.365975           0.356016           0.350135  \n1           0.366929           0.356678           0.350109  \n2           0.366355           0.356583           0.348375  \n3           0.366107           0.355722           0.349798  \n4           0.365827           0.357129           0.348684  ",
      "text/html": "<div>\n<style scoped>\n    .dataframe tbody tr th:only-of-type {\n        vertical-align: middle;\n    }\n\n    .dataframe tbody tr th {\n        vertical-align: top;\n    }\n\n    .dataframe thead th {\n        text-align: right;\n    }\n</style>\n<table border=\"1\" class=\"dataframe\">\n  <thead>\n    <tr style=\"text-align: right;\">\n      <th></th>\n      <th>lrg_density</th>\n      <th>elg_density</th>\n      <th>qso_density</th>\n      <th>stellar_density</th>\n      <th>airmass_galaxy</th>\n      <th>fwhm_galaxy</th>\n      <th>ebv_galaxy</th>\n      <th>ccdnphotom_galaxy</th>\n      <th>ccdskysb_galaxy_g</th>\n      <th>ccdskysb_galaxy_r</th>\n      <th>ccdskysb_galaxy_z</th>\n      <th>exptime_galaxy_g</th>\n      <th>exptime_galaxy_r</th>\n      <th>exptime_galaxy_z</th>\n      <th>meansky_galaxy_g</th>\n      <th>meansky_galaxy_r</th>\n      <th>meansky_galaxy_z</th>\n      <th>galdepth_galaxy_g</th>\n      <th>galdepth_galaxy_r</th>\n      <th>galdepth_galaxy_z</th>\n    </tr>\n  </thead>\n  <tbody>\n    <tr>\n      <th>0</th>\n      <td>-0.933864</td>\n      <td>-0.701152</td>\n      <td>-0.800935</td>\n      <td>-0.934850</td>\n      <td>1.157527</td>\n      <td>3.952116</td>\n      <td>0.015481</td>\n      <td>1531.291708</td>\n      <td>0.364868</td>\n      <td>0.350619</td>\n      <td>0.308676</td>\n      <td>1.565104</td>\n      <td>1.294643</td>\n      <td>1.583741</td>\n      <td>0.003405</td>\n      <td>0.010923</td>\n      <td>0.027437</td>\n      <td>0.365975</td>\n      <td>0.356016</td>\n      <td>0.350135</td>\n    </tr>\n    <tr>\n      <th>1</th>\n      <td>-0.537050</td>\n      <td>-0.402304</td>\n      <td>-0.715622</td>\n      <td>-0.087907</td>\n      <td>1.395075</td>\n      <td>4.260359</td>\n      <td>0.015946</td>\n      <td>1297.446720</td>\n      <td>0.364789</td>\n      <td>0.352108</td>\n      <td>0.306131</td>\n      <td>1.745117</td>\n      <td>1.327699</td>\n      <td>1.339617</td>\n      <td>0.003545</td>\n      <td>0.010409</td>\n      <td>0.032368</td>\n      <td>0.366929</td>\n      <td>0.356678</td>\n      <td>0.350109</td>\n    </tr>\n    <tr>\n      <th>2</th>\n      <td>0.124308</td>\n      <td>0.334854</td>\n      <td>-0.118427</td>\n      <td>1.019635</td>\n      <td>1.382828</td>\n      <td>4.219695</td>\n      <td>0.017363</td>\n      <td>1423.569447</td>\n      <td>0.364740</td>\n      <td>0.350370</td>\n      <td>0.308560</td>\n      <td>1.585069</td>\n      <td>1.335547</td>\n      <td>1.744228</td>\n      <td>0.003428</td>\n      <td>0.011522</td>\n      <td>0.033258</td>\n      <td>0.366355</td>\n      <td>0.356583</td>\n      <td>0.348375</td>\n    </tr>\n    <tr>\n      <th>3</th>\n      <td>-0.603185</td>\n      <td>-0.661306</td>\n      <td>-0.701403</td>\n      <td>-0.804551</td>\n      <td>1.174756</td>\n      <td>3.827847</td>\n      <td>0.016397</td>\n      <td>1652.704145</td>\n      <td>0.364805</td>\n      <td>0.352598</td>\n      <td>0.307511</td>\n      <td>1.531250</td>\n      <td>1.230937</td>\n      <td>1.304422</td>\n      <td>0.003692</td>\n      <td>0.010843</td>\n      <td>0.025915</td>\n      <td>0.366107</td>\n      <td>0.355722</td>\n      <td>0.349798</td>\n    </tr>\n    <tr>\n      <th>4</th>\n      <td>-0.669321</td>\n      <td>-0.840614</td>\n      <td>-0.914687</td>\n      <td>-0.739402</td>\n      <td>1.156410</td>\n      <td>4.113628</td>\n      <td>0.018817</td>\n      <td>1470.870035</td>\n      <td>0.365766</td>\n      <td>0.350320</td>\n      <td>0.303798</td>\n      <td>2.165625</td>\n      <td>1.440625</td>\n      <td>1.333238</td>\n      <td>0.003620</td>\n      <td>0.012163</td>\n      <td>0.032397</td>\n      <td>0.365827</td>\n      <td>0.357129</td>\n      <td>0.348684</td>\n    </tr>\n  </tbody>\n</table>\n</div>"
     },
     "execution_count": 86,
     "metadata": {},
     "output_type": "execute_result"
    }
   ],
   "source": [
    "df_geometric.head()\n",
    "df_geometric_reg = df_geometric.drop(columns=['pixel_id'])\n",
    "df_geometric_reg.head()"
   ]
  },
  {
   "cell_type": "code",
   "execution_count": 87,
   "metadata": {
    "pycharm": {
     "name": "#%%\n"
    }
   },
   "outputs": [],
   "source": [
    "y_lrg = df_geometric_reg['lrg_density']#.to_numpy(copy=True)\n",
    "y_elg = df_geometric_reg['elg_density']#.to_numpy(copy=True)\n",
    "y_qso = df_geometric_reg['qso_density']#.to_numpy(copy=True)\n",
    "\n",
    "X = df_geometric_reg.drop(columns=['lrg_density','elg_density','qso_density'])#.to_numpy(copy=True)"
   ]
  },
  {
   "cell_type": "code",
   "execution_count": 88,
   "metadata": {
    "pycharm": {
     "name": "#%%\n"
    }
   },
   "outputs": [
    {
     "name": "stdout",
     "output_type": "stream",
     "text": [
      "209251\n",
      "209251\n"
     ]
    }
   ],
   "source": [
    "print(len(y_lrg))\n",
    "print(len(X))"
   ]
  },
  {
   "cell_type": "code",
   "execution_count": 89,
   "metadata": {
    "pycharm": {
     "name": "#%%\n"
    }
   },
   "outputs": [
    {
     "name": "stdout",
     "output_type": "stream",
     "text": [
      "                            OLS Regression Results                            \n",
      "==============================================================================\n",
      "Dep. Variable:            lrg_density   R-squared:                       0.302\n",
      "Model:                            OLS   Adj. R-squared:                  0.302\n",
      "Method:                 Least Squares   F-statistic:                     5652.\n",
      "Date:                Thu, 24 Jun 2021   Prob (F-statistic):               0.00\n",
      "Time:                        16:06:53   Log-Likelihood:            -2.1676e+05\n",
      "No. Observations:              209251   AIC:                         4.336e+05\n",
      "Df Residuals:                  209234   BIC:                         4.337e+05\n",
      "Df Model:                          16                                         \n",
      "Covariance Type:            nonrobust                                         \n",
      "=====================================================================================\n",
      "                        coef    std err          t      P>|t|      [0.025      0.975]\n",
      "-------------------------------------------------------------------------------------\n",
      "stellar_density       0.4663      0.002    299.578      0.000       0.463       0.469\n",
      "airmass_galaxy        0.0162      0.009      1.771      0.077      -0.002       0.034\n",
      "fwhm_galaxy           0.0071      0.002      3.219      0.001       0.003       0.011\n",
      "ebv_galaxy           -1.2305      0.059    -20.834      0.000      -1.346      -1.115\n",
      "ccdnphotom_galaxy    -0.0013   8.04e-06   -156.215      0.000      -0.001      -0.001\n",
      "ccdskysb_galaxy_g    -4.2113      0.778     -5.410      0.000      -5.737      -2.686\n",
      "ccdskysb_galaxy_r     7.7833      0.787      9.894      0.000       6.241       9.325\n",
      "ccdskysb_galaxy_z    -7.5532      0.524    -14.415      0.000      -8.580      -6.526\n",
      "exptime_galaxy_g      0.0601      0.005     11.090      0.000       0.050       0.071\n",
      "exptime_galaxy_r      0.0786      0.006     13.515      0.000       0.067       0.090\n",
      "exptime_galaxy_z     -0.0903      0.005    -19.081      0.000      -0.100      -0.081\n",
      "meansky_galaxy_g  -1.345e-08    1.5e-09     -8.974      0.000   -1.64e-08   -1.05e-08\n",
      "meansky_galaxy_r   -1.94e-09   2.51e-10     -7.740      0.000   -2.43e-09   -1.45e-09\n",
      "meansky_galaxy_z   2.122e-11   4.04e-11      0.525      0.600    -5.8e-11       1e-10\n",
      "galdepth_galaxy_g     0.4356      0.630      0.691      0.489      -0.799       1.670\n",
      "galdepth_galaxy_r    -6.4245      0.532    -12.077      0.000      -7.467      -5.382\n",
      "galdepth_galaxy_z    10.6511      0.598     17.819      0.000       9.480      11.823\n",
      "==============================================================================\n",
      "Omnibus:                   200236.224   Durbin-Watson:                   1.843\n",
      "Prob(Omnibus):                  0.000   Jarque-Bera (JB):         80515374.991\n",
      "Skew:                           3.898   Prob(JB):                         0.00\n",
      "Kurtosis:                      98.781   Cond. No.                     4.30e+10\n",
      "==============================================================================\n",
      "\n",
      "Notes:\n",
      "[1] Standard Errors assume that the covariance matrix of the errors is correctly specified.\n",
      "[2] The condition number is large, 4.3e+10. This might indicate that there are\n",
      "strong multicollinearity or other numerical problems.\n",
      "\n",
      "                            OLS Regression Results                            \n",
      "==============================================================================\n",
      "Dep. Variable:            elg_density   R-squared:                       0.362\n",
      "Model:                            OLS   Adj. R-squared:                  0.362\n",
      "Method:                 Least Squares   F-statistic:                     7422.\n",
      "Date:                Thu, 24 Jun 2021   Prob (F-statistic):               0.00\n",
      "Time:                        16:06:53   Log-Likelihood:            -1.8730e+05\n",
      "No. Observations:              209251   AIC:                         3.746e+05\n",
      "Df Residuals:                  209234   BIC:                         3.748e+05\n",
      "Df Model:                          16                                         \n",
      "Covariance Type:            nonrobust                                         \n",
      "=====================================================================================\n",
      "                        coef    std err          t      P>|t|      [0.025      0.975]\n",
      "-------------------------------------------------------------------------------------\n",
      "stellar_density       0.4614      0.001    341.247      0.000       0.459       0.464\n",
      "airmass_galaxy       -0.1409      0.008    -17.746      0.000      -0.157      -0.125\n",
      "fwhm_galaxy           0.0061      0.002      3.179      0.001       0.002       0.010\n",
      "ebv_galaxy           -2.7537      0.051    -53.672      0.000      -2.854      -2.653\n",
      "ccdnphotom_galaxy    -0.0012   6.98e-06   -177.822      0.000      -0.001      -0.001\n",
      "ccdskysb_galaxy_g   -11.9515      0.676    -17.674      0.000     -13.277     -10.626\n",
      "ccdskysb_galaxy_r     8.8096      0.683     12.892      0.000       7.470      10.149\n",
      "ccdskysb_galaxy_z    -4.6131      0.455    -10.135      0.000      -5.505      -3.721\n",
      "exptime_galaxy_g      0.0764      0.005     16.213      0.000       0.067       0.086\n",
      "exptime_galaxy_r      0.0225      0.005      4.456      0.000       0.013       0.032\n",
      "exptime_galaxy_z     -0.0720      0.004    -17.515      0.000      -0.080      -0.064\n",
      "meansky_galaxy_g  -1.037e-08    1.3e-09     -7.961      0.000   -1.29e-08   -7.81e-09\n",
      "meansky_galaxy_r  -2.624e-09   2.18e-10    -12.049      0.000   -3.05e-09    -2.2e-09\n",
      "meansky_galaxy_z  -1.984e-10   3.51e-11     -5.647      0.000   -2.67e-10    -1.3e-10\n",
      "galdepth_galaxy_g     6.2617      0.547     11.441      0.000       5.189       7.334\n",
      "galdepth_galaxy_r    -8.6950      0.462    -18.816      0.000      -9.601      -7.789\n",
      "galdepth_galaxy_z    12.3256      0.519     23.738      0.000      11.308      13.343\n",
      "==============================================================================\n",
      "Omnibus:                   188122.207   Durbin-Watson:                   1.677\n",
      "Prob(Omnibus):                  0.000   Jarque-Bera (JB):        107760395.729\n",
      "Skew:                           3.369   Prob(JB):                         0.00\n",
      "Kurtosis:                     113.969   Cond. No.                     4.30e+10\n",
      "==============================================================================\n",
      "\n",
      "Notes:\n",
      "[1] Standard Errors assume that the covariance matrix of the errors is correctly specified.\n",
      "[2] The condition number is large, 4.3e+10. This might indicate that there are\n",
      "strong multicollinearity or other numerical problems.\n",
      "\n",
      "                            OLS Regression Results                            \n",
      "==============================================================================\n",
      "Dep. Variable:            qso_density   R-squared:                       0.388\n",
      "Model:                            OLS   Adj. R-squared:                  0.388\n",
      "Method:                 Least Squares   F-statistic:                     8289.\n",
      "Date:                Thu, 24 Jun 2021   Prob (F-statistic):               0.00\n",
      "Time:                        16:06:54   Log-Likelihood:            -1.8061e+05\n",
      "No. Observations:              209251   AIC:                         3.613e+05\n",
      "Df Residuals:                  209234   BIC:                         3.614e+05\n",
      "Df Model:                          16                                         \n",
      "Covariance Type:            nonrobust                                         \n",
      "=====================================================================================\n",
      "                        coef    std err          t      P>|t|      [0.025      0.975]\n",
      "-------------------------------------------------------------------------------------\n",
      "stellar_density       0.4754      0.001    363.038      0.000       0.473       0.478\n",
      "airmass_galaxy        0.0692      0.008      8.997      0.000       0.054       0.084\n",
      "fwhm_galaxy           0.0031      0.002      1.697      0.090      -0.000       0.007\n",
      "ebv_galaxy           -1.9018      0.050    -38.273      0.000      -1.999      -1.804\n",
      "ccdnphotom_galaxy    -0.0013   6.76e-06   -196.730      0.000      -0.001      -0.001\n",
      "ccdskysb_galaxy_g    -2.5948      0.655     -3.962      0.000      -3.878      -1.311\n",
      "ccdskysb_galaxy_r    10.1450      0.662     15.328      0.000       8.848      11.442\n",
      "ccdskysb_galaxy_z    -4.8830      0.441    -11.076      0.000      -5.747      -4.019\n",
      "exptime_galaxy_g      0.0257      0.005      5.642      0.000       0.017       0.035\n",
      "exptime_galaxy_r      0.1538      0.005     31.441      0.000       0.144       0.163\n",
      "exptime_galaxy_z     -0.1047      0.004    -26.281      0.000      -0.112      -0.097\n",
      "meansky_galaxy_g  -7.198e-09   1.26e-09     -5.708      0.000   -9.67e-09   -4.73e-09\n",
      "meansky_galaxy_r  -1.438e-09   2.11e-10     -6.818      0.000   -1.85e-09   -1.02e-09\n",
      "meansky_galaxy_z  -3.151e-10    3.4e-11     -9.262      0.000   -3.82e-10   -2.48e-10\n",
      "galdepth_galaxy_g     0.7071      0.530      1.334      0.182      -0.332       1.746\n",
      "galdepth_galaxy_r    -6.8147      0.448    -15.227      0.000      -7.692      -5.938\n",
      "galdepth_galaxy_z     4.4079      0.503      8.765      0.000       3.422       5.394\n",
      "==============================================================================\n",
      "Omnibus:                   104915.547   Durbin-Watson:                   1.690\n",
      "Prob(Omnibus):                  0.000   Jarque-Bera (JB):          4814325.080\n",
      "Skew:                           1.703   Prob(JB):                         0.00\n",
      "Kurtosis:                      26.250   Cond. No.                     4.30e+10\n",
      "==============================================================================\n",
      "\n",
      "Notes:\n",
      "[1] Standard Errors assume that the covariance matrix of the errors is correctly specified.\n",
      "[2] The condition number is large, 4.3e+10. This might indicate that there are\n",
      "strong multicollinearity or other numerical problems.\n"
     ]
    }
   ],
   "source": [
    "ols_lrg_geometric = sm.OLS(y_lrg,X).fit()\n",
    "print(ols_lrg_geometric.summary())\n",
    "print()\n",
    "ols_elg_geometric = sm.OLS(y_elg,X).fit()\n",
    "print(ols_elg_geometric.summary())\n",
    "print()\n",
    "ols_qso_geometric = sm.OLS(y_qso,X).fit()\n",
    "print(ols_qso_geometric.summary())\n"
   ]
  },
  {
   "cell_type": "markdown",
   "metadata": {
    "pycharm": {
     "name": "#%% md\n"
    }
   },
   "source": [
    "### 3. Geometric, non-inclusive of edge CCDs"
   ]
  },
  {
   "cell_type": "code",
   "execution_count": 93,
   "metadata": {},
   "outputs": [],
   "source": [
    "df_geometric_no_reg = df_geometric_no.drop(columns=['pixel_id'])\n",
    "\n",
    "\n",
    "y_lrg = df_geometric_no_reg['lrg_density']#.to_numpy(copy=True)\n",
    "y_elg = df_geometric_no_reg['elg_density']#.to_numpy(copy=True)\n",
    "y_qso = df_geometric_no_reg['qso_density']#.to_numpy(copy=True)\n",
    "\n",
    "X = df_geometric_no_reg.drop(columns=['lrg_density','elg_density','qso_density'])#.to_numpy(copy=True)"
   ]
  },
  {
   "cell_type": "code",
   "execution_count": 94,
   "metadata": {},
   "outputs": [
    {
     "name": "stdout",
     "output_type": "stream",
     "text": [
      "                                 OLS Regression Results                                \n",
      "=======================================================================================\n",
      "Dep. Variable:            lrg_density   R-squared (uncentered):                   0.299\n",
      "Model:                            OLS   Adj. R-squared (uncentered):              0.299\n",
      "Method:                 Least Squares   F-statistic:                              5254.\n",
      "Date:                Thu, 24 Jun 2021   Prob (F-statistic):                        0.00\n",
      "Time:                        16:09:08   Log-Likelihood:                     -2.1758e+05\n",
      "No. Observations:              209266   AIC:                                  4.352e+05\n",
      "Df Residuals:                  209249   BIC:                                  4.354e+05\n",
      "Df Model:                          17                                                  \n",
      "Covariance Type:            nonrobust                                                  \n",
      "=====================================================================================\n",
      "                        coef    std err          t      P>|t|      [0.025      0.975]\n",
      "-------------------------------------------------------------------------------------\n",
      "stellar_density       0.4581      0.002    295.664      0.000       0.455       0.461\n",
      "airmass_galaxy        0.0300      0.009      3.424      0.001       0.013       0.047\n",
      "fwhm_galaxy           0.0067      0.002      3.611      0.000       0.003       0.010\n",
      "ebv_galaxy           -1.2992      0.058    -22.240      0.000      -1.414      -1.185\n",
      "ccdnphotom_galaxy    -0.0012    7.8e-06   -151.227      0.000      -0.001      -0.001\n",
      "ccdskysb_galaxy_g    -4.2018      0.748     -5.617      0.000      -5.668      -2.736\n",
      "ccdskysb_galaxy_r    10.2335      0.765     13.374      0.000       8.734      11.733\n",
      "ccdskysb_galaxy_z    -6.4292      0.501    -12.824      0.000      -7.412      -5.447\n",
      "exptime_galaxy_g      0.0406      0.005      7.949      0.000       0.031       0.051\n",
      "exptime_galaxy_r      0.1081      0.006     18.692      0.000       0.097       0.119\n",
      "exptime_galaxy_z     -0.0811      0.004    -18.124      0.000      -0.090      -0.072\n",
      "meansky_galaxy_g  -4.933e-09   1.57e-09     -3.148      0.002      -8e-09   -1.86e-09\n",
      "meansky_galaxy_r  -7.568e-09   4.84e-10    -15.630      0.000   -8.52e-09   -6.62e-09\n",
      "meansky_galaxy_z   1.282e-10   3.97e-11      3.233      0.001    5.05e-11    2.06e-10\n",
      "galdepth_galaxy_g     1.6202      0.600      2.702      0.007       0.445       2.795\n",
      "galdepth_galaxy_r   -10.5352      0.574    -18.350      0.000     -11.660      -9.410\n",
      "galdepth_galaxy_z    10.0297      0.576     17.403      0.000       8.900      11.159\n",
      "==============================================================================\n",
      "Omnibus:                   199065.884   Durbin-Watson:                   1.834\n",
      "Prob(Omnibus):                  0.000   Jarque-Bera (JB):         78099921.279\n",
      "Skew:                           3.863   Prob(JB):                         0.00\n",
      "Kurtosis:                      97.326   Cond. No.                     4.23e+10\n",
      "==============================================================================\n",
      "\n",
      "Notes:\n",
      "[1] R² is computed without centering (uncentered) since the model does not contain a constant.\n",
      "[2] Standard Errors assume that the covariance matrix of the errors is correctly specified.\n",
      "[3] The condition number is large, 4.23e+10. This might indicate that there are\n",
      "strong multicollinearity or other numerical problems.\n",
      "                                 OLS Regression Results                                \n",
      "=======================================================================================\n",
      "Dep. Variable:            elg_density   R-squared (uncentered):                   0.371\n",
      "Model:                            OLS   Adj. R-squared (uncentered):              0.371\n",
      "Method:                 Least Squares   F-statistic:                              7269.\n",
      "Date:                Thu, 24 Jun 2021   Prob (F-statistic):                        0.00\n",
      "Time:                        16:09:08   Log-Likelihood:                     -1.8814e+05\n",
      "No. Observations:              209266   AIC:                                  3.763e+05\n",
      "Df Residuals:                  209249   BIC:                                  3.765e+05\n",
      "Df Model:                          17                                                  \n",
      "Covariance Type:            nonrobust                                                  \n",
      "=====================================================================================\n",
      "                        coef    std err          t      P>|t|      [0.025      0.975]\n",
      "-------------------------------------------------------------------------------------\n",
      "stellar_density       0.4544      0.001    337.603      0.000       0.452       0.457\n",
      "airmass_galaxy       -0.1247      0.008    -16.359      0.000      -0.140      -0.110\n",
      "fwhm_galaxy           0.0066      0.002      4.051      0.000       0.003       0.010\n",
      "ebv_galaxy           -2.7803      0.051    -54.781      0.000      -2.880      -2.681\n",
      "ccdnphotom_galaxy    -0.0012   6.77e-06   -173.614      0.000      -0.001      -0.001\n",
      "ccdskysb_galaxy_g   -11.4025      0.650    -17.544      0.000     -12.676     -10.129\n",
      "ccdskysb_galaxy_r    12.0410      0.665     18.113      0.000      10.738      13.344\n",
      "ccdskysb_galaxy_z    -3.9706      0.436     -9.116      0.000      -4.824      -3.117\n",
      "exptime_galaxy_g      0.0525      0.004     11.812      0.000       0.044       0.061\n",
      "exptime_galaxy_r      0.0587      0.005     11.688      0.000       0.049       0.069\n",
      "exptime_galaxy_z     -0.0679      0.004    -17.468      0.000      -0.075      -0.060\n",
      "meansky_galaxy_g   1.438e-09   1.36e-09      1.056      0.291   -1.23e-09    4.11e-09\n",
      "meansky_galaxy_r  -9.986e-09   4.21e-10    -23.740      0.000   -1.08e-08   -9.16e-09\n",
      "meansky_galaxy_z  -7.807e-11   3.45e-11     -2.266      0.023   -1.46e-10   -1.05e-11\n",
      "galdepth_galaxy_g     7.6513      0.521     14.689      0.000       6.630       8.672\n",
      "galdepth_galaxy_r   -14.0686      0.499    -28.205      0.000     -15.046     -13.091\n",
      "galdepth_galaxy_z    11.8883      0.501     23.744      0.000      10.907      12.870\n",
      "==============================================================================\n",
      "Omnibus:                   184740.543   Durbin-Watson:                   1.671\n",
      "Prob(Omnibus):                  0.000   Jarque-Bera (JB):        101089756.772\n",
      "Skew:                           3.269   Prob(JB):                         0.00\n",
      "Kurtosis:                     110.475   Cond. No.                     4.23e+10\n",
      "==============================================================================\n",
      "\n",
      "Notes:\n",
      "[1] R² is computed without centering (uncentered) since the model does not contain a constant.\n",
      "[2] Standard Errors assume that the covariance matrix of the errors is correctly specified.\n",
      "[3] The condition number is large, 4.23e+10. This might indicate that there are\n",
      "strong multicollinearity or other numerical problems.\n",
      "                                 OLS Regression Results                                \n",
      "=======================================================================================\n",
      "Dep. Variable:            qso_density   R-squared (uncentered):                   0.398\n",
      "Model:                            OLS   Adj. R-squared (uncentered):              0.398\n",
      "Method:                 Least Squares   F-statistic:                              8139.\n",
      "Date:                Thu, 24 Jun 2021   Prob (F-statistic):                        0.00\n",
      "Time:                        16:09:08   Log-Likelihood:                     -1.8180e+05\n",
      "No. Observations:              209266   AIC:                                  3.636e+05\n",
      "Df Residuals:                  209249   BIC:                                  3.638e+05\n",
      "Df Model:                          17                                                  \n",
      "Covariance Type:            nonrobust                                                  \n",
      "=====================================================================================\n",
      "                        coef    std err          t      P>|t|      [0.025      0.975]\n",
      "-------------------------------------------------------------------------------------\n",
      "stellar_density       0.4670      0.001    357.644      0.000       0.464       0.470\n",
      "airmass_galaxy        0.0848      0.007     11.463      0.000       0.070       0.099\n",
      "fwhm_galaxy           0.0051      0.002      3.267      0.001       0.002       0.008\n",
      "ebv_galaxy           -1.9742      0.049    -40.094      0.000      -2.071      -1.878\n",
      "ccdnphotom_galaxy    -0.0013   6.57e-06   -190.743      0.000      -0.001      -0.001\n",
      "ccdskysb_galaxy_g    -2.5388      0.631     -4.027      0.000      -3.775      -1.303\n",
      "ccdskysb_galaxy_r    11.9354      0.645     18.507      0.000      10.671      13.199\n",
      "ccdskysb_galaxy_z    -4.5266      0.423    -10.713      0.000      -5.355      -3.698\n",
      "exptime_galaxy_g      0.0096      0.004      2.218      0.027       0.001       0.018\n",
      "exptime_galaxy_r      0.1710      0.005     35.088      0.000       0.161       0.181\n",
      "exptime_galaxy_z     -0.0990      0.004    -26.270      0.000      -0.106      -0.092\n",
      "meansky_galaxy_g  -1.151e-09   1.32e-09     -0.871      0.384   -3.74e-09    1.44e-09\n",
      "meansky_galaxy_r  -5.227e-09   4.08e-10    -12.809      0.000   -6.03e-09   -4.43e-09\n",
      "meansky_galaxy_z  -2.388e-10   3.34e-11     -7.143      0.000   -3.04e-10   -1.73e-10\n",
      "galdepth_galaxy_g     1.3931      0.505      2.757      0.006       0.403       2.384\n",
      "galdepth_galaxy_r    -9.8100      0.484    -20.273      0.000     -10.758      -8.862\n",
      "galdepth_galaxy_z     4.4731      0.486      9.209      0.000       3.521       5.425\n",
      "==============================================================================\n",
      "Omnibus:                   100175.707   Durbin-Watson:                   1.679\n",
      "Prob(Omnibus):                  0.000   Jarque-Bera (JB):          4044254.551\n",
      "Skew:                           1.623   Prob(JB):                         0.00\n",
      "Kurtosis:                      24.290   Cond. No.                     4.23e+10\n",
      "==============================================================================\n",
      "\n",
      "Notes:\n",
      "[1] R² is computed without centering (uncentered) since the model does not contain a constant.\n",
      "[2] Standard Errors assume that the covariance matrix of the errors is correctly specified.\n",
      "[3] The condition number is large, 4.23e+10. This might indicate that there are\n",
      "strong multicollinearity or other numerical problems.\n"
     ]
    }
   ],
   "source": [
    "ols_lrg_geometric_no = sm.OLS(y_lrg,X).fit()\n",
    "print(ols_lrg_geometric_no.summary())\n",
    "ols_elg_geometric_no = sm.OLS(y_elg,X).fit()\n",
    "print(ols_elg_geometric_no.summary())\n",
    "ols_qso_geometric_no = sm.OLS(y_qso,X).fit()\n",
    "print(ols_qso_geometric_no.summary())\n"
   ]
  },
  {
   "cell_type": "code",
   "execution_count": null,
   "metadata": {},
   "outputs": [],
   "source": []
  },
  {
   "cell_type": "code",
   "execution_count": null,
   "metadata": {},
   "outputs": [],
   "source": []
  },
  {
   "cell_type": "code",
   "execution_count": null,
   "metadata": {},
   "outputs": [],
   "source": []
  },
  {
   "cell_type": "code",
   "execution_count": null,
   "metadata": {},
   "outputs": [],
   "source": []
  }
 ],
 "metadata": {
  "kernelspec": {
   "display_name": "Python 3",
   "language": "python",
   "name": "python3"
  },
  "language_info": {
   "codemirror_mode": {
    "name": "ipython",
    "version": 3
   },
   "file_extension": ".py",
   "mimetype": "text/x-python",
   "name": "python",
   "nbconvert_exporter": "python",
   "pygments_lexer": "ipython3",
   "version": "3.8.8"
  }
 },
 "nbformat": 4,
 "nbformat_minor": 1
}