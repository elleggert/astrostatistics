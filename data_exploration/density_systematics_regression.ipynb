{
 "cells": [
  {
   "cell_type": "markdown",
   "metadata": {
    "collapsed": true,
    "pycharm": {
     "name": "#%% md\n"
    }
   },
   "source": [
    "### Attempting to run regressions from systematics values extracted geometrically or from Kitanidis et al on galaxy density\n"
   ]
  },
  {
   "cell_type": "code",
   "execution_count": 27,
   "metadata": {
    "pycharm": {
     "name": "#%%\n"
    }
   },
   "outputs": [],
   "source": [
    "import pandas as pd\n",
    "import numpy as np\n",
    "import pickle\n",
    "import healpy as hp\n",
    "import statsmodels.api as sm\n"
   ]
  },
  {
   "cell_type": "code",
   "execution_count": 2,
   "metadata": {
    "pycharm": {
     "name": "#%%\n"
    }
   },
   "outputs": [
    {
     "name": "stdout",
     "output_type": "stream",
     "text": [
      "Approximate resolution at NSIDE 256 is 0.23 deg\n"
     ]
    }
   ],
   "source": [
    "### Setting Healpy Information\n",
    "NSIDE = 256\n",
    "NPIX = hp.nside2npix(NSIDE)\n",
    "print(\n",
    "    \"Approximate resolution at NSIDE {} is {:.2} deg\".format(\n",
    "        NSIDE, hp.nside2resol(NSIDE, arcmin=True) / 60\n",
    "    )\n",
    ")\n",
    "\n",
    "def raDec2thetaPhi(ra, dec):\n",
    "    return (0.5 * np.pi - np.deg2rad(dec)), (np.deg2rad(ra))\n"
   ]
  },
  {
   "cell_type": "markdown",
   "metadata": {
    "pycharm": {
     "name": "#%% md\n"
    }
   },
   "source": [
    "### Importing Galaxy Density Information"
   ]
  },
  {
   "cell_type": "code",
   "execution_count": 3,
   "metadata": {
    "pycharm": {
     "name": "#%%\n"
    }
   },
   "outputs": [],
   "source": [
    "df_objects = pd.read_csv('../bricks_data/galaxy_catalogue_sample.csv')\n"
   ]
  },
  {
   "cell_type": "code",
   "execution_count": 4,
   "metadata": {
    "pycharm": {
     "name": "#%%\n"
    }
   },
   "outputs": [
    {
     "data": {
      "text/html": [
       "<div>\n",
       "<style scoped>\n",
       "    .dataframe tbody tr th:only-of-type {\n",
       "        vertical-align: middle;\n",
       "    }\n",
       "\n",
       "    .dataframe tbody tr th {\n",
       "        vertical-align: top;\n",
       "    }\n",
       "\n",
       "    .dataframe thead th {\n",
       "        text-align: right;\n",
       "    }\n",
       "</style>\n",
       "<table border=\"1\" class=\"dataframe\">\n",
       "  <thead>\n",
       "    <tr style=\"text-align: right;\">\n",
       "      <th></th>\n",
       "      <th>BrickID</th>\n",
       "      <th>ObjectID</th>\n",
       "      <th>RA</th>\n",
       "      <th>DEC</th>\n",
       "      <th>South</th>\n",
       "      <th>Target_type</th>\n",
       "    </tr>\n",
       "  </thead>\n",
       "  <tbody>\n",
       "    <tr>\n",
       "      <th>0</th>\n",
       "      <td>389675</td>\n",
       "      <td>10</td>\n",
       "      <td>133.284363</td>\n",
       "      <td>10.315927</td>\n",
       "      <td>True</td>\n",
       "      <td>3</td>\n",
       "    </tr>\n",
       "    <tr>\n",
       "      <th>1</th>\n",
       "      <td>389675</td>\n",
       "      <td>11</td>\n",
       "      <td>133.284832</td>\n",
       "      <td>10.314327</td>\n",
       "      <td>True</td>\n",
       "      <td>2</td>\n",
       "    </tr>\n",
       "    <tr>\n",
       "      <th>2</th>\n",
       "      <td>389675</td>\n",
       "      <td>15</td>\n",
       "      <td>133.285109</td>\n",
       "      <td>10.294865</td>\n",
       "      <td>True</td>\n",
       "      <td>3</td>\n",
       "    </tr>\n",
       "    <tr>\n",
       "      <th>3</th>\n",
       "      <td>389675</td>\n",
       "      <td>21</td>\n",
       "      <td>133.285731</td>\n",
       "      <td>10.319199</td>\n",
       "      <td>True</td>\n",
       "      <td>3</td>\n",
       "    </tr>\n",
       "    <tr>\n",
       "      <th>4</th>\n",
       "      <td>389675</td>\n",
       "      <td>35</td>\n",
       "      <td>133.286350</td>\n",
       "      <td>10.168023</td>\n",
       "      <td>True</td>\n",
       "      <td>2</td>\n",
       "    </tr>\n",
       "  </tbody>\n",
       "</table>\n",
       "</div>"
      ],
      "text/plain": [
       "   BrickID  ObjectID          RA        DEC  South  Target_type\n",
       "0   389675        10  133.284363  10.315927   True            3\n",
       "1   389675        11  133.284832  10.314327   True            2\n",
       "2   389675        15  133.285109  10.294865   True            3\n",
       "3   389675        21  133.285731  10.319199   True            3\n",
       "4   389675        35  133.286350  10.168023   True            2"
      ]
     },
     "execution_count": 4,
     "metadata": {},
     "output_type": "execute_result"
    }
   ],
   "source": [
    "df_objects.head()"
   ]
  },
  {
   "cell_type": "code",
   "execution_count": 5,
   "metadata": {
    "pycharm": {
     "name": "#%%\n"
    }
   },
   "outputs": [
    {
     "name": "stdout",
     "output_type": "stream",
     "text": [
      "Number of LRGs in Sample: 41904\n",
      "[166098 167122 167123 ... 756988 756989 757472]\n",
      "Mean LRGs per Pixel: 9.93692198245198\n",
      "[[ 1.66098000e+05  3.08252195e-01]\n",
      " [ 1.67122000e+05 -8.99365216e-01]\n",
      " [ 1.67123000e+05  4.08886980e-01]\n",
      " ...\n",
      " [ 7.56988000e+05 -8.99365216e-01]\n",
      " [ 7.56989000e+05  1.61650439e+00]\n",
      " [ 7.57472000e+05 -4.96826079e-01]]\n"
     ]
    },
    {
     "data": {
      "text/html": [
       "<div>\n",
       "<style scoped>\n",
       "    .dataframe tbody tr th:only-of-type {\n",
       "        vertical-align: middle;\n",
       "    }\n",
       "\n",
       "    .dataframe tbody tr th {\n",
       "        vertical-align: top;\n",
       "    }\n",
       "\n",
       "    .dataframe thead th {\n",
       "        text-align: right;\n",
       "    }\n",
       "</style>\n",
       "<table border=\"1\" class=\"dataframe\">\n",
       "  <thead>\n",
       "    <tr style=\"text-align: right;\">\n",
       "      <th></th>\n",
       "      <th>pixel_id</th>\n",
       "      <th>lrg_density</th>\n",
       "    </tr>\n",
       "  </thead>\n",
       "  <tbody>\n",
       "    <tr>\n",
       "      <th>0</th>\n",
       "      <td>166098</td>\n",
       "      <td>0.308252</td>\n",
       "    </tr>\n",
       "    <tr>\n",
       "      <th>1</th>\n",
       "      <td>167122</td>\n",
       "      <td>-0.899365</td>\n",
       "    </tr>\n",
       "    <tr>\n",
       "      <th>2</th>\n",
       "      <td>167123</td>\n",
       "      <td>0.408887</td>\n",
       "    </tr>\n",
       "    <tr>\n",
       "      <th>3</th>\n",
       "      <td>171167</td>\n",
       "      <td>-0.496826</td>\n",
       "    </tr>\n",
       "    <tr>\n",
       "      <th>4</th>\n",
       "      <td>172190</td>\n",
       "      <td>-0.496826</td>\n",
       "    </tr>\n",
       "  </tbody>\n",
       "</table>\n",
       "</div>"
      ],
      "text/plain": [
       "   pixel_id  lrg_density\n",
       "0    166098     0.308252\n",
       "1    167122    -0.899365\n",
       "2    167123     0.408887\n",
       "3    171167    -0.496826\n",
       "4    172190    -0.496826"
      ]
     },
     "execution_count": 5,
     "metadata": {},
     "output_type": "execute_result"
    }
   ],
   "source": [
    "# LRG\n",
    "\n",
    "df_LRG = df_objects[df_objects[\"Target_type\"] == 1]\n",
    "ra_LRG = df_LRG[\"RA\"].to_numpy(copy=True)\n",
    "dec_LRG = df_LRG[\"DEC\"].to_numpy(copy=True)\n",
    "theta, phi = raDec2thetaPhi(ra_LRG, dec_LRG)\n",
    "\n",
    "print(\"Number of LRGs in Sample:\", len(ra_LRG))\n",
    "\n",
    "LRG_pixel_indices = hp.ang2pix(NSIDE, theta,phi)\n",
    "\n",
    "\n",
    "# Finding out unique indices and how often they appear --> shows the density of LRGs in this pixel\n",
    "(unique, counts) = np.unique(LRG_pixel_indices, return_counts=True)\n",
    "\n",
    "print(unique)\n",
    "\n",
    "mean_LRG = counts.mean()\n",
    "print(\"Mean LRGs per Pixel:\", mean_LRG)\n",
    "# Calculating Densities for every block\n",
    "density_LRG = (counts / mean_LRG) - 1\n",
    "id_density = np.stack((unique, density_LRG), axis=1)\n",
    "print(id_density)\n",
    "df_lrg = pd.DataFrame(id_density, columns=['pixel_id', 'lrg_density'])\n",
    "df_lrg.pixel_id = df_lrg.pixel_id.astype(int)\n",
    "df_lrg.head()"
   ]
  },
  {
   "cell_type": "code",
   "execution_count": 6,
   "metadata": {
    "pycharm": {
     "name": "#%%\n"
    }
   },
   "outputs": [
    {
     "name": "stdout",
     "output_type": "stream",
     "text": [
      "Number of ELGs in Sample: 157118\n",
      "[166098 167122 167123 ... 756502 756989 757472]\n",
      "Mean ELGs per Pixel: 32.556568586821385\n",
      "[[ 1.66098000e+05  7.50518718e-02]\n",
      " [ 1.67122000e+05 -9.07852697e-01]\n",
      " [ 1.67123000e+05 -4.16400412e-01]\n",
      " ...\n",
      " [ 7.56502000e+05 -5.69979251e-01]\n",
      " [ 7.56989000e+05  4.34454359e+00]\n",
      " [ 7.57472000e+05  1.36203363e-02]]\n",
      "   pixel_id  elg_density\n",
      "0    166098     0.075052\n",
      "1    167122    -0.907853\n",
      "2    167123    -0.416400\n",
      "3    171167     0.412925\n",
      "4    172190    -0.293537\n"
     ]
    }
   ],
   "source": [
    "# LRG\n",
    "\n",
    "df_ELG = df_objects[df_objects[\"Target_type\"] == 2]\n",
    "ra_ELG = df_ELG[\"RA\"].to_numpy(copy=True)\n",
    "dec_ELG = df_ELG[\"DEC\"].to_numpy(copy=True)\n",
    "theta, phi = raDec2thetaPhi(ra_ELG, dec_ELG)\n",
    "\n",
    "print(\"Number of ELGs in Sample:\", len(ra_ELG))\n",
    "\n",
    "ELG_pixel_indices = hp.ang2pix(NSIDE, theta,phi)\n",
    "\n",
    "\n",
    "# Finding out unique indices and how often they appear --> shows the density of LRGs in this pixel\n",
    "(unique, counts) = np.unique(ELG_pixel_indices, return_counts=True)\n",
    "\n",
    "print(unique)\n",
    "\n",
    "mean_ELG = counts.mean()\n",
    "print(\"Mean ELGs per Pixel:\", mean_ELG)\n",
    "# Calculating Densities for every block\n",
    "density_ELG = (counts / mean_ELG) - 1\n",
    "id_density = np.stack((unique, density_ELG), axis=1)\n",
    "print(id_density)\n",
    "df_elg = pd.DataFrame(id_density, columns=['pixel_id', 'elg_density'])\n",
    "df_elg.pixel_id = df_elg.pixel_id.astype(int)\n",
    "\n",
    "print(df_elg.head())"
   ]
  },
  {
   "cell_type": "code",
   "execution_count": 7,
   "metadata": {
    "pycharm": {
     "name": "#%%\n"
    }
   },
   "outputs": [
    {
     "name": "stdout",
     "output_type": "stream",
     "text": [
      "Number of QSOs in Sample: 180394\n",
      "[166098 167122 167123 ... 756502 756989 757472]\n",
      "Mean QSOs per Pixel: 36.92058943921408\n",
      "[[ 1.66098000e+05  5.63211637e-02]\n",
      " [ 1.67122000e+05 -8.10403894e-01]\n",
      " [ 1.67123000e+05  1.10491480e-01]\n",
      " ...\n",
      " [ 7.56502000e+05 -8.64574210e-01]\n",
      " [ 7.56989000e+05  2.60232602e+00]\n",
      " [ 7.57472000e+05 -1.60360101e-01]]\n",
      "   pixel_id  qso_density\n",
      "0    166098     0.056321\n",
      "1    167122    -0.810404\n",
      "2    167123     0.110491\n",
      "3    171167    -0.024934\n",
      "4    172190    -0.133275\n"
     ]
    }
   ],
   "source": [
    "df_QSO = df_objects[df_objects[\"Target_type\"] == 3]\n",
    "ra_QSO = df_QSO[\"RA\"].to_numpy(copy=True)\n",
    "dec_QSO = df_QSO[\"DEC\"].to_numpy(copy=True)\n",
    "theta, phi = raDec2thetaPhi(ra_QSO, dec_QSO)\n",
    "\n",
    "print(\"Number of QSOs in Sample:\", len(ra_QSO))\n",
    "\n",
    "QSO_pixel_indices = hp.ang2pix(NSIDE, theta,phi)\n",
    "\n",
    "\n",
    "# Finding out unique indices and how often they appear --> shows the density of LRGs in this pixel\n",
    "(unique, counts) = np.unique(QSO_pixel_indices, return_counts=True)\n",
    "\n",
    "print(unique)\n",
    "\n",
    "mean_QSO = counts.mean()\n",
    "print(\"Mean QSOs per Pixel:\", mean_QSO)\n",
    "# Calculating Densities for every block\n",
    "density_QSO = (counts / mean_QSO) - 1\n",
    "id_density = np.stack((unique, density_QSO), axis=1)\n",
    "print(id_density)\n",
    "df_qso = pd.DataFrame(id_density, columns=['pixel_id', 'qso_density'])\n",
    "df_qso.pixel_id = df_qso.pixel_id.astype(int)\n",
    "\n",
    "print(df_qso.head())"
   ]
  },
  {
   "cell_type": "code",
   "execution_count": 8,
   "metadata": {
    "pycharm": {
     "name": "#%%\n"
    }
   },
   "outputs": [
    {
     "name": "stdout",
     "output_type": "stream",
     "text": [
      "pixel_id         0\n",
      "lrg_density    860\n",
      "elg_density    251\n",
      "qso_density    191\n",
      "dtype: int64\n",
      "(4217, 2) (4826, 2) (4886, 2) (5077, 4)\n"
     ]
    }
   ],
   "source": [
    "df = pd.merge(df_lrg, df_elg, how='outer', on='pixel_id')\n",
    "df = pd.merge(df, df_qso, how='outer', on='pixel_id')\n",
    "print(df.isna().sum())\n",
    "print(df_lrg.shape, df_elg.shape, df_qso.shape, df.shape)"
   ]
  },
  {
   "cell_type": "code",
   "execution_count": 9,
   "metadata": {
    "pycharm": {
     "name": "#%%\n"
    }
   },
   "outputs": [
    {
     "name": "stdout",
     "output_type": "stream",
     "text": [
      "pixel_id       0\n",
      "lrg_density    0\n",
      "elg_density    0\n",
      "qso_density    0\n",
      "dtype: int64\n"
     ]
    }
   ],
   "source": [
    "# Dropping all pixels where I do not have densities for all 3 types of galaxies\n",
    "df.dropna(axis=0, inplace=True)\n",
    "print(df.isna().sum())"
   ]
  },
  {
   "cell_type": "markdown",
   "metadata": {
    "pycharm": {
     "name": "#%% md\n"
    }
   },
   "source": [
    "### Importing the Systematics Values and Appending them to the df.\n"
   ]
  },
  {
   "cell_type": "markdown",
   "metadata": {
    "pycharm": {
     "name": "#%% md\n"
    }
   },
   "source": [
    "#### Stellar Density"
   ]
  },
  {
   "cell_type": "code",
   "execution_count": 10,
   "metadata": {
    "pycharm": {
     "name": "#%%\n"
    }
   },
   "outputs": [
    {
     "name": "stdout",
     "output_type": "stream",
     "text": [
      "Number of stellars in Sample: 38979\n",
      "[166098 167123 171167 ... 756502 756989 757472]\n",
      "Mean stellars per Pixel: 9.718025430067314\n",
      "[[ 1.66098000e+05 -6.91295313e-01]\n",
      " [ 1.67123000e+05  1.31917186e-01]\n",
      " [ 1.71167000e+05 -4.85492188e-01]\n",
      " ...\n",
      " [ 7.56502000e+05 -7.94196875e-01]\n",
      " [ 7.56989000e+05  2.18994843e+00]\n",
      " [ 7.57472000e+05 -5.88393750e-01]]\n",
      "   pixel_id  stellar_density\n",
      "0    166098        -0.691295\n",
      "1    167123         0.131917\n",
      "2    171167        -0.485492\n",
      "3    172190        -0.794197\n",
      "4    172191        -0.279689\n",
      "pixel_id           0\n",
      "stellar_density    0\n",
      "dtype: int64\n"
     ]
    }
   ],
   "source": [
    "df_Stellar = pd.read_csv('../bricks_data/galaxy_catalogue_stellar.csv')\n",
    "ra_stellar = df_Stellar[\"RA\"].to_numpy(copy=True)\n",
    "dec_stellar = df_Stellar[\"DEC\"].to_numpy(copy=True)\n",
    "theta, phi = raDec2thetaPhi(ra_stellar, dec_stellar)\n",
    "\n",
    "print(\"Number of stellars in Sample:\", len(ra_stellar))\n",
    "\n",
    "stellar_pixel_indices = hp.ang2pix(NSIDE, theta,phi)\n",
    "\n",
    "\n",
    "# Finding out unique indices and how often they appear --> shows the density of LRGs in this pixel\n",
    "(unique, counts) = np.unique(stellar_pixel_indices, return_counts=True)\n",
    "\n",
    "print(unique)\n",
    "\n",
    "mean_stellar = counts.mean()\n",
    "print(\"Mean stellars per Pixel:\", mean_stellar)\n",
    "# Calculating Densities for every block\n",
    "density_stellar = (counts / mean_stellar) - 1\n",
    "id_density = np.stack((unique, density_stellar), axis=1)\n",
    "print(id_density)\n",
    "df_stellar = pd.DataFrame(id_density, columns=['pixel_id', 'stellar_density'])\n",
    "df_stellar.pixel_id = df_stellar.pixel_id.astype(int)\n",
    "\n",
    "print(df_stellar.head())\n",
    "\n",
    "print(df_stellar.isna().sum())"
   ]
  },
  {
   "cell_type": "code",
   "execution_count": 11,
   "metadata": {
    "pycharm": {
     "name": "#%%\n"
    }
   },
   "outputs": [
    {
     "name": "stdout",
     "output_type": "stream",
     "text": [
      "pixel_id           0\n",
      "lrg_density        0\n",
      "elg_density        0\n",
      "qso_density        0\n",
      "stellar_density    0\n",
      "dtype: int64\n"
     ]
    },
    {
     "data": {
      "text/plain": [
       "(3621, 5)"
      ]
     },
     "execution_count": 11,
     "metadata": {},
     "output_type": "execute_result"
    }
   ],
   "source": [
    "df = df.merge(df_stellar, how='inner', on='pixel_id')\n",
    "print(df.isna().sum())\n",
    "df.shape"
   ]
  },
  {
   "cell_type": "markdown",
   "metadata": {
    "pycharm": {
     "name": "#%% md\n"
    }
   },
   "source": [
    "#### Kitanidis Systematics Values"
   ]
  },
  {
   "cell_type": "code",
   "execution_count": 12,
   "metadata": {
    "pycharm": {
     "name": "#%%\n"
    }
   },
   "outputs": [
    {
     "name": "stdout",
     "output_type": "stream",
     "text": [
      "1567\n"
     ]
    }
   ],
   "source": [
    "with open('../bricks_data/pixel2systematics_kitanidis.pickle', 'rb') as f:\n",
    "    kitanidis_dict = pickle.load(f)\n",
    "    f.close()\n",
    "\n",
    "print(len(kitanidis_dict.keys()))"
   ]
  },
  {
   "cell_type": "code",
   "execution_count": 13,
   "metadata": {
    "pycharm": {
     "name": "#%%\n"
    }
   },
   "outputs": [],
   "source": [
    "pixel_keys = kitanidis_dict.keys()\n",
    "\n",
    "sys_list = []\n",
    "for key in pixel_keys:\n",
    "    ind_sys_list = kitanidis_dict[key]\n",
    "    ind_sys_list.append(key)\n",
    "    sys_list.append(ind_sys_list)\n",
    "\n",
    "df_sys_kit = pd.DataFrame(sys_list, columns=['airmass_galaxy',\n",
    "'fwhm_galaxy',\n",
    "'ebv_galaxy',\n",
    "'ccdnphotom_galaxy',\n",
    "\n",
    "'ccdskysb_galaxy_g',\n",
    "'ccdskysb_galaxy_r',\n",
    "'ccdskysb_galaxy_z',\n",
    "'exptime_galaxy_g',\n",
    "'exptime_galaxy_r',\n",
    "'exptime_galaxy_z',\n",
    "'meansky_galaxy_g',\n",
    "'meansky_galaxy_r',\n",
    "'meansky_galaxy_z',\n",
    "'galdepth_galaxy_g',\n",
    "'galdepth_galaxy_r',\n",
    "'galdepth_galaxy_z', 'pixel_id'])\n",
    "\n"
   ]
  },
  {
   "cell_type": "code",
   "execution_count": 14,
   "metadata": {
    "pycharm": {
     "name": "#%%\n"
    }
   },
   "outputs": [
    {
     "data": {
      "text/html": [
       "<div>\n",
       "<style scoped>\n",
       "    .dataframe tbody tr th:only-of-type {\n",
       "        vertical-align: middle;\n",
       "    }\n",
       "\n",
       "    .dataframe tbody tr th {\n",
       "        vertical-align: top;\n",
       "    }\n",
       "\n",
       "    .dataframe thead th {\n",
       "        text-align: right;\n",
       "    }\n",
       "</style>\n",
       "<table border=\"1\" class=\"dataframe\">\n",
       "  <thead>\n",
       "    <tr style=\"text-align: right;\">\n",
       "      <th></th>\n",
       "      <th>airmass_galaxy</th>\n",
       "      <th>fwhm_galaxy</th>\n",
       "      <th>ebv_galaxy</th>\n",
       "      <th>ccdnphotom_galaxy</th>\n",
       "      <th>ccdskysb_galaxy_g</th>\n",
       "      <th>ccdskysb_galaxy_r</th>\n",
       "      <th>ccdskysb_galaxy_z</th>\n",
       "      <th>exptime_galaxy_g</th>\n",
       "      <th>exptime_galaxy_r</th>\n",
       "      <th>exptime_galaxy_z</th>\n",
       "      <th>meansky_galaxy_g</th>\n",
       "      <th>meansky_galaxy_r</th>\n",
       "      <th>meansky_galaxy_z</th>\n",
       "      <th>galdepth_galaxy_g</th>\n",
       "      <th>galdepth_galaxy_r</th>\n",
       "      <th>galdepth_galaxy_z</th>\n",
       "      <th>pixel_id</th>\n",
       "    </tr>\n",
       "  </thead>\n",
       "  <tbody>\n",
       "    <tr>\n",
       "      <th>0</th>\n",
       "      <td>1.204206</td>\n",
       "      <td>4.569465</td>\n",
       "      <td>0.021082</td>\n",
       "      <td>273.100211</td>\n",
       "      <td>23.627050</td>\n",
       "      <td>22.730956</td>\n",
       "      <td>20.206251</td>\n",
       "      <td>90.0</td>\n",
       "      <td>90.0</td>\n",
       "      <td>90.0</td>\n",
       "      <td>2.390975e+08</td>\n",
       "      <td>6.489436e+08</td>\n",
       "      <td>2.384546e+09</td>\n",
       "      <td>23.111424</td>\n",
       "      <td>23.139025</td>\n",
       "      <td>22.097923</td>\n",
       "      <td>741107</td>\n",
       "    </tr>\n",
       "    <tr>\n",
       "      <th>1</th>\n",
       "      <td>1.069105</td>\n",
       "      <td>4.824085</td>\n",
       "      <td>0.010359</td>\n",
       "      <td>148.191320</td>\n",
       "      <td>23.601375</td>\n",
       "      <td>22.732608</td>\n",
       "      <td>20.000021</td>\n",
       "      <td>90.0</td>\n",
       "      <td>90.0</td>\n",
       "      <td>90.0</td>\n",
       "      <td>1.803126e+08</td>\n",
       "      <td>2.993781e+08</td>\n",
       "      <td>2.225294e+10</td>\n",
       "      <td>23.353823</td>\n",
       "      <td>23.320494</td>\n",
       "      <td>21.550398</td>\n",
       "      <td>662895</td>\n",
       "    </tr>\n",
       "    <tr>\n",
       "      <th>2</th>\n",
       "      <td>1.108757</td>\n",
       "      <td>4.413348</td>\n",
       "      <td>0.011393</td>\n",
       "      <td>154.348513</td>\n",
       "      <td>23.602864</td>\n",
       "      <td>22.701580</td>\n",
       "      <td>20.073285</td>\n",
       "      <td>90.0</td>\n",
       "      <td>90.0</td>\n",
       "      <td>90.0</td>\n",
       "      <td>2.952632e+08</td>\n",
       "      <td>8.687714e+08</td>\n",
       "      <td>1.152634e+10</td>\n",
       "      <td>23.062541</td>\n",
       "      <td>22.892199</td>\n",
       "      <td>21.675296</td>\n",
       "      <td>662913</td>\n",
       "    </tr>\n",
       "    <tr>\n",
       "      <th>3</th>\n",
       "      <td>1.104669</td>\n",
       "      <td>4.394738</td>\n",
       "      <td>0.011230</td>\n",
       "      <td>153.649709</td>\n",
       "      <td>23.613133</td>\n",
       "      <td>22.710532</td>\n",
       "      <td>20.111641</td>\n",
       "      <td>90.0</td>\n",
       "      <td>90.0</td>\n",
       "      <td>90.0</td>\n",
       "      <td>2.446651e+08</td>\n",
       "      <td>9.609978e+08</td>\n",
       "      <td>8.914973e+09</td>\n",
       "      <td>23.186001</td>\n",
       "      <td>22.788259</td>\n",
       "      <td>21.786543</td>\n",
       "      <td>663905</td>\n",
       "    </tr>\n",
       "    <tr>\n",
       "      <th>4</th>\n",
       "      <td>1.107077</td>\n",
       "      <td>4.439277</td>\n",
       "      <td>0.014093</td>\n",
       "      <td>150.531232</td>\n",
       "      <td>23.583476</td>\n",
       "      <td>22.647124</td>\n",
       "      <td>20.197871</td>\n",
       "      <td>90.0</td>\n",
       "      <td>90.0</td>\n",
       "      <td>90.0</td>\n",
       "      <td>3.645015e+08</td>\n",
       "      <td>6.979010e+08</td>\n",
       "      <td>9.072512e+09</td>\n",
       "      <td>22.836915</td>\n",
       "      <td>23.042679</td>\n",
       "      <td>21.724951</td>\n",
       "      <td>652792</td>\n",
       "    </tr>\n",
       "  </tbody>\n",
       "</table>\n",
       "</div>"
      ],
      "text/plain": [
       "   airmass_galaxy  fwhm_galaxy  ebv_galaxy  ccdnphotom_galaxy  \\\n",
       "0        1.204206     4.569465    0.021082         273.100211   \n",
       "1        1.069105     4.824085    0.010359         148.191320   \n",
       "2        1.108757     4.413348    0.011393         154.348513   \n",
       "3        1.104669     4.394738    0.011230         153.649709   \n",
       "4        1.107077     4.439277    0.014093         150.531232   \n",
       "\n",
       "   ccdskysb_galaxy_g  ccdskysb_galaxy_r  ccdskysb_galaxy_z  exptime_galaxy_g  \\\n",
       "0          23.627050          22.730956          20.206251              90.0   \n",
       "1          23.601375          22.732608          20.000021              90.0   \n",
       "2          23.602864          22.701580          20.073285              90.0   \n",
       "3          23.613133          22.710532          20.111641              90.0   \n",
       "4          23.583476          22.647124          20.197871              90.0   \n",
       "\n",
       "   exptime_galaxy_r  exptime_galaxy_z  meansky_galaxy_g  meansky_galaxy_r  \\\n",
       "0              90.0              90.0      2.390975e+08      6.489436e+08   \n",
       "1              90.0              90.0      1.803126e+08      2.993781e+08   \n",
       "2              90.0              90.0      2.952632e+08      8.687714e+08   \n",
       "3              90.0              90.0      2.446651e+08      9.609978e+08   \n",
       "4              90.0              90.0      3.645015e+08      6.979010e+08   \n",
       "\n",
       "   meansky_galaxy_z  galdepth_galaxy_g  galdepth_galaxy_r  galdepth_galaxy_z  \\\n",
       "0      2.384546e+09          23.111424          23.139025          22.097923   \n",
       "1      2.225294e+10          23.353823          23.320494          21.550398   \n",
       "2      1.152634e+10          23.062541          22.892199          21.675296   \n",
       "3      8.914973e+09          23.186001          22.788259          21.786543   \n",
       "4      9.072512e+09          22.836915          23.042679          21.724951   \n",
       "\n",
       "   pixel_id  \n",
       "0    741107  \n",
       "1    662895  \n",
       "2    662913  \n",
       "3    663905  \n",
       "4    652792  "
      ]
     },
     "execution_count": 14,
     "metadata": {},
     "output_type": "execute_result"
    }
   ],
   "source": [
    "df_sys_kit.head()"
   ]
  },
  {
   "cell_type": "code",
   "execution_count": 15,
   "metadata": {
    "pycharm": {
     "name": "#%%\n"
    }
   },
   "outputs": [
    {
     "name": "stdout",
     "output_type": "stream",
     "text": [
      "pixel_id             0\n",
      "lrg_density          0\n",
      "elg_density          0\n",
      "qso_density          0\n",
      "stellar_density      0\n",
      "airmass_galaxy       0\n",
      "fwhm_galaxy          0\n",
      "ebv_galaxy           0\n",
      "ccdnphotom_galaxy    0\n",
      "ccdskysb_galaxy_g    3\n",
      "ccdskysb_galaxy_r    0\n",
      "ccdskysb_galaxy_z    0\n",
      "exptime_galaxy_g     0\n",
      "exptime_galaxy_r     0\n",
      "exptime_galaxy_z     0\n",
      "meansky_galaxy_g     0\n",
      "meansky_galaxy_r     0\n",
      "meansky_galaxy_z     0\n",
      "galdepth_galaxy_g    0\n",
      "galdepth_galaxy_r    0\n",
      "galdepth_galaxy_z    0\n",
      "dtype: int64\n"
     ]
    },
    {
     "data": {
      "text/html": [
       "<div>\n",
       "<style scoped>\n",
       "    .dataframe tbody tr th:only-of-type {\n",
       "        vertical-align: middle;\n",
       "    }\n",
       "\n",
       "    .dataframe tbody tr th {\n",
       "        vertical-align: top;\n",
       "    }\n",
       "\n",
       "    .dataframe thead th {\n",
       "        text-align: right;\n",
       "    }\n",
       "</style>\n",
       "<table border=\"1\" class=\"dataframe\">\n",
       "  <thead>\n",
       "    <tr style=\"text-align: right;\">\n",
       "      <th></th>\n",
       "      <th>pixel_id</th>\n",
       "      <th>lrg_density</th>\n",
       "      <th>elg_density</th>\n",
       "      <th>qso_density</th>\n",
       "      <th>stellar_density</th>\n",
       "      <th>airmass_galaxy</th>\n",
       "      <th>fwhm_galaxy</th>\n",
       "      <th>ebv_galaxy</th>\n",
       "      <th>ccdnphotom_galaxy</th>\n",
       "      <th>ccdskysb_galaxy_g</th>\n",
       "      <th>...</th>\n",
       "      <th>ccdskysb_galaxy_z</th>\n",
       "      <th>exptime_galaxy_g</th>\n",
       "      <th>exptime_galaxy_r</th>\n",
       "      <th>exptime_galaxy_z</th>\n",
       "      <th>meansky_galaxy_g</th>\n",
       "      <th>meansky_galaxy_r</th>\n",
       "      <th>meansky_galaxy_z</th>\n",
       "      <th>galdepth_galaxy_g</th>\n",
       "      <th>galdepth_galaxy_r</th>\n",
       "      <th>galdepth_galaxy_z</th>\n",
       "    </tr>\n",
       "  </thead>\n",
       "  <tbody>\n",
       "    <tr>\n",
       "      <th>0</th>\n",
       "      <td>172191</td>\n",
       "      <td>0.509522</td>\n",
       "      <td>1.180820</td>\n",
       "      <td>0.787620</td>\n",
       "      <td>-0.279689</td>\n",
       "      <td>1.615369</td>\n",
       "      <td>4.563708</td>\n",
       "      <td>0.027940</td>\n",
       "      <td>617.485215</td>\n",
       "      <td>23.461968</td>\n",
       "      <td>...</td>\n",
       "      <td>19.328887</td>\n",
       "      <td>143.100496</td>\n",
       "      <td>139.892237</td>\n",
       "      <td>122.275265</td>\n",
       "      <td>0.199914</td>\n",
       "      <td>0.920791</td>\n",
       "      <td>2.869334</td>\n",
       "      <td>23.626332</td>\n",
       "      <td>22.942529</td>\n",
       "      <td>22.215109</td>\n",
       "    </tr>\n",
       "    <tr>\n",
       "      <th>1</th>\n",
       "      <td>173250</td>\n",
       "      <td>1.817774</td>\n",
       "      <td>2.133008</td>\n",
       "      <td>1.410579</td>\n",
       "      <td>1.263834</td>\n",
       "      <td>1.551244</td>\n",
       "      <td>4.652137</td>\n",
       "      <td>0.022238</td>\n",
       "      <td>997.009628</td>\n",
       "      <td>23.454327</td>\n",
       "      <td>...</td>\n",
       "      <td>19.084433</td>\n",
       "      <td>158.096504</td>\n",
       "      <td>82.525712</td>\n",
       "      <td>165.945433</td>\n",
       "      <td>0.203127</td>\n",
       "      <td>0.499488</td>\n",
       "      <td>3.490955</td>\n",
       "      <td>23.604491</td>\n",
       "      <td>22.966942</td>\n",
       "      <td>22.331463</td>\n",
       "    </tr>\n",
       "    <tr>\n",
       "      <th>2</th>\n",
       "      <td>174071</td>\n",
       "      <td>0.106983</td>\n",
       "      <td>0.750799</td>\n",
       "      <td>0.191747</td>\n",
       "      <td>-0.794197</td>\n",
       "      <td>1.406610</td>\n",
       "      <td>4.458577</td>\n",
       "      <td>0.018477</td>\n",
       "      <td>367.511248</td>\n",
       "      <td>23.441590</td>\n",
       "      <td>...</td>\n",
       "      <td>19.497361</td>\n",
       "      <td>128.317445</td>\n",
       "      <td>87.744524</td>\n",
       "      <td>106.219834</td>\n",
       "      <td>0.213351</td>\n",
       "      <td>0.564238</td>\n",
       "      <td>1.995409</td>\n",
       "      <td>23.598964</td>\n",
       "      <td>22.922293</td>\n",
       "      <td>22.342016</td>\n",
       "    </tr>\n",
       "    <tr>\n",
       "      <th>3</th>\n",
       "      <td>174554</td>\n",
       "      <td>0.106983</td>\n",
       "      <td>0.658651</td>\n",
       "      <td>0.083406</td>\n",
       "      <td>0.955130</td>\n",
       "      <td>2.301381</td>\n",
       "      <td>6.055535</td>\n",
       "      <td>0.131243</td>\n",
       "      <td>459.871429</td>\n",
       "      <td>23.432264</td>\n",
       "      <td>...</td>\n",
       "      <td>19.849928</td>\n",
       "      <td>200.000000</td>\n",
       "      <td>124.000000</td>\n",
       "      <td>221.028571</td>\n",
       "      <td>0.126744</td>\n",
       "      <td>0.333307</td>\n",
       "      <td>3.754301</td>\n",
       "      <td>24.007800</td>\n",
       "      <td>23.363166</td>\n",
       "      <td>22.229356</td>\n",
       "    </tr>\n",
       "    <tr>\n",
       "      <th>4</th>\n",
       "      <td>175096</td>\n",
       "      <td>1.515870</td>\n",
       "      <td>3.146629</td>\n",
       "      <td>1.329324</td>\n",
       "      <td>-0.485492</td>\n",
       "      <td>1.440663</td>\n",
       "      <td>4.587659</td>\n",
       "      <td>0.018841</td>\n",
       "      <td>373.382383</td>\n",
       "      <td>23.452281</td>\n",
       "      <td>...</td>\n",
       "      <td>19.589021</td>\n",
       "      <td>128.873803</td>\n",
       "      <td>83.743415</td>\n",
       "      <td>107.265548</td>\n",
       "      <td>0.293171</td>\n",
       "      <td>0.540003</td>\n",
       "      <td>6.617020</td>\n",
       "      <td>23.605227</td>\n",
       "      <td>22.900591</td>\n",
       "      <td>22.310904</td>\n",
       "    </tr>\n",
       "  </tbody>\n",
       "</table>\n",
       "<p>5 rows × 21 columns</p>\n",
       "</div>"
      ],
      "text/plain": [
       "   pixel_id  lrg_density  elg_density  qso_density  stellar_density  \\\n",
       "0    172191     0.509522     1.180820     0.787620        -0.279689   \n",
       "1    173250     1.817774     2.133008     1.410579         1.263834   \n",
       "2    174071     0.106983     0.750799     0.191747        -0.794197   \n",
       "3    174554     0.106983     0.658651     0.083406         0.955130   \n",
       "4    175096     1.515870     3.146629     1.329324        -0.485492   \n",
       "\n",
       "   airmass_galaxy  fwhm_galaxy  ebv_galaxy  ccdnphotom_galaxy  \\\n",
       "0        1.615369     4.563708    0.027940         617.485215   \n",
       "1        1.551244     4.652137    0.022238         997.009628   \n",
       "2        1.406610     4.458577    0.018477         367.511248   \n",
       "3        2.301381     6.055535    0.131243         459.871429   \n",
       "4        1.440663     4.587659    0.018841         373.382383   \n",
       "\n",
       "   ccdskysb_galaxy_g  ...  ccdskysb_galaxy_z  exptime_galaxy_g  \\\n",
       "0          23.461968  ...          19.328887        143.100496   \n",
       "1          23.454327  ...          19.084433        158.096504   \n",
       "2          23.441590  ...          19.497361        128.317445   \n",
       "3          23.432264  ...          19.849928        200.000000   \n",
       "4          23.452281  ...          19.589021        128.873803   \n",
       "\n",
       "   exptime_galaxy_r  exptime_galaxy_z  meansky_galaxy_g  meansky_galaxy_r  \\\n",
       "0        139.892237        122.275265          0.199914          0.920791   \n",
       "1         82.525712        165.945433          0.203127          0.499488   \n",
       "2         87.744524        106.219834          0.213351          0.564238   \n",
       "3        124.000000        221.028571          0.126744          0.333307   \n",
       "4         83.743415        107.265548          0.293171          0.540003   \n",
       "\n",
       "   meansky_galaxy_z  galdepth_galaxy_g  galdepth_galaxy_r  galdepth_galaxy_z  \n",
       "0          2.869334          23.626332          22.942529          22.215109  \n",
       "1          3.490955          23.604491          22.966942          22.331463  \n",
       "2          1.995409          23.598964          22.922293          22.342016  \n",
       "3          3.754301          24.007800          23.363166          22.229356  \n",
       "4          6.617020          23.605227          22.900591          22.310904  \n",
       "\n",
       "[5 rows x 21 columns]"
      ]
     },
     "execution_count": 15,
     "metadata": {},
     "output_type": "execute_result"
    }
   ],
   "source": [
    "df_kitanidis = df.merge(df_sys_kit, how='inner', on='pixel_id')\n",
    "print(df_kitanidis.isna().sum())\n",
    "df_kitanidis.dropna(axis=0, inplace=True)\n",
    "\n",
    "df_kitanidis.head()\n"
   ]
  },
  {
   "cell_type": "code",
   "execution_count": 16,
   "metadata": {
    "pycharm": {
     "name": "#%%\n"
    }
   },
   "outputs": [
    {
     "name": "stdout",
     "output_type": "stream",
     "text": [
      "pixel_id             0\n",
      "lrg_density          0\n",
      "elg_density          0\n",
      "qso_density          0\n",
      "stellar_density      0\n",
      "airmass_galaxy       0\n",
      "fwhm_galaxy          0\n",
      "ebv_galaxy           0\n",
      "ccdnphotom_galaxy    0\n",
      "ccdskysb_galaxy_g    0\n",
      "ccdskysb_galaxy_r    0\n",
      "ccdskysb_galaxy_z    0\n",
      "exptime_galaxy_g     0\n",
      "exptime_galaxy_r     0\n",
      "exptime_galaxy_z     0\n",
      "meansky_galaxy_g     0\n",
      "meansky_galaxy_r     0\n",
      "meansky_galaxy_z     0\n",
      "galdepth_galaxy_g    0\n",
      "galdepth_galaxy_r    0\n",
      "galdepth_galaxy_z    0\n",
      "dtype: int64\n"
     ]
    }
   ],
   "source": [
    "print(df_kitanidis.isna().sum())"
   ]
  },
  {
   "cell_type": "markdown",
   "metadata": {
    "pycharm": {
     "name": "#%% md\n"
    }
   },
   "source": [
    "#### Geometric Systematics Values"
   ]
  },
  {
   "cell_type": "code",
   "execution_count": 17,
   "metadata": {
    "pycharm": {
     "name": "#%%\n"
    }
   },
   "outputs": [
    {
     "name": "stdout",
     "output_type": "stream",
     "text": [
      "455672\n"
     ]
    }
   ],
   "source": [
    "with open('../bricks_data/pixel2systematics_geometric.pickle', 'rb') as f:\n",
    "    geometric_dict = pickle.load(f)\n",
    "    f.close()\n",
    "\n",
    "print(len(geometric_dict.keys()))\n"
   ]
  },
  {
   "cell_type": "code",
   "execution_count": 18,
   "metadata": {
    "pycharm": {
     "name": "#%%\n"
    }
   },
   "outputs": [
    {
     "name": "stdout",
     "output_type": "stream",
     "text": [
      "3621\n"
     ]
    }
   ],
   "source": [
    "# Clear the dict of all pixels where we do not have galaxy density values\n",
    "\n",
    "pixels = df.pixel_id.tolist()\n",
    "pixel_keys = list(geometric_dict.keys())\n",
    "for pix in pixel_keys:\n",
    "    if pix in pixels:\n",
    "        continue\n",
    "    geometric_dict.pop(pix)\n",
    "print(len(geometric_dict.keys()))\n"
   ]
  },
  {
   "cell_type": "code",
   "execution_count": 19,
   "metadata": {
    "pycharm": {
     "name": "#%%\n"
    }
   },
   "outputs": [],
   "source": [
    "sys_list = []\n",
    "for key in geometric_dict.keys():\n",
    "    ind_sys_list = geometric_dict[key]\n",
    "    ind_sys_list.append(key)\n",
    "    sys_list.append(ind_sys_list)\n",
    "\n",
    "df_sys_geo = pd.DataFrame(sys_list, columns=['airmass_galaxy',\n",
    "'fwhm_galaxy',\n",
    "'ebv_galaxy',\n",
    "'ccdnphotom_galaxy',\n",
    "\n",
    "'ccdskysb_galaxy_g',\n",
    "'ccdskysb_galaxy_r',\n",
    "'ccdskysb_galaxy_z',\n",
    "'exptime_galaxy_g',\n",
    "'exptime_galaxy_r',\n",
    "'exptime_galaxy_z',\n",
    "'meansky_galaxy_g',\n",
    "'meansky_galaxy_r',\n",
    "'meansky_galaxy_z',\n",
    "'galdepth_galaxy_g',\n",
    "'galdepth_galaxy_r',\n",
    "'galdepth_galaxy_z', 'pixel_id'])\n",
    "\n"
   ]
  },
  {
   "cell_type": "code",
   "execution_count": 20,
   "metadata": {
    "pycharm": {
     "name": "#%%\n"
    }
   },
   "outputs": [
    {
     "data": {
      "text/html": [
       "<div>\n",
       "<style scoped>\n",
       "    .dataframe tbody tr th:only-of-type {\n",
       "        vertical-align: middle;\n",
       "    }\n",
       "\n",
       "    .dataframe tbody tr th {\n",
       "        vertical-align: top;\n",
       "    }\n",
       "\n",
       "    .dataframe thead th {\n",
       "        text-align: right;\n",
       "    }\n",
       "</style>\n",
       "<table border=\"1\" class=\"dataframe\">\n",
       "  <thead>\n",
       "    <tr style=\"text-align: right;\">\n",
       "      <th></th>\n",
       "      <th>airmass_galaxy</th>\n",
       "      <th>fwhm_galaxy</th>\n",
       "      <th>ebv_galaxy</th>\n",
       "      <th>ccdnphotom_galaxy</th>\n",
       "      <th>ccdskysb_galaxy_g</th>\n",
       "      <th>ccdskysb_galaxy_r</th>\n",
       "      <th>ccdskysb_galaxy_z</th>\n",
       "      <th>exptime_galaxy_g</th>\n",
       "      <th>exptime_galaxy_r</th>\n",
       "      <th>exptime_galaxy_z</th>\n",
       "      <th>meansky_galaxy_g</th>\n",
       "      <th>meansky_galaxy_r</th>\n",
       "      <th>meansky_galaxy_z</th>\n",
       "      <th>galdepth_galaxy_g</th>\n",
       "      <th>galdepth_galaxy_r</th>\n",
       "      <th>galdepth_galaxy_z</th>\n",
       "      <th>pixel_id</th>\n",
       "    </tr>\n",
       "  </thead>\n",
       "  <tbody>\n",
       "    <tr>\n",
       "      <th>0</th>\n",
       "      <td>1.194180</td>\n",
       "      <td>4.416241</td>\n",
       "      <td>0.015881</td>\n",
       "      <td>193.029146</td>\n",
       "      <td>0.370143</td>\n",
       "      <td>0.354336</td>\n",
       "      <td>0.317393</td>\n",
       "      <td>1.40625</td>\n",
       "      <td>1.40625</td>\n",
       "      <td>1.40625</td>\n",
       "      <td>1.874880e+06</td>\n",
       "      <td>1.128373e+07</td>\n",
       "      <td>3.228007e-02</td>\n",
       "      <td>0.367989</td>\n",
       "      <td>0.359158</td>\n",
       "      <td>0.351488</td>\n",
       "      <td>729635</td>\n",
       "    </tr>\n",
       "    <tr>\n",
       "      <th>1</th>\n",
       "      <td>1.204914</td>\n",
       "      <td>4.487709</td>\n",
       "      <td>0.021031</td>\n",
       "      <td>263.930656</td>\n",
       "      <td>0.369211</td>\n",
       "      <td>0.355531</td>\n",
       "      <td>0.312636</td>\n",
       "      <td>1.40625</td>\n",
       "      <td>1.40625</td>\n",
       "      <td>1.40625</td>\n",
       "      <td>2.882011e+06</td>\n",
       "      <td>8.985916e+06</td>\n",
       "      <td>1.687051e+08</td>\n",
       "      <td>0.362452</td>\n",
       "      <td>0.362690</td>\n",
       "      <td>0.338896</td>\n",
       "      <td>741107</td>\n",
       "    </tr>\n",
       "    <tr>\n",
       "      <th>2</th>\n",
       "      <td>1.058781</td>\n",
       "      <td>4.859403</td>\n",
       "      <td>0.010318</td>\n",
       "      <td>152.779363</td>\n",
       "      <td>0.368714</td>\n",
       "      <td>0.355444</td>\n",
       "      <td>0.313010</td>\n",
       "      <td>1.40625</td>\n",
       "      <td>1.40625</td>\n",
       "      <td>1.40625</td>\n",
       "      <td>5.140045e+06</td>\n",
       "      <td>3.797250e+06</td>\n",
       "      <td>3.138397e+08</td>\n",
       "      <td>0.359043</td>\n",
       "      <td>0.365162</td>\n",
       "      <td>0.336844</td>\n",
       "      <td>661899</td>\n",
       "    </tr>\n",
       "    <tr>\n",
       "      <th>3</th>\n",
       "      <td>1.068818</td>\n",
       "      <td>4.836110</td>\n",
       "      <td>0.010475</td>\n",
       "      <td>148.159223</td>\n",
       "      <td>0.369262</td>\n",
       "      <td>0.355497</td>\n",
       "      <td>0.312262</td>\n",
       "      <td>1.40625</td>\n",
       "      <td>1.40625</td>\n",
       "      <td>1.40625</td>\n",
       "      <td>1.933899e+06</td>\n",
       "      <td>3.522100e+06</td>\n",
       "      <td>3.096106e+08</td>\n",
       "      <td>0.368000</td>\n",
       "      <td>0.365229</td>\n",
       "      <td>0.336382</td>\n",
       "      <td>662895</td>\n",
       "    </tr>\n",
       "    <tr>\n",
       "      <th>4</th>\n",
       "      <td>1.066041</td>\n",
       "      <td>4.829051</td>\n",
       "      <td>0.009648</td>\n",
       "      <td>143.652839</td>\n",
       "      <td>0.368751</td>\n",
       "      <td>0.354904</td>\n",
       "      <td>0.312821</td>\n",
       "      <td>1.40625</td>\n",
       "      <td>1.40625</td>\n",
       "      <td>1.40625</td>\n",
       "      <td>3.181196e+06</td>\n",
       "      <td>4.933232e+06</td>\n",
       "      <td>3.274322e+08</td>\n",
       "      <td>0.364262</td>\n",
       "      <td>0.364178</td>\n",
       "      <td>0.338324</td>\n",
       "      <td>661898</td>\n",
       "    </tr>\n",
       "  </tbody>\n",
       "</table>\n",
       "</div>"
      ],
      "text/plain": [
       "   airmass_galaxy  fwhm_galaxy  ebv_galaxy  ccdnphotom_galaxy  \\\n",
       "0        1.194180     4.416241    0.015881         193.029146   \n",
       "1        1.204914     4.487709    0.021031         263.930656   \n",
       "2        1.058781     4.859403    0.010318         152.779363   \n",
       "3        1.068818     4.836110    0.010475         148.159223   \n",
       "4        1.066041     4.829051    0.009648         143.652839   \n",
       "\n",
       "   ccdskysb_galaxy_g  ccdskysb_galaxy_r  ccdskysb_galaxy_z  exptime_galaxy_g  \\\n",
       "0           0.370143           0.354336           0.317393           1.40625   \n",
       "1           0.369211           0.355531           0.312636           1.40625   \n",
       "2           0.368714           0.355444           0.313010           1.40625   \n",
       "3           0.369262           0.355497           0.312262           1.40625   \n",
       "4           0.368751           0.354904           0.312821           1.40625   \n",
       "\n",
       "   exptime_galaxy_r  exptime_galaxy_z  meansky_galaxy_g  meansky_galaxy_r  \\\n",
       "0           1.40625           1.40625      1.874880e+06      1.128373e+07   \n",
       "1           1.40625           1.40625      2.882011e+06      8.985916e+06   \n",
       "2           1.40625           1.40625      5.140045e+06      3.797250e+06   \n",
       "3           1.40625           1.40625      1.933899e+06      3.522100e+06   \n",
       "4           1.40625           1.40625      3.181196e+06      4.933232e+06   \n",
       "\n",
       "   meansky_galaxy_z  galdepth_galaxy_g  galdepth_galaxy_r  galdepth_galaxy_z  \\\n",
       "0      3.228007e-02           0.367989           0.359158           0.351488   \n",
       "1      1.687051e+08           0.362452           0.362690           0.338896   \n",
       "2      3.138397e+08           0.359043           0.365162           0.336844   \n",
       "3      3.096106e+08           0.368000           0.365229           0.336382   \n",
       "4      3.274322e+08           0.364262           0.364178           0.338324   \n",
       "\n",
       "   pixel_id  \n",
       "0    729635  \n",
       "1    741107  \n",
       "2    661899  \n",
       "3    662895  \n",
       "4    661898  "
      ]
     },
     "execution_count": 20,
     "metadata": {},
     "output_type": "execute_result"
    }
   ],
   "source": [
    "df_sys_geo.head()"
   ]
  },
  {
   "cell_type": "code",
   "execution_count": 21,
   "metadata": {
    "pycharm": {
     "name": "#%%\n"
    }
   },
   "outputs": [
    {
     "name": "stdout",
     "output_type": "stream",
     "text": [
      "pixel_id             0\n",
      "lrg_density          0\n",
      "elg_density          0\n",
      "qso_density          0\n",
      "stellar_density      0\n",
      "airmass_galaxy       0\n",
      "fwhm_galaxy          0\n",
      "ebv_galaxy           0\n",
      "ccdnphotom_galaxy    0\n",
      "ccdskysb_galaxy_g    0\n",
      "ccdskysb_galaxy_r    0\n",
      "ccdskysb_galaxy_z    0\n",
      "exptime_galaxy_g     0\n",
      "exptime_galaxy_r     0\n",
      "exptime_galaxy_z     0\n",
      "meansky_galaxy_g     0\n",
      "meansky_galaxy_r     0\n",
      "meansky_galaxy_z     0\n",
      "galdepth_galaxy_g    0\n",
      "galdepth_galaxy_r    0\n",
      "galdepth_galaxy_z    0\n",
      "dtype: int64\n"
     ]
    }
   ],
   "source": [
    "df_geometric = df.merge(df_sys_geo, how='inner', on='pixel_id')\n",
    "print(df_geometric.isna().sum())"
   ]
  },
  {
   "cell_type": "markdown",
   "metadata": {},
   "source": [
    "#### Geometric Systematics Values, not involving edge pixels"
   ]
  },
  {
   "cell_type": "code",
   "execution_count": 22,
   "metadata": {},
   "outputs": [
    {
     "name": "stdout",
     "output_type": "stream",
     "text": [
      "455672\n"
     ]
    }
   ],
   "source": [
    "with open('../bricks_data/pixel2systematics_geometric_non_inclusive.pickle', 'rb') as f:\n",
    "    geometric_dict_no = pickle.load(f)\n",
    "    f.close()\n",
    "\n",
    "print(len(geometric_dict_no.keys()))"
   ]
  },
  {
   "cell_type": "code",
   "execution_count": 23,
   "metadata": {},
   "outputs": [
    {
     "name": "stdout",
     "output_type": "stream",
     "text": [
      "3621\n"
     ]
    }
   ],
   "source": [
    "pixels = df.pixel_id.tolist()\n",
    "pixel_keys = list(geometric_dict_no.keys())\n",
    "for pix in pixel_keys:\n",
    "    if pix in pixels:\n",
    "        continue\n",
    "    geometric_dict_no.pop(pix)\n",
    "print(len(geometric_dict_no.keys()))\n"
   ]
  },
  {
   "cell_type": "code",
   "execution_count": 24,
   "metadata": {},
   "outputs": [],
   "source": [
    "sys_list = []\n",
    "for key in geometric_dict_no.keys():\n",
    "    ind_sys_list = geometric_dict_no[key]\n",
    "    ind_sys_list.append(key)\n",
    "    sys_list.append(ind_sys_list)\n",
    "\n",
    "df_sys_geo_no = pd.DataFrame(sys_list, columns=['airmass_galaxy',\n",
    "'fwhm_galaxy',\n",
    "'ebv_galaxy',\n",
    "'ccdnphotom_galaxy',\n",
    "\n",
    "'ccdskysb_galaxy_g',\n",
    "'ccdskysb_galaxy_r',\n",
    "'ccdskysb_galaxy_z',\n",
    "'exptime_galaxy_g',\n",
    "'exptime_galaxy_r',\n",
    "'exptime_galaxy_z',\n",
    "'meansky_galaxy_g',\n",
    "'meansky_galaxy_r',\n",
    "'meansky_galaxy_z',\n",
    "'galdepth_galaxy_g',\n",
    "'galdepth_galaxy_r',\n",
    "'galdepth_galaxy_z', 'pixel_id'])\n",
    "\n"
   ]
  },
  {
   "cell_type": "code",
   "execution_count": 25,
   "metadata": {},
   "outputs": [
    {
     "name": "stdout",
     "output_type": "stream",
     "text": [
      "pixel_id             0\n",
      "lrg_density          0\n",
      "elg_density          0\n",
      "qso_density          0\n",
      "stellar_density      0\n",
      "airmass_galaxy       0\n",
      "fwhm_galaxy          0\n",
      "ebv_galaxy           0\n",
      "ccdnphotom_galaxy    0\n",
      "ccdskysb_galaxy_g    0\n",
      "ccdskysb_galaxy_r    0\n",
      "ccdskysb_galaxy_z    0\n",
      "exptime_galaxy_g     0\n",
      "exptime_galaxy_r     0\n",
      "exptime_galaxy_z     0\n",
      "meansky_galaxy_g     0\n",
      "meansky_galaxy_r     0\n",
      "meansky_galaxy_z     0\n",
      "galdepth_galaxy_g    0\n",
      "galdepth_galaxy_r    0\n",
      "galdepth_galaxy_z    0\n",
      "dtype: int64\n"
     ]
    }
   ],
   "source": [
    "df_geometric_no = df.merge(df_sys_geo_no, how='inner', on='pixel_id')\n",
    "print(df_geometric_no.isna().sum())"
   ]
  },
  {
   "cell_type": "code",
   "execution_count": null,
   "metadata": {},
   "outputs": [],
   "source": []
  },
  {
   "cell_type": "code",
   "execution_count": 34,
   "metadata": {},
   "outputs": [
    {
     "name": "stdout",
     "output_type": "stream",
     "text": [
      "            pixel_id  lrg_density  elg_density  qso_density  stellar_density  \\\n",
      "count    3621.000000  3621.000000  3621.000000  3621.000000      3621.000000   \n",
      "mean   421882.380558     0.111207     0.262740     0.276077         0.087102   \n",
      "std    168630.278409     1.024736     0.966438     0.964311         1.347068   \n",
      "min    166098.000000    -0.899365    -0.969284    -0.972915        -0.897098   \n",
      "25%    285272.000000    -0.597461    -0.539263    -0.512467        -0.691295   \n",
      "50%    386229.000000    -0.194922     0.013620     0.029236        -0.279689   \n",
      "75%    568992.000000     0.610157     0.873662     0.895961         0.337720   \n",
      "max    757472.000000    15.906644     5.266017     5.771290        14.538136   \n",
      "\n",
      "       airmass_galaxy  fwhm_galaxy   ebv_galaxy  ccdnphotom_galaxy  \\\n",
      "count     3621.000000  3621.000000  3621.000000        3621.000000   \n",
      "mean         1.406883     4.556055     0.045843         282.628619   \n",
      "std          0.254607     0.410849     0.035465         257.617997   \n",
      "min          0.280247     0.880396     0.004261          33.100260   \n",
      "25%          1.226027     4.304964     0.021579         143.867429   \n",
      "50%          1.312385     4.533303     0.036179         194.892435   \n",
      "75%          1.554499     4.786846     0.058144         332.682419   \n",
      "max          2.303631     8.804909     0.351497        4222.089835   \n",
      "\n",
      "       ccdskysb_galaxy_g  ...  ccdskysb_galaxy_z  exptime_galaxy_g  \\\n",
      "count        3621.000000  ...        3621.000000       3621.000000   \n",
      "mean            0.367172  ...           0.314680          1.815530   \n",
      "std             0.002158  ...           0.003959          0.477382   \n",
      "min             0.342982  ...           0.289329          0.885417   \n",
      "25%             0.365937  ...           0.312568          1.406250   \n",
      "50%             0.367403  ...           0.315242          1.671875   \n",
      "75%             0.368709  ...           0.317475          2.130208   \n",
      "max             0.374720  ...           0.328886          3.359375   \n",
      "\n",
      "       exptime_galaxy_r  exptime_galaxy_z  meansky_galaxy_g  meansky_galaxy_r  \\\n",
      "count       3621.000000       3621.000000      3.621000e+03      3.621000e+03   \n",
      "mean           1.269407          1.773270      6.023244e+05      2.053093e+06   \n",
      "std            0.286073          0.486338      1.812745e+06      5.719748e+06   \n",
      "min            0.625000          1.015625      1.297270e-03      2.626951e-03   \n",
      "25%            1.062500          1.406250      1.719258e-03      3.975523e-03   \n",
      "50%            1.387500          1.558594      1.974918e-03      4.592004e-03   \n",
      "75%            1.406250          2.059375      2.476610e-03      6.584388e-03   \n",
      "max            2.558036          3.906250      2.870736e+07      6.012364e+07   \n",
      "\n",
      "       meansky_galaxy_z  galdepth_galaxy_g  galdepth_galaxy_r  \\\n",
      "count      3.621000e+03        3621.000000        3621.000000   \n",
      "mean       1.615210e+07           0.370989           0.363646   \n",
      "std        5.293955e+07           0.004517           0.004209   \n",
      "min        1.635972e-02           0.328118           0.313377   \n",
      "25%        3.445523e-02           0.369786           0.362326   \n",
      "50%        4.238541e-02           0.371956           0.363856   \n",
      "75%        5.766737e-02           0.373675           0.365809   \n",
      "max        6.817805e+08           0.380426           0.372088   \n",
      "\n",
      "       galdepth_galaxy_z  \n",
      "count        3621.000000  \n",
      "mean            0.347190  \n",
      "std             0.003874  \n",
      "min             0.318055  \n",
      "25%             0.346208  \n",
      "50%             0.348016  \n",
      "75%             0.349483  \n",
      "max             0.354598  \n",
      "\n",
      "[8 rows x 21 columns]\n",
      "            pixel_id  lrg_density  elg_density  qso_density  stellar_density  \\\n",
      "count    3621.000000  3621.000000  3621.000000  3621.000000      3621.000000   \n",
      "mean   421882.380558     0.111207     0.262740     0.276077         0.087102   \n",
      "std    168630.278409     1.024736     0.966438     0.964311         1.347068   \n",
      "min    166098.000000    -0.899365    -0.969284    -0.972915        -0.897098   \n",
      "25%    285272.000000    -0.597461    -0.539263    -0.512467        -0.691295   \n",
      "50%    386229.000000    -0.194922     0.013620     0.029236        -0.279689   \n",
      "75%    568992.000000     0.610157     0.873662     0.895961         0.337720   \n",
      "max    757472.000000    15.906644     5.266017     5.771290        14.538136   \n",
      "\n",
      "       airmass_galaxy  fwhm_galaxy   ebv_galaxy  ccdnphotom_galaxy  \\\n",
      "count     3621.000000  3621.000000  3621.000000        3621.000000   \n",
      "mean         1.402774     4.544469     0.045714         283.675917   \n",
      "std          0.254765     0.430438     0.035377         263.651942   \n",
      "min          0.176172     0.441144     0.002658          20.820312   \n",
      "25%          1.225067     4.297471     0.021568         143.678611   \n",
      "50%          1.310822     4.525446     0.036178         195.072800   \n",
      "75%          1.552507     4.781028     0.057960         332.815104   \n",
      "max          2.307078     9.192267     0.347160        4349.667130   \n",
      "\n",
      "       ccdskysb_galaxy_g  ...  ccdskysb_galaxy_z  exptime_galaxy_g  \\\n",
      "count        3621.000000  ...        3621.000000       3621.000000   \n",
      "mean            0.367150  ...           0.314655          1.814678   \n",
      "std             0.002210  ...           0.004114          0.486737   \n",
      "min             0.337492  ...           0.290246          0.882812   \n",
      "25%             0.365913  ...           0.312394          1.406250   \n",
      "50%             0.367396  ...           0.315266          1.654018   \n",
      "75%             0.368657  ...           0.317516          2.128906   \n",
      "max             0.373164  ...           0.328896          3.128906   \n",
      "\n",
      "       exptime_galaxy_r  exptime_galaxy_z  meansky_galaxy_g  meansky_galaxy_r  \\\n",
      "count       3621.000000       3621.000000      3.621000e+03      3.621000e+03   \n",
      "mean           1.272449          1.781547      6.060158e+05      2.043073e+06   \n",
      "std            0.302542          0.509664      1.869292e+06      5.897842e+06   \n",
      "min            0.625000          0.859375      1.197113e-03      2.540716e-03   \n",
      "25%            1.057292          1.406250      1.707740e-03      3.931675e-03   \n",
      "50%            1.401042          1.546875      1.963198e-03      4.559696e-03   \n",
      "75%            1.406250          2.078125      2.401142e-03      6.124149e-03   \n",
      "max            3.457031          3.906250      2.347114e+07      5.487631e+07   \n",
      "\n",
      "       meansky_galaxy_z  galdepth_galaxy_g  galdepth_galaxy_r  \\\n",
      "count      3.621000e+03        3621.000000        3621.000000   \n",
      "mean       1.545155e+07           0.370980           0.363582   \n",
      "std        5.262826e+07           0.004686           0.004681   \n",
      "min        1.635972e-02           0.328118           0.303218   \n",
      "25%        3.393380e-02           0.369688           0.362295   \n",
      "50%        4.182614e-02           0.372031           0.363862   \n",
      "75%        5.575275e-02           0.373789           0.365863   \n",
      "max        5.775885e+08           0.382670           0.373963   \n",
      "\n",
      "       galdepth_galaxy_z  \n",
      "count        3621.000000  \n",
      "mean            0.347296  \n",
      "std             0.003860  \n",
      "min             0.308546  \n",
      "25%             0.346192  \n",
      "50%             0.348129  \n",
      "75%             0.349576  \n",
      "max             0.355496  \n",
      "\n",
      "[8 rows x 21 columns]\n"
     ]
    }
   ],
   "source": [
    "print(df_geometric.describe())\n",
    "print(df_geometric_no.describe())"
   ]
  },
  {
   "cell_type": "code",
   "execution_count": 26,
   "metadata": {
    "pycharm": {
     "name": "#%%\n"
    }
   },
   "outputs": [
    {
     "name": "stdout",
     "output_type": "stream",
     "text": [
      "(1535, 21)\n",
      "(3621, 21)\n",
      "(3621, 21)\n"
     ]
    }
   ],
   "source": [
    "print(df_kitanidis.shape)\n",
    "print(df_geometric.shape)\n",
    "print(df_geometric_no.shape)\n"
   ]
  },
  {
   "cell_type": "markdown",
   "metadata": {
    "pycharm": {
     "name": "#%% md\n"
    }
   },
   "source": [
    "### Running the Regressions\n",
    "\n",
    "#### 1. Kitanidis"
   ]
  },
  {
   "cell_type": "code",
   "execution_count": 23,
   "metadata": {
    "pycharm": {
     "name": "#%%\n"
    }
   },
   "outputs": [
    {
     "data": {
      "text/html": [
       "<div>\n",
       "<style scoped>\n",
       "    .dataframe tbody tr th:only-of-type {\n",
       "        vertical-align: middle;\n",
       "    }\n",
       "\n",
       "    .dataframe tbody tr th {\n",
       "        vertical-align: top;\n",
       "    }\n",
       "\n",
       "    .dataframe thead th {\n",
       "        text-align: right;\n",
       "    }\n",
       "</style>\n",
       "<table border=\"1\" class=\"dataframe\">\n",
       "  <thead>\n",
       "    <tr style=\"text-align: right;\">\n",
       "      <th></th>\n",
       "      <th>lrg_density</th>\n",
       "      <th>elg_density</th>\n",
       "      <th>qso_density</th>\n",
       "      <th>stellar_density</th>\n",
       "      <th>airmass_galaxy</th>\n",
       "      <th>fwhm_galaxy</th>\n",
       "      <th>ebv_galaxy</th>\n",
       "      <th>ccdnphotom_galaxy</th>\n",
       "      <th>ccdskysb_galaxy_g</th>\n",
       "      <th>ccdskysb_galaxy_r</th>\n",
       "      <th>ccdskysb_galaxy_z</th>\n",
       "      <th>exptime_galaxy_g</th>\n",
       "      <th>exptime_galaxy_r</th>\n",
       "      <th>exptime_galaxy_z</th>\n",
       "      <th>meansky_galaxy_g</th>\n",
       "      <th>meansky_galaxy_r</th>\n",
       "      <th>meansky_galaxy_z</th>\n",
       "      <th>galdepth_galaxy_g</th>\n",
       "      <th>galdepth_galaxy_r</th>\n",
       "      <th>galdepth_galaxy_z</th>\n",
       "    </tr>\n",
       "  </thead>\n",
       "  <tbody>\n",
       "    <tr>\n",
       "      <th>0</th>\n",
       "      <td>0.509522</td>\n",
       "      <td>1.180820</td>\n",
       "      <td>0.787620</td>\n",
       "      <td>-0.279689</td>\n",
       "      <td>1.615369</td>\n",
       "      <td>4.563708</td>\n",
       "      <td>0.027940</td>\n",
       "      <td>617.485215</td>\n",
       "      <td>23.461968</td>\n",
       "      <td>22.460363</td>\n",
       "      <td>19.328887</td>\n",
       "      <td>143.100496</td>\n",
       "      <td>139.892237</td>\n",
       "      <td>122.275265</td>\n",
       "      <td>0.199914</td>\n",
       "      <td>0.920791</td>\n",
       "      <td>2.869334</td>\n",
       "      <td>23.626332</td>\n",
       "      <td>22.942529</td>\n",
       "      <td>22.215109</td>\n",
       "    </tr>\n",
       "    <tr>\n",
       "      <th>1</th>\n",
       "      <td>1.817774</td>\n",
       "      <td>2.133008</td>\n",
       "      <td>1.410579</td>\n",
       "      <td>1.263834</td>\n",
       "      <td>1.551244</td>\n",
       "      <td>4.652137</td>\n",
       "      <td>0.022238</td>\n",
       "      <td>997.009628</td>\n",
       "      <td>23.454327</td>\n",
       "      <td>22.586219</td>\n",
       "      <td>19.084433</td>\n",
       "      <td>158.096504</td>\n",
       "      <td>82.525712</td>\n",
       "      <td>165.945433</td>\n",
       "      <td>0.203127</td>\n",
       "      <td>0.499488</td>\n",
       "      <td>3.490955</td>\n",
       "      <td>23.604491</td>\n",
       "      <td>22.966942</td>\n",
       "      <td>22.331463</td>\n",
       "    </tr>\n",
       "    <tr>\n",
       "      <th>2</th>\n",
       "      <td>0.106983</td>\n",
       "      <td>0.750799</td>\n",
       "      <td>0.191747</td>\n",
       "      <td>-0.794197</td>\n",
       "      <td>1.406610</td>\n",
       "      <td>4.458577</td>\n",
       "      <td>0.018477</td>\n",
       "      <td>367.511248</td>\n",
       "      <td>23.441590</td>\n",
       "      <td>22.625744</td>\n",
       "      <td>19.497361</td>\n",
       "      <td>128.317445</td>\n",
       "      <td>87.744524</td>\n",
       "      <td>106.219834</td>\n",
       "      <td>0.213351</td>\n",
       "      <td>0.564238</td>\n",
       "      <td>1.995409</td>\n",
       "      <td>23.598964</td>\n",
       "      <td>22.922293</td>\n",
       "      <td>22.342016</td>\n",
       "    </tr>\n",
       "    <tr>\n",
       "      <th>3</th>\n",
       "      <td>0.106983</td>\n",
       "      <td>0.658651</td>\n",
       "      <td>0.083406</td>\n",
       "      <td>0.955130</td>\n",
       "      <td>2.301381</td>\n",
       "      <td>6.055535</td>\n",
       "      <td>0.131243</td>\n",
       "      <td>459.871429</td>\n",
       "      <td>23.432264</td>\n",
       "      <td>22.486569</td>\n",
       "      <td>19.849928</td>\n",
       "      <td>200.000000</td>\n",
       "      <td>124.000000</td>\n",
       "      <td>221.028571</td>\n",
       "      <td>0.126744</td>\n",
       "      <td>0.333307</td>\n",
       "      <td>3.754301</td>\n",
       "      <td>24.007800</td>\n",
       "      <td>23.363166</td>\n",
       "      <td>22.229356</td>\n",
       "    </tr>\n",
       "    <tr>\n",
       "      <th>4</th>\n",
       "      <td>1.515870</td>\n",
       "      <td>3.146629</td>\n",
       "      <td>1.329324</td>\n",
       "      <td>-0.485492</td>\n",
       "      <td>1.440663</td>\n",
       "      <td>4.587659</td>\n",
       "      <td>0.018841</td>\n",
       "      <td>373.382383</td>\n",
       "      <td>23.452281</td>\n",
       "      <td>22.653194</td>\n",
       "      <td>19.589021</td>\n",
       "      <td>128.873803</td>\n",
       "      <td>83.743415</td>\n",
       "      <td>107.265548</td>\n",
       "      <td>0.293171</td>\n",
       "      <td>0.540003</td>\n",
       "      <td>6.617020</td>\n",
       "      <td>23.605227</td>\n",
       "      <td>22.900591</td>\n",
       "      <td>22.310904</td>\n",
       "    </tr>\n",
       "  </tbody>\n",
       "</table>\n",
       "</div>"
      ],
      "text/plain": [
       "   lrg_density  elg_density  qso_density  stellar_density  airmass_galaxy  \\\n",
       "0     0.509522     1.180820     0.787620        -0.279689        1.615369   \n",
       "1     1.817774     2.133008     1.410579         1.263834        1.551244   \n",
       "2     0.106983     0.750799     0.191747        -0.794197        1.406610   \n",
       "3     0.106983     0.658651     0.083406         0.955130        2.301381   \n",
       "4     1.515870     3.146629     1.329324        -0.485492        1.440663   \n",
       "\n",
       "   fwhm_galaxy  ebv_galaxy  ccdnphotom_galaxy  ccdskysb_galaxy_g  \\\n",
       "0     4.563708    0.027940         617.485215          23.461968   \n",
       "1     4.652137    0.022238         997.009628          23.454327   \n",
       "2     4.458577    0.018477         367.511248          23.441590   \n",
       "3     6.055535    0.131243         459.871429          23.432264   \n",
       "4     4.587659    0.018841         373.382383          23.452281   \n",
       "\n",
       "   ccdskysb_galaxy_r  ccdskysb_galaxy_z  exptime_galaxy_g  exptime_galaxy_r  \\\n",
       "0          22.460363          19.328887        143.100496        139.892237   \n",
       "1          22.586219          19.084433        158.096504         82.525712   \n",
       "2          22.625744          19.497361        128.317445         87.744524   \n",
       "3          22.486569          19.849928        200.000000        124.000000   \n",
       "4          22.653194          19.589021        128.873803         83.743415   \n",
       "\n",
       "   exptime_galaxy_z  meansky_galaxy_g  meansky_galaxy_r  meansky_galaxy_z  \\\n",
       "0        122.275265          0.199914          0.920791          2.869334   \n",
       "1        165.945433          0.203127          0.499488          3.490955   \n",
       "2        106.219834          0.213351          0.564238          1.995409   \n",
       "3        221.028571          0.126744          0.333307          3.754301   \n",
       "4        107.265548          0.293171          0.540003          6.617020   \n",
       "\n",
       "   galdepth_galaxy_g  galdepth_galaxy_r  galdepth_galaxy_z  \n",
       "0          23.626332          22.942529          22.215109  \n",
       "1          23.604491          22.966942          22.331463  \n",
       "2          23.598964          22.922293          22.342016  \n",
       "3          24.007800          23.363166          22.229356  \n",
       "4          23.605227          22.900591          22.310904  "
      ]
     },
     "execution_count": 23,
     "metadata": {},
     "output_type": "execute_result"
    }
   ],
   "source": [
    "df_kitanidis.head()\n",
    "df_kitanidis_reg = df_kitanidis.drop(columns=['pixel_id'])\n",
    "df_kitanidis_reg.head()"
   ]
  },
  {
   "cell_type": "code",
   "execution_count": 24,
   "metadata": {
    "pycharm": {
     "name": "#%%\n"
    }
   },
   "outputs": [],
   "source": [
    "y_lrg = df_kitanidis_reg['lrg_density']#.to_numpy(copy=True)\n",
    "y_elg = df_kitanidis_reg['elg_density']#.to_numpy(copy=True)\n",
    "y_qso = df_kitanidis_reg['qso_density']#.to_numpy(copy=True)\n",
    "\n",
    "X = df_kitanidis_reg.drop(columns=['lrg_density','elg_density','qso_density'])#.to_numpy(copy=True)"
   ]
  },
  {
   "cell_type": "code",
   "execution_count": 25,
   "metadata": {
    "pycharm": {
     "name": "#%%\n"
    }
   },
   "outputs": [
    {
     "name": "stdout",
     "output_type": "stream",
     "text": [
      "1535\n",
      "1535\n"
     ]
    }
   ],
   "source": [
    "print(len(y_lrg))\n",
    "print(len(X))"
   ]
  },
  {
   "cell_type": "code",
   "execution_count": 26,
   "metadata": {
    "pycharm": {
     "name": "#%%\n"
    }
   },
   "outputs": [
    {
     "name": "stdout",
     "output_type": "stream",
     "text": [
      "                                 OLS Regression Results                                \n",
      "=======================================================================================\n",
      "Dep. Variable:            lrg_density   R-squared (uncentered):                   0.477\n",
      "Model:                            OLS   Adj. R-squared (uncentered):              0.471\n",
      "Method:                 Least Squares   F-statistic:                              81.43\n",
      "Date:                Wed, 16 Jun 2021   Prob (F-statistic):                   2.67e-199\n",
      "Time:                        18:08:54   Log-Likelihood:                         -2213.4\n",
      "No. Observations:                1535   AIC:                                      4461.\n",
      "Df Residuals:                    1518   BIC:                                      4551.\n",
      "Df Model:                          17                                                  \n",
      "Covariance Type:            nonrobust                                                  \n",
      "=====================================================================================\n",
      "                        coef    std err          t      P>|t|      [0.025      0.975]\n",
      "-------------------------------------------------------------------------------------\n",
      "stellar_density       0.2780      0.025     10.967      0.000       0.228       0.328\n",
      "airmass_galaxy        0.0744      0.175      0.426      0.670      -0.268       0.417\n",
      "fwhm_galaxy           0.0751      0.093      0.811      0.418      -0.107       0.257\n",
      "ebv_galaxy            0.8953      1.050      0.853      0.394      -1.164       2.954\n",
      "ccdnphotom_galaxy    -0.0013      0.000     -6.726      0.000      -0.002      -0.001\n",
      "ccdskysb_galaxy_g     0.1821      0.221      0.825      0.410      -0.251       0.615\n",
      "ccdskysb_galaxy_r     0.0506      0.219      0.231      0.817      -0.380       0.481\n",
      "ccdskysb_galaxy_z    -0.3753      0.162     -2.317      0.021      -0.693      -0.058\n",
      "exptime_galaxy_g     -0.0015      0.002     -0.829      0.407      -0.005       0.002\n",
      "exptime_galaxy_r      0.0006      0.002      0.323      0.747      -0.003       0.004\n",
      "exptime_galaxy_z     -0.0017      0.002     -1.078      0.281      -0.005       0.001\n",
      "meansky_galaxy_g   6.046e-10   5.18e-10      1.167      0.243   -4.12e-10    1.62e-09\n",
      "meansky_galaxy_r  -3.428e-10   1.54e-10     -2.219      0.027   -6.46e-10   -3.98e-11\n",
      "meansky_galaxy_z   2.946e-11   1.43e-11      2.059      0.040    1.39e-12    5.75e-11\n",
      "galdepth_galaxy_g    -0.1061      0.202     -0.526      0.599      -0.502       0.289\n",
      "galdepth_galaxy_r    -0.2875      0.183     -1.575      0.115      -0.646       0.070\n",
      "galdepth_galaxy_z     0.5494      0.190      2.888      0.004       0.176       0.922\n",
      "==============================================================================\n",
      "Omnibus:                     1506.989   Durbin-Watson:                   1.875\n",
      "Prob(Omnibus):                  0.000   Jarque-Bera (JB):           122675.642\n",
      "Skew:                           4.446   Prob(JB):                         0.00\n",
      "Kurtosis:                      45.883   Cond. No.                     1.26e+11\n",
      "==============================================================================\n",
      "\n",
      "Notes:\n",
      "[1] R² is computed without centering (uncentered) since the model does not contain a constant.\n",
      "[2] Standard Errors assume that the covariance matrix of the errors is correctly specified.\n",
      "[3] The condition number is large, 1.26e+11. This might indicate that there are\n",
      "strong multicollinearity or other numerical problems.\n"
     ]
    }
   ],
   "source": [
    "\n",
    "\n",
    "ols_lrg_kitanidis = sm.OLS(y_lrg,X).fit()\n",
    "print(ols_lrg_kitanidis.summary())\n",
    "\n"
   ]
  },
  {
   "cell_type": "code",
   "execution_count": 27,
   "metadata": {
    "pycharm": {
     "name": "#%%\n"
    }
   },
   "outputs": [
    {
     "name": "stdout",
     "output_type": "stream",
     "text": [
      "                                 OLS Regression Results                                \n",
      "=======================================================================================\n",
      "Dep. Variable:            elg_density   R-squared (uncentered):                   0.761\n",
      "Model:                            OLS   Adj. R-squared (uncentered):              0.758\n",
      "Method:                 Least Squares   F-statistic:                              284.5\n",
      "Date:                Wed, 16 Jun 2021   Prob (F-statistic):                        0.00\n",
      "Time:                        18:09:26   Log-Likelihood:                         -1594.0\n",
      "No. Observations:                1535   AIC:                                      3222.\n",
      "Df Residuals:                    1518   BIC:                                      3313.\n",
      "Df Model:                          17                                                  \n",
      "Covariance Type:            nonrobust                                                  \n",
      "=====================================================================================\n",
      "                        coef    std err          t      P>|t|      [0.025      0.975]\n",
      "-------------------------------------------------------------------------------------\n",
      "stellar_density       0.2852      0.017     16.842      0.000       0.252       0.318\n",
      "airmass_galaxy       -0.4930      0.117     -4.228      0.000      -0.722      -0.264\n",
      "fwhm_galaxy          -0.0990      0.062     -1.600      0.110      -0.220       0.022\n",
      "ebv_galaxy           -3.4273      0.701     -4.888      0.000      -4.803      -2.052\n",
      "ccdnphotom_galaxy    -0.0017      0.000    -12.825      0.000      -0.002      -0.001\n",
      "ccdskysb_galaxy_g    -0.0272      0.148     -0.184      0.854      -0.317       0.262\n",
      "ccdskysb_galaxy_r     0.2453      0.147      1.675      0.094      -0.042       0.533\n",
      "ccdskysb_galaxy_z    -0.3685      0.108     -3.406      0.001      -0.581      -0.156\n",
      "exptime_galaxy_g      0.0038      0.001      3.251      0.001       0.002       0.006\n",
      "exptime_galaxy_r     -0.0006      0.001     -0.438      0.662      -0.003       0.002\n",
      "exptime_galaxy_z      0.0003      0.001      0.280      0.780      -0.002       0.002\n",
      "meansky_galaxy_g  -1.116e-10   3.46e-10     -0.322      0.747   -7.91e-10    5.67e-10\n",
      "meansky_galaxy_r  -2.543e-10   1.03e-10     -2.464      0.014   -4.57e-10   -5.18e-11\n",
      "meansky_galaxy_z   1.434e-11   9.56e-12      1.501      0.134    -4.4e-12    3.31e-11\n",
      "galdepth_galaxy_g     0.0004      0.135      0.003      0.997      -0.264       0.265\n",
      "galdepth_galaxy_r    -0.3597      0.122     -2.950      0.003      -0.599      -0.121\n",
      "galdepth_galaxy_z     0.5926      0.127      4.664      0.000       0.343       0.842\n",
      "==============================================================================\n",
      "Omnibus:                      241.616   Durbin-Watson:                   1.696\n",
      "Prob(Omnibus):                  0.000   Jarque-Bera (JB):              461.119\n",
      "Skew:                           0.957   Prob(JB):                    7.40e-101\n",
      "Kurtosis:                       4.884   Cond. No.                     1.26e+11\n",
      "==============================================================================\n",
      "\n",
      "Notes:\n",
      "[1] R² is computed without centering (uncentered) since the model does not contain a constant.\n",
      "[2] Standard Errors assume that the covariance matrix of the errors is correctly specified.\n",
      "[3] The condition number is large, 1.26e+11. This might indicate that there are\n",
      "strong multicollinearity or other numerical problems.\n"
     ]
    }
   ],
   "source": [
    "ols_elg_kitanidis = sm.OLS(y_elg,X).fit()\n",
    "print(ols_elg_kitanidis.summary())"
   ]
  },
  {
   "cell_type": "code",
   "execution_count": 28,
   "metadata": {
    "pycharm": {
     "name": "#%%\n"
    }
   },
   "outputs": [
    {
     "name": "stdout",
     "output_type": "stream",
     "text": [
      "                                 OLS Regression Results                                \n",
      "=======================================================================================\n",
      "Dep. Variable:            qso_density   R-squared (uncentered):                   0.781\n",
      "Model:                            OLS   Adj. R-squared (uncentered):              0.779\n",
      "Method:                 Least Squares   F-statistic:                              318.6\n",
      "Date:                Wed, 16 Jun 2021   Prob (F-statistic):                        0.00\n",
      "Time:                        18:09:37   Log-Likelihood:                         -1534.7\n",
      "No. Observations:                1535   AIC:                                      3103.\n",
      "Df Residuals:                    1518   BIC:                                      3194.\n",
      "Df Model:                          17                                                  \n",
      "Covariance Type:            nonrobust                                                  \n",
      "=====================================================================================\n",
      "                        coef    std err          t      P>|t|      [0.025      0.975]\n",
      "-------------------------------------------------------------------------------------\n",
      "stellar_density       0.2891      0.016     17.742      0.000       0.257       0.321\n",
      "airmass_galaxy       -0.0262      0.112     -0.233      0.815      -0.246       0.194\n",
      "fwhm_galaxy          -0.1206      0.059     -2.027      0.043      -0.237      -0.004\n",
      "ebv_galaxy           -1.5506      0.675     -2.298      0.022      -2.874      -0.227\n",
      "ccdnphotom_galaxy    -0.0017      0.000    -13.871      0.000      -0.002      -0.001\n",
      "ccdskysb_galaxy_g     0.1633      0.142      1.151      0.250      -0.115       0.442\n",
      "ccdskysb_galaxy_r     0.3877      0.141      2.750      0.006       0.111       0.664\n",
      "ccdskysb_galaxy_z    -0.3108      0.104     -2.985      0.003      -0.515      -0.107\n",
      "exptime_galaxy_g      0.0018      0.001      1.576      0.115      -0.000       0.004\n",
      "exptime_galaxy_r      0.0045      0.001      3.564      0.000       0.002       0.007\n",
      "exptime_galaxy_z      0.0009      0.001      0.902      0.367      -0.001       0.003\n",
      "meansky_galaxy_g   7.996e-11   3.33e-10      0.240      0.810   -5.73e-10    7.33e-10\n",
      "meansky_galaxy_r  -8.841e-11   9.93e-11     -0.890      0.373   -2.83e-10    1.06e-10\n",
      "meansky_galaxy_z   1.089e-12    9.2e-12      0.118      0.906    -1.7e-11    1.91e-11\n",
      "galdepth_galaxy_g    -0.0830      0.130     -0.641      0.522      -0.337       0.171\n",
      "galdepth_galaxy_r    -0.2869      0.117     -2.446      0.015      -0.517      -0.057\n",
      "galdepth_galaxy_z     0.1686      0.122      1.379      0.168      -0.071       0.408\n",
      "==============================================================================\n",
      "Omnibus:                      362.626   Durbin-Watson:                   1.884\n",
      "Prob(Omnibus):                  0.000   Jarque-Bera (JB):             1086.412\n",
      "Skew:                           1.187   Prob(JB):                    1.23e-236\n",
      "Kurtosis:                       6.368   Cond. No.                     1.26e+11\n",
      "==============================================================================\n",
      "\n",
      "Notes:\n",
      "[1] R² is computed without centering (uncentered) since the model does not contain a constant.\n",
      "[2] Standard Errors assume that the covariance matrix of the errors is correctly specified.\n",
      "[3] The condition number is large, 1.26e+11. This might indicate that there are\n",
      "strong multicollinearity or other numerical problems.\n"
     ]
    }
   ],
   "source": [
    "ols_qso_kitanidis = sm.OLS(y_qso,X).fit()\n",
    "print(ols_qso_kitanidis.summary())"
   ]
  },
  {
   "cell_type": "markdown",
   "metadata": {
    "pycharm": {
     "name": "#%% md\n"
    }
   },
   "source": [
    "#### 2. Geometric"
   ]
  },
  {
   "cell_type": "code",
   "execution_count": 29,
   "metadata": {
    "pycharm": {
     "name": "#%%\n"
    }
   },
   "outputs": [
    {
     "data": {
      "text/html": [
       "<div>\n",
       "<style scoped>\n",
       "    .dataframe tbody tr th:only-of-type {\n",
       "        vertical-align: middle;\n",
       "    }\n",
       "\n",
       "    .dataframe tbody tr th {\n",
       "        vertical-align: top;\n",
       "    }\n",
       "\n",
       "    .dataframe thead th {\n",
       "        text-align: right;\n",
       "    }\n",
       "</style>\n",
       "<table border=\"1\" class=\"dataframe\">\n",
       "  <thead>\n",
       "    <tr style=\"text-align: right;\">\n",
       "      <th></th>\n",
       "      <th>lrg_density</th>\n",
       "      <th>elg_density</th>\n",
       "      <th>qso_density</th>\n",
       "      <th>stellar_density</th>\n",
       "      <th>airmass_galaxy</th>\n",
       "      <th>fwhm_galaxy</th>\n",
       "      <th>ebv_galaxy</th>\n",
       "      <th>ccdnphotom_galaxy</th>\n",
       "      <th>ccdskysb_galaxy_g</th>\n",
       "      <th>ccdskysb_galaxy_r</th>\n",
       "      <th>ccdskysb_galaxy_z</th>\n",
       "      <th>exptime_galaxy_g</th>\n",
       "      <th>exptime_galaxy_r</th>\n",
       "      <th>exptime_galaxy_z</th>\n",
       "      <th>meansky_galaxy_g</th>\n",
       "      <th>meansky_galaxy_r</th>\n",
       "      <th>meansky_galaxy_z</th>\n",
       "      <th>galdepth_galaxy_g</th>\n",
       "      <th>galdepth_galaxy_r</th>\n",
       "      <th>galdepth_galaxy_z</th>\n",
       "    </tr>\n",
       "  </thead>\n",
       "  <tbody>\n",
       "    <tr>\n",
       "      <th>0</th>\n",
       "      <td>0.308252</td>\n",
       "      <td>0.075052</td>\n",
       "      <td>0.056321</td>\n",
       "      <td>-0.691295</td>\n",
       "      <td>1.220610</td>\n",
       "      <td>3.898208</td>\n",
       "      <td>0.016500</td>\n",
       "      <td>1550.658093</td>\n",
       "      <td>0.364892</td>\n",
       "      <td>0.351523</td>\n",
       "      <td>0.301166</td>\n",
       "      <td>1.515938</td>\n",
       "      <td>1.309821</td>\n",
       "      <td>1.509230</td>\n",
       "      <td>0.003598</td>\n",
       "      <td>0.011705</td>\n",
       "      <td>0.032974</td>\n",
       "      <td>0.366218</td>\n",
       "      <td>0.355911</td>\n",
       "      <td>0.348341</td>\n",
       "    </tr>\n",
       "    <tr>\n",
       "      <th>1</th>\n",
       "      <td>0.408887</td>\n",
       "      <td>-0.416400</td>\n",
       "      <td>0.110491</td>\n",
       "      <td>0.131917</td>\n",
       "      <td>1.219311</td>\n",
       "      <td>3.862342</td>\n",
       "      <td>0.016510</td>\n",
       "      <td>1587.507883</td>\n",
       "      <td>0.364887</td>\n",
       "      <td>0.351523</td>\n",
       "      <td>0.301310</td>\n",
       "      <td>1.515938</td>\n",
       "      <td>1.309821</td>\n",
       "      <td>1.427000</td>\n",
       "      <td>0.003594</td>\n",
       "      <td>0.011709</td>\n",
       "      <td>0.036043</td>\n",
       "      <td>0.366503</td>\n",
       "      <td>0.356100</td>\n",
       "      <td>0.346743</td>\n",
       "    </tr>\n",
       "    <tr>\n",
       "      <th>2</th>\n",
       "      <td>-0.496826</td>\n",
       "      <td>0.412925</td>\n",
       "      <td>-0.024934</td>\n",
       "      <td>-0.485492</td>\n",
       "      <td>1.655938</td>\n",
       "      <td>4.672048</td>\n",
       "      <td>0.028977</td>\n",
       "      <td>579.146330</td>\n",
       "      <td>0.366651</td>\n",
       "      <td>0.351116</td>\n",
       "      <td>0.302868</td>\n",
       "      <td>2.300308</td>\n",
       "      <td>2.244602</td>\n",
       "      <td>1.939581</td>\n",
       "      <td>0.003221</td>\n",
       "      <td>0.015671</td>\n",
       "      <td>0.079584</td>\n",
       "      <td>0.368576</td>\n",
       "      <td>0.358520</td>\n",
       "      <td>0.344488</td>\n",
       "    </tr>\n",
       "    <tr>\n",
       "      <th>3</th>\n",
       "      <td>-0.496826</td>\n",
       "      <td>-0.293537</td>\n",
       "      <td>-0.133275</td>\n",
       "      <td>-0.794197</td>\n",
       "      <td>1.658746</td>\n",
       "      <td>4.609840</td>\n",
       "      <td>0.028156</td>\n",
       "      <td>577.106054</td>\n",
       "      <td>0.366584</td>\n",
       "      <td>0.351225</td>\n",
       "      <td>0.304636</td>\n",
       "      <td>2.370826</td>\n",
       "      <td>2.023661</td>\n",
       "      <td>1.915658</td>\n",
       "      <td>0.002980</td>\n",
       "      <td>0.016154</td>\n",
       "      <td>0.094865</td>\n",
       "      <td>0.369514</td>\n",
       "      <td>0.357950</td>\n",
       "      <td>0.342820</td>\n",
       "    </tr>\n",
       "    <tr>\n",
       "      <th>4</th>\n",
       "      <td>0.509522</td>\n",
       "      <td>1.180820</td>\n",
       "      <td>0.787620</td>\n",
       "      <td>-0.279689</td>\n",
       "      <td>1.657476</td>\n",
       "      <td>4.666779</td>\n",
       "      <td>0.028076</td>\n",
       "      <td>585.977177</td>\n",
       "      <td>0.366563</td>\n",
       "      <td>0.351269</td>\n",
       "      <td>0.303110</td>\n",
       "      <td>2.371346</td>\n",
       "      <td>2.025000</td>\n",
       "      <td>1.950375</td>\n",
       "      <td>0.002980</td>\n",
       "      <td>0.012420</td>\n",
       "      <td>0.047528</td>\n",
       "      <td>0.369459</td>\n",
       "      <td>0.358867</td>\n",
       "      <td>0.346243</td>\n",
       "    </tr>\n",
       "  </tbody>\n",
       "</table>\n",
       "</div>"
      ],
      "text/plain": [
       "   lrg_density  elg_density  qso_density  stellar_density  airmass_galaxy  \\\n",
       "0     0.308252     0.075052     0.056321        -0.691295        1.220610   \n",
       "1     0.408887    -0.416400     0.110491         0.131917        1.219311   \n",
       "2    -0.496826     0.412925    -0.024934        -0.485492        1.655938   \n",
       "3    -0.496826    -0.293537    -0.133275        -0.794197        1.658746   \n",
       "4     0.509522     1.180820     0.787620        -0.279689        1.657476   \n",
       "\n",
       "   fwhm_galaxy  ebv_galaxy  ccdnphotom_galaxy  ccdskysb_galaxy_g  \\\n",
       "0     3.898208    0.016500        1550.658093           0.364892   \n",
       "1     3.862342    0.016510        1587.507883           0.364887   \n",
       "2     4.672048    0.028977         579.146330           0.366651   \n",
       "3     4.609840    0.028156         577.106054           0.366584   \n",
       "4     4.666779    0.028076         585.977177           0.366563   \n",
       "\n",
       "   ccdskysb_galaxy_r  ccdskysb_galaxy_z  exptime_galaxy_g  exptime_galaxy_r  \\\n",
       "0           0.351523           0.301166          1.515938          1.309821   \n",
       "1           0.351523           0.301310          1.515938          1.309821   \n",
       "2           0.351116           0.302868          2.300308          2.244602   \n",
       "3           0.351225           0.304636          2.370826          2.023661   \n",
       "4           0.351269           0.303110          2.371346          2.025000   \n",
       "\n",
       "   exptime_galaxy_z  meansky_galaxy_g  meansky_galaxy_r  meansky_galaxy_z  \\\n",
       "0          1.509230          0.003598          0.011705          0.032974   \n",
       "1          1.427000          0.003594          0.011709          0.036043   \n",
       "2          1.939581          0.003221          0.015671          0.079584   \n",
       "3          1.915658          0.002980          0.016154          0.094865   \n",
       "4          1.950375          0.002980          0.012420          0.047528   \n",
       "\n",
       "   galdepth_galaxy_g  galdepth_galaxy_r  galdepth_galaxy_z  \n",
       "0           0.366218           0.355911           0.348341  \n",
       "1           0.366503           0.356100           0.346743  \n",
       "2           0.368576           0.358520           0.344488  \n",
       "3           0.369514           0.357950           0.342820  \n",
       "4           0.369459           0.358867           0.346243  "
      ]
     },
     "execution_count": 29,
     "metadata": {},
     "output_type": "execute_result"
    }
   ],
   "source": [
    "df_geometric.head()\n",
    "df_geometric_reg = df_geometric.drop(columns=['pixel_id'])\n",
    "df_geometric_reg.head()"
   ]
  },
  {
   "cell_type": "code",
   "execution_count": 30,
   "metadata": {
    "pycharm": {
     "name": "#%%\n"
    }
   },
   "outputs": [],
   "source": [
    "y_lrg = df_geometric_reg['lrg_density']#.to_numpy(copy=True)\n",
    "y_elg = df_geometric_reg['elg_density']#.to_numpy(copy=True)\n",
    "y_qso = df_geometric_reg['qso_density']#.to_numpy(copy=True)\n",
    "\n",
    "X = df_geometric_reg.drop(columns=['lrg_density','elg_density','qso_density'])#.to_numpy(copy=True)"
   ]
  },
  {
   "cell_type": "code",
   "execution_count": 31,
   "metadata": {
    "pycharm": {
     "name": "#%%\n"
    }
   },
   "outputs": [
    {
     "name": "stdout",
     "output_type": "stream",
     "text": [
      "3621\n",
      "3621\n"
     ]
    }
   ],
   "source": [
    "print(len(y_lrg))\n",
    "print(len(X))"
   ]
  },
  {
   "cell_type": "code",
   "execution_count": 31,
   "metadata": {
    "pycharm": {
     "name": "#%%\n"
    }
   },
   "outputs": [
    {
     "name": "stdout",
     "output_type": "stream",
     "text": [
      "                                 OLS Regression Results                                \n",
      "=======================================================================================\n",
      "Dep. Variable:            lrg_density   R-squared (uncentered):                   0.312\n",
      "Model:                            OLS   Adj. R-squared (uncentered):              0.309\n",
      "Method:                 Least Squares   F-statistic:                              96.06\n",
      "Date:                Fri, 18 Jun 2021   Prob (F-statistic):                   1.04e-276\n",
      "Time:                        13:34:38   Log-Likelihood:                         -4570.5\n",
      "No. Observations:                3621   AIC:                                      9175.\n",
      "Df Residuals:                    3604   BIC:                                      9280.\n",
      "Df Model:                          17                                                  \n",
      "Covariance Type:            nonrobust                                                  \n",
      "=====================================================================================\n",
      "                        coef    std err          t      P>|t|      [0.025      0.975]\n",
      "-------------------------------------------------------------------------------------\n",
      "stellar_density       0.4827      0.012     39.231      0.000       0.459       0.507\n",
      "airmass_galaxy        0.0861      0.090      0.951      0.341      -0.091       0.264\n",
      "fwhm_galaxy           0.0735      0.042      1.755      0.079      -0.009       0.156\n",
      "ebv_galaxy           -0.9724      0.537     -1.812      0.070      -2.024       0.080\n",
      "ccdnphotom_galaxy    -0.0012   6.88e-05    -17.634      0.000      -0.001      -0.001\n",
      "ccdskysb_galaxy_g     2.5012      7.225      0.346      0.729     -11.665      16.668\n",
      "ccdskysb_galaxy_r    10.5305      7.185      1.466      0.143      -3.557      24.618\n",
      "ccdskysb_galaxy_z   -16.3332      5.014     -3.258      0.001     -26.163      -6.503\n",
      "exptime_galaxy_g      0.0347      0.051      0.683      0.495      -0.065       0.134\n",
      "exptime_galaxy_r      0.1102      0.060      1.830      0.067      -0.008       0.228\n",
      "exptime_galaxy_z     -0.1918      0.044     -4.326      0.000      -0.279      -0.105\n",
      "meansky_galaxy_g  -7.131e-09    1.4e-08     -0.511      0.609   -3.45e-08    2.02e-08\n",
      "meansky_galaxy_r  -1.356e-08   4.57e-09     -2.967      0.003   -2.25e-08    -4.6e-09\n",
      "meansky_galaxy_z   1.009e-09   4.23e-10      2.387      0.017     1.8e-10    1.84e-09\n",
      "galdepth_galaxy_g    -7.5611      5.719     -1.322      0.186     -18.774       3.652\n",
      "galdepth_galaxy_r    -8.0947      5.337     -1.517      0.129     -18.558       2.368\n",
      "galdepth_galaxy_z    18.4580      5.950      3.102      0.002       6.792      30.124\n",
      "==============================================================================\n",
      "Omnibus:                     3263.164   Durbin-Watson:                   1.946\n",
      "Prob(Omnibus):                  0.000   Jarque-Bera (JB):           298690.627\n",
      "Skew:                           3.904   Prob(JB):                         0.00\n",
      "Kurtosis:                      46.804   Cond. No.                     3.83e+10\n",
      "==============================================================================\n",
      "\n",
      "Notes:\n",
      "[1] R² is computed without centering (uncentered) since the model does not contain a constant.\n",
      "[2] Standard Errors assume that the covariance matrix of the errors is correctly specified.\n",
      "[3] The condition number is large, 3.83e+10. This might indicate that there are\n",
      "strong multicollinearity or other numerical problems.\n",
      "\n",
      "                                 OLS Regression Results                                \n",
      "=======================================================================================\n",
      "Dep. Variable:            elg_density   R-squared (uncentered):                   0.436\n",
      "Model:                            OLS   Adj. R-squared (uncentered):              0.433\n",
      "Method:                 Least Squares   F-statistic:                              163.9\n",
      "Date:                Fri, 18 Jun 2021   Prob (F-statistic):                        0.00\n",
      "Time:                        13:34:38   Log-Likelihood:                         -4106.1\n",
      "No. Observations:                3621   AIC:                                      8246.\n",
      "Df Residuals:                    3604   BIC:                                      8352.\n",
      "Df Model:                          17                                                  \n",
      "Covariance Type:            nonrobust                                                  \n",
      "=====================================================================================\n",
      "                        coef    std err          t      P>|t|      [0.025      0.975]\n",
      "-------------------------------------------------------------------------------------\n",
      "stellar_density       0.5177      0.011     47.840      0.000       0.497       0.539\n",
      "airmass_galaxy       -0.2275      0.080     -2.859      0.004      -0.384      -0.071\n",
      "fwhm_galaxy           0.0422      0.037      1.147      0.252      -0.030       0.114\n",
      "ebv_galaxy           -3.5158      0.472     -7.449      0.000      -4.441      -2.590\n",
      "ccdnphotom_galaxy    -0.0014   6.05e-05    -23.289      0.000      -0.002      -0.001\n",
      "ccdskysb_galaxy_g    -4.7744      6.356     -0.751      0.453     -17.236       7.687\n",
      "ccdskysb_galaxy_r    11.1499      6.320      1.764      0.078      -1.242      23.542\n",
      "ccdskysb_galaxy_z   -16.7058      4.410     -3.788      0.000     -25.352      -8.059\n",
      "exptime_galaxy_g      0.1543      0.045      3.453      0.001       0.067       0.242\n",
      "exptime_galaxy_r      0.0575      0.053      1.086      0.278      -0.046       0.161\n",
      "exptime_galaxy_z     -0.1629      0.039     -4.178      0.000      -0.239      -0.086\n",
      "meansky_galaxy_g  -2.203e-10   1.23e-08     -0.018      0.986   -2.43e-08    2.39e-08\n",
      "meansky_galaxy_r  -1.218e-08   4.02e-09     -3.030      0.002   -2.01e-08    -4.3e-09\n",
      "meansky_galaxy_z   2.058e-10   3.72e-10      0.553      0.580   -5.23e-10    9.35e-10\n",
      "galdepth_galaxy_g     7.0010      5.031      1.392      0.164      -2.862      16.864\n",
      "galdepth_galaxy_r   -11.6787      4.694     -2.488      0.013     -20.882      -2.475\n",
      "galdepth_galaxy_z    16.0882      5.234      3.074      0.002       5.827      26.350\n",
      "==============================================================================\n",
      "Omnibus:                      653.269   Durbin-Watson:                   1.943\n",
      "Prob(Omnibus):                  0.000   Jarque-Bera (JB):             2074.581\n",
      "Skew:                           0.913   Prob(JB):                         0.00\n",
      "Kurtosis:                       6.228   Cond. No.                     3.83e+10\n",
      "==============================================================================\n",
      "\n",
      "Notes:\n",
      "[1] R² is computed without centering (uncentered) since the model does not contain a constant.\n",
      "[2] Standard Errors assume that the covariance matrix of the errors is correctly specified.\n",
      "[3] The condition number is large, 3.83e+10. This might indicate that there are\n",
      "strong multicollinearity or other numerical problems.\n",
      "\n",
      "                                 OLS Regression Results                                \n",
      "=======================================================================================\n",
      "Dep. Variable:            qso_density   R-squared (uncentered):                   0.457\n",
      "Model:                            OLS   Adj. R-squared (uncentered):              0.454\n",
      "Method:                 Least Squares   F-statistic:                              178.1\n",
      "Date:                Fri, 18 Jun 2021   Prob (F-statistic):                        0.00\n",
      "Time:                        13:34:38   Log-Likelihood:                         -4044.3\n",
      "No. Observations:                3621   AIC:                                      8123.\n",
      "Df Residuals:                    3604   BIC:                                      8228.\n",
      "Df Model:                          17                                                  \n",
      "Covariance Type:            nonrobust                                                  \n",
      "=====================================================================================\n",
      "                        coef    std err          t      P>|t|      [0.025      0.975]\n",
      "-------------------------------------------------------------------------------------\n",
      "stellar_density       0.5307      0.011     49.881      0.000       0.510       0.552\n",
      "airmass_galaxy       -0.0070      0.078     -0.089      0.929      -0.160       0.146\n",
      "fwhm_galaxy           0.0475      0.036      1.312      0.190      -0.023       0.118\n",
      "ebv_galaxy           -2.7125      0.464     -5.846      0.000      -3.622      -1.803\n",
      "ccdnphotom_galaxy    -0.0015   5.95e-05    -24.544      0.000      -0.002      -0.001\n",
      "ccdskysb_galaxy_g     5.3930      6.248      0.863      0.388      -6.857      17.643\n",
      "ccdskysb_galaxy_r    10.6698      6.213      1.717      0.086      -1.512      22.852\n",
      "ccdskysb_galaxy_z   -16.8811      4.335     -3.894      0.000     -25.381      -8.381\n",
      "exptime_galaxy_g      0.1047      0.044      2.382      0.017       0.019       0.191\n",
      "exptime_galaxy_r      0.1933      0.052      3.714      0.000       0.091       0.295\n",
      "exptime_galaxy_z     -0.1767      0.038     -4.610      0.000      -0.252      -0.102\n",
      "meansky_galaxy_g  -1.788e-09   1.21e-08     -0.148      0.882   -2.55e-08    2.19e-08\n",
      "meansky_galaxy_r  -7.842e-09   3.95e-09     -1.984      0.047   -1.56e-08   -9.25e-11\n",
      "meansky_galaxy_z  -7.323e-11   3.66e-10     -0.200      0.841    -7.9e-10    6.44e-10\n",
      "galdepth_galaxy_g     3.2340      4.945      0.654      0.513      -6.462      12.930\n",
      "galdepth_galaxy_r    -7.6686      4.615     -1.662      0.097     -16.716       1.379\n",
      "galdepth_galaxy_z     4.6455      5.145      0.903      0.367      -5.442      14.733\n",
      "==============================================================================\n",
      "Omnibus:                      745.891   Durbin-Watson:                   1.977\n",
      "Prob(Omnibus):                  0.000   Jarque-Bera (JB):             2441.573\n",
      "Skew:                           1.028   Prob(JB):                         0.00\n",
      "Kurtosis:                       6.457   Cond. No.                     3.83e+10\n",
      "==============================================================================\n",
      "\n",
      "Notes:\n",
      "[1] R² is computed without centering (uncentered) since the model does not contain a constant.\n",
      "[2] Standard Errors assume that the covariance matrix of the errors is correctly specified.\n",
      "[3] The condition number is large, 3.83e+10. This might indicate that there are\n",
      "strong multicollinearity or other numerical problems.\n"
     ]
    }
   ],
   "source": [
    "ols_lrg_geometric = sm.OLS(y_lrg,X).fit()\n",
    "print(ols_lrg_geometric.summary())\n",
    "print()\n",
    "ols_elg_geometric = sm.OLS(y_elg,X).fit()\n",
    "print(ols_elg_geometric.summary())\n",
    "print()\n",
    "ols_qso_geometric = sm.OLS(y_qso,X).fit()\n",
    "print(ols_qso_geometric.summary())\n"
   ]
  },
  {
   "cell_type": "markdown",
   "metadata": {
    "pycharm": {
     "name": "#%%\n"
    }
   },
   "source": [
    "### 3. Geometric, non-inclusive of edge CCDs"
   ]
  },
  {
   "cell_type": "code",
   "execution_count": 32,
   "metadata": {},
   "outputs": [],
   "source": [
    "df_geometric_no_reg = df_geometric_no.drop(columns=['pixel_id'])\n",
    "\n",
    "\n",
    "y_lrg = df_geometric_no_reg['lrg_density']#.to_numpy(copy=True)\n",
    "y_elg = df_geometric_no_reg['elg_density']#.to_numpy(copy=True)\n",
    "y_qso = df_geometric_no_reg['qso_density']#.to_numpy(copy=True)\n",
    "\n",
    "X = df_geometric_no_reg.drop(columns=['lrg_density','elg_density','qso_density'])#.to_numpy(copy=True)"
   ]
  },
  {
   "cell_type": "code",
   "execution_count": 33,
   "metadata": {},
   "outputs": [
    {
     "name": "stdout",
     "output_type": "stream",
     "text": [
      "                                 OLS Regression Results                                \n",
      "=======================================================================================\n",
      "Dep. Variable:            lrg_density   R-squared (uncentered):                   0.312\n",
      "Model:                            OLS   Adj. R-squared (uncentered):              0.309\n",
      "Method:                 Least Squares   F-statistic:                              96.06\n",
      "Date:                Fri, 18 Jun 2021   Prob (F-statistic):                   1.04e-276\n",
      "Time:                        13:37:30   Log-Likelihood:                         -4570.5\n",
      "No. Observations:                3621   AIC:                                      9175.\n",
      "Df Residuals:                    3604   BIC:                                      9280.\n",
      "Df Model:                          17                                                  \n",
      "Covariance Type:            nonrobust                                                  \n",
      "=====================================================================================\n",
      "                        coef    std err          t      P>|t|      [0.025      0.975]\n",
      "-------------------------------------------------------------------------------------\n",
      "stellar_density       0.4827      0.012     39.231      0.000       0.459       0.507\n",
      "airmass_galaxy        0.0861      0.090      0.951      0.341      -0.091       0.264\n",
      "fwhm_galaxy           0.0735      0.042      1.755      0.079      -0.009       0.156\n",
      "ebv_galaxy           -0.9724      0.537     -1.812      0.070      -2.024       0.080\n",
      "ccdnphotom_galaxy    -0.0012   6.88e-05    -17.634      0.000      -0.001      -0.001\n",
      "ccdskysb_galaxy_g     2.5012      7.225      0.346      0.729     -11.665      16.668\n",
      "ccdskysb_galaxy_r    10.5305      7.185      1.466      0.143      -3.557      24.618\n",
      "ccdskysb_galaxy_z   -16.3332      5.014     -3.258      0.001     -26.163      -6.503\n",
      "exptime_galaxy_g      0.0347      0.051      0.683      0.495      -0.065       0.134\n",
      "exptime_galaxy_r      0.1102      0.060      1.830      0.067      -0.008       0.228\n",
      "exptime_galaxy_z     -0.1918      0.044     -4.326      0.000      -0.279      -0.105\n",
      "meansky_galaxy_g  -7.131e-09    1.4e-08     -0.511      0.609   -3.45e-08    2.02e-08\n",
      "meansky_galaxy_r  -1.356e-08   4.57e-09     -2.967      0.003   -2.25e-08    -4.6e-09\n",
      "meansky_galaxy_z   1.009e-09   4.23e-10      2.387      0.017     1.8e-10    1.84e-09\n",
      "galdepth_galaxy_g    -7.5611      5.719     -1.322      0.186     -18.774       3.652\n",
      "galdepth_galaxy_r    -8.0947      5.337     -1.517      0.129     -18.558       2.368\n",
      "galdepth_galaxy_z    18.4580      5.950      3.102      0.002       6.792      30.124\n",
      "==============================================================================\n",
      "Omnibus:                     3263.164   Durbin-Watson:                   1.946\n",
      "Prob(Omnibus):                  0.000   Jarque-Bera (JB):           298690.627\n",
      "Skew:                           3.904   Prob(JB):                         0.00\n",
      "Kurtosis:                      46.804   Cond. No.                     3.83e+10\n",
      "==============================================================================\n",
      "\n",
      "Notes:\n",
      "[1] R² is computed without centering (uncentered) since the model does not contain a constant.\n",
      "[2] Standard Errors assume that the covariance matrix of the errors is correctly specified.\n",
      "[3] The condition number is large, 3.83e+10. This might indicate that there are\n",
      "strong multicollinearity or other numerical problems.\n",
      "                                 OLS Regression Results                                \n",
      "=======================================================================================\n",
      "Dep. Variable:            elg_density   R-squared (uncentered):                   0.436\n",
      "Model:                            OLS   Adj. R-squared (uncentered):              0.433\n",
      "Method:                 Least Squares   F-statistic:                              163.9\n",
      "Date:                Fri, 18 Jun 2021   Prob (F-statistic):                        0.00\n",
      "Time:                        13:37:30   Log-Likelihood:                         -4106.1\n",
      "No. Observations:                3621   AIC:                                      8246.\n",
      "Df Residuals:                    3604   BIC:                                      8352.\n",
      "Df Model:                          17                                                  \n",
      "Covariance Type:            nonrobust                                                  \n",
      "=====================================================================================\n",
      "                        coef    std err          t      P>|t|      [0.025      0.975]\n",
      "-------------------------------------------------------------------------------------\n",
      "stellar_density       0.5177      0.011     47.840      0.000       0.497       0.539\n",
      "airmass_galaxy       -0.2275      0.080     -2.859      0.004      -0.384      -0.071\n",
      "fwhm_galaxy           0.0422      0.037      1.147      0.252      -0.030       0.114\n",
      "ebv_galaxy           -3.5158      0.472     -7.449      0.000      -4.441      -2.590\n",
      "ccdnphotom_galaxy    -0.0014   6.05e-05    -23.289      0.000      -0.002      -0.001\n",
      "ccdskysb_galaxy_g    -4.7744      6.356     -0.751      0.453     -17.236       7.687\n",
      "ccdskysb_galaxy_r    11.1499      6.320      1.764      0.078      -1.242      23.542\n",
      "ccdskysb_galaxy_z   -16.7058      4.410     -3.788      0.000     -25.352      -8.059\n",
      "exptime_galaxy_g      0.1543      0.045      3.453      0.001       0.067       0.242\n",
      "exptime_galaxy_r      0.0575      0.053      1.086      0.278      -0.046       0.161\n",
      "exptime_galaxy_z     -0.1629      0.039     -4.178      0.000      -0.239      -0.086\n",
      "meansky_galaxy_g  -2.203e-10   1.23e-08     -0.018      0.986   -2.43e-08    2.39e-08\n",
      "meansky_galaxy_r  -1.218e-08   4.02e-09     -3.030      0.002   -2.01e-08    -4.3e-09\n",
      "meansky_galaxy_z   2.058e-10   3.72e-10      0.553      0.580   -5.23e-10    9.35e-10\n",
      "galdepth_galaxy_g     7.0010      5.031      1.392      0.164      -2.862      16.864\n",
      "galdepth_galaxy_r   -11.6787      4.694     -2.488      0.013     -20.882      -2.475\n",
      "galdepth_galaxy_z    16.0882      5.234      3.074      0.002       5.827      26.350\n",
      "==============================================================================\n",
      "Omnibus:                      653.269   Durbin-Watson:                   1.943\n",
      "Prob(Omnibus):                  0.000   Jarque-Bera (JB):             2074.581\n",
      "Skew:                           0.913   Prob(JB):                         0.00\n",
      "Kurtosis:                       6.228   Cond. No.                     3.83e+10\n",
      "==============================================================================\n",
      "\n",
      "Notes:\n",
      "[1] R² is computed without centering (uncentered) since the model does not contain a constant.\n",
      "[2] Standard Errors assume that the covariance matrix of the errors is correctly specified.\n",
      "[3] The condition number is large, 3.83e+10. This might indicate that there are\n",
      "strong multicollinearity or other numerical problems.\n",
      "                                 OLS Regression Results                                \n",
      "=======================================================================================\n",
      "Dep. Variable:            qso_density   R-squared (uncentered):                   0.457\n",
      "Model:                            OLS   Adj. R-squared (uncentered):              0.454\n",
      "Method:                 Least Squares   F-statistic:                              178.1\n",
      "Date:                Fri, 18 Jun 2021   Prob (F-statistic):                        0.00\n",
      "Time:                        13:37:30   Log-Likelihood:                         -4044.3\n",
      "No. Observations:                3621   AIC:                                      8123.\n",
      "Df Residuals:                    3604   BIC:                                      8228.\n",
      "Df Model:                          17                                                  \n",
      "Covariance Type:            nonrobust                                                  \n",
      "=====================================================================================\n",
      "                        coef    std err          t      P>|t|      [0.025      0.975]\n",
      "-------------------------------------------------------------------------------------\n",
      "stellar_density       0.5307      0.011     49.881      0.000       0.510       0.552\n",
      "airmass_galaxy       -0.0070      0.078     -0.089      0.929      -0.160       0.146\n",
      "fwhm_galaxy           0.0475      0.036      1.312      0.190      -0.023       0.118\n",
      "ebv_galaxy           -2.7125      0.464     -5.846      0.000      -3.622      -1.803\n",
      "ccdnphotom_galaxy    -0.0015   5.95e-05    -24.544      0.000      -0.002      -0.001\n",
      "ccdskysb_galaxy_g     5.3930      6.248      0.863      0.388      -6.857      17.643\n",
      "ccdskysb_galaxy_r    10.6698      6.213      1.717      0.086      -1.512      22.852\n",
      "ccdskysb_galaxy_z   -16.8811      4.335     -3.894      0.000     -25.381      -8.381\n",
      "exptime_galaxy_g      0.1047      0.044      2.382      0.017       0.019       0.191\n",
      "exptime_galaxy_r      0.1933      0.052      3.714      0.000       0.091       0.295\n",
      "exptime_galaxy_z     -0.1767      0.038     -4.610      0.000      -0.252      -0.102\n",
      "meansky_galaxy_g  -1.788e-09   1.21e-08     -0.148      0.882   -2.55e-08    2.19e-08\n",
      "meansky_galaxy_r  -7.842e-09   3.95e-09     -1.984      0.047   -1.56e-08   -9.25e-11\n",
      "meansky_galaxy_z  -7.323e-11   3.66e-10     -0.200      0.841    -7.9e-10    6.44e-10\n",
      "galdepth_galaxy_g     3.2340      4.945      0.654      0.513      -6.462      12.930\n",
      "galdepth_galaxy_r    -7.6686      4.615     -1.662      0.097     -16.716       1.379\n",
      "galdepth_galaxy_z     4.6455      5.145      0.903      0.367      -5.442      14.733\n",
      "==============================================================================\n",
      "Omnibus:                      745.891   Durbin-Watson:                   1.977\n",
      "Prob(Omnibus):                  0.000   Jarque-Bera (JB):             2441.573\n",
      "Skew:                           1.028   Prob(JB):                         0.00\n",
      "Kurtosis:                       6.457   Cond. No.                     3.83e+10\n",
      "==============================================================================\n",
      "\n",
      "Notes:\n",
      "[1] R² is computed without centering (uncentered) since the model does not contain a constant.\n",
      "[2] Standard Errors assume that the covariance matrix of the errors is correctly specified.\n",
      "[3] The condition number is large, 3.83e+10. This might indicate that there are\n",
      "strong multicollinearity or other numerical problems.\n"
     ]
    }
   ],
   "source": [
    "ols_lrg_geometric_no = sm.OLS(y_lrg,X).fit()\n",
    "print(ols_lrg_geometric_no.summary())\n",
    "ols_elg_geometric_no = sm.OLS(y_elg,X).fit()\n",
    "print(ols_elg_geometric_no.summary())\n",
    "ols_qso_geometric_no = sm.OLS(y_qso,X).fit()\n",
    "print(ols_qso_geometric_no.summary())\n"
   ]
  },
  {
   "cell_type": "code",
   "execution_count": null,
   "metadata": {},
   "outputs": [],
   "source": []
  },
  {
   "cell_type": "code",
   "execution_count": null,
   "metadata": {},
   "outputs": [],
   "source": []
  },
  {
   "cell_type": "code",
   "execution_count": null,
   "metadata": {},
   "outputs": [],
   "source": []
  },
  {
   "cell_type": "code",
   "execution_count": null,
   "metadata": {},
   "outputs": [],
   "source": []
  }
 ],
 "metadata": {
  "kernelspec": {
   "display_name": "Python 3",
   "language": "python",
   "name": "python3"
  },
  "language_info": {
   "codemirror_mode": {
    "name": "ipython",
    "version": 3
   },
   "file_extension": ".py",
   "mimetype": "text/x-python",
   "name": "python",
   "nbconvert_exporter": "python",
   "pygments_lexer": "ipython3",
   "version": "3.8.8"
  }
 },
 "nbformat": 4,
 "nbformat_minor": 1
}
