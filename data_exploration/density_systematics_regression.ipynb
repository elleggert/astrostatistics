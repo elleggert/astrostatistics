{
 "cells": [
  {
   "cell_type": "markdown",
   "metadata": {
    "collapsed": true,
    "pycharm": {
     "name": "#%% md\n"
    }
   },
   "source": [
    "### Attempting to run regressions from systematics values extracted geometrically or from Kitanidis et al on galaxy density\n"
   ]
  },
  {
   "cell_type": "code",
   "execution_count": 1,
   "outputs": [],
   "source": [
    "import pandas as pd\n",
    "import numpy as np\n",
    "import pickle\n",
    "import healpy as hp"
   ],
   "metadata": {
    "collapsed": false,
    "pycharm": {
     "name": "#%%\n"
    }
   }
  },
  {
   "cell_type": "code",
   "source": [
    "### Setting Healpy Information\n",
    "NSIDE = 256\n",
    "NPIX = hp.nside2npix(NSIDE)\n",
    "print(\n",
    "    \"Approximate resolution at NSIDE {} is {:.2} deg\".format(\n",
    "        NSIDE, hp.nside2resol(NSIDE, arcmin=True) / 60\n",
    "    )\n",
    ")\n",
    "\n",
    "def raDec2thetaPhi(ra, dec):\n",
    "    return (0.5 * np.pi - np.deg2rad(dec)), (np.deg2rad(ra))\n"
   ],
   "metadata": {
    "collapsed": false,
    "pycharm": {
     "name": "#%%\n"
    }
   },
   "execution_count": 2,
   "outputs": [
    {
     "name": "stdout",
     "output_type": "stream",
     "text": [
      "Approximate resolution at NSIDE 256 is 0.23 deg\n"
     ]
    }
   ]
  },
  {
   "cell_type": "markdown",
   "source": [
    "### Importing Galaxy Density Information"
   ],
   "metadata": {
    "collapsed": false,
    "pycharm": {
     "name": "#%% md\n"
    }
   }
  },
  {
   "cell_type": "code",
   "execution_count": 3,
   "outputs": [],
   "source": [
    "df_objects = pd.read_csv('../bricks_data/galaxy_catalogue_sample.csv')\n"
   ],
   "metadata": {
    "collapsed": false,
    "pycharm": {
     "name": "#%%\n"
    }
   }
  },
  {
   "cell_type": "code",
   "execution_count": 4,
   "outputs": [
    {
     "data": {
      "text/plain": "   BrickID  ObjectID          RA        DEC  South  Target_type\n0   389675        10  133.284363  10.315927   True            3\n1   389675        11  133.284832  10.314327   True            2\n2   389675        15  133.285109  10.294865   True            3\n3   389675        21  133.285731  10.319199   True            3\n4   389675        35  133.286350  10.168023   True            2",
      "text/html": "<div>\n<style scoped>\n    .dataframe tbody tr th:only-of-type {\n        vertical-align: middle;\n    }\n\n    .dataframe tbody tr th {\n        vertical-align: top;\n    }\n\n    .dataframe thead th {\n        text-align: right;\n    }\n</style>\n<table border=\"1\" class=\"dataframe\">\n  <thead>\n    <tr style=\"text-align: right;\">\n      <th></th>\n      <th>BrickID</th>\n      <th>ObjectID</th>\n      <th>RA</th>\n      <th>DEC</th>\n      <th>South</th>\n      <th>Target_type</th>\n    </tr>\n  </thead>\n  <tbody>\n    <tr>\n      <th>0</th>\n      <td>389675</td>\n      <td>10</td>\n      <td>133.284363</td>\n      <td>10.315927</td>\n      <td>True</td>\n      <td>3</td>\n    </tr>\n    <tr>\n      <th>1</th>\n      <td>389675</td>\n      <td>11</td>\n      <td>133.284832</td>\n      <td>10.314327</td>\n      <td>True</td>\n      <td>2</td>\n    </tr>\n    <tr>\n      <th>2</th>\n      <td>389675</td>\n      <td>15</td>\n      <td>133.285109</td>\n      <td>10.294865</td>\n      <td>True</td>\n      <td>3</td>\n    </tr>\n    <tr>\n      <th>3</th>\n      <td>389675</td>\n      <td>21</td>\n      <td>133.285731</td>\n      <td>10.319199</td>\n      <td>True</td>\n      <td>3</td>\n    </tr>\n    <tr>\n      <th>4</th>\n      <td>389675</td>\n      <td>35</td>\n      <td>133.286350</td>\n      <td>10.168023</td>\n      <td>True</td>\n      <td>2</td>\n    </tr>\n  </tbody>\n</table>\n</div>"
     },
     "execution_count": 4,
     "metadata": {},
     "output_type": "execute_result"
    }
   ],
   "source": [
    "df_objects.head()"
   ],
   "metadata": {
    "collapsed": false,
    "pycharm": {
     "name": "#%%\n"
    }
   }
  },
  {
   "cell_type": "code",
   "execution_count": 5,
   "outputs": [
    {
     "name": "stdout",
     "output_type": "stream",
     "text": [
      "Number of LRGs in Sample: 41904\n",
      "[166098 167122 167123 ... 756988 756989 757472]\n",
      "Mean LRGs per Pixel: 9.93692198245198\n",
      "[[ 1.66098000e+05  3.08252195e-01]\n",
      " [ 1.67122000e+05 -8.99365216e-01]\n",
      " [ 1.67123000e+05  4.08886980e-01]\n",
      " ...\n",
      " [ 7.56988000e+05 -8.99365216e-01]\n",
      " [ 7.56989000e+05  1.61650439e+00]\n",
      " [ 7.57472000e+05 -4.96826079e-01]]\n"
     ]
    },
    {
     "data": {
      "text/plain": "   pixel_id  lrg_density\n0    166098     0.308252\n1    167122    -0.899365\n2    167123     0.408887\n3    171167    -0.496826\n4    172190    -0.496826",
      "text/html": "<div>\n<style scoped>\n    .dataframe tbody tr th:only-of-type {\n        vertical-align: middle;\n    }\n\n    .dataframe tbody tr th {\n        vertical-align: top;\n    }\n\n    .dataframe thead th {\n        text-align: right;\n    }\n</style>\n<table border=\"1\" class=\"dataframe\">\n  <thead>\n    <tr style=\"text-align: right;\">\n      <th></th>\n      <th>pixel_id</th>\n      <th>lrg_density</th>\n    </tr>\n  </thead>\n  <tbody>\n    <tr>\n      <th>0</th>\n      <td>166098</td>\n      <td>0.308252</td>\n    </tr>\n    <tr>\n      <th>1</th>\n      <td>167122</td>\n      <td>-0.899365</td>\n    </tr>\n    <tr>\n      <th>2</th>\n      <td>167123</td>\n      <td>0.408887</td>\n    </tr>\n    <tr>\n      <th>3</th>\n      <td>171167</td>\n      <td>-0.496826</td>\n    </tr>\n    <tr>\n      <th>4</th>\n      <td>172190</td>\n      <td>-0.496826</td>\n    </tr>\n  </tbody>\n</table>\n</div>"
     },
     "execution_count": 5,
     "metadata": {},
     "output_type": "execute_result"
    }
   ],
   "source": [
    "# LRG\n",
    "\n",
    "df_LRG = df_objects[df_objects[\"Target_type\"] == 1]\n",
    "ra_LRG = df_LRG[\"RA\"].to_numpy(copy=True)\n",
    "dec_LRG = df_LRG[\"DEC\"].to_numpy(copy=True)\n",
    "theta, phi = raDec2thetaPhi(ra_LRG, dec_LRG)\n",
    "\n",
    "print(\"Number of LRGs in Sample:\", len(ra_LRG))\n",
    "\n",
    "LRG_pixel_indices = hp.ang2pix(NSIDE, theta,phi)\n",
    "\n",
    "\n",
    "# Finding out unique indices and how often they appear --> shows the density of LRGs in this pixel\n",
    "(unique, counts) = np.unique(LRG_pixel_indices, return_counts=True)\n",
    "\n",
    "print(unique)\n",
    "\n",
    "mean_LRG = counts.mean()\n",
    "print(\"Mean LRGs per Pixel:\", mean_LRG)\n",
    "# Calculating Densities for every block\n",
    "density_LRG = (counts / mean_LRG) - 1\n",
    "id_density = np.stack((unique, density_LRG), axis=1)\n",
    "print(id_density)\n",
    "df_lrg = pd.DataFrame(id_density, columns=['pixel_id', 'lrg_density'])\n",
    "df_lrg.pixel_id = df_lrg.pixel_id.astype(int)\n",
    "df_lrg.head()"
   ],
   "metadata": {
    "collapsed": false,
    "pycharm": {
     "name": "#%%\n"
    }
   }
  },
  {
   "cell_type": "code",
   "execution_count": 6,
   "outputs": [
    {
     "name": "stdout",
     "output_type": "stream",
     "text": [
      "Number of ELGs in Sample: 157118\n",
      "[166098 167122 167123 ... 756502 756989 757472]\n",
      "Mean ELGs per Pixel: 32.556568586821385\n",
      "[[ 1.66098000e+05  7.50518718e-02]\n",
      " [ 1.67122000e+05 -9.07852697e-01]\n",
      " [ 1.67123000e+05 -4.16400412e-01]\n",
      " ...\n",
      " [ 7.56502000e+05 -5.69979251e-01]\n",
      " [ 7.56989000e+05  4.34454359e+00]\n",
      " [ 7.57472000e+05  1.36203363e-02]]\n",
      "   pixel_id  elg_density\n",
      "0    166098     0.075052\n",
      "1    167122    -0.907853\n",
      "2    167123    -0.416400\n",
      "3    171167     0.412925\n",
      "4    172190    -0.293537\n"
     ]
    }
   ],
   "source": [
    "# LRG\n",
    "\n",
    "df_ELG = df_objects[df_objects[\"Target_type\"] == 2]\n",
    "ra_ELG = df_ELG[\"RA\"].to_numpy(copy=True)\n",
    "dec_ELG = df_ELG[\"DEC\"].to_numpy(copy=True)\n",
    "theta, phi = raDec2thetaPhi(ra_ELG, dec_ELG)\n",
    "\n",
    "print(\"Number of ELGs in Sample:\", len(ra_ELG))\n",
    "\n",
    "ELG_pixel_indices = hp.ang2pix(NSIDE, theta,phi)\n",
    "\n",
    "\n",
    "# Finding out unique indices and how often they appear --> shows the density of LRGs in this pixel\n",
    "(unique, counts) = np.unique(ELG_pixel_indices, return_counts=True)\n",
    "\n",
    "print(unique)\n",
    "\n",
    "mean_ELG = counts.mean()\n",
    "print(\"Mean ELGs per Pixel:\", mean_ELG)\n",
    "# Calculating Densities for every block\n",
    "density_ELG = (counts / mean_ELG) - 1\n",
    "id_density = np.stack((unique, density_ELG), axis=1)\n",
    "print(id_density)\n",
    "df_elg = pd.DataFrame(id_density, columns=['pixel_id', 'elg_density'])\n",
    "df_elg.pixel_id = df_elg.pixel_id.astype(int)\n",
    "\n",
    "print(df_elg.head())"
   ],
   "metadata": {
    "collapsed": false,
    "pycharm": {
     "name": "#%%\n"
    }
   }
  },
  {
   "cell_type": "code",
   "execution_count": 7,
   "outputs": [
    {
     "name": "stdout",
     "output_type": "stream",
     "text": [
      "Number of QSOs in Sample: 180394\n",
      "[166098 167122 167123 ... 756502 756989 757472]\n",
      "Mean QSOs per Pixel: 36.92058943921408\n",
      "[[ 1.66098000e+05  5.63211637e-02]\n",
      " [ 1.67122000e+05 -8.10403894e-01]\n",
      " [ 1.67123000e+05  1.10491480e-01]\n",
      " ...\n",
      " [ 7.56502000e+05 -8.64574210e-01]\n",
      " [ 7.56989000e+05  2.60232602e+00]\n",
      " [ 7.57472000e+05 -1.60360101e-01]]\n",
      "   pixel_id  qso_density\n",
      "0    166098     0.056321\n",
      "1    167122    -0.810404\n",
      "2    167123     0.110491\n",
      "3    171167    -0.024934\n",
      "4    172190    -0.133275\n"
     ]
    }
   ],
   "source": [
    "df_QSO = df_objects[df_objects[\"Target_type\"] == 3]\n",
    "ra_QSO = df_QSO[\"RA\"].to_numpy(copy=True)\n",
    "dec_QSO = df_QSO[\"DEC\"].to_numpy(copy=True)\n",
    "theta, phi = raDec2thetaPhi(ra_QSO, dec_QSO)\n",
    "\n",
    "print(\"Number of QSOs in Sample:\", len(ra_QSO))\n",
    "\n",
    "QSO_pixel_indices = hp.ang2pix(NSIDE, theta,phi)\n",
    "\n",
    "\n",
    "# Finding out unique indices and how often they appear --> shows the density of LRGs in this pixel\n",
    "(unique, counts) = np.unique(QSO_pixel_indices, return_counts=True)\n",
    "\n",
    "print(unique)\n",
    "\n",
    "mean_QSO = counts.mean()\n",
    "print(\"Mean QSOs per Pixel:\", mean_QSO)\n",
    "# Calculating Densities for every block\n",
    "density_QSO = (counts / mean_QSO) - 1\n",
    "id_density = np.stack((unique, density_QSO), axis=1)\n",
    "print(id_density)\n",
    "df_qso = pd.DataFrame(id_density, columns=['pixel_id', 'qso_density'])\n",
    "df_qso.pixel_id = df_qso.pixel_id.astype(int)\n",
    "\n",
    "print(df_qso.head())"
   ],
   "metadata": {
    "collapsed": false,
    "pycharm": {
     "name": "#%%\n"
    }
   }
  },
  {
   "cell_type": "code",
   "execution_count": 8,
   "outputs": [
    {
     "name": "stdout",
     "output_type": "stream",
     "text": [
      "pixel_id         0\n",
      "lrg_density    860\n",
      "elg_density    251\n",
      "qso_density    191\n",
      "dtype: int64\n",
      "(4217, 2) (4826, 2) (4886, 2) (5077, 4)\n"
     ]
    }
   ],
   "source": [
    "df = pd.merge(df_lrg, df_elg, how='outer', on='pixel_id')\n",
    "df = pd.merge(df, df_qso, how='outer', on='pixel_id')\n",
    "print(df.isna().sum())\n",
    "print(df_lrg.shape, df_elg.shape, df_qso.shape, df.shape)"
   ],
   "metadata": {
    "collapsed": false,
    "pycharm": {
     "name": "#%%\n"
    }
   }
  },
  {
   "cell_type": "code",
   "execution_count": 9,
   "outputs": [
    {
     "name": "stdout",
     "output_type": "stream",
     "text": [
      "pixel_id       0\n",
      "lrg_density    0\n",
      "elg_density    0\n",
      "qso_density    0\n",
      "dtype: int64\n"
     ]
    }
   ],
   "source": [
    "# Dropping all pixels where I do not have densities for all 3 types of galaxies\n",
    "df.dropna(axis=0, inplace=True)\n",
    "print(df.isna().sum())"
   ],
   "metadata": {
    "collapsed": false,
    "pycharm": {
     "name": "#%%\n"
    }
   }
  },
  {
   "cell_type": "markdown",
   "source": [
    "### Importing the Systematics Values and Appending them to the df.\n"
   ],
   "metadata": {
    "collapsed": false,
    "pycharm": {
     "name": "#%% md\n"
    }
   },
   "execution_count": 51
  },
  {
   "cell_type": "markdown",
   "source": [
    "#### Stellar Density"
   ],
   "metadata": {
    "collapsed": false,
    "pycharm": {
     "name": "#%% md\n"
    }
   },
   "execution_count": 52
  },
  {
   "cell_type": "code",
   "execution_count": 10,
   "outputs": [
    {
     "name": "stdout",
     "output_type": "stream",
     "text": [
      "Number of stellars in Sample: 38979\n",
      "[166098 167123 171167 ... 756502 756989 757472]\n",
      "Mean stellars per Pixel: 9.718025430067314\n",
      "[[ 1.66098000e+05 -6.91295313e-01]\n",
      " [ 1.67123000e+05  1.31917186e-01]\n",
      " [ 1.71167000e+05 -4.85492188e-01]\n",
      " ...\n",
      " [ 7.56502000e+05 -7.94196875e-01]\n",
      " [ 7.56989000e+05  2.18994843e+00]\n",
      " [ 7.57472000e+05 -5.88393750e-01]]\n",
      "   pixel_id  stellar_density\n",
      "0    166098        -0.691295\n",
      "1    167123         0.131917\n",
      "2    171167        -0.485492\n",
      "3    172190        -0.794197\n",
      "4    172191        -0.279689\n",
      "pixel_id           0\n",
      "stellar_density    0\n",
      "dtype: int64\n"
     ]
    }
   ],
   "source": [
    "df_Stellar = pd.read_csv('../bricks_data/galaxy_catalogue_stellar.csv')\n",
    "ra_stellar = df_Stellar[\"RA\"].to_numpy(copy=True)\n",
    "dec_stellar = df_Stellar[\"DEC\"].to_numpy(copy=True)\n",
    "theta, phi = raDec2thetaPhi(ra_stellar, dec_stellar)\n",
    "\n",
    "print(\"Number of stellars in Sample:\", len(ra_stellar))\n",
    "\n",
    "stellar_pixel_indices = hp.ang2pix(NSIDE, theta,phi)\n",
    "\n",
    "\n",
    "# Finding out unique indices and how often they appear --> shows the density of LRGs in this pixel\n",
    "(unique, counts) = np.unique(stellar_pixel_indices, return_counts=True)\n",
    "\n",
    "print(unique)\n",
    "\n",
    "mean_stellar = counts.mean()\n",
    "print(\"Mean stellars per Pixel:\", mean_stellar)\n",
    "# Calculating Densities for every block\n",
    "density_stellar = (counts / mean_stellar) - 1\n",
    "id_density = np.stack((unique, density_stellar), axis=1)\n",
    "print(id_density)\n",
    "df_stellar = pd.DataFrame(id_density, columns=['pixel_id', 'stellar_density'])\n",
    "df_stellar.pixel_id = df_stellar.pixel_id.astype(int)\n",
    "\n",
    "print(df_stellar.head())\n",
    "\n",
    "print(df_stellar.isna().sum())"
   ],
   "metadata": {
    "collapsed": false,
    "pycharm": {
     "name": "#%%\n"
    }
   }
  },
  {
   "cell_type": "code",
   "execution_count": 11,
   "outputs": [
    {
     "name": "stdout",
     "output_type": "stream",
     "text": [
      "pixel_id           0\n",
      "lrg_density        0\n",
      "elg_density        0\n",
      "qso_density        0\n",
      "stellar_density    0\n",
      "dtype: int64\n"
     ]
    },
    {
     "data": {
      "text/plain": "(3621, 5)"
     },
     "execution_count": 11,
     "metadata": {},
     "output_type": "execute_result"
    }
   ],
   "source": [
    "df = df.merge(df_stellar, how='inner', on='pixel_id')\n",
    "print(df.isna().sum())\n",
    "df.shape"
   ],
   "metadata": {
    "collapsed": false,
    "pycharm": {
     "name": "#%%\n"
    }
   }
  },
  {
   "cell_type": "markdown",
   "source": [
    "#### Kitanidis Systematics Values"
   ],
   "metadata": {
    "collapsed": false,
    "pycharm": {
     "name": "#%% md\n"
    }
   }
  },
  {
   "cell_type": "code",
   "execution_count": 12,
   "outputs": [
    {
     "name": "stdout",
     "output_type": "stream",
     "text": [
      "1567\n"
     ]
    }
   ],
   "source": [
    "with open('../bricks_data/pixel2systematics_kitanidis.pickle', 'rb') as f:\n",
    "    kitanidis_dict = pickle.load(f)\n",
    "    f.close()\n",
    "\n",
    "print(len(kitanidis_dict.keys()))"
   ],
   "metadata": {
    "collapsed": false,
    "pycharm": {
     "name": "#%%\n"
    }
   }
  },
  {
   "cell_type": "code",
   "execution_count": 13,
   "outputs": [],
   "source": [
    "pixel_keys = kitanidis_dict.keys()\n",
    "\n",
    "sys_list = []\n",
    "for key in pixel_keys:\n",
    "    ind_sys_list = kitanidis_dict[key]\n",
    "    ind_sys_list.append(key)\n",
    "    sys_list.append(ind_sys_list)\n",
    "\n",
    "df_sys_kit = pd.DataFrame(sys_list, columns=['airmass_galaxy',\n",
    "'fwhm_galaxy',\n",
    "'ebv_galaxy',\n",
    "'ccdnphotom_galaxy',\n",
    "\n",
    "'ccdskysb_galaxy_g',\n",
    "'ccdskysb_galaxy_r',\n",
    "'ccdskysb_galaxy_z',\n",
    "'exptime_galaxy_g',\n",
    "'exptime_galaxy_r',\n",
    "'exptime_galaxy_z',\n",
    "'meansky_galaxy_g',\n",
    "'meansky_galaxy_r',\n",
    "'meansky_galaxy_z',\n",
    "'galdepth_galaxy_g',\n",
    "'galdepth_galaxy_r',\n",
    "'galdepth_galaxy_z', 'pixel_id'])\n",
    "\n"
   ],
   "metadata": {
    "collapsed": false,
    "pycharm": {
     "name": "#%%\n"
    }
   }
  },
  {
   "cell_type": "code",
   "execution_count": 14,
   "outputs": [
    {
     "data": {
      "text/plain": "   airmass_galaxy  fwhm_galaxy  ebv_galaxy  ccdnphotom_galaxy  \\\n0        1.204206     4.569465    0.021082         273.100211   \n1        1.069105     4.824085    0.010359         148.191320   \n2        1.108757     4.413348    0.011393         154.348513   \n3        1.104669     4.394738    0.011230         153.649709   \n4        1.107077     4.439277    0.014093         150.531232   \n\n   ccdskysb_galaxy_g  ccdskysb_galaxy_r  ccdskysb_galaxy_z  exptime_galaxy_g  \\\n0          23.627050          22.730956          20.206251              90.0   \n1          23.601375          22.732608          20.000021              90.0   \n2          23.602864          22.701580          20.073285              90.0   \n3          23.613133          22.710532          20.111641              90.0   \n4          23.583476          22.647124          20.197871              90.0   \n\n   exptime_galaxy_r  exptime_galaxy_z  meansky_galaxy_g  meansky_galaxy_r  \\\n0              90.0              90.0      2.390975e+08      6.489436e+08   \n1              90.0              90.0      1.803126e+08      2.993781e+08   \n2              90.0              90.0      2.952632e+08      8.687714e+08   \n3              90.0              90.0      2.446651e+08      9.609978e+08   \n4              90.0              90.0      3.645015e+08      6.979010e+08   \n\n   meansky_galaxy_z  galdepth_galaxy_g  galdepth_galaxy_r  galdepth_galaxy_z  \\\n0      2.384546e+09          23.111424          23.139025          22.097923   \n1      2.225294e+10          23.353823          23.320494          21.550398   \n2      1.152634e+10          23.062541          22.892199          21.675296   \n3      8.914973e+09          23.186001          22.788259          21.786543   \n4      9.072512e+09          22.836915          23.042679          21.724951   \n\n   pixel_id  \n0    741107  \n1    662895  \n2    662913  \n3    663905  \n4    652792  ",
      "text/html": "<div>\n<style scoped>\n    .dataframe tbody tr th:only-of-type {\n        vertical-align: middle;\n    }\n\n    .dataframe tbody tr th {\n        vertical-align: top;\n    }\n\n    .dataframe thead th {\n        text-align: right;\n    }\n</style>\n<table border=\"1\" class=\"dataframe\">\n  <thead>\n    <tr style=\"text-align: right;\">\n      <th></th>\n      <th>airmass_galaxy</th>\n      <th>fwhm_galaxy</th>\n      <th>ebv_galaxy</th>\n      <th>ccdnphotom_galaxy</th>\n      <th>ccdskysb_galaxy_g</th>\n      <th>ccdskysb_galaxy_r</th>\n      <th>ccdskysb_galaxy_z</th>\n      <th>exptime_galaxy_g</th>\n      <th>exptime_galaxy_r</th>\n      <th>exptime_galaxy_z</th>\n      <th>meansky_galaxy_g</th>\n      <th>meansky_galaxy_r</th>\n      <th>meansky_galaxy_z</th>\n      <th>galdepth_galaxy_g</th>\n      <th>galdepth_galaxy_r</th>\n      <th>galdepth_galaxy_z</th>\n      <th>pixel_id</th>\n    </tr>\n  </thead>\n  <tbody>\n    <tr>\n      <th>0</th>\n      <td>1.204206</td>\n      <td>4.569465</td>\n      <td>0.021082</td>\n      <td>273.100211</td>\n      <td>23.627050</td>\n      <td>22.730956</td>\n      <td>20.206251</td>\n      <td>90.0</td>\n      <td>90.0</td>\n      <td>90.0</td>\n      <td>2.390975e+08</td>\n      <td>6.489436e+08</td>\n      <td>2.384546e+09</td>\n      <td>23.111424</td>\n      <td>23.139025</td>\n      <td>22.097923</td>\n      <td>741107</td>\n    </tr>\n    <tr>\n      <th>1</th>\n      <td>1.069105</td>\n      <td>4.824085</td>\n      <td>0.010359</td>\n      <td>148.191320</td>\n      <td>23.601375</td>\n      <td>22.732608</td>\n      <td>20.000021</td>\n      <td>90.0</td>\n      <td>90.0</td>\n      <td>90.0</td>\n      <td>1.803126e+08</td>\n      <td>2.993781e+08</td>\n      <td>2.225294e+10</td>\n      <td>23.353823</td>\n      <td>23.320494</td>\n      <td>21.550398</td>\n      <td>662895</td>\n    </tr>\n    <tr>\n      <th>2</th>\n      <td>1.108757</td>\n      <td>4.413348</td>\n      <td>0.011393</td>\n      <td>154.348513</td>\n      <td>23.602864</td>\n      <td>22.701580</td>\n      <td>20.073285</td>\n      <td>90.0</td>\n      <td>90.0</td>\n      <td>90.0</td>\n      <td>2.952632e+08</td>\n      <td>8.687714e+08</td>\n      <td>1.152634e+10</td>\n      <td>23.062541</td>\n      <td>22.892199</td>\n      <td>21.675296</td>\n      <td>662913</td>\n    </tr>\n    <tr>\n      <th>3</th>\n      <td>1.104669</td>\n      <td>4.394738</td>\n      <td>0.011230</td>\n      <td>153.649709</td>\n      <td>23.613133</td>\n      <td>22.710532</td>\n      <td>20.111641</td>\n      <td>90.0</td>\n      <td>90.0</td>\n      <td>90.0</td>\n      <td>2.446651e+08</td>\n      <td>9.609978e+08</td>\n      <td>8.914973e+09</td>\n      <td>23.186001</td>\n      <td>22.788259</td>\n      <td>21.786543</td>\n      <td>663905</td>\n    </tr>\n    <tr>\n      <th>4</th>\n      <td>1.107077</td>\n      <td>4.439277</td>\n      <td>0.014093</td>\n      <td>150.531232</td>\n      <td>23.583476</td>\n      <td>22.647124</td>\n      <td>20.197871</td>\n      <td>90.0</td>\n      <td>90.0</td>\n      <td>90.0</td>\n      <td>3.645015e+08</td>\n      <td>6.979010e+08</td>\n      <td>9.072512e+09</td>\n      <td>22.836915</td>\n      <td>23.042679</td>\n      <td>21.724951</td>\n      <td>652792</td>\n    </tr>\n  </tbody>\n</table>\n</div>"
     },
     "execution_count": 14,
     "metadata": {},
     "output_type": "execute_result"
    }
   ],
   "source": [
    "df_sys_kit.head()"
   ],
   "metadata": {
    "collapsed": false,
    "pycharm": {
     "name": "#%%\n"
    }
   }
  },
  {
   "cell_type": "code",
   "execution_count": 15,
   "outputs": [
    {
     "name": "stdout",
     "output_type": "stream",
     "text": [
      "pixel_id             0\n",
      "lrg_density          0\n",
      "elg_density          0\n",
      "qso_density          0\n",
      "stellar_density      0\n",
      "airmass_galaxy       0\n",
      "fwhm_galaxy          0\n",
      "ebv_galaxy           0\n",
      "ccdnphotom_galaxy    0\n",
      "ccdskysb_galaxy_g    3\n",
      "ccdskysb_galaxy_r    0\n",
      "ccdskysb_galaxy_z    0\n",
      "exptime_galaxy_g     0\n",
      "exptime_galaxy_r     0\n",
      "exptime_galaxy_z     0\n",
      "meansky_galaxy_g     0\n",
      "meansky_galaxy_r     0\n",
      "meansky_galaxy_z     0\n",
      "galdepth_galaxy_g    0\n",
      "galdepth_galaxy_r    0\n",
      "galdepth_galaxy_z    0\n",
      "dtype: int64\n"
     ]
    },
    {
     "data": {
      "text/plain": "   pixel_id  lrg_density  elg_density  qso_density  stellar_density  \\\n0    172191     0.509522     1.180820     0.787620        -0.279689   \n1    173250     1.817774     2.133008     1.410579         1.263834   \n2    174071     0.106983     0.750799     0.191747        -0.794197   \n3    174554     0.106983     0.658651     0.083406         0.955130   \n4    175096     1.515870     3.146629     1.329324        -0.485492   \n\n   airmass_galaxy  fwhm_galaxy  ebv_galaxy  ccdnphotom_galaxy  \\\n0        1.615369     4.563708    0.027940         617.485215   \n1        1.551244     4.652137    0.022238         997.009628   \n2        1.406610     4.458577    0.018477         367.511248   \n3        2.301381     6.055535    0.131243         459.871429   \n4        1.440663     4.587659    0.018841         373.382383   \n\n   ccdskysb_galaxy_g  ...  ccdskysb_galaxy_z  exptime_galaxy_g  \\\n0          23.461968  ...          19.328887        143.100496   \n1          23.454327  ...          19.084433        158.096504   \n2          23.441590  ...          19.497361        128.317445   \n3          23.432264  ...          19.849928        200.000000   \n4          23.452281  ...          19.589021        128.873803   \n\n   exptime_galaxy_r  exptime_galaxy_z  meansky_galaxy_g  meansky_galaxy_r  \\\n0        139.892237        122.275265          0.199914          0.920791   \n1         82.525712        165.945433          0.203127          0.499488   \n2         87.744524        106.219834          0.213351          0.564238   \n3        124.000000        221.028571          0.126744          0.333307   \n4         83.743415        107.265548          0.293171          0.540003   \n\n   meansky_galaxy_z  galdepth_galaxy_g  galdepth_galaxy_r  galdepth_galaxy_z  \n0          2.869334          23.626332          22.942529          22.215109  \n1          3.490955          23.604491          22.966942          22.331463  \n2          1.995409          23.598964          22.922293          22.342016  \n3          3.754301          24.007800          23.363166          22.229356  \n4          6.617020          23.605227          22.900591          22.310904  \n\n[5 rows x 21 columns]",
      "text/html": "<div>\n<style scoped>\n    .dataframe tbody tr th:only-of-type {\n        vertical-align: middle;\n    }\n\n    .dataframe tbody tr th {\n        vertical-align: top;\n    }\n\n    .dataframe thead th {\n        text-align: right;\n    }\n</style>\n<table border=\"1\" class=\"dataframe\">\n  <thead>\n    <tr style=\"text-align: right;\">\n      <th></th>\n      <th>pixel_id</th>\n      <th>lrg_density</th>\n      <th>elg_density</th>\n      <th>qso_density</th>\n      <th>stellar_density</th>\n      <th>airmass_galaxy</th>\n      <th>fwhm_galaxy</th>\n      <th>ebv_galaxy</th>\n      <th>ccdnphotom_galaxy</th>\n      <th>ccdskysb_galaxy_g</th>\n      <th>...</th>\n      <th>ccdskysb_galaxy_z</th>\n      <th>exptime_galaxy_g</th>\n      <th>exptime_galaxy_r</th>\n      <th>exptime_galaxy_z</th>\n      <th>meansky_galaxy_g</th>\n      <th>meansky_galaxy_r</th>\n      <th>meansky_galaxy_z</th>\n      <th>galdepth_galaxy_g</th>\n      <th>galdepth_galaxy_r</th>\n      <th>galdepth_galaxy_z</th>\n    </tr>\n  </thead>\n  <tbody>\n    <tr>\n      <th>0</th>\n      <td>172191</td>\n      <td>0.509522</td>\n      <td>1.180820</td>\n      <td>0.787620</td>\n      <td>-0.279689</td>\n      <td>1.615369</td>\n      <td>4.563708</td>\n      <td>0.027940</td>\n      <td>617.485215</td>\n      <td>23.461968</td>\n      <td>...</td>\n      <td>19.328887</td>\n      <td>143.100496</td>\n      <td>139.892237</td>\n      <td>122.275265</td>\n      <td>0.199914</td>\n      <td>0.920791</td>\n      <td>2.869334</td>\n      <td>23.626332</td>\n      <td>22.942529</td>\n      <td>22.215109</td>\n    </tr>\n    <tr>\n      <th>1</th>\n      <td>173250</td>\n      <td>1.817774</td>\n      <td>2.133008</td>\n      <td>1.410579</td>\n      <td>1.263834</td>\n      <td>1.551244</td>\n      <td>4.652137</td>\n      <td>0.022238</td>\n      <td>997.009628</td>\n      <td>23.454327</td>\n      <td>...</td>\n      <td>19.084433</td>\n      <td>158.096504</td>\n      <td>82.525712</td>\n      <td>165.945433</td>\n      <td>0.203127</td>\n      <td>0.499488</td>\n      <td>3.490955</td>\n      <td>23.604491</td>\n      <td>22.966942</td>\n      <td>22.331463</td>\n    </tr>\n    <tr>\n      <th>2</th>\n      <td>174071</td>\n      <td>0.106983</td>\n      <td>0.750799</td>\n      <td>0.191747</td>\n      <td>-0.794197</td>\n      <td>1.406610</td>\n      <td>4.458577</td>\n      <td>0.018477</td>\n      <td>367.511248</td>\n      <td>23.441590</td>\n      <td>...</td>\n      <td>19.497361</td>\n      <td>128.317445</td>\n      <td>87.744524</td>\n      <td>106.219834</td>\n      <td>0.213351</td>\n      <td>0.564238</td>\n      <td>1.995409</td>\n      <td>23.598964</td>\n      <td>22.922293</td>\n      <td>22.342016</td>\n    </tr>\n    <tr>\n      <th>3</th>\n      <td>174554</td>\n      <td>0.106983</td>\n      <td>0.658651</td>\n      <td>0.083406</td>\n      <td>0.955130</td>\n      <td>2.301381</td>\n      <td>6.055535</td>\n      <td>0.131243</td>\n      <td>459.871429</td>\n      <td>23.432264</td>\n      <td>...</td>\n      <td>19.849928</td>\n      <td>200.000000</td>\n      <td>124.000000</td>\n      <td>221.028571</td>\n      <td>0.126744</td>\n      <td>0.333307</td>\n      <td>3.754301</td>\n      <td>24.007800</td>\n      <td>23.363166</td>\n      <td>22.229356</td>\n    </tr>\n    <tr>\n      <th>4</th>\n      <td>175096</td>\n      <td>1.515870</td>\n      <td>3.146629</td>\n      <td>1.329324</td>\n      <td>-0.485492</td>\n      <td>1.440663</td>\n      <td>4.587659</td>\n      <td>0.018841</td>\n      <td>373.382383</td>\n      <td>23.452281</td>\n      <td>...</td>\n      <td>19.589021</td>\n      <td>128.873803</td>\n      <td>83.743415</td>\n      <td>107.265548</td>\n      <td>0.293171</td>\n      <td>0.540003</td>\n      <td>6.617020</td>\n      <td>23.605227</td>\n      <td>22.900591</td>\n      <td>22.310904</td>\n    </tr>\n  </tbody>\n</table>\n<p>5 rows × 21 columns</p>\n</div>"
     },
     "execution_count": 15,
     "metadata": {},
     "output_type": "execute_result"
    }
   ],
   "source": [
    "df_kitanidis = df.merge(df_sys_kit, how='inner', on='pixel_id')\n",
    "print(df_kitanidis.isna().sum())\n",
    "df_kitanidis.dropna(axis=0, inplace=True)\n",
    "\n",
    "df_kitanidis.head()\n"
   ],
   "metadata": {
    "collapsed": false,
    "pycharm": {
     "name": "#%%\n"
    }
   }
  },
  {
   "cell_type": "code",
   "execution_count": 16,
   "outputs": [
    {
     "name": "stdout",
     "output_type": "stream",
     "text": [
      "pixel_id             0\n",
      "lrg_density          0\n",
      "elg_density          0\n",
      "qso_density          0\n",
      "stellar_density      0\n",
      "airmass_galaxy       0\n",
      "fwhm_galaxy          0\n",
      "ebv_galaxy           0\n",
      "ccdnphotom_galaxy    0\n",
      "ccdskysb_galaxy_g    0\n",
      "ccdskysb_galaxy_r    0\n",
      "ccdskysb_galaxy_z    0\n",
      "exptime_galaxy_g     0\n",
      "exptime_galaxy_r     0\n",
      "exptime_galaxy_z     0\n",
      "meansky_galaxy_g     0\n",
      "meansky_galaxy_r     0\n",
      "meansky_galaxy_z     0\n",
      "galdepth_galaxy_g    0\n",
      "galdepth_galaxy_r    0\n",
      "galdepth_galaxy_z    0\n",
      "dtype: int64\n"
     ]
    }
   ],
   "source": [
    "print(df_kitanidis.isna().sum())"
   ],
   "metadata": {
    "collapsed": false,
    "pycharm": {
     "name": "#%%\n"
    }
   }
  },
  {
   "cell_type": "markdown",
   "source": [
    "#### Geometric Systematics Values"
   ],
   "metadata": {
    "collapsed": false,
    "pycharm": {
     "name": "#%% md\n"
    }
   }
  },
  {
   "cell_type": "code",
   "execution_count": 17,
   "outputs": [
    {
     "name": "stdout",
     "output_type": "stream",
     "text": [
      "455672\n"
     ]
    }
   ],
   "source": [
    "with open('../bricks_data/pixel2systematics_geometric.pickle', 'rb') as f:\n",
    "    geometric_dict = pickle.load(f)\n",
    "    f.close()\n",
    "\n",
    "print(len(geometric_dict.keys()))\n"
   ],
   "metadata": {
    "collapsed": false,
    "pycharm": {
     "name": "#%%\n"
    }
   }
  },
  {
   "cell_type": "code",
   "execution_count": 18,
   "outputs": [
    {
     "name": "stdout",
     "output_type": "stream",
     "text": [
      "3621\n"
     ]
    }
   ],
   "source": [
    "# Clear the dict of all pixels where we do not have galaxy density values\n",
    "\n",
    "pixels = df.pixel_id.tolist()\n",
    "pixel_keys = list(geometric_dict.keys())\n",
    "for pix in pixel_keys:\n",
    "    if pix in pixels:\n",
    "        continue\n",
    "    geometric_dict.pop(pix)\n",
    "print(len(geometric_dict.keys()))\n"
   ],
   "metadata": {
    "collapsed": false,
    "pycharm": {
     "name": "#%%\n"
    }
   }
  },
  {
   "cell_type": "code",
   "execution_count": 19,
   "outputs": [],
   "source": [
    "sys_list = []\n",
    "for key in geometric_dict.keys():\n",
    "    ind_sys_list = geometric_dict[key]\n",
    "    ind_sys_list.append(key)\n",
    "    sys_list.append(ind_sys_list)\n",
    "\n",
    "df_sys_geo = pd.DataFrame(sys_list, columns=['airmass_galaxy',\n",
    "'fwhm_galaxy',\n",
    "'ebv_galaxy',\n",
    "'ccdnphotom_galaxy',\n",
    "\n",
    "'ccdskysb_galaxy_g',\n",
    "'ccdskysb_galaxy_r',\n",
    "'ccdskysb_galaxy_z',\n",
    "'exptime_galaxy_g',\n",
    "'exptime_galaxy_r',\n",
    "'exptime_galaxy_z',\n",
    "'meansky_galaxy_g',\n",
    "'meansky_galaxy_r',\n",
    "'meansky_galaxy_z',\n",
    "'galdepth_galaxy_g',\n",
    "'galdepth_galaxy_r',\n",
    "'galdepth_galaxy_z', 'pixel_id'])\n",
    "\n"
   ],
   "metadata": {
    "collapsed": false,
    "pycharm": {
     "name": "#%%\n"
    }
   }
  },
  {
   "cell_type": "code",
   "execution_count": 20,
   "outputs": [
    {
     "data": {
      "text/plain": "   airmass_galaxy  fwhm_galaxy  ebv_galaxy  ccdnphotom_galaxy  \\\n0        1.194180     4.416241    0.015881         193.029146   \n1        1.204914     4.487709    0.021031         263.930656   \n2        1.058781     4.859403    0.010318         152.779363   \n3        1.068818     4.836110    0.010475         148.159223   \n4        1.066041     4.829051    0.009648         143.652839   \n\n   ccdskysb_galaxy_g  ccdskysb_galaxy_r  ccdskysb_galaxy_z  exptime_galaxy_g  \\\n0           0.370143           0.354336           0.317393           1.40625   \n1           0.369211           0.355531           0.312636           1.40625   \n2           0.368714           0.355444           0.313010           1.40625   \n3           0.369262           0.355497           0.312262           1.40625   \n4           0.368751           0.354904           0.312821           1.40625   \n\n   exptime_galaxy_r  exptime_galaxy_z  meansky_galaxy_g  meansky_galaxy_r  \\\n0           1.40625           1.40625      1.874880e+06      1.128373e+07   \n1           1.40625           1.40625      2.882011e+06      8.985916e+06   \n2           1.40625           1.40625      5.140045e+06      3.797250e+06   \n3           1.40625           1.40625      1.933899e+06      3.522100e+06   \n4           1.40625           1.40625      3.181196e+06      4.933232e+06   \n\n   meansky_galaxy_z  galdepth_galaxy_g  galdepth_galaxy_r  galdepth_galaxy_z  \\\n0      3.228007e-02           0.367989           0.359158           0.351488   \n1      1.687051e+08           0.362452           0.362690           0.338896   \n2      3.138397e+08           0.359043           0.365162           0.336844   \n3      3.096106e+08           0.368000           0.365229           0.336382   \n4      3.274322e+08           0.364262           0.364178           0.338324   \n\n   pixel_id  \n0    729635  \n1    741107  \n2    661899  \n3    662895  \n4    661898  ",
      "text/html": "<div>\n<style scoped>\n    .dataframe tbody tr th:only-of-type {\n        vertical-align: middle;\n    }\n\n    .dataframe tbody tr th {\n        vertical-align: top;\n    }\n\n    .dataframe thead th {\n        text-align: right;\n    }\n</style>\n<table border=\"1\" class=\"dataframe\">\n  <thead>\n    <tr style=\"text-align: right;\">\n      <th></th>\n      <th>airmass_galaxy</th>\n      <th>fwhm_galaxy</th>\n      <th>ebv_galaxy</th>\n      <th>ccdnphotom_galaxy</th>\n      <th>ccdskysb_galaxy_g</th>\n      <th>ccdskysb_galaxy_r</th>\n      <th>ccdskysb_galaxy_z</th>\n      <th>exptime_galaxy_g</th>\n      <th>exptime_galaxy_r</th>\n      <th>exptime_galaxy_z</th>\n      <th>meansky_galaxy_g</th>\n      <th>meansky_galaxy_r</th>\n      <th>meansky_galaxy_z</th>\n      <th>galdepth_galaxy_g</th>\n      <th>galdepth_galaxy_r</th>\n      <th>galdepth_galaxy_z</th>\n      <th>pixel_id</th>\n    </tr>\n  </thead>\n  <tbody>\n    <tr>\n      <th>0</th>\n      <td>1.194180</td>\n      <td>4.416241</td>\n      <td>0.015881</td>\n      <td>193.029146</td>\n      <td>0.370143</td>\n      <td>0.354336</td>\n      <td>0.317393</td>\n      <td>1.40625</td>\n      <td>1.40625</td>\n      <td>1.40625</td>\n      <td>1.874880e+06</td>\n      <td>1.128373e+07</td>\n      <td>3.228007e-02</td>\n      <td>0.367989</td>\n      <td>0.359158</td>\n      <td>0.351488</td>\n      <td>729635</td>\n    </tr>\n    <tr>\n      <th>1</th>\n      <td>1.204914</td>\n      <td>4.487709</td>\n      <td>0.021031</td>\n      <td>263.930656</td>\n      <td>0.369211</td>\n      <td>0.355531</td>\n      <td>0.312636</td>\n      <td>1.40625</td>\n      <td>1.40625</td>\n      <td>1.40625</td>\n      <td>2.882011e+06</td>\n      <td>8.985916e+06</td>\n      <td>1.687051e+08</td>\n      <td>0.362452</td>\n      <td>0.362690</td>\n      <td>0.338896</td>\n      <td>741107</td>\n    </tr>\n    <tr>\n      <th>2</th>\n      <td>1.058781</td>\n      <td>4.859403</td>\n      <td>0.010318</td>\n      <td>152.779363</td>\n      <td>0.368714</td>\n      <td>0.355444</td>\n      <td>0.313010</td>\n      <td>1.40625</td>\n      <td>1.40625</td>\n      <td>1.40625</td>\n      <td>5.140045e+06</td>\n      <td>3.797250e+06</td>\n      <td>3.138397e+08</td>\n      <td>0.359043</td>\n      <td>0.365162</td>\n      <td>0.336844</td>\n      <td>661899</td>\n    </tr>\n    <tr>\n      <th>3</th>\n      <td>1.068818</td>\n      <td>4.836110</td>\n      <td>0.010475</td>\n      <td>148.159223</td>\n      <td>0.369262</td>\n      <td>0.355497</td>\n      <td>0.312262</td>\n      <td>1.40625</td>\n      <td>1.40625</td>\n      <td>1.40625</td>\n      <td>1.933899e+06</td>\n      <td>3.522100e+06</td>\n      <td>3.096106e+08</td>\n      <td>0.368000</td>\n      <td>0.365229</td>\n      <td>0.336382</td>\n      <td>662895</td>\n    </tr>\n    <tr>\n      <th>4</th>\n      <td>1.066041</td>\n      <td>4.829051</td>\n      <td>0.009648</td>\n      <td>143.652839</td>\n      <td>0.368751</td>\n      <td>0.354904</td>\n      <td>0.312821</td>\n      <td>1.40625</td>\n      <td>1.40625</td>\n      <td>1.40625</td>\n      <td>3.181196e+06</td>\n      <td>4.933232e+06</td>\n      <td>3.274322e+08</td>\n      <td>0.364262</td>\n      <td>0.364178</td>\n      <td>0.338324</td>\n      <td>661898</td>\n    </tr>\n  </tbody>\n</table>\n</div>"
     },
     "execution_count": 20,
     "metadata": {},
     "output_type": "execute_result"
    }
   ],
   "source": [
    "df_sys_geo.head()"
   ],
   "metadata": {
    "collapsed": false,
    "pycharm": {
     "name": "#%%\n"
    }
   }
  },
  {
   "cell_type": "code",
   "execution_count": 21,
   "outputs": [
    {
     "name": "stdout",
     "output_type": "stream",
     "text": [
      "pixel_id             0\n",
      "lrg_density          0\n",
      "elg_density          0\n",
      "qso_density          0\n",
      "stellar_density      0\n",
      "airmass_galaxy       0\n",
      "fwhm_galaxy          0\n",
      "ebv_galaxy           0\n",
      "ccdnphotom_galaxy    0\n",
      "ccdskysb_galaxy_g    0\n",
      "ccdskysb_galaxy_r    0\n",
      "ccdskysb_galaxy_z    0\n",
      "exptime_galaxy_g     0\n",
      "exptime_galaxy_r     0\n",
      "exptime_galaxy_z     0\n",
      "meansky_galaxy_g     0\n",
      "meansky_galaxy_r     0\n",
      "meansky_galaxy_z     0\n",
      "galdepth_galaxy_g    0\n",
      "galdepth_galaxy_r    0\n",
      "galdepth_galaxy_z    0\n",
      "dtype: int64\n"
     ]
    }
   ],
   "source": [
    "df_geometric = df.merge(df_sys_geo, how='inner', on='pixel_id')\n",
    "print(df_geometric.isna().sum())"
   ],
   "metadata": {
    "collapsed": false,
    "pycharm": {
     "name": "#%%\n"
    }
   }
  },
  {
   "cell_type": "code",
   "execution_count": 22,
   "outputs": [
    {
     "name": "stdout",
     "output_type": "stream",
     "text": [
      "(1535, 21)\n",
      "(3621, 21)\n"
     ]
    }
   ],
   "source": [
    "print(df_kitanidis.shape)\n",
    "print(df_geometric.shape)\n"
   ],
   "metadata": {
    "collapsed": false,
    "pycharm": {
     "name": "#%%\n"
    }
   }
  },
  {
   "cell_type": "markdown",
   "source": [
    "### Running the Regressions\n",
    "\n",
    "#### 1. Kitanidis"
   ],
   "metadata": {
    "collapsed": false,
    "pycharm": {
     "name": "#%% md\n"
    }
   }
  },
  {
   "cell_type": "code",
   "execution_count": 116,
   "outputs": [
    {
     "data": {
      "text/plain": "   lrg_density  elg_density  qso_density  stellar_density  airmass_galaxy  \\\n0     0.509522     1.180820     0.787620        -0.558135        1.615369   \n1     0.106983     0.750799     0.191747        -0.558135        1.406610   \n2     0.106983     0.658651     0.083406        -0.116269        2.301381   \n3     2.119678     2.317303     1.356409         0.325596        2.293624   \n4     1.717139     1.887282     1.410579        -0.116269        1.553945   \n\n   fwhm_galaxy  ebv_galaxy  ccdnphotom_galaxy  ccdskysb_galaxy_g  \\\n0     4.563708    0.027940         617.485215          23.461968   \n1     4.458577    0.018477         367.511248          23.441590   \n2     6.055535    0.131243         459.871429          23.432264   \n3     5.733834    0.078246         302.710029          23.362907   \n4     4.240670    0.013369         380.169409          23.332227   \n\n   ccdskysb_galaxy_r  ccdskysb_galaxy_z  exptime_galaxy_g  exptime_galaxy_r  \\\n0          22.460363          19.328887        143.100496        139.892237   \n1          22.625744          19.497361        128.317445         87.744524   \n2          22.486569          19.849928        200.000000        124.000000   \n3          22.260632          19.853787        197.676991         82.831858   \n4          22.507402          19.843108        154.074110         88.452018   \n\n   exptime_galaxy_z  meansky_galaxy_g  meansky_galaxy_r  meansky_galaxy_z  \\\n0        122.275265          0.199914          0.920791          2.869334   \n1        106.219834          0.213351          0.564238          1.995409   \n2        221.028571          0.126744          0.333307          3.754301   \n3        184.026549          0.133381          0.458713          3.285305   \n4         85.079953          0.223669          0.568713          1.837093   \n\n   galdepth_galaxy_g  galdepth_galaxy_r  galdepth_galaxy_z  \n0          23.626332          22.942529          22.215109  \n1          23.598964          22.922293          22.342016  \n2          24.007800          23.363166          22.229356  \n3          23.978089          22.985436          22.300106  \n4          23.634297          22.958253          22.356429  ",
      "text/html": "<div>\n<style scoped>\n    .dataframe tbody tr th:only-of-type {\n        vertical-align: middle;\n    }\n\n    .dataframe tbody tr th {\n        vertical-align: top;\n    }\n\n    .dataframe thead th {\n        text-align: right;\n    }\n</style>\n<table border=\"1\" class=\"dataframe\">\n  <thead>\n    <tr style=\"text-align: right;\">\n      <th></th>\n      <th>lrg_density</th>\n      <th>elg_density</th>\n      <th>qso_density</th>\n      <th>stellar_density</th>\n      <th>airmass_galaxy</th>\n      <th>fwhm_galaxy</th>\n      <th>ebv_galaxy</th>\n      <th>ccdnphotom_galaxy</th>\n      <th>ccdskysb_galaxy_g</th>\n      <th>ccdskysb_galaxy_r</th>\n      <th>ccdskysb_galaxy_z</th>\n      <th>exptime_galaxy_g</th>\n      <th>exptime_galaxy_r</th>\n      <th>exptime_galaxy_z</th>\n      <th>meansky_galaxy_g</th>\n      <th>meansky_galaxy_r</th>\n      <th>meansky_galaxy_z</th>\n      <th>galdepth_galaxy_g</th>\n      <th>galdepth_galaxy_r</th>\n      <th>galdepth_galaxy_z</th>\n    </tr>\n  </thead>\n  <tbody>\n    <tr>\n      <th>0</th>\n      <td>0.509522</td>\n      <td>1.180820</td>\n      <td>0.787620</td>\n      <td>-0.558135</td>\n      <td>1.615369</td>\n      <td>4.563708</td>\n      <td>0.027940</td>\n      <td>617.485215</td>\n      <td>23.461968</td>\n      <td>22.460363</td>\n      <td>19.328887</td>\n      <td>143.100496</td>\n      <td>139.892237</td>\n      <td>122.275265</td>\n      <td>0.199914</td>\n      <td>0.920791</td>\n      <td>2.869334</td>\n      <td>23.626332</td>\n      <td>22.942529</td>\n      <td>22.215109</td>\n    </tr>\n    <tr>\n      <th>1</th>\n      <td>0.106983</td>\n      <td>0.750799</td>\n      <td>0.191747</td>\n      <td>-0.558135</td>\n      <td>1.406610</td>\n      <td>4.458577</td>\n      <td>0.018477</td>\n      <td>367.511248</td>\n      <td>23.441590</td>\n      <td>22.625744</td>\n      <td>19.497361</td>\n      <td>128.317445</td>\n      <td>87.744524</td>\n      <td>106.219834</td>\n      <td>0.213351</td>\n      <td>0.564238</td>\n      <td>1.995409</td>\n      <td>23.598964</td>\n      <td>22.922293</td>\n      <td>22.342016</td>\n    </tr>\n    <tr>\n      <th>2</th>\n      <td>0.106983</td>\n      <td>0.658651</td>\n      <td>0.083406</td>\n      <td>-0.116269</td>\n      <td>2.301381</td>\n      <td>6.055535</td>\n      <td>0.131243</td>\n      <td>459.871429</td>\n      <td>23.432264</td>\n      <td>22.486569</td>\n      <td>19.849928</td>\n      <td>200.000000</td>\n      <td>124.000000</td>\n      <td>221.028571</td>\n      <td>0.126744</td>\n      <td>0.333307</td>\n      <td>3.754301</td>\n      <td>24.007800</td>\n      <td>23.363166</td>\n      <td>22.229356</td>\n    </tr>\n    <tr>\n      <th>3</th>\n      <td>2.119678</td>\n      <td>2.317303</td>\n      <td>1.356409</td>\n      <td>0.325596</td>\n      <td>2.293624</td>\n      <td>5.733834</td>\n      <td>0.078246</td>\n      <td>302.710029</td>\n      <td>23.362907</td>\n      <td>22.260632</td>\n      <td>19.853787</td>\n      <td>197.676991</td>\n      <td>82.831858</td>\n      <td>184.026549</td>\n      <td>0.133381</td>\n      <td>0.458713</td>\n      <td>3.285305</td>\n      <td>23.978089</td>\n      <td>22.985436</td>\n      <td>22.300106</td>\n    </tr>\n    <tr>\n      <th>4</th>\n      <td>1.717139</td>\n      <td>1.887282</td>\n      <td>1.410579</td>\n      <td>-0.116269</td>\n      <td>1.553945</td>\n      <td>4.240670</td>\n      <td>0.013369</td>\n      <td>380.169409</td>\n      <td>23.332227</td>\n      <td>22.507402</td>\n      <td>19.843108</td>\n      <td>154.074110</td>\n      <td>88.452018</td>\n      <td>85.079953</td>\n      <td>0.223669</td>\n      <td>0.568713</td>\n      <td>1.837093</td>\n      <td>23.634297</td>\n      <td>22.958253</td>\n      <td>22.356429</td>\n    </tr>\n  </tbody>\n</table>\n</div>"
     },
     "execution_count": 116,
     "metadata": {},
     "output_type": "execute_result"
    }
   ],
   "source": [
    "df_kitanidis.head()\n",
    "df_kitanidis_reg = df_kitanidis.drop(columns=['pixel_id'])\n",
    "df_kitanidis_reg.head()"
   ],
   "metadata": {
    "collapsed": false,
    "pycharm": {
     "name": "#%%\n"
    }
   }
  },
  {
   "cell_type": "code",
   "execution_count": 117,
   "outputs": [],
   "source": [
    "y_lrg = df_kitanidis_reg['lrg_density']#.to_numpy(copy=True)\n",
    "y_elg = df_kitanidis_reg['elg_density']#.to_numpy(copy=True)\n",
    "y_qso = df_kitanidis_reg['qso_density']#.to_numpy(copy=True)\n",
    "\n",
    "X = df_kitanidis_reg.drop(columns=['lrg_density','elg_density','qso_density'])#.to_numpy(copy=True)"
   ],
   "metadata": {
    "collapsed": false,
    "pycharm": {
     "name": "#%%\n"
    }
   }
  },
  {
   "cell_type": "code",
   "execution_count": 118,
   "outputs": [
    {
     "name": "stdout",
     "output_type": "stream",
     "text": [
      "1151\n",
      "1151\n"
     ]
    }
   ],
   "source": [
    "print(len(y_lrg))\n",
    "print(len(X))"
   ],
   "metadata": {
    "collapsed": false,
    "pycharm": {
     "name": "#%%\n"
    }
   }
  },
  {
   "cell_type": "code",
   "execution_count": 119,
   "outputs": [
    {
     "name": "stdout",
     "output_type": "stream",
     "text": [
      "                                 OLS Regression Results                                \n",
      "=======================================================================================\n",
      "Dep. Variable:            lrg_density   R-squared (uncentered):                   0.477\n",
      "Model:                            OLS   Adj. R-squared (uncentered):              0.469\n",
      "Method:                 Least Squares   F-statistic:                              60.72\n",
      "Date:                Mon, 14 Jun 2021   Prob (F-statistic):                   5.57e-146\n",
      "Time:                        18:17:37   Log-Likelihood:                         -1703.7\n",
      "No. Observations:                1151   AIC:                                      3441.\n",
      "Df Residuals:                    1134   BIC:                                      3527.\n",
      "Df Model:                          17                                                  \n",
      "Covariance Type:            nonrobust                                                  \n",
      "=====================================================================================\n",
      "                        coef    std err          t      P>|t|      [0.025      0.975]\n",
      "-------------------------------------------------------------------------------------\n",
      "stellar_density       0.1729      0.043      4.029      0.000       0.089       0.257\n",
      "airmass_galaxy        0.1256      0.204      0.616      0.538      -0.274       0.525\n",
      "fwhm_galaxy           0.1047      0.108      0.973      0.331      -0.106       0.316\n",
      "ebv_galaxy            2.0528      1.188      1.728      0.084      -0.279       4.384\n",
      "ccdnphotom_galaxy    -0.0004      0.000     -2.084      0.037      -0.001   -2.25e-05\n",
      "ccdskysb_galaxy_g     0.0981      0.256      0.383      0.702      -0.404       0.601\n",
      "ccdskysb_galaxy_r    -0.0689      0.257     -0.268      0.789      -0.573       0.436\n",
      "ccdskysb_galaxy_z    -0.0995      0.191     -0.521      0.603      -0.474       0.275\n",
      "exptime_galaxy_g     -0.0030      0.002     -1.469      0.142      -0.007       0.001\n",
      "exptime_galaxy_r     -0.0004      0.002     -0.192      0.848      -0.005       0.004\n",
      "exptime_galaxy_z     -0.0010      0.002     -0.559      0.576      -0.005       0.003\n",
      "meansky_galaxy_g   8.279e-10   5.87e-10      1.411      0.159   -3.24e-10    1.98e-09\n",
      "meansky_galaxy_r  -3.321e-10   1.77e-10     -1.871      0.062    -6.8e-10    1.61e-11\n",
      "meansky_galaxy_z   3.193e-11   1.74e-11      1.837      0.066   -2.17e-12     6.6e-11\n",
      "galdepth_galaxy_g    -0.0464      0.239     -0.194      0.846      -0.515       0.422\n",
      "galdepth_galaxy_r    -0.2694      0.221     -1.221      0.222      -0.702       0.163\n",
      "galdepth_galaxy_z     0.4245      0.231      1.837      0.066      -0.029       0.878\n",
      "==============================================================================\n",
      "Omnibus:                     1074.170   Durbin-Watson:                   1.777\n",
      "Prob(Omnibus):                  0.000   Jarque-Bera (JB):            78767.670\n",
      "Skew:                           4.043   Prob(JB):                         0.00\n",
      "Kurtosis:                      42.712   Cond. No.                     1.19e+11\n",
      "==============================================================================\n",
      "\n",
      "Notes:\n",
      "[1] R² is computed without centering (uncentered) since the model does not contain a constant.\n",
      "[2] Standard Errors assume that the covariance matrix of the errors is correctly specified.\n",
      "[3] The condition number is large, 1.19e+11. This might indicate that there are\n",
      "strong multicollinearity or other numerical problems.\n"
     ]
    }
   ],
   "source": [
    "import statsmodels.api as sm\n",
    "\n",
    "\n",
    "ols_lrg_kitanidis = sm.OLS(y_lrg,X).fit()\n",
    "print(ols_lrg_kitanidis.summary())\n",
    "\n"
   ],
   "metadata": {
    "collapsed": false,
    "pycharm": {
     "name": "#%%\n"
    }
   }
  },
  {
   "cell_type": "code",
   "execution_count": 120,
   "outputs": [
    {
     "name": "stdout",
     "output_type": "stream",
     "text": [
      "                                 OLS Regression Results                                \n",
      "=======================================================================================\n",
      "Dep. Variable:            elg_density   R-squared (uncentered):                   0.753\n",
      "Model:                            OLS   Adj. R-squared (uncentered):              0.749\n",
      "Method:                 Least Squares   F-statistic:                              203.1\n",
      "Date:                Mon, 14 Jun 2021   Prob (F-statistic):                        0.00\n",
      "Time:                        18:18:07   Log-Likelihood:                         -1279.2\n",
      "No. Observations:                1151   AIC:                                      2592.\n",
      "Df Residuals:                    1134   BIC:                                      2678.\n",
      "Df Model:                          17                                                  \n",
      "Covariance Type:            nonrobust                                                  \n",
      "=====================================================================================\n",
      "                        coef    std err          t      P>|t|      [0.025      0.975]\n",
      "-------------------------------------------------------------------------------------\n",
      "stellar_density       0.2511      0.030      8.461      0.000       0.193       0.309\n",
      "airmass_galaxy       -0.4258      0.141     -3.022      0.003      -0.702      -0.149\n",
      "fwhm_galaxy          -0.0796      0.074     -1.069      0.285      -0.226       0.066\n",
      "ebv_galaxy           -2.6521      0.822     -3.228      0.001      -4.264      -1.040\n",
      "ccdnphotom_galaxy    -0.0009      0.000     -6.765      0.000      -0.001      -0.001\n",
      "ccdskysb_galaxy_g    -0.1565      0.177     -0.884      0.377      -0.504       0.191\n",
      "ccdskysb_galaxy_r     0.1946      0.178      1.094      0.274      -0.154       0.543\n",
      "ccdskysb_galaxy_z    -0.1429      0.132     -1.082      0.279      -0.402       0.116\n",
      "exptime_galaxy_g      0.0024      0.001      1.651      0.099      -0.000       0.005\n",
      "exptime_galaxy_r     -0.0028      0.002     -1.741      0.082      -0.006       0.000\n",
      "exptime_galaxy_z      0.0012      0.001      0.975      0.330      -0.001       0.004\n",
      "meansky_galaxy_g  -3.221e-12   4.06e-10     -0.008      0.994      -8e-10    7.93e-10\n",
      "meansky_galaxy_r  -2.324e-10   1.23e-10     -1.894      0.059   -4.73e-10     8.4e-12\n",
      "meansky_galaxy_z   1.586e-11    1.2e-11      1.320      0.187   -7.72e-12    3.94e-11\n",
      "galdepth_galaxy_g     0.0823      0.165      0.499      0.618      -0.241       0.406\n",
      "galdepth_galaxy_r    -0.3427      0.153     -2.247      0.025      -0.642      -0.043\n",
      "galdepth_galaxy_z     0.4750      0.160      2.972      0.003       0.161       0.788\n",
      "==============================================================================\n",
      "Omnibus:                      100.533   Durbin-Watson:                   1.701\n",
      "Prob(Omnibus):                  0.000   Jarque-Bera (JB):              133.708\n",
      "Skew:                           0.713   Prob(JB):                     9.24e-30\n",
      "Kurtosis:                       3.869   Cond. No.                     1.19e+11\n",
      "==============================================================================\n",
      "\n",
      "Notes:\n",
      "[1] R² is computed without centering (uncentered) since the model does not contain a constant.\n",
      "[2] Standard Errors assume that the covariance matrix of the errors is correctly specified.\n",
      "[3] The condition number is large, 1.19e+11. This might indicate that there are\n",
      "strong multicollinearity or other numerical problems.\n"
     ]
    }
   ],
   "source": [
    "ols_elg_kitanidis = sm.OLS(y_elg,X).fit()\n",
    "print(ols_elg_kitanidis.summary())"
   ],
   "metadata": {
    "collapsed": false,
    "pycharm": {
     "name": "#%%\n"
    }
   }
  },
  {
   "cell_type": "code",
   "execution_count": 121,
   "outputs": [
    {
     "name": "stdout",
     "output_type": "stream",
     "text": [
      "                                 OLS Regression Results                                \n",
      "=======================================================================================\n",
      "Dep. Variable:            qso_density   R-squared (uncentered):                   0.771\n",
      "Model:                            OLS   Adj. R-squared (uncentered):              0.768\n",
      "Method:                 Least Squares   F-statistic:                              224.6\n",
      "Date:                Mon, 14 Jun 2021   Prob (F-statistic):                        0.00\n",
      "Time:                        18:18:08   Log-Likelihood:                         -1237.6\n",
      "No. Observations:                1151   AIC:                                      2509.\n",
      "Df Residuals:                    1134   BIC:                                      2595.\n",
      "Df Model:                          17                                                  \n",
      "Covariance Type:            nonrobust                                                  \n",
      "=====================================================================================\n",
      "                        coef    std err          t      P>|t|      [0.025      0.975]\n",
      "-------------------------------------------------------------------------------------\n",
      "stellar_density       0.2356      0.029      8.231      0.000       0.179       0.292\n",
      "airmass_galaxy        0.0605      0.136      0.445      0.656      -0.206       0.327\n",
      "fwhm_galaxy          -0.1097      0.072     -1.528      0.127      -0.251       0.031\n",
      "ebv_galaxy           -0.5065      0.793     -0.639      0.523      -2.062       1.049\n",
      "ccdnphotom_galaxy    -0.0009      0.000     -7.156      0.000      -0.001      -0.001\n",
      "ccdskysb_galaxy_g     0.0568      0.171      0.333      0.739      -0.278       0.392\n",
      "ccdskysb_galaxy_r     0.3840      0.171      2.239      0.025       0.048       0.720\n",
      "ccdskysb_galaxy_z    -0.1148      0.127     -0.902      0.367      -0.365       0.135\n",
      "exptime_galaxy_g      0.0007      0.001      0.487      0.626      -0.002       0.003\n",
      "exptime_galaxy_r      0.0030      0.002      1.940      0.053    -3.4e-05       0.006\n",
      "exptime_galaxy_z      0.0016      0.001      1.284      0.199      -0.001       0.004\n",
      "meansky_galaxy_g   2.737e-10   3.91e-10      0.699      0.485   -4.94e-10    1.04e-09\n",
      "meansky_galaxy_r  -1.219e-10   1.18e-10     -1.030      0.303   -3.54e-10     1.1e-10\n",
      "meansky_galaxy_z   5.228e-12   1.16e-11      0.451      0.652   -1.75e-11     2.8e-11\n",
      "galdepth_galaxy_g    -0.0183      0.159     -0.115      0.909      -0.331       0.294\n",
      "galdepth_galaxy_r    -0.2900      0.147     -1.971      0.049      -0.579      -0.001\n",
      "galdepth_galaxy_z     0.0416      0.154      0.270      0.787      -0.261       0.344\n",
      "==============================================================================\n",
      "Omnibus:                      128.486   Durbin-Watson:                   1.877\n",
      "Prob(Omnibus):                  0.000   Jarque-Bera (JB):              190.113\n",
      "Skew:                           0.806   Prob(JB):                     5.22e-42\n",
      "Kurtosis:                       4.167   Cond. No.                     1.19e+11\n",
      "==============================================================================\n",
      "\n",
      "Notes:\n",
      "[1] R² is computed without centering (uncentered) since the model does not contain a constant.\n",
      "[2] Standard Errors assume that the covariance matrix of the errors is correctly specified.\n",
      "[3] The condition number is large, 1.19e+11. This might indicate that there are\n",
      "strong multicollinearity or other numerical problems.\n"
     ]
    }
   ],
   "source": [
    "ols_qso_kitanidis = sm.OLS(y_qso,X).fit()\n",
    "print(ols_qso_kitanidis.summary())"
   ],
   "metadata": {
    "collapsed": false,
    "pycharm": {
     "name": "#%%\n"
    }
   }
  },
  {
   "cell_type": "markdown",
   "source": [
    "#### 2. Geometric"
   ],
   "metadata": {
    "collapsed": false,
    "pycharm": {
     "name": "#%% md\n"
    }
   }
  },
  {
   "cell_type": "code",
   "execution_count": 122,
   "outputs": [
    {
     "data": {
      "text/plain": "   lrg_density  elg_density  qso_density  stellar_density  airmass_galaxy  \\\n0     0.308252     0.075052     0.056321         0.325596        1.220610   \n1     0.408887    -0.416400     0.110491        -0.116269        1.219311   \n2    -0.496826     0.412925    -0.024934        -0.558135        1.655938   \n3    -0.496826    -0.293537    -0.133275        -0.116269        1.658746   \n4     0.509522     1.180820     0.787620        -0.558135        1.657476   \n\n   fwhm_galaxy  ebv_galaxy  ccdnphotom_galaxy  ccdskysb_galaxy_g  \\\n0     3.898208    0.016500        1550.658093           0.364892   \n1     3.862342    0.016510        1587.507883           0.364887   \n2     4.672048    0.028977         579.146330           0.366651   \n3     4.609840    0.028156         577.106054           0.366584   \n4     4.666779    0.028076         585.977177           0.366563   \n\n   ccdskysb_galaxy_r  ccdskysb_galaxy_z  exptime_galaxy_g  exptime_galaxy_r  \\\n0           0.351523           0.301166          1.515938          1.309821   \n1           0.351523           0.301310          1.515938          1.309821   \n2           0.351116           0.302868          2.300308          2.244602   \n3           0.351225           0.304636          2.370826          2.023661   \n4           0.351269           0.303110          2.371346          2.025000   \n\n   exptime_galaxy_z  meansky_galaxy_g  meansky_galaxy_r  meansky_galaxy_z  \\\n0          1.509230          0.003598          0.011705          0.032974   \n1          1.427000          0.003594          0.011709          0.036043   \n2          1.939581          0.003221          0.015671          0.079584   \n3          1.915658          0.002980          0.016154          0.094865   \n4          1.950375          0.002980          0.012420          0.047528   \n\n   galdepth_galaxy_g  galdepth_galaxy_r  galdepth_galaxy_z  \n0           0.366218           0.355911           0.348341  \n1           0.366503           0.356100           0.346743  \n2           0.368576           0.358520           0.344488  \n3           0.369514           0.357950           0.342820  \n4           0.369459           0.358867           0.346243  ",
      "text/html": "<div>\n<style scoped>\n    .dataframe tbody tr th:only-of-type {\n        vertical-align: middle;\n    }\n\n    .dataframe tbody tr th {\n        vertical-align: top;\n    }\n\n    .dataframe thead th {\n        text-align: right;\n    }\n</style>\n<table border=\"1\" class=\"dataframe\">\n  <thead>\n    <tr style=\"text-align: right;\">\n      <th></th>\n      <th>lrg_density</th>\n      <th>elg_density</th>\n      <th>qso_density</th>\n      <th>stellar_density</th>\n      <th>airmass_galaxy</th>\n      <th>fwhm_galaxy</th>\n      <th>ebv_galaxy</th>\n      <th>ccdnphotom_galaxy</th>\n      <th>ccdskysb_galaxy_g</th>\n      <th>ccdskysb_galaxy_r</th>\n      <th>ccdskysb_galaxy_z</th>\n      <th>exptime_galaxy_g</th>\n      <th>exptime_galaxy_r</th>\n      <th>exptime_galaxy_z</th>\n      <th>meansky_galaxy_g</th>\n      <th>meansky_galaxy_r</th>\n      <th>meansky_galaxy_z</th>\n      <th>galdepth_galaxy_g</th>\n      <th>galdepth_galaxy_r</th>\n      <th>galdepth_galaxy_z</th>\n    </tr>\n  </thead>\n  <tbody>\n    <tr>\n      <th>0</th>\n      <td>0.308252</td>\n      <td>0.075052</td>\n      <td>0.056321</td>\n      <td>0.325596</td>\n      <td>1.220610</td>\n      <td>3.898208</td>\n      <td>0.016500</td>\n      <td>1550.658093</td>\n      <td>0.364892</td>\n      <td>0.351523</td>\n      <td>0.301166</td>\n      <td>1.515938</td>\n      <td>1.309821</td>\n      <td>1.509230</td>\n      <td>0.003598</td>\n      <td>0.011705</td>\n      <td>0.032974</td>\n      <td>0.366218</td>\n      <td>0.355911</td>\n      <td>0.348341</td>\n    </tr>\n    <tr>\n      <th>1</th>\n      <td>0.408887</td>\n      <td>-0.416400</td>\n      <td>0.110491</td>\n      <td>-0.116269</td>\n      <td>1.219311</td>\n      <td>3.862342</td>\n      <td>0.016510</td>\n      <td>1587.507883</td>\n      <td>0.364887</td>\n      <td>0.351523</td>\n      <td>0.301310</td>\n      <td>1.515938</td>\n      <td>1.309821</td>\n      <td>1.427000</td>\n      <td>0.003594</td>\n      <td>0.011709</td>\n      <td>0.036043</td>\n      <td>0.366503</td>\n      <td>0.356100</td>\n      <td>0.346743</td>\n    </tr>\n    <tr>\n      <th>2</th>\n      <td>-0.496826</td>\n      <td>0.412925</td>\n      <td>-0.024934</td>\n      <td>-0.558135</td>\n      <td>1.655938</td>\n      <td>4.672048</td>\n      <td>0.028977</td>\n      <td>579.146330</td>\n      <td>0.366651</td>\n      <td>0.351116</td>\n      <td>0.302868</td>\n      <td>2.300308</td>\n      <td>2.244602</td>\n      <td>1.939581</td>\n      <td>0.003221</td>\n      <td>0.015671</td>\n      <td>0.079584</td>\n      <td>0.368576</td>\n      <td>0.358520</td>\n      <td>0.344488</td>\n    </tr>\n    <tr>\n      <th>3</th>\n      <td>-0.496826</td>\n      <td>-0.293537</td>\n      <td>-0.133275</td>\n      <td>-0.116269</td>\n      <td>1.658746</td>\n      <td>4.609840</td>\n      <td>0.028156</td>\n      <td>577.106054</td>\n      <td>0.366584</td>\n      <td>0.351225</td>\n      <td>0.304636</td>\n      <td>2.370826</td>\n      <td>2.023661</td>\n      <td>1.915658</td>\n      <td>0.002980</td>\n      <td>0.016154</td>\n      <td>0.094865</td>\n      <td>0.369514</td>\n      <td>0.357950</td>\n      <td>0.342820</td>\n    </tr>\n    <tr>\n      <th>4</th>\n      <td>0.509522</td>\n      <td>1.180820</td>\n      <td>0.787620</td>\n      <td>-0.558135</td>\n      <td>1.657476</td>\n      <td>4.666779</td>\n      <td>0.028076</td>\n      <td>585.977177</td>\n      <td>0.366563</td>\n      <td>0.351269</td>\n      <td>0.303110</td>\n      <td>2.371346</td>\n      <td>2.025000</td>\n      <td>1.950375</td>\n      <td>0.002980</td>\n      <td>0.012420</td>\n      <td>0.047528</td>\n      <td>0.369459</td>\n      <td>0.358867</td>\n      <td>0.346243</td>\n    </tr>\n  </tbody>\n</table>\n</div>"
     },
     "execution_count": 122,
     "metadata": {},
     "output_type": "execute_result"
    }
   ],
   "source": [
    "df_geometric.head()\n",
    "df_geometric_reg = df_geometric.drop(columns=['pixel_id'])\n",
    "df_geometric_reg.head()"
   ],
   "metadata": {
    "collapsed": false,
    "pycharm": {
     "name": "#%%\n"
    }
   }
  },
  {
   "cell_type": "code",
   "execution_count": 123,
   "outputs": [],
   "source": [
    "y_lrg = df_geometric_reg['lrg_density']#.to_numpy(copy=True)\n",
    "y_elg = df_geometric_reg['elg_density']#.to_numpy(copy=True)\n",
    "y_qso = df_geometric_reg['qso_density']#.to_numpy(copy=True)\n",
    "\n",
    "X = df_geometric_reg.drop(columns=['lrg_density','elg_density','qso_density'])#.to_numpy(copy=True)"
   ],
   "metadata": {
    "collapsed": false,
    "pycharm": {
     "name": "#%%\n"
    }
   }
  },
  {
   "cell_type": "code",
   "execution_count": 124,
   "outputs": [
    {
     "name": "stdout",
     "output_type": "stream",
     "text": [
      "2002\n",
      "2002\n"
     ]
    }
   ],
   "source": [
    "print(len(y_lrg))\n",
    "print(len(X))"
   ],
   "metadata": {
    "collapsed": false,
    "pycharm": {
     "name": "#%%\n"
    }
   }
  },
  {
   "cell_type": "code",
   "execution_count": 125,
   "outputs": [
    {
     "name": "stdout",
     "output_type": "stream",
     "text": [
      "                                 OLS Regression Results                                \n",
      "=======================================================================================\n",
      "Dep. Variable:            lrg_density   R-squared (uncentered):                   0.228\n",
      "Model:                            OLS   Adj. R-squared (uncentered):              0.222\n",
      "Method:                 Least Squares   F-statistic:                              34.53\n",
      "Date:                Mon, 14 Jun 2021   Prob (F-statistic):                    7.30e-99\n",
      "Time:                        18:21:07   Log-Likelihood:                         -2896.2\n",
      "No. Observations:                2002   AIC:                                      5826.\n",
      "Df Residuals:                    1985   BIC:                                      5922.\n",
      "Df Model:                          17                                                  \n",
      "Covariance Type:            nonrobust                                                  \n",
      "=====================================================================================\n",
      "                        coef    std err          t      P>|t|      [0.025      0.975]\n",
      "-------------------------------------------------------------------------------------\n",
      "stellar_density       0.4917      0.031     16.065      0.000       0.432       0.552\n",
      "airmass_galaxy        0.2005      0.149      1.342      0.180      -0.092       0.493\n",
      "fwhm_galaxy           0.0141      0.073      0.193      0.847      -0.129       0.157\n",
      "ebv_galaxy            0.0108      0.846      0.013      0.990      -1.649       1.671\n",
      "ccdnphotom_galaxy    -0.0008   9.83e-05     -8.399      0.000      -0.001      -0.001\n",
      "ccdskysb_galaxy_g     9.3396     11.656      0.801      0.423     -13.519      32.198\n",
      "ccdskysb_galaxy_r     2.0712     12.406      0.167      0.867     -22.260      26.402\n",
      "ccdskysb_galaxy_z    -2.6759      8.522     -0.314      0.754     -19.388      14.037\n",
      "exptime_galaxy_g      0.0101      0.086      0.118      0.906      -0.159       0.179\n",
      "exptime_galaxy_r      0.0149      0.103      0.145      0.885      -0.186       0.216\n",
      "exptime_galaxy_z     -0.0912      0.076     -1.204      0.229      -0.240       0.057\n",
      "meansky_galaxy_g   8.235e-09   2.23e-08      0.368      0.713   -3.56e-08    5.21e-08\n",
      "meansky_galaxy_r  -1.396e-08   8.55e-09     -1.633      0.103   -3.07e-08     2.8e-09\n",
      "meansky_galaxy_z   1.095e-09   7.27e-10      1.506      0.132   -3.31e-10    2.52e-09\n",
      "galdepth_galaxy_g   -21.6850      9.369     -2.314      0.021     -40.060      -3.310\n",
      "galdepth_galaxy_r    -3.8118      9.970     -0.382      0.702     -23.365      15.741\n",
      "galdepth_galaxy_z    18.9146     10.411      1.817      0.069      -1.503      39.332\n",
      "==============================================================================\n",
      "Omnibus:                     1642.676   Durbin-Watson:                   1.849\n",
      "Prob(Omnibus):                  0.000   Jarque-Bera (JB):            99059.334\n",
      "Skew:                           3.420   Prob(JB):                         0.00\n",
      "Kurtosis:                      36.775   Cond. No.                     4.04e+10\n",
      "==============================================================================\n",
      "\n",
      "Notes:\n",
      "[1] R² is computed without centering (uncentered) since the model does not contain a constant.\n",
      "[2] Standard Errors assume that the covariance matrix of the errors is correctly specified.\n",
      "[3] The condition number is large, 4.04e+10. This might indicate that there are\n",
      "strong multicollinearity or other numerical problems.\n"
     ]
    }
   ],
   "source": [
    "ols_lrg_geometric = sm.OLS(y_lrg,X).fit()\n",
    "print(ols_lrg_geometric.summary())\n"
   ],
   "metadata": {
    "collapsed": false,
    "pycharm": {
     "name": "#%%\n"
    }
   }
  },
  {
   "cell_type": "code",
   "execution_count": 126,
   "outputs": [
    {
     "name": "stdout",
     "output_type": "stream",
     "text": [
      "                                 OLS Regression Results                                \n",
      "=======================================================================================\n",
      "Dep. Variable:            elg_density   R-squared (uncentered):                   0.423\n",
      "Model:                            OLS   Adj. R-squared (uncentered):              0.418\n",
      "Method:                 Least Squares   F-statistic:                              85.44\n",
      "Date:                Mon, 14 Jun 2021   Prob (F-statistic):                   6.97e-222\n",
      "Time:                        18:21:09   Log-Likelihood:                         -2588.3\n",
      "No. Observations:                2002   AIC:                                      5211.\n",
      "Df Residuals:                    1985   BIC:                                      5306.\n",
      "Df Model:                          17                                                  \n",
      "Covariance Type:            nonrobust                                                  \n",
      "=====================================================================================\n",
      "                        coef    std err          t      P>|t|      [0.025      0.975]\n",
      "-------------------------------------------------------------------------------------\n",
      "stellar_density       0.5545      0.026     21.127      0.000       0.503       0.606\n",
      "airmass_galaxy       -0.1583      0.128     -1.236      0.217      -0.409       0.093\n",
      "fwhm_galaxy          -0.0413      0.063     -0.661      0.509      -0.164       0.081\n",
      "ebv_galaxy           -3.1043      0.726     -4.277      0.000      -4.528      -1.681\n",
      "ccdnphotom_galaxy    -0.0011   8.43e-05    -12.469      0.000      -0.001      -0.001\n",
      "ccdskysb_galaxy_g   -14.3844      9.994     -1.439      0.150     -33.985       5.216\n",
      "ccdskysb_galaxy_r    10.3537     10.638      0.973      0.331     -10.509      31.216\n",
      "ccdskysb_galaxy_z    -9.2776      7.307     -1.270      0.204     -23.608       5.053\n",
      "exptime_galaxy_g      0.1413      0.074      1.916      0.056      -0.003       0.286\n",
      "exptime_galaxy_r     -0.0648      0.088     -0.736      0.462      -0.238       0.108\n",
      "exptime_galaxy_z     -0.0918      0.065     -1.413      0.158      -0.219       0.036\n",
      "meansky_galaxy_g    2.21e-08   1.92e-08      1.153      0.249   -1.55e-08    5.97e-08\n",
      "meansky_galaxy_r  -1.296e-08   7.33e-09     -1.768      0.077   -2.73e-08    1.41e-09\n",
      "meansky_galaxy_z   6.422e-10   6.24e-10      1.030      0.303   -5.81e-10    1.87e-09\n",
      "galdepth_galaxy_g     8.0669      8.034      1.004      0.315      -7.689      23.823\n",
      "galdepth_galaxy_r   -11.3634      8.549     -1.329      0.184     -28.129       5.403\n",
      "galdepth_galaxy_z    20.6870      8.927      2.317      0.021       3.180      38.194\n",
      "==============================================================================\n",
      "Omnibus:                      156.405   Durbin-Watson:                   1.812\n",
      "Prob(Omnibus):                  0.000   Jarque-Bera (JB):              192.776\n",
      "Skew:                           0.734   Prob(JB):                     1.38e-42\n",
      "Kurtosis:                       3.398   Cond. No.                     4.04e+10\n",
      "==============================================================================\n",
      "\n",
      "Notes:\n",
      "[1] R² is computed without centering (uncentered) since the model does not contain a constant.\n",
      "[2] Standard Errors assume that the covariance matrix of the errors is correctly specified.\n",
      "[3] The condition number is large, 4.04e+10. This might indicate that there are\n",
      "strong multicollinearity or other numerical problems.\n"
     ]
    }
   ],
   "source": [
    "ols_elg_geometric = sm.OLS(y_elg,X).fit()\n",
    "print(ols_elg_geometric.summary())"
   ],
   "metadata": {
    "collapsed": false,
    "pycharm": {
     "name": "#%%\n"
    }
   }
  },
  {
   "cell_type": "code",
   "execution_count": 127,
   "outputs": [
    {
     "name": "stdout",
     "output_type": "stream",
     "text": [
      "                                 OLS Regression Results                                \n",
      "=======================================================================================\n",
      "Dep. Variable:            qso_density   R-squared (uncentered):                   0.431\n",
      "Model:                            OLS   Adj. R-squared (uncentered):              0.426\n",
      "Method:                 Least Squares   F-statistic:                              88.57\n",
      "Date:                Mon, 14 Jun 2021   Prob (F-statistic):                   2.02e-228\n",
      "Time:                        18:21:10   Log-Likelihood:                         -2574.0\n",
      "No. Observations:                2002   AIC:                                      5182.\n",
      "Df Residuals:                    1985   BIC:                                      5277.\n",
      "Df Model:                          17                                                  \n",
      "Covariance Type:            nonrobust                                                  \n",
      "=====================================================================================\n",
      "                        coef    std err          t      P>|t|      [0.025      0.975]\n",
      "-------------------------------------------------------------------------------------\n",
      "stellar_density       0.5600      0.026     21.490      0.000       0.509       0.611\n",
      "airmass_galaxy        0.1245      0.127      0.979      0.328      -0.125       0.374\n",
      "fwhm_galaxy          -0.0651      0.062     -1.049      0.294      -0.187       0.057\n",
      "ebv_galaxy           -1.8723      0.721     -2.598      0.009      -3.286      -0.459\n",
      "ccdnphotom_galaxy    -0.0011   8.37e-05    -13.121      0.000      -0.001      -0.001\n",
      "ccdskysb_galaxy_g     2.1405      9.923      0.216      0.829     -17.321      21.602\n",
      "ccdskysb_galaxy_r    11.7435     10.562      1.112      0.266      -8.971      32.458\n",
      "ccdskysb_galaxy_z    -8.1802      7.255     -1.127      0.260     -22.409       6.048\n",
      "exptime_galaxy_g      0.0831      0.073      1.135      0.256      -0.060       0.227\n",
      "exptime_galaxy_r      0.1679      0.087      1.920      0.055      -0.004       0.339\n",
      "exptime_galaxy_z     -0.0689      0.064     -1.068      0.286      -0.195       0.058\n",
      "meansky_galaxy_g   2.315e-08    1.9e-08      1.217      0.224   -1.42e-08    6.05e-08\n",
      "meansky_galaxy_r  -8.501e-09   7.28e-09     -1.168      0.243   -2.28e-08    5.77e-09\n",
      "meansky_galaxy_z   1.658e-10   6.19e-10      0.268      0.789   -1.05e-09    1.38e-09\n",
      "galdepth_galaxy_g     1.3326      7.977      0.167      0.867     -14.311      16.977\n",
      "galdepth_galaxy_r    -7.0886      8.488     -0.835      0.404     -23.736       9.558\n",
      "galdepth_galaxy_z     1.9282      8.863      0.218      0.828     -15.455      19.311\n",
      "==============================================================================\n",
      "Omnibus:                      153.375   Durbin-Watson:                   1.900\n",
      "Prob(Omnibus):                  0.000   Jarque-Bera (JB):              188.379\n",
      "Skew:                           0.723   Prob(JB):                     1.24e-41\n",
      "Kurtosis:                       3.408   Cond. No.                     4.04e+10\n",
      "==============================================================================\n",
      "\n",
      "Notes:\n",
      "[1] R² is computed without centering (uncentered) since the model does not contain a constant.\n",
      "[2] Standard Errors assume that the covariance matrix of the errors is correctly specified.\n",
      "[3] The condition number is large, 4.04e+10. This might indicate that there are\n",
      "strong multicollinearity or other numerical problems.\n"
     ]
    }
   ],
   "source": [
    "ols_qso_geometric = sm.OLS(y_qso,X).fit()\n",
    "print(ols_qso_geometric.summary())\n"
   ],
   "metadata": {
    "collapsed": false,
    "pycharm": {
     "name": "#%%\n"
    }
   }
  },
  {
   "cell_type": "code",
   "execution_count": null,
   "outputs": [],
   "source": [],
   "metadata": {
    "collapsed": false,
    "pycharm": {
     "name": "#%%\n"
    }
   }
  }
 ],
 "metadata": {
  "kernelspec": {
   "display_name": "Python 3",
   "language": "python",
   "name": "python3"
  },
  "language_info": {
   "codemirror_mode": {
    "name": "ipython",
    "version": 2
   },
   "file_extension": ".py",
   "mimetype": "text/x-python",
   "name": "python",
   "nbconvert_exporter": "python",
   "pygments_lexer": "ipython2",
   "version": "2.7.6"
  }
 },
 "nbformat": 4,
 "nbformat_minor": 0
}