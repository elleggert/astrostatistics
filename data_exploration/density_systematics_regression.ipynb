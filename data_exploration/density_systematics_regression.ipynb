{
 "cells": [
  {
   "cell_type": "markdown",
   "metadata": {
    "collapsed": true,
    "pycharm": {
     "name": "#%% md\n"
    }
   },
   "source": [
    "### Attempting to run regressions from systematics values extracted geometrically or from Kitanidis et al on galaxy density\n"
   ]
  },
  {
   "cell_type": "code",
   "execution_count": 68,
   "outputs": [],
   "source": [
    "import pandas as pd\n",
    "import numpy as np\n",
    "import pickle\n",
    "import healpy as hp"
   ],
   "metadata": {
    "collapsed": false,
    "pycharm": {
     "name": "#%%\n"
    }
   }
  },
  {
   "cell_type": "code",
   "source": [
    "### Setting Healpy Information\n",
    "NSIDE = 256\n",
    "NPIX = hp.nside2npix(NSIDE)\n",
    "print(\n",
    "    \"Approximate resolution at NSIDE {} is {:.2} deg\".format(\n",
    "        NSIDE, hp.nside2resol(NSIDE, arcmin=True) / 60\n",
    "    )\n",
    ")\n",
    "\n",
    "def raDec2thetaPhi(ra, dec):\n",
    "    return (0.5 * np.pi - np.deg2rad(dec)), (np.deg2rad(ra))\n"
   ],
   "metadata": {
    "collapsed": false,
    "pycharm": {
     "name": "#%%\n"
    }
   },
   "execution_count": 69,
   "outputs": [
    {
     "name": "stdout",
     "output_type": "stream",
     "text": [
      "Approximate resolution at NSIDE 256 is 0.23 deg\n"
     ]
    }
   ]
  },
  {
   "cell_type": "markdown",
   "source": [
    "### Importing Galaxy Density Information"
   ],
   "metadata": {
    "collapsed": false,
    "pycharm": {
     "name": "#%% md\n"
    }
   }
  },
  {
   "cell_type": "code",
   "execution_count": 70,
   "outputs": [],
   "source": [
    "df_objects = pd.read_csv('../bricks_data/galaxy_catalogue_sample.csv')\n"
   ],
   "metadata": {
    "collapsed": false,
    "pycharm": {
     "name": "#%%\n"
    }
   }
  },
  {
   "cell_type": "code",
   "execution_count": 71,
   "outputs": [
    {
     "data": {
      "text/plain": "   BrickID  ObjectID          RA        DEC  South  Target_type\n0   389675        10  133.284363  10.315927   True            3\n1   389675        11  133.284832  10.314327   True            2\n2   389675        15  133.285109  10.294865   True            3\n3   389675        21  133.285731  10.319199   True            3\n4   389675        35  133.286350  10.168023   True            2",
      "text/html": "<div>\n<style scoped>\n    .dataframe tbody tr th:only-of-type {\n        vertical-align: middle;\n    }\n\n    .dataframe tbody tr th {\n        vertical-align: top;\n    }\n\n    .dataframe thead th {\n        text-align: right;\n    }\n</style>\n<table border=\"1\" class=\"dataframe\">\n  <thead>\n    <tr style=\"text-align: right;\">\n      <th></th>\n      <th>BrickID</th>\n      <th>ObjectID</th>\n      <th>RA</th>\n      <th>DEC</th>\n      <th>South</th>\n      <th>Target_type</th>\n    </tr>\n  </thead>\n  <tbody>\n    <tr>\n      <th>0</th>\n      <td>389675</td>\n      <td>10</td>\n      <td>133.284363</td>\n      <td>10.315927</td>\n      <td>True</td>\n      <td>3</td>\n    </tr>\n    <tr>\n      <th>1</th>\n      <td>389675</td>\n      <td>11</td>\n      <td>133.284832</td>\n      <td>10.314327</td>\n      <td>True</td>\n      <td>2</td>\n    </tr>\n    <tr>\n      <th>2</th>\n      <td>389675</td>\n      <td>15</td>\n      <td>133.285109</td>\n      <td>10.294865</td>\n      <td>True</td>\n      <td>3</td>\n    </tr>\n    <tr>\n      <th>3</th>\n      <td>389675</td>\n      <td>21</td>\n      <td>133.285731</td>\n      <td>10.319199</td>\n      <td>True</td>\n      <td>3</td>\n    </tr>\n    <tr>\n      <th>4</th>\n      <td>389675</td>\n      <td>35</td>\n      <td>133.286350</td>\n      <td>10.168023</td>\n      <td>True</td>\n      <td>2</td>\n    </tr>\n  </tbody>\n</table>\n</div>"
     },
     "execution_count": 71,
     "metadata": {},
     "output_type": "execute_result"
    }
   ],
   "source": [
    "df_objects.head()"
   ],
   "metadata": {
    "collapsed": false,
    "pycharm": {
     "name": "#%%\n"
    }
   }
  },
  {
   "cell_type": "code",
   "execution_count": 72,
   "outputs": [
    {
     "name": "stdout",
     "output_type": "stream",
     "text": [
      "Number of LRGs in Sample: 41904\n",
      "[166098 167122 167123 ... 756988 756989 757472]\n",
      "Mean LRGs per Pixel: 9.93692198245198\n",
      "[[ 1.66098000e+05  3.08252195e-01]\n",
      " [ 1.67122000e+05 -8.99365216e-01]\n",
      " [ 1.67123000e+05  4.08886980e-01]\n",
      " ...\n",
      " [ 7.56988000e+05 -8.99365216e-01]\n",
      " [ 7.56989000e+05  1.61650439e+00]\n",
      " [ 7.57472000e+05 -4.96826079e-01]]\n"
     ]
    },
    {
     "data": {
      "text/plain": "   pixel_id  lrg_density\n0    166098     0.308252\n1    167122    -0.899365\n2    167123     0.408887\n3    171167    -0.496826\n4    172190    -0.496826",
      "text/html": "<div>\n<style scoped>\n    .dataframe tbody tr th:only-of-type {\n        vertical-align: middle;\n    }\n\n    .dataframe tbody tr th {\n        vertical-align: top;\n    }\n\n    .dataframe thead th {\n        text-align: right;\n    }\n</style>\n<table border=\"1\" class=\"dataframe\">\n  <thead>\n    <tr style=\"text-align: right;\">\n      <th></th>\n      <th>pixel_id</th>\n      <th>lrg_density</th>\n    </tr>\n  </thead>\n  <tbody>\n    <tr>\n      <th>0</th>\n      <td>166098</td>\n      <td>0.308252</td>\n    </tr>\n    <tr>\n      <th>1</th>\n      <td>167122</td>\n      <td>-0.899365</td>\n    </tr>\n    <tr>\n      <th>2</th>\n      <td>167123</td>\n      <td>0.408887</td>\n    </tr>\n    <tr>\n      <th>3</th>\n      <td>171167</td>\n      <td>-0.496826</td>\n    </tr>\n    <tr>\n      <th>4</th>\n      <td>172190</td>\n      <td>-0.496826</td>\n    </tr>\n  </tbody>\n</table>\n</div>"
     },
     "execution_count": 72,
     "metadata": {},
     "output_type": "execute_result"
    }
   ],
   "source": [
    "# LRG\n",
    "\n",
    "df_LRG = df_objects[df_objects[\"Target_type\"] == 1]\n",
    "ra_LRG = df_LRG[\"RA\"].to_numpy(copy=True)\n",
    "dec_LRG = df_LRG[\"DEC\"].to_numpy(copy=True)\n",
    "theta, phi = raDec2thetaPhi(ra_LRG, dec_LRG)\n",
    "\n",
    "print(\"Number of LRGs in Sample:\", len(ra_LRG))\n",
    "\n",
    "LRG_pixel_indices = hp.ang2pix(NSIDE, theta,phi)\n",
    "\n",
    "\n",
    "# Finding out unique indices and how often they appear --> shows the density of LRGs in this pixel\n",
    "(unique, counts) = np.unique(LRG_pixel_indices, return_counts=True)\n",
    "\n",
    "print(unique)\n",
    "\n",
    "mean_LRG = counts.mean()\n",
    "print(\"Mean LRGs per Pixel:\", mean_LRG)\n",
    "# Calculating Densities for every block\n",
    "density_LRG = (counts / mean_LRG) - 1\n",
    "id_density = np.stack((unique, density_LRG), axis=1)\n",
    "print(id_density)\n",
    "df_lrg = pd.DataFrame(id_density, columns=['pixel_id', 'lrg_density'])\n",
    "df_lrg.pixel_id = df_lrg.pixel_id.astype(int)\n",
    "df_lrg.head()"
   ],
   "metadata": {
    "collapsed": false,
    "pycharm": {
     "name": "#%%\n"
    }
   }
  },
  {
   "cell_type": "code",
   "execution_count": 73,
   "outputs": [
    {
     "name": "stdout",
     "output_type": "stream",
     "text": [
      "Number of ELGs in Sample: 157118\n",
      "[166098 167122 167123 ... 756502 756989 757472]\n",
      "Mean ELGs per Pixel: 32.556568586821385\n",
      "[[ 1.66098000e+05  7.50518718e-02]\n",
      " [ 1.67122000e+05 -9.07852697e-01]\n",
      " [ 1.67123000e+05 -4.16400412e-01]\n",
      " ...\n",
      " [ 7.56502000e+05 -5.69979251e-01]\n",
      " [ 7.56989000e+05  4.34454359e+00]\n",
      " [ 7.57472000e+05  1.36203363e-02]]\n",
      "   pixel_id  elg_density\n",
      "0    166098     0.075052\n",
      "1    167122    -0.907853\n",
      "2    167123    -0.416400\n",
      "3    171167     0.412925\n",
      "4    172190    -0.293537\n"
     ]
    }
   ],
   "source": [
    "# LRG\n",
    "\n",
    "df_ELG = df_objects[df_objects[\"Target_type\"] == 2]\n",
    "ra_ELG = df_ELG[\"RA\"].to_numpy(copy=True)\n",
    "dec_ELG = df_ELG[\"DEC\"].to_numpy(copy=True)\n",
    "theta, phi = raDec2thetaPhi(ra_ELG, dec_ELG)\n",
    "\n",
    "print(\"Number of ELGs in Sample:\", len(ra_ELG))\n",
    "\n",
    "ELG_pixel_indices = hp.ang2pix(NSIDE, theta,phi)\n",
    "\n",
    "\n",
    "# Finding out unique indices and how often they appear --> shows the density of LRGs in this pixel\n",
    "(unique, counts) = np.unique(ELG_pixel_indices, return_counts=True)\n",
    "\n",
    "print(unique)\n",
    "\n",
    "mean_ELG = counts.mean()\n",
    "print(\"Mean ELGs per Pixel:\", mean_ELG)\n",
    "# Calculating Densities for every block\n",
    "density_ELG = (counts / mean_ELG) - 1\n",
    "id_density = np.stack((unique, density_ELG), axis=1)\n",
    "print(id_density)\n",
    "df_elg = pd.DataFrame(id_density, columns=['pixel_id', 'elg_density'])\n",
    "df_elg.pixel_id = df_elg.pixel_id.astype(int)\n",
    "\n",
    "print(df_elg.head())"
   ],
   "metadata": {
    "collapsed": false,
    "pycharm": {
     "name": "#%%\n"
    }
   }
  },
  {
   "cell_type": "code",
   "execution_count": 74,
   "outputs": [
    {
     "name": "stdout",
     "output_type": "stream",
     "text": [
      "Number of QSOs in Sample: 180394\n",
      "[166098 167122 167123 ... 756502 756989 757472]\n",
      "Mean QSOs per Pixel: 36.92058943921408\n",
      "[[ 1.66098000e+05  5.63211637e-02]\n",
      " [ 1.67122000e+05 -8.10403894e-01]\n",
      " [ 1.67123000e+05  1.10491480e-01]\n",
      " ...\n",
      " [ 7.56502000e+05 -8.64574210e-01]\n",
      " [ 7.56989000e+05  2.60232602e+00]\n",
      " [ 7.57472000e+05 -1.60360101e-01]]\n",
      "   pixel_id  qso_density\n",
      "0    166098     0.056321\n",
      "1    167122    -0.810404\n",
      "2    167123     0.110491\n",
      "3    171167    -0.024934\n",
      "4    172190    -0.133275\n"
     ]
    }
   ],
   "source": [
    "df_QSO = df_objects[df_objects[\"Target_type\"] == 3]\n",
    "ra_QSO = df_QSO[\"RA\"].to_numpy(copy=True)\n",
    "dec_QSO = df_QSO[\"DEC\"].to_numpy(copy=True)\n",
    "theta, phi = raDec2thetaPhi(ra_QSO, dec_QSO)\n",
    "\n",
    "print(\"Number of QSOs in Sample:\", len(ra_QSO))\n",
    "\n",
    "QSO_pixel_indices = hp.ang2pix(NSIDE, theta,phi)\n",
    "\n",
    "\n",
    "# Finding out unique indices and how often they appear --> shows the density of LRGs in this pixel\n",
    "(unique, counts) = np.unique(QSO_pixel_indices, return_counts=True)\n",
    "\n",
    "print(unique)\n",
    "\n",
    "mean_QSO = counts.mean()\n",
    "print(\"Mean QSOs per Pixel:\", mean_QSO)\n",
    "# Calculating Densities for every block\n",
    "density_QSO = (counts / mean_QSO) - 1\n",
    "id_density = np.stack((unique, density_QSO), axis=1)\n",
    "print(id_density)\n",
    "df_qso = pd.DataFrame(id_density, columns=['pixel_id', 'qso_density'])\n",
    "df_qso.pixel_id = df_qso.pixel_id.astype(int)\n",
    "\n",
    "print(df_qso.head())"
   ],
   "metadata": {
    "collapsed": false,
    "pycharm": {
     "name": "#%%\n"
    }
   }
  },
  {
   "cell_type": "code",
   "execution_count": 75,
   "outputs": [
    {
     "name": "stdout",
     "output_type": "stream",
     "text": [
      "pixel_id         0\n",
      "lrg_density    860\n",
      "elg_density    251\n",
      "qso_density    191\n",
      "dtype: int64\n",
      "(4217, 2) (4826, 2) (4886, 2) (5077, 4)\n"
     ]
    }
   ],
   "source": [
    "df = pd.merge(df_lrg, df_elg, how='outer', on='pixel_id')\n",
    "df = pd.merge(df, df_qso, how='outer', on='pixel_id')\n",
    "print(df.isna().sum())\n",
    "print(df_lrg.shape, df_elg.shape, df_qso.shape, df.shape)"
   ],
   "metadata": {
    "collapsed": false,
    "pycharm": {
     "name": "#%%\n"
    }
   }
  },
  {
   "cell_type": "code",
   "execution_count": 76,
   "outputs": [
    {
     "name": "stdout",
     "output_type": "stream",
     "text": [
      "pixel_id       0\n",
      "lrg_density    0\n",
      "elg_density    0\n",
      "qso_density    0\n",
      "dtype: int64\n"
     ]
    }
   ],
   "source": [
    "# Dropping all pixels where I do not have densities for all 3 types of galaxies\n",
    "df.dropna(axis=0, inplace=True)\n",
    "print(df.isna().sum())"
   ],
   "metadata": {
    "collapsed": false,
    "pycharm": {
     "name": "#%%\n"
    }
   }
  },
  {
   "cell_type": "markdown",
   "source": [
    "### Importing the Systematics Values and Appending them to the df.\n"
   ],
   "metadata": {
    "collapsed": false,
    "pycharm": {
     "name": "#%% md\n"
    }
   },
   "execution_count": 51
  },
  {
   "cell_type": "markdown",
   "source": [
    "#### Stellar Density"
   ],
   "metadata": {
    "collapsed": false,
    "pycharm": {
     "name": "#%% md\n"
    }
   },
   "execution_count": 52
  },
  {
   "cell_type": "code",
   "execution_count": 77,
   "outputs": [
    {
     "name": "stdout",
     "output_type": "stream",
     "text": [
      "Number of stellars in Sample: 4739\n",
      "[166098 167123 168146 ... 756988 756989 757472]\n",
      "Mean stellars per Pixel: 2.263132760267431\n",
      "[[ 1.66098000e+05  3.25596117e-01]\n",
      " [ 1.67123000e+05 -1.16269255e-01]\n",
      " [ 1.68146000e+05 -5.58134628e-01]\n",
      " ...\n",
      " [ 7.56988000e+05 -5.58134628e-01]\n",
      " [ 7.56989000e+05  1.20932686e+00]\n",
      " [ 7.57472000e+05 -5.58134628e-01]]\n",
      "   pixel_id  stellar_density\n",
      "0    166098         0.325596\n",
      "1    167123        -0.116269\n",
      "2    168146        -0.558135\n",
      "3    170236         2.093058\n",
      "4    171167        -0.558135\n",
      "pixel_id           0\n",
      "stellar_density    0\n",
      "dtype: int64\n"
     ]
    }
   ],
   "source": [
    "df_Stellar = pd.read_csv('../bricks_data/galaxy_catalogue_stellar.csv')\n",
    "ra_stellar = df_Stellar[\"RA\"].to_numpy(copy=True)\n",
    "dec_stellar = df_Stellar[\"DEC\"].to_numpy(copy=True)\n",
    "theta, phi = raDec2thetaPhi(ra_stellar, dec_stellar)\n",
    "\n",
    "print(\"Number of stellars in Sample:\", len(ra_stellar))\n",
    "\n",
    "stellar_pixel_indices = hp.ang2pix(NSIDE, theta,phi)\n",
    "\n",
    "\n",
    "# Finding out unique indices and how often they appear --> shows the density of LRGs in this pixel\n",
    "(unique, counts) = np.unique(stellar_pixel_indices, return_counts=True)\n",
    "\n",
    "print(unique)\n",
    "\n",
    "mean_stellar = counts.mean()\n",
    "print(\"Mean stellars per Pixel:\", mean_stellar)\n",
    "# Calculating Densities for every block\n",
    "density_stellar = (counts / mean_stellar) - 1\n",
    "id_density = np.stack((unique, density_stellar), axis=1)\n",
    "print(id_density)\n",
    "df_stellar = pd.DataFrame(id_density, columns=['pixel_id', 'stellar_density'])\n",
    "df_stellar.pixel_id = df_stellar.pixel_id.astype(int)\n",
    "\n",
    "print(df_stellar.head())\n",
    "\n",
    "print(df_stellar.isna().sum())"
   ],
   "metadata": {
    "collapsed": false,
    "pycharm": {
     "name": "#%%\n"
    }
   }
  },
  {
   "cell_type": "code",
   "execution_count": 78,
   "outputs": [
    {
     "name": "stdout",
     "output_type": "stream",
     "text": [
      "pixel_id           0\n",
      "lrg_density        0\n",
      "elg_density        0\n",
      "qso_density        0\n",
      "stellar_density    0\n",
      "dtype: int64\n"
     ]
    },
    {
     "data": {
      "text/plain": "(2002, 5)"
     },
     "execution_count": 78,
     "metadata": {},
     "output_type": "execute_result"
    }
   ],
   "source": [
    "df = df.merge(df_stellar, how='inner', on='pixel_id')\n",
    "print(df.isna().sum())\n",
    "df.shape"
   ],
   "metadata": {
    "collapsed": false,
    "pycharm": {
     "name": "#%%\n"
    }
   }
  },
  {
   "cell_type": "markdown",
   "source": [
    "#### Kitanidis Systematics Values"
   ],
   "metadata": {
    "collapsed": false,
    "pycharm": {
     "name": "#%% md\n"
    }
   }
  },
  {
   "cell_type": "code",
   "execution_count": 80,
   "outputs": [
    {
     "name": "stdout",
     "output_type": "stream",
     "text": [
      "1567\n"
     ]
    }
   ],
   "source": [
    "with open('../bricks_data/pixel2systematics_kitanidis.pickle', 'rb') as f:\n",
    "    kitanidis_dict = pickle.load(f)\n",
    "    f.close()\n",
    "\n",
    "print(len(kitanidis_dict.keys()))"
   ],
   "metadata": {
    "collapsed": false,
    "pycharm": {
     "name": "#%%\n"
    }
   }
  },
  {
   "cell_type": "code",
   "execution_count": 88,
   "outputs": [
    {
     "ename": "ValueError",
     "evalue": "17 columns passed, passed data had 18 columns",
     "output_type": "error",
     "traceback": [
      "\u001B[0;31m---------------------------------------------------------------------------\u001B[0m",
      "\u001B[0;31mAssertionError\u001B[0m                            Traceback (most recent call last)",
      "\u001B[0;32m~/miniconda3/envs/astro/lib/python3.8/site-packages/pandas/core/internals/construction.py\u001B[0m in \u001B[0;36m_list_to_arrays\u001B[0;34m(data, columns, coerce_float, dtype)\u001B[0m\n\u001B[1;32m    567\u001B[0m     \u001B[0;32mtry\u001B[0m\u001B[0;34m:\u001B[0m\u001B[0;34m\u001B[0m\u001B[0;34m\u001B[0m\u001B[0m\n\u001B[0;32m--> 568\u001B[0;31m         \u001B[0mcolumns\u001B[0m \u001B[0;34m=\u001B[0m \u001B[0m_validate_or_indexify_columns\u001B[0m\u001B[0;34m(\u001B[0m\u001B[0mcontent\u001B[0m\u001B[0;34m,\u001B[0m \u001B[0mcolumns\u001B[0m\u001B[0;34m)\u001B[0m\u001B[0;34m\u001B[0m\u001B[0;34m\u001B[0m\u001B[0m\n\u001B[0m\u001B[1;32m    569\u001B[0m         \u001B[0mresult\u001B[0m \u001B[0;34m=\u001B[0m \u001B[0m_convert_object_array\u001B[0m\u001B[0;34m(\u001B[0m\u001B[0mcontent\u001B[0m\u001B[0;34m,\u001B[0m \u001B[0mdtype\u001B[0m\u001B[0;34m=\u001B[0m\u001B[0mdtype\u001B[0m\u001B[0;34m,\u001B[0m \u001B[0mcoerce_float\u001B[0m\u001B[0;34m=\u001B[0m\u001B[0mcoerce_float\u001B[0m\u001B[0;34m)\u001B[0m\u001B[0;34m\u001B[0m\u001B[0;34m\u001B[0m\u001B[0m\n",
      "\u001B[0;32m~/miniconda3/envs/astro/lib/python3.8/site-packages/pandas/core/internals/construction.py\u001B[0m in \u001B[0;36m_validate_or_indexify_columns\u001B[0;34m(content, columns)\u001B[0m\n\u001B[1;32m    691\u001B[0m             \u001B[0;31m# caller's responsibility to check for this...\u001B[0m\u001B[0;34m\u001B[0m\u001B[0;34m\u001B[0m\u001B[0;34m\u001B[0m\u001B[0m\n\u001B[0;32m--> 692\u001B[0;31m             raise AssertionError(\n\u001B[0m\u001B[1;32m    693\u001B[0m                 \u001B[0;34mf\"{len(columns)} columns passed, passed data had \"\u001B[0m\u001B[0;34m\u001B[0m\u001B[0;34m\u001B[0m\u001B[0m\n",
      "\u001B[0;31mAssertionError\u001B[0m: 17 columns passed, passed data had 18 columns",
      "\nThe above exception was the direct cause of the following exception:\n",
      "\u001B[0;31mValueError\u001B[0m                                Traceback (most recent call last)",
      "\u001B[0;32m<ipython-input-88-0d12c2cc6986>\u001B[0m in \u001B[0;36m<module>\u001B[0;34m\u001B[0m\n\u001B[1;32m      7\u001B[0m     \u001B[0msys_list\u001B[0m\u001B[0;34m.\u001B[0m\u001B[0mappend\u001B[0m\u001B[0;34m(\u001B[0m\u001B[0mind_sys_list\u001B[0m\u001B[0;34m)\u001B[0m\u001B[0;34m\u001B[0m\u001B[0;34m\u001B[0m\u001B[0m\n\u001B[1;32m      8\u001B[0m \u001B[0;34m\u001B[0m\u001B[0m\n\u001B[0;32m----> 9\u001B[0;31m df_sys_kit = pd.DataFrame(sys_list, columns=['airmass_galaxy',\n\u001B[0m\u001B[1;32m     10\u001B[0m \u001B[0;34m'fwhm_galaxy'\u001B[0m\u001B[0;34m,\u001B[0m\u001B[0;34m\u001B[0m\u001B[0;34m\u001B[0m\u001B[0m\n\u001B[1;32m     11\u001B[0m \u001B[0;34m'ebv_galaxy'\u001B[0m\u001B[0;34m,\u001B[0m\u001B[0;34m\u001B[0m\u001B[0;34m\u001B[0m\u001B[0m\n",
      "\u001B[0;32m~/miniconda3/envs/astro/lib/python3.8/site-packages/pandas/core/frame.py\u001B[0m in \u001B[0;36m__init__\u001B[0;34m(self, data, index, columns, dtype, copy)\u001B[0m\n\u001B[1;32m    568\u001B[0m                     \u001B[0;32mif\u001B[0m \u001B[0mis_named_tuple\u001B[0m\u001B[0;34m(\u001B[0m\u001B[0mdata\u001B[0m\u001B[0;34m[\u001B[0m\u001B[0;36m0\u001B[0m\u001B[0;34m]\u001B[0m\u001B[0;34m)\u001B[0m \u001B[0;32mand\u001B[0m \u001B[0mcolumns\u001B[0m \u001B[0;32mis\u001B[0m \u001B[0;32mNone\u001B[0m\u001B[0;34m:\u001B[0m\u001B[0;34m\u001B[0m\u001B[0;34m\u001B[0m\u001B[0m\n\u001B[1;32m    569\u001B[0m                         \u001B[0mcolumns\u001B[0m \u001B[0;34m=\u001B[0m \u001B[0mdata\u001B[0m\u001B[0;34m[\u001B[0m\u001B[0;36m0\u001B[0m\u001B[0;34m]\u001B[0m\u001B[0;34m.\u001B[0m\u001B[0m_fields\u001B[0m\u001B[0;34m\u001B[0m\u001B[0;34m\u001B[0m\u001B[0m\n\u001B[0;32m--> 570\u001B[0;31m                     \u001B[0marrays\u001B[0m\u001B[0;34m,\u001B[0m \u001B[0mcolumns\u001B[0m \u001B[0;34m=\u001B[0m \u001B[0mto_arrays\u001B[0m\u001B[0;34m(\u001B[0m\u001B[0mdata\u001B[0m\u001B[0;34m,\u001B[0m \u001B[0mcolumns\u001B[0m\u001B[0;34m,\u001B[0m \u001B[0mdtype\u001B[0m\u001B[0;34m=\u001B[0m\u001B[0mdtype\u001B[0m\u001B[0;34m)\u001B[0m\u001B[0;34m\u001B[0m\u001B[0;34m\u001B[0m\u001B[0m\n\u001B[0m\u001B[1;32m    571\u001B[0m                     \u001B[0mcolumns\u001B[0m \u001B[0;34m=\u001B[0m \u001B[0mensure_index\u001B[0m\u001B[0;34m(\u001B[0m\u001B[0mcolumns\u001B[0m\u001B[0;34m)\u001B[0m\u001B[0;34m\u001B[0m\u001B[0;34m\u001B[0m\u001B[0m\n\u001B[1;32m    572\u001B[0m \u001B[0;34m\u001B[0m\u001B[0m\n",
      "\u001B[0;32m~/miniconda3/envs/astro/lib/python3.8/site-packages/pandas/core/internals/construction.py\u001B[0m in \u001B[0;36mto_arrays\u001B[0;34m(data, columns, coerce_float, dtype)\u001B[0m\n\u001B[1;32m    526\u001B[0m         \u001B[0;32mreturn\u001B[0m \u001B[0;34m[\u001B[0m\u001B[0;34m]\u001B[0m\u001B[0;34m,\u001B[0m \u001B[0;34m[\u001B[0m\u001B[0;34m]\u001B[0m  \u001B[0;31m# columns if columns is not None else []\u001B[0m\u001B[0;34m\u001B[0m\u001B[0;34m\u001B[0m\u001B[0m\n\u001B[1;32m    527\u001B[0m     \u001B[0;32mif\u001B[0m \u001B[0misinstance\u001B[0m\u001B[0;34m(\u001B[0m\u001B[0mdata\u001B[0m\u001B[0;34m[\u001B[0m\u001B[0;36m0\u001B[0m\u001B[0;34m]\u001B[0m\u001B[0;34m,\u001B[0m \u001B[0;34m(\u001B[0m\u001B[0mlist\u001B[0m\u001B[0;34m,\u001B[0m \u001B[0mtuple\u001B[0m\u001B[0;34m)\u001B[0m\u001B[0;34m)\u001B[0m\u001B[0;34m:\u001B[0m\u001B[0;34m\u001B[0m\u001B[0;34m\u001B[0m\u001B[0m\n\u001B[0;32m--> 528\u001B[0;31m         \u001B[0;32mreturn\u001B[0m \u001B[0m_list_to_arrays\u001B[0m\u001B[0;34m(\u001B[0m\u001B[0mdata\u001B[0m\u001B[0;34m,\u001B[0m \u001B[0mcolumns\u001B[0m\u001B[0;34m,\u001B[0m \u001B[0mcoerce_float\u001B[0m\u001B[0;34m=\u001B[0m\u001B[0mcoerce_float\u001B[0m\u001B[0;34m,\u001B[0m \u001B[0mdtype\u001B[0m\u001B[0;34m=\u001B[0m\u001B[0mdtype\u001B[0m\u001B[0;34m)\u001B[0m\u001B[0;34m\u001B[0m\u001B[0;34m\u001B[0m\u001B[0m\n\u001B[0m\u001B[1;32m    529\u001B[0m     \u001B[0;32melif\u001B[0m \u001B[0misinstance\u001B[0m\u001B[0;34m(\u001B[0m\u001B[0mdata\u001B[0m\u001B[0;34m[\u001B[0m\u001B[0;36m0\u001B[0m\u001B[0;34m]\u001B[0m\u001B[0;34m,\u001B[0m \u001B[0mabc\u001B[0m\u001B[0;34m.\u001B[0m\u001B[0mMapping\u001B[0m\u001B[0;34m)\u001B[0m\u001B[0;34m:\u001B[0m\u001B[0;34m\u001B[0m\u001B[0;34m\u001B[0m\u001B[0m\n\u001B[1;32m    530\u001B[0m         return _list_of_dict_to_arrays(\n",
      "\u001B[0;32m~/miniconda3/envs/astro/lib/python3.8/site-packages/pandas/core/internals/construction.py\u001B[0m in \u001B[0;36m_list_to_arrays\u001B[0;34m(data, columns, coerce_float, dtype)\u001B[0m\n\u001B[1;32m    569\u001B[0m         \u001B[0mresult\u001B[0m \u001B[0;34m=\u001B[0m \u001B[0m_convert_object_array\u001B[0m\u001B[0;34m(\u001B[0m\u001B[0mcontent\u001B[0m\u001B[0;34m,\u001B[0m \u001B[0mdtype\u001B[0m\u001B[0;34m=\u001B[0m\u001B[0mdtype\u001B[0m\u001B[0;34m,\u001B[0m \u001B[0mcoerce_float\u001B[0m\u001B[0;34m=\u001B[0m\u001B[0mcoerce_float\u001B[0m\u001B[0;34m)\u001B[0m\u001B[0;34m\u001B[0m\u001B[0;34m\u001B[0m\u001B[0m\n\u001B[1;32m    570\u001B[0m     \u001B[0;32mexcept\u001B[0m \u001B[0mAssertionError\u001B[0m \u001B[0;32mas\u001B[0m \u001B[0me\u001B[0m\u001B[0;34m:\u001B[0m\u001B[0;34m\u001B[0m\u001B[0;34m\u001B[0m\u001B[0m\n\u001B[0;32m--> 571\u001B[0;31m         \u001B[0;32mraise\u001B[0m \u001B[0mValueError\u001B[0m\u001B[0;34m(\u001B[0m\u001B[0me\u001B[0m\u001B[0;34m)\u001B[0m \u001B[0;32mfrom\u001B[0m \u001B[0me\u001B[0m\u001B[0;34m\u001B[0m\u001B[0;34m\u001B[0m\u001B[0m\n\u001B[0m\u001B[1;32m    572\u001B[0m     \u001B[0;32mreturn\u001B[0m \u001B[0mresult\u001B[0m\u001B[0;34m,\u001B[0m \u001B[0mcolumns\u001B[0m\u001B[0;34m\u001B[0m\u001B[0;34m\u001B[0m\u001B[0m\n\u001B[1;32m    573\u001B[0m \u001B[0;34m\u001B[0m\u001B[0m\n",
      "\u001B[0;31mValueError\u001B[0m: 17 columns passed, passed data had 18 columns"
     ]
    }
   ],
   "source": [
    "pixel_keys = kitanidis_dict.keys()\n",
    "\n",
    "sys_list = []\n",
    "for key in pixel_keys:\n",
    "    ind_sys_list = kitanidis_dict[key]\n",
    "    ind_sys_list.append(key)\n",
    "    sys_list.append(ind_sys_list)\n",
    "\n",
    "df_sys_kit = pd.DataFrame(sys_list, columns=['airmass_galaxy',\n",
    "'fwhm_galaxy',\n",
    "'ebv_galaxy',\n",
    "'ccdnphotom_galaxy',\n",
    "\n",
    "'ccdskysb_galaxy_g',\n",
    "'ccdskysb_galaxy_r',\n",
    "'ccdskysb_galaxy_z',\n",
    "'exptime_galaxy_g',\n",
    "'exptime_galaxy_r',\n",
    "'exptime_galaxy_z',\n",
    "'meansky_galaxy_g',\n",
    "'meansky_galaxy_r',\n",
    "'meansky_galaxy_z',\n",
    "'galdepth_galaxy_g',\n",
    "'galdepth_galaxy_r',\n",
    "'galdepth_galaxy_z', 'pixel_id'])\n",
    "\n"
   ],
   "metadata": {
    "collapsed": false,
    "pycharm": {
     "name": "#%%\n"
    }
   }
  },
  {
   "cell_type": "code",
   "execution_count": 89,
   "outputs": [
    {
     "data": {
      "text/plain": "   airmass_galaxy  fwhm_galaxy  ebv_galaxy  ccdnphotom_galaxy  \\\n0        1.204206     4.569465    0.021082         273.100211   \n1        1.069105     4.824085    0.010359         148.191320   \n2        1.108757     4.413348    0.011393         154.348513   \n3        1.104669     4.394738    0.011230         153.649709   \n4        1.107077     4.439277    0.014093         150.531232   \n\n   ccdskysb_galaxy_g  ccdskysb_galaxy_r  ccdskysb_galaxy_z  exptime_galaxy_g  \\\n0          23.627050          22.730956          20.206251              90.0   \n1          23.601375          22.732608          20.000021              90.0   \n2          23.602864          22.701580          20.073285              90.0   \n3          23.613133          22.710532          20.111641              90.0   \n4          23.583476          22.647124          20.197871              90.0   \n\n   exptime_galaxy_r  exptime_galaxy_z  meansky_galaxy_g  meansky_galaxy_r  \\\n0              90.0              90.0      2.390975e+08      6.489436e+08   \n1              90.0              90.0      1.803126e+08      2.993781e+08   \n2              90.0              90.0      2.952632e+08      8.687714e+08   \n3              90.0              90.0      2.446651e+08      9.609978e+08   \n4              90.0              90.0      3.645015e+08      6.979010e+08   \n\n   meansky_galaxy_z  galdepth_galaxy_g  galdepth_galaxy_r  galdepth_galaxy_z  \\\n0      2.384546e+09          23.111424          23.139025          22.097923   \n1      2.225294e+10          23.353823          23.320494          21.550398   \n2      1.152634e+10          23.062541          22.892199          21.675296   \n3      8.914973e+09          23.186001          22.788259          21.786543   \n4      9.072512e+09          22.836915          23.042679          21.724951   \n\n   pixel_id  \n0    741107  \n1    662895  \n2    662913  \n3    663905  \n4    652792  ",
      "text/html": "<div>\n<style scoped>\n    .dataframe tbody tr th:only-of-type {\n        vertical-align: middle;\n    }\n\n    .dataframe tbody tr th {\n        vertical-align: top;\n    }\n\n    .dataframe thead th {\n        text-align: right;\n    }\n</style>\n<table border=\"1\" class=\"dataframe\">\n  <thead>\n    <tr style=\"text-align: right;\">\n      <th></th>\n      <th>airmass_galaxy</th>\n      <th>fwhm_galaxy</th>\n      <th>ebv_galaxy</th>\n      <th>ccdnphotom_galaxy</th>\n      <th>ccdskysb_galaxy_g</th>\n      <th>ccdskysb_galaxy_r</th>\n      <th>ccdskysb_galaxy_z</th>\n      <th>exptime_galaxy_g</th>\n      <th>exptime_galaxy_r</th>\n      <th>exptime_galaxy_z</th>\n      <th>meansky_galaxy_g</th>\n      <th>meansky_galaxy_r</th>\n      <th>meansky_galaxy_z</th>\n      <th>galdepth_galaxy_g</th>\n      <th>galdepth_galaxy_r</th>\n      <th>galdepth_galaxy_z</th>\n      <th>pixel_id</th>\n    </tr>\n  </thead>\n  <tbody>\n    <tr>\n      <th>0</th>\n      <td>1.204206</td>\n      <td>4.569465</td>\n      <td>0.021082</td>\n      <td>273.100211</td>\n      <td>23.627050</td>\n      <td>22.730956</td>\n      <td>20.206251</td>\n      <td>90.0</td>\n      <td>90.0</td>\n      <td>90.0</td>\n      <td>2.390975e+08</td>\n      <td>6.489436e+08</td>\n      <td>2.384546e+09</td>\n      <td>23.111424</td>\n      <td>23.139025</td>\n      <td>22.097923</td>\n      <td>741107</td>\n    </tr>\n    <tr>\n      <th>1</th>\n      <td>1.069105</td>\n      <td>4.824085</td>\n      <td>0.010359</td>\n      <td>148.191320</td>\n      <td>23.601375</td>\n      <td>22.732608</td>\n      <td>20.000021</td>\n      <td>90.0</td>\n      <td>90.0</td>\n      <td>90.0</td>\n      <td>1.803126e+08</td>\n      <td>2.993781e+08</td>\n      <td>2.225294e+10</td>\n      <td>23.353823</td>\n      <td>23.320494</td>\n      <td>21.550398</td>\n      <td>662895</td>\n    </tr>\n    <tr>\n      <th>2</th>\n      <td>1.108757</td>\n      <td>4.413348</td>\n      <td>0.011393</td>\n      <td>154.348513</td>\n      <td>23.602864</td>\n      <td>22.701580</td>\n      <td>20.073285</td>\n      <td>90.0</td>\n      <td>90.0</td>\n      <td>90.0</td>\n      <td>2.952632e+08</td>\n      <td>8.687714e+08</td>\n      <td>1.152634e+10</td>\n      <td>23.062541</td>\n      <td>22.892199</td>\n      <td>21.675296</td>\n      <td>662913</td>\n    </tr>\n    <tr>\n      <th>3</th>\n      <td>1.104669</td>\n      <td>4.394738</td>\n      <td>0.011230</td>\n      <td>153.649709</td>\n      <td>23.613133</td>\n      <td>22.710532</td>\n      <td>20.111641</td>\n      <td>90.0</td>\n      <td>90.0</td>\n      <td>90.0</td>\n      <td>2.446651e+08</td>\n      <td>9.609978e+08</td>\n      <td>8.914973e+09</td>\n      <td>23.186001</td>\n      <td>22.788259</td>\n      <td>21.786543</td>\n      <td>663905</td>\n    </tr>\n    <tr>\n      <th>4</th>\n      <td>1.107077</td>\n      <td>4.439277</td>\n      <td>0.014093</td>\n      <td>150.531232</td>\n      <td>23.583476</td>\n      <td>22.647124</td>\n      <td>20.197871</td>\n      <td>90.0</td>\n      <td>90.0</td>\n      <td>90.0</td>\n      <td>3.645015e+08</td>\n      <td>6.979010e+08</td>\n      <td>9.072512e+09</td>\n      <td>22.836915</td>\n      <td>23.042679</td>\n      <td>21.724951</td>\n      <td>652792</td>\n    </tr>\n  </tbody>\n</table>\n</div>"
     },
     "execution_count": 89,
     "metadata": {},
     "output_type": "execute_result"
    }
   ],
   "source": [
    "df_sys_kit.head()"
   ],
   "metadata": {
    "collapsed": false,
    "pycharm": {
     "name": "#%%\n"
    }
   }
  },
  {
   "cell_type": "code",
   "execution_count": 92,
   "outputs": [
    {
     "name": "stdout",
     "output_type": "stream",
     "text": [
      "pixel_id             0\n",
      "lrg_density          0\n",
      "elg_density          0\n",
      "qso_density          0\n",
      "stellar_density      0\n",
      "airmass_galaxy       0\n",
      "fwhm_galaxy          0\n",
      "ebv_galaxy           0\n",
      "ccdnphotom_galaxy    0\n",
      "ccdskysb_galaxy_g    3\n",
      "ccdskysb_galaxy_r    0\n",
      "ccdskysb_galaxy_z    0\n",
      "exptime_galaxy_g     0\n",
      "exptime_galaxy_r     0\n",
      "exptime_galaxy_z     0\n",
      "meansky_galaxy_g     0\n",
      "meansky_galaxy_r     0\n",
      "meansky_galaxy_z     0\n",
      "galdepth_galaxy_g    0\n",
      "galdepth_galaxy_r    0\n",
      "galdepth_galaxy_z    0\n",
      "dtype: int64\n"
     ]
    },
    {
     "data": {
      "text/plain": "   pixel_id  lrg_density  elg_density  qso_density  stellar_density  \\\n0    172191     0.509522     1.180820     0.787620        -0.558135   \n1    174071     0.106983     0.750799     0.191747        -0.558135   \n2    174554     0.106983     0.658651     0.083406        -0.116269   \n3    175644     2.119678     2.317303     1.356409         0.325596   \n4    176036     1.717139     1.887282     1.410579        -0.116269   \n\n   airmass_galaxy  fwhm_galaxy  ebv_galaxy  ccdnphotom_galaxy  \\\n0        1.615369     4.563708    0.027940         617.485215   \n1        1.406610     4.458577    0.018477         367.511248   \n2        2.301381     6.055535    0.131243         459.871429   \n3        2.293624     5.733834    0.078246         302.710029   \n4        1.553945     4.240670    0.013369         380.169409   \n\n   ccdskysb_galaxy_g  ...  ccdskysb_galaxy_z  exptime_galaxy_g  \\\n0          23.461968  ...          19.328887        143.100496   \n1          23.441590  ...          19.497361        128.317445   \n2          23.432264  ...          19.849928        200.000000   \n3          23.362907  ...          19.853787        197.676991   \n4          23.332227  ...          19.843108        154.074110   \n\n   exptime_galaxy_r  exptime_galaxy_z  meansky_galaxy_g  meansky_galaxy_r  \\\n0        139.892237        122.275265          0.199914          0.920791   \n1         87.744524        106.219834          0.213351          0.564238   \n2        124.000000        221.028571          0.126744          0.333307   \n3         82.831858        184.026549          0.133381          0.458713   \n4         88.452018         85.079953          0.223669          0.568713   \n\n   meansky_galaxy_z  galdepth_galaxy_g  galdepth_galaxy_r  galdepth_galaxy_z  \n0          2.869334          23.626332          22.942529          22.215109  \n1          1.995409          23.598964          22.922293          22.342016  \n2          3.754301          24.007800          23.363166          22.229356  \n3          3.285305          23.978089          22.985436          22.300106  \n4          1.837093          23.634297          22.958253          22.356429  \n\n[5 rows x 21 columns]",
      "text/html": "<div>\n<style scoped>\n    .dataframe tbody tr th:only-of-type {\n        vertical-align: middle;\n    }\n\n    .dataframe tbody tr th {\n        vertical-align: top;\n    }\n\n    .dataframe thead th {\n        text-align: right;\n    }\n</style>\n<table border=\"1\" class=\"dataframe\">\n  <thead>\n    <tr style=\"text-align: right;\">\n      <th></th>\n      <th>pixel_id</th>\n      <th>lrg_density</th>\n      <th>elg_density</th>\n      <th>qso_density</th>\n      <th>stellar_density</th>\n      <th>airmass_galaxy</th>\n      <th>fwhm_galaxy</th>\n      <th>ebv_galaxy</th>\n      <th>ccdnphotom_galaxy</th>\n      <th>ccdskysb_galaxy_g</th>\n      <th>...</th>\n      <th>ccdskysb_galaxy_z</th>\n      <th>exptime_galaxy_g</th>\n      <th>exptime_galaxy_r</th>\n      <th>exptime_galaxy_z</th>\n      <th>meansky_galaxy_g</th>\n      <th>meansky_galaxy_r</th>\n      <th>meansky_galaxy_z</th>\n      <th>galdepth_galaxy_g</th>\n      <th>galdepth_galaxy_r</th>\n      <th>galdepth_galaxy_z</th>\n    </tr>\n  </thead>\n  <tbody>\n    <tr>\n      <th>0</th>\n      <td>172191</td>\n      <td>0.509522</td>\n      <td>1.180820</td>\n      <td>0.787620</td>\n      <td>-0.558135</td>\n      <td>1.615369</td>\n      <td>4.563708</td>\n      <td>0.027940</td>\n      <td>617.485215</td>\n      <td>23.461968</td>\n      <td>...</td>\n      <td>19.328887</td>\n      <td>143.100496</td>\n      <td>139.892237</td>\n      <td>122.275265</td>\n      <td>0.199914</td>\n      <td>0.920791</td>\n      <td>2.869334</td>\n      <td>23.626332</td>\n      <td>22.942529</td>\n      <td>22.215109</td>\n    </tr>\n    <tr>\n      <th>1</th>\n      <td>174071</td>\n      <td>0.106983</td>\n      <td>0.750799</td>\n      <td>0.191747</td>\n      <td>-0.558135</td>\n      <td>1.406610</td>\n      <td>4.458577</td>\n      <td>0.018477</td>\n      <td>367.511248</td>\n      <td>23.441590</td>\n      <td>...</td>\n      <td>19.497361</td>\n      <td>128.317445</td>\n      <td>87.744524</td>\n      <td>106.219834</td>\n      <td>0.213351</td>\n      <td>0.564238</td>\n      <td>1.995409</td>\n      <td>23.598964</td>\n      <td>22.922293</td>\n      <td>22.342016</td>\n    </tr>\n    <tr>\n      <th>2</th>\n      <td>174554</td>\n      <td>0.106983</td>\n      <td>0.658651</td>\n      <td>0.083406</td>\n      <td>-0.116269</td>\n      <td>2.301381</td>\n      <td>6.055535</td>\n      <td>0.131243</td>\n      <td>459.871429</td>\n      <td>23.432264</td>\n      <td>...</td>\n      <td>19.849928</td>\n      <td>200.000000</td>\n      <td>124.000000</td>\n      <td>221.028571</td>\n      <td>0.126744</td>\n      <td>0.333307</td>\n      <td>3.754301</td>\n      <td>24.007800</td>\n      <td>23.363166</td>\n      <td>22.229356</td>\n    </tr>\n    <tr>\n      <th>3</th>\n      <td>175644</td>\n      <td>2.119678</td>\n      <td>2.317303</td>\n      <td>1.356409</td>\n      <td>0.325596</td>\n      <td>2.293624</td>\n      <td>5.733834</td>\n      <td>0.078246</td>\n      <td>302.710029</td>\n      <td>23.362907</td>\n      <td>...</td>\n      <td>19.853787</td>\n      <td>197.676991</td>\n      <td>82.831858</td>\n      <td>184.026549</td>\n      <td>0.133381</td>\n      <td>0.458713</td>\n      <td>3.285305</td>\n      <td>23.978089</td>\n      <td>22.985436</td>\n      <td>22.300106</td>\n    </tr>\n    <tr>\n      <th>4</th>\n      <td>176036</td>\n      <td>1.717139</td>\n      <td>1.887282</td>\n      <td>1.410579</td>\n      <td>-0.116269</td>\n      <td>1.553945</td>\n      <td>4.240670</td>\n      <td>0.013369</td>\n      <td>380.169409</td>\n      <td>23.332227</td>\n      <td>...</td>\n      <td>19.843108</td>\n      <td>154.074110</td>\n      <td>88.452018</td>\n      <td>85.079953</td>\n      <td>0.223669</td>\n      <td>0.568713</td>\n      <td>1.837093</td>\n      <td>23.634297</td>\n      <td>22.958253</td>\n      <td>22.356429</td>\n    </tr>\n  </tbody>\n</table>\n<p>5 rows × 21 columns</p>\n</div>"
     },
     "execution_count": 92,
     "metadata": {},
     "output_type": "execute_result"
    }
   ],
   "source": [
    "df_kitanidis = df.merge(df_sys_kit, how='inner', on='pixel_id')\n",
    "print(df_kitanidis.isna().sum())\n",
    "df_kitanidis.dropna(axis=0, inplace=True)\n",
    "\n",
    "df_kitanidis.head()\n"
   ],
   "metadata": {
    "collapsed": false,
    "pycharm": {
     "name": "#%%\n"
    }
   }
  },
  {
   "cell_type": "code",
   "execution_count": 93,
   "outputs": [
    {
     "name": "stdout",
     "output_type": "stream",
     "text": [
      "pixel_id             0\n",
      "lrg_density          0\n",
      "elg_density          0\n",
      "qso_density          0\n",
      "stellar_density      0\n",
      "airmass_galaxy       0\n",
      "fwhm_galaxy          0\n",
      "ebv_galaxy           0\n",
      "ccdnphotom_galaxy    0\n",
      "ccdskysb_galaxy_g    0\n",
      "ccdskysb_galaxy_r    0\n",
      "ccdskysb_galaxy_z    0\n",
      "exptime_galaxy_g     0\n",
      "exptime_galaxy_r     0\n",
      "exptime_galaxy_z     0\n",
      "meansky_galaxy_g     0\n",
      "meansky_galaxy_r     0\n",
      "meansky_galaxy_z     0\n",
      "galdepth_galaxy_g    0\n",
      "galdepth_galaxy_r    0\n",
      "galdepth_galaxy_z    0\n",
      "dtype: int64\n"
     ]
    }
   ],
   "source": [
    "print(df_kitanidis.isna().sum())"
   ],
   "metadata": {
    "collapsed": false,
    "pycharm": {
     "name": "#%%\n"
    }
   }
  },
  {
   "cell_type": "markdown",
   "source": [
    "#### Geometric Systematics Values"
   ],
   "metadata": {
    "collapsed": false,
    "pycharm": {
     "name": "#%% md\n"
    }
   }
  },
  {
   "cell_type": "code",
   "execution_count": 94,
   "outputs": [
    {
     "name": "stdout",
     "output_type": "stream",
     "text": [
      "455672\n"
     ]
    }
   ],
   "source": [
    "with open('../bricks_data/pixel2systematics_geometric.pickle', 'rb') as f:\n",
    "    geometric_dict = pickle.load(f)\n",
    "    f.close()\n",
    "\n",
    "print(len(geometric_dict.keys()))\n"
   ],
   "metadata": {
    "collapsed": false,
    "pycharm": {
     "name": "#%%\n"
    }
   }
  },
  {
   "cell_type": "code",
   "execution_count": 97,
   "outputs": [
    {
     "name": "stdout",
     "output_type": "stream",
     "text": [
      "2002\n"
     ]
    }
   ],
   "source": [
    "# Clear the dict of all pixels where we do not have galaxy density values\n",
    "\n",
    "pixels = df.pixel_id.tolist()\n",
    "pixel_keys = list(geometric_dict.keys())\n",
    "for pix in pixel_keys:\n",
    "    if pix in pixels:\n",
    "        continue\n",
    "    geometric_dict.pop(pix)\n",
    "print(len(geometric_dict.keys()))\n"
   ],
   "metadata": {
    "collapsed": false,
    "pycharm": {
     "name": "#%%\n"
    }
   }
  },
  {
   "cell_type": "code",
   "execution_count": 98,
   "outputs": [],
   "source": [
    "sys_list = []\n",
    "for key in geometric_dict.keys():\n",
    "    ind_sys_list = geometric_dict[key]\n",
    "    ind_sys_list.append(key)\n",
    "    sys_list.append(ind_sys_list)\n",
    "\n",
    "df_sys_geo = pd.DataFrame(sys_list, columns=['airmass_galaxy',\n",
    "'fwhm_galaxy',\n",
    "'ebv_galaxy',\n",
    "'ccdnphotom_galaxy',\n",
    "\n",
    "'ccdskysb_galaxy_g',\n",
    "'ccdskysb_galaxy_r',\n",
    "'ccdskysb_galaxy_z',\n",
    "'exptime_galaxy_g',\n",
    "'exptime_galaxy_r',\n",
    "'exptime_galaxy_z',\n",
    "'meansky_galaxy_g',\n",
    "'meansky_galaxy_r',\n",
    "'meansky_galaxy_z',\n",
    "'galdepth_galaxy_g',\n",
    "'galdepth_galaxy_r',\n",
    "'galdepth_galaxy_z', 'pixel_id'])\n",
    "\n"
   ],
   "metadata": {
    "collapsed": false,
    "pycharm": {
     "name": "#%%\n"
    }
   }
  },
  {
   "cell_type": "code",
   "execution_count": 100,
   "outputs": [
    {
     "data": {
      "text/plain": "   airmass_galaxy  fwhm_galaxy  ebv_galaxy  ccdnphotom_galaxy  \\\n0        1.204914     4.487709    0.021031         263.930656   \n1        1.068818     4.836110    0.010475         148.159223   \n2        1.075285     4.707209    0.009762         140.153964   \n3        1.182497     4.657945    0.009392         128.780124   \n4        1.102870     4.578874    0.015086         132.655989   \n\n   ccdskysb_galaxy_g  ccdskysb_galaxy_r  ccdskysb_galaxy_z  exptime_galaxy_g  \\\n0           0.369211           0.355531           0.312636           1.40625   \n1           0.369262           0.355497           0.312262           1.40625   \n2           0.369132           0.355331           0.312593           1.40625   \n3           0.369063           0.353477           0.314093           1.40625   \n4           0.368482           0.354034           0.316766           1.40625   \n\n   exptime_galaxy_r  exptime_galaxy_z  meansky_galaxy_g  meansky_galaxy_r  \\\n0           1.40625           1.40625      2.882011e+06      8.985916e+06   \n1           1.40625           1.40625      1.933899e+06      3.522100e+06   \n2           1.40625           1.40625      2.392615e+06      6.166106e+06   \n3           1.40625           1.40625      9.302651e+05      1.120082e+07   \n4           1.40625           1.40625      5.450756e+06      1.090426e+07   \n\n   meansky_galaxy_z  galdepth_galaxy_g  galdepth_galaxy_r  galdepth_galaxy_z  \\\n0      1.687051e+08           0.362452           0.362690           0.338896   \n1      3.096106e+08           0.368000           0.365229           0.336382   \n2      3.290776e+08           0.364940           0.362549           0.335756   \n3      1.377514e+08           0.367557           0.362241           0.337711   \n4      1.230249e+08           0.355768           0.359193           0.338312   \n\n   pixel_id  \n0    741107  \n1    662895  \n2    663887  \n3    647690  \n4    653815  ",
      "text/html": "<div>\n<style scoped>\n    .dataframe tbody tr th:only-of-type {\n        vertical-align: middle;\n    }\n\n    .dataframe tbody tr th {\n        vertical-align: top;\n    }\n\n    .dataframe thead th {\n        text-align: right;\n    }\n</style>\n<table border=\"1\" class=\"dataframe\">\n  <thead>\n    <tr style=\"text-align: right;\">\n      <th></th>\n      <th>airmass_galaxy</th>\n      <th>fwhm_galaxy</th>\n      <th>ebv_galaxy</th>\n      <th>ccdnphotom_galaxy</th>\n      <th>ccdskysb_galaxy_g</th>\n      <th>ccdskysb_galaxy_r</th>\n      <th>ccdskysb_galaxy_z</th>\n      <th>exptime_galaxy_g</th>\n      <th>exptime_galaxy_r</th>\n      <th>exptime_galaxy_z</th>\n      <th>meansky_galaxy_g</th>\n      <th>meansky_galaxy_r</th>\n      <th>meansky_galaxy_z</th>\n      <th>galdepth_galaxy_g</th>\n      <th>galdepth_galaxy_r</th>\n      <th>galdepth_galaxy_z</th>\n      <th>pixel_id</th>\n    </tr>\n  </thead>\n  <tbody>\n    <tr>\n      <th>0</th>\n      <td>1.204914</td>\n      <td>4.487709</td>\n      <td>0.021031</td>\n      <td>263.930656</td>\n      <td>0.369211</td>\n      <td>0.355531</td>\n      <td>0.312636</td>\n      <td>1.40625</td>\n      <td>1.40625</td>\n      <td>1.40625</td>\n      <td>2.882011e+06</td>\n      <td>8.985916e+06</td>\n      <td>1.687051e+08</td>\n      <td>0.362452</td>\n      <td>0.362690</td>\n      <td>0.338896</td>\n      <td>741107</td>\n    </tr>\n    <tr>\n      <th>1</th>\n      <td>1.068818</td>\n      <td>4.836110</td>\n      <td>0.010475</td>\n      <td>148.159223</td>\n      <td>0.369262</td>\n      <td>0.355497</td>\n      <td>0.312262</td>\n      <td>1.40625</td>\n      <td>1.40625</td>\n      <td>1.40625</td>\n      <td>1.933899e+06</td>\n      <td>3.522100e+06</td>\n      <td>3.096106e+08</td>\n      <td>0.368000</td>\n      <td>0.365229</td>\n      <td>0.336382</td>\n      <td>662895</td>\n    </tr>\n    <tr>\n      <th>2</th>\n      <td>1.075285</td>\n      <td>4.707209</td>\n      <td>0.009762</td>\n      <td>140.153964</td>\n      <td>0.369132</td>\n      <td>0.355331</td>\n      <td>0.312593</td>\n      <td>1.40625</td>\n      <td>1.40625</td>\n      <td>1.40625</td>\n      <td>2.392615e+06</td>\n      <td>6.166106e+06</td>\n      <td>3.290776e+08</td>\n      <td>0.364940</td>\n      <td>0.362549</td>\n      <td>0.335756</td>\n      <td>663887</td>\n    </tr>\n    <tr>\n      <th>3</th>\n      <td>1.182497</td>\n      <td>4.657945</td>\n      <td>0.009392</td>\n      <td>128.780124</td>\n      <td>0.369063</td>\n      <td>0.353477</td>\n      <td>0.314093</td>\n      <td>1.40625</td>\n      <td>1.40625</td>\n      <td>1.40625</td>\n      <td>9.302651e+05</td>\n      <td>1.120082e+07</td>\n      <td>1.377514e+08</td>\n      <td>0.367557</td>\n      <td>0.362241</td>\n      <td>0.337711</td>\n      <td>647690</td>\n    </tr>\n    <tr>\n      <th>4</th>\n      <td>1.102870</td>\n      <td>4.578874</td>\n      <td>0.015086</td>\n      <td>132.655989</td>\n      <td>0.368482</td>\n      <td>0.354034</td>\n      <td>0.316766</td>\n      <td>1.40625</td>\n      <td>1.40625</td>\n      <td>1.40625</td>\n      <td>5.450756e+06</td>\n      <td>1.090426e+07</td>\n      <td>1.230249e+08</td>\n      <td>0.355768</td>\n      <td>0.359193</td>\n      <td>0.338312</td>\n      <td>653815</td>\n    </tr>\n  </tbody>\n</table>\n</div>"
     },
     "execution_count": 100,
     "metadata": {},
     "output_type": "execute_result"
    }
   ],
   "source": [
    "df_sys_geo.head()"
   ],
   "metadata": {
    "collapsed": false,
    "pycharm": {
     "name": "#%%\n"
    }
   }
  },
  {
   "cell_type": "code",
   "execution_count": 101,
   "outputs": [
    {
     "name": "stdout",
     "output_type": "stream",
     "text": [
      "pixel_id             0\n",
      "lrg_density          0\n",
      "elg_density          0\n",
      "qso_density          0\n",
      "stellar_density      0\n",
      "airmass_galaxy       0\n",
      "fwhm_galaxy          0\n",
      "ebv_galaxy           0\n",
      "ccdnphotom_galaxy    0\n",
      "ccdskysb_galaxy_g    0\n",
      "ccdskysb_galaxy_r    0\n",
      "ccdskysb_galaxy_z    0\n",
      "exptime_galaxy_g     0\n",
      "exptime_galaxy_r     0\n",
      "exptime_galaxy_z     0\n",
      "meansky_galaxy_g     0\n",
      "meansky_galaxy_r     0\n",
      "meansky_galaxy_z     0\n",
      "galdepth_galaxy_g    0\n",
      "galdepth_galaxy_r    0\n",
      "galdepth_galaxy_z    0\n",
      "dtype: int64\n"
     ]
    },
    {
     "data": {
      "text/plain": "   pixel_id  lrg_density  elg_density  qso_density  stellar_density  \\\n0    166098     0.308252     0.075052     0.056321         0.325596   \n1    167123     0.408887    -0.416400     0.110491        -0.116269   \n2    171167    -0.496826     0.412925    -0.024934        -0.558135   \n3    172190    -0.496826    -0.293537    -0.133275        -0.116269   \n4    172191     0.509522     1.180820     0.787620        -0.558135   \n\n   airmass_galaxy  fwhm_galaxy  ebv_galaxy  ccdnphotom_galaxy  \\\n0        1.220610     3.898208    0.016500        1550.658093   \n1        1.219311     3.862342    0.016510        1587.507883   \n2        1.655938     4.672048    0.028977         579.146330   \n3        1.658746     4.609840    0.028156         577.106054   \n4        1.657476     4.666779    0.028076         585.977177   \n\n   ccdskysb_galaxy_g  ...  ccdskysb_galaxy_z  exptime_galaxy_g  \\\n0           0.364892  ...           0.301166          1.515938   \n1           0.364887  ...           0.301310          1.515938   \n2           0.366651  ...           0.302868          2.300308   \n3           0.366584  ...           0.304636          2.370826   \n4           0.366563  ...           0.303110          2.371346   \n\n   exptime_galaxy_r  exptime_galaxy_z  meansky_galaxy_g  meansky_galaxy_r  \\\n0          1.309821          1.509230          0.003598          0.011705   \n1          1.309821          1.427000          0.003594          0.011709   \n2          2.244602          1.939581          0.003221          0.015671   \n3          2.023661          1.915658          0.002980          0.016154   \n4          2.025000          1.950375          0.002980          0.012420   \n\n   meansky_galaxy_z  galdepth_galaxy_g  galdepth_galaxy_r  galdepth_galaxy_z  \n0          0.032974           0.366218           0.355911           0.348341  \n1          0.036043           0.366503           0.356100           0.346743  \n2          0.079584           0.368576           0.358520           0.344488  \n3          0.094865           0.369514           0.357950           0.342820  \n4          0.047528           0.369459           0.358867           0.346243  \n\n[5 rows x 21 columns]",
      "text/html": "<div>\n<style scoped>\n    .dataframe tbody tr th:only-of-type {\n        vertical-align: middle;\n    }\n\n    .dataframe tbody tr th {\n        vertical-align: top;\n    }\n\n    .dataframe thead th {\n        text-align: right;\n    }\n</style>\n<table border=\"1\" class=\"dataframe\">\n  <thead>\n    <tr style=\"text-align: right;\">\n      <th></th>\n      <th>pixel_id</th>\n      <th>lrg_density</th>\n      <th>elg_density</th>\n      <th>qso_density</th>\n      <th>stellar_density</th>\n      <th>airmass_galaxy</th>\n      <th>fwhm_galaxy</th>\n      <th>ebv_galaxy</th>\n      <th>ccdnphotom_galaxy</th>\n      <th>ccdskysb_galaxy_g</th>\n      <th>...</th>\n      <th>ccdskysb_galaxy_z</th>\n      <th>exptime_galaxy_g</th>\n      <th>exptime_galaxy_r</th>\n      <th>exptime_galaxy_z</th>\n      <th>meansky_galaxy_g</th>\n      <th>meansky_galaxy_r</th>\n      <th>meansky_galaxy_z</th>\n      <th>galdepth_galaxy_g</th>\n      <th>galdepth_galaxy_r</th>\n      <th>galdepth_galaxy_z</th>\n    </tr>\n  </thead>\n  <tbody>\n    <tr>\n      <th>0</th>\n      <td>166098</td>\n      <td>0.308252</td>\n      <td>0.075052</td>\n      <td>0.056321</td>\n      <td>0.325596</td>\n      <td>1.220610</td>\n      <td>3.898208</td>\n      <td>0.016500</td>\n      <td>1550.658093</td>\n      <td>0.364892</td>\n      <td>...</td>\n      <td>0.301166</td>\n      <td>1.515938</td>\n      <td>1.309821</td>\n      <td>1.509230</td>\n      <td>0.003598</td>\n      <td>0.011705</td>\n      <td>0.032974</td>\n      <td>0.366218</td>\n      <td>0.355911</td>\n      <td>0.348341</td>\n    </tr>\n    <tr>\n      <th>1</th>\n      <td>167123</td>\n      <td>0.408887</td>\n      <td>-0.416400</td>\n      <td>0.110491</td>\n      <td>-0.116269</td>\n      <td>1.219311</td>\n      <td>3.862342</td>\n      <td>0.016510</td>\n      <td>1587.507883</td>\n      <td>0.364887</td>\n      <td>...</td>\n      <td>0.301310</td>\n      <td>1.515938</td>\n      <td>1.309821</td>\n      <td>1.427000</td>\n      <td>0.003594</td>\n      <td>0.011709</td>\n      <td>0.036043</td>\n      <td>0.366503</td>\n      <td>0.356100</td>\n      <td>0.346743</td>\n    </tr>\n    <tr>\n      <th>2</th>\n      <td>171167</td>\n      <td>-0.496826</td>\n      <td>0.412925</td>\n      <td>-0.024934</td>\n      <td>-0.558135</td>\n      <td>1.655938</td>\n      <td>4.672048</td>\n      <td>0.028977</td>\n      <td>579.146330</td>\n      <td>0.366651</td>\n      <td>...</td>\n      <td>0.302868</td>\n      <td>2.300308</td>\n      <td>2.244602</td>\n      <td>1.939581</td>\n      <td>0.003221</td>\n      <td>0.015671</td>\n      <td>0.079584</td>\n      <td>0.368576</td>\n      <td>0.358520</td>\n      <td>0.344488</td>\n    </tr>\n    <tr>\n      <th>3</th>\n      <td>172190</td>\n      <td>-0.496826</td>\n      <td>-0.293537</td>\n      <td>-0.133275</td>\n      <td>-0.116269</td>\n      <td>1.658746</td>\n      <td>4.609840</td>\n      <td>0.028156</td>\n      <td>577.106054</td>\n      <td>0.366584</td>\n      <td>...</td>\n      <td>0.304636</td>\n      <td>2.370826</td>\n      <td>2.023661</td>\n      <td>1.915658</td>\n      <td>0.002980</td>\n      <td>0.016154</td>\n      <td>0.094865</td>\n      <td>0.369514</td>\n      <td>0.357950</td>\n      <td>0.342820</td>\n    </tr>\n    <tr>\n      <th>4</th>\n      <td>172191</td>\n      <td>0.509522</td>\n      <td>1.180820</td>\n      <td>0.787620</td>\n      <td>-0.558135</td>\n      <td>1.657476</td>\n      <td>4.666779</td>\n      <td>0.028076</td>\n      <td>585.977177</td>\n      <td>0.366563</td>\n      <td>...</td>\n      <td>0.303110</td>\n      <td>2.371346</td>\n      <td>2.025000</td>\n      <td>1.950375</td>\n      <td>0.002980</td>\n      <td>0.012420</td>\n      <td>0.047528</td>\n      <td>0.369459</td>\n      <td>0.358867</td>\n      <td>0.346243</td>\n    </tr>\n  </tbody>\n</table>\n<p>5 rows × 21 columns</p>\n</div>"
     },
     "execution_count": 101,
     "metadata": {},
     "output_type": "execute_result"
    }
   ],
   "source": [
    "df_geometric = df.merge(df_sys_geo, how='inner', on='pixel_id')\n",
    "print(df_geometric.isna().sum())"
   ],
   "metadata": {
    "collapsed": false,
    "pycharm": {
     "name": "#%%\n"
    }
   }
  },
  {
   "cell_type": "code",
   "execution_count": 103,
   "outputs": [
    {
     "name": "stdout",
     "output_type": "stream",
     "text": [
      "(1151, 21)\n",
      "(2002, 21)\n"
     ]
    }
   ],
   "source": [
    "print(df_kitanidis.shape)\n",
    "print(df_geometric.shape)\n"
   ],
   "metadata": {
    "collapsed": false,
    "pycharm": {
     "name": "#%%\n"
    }
   }
  },
  {
   "cell_type": "code",
   "execution_count": null,
   "outputs": [],
   "source": [],
   "metadata": {
    "collapsed": false,
    "pycharm": {
     "name": "#%%\n"
    }
   }
  }
 ],
 "metadata": {
  "kernelspec": {
   "display_name": "Python 3",
   "language": "python",
   "name": "python3"
  },
  "language_info": {
   "codemirror_mode": {
    "name": "ipython",
    "version": 2
   },
   "file_extension": ".py",
   "mimetype": "text/x-python",
   "name": "python",
   "nbconvert_exporter": "python",
   "pygments_lexer": "ipython2",
   "version": "2.7.6"
  }
 },
 "nbformat": 4,
 "nbformat_minor": 0
}