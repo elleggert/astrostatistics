{
 "cells": [
  {
   "cell_type": "markdown",
   "metadata": {
    "collapsed": true,
    "pycharm": {
     "name": "#%% md\n"
    }
   },
   "source": [
    "### Attempting to run regressions from systematics values extracted geometrically or from Kitanidis et al on galaxy density\n"
   ]
  },
  {
   "cell_type": "code",
   "execution_count": 1,
   "outputs": [],
   "source": [
    "import pandas as pd\n",
    "import numpy as np\n",
    "import pickle\n",
    "import healpy as hp"
   ],
   "metadata": {
    "collapsed": false,
    "pycharm": {
     "name": "#%%\n"
    }
   }
  },
  {
   "cell_type": "code",
   "source": [
    "### Setting Healpy Information\n",
    "NSIDE = 256\n",
    "NPIX = hp.nside2npix(NSIDE)\n",
    "print(\n",
    "    \"Approximate resolution at NSIDE {} is {:.2} deg\".format(\n",
    "        NSIDE, hp.nside2resol(NSIDE, arcmin=True) / 60\n",
    "    )\n",
    ")\n",
    "\n",
    "def raDec2thetaPhi(ra, dec):\n",
    "    return (0.5 * np.pi - np.deg2rad(dec)), (np.deg2rad(ra))\n"
   ],
   "metadata": {
    "collapsed": false,
    "pycharm": {
     "name": "#%%\n"
    }
   },
   "execution_count": 2,
   "outputs": [
    {
     "name": "stdout",
     "output_type": "stream",
     "text": [
      "Approximate resolution at NSIDE 256 is 0.23 deg\n"
     ]
    }
   ]
  },
  {
   "cell_type": "markdown",
   "source": [
    "### Importing Galaxy Density Information"
   ],
   "metadata": {
    "collapsed": false,
    "pycharm": {
     "name": "#%% md\n"
    }
   }
  },
  {
   "cell_type": "code",
   "execution_count": 3,
   "outputs": [],
   "source": [
    "df_objects = pd.read_csv('../bricks_data/galaxy_catalogue_sample.csv')\n"
   ],
   "metadata": {
    "collapsed": false,
    "pycharm": {
     "name": "#%%\n"
    }
   }
  },
  {
   "cell_type": "code",
   "execution_count": 4,
   "outputs": [
    {
     "data": {
      "text/plain": "   BrickID  ObjectID          RA        DEC  South  Target_type\n0   389675        10  133.284363  10.315927   True            3\n1   389675        11  133.284832  10.314327   True            2\n2   389675        15  133.285109  10.294865   True            3\n3   389675        21  133.285731  10.319199   True            3\n4   389675        35  133.286350  10.168023   True            2",
      "text/html": "<div>\n<style scoped>\n    .dataframe tbody tr th:only-of-type {\n        vertical-align: middle;\n    }\n\n    .dataframe tbody tr th {\n        vertical-align: top;\n    }\n\n    .dataframe thead th {\n        text-align: right;\n    }\n</style>\n<table border=\"1\" class=\"dataframe\">\n  <thead>\n    <tr style=\"text-align: right;\">\n      <th></th>\n      <th>BrickID</th>\n      <th>ObjectID</th>\n      <th>RA</th>\n      <th>DEC</th>\n      <th>South</th>\n      <th>Target_type</th>\n    </tr>\n  </thead>\n  <tbody>\n    <tr>\n      <th>0</th>\n      <td>389675</td>\n      <td>10</td>\n      <td>133.284363</td>\n      <td>10.315927</td>\n      <td>True</td>\n      <td>3</td>\n    </tr>\n    <tr>\n      <th>1</th>\n      <td>389675</td>\n      <td>11</td>\n      <td>133.284832</td>\n      <td>10.314327</td>\n      <td>True</td>\n      <td>2</td>\n    </tr>\n    <tr>\n      <th>2</th>\n      <td>389675</td>\n      <td>15</td>\n      <td>133.285109</td>\n      <td>10.294865</td>\n      <td>True</td>\n      <td>3</td>\n    </tr>\n    <tr>\n      <th>3</th>\n      <td>389675</td>\n      <td>21</td>\n      <td>133.285731</td>\n      <td>10.319199</td>\n      <td>True</td>\n      <td>3</td>\n    </tr>\n    <tr>\n      <th>4</th>\n      <td>389675</td>\n      <td>35</td>\n      <td>133.286350</td>\n      <td>10.168023</td>\n      <td>True</td>\n      <td>2</td>\n    </tr>\n  </tbody>\n</table>\n</div>"
     },
     "execution_count": 4,
     "metadata": {},
     "output_type": "execute_result"
    }
   ],
   "source": [
    "df_objects.head()"
   ],
   "metadata": {
    "collapsed": false,
    "pycharm": {
     "name": "#%%\n"
    }
   }
  },
  {
   "cell_type": "code",
   "execution_count": 5,
   "outputs": [
    {
     "name": "stdout",
     "output_type": "stream",
     "text": [
      "Number of LRGs in Sample: 41904\n",
      "[166098 167122 167123 ... 756988 756989 757472]\n",
      "Mean LRGs per Pixel: 9.93692198245198\n",
      "[[ 1.66098000e+05  3.08252195e-01]\n",
      " [ 1.67122000e+05 -8.99365216e-01]\n",
      " [ 1.67123000e+05  4.08886980e-01]\n",
      " ...\n",
      " [ 7.56988000e+05 -8.99365216e-01]\n",
      " [ 7.56989000e+05  1.61650439e+00]\n",
      " [ 7.57472000e+05 -4.96826079e-01]]\n"
     ]
    },
    {
     "data": {
      "text/plain": "   pixel_id  lrg_density\n0    166098     0.308252\n1    167122    -0.899365\n2    167123     0.408887\n3    171167    -0.496826\n4    172190    -0.496826",
      "text/html": "<div>\n<style scoped>\n    .dataframe tbody tr th:only-of-type {\n        vertical-align: middle;\n    }\n\n    .dataframe tbody tr th {\n        vertical-align: top;\n    }\n\n    .dataframe thead th {\n        text-align: right;\n    }\n</style>\n<table border=\"1\" class=\"dataframe\">\n  <thead>\n    <tr style=\"text-align: right;\">\n      <th></th>\n      <th>pixel_id</th>\n      <th>lrg_density</th>\n    </tr>\n  </thead>\n  <tbody>\n    <tr>\n      <th>0</th>\n      <td>166098</td>\n      <td>0.308252</td>\n    </tr>\n    <tr>\n      <th>1</th>\n      <td>167122</td>\n      <td>-0.899365</td>\n    </tr>\n    <tr>\n      <th>2</th>\n      <td>167123</td>\n      <td>0.408887</td>\n    </tr>\n    <tr>\n      <th>3</th>\n      <td>171167</td>\n      <td>-0.496826</td>\n    </tr>\n    <tr>\n      <th>4</th>\n      <td>172190</td>\n      <td>-0.496826</td>\n    </tr>\n  </tbody>\n</table>\n</div>"
     },
     "execution_count": 5,
     "metadata": {},
     "output_type": "execute_result"
    }
   ],
   "source": [
    "# LRG\n",
    "\n",
    "df_LRG = df_objects[df_objects[\"Target_type\"] == 1]\n",
    "ra_LRG = df_LRG[\"RA\"].to_numpy(copy=True)\n",
    "dec_LRG = df_LRG[\"DEC\"].to_numpy(copy=True)\n",
    "theta, phi = raDec2thetaPhi(ra_LRG, dec_LRG)\n",
    "\n",
    "print(\"Number of LRGs in Sample:\", len(ra_LRG))\n",
    "\n",
    "LRG_pixel_indices = hp.ang2pix(NSIDE, theta,phi)\n",
    "\n",
    "\n",
    "# Finding out unique indices and how often they appear --> shows the density of LRGs in this pixel\n",
    "(unique, counts) = np.unique(LRG_pixel_indices, return_counts=True)\n",
    "\n",
    "print(unique)\n",
    "\n",
    "mean_LRG = counts.mean()\n",
    "print(\"Mean LRGs per Pixel:\", mean_LRG)\n",
    "# Calculating Densities for every block\n",
    "density_LRG = (counts / mean_LRG) - 1\n",
    "id_density = np.stack((unique, density_LRG), axis=1)\n",
    "print(id_density)\n",
    "df_lrg = pd.DataFrame(id_density, columns=['pixel_id', 'lrg_density'])\n",
    "df_lrg.pixel_id = df_lrg.pixel_id.astype(int)\n",
    "df_lrg.head()"
   ],
   "metadata": {
    "collapsed": false,
    "pycharm": {
     "name": "#%%\n"
    }
   }
  },
  {
   "cell_type": "code",
   "execution_count": 6,
   "outputs": [
    {
     "name": "stdout",
     "output_type": "stream",
     "text": [
      "Number of ELGs in Sample: 157118\n",
      "[166098 167122 167123 ... 756502 756989 757472]\n",
      "Mean ELGs per Pixel: 32.556568586821385\n",
      "[[ 1.66098000e+05  7.50518718e-02]\n",
      " [ 1.67122000e+05 -9.07852697e-01]\n",
      " [ 1.67123000e+05 -4.16400412e-01]\n",
      " ...\n",
      " [ 7.56502000e+05 -5.69979251e-01]\n",
      " [ 7.56989000e+05  4.34454359e+00]\n",
      " [ 7.57472000e+05  1.36203363e-02]]\n",
      "   pixel_id  elg_density\n",
      "0    166098     0.075052\n",
      "1    167122    -0.907853\n",
      "2    167123    -0.416400\n",
      "3    171167     0.412925\n",
      "4    172190    -0.293537\n"
     ]
    }
   ],
   "source": [
    "# LRG\n",
    "\n",
    "df_ELG = df_objects[df_objects[\"Target_type\"] == 2]\n",
    "ra_ELG = df_ELG[\"RA\"].to_numpy(copy=True)\n",
    "dec_ELG = df_ELG[\"DEC\"].to_numpy(copy=True)\n",
    "theta, phi = raDec2thetaPhi(ra_ELG, dec_ELG)\n",
    "\n",
    "print(\"Number of ELGs in Sample:\", len(ra_ELG))\n",
    "\n",
    "ELG_pixel_indices = hp.ang2pix(NSIDE, theta,phi)\n",
    "\n",
    "\n",
    "# Finding out unique indices and how often they appear --> shows the density of LRGs in this pixel\n",
    "(unique, counts) = np.unique(ELG_pixel_indices, return_counts=True)\n",
    "\n",
    "print(unique)\n",
    "\n",
    "mean_ELG = counts.mean()\n",
    "print(\"Mean ELGs per Pixel:\", mean_ELG)\n",
    "# Calculating Densities for every block\n",
    "density_ELG = (counts / mean_ELG) - 1\n",
    "id_density = np.stack((unique, density_ELG), axis=1)\n",
    "print(id_density)\n",
    "df_elg = pd.DataFrame(id_density, columns=['pixel_id', 'elg_density'])\n",
    "df_elg.pixel_id = df_elg.pixel_id.astype(int)\n",
    "\n",
    "print(df_elg.head())"
   ],
   "metadata": {
    "collapsed": false,
    "pycharm": {
     "name": "#%%\n"
    }
   }
  },
  {
   "cell_type": "code",
   "execution_count": 7,
   "outputs": [
    {
     "name": "stdout",
     "output_type": "stream",
     "text": [
      "Number of QSOs in Sample: 180394\n",
      "[166098 167122 167123 ... 756502 756989 757472]\n",
      "Mean QSOs per Pixel: 36.92058943921408\n",
      "[[ 1.66098000e+05  5.63211637e-02]\n",
      " [ 1.67122000e+05 -8.10403894e-01]\n",
      " [ 1.67123000e+05  1.10491480e-01]\n",
      " ...\n",
      " [ 7.56502000e+05 -8.64574210e-01]\n",
      " [ 7.56989000e+05  2.60232602e+00]\n",
      " [ 7.57472000e+05 -1.60360101e-01]]\n",
      "   pixel_id  qso_density\n",
      "0    166098     0.056321\n",
      "1    167122    -0.810404\n",
      "2    167123     0.110491\n",
      "3    171167    -0.024934\n",
      "4    172190    -0.133275\n"
     ]
    }
   ],
   "source": [
    "df_QSO = df_objects[df_objects[\"Target_type\"] == 3]\n",
    "ra_QSO = df_QSO[\"RA\"].to_numpy(copy=True)\n",
    "dec_QSO = df_QSO[\"DEC\"].to_numpy(copy=True)\n",
    "theta, phi = raDec2thetaPhi(ra_QSO, dec_QSO)\n",
    "\n",
    "print(\"Number of QSOs in Sample:\", len(ra_QSO))\n",
    "\n",
    "QSO_pixel_indices = hp.ang2pix(NSIDE, theta,phi)\n",
    "\n",
    "\n",
    "# Finding out unique indices and how often they appear --> shows the density of LRGs in this pixel\n",
    "(unique, counts) = np.unique(QSO_pixel_indices, return_counts=True)\n",
    "\n",
    "print(unique)\n",
    "\n",
    "mean_QSO = counts.mean()\n",
    "print(\"Mean QSOs per Pixel:\", mean_QSO)\n",
    "# Calculating Densities for every block\n",
    "density_QSO = (counts / mean_QSO) - 1\n",
    "id_density = np.stack((unique, density_QSO), axis=1)\n",
    "print(id_density)\n",
    "df_qso = pd.DataFrame(id_density, columns=['pixel_id', 'qso_density'])\n",
    "df_qso.pixel_id = df_qso.pixel_id.astype(int)\n",
    "\n",
    "print(df_qso.head())"
   ],
   "metadata": {
    "collapsed": false,
    "pycharm": {
     "name": "#%%\n"
    }
   }
  },
  {
   "cell_type": "code",
   "execution_count": 8,
   "outputs": [
    {
     "name": "stdout",
     "output_type": "stream",
     "text": [
      "pixel_id         0\n",
      "lrg_density    860\n",
      "elg_density    251\n",
      "qso_density    191\n",
      "dtype: int64\n",
      "(4217, 2) (4826, 2) (4886, 2) (5077, 4)\n"
     ]
    }
   ],
   "source": [
    "df = pd.merge(df_lrg, df_elg, how='outer', on='pixel_id')\n",
    "df = pd.merge(df, df_qso, how='outer', on='pixel_id')\n",
    "print(df.isna().sum())\n",
    "print(df_lrg.shape, df_elg.shape, df_qso.shape, df.shape)"
   ],
   "metadata": {
    "collapsed": false,
    "pycharm": {
     "name": "#%%\n"
    }
   }
  },
  {
   "cell_type": "code",
   "execution_count": 9,
   "outputs": [
    {
     "name": "stdout",
     "output_type": "stream",
     "text": [
      "pixel_id       0\n",
      "lrg_density    0\n",
      "elg_density    0\n",
      "qso_density    0\n",
      "dtype: int64\n"
     ]
    }
   ],
   "source": [
    "# Dropping all pixels where I do not have densities for all 3 types of galaxies\n",
    "df.dropna(axis=0, inplace=True)\n",
    "print(df.isna().sum())"
   ],
   "metadata": {
    "collapsed": false,
    "pycharm": {
     "name": "#%%\n"
    }
   }
  },
  {
   "cell_type": "markdown",
   "source": [
    "### Importing the Systematics Values and Appending them to the df.\n"
   ],
   "metadata": {
    "collapsed": false,
    "pycharm": {
     "name": "#%% md\n"
    }
   },
   "execution_count": 51
  },
  {
   "cell_type": "markdown",
   "source": [
    "#### Stellar Density"
   ],
   "metadata": {
    "collapsed": false,
    "pycharm": {
     "name": "#%% md\n"
    }
   },
   "execution_count": 52
  },
  {
   "cell_type": "code",
   "execution_count": 10,
   "outputs": [
    {
     "name": "stdout",
     "output_type": "stream",
     "text": [
      "Number of stellars in Sample: 38979\n",
      "[166098 167123 171167 ... 756502 756989 757472]\n",
      "Mean stellars per Pixel: 9.718025430067314\n",
      "[[ 1.66098000e+05 -6.91295313e-01]\n",
      " [ 1.67123000e+05  1.31917186e-01]\n",
      " [ 1.71167000e+05 -4.85492188e-01]\n",
      " ...\n",
      " [ 7.56502000e+05 -7.94196875e-01]\n",
      " [ 7.56989000e+05  2.18994843e+00]\n",
      " [ 7.57472000e+05 -5.88393750e-01]]\n",
      "   pixel_id  stellar_density\n",
      "0    166098        -0.691295\n",
      "1    167123         0.131917\n",
      "2    171167        -0.485492\n",
      "3    172190        -0.794197\n",
      "4    172191        -0.279689\n",
      "pixel_id           0\n",
      "stellar_density    0\n",
      "dtype: int64\n"
     ]
    }
   ],
   "source": [
    "df_Stellar = pd.read_csv('../bricks_data/galaxy_catalogue_stellar.csv')\n",
    "ra_stellar = df_Stellar[\"RA\"].to_numpy(copy=True)\n",
    "dec_stellar = df_Stellar[\"DEC\"].to_numpy(copy=True)\n",
    "theta, phi = raDec2thetaPhi(ra_stellar, dec_stellar)\n",
    "\n",
    "print(\"Number of stellars in Sample:\", len(ra_stellar))\n",
    "\n",
    "stellar_pixel_indices = hp.ang2pix(NSIDE, theta,phi)\n",
    "\n",
    "\n",
    "# Finding out unique indices and how often they appear --> shows the density of LRGs in this pixel\n",
    "(unique, counts) = np.unique(stellar_pixel_indices, return_counts=True)\n",
    "\n",
    "print(unique)\n",
    "\n",
    "mean_stellar = counts.mean()\n",
    "print(\"Mean stellars per Pixel:\", mean_stellar)\n",
    "# Calculating Densities for every block\n",
    "density_stellar = (counts / mean_stellar) - 1\n",
    "id_density = np.stack((unique, density_stellar), axis=1)\n",
    "print(id_density)\n",
    "df_stellar = pd.DataFrame(id_density, columns=['pixel_id', 'stellar_density'])\n",
    "df_stellar.pixel_id = df_stellar.pixel_id.astype(int)\n",
    "\n",
    "print(df_stellar.head())\n",
    "\n",
    "print(df_stellar.isna().sum())"
   ],
   "metadata": {
    "collapsed": false,
    "pycharm": {
     "name": "#%%\n"
    }
   }
  },
  {
   "cell_type": "code",
   "execution_count": 11,
   "outputs": [
    {
     "name": "stdout",
     "output_type": "stream",
     "text": [
      "pixel_id           0\n",
      "lrg_density        0\n",
      "elg_density        0\n",
      "qso_density        0\n",
      "stellar_density    0\n",
      "dtype: int64\n"
     ]
    },
    {
     "data": {
      "text/plain": "(3621, 5)"
     },
     "execution_count": 11,
     "metadata": {},
     "output_type": "execute_result"
    }
   ],
   "source": [
    "df = df.merge(df_stellar, how='inner', on='pixel_id')\n",
    "print(df.isna().sum())\n",
    "df.shape"
   ],
   "metadata": {
    "collapsed": false,
    "pycharm": {
     "name": "#%%\n"
    }
   }
  },
  {
   "cell_type": "markdown",
   "source": [
    "#### Kitanidis Systematics Values"
   ],
   "metadata": {
    "collapsed": false,
    "pycharm": {
     "name": "#%% md\n"
    }
   }
  },
  {
   "cell_type": "code",
   "execution_count": 12,
   "outputs": [
    {
     "name": "stdout",
     "output_type": "stream",
     "text": [
      "1567\n"
     ]
    }
   ],
   "source": [
    "with open('../bricks_data/pixel2systematics_kitanidis.pickle', 'rb') as f:\n",
    "    kitanidis_dict = pickle.load(f)\n",
    "    f.close()\n",
    "\n",
    "print(len(kitanidis_dict.keys()))"
   ],
   "metadata": {
    "collapsed": false,
    "pycharm": {
     "name": "#%%\n"
    }
   }
  },
  {
   "cell_type": "code",
   "execution_count": 13,
   "outputs": [],
   "source": [
    "pixel_keys = kitanidis_dict.keys()\n",
    "\n",
    "sys_list = []\n",
    "for key in pixel_keys:\n",
    "    ind_sys_list = kitanidis_dict[key]\n",
    "    ind_sys_list.append(key)\n",
    "    sys_list.append(ind_sys_list)\n",
    "\n",
    "df_sys_kit = pd.DataFrame(sys_list, columns=['airmass_galaxy',\n",
    "'fwhm_galaxy',\n",
    "'ebv_galaxy',\n",
    "'ccdnphotom_galaxy',\n",
    "\n",
    "'ccdskysb_galaxy_g',\n",
    "'ccdskysb_galaxy_r',\n",
    "'ccdskysb_galaxy_z',\n",
    "'exptime_galaxy_g',\n",
    "'exptime_galaxy_r',\n",
    "'exptime_galaxy_z',\n",
    "'meansky_galaxy_g',\n",
    "'meansky_galaxy_r',\n",
    "'meansky_galaxy_z',\n",
    "'galdepth_galaxy_g',\n",
    "'galdepth_galaxy_r',\n",
    "'galdepth_galaxy_z', 'pixel_id'])\n",
    "\n"
   ],
   "metadata": {
    "collapsed": false,
    "pycharm": {
     "name": "#%%\n"
    }
   }
  },
  {
   "cell_type": "code",
   "execution_count": 14,
   "outputs": [
    {
     "data": {
      "text/plain": "   airmass_galaxy  fwhm_galaxy  ebv_galaxy  ccdnphotom_galaxy  \\\n0        1.204206     4.569465    0.021082         273.100211   \n1        1.069105     4.824085    0.010359         148.191320   \n2        1.108757     4.413348    0.011393         154.348513   \n3        1.104669     4.394738    0.011230         153.649709   \n4        1.107077     4.439277    0.014093         150.531232   \n\n   ccdskysb_galaxy_g  ccdskysb_galaxy_r  ccdskysb_galaxy_z  exptime_galaxy_g  \\\n0          23.627050          22.730956          20.206251              90.0   \n1          23.601375          22.732608          20.000021              90.0   \n2          23.602864          22.701580          20.073285              90.0   \n3          23.613133          22.710532          20.111641              90.0   \n4          23.583476          22.647124          20.197871              90.0   \n\n   exptime_galaxy_r  exptime_galaxy_z  meansky_galaxy_g  meansky_galaxy_r  \\\n0              90.0              90.0      2.390975e+08      6.489436e+08   \n1              90.0              90.0      1.803126e+08      2.993781e+08   \n2              90.0              90.0      2.952632e+08      8.687714e+08   \n3              90.0              90.0      2.446651e+08      9.609978e+08   \n4              90.0              90.0      3.645015e+08      6.979010e+08   \n\n   meansky_galaxy_z  galdepth_galaxy_g  galdepth_galaxy_r  galdepth_galaxy_z  \\\n0      2.384546e+09          23.111424          23.139025          22.097923   \n1      2.225294e+10          23.353823          23.320494          21.550398   \n2      1.152634e+10          23.062541          22.892199          21.675296   \n3      8.914973e+09          23.186001          22.788259          21.786543   \n4      9.072512e+09          22.836915          23.042679          21.724951   \n\n   pixel_id  \n0    741107  \n1    662895  \n2    662913  \n3    663905  \n4    652792  ",
      "text/html": "<div>\n<style scoped>\n    .dataframe tbody tr th:only-of-type {\n        vertical-align: middle;\n    }\n\n    .dataframe tbody tr th {\n        vertical-align: top;\n    }\n\n    .dataframe thead th {\n        text-align: right;\n    }\n</style>\n<table border=\"1\" class=\"dataframe\">\n  <thead>\n    <tr style=\"text-align: right;\">\n      <th></th>\n      <th>airmass_galaxy</th>\n      <th>fwhm_galaxy</th>\n      <th>ebv_galaxy</th>\n      <th>ccdnphotom_galaxy</th>\n      <th>ccdskysb_galaxy_g</th>\n      <th>ccdskysb_galaxy_r</th>\n      <th>ccdskysb_galaxy_z</th>\n      <th>exptime_galaxy_g</th>\n      <th>exptime_galaxy_r</th>\n      <th>exptime_galaxy_z</th>\n      <th>meansky_galaxy_g</th>\n      <th>meansky_galaxy_r</th>\n      <th>meansky_galaxy_z</th>\n      <th>galdepth_galaxy_g</th>\n      <th>galdepth_galaxy_r</th>\n      <th>galdepth_galaxy_z</th>\n      <th>pixel_id</th>\n    </tr>\n  </thead>\n  <tbody>\n    <tr>\n      <th>0</th>\n      <td>1.204206</td>\n      <td>4.569465</td>\n      <td>0.021082</td>\n      <td>273.100211</td>\n      <td>23.627050</td>\n      <td>22.730956</td>\n      <td>20.206251</td>\n      <td>90.0</td>\n      <td>90.0</td>\n      <td>90.0</td>\n      <td>2.390975e+08</td>\n      <td>6.489436e+08</td>\n      <td>2.384546e+09</td>\n      <td>23.111424</td>\n      <td>23.139025</td>\n      <td>22.097923</td>\n      <td>741107</td>\n    </tr>\n    <tr>\n      <th>1</th>\n      <td>1.069105</td>\n      <td>4.824085</td>\n      <td>0.010359</td>\n      <td>148.191320</td>\n      <td>23.601375</td>\n      <td>22.732608</td>\n      <td>20.000021</td>\n      <td>90.0</td>\n      <td>90.0</td>\n      <td>90.0</td>\n      <td>1.803126e+08</td>\n      <td>2.993781e+08</td>\n      <td>2.225294e+10</td>\n      <td>23.353823</td>\n      <td>23.320494</td>\n      <td>21.550398</td>\n      <td>662895</td>\n    </tr>\n    <tr>\n      <th>2</th>\n      <td>1.108757</td>\n      <td>4.413348</td>\n      <td>0.011393</td>\n      <td>154.348513</td>\n      <td>23.602864</td>\n      <td>22.701580</td>\n      <td>20.073285</td>\n      <td>90.0</td>\n      <td>90.0</td>\n      <td>90.0</td>\n      <td>2.952632e+08</td>\n      <td>8.687714e+08</td>\n      <td>1.152634e+10</td>\n      <td>23.062541</td>\n      <td>22.892199</td>\n      <td>21.675296</td>\n      <td>662913</td>\n    </tr>\n    <tr>\n      <th>3</th>\n      <td>1.104669</td>\n      <td>4.394738</td>\n      <td>0.011230</td>\n      <td>153.649709</td>\n      <td>23.613133</td>\n      <td>22.710532</td>\n      <td>20.111641</td>\n      <td>90.0</td>\n      <td>90.0</td>\n      <td>90.0</td>\n      <td>2.446651e+08</td>\n      <td>9.609978e+08</td>\n      <td>8.914973e+09</td>\n      <td>23.186001</td>\n      <td>22.788259</td>\n      <td>21.786543</td>\n      <td>663905</td>\n    </tr>\n    <tr>\n      <th>4</th>\n      <td>1.107077</td>\n      <td>4.439277</td>\n      <td>0.014093</td>\n      <td>150.531232</td>\n      <td>23.583476</td>\n      <td>22.647124</td>\n      <td>20.197871</td>\n      <td>90.0</td>\n      <td>90.0</td>\n      <td>90.0</td>\n      <td>3.645015e+08</td>\n      <td>6.979010e+08</td>\n      <td>9.072512e+09</td>\n      <td>22.836915</td>\n      <td>23.042679</td>\n      <td>21.724951</td>\n      <td>652792</td>\n    </tr>\n  </tbody>\n</table>\n</div>"
     },
     "execution_count": 14,
     "metadata": {},
     "output_type": "execute_result"
    }
   ],
   "source": [
    "df_sys_kit.head()"
   ],
   "metadata": {
    "collapsed": false,
    "pycharm": {
     "name": "#%%\n"
    }
   }
  },
  {
   "cell_type": "code",
   "execution_count": 15,
   "outputs": [
    {
     "name": "stdout",
     "output_type": "stream",
     "text": [
      "pixel_id             0\n",
      "lrg_density          0\n",
      "elg_density          0\n",
      "qso_density          0\n",
      "stellar_density      0\n",
      "airmass_galaxy       0\n",
      "fwhm_galaxy          0\n",
      "ebv_galaxy           0\n",
      "ccdnphotom_galaxy    0\n",
      "ccdskysb_galaxy_g    3\n",
      "ccdskysb_galaxy_r    0\n",
      "ccdskysb_galaxy_z    0\n",
      "exptime_galaxy_g     0\n",
      "exptime_galaxy_r     0\n",
      "exptime_galaxy_z     0\n",
      "meansky_galaxy_g     0\n",
      "meansky_galaxy_r     0\n",
      "meansky_galaxy_z     0\n",
      "galdepth_galaxy_g    0\n",
      "galdepth_galaxy_r    0\n",
      "galdepth_galaxy_z    0\n",
      "dtype: int64\n"
     ]
    },
    {
     "data": {
      "text/plain": "   pixel_id  lrg_density  elg_density  qso_density  stellar_density  \\\n0    172191     0.509522     1.180820     0.787620        -0.279689   \n1    173250     1.817774     2.133008     1.410579         1.263834   \n2    174071     0.106983     0.750799     0.191747        -0.794197   \n3    174554     0.106983     0.658651     0.083406         0.955130   \n4    175096     1.515870     3.146629     1.329324        -0.485492   \n\n   airmass_galaxy  fwhm_galaxy  ebv_galaxy  ccdnphotom_galaxy  \\\n0        1.615369     4.563708    0.027940         617.485215   \n1        1.551244     4.652137    0.022238         997.009628   \n2        1.406610     4.458577    0.018477         367.511248   \n3        2.301381     6.055535    0.131243         459.871429   \n4        1.440663     4.587659    0.018841         373.382383   \n\n   ccdskysb_galaxy_g  ...  ccdskysb_galaxy_z  exptime_galaxy_g  \\\n0          23.461968  ...          19.328887        143.100496   \n1          23.454327  ...          19.084433        158.096504   \n2          23.441590  ...          19.497361        128.317445   \n3          23.432264  ...          19.849928        200.000000   \n4          23.452281  ...          19.589021        128.873803   \n\n   exptime_galaxy_r  exptime_galaxy_z  meansky_galaxy_g  meansky_galaxy_r  \\\n0        139.892237        122.275265          0.199914          0.920791   \n1         82.525712        165.945433          0.203127          0.499488   \n2         87.744524        106.219834          0.213351          0.564238   \n3        124.000000        221.028571          0.126744          0.333307   \n4         83.743415        107.265548          0.293171          0.540003   \n\n   meansky_galaxy_z  galdepth_galaxy_g  galdepth_galaxy_r  galdepth_galaxy_z  \n0          2.869334          23.626332          22.942529          22.215109  \n1          3.490955          23.604491          22.966942          22.331463  \n2          1.995409          23.598964          22.922293          22.342016  \n3          3.754301          24.007800          23.363166          22.229356  \n4          6.617020          23.605227          22.900591          22.310904  \n\n[5 rows x 21 columns]",
      "text/html": "<div>\n<style scoped>\n    .dataframe tbody tr th:only-of-type {\n        vertical-align: middle;\n    }\n\n    .dataframe tbody tr th {\n        vertical-align: top;\n    }\n\n    .dataframe thead th {\n        text-align: right;\n    }\n</style>\n<table border=\"1\" class=\"dataframe\">\n  <thead>\n    <tr style=\"text-align: right;\">\n      <th></th>\n      <th>pixel_id</th>\n      <th>lrg_density</th>\n      <th>elg_density</th>\n      <th>qso_density</th>\n      <th>stellar_density</th>\n      <th>airmass_galaxy</th>\n      <th>fwhm_galaxy</th>\n      <th>ebv_galaxy</th>\n      <th>ccdnphotom_galaxy</th>\n      <th>ccdskysb_galaxy_g</th>\n      <th>...</th>\n      <th>ccdskysb_galaxy_z</th>\n      <th>exptime_galaxy_g</th>\n      <th>exptime_galaxy_r</th>\n      <th>exptime_galaxy_z</th>\n      <th>meansky_galaxy_g</th>\n      <th>meansky_galaxy_r</th>\n      <th>meansky_galaxy_z</th>\n      <th>galdepth_galaxy_g</th>\n      <th>galdepth_galaxy_r</th>\n      <th>galdepth_galaxy_z</th>\n    </tr>\n  </thead>\n  <tbody>\n    <tr>\n      <th>0</th>\n      <td>172191</td>\n      <td>0.509522</td>\n      <td>1.180820</td>\n      <td>0.787620</td>\n      <td>-0.279689</td>\n      <td>1.615369</td>\n      <td>4.563708</td>\n      <td>0.027940</td>\n      <td>617.485215</td>\n      <td>23.461968</td>\n      <td>...</td>\n      <td>19.328887</td>\n      <td>143.100496</td>\n      <td>139.892237</td>\n      <td>122.275265</td>\n      <td>0.199914</td>\n      <td>0.920791</td>\n      <td>2.869334</td>\n      <td>23.626332</td>\n      <td>22.942529</td>\n      <td>22.215109</td>\n    </tr>\n    <tr>\n      <th>1</th>\n      <td>173250</td>\n      <td>1.817774</td>\n      <td>2.133008</td>\n      <td>1.410579</td>\n      <td>1.263834</td>\n      <td>1.551244</td>\n      <td>4.652137</td>\n      <td>0.022238</td>\n      <td>997.009628</td>\n      <td>23.454327</td>\n      <td>...</td>\n      <td>19.084433</td>\n      <td>158.096504</td>\n      <td>82.525712</td>\n      <td>165.945433</td>\n      <td>0.203127</td>\n      <td>0.499488</td>\n      <td>3.490955</td>\n      <td>23.604491</td>\n      <td>22.966942</td>\n      <td>22.331463</td>\n    </tr>\n    <tr>\n      <th>2</th>\n      <td>174071</td>\n      <td>0.106983</td>\n      <td>0.750799</td>\n      <td>0.191747</td>\n      <td>-0.794197</td>\n      <td>1.406610</td>\n      <td>4.458577</td>\n      <td>0.018477</td>\n      <td>367.511248</td>\n      <td>23.441590</td>\n      <td>...</td>\n      <td>19.497361</td>\n      <td>128.317445</td>\n      <td>87.744524</td>\n      <td>106.219834</td>\n      <td>0.213351</td>\n      <td>0.564238</td>\n      <td>1.995409</td>\n      <td>23.598964</td>\n      <td>22.922293</td>\n      <td>22.342016</td>\n    </tr>\n    <tr>\n      <th>3</th>\n      <td>174554</td>\n      <td>0.106983</td>\n      <td>0.658651</td>\n      <td>0.083406</td>\n      <td>0.955130</td>\n      <td>2.301381</td>\n      <td>6.055535</td>\n      <td>0.131243</td>\n      <td>459.871429</td>\n      <td>23.432264</td>\n      <td>...</td>\n      <td>19.849928</td>\n      <td>200.000000</td>\n      <td>124.000000</td>\n      <td>221.028571</td>\n      <td>0.126744</td>\n      <td>0.333307</td>\n      <td>3.754301</td>\n      <td>24.007800</td>\n      <td>23.363166</td>\n      <td>22.229356</td>\n    </tr>\n    <tr>\n      <th>4</th>\n      <td>175096</td>\n      <td>1.515870</td>\n      <td>3.146629</td>\n      <td>1.329324</td>\n      <td>-0.485492</td>\n      <td>1.440663</td>\n      <td>4.587659</td>\n      <td>0.018841</td>\n      <td>373.382383</td>\n      <td>23.452281</td>\n      <td>...</td>\n      <td>19.589021</td>\n      <td>128.873803</td>\n      <td>83.743415</td>\n      <td>107.265548</td>\n      <td>0.293171</td>\n      <td>0.540003</td>\n      <td>6.617020</td>\n      <td>23.605227</td>\n      <td>22.900591</td>\n      <td>22.310904</td>\n    </tr>\n  </tbody>\n</table>\n<p>5 rows × 21 columns</p>\n</div>"
     },
     "execution_count": 15,
     "metadata": {},
     "output_type": "execute_result"
    }
   ],
   "source": [
    "df_kitanidis = df.merge(df_sys_kit, how='inner', on='pixel_id')\n",
    "print(df_kitanidis.isna().sum())\n",
    "df_kitanidis.dropna(axis=0, inplace=True)\n",
    "\n",
    "df_kitanidis.head()\n"
   ],
   "metadata": {
    "collapsed": false,
    "pycharm": {
     "name": "#%%\n"
    }
   }
  },
  {
   "cell_type": "code",
   "execution_count": 16,
   "outputs": [
    {
     "name": "stdout",
     "output_type": "stream",
     "text": [
      "pixel_id             0\n",
      "lrg_density          0\n",
      "elg_density          0\n",
      "qso_density          0\n",
      "stellar_density      0\n",
      "airmass_galaxy       0\n",
      "fwhm_galaxy          0\n",
      "ebv_galaxy           0\n",
      "ccdnphotom_galaxy    0\n",
      "ccdskysb_galaxy_g    0\n",
      "ccdskysb_galaxy_r    0\n",
      "ccdskysb_galaxy_z    0\n",
      "exptime_galaxy_g     0\n",
      "exptime_galaxy_r     0\n",
      "exptime_galaxy_z     0\n",
      "meansky_galaxy_g     0\n",
      "meansky_galaxy_r     0\n",
      "meansky_galaxy_z     0\n",
      "galdepth_galaxy_g    0\n",
      "galdepth_galaxy_r    0\n",
      "galdepth_galaxy_z    0\n",
      "dtype: int64\n"
     ]
    }
   ],
   "source": [
    "print(df_kitanidis.isna().sum())"
   ],
   "metadata": {
    "collapsed": false,
    "pycharm": {
     "name": "#%%\n"
    }
   }
  },
  {
   "cell_type": "markdown",
   "source": [
    "#### Geometric Systematics Values"
   ],
   "metadata": {
    "collapsed": false,
    "pycharm": {
     "name": "#%% md\n"
    }
   }
  },
  {
   "cell_type": "code",
   "execution_count": 17,
   "outputs": [
    {
     "name": "stdout",
     "output_type": "stream",
     "text": [
      "455672\n"
     ]
    }
   ],
   "source": [
    "with open('../bricks_data/pixel2systematics_geometric.pickle', 'rb') as f:\n",
    "    geometric_dict = pickle.load(f)\n",
    "    f.close()\n",
    "\n",
    "print(len(geometric_dict.keys()))\n"
   ],
   "metadata": {
    "collapsed": false,
    "pycharm": {
     "name": "#%%\n"
    }
   }
  },
  {
   "cell_type": "code",
   "execution_count": 18,
   "outputs": [
    {
     "name": "stdout",
     "output_type": "stream",
     "text": [
      "3621\n"
     ]
    }
   ],
   "source": [
    "# Clear the dict of all pixels where we do not have galaxy density values\n",
    "\n",
    "pixels = df.pixel_id.tolist()\n",
    "pixel_keys = list(geometric_dict.keys())\n",
    "for pix in pixel_keys:\n",
    "    if pix in pixels:\n",
    "        continue\n",
    "    geometric_dict.pop(pix)\n",
    "print(len(geometric_dict.keys()))\n"
   ],
   "metadata": {
    "collapsed": false,
    "pycharm": {
     "name": "#%%\n"
    }
   }
  },
  {
   "cell_type": "code",
   "execution_count": 19,
   "outputs": [],
   "source": [
    "sys_list = []\n",
    "for key in geometric_dict.keys():\n",
    "    ind_sys_list = geometric_dict[key]\n",
    "    ind_sys_list.append(key)\n",
    "    sys_list.append(ind_sys_list)\n",
    "\n",
    "df_sys_geo = pd.DataFrame(sys_list, columns=['airmass_galaxy',\n",
    "'fwhm_galaxy',\n",
    "'ebv_galaxy',\n",
    "'ccdnphotom_galaxy',\n",
    "\n",
    "'ccdskysb_galaxy_g',\n",
    "'ccdskysb_galaxy_r',\n",
    "'ccdskysb_galaxy_z',\n",
    "'exptime_galaxy_g',\n",
    "'exptime_galaxy_r',\n",
    "'exptime_galaxy_z',\n",
    "'meansky_galaxy_g',\n",
    "'meansky_galaxy_r',\n",
    "'meansky_galaxy_z',\n",
    "'galdepth_galaxy_g',\n",
    "'galdepth_galaxy_r',\n",
    "'galdepth_galaxy_z', 'pixel_id'])\n",
    "\n"
   ],
   "metadata": {
    "collapsed": false,
    "pycharm": {
     "name": "#%%\n"
    }
   }
  },
  {
   "cell_type": "code",
   "execution_count": 20,
   "outputs": [
    {
     "data": {
      "text/plain": "   airmass_galaxy  fwhm_galaxy  ebv_galaxy  ccdnphotom_galaxy  \\\n0        1.194180     4.416241    0.015881         193.029146   \n1        1.204914     4.487709    0.021031         263.930656   \n2        1.058781     4.859403    0.010318         152.779363   \n3        1.068818     4.836110    0.010475         148.159223   \n4        1.066041     4.829051    0.009648         143.652839   \n\n   ccdskysb_galaxy_g  ccdskysb_galaxy_r  ccdskysb_galaxy_z  exptime_galaxy_g  \\\n0           0.370143           0.354336           0.317393           1.40625   \n1           0.369211           0.355531           0.312636           1.40625   \n2           0.368714           0.355444           0.313010           1.40625   \n3           0.369262           0.355497           0.312262           1.40625   \n4           0.368751           0.354904           0.312821           1.40625   \n\n   exptime_galaxy_r  exptime_galaxy_z  meansky_galaxy_g  meansky_galaxy_r  \\\n0           1.40625           1.40625      1.874880e+06      1.128373e+07   \n1           1.40625           1.40625      2.882011e+06      8.985916e+06   \n2           1.40625           1.40625      5.140045e+06      3.797250e+06   \n3           1.40625           1.40625      1.933899e+06      3.522100e+06   \n4           1.40625           1.40625      3.181196e+06      4.933232e+06   \n\n   meansky_galaxy_z  galdepth_galaxy_g  galdepth_galaxy_r  galdepth_galaxy_z  \\\n0      3.228007e-02           0.367989           0.359158           0.351488   \n1      1.687051e+08           0.362452           0.362690           0.338896   \n2      3.138397e+08           0.359043           0.365162           0.336844   \n3      3.096106e+08           0.368000           0.365229           0.336382   \n4      3.274322e+08           0.364262           0.364178           0.338324   \n\n   pixel_id  \n0    729635  \n1    741107  \n2    661899  \n3    662895  \n4    661898  ",
      "text/html": "<div>\n<style scoped>\n    .dataframe tbody tr th:only-of-type {\n        vertical-align: middle;\n    }\n\n    .dataframe tbody tr th {\n        vertical-align: top;\n    }\n\n    .dataframe thead th {\n        text-align: right;\n    }\n</style>\n<table border=\"1\" class=\"dataframe\">\n  <thead>\n    <tr style=\"text-align: right;\">\n      <th></th>\n      <th>airmass_galaxy</th>\n      <th>fwhm_galaxy</th>\n      <th>ebv_galaxy</th>\n      <th>ccdnphotom_galaxy</th>\n      <th>ccdskysb_galaxy_g</th>\n      <th>ccdskysb_galaxy_r</th>\n      <th>ccdskysb_galaxy_z</th>\n      <th>exptime_galaxy_g</th>\n      <th>exptime_galaxy_r</th>\n      <th>exptime_galaxy_z</th>\n      <th>meansky_galaxy_g</th>\n      <th>meansky_galaxy_r</th>\n      <th>meansky_galaxy_z</th>\n      <th>galdepth_galaxy_g</th>\n      <th>galdepth_galaxy_r</th>\n      <th>galdepth_galaxy_z</th>\n      <th>pixel_id</th>\n    </tr>\n  </thead>\n  <tbody>\n    <tr>\n      <th>0</th>\n      <td>1.194180</td>\n      <td>4.416241</td>\n      <td>0.015881</td>\n      <td>193.029146</td>\n      <td>0.370143</td>\n      <td>0.354336</td>\n      <td>0.317393</td>\n      <td>1.40625</td>\n      <td>1.40625</td>\n      <td>1.40625</td>\n      <td>1.874880e+06</td>\n      <td>1.128373e+07</td>\n      <td>3.228007e-02</td>\n      <td>0.367989</td>\n      <td>0.359158</td>\n      <td>0.351488</td>\n      <td>729635</td>\n    </tr>\n    <tr>\n      <th>1</th>\n      <td>1.204914</td>\n      <td>4.487709</td>\n      <td>0.021031</td>\n      <td>263.930656</td>\n      <td>0.369211</td>\n      <td>0.355531</td>\n      <td>0.312636</td>\n      <td>1.40625</td>\n      <td>1.40625</td>\n      <td>1.40625</td>\n      <td>2.882011e+06</td>\n      <td>8.985916e+06</td>\n      <td>1.687051e+08</td>\n      <td>0.362452</td>\n      <td>0.362690</td>\n      <td>0.338896</td>\n      <td>741107</td>\n    </tr>\n    <tr>\n      <th>2</th>\n      <td>1.058781</td>\n      <td>4.859403</td>\n      <td>0.010318</td>\n      <td>152.779363</td>\n      <td>0.368714</td>\n      <td>0.355444</td>\n      <td>0.313010</td>\n      <td>1.40625</td>\n      <td>1.40625</td>\n      <td>1.40625</td>\n      <td>5.140045e+06</td>\n      <td>3.797250e+06</td>\n      <td>3.138397e+08</td>\n      <td>0.359043</td>\n      <td>0.365162</td>\n      <td>0.336844</td>\n      <td>661899</td>\n    </tr>\n    <tr>\n      <th>3</th>\n      <td>1.068818</td>\n      <td>4.836110</td>\n      <td>0.010475</td>\n      <td>148.159223</td>\n      <td>0.369262</td>\n      <td>0.355497</td>\n      <td>0.312262</td>\n      <td>1.40625</td>\n      <td>1.40625</td>\n      <td>1.40625</td>\n      <td>1.933899e+06</td>\n      <td>3.522100e+06</td>\n      <td>3.096106e+08</td>\n      <td>0.368000</td>\n      <td>0.365229</td>\n      <td>0.336382</td>\n      <td>662895</td>\n    </tr>\n    <tr>\n      <th>4</th>\n      <td>1.066041</td>\n      <td>4.829051</td>\n      <td>0.009648</td>\n      <td>143.652839</td>\n      <td>0.368751</td>\n      <td>0.354904</td>\n      <td>0.312821</td>\n      <td>1.40625</td>\n      <td>1.40625</td>\n      <td>1.40625</td>\n      <td>3.181196e+06</td>\n      <td>4.933232e+06</td>\n      <td>3.274322e+08</td>\n      <td>0.364262</td>\n      <td>0.364178</td>\n      <td>0.338324</td>\n      <td>661898</td>\n    </tr>\n  </tbody>\n</table>\n</div>"
     },
     "execution_count": 20,
     "metadata": {},
     "output_type": "execute_result"
    }
   ],
   "source": [
    "df_sys_geo.head()"
   ],
   "metadata": {
    "collapsed": false,
    "pycharm": {
     "name": "#%%\n"
    }
   }
  },
  {
   "cell_type": "code",
   "execution_count": 21,
   "outputs": [
    {
     "name": "stdout",
     "output_type": "stream",
     "text": [
      "pixel_id             0\n",
      "lrg_density          0\n",
      "elg_density          0\n",
      "qso_density          0\n",
      "stellar_density      0\n",
      "airmass_galaxy       0\n",
      "fwhm_galaxy          0\n",
      "ebv_galaxy           0\n",
      "ccdnphotom_galaxy    0\n",
      "ccdskysb_galaxy_g    0\n",
      "ccdskysb_galaxy_r    0\n",
      "ccdskysb_galaxy_z    0\n",
      "exptime_galaxy_g     0\n",
      "exptime_galaxy_r     0\n",
      "exptime_galaxy_z     0\n",
      "meansky_galaxy_g     0\n",
      "meansky_galaxy_r     0\n",
      "meansky_galaxy_z     0\n",
      "galdepth_galaxy_g    0\n",
      "galdepth_galaxy_r    0\n",
      "galdepth_galaxy_z    0\n",
      "dtype: int64\n"
     ]
    }
   ],
   "source": [
    "df_geometric = df.merge(df_sys_geo, how='inner', on='pixel_id')\n",
    "print(df_geometric.isna().sum())"
   ],
   "metadata": {
    "collapsed": false,
    "pycharm": {
     "name": "#%%\n"
    }
   }
  },
  {
   "cell_type": "code",
   "execution_count": 22,
   "outputs": [
    {
     "name": "stdout",
     "output_type": "stream",
     "text": [
      "(1535, 21)\n",
      "(3621, 21)\n"
     ]
    }
   ],
   "source": [
    "print(df_kitanidis.shape)\n",
    "print(df_geometric.shape)\n"
   ],
   "metadata": {
    "collapsed": false,
    "pycharm": {
     "name": "#%%\n"
    }
   }
  },
  {
   "cell_type": "markdown",
   "source": [
    "### Running the Regressions\n",
    "\n",
    "#### 1. Kitanidis"
   ],
   "metadata": {
    "collapsed": false,
    "pycharm": {
     "name": "#%% md\n"
    }
   }
  },
  {
   "cell_type": "code",
   "execution_count": 23,
   "outputs": [
    {
     "data": {
      "text/plain": "   lrg_density  elg_density  qso_density  stellar_density  airmass_galaxy  \\\n0     0.509522     1.180820     0.787620        -0.279689        1.615369   \n1     1.817774     2.133008     1.410579         1.263834        1.551244   \n2     0.106983     0.750799     0.191747        -0.794197        1.406610   \n3     0.106983     0.658651     0.083406         0.955130        2.301381   \n4     1.515870     3.146629     1.329324        -0.485492        1.440663   \n\n   fwhm_galaxy  ebv_galaxy  ccdnphotom_galaxy  ccdskysb_galaxy_g  \\\n0     4.563708    0.027940         617.485215          23.461968   \n1     4.652137    0.022238         997.009628          23.454327   \n2     4.458577    0.018477         367.511248          23.441590   \n3     6.055535    0.131243         459.871429          23.432264   \n4     4.587659    0.018841         373.382383          23.452281   \n\n   ccdskysb_galaxy_r  ccdskysb_galaxy_z  exptime_galaxy_g  exptime_galaxy_r  \\\n0          22.460363          19.328887        143.100496        139.892237   \n1          22.586219          19.084433        158.096504         82.525712   \n2          22.625744          19.497361        128.317445         87.744524   \n3          22.486569          19.849928        200.000000        124.000000   \n4          22.653194          19.589021        128.873803         83.743415   \n\n   exptime_galaxy_z  meansky_galaxy_g  meansky_galaxy_r  meansky_galaxy_z  \\\n0        122.275265          0.199914          0.920791          2.869334   \n1        165.945433          0.203127          0.499488          3.490955   \n2        106.219834          0.213351          0.564238          1.995409   \n3        221.028571          0.126744          0.333307          3.754301   \n4        107.265548          0.293171          0.540003          6.617020   \n\n   galdepth_galaxy_g  galdepth_galaxy_r  galdepth_galaxy_z  \n0          23.626332          22.942529          22.215109  \n1          23.604491          22.966942          22.331463  \n2          23.598964          22.922293          22.342016  \n3          24.007800          23.363166          22.229356  \n4          23.605227          22.900591          22.310904  ",
      "text/html": "<div>\n<style scoped>\n    .dataframe tbody tr th:only-of-type {\n        vertical-align: middle;\n    }\n\n    .dataframe tbody tr th {\n        vertical-align: top;\n    }\n\n    .dataframe thead th {\n        text-align: right;\n    }\n</style>\n<table border=\"1\" class=\"dataframe\">\n  <thead>\n    <tr style=\"text-align: right;\">\n      <th></th>\n      <th>lrg_density</th>\n      <th>elg_density</th>\n      <th>qso_density</th>\n      <th>stellar_density</th>\n      <th>airmass_galaxy</th>\n      <th>fwhm_galaxy</th>\n      <th>ebv_galaxy</th>\n      <th>ccdnphotom_galaxy</th>\n      <th>ccdskysb_galaxy_g</th>\n      <th>ccdskysb_galaxy_r</th>\n      <th>ccdskysb_galaxy_z</th>\n      <th>exptime_galaxy_g</th>\n      <th>exptime_galaxy_r</th>\n      <th>exptime_galaxy_z</th>\n      <th>meansky_galaxy_g</th>\n      <th>meansky_galaxy_r</th>\n      <th>meansky_galaxy_z</th>\n      <th>galdepth_galaxy_g</th>\n      <th>galdepth_galaxy_r</th>\n      <th>galdepth_galaxy_z</th>\n    </tr>\n  </thead>\n  <tbody>\n    <tr>\n      <th>0</th>\n      <td>0.509522</td>\n      <td>1.180820</td>\n      <td>0.787620</td>\n      <td>-0.279689</td>\n      <td>1.615369</td>\n      <td>4.563708</td>\n      <td>0.027940</td>\n      <td>617.485215</td>\n      <td>23.461968</td>\n      <td>22.460363</td>\n      <td>19.328887</td>\n      <td>143.100496</td>\n      <td>139.892237</td>\n      <td>122.275265</td>\n      <td>0.199914</td>\n      <td>0.920791</td>\n      <td>2.869334</td>\n      <td>23.626332</td>\n      <td>22.942529</td>\n      <td>22.215109</td>\n    </tr>\n    <tr>\n      <th>1</th>\n      <td>1.817774</td>\n      <td>2.133008</td>\n      <td>1.410579</td>\n      <td>1.263834</td>\n      <td>1.551244</td>\n      <td>4.652137</td>\n      <td>0.022238</td>\n      <td>997.009628</td>\n      <td>23.454327</td>\n      <td>22.586219</td>\n      <td>19.084433</td>\n      <td>158.096504</td>\n      <td>82.525712</td>\n      <td>165.945433</td>\n      <td>0.203127</td>\n      <td>0.499488</td>\n      <td>3.490955</td>\n      <td>23.604491</td>\n      <td>22.966942</td>\n      <td>22.331463</td>\n    </tr>\n    <tr>\n      <th>2</th>\n      <td>0.106983</td>\n      <td>0.750799</td>\n      <td>0.191747</td>\n      <td>-0.794197</td>\n      <td>1.406610</td>\n      <td>4.458577</td>\n      <td>0.018477</td>\n      <td>367.511248</td>\n      <td>23.441590</td>\n      <td>22.625744</td>\n      <td>19.497361</td>\n      <td>128.317445</td>\n      <td>87.744524</td>\n      <td>106.219834</td>\n      <td>0.213351</td>\n      <td>0.564238</td>\n      <td>1.995409</td>\n      <td>23.598964</td>\n      <td>22.922293</td>\n      <td>22.342016</td>\n    </tr>\n    <tr>\n      <th>3</th>\n      <td>0.106983</td>\n      <td>0.658651</td>\n      <td>0.083406</td>\n      <td>0.955130</td>\n      <td>2.301381</td>\n      <td>6.055535</td>\n      <td>0.131243</td>\n      <td>459.871429</td>\n      <td>23.432264</td>\n      <td>22.486569</td>\n      <td>19.849928</td>\n      <td>200.000000</td>\n      <td>124.000000</td>\n      <td>221.028571</td>\n      <td>0.126744</td>\n      <td>0.333307</td>\n      <td>3.754301</td>\n      <td>24.007800</td>\n      <td>23.363166</td>\n      <td>22.229356</td>\n    </tr>\n    <tr>\n      <th>4</th>\n      <td>1.515870</td>\n      <td>3.146629</td>\n      <td>1.329324</td>\n      <td>-0.485492</td>\n      <td>1.440663</td>\n      <td>4.587659</td>\n      <td>0.018841</td>\n      <td>373.382383</td>\n      <td>23.452281</td>\n      <td>22.653194</td>\n      <td>19.589021</td>\n      <td>128.873803</td>\n      <td>83.743415</td>\n      <td>107.265548</td>\n      <td>0.293171</td>\n      <td>0.540003</td>\n      <td>6.617020</td>\n      <td>23.605227</td>\n      <td>22.900591</td>\n      <td>22.310904</td>\n    </tr>\n  </tbody>\n</table>\n</div>"
     },
     "execution_count": 23,
     "metadata": {},
     "output_type": "execute_result"
    }
   ],
   "source": [
    "df_kitanidis.head()\n",
    "df_kitanidis_reg = df_kitanidis.drop(columns=['pixel_id'])\n",
    "df_kitanidis_reg.head()"
   ],
   "metadata": {
    "collapsed": false,
    "pycharm": {
     "name": "#%%\n"
    }
   }
  },
  {
   "cell_type": "code",
   "execution_count": 24,
   "outputs": [],
   "source": [
    "y_lrg = df_kitanidis_reg['lrg_density']#.to_numpy(copy=True)\n",
    "y_elg = df_kitanidis_reg['elg_density']#.to_numpy(copy=True)\n",
    "y_qso = df_kitanidis_reg['qso_density']#.to_numpy(copy=True)\n",
    "\n",
    "X = df_kitanidis_reg.drop(columns=['lrg_density','elg_density','qso_density'])#.to_numpy(copy=True)"
   ],
   "metadata": {
    "collapsed": false,
    "pycharm": {
     "name": "#%%\n"
    }
   }
  },
  {
   "cell_type": "code",
   "execution_count": 25,
   "outputs": [
    {
     "name": "stdout",
     "output_type": "stream",
     "text": [
      "1535\n",
      "1535\n"
     ]
    }
   ],
   "source": [
    "print(len(y_lrg))\n",
    "print(len(X))"
   ],
   "metadata": {
    "collapsed": false,
    "pycharm": {
     "name": "#%%\n"
    }
   }
  },
  {
   "cell_type": "code",
   "execution_count": 26,
   "outputs": [
    {
     "name": "stdout",
     "output_type": "stream",
     "text": [
      "                                 OLS Regression Results                                \n",
      "=======================================================================================\n",
      "Dep. Variable:            lrg_density   R-squared (uncentered):                   0.477\n",
      "Model:                            OLS   Adj. R-squared (uncentered):              0.471\n",
      "Method:                 Least Squares   F-statistic:                              81.43\n",
      "Date:                Wed, 16 Jun 2021   Prob (F-statistic):                   2.67e-199\n",
      "Time:                        18:08:54   Log-Likelihood:                         -2213.4\n",
      "No. Observations:                1535   AIC:                                      4461.\n",
      "Df Residuals:                    1518   BIC:                                      4551.\n",
      "Df Model:                          17                                                  \n",
      "Covariance Type:            nonrobust                                                  \n",
      "=====================================================================================\n",
      "                        coef    std err          t      P>|t|      [0.025      0.975]\n",
      "-------------------------------------------------------------------------------------\n",
      "stellar_density       0.2780      0.025     10.967      0.000       0.228       0.328\n",
      "airmass_galaxy        0.0744      0.175      0.426      0.670      -0.268       0.417\n",
      "fwhm_galaxy           0.0751      0.093      0.811      0.418      -0.107       0.257\n",
      "ebv_galaxy            0.8953      1.050      0.853      0.394      -1.164       2.954\n",
      "ccdnphotom_galaxy    -0.0013      0.000     -6.726      0.000      -0.002      -0.001\n",
      "ccdskysb_galaxy_g     0.1821      0.221      0.825      0.410      -0.251       0.615\n",
      "ccdskysb_galaxy_r     0.0506      0.219      0.231      0.817      -0.380       0.481\n",
      "ccdskysb_galaxy_z    -0.3753      0.162     -2.317      0.021      -0.693      -0.058\n",
      "exptime_galaxy_g     -0.0015      0.002     -0.829      0.407      -0.005       0.002\n",
      "exptime_galaxy_r      0.0006      0.002      0.323      0.747      -0.003       0.004\n",
      "exptime_galaxy_z     -0.0017      0.002     -1.078      0.281      -0.005       0.001\n",
      "meansky_galaxy_g   6.046e-10   5.18e-10      1.167      0.243   -4.12e-10    1.62e-09\n",
      "meansky_galaxy_r  -3.428e-10   1.54e-10     -2.219      0.027   -6.46e-10   -3.98e-11\n",
      "meansky_galaxy_z   2.946e-11   1.43e-11      2.059      0.040    1.39e-12    5.75e-11\n",
      "galdepth_galaxy_g    -0.1061      0.202     -0.526      0.599      -0.502       0.289\n",
      "galdepth_galaxy_r    -0.2875      0.183     -1.575      0.115      -0.646       0.070\n",
      "galdepth_galaxy_z     0.5494      0.190      2.888      0.004       0.176       0.922\n",
      "==============================================================================\n",
      "Omnibus:                     1506.989   Durbin-Watson:                   1.875\n",
      "Prob(Omnibus):                  0.000   Jarque-Bera (JB):           122675.642\n",
      "Skew:                           4.446   Prob(JB):                         0.00\n",
      "Kurtosis:                      45.883   Cond. No.                     1.26e+11\n",
      "==============================================================================\n",
      "\n",
      "Notes:\n",
      "[1] R² is computed without centering (uncentered) since the model does not contain a constant.\n",
      "[2] Standard Errors assume that the covariance matrix of the errors is correctly specified.\n",
      "[3] The condition number is large, 1.26e+11. This might indicate that there are\n",
      "strong multicollinearity or other numerical problems.\n"
     ]
    }
   ],
   "source": [
    "import statsmodels.api as sm\n",
    "\n",
    "\n",
    "ols_lrg_kitanidis = sm.OLS(y_lrg,X).fit()\n",
    "print(ols_lrg_kitanidis.summary())\n",
    "\n"
   ],
   "metadata": {
    "collapsed": false,
    "pycharm": {
     "name": "#%%\n"
    }
   }
  },
  {
   "cell_type": "code",
   "execution_count": 27,
   "outputs": [
    {
     "name": "stdout",
     "output_type": "stream",
     "text": [
      "                                 OLS Regression Results                                \n",
      "=======================================================================================\n",
      "Dep. Variable:            elg_density   R-squared (uncentered):                   0.761\n",
      "Model:                            OLS   Adj. R-squared (uncentered):              0.758\n",
      "Method:                 Least Squares   F-statistic:                              284.5\n",
      "Date:                Wed, 16 Jun 2021   Prob (F-statistic):                        0.00\n",
      "Time:                        18:09:26   Log-Likelihood:                         -1594.0\n",
      "No. Observations:                1535   AIC:                                      3222.\n",
      "Df Residuals:                    1518   BIC:                                      3313.\n",
      "Df Model:                          17                                                  \n",
      "Covariance Type:            nonrobust                                                  \n",
      "=====================================================================================\n",
      "                        coef    std err          t      P>|t|      [0.025      0.975]\n",
      "-------------------------------------------------------------------------------------\n",
      "stellar_density       0.2852      0.017     16.842      0.000       0.252       0.318\n",
      "airmass_galaxy       -0.4930      0.117     -4.228      0.000      -0.722      -0.264\n",
      "fwhm_galaxy          -0.0990      0.062     -1.600      0.110      -0.220       0.022\n",
      "ebv_galaxy           -3.4273      0.701     -4.888      0.000      -4.803      -2.052\n",
      "ccdnphotom_galaxy    -0.0017      0.000    -12.825      0.000      -0.002      -0.001\n",
      "ccdskysb_galaxy_g    -0.0272      0.148     -0.184      0.854      -0.317       0.262\n",
      "ccdskysb_galaxy_r     0.2453      0.147      1.675      0.094      -0.042       0.533\n",
      "ccdskysb_galaxy_z    -0.3685      0.108     -3.406      0.001      -0.581      -0.156\n",
      "exptime_galaxy_g      0.0038      0.001      3.251      0.001       0.002       0.006\n",
      "exptime_galaxy_r     -0.0006      0.001     -0.438      0.662      -0.003       0.002\n",
      "exptime_galaxy_z      0.0003      0.001      0.280      0.780      -0.002       0.002\n",
      "meansky_galaxy_g  -1.116e-10   3.46e-10     -0.322      0.747   -7.91e-10    5.67e-10\n",
      "meansky_galaxy_r  -2.543e-10   1.03e-10     -2.464      0.014   -4.57e-10   -5.18e-11\n",
      "meansky_galaxy_z   1.434e-11   9.56e-12      1.501      0.134    -4.4e-12    3.31e-11\n",
      "galdepth_galaxy_g     0.0004      0.135      0.003      0.997      -0.264       0.265\n",
      "galdepth_galaxy_r    -0.3597      0.122     -2.950      0.003      -0.599      -0.121\n",
      "galdepth_galaxy_z     0.5926      0.127      4.664      0.000       0.343       0.842\n",
      "==============================================================================\n",
      "Omnibus:                      241.616   Durbin-Watson:                   1.696\n",
      "Prob(Omnibus):                  0.000   Jarque-Bera (JB):              461.119\n",
      "Skew:                           0.957   Prob(JB):                    7.40e-101\n",
      "Kurtosis:                       4.884   Cond. No.                     1.26e+11\n",
      "==============================================================================\n",
      "\n",
      "Notes:\n",
      "[1] R² is computed without centering (uncentered) since the model does not contain a constant.\n",
      "[2] Standard Errors assume that the covariance matrix of the errors is correctly specified.\n",
      "[3] The condition number is large, 1.26e+11. This might indicate that there are\n",
      "strong multicollinearity or other numerical problems.\n"
     ]
    }
   ],
   "source": [
    "ols_elg_kitanidis = sm.OLS(y_elg,X).fit()\n",
    "print(ols_elg_kitanidis.summary())"
   ],
   "metadata": {
    "collapsed": false,
    "pycharm": {
     "name": "#%%\n"
    }
   }
  },
  {
   "cell_type": "code",
   "execution_count": 28,
   "outputs": [
    {
     "name": "stdout",
     "output_type": "stream",
     "text": [
      "                                 OLS Regression Results                                \n",
      "=======================================================================================\n",
      "Dep. Variable:            qso_density   R-squared (uncentered):                   0.781\n",
      "Model:                            OLS   Adj. R-squared (uncentered):              0.779\n",
      "Method:                 Least Squares   F-statistic:                              318.6\n",
      "Date:                Wed, 16 Jun 2021   Prob (F-statistic):                        0.00\n",
      "Time:                        18:09:37   Log-Likelihood:                         -1534.7\n",
      "No. Observations:                1535   AIC:                                      3103.\n",
      "Df Residuals:                    1518   BIC:                                      3194.\n",
      "Df Model:                          17                                                  \n",
      "Covariance Type:            nonrobust                                                  \n",
      "=====================================================================================\n",
      "                        coef    std err          t      P>|t|      [0.025      0.975]\n",
      "-------------------------------------------------------------------------------------\n",
      "stellar_density       0.2891      0.016     17.742      0.000       0.257       0.321\n",
      "airmass_galaxy       -0.0262      0.112     -0.233      0.815      -0.246       0.194\n",
      "fwhm_galaxy          -0.1206      0.059     -2.027      0.043      -0.237      -0.004\n",
      "ebv_galaxy           -1.5506      0.675     -2.298      0.022      -2.874      -0.227\n",
      "ccdnphotom_galaxy    -0.0017      0.000    -13.871      0.000      -0.002      -0.001\n",
      "ccdskysb_galaxy_g     0.1633      0.142      1.151      0.250      -0.115       0.442\n",
      "ccdskysb_galaxy_r     0.3877      0.141      2.750      0.006       0.111       0.664\n",
      "ccdskysb_galaxy_z    -0.3108      0.104     -2.985      0.003      -0.515      -0.107\n",
      "exptime_galaxy_g      0.0018      0.001      1.576      0.115      -0.000       0.004\n",
      "exptime_galaxy_r      0.0045      0.001      3.564      0.000       0.002       0.007\n",
      "exptime_galaxy_z      0.0009      0.001      0.902      0.367      -0.001       0.003\n",
      "meansky_galaxy_g   7.996e-11   3.33e-10      0.240      0.810   -5.73e-10    7.33e-10\n",
      "meansky_galaxy_r  -8.841e-11   9.93e-11     -0.890      0.373   -2.83e-10    1.06e-10\n",
      "meansky_galaxy_z   1.089e-12    9.2e-12      0.118      0.906    -1.7e-11    1.91e-11\n",
      "galdepth_galaxy_g    -0.0830      0.130     -0.641      0.522      -0.337       0.171\n",
      "galdepth_galaxy_r    -0.2869      0.117     -2.446      0.015      -0.517      -0.057\n",
      "galdepth_galaxy_z     0.1686      0.122      1.379      0.168      -0.071       0.408\n",
      "==============================================================================\n",
      "Omnibus:                      362.626   Durbin-Watson:                   1.884\n",
      "Prob(Omnibus):                  0.000   Jarque-Bera (JB):             1086.412\n",
      "Skew:                           1.187   Prob(JB):                    1.23e-236\n",
      "Kurtosis:                       6.368   Cond. No.                     1.26e+11\n",
      "==============================================================================\n",
      "\n",
      "Notes:\n",
      "[1] R² is computed without centering (uncentered) since the model does not contain a constant.\n",
      "[2] Standard Errors assume that the covariance matrix of the errors is correctly specified.\n",
      "[3] The condition number is large, 1.26e+11. This might indicate that there are\n",
      "strong multicollinearity or other numerical problems.\n"
     ]
    }
   ],
   "source": [
    "ols_qso_kitanidis = sm.OLS(y_qso,X).fit()\n",
    "print(ols_qso_kitanidis.summary())"
   ],
   "metadata": {
    "collapsed": false,
    "pycharm": {
     "name": "#%%\n"
    }
   }
  },
  {
   "cell_type": "markdown",
   "source": [
    "#### 2. Geometric"
   ],
   "metadata": {
    "collapsed": false,
    "pycharm": {
     "name": "#%% md\n"
    }
   }
  },
  {
   "cell_type": "code",
   "execution_count": 29,
   "outputs": [
    {
     "data": {
      "text/plain": "   lrg_density  elg_density  qso_density  stellar_density  airmass_galaxy  \\\n0     0.308252     0.075052     0.056321        -0.691295        1.220610   \n1     0.408887    -0.416400     0.110491         0.131917        1.219311   \n2    -0.496826     0.412925    -0.024934        -0.485492        1.655938   \n3    -0.496826    -0.293537    -0.133275        -0.794197        1.658746   \n4     0.509522     1.180820     0.787620        -0.279689        1.657476   \n\n   fwhm_galaxy  ebv_galaxy  ccdnphotom_galaxy  ccdskysb_galaxy_g  \\\n0     3.898208    0.016500        1550.658093           0.364892   \n1     3.862342    0.016510        1587.507883           0.364887   \n2     4.672048    0.028977         579.146330           0.366651   \n3     4.609840    0.028156         577.106054           0.366584   \n4     4.666779    0.028076         585.977177           0.366563   \n\n   ccdskysb_galaxy_r  ccdskysb_galaxy_z  exptime_galaxy_g  exptime_galaxy_r  \\\n0           0.351523           0.301166          1.515938          1.309821   \n1           0.351523           0.301310          1.515938          1.309821   \n2           0.351116           0.302868          2.300308          2.244602   \n3           0.351225           0.304636          2.370826          2.023661   \n4           0.351269           0.303110          2.371346          2.025000   \n\n   exptime_galaxy_z  meansky_galaxy_g  meansky_galaxy_r  meansky_galaxy_z  \\\n0          1.509230          0.003598          0.011705          0.032974   \n1          1.427000          0.003594          0.011709          0.036043   \n2          1.939581          0.003221          0.015671          0.079584   \n3          1.915658          0.002980          0.016154          0.094865   \n4          1.950375          0.002980          0.012420          0.047528   \n\n   galdepth_galaxy_g  galdepth_galaxy_r  galdepth_galaxy_z  \n0           0.366218           0.355911           0.348341  \n1           0.366503           0.356100           0.346743  \n2           0.368576           0.358520           0.344488  \n3           0.369514           0.357950           0.342820  \n4           0.369459           0.358867           0.346243  ",
      "text/html": "<div>\n<style scoped>\n    .dataframe tbody tr th:only-of-type {\n        vertical-align: middle;\n    }\n\n    .dataframe tbody tr th {\n        vertical-align: top;\n    }\n\n    .dataframe thead th {\n        text-align: right;\n    }\n</style>\n<table border=\"1\" class=\"dataframe\">\n  <thead>\n    <tr style=\"text-align: right;\">\n      <th></th>\n      <th>lrg_density</th>\n      <th>elg_density</th>\n      <th>qso_density</th>\n      <th>stellar_density</th>\n      <th>airmass_galaxy</th>\n      <th>fwhm_galaxy</th>\n      <th>ebv_galaxy</th>\n      <th>ccdnphotom_galaxy</th>\n      <th>ccdskysb_galaxy_g</th>\n      <th>ccdskysb_galaxy_r</th>\n      <th>ccdskysb_galaxy_z</th>\n      <th>exptime_galaxy_g</th>\n      <th>exptime_galaxy_r</th>\n      <th>exptime_galaxy_z</th>\n      <th>meansky_galaxy_g</th>\n      <th>meansky_galaxy_r</th>\n      <th>meansky_galaxy_z</th>\n      <th>galdepth_galaxy_g</th>\n      <th>galdepth_galaxy_r</th>\n      <th>galdepth_galaxy_z</th>\n    </tr>\n  </thead>\n  <tbody>\n    <tr>\n      <th>0</th>\n      <td>0.308252</td>\n      <td>0.075052</td>\n      <td>0.056321</td>\n      <td>-0.691295</td>\n      <td>1.220610</td>\n      <td>3.898208</td>\n      <td>0.016500</td>\n      <td>1550.658093</td>\n      <td>0.364892</td>\n      <td>0.351523</td>\n      <td>0.301166</td>\n      <td>1.515938</td>\n      <td>1.309821</td>\n      <td>1.509230</td>\n      <td>0.003598</td>\n      <td>0.011705</td>\n      <td>0.032974</td>\n      <td>0.366218</td>\n      <td>0.355911</td>\n      <td>0.348341</td>\n    </tr>\n    <tr>\n      <th>1</th>\n      <td>0.408887</td>\n      <td>-0.416400</td>\n      <td>0.110491</td>\n      <td>0.131917</td>\n      <td>1.219311</td>\n      <td>3.862342</td>\n      <td>0.016510</td>\n      <td>1587.507883</td>\n      <td>0.364887</td>\n      <td>0.351523</td>\n      <td>0.301310</td>\n      <td>1.515938</td>\n      <td>1.309821</td>\n      <td>1.427000</td>\n      <td>0.003594</td>\n      <td>0.011709</td>\n      <td>0.036043</td>\n      <td>0.366503</td>\n      <td>0.356100</td>\n      <td>0.346743</td>\n    </tr>\n    <tr>\n      <th>2</th>\n      <td>-0.496826</td>\n      <td>0.412925</td>\n      <td>-0.024934</td>\n      <td>-0.485492</td>\n      <td>1.655938</td>\n      <td>4.672048</td>\n      <td>0.028977</td>\n      <td>579.146330</td>\n      <td>0.366651</td>\n      <td>0.351116</td>\n      <td>0.302868</td>\n      <td>2.300308</td>\n      <td>2.244602</td>\n      <td>1.939581</td>\n      <td>0.003221</td>\n      <td>0.015671</td>\n      <td>0.079584</td>\n      <td>0.368576</td>\n      <td>0.358520</td>\n      <td>0.344488</td>\n    </tr>\n    <tr>\n      <th>3</th>\n      <td>-0.496826</td>\n      <td>-0.293537</td>\n      <td>-0.133275</td>\n      <td>-0.794197</td>\n      <td>1.658746</td>\n      <td>4.609840</td>\n      <td>0.028156</td>\n      <td>577.106054</td>\n      <td>0.366584</td>\n      <td>0.351225</td>\n      <td>0.304636</td>\n      <td>2.370826</td>\n      <td>2.023661</td>\n      <td>1.915658</td>\n      <td>0.002980</td>\n      <td>0.016154</td>\n      <td>0.094865</td>\n      <td>0.369514</td>\n      <td>0.357950</td>\n      <td>0.342820</td>\n    </tr>\n    <tr>\n      <th>4</th>\n      <td>0.509522</td>\n      <td>1.180820</td>\n      <td>0.787620</td>\n      <td>-0.279689</td>\n      <td>1.657476</td>\n      <td>4.666779</td>\n      <td>0.028076</td>\n      <td>585.977177</td>\n      <td>0.366563</td>\n      <td>0.351269</td>\n      <td>0.303110</td>\n      <td>2.371346</td>\n      <td>2.025000</td>\n      <td>1.950375</td>\n      <td>0.002980</td>\n      <td>0.012420</td>\n      <td>0.047528</td>\n      <td>0.369459</td>\n      <td>0.358867</td>\n      <td>0.346243</td>\n    </tr>\n  </tbody>\n</table>\n</div>"
     },
     "execution_count": 29,
     "metadata": {},
     "output_type": "execute_result"
    }
   ],
   "source": [
    "df_geometric.head()\n",
    "df_geometric_reg = df_geometric.drop(columns=['pixel_id'])\n",
    "df_geometric_reg.head()"
   ],
   "metadata": {
    "collapsed": false,
    "pycharm": {
     "name": "#%%\n"
    }
   }
  },
  {
   "cell_type": "code",
   "execution_count": 30,
   "outputs": [],
   "source": [
    "y_lrg = df_geometric_reg['lrg_density']#.to_numpy(copy=True)\n",
    "y_elg = df_geometric_reg['elg_density']#.to_numpy(copy=True)\n",
    "y_qso = df_geometric_reg['qso_density']#.to_numpy(copy=True)\n",
    "\n",
    "X = df_geometric_reg.drop(columns=['lrg_density','elg_density','qso_density'])#.to_numpy(copy=True)"
   ],
   "metadata": {
    "collapsed": false,
    "pycharm": {
     "name": "#%%\n"
    }
   }
  },
  {
   "cell_type": "code",
   "execution_count": 31,
   "outputs": [
    {
     "name": "stdout",
     "output_type": "stream",
     "text": [
      "3621\n",
      "3621\n"
     ]
    }
   ],
   "source": [
    "print(len(y_lrg))\n",
    "print(len(X))"
   ],
   "metadata": {
    "collapsed": false,
    "pycharm": {
     "name": "#%%\n"
    }
   }
  },
  {
   "cell_type": "code",
   "execution_count": 32,
   "outputs": [
    {
     "name": "stdout",
     "output_type": "stream",
     "text": [
      "                                 OLS Regression Results                                \n",
      "=======================================================================================\n",
      "Dep. Variable:            lrg_density   R-squared (uncentered):                   0.315\n",
      "Model:                            OLS   Adj. R-squared (uncentered):              0.312\n",
      "Method:                 Least Squares   F-statistic:                              97.52\n",
      "Date:                Wed, 16 Jun 2021   Prob (F-statistic):                   2.26e-280\n",
      "Time:                        18:10:18   Log-Likelihood:                         -4562.0\n",
      "No. Observations:                3621   AIC:                                      9158.\n",
      "Df Residuals:                    3604   BIC:                                      9263.\n",
      "Df Model:                          17                                                  \n",
      "Covariance Type:            nonrobust                                                  \n",
      "=====================================================================================\n",
      "                        coef    std err          t      P>|t|      [0.025      0.975]\n",
      "-------------------------------------------------------------------------------------\n",
      "stellar_density       0.4892      0.012     39.651      0.000       0.465       0.513\n",
      "airmass_galaxy        0.0359      0.092      0.390      0.697      -0.145       0.217\n",
      "fwhm_galaxy           0.0665      0.044      1.506      0.132      -0.020       0.153\n",
      "ebv_galaxy           -0.9333      0.539     -1.731      0.084      -1.991       0.124\n",
      "ccdnphotom_galaxy    -0.0013   7.17e-05    -18.255      0.000      -0.001      -0.001\n",
      "ccdskysb_galaxy_g     0.8494      7.613      0.112      0.911     -14.077      15.776\n",
      "ccdskysb_galaxy_r    12.8243      7.869      1.630      0.103      -2.604      28.253\n",
      "ccdskysb_galaxy_z   -19.3501      5.294     -3.655      0.000     -29.729      -8.971\n",
      "exptime_galaxy_g      0.0342      0.053      0.645      0.519      -0.070       0.138\n",
      "exptime_galaxy_r      0.1045      0.065      1.618      0.106      -0.022       0.231\n",
      "exptime_galaxy_z     -0.1684      0.047     -3.558      0.000      -0.261      -0.076\n",
      "meansky_galaxy_g  -7.012e-09    1.4e-08     -0.503      0.615   -3.44e-08    2.03e-08\n",
      "meansky_galaxy_r  -1.346e-08   4.75e-09     -2.834      0.005   -2.28e-08   -4.15e-09\n",
      "meansky_galaxy_z   1.051e-09    4.4e-10      2.387      0.017    1.88e-10    1.91e-09\n",
      "galdepth_galaxy_g    -6.5481      5.833     -1.123      0.262     -17.984       4.888\n",
      "galdepth_galaxy_r    -9.8967      5.967     -1.659      0.097     -21.595       1.802\n",
      "galdepth_galaxy_z    21.6749      6.255      3.465      0.001       9.411      33.939\n",
      "==============================================================================\n",
      "Omnibus:                     3293.847   Durbin-Watson:                   1.948\n",
      "Prob(Omnibus):                  0.000   Jarque-Bera (JB):           314498.073\n",
      "Skew:                           3.951   Prob(JB):                         0.00\n",
      "Kurtosis:                      47.967   Cond. No.                     4.13e+10\n",
      "==============================================================================\n",
      "\n",
      "Notes:\n",
      "[1] R² is computed without centering (uncentered) since the model does not contain a constant.\n",
      "[2] Standard Errors assume that the covariance matrix of the errors is correctly specified.\n",
      "[3] The condition number is large, 4.13e+10. This might indicate that there are\n",
      "strong multicollinearity or other numerical problems.\n"
     ]
    }
   ],
   "source": [
    "ols_lrg_geometric = sm.OLS(y_lrg,X).fit()\n",
    "print(ols_lrg_geometric.summary())\n"
   ],
   "metadata": {
    "collapsed": false,
    "pycharm": {
     "name": "#%%\n"
    }
   }
  },
  {
   "cell_type": "code",
   "execution_count": 33,
   "outputs": [
    {
     "name": "stdout",
     "output_type": "stream",
     "text": [
      "                                 OLS Regression Results                                \n",
      "=======================================================================================\n",
      "Dep. Variable:            elg_density   R-squared (uncentered):                   0.446\n",
      "Model:                            OLS   Adj. R-squared (uncentered):              0.443\n",
      "Method:                 Least Squares   F-statistic:                              170.4\n",
      "Date:                Wed, 16 Jun 2021   Prob (F-statistic):                        0.00\n",
      "Time:                        18:10:22   Log-Likelihood:                         -4075.2\n",
      "No. Observations:                3621   AIC:                                      8184.\n",
      "Df Residuals:                    3604   BIC:                                      8290.\n",
      "Df Model:                          17                                                  \n",
      "Covariance Type:            nonrobust                                                  \n",
      "=====================================================================================\n",
      "                        coef    std err          t      P>|t|      [0.025      0.975]\n",
      "-------------------------------------------------------------------------------------\n",
      "stellar_density       0.5261      0.011     48.779      0.000       0.505       0.547\n",
      "airmass_galaxy       -0.2512      0.081     -3.119      0.002      -0.409      -0.093\n",
      "fwhm_galaxy           0.0397      0.039      1.030      0.303      -0.036       0.115\n",
      "ebv_galaxy           -3.4145      0.471     -7.243      0.000      -4.339      -2.490\n",
      "ccdnphotom_galaxy    -0.0015   6.27e-05    -24.251      0.000      -0.002      -0.001\n",
      "ccdskysb_galaxy_g   -13.6179      6.656     -2.046      0.041     -26.667      -0.569\n",
      "ccdskysb_galaxy_r    19.3169      6.879      2.808      0.005       5.829      32.804\n",
      "ccdskysb_galaxy_z   -22.7810      4.628     -4.923      0.000     -31.854     -13.708\n",
      "exptime_galaxy_g      0.1384      0.046      2.981      0.003       0.047       0.229\n",
      "exptime_galaxy_r      0.0802      0.056      1.420      0.156      -0.031       0.191\n",
      "exptime_galaxy_z     -0.1793      0.041     -4.335      0.000      -0.260      -0.098\n",
      "meansky_galaxy_g   5.261e-09   1.22e-08      0.431      0.666   -1.86e-08    2.92e-08\n",
      "meansky_galaxy_r  -1.444e-08   4.15e-09     -3.480      0.001   -2.26e-08   -6.31e-09\n",
      "meansky_galaxy_z   5.371e-10   3.85e-10      1.396      0.163   -2.17e-10    1.29e-09\n",
      "galdepth_galaxy_g    12.7703      5.099      2.504      0.012       2.773      22.768\n",
      "galdepth_galaxy_r   -17.2533      5.216     -3.308      0.001     -27.480      -7.026\n",
      "galdepth_galaxy_z    22.5960      5.468      4.132      0.000      11.875      33.317\n",
      "==============================================================================\n",
      "Omnibus:                      627.471   Durbin-Watson:                   1.945\n",
      "Prob(Omnibus):                  0.000   Jarque-Bera (JB):             2020.840\n",
      "Skew:                           0.873   Prob(JB):                         0.00\n",
      "Kurtosis:                       6.216   Cond. No.                     4.13e+10\n",
      "==============================================================================\n",
      "\n",
      "Notes:\n",
      "[1] R² is computed without centering (uncentered) since the model does not contain a constant.\n",
      "[2] Standard Errors assume that the covariance matrix of the errors is correctly specified.\n",
      "[3] The condition number is large, 4.13e+10. This might indicate that there are\n",
      "strong multicollinearity or other numerical problems.\n"
     ]
    }
   ],
   "source": [
    "ols_elg_geometric = sm.OLS(y_elg,X).fit()\n",
    "print(ols_elg_geometric.summary())"
   ],
   "metadata": {
    "collapsed": false,
    "pycharm": {
     "name": "#%%\n"
    }
   }
  },
  {
   "cell_type": "code",
   "execution_count": 127,
   "outputs": [
    {
     "name": "stdout",
     "output_type": "stream",
     "text": [
      "                                 OLS Regression Results                                \n",
      "=======================================================================================\n",
      "Dep. Variable:            qso_density   R-squared (uncentered):                   0.431\n",
      "Model:                            OLS   Adj. R-squared (uncentered):              0.426\n",
      "Method:                 Least Squares   F-statistic:                              88.57\n",
      "Date:                Mon, 14 Jun 2021   Prob (F-statistic):                   2.02e-228\n",
      "Time:                        18:21:10   Log-Likelihood:                         -2574.0\n",
      "No. Observations:                2002   AIC:                                      5182.\n",
      "Df Residuals:                    1985   BIC:                                      5277.\n",
      "Df Model:                          17                                                  \n",
      "Covariance Type:            nonrobust                                                  \n",
      "=====================================================================================\n",
      "                        coef    std err          t      P>|t|      [0.025      0.975]\n",
      "-------------------------------------------------------------------------------------\n",
      "stellar_density       0.5600      0.026     21.490      0.000       0.509       0.611\n",
      "airmass_galaxy        0.1245      0.127      0.979      0.328      -0.125       0.374\n",
      "fwhm_galaxy          -0.0651      0.062     -1.049      0.294      -0.187       0.057\n",
      "ebv_galaxy           -1.8723      0.721     -2.598      0.009      -3.286      -0.459\n",
      "ccdnphotom_galaxy    -0.0011   8.37e-05    -13.121      0.000      -0.001      -0.001\n",
      "ccdskysb_galaxy_g     2.1405      9.923      0.216      0.829     -17.321      21.602\n",
      "ccdskysb_galaxy_r    11.7435     10.562      1.112      0.266      -8.971      32.458\n",
      "ccdskysb_galaxy_z    -8.1802      7.255     -1.127      0.260     -22.409       6.048\n",
      "exptime_galaxy_g      0.0831      0.073      1.135      0.256      -0.060       0.227\n",
      "exptime_galaxy_r      0.1679      0.087      1.920      0.055      -0.004       0.339\n",
      "exptime_galaxy_z     -0.0689      0.064     -1.068      0.286      -0.195       0.058\n",
      "meansky_galaxy_g   2.315e-08    1.9e-08      1.217      0.224   -1.42e-08    6.05e-08\n",
      "meansky_galaxy_r  -8.501e-09   7.28e-09     -1.168      0.243   -2.28e-08    5.77e-09\n",
      "meansky_galaxy_z   1.658e-10   6.19e-10      0.268      0.789   -1.05e-09    1.38e-09\n",
      "galdepth_galaxy_g     1.3326      7.977      0.167      0.867     -14.311      16.977\n",
      "galdepth_galaxy_r    -7.0886      8.488     -0.835      0.404     -23.736       9.558\n",
      "galdepth_galaxy_z     1.9282      8.863      0.218      0.828     -15.455      19.311\n",
      "==============================================================================\n",
      "Omnibus:                      153.375   Durbin-Watson:                   1.900\n",
      "Prob(Omnibus):                  0.000   Jarque-Bera (JB):              188.379\n",
      "Skew:                           0.723   Prob(JB):                     1.24e-41\n",
      "Kurtosis:                       3.408   Cond. No.                     4.04e+10\n",
      "==============================================================================\n",
      "\n",
      "Notes:\n",
      "[1] R² is computed without centering (uncentered) since the model does not contain a constant.\n",
      "[2] Standard Errors assume that the covariance matrix of the errors is correctly specified.\n",
      "[3] The condition number is large, 4.04e+10. This might indicate that there are\n",
      "strong multicollinearity or other numerical problems.\n"
     ]
    }
   ],
   "source": [
    "ols_qso_geometric = sm.OLS(y_qso,X).fit()\n",
    "print(ols_qso_geometric.summary())\n"
   ],
   "metadata": {
    "collapsed": false,
    "pycharm": {
     "name": "#%%\n"
    }
   }
  },
  {
   "cell_type": "code",
   "execution_count": null,
   "outputs": [],
   "source": [],
   "metadata": {
    "collapsed": false,
    "pycharm": {
     "name": "#%%\n"
    }
   }
  }
 ],
 "metadata": {
  "kernelspec": {
   "display_name": "Python 3",
   "language": "python",
   "name": "python3"
  },
  "language_info": {
   "codemirror_mode": {
    "name": "ipython",
    "version": 2
   },
   "file_extension": ".py",
   "mimetype": "text/x-python",
   "name": "python",
   "nbconvert_exporter": "python",
   "pygments_lexer": "ipython2",
   "version": "2.7.6"
  }
 },
 "nbformat": 4,
 "nbformat_minor": 0
}