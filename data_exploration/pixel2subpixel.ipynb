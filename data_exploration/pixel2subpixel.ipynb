{
 "cells": [
  {
   "cell_type": "markdown",
   "id": "a8e37ee4",
   "metadata": {},
   "source": [
    "# Mapping Pixels to Subpixels and creating a dict"
   ]
  },
  {
   "cell_type": "code",
   "execution_count": 1,
   "id": "84e183d9",
   "metadata": {},
   "outputs": [],
   "source": [
    "import numpy as np\n",
    "from astropy.io import fits\n",
    "import healpy as hp\n",
    "import pandas as pd\n",
    "import matplotlib.path as mplPath\n",
    "import matplotlib.pyplot as plt\n",
    "import pickle"
   ]
  },
  {
   "cell_type": "code",
   "execution_count": null,
   "id": "cf4e6be1",
   "metadata": {},
   "outputs": [],
   "source": [
    "def raDec2thetaPhi(ra, dec):\n",
    "    return (0.5 * np.pi - np.deg2rad(dec)), (np.deg2rad(ra))\n",
    "\n",
    "scaling_factor = 8\n",
    "\n",
    "NSIDE = 256\n",
    "NPIX = hp.nside2npix(NSIDE)\n",
    "NSIDE_SUB = NSIDE * scaling_factor\n",
    "NPIX_SUB = hp.nside2npix(NSIDE_SUB)\n",
    "print(NSIDE_SUB, NPIX_SUB)\n",
    "\n",
    "subpixels = np.arange(0,NPIX_SUB)\n",
    "print(len(subpixels))"
   ]
  },
  {
   "cell_type": "code",
   "execution_count": null,
   "id": "e01193aa",
   "metadata": {},
   "outputs": [],
   "source": [
    "# Getting centers of subpixels and mapping subpixels 2 pixels\n",
    "\n",
    "subpixel_coords = hp.pix2ang(NSIDE_SUB,subpixels)\n",
    "theta_sub= subpixel_coords[0]\n",
    "phi_sub = subpixel_coords[1]\n",
    "pixel_indices = hp.ang2pix(NSIDE, theta_sub,phi_sub)\n",
    "print(len(pixel_indices))"
   ]
  },
  {
   "cell_type": "code",
   "execution_count": null,
   "id": "bcc07bce",
   "metadata": {},
   "outputs": [],
   "source": [
    "# Verifying that pixelation worked accordingly\n",
    "\n",
    "unique = np.unique(pixel_indices)\n",
    "print(len(unique))"
   ]
  },
  {
   "cell_type": "code",
   "execution_count": null,
   "id": "827e483f",
   "metadata": {},
   "outputs": [],
   "source": [
    "pixel2subpixel_dict = {}\n",
    "\n",
    "#Loop through the assigned pixel of every subpixel and fill a dict\n",
    "for subpixel, pixel in enumerate(pixel_indices):\n",
    "    if pixel_indices[subpixel] not in pixel2subpixel_dict:\n",
    "        pixel2subpixel_dict[pixel] = []\n",
    "    pixel2subpixel_dict[pixel].append(subpixel)"
   ]
  },
  {
   "cell_type": "code",
   "execution_count": null,
   "id": "45d776b4",
   "metadata": {},
   "outputs": [],
   "source": [
    "# Verify previous step worked by counting list lenght per pixel\n",
    "\n",
    "#Every Pixel features: This must equal the len of unique pixel NPIX\n",
    "pixel_count = len(pixel2subpixel_dict.keys())\n",
    "print(pixel_count)\n",
    "\n",
    "#Verifying that the 64 subpixels are approximately associated to each pixel\n",
    "subpixel_count = 0\n",
    "min = 200\n",
    "max = 0\n",
    "for elem in pixel2subpixel_dict.keys():\n",
    "    elems_in_pixel = len(pixel2subpixel_dict[elem])\n",
    "    if elems_in_pixel < min:\n",
    "        min = elems_in_pixel\n",
    "    if elems_in_pixel > max:\n",
    "        max = elems_in_pixel\n",
    "    subpixel_count += elems_in_pixel\n",
    "\n",
    "print(min)\n",
    "print(max)\n",
    "print(subpixel_count)\n",
    "print(subpixel_count/pixel_count)\n"
   ]
  },
  {
   "cell_type": "code",
   "execution_count": null,
   "id": "044e70b7",
   "metadata": {},
   "outputs": [],
   "source": [
    "# THIS CODE IS NEEDED WHEN A NEW PIXEL2SUBPIXEL DICT WAS CREATED\n",
    "\n",
    "''' \n",
    "with open('../bricks_data/pixel2subpixel_256_2048.pickle', 'wb') as f:\n",
    "    pickle.dump(pixel2subpixel_dict, f)\n",
    "    f.close()\n",
    "'''"
   ]
  }
 ],
 "metadata": {
  "kernelspec": {
   "display_name": "Python 3",
   "language": "python",
   "name": "python3"
  },
  "language_info": {
   "codemirror_mode": {
    "name": "ipython",
    "version": 3
   },
   "file_extension": ".py",
   "mimetype": "text/x-python",
   "name": "python",
   "nbconvert_exporter": "python",
   "pygments_lexer": "ipython3",
   "version": "3.8.8"
  }
 },
 "nbformat": 4,
 "nbformat_minor": 5
}
