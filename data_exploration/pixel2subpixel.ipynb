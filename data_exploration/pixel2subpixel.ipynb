{
 "cells": [
  {
   "cell_type": "markdown",
   "id": "eb1a703a",
   "metadata": {},
   "source": [
    "# Mapping Pixels to Subpixels and creating a dict"
   ]
  },
  {
   "cell_type": "markdown",
   "id": "66b8898c",
   "metadata": {},
   "source": [
    "### 1. Map every pixel to 2k subpixels\n",
    "\n",
    "- Get center of subpixels using pix2ang\n",
    "- Then use theta, phi = raDec2thetaPhi(ra, dec) for all subpixels\n",
    "- pixel_indices = hp.ang2pix(NSIDE, theta,phi)\n",
    "- Maps the centers of all subpixels to the 256 pixels"
   ]
  },
  {
   "cell_type": "code",
   "execution_count": 1,
   "id": "3e66cb95",
   "metadata": {},
   "outputs": [],
   "source": [
    "import numpy as np\n",
    "from astropy.io import fits\n",
    "import healpy as hp\n",
    "import pandas as pd\n",
    "import matplotlib.path as mplPath\n",
    "import matplotlib.pyplot as plt\n",
    "import pickle"
   ]
  },
  {
   "cell_type": "code",
   "execution_count": null,
   "id": "c34e2a45",
   "metadata": {},
   "outputs": [],
   "source": [
    "def raDec2thetaPhi(ra, dec):\n",
    "    return (0.5 * np.pi - np.deg2rad(dec)), (np.deg2rad(ra))\n",
    "\n",
    "scaling_factor = 8\n",
    "\n",
    "NSIDE = 256\n",
    "NPIX = hp.nside2npix(NSIDE)\n",
    "NSIDE_SUB = NSIDE * scaling_factor\n",
    "NPIX_SUB = hp.nside2npix(NSIDE_SUB)\n",
    "print(NSIDE_SUB, NPIX_SUB)\n",
    "\n",
    "subpixels = np.arange(0,NPIX_SUB)\n",
    "print(len(subpixels))"
   ]
  },
  {
   "cell_type": "code",
   "execution_count": null,
   "id": "8c1b4dc1",
   "metadata": {},
   "outputs": [],
   "source": [
    "# Getting centers of subpixels and mapping subpixels 2 pixels\n",
    "\n",
    "subpixel_coords = hp.pix2ang(NSIDE_SUB,subpixels)\n",
    "theta_sub= subpixel_coords[0]\n",
    "phi_sub = subpixel_coords[1]\n",
    "pixel_indices = hp.ang2pix(NSIDE, theta_sub,phi_sub)\n",
    "print(len(pixel_indices))"
   ]
  },
  {
   "cell_type": "code",
   "execution_count": null,
   "id": "9b454e52",
   "metadata": {},
   "outputs": [],
   "source": [
    "# Verifying that pixelation worked accordingly\n",
    "\n",
    "unique = np.unique(pixel_indices)\n",
    "print(len(unique))"
   ]
  },
  {
   "cell_type": "code",
   "execution_count": null,
   "id": "a617f958",
   "metadata": {},
   "outputs": [],
   "source": [
    "pixel2subpixel_dict = {}\n",
    "\n",
    "#Loop through the assigned pixel of every subpixel and fill a dict\n",
    "for subpixel, pixel in enumerate(pixel_indices):\n",
    "    if pixel_indices[subpixel] not in pixel2subpixel_dict:\n",
    "        pixel2subpixel_dict[pixel] = []\n",
    "    pixel2subpixel_dict[pixel].append(subpixel)"
   ]
  },
  {
   "cell_type": "code",
   "execution_count": null,
   "id": "c1ddda59",
   "metadata": {},
   "outputs": [],
   "source": [
    "# Verify previous step worked by counting list lenght per pixel\n",
    "\n",
    "#Every Pixel features: This must equal the len of unique pixel NPIX\n",
    "pixel_count = len(pixel2subpixel_dict.keys())\n",
    "print(pixel_count)\n",
    "\n",
    "#Verifying that the 64 subpixels are approximately associated to each pixel\n",
    "subpixel_count = 0\n",
    "min = 200\n",
    "max = 0\n",
    "for elem in pixel2subpixel_dict.keys():\n",
    "    elems_in_pixel = len(pixel2subpixel_dict[elem])\n",
    "    if elems_in_pixel < min:\n",
    "        min = elems_in_pixel\n",
    "    if elems_in_pixel > max:\n",
    "        max = elems_in_pixel\n",
    "    subpixel_count += elems_in_pixel\n",
    "\n",
    "print(min)\n",
    "print(max)\n",
    "print(subpixel_count)\n",
    "print(subpixel_count/pixel_count)\n"
   ]
  },
  {
   "cell_type": "code",
   "execution_count": null,
   "id": "902a5216",
   "metadata": {},
   "outputs": [],
   "source": [
    "# THIS CODE IS NEEDED WHEN A NEW PIXEL2SUBPIXEL DICT WAS CREATED\n",
    "\n",
    "''' \n",
    "with open('../bricks_data/pixel2subpixel_256_2048.pickle', 'wb') as f:\n",
    "    pickle.dump(pixel2subpixel_dict, f)\n",
    "    f.close()\n",
    "'''"
   ]
  },
  {
   "cell_type": "code",
   "execution_count": null,
   "id": "70ddb43c",
   "metadata": {},
   "outputs": [],
   "source": [
    "#Plotting Pixel 2 SubPixel Mapping\n",
    "\n",
    "subpixels = pixel2subpixel_dict[459294]\n",
    "\n",
    "\n",
    "#Plot Subpixels\n",
    "for subpix in subpixels:\n",
    "    pixel_boundary = hp.boundaries(nside=NSIDE_SUB, pix=subpix, step=1)\n",
    "    pixel_boundary_raDec = hp.vec2ang(pixel_boundary.transpose(),lonlat=True)\n",
    "    pixel_boundary_raDec = list(pixel_boundary_raDec)\n",
    "    pixel_boundary_raDec[0] = np.append(pixel_boundary_raDec[0],pixel_boundary_raDec[0][0])\n",
    "    pixel_boundary_raDec[1] = np.append(pixel_boundary_raDec[1],pixel_boundary_raDec[1][0])\n",
    "    plt.plot(pixel_boundary_raDec[0],pixel_boundary_raDec[1], c='red')\n",
    "\n",
    "#Plot Larger Pixel\n",
    "pixel_boundary = hp.boundaries(nside=NSIDE, pix=459294, step=1)\n",
    "pixel_boundary_raDec = hp.vec2ang(pixel_boundary.transpose(),lonlat=True)\n",
    "pixel_boundary_raDec = list(pixel_boundary_raDec)\n",
    "pixel_boundary_raDec[0] = np.append(pixel_boundary_raDec[0],pixel_boundary_raDec[0][0])\n",
    "pixel_boundary_raDec[1] = np.append(pixel_boundary_raDec[1],pixel_boundary_raDec[1][0])\n",
    "plt.plot(pixel_boundary_raDec[0],pixel_boundary_raDec[1], c='black', label=\"Pixel Boundary\")\n",
    "\n",
    "\n",
    "plt.legend()\n",
    "plt.show()\n"
   ]
  },
  {
   "cell_type": "code",
   "execution_count": null,
   "id": "c04a2d46",
   "metadata": {},
   "outputs": [],
   "source": []
  }
 ],
 "metadata": {
  "kernelspec": {
   "display_name": "Python 3",
   "language": "python",
   "name": "python3"
  },
  "language_info": {
   "codemirror_mode": {
    "name": "ipython",
    "version": 3
   },
   "file_extension": ".py",
   "mimetype": "text/x-python",
   "name": "python",
   "nbconvert_exporter": "python",
   "pygments_lexer": "ipython3",
   "version": "3.8.8"
  }
 },
 "nbformat": 4,
 "nbformat_minor": 5
}
