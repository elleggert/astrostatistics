{
 "cells": [
  {
   "cell_type": "markdown",
   "id": "stupid-malawi",
   "metadata": {},
   "source": [
    "## Classification of Objects in selected bricks into ELG, LRG, QSO"
   ]
  },
  {
   "cell_type": "code",
   "execution_count": 35,
   "id": "forbidden-platform",
   "metadata": {},
   "outputs": [],
   "source": [
    "import sys\n",
    "import numpy as np\n",
    "from astropy import constants as const\n",
    "from astropy import units as u\n",
    "from astropy.io import fits\n",
    "from astropy.io import ascii\n",
    "import random\n",
    "import matplotlib.pyplot as plt\n",
    "import wget\n",
    "import seaborn as sns\n",
    "import random\n",
    "import os\n",
    "import warnings\n",
    "import time\n",
    "from sklearn.linear_model import LinearRegression\n",
    "import statsmodels.api as sm\n",
    "import pickle\n",
    "\n",
    "warnings.filterwarnings(\"ignore\")\n",
    "random.seed(666)\n",
    "#import healpy"
   ]
  },
  {
   "cell_type": "code",
   "execution_count": 36,
   "id": "declared-defeat",
   "metadata": {},
   "outputs": [
    {
     "name": "stdout",
     "output_type": "stream",
     "text": [
      "3.8.8\n"
     ]
    }
   ],
   "source": [
    "from platform import python_version\n",
    "print(python_version())"
   ]
  },
  {
   "cell_type": "markdown",
   "source": [
    "### Functions to deal with maskbits\n"
   ],
   "metadata": {
    "collapsed": false,
    "pycharm": {
     "name": "#%% md\n"
    }
   }
  },
  {
   "cell_type": "code",
   "execution_count": 45,
   "outputs": [],
   "source": [
    "def get_imaging_maskbits(bitnamelist=None):\n",
    "    \"\"\"Return MASKBITS names and bits from the Legacy Surveys.\n",
    "\n",
    "    Parameters\n",
    "    ----------\n",
    "    bitnamelist : :class:`list`, optional, defaults to ``None``\n",
    "        If not ``None``, return the bit values corresponding to the\n",
    "        passed names. Otherwise, return the full MASKBITS dictionary.\n",
    "\n",
    "    Returns\n",
    "    -------\n",
    "    :class:`list` or `dict`\n",
    "        A list of the MASKBITS values if `bitnamelist` is passed,\n",
    "        otherwise the full MASKBITS dictionary of names-to-values.\n",
    "\n",
    "    Notes\n",
    "    -----\n",
    "    - For the definitions of the mask bits, see, e.g.,\n",
    "      https://www.legacysurvey.org/dr8/bitmasks/#maskbits\n",
    "    \"\"\"\n",
    "    bitdict = {\"BRIGHT\": 1, \"ALLMASK_G\": 5, \"ALLMASK_R\": 6, \"ALLMASK_Z\": 7,\n",
    "               \"BAILOUT\": 10, \"MEDIUM\": 11, \"GALAXY\": 12, \"CLUSTER\": 13}\n",
    "\n",
    "    # ADM look up the bit value for each passed bit name.\n",
    "    if bitnamelist is not None:\n",
    "        return [bitdict[bitname] for bitname in bitnamelist]\n",
    "\n",
    "    return bitdict\n",
    "\n",
    "def get_default_maskbits(bgs=False, mws=False):\n",
    "    \"\"\"Return the names of the default MASKBITS for targets.\n",
    "\n",
    "    Parameters\n",
    "    ----------\n",
    "    bgs : :class:`bool`, defaults to ``False``.\n",
    "        If ``True`` load the \"default\" scheme for Bright Galaxy Survey\n",
    "        targets. Otherwise, load the default for other target classes.\n",
    "    mws : :class:`bool`, defaults to ``False``.\n",
    "        If ``True`` load the \"default\" scheme for Milky Way Survey\n",
    "        targets. Otherwise, load the default for other target classes.\n",
    "\n",
    "    Returns\n",
    "    -------\n",
    "    :class:`list`\n",
    "        A list of the default MASKBITS names for targets.\n",
    "\n",
    "    Notes\n",
    "    -----\n",
    "    - Only one of `bgs` or `mws` can be ``True``.\n",
    "    \"\"\"\n",
    "    if bgs and mws:\n",
    "        msg = \"Only one of bgs or mws can be passed as True\"\n",
    "        #Adapting to print messages\n",
    "        print(msg)\n",
    "        #log.critical(msg)\n",
    "        raise ValueError(msg)\n",
    "    if bgs:\n",
    "        return [\"BRIGHT\", \"CLUSTER\"]\n",
    "    if mws:\n",
    "        return [\"BRIGHT\", \"GALAXY\"]\n",
    "\n",
    "    return [\"BRIGHT\", \"GALAXY\", \"CLUSTER\"]\n",
    "\n",
    "def imaging_mask(maskbits, bitnamelist=get_default_maskbits(),\n",
    "                 bgsmask=False, mwsmask=False):\n",
    "    \"\"\"Apply the 'geometric' masks from the Legacy Surveys imaging.\n",
    "\n",
    "    Parameters\n",
    "    ----------\n",
    "    maskbits : :class:`~numpy.ndarray` or ``None``\n",
    "        General array of `Legacy Surveys mask`_ bits.\n",
    "    bitnamelist : :class:`list`, defaults to func:`get_default_maskbits()`\n",
    "        List of Legacy Surveys mask bits to set to ``False``.\n",
    "    bgsmask : :class:`bool`, defaults to ``False``.\n",
    "        Load the \"default\" scheme for Bright Galaxy Survey targets.\n",
    "        Overrides `bitnamelist`.\n",
    "    bgsmask : :class:`bool`, defaults to ``False``.\n",
    "        Load the \"default\" scheme for Milky Way Survey targets.\n",
    "        Overrides `bitnamelist`.\n",
    "\n",
    "    Returns\n",
    "    -------\n",
    "    :class:`~numpy.ndarray`\n",
    "        A boolean array that is the same length as `maskbits` that\n",
    "        contains ``False`` where any bits in `bitnamelist` are set.\n",
    "\n",
    "    Notes\n",
    "    -----\n",
    "    - Only one of `bgsmask` or `mwsmask` can be ``True``.\n",
    "    \"\"\"\n",
    "    # ADM default for the BGS or MWS..\n",
    "    if bgsmask or mwsmask:\n",
    "        bitnamelist = get_default_maskbits(bgs=bgsmask, mws=mwsmask)\n",
    "\n",
    "    # ADM get the bit values for the passed (or default) bit names.\n",
    "    bits = get_imaging_maskbits(bitnamelist)\n",
    "\n",
    "    # ADM Create array of True and set to False where a mask bit is set.\n",
    "    mb = np.ones_like(maskbits, dtype='?')\n",
    "    for bit in bits:\n",
    "        mb &= ((maskbits & 2**bit) == 0)\n",
    "\n",
    "    return mb\n"
   ],
   "metadata": {
    "collapsed": false,
    "pycharm": {
     "name": "#%%\n"
    }
   }
  },
  {
   "cell_type": "markdown",
   "id": "pursuant-socket",
   "metadata": {},
   "source": [
    "### Defining colour cuts - LRG"
   ]
  },
  {
   "cell_type": "code",
   "execution_count": 44,
   "outputs": [],
   "source": [
    "def isLRG(gflux=None, rflux=None, zflux=None, w1flux=None, w2flux=None,\n",
    "          zfiberflux=None, rfluxivar=None, zfluxivar=None, w1fluxivar=None,\n",
    "          gaiagmag=None, gnobs=None, rnobs=None, znobs=None, maskbits=None,\n",
    "          zfibertotflux=None, primary=None, south=True):\n",
    "    \"\"\"\n",
    "    Parameters\n",
    "    ----------\n",
    "    south: boolean, defaults to ``True``\n",
    "        Use cuts appropriate to the Northern imaging surveys (BASS/MzLS)\n",
    "        if ``south=False``, otherwise use cuts appropriate to the\n",
    "        Southern imaging survey (DECaLS).\n",
    "\n",
    "    Returns\n",
    "    -------\n",
    "    :class:`array_like`\n",
    "        ``True`` if and only if the object is an LRG target.\n",
    "\n",
    "    Notes\n",
    "    -----\n",
    "    - Current version (05/07/21) is version 260 on `the wiki`_.\n",
    "    - See :func:`~desitarget.cuts.set_target_bits` for other parameters.\n",
    "    \"\"\"\n",
    "    # ADM LRG targets.\n",
    "    if primary is None:\n",
    "        primary = np.ones_like(rflux, dtype='?')\n",
    "    lrg_quality = primary.copy()\n",
    "\n",
    "    # ADM basic quality cuts.\n",
    "    lrg_quality &= notinLRG_mask(\n",
    "        primary=primary, rflux=rflux, zflux=zflux, w1flux=w1flux,\n",
    "        zfiberflux=zfiberflux, gnobs=gnobs, rnobs=rnobs, znobs=znobs,\n",
    "        rfluxivar=rfluxivar, zfluxivar=zfluxivar, w1fluxivar=w1fluxivar,\n",
    "        gaiagmag=gaiagmag, maskbits=maskbits, zfibertotflux=zfibertotflux\n",
    "    )\n",
    "\n",
    "    # ADM color-based selection of LRGs.\n",
    "    lrg = isLRG_colors(\n",
    "        gflux=gflux, rflux=rflux, zflux=zflux, w1flux=w1flux,\n",
    "        zfiberflux=zfiberflux, south=south, primary=primary\n",
    "    )\n",
    "\n",
    "    lrg &= lrg_quality\n",
    "\n",
    "    return lrg\n",
    "\n",
    "def notinLRG_mask(primary=None, rflux=None, zflux=None, w1flux=None,\n",
    "                  zfiberflux=None, gnobs=None, rnobs=None, znobs=None,\n",
    "                  rfluxivar=None, zfluxivar=None, w1fluxivar=None,\n",
    "                  gaiagmag=None, maskbits=None, zfibertotflux=None):\n",
    "    \"\"\"See :func:`~desitarget.cuts.isLRG` for details.\n",
    "\n",
    "    Returns\n",
    "    -------\n",
    "    :class:`array_like`\n",
    "        ``True`` if and only if the object is NOT masked for poor quality.\n",
    "    \"\"\"\n",
    "    if primary is None:\n",
    "        primary = np.ones_like(rflux, dtype='?')\n",
    "    lrg = primary.copy()\n",
    "\n",
    "    # ADM to maintain backwards-compatibility with mocks.\n",
    "    if zfiberflux is None:\n",
    "        print('Setting zfiberflux to zflux!!!') ## Altered in my code to keep compatibilty\n",
    "        #log.warning('Setting zfiberflux to zflux!!!')\n",
    "        zfiberflux = zflux.copy()\n",
    "\n",
    "    lrg &= (rfluxivar > 0) & (rflux > 0)   # ADM quality in r.\n",
    "    lrg &= (zfluxivar > 0) & (zflux > 0) & (zfiberflux > 0)   # ADM quality in z.\n",
    "    lrg &= (w1fluxivar > 0) & (w1flux > 0)  # ADM quality in W1.\n",
    "\n",
    "    lrg &= (gaiagmag == 0) | (gaiagmag > 18)  # remove bright GAIA sources\n",
    "\n",
    "    # ADM remove stars with zfibertot < 17.5 that are missing from GAIA.\n",
    "    lrg &= zfibertotflux < 10**(-0.4*(17.5-22.5))\n",
    "\n",
    "    # ADM observed in every band.\n",
    "    lrg &= (gnobs > 0) & (rnobs > 0) & (znobs > 0)\n",
    "\n",
    "    # ADM default mask bits from the Legacy Surveys not set.\n",
    "    lrg &= imaging_mask(maskbits)\n",
    "\n",
    "    return lrg\n",
    "\n",
    "def isLRG_colors(gflux=None, rflux=None, zflux=None, w1flux=None,\n",
    "                 zfiberflux=None, ggood=None,\n",
    "                 w2flux=None, primary=None, south=True):\n",
    "    \"\"\"(see, e.g., :func:`~desitarget.cuts.isLRG`).\n",
    "\n",
    "    Notes:\n",
    "        - the `ggood` and `w2flux` inputs are an attempt to maintain\n",
    "          backwards-compatibility with the mocks.\n",
    "    \"\"\"\n",
    "    if primary is None:\n",
    "        primary = np.ones_like(rflux, dtype='?')\n",
    "    lrg = primary.copy()\n",
    "\n",
    "    # ADM to maintain backwards-compatibility with mocks.\n",
    "    if zfiberflux is None:\n",
    "        print('Setting zfiberflux to zflux!!!') ## Altered in my code to keep compatibilty\n",
    "        #log.warning('Setting zfiberflux to zflux!!!')\n",
    "        zfiberflux = zflux.copy()\n",
    "\n",
    "    gmag = 22.5 - 2.5 * np.log10(gflux.clip(1e-7))\n",
    "    # ADM safe as these fluxes are set to > 0 in notinLRG_mask.\n",
    "    rmag = 22.5 - 2.5 * np.log10(rflux.clip(1e-7))\n",
    "    zmag = 22.5 - 2.5 * np.log10(zflux.clip(1e-7))\n",
    "    w1mag = 22.5 - 2.5 * np.log10(w1flux.clip(1e-7))\n",
    "    zfibermag = 22.5 - 2.5 * np.log10(zfiberflux.clip(1e-7))\n",
    "\n",
    "    # Full SV3 selection\n",
    "    if south:\n",
    "        lrg &= zmag - w1mag > 0.8 * (rmag - zmag) - 0.6  # non-stellar cut\n",
    "        lrg &= zfibermag < 21.6                   # faint limit\n",
    "        lrg &= (gmag - w1mag > 2.9) | (rmag - w1mag > 1.8)  # low-z cuts\n",
    "        lrg &= (\n",
    "            ((rmag - w1mag > (w1mag - 17.14) * 1.8)\n",
    "             & (rmag - w1mag > (w1mag - 16.33) * 1.))\n",
    "            | (rmag - w1mag > 3.3)\n",
    "        )  # double sliding cuts and high-z extension\n",
    "    else:\n",
    "        lrg &= zmag - w1mag > 0.8 * (rmag - zmag) - 0.6  # non-stellar cut\n",
    "        lrg &= zfibermag < 21.61                   # faint limit\n",
    "        lrg &= (gmag - w1mag > 2.97) | (rmag - w1mag > 1.8)  # low-z cuts\n",
    "        lrg &= (\n",
    "            ((rmag - w1mag > (w1mag - 17.13) * 1.83)\n",
    "             & (rmag - w1mag > (w1mag - 16.31) * 1.))\n",
    "            | (rmag - w1mag > 3.4)\n",
    "        )  # double sliding cuts and high-z extension\n",
    "\n",
    "    return lrg"
   ],
   "metadata": {
    "collapsed": false,
    "pycharm": {
     "name": "#%%\n"
    }
   }
  },
  {
   "cell_type": "markdown",
   "source": [
    "### Defining Colour\n",
    "\n"
   ],
   "metadata": {
    "collapsed": false,
    "pycharm": {
     "name": "#%% md\n"
    }
   }
  },
  {
   "cell_type": "code",
   "execution_count": null,
   "outputs": [],
   "source": [],
   "metadata": {
    "collapsed": false,
    "pycharm": {
     "name": "#%%\n"
    }
   }
  },
  {
   "cell_type": "code",
   "execution_count": 37,
   "id": "threatened-relationship",
   "metadata": {},
   "outputs": [],
   "source": [
    "def is_LRG_target(g,r,z,W1):\n",
    "    if not (18.01 < z < 20.41):\n",
    "        return False\n",
    "    if not (0.75 < (r - z) < 2.45):\n",
    "        return False\n",
    "    if not (-0.6 < (z - W1) - 0.8*(r - z)):\n",
    "        return False\n",
    "    if not ((z - 17.18)/2 < (r - z) < (z - 15.11)/2):\n",
    "        return False\n",
    "    if not (((r - z) > 1.15) or ((g-r) > 1.65)):\n",
    "        return False\n",
    "    return True\n",
    "    \n",
    "def is_ELG_target(g,r,z):\n",
    "    if not (21.0 < g < 23.45):\n",
    "        return False\n",
    "    if not (0.3 < (r - z) < 1.6):\n",
    "        return False\n",
    "    if not ((g-r) < 1.15*(r-z) - 0.15):\n",
    "        return False\n",
    "    if not ((g-r) < 1.6 - 1.2*(r-z)):\n",
    "        return False\n",
    "    return True\n",
    "\n",
    "def is_QSO_target(g,r,z,maskbit):\n",
    "    if r > 22.7:\n",
    "        return False\n",
    "    if r < 17.5:\n",
    "        return False\n",
    "    if not g - r < 1.3:\n",
    "        return False\n",
    "    if not (-0.4 < r - z < 1.1):\n",
    "        return False\n",
    "    return True\n",
    "        "
   ]
  },
  {
   "cell_type": "markdown",
   "id": "purple-sentence",
   "metadata": {},
   "source": [
    "### Getting bricks data"
   ]
  },
  {
   "cell_type": "code",
   "execution_count": 42,
   "id": "prime-humor",
   "metadata": {},
   "outputs": [],
   "source": [
    "hdulistBricksSummary = fits.open('../bricks_data/survey-bricks-dr9-south.fits')\n",
    "dataSummary = hdulistBricksSummary[1].data\n",
    "bricknameSummary = dataSummary.field('brickname')\n",
    "brickidSummary = dataSummary.field('brickid')\n",
    "brick_galaxy_info = np.array([[220271,34,10,177]])\n",
    "# Todo: Get new reference brick after I finished the appropriate classification"
   ]
  },
  {
   "cell_type": "markdown",
   "id": "forbidden-character",
   "metadata": {},
   "source": [
    "## Classification Loop\n",
    "#### Steps:\n",
    "##### 1. Download a randomly sampled brick\n",
    "##### 2. Calculate extinction corrected magnitudes ( m=22.5−2.5log10(flux))\n",
    "##### 3. Apply colour cuts\n",
    "##### 4. Delete brick data"
   ]
  },
  {
   "cell_type": "code",
   "execution_count": 39,
   "outputs": [
    {
     "name": "stdout",
     "output_type": "stream",
     "text": [
      "253658\n",
      "253658\n",
      "253658\n"
     ]
    }
   ],
   "source": [
    "# Asserting that numerical brickId is also unique and can be used as more storage efficient index to a brick\n",
    "print(len(bricknameSummary))\n",
    "print(len(brickidSummary))\n",
    "print(len(np.unique(brickidSummary)))"
   ],
   "metadata": {
    "collapsed": false,
    "pycharm": {
     "name": "#%%\n"
    }
   }
  },
  {
   "cell_type": "code",
   "execution_count": 43,
   "id": "annoying-brief",
   "metadata": {
    "scrolled": true
   },
   "outputs": [
    {
     "name": "stdout",
     "output_type": "stream",
     "text": [
      "Bricks finished: 0  of 1000\n",
      "[[220271     34     10    177]\n",
      " [492321     22    162   1029]]\n",
      "Time taken:  5.350919723510742\n"
     ]
    }
   ],
   "source": [
    "start = time.time()\n",
    "\n",
    "for brick in range(1):\n",
    "    \n",
    "    #Sampling a random brick and preparing the data\n",
    "    randomint = random.randint(0, len(bricknameSummary))\n",
    "    brickname = bricknameSummary[randomint] \n",
    "    brickid = brickidSummary[randomint] \n",
    "    \n",
    "    folder = brickname[:3]\n",
    "    url = f'https://portal.nersc.gov/cfs/cosmo/data/legacysurvey/dr9/south/tractor/{folder}/tractor-{brickname}.fits'\n",
    "    #wget.download(url, '../bricks_data/tractor/')\n",
    "    wget.download(url, '/Volumes/Astrostick/bricks_data/')\n",
    "\n",
    "    #hdulistSingleBrick = fits.open(f'../bricks_data/tractor/tractor-{brickname}.fits')\n",
    "\n",
    "    hdulistSingleBrick = fits.open(f'/Volumes/Astrostick/bricks_data/tractor-{brickname}.fits')\n",
    "    data = hdulistSingleBrick[1].data\n",
    "    \n",
    "    #fluxes and magnitude\n",
    "    flux_g = data.field('flux_g')\n",
    "    flux_r = data.field('flux_r')\n",
    "    flux_z = data.field('flux_z')\n",
    "    flux_w1 = data.field('flux_w1')\n",
    "    flux_w2 = data.field('flux_w2')\n",
    "    flux_w3 = data.field('flux_w3')\n",
    "    flux_w4 = data.field('flux_w4')\n",
    "\n",
    "    mw_transmission_g = data.field('mw_transmission_g')\n",
    "    mw_transmission_r = data.field('mw_transmission_r')\n",
    "    mw_transmission_z = data.field('mw_transmission_z')\n",
    "    mw_transmission_w1 = data.field('mw_transmission_w1')\n",
    "    mw_transmission_w2 = data.field('mw_transmission_w2')\n",
    "    mw_transmission_w3 = data.field('mw_transmission_w3')\n",
    "    mw_transmission_w4  = data.field('mw_transmission_w4')\n",
    "\n",
    "    #correcting for extinction ---> divide by the transmission\n",
    "    flux_g_corrected = flux_g / mw_transmission_g\n",
    "    flux_r_corrected = flux_r / mw_transmission_r\n",
    "    flux_z_corrected = flux_z / mw_transmission_z\n",
    "    flux_w1_corrected = flux_w1 / mw_transmission_w1\n",
    "    flux_w2_corrected = flux_w2 / mw_transmission_w2\n",
    "    flux_w3_corrected = flux_w3 / mw_transmission_w3\n",
    "    flux_w4_corrected = flux_w4 / mw_transmission_w4\n",
    "\n",
    "\n",
    "\n",
    "    mag_g = 22.5-2.5*np.log10(flux_g_corrected)\n",
    "    mag_r = 22.5-2.5*np.log10(flux_r_corrected)\n",
    "    mag_z = 22.5-2.5*np.log10(flux_z_corrected)\n",
    "    mag_w1 = 22.5-2.5*np.log10(flux_w1_corrected)\n",
    "    mag_w2 = 22.5-2.5*np.log10(flux_w2_corrected)\n",
    "    mag_w3 = 22.5-2.5*np.log10(flux_w3_corrected)\n",
    "    mag_w4 = 22.5-2.5*np.log10(flux_w4_corrected)\n",
    "\n",
    "    #Retrieving the maskbits for quasar detection\n",
    "\n",
    "    maskbits = data.field('maskbits')\n",
    "\n",
    "    target_label_array = np.zeros(len(mag_g))\n",
    "    for i in range(len(mag_g)):\n",
    "        if is_LRG_target(mag_g[i], mag_r[i], mag_z[i], mag_w1[i]):\n",
    "            target_label_array[i] = 1\n",
    "            continue\n",
    "        if is_ELG_target(mag_g[i], mag_r[i], mag_z[i]):\n",
    "            target_label_array[i] = 2\n",
    "            continue\n",
    "        if is_QSO_target(mag_g[i], mag_r[i], mag_z[i], maskbits[i]):\n",
    "            target_label_array[i] = 3\n",
    "            continue\n",
    "            \n",
    "    lrg = (target_label_array == 1).sum()\n",
    "    elg = (target_label_array == 2).sum()\n",
    "    qso = (target_label_array == 3).sum()\n",
    "    \n",
    "    summary_stats = np.array([[brickid,lrg,elg,qso]])\n",
    "\n",
    "    brick_galaxy_info = np.append(brick_galaxy_info, summary_stats, axis=0)\n",
    "    \n",
    "    #os.remove(f'../bricks_data/tractor/tractor-{brickname}.fits')\n",
    "    #os.remove(f'/Volumes/Astrostick/bricks_data/tractor-{brickname}.fits')\n",
    "\n",
    "    if (brick % 50) == 0:\n",
    "        print(\"Bricks finished:\", brick, \" of 1000\")\n",
    "\n",
    "print(brick_galaxy_info)\n",
    "\n",
    "print(\"Time taken: \", time.time()- start)"
   ]
  },
  {
   "cell_type": "code",
   "execution_count": null,
   "id": "hazardous-competition",
   "metadata": {},
   "outputs": [],
   "source": [
    "print(len(brick_galaxy_info))\n"
   ]
  },
  {
   "cell_type": "markdown",
   "id": "offensive-westminster",
   "metadata": {},
   "source": [
    "### Beginning preliminary analysis"
   ]
  },
  {
   "cell_type": "code",
   "execution_count": null,
   "id": "laden-programming",
   "metadata": {},
   "outputs": [],
   "source": [
    "sample = brick_galaxy_info\n",
    "nexp_gSummary = dataSummary.field('nexp_g')\n",
    "nexp_rSummary = dataSummary.field('nexp_r')\n",
    "nexp_zSummary = dataSummary.field('nexp_z')\n",
    "\n"
   ]
  },
  {
   "cell_type": "code",
   "execution_count": null,
   "id": "favorite-tunisia",
   "metadata": {},
   "outputs": [],
   "source": [
    "print(sample.shape)"
   ]
  },
  {
   "cell_type": "code",
   "execution_count": null,
   "id": "tracked-accountability",
   "metadata": {},
   "outputs": [],
   "source": [
    "sample = np.c_[sample, np.zeros(len(sample))]\n",
    "print(sample.shape)\n",
    "print(sample)"
   ]
  },
  {
   "cell_type": "code",
   "execution_count": null,
   "id": "played-virgin",
   "metadata": {},
   "outputs": [],
   "source": [
    "print(sample[:,0])\n",
    "ind = 0\n",
    "for j in range(len(brickidSummary)):\n",
    "    if sample[0,0] == brickidSummary[j]:\n",
    "        ind = j\n",
    "print(ind)\n",
    "print(nexp_gSummary[ind])\n",
    "print(nexp_rSummary[ind])\n",
    "print(nexp_zSummary[ind])\n"
   ]
  },
  {
   "cell_type": "code",
   "execution_count": null,
   "id": "fallen-immune",
   "metadata": {},
   "outputs": [],
   "source": [
    "#Exporting the data\n",
    "with open('sample_brick_catalogue.pickle', 'wb') as f:\n",
    "    pickle.dump(sample, f)"
   ]
  },
  {
   "cell_type": "code",
   "execution_count": null,
   "id": "aerial-myanmar",
   "metadata": {},
   "outputs": [],
   "source": [
    "\n",
    "sampled = sample\n",
    "for i in range(len(sampled)):\n",
    "    index = 0\n",
    "    for j in range(len(brickidSummary)):\n",
    "        if sampled[i,0] == brickidSummary[j]:\n",
    "            index = j\n",
    "    sampled[i, 4] = nexp_gSummary[index]\n",
    "    sampled[i, 5] = nexp_rSummary[index]\n",
    "    sampled[i, 6] = nexp_zSummary[index]"
   ]
  },
  {
   "cell_type": "code",
   "execution_count": null,
   "id": "virgin-extraction",
   "metadata": {},
   "outputs": [],
   "source": [
    "elg = sampled[:, 1].reshape(-1, 1)\n",
    "lrg = sampled[:, 2].reshape(-1, 1)\n",
    "olg = sampled[:, 3].reshape(-1, 1)\n",
    "exposure_g = sampled[:, 4].reshape(-1, 1)\n",
    "exposure_r = sampled[:, 5].reshape(-1, 1)\n",
    "exposure_z = sampled[:, 6].reshape(-1, 1)"
   ]
  },
  {
   "cell_type": "code",
   "execution_count": null,
   "id": "neither-ground",
   "metadata": {},
   "outputs": [],
   "source": [
    "reg_g_elg = LinearRegression().fit(exposure_g, elg)\n",
    "print(reg_g_elg.score(exposure_g, elg))"
   ]
  },
  {
   "cell_type": "code",
   "execution_count": null,
   "id": "alive-affect",
   "metadata": {},
   "outputs": [],
   "source": [
    "elg = sampled[:, 1]\n",
    "exposure_g = sampled[:, 4].reshape(-1,1)\n",
    "print(elg.shape)\n",
    "print(exposure_g.shape)\n",
    "ols_g_elg = sm.OLS(elg,exposure_g).fit()\n",
    "print(ols_g_elg.summary())"
   ]
  },
  {
   "cell_type": "code",
   "execution_count": null,
   "id": "attended-cinema",
   "metadata": {},
   "outputs": [],
   "source": []
  }
 ],
 "metadata": {
  "kernelspec": {
   "display_name": "Python 3",
   "language": "python",
   "name": "python3"
  },
  "language_info": {
   "codemirror_mode": {
    "name": "ipython",
    "version": 3
   },
   "file_extension": ".py",
   "mimetype": "text/x-python",
   "name": "python",
   "nbconvert_exporter": "python",
   "pygments_lexer": "ipython3",
   "version": "3.8.8"
  }
 },
 "nbformat": 4,
 "nbformat_minor": 5
}