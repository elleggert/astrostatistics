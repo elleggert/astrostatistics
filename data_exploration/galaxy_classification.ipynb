{
 "cells": [
  {
   "cell_type": "code",
   "execution_count": 13,
   "id": "active-advertising",
   "metadata": {},
   "outputs": [],
   "source": [
    "import sys\n",
    "import numpy as np\n",
    "import pandas\n",
    "from astropy import constants as const\n",
    "from astropy import units as u\n",
    "from astropy.io import fits\n",
    "from astropy.io import ascii\n",
    "import random\n",
    "import matplotlib.pyplot as plt\n",
    "import wget\n",
    "import seaborn as sns\n",
    "import random\n",
    "import os\n",
    "#import healpy"
   ]
  },
  {
   "cell_type": "code",
   "execution_count": 2,
   "id": "broke-warrior",
   "metadata": {},
   "outputs": [],
   "source": [
    "hdulistBricksSummary = fits.open('../bricks_data/survey-bricks-dr9-south.fits')\n",
    "dataSummary = hdulistBricksSummary[1].data\n",
    "bricknameSummary = dataSummary.field('brickname')"
   ]
  },
  {
   "cell_type": "code",
   "execution_count": 9,
   "id": "qualified-tomorrow",
   "metadata": {},
   "outputs": [
    {
     "name": "stdout",
     "output_type": "stream",
     "text": [
      "0056p090\n"
     ]
    }
   ],
   "source": [
    "randomint = random.randint(0, len(bricknameSummary))\n",
    "brickid = bricknameSummary[randomint] \n",
    "print(brickid)"
   ]
  },
  {
   "cell_type": "code",
   "execution_count": 12,
   "id": "blind-setup",
   "metadata": {},
   "outputs": [
    {
     "data": {
      "text/plain": [
       "'../bricks_data/tractor//tractor-0056p090.fits'"
      ]
     },
     "execution_count": 12,
     "metadata": {},
     "output_type": "execute_result"
    }
   ],
   "source": [
    "folder = brickid[:3]\n",
    "url = f'https://portal.nersc.gov/cfs/cosmo/data/legacysurvey/dr9/south/tractor/{folder}/tractor-{brickid}.fits'\n",
    "wget.download(url, '../bricks_data/tractor/')"
   ]
  },
  {
   "cell_type": "code",
   "execution_count": null,
   "id": "tested-amendment",
   "metadata": {},
   "outputs": [],
   "source": [
    "hdulistSingleBrick = fits.open(f'../bricks_data/tractor/tractor-{brickID}.fits')\n",
    "data = hdulistSingleBrick[1].data"
   ]
  },
  {
   "cell_type": "code",
   "execution_count": 14,
   "id": "capable-arbitration",
   "metadata": {},
   "outputs": [],
   "source": [
    "os.remove(f'../bricks_data/tractor/tractor-{brickid}.fits')"
   ]
  },
  {
   "cell_type": "code",
   "execution_count": null,
   "id": "seeing-going",
   "metadata": {},
   "outputs": [],
   "source": []
  }
 ],
 "metadata": {
  "kernelspec": {
   "display_name": "Python 3",
   "language": "python",
   "name": "python3"
  },
  "language_info": {
   "codemirror_mode": {
    "name": "ipython",
    "version": 3
   },
   "file_extension": ".py",
   "mimetype": "text/x-python",
   "name": "python",
   "nbconvert_exporter": "python",
   "pygments_lexer": "ipython3",
   "version": "3.9.1"
  }
 },
 "nbformat": 4,
 "nbformat_minor": 5
}
