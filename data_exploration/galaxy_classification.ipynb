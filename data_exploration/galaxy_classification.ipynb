{
 "cells": [
  {
   "cell_type": "markdown",
   "id": "directed-eugene",
   "metadata": {},
   "source": [
    "## Classification of Objects in selected bricks into ELG, LRG, QSO"
   ]
  },
  {
   "cell_type": "code",
   "execution_count": 66,
   "id": "needed-pizza",
   "metadata": {},
   "outputs": [],
   "source": [
    "import sys\n",
    "import numpy as np\n",
    "import pandas\n",
    "from astropy import constants as const\n",
    "from astropy import units as u\n",
    "from astropy.io import fits\n",
    "from astropy.io import ascii\n",
    "import random\n",
    "import matplotlib.pyplot as plt\n",
    "import wget\n",
    "import seaborn as sns\n",
    "import random\n",
    "import os\n",
    "import warnings\n",
    "import time\n",
    "\n",
    "warnings.filterwarnings(\"ignore\")\n",
    "random.seed(666)\n",
    "#import healpy"
   ]
  },
  {
   "cell_type": "markdown",
   "id": "peripheral-error",
   "metadata": {},
   "source": [
    "### Defining colour cuts"
   ]
  },
  {
   "cell_type": "code",
   "execution_count": 67,
   "id": "mathematical-canada",
   "metadata": {},
   "outputs": [],
   "source": [
    "def is_LRG_target(g,r,z,W1):\n",
    "    if not (18.01 < z < 20.41):\n",
    "        return False\n",
    "    if not (0.75 < (r - z) < 2.45):\n",
    "        return False\n",
    "    if not (-0.6 < (z - W1) - 0.8*(r - z)):\n",
    "        return False\n",
    "    if not ((z - 17.18)/2 < (r - z) < (z - 15.11)/2):\n",
    "        return False\n",
    "    if not (((r - z) > 1.15) or ((g-r) > 1.65)):\n",
    "        return False\n",
    "    return True\n",
    "    \n",
    "def is_ELG_target(g,r,z):\n",
    "    if not (21.0 < g < 23.45):\n",
    "        return False\n",
    "    if not (0.3 < (r - z) < 1.6):\n",
    "        return False\n",
    "    if not ((g-r) < 1.15*(r-z) - 0.15):\n",
    "        return False\n",
    "    if not ((g-r) < 1.6 - 1.2*(r-z)):\n",
    "        return False\n",
    "    return True\n",
    "\n",
    "def is_QSO_target(g,r,z,maskbit):\n",
    "    if r > 22.7:\n",
    "        return False\n",
    "    if r < 17.5:\n",
    "        return False\n",
    "    if not g - r < 1.3:\n",
    "        return False\n",
    "    if not (-0.4 < r - z < 1.1):\n",
    "        return False\n",
    "    return True\n",
    "        "
   ]
  },
  {
   "cell_type": "markdown",
   "id": "median-malaysia",
   "metadata": {},
   "source": [
    "### Getting bricks data"
   ]
  },
  {
   "cell_type": "code",
   "execution_count": 74,
   "id": "outstanding-indie",
   "metadata": {},
   "outputs": [],
   "source": [
    "hdulistBricksSummary = fits.open('../bricks_data/survey-bricks-dr9-south.fits')\n",
    "dataSummary = hdulistBricksSummary[1].data\n",
    "bricknameSummary = dataSummary.field('brickname')\n",
    "brickidSummary = dataSummary.field('brickid')\n",
    "brick_galaxy_info = np.array([[220271,34,10,177]])"
   ]
  },
  {
   "cell_type": "markdown",
   "id": "olympic-fleece",
   "metadata": {},
   "source": [
    "## Classification Loop\n",
    "#### Steps:\n",
    "##### 1. Download a randomly sampled brick\n",
    "##### 2. Calculate extinction corrected magnitudes ( m=22.5−2.5log10(flux))\n",
    "##### 3. Apply colour cuts\n",
    "##### 4. Delete brick data"
   ]
  },
  {
   "cell_type": "code",
   "execution_count": 75,
   "id": "respiratory-roulette",
   "metadata": {
    "scrolled": true
   },
   "outputs": [
    {
     "name": "stdout",
     "output_type": "stream",
     "text": [
      "Bricks finished: 5000/1000\n",
      "Bricks finished: 5150/1000\n",
      "Bricks finished: 4400/1000\n",
      "Bricks finished: 8300/1000\n",
      "Bricks finished: 9650/1000\n",
      "Bricks finished: 8850/1000\n",
      "Bricks finished: 6000/1000\n",
      "Bricks finished: 5800/1000\n",
      "Bricks finished: 3550/1000\n",
      "Bricks finished: 5800/1000\n",
      "Bricks finished: 8750/1000\n",
      "Bricks finished: 8350/1000\n",
      "Bricks finished: 4350/1000\n",
      "Bricks finished: 4750/1000\n",
      "Bricks finished: 4900/1000\n",
      "Bricks finished: 8750/1000\n",
      "Bricks finished: 6650/1000\n",
      "Bricks finished: 750/1000\n",
      "Bricks finished: 4250/1000\n",
      "Bricks finished: 8150/1000\n",
      "Bricks finished: 6950/1000\n",
      "Bricks finished: 5250/1000\n",
      "Bricks finished: 8150/1000\n",
      "Bricks finished: 5800/1000\n",
      "[[220271     34     10    177]\n",
      " [488055     42      4    372]\n",
      " [325364     41      1    272]\n",
      " ...\n",
      " [347429      0      0      0]\n",
      " [356213     36      0    232]\n",
      " [351350     62      4    288]]\n",
      "Time taken:  4617.492434978485\n"
     ]
    }
   ],
   "source": [
    "start = time.time()\n",
    "\n",
    "for i in range(1000):\n",
    "    \n",
    "    #Sampling a random brick and preparing the data\n",
    "    randomint = random.randint(0, len(bricknameSummary))\n",
    "    brickname = bricknameSummary[randomint] \n",
    "    brickid = brickidSummary[randomint] \n",
    "    \n",
    "    folder = brickname[:3]\n",
    "    url = f'https://portal.nersc.gov/cfs/cosmo/data/legacysurvey/dr9/south/tractor/{folder}/tractor-{brickname}.fits'\n",
    "    wget.download(url, '../bricks_data/tractor/')\n",
    "    \n",
    "    hdulistSingleBrick = fits.open(f'../bricks_data/tractor/tractor-{brickname}.fits')\n",
    "    data = hdulistSingleBrick[1].data\n",
    "    \n",
    "    #fluxes and magnitude\n",
    "    flux_g = data.field('flux_g')\n",
    "    flux_r = data.field('flux_r')\n",
    "    flux_z = data.field('flux_z')\n",
    "    flux_w1 = data.field('flux_w1')\n",
    "    flux_w2 = data.field('flux_w2')\n",
    "    flux_w3 = data.field('flux_w3')\n",
    "    flux_w4 = data.field('flux_w4')\n",
    "\n",
    "    mw_transmission_g = data.field('mw_transmission_g')\n",
    "    mw_transmission_r = data.field('mw_transmission_r')\n",
    "    mw_transmission_z = data.field('mw_transmission_z')\n",
    "    mw_transmission_w1 = data.field('mw_transmission_w1')\n",
    "    mw_transmission_w2 = data.field('mw_transmission_w2')\n",
    "    mw_transmission_w3 = data.field('mw_transmission_w3')\n",
    "    mw_transmission_w4  = data.field('mw_transmission_w4')\n",
    "\n",
    "    #correcting for extinction\n",
    "    flux_g_corrected = flux_g - mw_transmission_g\n",
    "    flux_r_corrected = flux_r - mw_transmission_r\n",
    "    flux_z_corrected = flux_z - mw_transmission_z\n",
    "    flux_w1_corrected = flux_w1 - mw_transmission_w1\n",
    "    flux_w2_corrected = flux_w2 - mw_transmission_w2\n",
    "    flux_w3_corrected = flux_w3 - mw_transmission_w3\n",
    "    flux_w4_corrected = flux_w4 - mw_transmission_w4\n",
    "\n",
    "\n",
    "\n",
    "    mag_g = 22.5-2.5*np.log10(flux_g_corrected)\n",
    "    mag_r = 22.5-2.5*np.log10(flux_r_corrected)\n",
    "    mag_z = 22.5-2.5*np.log10(flux_z_corrected)\n",
    "    mag_w1 = 22.5-2.5*np.log10(flux_w1_corrected)\n",
    "    mag_w2 = 22.5-2.5*np.log10(flux_w2_corrected)\n",
    "    mag_w3 = 22.5-2.5*np.log10(flux_w3_corrected)\n",
    "    mag_w4 = 22.5-2.5*np.log10(flux_w4_corrected)\n",
    "\n",
    "    #Retrieving the maskbits for quasar detection\n",
    "\n",
    "    maskbits = data.field('maskbits')\n",
    "\n",
    "    target_label_array = np.zeros(len(mag_g))\n",
    "    for i in range(len(mag_g)):\n",
    "        if is_LRG_target(mag_g[i], mag_r[i], mag_z[i], mag_w1[i]):\n",
    "            target_label_array[i] = 1\n",
    "            continue\n",
    "        if is_ELG_target(mag_g[i], mag_r[i], mag_z[i]):\n",
    "            target_label_array[i] = 2\n",
    "            continue\n",
    "        if is_QSO_target(mag_g[i], mag_r[i], mag_z[i], maskbits[i]):\n",
    "            target_label_array[i] = 3\n",
    "            continue\n",
    "            \n",
    "    lrg = (target_label_array == 1).sum()\n",
    "    elg = (target_label_array == 2).sum()\n",
    "    qso = (target_label_array == 3).sum()\n",
    "    \n",
    "    summary_stats = np.array([[brickid,lrg,elg,qso]])\n",
    "\n",
    "    brick_galaxy_info = np.append(brick_galaxy_info, summary_stats, axis=0)\n",
    "    \n",
    "    os.remove(f'../bricks_data/tractor/tractor-{brickname}.fits')\n",
    "    \n",
    "    if i % 50 == 0:  \n",
    "        print(f\"Bricks finished: {i}/1000\")\n",
    "\n",
    "print(brick_galaxy_info)\n",
    "\n",
    "print(\"Time taken: \", time.time()- start)"
   ]
  },
  {
   "cell_type": "code",
   "execution_count": 76,
   "id": "owned-drilling",
   "metadata": {},
   "outputs": [
    {
     "name": "stdout",
     "output_type": "stream",
     "text": [
      "1001\n"
     ]
    }
   ],
   "source": [
    "print(len(brick_galaxy_info))\n"
   ]
  },
  {
   "cell_type": "code",
   "execution_count": null,
   "id": "revolutionary-ability",
   "metadata": {},
   "outputs": [],
   "source": []
  }
 ],
 "metadata": {
  "kernelspec": {
   "display_name": "Python 3",
   "language": "python",
   "name": "python3"
  },
  "language_info": {
   "codemirror_mode": {
    "name": "ipython",
    "version": 3
   },
   "file_extension": ".py",
   "mimetype": "text/x-python",
   "name": "python",
   "nbconvert_exporter": "python",
   "pygments_lexer": "ipython3",
   "version": "3.9.1"
  }
 },
 "nbformat": 4,
 "nbformat_minor": 5
}
