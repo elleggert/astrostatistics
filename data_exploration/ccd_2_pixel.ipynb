{
 "cells": [
  {
   "cell_type": "code",
   "execution_count": null,
   "metadata": {
    "collapsed": true
   },
   "outputs": [],
   "source": [
    "import numpy as np\n",
    "from astropy.io import fits\n",
    "import healpy as hp\n",
    "import pandas as pd\n",
    "from desiutil.plots import plot_sky_binned\n",
    "import matplotlib.pyplot as plt\n",
    "import pickle\n",
    "\n",
    "\n"
   ]
  },
  {
   "cell_type": "markdown",
   "source": [
    "### Retrieving the relevant CCD Data"
   ],
   "metadata": {
    "collapsed": false,
    "pycharm": {
     "name": "#%% md\n"
    }
   }
  },
  {
   "cell_type": "code",
   "execution_count": null,
   "outputs": [],
   "source": [
    "decamCCD = fits.open('../bricks_data/ccds-annotated-decam-dr9.fits')\n",
    "#mosaicCCD = fits.open('../bricks_data/ccds-annotated-mosaic-dr9.fits')\n",
    "#bassCCD = fits.open('../bricks_data/ccds-annotated-90prime-dr9.fits')\n",
    "print(decamCCD[1].columns)\n"
   ],
   "metadata": {
    "collapsed": false,
    "pycharm": {
     "name": "#%%\n"
    }
   }
  },
  {
   "cell_type": "code",
   "execution_count": null,
   "outputs": [],
   "source": [
    "dataDecam = decamCCD[1].data\n",
    "#dataMosaic = mosaicCCD[1].data\n",
    "#dataBass = bassCCD[1].data"
   ],
   "metadata": {
    "collapsed": false,
    "pycharm": {
     "name": "#%%\n"
    }
   }
  },
  {
   "cell_type": "code",
   "execution_count": null,
   "outputs": [],
   "source": [
    "ra0 = dataDecam.field('ra0')\n",
    "dec0 = dataDecam.field('dec0')\n",
    "ra1 = dataDecam.field('ra1')\n",
    "dec1 = dataDecam.field('dec1')\n",
    "ra2 = dataDecam.field('ra2')\n",
    "dec2 = dataDecam.field('dec2')\n",
    "ra3 = dataDecam.field('ra3')\n",
    "dec3 = dataDecam.field('dec3')"
   ],
   "metadata": {
    "collapsed": false,
    "pycharm": {
     "name": "#%%\n"
    }
   }
  },
  {
   "cell_type": "code",
   "execution_count": null,
   "outputs": [],
   "source": [
    "df = pd.read_csv('../bricks_data/galaxy_catalogue_sample.csv')\n",
    "\n",
    "ra = df[\"RA\"].to_numpy(copy=True)\n",
    "dec = df[\"DEC\"].to_numpy(copy=True)\n",
    "\n",
    "raDec = np.stack((ra,dec), axis=1)\n",
    "\n",
    "raDec.shape"
   ],
   "metadata": {
    "collapsed": false,
    "pycharm": {
     "name": "#%%\n"
    }
   }
  },
  {
   "cell_type": "markdown",
   "source": [
    "### Defining Healpy Utilities"
   ],
   "metadata": {
    "collapsed": false,
    "pycharm": {
     "name": "#%% md\n"
    }
   }
  },
  {
   "cell_type": "code",
   "execution_count": null,
   "outputs": [],
   "source": [
    "def raDec2thetaPhi(ra, dec):\n",
    "    return (0.5 * np.pi - np.deg2rad(dec)), (np.deg2rad(ra))\n",
    "\n",
    "NSIDE = 256\n",
    "NPIX = hp.nside2npix(NSIDE)\n"
   ],
   "metadata": {
    "collapsed": false,
    "pycharm": {
     "name": "#%%\n"
    }
   }
  },
  {
   "cell_type": "code",
   "execution_count": null,
   "outputs": [],
   "source": [
    "ax = plot_sky_binned(ra, dec, plot_type='healpix', max_bin_area=1, verbose=True)\n"
   ],
   "metadata": {
    "collapsed": false,
    "pycharm": {
     "name": "#%%\n"
    }
   }
  },
  {
   "cell_type": "markdown",
   "source": [
    "### First Step: Identify which CCD is associated to which pixel"
   ],
   "metadata": {
    "collapsed": false,
    "pycharm": {
     "name": "#%% md\n"
    }
   }
  },
  {
   "cell_type": "code",
   "execution_count": null,
   "outputs": [],
   "source": [
    "pixel2ccd_dict = {}\n",
    "count_ex = 0\n",
    "\n",
    "# In this function, I am first converting every CCD into a given polygon using its corner coordinates\n",
    "# Afterwards, I am using the ang2vec function and the hp.query_polygon function, to identify every pixel that features the given CCD\n",
    "# Then, I am creating a dictionary that lists all CCDs for a given pixel\n",
    "\n",
    "for no in range(len(ra0)):#range(len(ra0)):\n",
    "    x_coord_polygon = np.array([ra0[no],ra1[no], ra2[no], ra3[no]])\n",
    "    y_coord_polygon = np.array([dec0[no],dec1[no], dec2[no], dec3[no]])\n",
    "    theta, phi = raDec2thetaPhi(x_coord_polygon, y_coord_polygon)\n",
    "\n",
    "    ccd_vertices_3d = hp.ang2vec(theta=theta, phi=phi)\n",
    "\n",
    "    # Now, Im getting all healpy pixels that a given CCD covers\n",
    "    try:\n",
    "        pixels_for_ccd = hp.query_polygon(nside=NSIDE, vertices=ccd_vertices_3d, inclusive=True)\n",
    "    except:\n",
    "        count_ex += 1\n",
    "        continue\n",
    "    # This will give me the mapping CCD --> Pixel\n",
    "    # Now, im reverting the mapping\n",
    "    # For every pixel that a given CCD cuts, enter the CCD into the pixel dictionary\n",
    "    # Mapping: Pixel --> CCDs\n",
    "    for pixel in pixels_for_ccd:\n",
    "        if pixel not in pixel2ccd_dict:\n",
    "            pixel2ccd_dict[pixel] = []\n",
    "        pixel2ccd_dict[pixel].append(no)\n",
    "\n",
    "    if no % 40000 == 0:\n",
    "        print(no, count_ex)\n",
    "\n",
    "# Find out what happens to 2467 CCDs where query polygon throws unknown exception"
   ],
   "metadata": {
    "collapsed": false,
    "pycharm": {
     "name": "#%%\n"
    }
   }
  },
  {
   "cell_type": "code",
   "execution_count": null,
   "outputs": [],
   "source": [
    "#Exporting to Pickle, since this process only needs to be run once\n",
    "#The filename number (e.g.256) indicates the NSIDE of the Healpy pixels used to generate the pixalisation\n",
    "\n",
    "with open('../bricks_data/brickpixel2ccd_256.pickle', 'wb') as f:\n",
    "    pickle.dump(pixel2ccd_dict, f)\n",
    "    f.close()\n",
    "\n",
    "\n",
    "# with open('pixel2ccd_256.pickle') as f:\n",
    "    #data = pickle.load(f)\n",
    "\n",
    "\n"
   ],
   "metadata": {
    "collapsed": false,
    "pycharm": {
     "name": "#%%\n"
    }
   }
  },
  {
   "cell_type": "markdown",
   "source": [
    "#### Plotting the Boundaries of the different CCDs that are associated to an arbitrary pixel\n"
   ],
   "metadata": {
    "collapsed": false
   }
  },
  {
   "cell_type": "code",
   "execution_count": null,
   "outputs": [],
   "source": [
    "pixel_number = 620311\n",
    "print(pixel2ccd_dict.keys())\n",
    "print(len(pixel2ccd_dict.keys()))\n",
    "\n",
    "for i, keys in enumerate(pixel2ccd_dict.keys()):\n",
    "    break\n",
    "    ccd = pixel2ccd_dict[keys]\n",
    "    print(\"Number of CCDs that are cutting pixel number \", keys, \":\", len(ccd))\n",
    "    for cc in ccd:\n",
    "    #coord = [[x0,y0], [x1,y1], [x2,y2], [x3,y3], [x0,y0]]\n",
    "        xs = [ra0[cc],ra1[cc], ra2[cc], ra3[cc],ra0[cc] ]\n",
    "        ys = [dec0[cc],dec1[cc], dec2[cc], dec3[cc],dec0[cc]]\n",
    "        plt.plot(xs,ys)\n",
    "\n",
    "    if i > 3:\n",
    "        break\n",
    "plt.show()"
   ],
   "metadata": {
    "collapsed": false,
    "pycharm": {
     "name": "#%%\n"
    }
   }
  },
  {
   "cell_type": "code",
   "execution_count": null,
   "outputs": [],
   "source": [
    "print(NPIX)\n",
    "\n",
    "\n"
   ],
   "metadata": {
    "collapsed": false,
    "pycharm": {
     "name": "#%%\n"
    }
   }
  },
  {
   "cell_type": "code",
   "execution_count": null,
   "outputs": [],
   "source": [],
   "metadata": {
    "collapsed": false,
    "pycharm": {
     "name": "#%%\n"
    }
   }
  }
 ],
 "metadata": {
  "kernelspec": {
   "display_name": "Python 3",
   "language": "python",
   "name": "python3"
  },
  "language_info": {
   "codemirror_mode": {
    "name": "ipython",
    "version": 2
   },
   "file_extension": ".py",
   "mimetype": "text/x-python",
   "name": "python",
   "nbconvert_exporter": "python",
   "pygments_lexer": "ipython2",
   "version": "2.7.6"
  }
 },
 "nbformat": 4,
 "nbformat_minor": 0
}