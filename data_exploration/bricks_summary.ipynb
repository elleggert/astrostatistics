{
 "cells": [
  {
   "cell_type": "code",
   "execution_count": 1,
   "id": "clean-bargain",
   "metadata": {},
   "outputs": [],
   "source": [
    "#Importing necessary libraries\n",
    "\n",
    "import sys\n",
    "import numpy as np\n",
    "import pandas\n",
    "from astropy import constants as const\n",
    "from astropy import units as u\n",
    "from astropy.io import fits\n",
    "from astropy.io import ascii\n",
    "import random\n",
    "import matplotlib.pyplot as plt\n",
    "#import healpy"
   ]
  },
  {
   "cell_type": "code",
   "execution_count": 4,
   "id": "vietnamese-fraction",
   "metadata": {},
   "outputs": [],
   "source": [
    "#Open fits images\n",
    "hdulist = fits.open('../bricks_data/survey-bricks-dr9-south.fits')"
   ]
  },
  {
   "cell_type": "code",
   "execution_count": 5,
   "id": "occupied-witness",
   "metadata": {},
   "outputs": [
    {
     "name": "stdout",
     "output_type": "stream",
     "text": [
      "Filename: ../bricks_data/survey-bricks-dr9-south.fits\n",
      "No.    Name      Ver    Type      Cards   Dimensions   Format\n",
      "  0  PRIMARY       1 PrimaryHDU       6   ()      \n",
      "  1                1 BinTableHDU    110   253658R x 51C   [8A, D, D, I, I, I, 6J, 6J, 6J, J, J, J, J, J, J, J, J, J, E, E, E, E, E, E, E, E, E, E, E, E, E, E, E, E, E, E, E, 4I, 4E, E, E, E, E, J, D, D, D, D, D, L, L]   \n"
     ]
    }
   ],
   "source": [
    "hdulist.info()"
   ]
  },
  {
   "cell_type": "code",
   "execution_count": 6,
   "id": "moral-brass",
   "metadata": {},
   "outputs": [
    {
     "data": {
      "text/plain": "ColDefs(\n    name = 'brickname'; format = '8A'\n    name = 'ra'; format = 'D'\n    name = 'dec'; format = 'D'\n    name = 'nexp_g'; format = 'I'\n    name = 'nexp_r'; format = 'I'\n    name = 'nexp_z'; format = 'I'\n    name = 'nexphist_g'; format = '6J'\n    name = 'nexphist_r'; format = '6J'\n    name = 'nexphist_z'; format = '6J'\n    name = 'nobjs'; format = 'J'\n    name = 'npsf'; format = 'J'\n    name = 'nsimp'; format = 'J'\n    name = 'nrex'; format = 'J'\n    name = 'nexp'; format = 'J'\n    name = 'ndev'; format = 'J'\n    name = 'ncomp'; format = 'J'\n    name = 'nser'; format = 'J'\n    name = 'ndup'; format = 'J'\n    name = 'psfsize_g'; format = 'E'\n    name = 'psfsize_r'; format = 'E'\n    name = 'psfsize_z'; format = 'E'\n    name = 'psfdepth_g'; format = 'E'\n    name = 'psfdepth_r'; format = 'E'\n    name = 'psfdepth_z'; format = 'E'\n    name = 'galdepth_g'; format = 'E'\n    name = 'galdepth_r'; format = 'E'\n    name = 'galdepth_z'; format = 'E'\n    name = 'ebv'; format = 'E'\n    name = 'trans_g'; format = 'E'\n    name = 'trans_r'; format = 'E'\n    name = 'trans_z'; format = 'E'\n    name = 'cosky_g'; format = 'E'\n    name = 'cosky_r'; format = 'E'\n    name = 'cosky_z'; format = 'E'\n    name = 'ext_g'; format = 'E'\n    name = 'ext_r'; format = 'E'\n    name = 'ext_z'; format = 'E'\n    name = 'wise_nobs'; format = '4I'\n    name = 'trans_wise'; format = '4E'\n    name = 'ext_w1'; format = 'E'\n    name = 'ext_w2'; format = 'E'\n    name = 'ext_w3'; format = 'E'\n    name = 'ext_w4'; format = 'E'\n    name = 'brickid'; format = 'J'\n    name = 'ra1'; format = 'D'\n    name = 'ra2'; format = 'D'\n    name = 'dec1'; format = 'D'\n    name = 'dec2'; format = 'D'\n    name = 'area'; format = 'D'\n    name = 'survey_primary'; format = 'L'\n    name = 'in_desi'; format = 'L'\n)"
     },
     "execution_count": 6,
     "metadata": {},
     "output_type": "execute_result"
    }
   ],
   "source": [
    "hdulist[1].columns"
   ]
  },
  {
   "cell_type": "code",
   "execution_count": 7,
   "id": "addressed-afghanistan",
   "metadata": {},
   "outputs": [
    {
     "name": "stdout",
     "output_type": "stream",
     "text": [
      "['0001m002' '0001m005' '0001m007' ... '3598p337' '3598p340' '3598p342']\n",
      "No of objects in data: 253658\n",
      "[[   13721    10684     3049     5047     5451 11768144]\n",
      " [    1013      335      192      160      980 11799410]\n",
      " [     515      192      271      273     1028 11796945]\n",
      " ...\n",
      " [  187516  3293297  8293381        0        0        0]\n",
      " [ 1031933  6749981  3997104        0        0        0]\n",
      " [ 9471026  2292908        0        0        0        0]]\n",
      "[7986 8746 8422 ... 3867 3505  625]\n",
      "1649627447\n",
      "6503.352730842315\n",
      "167222\n"
     ]
    }
   ],
   "source": [
    "data = hdulist[1].data\n",
    "brickname = data.field('brickname')\n",
    "print(brickname)\n",
    "print(\"No of objects in data:\" , len(brickname))\n",
    "\n",
    "nexp_g = data.field('nexp_g')\n",
    "nexp_r = data.field('nexp_r')\n",
    "nexp_z = data.field('nexp_z')\n",
    "\n",
    "nexphist_g = data.field('nexphist_g')\n",
    "print(nexphist_g)\n",
    "\n",
    "nobjs = data.field('nobjs')\n",
    "print(nobjs)\n",
    "print(nobjs.sum())\n",
    "print(nobjs.mean())\n",
    "\n",
    "in_desi = data.field('in_desi')\n",
    "print(in_desi.sum())"
   ]
  },
  {
   "cell_type": "code",
   "execution_count": 8,
   "id": "demanding-county",
   "metadata": {},
   "outputs": [
    {
     "data": {
      "text/plain": "<Figure size 432x288 with 1 Axes>",
      "image/png": "[encoded data removed]"
     },
     "metadata": {
      "needs_background": "light"
     },
     "output_type": "display_data"
    }
   ],
   "source": [
    "plt.scatter(nexp_g, nobjs)\n",
    "plt.show()"
   ]
  },
  {
   "cell_type": "code",
   "execution_count": 9,
   "id": "vocal-belgium",
   "metadata": {},
   "outputs": [
    {
     "data": {
      "text/plain": "<Figure size 432x288 with 1 Axes>",
      "image/png": "[encoded data removed]"
     },
     "metadata": {
      "needs_background": "light"
     },
     "output_type": "display_data"
    },
    {
     "name": "stdout",
     "output_type": "stream",
     "text": [
      "54\n"
     ]
    }
   ],
   "source": [
    "plt.hist(nobjs, [2000, 4000, 6000, 8000, 10000, 12000, 14000, 16000, 18000, 20000])\n",
    "plt.show()\n",
    "print(len(nobjs[nobjs > 30000]))"
   ]
  },
  {
   "cell_type": "code",
   "execution_count": 10,
   "id": "global-crossing",
   "metadata": {},
   "outputs": [
    {
     "name": "stdout",
     "output_type": "stream",
     "text": [
      "[0.06249941 0.06249762 0.06249465 ... 0.06236022 0.06238577 0.06230576]\n"
     ]
    },
    {
     "data": {
      "text/plain": "<Figure size 432x288 with 1 Axes>",
      "image/png": "[encoded data removed]"
     },
     "metadata": {
      "needs_background": "light"
     },
     "output_type": "display_data"
    }
   ],
   "source": [
    "area = data.field('area')\n",
    "print(area)\n",
    "plt.hist(area)\n",
    "plt.show()"
   ]
  },
  {
   "cell_type": "code",
   "execution_count": 11,
   "id": "accessory-omega",
   "metadata": {
    "pycharm": {
     "name": "#%%\n"
    }
   },
   "outputs": [
    {
     "name": "stdout",
     "output_type": "stream",
     "text": [
      "[1.5324457 1.5129808 1.5433207 ... 2.2195287 2.117054  2.1534765]\n"
     ]
    }
   ],
   "source": [
    "psfsize_g = data.field('psfsize_g')\n",
    "print(psfsize_g)"
   ]
  },
  {
   "cell_type": "markdown",
   "source": [
    "## Analysing Distribution of Systematics across Bricks (figure 11 in Kitanidis et Al.)"
   ],
   "metadata": {
    "collapsed": false,
    "pycharm": {
     "name": "#%% md\n"
    }
   }
  },
  {
   "cell_type": "code",
   "execution_count": null,
   "outputs": [],
   "source": [
    "hdulistSouth = fits.open('../bricks_data/survey-bricks-dr9-south.fits')\n",
    "hdulistNorth = fits.open('../bricks_data/survey-bricks-dr9-north.fits')\n",
    "dataSouth = hdulistSouth[1].data\n",
    "dataNorth = hdulistNorth[1].data\n",
    "\n",
    "\n",
    "# EBV = Median SFD98 dust map E(B-V) extinction, in magnitudes, evaluated at BRICK_PRIMARY objects in this brick.\n",
    "\n",
    "# cosky_g\tfloat32\tEstimated sky level in the coadded images (stacks) in -band [1].\n",
    "# cosky_r\tfloat32\tEstimated sky level in the coadded images (stacks) in -band.\n",
    "# cosky_z\tfloat32\tEstimated sky level in the coadded images (stacks) in -band.\n"
   ],
   "metadata": {
    "collapsed": false,
    "pycharm": {
     "name": "#%%\n"
    }
   }
  }
 ],
 "metadata": {
  "kernelspec": {
   "display_name": "Python 3",
   "language": "python",
   "name": "python3"
  },
  "language_info": {
   "codemirror_mode": {
    "name": "ipython",
    "version": 3
   },
   "file_extension": ".py",
   "mimetype": "text/x-python",
   "name": "python",
   "nbconvert_exporter": "python",
   "pygments_lexer": "ipython3",
   "version": "3.9.1"
  }
 },
 "nbformat": 4,
 "nbformat_minor": 5
}