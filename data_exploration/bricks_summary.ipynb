{
 "cells": [
  {
   "cell_type": "code",
   "execution_count": null,
   "id": "clean-bargain",
   "metadata": {},
   "outputs": [],
   "source": [
    "#Importing necessary libraries\n",
    "\n",
    "import sys\n",
    "import numpy as np\n",
    "import pandas\n",
    "from astropy import constants as const\n",
    "from astropy import units as u\n",
    "from astropy.io import fits\n",
    "from astropy.io import ascii\n",
    "import random\n",
    "import matplotlib.pyplot as plt\n",
    "#import healpy"
   ]
  },
  {
   "cell_type": "code",
   "execution_count": null,
   "id": "vietnamese-fraction",
   "metadata": {},
   "outputs": [],
   "source": [
    "#Open fits images\n",
    "hdulist = fits.open('bricks_data/survey-bricks-dr9-south.fits')"
   ]
  },
  {
   "cell_type": "code",
   "execution_count": null,
   "id": "occupied-witness",
   "metadata": {},
   "outputs": [],
   "source": [
    "hdulist.info()"
   ]
  },
  {
   "cell_type": "code",
   "execution_count": null,
   "id": "moral-brass",
   "metadata": {},
   "outputs": [],
   "source": [
    "hdulist[1].columns"
   ]
  },
  {
   "cell_type": "code",
   "execution_count": null,
   "id": "addressed-afghanistan",
   "metadata": {},
   "outputs": [],
   "source": [
    "data = hdulist[1].data\n",
    "brickname = data.field('brickname')\n",
    "print(brickname)\n",
    "print(\"No of objects in data:\" , len(brickname))\n",
    "\n",
    "nexp_g = data.field('nexp_g')\n",
    "nexp_r = data.field('nexp_r')\n",
    "nexp_z = data.field('nexp_z')\n",
    "\n",
    "nexphist_g = data.field('nexphist_g')\n",
    "print(nexphist_g)\n",
    "\n",
    "nobjs = data.field('nobjs')\n",
    "print(nobjs)\n",
    "print(nobjs.sum())\n",
    "print(nobjs.mean())\n",
    "\n",
    "in_desi = data.field('in_desi')\n",
    "print(in_desi.sum())"
   ]
  },
  {
   "cell_type": "code",
   "execution_count": null,
   "id": "demanding-county",
   "metadata": {},
   "outputs": [],
   "source": [
    "plt.scatter(nexp_g, nobjs)\n",
    "plt.show()"
   ]
  },
  {
   "cell_type": "code",
   "execution_count": null,
   "id": "vocal-belgium",
   "metadata": {},
   "outputs": [],
   "source": [
    "plt.hist(nobjs, [2000, 4000, 6000, 8000, 10000, 12000, 14000, 16000, 18000, 20000])\n",
    "plt.show()\n",
    "print(len(nobjs[nobjs > 30000]))"
   ]
  },
  {
   "cell_type": "code",
   "execution_count": null,
   "id": "global-crossing",
   "metadata": {},
   "outputs": [],
   "source": [
    "area = data.field('area')\n",
    "print(area)\n",
    "plt.hist(area)\n",
    "plt.show()"
   ]
  },
  {
   "cell_type": "code",
   "execution_count": null,
   "id": "accessory-omega",
   "metadata": {},
   "outputs": [],
   "source": [
    "psfsize_g = data.field('psfsize_g')\n",
    "print(psfsize_g)"
   ]
  },
  {
   "cell_type": "code",
   "execution_count": null,
   "id": "different-surface",
   "metadata": {},
   "outputs": [],
   "source": [
    "npsf = data.field('npsf')\n",
    "nrex = data.field('nrex')\n",
    "nexp = data.field('nexp')\n",
    "ndev = data.field('ndev')\n",
    "nser = data.field('nser')\n",
    "ndup = data.field('ndup')\n",
    "\n",
    "obj_diff = nobjs - (npsf + nrex + nexp + ndev + nser + ndup) ##>> All zero, every object associated to one type\n",
    "\n",
    "plt.scatter(nexp_g, ndup)\n",
    "#print(nexp_g[nexp_g == 2].sum())\n",
    "plt.show()\n",
    "\n",
    "print(npsf[0])"
   ]
  },
  {
   "cell_type": "code",
   "execution_count": null,
   "id": "reserved-reservation",
   "metadata": {},
   "outputs": [],
   "source": [
    "hdulist_depth_hist = fits.open('bricks_data/dr9-south-depth.fits')\n",
    "hdulist_depth_hist.info()"
   ]
  },
  {
   "cell_type": "code",
   "execution_count": null,
   "id": "aerial-valley",
   "metadata": {},
   "outputs": [],
   "source": [
    "hdulist_depth_hist[1].columns"
   ]
  },
  {
   "cell_type": "code",
   "execution_count": null,
   "id": "lasting-eclipse",
   "metadata": {},
   "outputs": [],
   "source": [
    "depth_data = hdulist_depth_hist[1].data\n",
    "print(depth_data.field('counts_ptsrc_g')[0])\n"
   ]
  },
  {
   "cell_type": "code",
   "execution_count": null,
   "id": "natural-southeast",
   "metadata": {},
   "outputs": [],
   "source": []
  }
 ],
 "metadata": {
  "kernelspec": {
   "display_name": "Python 3",
   "language": "python",
   "name": "python3"
  },
  "language_info": {
   "codemirror_mode": {
    "name": "ipython",
    "version": 3
   },
   "file_extension": ".py",
   "mimetype": "text/x-python",
   "name": "python",
   "nbconvert_exporter": "python",
   "pygments_lexer": "ipython3",
   "version": "3.9.1"
  }
 },
 "nbformat": 4,
 "nbformat_minor": 5
}