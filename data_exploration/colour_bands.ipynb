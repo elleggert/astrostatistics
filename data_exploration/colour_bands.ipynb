{
 "cells": [
  {
   "cell_type": "markdown",
   "id": "official-stevens",
   "metadata": {},
   "source": [
    "# Importing necessary libraries"
   ]
  },
  {
   "cell_type": "code",
   "execution_count": 2,
   "id": "normal-customs",
   "metadata": {},
   "outputs": [],
   "source": [
    "import sys\n",
    "import numpy as np\n",
    "import pandas\n",
    "from astropy import constants as const\n",
    "from astropy import units as u\n",
    "from astropy.io import fits\n",
    "from astropy.io import ascii\n",
    "import random\n",
    "import matplotlib.pyplot as plt\n",
    "import wget\n",
    "import seaborn as sns\n",
    "#import healpy"
   ]
  },
  {
   "cell_type": "markdown",
   "id": "intense-newcastle",
   "metadata": {},
   "source": [
    "## Import and Process Bricks Summary"
   ]
  },
  {
   "cell_type": "code",
   "execution_count": 9,
   "id": "interstate-anaheim",
   "metadata": {
    "tags": []
   },
   "outputs": [
    {
     "name": "stdout",
     "output_type": "stream",
     "text": [
      "[1.25000000e-01 1.25000000e-01 1.25000000e-01 ... 3.59850000e+02\n",
      " 3.59849498e+02 3.59849246e+02]\n",
      "[-0.25 -0.5  -0.75 ... 33.75 34.   34.25]\n",
      "(253658, 5)\n",
      "[8 8 9 ... 2 1 0]\n",
      "[8. 8. 9. ... 2. 1. 0.]\n"
     ]
    }
   ],
   "source": [
    "#Open fits images\n",
    "hdulistBricksSummary = fits.open('../bricks_data/survey-bricks-dr9-south.fits')\n",
    "dataSummary = hdulistBricksSummary[1].data\n",
    "bricknameSummary = dataSummary.field('brickname')\n",
    "raSummary = dataSummary.field('ra')\n",
    "decSummary = dataSummary.field('dec')\n",
    "brickIDSummary = dataSummary.field('brickid')\n",
    "nobjsSummary = dataSummary.field('nobjs')\n",
    "nexp_gSummary = dataSummary.field('nexp_g')\n",
    "nexp_rSummary = dataSummary.field('nexp_r')\n",
    "nexp_zSummary = dataSummary.field('nexp_z')\n",
    "\n",
    "raDec = np.stack((raSummary, decSummary,nexp_gSummary,nexp_rSummary,nexp_zSummary), axis=-1)\n",
    "print(raSummary)\n",
    "print(decSummary)\n",
    "print(raDec.shape)\n",
    "\n",
    "print(nexp_gSummary)\n",
    "print(raDec[:,2])\n"
   ]
  },
  {
   "cell_type": "code",
   "execution_count": 10,
   "id": "acceptable-middle",
   "metadata": {},
   "outputs": [
    {
     "name": "stdout",
     "output_type": "stream",
     "text": [
      "0374m195\n",
      "[1.25000000e-01 1.25000000e-01 1.25000000e-01 ... 3.59850000e+02\n",
      " 3.59849498e+02 3.59849246e+02]\n",
      "[-0.25 -0.5  -0.75 ... 33.75 34.   34.25]\n",
      "[328928 327488 326048 ... 515285 516481 517675]\n",
      "[7986 8746 8422 ... 3867 3505  625]\n",
      "[8 8 9 ... 2 1 0]\n"
     ]
    }
   ],
   "source": [
    "print(bricknameSummary[49956])\n",
    "print(raSummary)\n",
    "print(decSummary)\n",
    "print(brickIDSummary)\n",
    "print(nobjsSummary)\n",
    "print(nexp_gSummary)"
   ]
  },
  {
   "cell_type": "code",
   "execution_count": 8,
   "id": "aerial-princeton",
   "metadata": {},
   "outputs": [
    {
     "data": {
      "text/plain": [
       "'../bricks_data/tractor//tractor-0374m195.fits'"
      ]
     },
     "execution_count": 8,
     "metadata": {},
     "output_type": "execute_result"
    }
   ],
   "source": [
    "brickID = '0374m195'\n",
    "folder = brickID[:3]\n",
    "url = f'https://portal.nersc.gov/cfs/cosmo/data/legacysurvey/dr9/south/tractor/{folder}/tractor-{brickID}.fits'\n",
    "wget.download(url, '../bricks_data/tractor/')"
   ]
  },
  {
   "cell_type": "code",
   "execution_count": 14,
   "id": "leading-pierre",
   "metadata": {},
   "outputs": [],
   "source": [
    "url = 'https://portal.nersc.gov/cfs/cosmo/data/legacysurvey/dr9/south/tractor/000/tractor-0001m002.fits'\n",
    "wget.download(url, '../bricks_data/tractor/')\n"
   ]
  },
  {
   "cell_type": "markdown",
   "id": "animal-requirement",
   "metadata": {},
   "source": [
    "## Importing and Processing a single brick tractor file"
   ]
  },
  {
   "cell_type": "code",
   "execution_count": 12,
   "id": "industrial-documentary",
   "metadata": {},
   "outputs": [
    {
     "name": "stdout",
     "output_type": "stream",
     "text": [
      "Filename: ../bricks_data/tractor/tractor-0374m195.fits\n",
      "No.    Name      Ver    Type      Cards   Dimensions   Format\n",
      "  0  PRIMARY       1 PrimaryHDU     225   ()      \n",
      "  1                1 BinTableHDU    447   8923R x 181C   [I, J, 8A, J, L, I, I, 3A, D, D, E, E, E, E, 5E, E, D, D, 2A, K, E, E, E, E, E, E, E, E, E, I, E, E, I, E, E, I, L, E, E, I, I, E, L, E, E, E, E, B, E, E, E, E, E, E, E, E, E, E, E, E, E, E, E, E, E, E, E, E, 8E, 8E, 8E, 8E, 8E, 8E, 8E, 8E, 8E, 8E, 8E, 8E, 8E, 8E, 8E, 5E, 5E, 5E, 5E, 5E, 5E, 5E, 5E, 5E, 5E, 5E, 5E, E, E, E, E, E, E, E, I, I, I, I, I, I, I, E, E, E, E, E, E, E, E, E, E, E, E, E, E, E, E, E, E, E, E, I, I, I, I, I, I, B, B, E, E, E, E, E, E, E, E, E, E, E, E, E, E, E, E, E, E, E, 8A, E, E, 15E, 15E, 15E, 15E, 15I, 15I, 15E, 15E, 15E, 15E, 15D, 15D, 15I, 15I, E, E, E, E, E, E, E, E]   \n"
     ]
    }
   ],
   "source": [
    "hdulistSingleBrick = fits.open(f'../bricks_data/tractor/tractor-{brickID}.fits')\n",
    "hdulistSingleBrick.info()"
   ]
  },
  {
   "cell_type": "code",
   "execution_count": 13,
   "id": "weird-valentine",
   "metadata": {},
   "outputs": [],
   "source": [
    "data = hdulistSingleBrick[1].data"
   ]
  },
  {
   "cell_type": "code",
   "execution_count": 14,
   "id": "humanitarian-adolescent",
   "metadata": {},
   "outputs": [
    {
     "data": {
      "text/plain": [
       "ColDefs(\n",
       "    name = 'release'; format = 'I'\n",
       "    name = 'brickid'; format = 'J'\n",
       "    name = 'brickname'; format = '8A'\n",
       "    name = 'objid'; format = 'J'\n",
       "    name = 'brick_primary'; format = 'L'\n",
       "    name = 'maskbits'; format = 'I'\n",
       "    name = 'fitbits'; format = 'I'\n",
       "    name = 'type'; format = '3A'\n",
       "    name = 'ra'; format = 'D'; unit = 'deg'\n",
       "    name = 'dec'; format = 'D'; unit = 'deg'\n",
       "    name = 'ra_ivar'; format = 'E'; unit = '1/deg^2'\n",
       "    name = 'dec_ivar'; format = 'E'; unit = '1/deg^2'\n",
       "    name = 'bx'; format = 'E'\n",
       "    name = 'by'; format = 'E'\n",
       "    name = 'dchisq'; format = '5E'\n",
       "    name = 'ebv'; format = 'E'; unit = 'mag'\n",
       "    name = 'mjd_min'; format = 'D'\n",
       "    name = 'mjd_max'; format = 'D'\n",
       "    name = 'ref_cat'; format = '2A'\n",
       "    name = 'ref_id'; format = 'K'\n",
       "    name = 'pmra'; format = 'E'; unit = 'mas/yr'\n",
       "    name = 'pmdec'; format = 'E'; unit = 'mas/yr'\n",
       "    name = 'parallax'; format = 'E'; unit = 'mas'\n",
       "    name = 'pmra_ivar'; format = 'E'; unit = '1/(mas/yr)^2'\n",
       "    name = 'pmdec_ivar'; format = 'E'; unit = '1/(mas/yr)^2'\n",
       "    name = 'parallax_ivar'; format = 'E'; unit = '1/mas^2'\n",
       "    name = 'ref_epoch'; format = 'E'\n",
       "    name = 'gaia_phot_g_mean_mag'; format = 'E'; unit = 'mag'\n",
       "    name = 'gaia_phot_g_mean_flux_over_error'; format = 'E'\n",
       "    name = 'gaia_phot_g_n_obs'; format = 'I'\n",
       "    name = 'gaia_phot_bp_mean_mag'; format = 'E'; unit = 'mag'\n",
       "    name = 'gaia_phot_bp_mean_flux_over_error'; format = 'E'\n",
       "    name = 'gaia_phot_bp_n_obs'; format = 'I'\n",
       "    name = 'gaia_phot_rp_mean_mag'; format = 'E'; unit = 'mag'\n",
       "    name = 'gaia_phot_rp_mean_flux_over_error'; format = 'E'\n",
       "    name = 'gaia_phot_rp_n_obs'; format = 'I'\n",
       "    name = 'gaia_phot_variable_flag'; format = 'L'\n",
       "    name = 'gaia_astrometric_excess_noise'; format = 'E'\n",
       "    name = 'gaia_astrometric_excess_noise_sig'; format = 'E'\n",
       "    name = 'gaia_astrometric_n_obs_al'; format = 'I'\n",
       "    name = 'gaia_astrometric_n_good_obs_al'; format = 'I'\n",
       "    name = 'gaia_astrometric_weight_al'; format = 'E'\n",
       "    name = 'gaia_duplicated_source'; format = 'L'\n",
       "    name = 'gaia_a_g_val'; format = 'E'\n",
       "    name = 'gaia_e_bp_min_rp_val'; format = 'E'\n",
       "    name = 'gaia_phot_bp_rp_excess_factor'; format = 'E'\n",
       "    name = 'gaia_astrometric_sigma5d_max'; format = 'E'\n",
       "    name = 'gaia_astrometric_params_solved'; format = 'B'\n",
       "    name = 'flux_g'; format = 'E'; unit = 'nanomaggy'\n",
       "    name = 'flux_r'; format = 'E'; unit = 'nanomaggy'\n",
       "    name = 'flux_z'; format = 'E'; unit = 'nanomaggy'\n",
       "    name = 'flux_w1'; format = 'E'; unit = 'nanomaggy'\n",
       "    name = 'flux_w2'; format = 'E'; unit = 'nanomaggy'\n",
       "    name = 'flux_w3'; format = 'E'; unit = 'nanomaggy'\n",
       "    name = 'flux_w4'; format = 'E'; unit = 'nanomaggy'\n",
       "    name = 'flux_ivar_g'; format = 'E'; unit = '1/nanomaggy^2'\n",
       "    name = 'flux_ivar_r'; format = 'E'; unit = '1/nanomaggy^2'\n",
       "    name = 'flux_ivar_z'; format = 'E'; unit = '1/nanomaggy^2'\n",
       "    name = 'flux_ivar_w1'; format = 'E'; unit = '1/nanomaggy^2'\n",
       "    name = 'flux_ivar_w2'; format = 'E'; unit = '1/nanomaggy^2'\n",
       "    name = 'flux_ivar_w3'; format = 'E'; unit = '1/nanomaggy^2'\n",
       "    name = 'flux_ivar_w4'; format = 'E'; unit = '1/nanomaggy^2'\n",
       "    name = 'fiberflux_g'; format = 'E'; unit = 'nanomaggy'\n",
       "    name = 'fiberflux_r'; format = 'E'; unit = 'nanomaggy'\n",
       "    name = 'fiberflux_z'; format = 'E'; unit = 'nanomaggy'\n",
       "    name = 'fibertotflux_g'; format = 'E'; unit = 'nanomaggy'\n",
       "    name = 'fibertotflux_r'; format = 'E'; unit = 'nanomaggy'\n",
       "    name = 'fibertotflux_z'; format = 'E'; unit = 'nanomaggy'\n",
       "    name = 'apflux_g'; format = '8E'; unit = 'nanomaggy'\n",
       "    name = 'apflux_r'; format = '8E'; unit = 'nanomaggy'\n",
       "    name = 'apflux_z'; format = '8E'; unit = 'nanomaggy'\n",
       "    name = 'apflux_resid_g'; format = '8E'; unit = 'nanomaggy'\n",
       "    name = 'apflux_resid_r'; format = '8E'; unit = 'nanomaggy'\n",
       "    name = 'apflux_resid_z'; format = '8E'; unit = 'nanomaggy'\n",
       "    name = 'apflux_blobresid_g'; format = '8E'; unit = 'nanomaggy'\n",
       "    name = 'apflux_blobresid_r'; format = '8E'; unit = 'nanomaggy'\n",
       "    name = 'apflux_blobresid_z'; format = '8E'; unit = 'nanomaggy'\n",
       "    name = 'apflux_ivar_g'; format = '8E'; unit = '1/nanomaggy^2'\n",
       "    name = 'apflux_ivar_r'; format = '8E'; unit = '1/nanomaggy^2'\n",
       "    name = 'apflux_ivar_z'; format = '8E'; unit = '1/nanomaggy^2'\n",
       "    name = 'apflux_masked_g'; format = '8E'\n",
       "    name = 'apflux_masked_r'; format = '8E'\n",
       "    name = 'apflux_masked_z'; format = '8E'\n",
       "    name = 'apflux_w1'; format = '5E'; unit = 'nanomaggy'\n",
       "    name = 'apflux_w2'; format = '5E'; unit = 'nanomaggy'\n",
       "    name = 'apflux_w3'; format = '5E'; unit = 'nanomaggy'\n",
       "    name = 'apflux_w4'; format = '5E'; unit = 'nanomaggy'\n",
       "    name = 'apflux_resid_w1'; format = '5E'; unit = 'nanomaggy'\n",
       "    name = 'apflux_resid_w2'; format = '5E'; unit = 'nanomaggy'\n",
       "    name = 'apflux_resid_w3'; format = '5E'; unit = 'nanomaggy'\n",
       "    name = 'apflux_resid_w4'; format = '5E'; unit = 'nanomaggy'\n",
       "    name = 'apflux_ivar_w1'; format = '5E'; unit = '1/nanomaggy^2'\n",
       "    name = 'apflux_ivar_w2'; format = '5E'; unit = '1/nanomaggy^2'\n",
       "    name = 'apflux_ivar_w3'; format = '5E'; unit = '1/nanomaggy^2'\n",
       "    name = 'apflux_ivar_w4'; format = '5E'; unit = '1/nanomaggy^2'\n",
       "    name = 'mw_transmission_g'; format = 'E'\n",
       "    name = 'mw_transmission_r'; format = 'E'\n",
       "    name = 'mw_transmission_z'; format = 'E'\n",
       "    name = 'mw_transmission_w1'; format = 'E'\n",
       "    name = 'mw_transmission_w2'; format = 'E'\n",
       "    name = 'mw_transmission_w3'; format = 'E'\n",
       "    name = 'mw_transmission_w4'; format = 'E'\n",
       "    name = 'nobs_g'; format = 'I'\n",
       "    name = 'nobs_r'; format = 'I'\n",
       "    name = 'nobs_z'; format = 'I'\n",
       "    name = 'nobs_w1'; format = 'I'\n",
       "    name = 'nobs_w2'; format = 'I'\n",
       "    name = 'nobs_w3'; format = 'I'\n",
       "    name = 'nobs_w4'; format = 'I'\n",
       "    name = 'rchisq_g'; format = 'E'\n",
       "    name = 'rchisq_r'; format = 'E'\n",
       "    name = 'rchisq_z'; format = 'E'\n",
       "    name = 'rchisq_w1'; format = 'E'\n",
       "    name = 'rchisq_w2'; format = 'E'\n",
       "    name = 'rchisq_w3'; format = 'E'\n",
       "    name = 'rchisq_w4'; format = 'E'\n",
       "    name = 'fracflux_g'; format = 'E'\n",
       "    name = 'fracflux_r'; format = 'E'\n",
       "    name = 'fracflux_z'; format = 'E'\n",
       "    name = 'fracflux_w1'; format = 'E'\n",
       "    name = 'fracflux_w2'; format = 'E'\n",
       "    name = 'fracflux_w3'; format = 'E'\n",
       "    name = 'fracflux_w4'; format = 'E'\n",
       "    name = 'fracmasked_g'; format = 'E'\n",
       "    name = 'fracmasked_r'; format = 'E'\n",
       "    name = 'fracmasked_z'; format = 'E'\n",
       "    name = 'fracin_g'; format = 'E'\n",
       "    name = 'fracin_r'; format = 'E'\n",
       "    name = 'fracin_z'; format = 'E'\n",
       "    name = 'anymask_g'; format = 'I'\n",
       "    name = 'anymask_r'; format = 'I'\n",
       "    name = 'anymask_z'; format = 'I'\n",
       "    name = 'allmask_g'; format = 'I'\n",
       "    name = 'allmask_r'; format = 'I'\n",
       "    name = 'allmask_z'; format = 'I'\n",
       "    name = 'wisemask_w1'; format = 'B'\n",
       "    name = 'wisemask_w2'; format = 'B'\n",
       "    name = 'psfsize_g'; format = 'E'; unit = 'arcsec'\n",
       "    name = 'psfsize_r'; format = 'E'; unit = 'arcsec'\n",
       "    name = 'psfsize_z'; format = 'E'; unit = 'arcsec'\n",
       "    name = 'psfdepth_g'; format = 'E'; unit = '1/nanomaggy^2'\n",
       "    name = 'psfdepth_r'; format = 'E'; unit = '1/nanomaggy^2'\n",
       "    name = 'psfdepth_z'; format = 'E'; unit = '1/nanomaggy^2'\n",
       "    name = 'galdepth_g'; format = 'E'; unit = '1/nanomaggy^2'\n",
       "    name = 'galdepth_r'; format = 'E'; unit = '1/nanomaggy^2'\n",
       "    name = 'galdepth_z'; format = 'E'; unit = '1/nanomaggy^2'\n",
       "    name = 'nea_g'; format = 'E'\n",
       "    name = 'nea_r'; format = 'E'\n",
       "    name = 'nea_z'; format = 'E'\n",
       "    name = 'blob_nea_g'; format = 'E'\n",
       "    name = 'blob_nea_r'; format = 'E'\n",
       "    name = 'blob_nea_z'; format = 'E'\n",
       "    name = 'psfdepth_w1'; format = 'E'; unit = '1/nanomaggy^2'\n",
       "    name = 'psfdepth_w2'; format = 'E'; unit = '1/nanomaggy^2'\n",
       "    name = 'psfdepth_w3'; format = 'E'; unit = '1/nanomaggy^2'\n",
       "    name = 'psfdepth_w4'; format = 'E'; unit = '1/nanomaggy^2'\n",
       "    name = 'wise_coadd_id'; format = '8A'\n",
       "    name = 'wise_x'; format = 'E'\n",
       "    name = 'wise_y'; format = 'E'\n",
       "    name = 'lc_flux_w1'; format = '15E'; unit = 'nanomaggy'\n",
       "    name = 'lc_flux_w2'; format = '15E'; unit = 'nanomaggy'\n",
       "    name = 'lc_flux_ivar_w1'; format = '15E'; unit = '1/nanomaggy^2'\n",
       "    name = 'lc_flux_ivar_w2'; format = '15E'; unit = '1/nanomaggy^2'\n",
       "    name = 'lc_nobs_w1'; format = '15I'\n",
       "    name = 'lc_nobs_w2'; format = '15I'\n",
       "    name = 'lc_fracflux_w1'; format = '15E'\n",
       "    name = 'lc_fracflux_w2'; format = '15E'\n",
       "    name = 'lc_rchisq_w1'; format = '15E'\n",
       "    name = 'lc_rchisq_w2'; format = '15E'\n",
       "    name = 'lc_mjd_w1'; format = '15D'\n",
       "    name = 'lc_mjd_w2'; format = '15D'\n",
       "    name = 'lc_epoch_index_w1'; format = '15I'\n",
       "    name = 'lc_epoch_index_w2'; format = '15I'\n",
       "    name = 'sersic'; format = 'E'\n",
       "    name = 'sersic_ivar'; format = 'E'\n",
       "    name = 'shape_r'; format = 'E'; unit = 'arcsec'\n",
       "    name = 'shape_r_ivar'; format = 'E'; unit = '1/arcsec^2'\n",
       "    name = 'shape_e1'; format = 'E'\n",
       "    name = 'shape_e1_ivar'; format = 'E'\n",
       "    name = 'shape_e2'; format = 'E'\n",
       "    name = 'shape_e2_ivar'; format = 'E'\n",
       ")"
      ]
     },
     "execution_count": 14,
     "metadata": {},
     "output_type": "execute_result"
    }
   ],
   "source": [
    "hdulistSingleBrick[1].columns"
   ]
  },
  {
   "cell_type": "code",
   "execution_count": 15,
   "id": "opposed-builder",
   "metadata": {},
   "outputs": [
    {
     "name": "stdout",
     "output_type": "stream",
     "text": [
      "[220271 220271 220271 ... 220271 220271 220271]\n",
      "['0374m195' '0374m195' '0374m195' ... '0374m195' '0374m195' '0374m195']\n",
      "[   0    1    2 ... 8920 8921 8922]\n"
     ]
    }
   ],
   "source": [
    "ID = data.field('brickid')\n",
    "name = data.field('brickname')\n",
    "objid = data.field('objid')\n",
    "\n",
    "print(ID)\n",
    "print(name)\n",
    "print(objid)"
   ]
  },
  {
   "cell_type": "code",
   "execution_count": null,
   "id": "enclosed-estate",
   "metadata": {},
   "outputs": [],
   "source": []
  },
  {
   "cell_type": "markdown",
   "id": "incomplete-bundle",
   "metadata": {},
   "source": [
    "## Getting the Fluxes per object in this brick"
   ]
  },
  {
   "cell_type": "markdown",
   "id": "distant-capital",
   "metadata": {},
   "source": [
    "## Converting Fluxes to extiction corrected magnitudes\n",
    "conversion from linear fluxes to magnitudes is m=22.5−2.5log10(flux)"
   ]
  },
  {
   "cell_type": "code",
   "execution_count": 16,
   "id": "announced-birthday",
   "metadata": {},
   "outputs": [
    {
     "name": "stdout",
     "output_type": "stream",
     "text": [
      "[   1    1 2049 ...    1    1    1]\n"
     ]
    },
    {
     "name": "stderr",
     "output_type": "stream",
     "text": [
      "<ipython-input-16-c643764dfa60>:27: RuntimeWarning: invalid value encountered in log10\n",
      "  mag_g = 22.5-2.5*np.log10(flux_g_corrected)\n",
      "<ipython-input-16-c643764dfa60>:28: RuntimeWarning: invalid value encountered in log10\n",
      "  mag_r = 22.5-2.5*np.log10(flux_r_corrected)\n",
      "<ipython-input-16-c643764dfa60>:29: RuntimeWarning: invalid value encountered in log10\n",
      "  mag_z = 22.5-2.5*np.log10(flux_z_corrected)\n",
      "<ipython-input-16-c643764dfa60>:30: RuntimeWarning: invalid value encountered in log10\n",
      "  mag_w1 = 22.5-2.5*np.log10(flux_w1_corrected)\n",
      "<ipython-input-16-c643764dfa60>:31: RuntimeWarning: invalid value encountered in log10\n",
      "  mag_w2 = 22.5-2.5*np.log10(flux_w2_corrected)\n",
      "<ipython-input-16-c643764dfa60>:32: RuntimeWarning: invalid value encountered in log10\n",
      "  mag_w3 = 22.5-2.5*np.log10(flux_w3_corrected)\n",
      "<ipython-input-16-c643764dfa60>:33: RuntimeWarning: invalid value encountered in log10\n",
      "  mag_w4 = 22.5-2.5*np.log10(flux_w4_corrected)\n"
     ]
    }
   ],
   "source": [
    "#fluxes and magnitudes\n",
    "flux_g = data.field('flux_g')\n",
    "flux_r = data.field('flux_r')\n",
    "flux_z = data.field('flux_z')\n",
    "flux_w1 = data.field('flux_w1')\n",
    "flux_w2 = data.field('flux_w2')\n",
    "flux_w3 = data.field('flux_w3')\n",
    "flux_w4 = data.field('flux_w4')\n",
    "\n",
    "mw_transmission_g = data.field('mw_transmission_g')\n",
    "mw_transmission_r = data.field('mw_transmission_r')\n",
    "mw_transmission_z = data.field('mw_transmission_z')\n",
    "mw_transmission_w1 = data.field('mw_transmission_w1')\n",
    "mw_transmission_w2 = data.field('mw_transmission_w2')\n",
    "mw_transmission_w3 = data.field('mw_transmission_w3')\n",
    "mw_transmission_w4  = data.field('mw_transmission_w4')\n",
    "\n",
    "#correcting for extinction\n",
    "flux_g_corrected = flux_g - mw_transmission_g\n",
    "flux_r_corrected = flux_r - mw_transmission_r\n",
    "flux_z_corrected = flux_z - mw_transmission_z\n",
    "flux_w1_corrected = flux_w1 - mw_transmission_w1\n",
    "flux_w2_corrected = flux_w2 - mw_transmission_w2\n",
    "flux_w3_corrected = flux_w3 - mw_transmission_w3\n",
    "flux_w4_corrected = flux_w4 - mw_transmission_w4\n",
    "\n",
    "mag_g = 22.5-2.5*np.log10(flux_g_corrected)\n",
    "mag_r = 22.5-2.5*np.log10(flux_r_corrected)\n",
    "mag_z = 22.5-2.5*np.log10(flux_z_corrected)\n",
    "mag_w1 = 22.5-2.5*np.log10(flux_w1_corrected)\n",
    "mag_w2 = 22.5-2.5*np.log10(flux_w2_corrected)\n",
    "mag_w3 = 22.5-2.5*np.log10(flux_w3_corrected)\n",
    "mag_w4 = 22.5-2.5*np.log10(flux_w4_corrected)\n",
    "\n",
    "#Retrieving the maskbits for quasar detection\n",
    "\n",
    "maskbits = data.field('maskbits')\n",
    "print(maskbits)"
   ]
  },
  {
   "cell_type": "markdown",
   "id": "collected-profit",
   "metadata": {},
   "source": [
    "Preliminary Target Selection for the DESI Quasar (QSO) Sample\n",
    "\n",
    "We restrict both selections to objects with stellar morphology, to avoid an almost 10-fold\n",
    "contamination by galaxies, and we impose a depth limit of r = 22.7 (AB). We also require that the targets are not in\n",
    "corrupted imaging pixels, nor pixels that are in the vicinity of bright stars, globular clusters, or nearby galaxies. Such\n",
    "“masked” sources have MASKBITS of 1, 5, 6, 7, 10, 12 or 13 set in Legacy Surveys catalogs.\n",
    "Our color-cut selection uses W1 − W2 to select redder sources, and r−W vs. g − z (where W is a weighted average\n",
    "of W1 and W2 fluxes with flux(W)=0.75×flux(W1)+0.25×flux(W2)) to reject stars based on the “infrared excess”\n",
    "of QSOs (see Figure 1). We impose g − r < 1.3 and −0.4 < r − z < 1.1 to avoid regions in color space almost solely\n",
    "populated by stars. We also restrict the magnitude range to r > 17.5 and grz > 17.0, where grz is a weighted average\n",
    "of the three band fluxes (flux(grz) = (flux(g) + 0.8×flux(r) + 0.5×flux(z)) / 2.3)—at brighter magnitudes, QSOs are\n",
    "rare and stars abundant. To further reduce stellar contamination, we apply a stricter W1 − W2 cut to sources near\n",
    "the stellar locus in g − r vs. r − z. We also impose a minimum signal-to-noise ratio in both WISE bands.\n"
   ]
  },
  {
   "cell_type": "code",
   "execution_count": 17,
   "id": "existing-reach",
   "metadata": {},
   "outputs": [],
   "source": [
    "def is_QSO_target(g,r,z,maskbit):\n",
    "    if r > 22.7:\n",
    "        return False\n",
    "    if r < 17.5:\n",
    "        return False\n",
    "    if not g - r < 1.3:\n",
    "        return False\n",
    "    if not (-0.4 < r - z < 1.1):\n",
    "        return False\n",
    "    return True\n",
    "\n",
    "def is_LRG_target(g,r,z,W1):\n",
    "    if not (18.01 < z < 20.41):\n",
    "        return False\n",
    "    if not (0.75 < (r - z) < 2.45):\n",
    "        return False\n",
    "    if not (-0.6 < (z - W1) - 0.8*(r - z)):\n",
    "        return False\n",
    "    if not ((z - 17.18)/2 < (r - z) < (z - 15.11)/2):\n",
    "        return False\n",
    "    if not (((r - z) > 1.15) or ((g-r) > 1.65)):\n",
    "        return False\n",
    "    return True\n",
    "    \n",
    "def is_ELG_target(g,r,z):\n",
    "    if not (21.0 < g < 23.45):\n",
    "        return False\n",
    "    if not (0.3 < (r - z) < 1.6):\n",
    "        return False\n",
    "    if not ((g-r) < 1.15*(r-z) - 0.15):\n",
    "        return False\n",
    "    if not ((g-r) < 1.6 - 1.2*(r-z)):\n",
    "        return False\n",
    "    return True\n",
    "\n",
    "\n"
   ]
  },
  {
   "cell_type": "markdown",
   "id": "adequate-danish",
   "metadata": {},
   "source": [
    "## Classifying the targets: \n",
    "0 = no label,\n",
    "1 = LRG,\n",
    "2 = ELG,\n",
    "3 = QSA "
   ]
  },
  {
   "cell_type": "code",
   "execution_count": 18,
   "id": "spanish-watson",
   "metadata": {},
   "outputs": [
    {
     "name": "stdout",
     "output_type": "stream",
     "text": [
      "LRG:  34\n",
      "ELG:  10\n",
      "QSO:  177\n"
     ]
    }
   ],
   "source": [
    "#Checking for duplicate classifications --> only 200 get 1 label at all --> is this correct\n",
    "\n",
    "target_label_array = np.zeros(len(mag_g))\n",
    "for i in range(len(mag_g)):\n",
    "    if is_LRG_target(mag_g[i], mag_r[i], mag_z[i], mag_w1[i]):\n",
    "        target_label_array[i] = 1\n",
    "        continue\n",
    "    if is_ELG_target(mag_g[i], mag_r[i], mag_z[i]):\n",
    "        target_label_array[i] = 2\n",
    "        continue\n",
    "    if is_QSO_target(mag_g[i], mag_r[i], mag_z[i], maskbits[i]):\n",
    "        target_label_array[i] = 3\n",
    "        continue\n",
    "\n",
    "print(\"LRG: \",(target_label_array == 1).sum())\n",
    "print(\"ELG: \",(target_label_array == 2).sum())\n",
    "print(\"QSO: \",(target_label_array == 3).sum())\n",
    "\n",
    "\n",
    "\n"
   ]
  },
  {
   "cell_type": "markdown",
   "id": "missing-creature",
   "metadata": {},
   "source": []
  },
  {
   "cell_type": "code",
   "execution_count": null,
   "id": "impressive-distribution",
   "metadata": {},
   "outputs": [],
   "source": []
  }
 ],
 "metadata": {
  "kernelspec": {
   "display_name": "Python 3",
   "language": "python",
   "name": "python3"
  },
  "language_info": {
   "codemirror_mode": {
    "name": "ipython",
    "version": 3
   },
   "file_extension": ".py",
   "mimetype": "text/x-python",
   "name": "python",
   "nbconvert_exporter": "python",
   "pygments_lexer": "ipython3",
   "version": "3.9.1"
  }
 },
 "nbformat": 4,
 "nbformat_minor": 5
}
