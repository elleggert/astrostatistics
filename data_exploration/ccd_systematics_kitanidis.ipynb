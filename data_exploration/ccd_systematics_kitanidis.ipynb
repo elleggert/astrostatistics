{
 "cells": [
  {
   "cell_type": "code",
   "metadata": {
    "collapsed": true,
    "pycharm": {
     "name": "#%%\n"
    }
   },
   "source": [
    "import numpy as np\n",
    "from astropy.io import fits\n",
    "import healpy as hp\n",
    "import pandas as pd\n",
    "import matplotlib.path as mplPath\n",
    "import matplotlib.pyplot as plt\n",
    "\n",
    "import pickle\n"
   ],
   "execution_count": 11,
   "outputs": []
  },
  {
   "cell_type": "markdown",
   "source": [
    "### Retrieving the relevant CCD Data"
   ],
   "metadata": {
    "collapsed": false
   }
  },
  {
   "cell_type": "code",
   "execution_count": 2,
   "outputs": [
    {
     "name": "stdout",
     "output_type": "stream",
     "text": [
      "ColDefs(\n",
      "    name = 'image_filename'; format = '120A'\n",
      "    name = 'image_hdu'; format = 'I'\n",
      "    name = 'camera'; format = '5A'\n",
      "    name = 'expnum'; format = 'K'\n",
      "    name = 'plver'; format = '8A'\n",
      "    name = 'procdate'; format = '19A'\n",
      "    name = 'plprocid'; format = '7A'\n",
      "    name = 'ccdname'; format = '3A'\n",
      "    name = 'object'; format = '35A'\n",
      "    name = 'propid'; format = '10A'\n",
      "    name = 'filter'; format = '1A'\n",
      "    name = 'exptime'; format = 'E'\n",
      "    name = 'mjd_obs'; format = 'D'\n",
      "    name = 'airmass'; format = 'E'\n",
      "    name = 'fwhm'; format = 'E'\n",
      "    name = 'width'; format = 'I'\n",
      "    name = 'height'; format = 'I'\n",
      "    name = 'ra_bore'; format = 'D'\n",
      "    name = 'dec_bore'; format = 'D'\n",
      "    name = 'crpix1'; format = 'E'\n",
      "    name = 'crpix2'; format = 'E'\n",
      "    name = 'crval1'; format = 'D'\n",
      "    name = 'crval2'; format = 'D'\n",
      "    name = 'cd1_1'; format = 'E'\n",
      "    name = 'cd1_2'; format = 'E'\n",
      "    name = 'cd2_1'; format = 'E'\n",
      "    name = 'cd2_2'; format = 'E'\n",
      "    name = 'yshift'; format = 'L'\n",
      "    name = 'ra'; format = 'D'\n",
      "    name = 'dec'; format = 'D'\n",
      "    name = 'skyrms'; format = 'E'\n",
      "    name = 'sig1'; format = 'E'\n",
      "    name = 'ccdzpt'; format = 'E'\n",
      "    name = 'zpt'; format = 'E'\n",
      "    name = 'ccdraoff'; format = 'E'\n",
      "    name = 'ccddecoff'; format = 'E'\n",
      "    name = 'ccdskycounts'; format = 'E'\n",
      "    name = 'ccdskysb'; format = 'E'\n",
      "    name = 'ccdrarms'; format = 'E'\n",
      "    name = 'ccddecrms'; format = 'E'\n",
      "    name = 'ccdphrms'; format = 'E'\n",
      "    name = 'ccdnastrom'; format = 'I'\n",
      "    name = 'ccdnphotom'; format = 'I'\n",
      "    name = 'ccd_cuts'; format = 'K'\n",
      "    name = 'annotated'; format = 'L'\n",
      "    name = 'good_region'; format = '4I'\n",
      "    name = 'ra0'; format = 'D'\n",
      "    name = 'dec0'; format = 'D'\n",
      "    name = 'ra1'; format = 'D'\n",
      "    name = 'dec1'; format = 'D'\n",
      "    name = 'ra2'; format = 'D'\n",
      "    name = 'dec2'; format = 'D'\n",
      "    name = 'ra3'; format = 'D'\n",
      "    name = 'dec3'; format = 'D'\n",
      "    name = 'dra'; format = 'E'\n",
      "    name = 'ddec'; format = 'E'\n",
      "    name = 'ra_center'; format = 'D'\n",
      "    name = 'dec_center'; format = 'D'\n",
      "    name = 'meansky'; format = 'E'\n",
      "    name = 'stdsky'; format = 'E'\n",
      "    name = 'maxsky'; format = 'E'\n",
      "    name = 'minsky'; format = 'E'\n",
      "    name = 'pixscale_mean'; format = 'E'\n",
      "    name = 'pixscale_std'; format = 'E'\n",
      "    name = 'pixscale_max'; format = 'E'\n",
      "    name = 'pixscale_min'; format = 'E'\n",
      "    name = 'psfnorm_mean'; format = 'E'\n",
      "    name = 'psfnorm_std'; format = 'E'\n",
      "    name = 'galnorm_mean'; format = 'E'\n",
      "    name = 'galnorm_std'; format = 'E'\n",
      "    name = 'psf_mx2'; format = 'E'\n",
      "    name = 'psf_my2'; format = 'E'\n",
      "    name = 'psf_mxy'; format = 'E'\n",
      "    name = 'psf_a'; format = 'E'\n",
      "    name = 'psf_b'; format = 'E'\n",
      "    name = 'psf_theta'; format = 'E'\n",
      "    name = 'psf_ell'; format = 'E'\n",
      "    name = 'humidity'; format = 'E'\n",
      "    name = 'outtemp'; format = 'E'\n",
      "    name = 'tileid'; format = 'J'\n",
      "    name = 'tilepass'; format = 'B'\n",
      "    name = 'tileebv'; format = 'E'\n",
      "    name = 'ebv'; format = 'E'\n",
      "    name = 'decam_extinction'; format = '6E'\n",
      "    name = 'wise_extinction'; format = '4E'\n",
      "    name = 'psfdepth'; format = 'E'\n",
      "    name = 'galdepth'; format = 'E'\n",
      "    name = 'gausspsfdepth'; format = 'E'\n",
      "    name = 'gaussgaldepth'; format = 'E'\n",
      "    name = 'phrms'; format = 'E'\n",
      ")\n"
     ]
    }
   ],
   "source": [
    "decamCCD = fits.open('../bricks_data/ccds-annotated-decam-dr9.fits')\n",
    "#mosaicCCD = fits.open('../bricks_data/ccds-annotated-mosaic-dr9.fits')\n",
    "#bassCCD = fits.open('../bricks_data/ccds-annotated-90prime-dr9.fits')\n",
    "print(decamCCD[1].columns)\n"
   ],
   "metadata": {
    "collapsed": false,
    "pycharm": {
     "name": "#%%\n"
    }
   }
  },
  {
   "cell_type": "code",
   "execution_count": 3,
   "outputs": [],
   "source": [
    "dataDecam = decamCCD[1].data\n",
    "#dataMosaic = mosaicCCD[1].data\n",
    "#dataBass = bassCCD[1].data"
   ],
   "metadata": {
    "collapsed": false,
    "pycharm": {
     "name": "#%%\n"
    }
   }
  },
  {
   "cell_type": "code",
   "execution_count": 14,
   "outputs": [],
   "source": [
    "ra0 = dataDecam.field('ra0')\n",
    "dec0 = dataDecam.field('dec0')\n",
    "ra1 = dataDecam.field('ra1')\n",
    "dec1 = dataDecam.field('dec1')\n",
    "ra2 = dataDecam.field('ra2')\n",
    "dec2 = dataDecam.field('dec2')\n",
    "ra3 = dataDecam.field('ra3')\n",
    "dec3 = dataDecam.field('dec3')\n",
    "#Extracting First systematic\n",
    "filter = dataDecam.field('filter')\n",
    "\n",
    "airmass = dataDecam.field('airmass')"
   ],
   "metadata": {
    "collapsed": false,
    "pycharm": {
     "name": "#%%\n"
    }
   }
  },
  {
   "cell_type": "code",
   "execution_count": 5,
   "outputs": [
    {
     "name": "stdout",
     "output_type": "stream",
     "text": [
      "(379416, 2)\n"
     ]
    }
   ],
   "source": [
    "df = pd.read_csv('../bricks_data/galaxy_catalogue_sample.csv')\n",
    "\n",
    "ra = df[\"RA\"].to_numpy(copy=True)\n",
    "dec = df[\"DEC\"].to_numpy(copy=True)\n",
    "\n",
    "raDec = np.stack((ra,dec), axis=1)\n",
    "\n",
    "print(raDec.shape)\n",
    "\n",
    "def raDec2thetaPhi(ra, dec):\n",
    "    return (0.5 * np.pi - np.deg2rad(dec)), (np.deg2rad(ra))\n",
    "\n",
    "NSIDE = 256\n",
    "NPIX = hp.nside2npix(NSIDE)\n"
   ],
   "metadata": {
    "collapsed": false,
    "pycharm": {
     "name": "#%%\n"
    }
   }
  },
  {
   "cell_type": "markdown",
   "source": [
    "### Now, trying to actually get all ccds per pixel\n",
    "Begin by loading the Dictionary mapping pixels to CCDs. Afterwards, iterating through the ccds for a given pixel.\n",
    "Depending on the systematics, we have to break systematics down into the different bands.\n",
    "Airmass is simply averaged across all CCDs, exposure times are calculated on a per CCD basis.\n"
   ],
   "metadata": {
    "collapsed": false,
    "pycharm": {
     "name": "#%% md\n"
    }
   }
  },
  {
   "cell_type": "code",
   "execution_count": 7,
   "outputs": [],
   "source": [
    "with open('../bricks_data/brickpixel2ccd_256.pickle', 'rb') as f:\n",
    "    pixel2ccd_dict = pickle.load(f)\n",
    "    f.close()"
   ],
   "metadata": {
    "collapsed": false,
    "pycharm": {
     "name": "#%%\n"
    }
   }
  },
  {
   "cell_type": "code",
   "execution_count": 43,
   "outputs": [
    {
     "name": "stdout",
     "output_type": "stream",
     "text": [
      "Number of CCDs in the given pixel:  57\n"
     ]
    },
    {
     "data": {
      "text/plain": "<Figure size 432x288 with 1 Axes>",
      "image/png": "[encoded data removed]"
     },
     "metadata": {
      "needs_background": "light"
     },
     "output_type": "display_data"
    }
   ],
   "source": [
    "sample_pixel = 459294\n",
    "\n",
    "# Plot what a given pixel looks like in terms of CCDs\n",
    "\n",
    "ccds_per_pixel = pixel2ccd_dict[sample_pixel]\n",
    "\n",
    "print(\"Number of CCDs in the given pixel: \", len(ccds_per_pixel))\n",
    "for ccd in ccds_per_pixel:\n",
    "    #coord = [[x0,y0], [x1,y1], [x2,y2], [x3,y3], [x0,y0]]\n",
    "        xs = [ra0[ccd],ra1[ccd], ra2[ccd], ra3[ccd],ra0[ccd] ]\n",
    "        ys = [dec0[ccd],dec1[ccd], dec2[ccd], dec3[ccd],dec0[ccd]]\n",
    "        plt.plot(xs,ys)"
   ],
   "metadata": {
    "collapsed": false,
    "pycharm": {
     "name": "#%%\n"
    }
   }
  },
  {
   "cell_type": "markdown",
   "source": [
    "\n",
    "#### Classifying whether a given galaxy is inside one of the CCDs in a pixel"
   ],
   "metadata": {
    "collapsed": false
   }
  },
  {
   "cell_type": "code",
   "execution_count": 48,
   "outputs": [
    {
     "name": "stdout",
     "output_type": "stream",
     "text": [
      "453\n",
      "453\n"
     ]
    }
   ],
   "source": [
    "# Identifying which CCD features a given Galaxy\n",
    "# Looping through CCDs\n",
    "\n",
    "\n",
    "\n",
    "ccds_per_pixel = pixel2ccd_dict[sample_pixel]\n",
    "\n",
    "# getting a subset of only those galaxies that are within a given pixel:\n",
    "\n",
    "theta, phi = raDec2thetaPhi(ra, dec)\n",
    "pixel_indices = hp.ang2pix(NSIDE, theta,phi)\n",
    "\n",
    "galaxies_in_sample_pixel = (pixel_indices == sample_pixel)\n",
    "ra_sample_pixel = ra[galaxies_in_sample_pixel]\n",
    "dec_sample_pixel = dec[galaxies_in_sample_pixel]\n",
    "raDec_sample_pixel = np.stack((ra_sample_pixel,dec_sample_pixel), axis=1)\n",
    "\n",
    "print(len(ra_sample_pixel))\n",
    "print(len(dec_sample_pixel))"
   ],
   "metadata": {
    "collapsed": false,
    "pycharm": {
     "name": "#%%\n"
    }
   }
  },
  {
   "cell_type": "code",
   "execution_count": 75,
   "outputs": [
    {
     "name": "stdout",
     "output_type": "stream",
     "text": [
      "Number of CCDs per pixel: 57\n",
      "Number of Objects per pixel: 453\n",
      "[[ 0.96935508  0.96946775  0.96847567  0.96836084]\n",
      " [ 0.18047976  0.17742509  0.18031603  0.1833703 ]\n",
      " [-0.16666667 -0.16927083 -0.171875   -0.16927083]]\n"
     ]
    },
    {
     "name": "stderr",
     "output_type": "stream",
     "text": [
      "<ipython-input-75-2eb08ecef3b5>:11: DeprecationWarning: `np.int` is a deprecated alias for the builtin `int`. To silence this warning, use `int` by itself. Doing this will not modify any behavior and is safe. When replacing `np.int`, you may wish to use e.g. `np.int64` or `np.int32` to specify the precision. If you wish to review your current use, check the release note link for additional information.\n",
      "Deprecated in NumPy 1.20; for more details and guidance: https://numpy.org/devdocs/release/1.20.0-notes.html#deprecations\n",
      "  pixel_boundary = hp.boundaries(nside=NSIDE, pix=sample_pixel, step=1)\n",
      "<ipython-input-75-2eb08ecef3b5>:11: DeprecationWarning: `np.float` is a deprecated alias for the builtin `float`. To silence this warning, use `float` by itself. Doing this will not modify any behavior and is safe. If you specifically wanted the numpy scalar type, use `np.float64` here.\n",
      "Deprecated in NumPy 1.20; for more details and guidance: https://numpy.org/devdocs/release/1.20.0-notes.html#deprecations\n",
      "  pixel_boundary = hp.boundaries(nside=NSIDE, pix=sample_pixel, step=1)\n"
     ]
    },
    {
     "data": {
      "text/plain": "<matplotlib.collections.PathCollection at 0x7fb08eef3ca0>"
     },
     "execution_count": 75,
     "metadata": {},
     "output_type": "execute_result"
    },
    {
     "data": {
      "text/plain": "<Figure size 432x288 with 1 Axes>",
      "image/png": "[encoded data removed]"
     },
     "metadata": {
      "needs_background": "light"
     },
     "output_type": "display_data"
    }
   ],
   "source": [
    "print(\"Number of CCDs per pixel:\", len(ccds_per_pixel))\n",
    "print(\"Number of Objects per pixel:\", len(ra_sample_pixel))\n",
    "\n",
    "for ccd in ccds_per_pixel:\n",
    "    #coord = [[x0,y0], [x1,y1], [x2,y2], [x3,y3], [x0,y0]]\n",
    "        xs = [ra0[ccd],ra1[ccd], ra2[ccd], ra3[ccd],ra0[ccd] ]\n",
    "        ys = [dec0[ccd],dec1[ccd], dec2[ccd], dec3[ccd],dec0[ccd]]\n",
    "        plt.plot(xs,ys, c='green')\n",
    "\n",
    "\n",
    "pixel_boundary = hp.boundaries(nside=NSIDE, pix=sample_pixel, step=1)\n",
    "print(pixel_boundary)\n",
    "pixel_boundary_raDec = hp.vec2ang(pixel_boundary.transpose(),lonlat=True)\n",
    "plt.plot(pixel_boundary_raDec[0],pixel_boundary_raDec[1], c='black')\n",
    "\n",
    "\n",
    "plt.scatter(ra_sample_pixel, dec_sample_pixel, c='red')\n",
    "\n",
    "# Note: The cluster in the middle is the result that there are limited bricks used so far: 453 objects only in this pixel"
   ],
   "metadata": {
    "collapsed": false,
    "pycharm": {
     "name": "#%%\n"
    }
   }
  },
  {
   "cell_type": "code",
   "execution_count": 49,
   "outputs": [
    {
     "name": "stdout",
     "output_type": "stream",
     "text": [
      "0\n",
      "269\n",
      "26\n",
      "101\n",
      "12\n",
      "157\n",
      "15\n",
      "23\n",
      "192\n",
      "0\n",
      "13\n",
      "62\n",
      "11\n",
      "0\n",
      "262\n",
      "15\n",
      "123\n",
      "158\n",
      "18\n",
      "20\n",
      "191\n",
      "0\n",
      "0\n",
      "263\n",
      "15\n",
      "121\n",
      "12\n",
      "61\n",
      "10\n",
      "0\n",
      "274\n",
      "32\n",
      "90\n",
      "15\n",
      "0\n",
      "0\n",
      "0\n",
      "274\n",
      "30\n",
      "90\n",
      "15\n",
      "0\n",
      "14\n",
      "68\n",
      "8\n",
      "0\n",
      "0\n",
      "0\n",
      "157\n",
      "14\n",
      "22\n",
      "194\n",
      "0\n",
      "0\n",
      "266\n",
      "11\n",
      "118\n"
     ]
    }
   ],
   "source": [
    "# For all CCDs in a pixel, we check whether the given galaxies are in them\n",
    "for no in ccds_per_pixel:\n",
    "    #for no in ccds_per_pixel:\n",
    "    x0 = ra0[no]\n",
    "    x1 = ra1[no]\n",
    "    x2 = ra2[no]\n",
    "    x3 = ra3[no]\n",
    "\n",
    "    y0 = dec0[no]\n",
    "    y1 = dec1[no]\n",
    "    y2 = dec2[no]\n",
    "    y3 = dec3[no]\n",
    "\n",
    "            #Define a Bounding Box using the coorners of a CCD\n",
    "\n",
    "    boundingBoxPath = mplPath.Path(np.array([[x0,y0], [x1,y1], [x2,y2], [x3,y3], [x0,y0]]))\n",
    "\n",
    "\n",
    "    # Check how many of the Objects in my galaxy catalogue are in that bounding box\n",
    "    #Some of these are zero since there are not yet complete galaxy surveys\n",
    "    objects_in_ccd = boundingBoxPath.contains_points(raDec_sample_pixel)\n",
    "    print(objects_in_ccd.sum())\n"
   ],
   "metadata": {
    "collapsed": false,
    "pycharm": {
     "name": "#%%\n"
    }
   }
  },
  {
   "cell_type": "code",
   "execution_count": null,
   "outputs": [],
   "source": [],
   "metadata": {
    "collapsed": false,
    "pycharm": {
     "name": "#%%\n"
    }
   }
  }
 ],
 "metadata": {
  "kernelspec": {
   "display_name": "Python 3",
   "language": "python",
   "name": "python3"
  },
  "language_info": {
   "codemirror_mode": {
    "name": "ipython",
    "version": 2
   },
   "file_extension": ".py",
   "mimetype": "text/x-python",
   "name": "python",
   "nbconvert_exporter": "python",
   "pygments_lexer": "ipython2",
   "version": "2.7.6"
  }
 },
 "nbformat": 4,
 "nbformat_minor": 0
}