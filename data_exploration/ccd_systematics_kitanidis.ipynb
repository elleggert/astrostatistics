{
 "cells": [
  {
   "cell_type": "code",
   "metadata": {
    "collapsed": true,
    "pycharm": {
     "name": "#%%\n"
    }
   },
   "source": [
    "import numpy as np\n",
    "from astropy.io import fits\n",
    "import healpy as hp\n",
    "import pandas as pd\n",
    "import matplotlib.path as mplPath\n",
    "import matplotlib.pyplot as plt\n",
    "\n",
    "import pickle\n"
   ],
   "execution_count": 11,
   "outputs": []
  },
  {
   "cell_type": "markdown",
   "source": [
    "### Retrieving the relevant CCD Data"
   ],
   "metadata": {
    "collapsed": false
   }
  },
  {
   "cell_type": "code",
   "execution_count": 2,
   "outputs": [
    {
     "name": "stdout",
     "output_type": "stream",
     "text": [
      "ColDefs(\n",
      "    name = 'image_filename'; format = '120A'\n",
      "    name = 'image_hdu'; format = 'I'\n",
      "    name = 'camera'; format = '5A'\n",
      "    name = 'expnum'; format = 'K'\n",
      "    name = 'plver'; format = '8A'\n",
      "    name = 'procdate'; format = '19A'\n",
      "    name = 'plprocid'; format = '7A'\n",
      "    name = 'ccdname'; format = '3A'\n",
      "    name = 'object'; format = '35A'\n",
      "    name = 'propid'; format = '10A'\n",
      "    name = 'filter'; format = '1A'\n",
      "    name = 'exptime'; format = 'E'\n",
      "    name = 'mjd_obs'; format = 'D'\n",
      "    name = 'airmass'; format = 'E'\n",
      "    name = 'fwhm'; format = 'E'\n",
      "    name = 'width'; format = 'I'\n",
      "    name = 'height'; format = 'I'\n",
      "    name = 'ra_bore'; format = 'D'\n",
      "    name = 'dec_bore'; format = 'D'\n",
      "    name = 'crpix1'; format = 'E'\n",
      "    name = 'crpix2'; format = 'E'\n",
      "    name = 'crval1'; format = 'D'\n",
      "    name = 'crval2'; format = 'D'\n",
      "    name = 'cd1_1'; format = 'E'\n",
      "    name = 'cd1_2'; format = 'E'\n",
      "    name = 'cd2_1'; format = 'E'\n",
      "    name = 'cd2_2'; format = 'E'\n",
      "    name = 'yshift'; format = 'L'\n",
      "    name = 'ra'; format = 'D'\n",
      "    name = 'dec'; format = 'D'\n",
      "    name = 'skyrms'; format = 'E'\n",
      "    name = 'sig1'; format = 'E'\n",
      "    name = 'ccdzpt'; format = 'E'\n",
      "    name = 'zpt'; format = 'E'\n",
      "    name = 'ccdraoff'; format = 'E'\n",
      "    name = 'ccddecoff'; format = 'E'\n",
      "    name = 'ccdskycounts'; format = 'E'\n",
      "    name = 'ccdskysb'; format = 'E'\n",
      "    name = 'ccdrarms'; format = 'E'\n",
      "    name = 'ccddecrms'; format = 'E'\n",
      "    name = 'ccdphrms'; format = 'E'\n",
      "    name = 'ccdnastrom'; format = 'I'\n",
      "    name = 'ccdnphotom'; format = 'I'\n",
      "    name = 'ccd_cuts'; format = 'K'\n",
      "    name = 'annotated'; format = 'L'\n",
      "    name = 'good_region'; format = '4I'\n",
      "    name = 'ra0'; format = 'D'\n",
      "    name = 'dec0'; format = 'D'\n",
      "    name = 'ra1'; format = 'D'\n",
      "    name = 'dec1'; format = 'D'\n",
      "    name = 'ra2'; format = 'D'\n",
      "    name = 'dec2'; format = 'D'\n",
      "    name = 'ra3'; format = 'D'\n",
      "    name = 'dec3'; format = 'D'\n",
      "    name = 'dra'; format = 'E'\n",
      "    name = 'ddec'; format = 'E'\n",
      "    name = 'ra_center'; format = 'D'\n",
      "    name = 'dec_center'; format = 'D'\n",
      "    name = 'meansky'; format = 'E'\n",
      "    name = 'stdsky'; format = 'E'\n",
      "    name = 'maxsky'; format = 'E'\n",
      "    name = 'minsky'; format = 'E'\n",
      "    name = 'pixscale_mean'; format = 'E'\n",
      "    name = 'pixscale_std'; format = 'E'\n",
      "    name = 'pixscale_max'; format = 'E'\n",
      "    name = 'pixscale_min'; format = 'E'\n",
      "    name = 'psfnorm_mean'; format = 'E'\n",
      "    name = 'psfnorm_std'; format = 'E'\n",
      "    name = 'galnorm_mean'; format = 'E'\n",
      "    name = 'galnorm_std'; format = 'E'\n",
      "    name = 'psf_mx2'; format = 'E'\n",
      "    name = 'psf_my2'; format = 'E'\n",
      "    name = 'psf_mxy'; format = 'E'\n",
      "    name = 'psf_a'; format = 'E'\n",
      "    name = 'psf_b'; format = 'E'\n",
      "    name = 'psf_theta'; format = 'E'\n",
      "    name = 'psf_ell'; format = 'E'\n",
      "    name = 'humidity'; format = 'E'\n",
      "    name = 'outtemp'; format = 'E'\n",
      "    name = 'tileid'; format = 'J'\n",
      "    name = 'tilepass'; format = 'B'\n",
      "    name = 'tileebv'; format = 'E'\n",
      "    name = 'ebv'; format = 'E'\n",
      "    name = 'decam_extinction'; format = '6E'\n",
      "    name = 'wise_extinction'; format = '4E'\n",
      "    name = 'psfdepth'; format = 'E'\n",
      "    name = 'galdepth'; format = 'E'\n",
      "    name = 'gausspsfdepth'; format = 'E'\n",
      "    name = 'gaussgaldepth'; format = 'E'\n",
      "    name = 'phrms'; format = 'E'\n",
      ")\n"
     ]
    }
   ],
   "source": [
    "decamCCD = fits.open('../bricks_data/ccds-annotated-decam-dr9.fits')\n",
    "#mosaicCCD = fits.open('../bricks_data/ccds-annotated-mosaic-dr9.fits')\n",
    "#bassCCD = fits.open('../bricks_data/ccds-annotated-90prime-dr9.fits')\n",
    "print(decamCCD[1].columns)\n"
   ],
   "metadata": {
    "collapsed": false,
    "pycharm": {
     "name": "#%%\n"
    }
   }
  },
  {
   "cell_type": "code",
   "execution_count": 3,
   "outputs": [],
   "source": [
    "dataDecam = decamCCD[1].data\n",
    "#dataMosaic = mosaicCCD[1].data\n",
    "#dataBass = bassCCD[1].data"
   ],
   "metadata": {
    "collapsed": false,
    "pycharm": {
     "name": "#%%\n"
    }
   }
  },
  {
   "cell_type": "code",
   "execution_count": 14,
   "outputs": [],
   "source": [
    "ra0 = dataDecam.field('ra0')\n",
    "dec0 = dataDecam.field('dec0')\n",
    "ra1 = dataDecam.field('ra1')\n",
    "dec1 = dataDecam.field('dec1')\n",
    "ra2 = dataDecam.field('ra2')\n",
    "dec2 = dataDecam.field('dec2')\n",
    "ra3 = dataDecam.field('ra3')\n",
    "dec3 = dataDecam.field('dec3')\n",
    "#Extracting First systematic\n",
    "filter = dataDecam.field('filter')\n",
    "\n",
    "airmass = dataDecam.field('airmass')"
   ],
   "metadata": {
    "collapsed": false,
    "pycharm": {
     "name": "#%%\n"
    }
   }
  },
  {
   "cell_type": "code",
   "execution_count": 5,
   "outputs": [
    {
     "name": "stdout",
     "output_type": "stream",
     "text": [
      "(379416, 2)\n"
     ]
    }
   ],
   "source": [
    "df = pd.read_csv('../bricks_data/galaxy_catalogue_sample.csv')\n",
    "\n",
    "ra = df[\"RA\"].to_numpy(copy=True)\n",
    "dec = df[\"DEC\"].to_numpy(copy=True)\n",
    "\n",
    "raDec = np.stack((ra,dec), axis=1)\n",
    "\n",
    "print(raDec.shape)\n",
    "\n",
    "def raDec2thetaPhi(ra, dec):\n",
    "    return (0.5 * np.pi - np.deg2rad(dec)), (np.deg2rad(ra))\n",
    "\n",
    "NSIDE = 256\n",
    "NPIX = hp.nside2npix(NSIDE)\n"
   ],
   "metadata": {
    "collapsed": false,
    "pycharm": {
     "name": "#%%\n"
    }
   }
  },
  {
   "cell_type": "markdown",
   "source": [
    "### Now, trying to actually get all ccds per pixel\n",
    "Begin by loading the Dictionary mapping pixels to CCDs. Afterwards, iterating through the ccds for a given pixel.\n",
    "Depending on the systematics, we have to break systematics down into the different bands.\n",
    "Airmass is simply averaged across all CCDs, exposure times are calculated on a per CCD basis.\n"
   ],
   "metadata": {
    "collapsed": false,
    "pycharm": {
     "name": "#%% md\n"
    }
   }
  },
  {
   "cell_type": "code",
   "execution_count": 7,
   "outputs": [],
   "source": [
    "with open('../bricks_data/brickpixel2ccd_256.pickle', 'rb') as f:\n",
    "    pixel2ccd_dict = pickle.load(f)\n",
    "    f.close()"
   ],
   "metadata": {
    "collapsed": false,
    "pycharm": {
     "name": "#%%\n"
    }
   }
  },
  {
   "cell_type": "code",
   "execution_count": 43,
   "outputs": [
    {
     "name": "stdout",
     "output_type": "stream",
     "text": [
      "Number of CCDs in the given pixel:  57\n"
     ]
    },
    {
     "data": {
      "text/plain": "<Figure size 432x288 with 1 Axes>",
      "image/png": "[encoded data removed]"
     },
     "metadata": {
      "needs_background": "light"
     },
     "output_type": "display_data"
    }
   ],
   "source": [
    "sample_pixel = 459294\n",
    "\n",
    "# Plot what a given pixel looks like in terms of CCDs\n",
    "\n",
    "ccds_per_pixel = pixel2ccd_dict[sample_pixel]\n",
    "\n",
    "print(\"Number of CCDs in the given pixel: \", len(ccds_per_pixel))\n",
    "for ccd in ccds_per_pixel:\n",
    "    #coord = [[x0,y0], [x1,y1], [x2,y2], [x3,y3], [x0,y0]]\n",
    "        xs = [ra0[ccd],ra1[ccd], ra2[ccd], ra3[ccd],ra0[ccd] ]\n",
    "        ys = [dec0[ccd],dec1[ccd], dec2[ccd], dec3[ccd],dec0[ccd]]\n",
    "        plt.plot(xs,ys)"
   ],
   "metadata": {
    "collapsed": false,
    "pycharm": {
     "name": "#%%\n"
    }
   }
  },
  {
   "cell_type": "markdown",
   "source": [
    "\n",
    "#### Classifying whether a given galaxy is inside one of the CCDs in a pixel"
   ],
   "metadata": {
    "collapsed": false
   }
  },
  {
   "cell_type": "code",
   "execution_count": 41,
   "outputs": [
    {
     "name": "stdout",
     "output_type": "stream",
     "text": [
      "379416\n",
      "459294\n"
     ]
    }
   ],
   "source": [
    "# Identifying which CCD features a given Galaxy\n",
    "# Looping through CCDs\n",
    "\n",
    "\n",
    "\n",
    "ccds_per_pixel = pixel2ccd_dict[sample_pixel]\n",
    "\n",
    "# getting a subset of only those galaxies that are within a given pixel:\n",
    "\n",
    "theta, phi = raDec2thetaPhi(ra, dec)\n",
    "pixel_indices = hp.ang2pix(NSIDE, theta,phi)\n",
    "print(len(pixel_indices))\n",
    "(unique, counts) = np.unique(pixel_indices, return_counts=True)\n",
    "print(unique[3372])"
   ],
   "metadata": {
    "collapsed": false,
    "pycharm": {
     "name": "#%%\n"
    }
   }
  },
  {
   "cell_type": "code",
   "execution_count": 34,
   "outputs": [
    {
     "name": "stdout",
     "output_type": "stream",
     "text": [
      "1054\n",
      "0\n",
      "1054\n",
      "0\n",
      "0\n",
      "0\n",
      "775\n",
      "0\n",
      "0\n",
      "0\n",
      "179\n",
      "0\n",
      "0\n",
      "815\n",
      "0\n",
      "0\n",
      "0\n",
      "172\n",
      "1061\n",
      "0\n",
      "0\n",
      "0\n",
      "829\n",
      "0\n",
      "0\n",
      "0\n",
      "167\n",
      "0\n",
      "0\n",
      "599\n",
      "0\n",
      "0\n",
      "230\n",
      "0\n",
      "100\n",
      "0\n",
      "0\n",
      "0\n",
      "0\n",
      "100\n",
      "0\n",
      "0\n",
      "0\n",
      "100\n",
      "0\n",
      "0\n",
      "0\n",
      "797\n",
      "0\n",
      "0\n",
      "0\n",
      "173\n",
      "0\n",
      "983\n",
      "0\n",
      "0\n",
      "128\n",
      "0\n",
      "986\n",
      "0\n",
      "0\n",
      "0\n",
      "128\n",
      "0\n",
      "0\n",
      "0\n",
      "1048\n",
      "0\n",
      "240\n",
      "0\n",
      "57\n",
      "0\n",
      "1006\n",
      "0\n",
      "0\n",
      "1054\n",
      "0\n",
      "0\n",
      "1004\n",
      "0\n",
      "126\n",
      "0\n",
      "0\n",
      "0\n",
      "0\n",
      "0\n",
      "227\n",
      "0\n",
      "0\n",
      "0\n",
      "0\n",
      "0\n",
      "229\n",
      "0\n",
      "1005\n",
      "0\n",
      "123\n",
      "0\n",
      "1054\n",
      "0\n",
      "979\n",
      "598\n",
      "0\n",
      "0\n",
      "0\n",
      "227\n",
      "123\n",
      "0\n",
      "1046\n",
      "0\n",
      "0\n",
      "0\n",
      "0\n",
      "0\n",
      "0\n",
      "226\n",
      "981\n",
      "596\n",
      "0\n",
      "0\n",
      "0\n",
      "227\n",
      "981\n",
      "599\n",
      "0\n",
      "0\n",
      "0\n",
      "230\n",
      "0\n",
      "1007\n",
      "0\n",
      "1045\n",
      "0\n",
      "243\n",
      "0\n",
      "55\n",
      "1044\n",
      "0\n",
      "245\n",
      "0\n",
      "54\n",
      "1043\n",
      "0\n",
      "263\n",
      "0\n",
      "48\n",
      "1050\n",
      "0\n",
      "231\n",
      "0\n",
      "58\n",
      "0\n",
      "1048\n",
      "0\n",
      "285\n",
      "0\n",
      "39\n",
      "0\n",
      "1045\n",
      "0\n",
      "273\n",
      "0\n",
      "41\n",
      "0\n",
      "1044\n",
      "0\n",
      "271\n",
      "0\n",
      "41\n",
      "0\n",
      "0\n",
      "302\n",
      "0\n",
      "34\n",
      "0\n",
      "986\n",
      "0\n",
      "583\n",
      "0\n",
      "979\n",
      "0\n",
      "605\n",
      "0\n",
      "982\n",
      "0\n",
      "601\n",
      "0\n",
      "980\n",
      "0\n",
      "606\n",
      "0\n",
      "981\n",
      "0\n",
      "597\n",
      "0\n",
      "446\n",
      "18\n",
      "223\n",
      "0\n",
      "0\n",
      "0\n",
      "0\n",
      "0\n",
      "0\n",
      "450\n",
      "17\n",
      "224\n",
      "446\n",
      "18\n",
      "223\n",
      "420\n",
      "20\n",
      "228\n",
      "422\n",
      "20\n",
      "228\n",
      "429\n",
      "20\n",
      "227\n",
      "1055\n",
      "0\n",
      "1057\n",
      "0\n"
     ]
    }
   ],
   "source": [
    "\n",
    "# For all CCDs in a pixel, we check whether the given galaxies are in them\n",
    "for no in ccds_per_pixel:\n",
    "    #for no in ccds_per_pixel:\n",
    "    x0 = ra0[no]\n",
    "    x1 = ra1[no]\n",
    "    x2 = ra2[no]\n",
    "    x3 = ra3[no]\n",
    "\n",
    "    y0 = dec0[no]\n",
    "    y1 = dec1[no]\n",
    "    y2 = dec2[no]\n",
    "    y3 = dec3[no]\n",
    "\n",
    "            #Define a Bounding Box using the coorners of a CCD\n",
    "\n",
    "    boundingBoxPath = mplPath.Path(np.array([[x0,y0], [x1,y1], [x2,y2], [x3,y3], [x0,y0]]))\n",
    "\n",
    "\n",
    "    # Check how many of the Objects in my galaxy catalogue are in that bounding box\n",
    "    objects_in_ccd = boundingBoxPath.contains_points(raDec)\n",
    "    print(objects_in_ccd.sum())\n"
   ],
   "metadata": {
    "collapsed": false,
    "pycharm": {
     "name": "#%%\n"
    }
   }
  },
  {
   "cell_type": "code",
   "execution_count": null,
   "outputs": [],
   "source": [],
   "metadata": {
    "collapsed": false,
    "pycharm": {
     "name": "#%%\n"
    }
   }
  }
 ],
 "metadata": {
  "kernelspec": {
   "display_name": "Python 3",
   "language": "python",
   "name": "python3"
  },
  "language_info": {
   "codemirror_mode": {
    "name": "ipython",
    "version": 2
   },
   "file_extension": ".py",
   "mimetype": "text/x-python",
   "name": "python",
   "nbconvert_exporter": "python",
   "pygments_lexer": "ipython2",
   "version": "2.7.6"
  }
 },
 "nbformat": 4,
 "nbformat_minor": 0
}