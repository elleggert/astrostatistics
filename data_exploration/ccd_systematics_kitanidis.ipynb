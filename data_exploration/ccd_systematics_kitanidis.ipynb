{
 "cells": [
  {
   "cell_type": "code",
   "execution_count": 1,
   "metadata": {
    "pycharm": {
     "name": "#%%\n"
    }
   },
   "outputs": [],
   "source": [
    "import numpy as np\n",
    "from astropy.io import fits\n",
    "import healpy as hp\n",
    "import pandas as pd\n",
    "import matplotlib.path as mplPath\n",
    "import matplotlib.pyplot as plt\n",
    "import pickle\n"
   ]
  },
  {
   "cell_type": "markdown",
   "metadata": {},
   "source": [
    "### Retrieving the relevant CCD Data"
   ]
  },
  {
   "cell_type": "code",
   "execution_count": 2,
   "metadata": {
    "pycharm": {
     "name": "#%%\n"
    }
   },
   "outputs": [
    {
     "name": "stdout",
     "output_type": "stream",
     "text": [
      "ColDefs(\n",
      "    name = 'image_filename'; format = '120A'\n",
      "    name = 'image_hdu'; format = 'I'\n",
      "    name = 'camera'; format = '5A'\n",
      "    name = 'expnum'; format = 'K'\n",
      "    name = 'plver'; format = '8A'\n",
      "    name = 'procdate'; format = '19A'\n",
      "    name = 'plprocid'; format = '7A'\n",
      "    name = 'ccdname'; format = '3A'\n",
      "    name = 'object'; format = '35A'\n",
      "    name = 'propid'; format = '10A'\n",
      "    name = 'filter'; format = '1A'\n",
      "    name = 'exptime'; format = 'E'\n",
      "    name = 'mjd_obs'; format = 'D'\n",
      "    name = 'airmass'; format = 'E'\n",
      "    name = 'fwhm'; format = 'E'\n",
      "    name = 'width'; format = 'I'\n",
      "    name = 'height'; format = 'I'\n",
      "    name = 'ra_bore'; format = 'D'\n",
      "    name = 'dec_bore'; format = 'D'\n",
      "    name = 'crpix1'; format = 'E'\n",
      "    name = 'crpix2'; format = 'E'\n",
      "    name = 'crval1'; format = 'D'\n",
      "    name = 'crval2'; format = 'D'\n",
      "    name = 'cd1_1'; format = 'E'\n",
      "    name = 'cd1_2'; format = 'E'\n",
      "    name = 'cd2_1'; format = 'E'\n",
      "    name = 'cd2_2'; format = 'E'\n",
      "    name = 'yshift'; format = 'L'\n",
      "    name = 'ra'; format = 'D'\n",
      "    name = 'dec'; format = 'D'\n",
      "    name = 'skyrms'; format = 'E'\n",
      "    name = 'sig1'; format = 'E'\n",
      "    name = 'ccdzpt'; format = 'E'\n",
      "    name = 'zpt'; format = 'E'\n",
      "    name = 'ccdraoff'; format = 'E'\n",
      "    name = 'ccddecoff'; format = 'E'\n",
      "    name = 'ccdskycounts'; format = 'E'\n",
      "    name = 'ccdskysb'; format = 'E'\n",
      "    name = 'ccdrarms'; format = 'E'\n",
      "    name = 'ccddecrms'; format = 'E'\n",
      "    name = 'ccdphrms'; format = 'E'\n",
      "    name = 'ccdnastrom'; format = 'I'\n",
      "    name = 'ccdnphotom'; format = 'I'\n",
      "    name = 'ccd_cuts'; format = 'K'\n",
      "    name = 'annotated'; format = 'L'\n",
      "    name = 'good_region'; format = '4I'\n",
      "    name = 'ra0'; format = 'D'\n",
      "    name = 'dec0'; format = 'D'\n",
      "    name = 'ra1'; format = 'D'\n",
      "    name = 'dec1'; format = 'D'\n",
      "    name = 'ra2'; format = 'D'\n",
      "    name = 'dec2'; format = 'D'\n",
      "    name = 'ra3'; format = 'D'\n",
      "    name = 'dec3'; format = 'D'\n",
      "    name = 'dra'; format = 'E'\n",
      "    name = 'ddec'; format = 'E'\n",
      "    name = 'ra_center'; format = 'D'\n",
      "    name = 'dec_center'; format = 'D'\n",
      "    name = 'meansky'; format = 'E'\n",
      "    name = 'stdsky'; format = 'E'\n",
      "    name = 'maxsky'; format = 'E'\n",
      "    name = 'minsky'; format = 'E'\n",
      "    name = 'pixscale_mean'; format = 'E'\n",
      "    name = 'pixscale_std'; format = 'E'\n",
      "    name = 'pixscale_max'; format = 'E'\n",
      "    name = 'pixscale_min'; format = 'E'\n",
      "    name = 'psfnorm_mean'; format = 'E'\n",
      "    name = 'psfnorm_std'; format = 'E'\n",
      "    name = 'galnorm_mean'; format = 'E'\n",
      "    name = 'galnorm_std'; format = 'E'\n",
      "    name = 'psf_mx2'; format = 'E'\n",
      "    name = 'psf_my2'; format = 'E'\n",
      "    name = 'psf_mxy'; format = 'E'\n",
      "    name = 'psf_a'; format = 'E'\n",
      "    name = 'psf_b'; format = 'E'\n",
      "    name = 'psf_theta'; format = 'E'\n",
      "    name = 'psf_ell'; format = 'E'\n",
      "    name = 'humidity'; format = 'E'\n",
      "    name = 'outtemp'; format = 'E'\n",
      "    name = 'tileid'; format = 'J'\n",
      "    name = 'tilepass'; format = 'B'\n",
      "    name = 'tileebv'; format = 'E'\n",
      "    name = 'ebv'; format = 'E'\n",
      "    name = 'decam_extinction'; format = '6E'\n",
      "    name = 'wise_extinction'; format = '4E'\n",
      "    name = 'psfdepth'; format = 'E'\n",
      "    name = 'galdepth'; format = 'E'\n",
      "    name = 'gausspsfdepth'; format = 'E'\n",
      "    name = 'gaussgaldepth'; format = 'E'\n",
      "    name = 'phrms'; format = 'E'\n",
      ")\n"
     ]
    }
   ],
   "source": [
    "\n",
    "decamCCD = fits.open('../bricks_data/ccds-annotated-decam-dr9.fits')\n",
    "mosaicCCD = fits.open('../bricks_data/ccds-annotated-mosaic-dr9.fits')\n",
    "bassCCD = fits.open('../bricks_data/ccds-annotated-90prime-dr9.fits')\n",
    "print(decamCCD[1].columns)\n"
   ]
  },
  {
   "cell_type": "code",
   "execution_count": 3,
   "metadata": {
    "pycharm": {
     "name": "#%%\n"
    }
   },
   "outputs": [],
   "source": [
    "dataDecam = decamCCD[1].data\n",
    "dataMosaic = mosaicCCD[1].data\n",
    "dataBass = bassCCD[1].data"
   ]
  },
  {
   "cell_type": "code",
   "execution_count": 4,
   "metadata": {
    "pycharm": {
     "name": "#%%\n"
    }
   },
   "outputs": [],
   "source": [
    "# Extracting Corners Only needed for visualisation\n",
    "\n",
    "ra0 = np.concatenate((dataDecam.field('ra0'), dataMosaic.field('ra0'), dataBass.field('ra0')), axis=0)\n",
    "dec0 = np.concatenate((dataDecam.field('dec0'), dataMosaic.field('dec0'), dataBass.field('dec0')), axis=0)\n",
    "\n",
    "ra1 = np.concatenate((dataDecam.field('ra1'), dataMosaic.field('ra1'), dataBass.field('ra1')), axis=0)\n",
    "dec1 = np.concatenate((dataDecam.field('dec1'), dataMosaic.field('dec1'), dataBass.field('dec1')), axis=0)\n",
    "\n",
    "ra2 = np.concatenate((dataDecam.field('ra2'), dataMosaic.field('ra2'), dataBass.field('ra2')), axis=0)\n",
    "dec2 = np.concatenate((dataDecam.field('dec2'), dataMosaic.field('dec2'), dataBass.field('dec2')), axis=0)\n",
    "\n",
    "ra3 = np.concatenate((dataDecam.field('ra3'), dataMosaic.field('ra3'), dataBass.field('ra3')), axis=0)\n",
    "dec3 = np.concatenate((dataDecam.field('dec3'), dataMosaic.field('dec3'), dataBass.field('dec3')), axis=0)\n",
    "\n",
    "#Extracting systematics\n",
    "filter_colour = np.concatenate((dataDecam.field('filter'), dataMosaic.field('filter'), dataBass.field('filter')), axis=0)\n",
    "\n",
    "#camera = np.concatenate((dataDecam.field('camera'), dataMosaic.field('camera'), dataBass.field('camera')), axis=0)\n",
    "\n",
    "\n",
    "exptime = np.concatenate((dataDecam.field('exptime'), dataMosaic.field('exptime'), dataBass.field('exptime')), axis=0)\n",
    "airmass = np.concatenate((dataDecam.field('airmass'), dataMosaic.field('airmass'), dataBass.field('airmass')), axis=0)\n",
    "fwhm = np.concatenate((dataDecam.field('fwhm'), dataMosaic.field('fwhm'), dataBass.field('fwhm')), axis=0)\n",
    "#skyrms = np.concatenate((dataDecam.field('skyrms'), dataMosaic.field('skyrms'), dataBass.field('skyrms')), axis=0)\n",
    "\n",
    "#sig1 = np.concatenate((dataDecam.field('sig1'), dataMosaic.field('sig1'), dataBass.field('sig1')), axis = 0)\n",
    "#ccdskycounts = np.concatenate((dataDecam.field('ccdskycounts'), dataMosaic.field('ccdskycounts'), dataBass.field('ccdskycounts')), axis = 0)\n",
    "\n",
    "ccdskysb = np.concatenate((dataDecam.field('ccdskysb'), dataMosaic.field('ccdskysb'), dataBass.field('ccdskysb')), axis = 0)\n",
    "                          \n",
    "                          \n",
    "#ccdphrms = np.concatenate((dataDecam.field('ccdphrms'), dataMosaic.field('ccdphrms'), dataBass.field('ccdphrms')), axis = 0)\n",
    "                          \n",
    "                          \n",
    "#phrms = np.concatenate((dataDecam.field('phrms'), dataMosaic.field('phrms'), dataBass.field('phrms')), axis = 0)\n",
    "                       \n",
    "                       \n",
    "#ccdnastrom = np.concatenate((dataDecam.field('ccdnastrom'), dataMosaic.field('ccdnastrom'), dataBass.field('ccdnastrom')), axis = 0)\n",
    "                            \n",
    "                            \n",
    "ccdnphotom = np.concatenate((dataDecam.field('ccdnphotom'), dataMosaic.field('ccdnphotom'), dataBass.field('ccdnphotom')), axis = 0)\n",
    "                            \n",
    "                            \n",
    "meansky = np.concatenate((dataDecam.field('meansky'), dataMosaic.field('meansky'), dataBass.field('meansky')), axis = 0)\n",
    "                         \n",
    "                         \n",
    "                         \n",
    "#stdsky = np.concatenate((dataDecam.field('stdsky'), dataMosaic.field('stdsky'), dataBass.field('stdsky')), axis = 0)\n",
    "                        \n",
    "                        \n",
    "#maxsky = np.concatenate((dataDecam.field('maxsky'), dataMosaic.field('maxsky'), dataBass.field('maxsky')), axis = 0)\n",
    "                        \n",
    "                        \n",
    "#minsky = np.concatenate((dataDecam.field('minsky'), dataMosaic.field('minsky'), dataBass.field('minsky')), axis = 0)\n",
    "                        \n",
    "                        \n",
    "#pixscale_mean = np.concatenate((dataDecam.field('pixscale_mean'), dataMosaic.field('pixscale_mean'), dataBass.field('pixscale_mean')), axis = 0)\n",
    "                               \n",
    "                               \n",
    "#pixscale_std = np.concatenate((dataDecam.field('pixscale_std'), dataMosaic.field('pixscale_std'), dataBass.field('pixscale_std')), axis = 0)\n",
    "                              \n",
    "                              \n",
    "                              \n",
    "#pixscale_max = np.concatenate((dataDecam.field('pixscale_max'), dataMosaic.field('pixscale_max'), dataBass.field('pixscale_max')), axis = 0)\n",
    "                              \n",
    "                              \n",
    "                              \n",
    "#pixscale_min = np.concatenate((dataDecam.field('pixscale_min'), dataMosaic.field('pixscale_min'), dataBass.field('pixscale_min')), axis = 0)\n",
    "                              \n",
    "                              \n",
    "#galnorm_mean = np.concatenate((dataDecam.field('galnorm_mean'), dataMosaic.field('galnorm_mean'), dataBass.field('galnorm_mean')), axis = 0)\n",
    "                              \n",
    "                              \n",
    "                              \n",
    "#galnorm_std = np.concatenate((dataDecam.field('galnorm_std'), dataMosaic.field('galnorm_std'), dataBass.field('galnorm_std')), axis = 0)\n",
    "                             \n",
    "                             \n",
    "                             \n",
    "#humidity = np.concatenate((dataDecam.field('humidity'), dataMosaic.field('humidity'), dataBass.field('humidity')), axis = 0)\n",
    "                          \n",
    "                          \n",
    "#outtemp = np.concatenate((dataDecam.field('outtemp'), dataMosaic.field('outtemp'), dataBass.field('outtemp')), axis = 0)\n",
    "                         \n",
    "                         \n",
    "#tileebv = np.concatenate((dataDecam.field('tileebv'), dataMosaic.field('tileebv'), dataBass.field('tileebv')), axis = 0)\n",
    "                         \n",
    "                         \n",
    "                         \n",
    "ebv = np.concatenate((dataDecam.field('ebv'), dataMosaic.field('ebv'), dataBass.field('ebv')), axis = 0)\n",
    "                     \n",
    "                     \n",
    "galdepth = np.concatenate((dataDecam.field('galdepth'), dataMosaic.field('galdepth'), dataBass.field('galdepth')), axis = 0)\n",
    "                          \n",
    "                          \n",
    "#gaussgaldepth = np.concatenate((dataDecam.field('gaussgaldepth'), dataMosaic.field('gaussgaldepth'), dataBass.field('gaussgaldepth')), axis = 0)\n",
    "                               \n",
    "                               \n",
    "                               "
   ]
  },
  {
   "cell_type": "code",
   "execution_count": 5,
   "metadata": {
    "pycharm": {
     "name": "#%%\n"
    }
   },
   "outputs": [
    {
     "name": "stdout",
     "output_type": "stream",
     "text": [
      "(379416, 2)\n"
     ]
    }
   ],
   "source": [
    "df = pd.read_csv('../bricks_data/galaxy_catalogue_sample.csv')\n",
    "\n",
    "ra = df[\"RA\"].to_numpy(copy=True)\n",
    "dec = df[\"DEC\"].to_numpy(copy=True)\n",
    "\n",
    "raDec = np.stack((ra,dec), axis=1)\n",
    "\n",
    "print(raDec.shape)\n",
    "\n",
    "def raDec2thetaPhi(ra, dec):\n",
    "    return (0.5 * np.pi - np.deg2rad(dec)), (np.deg2rad(ra))\n",
    "\n",
    "NSIDE = 256\n",
    "NPIX = hp.nside2npix(NSIDE)\n"
   ]
  },
  {
   "cell_type": "markdown",
   "metadata": {
    "pycharm": {
     "name": "#%% md\n"
    }
   },
   "source": [
    "### Now, trying to actually get all ccds per pixel\n",
    "Begin by loading the Dictionary mapping pixels to CCDs. Afterwards, iterating through the ccds for a given pixel.\n",
    "Depending on the systematics, we have to break systematics down into the different bands.\n",
    "Airmass is simply averaged across all CCDs, exposure times are calculated on a per CCD basis.\n"
   ]
  },
  {
   "cell_type": "code",
   "execution_count": 6,
   "metadata": {
    "pycharm": {
     "name": "#%%\n"
    }
   },
   "outputs": [],
   "source": [
    "with open('../bricks_data/pixel2ccd_256.pickle', 'rb') as f:\n",
    "    pixel2ccd_dict = pickle.load(f)\n",
    "    f.close()"
   ]
  },
  {
   "cell_type": "code",
   "execution_count": 7,
   "metadata": {
    "pycharm": {
     "name": "#%%\n"
    }
   },
   "outputs": [
    {
     "name": "stdout",
     "output_type": "stream",
     "text": [
      "Number of CCDs in the given pixel:  57\n"
     ]
    },
    {
     "data": {
      "image/png": "[encoded data removed]",
      "text/plain": [
       "<Figure size 432x288 with 1 Axes>"
      ]
     },
     "metadata": {
      "needs_background": "light"
     },
     "output_type": "display_data"
    }
   ],
   "source": [
    "sample_pixel = 459294\n",
    "\n",
    "# Plot what a given pixel looks like in terms of CCDs\n",
    "\n",
    "ccds_per_pixel = pixel2ccd_dict[sample_pixel]\n",
    "\n",
    "print(\"Number of CCDs in the given pixel: \", len(ccds_per_pixel))\n",
    "for ccd in ccds_per_pixel:\n",
    "    #coord = [[x0,y0], [x1,y1], [x2,y2], [x3,y3], [x0,y0]]\n",
    "        xs = [ra0[ccd],ra1[ccd], ra2[ccd], ra3[ccd],ra0[ccd] ]\n",
    "        ys = [dec0[ccd],dec1[ccd], dec2[ccd], dec3[ccd],dec0[ccd]]\n",
    "        plt.plot(xs,ys)"
   ]
  },
  {
   "cell_type": "markdown",
   "metadata": {},
   "source": [
    "\n",
    "#### Classifying whether a given galaxy is inside one of the CCDs in a pixel"
   ]
  },
  {
   "cell_type": "code",
   "execution_count": 8,
   "metadata": {
    "pycharm": {
     "name": "#%%\n"
    }
   },
   "outputs": [
    {
     "name": "stdout",
     "output_type": "stream",
     "text": [
      "453\n",
      "453\n"
     ]
    }
   ],
   "source": [
    "# Identifying which CCD features a given Galaxy\n",
    "# Looping through CCDs\n",
    "\n",
    "\n",
    "\n",
    "ccds_per_pixel = pixel2ccd_dict[sample_pixel]\n",
    "\n",
    "# getting a subset of only those galaxies that are within a given pixel:\n",
    "\n",
    "theta, phi = raDec2thetaPhi(ra, dec)\n",
    "pixel_indices = hp.ang2pix(NSIDE, theta,phi)\n",
    "\n",
    "galaxies_in_sample_pixel = (pixel_indices == sample_pixel)\n",
    "ra_sample_pixel = ra[galaxies_in_sample_pixel]\n",
    "dec_sample_pixel = dec[galaxies_in_sample_pixel]\n",
    "raDec_sample_pixel = np.stack((ra_sample_pixel,dec_sample_pixel), axis=1)\n",
    "\n",
    "print(len(ra_sample_pixel))\n",
    "print(len(dec_sample_pixel))"
   ]
  },
  {
   "cell_type": "code",
   "execution_count": 9,
   "metadata": {
    "pycharm": {
     "name": "#%%\n"
    }
   },
   "outputs": [
    {
     "name": "stdout",
     "output_type": "stream",
     "text": [
      "Number of CCDs per pixel: 57\n",
      "Number of Objects per pixel: 453\n"
     ]
    },
    {
     "name": "stderr",
     "output_type": "stream",
     "text": [
      "<ipython-input-9-5c1809221d22>:14: DeprecationWarning: `np.int` is a deprecated alias for the builtin `int`. To silence this warning, use `int` by itself. Doing this will not modify any behavior and is safe. When replacing `np.int`, you may wish to use e.g. `np.int64` or `np.int32` to specify the precision. If you wish to review your current use, check the release note link for additional information.\n",
      "Deprecated in NumPy 1.20; for more details and guidance: https://numpy.org/devdocs/release/1.20.0-notes.html#deprecations\n",
      "  pixel_boundary = hp.boundaries(nside=NSIDE, pix=sample_pixel, step=1)\n",
      "<ipython-input-9-5c1809221d22>:14: DeprecationWarning: `np.float` is a deprecated alias for the builtin `float`. To silence this warning, use `float` by itself. Doing this will not modify any behavior and is safe. If you specifically wanted the numpy scalar type, use `np.float64` here.\n",
      "Deprecated in NumPy 1.20; for more details and guidance: https://numpy.org/devdocs/release/1.20.0-notes.html#deprecations\n",
      "  pixel_boundary = hp.boundaries(nside=NSIDE, pix=sample_pixel, step=1)\n"
     ]
    },
    {
     "data": {
      "image/png": "[encoded data removed]",
      "text/plain": [
       "<Figure size 432x288 with 1 Axes>"
      ]
     },
     "metadata": {
      "needs_background": "light"
     },
     "output_type": "display_data"
    }
   ],
   "source": [
    "print(\"Number of CCDs per pixel:\", len(ccds_per_pixel))\n",
    "print(\"Number of Objects per pixel:\", len(ra_sample_pixel))\n",
    "'''\n",
    "for ccd in ccds_per_pixel:\n",
    "    #coord = [[x0,y0], [x1,y1], [x2,y2], [x3,y3], [x0,y0]]\n",
    "        xs = [ra0[ccd],ra1[ccd], ra2[ccd], ra3[ccd],ra0[ccd] ]\n",
    "        ys = [dec0[ccd],dec1[ccd], dec2[ccd], dec3[ccd],dec0[ccd]]\n",
    "        plt.plot(xs,ys, c='green', label=\"CCD Boundaries\")\n",
    "'''\n",
    "xs = [ra0[ccds_per_pixel],ra1[ccds_per_pixel], ra2[ccds_per_pixel], ra3[ccds_per_pixel],ra0[ccds_per_pixel] ]\n",
    "ys = [dec0[ccds_per_pixel],dec1[ccds_per_pixel], dec2[ccds_per_pixel], dec3[ccds_per_pixel],dec0[ccds_per_pixel]]\n",
    "plt.plot(xs,ys, c='green')\n",
    "\n",
    "pixel_boundary = hp.boundaries(nside=NSIDE, pix=sample_pixel, step=1)\n",
    "pixel_boundary_raDec = hp.vec2ang(pixel_boundary.transpose(),lonlat=True)\n",
    "pixel_boundary_raDec = list(pixel_boundary_raDec)\n",
    "pixel_boundary_raDec[0] = np.append(pixel_boundary_raDec[0],pixel_boundary_raDec[0][0])\n",
    "pixel_boundary_raDec[1] = np.append(pixel_boundary_raDec[1],pixel_boundary_raDec[1][0])\n",
    "\n",
    "\n",
    "plt.plot(pixel_boundary_raDec[0],pixel_boundary_raDec[1], c='black', label=\"Pixel Boundary\")\n",
    "\n",
    "\n",
    "plt.scatter(ra_sample_pixel, dec_sample_pixel, c='red', marker='.', label=\"Detected Galaxies\")\n",
    "\n",
    "plt.legend()\n",
    "plt.show()\n",
    "# Note: The cluster in the middle is the result that there are limited bricks used so far: 453 objects only in this pixel"
   ]
  },
  {
   "cell_type": "code",
   "execution_count": 47,
   "metadata": {
    "pycharm": {
     "name": "#%%\n"
    }
   },
   "outputs": [
    {
     "name": "stdout",
     "output_type": "stream",
     "text": [
      "453\n",
      "57\n"
     ]
    },
    {
     "data": {
      "image/png": "[encoded data removed]",
      "text/plain": [
       "<Figure size 432x288 with 1 Axes>"
      ]
     },
     "metadata": {
      "needs_background": "light"
     },
     "output_type": "display_data"
    },
    {
     "name": "stdout",
     "output_type": "stream",
     "text": [
      "Airmass in pixel 459294 : 0.0\n"
     ]
    }
   ],
   "source": [
    "import matplotlib.patches as patches\n",
    "airmass_value_aggr = 0.0\n",
    "objects_per_pixel = len(raDec_sample_pixel)\n",
    "print(objects_per_pixel)\n",
    "print(len(ccds_per_pixel))\n",
    "\n",
    "#Loop through all objects/galaxies in the pixel:\n",
    "for galaxy in range(objects_per_pixel):\n",
    "    airmass_galaxy = 0.0\n",
    "    ccd_per_galaxy = 0\n",
    "# For all CCDs in a pixel, we check whether the given galaxy is in them\n",
    "    for no in ccds_per_pixel:\n",
    "        c+=1\n",
    "        #for no in ccds_per_pixel:\n",
    "        x0 = ra0[no]\n",
    "        x1 = ra1[no]\n",
    "        x2 = ra2[no]\n",
    "        x3 = ra3[no]\n",
    "\n",
    "        y0 = dec0[no]\n",
    "        y1 = dec1[no]\n",
    "        y2 = dec2[no]\n",
    "        y3 = dec3[no]\n",
    "\n",
    "        #Define a Bounding Box Polygon using the coorners of a CCD\n",
    "        boundingBoxPath = mplPath.Path(np.array([[x0,y0], [x1,y1], [x2,y2], [x3,y3], [x0,y0]]))\n",
    "        \n",
    "        #Code to identify whether a polygon drawn for a given CCD is actually a rectangle\n",
    "        #print(type(boundingBoxPath))\n",
    "        \n",
    "        \n",
    "        fig, ax = plt.subplots()\n",
    "        patch = patches.PathPatch(boundingBoxPath, facecolor='blue', lw=2)\n",
    "        ax.add_patch(patch)\n",
    "        ax.set_xlim(10.4,10.8)\n",
    "        ax.set_ylim(-9.25,-9.75)\n",
    "        plt.show()\n",
    "        break\n",
    "        \n",
    "        #If the object is in the pixel, add the airmass for this ccd to the pixel value\n",
    "        #Some of these are zero since there are not yet complete galaxy surveys\n",
    "        if boundingBoxPath.contains_point(raDec_sample_pixel[galaxy]):\n",
    "            airmass_galaxy += airmass[no]\n",
    "            ccd_per_galaxy += 1\n",
    "    break\n",
    "    # Add the average airmass for this galaxy to the airmass for the pixel\n",
    "    airmass_value_aggr += airmass_galaxy/ccd_per_galaxy\n",
    "    #print(airmass_value_aggr)\n",
    "\n",
    "# Get the mean airmass across all objects in the pixel\n",
    "airmass_pixel = airmass_value_aggr/objects_per_pixel\n",
    "print(\"Airmass in pixel\", sample_pixel, \":\", airmass_pixel)\n"
   ]
  },
  {
   "cell_type": "markdown",
   "metadata": {
    "pycharm": {
     "name": "#%%\n"
    }
   },
   "source": [
    "### Looping through the entire catalogue "
   ]
  },
  {
   "cell_type": "code",
   "execution_count": 10,
   "metadata": {},
   "outputs": [
    {
     "name": "stdout",
     "output_type": "stream",
     "text": [
      "455672\n"
     ]
    }
   ],
   "source": [
    "pixels = pixel2ccd_dict.keys()\n",
    "\n",
    "print(len(pixels))"
   ]
  },
  {
   "cell_type": "code",
   "execution_count": 19,
   "metadata": {},
   "outputs": [
    {
     "name": "stdout",
     "output_type": "stream",
     "text": [
      "1567\n"
     ]
    }
   ],
   "source": [
    "theta, phi = raDec2thetaPhi(ra, dec)\n",
    "pixel_indices = hp.ang2pix(NSIDE, theta,phi)\n",
    "pixel2systematics_dict = {}\n",
    "\n",
    "\n",
    "for i,sample_pixel in enumerate(pixels):\n",
    "    \n",
    "    ccds_per_pixel = pixel2ccd_dict[sample_pixel]\n",
    "\n",
    "    # getting a subset of only those galaxies that are within a given pixel:\n",
    "    galaxies_in_sample_pixel = (pixel_indices == sample_pixel)\n",
    "    objects_per_pixel = galaxies_in_sample_pixel.sum()\n",
    "    # For the moment, only focusing on those pixels in the corpus where I have more than 100 galaxies already\n",
    "    if objects_per_pixel < 100:\n",
    "        continue\n",
    "    ra_sample_pixel = ra[galaxies_in_sample_pixel]\n",
    "    dec_sample_pixel = dec[galaxies_in_sample_pixel]\n",
    "    raDec_sample_pixel = np.stack((ra_sample_pixel,dec_sample_pixel), axis=1)\n",
    "\n",
    "        \n",
    "    airmass_aggregate = 0\n",
    "    fwhm_aggregate = 0\n",
    "    ebv_aggregate = 0\n",
    "    ccdnphotom_aggregate = 0\n",
    "    \n",
    "    ccdskysb_aggregate_g = 0\n",
    "    ccdskysb_aggregate_r = 0\n",
    "    ccdskysb_aggregate_z = 0\n",
    "    \n",
    "    exptime_aggregate_g = 0\n",
    "    exptime_aggregate_r = 0\n",
    "    exptime_aggregate_z = 0\n",
    "\n",
    "    meansky_aggregate_g = 0\n",
    "    meansky_aggregate_r = 0\n",
    "    meansky_aggregate_z = 0\n",
    "    \n",
    "    galdepth_aggregate_g = 0\n",
    "    galdepth_aggregate_r = 0\n",
    "    galdepth_aggregate_z = 0\n",
    "    \n",
    "    \n",
    "    #Loop through all objects/galaxies in the pixel:\n",
    "    for galaxy in range(objects_per_pixel):\n",
    "        airmass_galaxy = 0.0\n",
    "        fwhm_galaxy = 0.0\n",
    "        ebv_galaxy = 0.0\n",
    "        ccdnphotom_galaxy = 0.0\n",
    "        \n",
    "        ccdskysb_galaxy_g = 0.0\n",
    "        ccdskysb_galaxy_r = 0.0\n",
    "        ccdskysb_galaxy_z = 0.0\n",
    "        exptime_galaxy_g = 0.0\n",
    "        exptime_galaxy_r = 0.0\n",
    "        exptime_galaxy_z = 0.0\n",
    "        meansky_galaxy_g = 0.0\n",
    "        meansky_galaxy_r = 0.0\n",
    "        meansky_galaxy_z = 0.0\n",
    "        galdepth_galaxy_g = 0.0\n",
    "        galdepth_galaxy_r = 0.0\n",
    "        galdepth_galaxy_z = 0.0\n",
    "    \n",
    "    \n",
    "        ccd_per_galaxy = 0\n",
    "        ccd_per_galaxy_g = 0\n",
    "        ccd_per_galaxy_r = 0\n",
    "        ccd_per_galaxy_z = 0\n",
    "            \n",
    "            \n",
    "    # For all CCDs in a pixel, we check whether the given galaxy is in them\n",
    "        for no in ccds_per_pixel:\n",
    "            #for no in ccds_per_pixel:\n",
    "            x0 = ra0[no]\n",
    "            x1 = ra1[no]\n",
    "            x2 = ra2[no]\n",
    "            x3 = ra3[no]\n",
    "\n",
    "            y0 = dec0[no]\n",
    "            y1 = dec1[no]\n",
    "            y2 = dec2[no]\n",
    "            y3 = dec3[no]\n",
    "\n",
    "            #Define a Bounding Box Polygon using the coorners of a CCD\n",
    "            boundingBoxPath = mplPath.Path(np.array([[x0,y0], [x1,y1], [x2,y2], [x3,y3], [x0,y0]]))\n",
    "\n",
    "            #If the object is in the pixel, add the airmass for this ccd to the pixel value\n",
    "            #Some of these are zero since there are not yet complete galaxy surveys\n",
    "            if boundingBoxPath.contains_point(raDec_sample_pixel[galaxy]):\n",
    "                airmass_galaxy += airmass[no]\n",
    "                fwhm_galaxy += fwhm[no]\n",
    "                ebv_galaxy += ebv[no]\n",
    "                ccdnphotom_galaxy += ccdnphotom[no]\n",
    "                ccd_per_galaxy += 1\n",
    "                \n",
    "                if filter_colour[no] == 'g':\n",
    "                    ccdskysb_galaxy_g += ccdskysb[no]\n",
    "                    exptime_galaxy_g += exptime[no]\n",
    "                    meansky_galaxy_g += meansky[no]\n",
    "                    galdepth_galaxy_g += galdepth[no]\n",
    "                    ccd_per_galaxy_g += 1\n",
    "\n",
    "                if filter_colour[no] == 'r':\n",
    "                    ccdskysb_galaxy_r += ccdskysb[no]\n",
    "                    exptime_galaxy_r += exptime[no]\n",
    "                    meansky_galaxy_r += meansky[no]\n",
    "                    galdepth_galaxy_r += galdepth[no]\n",
    "                    ccd_per_galaxy_r += 1 \n",
    "                \n",
    "                if filter_colour[no] == 'z':\n",
    "                    ccdskysb_galaxy_z += ccdskysb[no]\n",
    "                    exptime_galaxy_z += exptime[no]\n",
    "                    meansky_galaxy_z += meansky[no]\n",
    "                    galdepth_galaxy_z += galdepth[no]\n",
    "                    ccd_per_galaxy_z += 1\n",
    "\n",
    "        # Add the average airmass for this galaxy to the airmass for the pixel\n",
    "        if ccd_per_galaxy > 0:\n",
    "            airmass_aggregate += airmass_galaxy/ccd_per_galaxy\n",
    "            fwhm_aggregate += fwhm_galaxy/ccd_per_galaxy\n",
    "            ebv_aggregate += ebv_galaxy/ccd_per_galaxy\n",
    "            ccdnphotom_aggregate += ccdnphotom_galaxy/ccd_per_galaxy\n",
    "\n",
    "        if ccd_per_galaxy_g > 0: \n",
    "            ccdskysb_aggregate_g += ccdskysb_galaxy_g/ccd_per_galaxy_g\n",
    "            exptime_aggregate_g += exptime_galaxy_g/ccd_per_galaxy_g\n",
    "            meansky_aggregate_g += meansky_galaxy_g/ccd_per_galaxy_g\n",
    "            galdepth_aggregate_g += galdepth_galaxy_g/ccd_per_galaxy_g\n",
    "            \n",
    "        if ccd_per_galaxy_r > 0: \n",
    "            ccdskysb_aggregate_r += ccdskysb_galaxy_r/ccd_per_galaxy_r\n",
    "            exptime_aggregate_r += exptime_galaxy_r/ccd_per_galaxy_r\n",
    "            meansky_aggregate_r += meansky_galaxy_r/ccd_per_galaxy_r\n",
    "            galdepth_aggregate_r += galdepth_galaxy_r/ccd_per_galaxy_r\n",
    "            \n",
    "        if ccd_per_galaxy_z > 0: \n",
    "            ccdskysb_aggregate_z += ccdskysb_galaxy_z/ccd_per_galaxy_z\n",
    "            exptime_aggregate_z += exptime_galaxy_z/ccd_per_galaxy_z\n",
    "            meansky_aggregate_z += meansky_galaxy_z/ccd_per_galaxy_z\n",
    "            galdepth_aggregate_z += galdepth_galaxy_z/ccd_per_galaxy_z\n",
    "        # End LOOP\n",
    "    \n",
    "    # Average Across the Pixel\n",
    "    systematics_per_pixel = []\n",
    "    systematics_per_pixel.append(airmass_aggregate/objects_per_pixel)\n",
    "    systematics_per_pixel.append(fwhm_aggregate/objects_per_pixel)\n",
    "    systematics_per_pixel.append(ebv_aggregate/objects_per_pixel)\n",
    "    systematics_per_pixel.append(ccdnphotom_aggregate/objects_per_pixel)\n",
    "    \n",
    "    systematics_per_pixel.append(ccdskysb_aggregate_g/objects_per_pixel)\n",
    "    systematics_per_pixel.append(ccdskysb_aggregate_r/objects_per_pixel)\n",
    "    systematics_per_pixel.append(ccdskysb_aggregate_z/objects_per_pixel)\n",
    "    \n",
    "    systematics_per_pixel.append(exptime_aggregate_g/objects_per_pixel)\n",
    "    systematics_per_pixel.append(exptime_aggregate_r/objects_per_pixel)\n",
    "    systematics_per_pixel.append(exptime_aggregate_z/objects_per_pixel)\n",
    "\n",
    "    systematics_per_pixel.append(meansky_aggregate_g/objects_per_pixel)\n",
    "    systematics_per_pixel.append(meansky_aggregate_r/objects_per_pixel)\n",
    "    systematics_per_pixel.append(meansky_aggregate_z/objects_per_pixel)\n",
    "                                 \n",
    "    systematics_per_pixel.append(galdepth_aggregate_g/objects_per_pixel)\n",
    "    systematics_per_pixel.append(galdepth_aggregate_r/objects_per_pixel)\n",
    "    systematics_per_pixel.append(galdepth_aggregate_z/objects_per_pixel)\n",
    "    \n",
    "    pixel2systematics_dict[sample_pixel] = systematics_per_pixel    \n",
    "    # Get the mean airmass across all objects in the pixel\n",
    "                              \n",
    "    if i % 4567 == 0:\n",
    "        print(i/4567, '%')\n",
    "\n",
    "print(len(pixel2systematics_dict.keys()))\n",
    "#Sshould be 1548"
   ]
  },
  {
   "cell_type": "code",
   "execution_count": 20,
   "metadata": {},
   "outputs": [],
   "source": [
    "with open(f'../bricks_data/pixel2systematics_kitanidis.pickle', 'wb') as f:\n",
    "    pickle.dump(pixel2systematics_dict, f)\n",
    "    f.close()"
   ]
  },
  {
   "cell_type": "code",
   "execution_count": null,
   "metadata": {},
   "outputs": [],
   "source": [
    "gi"
   ]
  }
 ],
 "metadata": {
  "kernelspec": {
   "display_name": "Python 3",
   "language": "python",
   "name": "python3"
  },
  "language_info": {
   "codemirror_mode": {
    "name": "ipython",
    "version": 3
   },
   "file_extension": ".py",
   "mimetype": "text/x-python",
   "name": "python",
   "nbconvert_exporter": "python",
   "pygments_lexer": "ipython3",
   "version": "3.8.8"
  }
 },
 "nbformat": 4,
 "nbformat_minor": 1
}