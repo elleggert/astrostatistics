{
 "cells": [
  {
   "cell_type": "markdown",
   "metadata": {
    "collapsed": true,
    "pycharm": {
     "name": "#%% md\n"
    }
   },
   "source": [
    "### First attempt at building a Neural Network to learn a non-linear F(s)\n"
   ],
   "outputs": [],
   "execution_count": 1
  },
  {
   "cell_type": "code",
   "execution_count": 20,
   "outputs": [
    {
     "name": "stdout",
     "output_type": "stream",
     "text": [
      "1.9.0\n"
     ]
    }
   ],
   "source": [
    "import torch\n",
    "import numpy as np\n",
    "import pandas as pd\n",
    "import os\n",
    "import torch\n",
    "import torch.nn as nn\n",
    "import torch.nn.functional as F\n",
    "from sklearn.model_selection import train_test_split\n",
    "from sklearn.utils import shuffle\n",
    "from sklearn import preprocessing\n",
    "from torch.utils.data import DataLoader, Dataset\n",
    "from torch.nn import functional as F\n",
    "\n",
    "print(torch.__version__)"
   ],
   "metadata": {
    "collapsed": false,
    "pycharm": {
     "name": "#%%\n"
    }
   }
  },
  {
   "cell_type": "code",
   "execution_count": 21,
   "outputs": [
    {
     "name": "stdout",
     "output_type": "stream",
     "text": [
      "<class 'pandas.core.frame.DataFrame'>\n",
      "RangeIndex: 268046 entries, 0 to 268045\n",
      "Data columns (total 20 columns):\n",
      " #   Column             Non-Null Count   Dtype  \n",
      "---  ------             --------------   -----  \n",
      " 0   lrg_density        268046 non-null  float64\n",
      " 1   elg_density        268046 non-null  float64\n",
      " 2   qso_density        268046 non-null  float64\n",
      " 3   stellar_density    268046 non-null  float64\n",
      " 4   airmass_galaxy     268046 non-null  float64\n",
      " 5   fwhm_galaxy        268046 non-null  float64\n",
      " 6   ebv_galaxy         268046 non-null  float64\n",
      " 7   ccdnphotom_galaxy  268046 non-null  float64\n",
      " 8   ccdskysb_galaxy_g  268046 non-null  float64\n",
      " 9   ccdskysb_galaxy_r  268046 non-null  float64\n",
      " 10  ccdskysb_galaxy_z  268046 non-null  float64\n",
      " 11  exptime_galaxy_g   268046 non-null  float64\n",
      " 12  exptime_galaxy_r   268046 non-null  float64\n",
      " 13  exptime_galaxy_z   268046 non-null  float64\n",
      " 14  meansky_galaxy_g   268046 non-null  float64\n",
      " 15  meansky_galaxy_r   268046 non-null  float64\n",
      " 16  meansky_galaxy_z   268046 non-null  float64\n",
      " 17  galdepth_galaxy_g  268046 non-null  float64\n",
      " 18  galdepth_galaxy_r  268046 non-null  float64\n",
      " 19  galdepth_galaxy_z  268046 non-null  float64\n",
      "dtypes: float64(20)\n",
      "memory usage: 40.9 MB\n"
     ]
    }
   ],
   "source": [
    "#Preprocess Data\n",
    "df = pd.read_csv('../bricks_data/dataset_geometric.csv')\n",
    "df.info()"
   ],
   "metadata": {
    "collapsed": false,
    "pycharm": {
     "name": "#%%\n"
    }
   }
  },
  {
   "cell_type": "markdown",
   "source": [
    "### Defining The Dataset Class Inheriting from Torch.dataset to be able to use a dataloader for training"
   ],
   "metadata": {
    "collapsed": false,
    "pycharm": {
     "name": "#%% md\n"
    }
   }
  },
  {
   "cell_type": "code",
   "execution_count": 43,
   "outputs": [],
   "source": [
    "class DensitySurvey(Dataset):\n",
    "    def __init__(self, df, galaxy_type):\n",
    "        self.data = df[0:1000]\n",
    "        # Extracting Targets and Input\n",
    "        if galaxy_type == \"LRG\":\n",
    "            self.target = self.data['lrg_density'].to_numpy(copy=True)\n",
    "        if galaxy_type == \"ELG\":\n",
    "            self.target = self.data['elg_density'].to_numpy(copy=True)\n",
    "        if galaxy_type == \"QSO\":\n",
    "            self.target = self.data['qso_density'].to_numpy(copy=True)\n",
    "        self.input = self.data.drop(columns=['lrg_density','elg_density','qso_density']).to_numpy(copy=True)\n",
    "\n",
    "        # Scaling\n",
    "        scaler = preprocessing.MinMaxScaler()\n",
    "        self.input = scaler.fit_transform(self.input)\n",
    "        self.target = scaler.fit_transform(self.target.reshape(-1, 1))\n",
    "        print(self.input.shape)\n",
    "        print(self.target.shape)\n",
    "\n",
    "\n",
    "    def __len__(self):\n",
    "        return len(self.target)\n",
    "\n",
    "    def __getitem__(self, idx):\n",
    "        return torch.from_numpy(self.input[idx]), torch.tensor(self.target[idx])\n"
   ],
   "metadata": {
    "collapsed": false,
    "pycharm": {
     "name": "#%%\n"
    }
   }
  },
  {
   "cell_type": "code",
   "execution_count": 44,
   "outputs": [
    {
     "name": "stdout",
     "output_type": "stream",
     "text": [
      "(1000, 17)\n",
      "(1000, 1)\n",
      "(1000, 17)\n",
      "(1000, 1)\n",
      "1000\n",
      "1000\n"
     ]
    }
   ],
   "source": [
    "df = pd.read_csv('../bricks_data/dataset_geometric.csv')\n",
    "train_df, test_df = train_test_split(df, test_size=0.33, random_state=44, shuffle=True)\n",
    "traindata = DensitySurvey(train_df, 'LRG')\n",
    "testdata = DensitySurvey(test_df, 'LRG')\n",
    "\n",
    "print(traindata.__len__())\n",
    "print(testdata.__len__())\n"
   ],
   "metadata": {
    "collapsed": false,
    "pycharm": {
     "name": "#%%\n"
    }
   }
  },
  {
   "cell_type": "markdown",
   "source": [
    "### Define Model and Hyperparameters\n",
    "\n"
   ],
   "metadata": {
    "collapsed": false,
    "pycharm": {
     "name": "#%% md\n"
    }
   },
   "execution_count": 45
  },
  {
   "cell_type": "code",
   "execution_count": null,
   "outputs": [],
   "source": [
    "class Net(nn.Module):\n",
    "    def __init__(self, n_feature = 17, n_hidden = 10, n_output = 1):\n",
    "        super(Net, self).__init__()\n",
    "        self.fc1 = nn.Linear(n_feature,n_hidden)\n",
    "        #self.fc2 = nn.Linear(n_hidden,n_hidden)\n",
    "        self.predict = nn.Linear(n_hidden,n_output)\n",
    "\n",
    "    def forward(self,x):\n",
    "        out = F.relu(self.fc1(x))\n",
    "        out = self.predict(out)\n",
    "        return out\n",
    "\n",
    "device = 'cpu'\n",
    "\n",
    "model = Net().to(device)\n",
    "\n",
    " "
   ],
   "metadata": {
    "collapsed": false,
    "pycharm": {
     "name": "#%%\n"
    }
   }
  },
  {
   "cell_type": "code",
   "execution_count": null,
   "outputs": [],
   "source": [
    "# Defining Loss\n",
    "criterion = nn.MSELoss()\n",
    "\n",
    "#Defining Hyperparemeters\n",
    "no_epochs = 500 #very low, but computational power not sufficient for more iterations\n",
    "batch = 1024\n",
    "learning_rate = 0.001\n",
    "\n",
    "#Using the Adam Method for Stochastic Optimisation\n",
    "optimiser = optim.Adam(model.parameters(), lr=learning_rate)"
   ],
   "metadata": {
    "collapsed": false,
    "pycharm": {
     "name": "#%%\n"
    }
   }
  }
 ],
 "metadata": {
  "kernelspec": {
   "display_name": "Python 3",
   "language": "python",
   "name": "python3"
  },
  "language_info": {
   "codemirror_mode": {
    "name": "ipython",
    "version": 2
   },
   "file_extension": ".py",
   "mimetype": "text/x-python",
   "name": "python",
   "nbconvert_exporter": "python",
   "pygments_lexer": "ipython2",
   "version": "2.7.6"
  }
 },
 "nbformat": 4,
 "nbformat_minor": 0
}