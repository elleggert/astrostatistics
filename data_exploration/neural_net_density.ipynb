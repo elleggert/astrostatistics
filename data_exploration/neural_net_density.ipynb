{
 "cells": [
  {
   "cell_type": "markdown",
   "metadata": {
    "collapsed": true,
    "pycharm": {
     "name": "#%% md\n"
    }
   },
   "source": [
    "### First attempt at building a Neural Network to learn a non-linear F(s)\n"
   ],
   "outputs": [],
   "execution_count": 1
  },
  {
   "cell_type": "code",
   "execution_count": 3,
   "outputs": [
    {
     "name": "stdout",
     "output_type": "stream",
     "text": [
      "1.9.0\n"
     ]
    }
   ],
   "source": [
    "import torch\n",
    "import numpy as np\n",
    "import pandas as pd\n",
    "import os\n",
    "import torch\n",
    "import torch.nn as nn\n",
    "import torch.nn.functional as F\n",
    "from sklearn.model_selection import train_test_split\n",
    "from sklearn.utils import shuffle\n",
    "from torch.utils.data import DataLoader, Dataset\n",
    "from torch.nn import functional as F\n",
    "\n",
    "print(torch.__version__)"
   ],
   "metadata": {
    "collapsed": false,
    "pycharm": {
     "name": "#%%\n"
    }
   }
  },
  {
   "cell_type": "code",
   "execution_count": 5,
   "outputs": [
    {
     "name": "stdout",
     "output_type": "stream",
     "text": [
      "<class 'pandas.core.frame.DataFrame'>\n",
      "RangeIndex: 268046 entries, 0 to 268045\n",
      "Data columns (total 20 columns):\n",
      " #   Column             Non-Null Count   Dtype  \n",
      "---  ------             --------------   -----  \n",
      " 0   lrg_density        268046 non-null  float64\n",
      " 1   elg_density        268046 non-null  float64\n",
      " 2   qso_density        268046 non-null  float64\n",
      " 3   stellar_density    268046 non-null  float64\n",
      " 4   airmass_galaxy     268046 non-null  float64\n",
      " 5   fwhm_galaxy        268046 non-null  float64\n",
      " 6   ebv_galaxy         268046 non-null  float64\n",
      " 7   ccdnphotom_galaxy  268046 non-null  float64\n",
      " 8   ccdskysb_galaxy_g  268046 non-null  float64\n",
      " 9   ccdskysb_galaxy_r  268046 non-null  float64\n",
      " 10  ccdskysb_galaxy_z  268046 non-null  float64\n",
      " 11  exptime_galaxy_g   268046 non-null  float64\n",
      " 12  exptime_galaxy_r   268046 non-null  float64\n",
      " 13  exptime_galaxy_z   268046 non-null  float64\n",
      " 14  meansky_galaxy_g   268046 non-null  float64\n",
      " 15  meansky_galaxy_r   268046 non-null  float64\n",
      " 16  meansky_galaxy_z   268046 non-null  float64\n",
      " 17  galdepth_galaxy_g  268046 non-null  float64\n",
      " 18  galdepth_galaxy_r  268046 non-null  float64\n",
      " 19  galdepth_galaxy_z  268046 non-null  float64\n",
      "dtypes: float64(20)\n",
      "memory usage: 40.9 MB\n"
     ]
    }
   ],
   "source": [
    "#Preprocess Data\n",
    "df = pd.read_csv('../bricks_data/dataset_geometric.csv')\n",
    "df.info()"
   ],
   "metadata": {
    "collapsed": false,
    "pycharm": {
     "name": "#%%\n"
    }
   }
  },
  {
   "cell_type": "markdown",
   "source": [
    "### Defining The Dataset Class Inheriting from Torch.dataset to be able to use a dataloader for training"
   ],
   "metadata": {
    "collapsed": false,
    "pycharm": {
     "name": "#%% md\n"
    }
   }
  },
  {
   "cell_type": "code",
   "execution_count": null,
   "outputs": [],
   "source": [
    "class DensitySurvey(Dataset):\n",
    "    def __init__(self, path_to_data, galaxy_type, train=True):\n",
    "        df = pd.read_csv(path_to_data)\n",
    "        if galaxy_type is \"LRG\":\n",
    "            self.target = df['lrg_density'].to_numpy(copy=True)\n",
    "        if galaxy_type is \"ELG\":\n",
    "            self.target = df['elg_density'].to_numpy(copy=True)\n",
    "        if galaxy_type is \"QSO\":\n",
    "            self.target = df['qso_density'].to_numpy(copy=True)\n",
    "        self.input = df.drop(columns=['lrg_density','elg_density','qso_density']).to_numpy(copy=True)\n",
    "\n",
    "    def __len__(self):\n",
    "        return len(self.target)\n",
    "\n",
    "    def __getitem__(self, idx):\n",
    "        return torch.from_numpy(self.input[idx]), torch.tensor(self.target[idx])\n",
    "\n",
    "\n",
    "\n",
    "\n"
   ],
   "metadata": {
    "collapsed": false,
    "pycharm": {
     "name": "#%%\n"
    }
   }
  }
 ],
 "metadata": {
  "kernelspec": {
   "display_name": "Python 3",
   "language": "python",
   "name": "python3"
  },
  "language_info": {
   "codemirror_mode": {
    "name": "ipython",
    "version": 2
   },
   "file_extension": ".py",
   "mimetype": "text/x-python",
   "name": "python",
   "nbconvert_exporter": "python",
   "pygments_lexer": "ipython2",
   "version": "2.7.6"
  }
 },
 "nbformat": 4,
 "nbformat_minor": 0
}