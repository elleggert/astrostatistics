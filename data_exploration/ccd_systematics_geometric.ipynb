{
 "cells": [
  {
   "cell_type": "code",
   "execution_count": 1,
   "metadata": {
    "collapsed": true
   },
   "outputs": [],
   "source": [
    "import numpy as np\n",
    "from astropy.io import fits\n",
    "import healpy as hp\n",
    "import pandas as pd\n",
    "import matplotlib.path as mplPath\n",
    "import matplotlib.pyplot as plt\n",
    "import pickle"
   ]
  },
  {
   "cell_type": "markdown",
   "source": [
    "### Retrieving the relevant CCD Data"
   ],
   "metadata": {
    "collapsed": false,
    "pycharm": {
     "name": "#%% md\n"
    }
   }
  },
  {
   "cell_type": "code",
   "execution_count": 2,
   "outputs": [
    {
     "name": "stdout",
     "output_type": "stream",
     "text": [
      "ColDefs(\n",
      "    name = 'image_filename'; format = '120A'\n",
      "    name = 'image_hdu'; format = 'I'\n",
      "    name = 'camera'; format = '5A'\n",
      "    name = 'expnum'; format = 'K'\n",
      "    name = 'plver'; format = '8A'\n",
      "    name = 'procdate'; format = '19A'\n",
      "    name = 'plprocid'; format = '7A'\n",
      "    name = 'ccdname'; format = '3A'\n",
      "    name = 'object'; format = '35A'\n",
      "    name = 'propid'; format = '10A'\n",
      "    name = 'filter'; format = '1A'\n",
      "    name = 'exptime'; format = 'E'\n",
      "    name = 'mjd_obs'; format = 'D'\n",
      "    name = 'airmass'; format = 'E'\n",
      "    name = 'fwhm'; format = 'E'\n",
      "    name = 'width'; format = 'I'\n",
      "    name = 'height'; format = 'I'\n",
      "    name = 'ra_bore'; format = 'D'\n",
      "    name = 'dec_bore'; format = 'D'\n",
      "    name = 'crpix1'; format = 'E'\n",
      "    name = 'crpix2'; format = 'E'\n",
      "    name = 'crval1'; format = 'D'\n",
      "    name = 'crval2'; format = 'D'\n",
      "    name = 'cd1_1'; format = 'E'\n",
      "    name = 'cd1_2'; format = 'E'\n",
      "    name = 'cd2_1'; format = 'E'\n",
      "    name = 'cd2_2'; format = 'E'\n",
      "    name = 'yshift'; format = 'L'\n",
      "    name = 'ra'; format = 'D'\n",
      "    name = 'dec'; format = 'D'\n",
      "    name = 'skyrms'; format = 'E'\n",
      "    name = 'sig1'; format = 'E'\n",
      "    name = 'ccdzpt'; format = 'E'\n",
      "    name = 'zpt'; format = 'E'\n",
      "    name = 'ccdraoff'; format = 'E'\n",
      "    name = 'ccddecoff'; format = 'E'\n",
      "    name = 'ccdskycounts'; format = 'E'\n",
      "    name = 'ccdskysb'; format = 'E'\n",
      "    name = 'ccdrarms'; format = 'E'\n",
      "    name = 'ccddecrms'; format = 'E'\n",
      "    name = 'ccdphrms'; format = 'E'\n",
      "    name = 'ccdnastrom'; format = 'I'\n",
      "    name = 'ccdnphotom'; format = 'I'\n",
      "    name = 'ccd_cuts'; format = 'K'\n",
      "    name = 'annotated'; format = 'L'\n",
      "    name = 'good_region'; format = '4I'\n",
      "    name = 'ra0'; format = 'D'\n",
      "    name = 'dec0'; format = 'D'\n",
      "    name = 'ra1'; format = 'D'\n",
      "    name = 'dec1'; format = 'D'\n",
      "    name = 'ra2'; format = 'D'\n",
      "    name = 'dec2'; format = 'D'\n",
      "    name = 'ra3'; format = 'D'\n",
      "    name = 'dec3'; format = 'D'\n",
      "    name = 'dra'; format = 'E'\n",
      "    name = 'ddec'; format = 'E'\n",
      "    name = 'ra_center'; format = 'D'\n",
      "    name = 'dec_center'; format = 'D'\n",
      "    name = 'meansky'; format = 'E'\n",
      "    name = 'stdsky'; format = 'E'\n",
      "    name = 'maxsky'; format = 'E'\n",
      "    name = 'minsky'; format = 'E'\n",
      "    name = 'pixscale_mean'; format = 'E'\n",
      "    name = 'pixscale_std'; format = 'E'\n",
      "    name = 'pixscale_max'; format = 'E'\n",
      "    name = 'pixscale_min'; format = 'E'\n",
      "    name = 'psfnorm_mean'; format = 'E'\n",
      "    name = 'psfnorm_std'; format = 'E'\n",
      "    name = 'galnorm_mean'; format = 'E'\n",
      "    name = 'galnorm_std'; format = 'E'\n",
      "    name = 'psf_mx2'; format = 'E'\n",
      "    name = 'psf_my2'; format = 'E'\n",
      "    name = 'psf_mxy'; format = 'E'\n",
      "    name = 'psf_a'; format = 'E'\n",
      "    name = 'psf_b'; format = 'E'\n",
      "    name = 'psf_theta'; format = 'E'\n",
      "    name = 'psf_ell'; format = 'E'\n",
      "    name = 'humidity'; format = 'E'\n",
      "    name = 'outtemp'; format = 'E'\n",
      "    name = 'tileid'; format = 'J'\n",
      "    name = 'tilepass'; format = 'B'\n",
      "    name = 'tileebv'; format = 'E'\n",
      "    name = 'ebv'; format = 'E'\n",
      "    name = 'decam_extinction'; format = '6E'\n",
      "    name = 'wise_extinction'; format = '4E'\n",
      "    name = 'psfdepth'; format = 'E'\n",
      "    name = 'galdepth'; format = 'E'\n",
      "    name = 'gausspsfdepth'; format = 'E'\n",
      "    name = 'gaussgaldepth'; format = 'E'\n",
      "    name = 'phrms'; format = 'E'\n",
      ")\n"
     ]
    }
   ],
   "source": [
    "decamCCD = fits.open('../bricks_data/ccds-annotated-decam-dr9.fits')\n",
    "#mosaicCCD = fits.open('../bricks_data/ccds-annotated-mosaic-dr9.fits')\n",
    "#bassCCD = fits.open('../bricks_data/ccds-annotated-90prime-dr9.fits')\n",
    "print(decamCCD[1].columns)\n"
   ],
   "metadata": {
    "collapsed": false,
    "pycharm": {
     "name": "#%%\n"
    }
   }
  },
  {
   "cell_type": "code",
   "execution_count": 3,
   "outputs": [],
   "source": [
    "dataDecam = decamCCD[1].data\n",
    "#dataMosaic = mosaicCCD[1].data\n",
    "#dataBass = bassCCD[1].data"
   ],
   "metadata": {
    "collapsed": false,
    "pycharm": {
     "name": "#%%\n"
    }
   }
  },
  {
   "cell_type": "code",
   "execution_count": 4,
   "outputs": [],
   "source": [
    "ra0 = dataDecam.field('ra0')\n",
    "dec0 = dataDecam.field('dec0')\n",
    "ra1 = dataDecam.field('ra1')\n",
    "dec1 = dataDecam.field('dec1')\n",
    "ra2 = dataDecam.field('ra2')\n",
    "dec2 = dataDecam.field('dec2')\n",
    "ra3 = dataDecam.field('ra3')\n",
    "dec3 = dataDecam.field('dec3')\n",
    "#Extracting First systematic\n",
    "filter = dataDecam.field('filter')\n",
    "\n",
    "airmass = dataDecam.field('airmass')"
   ],
   "metadata": {
    "collapsed": false,
    "pycharm": {
     "name": "#%%\n"
    }
   }
  },
  {
   "cell_type": "code",
   "execution_count": 6,
   "outputs": [],
   "source": [
    "def raDec2thetaPhi(ra, dec):\n",
    "    return (0.5 * np.pi - np.deg2rad(dec)), (np.deg2rad(ra))\n",
    "\n",
    "NSIDE = 256\n",
    "NPIX = hp.nside2npix(NSIDE)"
   ],
   "metadata": {
    "collapsed": false,
    "pycharm": {
     "name": "#%%\n"
    }
   }
  },
  {
   "cell_type": "markdown",
   "source": [
    "### Now, trying to actually get all ccds per pixel\n",
    "Begin by loading the Dictionary mapping pixels to CCDs. Afterwards, iterating through the ccds for a given pixel.\n",
    "Depending on the systematics, we have to break systematics down into the different bands.\n",
    "Airmass is simply averaged across all CCDs, exposure times are calculated on a per CCD basis.\n"
   ],
   "metadata": {
    "collapsed": false,
    "pycharm": {
     "name": "#%% md\n"
    }
   }
  },
  {
   "cell_type": "code",
   "execution_count": 7,
   "outputs": [],
   "source": [
    "with open('../bricks_data/brickpixel2ccd_256.pickle', 'rb') as f:\n",
    "    pixel2ccd_dict = pickle.load(f)\n",
    "    f.close()"
   ],
   "metadata": {
    "collapsed": false,
    "pycharm": {
     "name": "#%%\n"
    }
   }
  },
  {
   "cell_type": "code",
   "execution_count": 8,
   "outputs": [],
   "source": [
    "sample_pixel = 459294\n",
    "\n",
    "# Plot what a given pixel looks like in terms of CCDs\n",
    "\n",
    "ccds_per_pixel = pixel2ccd_dict[sample_pixel]"
   ],
   "metadata": {
    "collapsed": false,
    "pycharm": {
     "name": "#%%\n"
    }
   }
  },
  {
   "cell_type": "markdown",
   "source": [
    "### 1. Map every pixel to 16k subpixels\n",
    "\n",
    "- Get center of subpixels\n",
    "- Then use theta, phi = raDec2thetaPhi(ra, dec) for all subpixels\n",
    "- pixel_indices = hp.ang2pix(NSIDE, theta,phi)\n",
    "- Maps the centers of all subpixels to the 256 pixels"
   ],
   "metadata": {
    "collapsed": false,
    "pycharm": {
     "name": "#%% md\n"
    }
   }
  },
  {
   "cell_type": "code",
   "execution_count": 10,
   "outputs": [
    {
     "name": "stdout",
     "output_type": "stream",
     "text": [
      "16384 3221225472\n",
      "3221225472\n"
     ]
    }
   ],
   "source": [
    "NSIDE_SUB = NSIDE * 64\n",
    "NPIX_SUB = hp.nside2npix(NSIDE_SUB)\n",
    "print(NSIDE_SUB, NPIX_SUB)\n",
    "\n",
    "subpixels = np.arange(0,NPIX_SUB)\n",
    "print(len(subpixels))"
   ],
   "metadata": {
    "collapsed": false,
    "pycharm": {
     "name": "#%%\n"
    }
   }
  },
  {
   "cell_type": "code",
   "execution_count": 11,
   "outputs": [
    {
     "ename": "KeyboardInterrupt",
     "evalue": "",
     "output_type": "error",
     "traceback": [
      "\u001B[0;31m---------------------------------------------------------------------------\u001B[0m",
      "\u001B[0;31mKeyboardInterrupt\u001B[0m                         Traceback (most recent call last)",
      "\u001B[0;32m<ipython-input-11-c79ecdf010e2>\u001B[0m in \u001B[0;36m<module>\u001B[0;34m\u001B[0m\n\u001B[0;32m----> 1\u001B[0;31m \u001B[0msubpixel_coords\u001B[0m \u001B[0;34m=\u001B[0m \u001B[0mhp\u001B[0m\u001B[0;34m.\u001B[0m\u001B[0mpix2ang\u001B[0m\u001B[0;34m(\u001B[0m\u001B[0mNSIDE_SUB\u001B[0m\u001B[0;34m,\u001B[0m\u001B[0msubpixels\u001B[0m\u001B[0;34m)\u001B[0m\u001B[0;34m\u001B[0m\u001B[0;34m\u001B[0m\u001B[0m\n\u001B[0m\u001B[1;32m      2\u001B[0m \u001B[0;34m\u001B[0m\u001B[0m\n\u001B[1;32m      3\u001B[0m \u001B[0;34m\u001B[0m\u001B[0m\n",
      "\u001B[0;32m~/miniconda3/envs/astro/lib/python3.8/site-packages/healpy/pixelfunc.py\u001B[0m in \u001B[0;36mpix2ang\u001B[0;34m(nside, ipix, nest, lonlat)\u001B[0m\n\u001B[1;32m    520\u001B[0m         \u001B[0mtheta\u001B[0m\u001B[0;34m,\u001B[0m \u001B[0mphi\u001B[0m \u001B[0;34m=\u001B[0m \u001B[0mpixlib\u001B[0m\u001B[0;34m.\u001B[0m\u001B[0m_pix2ang_nest\u001B[0m\u001B[0;34m(\u001B[0m\u001B[0mnside\u001B[0m\u001B[0;34m,\u001B[0m \u001B[0mipix\u001B[0m\u001B[0;34m)\u001B[0m\u001B[0;34m\u001B[0m\u001B[0;34m\u001B[0m\u001B[0m\n\u001B[1;32m    521\u001B[0m     \u001B[0;32melse\u001B[0m\u001B[0;34m:\u001B[0m\u001B[0;34m\u001B[0m\u001B[0;34m\u001B[0m\u001B[0m\n\u001B[0;32m--> 522\u001B[0;31m         \u001B[0mtheta\u001B[0m\u001B[0;34m,\u001B[0m \u001B[0mphi\u001B[0m \u001B[0;34m=\u001B[0m \u001B[0mpixlib\u001B[0m\u001B[0;34m.\u001B[0m\u001B[0m_pix2ang_ring\u001B[0m\u001B[0;34m(\u001B[0m\u001B[0mnside\u001B[0m\u001B[0;34m,\u001B[0m \u001B[0mipix\u001B[0m\u001B[0;34m)\u001B[0m\u001B[0;34m\u001B[0m\u001B[0;34m\u001B[0m\u001B[0m\n\u001B[0m\u001B[1;32m    523\u001B[0m \u001B[0;34m\u001B[0m\u001B[0m\n\u001B[1;32m    524\u001B[0m     \u001B[0;32mif\u001B[0m \u001B[0mlonlat\u001B[0m\u001B[0;34m:\u001B[0m\u001B[0;34m\u001B[0m\u001B[0;34m\u001B[0m\u001B[0m\n",
      "\u001B[0;31mKeyboardInterrupt\u001B[0m: "
     ]
    }
   ],
   "source": [
    "subpixel_coords = hp.pix2ang(NSIDE_SUB,subpixels)\n"
   ],
   "metadata": {
    "collapsed": false,
    "pycharm": {
     "name": "#%%\n"
    }
   }
  },
  {
   "cell_type": "markdown",
   "source": [
    "### 2. Map every CCD to 16K subpixels --> use subpixel center\n",
    "### 3. Get systematics value across every subpixel\n",
    "### 4. Average across larger pixel (256)\n",
    "\n"
   ],
   "metadata": {
    "collapsed": false,
    "pycharm": {
     "name": "#%% md\n"
    }
   }
  }
 ],
 "metadata": {
  "kernelspec": {
   "display_name": "Python 3",
   "language": "python",
   "name": "python3"
  },
  "language_info": {
   "codemirror_mode": {
    "name": "ipython",
    "version": 2
   },
   "file_extension": ".py",
   "mimetype": "text/x-python",
   "name": "python",
   "nbconvert_exporter": "python",
   "pygments_lexer": "ipython2",
   "version": "2.7.6"
  }
 },
 "nbformat": 4,
 "nbformat_minor": 0
}