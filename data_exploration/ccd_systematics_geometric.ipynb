{
 "cells": [
  {
   "cell_type": "code",
   "execution_count": 28,
   "metadata": {},
   "outputs": [],
   "source": [
    "import numpy as np\n",
    "from astropy.io import fits\n",
    "import healpy as hp\n",
    "import pandas as pd\n",
    "import matplotlib.path as mplPath\n",
    "import matplotlib.pyplot as plt\n",
    "import pickle"
   ]
  },
  {
   "cell_type": "markdown",
   "metadata": {
    "pycharm": {
     "name": "#%% md\n"
    }
   },
   "source": [
    "### Retrieving the relevant CCD Data"
   ]
  },
  {
   "cell_type": "code",
   "execution_count": 29,
   "metadata": {
    "pycharm": {
     "name": "#%%\n"
    }
   },
   "outputs": [
    {
     "name": "stdout",
     "output_type": "stream",
     "text": [
      "ColDefs(\n",
      "    name = 'image_filename'; format = '120A'\n",
      "    name = 'image_hdu'; format = 'I'\n",
      "    name = 'camera'; format = '5A'\n",
      "    name = 'expnum'; format = 'K'\n",
      "    name = 'plver'; format = '8A'\n",
      "    name = 'procdate'; format = '19A'\n",
      "    name = 'plprocid'; format = '7A'\n",
      "    name = 'ccdname'; format = '3A'\n",
      "    name = 'object'; format = '35A'\n",
      "    name = 'propid'; format = '10A'\n",
      "    name = 'filter'; format = '1A'\n",
      "    name = 'exptime'; format = 'E'\n",
      "    name = 'mjd_obs'; format = 'D'\n",
      "    name = 'airmass'; format = 'E'\n",
      "    name = 'fwhm'; format = 'E'\n",
      "    name = 'width'; format = 'I'\n",
      "    name = 'height'; format = 'I'\n",
      "    name = 'ra_bore'; format = 'D'\n",
      "    name = 'dec_bore'; format = 'D'\n",
      "    name = 'crpix1'; format = 'E'\n",
      "    name = 'crpix2'; format = 'E'\n",
      "    name = 'crval1'; format = 'D'\n",
      "    name = 'crval2'; format = 'D'\n",
      "    name = 'cd1_1'; format = 'E'\n",
      "    name = 'cd1_2'; format = 'E'\n",
      "    name = 'cd2_1'; format = 'E'\n",
      "    name = 'cd2_2'; format = 'E'\n",
      "    name = 'yshift'; format = 'L'\n",
      "    name = 'ra'; format = 'D'\n",
      "    name = 'dec'; format = 'D'\n",
      "    name = 'skyrms'; format = 'E'\n",
      "    name = 'sig1'; format = 'E'\n",
      "    name = 'ccdzpt'; format = 'E'\n",
      "    name = 'zpt'; format = 'E'\n",
      "    name = 'ccdraoff'; format = 'E'\n",
      "    name = 'ccddecoff'; format = 'E'\n",
      "    name = 'ccdskycounts'; format = 'E'\n",
      "    name = 'ccdskysb'; format = 'E'\n",
      "    name = 'ccdrarms'; format = 'E'\n",
      "    name = 'ccddecrms'; format = 'E'\n",
      "    name = 'ccdphrms'; format = 'E'\n",
      "    name = 'ccdnastrom'; format = 'I'\n",
      "    name = 'ccdnphotom'; format = 'I'\n",
      "    name = 'ccd_cuts'; format = 'K'\n",
      "    name = 'annotated'; format = 'L'\n",
      "    name = 'good_region'; format = '4I'\n",
      "    name = 'ra0'; format = 'D'\n",
      "    name = 'dec0'; format = 'D'\n",
      "    name = 'ra1'; format = 'D'\n",
      "    name = 'dec1'; format = 'D'\n",
      "    name = 'ra2'; format = 'D'\n",
      "    name = 'dec2'; format = 'D'\n",
      "    name = 'ra3'; format = 'D'\n",
      "    name = 'dec3'; format = 'D'\n",
      "    name = 'dra'; format = 'E'\n",
      "    name = 'ddec'; format = 'E'\n",
      "    name = 'ra_center'; format = 'D'\n",
      "    name = 'dec_center'; format = 'D'\n",
      "    name = 'meansky'; format = 'E'\n",
      "    name = 'stdsky'; format = 'E'\n",
      "    name = 'maxsky'; format = 'E'\n",
      "    name = 'minsky'; format = 'E'\n",
      "    name = 'pixscale_mean'; format = 'E'\n",
      "    name = 'pixscale_std'; format = 'E'\n",
      "    name = 'pixscale_max'; format = 'E'\n",
      "    name = 'pixscale_min'; format = 'E'\n",
      "    name = 'psfnorm_mean'; format = 'E'\n",
      "    name = 'psfnorm_std'; format = 'E'\n",
      "    name = 'galnorm_mean'; format = 'E'\n",
      "    name = 'galnorm_std'; format = 'E'\n",
      "    name = 'psf_mx2'; format = 'E'\n",
      "    name = 'psf_my2'; format = 'E'\n",
      "    name = 'psf_mxy'; format = 'E'\n",
      "    name = 'psf_a'; format = 'E'\n",
      "    name = 'psf_b'; format = 'E'\n",
      "    name = 'psf_theta'; format = 'E'\n",
      "    name = 'psf_ell'; format = 'E'\n",
      "    name = 'humidity'; format = 'E'\n",
      "    name = 'outtemp'; format = 'E'\n",
      "    name = 'tileid'; format = 'J'\n",
      "    name = 'tilepass'; format = 'B'\n",
      "    name = 'tileebv'; format = 'E'\n",
      "    name = 'ebv'; format = 'E'\n",
      "    name = 'decam_extinction'; format = '6E'\n",
      "    name = 'wise_extinction'; format = '4E'\n",
      "    name = 'psfdepth'; format = 'E'\n",
      "    name = 'galdepth'; format = 'E'\n",
      "    name = 'gausspsfdepth'; format = 'E'\n",
      "    name = 'gaussgaldepth'; format = 'E'\n",
      "    name = 'phrms'; format = 'E'\n",
      ")\n"
     ]
    }
   ],
   "source": [
    "decamCCD = fits.open('../bricks_data/ccds-annotated-decam-dr9.fits')\n",
    "#mosaicCCD = fits.open('../bricks_data/ccds-annotated-mosaic-dr9.fits')\n",
    "#bassCCD = fits.open('../bricks_data/ccds-annotated-90prime-dr9.fits')\n",
    "print(decamCCD[1].columns)\n"
   ]
  },
  {
   "cell_type": "code",
   "execution_count": 30,
   "metadata": {
    "pycharm": {
     "name": "#%%\n"
    }
   },
   "outputs": [],
   "source": [
    "dataDecam = decamCCD[1].data\n",
    "#dataMosaic = mosaicCCD[1].data\n",
    "#dataBass = bassCCD[1].data"
   ]
  },
  {
   "cell_type": "code",
   "execution_count": 31,
   "metadata": {
    "pycharm": {
     "name": "#%%\n"
    }
   },
   "outputs": [],
   "source": [
    "ra0 = dataDecam.field('ra0')\n",
    "dec0 = dataDecam.field('dec0')\n",
    "ra1 = dataDecam.field('ra1')\n",
    "dec1 = dataDecam.field('dec1')\n",
    "ra2 = dataDecam.field('ra2')\n",
    "dec2 = dataDecam.field('dec2')\n",
    "ra3 = dataDecam.field('ra3')\n",
    "dec3 = dataDecam.field('dec3')\n",
    "#Extracting First systematic\n",
    "#filter = dataDecam.field('filter')\n",
    "\n",
    "airmass = dataDecam.field('airmass')"
   ]
  },
  {
   "cell_type": "code",
   "execution_count": 33,
   "metadata": {
    "pycharm": {
     "name": "#%%\n"
    }
   },
   "outputs": [],
   "source": [
    "def raDec2thetaPhi(ra, dec):\n",
    "    return (0.5 * np.pi - np.deg2rad(dec)), (np.deg2rad(ra))\n",
    "\n",
    "\n",
    "NSIDE = 256\n",
    "NPIX = hp.nside2npix(NSIDE)"
   ]
  },
  {
   "cell_type": "markdown",
   "metadata": {
    "pycharm": {
     "name": "#%% md\n"
    }
   },
   "source": [
    "### Now, trying to actually get all ccds per pixel\n",
    "Begin by loading the Dictionary mapping pixels to CCDs. Afterwards, iterating through the ccds for a given pixel.\n",
    "Depending on the systematics, we have to break systematics down into the different bands.\n",
    "Airmass is simply averaged across all CCDs, exposure times are calculated on a per CCD basis.\n"
   ]
  },
  {
   "cell_type": "code",
   "execution_count": 34,
   "metadata": {
    "pycharm": {
     "name": "#%%\n"
    }
   },
   "outputs": [],
   "source": [
    "with open('../bricks_data/brickpixel2ccd_256.pickle', 'rb') as f:\n",
    "    pixel2ccd_dict = pickle.load(f)\n",
    "    f.close()\n"
   ]
  },
  {
   "cell_type": "markdown",
   "metadata": {
    "pycharm": {
     "name": "#%% md\n"
    }
   },
   "source": [
    "### 1. Map every pixel to 2k subpixels\n",
    "\n",
    "- Get center of subpixels using pix2ang\n",
    "- Then use theta, phi = raDec2thetaPhi(ra, dec) for all subpixels\n",
    "- pixel_indices = hp.ang2pix(NSIDE, theta,phi)\n",
    "- Maps the centers of all subpixels to the 256 pixels"
   ]
  },
  {
   "cell_type": "code",
   "execution_count": 9,
   "metadata": {
    "pycharm": {
     "name": "#%%\n"
    }
   },
   "outputs": [
    {
     "name": "stdout",
     "output_type": "stream",
     "text": [
      "2048 50331648\n",
      "50331648\n"
     ]
    }
   ],
   "source": [
    "NSIDE_SUB = NSIDE * 8\n",
    "NPIX_SUB = hp.nside2npix(NSIDE_SUB)\n",
    "print(NSIDE_SUB, NPIX_SUB)\n",
    "\n",
    "subpixels = np.arange(0,NPIX_SUB)\n",
    "print(len(subpixels))"
   ]
  },
  {
   "cell_type": "code",
   "execution_count": 10,
   "metadata": {
    "pycharm": {
     "name": "#%%\n"
    }
   },
   "outputs": [],
   "source": [
    "\n",
    "subpixel_coords = hp.pix2ang(NSIDE_SUB,subpixels)"
   ]
  },
  {
   "cell_type": "code",
   "execution_count": 11,
   "metadata": {
    "pycharm": {
     "name": "#%%\n"
    }
   },
   "outputs": [
    {
     "name": "stdout",
     "output_type": "stream",
     "text": [
      "50331648\n"
     ]
    }
   ],
   "source": [
    "#Find which subpixels map to which pixels on the 256 grid\n",
    "\n",
    "theta_sub= subpixel_coords[0]\n",
    "phi_sub = subpixel_coords[1]\n",
    "pixel_indices = hp.ang2pix(NSIDE, theta_sub,phi_sub)\n",
    "print(len(pixel_indices))"
   ]
  },
  {
   "cell_type": "code",
   "execution_count": 12,
   "metadata": {
    "pycharm": {
     "name": "#%%\n"
    }
   },
   "outputs": [
    {
     "name": "stdout",
     "output_type": "stream",
     "text": [
      "786432\n"
     ]
    }
   ],
   "source": [
    "unique = np.unique(pixel_indices)\n",
    "print(len(unique))"
   ]
  },
  {
   "cell_type": "code",
   "execution_count": 14,
   "metadata": {
    "pycharm": {
     "name": "#%%\n"
    }
   },
   "outputs": [],
   "source": [
    "pixel2subpixel_dict = {}\n",
    "\n",
    "#Loop through the assigned pixel of every subpixel and fill a dict\n",
    "for subpixel, pixel in enumerate(pixel_indices):\n",
    "    if pixel_indices[subpixel] not in pixel2subpixel_dict:\n",
    "        pixel2subpixel_dict[pixel] = []\n",
    "    pixel2subpixel_dict[pixel].append(subpixel)"
   ]
  },
  {
   "cell_type": "code",
   "execution_count": 35,
   "metadata": {},
   "outputs": [],
   "source": [
    "# Use this cell to simply import an existing pixel2subpixel mapping\n",
    "\n",
    "with open('../bricks_data/pixel2subpixel_256_2048.pickle', 'rb') as f:\n",
    "    pixel2subpixel_dict = pickle.load(f)\n",
    "    f.close()\n"
   ]
  },
  {
   "cell_type": "code",
   "execution_count": 37,
   "metadata": {
    "pycharm": {
     "name": "#%%\n"
    }
   },
   "outputs": [
    {
     "name": "stdout",
     "output_type": "stream",
     "text": [
      "786432\n",
      "64\n",
      "64\n",
      "50331648\n",
      "64.0\n"
     ]
    }
   ],
   "source": [
    "# Verify previous step worked by counting list lenght per pixel\n",
    "\n",
    "#Every Pixel features: This must equal the len of unique pixel NPIX\n",
    "pixel_count = len(pixel2subpixel_dict.keys())\n",
    "print(pixel_count)\n",
    "\n",
    "#Verifying that the 64 subpixels are approximately associated to each pixel\n",
    "subpixel_count = 0\n",
    "min = 200\n",
    "max = 0\n",
    "for elem in pixel2subpixel_dict.keys():\n",
    "    elems_in_pixel = len(pixel2subpixel_dict[elem])\n",
    "    if elems_in_pixel < min:\n",
    "        min = elems_in_pixel\n",
    "    if elems_in_pixel > max:\n",
    "        max = elems_in_pixel\n",
    "    subpixel_count += elems_in_pixel\n",
    "\n",
    "print(min)\n",
    "print(max)\n",
    "print(subpixel_count)\n",
    "print(subpixel_count/pixel_count)\n",
    "\n"
   ]
  },
  {
   "cell_type": "code",
   "execution_count": 38,
   "metadata": {},
   "outputs": [
    {
     "data": {
      "text/plain": [
       "\" THIS CODE IS NEEDED WHEN A NEW PIXEL2SUBPIXEL DICT WAS CREATED\\nwith open('../bricks_data/pixel2subpixel_256_2048.pickle', 'wb') as f:\\n    pickle.dump(pixel2subpixel_dict, f)\\n    f.close()\\n\""
      ]
     },
     "execution_count": 38,
     "metadata": {},
     "output_type": "execute_result"
    }
   ],
   "source": [
    "\n",
    "''' THIS CODE IS NEEDED WHEN A NEW PIXEL2SUBPIXEL DICT WAS CREATED\n",
    "with open('../bricks_data/pixel2subpixel_256_2048.pickle', 'wb') as f:\n",
    "    pickle.dump(pixel2subpixel_dict, f)\n",
    "    f.close()\n",
    "'''"
   ]
  },
  {
   "cell_type": "markdown",
   "metadata": {
    "pycharm": {
     "name": "#%% md\n"
    }
   },
   "source": [
    "### 2. Map every CCD in pixel to 2K subpixels --> use subpixel center\n",
    "- Clear out dict of all pixels that are not covered by CCDs --> more efficient\n",
    "- Map every subpixel to its CCDs --> use same code as for pixel2ccd mapping"
   ]
  },
  {
   "cell_type": "code",
   "execution_count": 41,
   "metadata": {
    "pycharm": {
     "name": "#%%\n"
    }
   },
   "outputs": [
    {
     "name": "stdout",
     "output_type": "stream",
     "text": [
      "361367\n",
      "361367\n",
      "[29364464, 29372655, 29372656, 29380847, 29380848, 29380849, 29389038, 29389039, 29389040, 29389041, 29397230, 29397231, 29397232, 29397233, 29397234, 29405421, 29405422, 29405423, 29405424, 29405425, 29405426, 29413613, 29413614, 29413615, 29413616, 29413617, 29413618, 29413619, 29421804, 29421805, 29421806, 29421807, 29421808, 29421809, 29421810, 29421811, 29429997, 29429998, 29429999, 29430000, 29430001, 29430002, 29430003, 29438189, 29438190, 29438191, 29438192, 29438193, 29438194, 29446382, 29446383, 29446384, 29446385, 29446386, 29454574, 29454575, 29454576, 29454577, 29462767, 29462768, 29462769, 29470959, 29470960, 29479152]\n"
     ]
    }
   ],
   "source": [
    "\n",
    "pixel_keys = list(pixel2subpixel_dict.keys())\n",
    "print(len(pixel_keys))\n",
    "for pixel_key in pixel_keys:\n",
    "    if pixel_key in pixel2ccd_dict:\n",
    "        continue\n",
    "    pixel2subpixel_dict.pop(pixel_key)\n",
    "\n",
    "pixel_keys = pixel2subpixel_dict.keys()\n",
    "print(len(pixel_keys))\n",
    "print(pixel2subpixel_dict[459294])"
   ]
  },
  {
   "cell_type": "code",
   "execution_count": null,
   "metadata": {
    "pycharm": {
     "name": "#%%\n"
    }
   },
   "outputs": [
    {
     "name": "stdout",
     "output_type": "stream",
     "text": [
      "0 0\n",
      "40000 0\n",
      "80000 0\n",
      "120000 0\n",
      "160000 0\n",
      "200000 0\n",
      "240000 0\n",
      "280000 0\n",
      "320000 0\n",
      "360000 0\n",
      "400000 0\n",
      "440000 0\n",
      "480000 0\n",
      "520000 0\n",
      "560000 0\n",
      "600000 0\n",
      "640000 0\n",
      "680000 0\n",
      "720000 0\n",
      "760000 0\n",
      "800000 0\n",
      "840000 0\n",
      "880000 0\n",
      "920000 0\n",
      "960000 0\n",
      "1000000 0\n",
      "1040000 0\n",
      "1080000 0\n",
      "1120000 0\n",
      "1160000 0\n",
      "1200000 1\n",
      "1240000 1\n",
      "1280000 1\n",
      "1320000 1\n",
      "1360000 1\n",
      "1400000 1\n",
      "1440000 1\n",
      "1480000 1\n",
      "1520000 1\n",
      "1560000 1\n",
      "1600000 2\n",
      "1640000 5\n",
      "1680000 11\n",
      "1720000 11\n",
      "1760000 16\n",
      "1800000 34\n",
      "1840000 34\n",
      "1880000 34\n",
      "1920000 34\n",
      "1960000 34\n",
      "2000000 41\n",
      "2040000 41\n",
      "2080000 41\n",
      "2120000 41\n",
      "2160000 43\n",
      "2200000 43\n",
      "2240000 43\n",
      "2280000 43\n",
      "2320000 43\n",
      "2360000 124\n",
      "2400000 124\n",
      "2440000 125\n",
      "2480000 125\n",
      "2520000 125\n",
      "2560000 125\n",
      "2600000 154\n",
      "2640000 154\n",
      "2680000 154\n",
      "2720000 154\n",
      "2760000 154\n",
      "2800000 154\n",
      "2840000 154\n",
      "2880000 154\n",
      "2920000 154\n",
      "2960000 154\n",
      "3000000 154\n",
      "3040000 184\n",
      "3080000 184\n",
      "3120000 184\n",
      "3160000 184\n",
      "3200000 184\n",
      "3240000 185\n",
      "3280000 185\n",
      "3320000 187\n",
      "3360000 187\n",
      "3400000 615\n",
      "3440000 674\n",
      "3480000 677\n",
      "3520000 679\n",
      "3560000 679\n",
      "3600000 693\n",
      "3640000 693\n",
      "3680000 693\n",
      "3720000 693\n",
      "3760000 694\n",
      "3800000 695\n",
      "3840000 695\n",
      "3880000 695\n",
      "3920000 695\n",
      "3960000 695\n",
      "4000000 751\n",
      "4040000 751\n",
      "4080000 752\n",
      "4120000 752\n",
      "4160000 756\n",
      "4200000 762\n",
      "4240000 762\n",
      "4280000 762\n",
      "4320000 762\n",
      "4360000 762\n",
      "4400000 762\n",
      "4440000 776\n",
      "4480000 776\n",
      "4520000 776\n",
      "4560000 778\n",
      "4600000 778\n",
      "4640000 778\n",
      "4680000 778\n",
      "4720000 792\n",
      "4760000 792\n",
      "4800000 792\n",
      "4840000 792\n",
      "4880000 792\n",
      "4920000 794\n",
      "4960000 794\n",
      "5000000 794\n",
      "5040000 835\n",
      "5080000 835\n",
      "5120000 835\n",
      "5160000 835\n",
      "5200000 835\n",
      "5240000 835\n"
     ]
    }
   ],
   "source": [
    "subpixel2ccd_dict = {}\n",
    "count_ex = 0\n",
    "\n",
    "# In this function, I am first converting every CCD into a given polygon using its corner coordinates\n",
    "# Afterwards, I am using the ang2vec function and the hp.query_polygon function, to identify every subpixel that features the given CCD\n",
    "# Then, I am creating a dictionary that lists all CCDs for a given pixel\n",
    "\n",
    "for no in range(len(ra0)):#range(len(ra0)):\n",
    "    x_coord_polygon = np.array([ra0[no],ra1[no], ra2[no], ra3[no]])\n",
    "    y_coord_polygon = np.array([dec0[no],dec1[no], dec2[no], dec3[no]])\n",
    "    theta, phi = raDec2thetaPhi(x_coord_polygon, y_coord_polygon)\n",
    "\n",
    "    ccd_vertices_3d = hp.ang2vec(theta=theta, phi=phi)\n",
    "\n",
    "    # Now, Im getting all healpy pixels that a given CCD covers\n",
    "    try:\n",
    "        subpixels_for_ccd = hp.query_polygon(nside=NSIDE_SUB, vertices=ccd_vertices_3d, inclusive=True)\n",
    "    except:\n",
    "        count_ex += 1\n",
    "        continue\n",
    "    # This will give me the mapping CCD --> Pixel\n",
    "    # Now, im reverting the mapping\n",
    "    # For every pixel that a given CCD cuts, enter the CCD into the pixel dictionary\n",
    "    # Mapping: Pixel --> CCDs\n",
    "    for pixel in subpixels_for_ccd:\n",
    "        if pixel not in subpixel2ccd_dict:\n",
    "            subpixel2ccd_dict[pixel] = []\n",
    "        subpixel2ccd_dict[pixel].append(no)\n",
    "\n",
    "    if no % 40000 == 0:\n",
    "        print(no, count_ex)\n",
    "\n",
    "# Find out what happens to 2467 CCDs where query polygon throws unknown exception"
   ]
  },
  {
   "cell_type": "code",
   "execution_count": 23,
   "metadata": {
    "pycharm": {
     "name": "#%%\n"
    }
   },
   "outputs": [],
   "source": [
    "#Exporting to Pickle, since this process only needs to be run once\n",
    "#The filename number (e.g.256) indicates the NSIDE of the Healpy pixels used to generate the pixalisation\n",
    "\n",
    "with open('../bricks_data/brickpixel2ccd_2048.pickle', 'wb') as f:\n",
    "    pickle.dump(subpixel2ccd_dict, f)\n",
    "    f.close()\n",
    "\n"
   ]
  },
  {
   "cell_type": "code",
   "execution_count": 46,
   "metadata": {},
   "outputs": [],
   "source": [
    "# Use this cell to simply import an existing subpixel2ccd mapping\n",
    "\"\"\"\n",
    "with open('../bricks_data/brickpixel2ccd_2048.pickle', 'rb') as f:\n",
    "    subpixel2ccd_dict = pickle.load(f)\n",
    "    f.close()\n",
    "\n",
    "\"\"\" "
   ]
  },
  {
   "cell_type": "code",
   "execution_count": 49,
   "metadata": {},
   "outputs": [
    {
     "name": "stdout",
     "output_type": "stream",
     "text": [
      "361367\n",
      "[3844955, 3844960, 3844961, 3844966, 3844967, 4633849, 4633850, 4633855, 4633856, 4633863, 4970525, 4970531, 4970537, 4970591, 4970597, 4970603, 4970604, 5054410, 5054411, 5054416, 5054417, 5054424, 5062518, 5062524, 5062530, 5062531, 5062757, 5062763, 5062769, 5150348, 5150353, 5150354, 5150359, 5150360, 5150828, 5150889, 5150897, 5150902, 5150903, 5150908, 5150909, 5644493, 5760528, 5760534, 5760540, 5777260, 5859216, 5859277, 5914962, 5914963, 5914968, 5914969, 5914976, 6080938, 6080944, 6080950, 6080951]\n",
      "[3844955, 3844960, 3844961, 3844966, 3844967, 4633849, 4633850, 4633855, 4633856, 4633863, 4970525, 4970531, 4970537, 4970591, 4970597, 4970603, 4970604, 5054410, 5054411, 5054416, 5054417, 5054424, 5062518, 5062524, 5062530, 5062531, 5062757, 5062763, 5062769, 5150348, 5150353, 5150354, 5150359, 5150360, 5150828, 5150889, 5150897, 5150902, 5150903, 5150908, 5150909, 5644493, 5760528, 5760534, 5760540, 5777260, 5859216, 5859277, 5914962, 5914963, 5914968, 5914969, 5914976, 6080938, 6080944, 6080950, 6080951]\n"
     ]
    }
   ],
   "source": [
    "# Validate the subpixel2ccd_dict is correct\n",
    "\n",
    "subpixel_keys = subpixel2ccd_dict.keys()\n",
    "print(len(subpixel_keys))\n",
    "print(subpixel2ccd_dict[459294])\n",
    "print(pixel2ccd_dict[459294])\n"
   ]
  },
  {
   "cell_type": "markdown",
   "metadata": {
    "pycharm": {
     "name": "#%% md\n"
    }
   },
   "source": [
    "### 3. Get systematics value across every subpixel and average\n",
    "- Iterate through all pixels\n",
    "- For every pixel, get subpixel from pixel2subpixel dict\n",
    "- Get systematic value at subpixel\n",
    "- Add and average for pixel"
   ]
  },
  {
   "cell_type": "code",
   "execution_count": 31,
   "metadata": {
    "pycharm": {
     "name": "#%%\n"
    }
   },
   "outputs": [
    {
     "name": "stdout",
     "output_type": "stream",
     "text": [
      "361367\n",
      "1\n",
      "2\n",
      "3\n",
      "4\n",
      "5\n",
      "6\n",
      "7\n",
      "8\n",
      "9\n",
      "10\n",
      "11\n",
      "12\n",
      "13\n",
      "14\n",
      "15\n",
      "16\n",
      "17\n",
      "18\n",
      "19\n",
      "20\n",
      "21\n",
      "22\n",
      "23\n",
      "24\n",
      "25\n",
      "26\n",
      "27\n",
      "28\n",
      "29\n",
      "30\n",
      "31\n",
      "32\n",
      "33\n",
      "34\n",
      "35\n",
      "36\n",
      "37\n",
      "38\n",
      "39\n",
      "40\n",
      "41\n",
      "42\n",
      "43\n",
      "44\n",
      "45\n",
      "46\n",
      "47\n",
      "48\n",
      "49\n",
      "50\n",
      "51\n",
      "52\n",
      "53\n",
      "54\n",
      "55\n",
      "56\n",
      "57\n",
      "58\n",
      "59\n",
      "60\n",
      "61\n",
      "62\n",
      "63\n",
      "64\n",
      "Airmass in pixel 459294 : 0.0\n"
     ]
    }
   ],
   "source": [
    "sample_pixel = 459294\n",
    "\n",
    "# Find subpixel for the given pixel\n",
    "subpixels_per_pixel = pixel2subpixel_dict[sample_pixel]\n",
    "airmass_aggregate = 0\n",
    "print(len(subpixel2ccd_dict.keys()))\n",
    "\n",
    "c = 0\n",
    "\n",
    "# Go through all 64 subpixels in the sample pixel\n",
    "for subpixel in subpixels_per_pixel:\n",
    "    # Condition needed in case a subpixel is not covered by CCDs\n",
    "    if subpixel not in subpixel2ccd_dict.keys():\n",
    "        c +=1\n",
    "        print(c)\n",
    "        continue\n",
    "    ccds_per_subpixel = subpixel2ccd_dict[subpixel]\n",
    "    print(ccds_per_subpixel)\n",
    "    airmass_aggregate += airmass[ccds_per_subpixel].sum()/len(ccds_per_subpixel)\n",
    "\n",
    "airmass_pixel = airmass_aggregate/len(subpixels_per_pixel)\n",
    "\n",
    "print(\"Airmass in pixel\", sample_pixel, \":\", airmass_pixel)"
   ]
  },
  {
   "cell_type": "code",
   "execution_count": null,
   "metadata": {
    "pycharm": {
     "name": "#%%\n"
    }
   },
   "outputs": [],
   "source": []
  }
 ],
 "metadata": {
  "kernelspec": {
   "display_name": "Python 3",
   "language": "python",
   "name": "python3"
  },
  "language_info": {
   "codemirror_mode": {
    "name": "ipython",
    "version": 3
   },
   "file_extension": ".py",
   "mimetype": "text/x-python",
   "name": "python",
   "nbconvert_exporter": "python",
   "pygments_lexer": "ipython3",
   "version": "3.8.8"
  }
 },
 "nbformat": 4,
 "nbformat_minor": 1
}
