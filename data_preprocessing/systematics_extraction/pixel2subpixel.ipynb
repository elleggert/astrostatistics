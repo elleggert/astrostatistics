{
 "cells": [
  {
   "cell_type": "markdown",
   "id": "47bc000d",
   "metadata": {},
   "source": [
    "### Mapping 512 Pixels to 2048 Subpixels and creating a dict"
   ]
  },
  {
   "cell_type": "markdown",
   "id": "8c19c922",
   "metadata": {},
   "source": [
    "### 1. Map every pixel to 32 subpixels\n",
    "\n",
    "- Get center of subpixels using pix2ang\n",
    "- Then use theta, phi = raDec2thetaPhi(ra, dec) for all subpixels\n",
    "- pixel_indices = hp.ang2pix(NSIDE, theta,phi)\n",
    "- Maps the centers of all subpixels to the 256 pixels"
   ]
  },
  {
   "cell_type": "code",
   "execution_count": 1,
   "id": "b377e0fb",
   "metadata": {},
   "outputs": [],
   "source": [
    "import numpy as np\n",
    "from astropy.io import fits\n",
    "import healpy as hp\n",
    "import pandas as pd\n",
    "import matplotlib.path as mplPath\n",
    "import matplotlib.pyplot as plt\n",
    "import pickle"
   ]
  },
  {
   "cell_type": "code",
   "execution_count": 2,
   "id": "828120b0",
   "metadata": {},
   "outputs": [
    {
     "name": "stdout",
     "output_type": "stream",
     "text": [
      "2048 50331648\n",
      "50331648\n"
     ]
    }
   ],
   "source": [
    "def raDec2thetaPhi(ra, dec):\n",
    "    return (0.5 * np.pi - np.deg2rad(dec)), (np.deg2rad(ra))\n",
    "\n",
    "\n",
    "scaling_factor = 4\n",
    "\n",
    "NSIDE = 512\n",
    "NPIX = hp.nside2npix(NSIDE)\n",
    "NSIDE_SUB = NSIDE * scaling_factor\n",
    "NPIX_SUB = hp.nside2npix(NSIDE_SUB)\n",
    "print(NSIDE_SUB, NPIX_SUB)\n",
    "\n",
    "subpixels = np.arange(0, NPIX_SUB)\n",
    "print(len(subpixels))"
   ]
  },
  {
   "cell_type": "markdown",
   "id": "bd59fcf3",
   "metadata": {},
   "source": [
    "### Opening an existing pixel2subpixel mapping"
   ]
  },
  {
   "cell_type": "code",
   "execution_count": 3,
   "id": "98ee25fa",
   "metadata": {},
   "outputs": [
    {
     "name": "stdout",
     "output_type": "stream",
     "text": [
      "50331648\n"
     ]
    }
   ],
   "source": [
    "# Getting centers of subpixels and mapping subpixels 2 pixels\n",
    "\n",
    "subpixel_coords = hp.pix2ang(NSIDE_SUB, subpixels)\n",
    "theta_sub = subpixel_coords[0]\n",
    "phi_sub = subpixel_coords[1]\n",
    "pixel_indices = hp.ang2pix(NSIDE, theta_sub, phi_sub)\n",
    "print(len(pixel_indices))"
   ]
  },
  {
   "cell_type": "code",
   "execution_count": 4,
   "id": "c1ec9f74",
   "metadata": {},
   "outputs": [
    {
     "name": "stdout",
     "output_type": "stream",
     "text": [
      "3145728\n"
     ]
    }
   ],
   "source": [
    "# Verifying that pixelation worked accordingly\n",
    "\n",
    "unique = np.unique(pixel_indices)\n",
    "print(len(unique))"
   ]
  },
  {
   "cell_type": "code",
   "execution_count": 6,
   "outputs": [],
   "source": [
    "from collections import defaultdict\n",
    "\n",
    "pixel2subpixel_dict = defaultdict(list)\n",
    "\n",
    "#Loop through the assigned pixel of every subpixel and fill a dict\n",
    "for subpixel, pixel in enumerate(pixel_indices):\n",
    "    pixel2subpixel_dict[pixel].append(subpixel)\n"
   ],
   "metadata": {
    "collapsed": false,
    "pycharm": {
     "name": "#%%\n"
    }
   }
  },
  {
   "cell_type": "code",
   "execution_count": 7,
   "id": "202e7187",
   "metadata": {},
   "outputs": [
    {
     "name": "stdout",
     "output_type": "stream",
     "text": [
      "3145728\n",
      "16\n",
      "16\n",
      "50331648\n",
      "16.0\n"
     ]
    }
   ],
   "source": [
    "# Verify previous step worked by counting list lenght per pixel\n",
    "\n",
    "#Every Pixel features: This must equal the len of unique pixel NPIX\n",
    "pixel_count = len(pixel2subpixel_dict.keys())\n",
    "print(pixel_count)\n",
    "\n",
    "#Verifying that the 32 subpixels are approximately associated to each pixel\n",
    "subpixel_count = 0\n",
    "min = 200\n",
    "max = 0\n",
    "for elem in pixel2subpixel_dict.keys():\n",
    "    elems_in_pixel = len(pixel2subpixel_dict[elem])\n",
    "    if elems_in_pixel < min:\n",
    "        min = elems_in_pixel\n",
    "    if elems_in_pixel > max:\n",
    "        max = elems_in_pixel\n",
    "    subpixel_count += elems_in_pixel\n",
    "\n",
    "print(min)\n",
    "print(max)\n",
    "print(subpixel_count)\n",
    "print(subpixel_count / pixel_count)\n"
   ]
  },
  {
   "cell_type": "code",
   "execution_count": 10,
   "id": "33e139d2",
   "metadata": {},
   "outputs": [],
   "source": [
    "# THIS CODE IS NEEDED WHEN A NEW PIXEL2SUBPIXEL DICT WAS CREATED\n",
    "\n",
    "\n",
    "with open(f'../../bricks_data/pixel2subpixel_{NSIDE}_{NSIDE_SUB}.pickle', 'wb') as f:\n",
    "    pickle.dump(pixel2subpixel_dict, f)\n",
    "    f.close()\n"
   ]
  },
  {
   "cell_type": "code",
   "execution_count": null,
   "id": "60bf4fc7",
   "metadata": {},
   "outputs": [],
   "source": [
    "# Use this cell to simply import an existing pixel2subpixel mapping\n",
    "pixel2subpixel_dict = {}\n",
    "\n",
    "with open('../bricks_data/pixel2subpixel_256_2048.pickle', 'rb') as f:\n",
    "    pixel2subpixel_dict = pickle.load(f)\n",
    "    f.close()"
   ]
  },
  {
   "cell_type": "code",
   "execution_count": 8,
   "id": "6226ce61",
   "metadata": {},
   "outputs": [
    {
     "data": {
      "text/plain": "<Figure size 432x288 with 1 Axes>",
      "image/png": "[encoded data removed]"
     },
     "metadata": {
      "needs_background": "light"
     },
     "output_type": "display_data"
    }
   ],
   "source": [
    "#Plotting Pixel 2 SubPixel Mapping\n",
    "\n",
    "subpixels = pixel2subpixel_dict[459294]\n",
    "\n",
    "#Plot Subpixels\n",
    "for subpix in subpixels:\n",
    "    pixel_boundary = hp.boundaries(nside=NSIDE_SUB, pix=subpix, step=1)\n",
    "    pixel_boundary_raDec = hp.vec2ang(pixel_boundary.transpose(), lonlat=True)\n",
    "    pixel_boundary_raDec = list(pixel_boundary_raDec)\n",
    "    pixel_boundary_raDec[0] = np.append(pixel_boundary_raDec[0], pixel_boundary_raDec[0][0])\n",
    "    pixel_boundary_raDec[1] = np.append(pixel_boundary_raDec[1], pixel_boundary_raDec[1][0])\n",
    "    plt.plot(pixel_boundary_raDec[0], pixel_boundary_raDec[1], c='red')\n",
    "\n",
    "#Plot Larger Pixel\n",
    "pixel_boundary = hp.boundaries(nside=NSIDE, pix=459294, step=1)\n",
    "pixel_boundary_raDec = hp.vec2ang(pixel_boundary.transpose(), lonlat=True)\n",
    "pixel_boundary_raDec = list(pixel_boundary_raDec)\n",
    "pixel_boundary_raDec[0] = np.append(pixel_boundary_raDec[0], pixel_boundary_raDec[0][0])\n",
    "pixel_boundary_raDec[1] = np.append(pixel_boundary_raDec[1], pixel_boundary_raDec[1][0])\n",
    "plt.plot(pixel_boundary_raDec[0], pixel_boundary_raDec[1], c='black', label=\"Pixel Boundary\")\n",
    "\n",
    "plt.legend()\n",
    "plt.show()\n"
   ]
  },
  {
   "cell_type": "code",
   "execution_count": null,
   "id": "7d6916f3",
   "metadata": {},
   "outputs": [],
   "source": []
  }
 ],
 "metadata": {
  "kernelspec": {
   "display_name": "Python 3",
   "language": "python",
   "name": "python3"
  },
  "language_info": {
   "codemirror_mode": {
    "name": "ipython",
    "version": 3
   },
   "file_extension": ".py",
   "mimetype": "text/x-python",
   "name": "python",
   "nbconvert_exporter": "python",
   "pygments_lexer": "ipython3",
   "version": "3.8.8"
  }
 },
 "nbformat": 4,
 "nbformat_minor": 5
}