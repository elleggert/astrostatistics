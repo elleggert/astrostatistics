{
 "cells": [
  {
   "cell_type": "markdown",
   "source": [
    "### Extracting Systematics using Geometric Subpixelisation\n",
    "\n"
   ],
   "metadata": {
    "collapsed": false
   }
  },
  {
   "cell_type": "code",
   "execution_count": 1,
   "metadata": {},
   "outputs": [],
   "source": [
    "import numpy as np\n",
    "from astropy.io import fits\n",
    "import healpy as hp\n",
    "import pandas as pd\n",
    "import matplotlib.path as mplPath\n",
    "import matplotlib.pyplot as plt\n",
    "import pickle\n",
    "from collections import defaultdict\n"
   ]
  },
  {
   "cell_type": "markdown",
   "metadata": {
    "pycharm": {
     "name": "#%% md\n"
    }
   },
   "source": [
    "### Retrieving the relevant CCD Data"
   ]
  },
  {
   "cell_type": "code",
   "execution_count": 2,
   "metadata": {
    "pycharm": {
     "name": "#%%\n"
    }
   },
   "outputs": [
    {
     "name": "stdout",
     "output_type": "stream",
     "text": [
      "ColDefs(\n",
      "    name = 'image_filename'; format = '120A'\n",
      "    name = 'image_hdu'; format = 'I'\n",
      "    name = 'camera'; format = '5A'\n",
      "    name = 'expnum'; format = 'K'\n",
      "    name = 'plver'; format = '8A'\n",
      "    name = 'procdate'; format = '19A'\n",
      "    name = 'plprocid'; format = '7A'\n",
      "    name = 'ccdname'; format = '3A'\n",
      "    name = 'object'; format = '35A'\n",
      "    name = 'propid'; format = '10A'\n",
      "    name = 'filter'; format = '1A'\n",
      "    name = 'exptime'; format = 'E'\n",
      "    name = 'mjd_obs'; format = 'D'\n",
      "    name = 'airmass'; format = 'E'\n",
      "    name = 'fwhm'; format = 'E'\n",
      "    name = 'width'; format = 'I'\n",
      "    name = 'height'; format = 'I'\n",
      "    name = 'ra_bore'; format = 'D'\n",
      "    name = 'dec_bore'; format = 'D'\n",
      "    name = 'crpix1'; format = 'E'\n",
      "    name = 'crpix2'; format = 'E'\n",
      "    name = 'crval1'; format = 'D'\n",
      "    name = 'crval2'; format = 'D'\n",
      "    name = 'cd1_1'; format = 'E'\n",
      "    name = 'cd1_2'; format = 'E'\n",
      "    name = 'cd2_1'; format = 'E'\n",
      "    name = 'cd2_2'; format = 'E'\n",
      "    name = 'yshift'; format = 'L'\n",
      "    name = 'ra'; format = 'D'\n",
      "    name = 'dec'; format = 'D'\n",
      "    name = 'skyrms'; format = 'E'\n",
      "    name = 'sig1'; format = 'E'\n",
      "    name = 'ccdzpt'; format = 'E'\n",
      "    name = 'zpt'; format = 'E'\n",
      "    name = 'ccdraoff'; format = 'E'\n",
      "    name = 'ccddecoff'; format = 'E'\n",
      "    name = 'ccdskycounts'; format = 'E'\n",
      "    name = 'ccdskysb'; format = 'E'\n",
      "    name = 'ccdrarms'; format = 'E'\n",
      "    name = 'ccddecrms'; format = 'E'\n",
      "    name = 'ccdphrms'; format = 'E'\n",
      "    name = 'ccdnastrom'; format = 'I'\n",
      "    name = 'ccdnphotom'; format = 'I'\n",
      "    name = 'ccd_cuts'; format = 'K'\n",
      "    name = 'annotated'; format = 'L'\n",
      "    name = 'good_region'; format = '4I'\n",
      "    name = 'ra0'; format = 'D'\n",
      "    name = 'dec0'; format = 'D'\n",
      "    name = 'ra1'; format = 'D'\n",
      "    name = 'dec1'; format = 'D'\n",
      "    name = 'ra2'; format = 'D'\n",
      "    name = 'dec2'; format = 'D'\n",
      "    name = 'ra3'; format = 'D'\n",
      "    name = 'dec3'; format = 'D'\n",
      "    name = 'dra'; format = 'E'\n",
      "    name = 'ddec'; format = 'E'\n",
      "    name = 'ra_center'; format = 'D'\n",
      "    name = 'dec_center'; format = 'D'\n",
      "    name = 'meansky'; format = 'E'\n",
      "    name = 'stdsky'; format = 'E'\n",
      "    name = 'maxsky'; format = 'E'\n",
      "    name = 'minsky'; format = 'E'\n",
      "    name = 'pixscale_mean'; format = 'E'\n",
      "    name = 'pixscale_std'; format = 'E'\n",
      "    name = 'pixscale_max'; format = 'E'\n",
      "    name = 'pixscale_min'; format = 'E'\n",
      "    name = 'psfnorm_mean'; format = 'E'\n",
      "    name = 'psfnorm_std'; format = 'E'\n",
      "    name = 'galnorm_mean'; format = 'E'\n",
      "    name = 'galnorm_std'; format = 'E'\n",
      "    name = 'psf_mx2'; format = 'E'\n",
      "    name = 'psf_my2'; format = 'E'\n",
      "    name = 'psf_mxy'; format = 'E'\n",
      "    name = 'psf_a'; format = 'E'\n",
      "    name = 'psf_b'; format = 'E'\n",
      "    name = 'psf_theta'; format = 'E'\n",
      "    name = 'psf_ell'; format = 'E'\n",
      "    name = 'humidity'; format = 'E'\n",
      "    name = 'outtemp'; format = 'E'\n",
      "    name = 'tileid'; format = 'J'\n",
      "    name = 'tilepass'; format = 'B'\n",
      "    name = 'tileebv'; format = 'E'\n",
      "    name = 'ebv'; format = 'E'\n",
      "    name = 'decam_extinction'; format = '6E'\n",
      "    name = 'wise_extinction'; format = '4E'\n",
      "    name = 'psfdepth'; format = 'E'\n",
      "    name = 'galdepth'; format = 'E'\n",
      "    name = 'gausspsfdepth'; format = 'E'\n",
      "    name = 'gaussgaldepth'; format = 'E'\n",
      "    name = 'phrms'; format = 'E'\n",
      ")\n"
     ]
    }
   ],
   "source": [
    "decamCCD = fits.open('../../bricks_data/ccds-annotated-decam-dr9.fits')\n",
    "mosaicCCD = fits.open('../../bricks_data/ccds-annotated-mosaic-dr9.fits')\n",
    "bassCCD = fits.open('../../bricks_data/ccds-annotated-90prime-dr9.fits')\n",
    "print(decamCCD[1].columns)\n"
   ]
  },
  {
   "cell_type": "code",
   "execution_count": 3,
   "metadata": {
    "pycharm": {
     "name": "#%%\n"
    }
   },
   "outputs": [],
   "source": [
    "dataDecam = decamCCD[1].data\n",
    "dataMosaic = mosaicCCD[1].data\n",
    "dataBass = bassCCD[1].data"
   ]
  },
  {
   "cell_type": "code",
   "execution_count": 4,
   "metadata": {},
   "outputs": [
    {
     "name": "stdout",
     "output_type": "stream",
     "text": [
      "<class 'astropy.io.fits.fitsrec.FITS_rec'>\n"
     ]
    }
   ],
   "source": [
    "print(type(dataMosaic))"
   ]
  },
  {
   "cell_type": "markdown",
   "metadata": {},
   "source": [
    "### Extracting CCD Informations from the entire Sample and Concatenating them together"
   ]
  },
  {
   "cell_type": "code",
   "execution_count": 5,
   "metadata": {},
   "outputs": [],
   "source": [
    "# Extracting Corners Only needed for visualisation\n",
    "\n",
    "ra0 = np.concatenate((dataDecam.field('ra0'), dataMosaic.field('ra0'), dataBass.field('ra0')), axis=0)\n",
    "dec0 = np.concatenate((dataDecam.field('dec0'), dataMosaic.field('dec0'), dataBass.field('dec0')), axis=0)\n",
    "\n",
    "ra1 = np.concatenate((dataDecam.field('ra1'), dataMosaic.field('ra1'), dataBass.field('ra1')), axis=0)\n",
    "dec1 = np.concatenate((dataDecam.field('dec1'), dataMosaic.field('dec1'), dataBass.field('dec1')), axis=0)\n",
    "\n",
    "ra2 = np.concatenate((dataDecam.field('ra2'), dataMosaic.field('ra2'), dataBass.field('ra2')), axis=0)\n",
    "dec2 = np.concatenate((dataDecam.field('dec2'), dataMosaic.field('dec2'), dataBass.field('dec2')), axis=0)\n",
    "\n",
    "ra3 = np.concatenate((dataDecam.field('ra3'), dataMosaic.field('ra3'), dataBass.field('ra3')), axis=0)\n",
    "dec3 = np.concatenate((dataDecam.field('dec3'), dataMosaic.field('dec3'), dataBass.field('dec3')), axis=0)\n"
   ]
  },
  {
   "cell_type": "code",
   "execution_count": 6,
   "metadata": {
    "pycharm": {
     "name": "#%%\n"
    }
   },
   "outputs": [],
   "source": [
    "#airmass, fwhm, skysb, exptime, mjd, meansky, galdepths,\n",
    "\n",
    "\n",
    "#Extracting systematics\n",
    "filter_colour = np.concatenate((dataDecam.field('filter'), dataMosaic.field('filter'), dataBass.field('filter')),\n",
    "                               axis=0)\n",
    "\n",
    "# camera = np.concatenate((dataDecam.field('camera'), dataMosaic.field('camera'), dataBass.field('camera')), axis=0)\n",
    "\n",
    "exptime = np.concatenate((dataDecam.field('exptime'), dataMosaic.field('exptime'), dataBass.field('exptime')), axis=0)\n",
    "airmass = np.concatenate((dataDecam.field('airmass'), dataMosaic.field('airmass'), dataBass.field('airmass')), axis=0)\n",
    "fwhm = np.concatenate((dataDecam.field('fwhm'), dataMosaic.field('fwhm'), dataBass.field('fwhm')), axis=0)\n",
    "seeing = fwhm * 0.262\n",
    "ccdskysb = np.concatenate((dataDecam.field('ccdskysb'), dataMosaic.field('ccdskysb'), dataBass.field('ccdskysb')),\n",
    "                          axis=0)\n",
    "meansky = np.concatenate((dataDecam.field('meansky'), dataMosaic.field('meansky'), dataBass.field('meansky')), axis=0)\n",
    "galdepth = np.concatenate((dataDecam.field('galdepth'), dataMosaic.field('galdepth'), dataBass.field('galdepth')),\n",
    "                          axis=0)\n",
    "psfdepth = np.concatenate((dataDecam.field('psfdepth'), dataMosaic.field('psfdepth'), dataBass.field('psfdepth')),\n",
    "                          axis=0)\n",
    "psfnorm_mean = np.concatenate(\n",
    "    (dataDecam.field('psfnorm_mean'), dataMosaic.field('psfnorm_mean'), dataBass.field('psfnorm_mean')), axis=0)\n",
    "gausspsfdepth = np.concatenate(\n",
    "    (dataDecam.field('gausspsfdepth'), dataMosaic.field('gausspsfdepth'), dataBass.field('gausspsfdepth')), axis=0)\n",
    "\n",
    "\n",
    "\n",
    "# sig1 = np.concatenate((dataDecam.field('sig1'), dataMosaic.field('sig1'), dataBass.field('sig1')), axis = 0)\n",
    "# ccdskycounts = np.concatenate((dataDecam.field('ccdskycounts'), dataMosaic.field('ccdskycounts'), dataBass.field('ccdskycounts')), axis = 0)\n",
    "\n",
    "# skyrms = np.concatenate((dataDecam.field('skyrms'), dataMosaic.field('skyrms'), dataBass.field('skyrms')), axis=0)\n",
    "\n",
    "# ccdphrms = np.concatenate((dataDecam.field('ccdphrms'), dataMosaic.field('ccdphrms'), dataBass.field('ccdphrms')), axis = 0)\n",
    "\n",
    "\n",
    "# phrms = np.concatenate((dataDecam.field('phrms'), dataMosaic.field('phrms'), dataBass.field('phrms')), axis = 0)\n",
    "\n",
    "\n",
    "# ccdnastrom = np.concatenate((dataDecam.field('ccdnastrom'), dataMosaic.field('ccdnastrom'), dataBass.field('ccdnastrom')), axis = 0)\n",
    "\n",
    "\n",
    "#ccdnphotom = np.concatenate((dataDecam.field('ccdnphotom'), dataMosaic.field('ccdnphotom'), dataBass.field('ccdnphotom')), axis = 0)\n",
    "\n",
    "\n",
    "# stdsky = np.concatenate((dataDecam.field('stdsky'), dataMosaic.field('stdsky'), dataBass.field('stdsky')), axis = 0)\n",
    "\n",
    "\n",
    "# maxsky = np.concatenate((dataDecam.field('maxsky'), dataMosaic.field('maxsky'), dataBass.field('maxsky')), axis = 0)\n",
    "\n",
    "\n",
    "# minsky = np.concatenate((dataDecam.field('minsky'), dataMosaic.field('minsky'), dataBass.field('minsky')), axis = 0)\n",
    "\n",
    "\n",
    "# pixscale_mean = np.concatenate((dataDecam.field('pixscale_mean'), dataMosaic.field('pixscale_mean'), dataBass.field('pixscale_mean')), axis = 0)\n",
    "\n",
    "\n",
    "# pixscale_std = np.concatenate((dataDecam.field('pixscale_std'), dataMosaic.field('pixscale_std'), dataBass.field('pixscale_std')), axis = 0)\n",
    "\n",
    "\n",
    "# pixscale_max = np.concatenate((dataDecam.field('pixscale_max'), dataMosaic.field('pixscale_max'), dataBass.field('pixscale_max')), axis = 0)\n",
    "\n",
    "\n",
    "# pixscale_min = np.concatenate((dataDecam.field('pixscale_min'), dataMosaic.field('pixscale_min'), dataBass.field('pixscale_min')), axis = 0)\n",
    "\n",
    "\n",
    "# galnorm_mean = np.concatenate((dataDecam.field('galnorm_mean'), dataMosaic.field('galnorm_mean'), dataBass.field('galnorm_mean')), axis = 0)\n",
    "\n",
    "\n",
    "# galnorm_std = np.concatenate((dataDecam.field('galnorm_std'), dataMosaic.field('galnorm_std'), dataBass.field('galnorm_std')), axis = 0)\n",
    "\n",
    "\n",
    "# humidity = np.concatenate((dataDecam.field('humidity'), dataMosaic.field('humidity'), dataBass.field('humidity')), axis = 0)\n",
    "\n",
    "\n",
    "# outtemp = np.concatenate((dataDecam.field('outtemp'), dataMosaic.field('outtemp'), dataBass.field('outtemp')), axis = 0)\n",
    "\n",
    "\n",
    "# tileebv = np.concatenate((dataDecam.field('tileebv'), dataMosaic.field('tileebv'), dataBass.field('tileebv')), axis = 0)\n",
    "\n",
    "\n",
    "#ebv = np.concatenate((dataDecam.field('ebv'), dataMosaic.field('ebv'), dataBass.field('ebv')), axis = 0)\n",
    "\n",
    "\n",
    "# gaussgaldepth = np.concatenate((dataDecam.field('gaussgaldepth'), dataMosaic.field('gaussgaldepth'), dataBass.field('gaussgaldepth')), axis = 0)\n",
    "\n",
    "\n"
   ]
  },
  {
   "cell_type": "code",
   "execution_count": 7,
   "metadata": {
    "pycharm": {
     "name": "#%%\n"
    }
   },
   "outputs": [],
   "source": [
    "def raDec2thetaPhi(ra, dec):\n",
    "    return (0.5 * np.pi - np.deg2rad(dec)), (np.deg2rad(ra))\n",
    "\n",
    "\n",
    "NSIDE = 512\n",
    "NSIDE_SUB = 2048\n",
    "NPIX = hp.nside2npix(NSIDE)"
   ]
  },
  {
   "cell_type": "markdown",
   "metadata": {
    "pycharm": {
     "name": "#%% md\n"
    }
   },
   "source": [
    "### Now, trying to actually get all ccds per pixel\n",
    "Begin by loading the Dictionary mapping pixels to CCDs. Afterwards, iterating through the ccds for a given pixel.\n",
    "Depending on the systematics, we have to break systematics down into the different bands.\n",
    "Airmass is simply averaged across all CCDs, exposure times are calculated on a per CCD basis.\n"
   ]
  },
  {
   "cell_type": "markdown",
   "metadata": {
    "pycharm": {
     "name": "#%% md\n"
    }
   },
   "source": [
    "### 1. Import Pixel2Subpixel mapping\n"
   ]
  },
  {
   "cell_type": "code",
   "execution_count": 8,
   "metadata": {},
   "outputs": [],
   "source": [
    "# Use this cell to simply import an existing pixel2subpixel mapping\n",
    "\n",
    "with open(f'../../bricks_data/pixel2subpixel_{NSIDE}_{NSIDE_SUB}.pickle', 'rb') as f:\n",
    "    pixel2subpixel_dict = pickle.load(f)\n",
    "    f.close()\n"
   ]
  },
  {
   "cell_type": "markdown",
   "metadata": {
    "pycharm": {
     "name": "#%% md\n"
    }
   },
   "source": [
    "### 2. Import pixel2ccd mapping\n"
   ]
  },
  {
   "cell_type": "code",
   "execution_count": 9,
   "metadata": {},
   "outputs": [
    {
     "name": "stdout",
     "output_type": "stream",
     "text": [
      "1784378\n",
      "17843.78\n"
     ]
    }
   ],
   "source": [
    "# For DECAM Only\n",
    "\"\"\"\n",
    "with open('../bricks_data/brickpixel2ccd_2048.pickle', 'rb') as f:\n",
    "    subpixel2ccd_dict = pickle.load(f)\n",
    "    f.close()\n",
    "\"\"\"\n",
    "# For DECAM, BASS, MzLS\n",
    "with open(f'../../bricks_data/pixel2ccd_{NSIDE}.pickle', 'rb') as f:\n",
    "    pixel2ccd_dict = pickle.load(f)\n",
    "    f.close()\n",
    "\n",
    "pixels_overall = pixel2ccd_dict.keys()\n",
    "print(len(pixels_overall))\n",
    "print(len(pixels_overall)/100)"
   ]
  },
  {
   "cell_type": "code",
   "execution_count": 26,
   "metadata": {
    "pycharm": {
     "name": "#%%\n"
    }
   },
   "outputs": [
    {
     "name": "stdout",
     "output_type": "stream",
     "text": [
      "332041 332041\n",
      "20701.94839429979\n"
     ]
    }
   ],
   "source": [
    "df = pd.read_csv('../bricks_data/galaxy_catalogue_sample.csv')\n",
    "\n",
    "ids = df.BrickID.unique()\n",
    "hdulistBricksSouthSummary = fits.open('../bricks_data/survey-bricks-dr9-south.fits')\n",
    "data_south = hdulistBricksSouthSummary[1].data\n",
    "brickid_south = data_south.field('brickid')\n",
    "area_south = data_south.field('area')\n",
    "sky_covered = 0\n",
    "\"\"\"\n",
    "for i in range(len(brickid_south)):\n",
    "    if brickid_south[i] in ids:\n",
    "        sky_covered += area[i]\n",
    "\"\"\"\n",
    "hdulistBricksNorthSummary = fits.open('../bricks_data/survey-bricks-dr9-north.fits')\n",
    "data_north = hdulistBricksNorthSummary[1].data\n",
    "brickid_north = data_north.field('brickid')\n",
    "area_north = data_north.field('area')\n",
    "brickids = np.concatenate((brickid_south, brickid_north), axis=0)\n",
    "area = np.concatenate((area_south, area_north), axis=0)\n",
    "\n",
    "area = area[np.where(np.unique(brickids))]\n",
    "\n",
    "brickids = np.unique(brickids)\n",
    "print(len(brickids), len(area))\n",
    "for i in range(len(brickids)):\n",
    "    sky_covered += area[i]\n",
    "\n",
    "print(sky_covered)"
   ]
  },
  {
   "cell_type": "markdown",
   "metadata": {},
   "source": [
    "### 3. Import subpixel2ccd mapping\n"
   ]
  },
  {
   "cell_type": "code",
   "execution_count": 10,
   "metadata": {},
   "outputs": [],
   "source": [
    "# Use this cell to simply import an existing subpixel2ccd mapping\n",
    "\n",
    "# For DECAM Only\n",
    "'''\n",
    "with open('../bricks_data/brickpixel2ccd_2048.pickle', 'rb') as f:\n",
    "    subpixel2ccd_dict = pickle.load(f)\n",
    "    f.close()\n",
    "'''\n",
    "# For DECAM, BASS, MzLS\n",
    "with open(f'../../bricks_data/pixel2ccd_{NSIDE_SUB}_non_inclusive.pickle', 'rb') as f:\n",
    "    subpixel2ccd_dict = pickle.load(f)\n",
    "    f.close()"
   ]
  },
  {
   "cell_type": "code",
   "execution_count": 10,
   "metadata": {},
   "outputs": [
    {
     "name": "stdout",
     "output_type": "stream",
     "text": [
      "28778546\n",
      "All subpixels for pixel: [29364464, 29372655, 29372656, 29380847, 29380848, 29380849, 29389038, 29389039, 29389040, 29389041, 29397230, 29397231, 29397232, 29397233, 29397234, 29405421, 29405422, 29405423, 29405424, 29405425, 29405426, 29413613, 29413614, 29413615, 29413616, 29413617, 29413618, 29413619, 29421804, 29421805, 29421806, 29421807, 29421808, 29421809, 29421810, 29421811, 29429997, 29429998, 29429999, 29430000, 29430001, 29430002, 29430003, 29438189, 29438190, 29438191, 29438192, 29438193, 29438194, 29446382, 29446383, 29446384, 29446385, 29446386, 29454574, 29454575, 29454576, 29454577, 29462767, 29462768, 29462769, 29470959, 29470960, 29479152]\n",
      "All CCD's for pixel: [3844955, 3844960, 3844961, 3844966, 3844967, 4633849, 4633850, 4633855, 4633856, 4633863, 4970525, 4970531, 4970537, 4970591, 4970597, 4970603, 4970604, 5054410, 5054411, 5054416, 5054417, 5054424, 5062518, 5062524, 5062530, 5062531, 5062757, 5062763, 5062769, 5150348, 5150353, 5150354, 5150359, 5150360, 5150828, 5150889, 5150897, 5150902, 5150903, 5150908, 5150909, 5644493, 5760528, 5760534, 5760540, 5777260, 5859216, 5859277, 5914962, 5914963, 5914968, 5914969, 5914976, 6080938, 6080944, 6080950, 6080951]\n",
      "All CCD's for subpixel: [3844960, 4633849, 4970597, 5054410, 5062524, 5150348, 5150353, 5150897, 5150902, 5914962, 6080944]\n"
     ]
    }
   ],
   "source": [
    "# Validate the subpixel2ccd_dict is correct\n",
    "\n",
    "subpixel_keys = subpixel2ccd_dict.keys()\n",
    "print(len(subpixel_keys))\n",
    "print(\"All subpixels for pixel:\", pixel2subpixel_dict[459294])\n",
    "print(\"All CCD's for pixel:\", pixel2ccd_dict[459294])\n",
    "print(\"All CCD's for subpixel:\", subpixel2ccd_dict[29364464])\n"
   ]
  },
  {
   "cell_type": "markdown",
   "metadata": {},
   "source": [
    "### 4. Visualising the 3 components together\n",
    "- Pixel2Subpixel\n",
    "- Pixel2CCD\n",
    "- Subpixel2CCD"
   ]
  },
  {
   "cell_type": "code",
   "execution_count": 11,
   "metadata": {},
   "outputs": [
    {
     "name": "stdout",
     "output_type": "stream",
     "text": [
      "Number of CCDs per subpixel: 9\n"
     ]
    },
    {
     "data": {
      "text/plain": "<Figure size 432x288 with 1 Axes>",
      "image/png": "[encoded data removed]"
     },
     "metadata": {
      "needs_background": "light"
     },
     "output_type": "display_data"
    }
   ],
   "source": [
    "# Plotting the geometric attributes\n",
    "\n",
    "ccds_per_pixel = subpixel2ccd_dict[29364464]\n",
    "print(\"Number of CCDs per subpixel:\", len(ccds_per_pixel))\n",
    "\n",
    "xs = [ra0[ccds_per_pixel], ra1[ccds_per_pixel], ra2[ccds_per_pixel], ra3[ccds_per_pixel], ra0[ccds_per_pixel]]\n",
    "ys = [dec0[ccds_per_pixel], dec1[ccds_per_pixel], dec2[ccds_per_pixel], dec3[ccds_per_pixel], dec0[ccds_per_pixel]]\n",
    "plt.plot(xs, ys, c='green')\n",
    "\n",
    "#Plot Subpixel\n",
    "pixel_boundary = hp.boundaries(nside=NSIDE_SUB, pix=29364464, step=1)\n",
    "\n",
    "pixel_boundary_raDec = hp.vec2ang(pixel_boundary.transpose(), lonlat=True)\n",
    "pixel_boundary_raDec = list(pixel_boundary_raDec)\n",
    "pixel_boundary_raDec[0] = np.append(pixel_boundary_raDec[0], pixel_boundary_raDec[0][0])\n",
    "pixel_boundary_raDec[1] = np.append(pixel_boundary_raDec[1], pixel_boundary_raDec[1][0])\n",
    "plt.plot(pixel_boundary_raDec[0], pixel_boundary_raDec[1], c='red', label=\"Subpixel Boundary\")\n",
    "\n",
    "#Plot Larger Pixel\n",
    "pixel_boundary = hp.boundaries(nside=NSIDE, pix=459294, step=1)\n",
    "pixel_boundary_raDec = hp.vec2ang(pixel_boundary.transpose(), lonlat=True)\n",
    "pixel_boundary_raDec = list(pixel_boundary_raDec)\n",
    "pixel_boundary_raDec[0] = np.append(pixel_boundary_raDec[0], pixel_boundary_raDec[0][0])\n",
    "pixel_boundary_raDec[1] = np.append(pixel_boundary_raDec[1], pixel_boundary_raDec[1][0])\n",
    "plt.plot(pixel_boundary_raDec[0], pixel_boundary_raDec[1], c='black', label=\"Pixel Boundary\")\n",
    "\n",
    "plt.legend()\n",
    "plt.show()"
   ]
  },
  {
   "cell_type": "markdown",
   "metadata": {
    "pycharm": {
     "name": "#%% md\n"
    }
   },
   "source": [
    "### 5. Get systematics value across every subpixel and average\n",
    "- Iterate through all pixels\n",
    "- For every pixel, get subpixel from pixel2subpixel dict\n",
    "- Get systematic value at subpixel\n",
    "- Add and average for pixel"
   ]
  },
  {
   "cell_type": "code",
   "execution_count": 62,
   "metadata": {
    "pycharm": {
     "name": "#%%\n"
    }
   },
   "outputs": [
    {
     "name": "stdout",
     "output_type": "stream",
     "text": [
      "22774705\n",
      "Airmass in pixel 459294 : 1.315714854231004\n"
     ]
    }
   ],
   "source": [
    "sample_pixel = 459294\n",
    "\n",
    "# Find subpixel for the given pixel\n",
    "\n",
    "subpixels_per_pixel = pixel2subpixel_dict[sample_pixel]\n",
    "airmass_aggregate = 0\n",
    "print(len(subpixel2ccd_dict.keys()))\n",
    "\n",
    "# Go through all 64 subpixels in the sample pixel\n",
    "for subpixel in subpixels_per_pixel:\n",
    "    # Condition needed in case a subpixel is not covered by CCDs\n",
    "    if subpixel not in subpixel2ccd_dict.keys():\n",
    "        continue\n",
    "    ccds_per_subpixel = subpixel2ccd_dict[subpixel]\n",
    "    #print(ccds_per_subpixel)\n",
    "    airmass_aggregate += airmass[ccds_per_subpixel].sum() / len(ccds_per_subpixel)\n",
    "\n",
    "airmass_pixel = airmass_aggregate / len(subpixels_per_pixel)\n",
    "\n",
    "print(\"Airmass in pixel\", sample_pixel, \":\", airmass_pixel)"
   ]
  },
  {
   "cell_type": "code",
   "execution_count": null,
   "metadata": {
    "pycharm": {
     "name": "#%%\n"
    }
   },
   "outputs": [],
   "source": [
    "pixels_overall = pixel2ccd_dict.keys()\n",
    "print(len(pixels_overall))\n",
    "\n",
    "# Find subpixel for the given pixel\n",
    "for sample_pixel in pixels_overall:\n",
    "    subpixels_per_pixel = pixel2subpixel_dict[sample_pixel]\n",
    "    airmass_aggregate = 0\n",
    "\n",
    "    # Go through all 64 subpixels in the sample pixel\n",
    "    for subpixel in subpixels_per_pixel:\n",
    "        # Condition needed in case a subpixel is not covered by CCDs\n",
    "        if subpixel not in subpixel2ccd_dict.keys():\n",
    "            continue\n",
    "        ccds_per_subpixel = subpixel2ccd_dict[subpixel]\n",
    "        #print(ccds_per_subpixel)\n",
    "        airmass_aggregate += airmass[ccds_per_subpixel].sum() / len(ccds_per_subpixel)\n",
    "\n",
    "    airmass_pixel = airmass_aggregate / len(subpixels_per_pixel)\n",
    "\n",
    "    #print(\"Airmass in pixel\", sample_pixel, \":\", airmass_pixel)"
   ]
  },
  {
   "cell_type": "code",
   "execution_count": 33,
   "metadata": {},
   "outputs": [
    {
     "name": "stdout",
     "output_type": "stream",
     "text": [
      "455672\n",
      "0 %\n",
      "1 %\n",
      "2 %\n",
      "3 %\n",
      "4 %\n",
      "5 %\n",
      "6 %\n",
      "7 %\n",
      "8 %\n",
      "9 %\n",
      "10 %\n",
      "11 %\n",
      "12 %\n",
      "13 %\n",
      "14 %\n",
      "15 %\n",
      "16 %\n",
      "17 %\n",
      "18 %\n",
      "19 %\n",
      "20 %\n",
      "21 %\n",
      "22 %\n",
      "23 %\n",
      "24 %\n",
      "25 %\n",
      "26 %\n",
      "27 %\n",
      "28 %\n",
      "29 %\n",
      "30 %\n",
      "31 %\n",
      "32 %\n",
      "33 %\n",
      "34 %\n",
      "35 %\n",
      "36 %\n",
      "37 %\n",
      "38 %\n",
      "39 %\n",
      "40 %\n",
      "41 %\n",
      "42 %\n",
      "43 %\n",
      "44 %\n",
      "45 %\n",
      "46 %\n",
      "47 %\n",
      "48 %\n",
      "49 %\n",
      "50 %\n",
      "51 %\n",
      "52 %\n",
      "53 %\n",
      "54 %\n",
      "55 %\n",
      "56 %\n",
      "57 %\n",
      "58 %\n",
      "59 %\n",
      "60 %\n",
      "61 %\n",
      "62 %\n",
      "63 %\n",
      "64 %\n",
      "65 %\n",
      "66 %\n",
      "67 %\n",
      "68 %\n",
      "69 %\n",
      "70 %\n",
      "71 %\n",
      "72 %\n",
      "73 %\n",
      "74 %\n",
      "75 %\n",
      "76 %\n",
      "77 %\n",
      "78 %\n",
      "79 %\n",
      "80 %\n",
      "81 %\n",
      "82 %\n",
      "83 %\n",
      "84 %\n",
      "85 %\n",
      "86 %\n",
      "87 %\n",
      "88 %\n",
      "89 %\n",
      "90 %\n",
      "91 %\n",
      "92 %\n",
      "93 %\n",
      "94 %\n",
      "95 %\n",
      "96 %\n",
      "97 %\n",
      "98 %\n",
      "99 %\n"
     ]
    }
   ],
   "source": [
    "exptime\n",
    "airmass\n",
    "fwhm\n",
    "ccdskysb\n",
    "meansky\n",
    "galdepth\n",
    "psfdepth\n",
    "psfnorm_mean\n",
    "gausspsfdepth\n",
    "pixel_fraction"
   ]
  },
  {
   "cell_type": "code",
   "execution_count": 14,
   "metadata": {
    "pycharm": {
     "name": "#%%\n"
    }
   },
   "outputs": [],
   "source": [
    "ccds_per_subpixel = subpixel2ccd_dict[736378]"
   ]
  },
  {
   "cell_type": "code",
   "execution_count": 15,
   "metadata": {
    "pycharm": {
     "name": "#%%\n"
    }
   },
   "outputs": [
    {
     "name": "stdout",
     "output_type": "stream",
     "text": [
      "[1.4436201  1.1239799  1.1606599  0.9563     0.89342    0.79385996\n",
      " 0.76242    0.85674    0.84626    0.7205     1.1135     1.06634   ]\n"
     ]
    }
   ],
   "source": [
    "seeing = fwhm[ccds_per_subpixel] * 0.262\n",
    "\n",
    "print(seeing)"
   ]
  },
  {
   "cell_type": "code",
   "execution_count": 18,
   "metadata": {
    "pycharm": {
     "name": "#%%\n"
    }
   },
   "outputs": [
    {
     "name": "stdout",
     "output_type": "stream",
     "text": [
      "0 %\n",
      "[985.0, 690.0, 1120.0]\n"
     ]
    }
   ],
   "source": [
    "## Test Development only for Exposure Time\n",
    "pixels_overall = pixel2ccd_dict.keys()\n",
    "\n",
    "# Find subpixels for the given pixel\n",
    "for i, sample_pixel in enumerate(pixels_overall):\n",
    "    subpixels_per_pixel = pixel2subpixel_dict[sample_pixel]\n",
    "\n",
    "    exptime_aggregate_g = 0\n",
    "    exptime_aggregate_r = 0\n",
    "    exptime_aggregate_z = 0\n",
    "\n",
    "    subpixels_covered = 0\n",
    "    subpixels_covered_g = 0\n",
    "    subpixels_covered_r = 0\n",
    "    subpixels_covered_z = 0\n",
    "    # Go through all 64 subpixels in the sample pixel\n",
    "    for subpixel in subpixels_per_pixel:\n",
    "        # Condition needed in case a subpixel is not covered by CCDs\n",
    "        if subpixel not in subpixel2ccd_dict.keys():\n",
    "            continue\n",
    "        subpixels_covered += 1\n",
    "        ccds_per_subpixel = subpixel2ccd_dict[subpixel]\n",
    "        # Get values for singular systematics\n",
    "        # Get values for per band systematics\n",
    "\n",
    "        mask_g = (filter_colour[ccds_per_subpixel] == 'g')\n",
    "        mask_r = (filter_colour[ccds_per_subpixel] == 'r')\n",
    "        mask_z = (filter_colour[ccds_per_subpixel] == 'z')\n",
    "\n",
    "        expt = exptime[ccds_per_subpixel]\n",
    "        exptime_g = expt[mask_g]\n",
    "        exptime_r = expt[mask_r]\n",
    "        exptime_z = expt[mask_z]\n",
    "\n",
    "        g_exp = mask_g.sum()\n",
    "        if g_exp > 0:\n",
    "            subpixels_covered_g += 1\n",
    "            exptime_aggregate_g = exptime_g.sum()\n",
    "\n",
    "        r_exp = mask_r.sum()\n",
    "        if r_exp > 0:\n",
    "            subpixels_covered_r += 1\n",
    "            exptime_aggregate_r = exptime_r.sum()\n",
    "\n",
    "        z_exp = mask_z.sum()\n",
    "        if z_exp > 0:\n",
    "            subpixels_covered_z += 1\n",
    "            exptime_aggregate_z = exptime_z.sum()\n",
    "\n",
    "    if i % 4567 == 0:\n",
    "        print(int(i / 4567), '%')\n",
    "\n",
    "    # Do not append to dictionary if less than 75% of subpixels per pixel are covered by CCDs\n",
    "    if subpixels_covered < 48:\n",
    "        continue\n",
    "\n",
    "    systematics_per_pixel = []\n",
    "\n",
    "    systematics_per_pixel.append(exptime_aggregate_g)\n",
    "    systematics_per_pixel.append(exptime_aggregate_r)\n",
    "    systematics_per_pixel.append(exptime_aggregate_z)\n",
    "\n",
    "    print(systematics_per_pixel)\n",
    "    break\n",
    "\n",
    "\n"
   ]
  },
  {
   "cell_type": "code",
   "execution_count": 12,
   "metadata": {
    "pycharm": {
     "name": "#%%\n"
    }
   },
   "outputs": [
    {
     "name": "stdout",
     "output_type": "stream",
     "text": [
      "1784378\n",
      "17843.78\n"
     ]
    }
   ],
   "source": [
    "pixels_overall = pixel2ccd_dict.keys()\n",
    "print(len(pixels_overall))\n",
    "print(len(pixels_overall)/100)\n",
    "\n"
   ]
  },
  {
   "cell_type": "code",
   "execution_count": 13,
   "outputs": [
    {
     "name": "stdout",
     "output_type": "stream",
     "text": [
      "0 %\n",
      "1 %\n",
      "2 %\n",
      "3 %\n",
      "4 %\n",
      "5 %\n",
      "6 %\n",
      "7 %\n",
      "8 %\n",
      "9 %\n",
      "10 %\n",
      "11 %\n",
      "12 %\n",
      "13 %\n",
      "14 %\n",
      "15 %\n",
      "16 %\n",
      "17 %\n",
      "18 %\n",
      "19 %\n",
      "20 %\n",
      "21 %\n",
      "22 %\n",
      "23 %\n",
      "24 %\n",
      "25 %\n",
      "26 %\n",
      "27 %\n",
      "28 %\n",
      "29 %\n",
      "30 %\n",
      "31 %\n",
      "32 %\n",
      "33 %\n",
      "34 %\n",
      "35 %\n",
      "36 %\n",
      "37 %\n",
      "38 %\n",
      "39 %\n",
      "40 %\n",
      "41 %\n",
      "42 %\n",
      "43 %\n",
      "44 %\n",
      "45 %\n",
      "46 %\n",
      "47 %\n",
      "48 %\n",
      "49 %\n",
      "50 %\n",
      "51 %\n",
      "52 %\n",
      "53 %\n",
      "54 %\n",
      "55 %\n",
      "56 %\n",
      "57 %\n",
      "58 %\n",
      "59 %\n",
      "60 %\n",
      "61 %\n",
      "62 %\n",
      "63 %\n",
      "64 %\n",
      "65 %\n",
      "66 %\n",
      "67 %\n",
      "68 %\n",
      "69 %\n",
      "70 %\n",
      "71 %\n",
      "72 %\n",
      "73 %\n",
      "74 %\n",
      "75 %\n",
      "76 %\n",
      "77 %\n",
      "78 %\n",
      "79 %\n",
      "80 %\n",
      "81 %\n",
      "82 %\n",
      "83 %\n",
      "84 %\n",
      "85 %\n",
      "86 %\n",
      "87 %\n",
      "88 %\n",
      "89 %\n",
      "90 %\n",
      "91 %\n",
      "92 %\n",
      "93 %\n",
      "94 %\n",
      "95 %\n",
      "96 %\n",
      "97 %\n",
      "98 %\n",
      "99 %\n",
      "100 %\n"
     ]
    }
   ],
   "source": [
    "\n",
    "pixel2systematics_dict = defaultdict(list)\n",
    "\n",
    "# Find subpixels for the given pixel\n",
    "for i, sample_pixel in enumerate(pixels_overall):\n",
    "    subpixels_per_pixel = pixel2subpixel_dict[sample_pixel]\n",
    "\n",
    "    airmass_aggregate = 0\n",
    "\n",
    "    seeing_aggregate_g = 0\n",
    "    seeing_aggregate_r = 0\n",
    "    seeing_aggregate_z = 0\n",
    "\n",
    "    ccdskysb_aggregate_g = 0\n",
    "    ccdskysb_aggregate_r = 0\n",
    "    ccdskysb_aggregate_z = 0\n",
    "\n",
    "    exptime_aggregate_g = 0\n",
    "    exptime_aggregate_r = 0\n",
    "    exptime_aggregate_z = 0\n",
    "\n",
    "    meansky_aggregate_g = 0\n",
    "    meansky_aggregate_r = 0\n",
    "    meansky_aggregate_z = 0\n",
    "\n",
    "    galdepth_aggregate_g = 0\n",
    "    galdepth_aggregate_r = 0\n",
    "    galdepth_aggregate_z = 0\n",
    "\n",
    "    psfdepth_aggregate_g = 0\n",
    "    psfdepth_aggregate_r = 0\n",
    "    psfdepth_aggregate_z = 0\n",
    "\n",
    "    psfnorm_mean_aggregate_g = 0\n",
    "    psfnorm_mean_aggregate_r = 0\n",
    "    psfnorm_mean_aggregate_z = 0\n",
    "\n",
    "    gausspsfdepth_aggregate_g = 0\n",
    "    gausspsfdepth_aggregate_r = 0\n",
    "    gausspsfdepth_aggregate_z = 0\n",
    "\n",
    "    subpixels_covered = 0\n",
    "    subpixels_covered_g = 0\n",
    "    subpixels_covered_r = 0\n",
    "    subpixels_covered_z = 0\n",
    "    # Go through all 64 subpixels in the sample pixel\n",
    "    for subpixel in subpixels_per_pixel:\n",
    "        # Condition needed in case a subpixel is not covered by CCDs\n",
    "        if subpixel not in subpixel2ccd_dict.keys():\n",
    "            continue\n",
    "        subpixels_covered += 1\n",
    "        ccds_per_subpixel = subpixel2ccd_dict[subpixel]\n",
    "        # Get values for singular systematics\n",
    "        airmass_aggregate += airmass[ccds_per_subpixel].sum() / len(ccds_per_subpixel)\n",
    "\n",
    "        # Get values for per band systematics\n",
    "\n",
    "        mask_g = (filter_colour[ccds_per_subpixel] == 'g')\n",
    "        mask_r = (filter_colour[ccds_per_subpixel] == 'r')\n",
    "        mask_z = (filter_colour[ccds_per_subpixel] == 'z')\n",
    "\n",
    "        expt = exptime[ccds_per_subpixel]\n",
    "        exptime_g = expt[mask_g]\n",
    "        exptime_r = expt[mask_r]\n",
    "        exptime_z = expt[mask_z]\n",
    "\n",
    "        see = seeing[ccds_per_subpixel]\n",
    "        seeing_g = see[mask_g]\n",
    "        seeing_r = see[mask_r]\n",
    "        seeing_z = see[mask_z]\n",
    "\n",
    "        # Sky background\n",
    "        sb = ccdskysb[ccds_per_subpixel]\n",
    "        ccdskysb_g = sb[mask_g]\n",
    "        ccdskysb_r = sb[mask_r]\n",
    "        ccdskysb_z = sb[mask_z]\n",
    "\n",
    "        # Sky level        \n",
    "        msl = meansky[ccds_per_subpixel]\n",
    "        meansky_g = msl[mask_g]\n",
    "        meansky_r = msl[mask_r]\n",
    "        meansky_z = msl[mask_z]\n",
    "\n",
    "        # Galaxy Depth\n",
    "        gd = galdepth[ccds_per_subpixel]\n",
    "        galdepth_g = gd[mask_g]\n",
    "        galdepth_r = gd[mask_r]\n",
    "        galdepth_z = gd[mask_z]\n",
    "\n",
    "        psfd = psfdepth[ccds_per_subpixel]\n",
    "        psfdepth_g = psfd[mask_g]\n",
    "        psfdepth_r = psfd[mask_r]\n",
    "        psfdepth_z = psfd[mask_z]\n",
    "\n",
    "        psfnorm = psfnorm_mean[ccds_per_subpixel]\n",
    "        psfnorm_g = psfnorm[mask_g]\n",
    "        psfnorm_r = psfnorm[mask_r]\n",
    "        psfnorm_z = psfnorm[mask_z]\n",
    "\n",
    "        gausspsfnorm = gausspsfdepth[ccds_per_subpixel]\n",
    "        gausspsf_g = gausspsfnorm[mask_g]\n",
    "        gausspsf_r = gausspsfnorm[mask_r]\n",
    "        gausspsf_z = gausspsfnorm[mask_z]\n",
    "\n",
    "        g_exp = mask_g.sum()\n",
    "        if g_exp > 0:\n",
    "            subpixels_covered_g += 1\n",
    "            exptime_aggregate_g = exptime_g.sum() / g_exp\n",
    "            ccdskysb_aggregate_g = ccdskysb_g.sum() / g_exp\n",
    "            meansky_aggregate_g = meansky_g.sum() / g_exp\n",
    "            galdepth_aggregate_g = galdepth_g.sum() / g_exp\n",
    "            seeing_aggregate_g = seeing_g.sum() / g_exp\n",
    "            psfdepth_aggregate_g = psfdepth_g.sum() / g_exp\n",
    "            psfnorm_mean_aggregate_g = psfnorm_g.sum() / g_exp\n",
    "            gausspsfdepth_aggregate_g = gausspsf_g.sum() / g_exp\n",
    "\n",
    "        r_exp = mask_r.sum()\n",
    "        if r_exp > 0:\n",
    "            subpixels_covered_r += 1\n",
    "            exptime_aggregate_r = exptime_r.sum() / r_exp\n",
    "            ccdskysb_aggregate_r = ccdskysb_r.sum() / r_exp\n",
    "            meansky_aggregate_r = meansky_r.sum() / r_exp\n",
    "            galdepth_aggregate_r = galdepth_r.sum() / r_exp\n",
    "            seeing_aggregate_r = seeing_r.sum() / r_exp\n",
    "            psfdepth_aggregate_r = psfdepth_r.sum() / r_exp\n",
    "            psfnorm_mean_aggregate_r = psfnorm_r.sum() / r_exp\n",
    "            gausspsfdepth_aggregate_r = gausspsf_r.sum() / r_exp\n",
    "\n",
    "        z_exp = mask_z.sum()\n",
    "        if z_exp > 0:\n",
    "            subpixels_covered_z += 1\n",
    "            exptime_aggregate_z = exptime_z.sum() / z_exp\n",
    "            ccdskysb_aggregate_z = ccdskysb_z.sum() / z_exp\n",
    "            meansky_aggregate_z = meansky_z.sum() / z_exp\n",
    "            galdepth_aggregate_z = galdepth_z.sum() / z_exp\n",
    "            seeing_aggregate_z = seeing_z.sum() / z_exp\n",
    "            psfdepth_aggregate_z = psfdepth_z.sum() / z_exp\n",
    "            psfnorm_mean_aggregate_z = psfnorm_z.sum() / z_exp\n",
    "            gausspsfdepth_aggregate_z = gausspsf_z.sum() / z_exp\n",
    "\n",
    "    if i % 17843 == 0:\n",
    "        print(int(i / 17843), '%')\n",
    "\n",
    "    # Do not append to dictionary if none of the subpixels is covered in full\n",
    "    if subpixels_covered == 0:\n",
    "        continue\n",
    "\n",
    "    systematics_per_pixel = []\n",
    "    systematics_per_pixel.append(airmass_aggregate / subpixels_covered)\n",
    "\n",
    "    systematics_per_pixel.append(ccdskysb_aggregate_g)  #/subpixels_covered_g)\n",
    "    systematics_per_pixel.append(ccdskysb_aggregate_r)  #/subpixels_covered_r)\n",
    "    systematics_per_pixel.append(ccdskysb_aggregate_z)  #/subpixels_covered_z)\n",
    "\n",
    "    systematics_per_pixel.append(exptime_aggregate_g)  #/subpixels_covered_g)\n",
    "    systematics_per_pixel.append(exptime_aggregate_r)  #/subpixels_covered_r)\n",
    "    systematics_per_pixel.append(exptime_aggregate_z)  #/subpixels_covered_z)\n",
    "\n",
    "    systematics_per_pixel.append(meansky_aggregate_g)  #/subpixels_covered_g)\n",
    "    systematics_per_pixel.append(meansky_aggregate_r)  #/subpixels_covered_r)\n",
    "    systematics_per_pixel.append(meansky_aggregate_z)  #/subpixels_covered_z)\n",
    "\n",
    "    systematics_per_pixel.append(galdepth_aggregate_g)  #/subpixels_covered_g)\n",
    "    systematics_per_pixel.append(galdepth_aggregate_r)  #/subpixels_covered_r)\n",
    "    systematics_per_pixel.append(galdepth_aggregate_z)  #/subpixels_covered_z)\n",
    "\n",
    "    systematics_per_pixel.append(seeing_aggregate_g)  #/subpixels_covered_g)\n",
    "    systematics_per_pixel.append(seeing_aggregate_r)  #/subpixels_covered_r)\n",
    "    systematics_per_pixel.append(seeing_aggregate_z)  #/subpixels_covered_z)\n",
    "\n",
    "    systematics_per_pixel.append(psfdepth_aggregate_g)  #/subpixels_covered_g)\n",
    "    systematics_per_pixel.append(psfdepth_aggregate_r)  #/subpixels_covered_r)\n",
    "    systematics_per_pixel.append(psfdepth_aggregate_z)  #/subpixels_covered_z)\n",
    "\n",
    "    systematics_per_pixel.append(psfnorm_mean_aggregate_g)  #/subpixels_covered_g)\n",
    "    systematics_per_pixel.append(psfnorm_mean_aggregate_r)  #/subpixels_covered_r)\n",
    "    systematics_per_pixel.append(psfnorm_mean_aggregate_z)  #/subpixels_covered_z)\n",
    "\n",
    "    systematics_per_pixel.append(gausspsfdepth_aggregate_g)  #/subpixels_covered_g)\n",
    "    systematics_per_pixel.append(gausspsfdepth_aggregate_r)  #/subpixels_covered_r)\n",
    "    systematics_per_pixel.append(gausspsfdepth_aggregate_z)  #/subpixels_covered_z)\n",
    "\n",
    "    # Also appending fraction of pixel covered to cut on it later\n",
    "    systematics_per_pixel.append(subpixels_covered / 16)  #/subpixels_covered_z)\n",
    "\n",
    "    #/subpixels_covered_z)\n",
    "\n",
    "    pixel2systematics_dict[sample_pixel] = systematics_per_pixel\n"
   ],
   "metadata": {
    "collapsed": false,
    "pycharm": {
     "name": "#%%\n"
    }
   }
  },
  {
   "cell_type": "code",
   "execution_count": 10,
   "metadata": {},
   "outputs": [
    {
     "name": "stdout",
     "output_type": "stream",
     "text": [
      "[1.185078958038922, 23.263600158691407, 22.576525006975448, 20.161135864257812, 98.5, 98.57142857142857, 112.0, 0.1763635277748108, 0.28229948452540804, 2.3496067047119142, 23.565911865234376, 23.569144112723215, 22.45464172363281, 1.3315475463867188, 1.2165027345929826, 1.021359348297119, 23.781533813476564, 23.853478567940847, 22.837069702148437, 0.10681899785995483, 0.12932427440370833, 0.1604689598083496, 24.117202758789062, 23.981044224330358, 22.915252685546875, 1.0]\n"
     ]
    }
   ],
   "source": [
    "sys = pixel2systematics_dict[655892]\n",
    "print(sys)\n",
    "\n"
   ]
  },
  {
   "cell_type": "code",
   "execution_count": 14,
   "metadata": {
    "pycharm": {
     "name": "#%%\n"
    }
   },
   "outputs": [],
   "source": [
    "with open(f'../../bricks_data/pixel2systematics_geometric_{NSIDE}_{NSIDE_SUB}_inclusive.pickle', 'wb') as f:\n",
    "    pickle.dump(pixel2systematics_dict, f)\n",
    "    f.close()\n"
   ]
  },
  {
   "cell_type": "code",
   "execution_count": null,
   "metadata": {
    "pycharm": {
     "name": "#%%\n"
    }
   },
   "outputs": [],
   "source": [
    "exptime\n",
    "airmass\n",
    "fwhm\n",
    "ccdskysb\n",
    "meansky\n",
    "galdepth\n",
    "psfdepth\n",
    "psfnorm_mean\n",
    "gausspsfdepth\n",
    "pixel_fraction"
   ]
  },
  {
   "cell_type": "code",
   "execution_count": null,
   "outputs": [],
   "source": [
    "ccds_per_subpixel = subpixel2ccd_dict[28949954]\n",
    "print(filter_colour[ccds_per_subpixel])\n",
    "expt = exptime[ccds_per_subpixel]\n",
    "print(expt)\n",
    "exptime_r = expt[filter_colour[ccds_per_subpixel] == 'r']\n",
    "print(exptime_g)\n",
    "exptime_aggregate_g = exptime_g.sum() / len(exptime_g)\n",
    "print(exptime_aggregate_g)"
   ],
   "metadata": {
    "collapsed": false,
    "pycharm": {
     "name": "#%%\n"
    }
   }
  },
  {
   "cell_type": "code",
   "execution_count": null,
   "metadata": {},
   "outputs": [],
   "source": [
    "filter_colour\n",
    "camera\n",
    "exptime\n",
    "airmass\n",
    "fwhm\n",
    "skyrms\n",
    "sig1\n",
    "ccdskycounts\n",
    "ccdskysb\n",
    "ccdphrms\n",
    "phrms\n",
    "ccdnastrom\n",
    "ccdnphotom\n",
    "meansky\n",
    "stdsky\n",
    "maxsky\n",
    "minsky\n",
    "pixscale_mean\n",
    "pixscale_std\n",
    "pixscale_max\n",
    "pixscale_min\n",
    "galnorm_mean\n",
    "galnorm_std\n",
    "humidity\n",
    "outtemp\n",
    "tileebv\n",
    "ebv\n",
    "galdepth\n",
    "gaussgaldepth"
   ]
  }
 ],
 "metadata": {
  "kernelspec": {
   "display_name": "Python 3",
   "language": "python",
   "name": "python3"
  },
  "language_info": {
   "codemirror_mode": {
    "name": "ipython",
    "version": 3
   },
   "file_extension": ".py",
   "mimetype": "text/x-python",
   "name": "python",
   "nbconvert_exporter": "python",
   "pygments_lexer": "ipython3",
   "version": "3.8.8"
  }
 },
 "nbformat": 4,
 "nbformat_minor": 1
}