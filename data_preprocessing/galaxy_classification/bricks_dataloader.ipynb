{
 "cells": [
  {
   "cell_type": "markdown",
   "metadata": {
    "collapsed": true,
    "pycharm": {
     "name": "#%% md\n"
    }
   },
   "source": [
    "# Notebook to get datafiles from the server"
   ]
  },
  {
   "cell_type": "code",
   "execution_count": 2,
   "outputs": [],
   "source": [
    "from astropy.io import fits\n",
    "import wget\n",
    "import numpy as np\n",
    "import random\n",
    "import os\n",
    "import pickle\n",
    "import pandas as pd\n",
    "import time"
   ],
   "metadata": {
    "collapsed": false,
    "pycharm": {
     "name": "#%%\n"
    }
   }
  },
  {
   "cell_type": "code",
   "execution_count": 5,
   "outputs": [],
   "source": [
    "area = 'north'\n",
    "device = 'Astrodisk'\n",
    "\n",
    "hdulistBricksSouthSummary = fits.open('../../bricks_data/survey-bricks-dr9-south.fits')\n",
    "data_south = hdulistBricksSouthSummary[1].data\n",
    "brickname_south = data_south.field('brickname')\n",
    "brickid_south = data_south.field('brickid')\n",
    "south_survey_is_south = data_south.field('survey_primary')\n",
    "\n",
    "hdulistBricksNorthSummary = fits.open('../../bricks_data/survey-bricks-dr9-north.fits')\n",
    "data_north = hdulistBricksNorthSummary[1].data\n",
    "brickname_north = data_north.field('brickname')\n",
    "brickid_north = data_north.field('brickid')\n",
    "survey_north = data_north.field('survey_primary')\n",
    "north_survey_is_south = np.invert(survey_north)"
   ],
   "metadata": {
    "collapsed": false,
    "pycharm": {
     "name": "#%%\n"
    }
   }
  },
  {
   "cell_type": "code",
   "execution_count": 6,
   "outputs": [],
   "source": [
    "brickid_north_south = np.append(brickid_north, brickid_south)\n",
    "brickname_north_south = np.append(brickname_north, brickname_south)\n"
   ],
   "metadata": {
    "collapsed": false,
    "pycharm": {
     "name": "#%%\n"
    }
   }
  },
  {
   "cell_type": "markdown",
   "source": [
    "Begin the actual loop to retrieve a given set of bricks --> split into north  and south for convenience\n",
    "\n"
   ],
   "metadata": {
    "collapsed": false,
    "pycharm": {
     "name": "#%% md\n"
    }
   }
  },
  {
   "cell_type": "code",
   "execution_count": 22,
   "outputs": [
    {
     "name": "stdout",
     "output_type": "stream",
     "text": [
      "\n",
      "=============================== Download north ..... ==================================\n",
      "\n",
      "48806\n"
     ]
    }
   ],
   "source": [
    "start = time.time()\n",
    "\n",
    "\n",
    "print()\n",
    "print(f\"=============================== Download {area} ..... ==================================\")\n",
    "print()\n",
    "\n",
    "hdulistBricks = fits.open(f'../../bricks_data/survey-bricks-dr9-{area}.fits')\n",
    "data = hdulistBricks[1].data\n",
    "\n",
    "bricknames = list(data.field('brickname'))\n",
    "\n",
    "downloaded_bricks = []\n",
    "\n",
    "# Getting already downloaded files:\n",
    "for filename in os.listdir(f'/Volumes/{device}/bricks_data/{area}/'):\n",
    "    brickn = filename.replace(\"tractor-\", \"\")\n",
    "    brickn = brickn.replace(\".fits\", \"\")\n",
    "    downloaded_bricks.append(brickn)\n",
    "\n",
    "\n",
    "# Getting a random sample of bricknames without replacement and deleting all that are already downloaded\n",
    "bricknames_sample = [x for x in bricknames if x not in downloaded_bricks]\n",
    "\n",
    "print(len(bricknames_sample))\n"
   ],
   "metadata": {
    "collapsed": false,
    "pycharm": {
     "name": "#%%\n"
    }
   }
  },
  {
   "cell_type": "code",
   "execution_count": 23,
   "outputs": [],
   "source": [
    "df = pd.read_csv(f'../../bricks_data/galaxy_catalogue_{area}.csv', dtype={'BrickID': 'int32', 'LRG': 'int8', 'ELG': 'int8', 'QSO': 'int8'})\n",
    "brickids_processed = list(df.BrickID.unique())"
   ],
   "metadata": {
    "collapsed": false,
    "pycharm": {
     "name": "#%%\n"
    }
   }
  },
  {
   "cell_type": "code",
   "execution_count": 37,
   "outputs": [
    {
     "name": "stdout",
     "output_type": "stream",
     "text": [
      "630831 1608p650\n"
     ]
    }
   ],
   "source": [
    "bricknames_processed = []\n",
    "for i, id in enumerate(brickids_processed):\n",
    "    bricknames_processed.append(brickname_north[np.where(brickid_north == id)][0])\n",
    "\n",
    "print(brickids_processed[3], bricknames_processed[3])"
   ],
   "metadata": {
    "collapsed": false,
    "pycharm": {
     "name": "#%%\n"
    }
   }
  },
  {
   "cell_type": "code",
   "execution_count": 40,
   "outputs": [
    {
     "name": "stdout",
     "output_type": "stream",
     "text": [
      "93548\n",
      "44742\n"
     ]
    }
   ],
   "source": [
    "bricknames = list(data.field('brickname'))\n",
    "print(len(bricknames))\n",
    "print(len(downloaded_bricks))\n",
    "# Getting a random sample of bricknames without replacement and deleting all that are already downloaded\n",
    "bricknames_sample = [x for x in bricknames if x not in downloaded_bricks]\n",
    "# Deleted all those already downloaded\n",
    "\n",
    "bricknames_sample = [x for x in bricknames_sample if x not in bricknames_processed]"
   ],
   "metadata": {
    "collapsed": false,
    "pycharm": {
     "name": "#%%\n"
    }
   }
  },
  {
   "cell_type": "code",
   "execution_count": 50,
   "outputs": [
    {
     "name": "stdout",
     "output_type": "stream",
     "text": [
      "7623\n"
     ]
    }
   ],
   "source": [
    "print(len(bricknames_sample))\n"
   ],
   "metadata": {
    "collapsed": false,
    "pycharm": {
     "name": "#%%\n"
    }
   }
  },
  {
   "cell_type": "code",
   "execution_count": 52,
   "outputs": [
    {
     "name": "stdout",
     "output_type": "stream",
     "text": [
      "    BrickID  RA  DEC  LRG  ELG  QSO\n",
      "0  630831.0 NaN  NaN  0.0  0.0  0.0\n",
      "1  630832.0 NaN  NaN  0.0  0.0  0.0\n",
      "    BrickID  RA  DEC  LRG  ELG  QSO\n",
      "0  630831.0 NaN  NaN  0.0  0.0  0.0\n",
      "1  630832.0 NaN  NaN  0.0  0.0  0.0\n",
      "2  630833.0 NaN  NaN  0.0  0.0  0.0\n",
      "Empty DataFrame\n",
      "Columns: [RA, DEC, GMAG, RMAG, ZMAG]\n",
      "Index: []\n",
      "   BrickID  RA  DEC  LRG  ELG  QSO\n",
      "0   630831 NaN  NaN    0    0    0\n",
      "1   630832 NaN  NaN    0    0    0\n",
      "2   630833 NaN  NaN    0    0    0\n",
      "Empty DataFrame\n",
      "Columns: [RA, DEC, GMAG, RMAG, ZMAG]\n",
      "Index: []\n"
     ]
    }
   ],
   "source": [
    "\n",
    "df_galaxy = pd.DataFrame(columns=['BrickID', 'RA', 'DEC', 'LRG', 'ELG', 'QSO'])\n",
    "df_stars = pd.DataFrame(columns=['RA', 'DEC', 'GMAG', 'RMAG', 'ZMAG'])\n",
    "\n",
    "df_galaxy = df_galaxy.append({'BrickID' : 630831, 'RA' : np.nan, 'DEC' : np.nan, 'LRG' : 0, 'ELG':0, 'QSO': 0}, ignore_index=True)\n",
    "df_galaxy = df_galaxy.append({'BrickID' : 630832, 'RA' : np.nan, 'DEC' : np.nan, 'LRG' : 0, 'ELG':0, 'QSO': 0}, ignore_index=True)\n",
    "print(df_galaxy.head())\n",
    "\n",
    "df_galaxy = df_galaxy.append({'BrickID' : 630833, 'RA' : np.nan, 'DEC' : np.nan, 'LRG' : 0, 'ELG':0, 'QSO': 0}, ignore_index=True)\n",
    "\n",
    "print(df_galaxy.head())\n",
    "print(df_stars.head())\n",
    "df_galaxy = df_galaxy.astype(\n",
    "            {'BrickID': 'int32', 'LRG': 'int8', 'ELG': 'int8', 'QSO': 'int8'})\n",
    "\n",
    "print(df_galaxy.head())\n",
    "print(df_stars.head())"
   ],
   "metadata": {
    "collapsed": false,
    "pycharm": {
     "name": "#%%\n"
    }
   }
  },
  {
   "cell_type": "code",
   "execution_count": 19,
   "outputs": [
    {
     "name": "stdout",
     "output_type": "stream",
     "text": [
      "Bricks finished: 0  of 2000\n",
      "Bricks finished: 100  of 2000\n",
      "Bricks finished: 200  of 2000\n",
      "Bricks finished: 300  of 2000\n",
      "Bricks finished: 400  of 2000\n",
      "Bricks finished: 500  of 2000\n",
      "Bricks finished: 600  of 2000\n",
      "Bricks finished: 700  of 2000\n",
      "Bricks finished: 800  of 2000\n",
      "Bricks finished: 900  of 2000\n",
      "Bricks finished: 1000  of 2000\n"
     ]
    },
    {
     "ename": "OSError",
     "evalue": "[Errno 28] No space left on device: '/Users/edgareggert/astrostatistics/data_exploration/tractor-0046m020.fitszlzyi8e6.tmp' -> '/Volumes/Astrostick/bricks_data/south//tractor-0046m020.fits'",
     "output_type": "error",
     "traceback": [
      "\u001B[0;31m---------------------------------------------------------------------------\u001B[0m",
      "\u001B[0;31mOSError\u001B[0m                                   Traceback (most recent call last)",
      "\u001B[0;32m<ipython-input-19-3b56a7f608c2>\u001B[0m in \u001B[0;36m<module>\u001B[0;34m\u001B[0m\n\u001B[1;32m     11\u001B[0m     \u001B[0mfolder\u001B[0m \u001B[0;34m=\u001B[0m \u001B[0mbrickname\u001B[0m\u001B[0;34m[\u001B[0m\u001B[0;34m:\u001B[0m\u001B[0;36m3\u001B[0m\u001B[0;34m]\u001B[0m\u001B[0;34m\u001B[0m\u001B[0;34m\u001B[0m\u001B[0m\n\u001B[1;32m     12\u001B[0m     \u001B[0murl\u001B[0m \u001B[0;34m=\u001B[0m \u001B[0;34mf'https://portal.nersc.gov/cfs/cosmo/data/legacysurvey/dr9/south/tractor/{folder}/tractor-{brickname}.fits'\u001B[0m\u001B[0;34m\u001B[0m\u001B[0;34m\u001B[0m\u001B[0m\n\u001B[0;32m---> 13\u001B[0;31m     \u001B[0mwget\u001B[0m\u001B[0;34m.\u001B[0m\u001B[0mdownload\u001B[0m\u001B[0;34m(\u001B[0m\u001B[0murl\u001B[0m\u001B[0;34m,\u001B[0m \u001B[0;34m'/Volumes/Astrostick/bricks_data/south/'\u001B[0m\u001B[0;34m)\u001B[0m\u001B[0;34m\u001B[0m\u001B[0;34m\u001B[0m\u001B[0m\n\u001B[0m\u001B[1;32m     14\u001B[0m \u001B[0;34m\u001B[0m\u001B[0m\n\u001B[1;32m     15\u001B[0m     \u001B[0mbricknames_south_sample\u001B[0m\u001B[0;34m.\u001B[0m\u001B[0mappend\u001B[0m\u001B[0;34m(\u001B[0m\u001B[0mbrickname\u001B[0m\u001B[0;34m)\u001B[0m\u001B[0;34m\u001B[0m\u001B[0;34m\u001B[0m\u001B[0m\n",
      "\u001B[0;32m~/miniconda3/envs/astro/lib/python3.8/site-packages/wget.py\u001B[0m in \u001B[0;36mdownload\u001B[0;34m(url, out, bar)\u001B[0m\n\u001B[1;32m    532\u001B[0m     \u001B[0;32mif\u001B[0m \u001B[0mos\u001B[0m\u001B[0;34m.\u001B[0m\u001B[0mpath\u001B[0m\u001B[0;34m.\u001B[0m\u001B[0mexists\u001B[0m\u001B[0;34m(\u001B[0m\u001B[0mfilename\u001B[0m\u001B[0;34m)\u001B[0m\u001B[0;34m:\u001B[0m\u001B[0;34m\u001B[0m\u001B[0;34m\u001B[0m\u001B[0m\n\u001B[1;32m    533\u001B[0m         \u001B[0mfilename\u001B[0m \u001B[0;34m=\u001B[0m \u001B[0mfilename_fix_existing\u001B[0m\u001B[0;34m(\u001B[0m\u001B[0mfilename\u001B[0m\u001B[0;34m)\u001B[0m\u001B[0;34m\u001B[0m\u001B[0;34m\u001B[0m\u001B[0m\n\u001B[0;32m--> 534\u001B[0;31m     \u001B[0mshutil\u001B[0m\u001B[0;34m.\u001B[0m\u001B[0mmove\u001B[0m\u001B[0;34m(\u001B[0m\u001B[0mtmpfile\u001B[0m\u001B[0;34m,\u001B[0m \u001B[0mfilename\u001B[0m\u001B[0;34m)\u001B[0m\u001B[0;34m\u001B[0m\u001B[0;34m\u001B[0m\u001B[0m\n\u001B[0m\u001B[1;32m    535\u001B[0m \u001B[0;34m\u001B[0m\u001B[0m\n\u001B[1;32m    536\u001B[0m     \u001B[0;31m#print headers\u001B[0m\u001B[0;34m\u001B[0m\u001B[0;34m\u001B[0m\u001B[0;34m\u001B[0m\u001B[0m\n",
      "\u001B[0;32m~/miniconda3/envs/astro/lib/python3.8/shutil.py\u001B[0m in \u001B[0;36mmove\u001B[0;34m(src, dst, copy_function)\u001B[0m\n\u001B[1;32m    803\u001B[0m             \u001B[0mrmtree\u001B[0m\u001B[0;34m(\u001B[0m\u001B[0msrc\u001B[0m\u001B[0;34m)\u001B[0m\u001B[0;34m\u001B[0m\u001B[0;34m\u001B[0m\u001B[0m\n\u001B[1;32m    804\u001B[0m         \u001B[0;32melse\u001B[0m\u001B[0;34m:\u001B[0m\u001B[0;34m\u001B[0m\u001B[0;34m\u001B[0m\u001B[0m\n\u001B[0;32m--> 805\u001B[0;31m             \u001B[0mcopy_function\u001B[0m\u001B[0;34m(\u001B[0m\u001B[0msrc\u001B[0m\u001B[0;34m,\u001B[0m \u001B[0mreal_dst\u001B[0m\u001B[0;34m)\u001B[0m\u001B[0;34m\u001B[0m\u001B[0;34m\u001B[0m\u001B[0m\n\u001B[0m\u001B[1;32m    806\u001B[0m             \u001B[0mos\u001B[0m\u001B[0;34m.\u001B[0m\u001B[0munlink\u001B[0m\u001B[0;34m(\u001B[0m\u001B[0msrc\u001B[0m\u001B[0;34m)\u001B[0m\u001B[0;34m\u001B[0m\u001B[0;34m\u001B[0m\u001B[0m\n\u001B[1;32m    807\u001B[0m     \u001B[0;32mreturn\u001B[0m \u001B[0mreal_dst\u001B[0m\u001B[0;34m\u001B[0m\u001B[0;34m\u001B[0m\u001B[0m\n",
      "\u001B[0;32m~/miniconda3/envs/astro/lib/python3.8/shutil.py\u001B[0m in \u001B[0;36mcopy2\u001B[0;34m(src, dst, follow_symlinks)\u001B[0m\n\u001B[1;32m    433\u001B[0m     \u001B[0;32mif\u001B[0m \u001B[0mos\u001B[0m\u001B[0;34m.\u001B[0m\u001B[0mpath\u001B[0m\u001B[0;34m.\u001B[0m\u001B[0misdir\u001B[0m\u001B[0;34m(\u001B[0m\u001B[0mdst\u001B[0m\u001B[0;34m)\u001B[0m\u001B[0;34m:\u001B[0m\u001B[0;34m\u001B[0m\u001B[0;34m\u001B[0m\u001B[0m\n\u001B[1;32m    434\u001B[0m         \u001B[0mdst\u001B[0m \u001B[0;34m=\u001B[0m \u001B[0mos\u001B[0m\u001B[0;34m.\u001B[0m\u001B[0mpath\u001B[0m\u001B[0;34m.\u001B[0m\u001B[0mjoin\u001B[0m\u001B[0;34m(\u001B[0m\u001B[0mdst\u001B[0m\u001B[0;34m,\u001B[0m \u001B[0mos\u001B[0m\u001B[0;34m.\u001B[0m\u001B[0mpath\u001B[0m\u001B[0;34m.\u001B[0m\u001B[0mbasename\u001B[0m\u001B[0;34m(\u001B[0m\u001B[0msrc\u001B[0m\u001B[0;34m)\u001B[0m\u001B[0;34m)\u001B[0m\u001B[0;34m\u001B[0m\u001B[0;34m\u001B[0m\u001B[0m\n\u001B[0;32m--> 435\u001B[0;31m     \u001B[0mcopyfile\u001B[0m\u001B[0;34m(\u001B[0m\u001B[0msrc\u001B[0m\u001B[0;34m,\u001B[0m \u001B[0mdst\u001B[0m\u001B[0;34m,\u001B[0m \u001B[0mfollow_symlinks\u001B[0m\u001B[0;34m=\u001B[0m\u001B[0mfollow_symlinks\u001B[0m\u001B[0;34m)\u001B[0m\u001B[0;34m\u001B[0m\u001B[0;34m\u001B[0m\u001B[0m\n\u001B[0m\u001B[1;32m    436\u001B[0m     \u001B[0mcopystat\u001B[0m\u001B[0;34m(\u001B[0m\u001B[0msrc\u001B[0m\u001B[0;34m,\u001B[0m \u001B[0mdst\u001B[0m\u001B[0;34m,\u001B[0m \u001B[0mfollow_symlinks\u001B[0m\u001B[0;34m=\u001B[0m\u001B[0mfollow_symlinks\u001B[0m\u001B[0;34m)\u001B[0m\u001B[0;34m\u001B[0m\u001B[0;34m\u001B[0m\u001B[0m\n\u001B[1;32m    437\u001B[0m     \u001B[0;32mreturn\u001B[0m \u001B[0mdst\u001B[0m\u001B[0;34m\u001B[0m\u001B[0;34m\u001B[0m\u001B[0m\n",
      "\u001B[0;32m~/miniconda3/envs/astro/lib/python3.8/shutil.py\u001B[0m in \u001B[0;36mcopyfile\u001B[0;34m(src, dst, follow_symlinks)\u001B[0m\n\u001B[1;32m    266\u001B[0m             \u001B[0;32mif\u001B[0m \u001B[0m_HAS_FCOPYFILE\u001B[0m\u001B[0;34m:\u001B[0m\u001B[0;34m\u001B[0m\u001B[0;34m\u001B[0m\u001B[0m\n\u001B[1;32m    267\u001B[0m                 \u001B[0;32mtry\u001B[0m\u001B[0;34m:\u001B[0m\u001B[0;34m\u001B[0m\u001B[0;34m\u001B[0m\u001B[0m\n\u001B[0;32m--> 268\u001B[0;31m                     \u001B[0m_fastcopy_fcopyfile\u001B[0m\u001B[0;34m(\u001B[0m\u001B[0mfsrc\u001B[0m\u001B[0;34m,\u001B[0m \u001B[0mfdst\u001B[0m\u001B[0;34m,\u001B[0m \u001B[0mposix\u001B[0m\u001B[0;34m.\u001B[0m\u001B[0m_COPYFILE_DATA\u001B[0m\u001B[0;34m)\u001B[0m\u001B[0;34m\u001B[0m\u001B[0;34m\u001B[0m\u001B[0m\n\u001B[0m\u001B[1;32m    269\u001B[0m                     \u001B[0;32mreturn\u001B[0m \u001B[0mdst\u001B[0m\u001B[0;34m\u001B[0m\u001B[0;34m\u001B[0m\u001B[0m\n\u001B[1;32m    270\u001B[0m                 \u001B[0;32mexcept\u001B[0m \u001B[0m_GiveupOnFastCopy\u001B[0m\u001B[0;34m:\u001B[0m\u001B[0;34m\u001B[0m\u001B[0;34m\u001B[0m\u001B[0m\n",
      "\u001B[0;32m~/miniconda3/envs/astro/lib/python3.8/shutil.py\u001B[0m in \u001B[0;36m_fastcopy_fcopyfile\u001B[0;34m(fsrc, fdst, flags)\u001B[0m\n\u001B[1;32m    110\u001B[0m             \u001B[0;32mraise\u001B[0m \u001B[0m_GiveupOnFastCopy\u001B[0m\u001B[0;34m(\u001B[0m\u001B[0merr\u001B[0m\u001B[0;34m)\u001B[0m\u001B[0;34m\u001B[0m\u001B[0;34m\u001B[0m\u001B[0m\n\u001B[1;32m    111\u001B[0m         \u001B[0;32melse\u001B[0m\u001B[0;34m:\u001B[0m\u001B[0;34m\u001B[0m\u001B[0;34m\u001B[0m\u001B[0m\n\u001B[0;32m--> 112\u001B[0;31m             \u001B[0;32mraise\u001B[0m \u001B[0merr\u001B[0m \u001B[0;32mfrom\u001B[0m \u001B[0;32mNone\u001B[0m\u001B[0;34m\u001B[0m\u001B[0;34m\u001B[0m\u001B[0m\n\u001B[0m\u001B[1;32m    113\u001B[0m \u001B[0;34m\u001B[0m\u001B[0m\n\u001B[1;32m    114\u001B[0m \u001B[0;32mdef\u001B[0m \u001B[0m_fastcopy_sendfile\u001B[0m\u001B[0;34m(\u001B[0m\u001B[0mfsrc\u001B[0m\u001B[0;34m,\u001B[0m \u001B[0mfdst\u001B[0m\u001B[0;34m)\u001B[0m\u001B[0;34m:\u001B[0m\u001B[0;34m\u001B[0m\u001B[0;34m\u001B[0m\u001B[0m\n",
      "\u001B[0;32m~/miniconda3/envs/astro/lib/python3.8/shutil.py\u001B[0m in \u001B[0;36m_fastcopy_fcopyfile\u001B[0;34m(fsrc, fdst, flags)\u001B[0m\n\u001B[1;32m    103\u001B[0m \u001B[0;34m\u001B[0m\u001B[0m\n\u001B[1;32m    104\u001B[0m     \u001B[0;32mtry\u001B[0m\u001B[0;34m:\u001B[0m\u001B[0;34m\u001B[0m\u001B[0;34m\u001B[0m\u001B[0m\n\u001B[0;32m--> 105\u001B[0;31m         \u001B[0mposix\u001B[0m\u001B[0;34m.\u001B[0m\u001B[0m_fcopyfile\u001B[0m\u001B[0;34m(\u001B[0m\u001B[0minfd\u001B[0m\u001B[0;34m,\u001B[0m \u001B[0moutfd\u001B[0m\u001B[0;34m,\u001B[0m \u001B[0mflags\u001B[0m\u001B[0;34m)\u001B[0m\u001B[0;34m\u001B[0m\u001B[0;34m\u001B[0m\u001B[0m\n\u001B[0m\u001B[1;32m    106\u001B[0m     \u001B[0;32mexcept\u001B[0m \u001B[0mOSError\u001B[0m \u001B[0;32mas\u001B[0m \u001B[0merr\u001B[0m\u001B[0;34m:\u001B[0m\u001B[0;34m\u001B[0m\u001B[0;34m\u001B[0m\u001B[0m\n\u001B[1;32m    107\u001B[0m         \u001B[0merr\u001B[0m\u001B[0;34m.\u001B[0m\u001B[0mfilename\u001B[0m \u001B[0;34m=\u001B[0m \u001B[0mfsrc\u001B[0m\u001B[0;34m.\u001B[0m\u001B[0mname\u001B[0m\u001B[0;34m\u001B[0m\u001B[0;34m\u001B[0m\u001B[0m\n",
      "\u001B[0;31mOSError\u001B[0m: [Errno 28] No space left on device: '/Users/edgareggert/astrostatistics/data_exploration/tractor-0046m020.fitszlzyi8e6.tmp' -> '/Volumes/Astrostick/bricks_data/south//tractor-0046m020.fits'"
     ]
    }
   ],
   "source": [
    "### South Bricks\n",
    "start = time.time()\n",
    "\n",
    "for brick in range(1000):\n",
    "    randomint = random.randint(0, len(brickname_south))\n",
    "    brickname = brickname_south[randomint]\n",
    "    brickid = brickid_south[randomint]\n",
    "\n",
    "    folder = brickname[:3]\n",
    "    url = f'https://portal.nersc.gov/cfs/cosmo/data/legacysurvey/dr9/south/tractor/{folder}/tractor-{brickname}.fits'\n",
    "    wget.download(url, '/Volumes/Astrostick/bricks_data/south/')\n",
    "\n",
    "\n",
    "    if (brick % 100) == 0:\n",
    "        print(\"Bricks finished:\", brick)\n",
    "\n",
    "\n",
    "print(\"Time taken: \", time.time() - start)"
   ],
   "metadata": {
    "collapsed": false,
    "pycharm": {
     "name": "#%%\n"
    }
   }
  },
  {
   "cell_type": "code",
   "execution_count": null,
   "outputs": [],
   "source": [
    "\n",
    "start = time.time()\n",
    "\n",
    "for brick in range(1000):\n",
    "    randomint = random.randint(0, len(brickname_north))\n",
    "    brickname = brickname_north[randomint]\n",
    "    brickid = brickid_north[randomint]\n",
    "\n",
    "    folder = brickname[:3]\n",
    "    url = f'https://portal.nersc.gov/cfs/cosmo/data/legacysurvey/dr9/north/tractor/{folder}/tractor-{brickname}.fits'\n",
    "    wget.download(url, '/Volumes/Astrostick/bricks_data/north/')\n",
    "\n",
    "    if (brick % 100) == 0:\n",
    "        print(\"Bricks north finished:\", brick)\n",
    "\n",
    "\n",
    "print(\"Time taken: \", time.time() - start)"
   ],
   "metadata": {
    "collapsed": false,
    "pycharm": {
     "name": "#%%\n"
    }
   }
  },
  {
   "cell_type": "markdown",
   "source": [
    "### Cleaning up the stick overnight, removing all bricks data\n"
   ],
   "metadata": {
    "collapsed": false,
    "pycharm": {
     "name": "#%% md\n"
    }
   }
  },
  {
   "cell_type": "code",
   "execution_count": 22,
   "outputs": [
    {
     "name": "stdout",
     "output_type": "stream",
     "text": [
      "Time taken:  0.017904996871948242\n"
     ]
    }
   ],
   "source": [
    "start = time.time()\n",
    "index = 0\n",
    "for filename in os.listdir('/Volumes/Astrostick/bricks_data/south/'):\n",
    "    os.remove(f'/Volumes/Astrostick/bricks_data/south/{filename}')\n",
    "    index +=1\n",
    "    if index ==  5:\n",
    "        break\n",
    "\n",
    "print(\"Time taken: \", time.time() - start)\n",
    "\n",
    "# Time taken for 10:  0.15107083320617676 --> deleting bricks is very fast, hundreds in 1 second, so downloading and processing\n",
    "# needs to be sped up\n",
    "\n",
    "\n",
    "#for filename in os.listdir('/Volumes/Astrostick/bricks_data/north/'):\n",
    "    #os.remove(f'/Volumes/Astrostick/bricks_data/north/{filename}')"
   ],
   "metadata": {
    "collapsed": false,
    "pycharm": {
     "name": "#%%\n"
    }
   }
  },
  {
   "cell_type": "code",
   "execution_count": 3,
   "outputs": [
    {
     "name": "stdout",
     "output_type": "stream",
     "text": [
      "\n",
      "=============================== Download south ..... ==================================\n",
      "\n",
      "Bricks total: 253658\n",
      "Bricks processed: 103554\n",
      "Empty DataFrame\n",
      "Columns: [BrickID, RA, DEC, LRG, ELG, QSO]\n",
      "Index: []\n",
      "Empty DataFrame\n",
      "Columns: [RA, DEC, GMAG, RMAG, ZMAG]\n",
      "Index: []\n",
      "No of bricks left for area south: 145414 \n",
      "Time taken for:  3.55\n"
     ]
    }
   ],
   "source": [
    "\n",
    "area = 'south'\n",
    "device = 'Astrodisk'\n",
    "bricks_to_classify = 1500\n",
    "\n",
    "hdulistBricksSouthSummary = fits.open('../../bricks_data/survey-bricks-dr9-south.fits')\n",
    "data_south = hdulistBricksSouthSummary[1].data\n",
    "brickname_south = data_south.field('brickname')\n",
    "brickid_south = data_south.field('brickid')\n",
    "south_survey_is_south = data_south.field('survey_primary')\n",
    "\n",
    "hdulistBricksNorthSummary = fits.open('../../bricks_data/survey-bricks-dr9-north.fits')\n",
    "data_north = hdulistBricksNorthSummary[1].data\n",
    "brickname_north = data_north.field('brickname')\n",
    "brickid_north = data_north.field('brickid')\n",
    "survey_north = data_north.field('survey_primary')\n",
    "north_survey_is_south = np.invert(survey_north)\n",
    "\n",
    "start = time.time()\n",
    "\n",
    "print()\n",
    "print(f\"=============================== Download {area} ..... ==================================\")\n",
    "print()\n",
    "\n",
    "hdulistBricks = fits.open(f'../../bricks_data/survey-bricks-dr9-{area}.fits')\n",
    "data = hdulistBricks[1].data\n",
    "\n",
    "bricknames = list(data.field('brickname'))\n",
    "bricks = {}\n",
    "for brick in bricknames:\n",
    "    bricks[brick] = 1\n",
    "\n",
    "downloaded_bricks = []\n",
    "\n",
    "# Getting already downloaded files:\n",
    "for filename in os.listdir(f'/Volumes/{device}/bricks_data/{area}/'):\n",
    "    brickn = filename.replace(\"tractor-\", \"\")\n",
    "    brickn = brickn.replace(\".fits\", \"\")\n",
    "    downloaded_bricks.append(brickn)\n",
    "\n",
    "for brick in downloaded_bricks:\n",
    "    if brick in bricks:\n",
    "        bricks.pop(brick)\n",
    "# Getting a random sample of bricknames without replacement and deleting all that are already downloaded\n",
    "df = pd.read_csv(f'../../bricks_data/galaxy_catalogue_{area}.csv',\n",
    "                 dtype={'BrickID': 'int32', 'LRG': 'int8', 'ELG': 'int8', 'QSO': 'int8'})\n",
    "\n",
    "brickids_processed = list(df.BrickID.unique())\n",
    "print(\"Bricks total:\", len(bricknames))\n",
    "print(\"Bricks processed:\", len(brickids_processed))\n",
    "\n",
    "bricknames_processed = []\n",
    "for i, id in enumerate(brickids_processed):\n",
    "    temp = brickname_south[np.where(brickid_south == id)]\n",
    "    bricknames_processed.append(temp[0])\n",
    "\n",
    "for brick in bricknames_processed:\n",
    "    if brick in bricks:\n",
    "        bricks.pop(brick)\n",
    "\n",
    "df_galaxy = pd.DataFrame(columns=['BrickID', 'RA', 'DEC', 'LRG', 'ELG', 'QSO'])\n",
    "df_stars = pd.DataFrame(columns=['RA', 'DEC', 'GMAG', 'RMAG', 'ZMAG'])\n",
    "\n",
    "print(df_galaxy.head())\n",
    "print(df_stars.head())\n",
    "\n",
    "bricknames_sample = list(bricks.keys())\n",
    "print(f\"No of bricks left for area {area}: {len(bricknames_sample)} \")\n",
    "print(\"Time taken for: \", round(((time.time() - start) / 60), 2))"
   ],
   "metadata": {
    "collapsed": false,
    "pycharm": {
     "name": "#%%\n"
    }
   }
  },
  {
   "cell_type": "code",
   "execution_count": null,
   "outputs": [],
   "source": [],
   "metadata": {
    "collapsed": false,
    "pycharm": {
     "name": "#%%\n"
    }
   }
  }
 ],
 "metadata": {
  "kernelspec": {
   "display_name": "Python 3",
   "language": "python",
   "name": "python3"
  },
  "language_info": {
   "codemirror_mode": {
    "name": "ipython",
    "version": 2
   },
   "file_extension": ".py",
   "mimetype": "text/x-python",
   "name": "python",
   "nbconvert_exporter": "python",
   "pygments_lexer": "ipython2",
   "version": "2.7.6"
  }
 },
 "nbformat": 4,
 "nbformat_minor": 0
}