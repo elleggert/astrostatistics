{
 "cells": [
  {
   "cell_type": "markdown",
   "source": [
    "# Scale: NSIDE = 2048\n",
    "\n",
    "### Notebook to prepare the full north dataset used for training of different models, combining different code throughout this repo"
   ],
   "metadata": {
    "collapsed": false
   }
  },
  {
   "cell_type": "code",
   "execution_count": 1,
   "outputs": [],
   "source": [
    "# Importing Libraries\n",
    "\n",
    "import pandas as pd\n",
    "import healpy as hp\n",
    "import numpy as np\n",
    "import pickle\n",
    "import matplotlib.pyplot as plt\n",
    "from sklearn.model_selection import train_test_split\n",
    "from sklearn.preprocessing import MinMaxScaler"
   ],
   "metadata": {
    "collapsed": false,
    "pycharm": {
     "name": "#%%\n"
    }
   }
  },
  {
   "cell_type": "markdown",
   "source": [
    "### Maps at 2048 NORTH\n"
   ],
   "metadata": {
    "collapsed": false,
    "pycharm": {
     "name": "#%% md\n"
    }
   }
  },
  {
   "cell_type": "code",
   "execution_count": 2,
   "outputs": [],
   "source": [
    "NSIDE = 2048\n",
    "NPIX = hp.nside2npix(NSIDE)\n",
    "def raDec2thetaPhi(ra, dec):\n",
    "    return (0.5 * np.pi - np.deg2rad(dec)), (np.deg2rad(ra))"
   ],
   "metadata": {
    "collapsed": false,
    "pycharm": {
     "name": "#%%\n"
    }
   }
  },
  {
   "cell_type": "code",
   "execution_count": 3,
   "outputs": [],
   "source": [
    "# Import Northern Galaxies and Drop NAS and DUPLS\n",
    "df_north = pd.read_csv('../../../bricks_data/galaxy_catalogue_north.csv',\n",
    "                       dtype={'BrickID': 'int32', 'LRG': 'int8', 'ELG': 'int8', 'QSO': 'int8'})\n",
    "df_north = df_north.drop_duplicates()\n",
    "# Removing all Lines with Nan that were added to ensure that all bricks are stored\n",
    "df_north = df_north.dropna(axis=0, inplace=False, how='any')"
   ],
   "metadata": {
    "collapsed": false,
    "pycharm": {
     "name": "#%%\n"
    }
   }
  },
  {
   "cell_type": "markdown",
   "source": [
    "### 2. Get Galaxy Count per 2048 Healpy Pixel"
   ],
   "metadata": {
    "collapsed": false
   }
  },
  {
   "cell_type": "markdown",
   "source": [
    "### NORTH"
   ],
   "metadata": {
    "collapsed": false
   }
  },
  {
   "cell_type": "code",
   "execution_count": 4,
   "outputs": [
    {
     "name": "stdout",
     "output_type": "stream",
     "text": [
      "Mean LRGs per Pixel: 1.4535700059544587\n"
     ]
    }
   ],
   "source": [
    "# LRG\n",
    "df_LRG = df_north[df_north[\"LRG\"] == 1]\n",
    "ra_LRG = df_LRG[\"RA\"].to_numpy(copy=True)\n",
    "dec_LRG = df_LRG[\"DEC\"].to_numpy(copy=True)\n",
    "theta, phi = raDec2thetaPhi(ra_LRG, dec_LRG)\n",
    "\n",
    "LRG_pixel_indices = hp.ang2pix(NSIDE, theta, phi)\n",
    "\n",
    "# Finding out unique indices and how often they appear --> shows the density of LRGs in this pixel\n",
    "(unique, counts) = np.unique(LRG_pixel_indices, return_counts=True)\n",
    "\n",
    "mean_LRG = counts.mean()\n",
    "print(\"Mean LRGs per Pixel:\", mean_LRG)\n",
    "# Calculating Densities for every block\n",
    "id_density = np.stack((unique, counts), axis=1)\n",
    "df_lrg = pd.DataFrame(id_density, columns=['pixel_id', 'lrg'])\n",
    "df_lrg.pixel_id = df_lrg.pixel_id.astype(int)"
   ],
   "metadata": {
    "collapsed": false,
    "pycharm": {
     "name": "#%%\n"
    }
   }
  },
  {
   "cell_type": "code",
   "execution_count": 5,
   "outputs": [
    {
     "name": "stdout",
     "output_type": "stream",
     "text": [
      "Mean ELGs per Pixel: 2.347347050336317\n"
     ]
    }
   ],
   "source": [
    "# elg\n",
    "df_ELG = df_north[df_north[\"ELG\"] == 1]\n",
    "ra_ELG = df_ELG[\"RA\"].to_numpy(copy=True)\n",
    "dec_ELG = df_ELG[\"DEC\"].to_numpy(copy=True)\n",
    "theta, phi = raDec2thetaPhi(ra_ELG, dec_ELG)\n",
    "ELG_pixel_indices = hp.ang2pix(NSIDE, theta, phi)\n",
    "\n",
    "# Finding out unique indices and how often they appear --> shows the density of LRGs in this pixel\n",
    "(unique, counts) = np.unique(ELG_pixel_indices, return_counts=True)\n",
    "mean_ELG = counts.mean()\n",
    "print(\"Mean ELGs per Pixel:\", mean_ELG)\n",
    "id_density = np.stack((unique, counts), axis=1)\n",
    "df_elg = pd.DataFrame(id_density, columns=['pixel_id', 'elg'])\n",
    "df_elg.pixel_id = df_elg.pixel_id.astype(int)"
   ],
   "metadata": {
    "collapsed": false,
    "pycharm": {
     "name": "#%%\n"
    }
   }
  },
  {
   "cell_type": "code",
   "execution_count": 6,
   "outputs": [
    {
     "name": "stdout",
     "output_type": "stream",
     "text": [
      "Mean QSOs per Pixel: 2.7237364970237756\n"
     ]
    }
   ],
   "source": [
    "df_QSO = df_north[df_north[\"QSO\"] == 1]\n",
    "ra_QSO = df_QSO[\"RA\"].to_numpy(copy=True)\n",
    "dec_QSO = df_QSO[\"DEC\"].to_numpy(copy=True)\n",
    "theta, phi = raDec2thetaPhi(ra_QSO, dec_QSO)\n",
    "QSO_pixel_indices = hp.ang2pix(NSIDE, theta, phi)\n",
    "# Finding out unique indices and how often they appear --> shows the density of LRGs in this pixel\n",
    "(unique, counts) = np.unique(QSO_pixel_indices, return_counts=True)\n",
    "mean_QSO = counts.mean()\n",
    "print(\"Mean QSOs per Pixel:\", mean_QSO)\n",
    "\n",
    "id_density = np.stack((unique, counts), axis=1)\n",
    "df_qso = pd.DataFrame(id_density, columns=['pixel_id', 'qso'])\n",
    "df_qso.pixel_id = df_qso.pixel_id.astype(int)"
   ],
   "metadata": {
    "collapsed": false,
    "pycharm": {
     "name": "#%%\n"
    }
   }
  },
  {
   "cell_type": "code",
   "execution_count": 7,
   "outputs": [
    {
     "name": "stdout",
     "output_type": "stream",
     "text": [
      "(2435150, 2) (5301401, 2) (5601728, 2) (6237002, 4)\n"
     ]
    }
   ],
   "source": [
    "df_north = pd.merge(df_lrg, df_elg, how='outer', on='pixel_id')\n",
    "df_north = pd.merge(df_north, df_qso, how='outer', on='pixel_id')\n",
    "print(df_lrg.shape, df_elg.shape, df_qso.shape, df_north.shape)\n",
    "\n",
    "df_north.fillna(axis=0, value=0, inplace=True)"
   ],
   "metadata": {
    "collapsed": false,
    "pycharm": {
     "name": "#%%\n"
    }
   }
  },
  {
   "cell_type": "code",
   "execution_count": 8,
   "outputs": [],
   "source": [
    "df_north = df_north.astype(int)\n"
   ],
   "metadata": {
    "collapsed": false,
    "pycharm": {
     "name": "#%%\n"
    }
   }
  },
  {
   "cell_type": "markdown",
   "source": [
    "# Getting Exposure Densities across pixels\n"
   ],
   "metadata": {
    "collapsed": false,
    "pycharm": {
     "name": "#%% md\n"
    }
   }
  },
  {
   "cell_type": "code",
   "execution_count": null,
   "outputs": [],
   "source": [
    "\n",
    "with open('../../../bricks_data/pixel2ccd_2048_non_inclusive.pickle', 'rb') as f:\n",
    "    pixel2ccd_dict = pickle.load(f)\n",
    "    f.close()\n",
    "\n"
   ],
   "metadata": {
    "collapsed": false,
    "pycharm": {
     "name": "#%%\n",
     "is_executing": true
    }
   }
  },
  {
   "cell_type": "code",
   "execution_count": null,
   "outputs": [],
   "source": [
    "df_north = df_north.astype(int)\n",
    "df_north.head()\n",
    "\n"
   ],
   "metadata": {
    "collapsed": false,
    "pycharm": {
     "name": "#%%\n",
     "is_executing": true
    }
   }
  },
  {
   "cell_type": "code",
   "execution_count": null,
   "outputs": [],
   "source": [
    "pix_ids = df_north.pixel_id.to_numpy()\n",
    "exp_len = np.zeros(len(pix_ids))\n",
    "print(pix_ids)\n",
    "for i, pix in enumerate(pix_ids):\n",
    "    exp_len[i] = len(pixel2ccd_dict[pix])\n",
    "\n",
    "print(exp_len)\n",
    "\n",
    "df_north['exposures'] = exp_len\n",
    "\n",
    "df_north.head()"
   ],
   "metadata": {
    "collapsed": false,
    "pycharm": {
     "name": "#%%\n",
     "is_executing": true
    }
   }
  },
  {
   "cell_type": "code",
   "execution_count": null,
   "outputs": [],
   "source": [
    "df_north = df_north.astype(int)\n"
   ],
   "metadata": {
    "collapsed": false,
    "pycharm": {
     "name": "#%%\n",
     "is_executing": true
    }
   }
  },
  {
   "cell_type": "code",
   "execution_count": null,
   "outputs": [],
   "source": [
    "m_EXP = np.zeros(NPIX)\n",
    "\n",
    "m_EXP[df_north.pixel_id.to_numpy()] = df_north.exposures.to_numpy()\n",
    "mask = (m_EXP == 0)\n",
    "m_EXP[mask] = np.nan\n",
    "hp.mollview(m_EXP, title=\"EXP\", format='%i', norm='hist', cmap=\"jet\", notext=False, rot=(100, 0, 0), badcolor='white',\n",
    "            remove_dip=True, remove_mono=True)\n",
    "hp.graticule()"
   ],
   "metadata": {
    "collapsed": false,
    "pycharm": {
     "name": "#%%\n",
     "is_executing": true
    }
   }
  },
  {
   "cell_type": "code",
   "execution_count": null,
   "outputs": [],
   "source": [
    "df_north.head()"
   ],
   "metadata": {
    "collapsed": false,
    "pycharm": {
     "name": "#%%\n",
     "is_executing": true
    }
   }
  },
  {
   "cell_type": "code",
   "execution_count": null,
   "outputs": [],
   "source": [],
   "metadata": {
    "collapsed": false,
    "pycharm": {
     "name": "#%%\n"
    }
   }
  }
 ],
 "metadata": {
  "kernelspec": {
   "display_name": "Python 3",
   "language": "python",
   "name": "python3"
  },
  "language_info": {
   "codemirror_mode": {
    "name": "ipython",
    "version": 2
   },
   "file_extension": ".py",
   "mimetype": "text/x-python",
   "name": "python",
   "nbconvert_exporter": "python",
   "pygments_lexer": "ipython2",
   "version": "2.7.6"
  }
 },
 "nbformat": 4,
 "nbformat_minor": 0
}