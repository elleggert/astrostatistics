{
 "cells": [
  {
   "cell_type": "markdown",
   "source": [
    "### Extracting Systematics using Geometric Subpixelisation at NSIDE = 2048\n",
    "\n"
   ],
   "metadata": {
    "collapsed": false
   }
  },
  {
   "cell_type": "code",
   "execution_count": 6,
   "outputs": [],
   "source": [
    "import time\n",
    "\n",
    "import numpy as np\n",
    "from astropy.io import fits\n",
    "import healpy as hp\n",
    "import pandas as pd\n",
    "import matplotlib.path as mplPath\n",
    "import matplotlib.pyplot as plt\n",
    "import pickle\n",
    "from collections import defaultdict"
   ],
   "metadata": {
    "collapsed": false,
    "pycharm": {
     "name": "#%%\n"
    }
   }
  },
  {
   "cell_type": "code",
   "execution_count": 2,
   "outputs": [],
   "source": [
    "def raDec2thetaPhi(ra, dec):\n",
    "    return (0.5 * np.pi - np.deg2rad(dec)), (np.deg2rad(ra))\n",
    "\n",
    "NSIDE = 2048\n",
    "NPIX = hp.nside2npix(NSIDE)"
   ],
   "metadata": {
    "collapsed": false,
    "pycharm": {
     "name": "#%%\n"
    }
   }
  },
  {
   "cell_type": "markdown",
   "source": [
    "### Retrieving the relevant CCD Data"
   ],
   "metadata": {
    "collapsed": false
   }
  },
  {
   "cell_type": "code",
   "execution_count": 3,
   "outputs": [],
   "source": [
    "decamCCD = fits.open('../../../bricks_data/ccds-annotated-decam-dr9.fits')\n",
    "mosaicCCD = fits.open('../../../bricks_data/ccds-annotated-mosaic-dr9.fits')\n",
    "bassCCD = fits.open('../../../bricks_data/ccds-annotated-90prime-dr9.fits')\n",
    "dataDecam = decamCCD[1].data\n",
    "dataMosaic = mosaicCCD[1].data\n",
    "dataBass = bassCCD[1].data\n"
   ],
   "metadata": {
    "collapsed": false,
    "pycharm": {
     "name": "#%%\n"
    }
   }
  },
  {
   "cell_type": "markdown",
   "source": [
    "### Extracting CCD Informations from the entire Sample and Concatenating them together"
   ],
   "metadata": {
    "collapsed": false
   }
  },
  {
   "cell_type": "code",
   "execution_count": 4,
   "outputs": [],
   "source": [
    "#Extracting systematics\n",
    "filter_colour = np.concatenate((dataDecam.field('filter'), dataMosaic.field('filter'), dataBass.field('filter')),\n",
    "                               axis=0)\n",
    "exptime = np.concatenate((dataDecam.field('exptime'), dataMosaic.field('exptime'), dataBass.field('exptime')), axis=0)\n",
    "airmass = np.concatenate((dataDecam.field('airmass'), dataMosaic.field('airmass'), dataBass.field('airmass')), axis=0)\n",
    "fwhm = np.concatenate((dataDecam.field('fwhm'), dataMosaic.field('fwhm'), dataBass.field('fwhm')), axis=0)\n",
    "seeing = fwhm * 0.262\n",
    "ccdskysb = np.concatenate((dataDecam.field('ccdskysb'), dataMosaic.field('ccdskysb'), dataBass.field('ccdskysb')),\n",
    "                          axis=0)\n",
    "meansky = np.concatenate((dataDecam.field('meansky'), dataMosaic.field('meansky'), dataBass.field('meansky')), axis=0)\n",
    "galdepth = np.concatenate((dataDecam.field('galdepth'), dataMosaic.field('galdepth'), dataBass.field('galdepth')),\n",
    "                          axis=0)\n",
    "psfdepth = np.concatenate((dataDecam.field('psfdepth'), dataMosaic.field('psfdepth'), dataBass.field('psfdepth')),\n",
    "                          axis=0)\n",
    "psfnorm_mean = np.concatenate(\n",
    "    (dataDecam.field('psfnorm_mean'), dataMosaic.field('psfnorm_mean'), dataBass.field('psfnorm_mean')), axis=0)\n",
    "gausspsfdepth = np.concatenate(\n",
    "    (dataDecam.field('gausspsfdepth'), dataMosaic.field('gausspsfdepth'), dataBass.field('gausspsfdepth')), axis=0)\n"
   ],
   "metadata": {
    "collapsed": false,
    "pycharm": {
     "name": "#%%\n"
    }
   }
  },
  {
   "cell_type": "markdown",
   "source": [
    "### Now, trying to actually get all ccds per pixel\n",
    "Begin by loading the Dictionary mapping pixels to CCDs. Afterwards, iterating through the ccds for a given pixel.\n",
    "Depending on the systematics, we have to break systematics down into the different bands.\n",
    "Airmass is simply averaged across all CCDs, exposure times are calculated on a per CCD basis.\n"
   ],
   "metadata": {
    "collapsed": false
   }
  },
  {
   "cell_type": "markdown",
   "source": [
    "### Import subpixel2ccd mapping\n"
   ],
   "metadata": {
    "collapsed": false
   }
  },
  {
   "cell_type": "code",
   "execution_count": 7,
   "outputs": [
    {
     "name": "stdout",
     "output_type": "stream",
     "text": [
      "1612141848.7527347\n"
     ]
    }
   ],
   "source": [
    "# Use this cell to simply import an existing pixel2ccd mapping\n",
    "\n",
    "start = time.time()\n",
    "# For DECAM, BASS, MzLS\n",
    "with open('../../../bricks_data/pixel2ccd_2048_non_inclusive.pickle', 'rb') as f:\n",
    "    pixel2ccd_dict = pickle.load(f)\n",
    "    f.close()\n",
    "\n",
    "print(time.time() - start /60)"
   ],
   "metadata": {
    "collapsed": false,
    "pycharm": {
     "name": "#%%\n"
    }
   }
  },
  {
   "cell_type": "markdown",
   "source": [
    "###  Get systematics value across every subpixel and average --> this is where the procedure differs from prev\n",
    "- Iterate through all pixels\n",
    "- Get systematic value at pixel\n",
    "- average for pixel"
   ],
   "metadata": {
    "collapsed": false
   }
  },
  {
   "cell_type": "markdown",
   "source": [
    "### Adapt this loop to no longer iterate over subpixels"
   ],
   "metadata": {
    "collapsed": false,
    "pycharm": {
     "name": "#%% md\n"
    }
   },
   "outputs": [],
   "execution_count": 1
  },
  {
   "cell_type": "code",
   "execution_count": 14,
   "outputs": [
    {
     "name": "stdout",
     "output_type": "stream",
     "text": [
      "28536897\n"
     ]
    }
   ],
   "source": [
    "pixels_overall = pixel2ccd_dict.keys()\n",
    "print(len(pixels_overall))\n",
    "\n",
    "pixel2systematics_dict = defaultdict(list)"
   ],
   "metadata": {
    "collapsed": false,
    "pycharm": {
     "name": "#%%\n"
    }
   }
  },
  {
   "cell_type": "code",
   "execution_count": 15,
   "outputs": [
    {
     "name": "stdout",
     "output_type": "stream",
     "text": [
      "\n",
      "1.0843 minutes (65.1 seconds) taken to classify 1%\n",
      "\n"
     ]
    }
   ],
   "source": [
    "time_start = time.time()\n",
    "\n",
    "# Find subpixels for the given pixel\n",
    "for i, sample_pixel in enumerate(pixels_overall):\n",
    "    airmass_aggregate = 0\n",
    "\n",
    "    seeing_aggregate_g = 0\n",
    "    seeing_aggregate_r = 0\n",
    "    seeing_aggregate_z = 0\n",
    "\n",
    "    ccdskysb_aggregate_g = 0\n",
    "    ccdskysb_aggregate_r = 0\n",
    "    ccdskysb_aggregate_z = 0\n",
    "\n",
    "    exptime_aggregate_g = 0\n",
    "    exptime_aggregate_r = 0\n",
    "    exptime_aggregate_z = 0\n",
    "\n",
    "    meansky_aggregate_g = 0\n",
    "    meansky_aggregate_r = 0\n",
    "    meansky_aggregate_z = 0\n",
    "\n",
    "    galdepth_aggregate_g = 0\n",
    "    galdepth_aggregate_r = 0\n",
    "    galdepth_aggregate_z = 0\n",
    "\n",
    "    psfdepth_aggregate_g = 0\n",
    "    psfdepth_aggregate_r = 0\n",
    "    psfdepth_aggregate_z = 0\n",
    "\n",
    "    psfnorm_mean_aggregate_g = 0\n",
    "    psfnorm_mean_aggregate_r = 0\n",
    "    psfnorm_mean_aggregate_z = 0\n",
    "\n",
    "    gausspsfdepth_aggregate_g = 0\n",
    "    gausspsfdepth_aggregate_r = 0\n",
    "    gausspsfdepth_aggregate_z = 0\n",
    "\n",
    "    subpixels_covered = 0\n",
    "    subpixels_covered_g = 0\n",
    "    subpixels_covered_r = 0\n",
    "    subpixels_covered_z = 0\n",
    "\n",
    "    ccds_per_pixel = pixel2ccd_dict[sample_pixel]\n",
    "\n",
    "    # Get values for singular systematics\n",
    "    airmass_aggregate += airmass[ccds_per_pixel].sum() / len(ccds_per_pixel)\n",
    "\n",
    "    # Get values for per band systematics\n",
    "\n",
    "    mask_g = (filter_colour[ccds_per_pixel] == 'g')\n",
    "    mask_r = (filter_colour[ccds_per_pixel] == 'r')\n",
    "    mask_z = (filter_colour[ccds_per_pixel] == 'z')\n",
    "\n",
    "    expt = exptime[ccds_per_pixel]\n",
    "    exptime_g = expt[mask_g]\n",
    "    exptime_r = expt[mask_r]\n",
    "    exptime_z = expt[mask_z]\n",
    "\n",
    "    see = seeing[ccds_per_pixel]\n",
    "    seeing_g = see[mask_g]\n",
    "    seeing_r = see[mask_r]\n",
    "    seeing_z = see[mask_z]\n",
    "\n",
    "    # Sky background\n",
    "    sb = ccdskysb[ccds_per_pixel]\n",
    "    ccdskysb_g = sb[mask_g]\n",
    "    ccdskysb_r = sb[mask_r]\n",
    "    ccdskysb_z = sb[mask_z]\n",
    "\n",
    "    # Sky level\n",
    "    msl = meansky[ccds_per_pixel]\n",
    "    meansky_g = msl[mask_g]\n",
    "    meansky_r = msl[mask_r]\n",
    "    meansky_z = msl[mask_z]\n",
    "\n",
    "    # Galaxy Depth\n",
    "    gd = galdepth[ccds_per_pixel]\n",
    "    galdepth_g = gd[mask_g]\n",
    "    galdepth_r = gd[mask_r]\n",
    "    galdepth_z = gd[mask_z]\n",
    "\n",
    "    psfd = psfdepth[ccds_per_pixel]\n",
    "    psfdepth_g = psfd[mask_g]\n",
    "    psfdepth_r = psfd[mask_r]\n",
    "    psfdepth_z = psfd[mask_z]\n",
    "\n",
    "    psfnorm = psfnorm_mean[ccds_per_pixel]\n",
    "    psfnorm_g = psfnorm[mask_g]\n",
    "    psfnorm_r = psfnorm[mask_r]\n",
    "    psfnorm_z = psfnorm[mask_z]\n",
    "\n",
    "    gausspsfnorm = gausspsfdepth[ccds_per_pixel]\n",
    "    gausspsf_g = gausspsfnorm[mask_g]\n",
    "    gausspsf_r = gausspsfnorm[mask_r]\n",
    "    gausspsf_z = gausspsfnorm[mask_z]\n",
    "\n",
    "    g_exp = mask_g.sum()\n",
    "    if g_exp > 0:\n",
    "        exptime_aggregate_g = exptime_g.sum() / g_exp\n",
    "        ccdskysb_aggregate_g = ccdskysb_g.sum() / g_exp\n",
    "        meansky_aggregate_g = meansky_g.sum() / g_exp\n",
    "        galdepth_aggregate_g = galdepth_g.sum() / g_exp\n",
    "        seeing_aggregate_g = seeing_g.sum() / g_exp\n",
    "        psfdepth_aggregate_g = psfdepth_g.sum() / g_exp\n",
    "        psfnorm_mean_aggregate_g = psfnorm_g.sum() / g_exp\n",
    "        gausspsfdepth_aggregate_g = gausspsf_g.sum() / g_exp\n",
    "\n",
    "    r_exp = mask_r.sum()\n",
    "    if r_exp > 0:\n",
    "        subpixels_covered_r += 1\n",
    "        exptime_aggregate_r = exptime_r.sum() / r_exp\n",
    "        ccdskysb_aggregate_r = ccdskysb_r.sum() / r_exp\n",
    "        meansky_aggregate_r = meansky_r.sum() / r_exp\n",
    "        galdepth_aggregate_r = galdepth_r.sum() / r_exp\n",
    "        seeing_aggregate_r = seeing_r.sum() / r_exp\n",
    "        psfdepth_aggregate_r = psfdepth_r.sum() / r_exp\n",
    "        psfnorm_mean_aggregate_r = psfnorm_r.sum() / r_exp\n",
    "        gausspsfdepth_aggregate_r = gausspsf_r.sum() / r_exp\n",
    "\n",
    "    z_exp = mask_z.sum()\n",
    "    if z_exp > 0:\n",
    "        subpixels_covered_z += 1\n",
    "        exptime_aggregate_z = exptime_z.sum() / z_exp\n",
    "        ccdskysb_aggregate_z = ccdskysb_z.sum() / z_exp\n",
    "        meansky_aggregate_z = meansky_z.sum() / z_exp\n",
    "        galdepth_aggregate_z = galdepth_z.sum() / z_exp\n",
    "        seeing_aggregate_z = seeing_z.sum() / z_exp\n",
    "        psfdepth_aggregate_z = psfdepth_z.sum() / z_exp\n",
    "        psfnorm_mean_aggregate_z = psfnorm_z.sum() / z_exp\n",
    "        gausspsfdepth_aggregate_z = gausspsf_z.sum() / z_exp\n",
    "\n",
    "    if i == 280000:\n",
    "        #print(int(i / 280000), '%')\n",
    "        break\n",
    "\n",
    "\n",
    "    systematics_per_pixel = [airmass_aggregate, ccdskysb_aggregate_g, ccdskysb_aggregate_r, ccdskysb_aggregate_z,\n",
    "                             exptime_aggregate_g, exptime_aggregate_r, exptime_aggregate_z, meansky_aggregate_g,\n",
    "                             meansky_aggregate_r, meansky_aggregate_z, galdepth_aggregate_g, galdepth_aggregate_r,\n",
    "                             galdepth_aggregate_z, seeing_aggregate_g, seeing_aggregate_r, seeing_aggregate_z,\n",
    "                             psfdepth_aggregate_g, psfdepth_aggregate_r, psfdepth_aggregate_z, psfnorm_mean_aggregate_g,\n",
    "                             psfnorm_mean_aggregate_r, psfnorm_mean_aggregate_z, gausspsfdepth_aggregate_g,\n",
    "                             gausspsfdepth_aggregate_r, gausspsfdepth_aggregate_z]\n",
    "\n",
    "    pixel2systematics_dict[sample_pixel] = systematics_per_pixel\n",
    "\n",
    "time_end = time.time()\n",
    "time_passed = time_end - time_start\n",
    "print()\n",
    "print(f\"{time_passed / 60:.5} minutes ({time_passed:.3} seconds) taken to classify 1%\")\n",
    "print()\n"
   ],
   "metadata": {
    "collapsed": false,
    "pycharm": {
     "name": "#%%\n"
    }
   }
  },
  {
   "cell_type": "code",
   "execution_count": null,
   "outputs": [],
   "source": [
    "print(len(pixel2systematics_dict.keys()))"
   ],
   "metadata": {
    "collapsed": false,
    "pycharm": {
     "name": "#%%\n",
     "is_executing": true
    }
   }
  },
  {
   "cell_type": "code",
   "execution_count": 13,
   "outputs": [
    {
     "name": "stdout",
     "output_type": "stream",
     "text": [
      "[1.1846665700276693, 23.551791381835937, 22.642366027832033, 20.115696716308594, 90.0, 90.0, 90.0, 0.10299242734909057, 406842035.2, 2.454113578796387, 23.834757995605468, 23.309834289550782, 22.371339416503908, 1.286847972869873, 1.1721257209777831, 0.979978370666504, 24.080577087402343, 23.611331176757812, 22.77979736328125, 0.11759753227233886, 0.13574572801589965, 0.16844091415405274, 24.291725158691406, 23.7185302734375, 22.850808715820314]\n",
      "[1.252696018592984, 22.608225176411292, 22.097897260616985, 20.290011485153656, 170.61290322580646, 146.92307692307693, 196.7109634551495, 712633918.7612903, 1414753043.6923077, 3370521487.734219, 23.139390120967743, 22.967117700821316, 22.26528433866279, 1.4669640325730846, 1.3650015806540465, 1.2865067288725083, 23.33409620715726, 23.200880784254807, 22.544498481623755, 0.10166181133639428, 0.11360806685227615, 0.12573954433301754, 23.55154989919355, 23.380731044671474, 22.688496028862126]\n"
     ]
    }
   ],
   "source": [
    "sys = pixel2systematics_dict[42053454]\n",
    "print(sys)"
   ],
   "metadata": {
    "collapsed": false,
    "pycharm": {
     "name": "#%%\n"
    }
   }
  },
  {
   "cell_type": "code",
   "execution_count": null,
   "outputs": [],
   "source": [
    "with open(f'../../../bricks_data/2048_pixel2systematics_geometric_non_inclusive.pickle', 'wb') as f:\n",
    "    pickle.dump(pixel2systematics_dict, f)\n",
    "    f.close()"
   ],
   "metadata": {
    "collapsed": false,
    "pycharm": {
     "name": "#%%\n"
    }
   }
  }
 ],
 "metadata": {
  "kernelspec": {
   "display_name": "Python 3",
   "language": "python",
   "name": "python3"
  },
  "language_info": {
   "codemirror_mode": {
    "name": "ipython",
    "version": 2
   },
   "file_extension": ".py",
   "mimetype": "text/x-python",
   "name": "python",
   "nbconvert_exporter": "python",
   "pygments_lexer": "ipython2",
   "version": "2.7.6"
  }
 },
 "nbformat": 4,
 "nbformat_minor": 0
}