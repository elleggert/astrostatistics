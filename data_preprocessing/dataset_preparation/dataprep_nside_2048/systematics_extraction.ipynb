{
 "cells": [
  {
   "cell_type": "markdown",
   "source": [
    "### Extracting Systematics using Geometric Subpixelisation at NSIDE = 2048\n",
    "\n"
   ],
   "metadata": {
    "collapsed": false
   }
  },
  {
   "cell_type": "code",
   "execution_count": null,
   "outputs": [],
   "source": [
    "import numpy as np\n",
    "from astropy.io import fits\n",
    "import healpy as hp\n",
    "import pandas as pd\n",
    "import matplotlib.path as mplPath\n",
    "import matplotlib.pyplot as plt\n",
    "import pickle\n",
    "from collections import defaultdict"
   ],
   "metadata": {
    "collapsed": false,
    "pycharm": {
     "name": "#%%\n"
    }
   }
  },
  {
   "cell_type": "code",
   "execution_count": null,
   "outputs": [],
   "source": [
    "def raDec2thetaPhi(ra, dec):\n",
    "    return (0.5 * np.pi - np.deg2rad(dec)), (np.deg2rad(ra))\n",
    "\n",
    "NSIDE = 2048\n",
    "NPIX = hp.nside2npix(NSIDE)"
   ],
   "metadata": {
    "collapsed": false,
    "pycharm": {
     "name": "#%%\n"
    }
   }
  },
  {
   "cell_type": "markdown",
   "source": [
    "### Retrieving the relevant CCD Data"
   ],
   "metadata": {
    "collapsed": false
   }
  },
  {
   "cell_type": "code",
   "execution_count": null,
   "outputs": [],
   "source": [
    "decamCCD = fits.open('../../bricks_data/ccds-annotated-decam-dr9.fits')\n",
    "mosaicCCD = fits.open('../../bricks_data/ccds-annotated-mosaic-dr9.fits')\n",
    "bassCCD = fits.open('../../bricks_data/ccds-annotated-90prime-dr9.fits')\n",
    "dataDecam = decamCCD[1].data\n",
    "dataMosaic = mosaicCCD[1].data\n",
    "dataBass = bassCCD[1].data\n"
   ],
   "metadata": {
    "collapsed": false,
    "pycharm": {
     "name": "#%%\n"
    }
   }
  },
  {
   "cell_type": "markdown",
   "source": [
    "### Extracting CCD Informations from the entire Sample and Concatenating them together"
   ],
   "metadata": {
    "collapsed": false
   }
  },
  {
   "cell_type": "code",
   "execution_count": null,
   "outputs": [],
   "source": [
    "# Extracting Corners Only needed for visualisation\n",
    "\n",
    "ra0 = np.concatenate((dataDecam.field('ra0'), dataMosaic.field('ra0'), dataBass.field('ra0')), axis=0)\n",
    "dec0 = np.concatenate((dataDecam.field('dec0'), dataMosaic.field('dec0'), dataBass.field('dec0')), axis=0)\n",
    "\n",
    "ra1 = np.concatenate((dataDecam.field('ra1'), dataMosaic.field('ra1'), dataBass.field('ra1')), axis=0)\n",
    "dec1 = np.concatenate((dataDecam.field('dec1'), dataMosaic.field('dec1'), dataBass.field('dec1')), axis=0)\n",
    "\n",
    "ra2 = np.concatenate((dataDecam.field('ra2'), dataMosaic.field('ra2'), dataBass.field('ra2')), axis=0)\n",
    "dec2 = np.concatenate((dataDecam.field('dec2'), dataMosaic.field('dec2'), dataBass.field('dec2')), axis=0)\n",
    "\n",
    "ra3 = np.concatenate((dataDecam.field('ra3'), dataMosaic.field('ra3'), dataBass.field('ra3')), axis=0)\n",
    "dec3 = np.concatenate((dataDecam.field('dec3'), dataMosaic.field('dec3'), dataBass.field('dec3')), axis=0)\n",
    "\n",
    "#airmass, fwhm, skysb, exptime, mjd, meansky, galdepths,\n",
    "\n",
    "#Extracting systematics\n",
    "filter_colour = np.concatenate((dataDecam.field('filter'), dataMosaic.field('filter'), dataBass.field('filter')),\n",
    "                               axis=0)\n",
    "exptime = np.concatenate((dataDecam.field('exptime'), dataMosaic.field('exptime'), dataBass.field('exptime')), axis=0)\n",
    "airmass = np.concatenate((dataDecam.field('airmass'), dataMosaic.field('airmass'), dataBass.field('airmass')), axis=0)\n",
    "fwhm = np.concatenate((dataDecam.field('fwhm'), dataMosaic.field('fwhm'), dataBass.field('fwhm')), axis=0)\n",
    "seeing = fwhm * 0.262\n",
    "ccdskysb = np.concatenate((dataDecam.field('ccdskysb'), dataMosaic.field('ccdskysb'), dataBass.field('ccdskysb')),\n",
    "                          axis=0)\n",
    "meansky = np.concatenate((dataDecam.field('meansky'), dataMosaic.field('meansky'), dataBass.field('meansky')), axis=0)\n",
    "galdepth = np.concatenate((dataDecam.field('galdepth'), dataMosaic.field('galdepth'), dataBass.field('galdepth')),\n",
    "                          axis=0)\n",
    "psfdepth = np.concatenate((dataDecam.field('psfdepth'), dataMosaic.field('psfdepth'), dataBass.field('psfdepth')),\n",
    "                          axis=0)\n",
    "psfnorm_mean = np.concatenate(\n",
    "    (dataDecam.field('psfnorm_mean'), dataMosaic.field('psfnorm_mean'), dataBass.field('psfnorm_mean')), axis=0)\n",
    "gausspsfdepth = np.concatenate(\n",
    "    (dataDecam.field('gausspsfdepth'), dataMosaic.field('gausspsfdepth'), dataBass.field('gausspsfdepth')), axis=0)\n"
   ],
   "metadata": {
    "collapsed": false,
    "pycharm": {
     "name": "#%%\n"
    }
   }
  },
  {
   "cell_type": "markdown",
   "source": [
    "### Now, trying to actually get all ccds per pixel\n",
    "Begin by loading the Dictionary mapping pixels to CCDs. Afterwards, iterating through the ccds for a given pixel.\n",
    "Depending on the systematics, we have to break systematics down into the different bands.\n",
    "Airmass is simply averaged across all CCDs, exposure times are calculated on a per CCD basis.\n"
   ],
   "metadata": {
    "collapsed": false
   }
  },
  {
   "cell_type": "markdown",
   "source": [
    "### Import subpixel2ccd mapping\n"
   ],
   "metadata": {
    "collapsed": false
   }
  },
  {
   "cell_type": "code",
   "execution_count": null,
   "outputs": [],
   "source": [
    "# Use this cell to simply import an existing subpixel2ccd mapping\n",
    "\n",
    "# For DECAM, BASS, MzLS\n",
    "with open('../../bricks_data/pixel2ccd_2048_non_inclusive.pickle', 'rb') as f:\n",
    "    pixel2ccd_dict = pickle.load(f)\n",
    "    f.close()"
   ],
   "metadata": {
    "collapsed": false,
    "pycharm": {
     "name": "#%%\n"
    }
   }
  },
  {
   "cell_type": "markdown",
   "source": [
    "###  Get systematics value across every subpixel and average --> this is where the procedure differs from prev\n",
    "- Iterate through all pixels\n",
    "- Get systematic value at pixel\n",
    "- average for pixel"
   ],
   "metadata": {
    "collapsed": false
   }
  },
  {
   "cell_type": "markdown",
   "source": [
    "### Adapt this loop to no longer iterate over subpixels"
   ],
   "metadata": {
    "collapsed": false,
    "pycharm": {
     "name": "#%% md\n"
    }
   },
   "outputs": [],
   "execution_count": 1
  },
  {
   "cell_type": "code",
   "execution_count": null,
   "outputs": [],
   "source": [
    "pixels_overall = pixel2ccd_dict.keys()\n",
    "print(len(pixels_overall))\n",
    "\n",
    "pixel2systematics_dict = defaultdict(list)\n",
    "\n",
    "# Find subpixels for the given pixel\n",
    "for i, sample_pixel in enumerate(pixels_overall):\n",
    "    subpixels_per_pixel = pixel2subpixel_dict[sample_pixel]\n",
    "\n",
    "    airmass_aggregate = 0\n",
    "\n",
    "    seeing_aggregate_g = 0\n",
    "    seeing_aggregate_r = 0\n",
    "    seeing_aggregate_z = 0\n",
    "\n",
    "    ccdskysb_aggregate_g = 0\n",
    "    ccdskysb_aggregate_r = 0\n",
    "    ccdskysb_aggregate_z = 0\n",
    "\n",
    "    exptime_aggregate_g = 0\n",
    "    exptime_aggregate_r = 0\n",
    "    exptime_aggregate_z = 0\n",
    "\n",
    "    meansky_aggregate_g = 0\n",
    "    meansky_aggregate_r = 0\n",
    "    meansky_aggregate_z = 0\n",
    "\n",
    "    galdepth_aggregate_g = 0\n",
    "    galdepth_aggregate_r = 0\n",
    "    galdepth_aggregate_z = 0\n",
    "\n",
    "    psfdepth_aggregate_g = 0\n",
    "    psfdepth_aggregate_r = 0\n",
    "    psfdepth_aggregate_z = 0\n",
    "\n",
    "    psfnorm_mean_aggregate_g = 0\n",
    "    psfnorm_mean_aggregate_r = 0\n",
    "    psfnorm_mean_aggregate_z = 0\n",
    "\n",
    "    gausspsfdepth_aggregate_g = 0\n",
    "    gausspsfdepth_aggregate_r = 0\n",
    "    gausspsfdepth_aggregate_z = 0\n",
    "\n",
    "    subpixels_covered = 0\n",
    "    subpixels_covered_g = 0\n",
    "    subpixels_covered_r = 0\n",
    "    subpixels_covered_z = 0\n",
    "    # Go through all 64 subpixels in the sample pixel\n",
    "    for subpixel in subpixels_per_pixel:\n",
    "        # Condition needed in case a subpixel is not covered by CCDs\n",
    "        if subpixel not in subpixel2ccd_dict.keys():\n",
    "            continue\n",
    "        subpixels_covered += 1\n",
    "        ccds_per_subpixel = subpixel2ccd_dict[subpixel]\n",
    "        # Get values for singular systematics\n",
    "        airmass_aggregate += airmass[ccds_per_subpixel].sum() / len(ccds_per_subpixel)\n",
    "\n",
    "        # Get values for per band systematics\n",
    "\n",
    "        mask_g = (filter_colour[ccds_per_subpixel] == 'g')\n",
    "        mask_r = (filter_colour[ccds_per_subpixel] == 'r')\n",
    "        mask_z = (filter_colour[ccds_per_subpixel] == 'z')\n",
    "\n",
    "        expt = exptime[ccds_per_subpixel]\n",
    "        exptime_g = expt[mask_g]\n",
    "        exptime_r = expt[mask_r]\n",
    "        exptime_z = expt[mask_z]\n",
    "\n",
    "        see = seeing[ccds_per_subpixel]\n",
    "        seeing_g = see[mask_g]\n",
    "        seeing_r = see[mask_r]\n",
    "        seeing_z = see[mask_z]\n",
    "\n",
    "        # Sky background\n",
    "        sb = ccdskysb[ccds_per_subpixel]\n",
    "        ccdskysb_g = sb[mask_g]\n",
    "        ccdskysb_r = sb[mask_r]\n",
    "        ccdskysb_z = sb[mask_z]\n",
    "\n",
    "        # Sky level\n",
    "        msl = meansky[ccds_per_subpixel]\n",
    "        meansky_g = msl[mask_g]\n",
    "        meansky_r = msl[mask_r]\n",
    "        meansky_z = msl[mask_z]\n",
    "\n",
    "        # Galaxy Depth\n",
    "        gd = galdepth[ccds_per_subpixel]\n",
    "        galdepth_g = gd[mask_g]\n",
    "        galdepth_r = gd[mask_r]\n",
    "        galdepth_z = gd[mask_z]\n",
    "\n",
    "        psfd = psfdepth[ccds_per_subpixel]\n",
    "        psfdepth_g = psfd[mask_g]\n",
    "        psfdepth_r = psfd[mask_r]\n",
    "        psfdepth_z = psfd[mask_z]\n",
    "\n",
    "        psfnorm = psfnorm_mean[ccds_per_subpixel]\n",
    "        psfnorm_g = psfnorm[mask_g]\n",
    "        psfnorm_r = psfnorm[mask_r]\n",
    "        psfnorm_z = psfnorm[mask_z]\n",
    "\n",
    "        gausspsfnorm = gausspsfdepth[ccds_per_subpixel]\n",
    "        gausspsf_g = gausspsfnorm[mask_g]\n",
    "        gausspsf_r = gausspsfnorm[mask_r]\n",
    "        gausspsf_z = gausspsfnorm[mask_z]\n",
    "\n",
    "        g_exp = mask_g.sum()\n",
    "        if g_exp > 0:\n",
    "            subpixels_covered_g += 1\n",
    "            exptime_aggregate_g = exptime_g.sum() / g_exp\n",
    "            ccdskysb_aggregate_g = ccdskysb_g.sum() / g_exp\n",
    "            meansky_aggregate_g = meansky_g.sum() / g_exp\n",
    "            galdepth_aggregate_g = galdepth_g.sum() / g_exp\n",
    "            seeing_aggregate_g = seeing_g.sum() / g_exp\n",
    "            psfdepth_aggregate_g = psfdepth_g.sum() / g_exp\n",
    "            psfnorm_mean_aggregate_g = psfnorm_g.sum() / g_exp\n",
    "            gausspsfdepth_aggregate_g = gausspsf_g.sum() / g_exp\n",
    "\n",
    "        r_exp = mask_r.sum()\n",
    "        if r_exp > 0:\n",
    "            subpixels_covered_r += 1\n",
    "            exptime_aggregate_r = exptime_r.sum() / r_exp\n",
    "            ccdskysb_aggregate_r = ccdskysb_r.sum() / r_exp\n",
    "            meansky_aggregate_r = meansky_r.sum() / r_exp\n",
    "            galdepth_aggregate_r = galdepth_r.sum() / r_exp\n",
    "            seeing_aggregate_r = seeing_r.sum() / r_exp\n",
    "            psfdepth_aggregate_r = psfdepth_r.sum() / r_exp\n",
    "            psfnorm_mean_aggregate_r = psfnorm_r.sum() / r_exp\n",
    "            gausspsfdepth_aggregate_r = gausspsf_r.sum() / r_exp\n",
    "\n",
    "        z_exp = mask_z.sum()\n",
    "        if z_exp > 0:\n",
    "            subpixels_covered_z += 1\n",
    "            exptime_aggregate_z = exptime_z.sum() / z_exp\n",
    "            ccdskysb_aggregate_z = ccdskysb_z.sum() / z_exp\n",
    "            meansky_aggregate_z = meansky_z.sum() / z_exp\n",
    "            galdepth_aggregate_z = galdepth_z.sum() / z_exp\n",
    "            seeing_aggregate_z = seeing_z.sum() / z_exp\n",
    "            psfdepth_aggregate_z = psfdepth_z.sum() / z_exp\n",
    "            psfnorm_mean_aggregate_z = psfnorm_z.sum() / z_exp\n",
    "            gausspsfdepth_aggregate_z = gausspsf_z.sum() / z_exp\n",
    "\n",
    "    if i % 4567 == 0:\n",
    "        print(int(i / 4567), '%')\n",
    "\n",
    "    # Do not append to dictionary if less than 75% of subpixels per pixel are covered by CCDs\n",
    "    if subpixels_covered < 48:\n",
    "        continue\n",
    "\n",
    "    systematics_per_pixel = []\n",
    "    systematics_per_pixel.append(airmass_aggregate / subpixels_covered)\n",
    "\n",
    "    systematics_per_pixel.append(ccdskysb_aggregate_g)  #/subpixels_covered_g)\n",
    "    systematics_per_pixel.append(ccdskysb_aggregate_r)  #/subpixels_covered_r)\n",
    "    systematics_per_pixel.append(ccdskysb_aggregate_z)  #/subpixels_covered_z)\n",
    "\n",
    "    systematics_per_pixel.append(exptime_aggregate_g)  #/subpixels_covered_g)\n",
    "    systematics_per_pixel.append(exptime_aggregate_r)  #/subpixels_covered_r)\n",
    "    systematics_per_pixel.append(exptime_aggregate_z)  #/subpixels_covered_z)\n",
    "\n",
    "    systematics_per_pixel.append(meansky_aggregate_g)  #/subpixels_covered_g)\n",
    "    systematics_per_pixel.append(meansky_aggregate_r)  #/subpixels_covered_r)\n",
    "    systematics_per_pixel.append(meansky_aggregate_z)  #/subpixels_covered_z)\n",
    "\n",
    "    systematics_per_pixel.append(galdepth_aggregate_g)  #/subpixels_covered_g)\n",
    "    systematics_per_pixel.append(galdepth_aggregate_r)  #/subpixels_covered_r)\n",
    "    systematics_per_pixel.append(galdepth_aggregate_z)  #/subpixels_covered_z)\n",
    "\n",
    "    systematics_per_pixel.append(seeing_aggregate_g)  #/subpixels_covered_g)\n",
    "    systematics_per_pixel.append(seeing_aggregate_r)  #/subpixels_covered_r)\n",
    "    systematics_per_pixel.append(seeing_aggregate_z)  #/subpixels_covered_z)\n",
    "\n",
    "    systematics_per_pixel.append(psfdepth_aggregate_g)  #/subpixels_covered_g)\n",
    "    systematics_per_pixel.append(psfdepth_aggregate_r)  #/subpixels_covered_r)\n",
    "    systematics_per_pixel.append(psfdepth_aggregate_z)  #/subpixels_covered_z)\n",
    "\n",
    "    systematics_per_pixel.append(psfnorm_mean_aggregate_g)  #/subpixels_covered_g)\n",
    "    systematics_per_pixel.append(psfnorm_mean_aggregate_r)  #/subpixels_covered_r)\n",
    "    systematics_per_pixel.append(psfnorm_mean_aggregate_z)  #/subpixels_covered_z)\n",
    "\n",
    "    systematics_per_pixel.append(gausspsfdepth_aggregate_g)  #/subpixels_covered_g)\n",
    "    systematics_per_pixel.append(gausspsfdepth_aggregate_r)  #/subpixels_covered_r)\n",
    "    systematics_per_pixel.append(gausspsfdepth_aggregate_z)  #/subpixels_covered_z)\n",
    "\n",
    "    # Also appending fraction of pixel covered to cut on it later\n",
    "    systematics_per_pixel.append(subpixels_covered / 64)  #/subpixels_covered_z)\n",
    "\n",
    "    #/subpixels_covered_z)\n",
    "\n",
    "    pixel2systematics_dict[sample_pixel] = systematics_per_pixel\n",
    "\n",
    "\n"
   ],
   "metadata": {
    "collapsed": false,
    "pycharm": {
     "name": "#%%\n"
    }
   }
  }
 ],
 "metadata": {
  "kernelspec": {
   "display_name": "Python 3",
   "language": "python",
   "name": "python3"
  },
  "language_info": {
   "codemirror_mode": {
    "name": "ipython",
    "version": 2
   },
   "file_extension": ".py",
   "mimetype": "text/x-python",
   "name": "python",
   "nbconvert_exporter": "python",
   "pygments_lexer": "ipython2",
   "version": "2.7.6"
  }
 },
 "nbformat": 4,
 "nbformat_minor": 0
}